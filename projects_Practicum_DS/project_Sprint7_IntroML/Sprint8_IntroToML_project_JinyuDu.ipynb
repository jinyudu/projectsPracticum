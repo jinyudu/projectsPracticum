{
 "cells": [
  {
   "cell_type": "markdown",
   "id": "21e1a3c9",
   "metadata": {},
   "source": [
    "# Introduction to Machine Learning Project\n",
    "\n",
    "## Project Description\n",
    "Mobile carrier Megaline has found out that many of their subscribers use legacy plans. They want to develop a model that would analyze subscribers' behavior and recommend one of Megaline's newer plans: Smart or Ultra.\n",
    "\n",
    "You have access to behavior data about subscribers who have already switched to the new plans (from the project for the Statistical Data Analysis course). For this classification task, you need to develop a model that will pick the right plan. Since you’ve already performed the data preprocessing step, you can move straight to creating the model.\n",
    "\n",
    "Develop a model with the highest possible accuracy. In this project, the threshold for accuracy is 0.75. Check the accuracy using the test dataset.\n",
    "\n",
    "## Data description\n",
    "\n",
    "Every observation in the dataset contains monthly behavior information about one user. The information given is as follows:\n",
    "\n",
    "- `calls` is the number of calls. \n",
    "- `minutes` is the total call duration in minutes.\n",
    "- `messages` is the number of text messages.\n",
    "- `mb_used` is the Internet traffic used in MB.\n",
    "- `is_ultra` is the plan for the current month (Ultra - 1, Smart - 0).\n",
    "\n",
    "## Purpose of the project\n",
    "- import and study the datasets\n",
    "- tidy up the datasets when needed\n",
    "- split the data into train, test, and validation sets\n",
    "- develop different classification models and fine-tune parameters and hyperparameters\n",
    "- evaluate the performance and quality of different classification models using the test set\n",
    "- pick out the best model, draw conclusions and explain the results\n",
    "\n",
    "## Initialization"
   ]
  },
  {
   "cell_type": "code",
   "execution_count": 7,
   "id": "c0e229e2",
   "metadata": {},
   "outputs": [],
   "source": [
    "# Loading all the libraries\n",
    "\n",
    "import pandas as pd\n",
    "from sklearn.model_selection import train_test_split\n",
    "from sklearn.tree import DecisionTreeClassifier\n",
    "from sklearn.ensemble import RandomForestClassifier\n",
    "from sklearn.linear_model import LogisticRegression \n",
    "from sklearn.metrics import accuracy_score\n"
   ]
  },
  {
   "cell_type": "markdown",
   "id": "c70767a5",
   "metadata": {},
   "source": [
    "## Load data"
   ]
  },
  {
   "cell_type": "code",
   "execution_count": 9,
   "id": "1705b131",
   "metadata": {},
   "outputs": [],
   "source": [
    "# Load the data files into different DataFrames\n",
    "\n",
    "try: \n",
    "    df = pd.read_csv('datasets/users_behavior.csv')\n",
    "except:\n",
    "    df = pd.read_csv('/datasets/users_behavior.csv')"
   ]
  },
  {
   "cell_type": "code",
   "execution_count": 3,
   "id": "718e95dd",
   "metadata": {},
   "outputs": [
    {
     "name": "stdout",
     "output_type": "stream",
     "text": [
      "<class 'pandas.core.frame.DataFrame'>\n",
      "RangeIndex: 3214 entries, 0 to 3213\n",
      "Data columns (total 5 columns):\n",
      " #   Column    Non-Null Count  Dtype  \n",
      "---  ------    --------------  -----  \n",
      " 0   calls     3214 non-null   float64\n",
      " 1   minutes   3214 non-null   float64\n",
      " 2   messages  3214 non-null   float64\n",
      " 3   mb_used   3214 non-null   float64\n",
      " 4   is_ultra  3214 non-null   int64  \n",
      "dtypes: float64(4), int64(1)\n",
      "memory usage: 125.7 KB\n"
     ]
    }
   ],
   "source": [
    "df.info()"
   ]
  },
  {
   "cell_type": "code",
   "execution_count": 4,
   "id": "dc2b4822",
   "metadata": {
    "scrolled": true
   },
   "outputs": [
    {
     "data": {
      "text/html": [
       "<div>\n",
       "<style scoped>\n",
       "    .dataframe tbody tr th:only-of-type {\n",
       "        vertical-align: middle;\n",
       "    }\n",
       "\n",
       "    .dataframe tbody tr th {\n",
       "        vertical-align: top;\n",
       "    }\n",
       "\n",
       "    .dataframe thead th {\n",
       "        text-align: right;\n",
       "    }\n",
       "</style>\n",
       "<table border=\"1\" class=\"dataframe\">\n",
       "  <thead>\n",
       "    <tr style=\"text-align: right;\">\n",
       "      <th></th>\n",
       "      <th>calls</th>\n",
       "      <th>minutes</th>\n",
       "      <th>messages</th>\n",
       "      <th>mb_used</th>\n",
       "      <th>is_ultra</th>\n",
       "    </tr>\n",
       "  </thead>\n",
       "  <tbody>\n",
       "    <tr>\n",
       "      <th>0</th>\n",
       "      <td>40.0</td>\n",
       "      <td>311.90</td>\n",
       "      <td>83.0</td>\n",
       "      <td>19915.42</td>\n",
       "      <td>0</td>\n",
       "    </tr>\n",
       "    <tr>\n",
       "      <th>1</th>\n",
       "      <td>85.0</td>\n",
       "      <td>516.75</td>\n",
       "      <td>56.0</td>\n",
       "      <td>22696.96</td>\n",
       "      <td>0</td>\n",
       "    </tr>\n",
       "    <tr>\n",
       "      <th>2</th>\n",
       "      <td>77.0</td>\n",
       "      <td>467.66</td>\n",
       "      <td>86.0</td>\n",
       "      <td>21060.45</td>\n",
       "      <td>0</td>\n",
       "    </tr>\n",
       "    <tr>\n",
       "      <th>3</th>\n",
       "      <td>106.0</td>\n",
       "      <td>745.53</td>\n",
       "      <td>81.0</td>\n",
       "      <td>8437.39</td>\n",
       "      <td>1</td>\n",
       "    </tr>\n",
       "    <tr>\n",
       "      <th>4</th>\n",
       "      <td>66.0</td>\n",
       "      <td>418.74</td>\n",
       "      <td>1.0</td>\n",
       "      <td>14502.75</td>\n",
       "      <td>0</td>\n",
       "    </tr>\n",
       "    <tr>\n",
       "      <th>5</th>\n",
       "      <td>58.0</td>\n",
       "      <td>344.56</td>\n",
       "      <td>21.0</td>\n",
       "      <td>15823.37</td>\n",
       "      <td>0</td>\n",
       "    </tr>\n",
       "    <tr>\n",
       "      <th>6</th>\n",
       "      <td>57.0</td>\n",
       "      <td>431.64</td>\n",
       "      <td>20.0</td>\n",
       "      <td>3738.90</td>\n",
       "      <td>1</td>\n",
       "    </tr>\n",
       "    <tr>\n",
       "      <th>7</th>\n",
       "      <td>15.0</td>\n",
       "      <td>132.40</td>\n",
       "      <td>6.0</td>\n",
       "      <td>21911.60</td>\n",
       "      <td>0</td>\n",
       "    </tr>\n",
       "    <tr>\n",
       "      <th>8</th>\n",
       "      <td>7.0</td>\n",
       "      <td>43.39</td>\n",
       "      <td>3.0</td>\n",
       "      <td>2538.67</td>\n",
       "      <td>1</td>\n",
       "    </tr>\n",
       "    <tr>\n",
       "      <th>9</th>\n",
       "      <td>90.0</td>\n",
       "      <td>665.41</td>\n",
       "      <td>38.0</td>\n",
       "      <td>17358.61</td>\n",
       "      <td>0</td>\n",
       "    </tr>\n",
       "  </tbody>\n",
       "</table>\n",
       "</div>"
      ],
      "text/plain": [
       "   calls  minutes  messages   mb_used  is_ultra\n",
       "0   40.0   311.90      83.0  19915.42         0\n",
       "1   85.0   516.75      56.0  22696.96         0\n",
       "2   77.0   467.66      86.0  21060.45         0\n",
       "3  106.0   745.53      81.0   8437.39         1\n",
       "4   66.0   418.74       1.0  14502.75         0\n",
       "5   58.0   344.56      21.0  15823.37         0\n",
       "6   57.0   431.64      20.0   3738.90         1\n",
       "7   15.0   132.40       6.0  21911.60         0\n",
       "8    7.0    43.39       3.0   2538.67         1\n",
       "9   90.0   665.41      38.0  17358.61         0"
      ]
     },
     "metadata": {},
     "output_type": "display_data"
    }
   ],
   "source": [
    "display(df.head(10))"
   ]
  },
  {
   "cell_type": "markdown",
   "id": "7116b4d4",
   "metadata": {},
   "source": [
    "The dataset has four columns with no missing values. The data types have no obvious issues. \n",
    "\n",
    "Next, we will split the dataset in to training, validation and test datasets according to a 3:1:1 ratio. "
   ]
  },
  {
   "cell_type": "code",
   "execution_count": 5,
   "id": "83136059",
   "metadata": {},
   "outputs": [],
   "source": [
    "df_train, df_valid = train_test_split(df, test_size=0.2, random_state=12345) \n",
    "df_train, df_test = train_test_split(df_train, test_size=0.2, random_state=12345) "
   ]
  },
  {
   "cell_type": "code",
   "execution_count": 6,
   "id": "dbad6673",
   "metadata": {},
   "outputs": [],
   "source": [
    "features_train = df_train.drop(['is_ultra'], axis=1)\n",
    "target_train = df_train['is_ultra']\n",
    "\n",
    "features_valid = df_valid.drop(['is_ultra'], axis=1)\n",
    "target_valid = df_valid['is_ultra']\n",
    "\n",
    "features_test = df_test.drop(['is_ultra'], axis=1)\n",
    "target_test = df_test['is_ultra']"
   ]
  },
  {
   "cell_type": "markdown",
   "id": "d133d465",
   "metadata": {},
   "source": [
    "## Models with decision tree classifier"
   ]
  },
  {
   "cell_type": "code",
   "execution_count": 7,
   "id": "515cb2a5",
   "metadata": {},
   "outputs": [
    {
     "name": "stdout",
     "output_type": "stream",
     "text": [
      "max_depth = 1 : 0.7480559875583204\n",
      "max_depth = 2 : 0.7838258164852255\n",
      "max_depth = 3 : 0.7869362363919129\n",
      "max_depth = 4 : 0.7884914463452566\n",
      "max_depth = 5 : 0.7791601866251944\n"
     ]
    }
   ],
   "source": [
    "# < create a loop for max_depth from 1 to 5 >\n",
    "\n",
    "for depth in range(1, 6):\n",
    "    model = DecisionTreeClassifier(random_state=12345, max_depth=depth)\n",
    "    model.fit(features_train, target_train)\n",
    "\n",
    "    predictions_valid = model.predict(features_valid)\n",
    "    print(\"max_depth =\", depth, \": \", end='')\n",
    "    print(accuracy_score(target_valid, predictions_valid)) \n",
    "        "
   ]
  },
  {
   "cell_type": "markdown",
   "id": "f0239150",
   "metadata": {},
   "source": [
    "Using the decision tree classifier, the optimal model has `max_depth=2` with validation accuracy around 0.784.\n",
    "Thus, we determined that the best decision tree classifier has `max_depth=2`. \n",
    "\n",
    "Next, we will fit the best decision tree classifier and test it using the test data. "
   ]
  },
  {
   "cell_type": "code",
   "execution_count": 8,
   "id": "95ee6d73",
   "metadata": {},
   "outputs": [
    {
     "name": "stdout",
     "output_type": "stream",
     "text": [
      "max_depth = 2 : 0.7475728155339806\n"
     ]
    }
   ],
   "source": [
    "n=2\n",
    "model = DecisionTreeClassifier(random_state=12345, max_depth=n)\n",
    "model.fit(features_train, target_train)\n",
    "predictions_test = model.predict(features_test)\n",
    "print(\"max_depth =\", n, \": \", end='')\n",
    "print(accuracy_score(target_test, predictions_test)) "
   ]
  },
  {
   "cell_type": "markdown",
   "id": "a06f5a6f",
   "metadata": {},
   "source": [
    "It shows that with the optimal decision tree classifier, the test accuracy is around 0.748. It is not bad. \n",
    "\n",
    "Let's try other types of models and see if we can do better."
   ]
  },
  {
   "cell_type": "markdown",
   "id": "7390a934",
   "metadata": {},
   "source": [
    "## Random forest models\n"
   ]
  },
  {
   "cell_type": "code",
   "execution_count": 9,
   "id": "63f52186",
   "metadata": {},
   "outputs": [
    {
     "name": "stdout",
     "output_type": "stream",
     "text": [
      "n_estimators = 1 : 0.7216174183514774\n",
      "n_estimators = 2 : 0.744945567651633\n",
      "n_estimators = 3 : 0.749611197511664\n",
      "n_estimators = 4 : 0.7542768273716952\n",
      "n_estimators = 5 : 0.7682737169517885\n",
      "n_estimators = 6 : 0.7698289269051322\n",
      "n_estimators = 7 : 0.7698289269051322\n",
      "n_estimators = 8 : 0.7807153965785381\n",
      "n_estimators = 9 : 0.7713841368584758\n",
      "n_estimators = 10 : 0.7744945567651633\n"
     ]
    }
   ],
   "source": [
    "for n in range(1, 11):\n",
    "    \n",
    "    model = RandomForestClassifier(random_state=12345, n_estimators=n)\n",
    "    model.fit(features_train, target_train) \n",
    "    \n",
    "    print(\"n_estimators =\", n, \": \", end='')\n",
    "    print(model.score(features_valid, target_valid)) "
   ]
  },
  {
   "cell_type": "markdown",
   "id": "055646c4",
   "metadata": {},
   "source": [
    "Using the random forest models, the optimal model has `n_estimators=8` with validation accuracy around 0.78.\n",
    "Thus, we determined that the best random forest model has `n_estimators=8`. \n",
    "\n",
    "Next, we will fit the best random forest model and test it using the test data. "
   ]
  },
  {
   "cell_type": "code",
   "execution_count": 10,
   "id": "97d9007b",
   "metadata": {},
   "outputs": [
    {
     "name": "stdout",
     "output_type": "stream",
     "text": [
      "n_estimators = 8 : 0.7669902912621359\n"
     ]
    }
   ],
   "source": [
    "n=8\n",
    "\n",
    "model = RandomForestClassifier(random_state=12345, n_estimators=n)\n",
    "model.fit(features_train, target_train) \n",
    "predictions_test = model.predict(features_test)\n",
    "\n",
    "print(\"n_estimators =\", n, \": \", end='')\n",
    "print(accuracy_score(target_test, predictions_test)) "
   ]
  },
  {
   "cell_type": "markdown",
   "id": "2ef3772d",
   "metadata": {},
   "source": [
    "It shows that with the optimal random forest model, the test accuracy is around 0.767. It is pretty good. \n",
    "\n",
    "Let's try one more type logistic regression models and see if we can do better."
   ]
  },
  {
   "cell_type": "markdown",
   "id": "6c966d8c",
   "metadata": {},
   "source": [
    "## The logistic regression model"
   ]
  },
  {
   "cell_type": "code",
   "execution_count": 11,
   "id": "88f3c947",
   "metadata": {},
   "outputs": [
    {
     "name": "stdout",
     "output_type": "stream",
     "text": [
      "0.749611197511664\n",
      "0.7203883495145631\n"
     ]
    }
   ],
   "source": [
    "model = LogisticRegression(random_state=12345, solver='liblinear') \n",
    "model.fit(features_train, target_train) \n",
    "    \n",
    "print(model.score(features_valid, target_valid)) \n",
    "print(model.score(features_test, target_test)) "
   ]
  },
  {
   "cell_type": "markdown",
   "id": "9803729d",
   "metadata": {},
   "source": [
    "The logistic regression model has validation accuracy about 0.75 and test accuracy 0.72. Apparently, it did not perform as well as the other two types of models. "
   ]
  },
  {
   "cell_type": "markdown",
   "id": "7f614d57",
   "metadata": {},
   "source": [
    "## General conclusion\n",
    "\n",
    "In this project, we analyzed user behavior dataset from Mobile carrier Megaline. The major steps for analyzing the data are:\n",
    "\n",
    "- import and study the datasets\n",
    "- tidy up the datasets when needed\n",
    "- split the data into train, test, and validation sets using 3:1:2 ratio\n",
    "- develop three types classification models and fine-tune parameters and hyperparameters\n",
    "- evaluate the performance and quality of the three classification models using the test dataset\n",
    "- pick out the best model based on test accuracy\n",
    "\n",
    "The main findings are:\n",
    "- the raw dataset was clean and required minimal processing\n",
    "- the best model for the classification task of this dataset is random forest model with `n_estimators=8`. It achieved test accuracy of 0.767.\n",
    "- the test accuracy of the best decision tree classifier is around 0.748\n",
    "- the test accuracy of the logistic regression model is around 0.72\n",
    "\n"
   ]
  }
 ],
 "metadata": {
  "kernelspec": {
   "display_name": "Python 3 (ipykernel)",
   "language": "python",
   "name": "python3"
  },
  "language_info": {
   "codemirror_mode": {
    "name": "ipython",
    "version": 3
   },
   "file_extension": ".py",
   "mimetype": "text/x-python",
   "name": "python",
   "nbconvert_exporter": "python",
   "pygments_lexer": "ipython3",
   "version": "3.9.7"
  }
 },
 "nbformat": 4,
 "nbformat_minor": 5
}
