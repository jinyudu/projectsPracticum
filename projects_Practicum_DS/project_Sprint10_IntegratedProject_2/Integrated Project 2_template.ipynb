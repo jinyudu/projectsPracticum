{
 "cells": [
  {
   "cell_type": "markdown",
   "metadata": {},
   "source": [
    "# Project description\n",
    "\n",
    "Prepare a prototype of a machine learning model for Zyfra. The company develops efficiency solutions for heavy industry.\n",
    "\n",
    "The model should predict the amount of gold recovered from gold ore. You have the data on extraction and purification.. \n",
    "\n",
    "The model will help to optimize the production and eliminate unprofitable parameters.\n",
    "\n",
    "You need to:\n",
    "\n",
    "1. Prepare the data;\n",
    "2. Perform data analysis;\n",
    "3. Develop and train a model.\n",
    "\n",
    "To complete the project, you may want to use documentation from *pandas*, *matplotlib*, and *sklearn.*"
   ]
  },
  {
   "cell_type": "markdown",
   "metadata": {},
   "source": [
    "# 1. Data preparation"
   ]
  },
  {
   "cell_type": "code",
   "execution_count": null,
   "metadata": {},
   "outputs": [],
   "source": []
  },
  {
   "cell_type": "markdown",
   "metadata": {},
   "source": [
    "# 2. Data analysis"
   ]
  },
  {
   "cell_type": "code",
   "execution_count": null,
   "metadata": {},
   "outputs": [],
   "source": []
  },
  {
   "cell_type": "markdown",
   "metadata": {},
   "source": [
    "# 3. Model"
   ]
  },
  {
   "cell_type": "code",
   "execution_count": null,
   "metadata": {},
   "outputs": [],
   "source": []
  },
  {
   "cell_type": "markdown",
   "metadata": {},
   "source": [
    "- [x]  Jupyter Notebook\n",
    "- [ ]  Code is error free\n",
    "- [ ]  The cells with the code have been arranged in order of execution\n",
    "- [ ]  Step 1 performed: data has been prepared\n",
    "    - [ ]  The formula for calculating the flotation effectiveness has been checked\n",
    "    - [ ]  The features unavailable in the test set have been analyzed\n",
    "    - [ ]  The data has been preprocessed\n",
    "- [ ]  Step 2 performed: data has been analyzed\n",
    "    - [ ]  The change in concentration of elements has been analyzed at each stage\n",
    "    - [ ]  Distributions of particle size have been analyzed for training set and test set\n",
    "    - [ ]  Total concentrations have been analyzed\n",
    "    - [ ]  Abnormal values have been analyzed and processed\n",
    "- [ ]  Step 3 performed:  model for prediction has been built\n",
    "    - [ ]  Final *sMAPE* calculation function has been written\n",
    "    - [ ]  Several models have been trained and tested\n",
    "    - [ ]  The best model has been picked and tested using the test set"
   ]
  },
  {
   "cell_type": "code",
   "execution_count": null,
   "metadata": {},
   "outputs": [],
   "source": []
  }
 ],
 "metadata": {
  "kernelspec": {
   "display_name": "Python 3 (ipykernel)",
   "language": "python",
   "name": "python3"
  },
  "language_info": {
   "codemirror_mode": {
    "name": "ipython",
    "version": 3
   },
   "file_extension": ".py",
   "mimetype": "text/x-python",
   "name": "python",
   "nbconvert_exporter": "python",
   "pygments_lexer": "ipython3",
   "version": "3.9.7"
  }
 },
 "nbformat": 4,
 "nbformat_minor": 2
}
