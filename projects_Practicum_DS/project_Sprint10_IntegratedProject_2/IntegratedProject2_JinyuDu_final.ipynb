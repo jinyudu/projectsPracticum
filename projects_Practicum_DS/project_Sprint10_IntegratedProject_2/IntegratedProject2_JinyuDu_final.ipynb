{
 "cells": [
  {
   "cell_type": "markdown",
   "metadata": {},
   "source": [
    "<div class=\"alert alert-success\">\n",
    "<b>Reviewer's comment V4</b>\n",
    "\n",
    "Thank you for taking the time to improve the project! Now it is accepted and you can move on to the next sprint. Good luck!\n",
    "\n",
    "</div>"
   ]
  },
  {
   "cell_type": "markdown",
   "metadata": {},
   "source": [
    "**Review**\n",
    "\n",
    "Hi, my name is Dmitry and I will be reviewing your project.\n",
    "  \n",
    "You can find my comments in colored markdown cells:\n",
    "  \n",
    "<div class=\"alert alert-success\">\n",
    "  If everything is done successfully.\n",
    "</div>\n",
    "  \n",
    "<div class=\"alert alert-warning\">\n",
    "  If I have some (optional) suggestions, or questions to think about, or general comments.\n",
    "</div>\n",
    "  \n",
    "<div class=\"alert alert-danger\">\n",
    "  If a section requires some corrections. Work can't be accepted with red comments.\n",
    "</div>\n",
    "  \n",
    "Please don't remove my comments, as it will make further review iterations much harder for me.\n",
    "  \n",
    "Feel free to reply to my comments or ask questions using the following template:\n",
    "  \n",
    "<div class=\"alert alert-info\">\n",
    "  For your comments and questions.\n",
    "</div>\n",
    "  \n",
    "First of all, thank you for turning in the project! You did a pretty good job on the initial steps, now you just need to finish the project. Good luck! :)"
   ]
  },
  {
   "cell_type": "markdown",
   "metadata": {},
   "source": [
    "# Integrated Project 2\n",
    "\n",
    "### Author: Jinyu Du\n",
    "\n",
    "## Project description\n",
    "\n",
    "Prepare a prototype of a machine learning model for Zyfra. The company develops efficiency solutions for heavy industry.\n",
    "\n",
    "The model should predict the amount of gold recovered from gold ore. You have the data on extraction and purification.\n",
    "\n",
    "The model will help to optimize the production and eliminate unprofitable parameters.\n",
    "\n",
    "You need to:\n",
    "\n",
    "1. Prepare the data;\n",
    "2. Perform data analysis;\n",
    "3. Develop and train a model.\n",
    "\n",
    "To complete the project, you may want to use documentation from *pandas*, *matplotlib*, and *sklearn.*"
   ]
  },
  {
   "cell_type": "markdown",
   "metadata": {},
   "source": [
    "## Data preparation\n",
    "\n",
    "### Initialization"
   ]
  },
  {
   "cell_type": "code",
   "execution_count": 1,
   "metadata": {},
   "outputs": [],
   "source": [
    "# Loading all the libraries\n",
    "\n",
    "import pandas as pd\n",
    "import numpy as np\n",
    "# import seaborn as sns\n",
    "from matplotlib import pyplot as plt\n",
    "from sklearn.preprocessing import OrdinalEncoder\n",
    "from sklearn.preprocessing import StandardScaler\n",
    "from matplotlib.pyplot import figure\n",
    "from sklearn.model_selection import cross_val_score\n",
    "from sklearn.linear_model import LinearRegression\n",
    "from sklearn.metrics import mean_absolute_error\n",
    "from sklearn.ensemble import RandomForestRegressor"
   ]
  },
  {
   "cell_type": "markdown",
   "metadata": {},
   "source": [
    "### Load and study the datasets\n",
    "\n",
    "Let's load the datasets."
   ]
  },
  {
   "cell_type": "code",
   "execution_count": 2,
   "metadata": {},
   "outputs": [],
   "source": [
    "try: \n",
    "    full_data = pd.read_csv('datasets/gold_recovery_full.csv')\n",
    "    train_data = pd.read_csv('datasets/gold_recovery_train.csv')\n",
    "    test_data = pd.read_csv('datasets/gold_recovery_test.csv')\n",
    "except:\n",
    "    full_data = pd.read_csv('/datasets/gold_recovery_full.csv')\n",
    "    train_data = pd.read_csv('/datasets/gold_recovery_train.csv')\n",
    "    test_data = pd.read_csv('/datasets/gold_recovery_test.csv')\n",
    "    "
   ]
  },
  {
   "cell_type": "markdown",
   "metadata": {},
   "source": [
    "Let's look at the general information of the datasets. First, let's look at `full_data`."
   ]
  },
  {
   "cell_type": "code",
   "execution_count": 3,
   "metadata": {
    "scrolled": false
   },
   "outputs": [
    {
     "name": "stdout",
     "output_type": "stream",
     "text": [
      "<class 'pandas.core.frame.DataFrame'>\n",
      "RangeIndex: 22716 entries, 0 to 22715\n",
      "Data columns (total 87 columns):\n",
      "date                                                  22716 non-null object\n",
      "final.output.concentrate_ag                           22627 non-null float64\n",
      "final.output.concentrate_pb                           22629 non-null float64\n",
      "final.output.concentrate_sol                          22331 non-null float64\n",
      "final.output.concentrate_au                           22630 non-null float64\n",
      "final.output.recovery                                 20753 non-null float64\n",
      "final.output.tail_ag                                  22633 non-null float64\n",
      "final.output.tail_pb                                  22516 non-null float64\n",
      "final.output.tail_sol                                 22445 non-null float64\n",
      "final.output.tail_au                                  22635 non-null float64\n",
      "primary_cleaner.input.sulfate                         21107 non-null float64\n",
      "primary_cleaner.input.depressant                      21170 non-null float64\n",
      "primary_cleaner.input.feed_size                       22716 non-null float64\n",
      "primary_cleaner.input.xanthate                        21565 non-null float64\n",
      "primary_cleaner.output.concentrate_ag                 22618 non-null float64\n",
      "primary_cleaner.output.concentrate_pb                 22268 non-null float64\n",
      "primary_cleaner.output.concentrate_sol                21918 non-null float64\n",
      "primary_cleaner.output.concentrate_au                 22618 non-null float64\n",
      "primary_cleaner.output.tail_ag                        22614 non-null float64\n",
      "primary_cleaner.output.tail_pb                        22594 non-null float64\n",
      "primary_cleaner.output.tail_sol                       22365 non-null float64\n",
      "primary_cleaner.output.tail_au                        22617 non-null float64\n",
      "primary_cleaner.state.floatbank8_a_air                22660 non-null float64\n",
      "primary_cleaner.state.floatbank8_a_level              22667 non-null float64\n",
      "primary_cleaner.state.floatbank8_b_air                22660 non-null float64\n",
      "primary_cleaner.state.floatbank8_b_level              22673 non-null float64\n",
      "primary_cleaner.state.floatbank8_c_air                22662 non-null float64\n",
      "primary_cleaner.state.floatbank8_c_level              22673 non-null float64\n",
      "primary_cleaner.state.floatbank8_d_air                22661 non-null float64\n",
      "primary_cleaner.state.floatbank8_d_level              22673 non-null float64\n",
      "rougher.calculation.sulfate_to_au_concentrate         22672 non-null float64\n",
      "rougher.calculation.floatbank10_sulfate_to_au_feed    22672 non-null float64\n",
      "rougher.calculation.floatbank11_sulfate_to_au_feed    22672 non-null float64\n",
      "rougher.calculation.au_pb_ratio                       21089 non-null float64\n",
      "rougher.input.feed_ag                                 22618 non-null float64\n",
      "rougher.input.feed_pb                                 22472 non-null float64\n",
      "rougher.input.feed_rate                               22163 non-null float64\n",
      "rougher.input.feed_size                               22277 non-null float64\n",
      "rougher.input.feed_sol                                22357 non-null float64\n",
      "rougher.input.feed_au                                 22617 non-null float64\n",
      "rougher.input.floatbank10_sulfate                     21415 non-null float64\n",
      "rougher.input.floatbank10_xanthate                    22247 non-null float64\n",
      "rougher.input.floatbank11_sulfate                     22038 non-null float64\n",
      "rougher.input.floatbank11_xanthate                    20459 non-null float64\n",
      "rougher.output.concentrate_ag                         22618 non-null float64\n",
      "rougher.output.concentrate_pb                         22618 non-null float64\n",
      "rougher.output.concentrate_sol                        22526 non-null float64\n",
      "rougher.output.concentrate_au                         22618 non-null float64\n",
      "rougher.output.recovery                               19597 non-null float64\n",
      "rougher.output.tail_ag                                19979 non-null float64\n",
      "rougher.output.tail_pb                                22618 non-null float64\n",
      "rougher.output.tail_sol                               19980 non-null float64\n",
      "rougher.output.tail_au                                19980 non-null float64\n",
      "rougher.state.floatbank10_a_air                       22646 non-null float64\n",
      "rougher.state.floatbank10_a_level                     22647 non-null float64\n",
      "rougher.state.floatbank10_b_air                       22646 non-null float64\n",
      "rougher.state.floatbank10_b_level                     22647 non-null float64\n",
      "rougher.state.floatbank10_c_air                       22646 non-null float64\n",
      "rougher.state.floatbank10_c_level                     22654 non-null float64\n",
      "rougher.state.floatbank10_d_air                       22641 non-null float64\n",
      "rougher.state.floatbank10_d_level                     22649 non-null float64\n",
      "rougher.state.floatbank10_e_air                       22096 non-null float64\n",
      "rougher.state.floatbank10_e_level                     22649 non-null float64\n",
      "rougher.state.floatbank10_f_air                       22641 non-null float64\n",
      "rougher.state.floatbank10_f_level                     22642 non-null float64\n",
      "secondary_cleaner.output.tail_ag                      22616 non-null float64\n",
      "secondary_cleaner.output.tail_pb                      22600 non-null float64\n",
      "secondary_cleaner.output.tail_sol                     20501 non-null float64\n",
      "secondary_cleaner.output.tail_au                      22618 non-null float64\n",
      "secondary_cleaner.state.floatbank2_a_air              22333 non-null float64\n",
      "secondary_cleaner.state.floatbank2_a_level            22591 non-null float64\n",
      "secondary_cleaner.state.floatbank2_b_air              22538 non-null float64\n",
      "secondary_cleaner.state.floatbank2_b_level            22588 non-null float64\n",
      "secondary_cleaner.state.floatbank3_a_air              22585 non-null float64\n",
      "secondary_cleaner.state.floatbank3_a_level            22587 non-null float64\n",
      "secondary_cleaner.state.floatbank3_b_air              22592 non-null float64\n",
      "secondary_cleaner.state.floatbank3_b_level            22590 non-null float64\n",
      "secondary_cleaner.state.floatbank4_a_air              22571 non-null float64\n",
      "secondary_cleaner.state.floatbank4_a_level            22587 non-null float64\n",
      "secondary_cleaner.state.floatbank4_b_air              22608 non-null float64\n",
      "secondary_cleaner.state.floatbank4_b_level            22607 non-null float64\n",
      "secondary_cleaner.state.floatbank5_a_air              22615 non-null float64\n",
      "secondary_cleaner.state.floatbank5_a_level            22615 non-null float64\n",
      "secondary_cleaner.state.floatbank5_b_air              22615 non-null float64\n",
      "secondary_cleaner.state.floatbank5_b_level            22616 non-null float64\n",
      "secondary_cleaner.state.floatbank6_a_air              22597 non-null float64\n",
      "secondary_cleaner.state.floatbank6_a_level            22615 non-null float64\n",
      "dtypes: float64(86), object(1)\n",
      "memory usage: 15.1+ MB\n"
     ]
    }
   ],
   "source": [
    "full_data.info() \n"
   ]
  },
  {
   "cell_type": "code",
   "execution_count": 4,
   "metadata": {
    "scrolled": false
   },
   "outputs": [
    {
     "data": {
      "text/html": [
       "<div>\n",
       "<style scoped>\n",
       "    .dataframe tbody tr th:only-of-type {\n",
       "        vertical-align: middle;\n",
       "    }\n",
       "\n",
       "    .dataframe tbody tr th {\n",
       "        vertical-align: top;\n",
       "    }\n",
       "\n",
       "    .dataframe thead th {\n",
       "        text-align: right;\n",
       "    }\n",
       "</style>\n",
       "<table border=\"1\" class=\"dataframe\">\n",
       "  <thead>\n",
       "    <tr style=\"text-align: right;\">\n",
       "      <th></th>\n",
       "      <th>date</th>\n",
       "      <th>final.output.concentrate_ag</th>\n",
       "      <th>final.output.concentrate_pb</th>\n",
       "      <th>final.output.concentrate_sol</th>\n",
       "      <th>final.output.concentrate_au</th>\n",
       "      <th>final.output.recovery</th>\n",
       "      <th>final.output.tail_ag</th>\n",
       "      <th>final.output.tail_pb</th>\n",
       "      <th>final.output.tail_sol</th>\n",
       "      <th>final.output.tail_au</th>\n",
       "      <th>...</th>\n",
       "      <th>secondary_cleaner.state.floatbank4_a_air</th>\n",
       "      <th>secondary_cleaner.state.floatbank4_a_level</th>\n",
       "      <th>secondary_cleaner.state.floatbank4_b_air</th>\n",
       "      <th>secondary_cleaner.state.floatbank4_b_level</th>\n",
       "      <th>secondary_cleaner.state.floatbank5_a_air</th>\n",
       "      <th>secondary_cleaner.state.floatbank5_a_level</th>\n",
       "      <th>secondary_cleaner.state.floatbank5_b_air</th>\n",
       "      <th>secondary_cleaner.state.floatbank5_b_level</th>\n",
       "      <th>secondary_cleaner.state.floatbank6_a_air</th>\n",
       "      <th>secondary_cleaner.state.floatbank6_a_level</th>\n",
       "    </tr>\n",
       "  </thead>\n",
       "  <tbody>\n",
       "    <tr>\n",
       "      <td>0</td>\n",
       "      <td>2016-01-15 00:00:00</td>\n",
       "      <td>6.055403</td>\n",
       "      <td>9.889648</td>\n",
       "      <td>5.507324</td>\n",
       "      <td>42.192020</td>\n",
       "      <td>70.541216</td>\n",
       "      <td>10.411962</td>\n",
       "      <td>0.895447</td>\n",
       "      <td>16.904297</td>\n",
       "      <td>2.143149</td>\n",
       "      <td>...</td>\n",
       "      <td>14.016835</td>\n",
       "      <td>-502.488007</td>\n",
       "      <td>12.099931</td>\n",
       "      <td>-504.715942</td>\n",
       "      <td>9.925633</td>\n",
       "      <td>-498.310211</td>\n",
       "      <td>8.079666</td>\n",
       "      <td>-500.470978</td>\n",
       "      <td>14.151341</td>\n",
       "      <td>-605.841980</td>\n",
       "    </tr>\n",
       "    <tr>\n",
       "      <td>1</td>\n",
       "      <td>2016-01-15 01:00:00</td>\n",
       "      <td>6.029369</td>\n",
       "      <td>9.968944</td>\n",
       "      <td>5.257781</td>\n",
       "      <td>42.701629</td>\n",
       "      <td>69.266198</td>\n",
       "      <td>10.462676</td>\n",
       "      <td>0.927452</td>\n",
       "      <td>16.634514</td>\n",
       "      <td>2.224930</td>\n",
       "      <td>...</td>\n",
       "      <td>13.992281</td>\n",
       "      <td>-505.503262</td>\n",
       "      <td>11.950531</td>\n",
       "      <td>-501.331529</td>\n",
       "      <td>10.039245</td>\n",
       "      <td>-500.169983</td>\n",
       "      <td>7.984757</td>\n",
       "      <td>-500.582168</td>\n",
       "      <td>13.998353</td>\n",
       "      <td>-599.787184</td>\n",
       "    </tr>\n",
       "    <tr>\n",
       "      <td>2</td>\n",
       "      <td>2016-01-15 02:00:00</td>\n",
       "      <td>6.055926</td>\n",
       "      <td>10.213995</td>\n",
       "      <td>5.383759</td>\n",
       "      <td>42.657501</td>\n",
       "      <td>68.116445</td>\n",
       "      <td>10.507046</td>\n",
       "      <td>0.953716</td>\n",
       "      <td>16.208849</td>\n",
       "      <td>2.257889</td>\n",
       "      <td>...</td>\n",
       "      <td>14.015015</td>\n",
       "      <td>-502.520901</td>\n",
       "      <td>11.912783</td>\n",
       "      <td>-501.133383</td>\n",
       "      <td>10.070913</td>\n",
       "      <td>-500.129135</td>\n",
       "      <td>8.013877</td>\n",
       "      <td>-500.517572</td>\n",
       "      <td>14.028663</td>\n",
       "      <td>-601.427363</td>\n",
       "    </tr>\n",
       "    <tr>\n",
       "      <td>3</td>\n",
       "      <td>2016-01-15 03:00:00</td>\n",
       "      <td>6.047977</td>\n",
       "      <td>9.977019</td>\n",
       "      <td>4.858634</td>\n",
       "      <td>42.689819</td>\n",
       "      <td>68.347543</td>\n",
       "      <td>10.422762</td>\n",
       "      <td>0.883763</td>\n",
       "      <td>16.532835</td>\n",
       "      <td>2.146849</td>\n",
       "      <td>...</td>\n",
       "      <td>14.036510</td>\n",
       "      <td>-500.857308</td>\n",
       "      <td>11.999550</td>\n",
       "      <td>-501.193686</td>\n",
       "      <td>9.970366</td>\n",
       "      <td>-499.201640</td>\n",
       "      <td>7.977324</td>\n",
       "      <td>-500.255908</td>\n",
       "      <td>14.005551</td>\n",
       "      <td>-599.996129</td>\n",
       "    </tr>\n",
       "    <tr>\n",
       "      <td>4</td>\n",
       "      <td>2016-01-15 04:00:00</td>\n",
       "      <td>6.148599</td>\n",
       "      <td>10.142511</td>\n",
       "      <td>4.939416</td>\n",
       "      <td>42.774141</td>\n",
       "      <td>66.927016</td>\n",
       "      <td>10.360302</td>\n",
       "      <td>0.792826</td>\n",
       "      <td>16.525686</td>\n",
       "      <td>2.055292</td>\n",
       "      <td>...</td>\n",
       "      <td>14.027298</td>\n",
       "      <td>-499.838632</td>\n",
       "      <td>11.953070</td>\n",
       "      <td>-501.053894</td>\n",
       "      <td>9.925709</td>\n",
       "      <td>-501.686727</td>\n",
       "      <td>7.894242</td>\n",
       "      <td>-500.356035</td>\n",
       "      <td>13.996647</td>\n",
       "      <td>-601.496691</td>\n",
       "    </tr>\n",
       "    <tr>\n",
       "      <td>5</td>\n",
       "      <td>2016-01-15 05:00:00</td>\n",
       "      <td>6.482968</td>\n",
       "      <td>10.049416</td>\n",
       "      <td>5.480257</td>\n",
       "      <td>41.633678</td>\n",
       "      <td>69.465816</td>\n",
       "      <td>10.182708</td>\n",
       "      <td>0.664118</td>\n",
       "      <td>16.999638</td>\n",
       "      <td>1.918586</td>\n",
       "      <td>...</td>\n",
       "      <td>13.938497</td>\n",
       "      <td>-500.970168</td>\n",
       "      <td>11.883350</td>\n",
       "      <td>-500.395298</td>\n",
       "      <td>10.054147</td>\n",
       "      <td>-496.374715</td>\n",
       "      <td>7.965083</td>\n",
       "      <td>-499.364752</td>\n",
       "      <td>14.017067</td>\n",
       "      <td>-599.707915</td>\n",
       "    </tr>\n",
       "    <tr>\n",
       "      <td>6</td>\n",
       "      <td>2016-01-15 06:00:00</td>\n",
       "      <td>6.533849</td>\n",
       "      <td>10.058141</td>\n",
       "      <td>4.569100</td>\n",
       "      <td>41.995316</td>\n",
       "      <td>69.300835</td>\n",
       "      <td>10.304598</td>\n",
       "      <td>0.807342</td>\n",
       "      <td>16.723575</td>\n",
       "      <td>2.058913</td>\n",
       "      <td>...</td>\n",
       "      <td>14.046819</td>\n",
       "      <td>-500.971133</td>\n",
       "      <td>12.091543</td>\n",
       "      <td>-500.501426</td>\n",
       "      <td>10.003247</td>\n",
       "      <td>-497.083180</td>\n",
       "      <td>8.010890</td>\n",
       "      <td>-500.002423</td>\n",
       "      <td>14.029649</td>\n",
       "      <td>-600.905470</td>\n",
       "    </tr>\n",
       "    <tr>\n",
       "      <td>7</td>\n",
       "      <td>2016-01-15 07:00:00</td>\n",
       "      <td>6.130823</td>\n",
       "      <td>9.935481</td>\n",
       "      <td>4.389813</td>\n",
       "      <td>42.452727</td>\n",
       "      <td>70.230976</td>\n",
       "      <td>10.443288</td>\n",
       "      <td>0.949346</td>\n",
       "      <td>16.689959</td>\n",
       "      <td>2.143437</td>\n",
       "      <td>...</td>\n",
       "      <td>13.974691</td>\n",
       "      <td>-501.819696</td>\n",
       "      <td>12.101324</td>\n",
       "      <td>-500.583446</td>\n",
       "      <td>9.873169</td>\n",
       "      <td>-499.171928</td>\n",
       "      <td>7.993381</td>\n",
       "      <td>-499.794518</td>\n",
       "      <td>13.984498</td>\n",
       "      <td>-600.411070</td>\n",
       "    </tr>\n",
       "    <tr>\n",
       "      <td>8</td>\n",
       "      <td>2016-01-15 08:00:00</td>\n",
       "      <td>5.834140</td>\n",
       "      <td>10.071156</td>\n",
       "      <td>4.876389</td>\n",
       "      <td>43.404078</td>\n",
       "      <td>69.688595</td>\n",
       "      <td>10.420140</td>\n",
       "      <td>1.065453</td>\n",
       "      <td>17.201948</td>\n",
       "      <td>2.209881</td>\n",
       "      <td>...</td>\n",
       "      <td>13.964030</td>\n",
       "      <td>-504.252450</td>\n",
       "      <td>12.060738</td>\n",
       "      <td>-501.174549</td>\n",
       "      <td>10.033838</td>\n",
       "      <td>-501.178133</td>\n",
       "      <td>7.881604</td>\n",
       "      <td>-499.729434</td>\n",
       "      <td>13.967135</td>\n",
       "      <td>-599.061188</td>\n",
       "    </tr>\n",
       "    <tr>\n",
       "      <td>9</td>\n",
       "      <td>2016-01-15 09:00:00</td>\n",
       "      <td>5.687063</td>\n",
       "      <td>9.980404</td>\n",
       "      <td>5.282514</td>\n",
       "      <td>43.235220</td>\n",
       "      <td>70.279619</td>\n",
       "      <td>10.487013</td>\n",
       "      <td>1.159805</td>\n",
       "      <td>17.483979</td>\n",
       "      <td>2.209593</td>\n",
       "      <td>...</td>\n",
       "      <td>13.989632</td>\n",
       "      <td>-503.195299</td>\n",
       "      <td>12.052233</td>\n",
       "      <td>-500.928547</td>\n",
       "      <td>9.962574</td>\n",
       "      <td>-502.986357</td>\n",
       "      <td>7.979219</td>\n",
       "      <td>-500.146835</td>\n",
       "      <td>13.981614</td>\n",
       "      <td>-598.070855</td>\n",
       "    </tr>\n",
       "  </tbody>\n",
       "</table>\n",
       "<p>10 rows × 87 columns</p>\n",
       "</div>"
      ],
      "text/plain": [
       "                  date  final.output.concentrate_ag  \\\n",
       "0  2016-01-15 00:00:00                     6.055403   \n",
       "1  2016-01-15 01:00:00                     6.029369   \n",
       "2  2016-01-15 02:00:00                     6.055926   \n",
       "3  2016-01-15 03:00:00                     6.047977   \n",
       "4  2016-01-15 04:00:00                     6.148599   \n",
       "5  2016-01-15 05:00:00                     6.482968   \n",
       "6  2016-01-15 06:00:00                     6.533849   \n",
       "7  2016-01-15 07:00:00                     6.130823   \n",
       "8  2016-01-15 08:00:00                     5.834140   \n",
       "9  2016-01-15 09:00:00                     5.687063   \n",
       "\n",
       "   final.output.concentrate_pb  final.output.concentrate_sol  \\\n",
       "0                     9.889648                      5.507324   \n",
       "1                     9.968944                      5.257781   \n",
       "2                    10.213995                      5.383759   \n",
       "3                     9.977019                      4.858634   \n",
       "4                    10.142511                      4.939416   \n",
       "5                    10.049416                      5.480257   \n",
       "6                    10.058141                      4.569100   \n",
       "7                     9.935481                      4.389813   \n",
       "8                    10.071156                      4.876389   \n",
       "9                     9.980404                      5.282514   \n",
       "\n",
       "   final.output.concentrate_au  final.output.recovery  final.output.tail_ag  \\\n",
       "0                    42.192020              70.541216             10.411962   \n",
       "1                    42.701629              69.266198             10.462676   \n",
       "2                    42.657501              68.116445             10.507046   \n",
       "3                    42.689819              68.347543             10.422762   \n",
       "4                    42.774141              66.927016             10.360302   \n",
       "5                    41.633678              69.465816             10.182708   \n",
       "6                    41.995316              69.300835             10.304598   \n",
       "7                    42.452727              70.230976             10.443288   \n",
       "8                    43.404078              69.688595             10.420140   \n",
       "9                    43.235220              70.279619             10.487013   \n",
       "\n",
       "   final.output.tail_pb  final.output.tail_sol  final.output.tail_au  ...  \\\n",
       "0              0.895447              16.904297              2.143149  ...   \n",
       "1              0.927452              16.634514              2.224930  ...   \n",
       "2              0.953716              16.208849              2.257889  ...   \n",
       "3              0.883763              16.532835              2.146849  ...   \n",
       "4              0.792826              16.525686              2.055292  ...   \n",
       "5              0.664118              16.999638              1.918586  ...   \n",
       "6              0.807342              16.723575              2.058913  ...   \n",
       "7              0.949346              16.689959              2.143437  ...   \n",
       "8              1.065453              17.201948              2.209881  ...   \n",
       "9              1.159805              17.483979              2.209593  ...   \n",
       "\n",
       "   secondary_cleaner.state.floatbank4_a_air  \\\n",
       "0                                 14.016835   \n",
       "1                                 13.992281   \n",
       "2                                 14.015015   \n",
       "3                                 14.036510   \n",
       "4                                 14.027298   \n",
       "5                                 13.938497   \n",
       "6                                 14.046819   \n",
       "7                                 13.974691   \n",
       "8                                 13.964030   \n",
       "9                                 13.989632   \n",
       "\n",
       "   secondary_cleaner.state.floatbank4_a_level  \\\n",
       "0                                 -502.488007   \n",
       "1                                 -505.503262   \n",
       "2                                 -502.520901   \n",
       "3                                 -500.857308   \n",
       "4                                 -499.838632   \n",
       "5                                 -500.970168   \n",
       "6                                 -500.971133   \n",
       "7                                 -501.819696   \n",
       "8                                 -504.252450   \n",
       "9                                 -503.195299   \n",
       "\n",
       "   secondary_cleaner.state.floatbank4_b_air  \\\n",
       "0                                 12.099931   \n",
       "1                                 11.950531   \n",
       "2                                 11.912783   \n",
       "3                                 11.999550   \n",
       "4                                 11.953070   \n",
       "5                                 11.883350   \n",
       "6                                 12.091543   \n",
       "7                                 12.101324   \n",
       "8                                 12.060738   \n",
       "9                                 12.052233   \n",
       "\n",
       "   secondary_cleaner.state.floatbank4_b_level  \\\n",
       "0                                 -504.715942   \n",
       "1                                 -501.331529   \n",
       "2                                 -501.133383   \n",
       "3                                 -501.193686   \n",
       "4                                 -501.053894   \n",
       "5                                 -500.395298   \n",
       "6                                 -500.501426   \n",
       "7                                 -500.583446   \n",
       "8                                 -501.174549   \n",
       "9                                 -500.928547   \n",
       "\n",
       "   secondary_cleaner.state.floatbank5_a_air  \\\n",
       "0                                  9.925633   \n",
       "1                                 10.039245   \n",
       "2                                 10.070913   \n",
       "3                                  9.970366   \n",
       "4                                  9.925709   \n",
       "5                                 10.054147   \n",
       "6                                 10.003247   \n",
       "7                                  9.873169   \n",
       "8                                 10.033838   \n",
       "9                                  9.962574   \n",
       "\n",
       "   secondary_cleaner.state.floatbank5_a_level  \\\n",
       "0                                 -498.310211   \n",
       "1                                 -500.169983   \n",
       "2                                 -500.129135   \n",
       "3                                 -499.201640   \n",
       "4                                 -501.686727   \n",
       "5                                 -496.374715   \n",
       "6                                 -497.083180   \n",
       "7                                 -499.171928   \n",
       "8                                 -501.178133   \n",
       "9                                 -502.986357   \n",
       "\n",
       "   secondary_cleaner.state.floatbank5_b_air  \\\n",
       "0                                  8.079666   \n",
       "1                                  7.984757   \n",
       "2                                  8.013877   \n",
       "3                                  7.977324   \n",
       "4                                  7.894242   \n",
       "5                                  7.965083   \n",
       "6                                  8.010890   \n",
       "7                                  7.993381   \n",
       "8                                  7.881604   \n",
       "9                                  7.979219   \n",
       "\n",
       "   secondary_cleaner.state.floatbank5_b_level  \\\n",
       "0                                 -500.470978   \n",
       "1                                 -500.582168   \n",
       "2                                 -500.517572   \n",
       "3                                 -500.255908   \n",
       "4                                 -500.356035   \n",
       "5                                 -499.364752   \n",
       "6                                 -500.002423   \n",
       "7                                 -499.794518   \n",
       "8                                 -499.729434   \n",
       "9                                 -500.146835   \n",
       "\n",
       "   secondary_cleaner.state.floatbank6_a_air  \\\n",
       "0                                 14.151341   \n",
       "1                                 13.998353   \n",
       "2                                 14.028663   \n",
       "3                                 14.005551   \n",
       "4                                 13.996647   \n",
       "5                                 14.017067   \n",
       "6                                 14.029649   \n",
       "7                                 13.984498   \n",
       "8                                 13.967135   \n",
       "9                                 13.981614   \n",
       "\n",
       "   secondary_cleaner.state.floatbank6_a_level  \n",
       "0                                 -605.841980  \n",
       "1                                 -599.787184  \n",
       "2                                 -601.427363  \n",
       "3                                 -599.996129  \n",
       "4                                 -601.496691  \n",
       "5                                 -599.707915  \n",
       "6                                 -600.905470  \n",
       "7                                 -600.411070  \n",
       "8                                 -599.061188  \n",
       "9                                 -598.070855  \n",
       "\n",
       "[10 rows x 87 columns]"
      ]
     },
     "metadata": {},
     "output_type": "display_data"
    }
   ],
   "source": [
    "display(full_data.head(10))"
   ]
  },
  {
   "cell_type": "code",
   "execution_count": 5,
   "metadata": {
    "scrolled": true
   },
   "outputs": [
    {
     "data": {
      "text/html": [
       "<div>\n",
       "<style scoped>\n",
       "    .dataframe tbody tr th:only-of-type {\n",
       "        vertical-align: middle;\n",
       "    }\n",
       "\n",
       "    .dataframe tbody tr th {\n",
       "        vertical-align: top;\n",
       "    }\n",
       "\n",
       "    .dataframe thead th {\n",
       "        text-align: right;\n",
       "    }\n",
       "</style>\n",
       "<table border=\"1\" class=\"dataframe\">\n",
       "  <thead>\n",
       "    <tr style=\"text-align: right;\">\n",
       "      <th></th>\n",
       "      <th>date</th>\n",
       "      <th>final.output.concentrate_ag</th>\n",
       "      <th>final.output.concentrate_pb</th>\n",
       "      <th>final.output.concentrate_sol</th>\n",
       "      <th>final.output.concentrate_au</th>\n",
       "      <th>final.output.recovery</th>\n",
       "      <th>final.output.tail_ag</th>\n",
       "      <th>final.output.tail_pb</th>\n",
       "      <th>final.output.tail_sol</th>\n",
       "      <th>final.output.tail_au</th>\n",
       "      <th>...</th>\n",
       "      <th>secondary_cleaner.state.floatbank4_a_air</th>\n",
       "      <th>secondary_cleaner.state.floatbank4_a_level</th>\n",
       "      <th>secondary_cleaner.state.floatbank4_b_air</th>\n",
       "      <th>secondary_cleaner.state.floatbank4_b_level</th>\n",
       "      <th>secondary_cleaner.state.floatbank5_a_air</th>\n",
       "      <th>secondary_cleaner.state.floatbank5_a_level</th>\n",
       "      <th>secondary_cleaner.state.floatbank5_b_air</th>\n",
       "      <th>secondary_cleaner.state.floatbank5_b_level</th>\n",
       "      <th>secondary_cleaner.state.floatbank6_a_air</th>\n",
       "      <th>secondary_cleaner.state.floatbank6_a_level</th>\n",
       "    </tr>\n",
       "  </thead>\n",
       "  <tbody>\n",
       "    <tr>\n",
       "      <td>22686</td>\n",
       "      <td>2018-08-17 05:59:59</td>\n",
       "      <td>3.575851</td>\n",
       "      <td>11.907212</td>\n",
       "      <td>6.802939</td>\n",
       "      <td>45.444440</td>\n",
       "      <td>72.666035</td>\n",
       "      <td>9.478193</td>\n",
       "      <td>3.057374</td>\n",
       "      <td>9.797800</td>\n",
       "      <td>1.731699</td>\n",
       "      <td>...</td>\n",
       "      <td>23.021990</td>\n",
       "      <td>-501.491291</td>\n",
       "      <td>20.081289</td>\n",
       "      <td>-500.659152</td>\n",
       "      <td>17.985410</td>\n",
       "      <td>-500.023766</td>\n",
       "      <td>13.016793</td>\n",
       "      <td>-499.968020</td>\n",
       "      <td>20.010051</td>\n",
       "      <td>-500.549456</td>\n",
       "    </tr>\n",
       "    <tr>\n",
       "      <td>22687</td>\n",
       "      <td>2018-08-17 06:59:59</td>\n",
       "      <td>3.676767</td>\n",
       "      <td>11.811546</td>\n",
       "      <td>6.701614</td>\n",
       "      <td>45.626776</td>\n",
       "      <td>70.124520</td>\n",
       "      <td>10.101142</td>\n",
       "      <td>3.458313</td>\n",
       "      <td>9.202298</td>\n",
       "      <td>1.985746</td>\n",
       "      <td>...</td>\n",
       "      <td>23.001575</td>\n",
       "      <td>-500.731390</td>\n",
       "      <td>19.995845</td>\n",
       "      <td>-499.827275</td>\n",
       "      <td>18.021047</td>\n",
       "      <td>-499.853567</td>\n",
       "      <td>12.971879</td>\n",
       "      <td>-500.117227</td>\n",
       "      <td>19.998784</td>\n",
       "      <td>-500.926436</td>\n",
       "    </tr>\n",
       "    <tr>\n",
       "      <td>22688</td>\n",
       "      <td>2018-08-17 07:59:59</td>\n",
       "      <td>3.571477</td>\n",
       "      <td>11.612422</td>\n",
       "      <td>6.819930</td>\n",
       "      <td>45.868268</td>\n",
       "      <td>66.461188</td>\n",
       "      <td>10.346141</td>\n",
       "      <td>3.447106</td>\n",
       "      <td>9.025933</td>\n",
       "      <td>2.037761</td>\n",
       "      <td>...</td>\n",
       "      <td>23.007388</td>\n",
       "      <td>-500.709707</td>\n",
       "      <td>20.063421</td>\n",
       "      <td>-500.286289</td>\n",
       "      <td>18.033292</td>\n",
       "      <td>-498.564918</td>\n",
       "      <td>12.961688</td>\n",
       "      <td>-499.930240</td>\n",
       "      <td>20.002626</td>\n",
       "      <td>-498.541530</td>\n",
       "    </tr>\n",
       "    <tr>\n",
       "      <td>22689</td>\n",
       "      <td>2018-08-17 08:59:59</td>\n",
       "      <td>3.651242</td>\n",
       "      <td>11.546264</td>\n",
       "      <td>6.896616</td>\n",
       "      <td>45.942074</td>\n",
       "      <td>66.417292</td>\n",
       "      <td>10.080692</td>\n",
       "      <td>3.109990</td>\n",
       "      <td>9.244794</td>\n",
       "      <td>1.941038</td>\n",
       "      <td>...</td>\n",
       "      <td>23.004905</td>\n",
       "      <td>-500.241069</td>\n",
       "      <td>20.019732</td>\n",
       "      <td>-499.381247</td>\n",
       "      <td>17.964550</td>\n",
       "      <td>-500.668205</td>\n",
       "      <td>13.006377</td>\n",
       "      <td>-500.012333</td>\n",
       "      <td>19.986553</td>\n",
       "      <td>-499.845622</td>\n",
       "    </tr>\n",
       "    <tr>\n",
       "      <td>22690</td>\n",
       "      <td>2018-08-17 09:59:59</td>\n",
       "      <td>3.991065</td>\n",
       "      <td>11.599666</td>\n",
       "      <td>6.905807</td>\n",
       "      <td>45.073197</td>\n",
       "      <td>69.884868</td>\n",
       "      <td>9.654578</td>\n",
       "      <td>2.835589</td>\n",
       "      <td>9.375307</td>\n",
       "      <td>1.713933</td>\n",
       "      <td>...</td>\n",
       "      <td>23.005506</td>\n",
       "      <td>-500.379181</td>\n",
       "      <td>20.016167</td>\n",
       "      <td>-500.494647</td>\n",
       "      <td>18.001244</td>\n",
       "      <td>-500.340417</td>\n",
       "      <td>12.987431</td>\n",
       "      <td>-499.878309</td>\n",
       "      <td>19.971031</td>\n",
       "      <td>-500.525421</td>\n",
       "    </tr>\n",
       "    <tr>\n",
       "      <td>22691</td>\n",
       "      <td>2018-08-17 10:59:59</td>\n",
       "      <td>4.894652</td>\n",
       "      <td>12.713174</td>\n",
       "      <td>6.660313</td>\n",
       "      <td>41.924180</td>\n",
       "      <td>72.346428</td>\n",
       "      <td>9.274585</td>\n",
       "      <td>2.773309</td>\n",
       "      <td>9.499506</td>\n",
       "      <td>1.593406</td>\n",
       "      <td>...</td>\n",
       "      <td>22.981693</td>\n",
       "      <td>-500.375436</td>\n",
       "      <td>20.045049</td>\n",
       "      <td>-499.630463</td>\n",
       "      <td>18.008026</td>\n",
       "      <td>-500.690545</td>\n",
       "      <td>12.994990</td>\n",
       "      <td>-500.075004</td>\n",
       "      <td>19.987483</td>\n",
       "      <td>-501.548787</td>\n",
       "    </tr>\n",
       "    <tr>\n",
       "      <td>22692</td>\n",
       "      <td>2018-08-17 11:59:59</td>\n",
       "      <td>4.827192</td>\n",
       "      <td>12.974069</td>\n",
       "      <td>6.641652</td>\n",
       "      <td>41.821659</td>\n",
       "      <td>72.754450</td>\n",
       "      <td>9.504075</td>\n",
       "      <td>3.028277</td>\n",
       "      <td>9.111587</td>\n",
       "      <td>1.632850</td>\n",
       "      <td>...</td>\n",
       "      <td>23.024332</td>\n",
       "      <td>-501.673294</td>\n",
       "      <td>20.052960</td>\n",
       "      <td>-500.448548</td>\n",
       "      <td>17.997242</td>\n",
       "      <td>-500.720112</td>\n",
       "      <td>13.010501</td>\n",
       "      <td>-499.626615</td>\n",
       "      <td>19.995955</td>\n",
       "      <td>-502.213469</td>\n",
       "    </tr>\n",
       "    <tr>\n",
       "      <td>22693</td>\n",
       "      <td>2018-08-17 12:59:59</td>\n",
       "      <td>4.515130</td>\n",
       "      <td>12.868653</td>\n",
       "      <td>6.579353</td>\n",
       "      <td>42.645208</td>\n",
       "      <td>72.248239</td>\n",
       "      <td>9.501524</td>\n",
       "      <td>3.189444</td>\n",
       "      <td>9.023446</td>\n",
       "      <td>1.696612</td>\n",
       "      <td>...</td>\n",
       "      <td>22.994118</td>\n",
       "      <td>-500.717182</td>\n",
       "      <td>19.980870</td>\n",
       "      <td>-499.580871</td>\n",
       "      <td>18.012514</td>\n",
       "      <td>-500.066290</td>\n",
       "      <td>12.999451</td>\n",
       "      <td>-500.008828</td>\n",
       "      <td>20.015172</td>\n",
       "      <td>-501.271089</td>\n",
       "    </tr>\n",
       "    <tr>\n",
       "      <td>22694</td>\n",
       "      <td>2018-08-17 13:59:59</td>\n",
       "      <td>4.108712</td>\n",
       "      <td>12.666388</td>\n",
       "      <td>6.563593</td>\n",
       "      <td>43.687607</td>\n",
       "      <td>72.582287</td>\n",
       "      <td>9.320000</td>\n",
       "      <td>3.277720</td>\n",
       "      <td>9.397333</td>\n",
       "      <td>1.678070</td>\n",
       "      <td>...</td>\n",
       "      <td>23.014369</td>\n",
       "      <td>-500.212424</td>\n",
       "      <td>19.992876</td>\n",
       "      <td>-499.888065</td>\n",
       "      <td>17.977496</td>\n",
       "      <td>-499.967811</td>\n",
       "      <td>12.954171</td>\n",
       "      <td>-500.260455</td>\n",
       "      <td>19.983515</td>\n",
       "      <td>-503.243695</td>\n",
       "    </tr>\n",
       "    <tr>\n",
       "      <td>22695</td>\n",
       "      <td>2018-08-17 14:59:59</td>\n",
       "      <td>3.861031</td>\n",
       "      <td>12.441737</td>\n",
       "      <td>6.667624</td>\n",
       "      <td>44.339835</td>\n",
       "      <td>72.001394</td>\n",
       "      <td>8.752653</td>\n",
       "      <td>3.258726</td>\n",
       "      <td>10.303485</td>\n",
       "      <td>1.742921</td>\n",
       "      <td>...</td>\n",
       "      <td>23.025088</td>\n",
       "      <td>-501.311668</td>\n",
       "      <td>20.031273</td>\n",
       "      <td>-500.674430</td>\n",
       "      <td>17.953446</td>\n",
       "      <td>-500.681679</td>\n",
       "      <td>13.013927</td>\n",
       "      <td>-500.258257</td>\n",
       "      <td>20.012671</td>\n",
       "      <td>-505.750254</td>\n",
       "    </tr>\n",
       "    <tr>\n",
       "      <td>22696</td>\n",
       "      <td>2018-08-17 15:59:59</td>\n",
       "      <td>3.769352</td>\n",
       "      <td>12.653977</td>\n",
       "      <td>6.733743</td>\n",
       "      <td>44.621845</td>\n",
       "      <td>70.004249</td>\n",
       "      <td>9.538939</td>\n",
       "      <td>3.572824</td>\n",
       "      <td>9.344995</td>\n",
       "      <td>1.846842</td>\n",
       "      <td>...</td>\n",
       "      <td>23.018880</td>\n",
       "      <td>-500.910903</td>\n",
       "      <td>19.973517</td>\n",
       "      <td>-499.414252</td>\n",
       "      <td>17.957036</td>\n",
       "      <td>-499.519333</td>\n",
       "      <td>12.995216</td>\n",
       "      <td>-500.030232</td>\n",
       "      <td>19.983372</td>\n",
       "      <td>-509.060146</td>\n",
       "    </tr>\n",
       "    <tr>\n",
       "      <td>22697</td>\n",
       "      <td>2018-08-17 16:59:59</td>\n",
       "      <td>3.680897</td>\n",
       "      <td>12.778424</td>\n",
       "      <td>6.623745</td>\n",
       "      <td>44.636157</td>\n",
       "      <td>67.796293</td>\n",
       "      <td>9.558624</td>\n",
       "      <td>3.617360</td>\n",
       "      <td>9.210683</td>\n",
       "      <td>1.975891</td>\n",
       "      <td>...</td>\n",
       "      <td>23.022083</td>\n",
       "      <td>-501.108490</td>\n",
       "      <td>20.018146</td>\n",
       "      <td>-500.739493</td>\n",
       "      <td>17.998088</td>\n",
       "      <td>-500.267224</td>\n",
       "      <td>12.995547</td>\n",
       "      <td>-500.179650</td>\n",
       "      <td>19.985572</td>\n",
       "      <td>-501.375774</td>\n",
       "    </tr>\n",
       "    <tr>\n",
       "      <td>22698</td>\n",
       "      <td>2018-08-17 17:59:59</td>\n",
       "      <td>3.500876</td>\n",
       "      <td>12.522030</td>\n",
       "      <td>6.666484</td>\n",
       "      <td>45.068492</td>\n",
       "      <td>63.082720</td>\n",
       "      <td>9.012745</td>\n",
       "      <td>3.513789</td>\n",
       "      <td>10.392631</td>\n",
       "      <td>2.047201</td>\n",
       "      <td>...</td>\n",
       "      <td>23.032807</td>\n",
       "      <td>-501.287889</td>\n",
       "      <td>19.977466</td>\n",
       "      <td>-500.159903</td>\n",
       "      <td>17.980463</td>\n",
       "      <td>-500.504602</td>\n",
       "      <td>12.949071</td>\n",
       "      <td>-500.009937</td>\n",
       "      <td>20.010332</td>\n",
       "      <td>-508.337973</td>\n",
       "    </tr>\n",
       "    <tr>\n",
       "      <td>22699</td>\n",
       "      <td>2018-08-17 18:59:59</td>\n",
       "      <td>3.163108</td>\n",
       "      <td>11.384970</td>\n",
       "      <td>6.263301</td>\n",
       "      <td>42.962557</td>\n",
       "      <td>56.137031</td>\n",
       "      <td>8.409223</td>\n",
       "      <td>3.245894</td>\n",
       "      <td>9.343320</td>\n",
       "      <td>2.058186</td>\n",
       "      <td>...</td>\n",
       "      <td>22.983029</td>\n",
       "      <td>-500.471907</td>\n",
       "      <td>19.992177</td>\n",
       "      <td>-499.841426</td>\n",
       "      <td>17.995858</td>\n",
       "      <td>-499.881287</td>\n",
       "      <td>13.040699</td>\n",
       "      <td>-500.102011</td>\n",
       "      <td>19.978991</td>\n",
       "      <td>-506.154599</td>\n",
       "    </tr>\n",
       "    <tr>\n",
       "      <td>22700</td>\n",
       "      <td>2018-08-17 19:59:59</td>\n",
       "      <td>3.467581</td>\n",
       "      <td>12.198985</td>\n",
       "      <td>6.695562</td>\n",
       "      <td>45.630993</td>\n",
       "      <td>58.570570</td>\n",
       "      <td>8.694564</td>\n",
       "      <td>3.174479</td>\n",
       "      <td>9.993155</td>\n",
       "      <td>1.987334</td>\n",
       "      <td>...</td>\n",
       "      <td>23.038847</td>\n",
       "      <td>-501.385545</td>\n",
       "      <td>20.031048</td>\n",
       "      <td>-500.151459</td>\n",
       "      <td>17.998732</td>\n",
       "      <td>-500.375117</td>\n",
       "      <td>13.022033</td>\n",
       "      <td>-500.018178</td>\n",
       "      <td>20.004434</td>\n",
       "      <td>-507.317080</td>\n",
       "    </tr>\n",
       "    <tr>\n",
       "      <td>22701</td>\n",
       "      <td>2018-08-17 20:59:59</td>\n",
       "      <td>3.690737</td>\n",
       "      <td>12.546410</td>\n",
       "      <td>6.486781</td>\n",
       "      <td>44.837728</td>\n",
       "      <td>51.168934</td>\n",
       "      <td>8.764530</td>\n",
       "      <td>3.226070</td>\n",
       "      <td>9.722573</td>\n",
       "      <td>2.114178</td>\n",
       "      <td>...</td>\n",
       "      <td>23.008401</td>\n",
       "      <td>-500.482103</td>\n",
       "      <td>20.026673</td>\n",
       "      <td>-500.100963</td>\n",
       "      <td>18.031864</td>\n",
       "      <td>-499.141703</td>\n",
       "      <td>12.997776</td>\n",
       "      <td>-499.967224</td>\n",
       "      <td>19.983409</td>\n",
       "      <td>-520.407546</td>\n",
       "    </tr>\n",
       "    <tr>\n",
       "      <td>22702</td>\n",
       "      <td>2018-08-17 21:59:59</td>\n",
       "      <td>3.599454</td>\n",
       "      <td>12.308172</td>\n",
       "      <td>6.512304</td>\n",
       "      <td>45.477834</td>\n",
       "      <td>59.871040</td>\n",
       "      <td>8.882691</td>\n",
       "      <td>3.036575</td>\n",
       "      <td>9.421421</td>\n",
       "      <td>1.826293</td>\n",
       "      <td>...</td>\n",
       "      <td>22.988173</td>\n",
       "      <td>-500.989518</td>\n",
       "      <td>20.005718</td>\n",
       "      <td>-500.154032</td>\n",
       "      <td>17.987716</td>\n",
       "      <td>-501.022243</td>\n",
       "      <td>13.020843</td>\n",
       "      <td>-500.218430</td>\n",
       "      <td>20.011456</td>\n",
       "      <td>-499.842173</td>\n",
       "    </tr>\n",
       "    <tr>\n",
       "      <td>22703</td>\n",
       "      <td>2018-08-17 22:59:59</td>\n",
       "      <td>3.540800</td>\n",
       "      <td>12.423927</td>\n",
       "      <td>6.702631</td>\n",
       "      <td>45.323979</td>\n",
       "      <td>70.477689</td>\n",
       "      <td>8.866079</td>\n",
       "      <td>2.816357</td>\n",
       "      <td>9.838458</td>\n",
       "      <td>1.439220</td>\n",
       "      <td>...</td>\n",
       "      <td>23.036427</td>\n",
       "      <td>-500.990672</td>\n",
       "      <td>20.023346</td>\n",
       "      <td>-500.147796</td>\n",
       "      <td>18.010037</td>\n",
       "      <td>-500.299851</td>\n",
       "      <td>12.982786</td>\n",
       "      <td>-500.097885</td>\n",
       "      <td>20.003557</td>\n",
       "      <td>-506.135132</td>\n",
       "    </tr>\n",
       "    <tr>\n",
       "      <td>22704</td>\n",
       "      <td>2018-08-17 23:59:59</td>\n",
       "      <td>3.573966</td>\n",
       "      <td>12.199649</td>\n",
       "      <td>6.584768</td>\n",
       "      <td>45.440494</td>\n",
       "      <td>74.594019</td>\n",
       "      <td>9.042359</td>\n",
       "      <td>2.980534</td>\n",
       "      <td>9.737694</td>\n",
       "      <td>1.455128</td>\n",
       "      <td>...</td>\n",
       "      <td>23.011485</td>\n",
       "      <td>-500.714430</td>\n",
       "      <td>20.058045</td>\n",
       "      <td>-499.066195</td>\n",
       "      <td>17.990312</td>\n",
       "      <td>-499.278862</td>\n",
       "      <td>13.002126</td>\n",
       "      <td>-499.724599</td>\n",
       "      <td>20.004410</td>\n",
       "      <td>-500.347623</td>\n",
       "    </tr>\n",
       "    <tr>\n",
       "      <td>22705</td>\n",
       "      <td>2018-08-18 00:59:59</td>\n",
       "      <td>3.525247</td>\n",
       "      <td>12.121578</td>\n",
       "      <td>6.605982</td>\n",
       "      <td>45.785582</td>\n",
       "      <td>75.185602</td>\n",
       "      <td>9.041052</td>\n",
       "      <td>3.208360</td>\n",
       "      <td>9.792629</td>\n",
       "      <td>1.534906</td>\n",
       "      <td>...</td>\n",
       "      <td>23.035611</td>\n",
       "      <td>-501.134671</td>\n",
       "      <td>19.984883</td>\n",
       "      <td>-501.051735</td>\n",
       "      <td>17.948892</td>\n",
       "      <td>-500.147451</td>\n",
       "      <td>13.009772</td>\n",
       "      <td>-500.081309</td>\n",
       "      <td>20.012084</td>\n",
       "      <td>-501.651764</td>\n",
       "    </tr>\n",
       "    <tr>\n",
       "      <td>22706</td>\n",
       "      <td>2018-08-18 01:59:59</td>\n",
       "      <td>3.236759</td>\n",
       "      <td>11.692898</td>\n",
       "      <td>6.745979</td>\n",
       "      <td>46.225130</td>\n",
       "      <td>73.265872</td>\n",
       "      <td>8.895144</td>\n",
       "      <td>3.425167</td>\n",
       "      <td>10.118103</td>\n",
       "      <td>1.611159</td>\n",
       "      <td>...</td>\n",
       "      <td>23.015413</td>\n",
       "      <td>-501.287519</td>\n",
       "      <td>20.057415</td>\n",
       "      <td>-499.600478</td>\n",
       "      <td>17.985857</td>\n",
       "      <td>-500.239983</td>\n",
       "      <td>12.974452</td>\n",
       "      <td>-499.879930</td>\n",
       "      <td>19.988701</td>\n",
       "      <td>-501.037332</td>\n",
       "    </tr>\n",
       "    <tr>\n",
       "      <td>22707</td>\n",
       "      <td>2018-08-18 02:59:59</td>\n",
       "      <td>3.187398</td>\n",
       "      <td>11.423128</td>\n",
       "      <td>6.790500</td>\n",
       "      <td>46.801679</td>\n",
       "      <td>68.369674</td>\n",
       "      <td>9.043962</td>\n",
       "      <td>3.629573</td>\n",
       "      <td>10.037518</td>\n",
       "      <td>1.838214</td>\n",
       "      <td>...</td>\n",
       "      <td>23.017115</td>\n",
       "      <td>-501.665249</td>\n",
       "      <td>20.044418</td>\n",
       "      <td>-500.415095</td>\n",
       "      <td>18.026001</td>\n",
       "      <td>-499.866058</td>\n",
       "      <td>13.001740</td>\n",
       "      <td>-499.914235</td>\n",
       "      <td>20.005963</td>\n",
       "      <td>-500.767097</td>\n",
       "    </tr>\n",
       "    <tr>\n",
       "      <td>22708</td>\n",
       "      <td>2018-08-18 03:59:59</td>\n",
       "      <td>2.925574</td>\n",
       "      <td>10.855586</td>\n",
       "      <td>7.053796</td>\n",
       "      <td>47.765393</td>\n",
       "      <td>64.054699</td>\n",
       "      <td>8.578502</td>\n",
       "      <td>3.365823</td>\n",
       "      <td>10.603464</td>\n",
       "      <td>1.761994</td>\n",
       "      <td>...</td>\n",
       "      <td>23.030949</td>\n",
       "      <td>-501.196721</td>\n",
       "      <td>20.034440</td>\n",
       "      <td>-499.842047</td>\n",
       "      <td>18.001504</td>\n",
       "      <td>-499.872052</td>\n",
       "      <td>12.998309</td>\n",
       "      <td>-500.027809</td>\n",
       "      <td>20.007108</td>\n",
       "      <td>-500.850685</td>\n",
       "    </tr>\n",
       "    <tr>\n",
       "      <td>22709</td>\n",
       "      <td>2018-08-18 04:59:59</td>\n",
       "      <td>3.076566</td>\n",
       "      <td>11.542302</td>\n",
       "      <td>6.929418</td>\n",
       "      <td>46.956275</td>\n",
       "      <td>68.643324</td>\n",
       "      <td>8.792890</td>\n",
       "      <td>3.120351</td>\n",
       "      <td>10.184715</td>\n",
       "      <td>1.567363</td>\n",
       "      <td>...</td>\n",
       "      <td>23.033246</td>\n",
       "      <td>-500.912210</td>\n",
       "      <td>19.988437</td>\n",
       "      <td>-500.125966</td>\n",
       "      <td>18.011724</td>\n",
       "      <td>-500.090861</td>\n",
       "      <td>13.007108</td>\n",
       "      <td>-500.258238</td>\n",
       "      <td>19.983872</td>\n",
       "      <td>-502.581707</td>\n",
       "    </tr>\n",
       "    <tr>\n",
       "      <td>22710</td>\n",
       "      <td>2018-08-18 05:59:59</td>\n",
       "      <td>3.192996</td>\n",
       "      <td>11.612338</td>\n",
       "      <td>6.824441</td>\n",
       "      <td>46.710119</td>\n",
       "      <td>74.817644</td>\n",
       "      <td>8.665858</td>\n",
       "      <td>2.938592</td>\n",
       "      <td>10.241498</td>\n",
       "      <td>1.393077</td>\n",
       "      <td>...</td>\n",
       "      <td>22.993827</td>\n",
       "      <td>-501.559663</td>\n",
       "      <td>20.029144</td>\n",
       "      <td>-500.000662</td>\n",
       "      <td>18.012723</td>\n",
       "      <td>-500.024764</td>\n",
       "      <td>13.016445</td>\n",
       "      <td>-500.058432</td>\n",
       "      <td>19.973767</td>\n",
       "      <td>-501.394155</td>\n",
       "    </tr>\n",
       "    <tr>\n",
       "      <td>22711</td>\n",
       "      <td>2018-08-18 06:59:59</td>\n",
       "      <td>3.224920</td>\n",
       "      <td>11.356233</td>\n",
       "      <td>6.803482</td>\n",
       "      <td>46.713954</td>\n",
       "      <td>73.755150</td>\n",
       "      <td>8.769645</td>\n",
       "      <td>3.141541</td>\n",
       "      <td>10.403181</td>\n",
       "      <td>1.529220</td>\n",
       "      <td>...</td>\n",
       "      <td>23.031497</td>\n",
       "      <td>-501.167942</td>\n",
       "      <td>20.007571</td>\n",
       "      <td>-499.740028</td>\n",
       "      <td>18.006038</td>\n",
       "      <td>-499.834374</td>\n",
       "      <td>13.001114</td>\n",
       "      <td>-500.155694</td>\n",
       "      <td>20.007840</td>\n",
       "      <td>-501.296428</td>\n",
       "    </tr>\n",
       "    <tr>\n",
       "      <td>22712</td>\n",
       "      <td>2018-08-18 07:59:59</td>\n",
       "      <td>3.195978</td>\n",
       "      <td>11.349355</td>\n",
       "      <td>6.862249</td>\n",
       "      <td>46.866780</td>\n",
       "      <td>69.049291</td>\n",
       "      <td>8.897321</td>\n",
       "      <td>3.130493</td>\n",
       "      <td>10.549470</td>\n",
       "      <td>1.612542</td>\n",
       "      <td>...</td>\n",
       "      <td>22.960095</td>\n",
       "      <td>-501.612783</td>\n",
       "      <td>20.035660</td>\n",
       "      <td>-500.251357</td>\n",
       "      <td>17.998535</td>\n",
       "      <td>-500.395178</td>\n",
       "      <td>12.954048</td>\n",
       "      <td>-499.895163</td>\n",
       "      <td>19.968498</td>\n",
       "      <td>-501.041608</td>\n",
       "    </tr>\n",
       "    <tr>\n",
       "      <td>22713</td>\n",
       "      <td>2018-08-18 08:59:59</td>\n",
       "      <td>3.109998</td>\n",
       "      <td>11.434366</td>\n",
       "      <td>6.886013</td>\n",
       "      <td>46.795691</td>\n",
       "      <td>67.002189</td>\n",
       "      <td>8.529606</td>\n",
       "      <td>2.911418</td>\n",
       "      <td>11.115147</td>\n",
       "      <td>1.596616</td>\n",
       "      <td>...</td>\n",
       "      <td>23.015718</td>\n",
       "      <td>-501.711599</td>\n",
       "      <td>19.951231</td>\n",
       "      <td>-499.857027</td>\n",
       "      <td>18.019543</td>\n",
       "      <td>-500.451156</td>\n",
       "      <td>13.023431</td>\n",
       "      <td>-499.914391</td>\n",
       "      <td>19.990885</td>\n",
       "      <td>-501.518452</td>\n",
       "    </tr>\n",
       "    <tr>\n",
       "      <td>22714</td>\n",
       "      <td>2018-08-18 09:59:59</td>\n",
       "      <td>3.367241</td>\n",
       "      <td>11.625587</td>\n",
       "      <td>6.799433</td>\n",
       "      <td>46.408188</td>\n",
       "      <td>65.523246</td>\n",
       "      <td>8.777171</td>\n",
       "      <td>2.819214</td>\n",
       "      <td>10.463847</td>\n",
       "      <td>1.602879</td>\n",
       "      <td>...</td>\n",
       "      <td>23.024963</td>\n",
       "      <td>-501.153409</td>\n",
       "      <td>20.054122</td>\n",
       "      <td>-500.314711</td>\n",
       "      <td>17.979515</td>\n",
       "      <td>-499.272871</td>\n",
       "      <td>12.992404</td>\n",
       "      <td>-499.976268</td>\n",
       "      <td>20.013986</td>\n",
       "      <td>-500.625471</td>\n",
       "    </tr>\n",
       "    <tr>\n",
       "      <td>22715</td>\n",
       "      <td>2018-08-18 10:59:59</td>\n",
       "      <td>3.598375</td>\n",
       "      <td>11.737832</td>\n",
       "      <td>6.717509</td>\n",
       "      <td>46.299438</td>\n",
       "      <td>70.281454</td>\n",
       "      <td>8.406690</td>\n",
       "      <td>2.517518</td>\n",
       "      <td>10.652193</td>\n",
       "      <td>1.389434</td>\n",
       "      <td>...</td>\n",
       "      <td>23.018622</td>\n",
       "      <td>-500.492702</td>\n",
       "      <td>20.020205</td>\n",
       "      <td>-500.220296</td>\n",
       "      <td>17.963512</td>\n",
       "      <td>-499.939490</td>\n",
       "      <td>12.990306</td>\n",
       "      <td>-500.080993</td>\n",
       "      <td>19.990336</td>\n",
       "      <td>-499.191575</td>\n",
       "    </tr>\n",
       "  </tbody>\n",
       "</table>\n",
       "<p>30 rows × 87 columns</p>\n",
       "</div>"
      ],
      "text/plain": [
       "                      date  final.output.concentrate_ag  \\\n",
       "22686  2018-08-17 05:59:59                     3.575851   \n",
       "22687  2018-08-17 06:59:59                     3.676767   \n",
       "22688  2018-08-17 07:59:59                     3.571477   \n",
       "22689  2018-08-17 08:59:59                     3.651242   \n",
       "22690  2018-08-17 09:59:59                     3.991065   \n",
       "22691  2018-08-17 10:59:59                     4.894652   \n",
       "22692  2018-08-17 11:59:59                     4.827192   \n",
       "22693  2018-08-17 12:59:59                     4.515130   \n",
       "22694  2018-08-17 13:59:59                     4.108712   \n",
       "22695  2018-08-17 14:59:59                     3.861031   \n",
       "22696  2018-08-17 15:59:59                     3.769352   \n",
       "22697  2018-08-17 16:59:59                     3.680897   \n",
       "22698  2018-08-17 17:59:59                     3.500876   \n",
       "22699  2018-08-17 18:59:59                     3.163108   \n",
       "22700  2018-08-17 19:59:59                     3.467581   \n",
       "22701  2018-08-17 20:59:59                     3.690737   \n",
       "22702  2018-08-17 21:59:59                     3.599454   \n",
       "22703  2018-08-17 22:59:59                     3.540800   \n",
       "22704  2018-08-17 23:59:59                     3.573966   \n",
       "22705  2018-08-18 00:59:59                     3.525247   \n",
       "22706  2018-08-18 01:59:59                     3.236759   \n",
       "22707  2018-08-18 02:59:59                     3.187398   \n",
       "22708  2018-08-18 03:59:59                     2.925574   \n",
       "22709  2018-08-18 04:59:59                     3.076566   \n",
       "22710  2018-08-18 05:59:59                     3.192996   \n",
       "22711  2018-08-18 06:59:59                     3.224920   \n",
       "22712  2018-08-18 07:59:59                     3.195978   \n",
       "22713  2018-08-18 08:59:59                     3.109998   \n",
       "22714  2018-08-18 09:59:59                     3.367241   \n",
       "22715  2018-08-18 10:59:59                     3.598375   \n",
       "\n",
       "       final.output.concentrate_pb  final.output.concentrate_sol  \\\n",
       "22686                    11.907212                      6.802939   \n",
       "22687                    11.811546                      6.701614   \n",
       "22688                    11.612422                      6.819930   \n",
       "22689                    11.546264                      6.896616   \n",
       "22690                    11.599666                      6.905807   \n",
       "22691                    12.713174                      6.660313   \n",
       "22692                    12.974069                      6.641652   \n",
       "22693                    12.868653                      6.579353   \n",
       "22694                    12.666388                      6.563593   \n",
       "22695                    12.441737                      6.667624   \n",
       "22696                    12.653977                      6.733743   \n",
       "22697                    12.778424                      6.623745   \n",
       "22698                    12.522030                      6.666484   \n",
       "22699                    11.384970                      6.263301   \n",
       "22700                    12.198985                      6.695562   \n",
       "22701                    12.546410                      6.486781   \n",
       "22702                    12.308172                      6.512304   \n",
       "22703                    12.423927                      6.702631   \n",
       "22704                    12.199649                      6.584768   \n",
       "22705                    12.121578                      6.605982   \n",
       "22706                    11.692898                      6.745979   \n",
       "22707                    11.423128                      6.790500   \n",
       "22708                    10.855586                      7.053796   \n",
       "22709                    11.542302                      6.929418   \n",
       "22710                    11.612338                      6.824441   \n",
       "22711                    11.356233                      6.803482   \n",
       "22712                    11.349355                      6.862249   \n",
       "22713                    11.434366                      6.886013   \n",
       "22714                    11.625587                      6.799433   \n",
       "22715                    11.737832                      6.717509   \n",
       "\n",
       "       final.output.concentrate_au  final.output.recovery  \\\n",
       "22686                    45.444440              72.666035   \n",
       "22687                    45.626776              70.124520   \n",
       "22688                    45.868268              66.461188   \n",
       "22689                    45.942074              66.417292   \n",
       "22690                    45.073197              69.884868   \n",
       "22691                    41.924180              72.346428   \n",
       "22692                    41.821659              72.754450   \n",
       "22693                    42.645208              72.248239   \n",
       "22694                    43.687607              72.582287   \n",
       "22695                    44.339835              72.001394   \n",
       "22696                    44.621845              70.004249   \n",
       "22697                    44.636157              67.796293   \n",
       "22698                    45.068492              63.082720   \n",
       "22699                    42.962557              56.137031   \n",
       "22700                    45.630993              58.570570   \n",
       "22701                    44.837728              51.168934   \n",
       "22702                    45.477834              59.871040   \n",
       "22703                    45.323979              70.477689   \n",
       "22704                    45.440494              74.594019   \n",
       "22705                    45.785582              75.185602   \n",
       "22706                    46.225130              73.265872   \n",
       "22707                    46.801679              68.369674   \n",
       "22708                    47.765393              64.054699   \n",
       "22709                    46.956275              68.643324   \n",
       "22710                    46.710119              74.817644   \n",
       "22711                    46.713954              73.755150   \n",
       "22712                    46.866780              69.049291   \n",
       "22713                    46.795691              67.002189   \n",
       "22714                    46.408188              65.523246   \n",
       "22715                    46.299438              70.281454   \n",
       "\n",
       "       final.output.tail_ag  final.output.tail_pb  final.output.tail_sol  \\\n",
       "22686              9.478193              3.057374               9.797800   \n",
       "22687             10.101142              3.458313               9.202298   \n",
       "22688             10.346141              3.447106               9.025933   \n",
       "22689             10.080692              3.109990               9.244794   \n",
       "22690              9.654578              2.835589               9.375307   \n",
       "22691              9.274585              2.773309               9.499506   \n",
       "22692              9.504075              3.028277               9.111587   \n",
       "22693              9.501524              3.189444               9.023446   \n",
       "22694              9.320000              3.277720               9.397333   \n",
       "22695              8.752653              3.258726              10.303485   \n",
       "22696              9.538939              3.572824               9.344995   \n",
       "22697              9.558624              3.617360               9.210683   \n",
       "22698              9.012745              3.513789              10.392631   \n",
       "22699              8.409223              3.245894               9.343320   \n",
       "22700              8.694564              3.174479               9.993155   \n",
       "22701              8.764530              3.226070               9.722573   \n",
       "22702              8.882691              3.036575               9.421421   \n",
       "22703              8.866079              2.816357               9.838458   \n",
       "22704              9.042359              2.980534               9.737694   \n",
       "22705              9.041052              3.208360               9.792629   \n",
       "22706              8.895144              3.425167              10.118103   \n",
       "22707              9.043962              3.629573              10.037518   \n",
       "22708              8.578502              3.365823              10.603464   \n",
       "22709              8.792890              3.120351              10.184715   \n",
       "22710              8.665858              2.938592              10.241498   \n",
       "22711              8.769645              3.141541              10.403181   \n",
       "22712              8.897321              3.130493              10.549470   \n",
       "22713              8.529606              2.911418              11.115147   \n",
       "22714              8.777171              2.819214              10.463847   \n",
       "22715              8.406690              2.517518              10.652193   \n",
       "\n",
       "       final.output.tail_au  ...  secondary_cleaner.state.floatbank4_a_air  \\\n",
       "22686              1.731699  ...                                 23.021990   \n",
       "22687              1.985746  ...                                 23.001575   \n",
       "22688              2.037761  ...                                 23.007388   \n",
       "22689              1.941038  ...                                 23.004905   \n",
       "22690              1.713933  ...                                 23.005506   \n",
       "22691              1.593406  ...                                 22.981693   \n",
       "22692              1.632850  ...                                 23.024332   \n",
       "22693              1.696612  ...                                 22.994118   \n",
       "22694              1.678070  ...                                 23.014369   \n",
       "22695              1.742921  ...                                 23.025088   \n",
       "22696              1.846842  ...                                 23.018880   \n",
       "22697              1.975891  ...                                 23.022083   \n",
       "22698              2.047201  ...                                 23.032807   \n",
       "22699              2.058186  ...                                 22.983029   \n",
       "22700              1.987334  ...                                 23.038847   \n",
       "22701              2.114178  ...                                 23.008401   \n",
       "22702              1.826293  ...                                 22.988173   \n",
       "22703              1.439220  ...                                 23.036427   \n",
       "22704              1.455128  ...                                 23.011485   \n",
       "22705              1.534906  ...                                 23.035611   \n",
       "22706              1.611159  ...                                 23.015413   \n",
       "22707              1.838214  ...                                 23.017115   \n",
       "22708              1.761994  ...                                 23.030949   \n",
       "22709              1.567363  ...                                 23.033246   \n",
       "22710              1.393077  ...                                 22.993827   \n",
       "22711              1.529220  ...                                 23.031497   \n",
       "22712              1.612542  ...                                 22.960095   \n",
       "22713              1.596616  ...                                 23.015718   \n",
       "22714              1.602879  ...                                 23.024963   \n",
       "22715              1.389434  ...                                 23.018622   \n",
       "\n",
       "       secondary_cleaner.state.floatbank4_a_level  \\\n",
       "22686                                 -501.491291   \n",
       "22687                                 -500.731390   \n",
       "22688                                 -500.709707   \n",
       "22689                                 -500.241069   \n",
       "22690                                 -500.379181   \n",
       "22691                                 -500.375436   \n",
       "22692                                 -501.673294   \n",
       "22693                                 -500.717182   \n",
       "22694                                 -500.212424   \n",
       "22695                                 -501.311668   \n",
       "22696                                 -500.910903   \n",
       "22697                                 -501.108490   \n",
       "22698                                 -501.287889   \n",
       "22699                                 -500.471907   \n",
       "22700                                 -501.385545   \n",
       "22701                                 -500.482103   \n",
       "22702                                 -500.989518   \n",
       "22703                                 -500.990672   \n",
       "22704                                 -500.714430   \n",
       "22705                                 -501.134671   \n",
       "22706                                 -501.287519   \n",
       "22707                                 -501.665249   \n",
       "22708                                 -501.196721   \n",
       "22709                                 -500.912210   \n",
       "22710                                 -501.559663   \n",
       "22711                                 -501.167942   \n",
       "22712                                 -501.612783   \n",
       "22713                                 -501.711599   \n",
       "22714                                 -501.153409   \n",
       "22715                                 -500.492702   \n",
       "\n",
       "       secondary_cleaner.state.floatbank4_b_air  \\\n",
       "22686                                 20.081289   \n",
       "22687                                 19.995845   \n",
       "22688                                 20.063421   \n",
       "22689                                 20.019732   \n",
       "22690                                 20.016167   \n",
       "22691                                 20.045049   \n",
       "22692                                 20.052960   \n",
       "22693                                 19.980870   \n",
       "22694                                 19.992876   \n",
       "22695                                 20.031273   \n",
       "22696                                 19.973517   \n",
       "22697                                 20.018146   \n",
       "22698                                 19.977466   \n",
       "22699                                 19.992177   \n",
       "22700                                 20.031048   \n",
       "22701                                 20.026673   \n",
       "22702                                 20.005718   \n",
       "22703                                 20.023346   \n",
       "22704                                 20.058045   \n",
       "22705                                 19.984883   \n",
       "22706                                 20.057415   \n",
       "22707                                 20.044418   \n",
       "22708                                 20.034440   \n",
       "22709                                 19.988437   \n",
       "22710                                 20.029144   \n",
       "22711                                 20.007571   \n",
       "22712                                 20.035660   \n",
       "22713                                 19.951231   \n",
       "22714                                 20.054122   \n",
       "22715                                 20.020205   \n",
       "\n",
       "       secondary_cleaner.state.floatbank4_b_level  \\\n",
       "22686                                 -500.659152   \n",
       "22687                                 -499.827275   \n",
       "22688                                 -500.286289   \n",
       "22689                                 -499.381247   \n",
       "22690                                 -500.494647   \n",
       "22691                                 -499.630463   \n",
       "22692                                 -500.448548   \n",
       "22693                                 -499.580871   \n",
       "22694                                 -499.888065   \n",
       "22695                                 -500.674430   \n",
       "22696                                 -499.414252   \n",
       "22697                                 -500.739493   \n",
       "22698                                 -500.159903   \n",
       "22699                                 -499.841426   \n",
       "22700                                 -500.151459   \n",
       "22701                                 -500.100963   \n",
       "22702                                 -500.154032   \n",
       "22703                                 -500.147796   \n",
       "22704                                 -499.066195   \n",
       "22705                                 -501.051735   \n",
       "22706                                 -499.600478   \n",
       "22707                                 -500.415095   \n",
       "22708                                 -499.842047   \n",
       "22709                                 -500.125966   \n",
       "22710                                 -500.000662   \n",
       "22711                                 -499.740028   \n",
       "22712                                 -500.251357   \n",
       "22713                                 -499.857027   \n",
       "22714                                 -500.314711   \n",
       "22715                                 -500.220296   \n",
       "\n",
       "       secondary_cleaner.state.floatbank5_a_air  \\\n",
       "22686                                 17.985410   \n",
       "22687                                 18.021047   \n",
       "22688                                 18.033292   \n",
       "22689                                 17.964550   \n",
       "22690                                 18.001244   \n",
       "22691                                 18.008026   \n",
       "22692                                 17.997242   \n",
       "22693                                 18.012514   \n",
       "22694                                 17.977496   \n",
       "22695                                 17.953446   \n",
       "22696                                 17.957036   \n",
       "22697                                 17.998088   \n",
       "22698                                 17.980463   \n",
       "22699                                 17.995858   \n",
       "22700                                 17.998732   \n",
       "22701                                 18.031864   \n",
       "22702                                 17.987716   \n",
       "22703                                 18.010037   \n",
       "22704                                 17.990312   \n",
       "22705                                 17.948892   \n",
       "22706                                 17.985857   \n",
       "22707                                 18.026001   \n",
       "22708                                 18.001504   \n",
       "22709                                 18.011724   \n",
       "22710                                 18.012723   \n",
       "22711                                 18.006038   \n",
       "22712                                 17.998535   \n",
       "22713                                 18.019543   \n",
       "22714                                 17.979515   \n",
       "22715                                 17.963512   \n",
       "\n",
       "       secondary_cleaner.state.floatbank5_a_level  \\\n",
       "22686                                 -500.023766   \n",
       "22687                                 -499.853567   \n",
       "22688                                 -498.564918   \n",
       "22689                                 -500.668205   \n",
       "22690                                 -500.340417   \n",
       "22691                                 -500.690545   \n",
       "22692                                 -500.720112   \n",
       "22693                                 -500.066290   \n",
       "22694                                 -499.967811   \n",
       "22695                                 -500.681679   \n",
       "22696                                 -499.519333   \n",
       "22697                                 -500.267224   \n",
       "22698                                 -500.504602   \n",
       "22699                                 -499.881287   \n",
       "22700                                 -500.375117   \n",
       "22701                                 -499.141703   \n",
       "22702                                 -501.022243   \n",
       "22703                                 -500.299851   \n",
       "22704                                 -499.278862   \n",
       "22705                                 -500.147451   \n",
       "22706                                 -500.239983   \n",
       "22707                                 -499.866058   \n",
       "22708                                 -499.872052   \n",
       "22709                                 -500.090861   \n",
       "22710                                 -500.024764   \n",
       "22711                                 -499.834374   \n",
       "22712                                 -500.395178   \n",
       "22713                                 -500.451156   \n",
       "22714                                 -499.272871   \n",
       "22715                                 -499.939490   \n",
       "\n",
       "       secondary_cleaner.state.floatbank5_b_air  \\\n",
       "22686                                 13.016793   \n",
       "22687                                 12.971879   \n",
       "22688                                 12.961688   \n",
       "22689                                 13.006377   \n",
       "22690                                 12.987431   \n",
       "22691                                 12.994990   \n",
       "22692                                 13.010501   \n",
       "22693                                 12.999451   \n",
       "22694                                 12.954171   \n",
       "22695                                 13.013927   \n",
       "22696                                 12.995216   \n",
       "22697                                 12.995547   \n",
       "22698                                 12.949071   \n",
       "22699                                 13.040699   \n",
       "22700                                 13.022033   \n",
       "22701                                 12.997776   \n",
       "22702                                 13.020843   \n",
       "22703                                 12.982786   \n",
       "22704                                 13.002126   \n",
       "22705                                 13.009772   \n",
       "22706                                 12.974452   \n",
       "22707                                 13.001740   \n",
       "22708                                 12.998309   \n",
       "22709                                 13.007108   \n",
       "22710                                 13.016445   \n",
       "22711                                 13.001114   \n",
       "22712                                 12.954048   \n",
       "22713                                 13.023431   \n",
       "22714                                 12.992404   \n",
       "22715                                 12.990306   \n",
       "\n",
       "       secondary_cleaner.state.floatbank5_b_level  \\\n",
       "22686                                 -499.968020   \n",
       "22687                                 -500.117227   \n",
       "22688                                 -499.930240   \n",
       "22689                                 -500.012333   \n",
       "22690                                 -499.878309   \n",
       "22691                                 -500.075004   \n",
       "22692                                 -499.626615   \n",
       "22693                                 -500.008828   \n",
       "22694                                 -500.260455   \n",
       "22695                                 -500.258257   \n",
       "22696                                 -500.030232   \n",
       "22697                                 -500.179650   \n",
       "22698                                 -500.009937   \n",
       "22699                                 -500.102011   \n",
       "22700                                 -500.018178   \n",
       "22701                                 -499.967224   \n",
       "22702                                 -500.218430   \n",
       "22703                                 -500.097885   \n",
       "22704                                 -499.724599   \n",
       "22705                                 -500.081309   \n",
       "22706                                 -499.879930   \n",
       "22707                                 -499.914235   \n",
       "22708                                 -500.027809   \n",
       "22709                                 -500.258238   \n",
       "22710                                 -500.058432   \n",
       "22711                                 -500.155694   \n",
       "22712                                 -499.895163   \n",
       "22713                                 -499.914391   \n",
       "22714                                 -499.976268   \n",
       "22715                                 -500.080993   \n",
       "\n",
       "       secondary_cleaner.state.floatbank6_a_air  \\\n",
       "22686                                 20.010051   \n",
       "22687                                 19.998784   \n",
       "22688                                 20.002626   \n",
       "22689                                 19.986553   \n",
       "22690                                 19.971031   \n",
       "22691                                 19.987483   \n",
       "22692                                 19.995955   \n",
       "22693                                 20.015172   \n",
       "22694                                 19.983515   \n",
       "22695                                 20.012671   \n",
       "22696                                 19.983372   \n",
       "22697                                 19.985572   \n",
       "22698                                 20.010332   \n",
       "22699                                 19.978991   \n",
       "22700                                 20.004434   \n",
       "22701                                 19.983409   \n",
       "22702                                 20.011456   \n",
       "22703                                 20.003557   \n",
       "22704                                 20.004410   \n",
       "22705                                 20.012084   \n",
       "22706                                 19.988701   \n",
       "22707                                 20.005963   \n",
       "22708                                 20.007108   \n",
       "22709                                 19.983872   \n",
       "22710                                 19.973767   \n",
       "22711                                 20.007840   \n",
       "22712                                 19.968498   \n",
       "22713                                 19.990885   \n",
       "22714                                 20.013986   \n",
       "22715                                 19.990336   \n",
       "\n",
       "       secondary_cleaner.state.floatbank6_a_level  \n",
       "22686                                 -500.549456  \n",
       "22687                                 -500.926436  \n",
       "22688                                 -498.541530  \n",
       "22689                                 -499.845622  \n",
       "22690                                 -500.525421  \n",
       "22691                                 -501.548787  \n",
       "22692                                 -502.213469  \n",
       "22693                                 -501.271089  \n",
       "22694                                 -503.243695  \n",
       "22695                                 -505.750254  \n",
       "22696                                 -509.060146  \n",
       "22697                                 -501.375774  \n",
       "22698                                 -508.337973  \n",
       "22699                                 -506.154599  \n",
       "22700                                 -507.317080  \n",
       "22701                                 -520.407546  \n",
       "22702                                 -499.842173  \n",
       "22703                                 -506.135132  \n",
       "22704                                 -500.347623  \n",
       "22705                                 -501.651764  \n",
       "22706                                 -501.037332  \n",
       "22707                                 -500.767097  \n",
       "22708                                 -500.850685  \n",
       "22709                                 -502.581707  \n",
       "22710                                 -501.394155  \n",
       "22711                                 -501.296428  \n",
       "22712                                 -501.041608  \n",
       "22713                                 -501.518452  \n",
       "22714                                 -500.625471  \n",
       "22715                                 -499.191575  \n",
       "\n",
       "[30 rows x 87 columns]"
      ]
     },
     "metadata": {},
     "output_type": "display_data"
    }
   ],
   "source": [
    "display(full_data.tail(30))"
   ]
  },
  {
   "cell_type": "markdown",
   "metadata": {},
   "source": [
    "The `full_data` has 22716 rows and 87 columns. It has missing values. The parameter `rougher.output.recovery` has the highest percentage of missing values, which is 13.73%."
   ]
  },
  {
   "cell_type": "code",
   "execution_count": 6,
   "metadata": {},
   "outputs": [
    {
     "name": "stdout",
     "output_type": "stream",
     "text": [
      "rougher.output.recovery                     13.730410\n",
      "rougher.output.tail_ag                      12.048776\n",
      "rougher.output.tail_sol                     12.044374\n",
      "rougher.output.tail_au                      12.044374\n",
      "rougher.input.floatbank11_xanthate           9.935728\n",
      "                                              ...    \n",
      "primary_cleaner.state.floatbank8_b_level     0.189294\n",
      "primary_cleaner.state.floatbank8_c_level     0.189294\n",
      "primary_cleaner.state.floatbank8_d_level     0.189294\n",
      "primary_cleaner.input.feed_size              0.000000\n",
      "date                                         0.000000\n",
      "Length: 87, dtype: float64\n"
     ]
    }
   ],
   "source": [
    "full_data_missing_perct = (full_data.isna().sum())/full_data.shape[0]*100\n",
    "print(full_data_missing_perct.sort_values(ascending=False))"
   ]
  },
  {
   "cell_type": "markdown",
   "metadata": {},
   "source": [
    "Next, let's look at `train_data`."
   ]
  },
  {
   "cell_type": "code",
   "execution_count": 7,
   "metadata": {
    "scrolled": false
   },
   "outputs": [
    {
     "name": "stdout",
     "output_type": "stream",
     "text": [
      "<class 'pandas.core.frame.DataFrame'>\n",
      "RangeIndex: 16860 entries, 0 to 16859\n",
      "Data columns (total 87 columns):\n",
      "date                                                  16860 non-null object\n",
      "final.output.concentrate_ag                           16788 non-null float64\n",
      "final.output.concentrate_pb                           16788 non-null float64\n",
      "final.output.concentrate_sol                          16490 non-null float64\n",
      "final.output.concentrate_au                           16789 non-null float64\n",
      "final.output.recovery                                 15339 non-null float64\n",
      "final.output.tail_ag                                  16794 non-null float64\n",
      "final.output.tail_pb                                  16677 non-null float64\n",
      "final.output.tail_sol                                 16715 non-null float64\n",
      "final.output.tail_au                                  16794 non-null float64\n",
      "primary_cleaner.input.sulfate                         15553 non-null float64\n",
      "primary_cleaner.input.depressant                      15598 non-null float64\n",
      "primary_cleaner.input.feed_size                       16860 non-null float64\n",
      "primary_cleaner.input.xanthate                        15875 non-null float64\n",
      "primary_cleaner.output.concentrate_ag                 16778 non-null float64\n",
      "primary_cleaner.output.concentrate_pb                 16502 non-null float64\n",
      "primary_cleaner.output.concentrate_sol                16224 non-null float64\n",
      "primary_cleaner.output.concentrate_au                 16778 non-null float64\n",
      "primary_cleaner.output.tail_ag                        16777 non-null float64\n",
      "primary_cleaner.output.tail_pb                        16761 non-null float64\n",
      "primary_cleaner.output.tail_sol                       16579 non-null float64\n",
      "primary_cleaner.output.tail_au                        16777 non-null float64\n",
      "primary_cleaner.state.floatbank8_a_air                16820 non-null float64\n",
      "primary_cleaner.state.floatbank8_a_level              16827 non-null float64\n",
      "primary_cleaner.state.floatbank8_b_air                16820 non-null float64\n",
      "primary_cleaner.state.floatbank8_b_level              16833 non-null float64\n",
      "primary_cleaner.state.floatbank8_c_air                16822 non-null float64\n",
      "primary_cleaner.state.floatbank8_c_level              16833 non-null float64\n",
      "primary_cleaner.state.floatbank8_d_air                16821 non-null float64\n",
      "primary_cleaner.state.floatbank8_d_level              16833 non-null float64\n",
      "rougher.calculation.sulfate_to_au_concentrate         16833 non-null float64\n",
      "rougher.calculation.floatbank10_sulfate_to_au_feed    16833 non-null float64\n",
      "rougher.calculation.floatbank11_sulfate_to_au_feed    16833 non-null float64\n",
      "rougher.calculation.au_pb_ratio                       15618 non-null float64\n",
      "rougher.input.feed_ag                                 16778 non-null float64\n",
      "rougher.input.feed_pb                                 16632 non-null float64\n",
      "rougher.input.feed_rate                               16347 non-null float64\n",
      "rougher.input.feed_size                               16443 non-null float64\n",
      "rougher.input.feed_sol                                16568 non-null float64\n",
      "rougher.input.feed_au                                 16777 non-null float64\n",
      "rougher.input.floatbank10_sulfate                     15816 non-null float64\n",
      "rougher.input.floatbank10_xanthate                    16514 non-null float64\n",
      "rougher.input.floatbank11_sulfate                     16237 non-null float64\n",
      "rougher.input.floatbank11_xanthate                    14956 non-null float64\n",
      "rougher.output.concentrate_ag                         16778 non-null float64\n",
      "rougher.output.concentrate_pb                         16778 non-null float64\n",
      "rougher.output.concentrate_sol                        16698 non-null float64\n",
      "rougher.output.concentrate_au                         16778 non-null float64\n",
      "rougher.output.recovery                               14287 non-null float64\n",
      "rougher.output.tail_ag                                14610 non-null float64\n",
      "rougher.output.tail_pb                                16778 non-null float64\n",
      "rougher.output.tail_sol                               14611 non-null float64\n",
      "rougher.output.tail_au                                14611 non-null float64\n",
      "rougher.state.floatbank10_a_air                       16807 non-null float64\n",
      "rougher.state.floatbank10_a_level                     16807 non-null float64\n",
      "rougher.state.floatbank10_b_air                       16807 non-null float64\n",
      "rougher.state.floatbank10_b_level                     16807 non-null float64\n",
      "rougher.state.floatbank10_c_air                       16807 non-null float64\n",
      "rougher.state.floatbank10_c_level                     16814 non-null float64\n",
      "rougher.state.floatbank10_d_air                       16802 non-null float64\n",
      "rougher.state.floatbank10_d_level                     16809 non-null float64\n",
      "rougher.state.floatbank10_e_air                       16257 non-null float64\n",
      "rougher.state.floatbank10_e_level                     16809 non-null float64\n",
      "rougher.state.floatbank10_f_air                       16802 non-null float64\n",
      "rougher.state.floatbank10_f_level                     16802 non-null float64\n",
      "secondary_cleaner.output.tail_ag                      16776 non-null float64\n",
      "secondary_cleaner.output.tail_pb                      16764 non-null float64\n",
      "secondary_cleaner.output.tail_sol                     14874 non-null float64\n",
      "secondary_cleaner.output.tail_au                      16778 non-null float64\n",
      "secondary_cleaner.state.floatbank2_a_air              16497 non-null float64\n",
      "secondary_cleaner.state.floatbank2_a_level            16751 non-null float64\n",
      "secondary_cleaner.state.floatbank2_b_air              16705 non-null float64\n",
      "secondary_cleaner.state.floatbank2_b_level            16748 non-null float64\n",
      "secondary_cleaner.state.floatbank3_a_air              16763 non-null float64\n",
      "secondary_cleaner.state.floatbank3_a_level            16747 non-null float64\n",
      "secondary_cleaner.state.floatbank3_b_air              16752 non-null float64\n",
      "secondary_cleaner.state.floatbank3_b_level            16750 non-null float64\n",
      "secondary_cleaner.state.floatbank4_a_air              16731 non-null float64\n",
      "secondary_cleaner.state.floatbank4_a_level            16747 non-null float64\n",
      "secondary_cleaner.state.floatbank4_b_air              16768 non-null float64\n",
      "secondary_cleaner.state.floatbank4_b_level            16767 non-null float64\n",
      "secondary_cleaner.state.floatbank5_a_air              16775 non-null float64\n",
      "secondary_cleaner.state.floatbank5_a_level            16775 non-null float64\n",
      "secondary_cleaner.state.floatbank5_b_air              16775 non-null float64\n",
      "secondary_cleaner.state.floatbank5_b_level            16776 non-null float64\n",
      "secondary_cleaner.state.floatbank6_a_air              16757 non-null float64\n",
      "secondary_cleaner.state.floatbank6_a_level            16775 non-null float64\n",
      "dtypes: float64(86), object(1)\n",
      "memory usage: 11.2+ MB\n"
     ]
    }
   ],
   "source": [
    "train_data.info() \n"
   ]
  },
  {
   "cell_type": "code",
   "execution_count": 8,
   "metadata": {
    "scrolled": true
   },
   "outputs": [
    {
     "data": {
      "text/html": [
       "<div>\n",
       "<style scoped>\n",
       "    .dataframe tbody tr th:only-of-type {\n",
       "        vertical-align: middle;\n",
       "    }\n",
       "\n",
       "    .dataframe tbody tr th {\n",
       "        vertical-align: top;\n",
       "    }\n",
       "\n",
       "    .dataframe thead th {\n",
       "        text-align: right;\n",
       "    }\n",
       "</style>\n",
       "<table border=\"1\" class=\"dataframe\">\n",
       "  <thead>\n",
       "    <tr style=\"text-align: right;\">\n",
       "      <th></th>\n",
       "      <th>date</th>\n",
       "      <th>final.output.concentrate_ag</th>\n",
       "      <th>final.output.concentrate_pb</th>\n",
       "      <th>final.output.concentrate_sol</th>\n",
       "      <th>final.output.concentrate_au</th>\n",
       "      <th>final.output.recovery</th>\n",
       "      <th>final.output.tail_ag</th>\n",
       "      <th>final.output.tail_pb</th>\n",
       "      <th>final.output.tail_sol</th>\n",
       "      <th>final.output.tail_au</th>\n",
       "      <th>...</th>\n",
       "      <th>secondary_cleaner.state.floatbank4_a_air</th>\n",
       "      <th>secondary_cleaner.state.floatbank4_a_level</th>\n",
       "      <th>secondary_cleaner.state.floatbank4_b_air</th>\n",
       "      <th>secondary_cleaner.state.floatbank4_b_level</th>\n",
       "      <th>secondary_cleaner.state.floatbank5_a_air</th>\n",
       "      <th>secondary_cleaner.state.floatbank5_a_level</th>\n",
       "      <th>secondary_cleaner.state.floatbank5_b_air</th>\n",
       "      <th>secondary_cleaner.state.floatbank5_b_level</th>\n",
       "      <th>secondary_cleaner.state.floatbank6_a_air</th>\n",
       "      <th>secondary_cleaner.state.floatbank6_a_level</th>\n",
       "    </tr>\n",
       "  </thead>\n",
       "  <tbody>\n",
       "    <tr>\n",
       "      <td>0</td>\n",
       "      <td>2016-01-15 00:00:00</td>\n",
       "      <td>6.055403</td>\n",
       "      <td>9.889648</td>\n",
       "      <td>5.507324</td>\n",
       "      <td>42.192020</td>\n",
       "      <td>70.541216</td>\n",
       "      <td>10.411962</td>\n",
       "      <td>0.895447</td>\n",
       "      <td>16.904297</td>\n",
       "      <td>2.143149</td>\n",
       "      <td>...</td>\n",
       "      <td>14.016835</td>\n",
       "      <td>-502.488007</td>\n",
       "      <td>12.099931</td>\n",
       "      <td>-504.715942</td>\n",
       "      <td>9.925633</td>\n",
       "      <td>-498.310211</td>\n",
       "      <td>8.079666</td>\n",
       "      <td>-500.470978</td>\n",
       "      <td>14.151341</td>\n",
       "      <td>-605.841980</td>\n",
       "    </tr>\n",
       "    <tr>\n",
       "      <td>1</td>\n",
       "      <td>2016-01-15 01:00:00</td>\n",
       "      <td>6.029369</td>\n",
       "      <td>9.968944</td>\n",
       "      <td>5.257781</td>\n",
       "      <td>42.701629</td>\n",
       "      <td>69.266198</td>\n",
       "      <td>10.462676</td>\n",
       "      <td>0.927452</td>\n",
       "      <td>16.634514</td>\n",
       "      <td>2.224930</td>\n",
       "      <td>...</td>\n",
       "      <td>13.992281</td>\n",
       "      <td>-505.503262</td>\n",
       "      <td>11.950531</td>\n",
       "      <td>-501.331529</td>\n",
       "      <td>10.039245</td>\n",
       "      <td>-500.169983</td>\n",
       "      <td>7.984757</td>\n",
       "      <td>-500.582168</td>\n",
       "      <td>13.998353</td>\n",
       "      <td>-599.787184</td>\n",
       "    </tr>\n",
       "    <tr>\n",
       "      <td>2</td>\n",
       "      <td>2016-01-15 02:00:00</td>\n",
       "      <td>6.055926</td>\n",
       "      <td>10.213995</td>\n",
       "      <td>5.383759</td>\n",
       "      <td>42.657501</td>\n",
       "      <td>68.116445</td>\n",
       "      <td>10.507046</td>\n",
       "      <td>0.953716</td>\n",
       "      <td>16.208849</td>\n",
       "      <td>2.257889</td>\n",
       "      <td>...</td>\n",
       "      <td>14.015015</td>\n",
       "      <td>-502.520901</td>\n",
       "      <td>11.912783</td>\n",
       "      <td>-501.133383</td>\n",
       "      <td>10.070913</td>\n",
       "      <td>-500.129135</td>\n",
       "      <td>8.013877</td>\n",
       "      <td>-500.517572</td>\n",
       "      <td>14.028663</td>\n",
       "      <td>-601.427363</td>\n",
       "    </tr>\n",
       "    <tr>\n",
       "      <td>3</td>\n",
       "      <td>2016-01-15 03:00:00</td>\n",
       "      <td>6.047977</td>\n",
       "      <td>9.977019</td>\n",
       "      <td>4.858634</td>\n",
       "      <td>42.689819</td>\n",
       "      <td>68.347543</td>\n",
       "      <td>10.422762</td>\n",
       "      <td>0.883763</td>\n",
       "      <td>16.532835</td>\n",
       "      <td>2.146849</td>\n",
       "      <td>...</td>\n",
       "      <td>14.036510</td>\n",
       "      <td>-500.857308</td>\n",
       "      <td>11.999550</td>\n",
       "      <td>-501.193686</td>\n",
       "      <td>9.970366</td>\n",
       "      <td>-499.201640</td>\n",
       "      <td>7.977324</td>\n",
       "      <td>-500.255908</td>\n",
       "      <td>14.005551</td>\n",
       "      <td>-599.996129</td>\n",
       "    </tr>\n",
       "    <tr>\n",
       "      <td>4</td>\n",
       "      <td>2016-01-15 04:00:00</td>\n",
       "      <td>6.148599</td>\n",
       "      <td>10.142511</td>\n",
       "      <td>4.939416</td>\n",
       "      <td>42.774141</td>\n",
       "      <td>66.927016</td>\n",
       "      <td>10.360302</td>\n",
       "      <td>0.792826</td>\n",
       "      <td>16.525686</td>\n",
       "      <td>2.055292</td>\n",
       "      <td>...</td>\n",
       "      <td>14.027298</td>\n",
       "      <td>-499.838632</td>\n",
       "      <td>11.953070</td>\n",
       "      <td>-501.053894</td>\n",
       "      <td>9.925709</td>\n",
       "      <td>-501.686727</td>\n",
       "      <td>7.894242</td>\n",
       "      <td>-500.356035</td>\n",
       "      <td>13.996647</td>\n",
       "      <td>-601.496691</td>\n",
       "    </tr>\n",
       "    <tr>\n",
       "      <td>5</td>\n",
       "      <td>2016-01-15 05:00:00</td>\n",
       "      <td>6.482968</td>\n",
       "      <td>10.049416</td>\n",
       "      <td>5.480257</td>\n",
       "      <td>41.633678</td>\n",
       "      <td>69.465816</td>\n",
       "      <td>10.182708</td>\n",
       "      <td>0.664118</td>\n",
       "      <td>16.999638</td>\n",
       "      <td>1.918586</td>\n",
       "      <td>...</td>\n",
       "      <td>13.938497</td>\n",
       "      <td>-500.970168</td>\n",
       "      <td>11.883350</td>\n",
       "      <td>-500.395298</td>\n",
       "      <td>10.054147</td>\n",
       "      <td>-496.374715</td>\n",
       "      <td>7.965083</td>\n",
       "      <td>-499.364752</td>\n",
       "      <td>14.017067</td>\n",
       "      <td>-599.707915</td>\n",
       "    </tr>\n",
       "    <tr>\n",
       "      <td>6</td>\n",
       "      <td>2016-01-15 06:00:00</td>\n",
       "      <td>6.533849</td>\n",
       "      <td>10.058141</td>\n",
       "      <td>4.569100</td>\n",
       "      <td>41.995316</td>\n",
       "      <td>69.300835</td>\n",
       "      <td>10.304598</td>\n",
       "      <td>0.807342</td>\n",
       "      <td>16.723575</td>\n",
       "      <td>2.058913</td>\n",
       "      <td>...</td>\n",
       "      <td>14.046819</td>\n",
       "      <td>-500.971133</td>\n",
       "      <td>12.091543</td>\n",
       "      <td>-500.501426</td>\n",
       "      <td>10.003247</td>\n",
       "      <td>-497.083180</td>\n",
       "      <td>8.010890</td>\n",
       "      <td>-500.002423</td>\n",
       "      <td>14.029649</td>\n",
       "      <td>-600.905470</td>\n",
       "    </tr>\n",
       "    <tr>\n",
       "      <td>7</td>\n",
       "      <td>2016-01-15 07:00:00</td>\n",
       "      <td>6.130823</td>\n",
       "      <td>9.935481</td>\n",
       "      <td>4.389813</td>\n",
       "      <td>42.452727</td>\n",
       "      <td>70.230976</td>\n",
       "      <td>10.443288</td>\n",
       "      <td>0.949346</td>\n",
       "      <td>16.689959</td>\n",
       "      <td>2.143437</td>\n",
       "      <td>...</td>\n",
       "      <td>13.974691</td>\n",
       "      <td>-501.819696</td>\n",
       "      <td>12.101324</td>\n",
       "      <td>-500.583446</td>\n",
       "      <td>9.873169</td>\n",
       "      <td>-499.171928</td>\n",
       "      <td>7.993381</td>\n",
       "      <td>-499.794518</td>\n",
       "      <td>13.984498</td>\n",
       "      <td>-600.411070</td>\n",
       "    </tr>\n",
       "    <tr>\n",
       "      <td>8</td>\n",
       "      <td>2016-01-15 08:00:00</td>\n",
       "      <td>5.834140</td>\n",
       "      <td>10.071156</td>\n",
       "      <td>4.876389</td>\n",
       "      <td>43.404078</td>\n",
       "      <td>69.688595</td>\n",
       "      <td>10.420140</td>\n",
       "      <td>1.065453</td>\n",
       "      <td>17.201948</td>\n",
       "      <td>2.209881</td>\n",
       "      <td>...</td>\n",
       "      <td>13.964030</td>\n",
       "      <td>-504.252450</td>\n",
       "      <td>12.060738</td>\n",
       "      <td>-501.174549</td>\n",
       "      <td>10.033838</td>\n",
       "      <td>-501.178133</td>\n",
       "      <td>7.881604</td>\n",
       "      <td>-499.729434</td>\n",
       "      <td>13.967135</td>\n",
       "      <td>-599.061188</td>\n",
       "    </tr>\n",
       "    <tr>\n",
       "      <td>9</td>\n",
       "      <td>2016-01-15 09:00:00</td>\n",
       "      <td>5.687063</td>\n",
       "      <td>9.980404</td>\n",
       "      <td>5.282514</td>\n",
       "      <td>43.235220</td>\n",
       "      <td>70.279619</td>\n",
       "      <td>10.487013</td>\n",
       "      <td>1.159805</td>\n",
       "      <td>17.483979</td>\n",
       "      <td>2.209593</td>\n",
       "      <td>...</td>\n",
       "      <td>13.989632</td>\n",
       "      <td>-503.195299</td>\n",
       "      <td>12.052233</td>\n",
       "      <td>-500.928547</td>\n",
       "      <td>9.962574</td>\n",
       "      <td>-502.986357</td>\n",
       "      <td>7.979219</td>\n",
       "      <td>-500.146835</td>\n",
       "      <td>13.981614</td>\n",
       "      <td>-598.070855</td>\n",
       "    </tr>\n",
       "  </tbody>\n",
       "</table>\n",
       "<p>10 rows × 87 columns</p>\n",
       "</div>"
      ],
      "text/plain": [
       "                  date  final.output.concentrate_ag  \\\n",
       "0  2016-01-15 00:00:00                     6.055403   \n",
       "1  2016-01-15 01:00:00                     6.029369   \n",
       "2  2016-01-15 02:00:00                     6.055926   \n",
       "3  2016-01-15 03:00:00                     6.047977   \n",
       "4  2016-01-15 04:00:00                     6.148599   \n",
       "5  2016-01-15 05:00:00                     6.482968   \n",
       "6  2016-01-15 06:00:00                     6.533849   \n",
       "7  2016-01-15 07:00:00                     6.130823   \n",
       "8  2016-01-15 08:00:00                     5.834140   \n",
       "9  2016-01-15 09:00:00                     5.687063   \n",
       "\n",
       "   final.output.concentrate_pb  final.output.concentrate_sol  \\\n",
       "0                     9.889648                      5.507324   \n",
       "1                     9.968944                      5.257781   \n",
       "2                    10.213995                      5.383759   \n",
       "3                     9.977019                      4.858634   \n",
       "4                    10.142511                      4.939416   \n",
       "5                    10.049416                      5.480257   \n",
       "6                    10.058141                      4.569100   \n",
       "7                     9.935481                      4.389813   \n",
       "8                    10.071156                      4.876389   \n",
       "9                     9.980404                      5.282514   \n",
       "\n",
       "   final.output.concentrate_au  final.output.recovery  final.output.tail_ag  \\\n",
       "0                    42.192020              70.541216             10.411962   \n",
       "1                    42.701629              69.266198             10.462676   \n",
       "2                    42.657501              68.116445             10.507046   \n",
       "3                    42.689819              68.347543             10.422762   \n",
       "4                    42.774141              66.927016             10.360302   \n",
       "5                    41.633678              69.465816             10.182708   \n",
       "6                    41.995316              69.300835             10.304598   \n",
       "7                    42.452727              70.230976             10.443288   \n",
       "8                    43.404078              69.688595             10.420140   \n",
       "9                    43.235220              70.279619             10.487013   \n",
       "\n",
       "   final.output.tail_pb  final.output.tail_sol  final.output.tail_au  ...  \\\n",
       "0              0.895447              16.904297              2.143149  ...   \n",
       "1              0.927452              16.634514              2.224930  ...   \n",
       "2              0.953716              16.208849              2.257889  ...   \n",
       "3              0.883763              16.532835              2.146849  ...   \n",
       "4              0.792826              16.525686              2.055292  ...   \n",
       "5              0.664118              16.999638              1.918586  ...   \n",
       "6              0.807342              16.723575              2.058913  ...   \n",
       "7              0.949346              16.689959              2.143437  ...   \n",
       "8              1.065453              17.201948              2.209881  ...   \n",
       "9              1.159805              17.483979              2.209593  ...   \n",
       "\n",
       "   secondary_cleaner.state.floatbank4_a_air  \\\n",
       "0                                 14.016835   \n",
       "1                                 13.992281   \n",
       "2                                 14.015015   \n",
       "3                                 14.036510   \n",
       "4                                 14.027298   \n",
       "5                                 13.938497   \n",
       "6                                 14.046819   \n",
       "7                                 13.974691   \n",
       "8                                 13.964030   \n",
       "9                                 13.989632   \n",
       "\n",
       "   secondary_cleaner.state.floatbank4_a_level  \\\n",
       "0                                 -502.488007   \n",
       "1                                 -505.503262   \n",
       "2                                 -502.520901   \n",
       "3                                 -500.857308   \n",
       "4                                 -499.838632   \n",
       "5                                 -500.970168   \n",
       "6                                 -500.971133   \n",
       "7                                 -501.819696   \n",
       "8                                 -504.252450   \n",
       "9                                 -503.195299   \n",
       "\n",
       "   secondary_cleaner.state.floatbank4_b_air  \\\n",
       "0                                 12.099931   \n",
       "1                                 11.950531   \n",
       "2                                 11.912783   \n",
       "3                                 11.999550   \n",
       "4                                 11.953070   \n",
       "5                                 11.883350   \n",
       "6                                 12.091543   \n",
       "7                                 12.101324   \n",
       "8                                 12.060738   \n",
       "9                                 12.052233   \n",
       "\n",
       "   secondary_cleaner.state.floatbank4_b_level  \\\n",
       "0                                 -504.715942   \n",
       "1                                 -501.331529   \n",
       "2                                 -501.133383   \n",
       "3                                 -501.193686   \n",
       "4                                 -501.053894   \n",
       "5                                 -500.395298   \n",
       "6                                 -500.501426   \n",
       "7                                 -500.583446   \n",
       "8                                 -501.174549   \n",
       "9                                 -500.928547   \n",
       "\n",
       "   secondary_cleaner.state.floatbank5_a_air  \\\n",
       "0                                  9.925633   \n",
       "1                                 10.039245   \n",
       "2                                 10.070913   \n",
       "3                                  9.970366   \n",
       "4                                  9.925709   \n",
       "5                                 10.054147   \n",
       "6                                 10.003247   \n",
       "7                                  9.873169   \n",
       "8                                 10.033838   \n",
       "9                                  9.962574   \n",
       "\n",
       "   secondary_cleaner.state.floatbank5_a_level  \\\n",
       "0                                 -498.310211   \n",
       "1                                 -500.169983   \n",
       "2                                 -500.129135   \n",
       "3                                 -499.201640   \n",
       "4                                 -501.686727   \n",
       "5                                 -496.374715   \n",
       "6                                 -497.083180   \n",
       "7                                 -499.171928   \n",
       "8                                 -501.178133   \n",
       "9                                 -502.986357   \n",
       "\n",
       "   secondary_cleaner.state.floatbank5_b_air  \\\n",
       "0                                  8.079666   \n",
       "1                                  7.984757   \n",
       "2                                  8.013877   \n",
       "3                                  7.977324   \n",
       "4                                  7.894242   \n",
       "5                                  7.965083   \n",
       "6                                  8.010890   \n",
       "7                                  7.993381   \n",
       "8                                  7.881604   \n",
       "9                                  7.979219   \n",
       "\n",
       "   secondary_cleaner.state.floatbank5_b_level  \\\n",
       "0                                 -500.470978   \n",
       "1                                 -500.582168   \n",
       "2                                 -500.517572   \n",
       "3                                 -500.255908   \n",
       "4                                 -500.356035   \n",
       "5                                 -499.364752   \n",
       "6                                 -500.002423   \n",
       "7                                 -499.794518   \n",
       "8                                 -499.729434   \n",
       "9                                 -500.146835   \n",
       "\n",
       "   secondary_cleaner.state.floatbank6_a_air  \\\n",
       "0                                 14.151341   \n",
       "1                                 13.998353   \n",
       "2                                 14.028663   \n",
       "3                                 14.005551   \n",
       "4                                 13.996647   \n",
       "5                                 14.017067   \n",
       "6                                 14.029649   \n",
       "7                                 13.984498   \n",
       "8                                 13.967135   \n",
       "9                                 13.981614   \n",
       "\n",
       "   secondary_cleaner.state.floatbank6_a_level  \n",
       "0                                 -605.841980  \n",
       "1                                 -599.787184  \n",
       "2                                 -601.427363  \n",
       "3                                 -599.996129  \n",
       "4                                 -601.496691  \n",
       "5                                 -599.707915  \n",
       "6                                 -600.905470  \n",
       "7                                 -600.411070  \n",
       "8                                 -599.061188  \n",
       "9                                 -598.070855  \n",
       "\n",
       "[10 rows x 87 columns]"
      ]
     },
     "metadata": {},
     "output_type": "display_data"
    }
   ],
   "source": [
    "display(train_data.head(10))"
   ]
  },
  {
   "cell_type": "markdown",
   "metadata": {},
   "source": [
    "The `train_data` has 16860 rows and 87 columns. It has missing values. The parameter `rougher.output.recovery` has the highest percentage of missing values, which is 15.26%."
   ]
  },
  {
   "cell_type": "code",
   "execution_count": 9,
   "metadata": {
    "scrolled": false
   },
   "outputs": [
    {
     "name": "stdout",
     "output_type": "stream",
     "text": [
      "rougher.output.recovery                               15.260973\n",
      "rougher.output.tail_ag                                13.345196\n",
      "rougher.output.tail_sol                               13.339265\n",
      "rougher.output.tail_au                                13.339265\n",
      "secondary_cleaner.output.tail_sol                     11.779359\n",
      "                                                        ...    \n",
      "rougher.calculation.sulfate_to_au_concentrate          0.160142\n",
      "rougher.calculation.floatbank10_sulfate_to_au_feed     0.160142\n",
      "rougher.calculation.floatbank11_sulfate_to_au_feed     0.160142\n",
      "primary_cleaner.input.feed_size                        0.000000\n",
      "date                                                   0.000000\n",
      "Length: 87, dtype: float64\n"
     ]
    }
   ],
   "source": [
    "train_data_missing_perct = (train_data.isna().sum())/train_data.shape[0]*100\n",
    "print(train_data_missing_perct.sort_values(ascending=False))"
   ]
  },
  {
   "cell_type": "markdown",
   "metadata": {},
   "source": [
    "Next, let's look at `test_data`."
   ]
  },
  {
   "cell_type": "code",
   "execution_count": 10,
   "metadata": {
    "scrolled": true
   },
   "outputs": [
    {
     "name": "stdout",
     "output_type": "stream",
     "text": [
      "<class 'pandas.core.frame.DataFrame'>\n",
      "RangeIndex: 5856 entries, 0 to 5855\n",
      "Data columns (total 53 columns):\n",
      "date                                          5856 non-null object\n",
      "primary_cleaner.input.sulfate                 5554 non-null float64\n",
      "primary_cleaner.input.depressant              5572 non-null float64\n",
      "primary_cleaner.input.feed_size               5856 non-null float64\n",
      "primary_cleaner.input.xanthate                5690 non-null float64\n",
      "primary_cleaner.state.floatbank8_a_air        5840 non-null float64\n",
      "primary_cleaner.state.floatbank8_a_level      5840 non-null float64\n",
      "primary_cleaner.state.floatbank8_b_air        5840 non-null float64\n",
      "primary_cleaner.state.floatbank8_b_level      5840 non-null float64\n",
      "primary_cleaner.state.floatbank8_c_air        5840 non-null float64\n",
      "primary_cleaner.state.floatbank8_c_level      5840 non-null float64\n",
      "primary_cleaner.state.floatbank8_d_air        5840 non-null float64\n",
      "primary_cleaner.state.floatbank8_d_level      5840 non-null float64\n",
      "rougher.input.feed_ag                         5840 non-null float64\n",
      "rougher.input.feed_pb                         5840 non-null float64\n",
      "rougher.input.feed_rate                       5816 non-null float64\n",
      "rougher.input.feed_size                       5834 non-null float64\n",
      "rougher.input.feed_sol                        5789 non-null float64\n",
      "rougher.input.feed_au                         5840 non-null float64\n",
      "rougher.input.floatbank10_sulfate             5599 non-null float64\n",
      "rougher.input.floatbank10_xanthate            5733 non-null float64\n",
      "rougher.input.floatbank11_sulfate             5801 non-null float64\n",
      "rougher.input.floatbank11_xanthate            5503 non-null float64\n",
      "rougher.state.floatbank10_a_air               5839 non-null float64\n",
      "rougher.state.floatbank10_a_level             5840 non-null float64\n",
      "rougher.state.floatbank10_b_air               5839 non-null float64\n",
      "rougher.state.floatbank10_b_level             5840 non-null float64\n",
      "rougher.state.floatbank10_c_air               5839 non-null float64\n",
      "rougher.state.floatbank10_c_level             5840 non-null float64\n",
      "rougher.state.floatbank10_d_air               5839 non-null float64\n",
      "rougher.state.floatbank10_d_level             5840 non-null float64\n",
      "rougher.state.floatbank10_e_air               5839 non-null float64\n",
      "rougher.state.floatbank10_e_level             5840 non-null float64\n",
      "rougher.state.floatbank10_f_air               5839 non-null float64\n",
      "rougher.state.floatbank10_f_level             5840 non-null float64\n",
      "secondary_cleaner.state.floatbank2_a_air      5836 non-null float64\n",
      "secondary_cleaner.state.floatbank2_a_level    5840 non-null float64\n",
      "secondary_cleaner.state.floatbank2_b_air      5833 non-null float64\n",
      "secondary_cleaner.state.floatbank2_b_level    5840 non-null float64\n",
      "secondary_cleaner.state.floatbank3_a_air      5822 non-null float64\n",
      "secondary_cleaner.state.floatbank3_a_level    5840 non-null float64\n",
      "secondary_cleaner.state.floatbank3_b_air      5840 non-null float64\n",
      "secondary_cleaner.state.floatbank3_b_level    5840 non-null float64\n",
      "secondary_cleaner.state.floatbank4_a_air      5840 non-null float64\n",
      "secondary_cleaner.state.floatbank4_a_level    5840 non-null float64\n",
      "secondary_cleaner.state.floatbank4_b_air      5840 non-null float64\n",
      "secondary_cleaner.state.floatbank4_b_level    5840 non-null float64\n",
      "secondary_cleaner.state.floatbank5_a_air      5840 non-null float64\n",
      "secondary_cleaner.state.floatbank5_a_level    5840 non-null float64\n",
      "secondary_cleaner.state.floatbank5_b_air      5840 non-null float64\n",
      "secondary_cleaner.state.floatbank5_b_level    5840 non-null float64\n",
      "secondary_cleaner.state.floatbank6_a_air      5840 non-null float64\n",
      "secondary_cleaner.state.floatbank6_a_level    5840 non-null float64\n",
      "dtypes: float64(52), object(1)\n",
      "memory usage: 2.4+ MB\n"
     ]
    }
   ],
   "source": [
    "test_data.info()"
   ]
  },
  {
   "cell_type": "code",
   "execution_count": 11,
   "metadata": {
    "scrolled": true
   },
   "outputs": [
    {
     "data": {
      "text/html": [
       "<div>\n",
       "<style scoped>\n",
       "    .dataframe tbody tr th:only-of-type {\n",
       "        vertical-align: middle;\n",
       "    }\n",
       "\n",
       "    .dataframe tbody tr th {\n",
       "        vertical-align: top;\n",
       "    }\n",
       "\n",
       "    .dataframe thead th {\n",
       "        text-align: right;\n",
       "    }\n",
       "</style>\n",
       "<table border=\"1\" class=\"dataframe\">\n",
       "  <thead>\n",
       "    <tr style=\"text-align: right;\">\n",
       "      <th></th>\n",
       "      <th>date</th>\n",
       "      <th>primary_cleaner.input.sulfate</th>\n",
       "      <th>primary_cleaner.input.depressant</th>\n",
       "      <th>primary_cleaner.input.feed_size</th>\n",
       "      <th>primary_cleaner.input.xanthate</th>\n",
       "      <th>primary_cleaner.state.floatbank8_a_air</th>\n",
       "      <th>primary_cleaner.state.floatbank8_a_level</th>\n",
       "      <th>primary_cleaner.state.floatbank8_b_air</th>\n",
       "      <th>primary_cleaner.state.floatbank8_b_level</th>\n",
       "      <th>primary_cleaner.state.floatbank8_c_air</th>\n",
       "      <th>...</th>\n",
       "      <th>secondary_cleaner.state.floatbank4_a_air</th>\n",
       "      <th>secondary_cleaner.state.floatbank4_a_level</th>\n",
       "      <th>secondary_cleaner.state.floatbank4_b_air</th>\n",
       "      <th>secondary_cleaner.state.floatbank4_b_level</th>\n",
       "      <th>secondary_cleaner.state.floatbank5_a_air</th>\n",
       "      <th>secondary_cleaner.state.floatbank5_a_level</th>\n",
       "      <th>secondary_cleaner.state.floatbank5_b_air</th>\n",
       "      <th>secondary_cleaner.state.floatbank5_b_level</th>\n",
       "      <th>secondary_cleaner.state.floatbank6_a_air</th>\n",
       "      <th>secondary_cleaner.state.floatbank6_a_level</th>\n",
       "    </tr>\n",
       "  </thead>\n",
       "  <tbody>\n",
       "    <tr>\n",
       "      <td>0</td>\n",
       "      <td>2016-09-01 00:59:59</td>\n",
       "      <td>210.800909</td>\n",
       "      <td>14.993118</td>\n",
       "      <td>8.080000</td>\n",
       "      <td>1.005021</td>\n",
       "      <td>1398.981301</td>\n",
       "      <td>-500.225577</td>\n",
       "      <td>1399.144926</td>\n",
       "      <td>-499.919735</td>\n",
       "      <td>1400.102998</td>\n",
       "      <td>...</td>\n",
       "      <td>12.023554</td>\n",
       "      <td>-497.795834</td>\n",
       "      <td>8.016656</td>\n",
       "      <td>-501.289139</td>\n",
       "      <td>7.946562</td>\n",
       "      <td>-432.317850</td>\n",
       "      <td>4.872511</td>\n",
       "      <td>-500.037437</td>\n",
       "      <td>26.705889</td>\n",
       "      <td>-499.709414</td>\n",
       "    </tr>\n",
       "    <tr>\n",
       "      <td>1</td>\n",
       "      <td>2016-09-01 01:59:59</td>\n",
       "      <td>215.392455</td>\n",
       "      <td>14.987471</td>\n",
       "      <td>8.080000</td>\n",
       "      <td>0.990469</td>\n",
       "      <td>1398.777912</td>\n",
       "      <td>-500.057435</td>\n",
       "      <td>1398.055362</td>\n",
       "      <td>-499.778182</td>\n",
       "      <td>1396.151033</td>\n",
       "      <td>...</td>\n",
       "      <td>12.058140</td>\n",
       "      <td>-498.695773</td>\n",
       "      <td>8.130979</td>\n",
       "      <td>-499.634209</td>\n",
       "      <td>7.958270</td>\n",
       "      <td>-525.839648</td>\n",
       "      <td>4.878850</td>\n",
       "      <td>-500.162375</td>\n",
       "      <td>25.019940</td>\n",
       "      <td>-499.819438</td>\n",
       "    </tr>\n",
       "    <tr>\n",
       "      <td>2</td>\n",
       "      <td>2016-09-01 02:59:59</td>\n",
       "      <td>215.259946</td>\n",
       "      <td>12.884934</td>\n",
       "      <td>7.786667</td>\n",
       "      <td>0.996043</td>\n",
       "      <td>1398.493666</td>\n",
       "      <td>-500.868360</td>\n",
       "      <td>1398.860436</td>\n",
       "      <td>-499.764529</td>\n",
       "      <td>1398.075709</td>\n",
       "      <td>...</td>\n",
       "      <td>11.962366</td>\n",
       "      <td>-498.767484</td>\n",
       "      <td>8.096893</td>\n",
       "      <td>-500.827423</td>\n",
       "      <td>8.071056</td>\n",
       "      <td>-500.801673</td>\n",
       "      <td>4.905125</td>\n",
       "      <td>-499.828510</td>\n",
       "      <td>24.994862</td>\n",
       "      <td>-500.622559</td>\n",
       "    </tr>\n",
       "    <tr>\n",
       "      <td>3</td>\n",
       "      <td>2016-09-01 03:59:59</td>\n",
       "      <td>215.336236</td>\n",
       "      <td>12.006805</td>\n",
       "      <td>7.640000</td>\n",
       "      <td>0.863514</td>\n",
       "      <td>1399.618111</td>\n",
       "      <td>-498.863574</td>\n",
       "      <td>1397.440120</td>\n",
       "      <td>-499.211024</td>\n",
       "      <td>1400.129303</td>\n",
       "      <td>...</td>\n",
       "      <td>12.033091</td>\n",
       "      <td>-498.350935</td>\n",
       "      <td>8.074946</td>\n",
       "      <td>-499.474407</td>\n",
       "      <td>7.897085</td>\n",
       "      <td>-500.868509</td>\n",
       "      <td>4.931400</td>\n",
       "      <td>-499.963623</td>\n",
       "      <td>24.948919</td>\n",
       "      <td>-498.709987</td>\n",
       "    </tr>\n",
       "    <tr>\n",
       "      <td>4</td>\n",
       "      <td>2016-09-01 04:59:59</td>\n",
       "      <td>199.099327</td>\n",
       "      <td>10.682530</td>\n",
       "      <td>7.530000</td>\n",
       "      <td>0.805575</td>\n",
       "      <td>1401.268123</td>\n",
       "      <td>-500.808305</td>\n",
       "      <td>1398.128818</td>\n",
       "      <td>-499.504543</td>\n",
       "      <td>1402.172226</td>\n",
       "      <td>...</td>\n",
       "      <td>12.025367</td>\n",
       "      <td>-500.786497</td>\n",
       "      <td>8.054678</td>\n",
       "      <td>-500.397500</td>\n",
       "      <td>8.107890</td>\n",
       "      <td>-509.526725</td>\n",
       "      <td>4.957674</td>\n",
       "      <td>-500.360026</td>\n",
       "      <td>25.003331</td>\n",
       "      <td>-500.856333</td>\n",
       "    </tr>\n",
       "    <tr>\n",
       "      <td>5</td>\n",
       "      <td>2016-09-01 05:59:59</td>\n",
       "      <td>168.485085</td>\n",
       "      <td>8.817007</td>\n",
       "      <td>7.420000</td>\n",
       "      <td>0.791191</td>\n",
       "      <td>1402.826803</td>\n",
       "      <td>-499.299521</td>\n",
       "      <td>1401.511119</td>\n",
       "      <td>-499.205357</td>\n",
       "      <td>1404.088107</td>\n",
       "      <td>...</td>\n",
       "      <td>12.029797</td>\n",
       "      <td>-499.814895</td>\n",
       "      <td>8.036586</td>\n",
       "      <td>-500.371492</td>\n",
       "      <td>8.041446</td>\n",
       "      <td>-510.037054</td>\n",
       "      <td>4.983949</td>\n",
       "      <td>-499.990990</td>\n",
       "      <td>24.978973</td>\n",
       "      <td>-500.475640</td>\n",
       "    </tr>\n",
       "    <tr>\n",
       "      <td>6</td>\n",
       "      <td>2016-09-01 06:59:59</td>\n",
       "      <td>144.133440</td>\n",
       "      <td>7.924610</td>\n",
       "      <td>7.420000</td>\n",
       "      <td>0.788838</td>\n",
       "      <td>1398.252401</td>\n",
       "      <td>-499.748672</td>\n",
       "      <td>1393.255503</td>\n",
       "      <td>-499.195380</td>\n",
       "      <td>1396.738566</td>\n",
       "      <td>...</td>\n",
       "      <td>12.026296</td>\n",
       "      <td>-499.473127</td>\n",
       "      <td>8.027984</td>\n",
       "      <td>-500.983079</td>\n",
       "      <td>7.907340</td>\n",
       "      <td>-507.964971</td>\n",
       "      <td>5.010224</td>\n",
       "      <td>-500.043697</td>\n",
       "      <td>25.040709</td>\n",
       "      <td>-499.501984</td>\n",
       "    </tr>\n",
       "    <tr>\n",
       "      <td>7</td>\n",
       "      <td>2016-09-01 07:59:59</td>\n",
       "      <td>133.513396</td>\n",
       "      <td>8.055252</td>\n",
       "      <td>6.988000</td>\n",
       "      <td>0.801871</td>\n",
       "      <td>1401.669677</td>\n",
       "      <td>-501.777839</td>\n",
       "      <td>1400.754446</td>\n",
       "      <td>-502.514024</td>\n",
       "      <td>1400.465244</td>\n",
       "      <td>...</td>\n",
       "      <td>12.040911</td>\n",
       "      <td>-501.293852</td>\n",
       "      <td>8.020490</td>\n",
       "      <td>-499.185229</td>\n",
       "      <td>8.116897</td>\n",
       "      <td>-511.927561</td>\n",
       "      <td>5.036498</td>\n",
       "      <td>-500.149615</td>\n",
       "      <td>25.032580</td>\n",
       "      <td>-503.970657</td>\n",
       "    </tr>\n",
       "    <tr>\n",
       "      <td>8</td>\n",
       "      <td>2016-09-01 08:59:59</td>\n",
       "      <td>133.735356</td>\n",
       "      <td>7.999618</td>\n",
       "      <td>6.935000</td>\n",
       "      <td>0.789329</td>\n",
       "      <td>1402.358981</td>\n",
       "      <td>-499.981597</td>\n",
       "      <td>1400.985954</td>\n",
       "      <td>-496.802968</td>\n",
       "      <td>1401.168584</td>\n",
       "      <td>...</td>\n",
       "      <td>11.998184</td>\n",
       "      <td>-499.481608</td>\n",
       "      <td>8.012610</td>\n",
       "      <td>-500.896783</td>\n",
       "      <td>7.974422</td>\n",
       "      <td>-521.199104</td>\n",
       "      <td>5.061599</td>\n",
       "      <td>-499.791519</td>\n",
       "      <td>25.005063</td>\n",
       "      <td>-497.613716</td>\n",
       "    </tr>\n",
       "    <tr>\n",
       "      <td>9</td>\n",
       "      <td>2016-09-01 09:59:59</td>\n",
       "      <td>126.961069</td>\n",
       "      <td>8.017856</td>\n",
       "      <td>7.030000</td>\n",
       "      <td>0.805298</td>\n",
       "      <td>1400.816120</td>\n",
       "      <td>-499.014158</td>\n",
       "      <td>1399.975401</td>\n",
       "      <td>-499.570552</td>\n",
       "      <td>1401.871924</td>\n",
       "      <td>...</td>\n",
       "      <td>12.040725</td>\n",
       "      <td>-499.987743</td>\n",
       "      <td>7.989503</td>\n",
       "      <td>-499.750625</td>\n",
       "      <td>7.989710</td>\n",
       "      <td>-509.946737</td>\n",
       "      <td>5.068811</td>\n",
       "      <td>-499.293900</td>\n",
       "      <td>24.992741</td>\n",
       "      <td>-499.272255</td>\n",
       "    </tr>\n",
       "  </tbody>\n",
       "</table>\n",
       "<p>10 rows × 53 columns</p>\n",
       "</div>"
      ],
      "text/plain": [
       "                  date  primary_cleaner.input.sulfate  \\\n",
       "0  2016-09-01 00:59:59                     210.800909   \n",
       "1  2016-09-01 01:59:59                     215.392455   \n",
       "2  2016-09-01 02:59:59                     215.259946   \n",
       "3  2016-09-01 03:59:59                     215.336236   \n",
       "4  2016-09-01 04:59:59                     199.099327   \n",
       "5  2016-09-01 05:59:59                     168.485085   \n",
       "6  2016-09-01 06:59:59                     144.133440   \n",
       "7  2016-09-01 07:59:59                     133.513396   \n",
       "8  2016-09-01 08:59:59                     133.735356   \n",
       "9  2016-09-01 09:59:59                     126.961069   \n",
       "\n",
       "   primary_cleaner.input.depressant  primary_cleaner.input.feed_size  \\\n",
       "0                         14.993118                         8.080000   \n",
       "1                         14.987471                         8.080000   \n",
       "2                         12.884934                         7.786667   \n",
       "3                         12.006805                         7.640000   \n",
       "4                         10.682530                         7.530000   \n",
       "5                          8.817007                         7.420000   \n",
       "6                          7.924610                         7.420000   \n",
       "7                          8.055252                         6.988000   \n",
       "8                          7.999618                         6.935000   \n",
       "9                          8.017856                         7.030000   \n",
       "\n",
       "   primary_cleaner.input.xanthate  primary_cleaner.state.floatbank8_a_air  \\\n",
       "0                        1.005021                             1398.981301   \n",
       "1                        0.990469                             1398.777912   \n",
       "2                        0.996043                             1398.493666   \n",
       "3                        0.863514                             1399.618111   \n",
       "4                        0.805575                             1401.268123   \n",
       "5                        0.791191                             1402.826803   \n",
       "6                        0.788838                             1398.252401   \n",
       "7                        0.801871                             1401.669677   \n",
       "8                        0.789329                             1402.358981   \n",
       "9                        0.805298                             1400.816120   \n",
       "\n",
       "   primary_cleaner.state.floatbank8_a_level  \\\n",
       "0                               -500.225577   \n",
       "1                               -500.057435   \n",
       "2                               -500.868360   \n",
       "3                               -498.863574   \n",
       "4                               -500.808305   \n",
       "5                               -499.299521   \n",
       "6                               -499.748672   \n",
       "7                               -501.777839   \n",
       "8                               -499.981597   \n",
       "9                               -499.014158   \n",
       "\n",
       "   primary_cleaner.state.floatbank8_b_air  \\\n",
       "0                             1399.144926   \n",
       "1                             1398.055362   \n",
       "2                             1398.860436   \n",
       "3                             1397.440120   \n",
       "4                             1398.128818   \n",
       "5                             1401.511119   \n",
       "6                             1393.255503   \n",
       "7                             1400.754446   \n",
       "8                             1400.985954   \n",
       "9                             1399.975401   \n",
       "\n",
       "   primary_cleaner.state.floatbank8_b_level  \\\n",
       "0                               -499.919735   \n",
       "1                               -499.778182   \n",
       "2                               -499.764529   \n",
       "3                               -499.211024   \n",
       "4                               -499.504543   \n",
       "5                               -499.205357   \n",
       "6                               -499.195380   \n",
       "7                               -502.514024   \n",
       "8                               -496.802968   \n",
       "9                               -499.570552   \n",
       "\n",
       "   primary_cleaner.state.floatbank8_c_air  ...  \\\n",
       "0                             1400.102998  ...   \n",
       "1                             1396.151033  ...   \n",
       "2                             1398.075709  ...   \n",
       "3                             1400.129303  ...   \n",
       "4                             1402.172226  ...   \n",
       "5                             1404.088107  ...   \n",
       "6                             1396.738566  ...   \n",
       "7                             1400.465244  ...   \n",
       "8                             1401.168584  ...   \n",
       "9                             1401.871924  ...   \n",
       "\n",
       "   secondary_cleaner.state.floatbank4_a_air  \\\n",
       "0                                 12.023554   \n",
       "1                                 12.058140   \n",
       "2                                 11.962366   \n",
       "3                                 12.033091   \n",
       "4                                 12.025367   \n",
       "5                                 12.029797   \n",
       "6                                 12.026296   \n",
       "7                                 12.040911   \n",
       "8                                 11.998184   \n",
       "9                                 12.040725   \n",
       "\n",
       "   secondary_cleaner.state.floatbank4_a_level  \\\n",
       "0                                 -497.795834   \n",
       "1                                 -498.695773   \n",
       "2                                 -498.767484   \n",
       "3                                 -498.350935   \n",
       "4                                 -500.786497   \n",
       "5                                 -499.814895   \n",
       "6                                 -499.473127   \n",
       "7                                 -501.293852   \n",
       "8                                 -499.481608   \n",
       "9                                 -499.987743   \n",
       "\n",
       "   secondary_cleaner.state.floatbank4_b_air  \\\n",
       "0                                  8.016656   \n",
       "1                                  8.130979   \n",
       "2                                  8.096893   \n",
       "3                                  8.074946   \n",
       "4                                  8.054678   \n",
       "5                                  8.036586   \n",
       "6                                  8.027984   \n",
       "7                                  8.020490   \n",
       "8                                  8.012610   \n",
       "9                                  7.989503   \n",
       "\n",
       "   secondary_cleaner.state.floatbank4_b_level  \\\n",
       "0                                 -501.289139   \n",
       "1                                 -499.634209   \n",
       "2                                 -500.827423   \n",
       "3                                 -499.474407   \n",
       "4                                 -500.397500   \n",
       "5                                 -500.371492   \n",
       "6                                 -500.983079   \n",
       "7                                 -499.185229   \n",
       "8                                 -500.896783   \n",
       "9                                 -499.750625   \n",
       "\n",
       "   secondary_cleaner.state.floatbank5_a_air  \\\n",
       "0                                  7.946562   \n",
       "1                                  7.958270   \n",
       "2                                  8.071056   \n",
       "3                                  7.897085   \n",
       "4                                  8.107890   \n",
       "5                                  8.041446   \n",
       "6                                  7.907340   \n",
       "7                                  8.116897   \n",
       "8                                  7.974422   \n",
       "9                                  7.989710   \n",
       "\n",
       "   secondary_cleaner.state.floatbank5_a_level  \\\n",
       "0                                 -432.317850   \n",
       "1                                 -525.839648   \n",
       "2                                 -500.801673   \n",
       "3                                 -500.868509   \n",
       "4                                 -509.526725   \n",
       "5                                 -510.037054   \n",
       "6                                 -507.964971   \n",
       "7                                 -511.927561   \n",
       "8                                 -521.199104   \n",
       "9                                 -509.946737   \n",
       "\n",
       "   secondary_cleaner.state.floatbank5_b_air  \\\n",
       "0                                  4.872511   \n",
       "1                                  4.878850   \n",
       "2                                  4.905125   \n",
       "3                                  4.931400   \n",
       "4                                  4.957674   \n",
       "5                                  4.983949   \n",
       "6                                  5.010224   \n",
       "7                                  5.036498   \n",
       "8                                  5.061599   \n",
       "9                                  5.068811   \n",
       "\n",
       "   secondary_cleaner.state.floatbank5_b_level  \\\n",
       "0                                 -500.037437   \n",
       "1                                 -500.162375   \n",
       "2                                 -499.828510   \n",
       "3                                 -499.963623   \n",
       "4                                 -500.360026   \n",
       "5                                 -499.990990   \n",
       "6                                 -500.043697   \n",
       "7                                 -500.149615   \n",
       "8                                 -499.791519   \n",
       "9                                 -499.293900   \n",
       "\n",
       "   secondary_cleaner.state.floatbank6_a_air  \\\n",
       "0                                 26.705889   \n",
       "1                                 25.019940   \n",
       "2                                 24.994862   \n",
       "3                                 24.948919   \n",
       "4                                 25.003331   \n",
       "5                                 24.978973   \n",
       "6                                 25.040709   \n",
       "7                                 25.032580   \n",
       "8                                 25.005063   \n",
       "9                                 24.992741   \n",
       "\n",
       "   secondary_cleaner.state.floatbank6_a_level  \n",
       "0                                 -499.709414  \n",
       "1                                 -499.819438  \n",
       "2                                 -500.622559  \n",
       "3                                 -498.709987  \n",
       "4                                 -500.856333  \n",
       "5                                 -500.475640  \n",
       "6                                 -499.501984  \n",
       "7                                 -503.970657  \n",
       "8                                 -497.613716  \n",
       "9                                 -499.272255  \n",
       "\n",
       "[10 rows x 53 columns]"
      ]
     },
     "metadata": {},
     "output_type": "display_data"
    }
   ],
   "source": [
    "display(test_data.head(10))"
   ]
  },
  {
   "cell_type": "markdown",
   "metadata": {},
   "source": [
    "The `test_data` has 5856 rows and 53 columns. It has missing values. The parameter `rougher.input.floatbank11_xanthate` has the highest percentage of missing values, which is 6.03%."
   ]
  },
  {
   "cell_type": "code",
   "execution_count": 12,
   "metadata": {},
   "outputs": [
    {
     "name": "stdout",
     "output_type": "stream",
     "text": [
      "rougher.input.floatbank11_xanthate          6.028005\n",
      "primary_cleaner.input.sulfate               5.157104\n",
      "primary_cleaner.input.depressant            4.849727\n",
      "rougher.input.floatbank10_sulfate           4.388661\n",
      "primary_cleaner.input.xanthate              2.834699\n",
      "rougher.input.floatbank10_xanthate          2.100410\n",
      "rougher.input.feed_sol                      1.144126\n",
      "rougher.input.floatbank11_sulfate           0.939208\n",
      "rougher.input.feed_rate                     0.683060\n",
      "secondary_cleaner.state.floatbank3_a_air    0.580601\n",
      "secondary_cleaner.state.floatbank2_b_air    0.392760\n",
      "rougher.input.feed_size                     0.375683\n",
      "secondary_cleaner.state.floatbank2_a_air    0.341530\n",
      "rougher.state.floatbank10_e_air             0.290301\n",
      "rougher.state.floatbank10_d_air             0.290301\n",
      "rougher.state.floatbank10_a_air             0.290301\n",
      "rougher.state.floatbank10_b_air             0.290301\n",
      "rougher.state.floatbank10_c_air             0.290301\n",
      "rougher.state.floatbank10_f_air             0.290301\n",
      "primary_cleaner.state.floatbank8_a_air      0.273224\n",
      "dtype: float64\n"
     ]
    }
   ],
   "source": [
    "test_data_missing_perct = (test_data.isna().sum())/test_data.shape[0]*100\n",
    "print(test_data_missing_perct.sort_values(ascending=False).head(20))"
   ]
  },
  {
   "cell_type": "markdown",
   "metadata": {},
   "source": [
    "<div class=\"alert alert-success\">\n",
    "<b>Reviewer's comment</b>\n",
    "\n",
    "The data was loaded and inspected!\n",
    "\n",
    "</div>"
   ]
  },
  {
   "cell_type": "markdown",
   "metadata": {},
   "source": [
    "### Check the recovery calculation\n",
    "\n",
    "#### Calculate the recovery for the `rougher.output.recovery` feature\n",
    "\n",
    "First, let's calculate the recovery for the `rougher.output.recovery` feature, using the **training set**. \n",
    "\n",
    "Use the following formula to simulate the process of the recovery of gold from gold ore.\n",
    "\n",
    "$$ Recovery = \\frac{C\\times(F-T)}{F\\times(C-T)}\\times100\\%$$\n",
    "\n",
    "where:\n",
    "- C — the share of gold in the concentrate right after flotation (for finding the rougher concentrate recovery)/after purification (for finding the final concentrate recovery)\n",
    "- F — the share of gold in the feed before flotation (for finding the rougher concentrate recovery)/in the concentrate right after flotation (for finding the final concentrate recovery)\n",
    "- T — the share of gold in the rougher tails right after flotation (for finding the rougher concentrate recovery)/after purification (for finding the final concentrate recovery)"
   ]
  },
  {
   "cell_type": "code",
   "execution_count": 13,
   "metadata": {},
   "outputs": [],
   "source": [
    "### TEST CODE for recovery calculation\n",
    "\n",
    "# recovery = rougher.output.recovery\n",
    "# C = rougher.output.concentrate_au\n",
    "# F = rougher.input.feed_au\n",
    "# T = rougher.output.tail_au\n",
    "\n",
    "# C = train_data['rougher.output.concentrate_au'][0]\n",
    "# C\n",
    "\n",
    "# F = train_data['rougher.input.feed_au'][0]\n",
    "# F\n",
    "\n",
    "# T = train_data['rougher.output.tail_au'][0]\n",
    "# T\n",
    "\n",
    "# rougher_output_recovery = C*(F-T)/(F*(C-T))*100\n",
    "# rougher_output_recovery"
   ]
  },
  {
   "cell_type": "code",
   "execution_count": 14,
   "metadata": {},
   "outputs": [],
   "source": [
    "def rougher_output_recovery(row):\n",
    "    \"\"\"\n",
    "    the rougher_output_recovery function calculate the \n",
    "    recovery for the rougher.output.recovery feature\n",
    "    based on the formula above\n",
    "    \"\"\"\n",
    "    C = row['rougher.output.concentrate_au']\n",
    "    F = row['rougher.input.feed_au']\n",
    "    T = row['rougher.output.tail_au']\n",
    "    \n",
    "    if (F*(C-T)) != 0:\n",
    "    # recovery is a percentage recovery\n",
    "        recovery = C*(F-T)/(F*(C-T))*100\n",
    "    else:\n",
    "        recovery = np.nan  \n",
    "    return recovery\n",
    "    \n",
    "# rougher_output_recovery(train_data.loc[0])    \n",
    "\n",
    "train_data['rougher_output_recovery_calc'] = train_data.apply(rougher_output_recovery, axis=1)"
   ]
  },
  {
   "cell_type": "code",
   "execution_count": 15,
   "metadata": {},
   "outputs": [],
   "source": [
    "\n",
    "# row is a row of a dataframe\n",
    "\n",
    "def rougher_output_recovery_is_close(row):\n",
    "    \"\"\"\n",
    "    the rougher_output_recovery_is_close function checks\n",
    "    whether the computation based on the formula is close/equal\n",
    "    to the rougher.output.recovery feature in the train_data\n",
    "    \"\"\"\n",
    "    if pd.Series(row['rougher.output.recovery']).isna()[0]==False:\n",
    "        if abs(row[\"rougher_output_recovery_calc\"]-row['rougher.output.recovery'])<0.001:\n",
    "            is_close = True\n",
    "        else:\n",
    "            is_close = False \n",
    "    else:\n",
    "        is_close = np.nan\n",
    "    return is_close\n"
   ]
  },
  {
   "cell_type": "code",
   "execution_count": 16,
   "metadata": {
    "scrolled": true
   },
   "outputs": [
    {
     "data": {
      "text/plain": [
       "14287"
      ]
     },
     "execution_count": 16,
     "metadata": {},
     "output_type": "execute_result"
    }
   ],
   "source": [
    "train_data[\"rougher_output_recovery_equal\"] = train_data.apply(rougher_output_recovery_is_close, axis=1)\n",
    "np.nansum(train_data[\"rougher_output_recovery_equal\"])\n",
    "# ref: https://numpy.org/doc/stable/reference/generated/numpy.nansum.html"
   ]
  },
  {
   "cell_type": "code",
   "execution_count": 17,
   "metadata": {
    "scrolled": true
   },
   "outputs": [
    {
     "data": {
      "text/plain": [
       "2573"
      ]
     },
     "execution_count": 17,
     "metadata": {},
     "output_type": "execute_result"
    }
   ],
   "source": [
    "train_data[\"rougher_output_recovery_equal\"].isna().sum()"
   ]
  },
  {
   "cell_type": "code",
   "execution_count": 18,
   "metadata": {},
   "outputs": [
    {
     "data": {
      "text/plain": [
       "16860"
      ]
     },
     "execution_count": 18,
     "metadata": {},
     "output_type": "execute_result"
    }
   ],
   "source": [
    "14287+2573"
   ]
  },
  {
   "cell_type": "markdown",
   "metadata": {},
   "source": [
    "It shows that the computation for recovery based on the formula matches the `rougher.output.recovery` feature in the train_data. The `rougher.output.recovery` feature has 2573 missing values. For the 14287 non-missing values in the `rougher.output.recovery` feature, the computation for recovery based on the formula matches the `rougher.output.recovery` feature in the train_data, with consideratin for the rounding errors. "
   ]
  },
  {
   "cell_type": "markdown",
   "metadata": {},
   "source": [
    "#### Find the Mean Absolute Error (MAE) \n",
    "\n",
    "Next, let's find the MAE between the above `rougher.output.recovery` calculations and the feature values. "
   ]
  },
  {
   "cell_type": "code",
   "execution_count": 19,
   "metadata": {},
   "outputs": [],
   "source": [
    "\n",
    "def mae(df):\n",
    "    mean_abs_error = 0\n",
    "    count = 0\n",
    "    for i in range(len(df)):\n",
    "        if pd.Series(df.loc[i,'rougher.output.recovery']).isna()[0]==False:\n",
    "            count += 1\n",
    "            mean_abs_error += abs(df.loc[i,\"rougher_output_recovery_calc\"]-df.loc[i,'rougher.output.recovery'])\n",
    "\n",
    "    return mean_abs_error/count"
   ]
  },
  {
   "cell_type": "code",
   "execution_count": 20,
   "metadata": {},
   "outputs": [
    {
     "name": "stdout",
     "output_type": "stream",
     "text": [
      "The MAE between my calculations and the feature values is  9.444891926100695e-15\n"
     ]
    }
   ],
   "source": [
    "print(\"The MAE between my calculations and the feature values is \", mae(train_data))"
   ]
  },
  {
   "cell_type": "markdown",
   "metadata": {},
   "source": [
    "The recovery and Mean Absolute Error (MAE) calculation show that my calculation based on the formula matches the `rougher.output.recovery` feature in the train_data. Moreover, the MAE between my calculations and the feature values is  4.1207194979061396e-09, which is very small. That confirms that the recovery was calculated correctly.  \n"
   ]
  },
  {
   "cell_type": "markdown",
   "metadata": {},
   "source": [
    "<div class=\"alert alert-success\">\n",
    "<b>Reviewer's comment</b>\n",
    "\n",
    "Recovery data was validated successfully!\n",
    "\n",
    "</div>"
   ]
  },
  {
   "cell_type": "markdown",
   "metadata": {},
   "source": [
    "### Analyze the features not available in the test set\n",
    "\n",
    "Originally, both the `full_data` and the `train_data` have 87 columns/parameters. The `test_data` only has 53 columns/parameters. After creating two columns `rougher_output_recovery_calc` and `rougher_output_recovery_equal` for the `train_data` previously, it has 89 columns/parameters.\n",
    "\n",
    "We will drop the `rougher_output_recovery_calc` and `rougher_output_recovery_equal` columns from `train_data`. "
   ]
  },
  {
   "cell_type": "code",
   "execution_count": 21,
   "metadata": {},
   "outputs": [],
   "source": [
    "train_data = train_data.drop(columns=['rougher_output_recovery_calc', 'rougher_output_recovery_equal'])\n"
   ]
  },
  {
   "cell_type": "markdown",
   "metadata": {},
   "source": [
    "Now let's find out what parameters/features are not available in the test set and their type."
   ]
  },
  {
   "cell_type": "code",
   "execution_count": 22,
   "metadata": {
    "scrolled": false
   },
   "outputs": [
    {
     "data": {
      "text/plain": [
       "['final.output.concentrate_ag',\n",
       " 'final.output.concentrate_pb',\n",
       " 'final.output.concentrate_sol',\n",
       " 'final.output.concentrate_au',\n",
       " 'final.output.recovery',\n",
       " 'final.output.tail_ag',\n",
       " 'final.output.tail_pb',\n",
       " 'final.output.tail_sol',\n",
       " 'final.output.tail_au',\n",
       " 'primary_cleaner.output.concentrate_ag',\n",
       " 'primary_cleaner.output.concentrate_pb',\n",
       " 'primary_cleaner.output.concentrate_sol',\n",
       " 'primary_cleaner.output.concentrate_au',\n",
       " 'primary_cleaner.output.tail_ag',\n",
       " 'primary_cleaner.output.tail_pb',\n",
       " 'primary_cleaner.output.tail_sol',\n",
       " 'primary_cleaner.output.tail_au',\n",
       " 'rougher.calculation.sulfate_to_au_concentrate',\n",
       " 'rougher.calculation.floatbank10_sulfate_to_au_feed',\n",
       " 'rougher.calculation.floatbank11_sulfate_to_au_feed',\n",
       " 'rougher.calculation.au_pb_ratio',\n",
       " 'rougher.output.concentrate_ag',\n",
       " 'rougher.output.concentrate_pb',\n",
       " 'rougher.output.concentrate_sol',\n",
       " 'rougher.output.concentrate_au',\n",
       " 'rougher.output.recovery',\n",
       " 'rougher.output.tail_ag',\n",
       " 'rougher.output.tail_pb',\n",
       " 'rougher.output.tail_sol',\n",
       " 'rougher.output.tail_au',\n",
       " 'secondary_cleaner.output.tail_ag',\n",
       " 'secondary_cleaner.output.tail_pb',\n",
       " 'secondary_cleaner.output.tail_sol',\n",
       " 'secondary_cleaner.output.tail_au']"
      ]
     },
     "execution_count": 22,
     "metadata": {},
     "output_type": "execute_result"
    }
   ],
   "source": [
    "mismatch_columns1 = [x for x in train_data.columns if x not in test_data.columns]\n",
    "mismatch_columns1"
   ]
  },
  {
   "cell_type": "code",
   "execution_count": 23,
   "metadata": {},
   "outputs": [
    {
     "name": "stdout",
     "output_type": "stream",
     "text": [
      "34\n"
     ]
    }
   ],
   "source": [
    "print(len(mismatch_columns1))"
   ]
  },
  {
   "cell_type": "markdown",
   "metadata": {},
   "source": [
    "Above is a list of the 34 columns that are in `train_data`, but not in the `test_data`. "
   ]
  },
  {
   "cell_type": "code",
   "execution_count": 24,
   "metadata": {},
   "outputs": [
    {
     "name": "stdout",
     "output_type": "stream",
     "text": [
      "float64\n",
      "float64\n",
      "float64\n",
      "float64\n",
      "float64\n",
      "float64\n",
      "float64\n",
      "float64\n",
      "float64\n",
      "float64\n",
      "float64\n",
      "float64\n",
      "float64\n",
      "float64\n",
      "float64\n",
      "float64\n",
      "float64\n",
      "float64\n",
      "float64\n",
      "float64\n",
      "float64\n",
      "float64\n",
      "float64\n",
      "float64\n",
      "float64\n",
      "float64\n",
      "float64\n",
      "float64\n",
      "float64\n",
      "float64\n",
      "float64\n",
      "float64\n",
      "float64\n",
      "float64\n"
     ]
    }
   ],
   "source": [
    "for column in mismatch_columns1:\n",
    "    print(train_data[column].dtypes)\n",
    "    \n",
    "# ref: https://pandas.pydata.org/docs/reference/api/pandas.DataFrame.dtypes.html"
   ]
  },
  {
   "cell_type": "markdown",
   "metadata": {},
   "source": [
    "All those columns have `float64` data type."
   ]
  },
  {
   "cell_type": "markdown",
   "metadata": {},
   "source": [
    "<div class=\"alert alert-warning\">\n",
    "<b>Reviewer's comment</b>\n",
    "\n",
    "The question was intended not to literally be about datatypes, but rather 'what kind of columns are these?' All of the columns that are present in the train set but not in the test set are either outputs or calculations based on those outputs, and thus you are right, that these columns should be dropped before modeling :)\n",
    "\n",
    "</div>"
   ]
  },
  {
   "cell_type": "markdown",
   "metadata": {},
   "source": [
    "  \n",
    "<div class=\"alert alert-info\">\n",
    "  Student's comments: Got it. Please see my revision below.\n",
    "</div>\n",
    "All of the columns that are present in the train set but are not in the test set are either output (product parameters) or calculation (calculation characteristics based on those outputs)."
   ]
  },
  {
   "cell_type": "markdown",
   "metadata": {},
   "source": [
    "<div class=\"alert alert-success\">\n",
    "<b>Reviewer's comment V2</b>\n",
    "\n",
    "Ok!\n",
    "\n",
    "</div>"
   ]
  },
  {
   "cell_type": "markdown",
   "metadata": {},
   "source": [
    "### Perform data preprocessing\n",
    "\n",
    "#### Perform data preprocessing for the train data\n",
    "\n"
   ]
  },
  {
   "cell_type": "markdown",
   "metadata": {},
   "source": [
    "Because the `test_data` does not have 34 columns that are in the `train_data`, I think most of those 34 columns should be dropped from the `train_data`. Two columns (`rougher.output.recovery`, `final.output.recovery`) of those 34 columns should not be dropped because they are target variables. "
   ]
  },
  {
   "cell_type": "code",
   "execution_count": 25,
   "metadata": {
    "scrolled": false
   },
   "outputs": [
    {
     "data": {
      "text/plain": [
       "['final.output.concentrate_ag',\n",
       " 'final.output.concentrate_pb',\n",
       " 'final.output.concentrate_sol',\n",
       " 'final.output.concentrate_au',\n",
       " 'final.output.tail_ag',\n",
       " 'final.output.tail_pb',\n",
       " 'final.output.tail_sol',\n",
       " 'final.output.tail_au',\n",
       " 'primary_cleaner.output.concentrate_ag',\n",
       " 'primary_cleaner.output.concentrate_pb',\n",
       " 'primary_cleaner.output.concentrate_sol',\n",
       " 'primary_cleaner.output.concentrate_au',\n",
       " 'primary_cleaner.output.tail_ag',\n",
       " 'primary_cleaner.output.tail_pb',\n",
       " 'primary_cleaner.output.tail_sol',\n",
       " 'primary_cleaner.output.tail_au',\n",
       " 'rougher.calculation.sulfate_to_au_concentrate',\n",
       " 'rougher.calculation.floatbank10_sulfate_to_au_feed',\n",
       " 'rougher.calculation.floatbank11_sulfate_to_au_feed',\n",
       " 'rougher.calculation.au_pb_ratio',\n",
       " 'rougher.output.concentrate_ag',\n",
       " 'rougher.output.concentrate_pb',\n",
       " 'rougher.output.concentrate_sol',\n",
       " 'rougher.output.concentrate_au',\n",
       " 'rougher.output.tail_ag',\n",
       " 'rougher.output.tail_pb',\n",
       " 'rougher.output.tail_sol',\n",
       " 'rougher.output.tail_au',\n",
       " 'secondary_cleaner.output.tail_ag',\n",
       " 'secondary_cleaner.output.tail_pb',\n",
       " 'secondary_cleaner.output.tail_sol',\n",
       " 'secondary_cleaner.output.tail_au']"
      ]
     },
     "execution_count": 25,
     "metadata": {},
     "output_type": "execute_result"
    }
   ],
   "source": [
    "targets = ['rougher.output.recovery', 'final.output.recovery']\n",
    "mismatch_columns1_less_targets = [i for i in mismatch_columns1 if i not in targets]\n",
    "mismatch_columns1_less_targets"
   ]
  },
  {
   "cell_type": "code",
   "execution_count": 26,
   "metadata": {},
   "outputs": [
    {
     "data": {
      "text/plain": [
       "list"
      ]
     },
     "execution_count": 26,
     "metadata": {},
     "output_type": "execute_result"
    }
   ],
   "source": [
    "type(mismatch_columns1_less_targets)"
   ]
  },
  {
   "cell_type": "code",
   "execution_count": 27,
   "metadata": {},
   "outputs": [],
   "source": [
    "# train_data_2 = train_data.drop(mismatch_columns1_less_targets, axis=1)\n",
    "train_data2 = train_data.drop(columns = mismatch_columns1_less_targets)"
   ]
  },
  {
   "cell_type": "code",
   "execution_count": 28,
   "metadata": {},
   "outputs": [
    {
     "name": "stdout",
     "output_type": "stream",
     "text": [
      "<class 'pandas.core.frame.DataFrame'>\n",
      "RangeIndex: 16860 entries, 0 to 16859\n",
      "Data columns (total 55 columns):\n",
      "date                                          16860 non-null object\n",
      "final.output.recovery                         15339 non-null float64\n",
      "primary_cleaner.input.sulfate                 15553 non-null float64\n",
      "primary_cleaner.input.depressant              15598 non-null float64\n",
      "primary_cleaner.input.feed_size               16860 non-null float64\n",
      "primary_cleaner.input.xanthate                15875 non-null float64\n",
      "primary_cleaner.state.floatbank8_a_air        16820 non-null float64\n",
      "primary_cleaner.state.floatbank8_a_level      16827 non-null float64\n",
      "primary_cleaner.state.floatbank8_b_air        16820 non-null float64\n",
      "primary_cleaner.state.floatbank8_b_level      16833 non-null float64\n",
      "primary_cleaner.state.floatbank8_c_air        16822 non-null float64\n",
      "primary_cleaner.state.floatbank8_c_level      16833 non-null float64\n",
      "primary_cleaner.state.floatbank8_d_air        16821 non-null float64\n",
      "primary_cleaner.state.floatbank8_d_level      16833 non-null float64\n",
      "rougher.input.feed_ag                         16778 non-null float64\n",
      "rougher.input.feed_pb                         16632 non-null float64\n",
      "rougher.input.feed_rate                       16347 non-null float64\n",
      "rougher.input.feed_size                       16443 non-null float64\n",
      "rougher.input.feed_sol                        16568 non-null float64\n",
      "rougher.input.feed_au                         16777 non-null float64\n",
      "rougher.input.floatbank10_sulfate             15816 non-null float64\n",
      "rougher.input.floatbank10_xanthate            16514 non-null float64\n",
      "rougher.input.floatbank11_sulfate             16237 non-null float64\n",
      "rougher.input.floatbank11_xanthate            14956 non-null float64\n",
      "rougher.output.recovery                       14287 non-null float64\n",
      "rougher.state.floatbank10_a_air               16807 non-null float64\n",
      "rougher.state.floatbank10_a_level             16807 non-null float64\n",
      "rougher.state.floatbank10_b_air               16807 non-null float64\n",
      "rougher.state.floatbank10_b_level             16807 non-null float64\n",
      "rougher.state.floatbank10_c_air               16807 non-null float64\n",
      "rougher.state.floatbank10_c_level             16814 non-null float64\n",
      "rougher.state.floatbank10_d_air               16802 non-null float64\n",
      "rougher.state.floatbank10_d_level             16809 non-null float64\n",
      "rougher.state.floatbank10_e_air               16257 non-null float64\n",
      "rougher.state.floatbank10_e_level             16809 non-null float64\n",
      "rougher.state.floatbank10_f_air               16802 non-null float64\n",
      "rougher.state.floatbank10_f_level             16802 non-null float64\n",
      "secondary_cleaner.state.floatbank2_a_air      16497 non-null float64\n",
      "secondary_cleaner.state.floatbank2_a_level    16751 non-null float64\n",
      "secondary_cleaner.state.floatbank2_b_air      16705 non-null float64\n",
      "secondary_cleaner.state.floatbank2_b_level    16748 non-null float64\n",
      "secondary_cleaner.state.floatbank3_a_air      16763 non-null float64\n",
      "secondary_cleaner.state.floatbank3_a_level    16747 non-null float64\n",
      "secondary_cleaner.state.floatbank3_b_air      16752 non-null float64\n",
      "secondary_cleaner.state.floatbank3_b_level    16750 non-null float64\n",
      "secondary_cleaner.state.floatbank4_a_air      16731 non-null float64\n",
      "secondary_cleaner.state.floatbank4_a_level    16747 non-null float64\n",
      "secondary_cleaner.state.floatbank4_b_air      16768 non-null float64\n",
      "secondary_cleaner.state.floatbank4_b_level    16767 non-null float64\n",
      "secondary_cleaner.state.floatbank5_a_air      16775 non-null float64\n",
      "secondary_cleaner.state.floatbank5_a_level    16775 non-null float64\n",
      "secondary_cleaner.state.floatbank5_b_air      16775 non-null float64\n",
      "secondary_cleaner.state.floatbank5_b_level    16776 non-null float64\n",
      "secondary_cleaner.state.floatbank6_a_air      16757 non-null float64\n",
      "secondary_cleaner.state.floatbank6_a_level    16775 non-null float64\n",
      "dtypes: float64(54), object(1)\n",
      "memory usage: 7.1+ MB\n"
     ]
    }
   ],
   "source": [
    "train_data2.info()"
   ]
  },
  {
   "cell_type": "markdown",
   "metadata": {},
   "source": [
    "Let's look at the percentage of missing values in `train_data2`. "
   ]
  },
  {
   "cell_type": "code",
   "execution_count": 29,
   "metadata": {
    "scrolled": false
   },
   "outputs": [
    {
     "name": "stdout",
     "output_type": "stream",
     "text": [
      "rougher.output.recovery                       15.260973\n",
      "rougher.input.floatbank11_xanthate            11.293001\n",
      "final.output.recovery                          9.021352\n",
      "primary_cleaner.input.sulfate                  7.752076\n",
      "primary_cleaner.input.depressant               7.485172\n",
      "rougher.input.floatbank10_sulfate              6.192171\n",
      "primary_cleaner.input.xanthate                 5.842230\n",
      "rougher.input.floatbank11_sulfate              3.695136\n",
      "rougher.state.floatbank10_e_air                3.576512\n",
      "rougher.input.feed_rate                        3.042705\n",
      "rougher.input.feed_size                        2.473310\n",
      "secondary_cleaner.state.floatbank2_a_air       2.153025\n",
      "rougher.input.floatbank10_xanthate             2.052195\n",
      "rougher.input.feed_sol                         1.731910\n",
      "rougher.input.feed_pb                          1.352313\n",
      "secondary_cleaner.state.floatbank2_b_air       0.919336\n",
      "secondary_cleaner.state.floatbank4_a_air       0.765125\n",
      "secondary_cleaner.state.floatbank3_a_level     0.670225\n",
      "secondary_cleaner.state.floatbank4_a_level     0.670225\n",
      "secondary_cleaner.state.floatbank2_b_level     0.664294\n",
      "secondary_cleaner.state.floatbank3_b_level     0.652432\n",
      "secondary_cleaner.state.floatbank2_a_level     0.646501\n",
      "secondary_cleaner.state.floatbank3_b_air       0.640569\n",
      "secondary_cleaner.state.floatbank6_a_air       0.610913\n",
      "secondary_cleaner.state.floatbank3_a_air       0.575326\n",
      "secondary_cleaner.state.floatbank4_b_level     0.551601\n",
      "secondary_cleaner.state.floatbank4_b_air       0.545670\n",
      "secondary_cleaner.state.floatbank6_a_level     0.504152\n",
      "secondary_cleaner.state.floatbank5_a_air       0.504152\n",
      "secondary_cleaner.state.floatbank5_a_level     0.504152\n",
      "secondary_cleaner.state.floatbank5_b_air       0.504152\n",
      "secondary_cleaner.state.floatbank5_b_level     0.498221\n",
      "rougher.input.feed_au                          0.492289\n",
      "rougher.input.feed_ag                          0.486358\n",
      "rougher.state.floatbank10_d_air                0.344009\n",
      "rougher.state.floatbank10_f_air                0.344009\n",
      "rougher.state.floatbank10_f_level              0.344009\n",
      "rougher.state.floatbank10_b_air                0.314353\n",
      "rougher.state.floatbank10_a_air                0.314353\n",
      "rougher.state.floatbank10_a_level              0.314353\n",
      "rougher.state.floatbank10_b_level              0.314353\n",
      "rougher.state.floatbank10_c_air                0.314353\n",
      "rougher.state.floatbank10_e_level              0.302491\n",
      "rougher.state.floatbank10_d_level              0.302491\n",
      "rougher.state.floatbank10_c_level              0.272835\n",
      "primary_cleaner.state.floatbank8_a_air         0.237248\n",
      "primary_cleaner.state.floatbank8_b_air         0.237248\n",
      "primary_cleaner.state.floatbank8_d_air         0.231317\n",
      "primary_cleaner.state.floatbank8_c_air         0.225386\n",
      "primary_cleaner.state.floatbank8_a_level       0.195730\n",
      "primary_cleaner.state.floatbank8_b_level       0.160142\n",
      "primary_cleaner.state.floatbank8_c_level       0.160142\n",
      "primary_cleaner.state.floatbank8_d_level       0.160142\n",
      "primary_cleaner.input.feed_size                0.000000\n",
      "date                                           0.000000\n",
      "dtype: float64\n"
     ]
    }
   ],
   "source": [
    "train_data2_missing_perct = (train_data2.isna().sum())/train_data2.shape[0]*100\n",
    "print(train_data2_missing_perct.sort_values(ascending=False))"
   ]
  },
  {
   "cell_type": "code",
   "execution_count": 30,
   "metadata": {},
   "outputs": [
    {
     "name": "stdout",
     "output_type": "stream",
     "text": [
      "<class 'pandas.core.frame.DataFrame'>\n",
      "RangeIndex: 12679 entries, 0 to 12678\n",
      "Data columns (total 55 columns):\n",
      "date                                          12679 non-null object\n",
      "final.output.recovery                         12679 non-null float64\n",
      "primary_cleaner.input.sulfate                 12679 non-null float64\n",
      "primary_cleaner.input.depressant              12679 non-null float64\n",
      "primary_cleaner.input.feed_size               12679 non-null float64\n",
      "primary_cleaner.input.xanthate                12679 non-null float64\n",
      "primary_cleaner.state.floatbank8_a_air        12679 non-null float64\n",
      "primary_cleaner.state.floatbank8_a_level      12679 non-null float64\n",
      "primary_cleaner.state.floatbank8_b_air        12679 non-null float64\n",
      "primary_cleaner.state.floatbank8_b_level      12679 non-null float64\n",
      "primary_cleaner.state.floatbank8_c_air        12679 non-null float64\n",
      "primary_cleaner.state.floatbank8_c_level      12679 non-null float64\n",
      "primary_cleaner.state.floatbank8_d_air        12679 non-null float64\n",
      "primary_cleaner.state.floatbank8_d_level      12679 non-null float64\n",
      "rougher.input.feed_ag                         12679 non-null float64\n",
      "rougher.input.feed_pb                         12679 non-null float64\n",
      "rougher.input.feed_rate                       12679 non-null float64\n",
      "rougher.input.feed_size                       12679 non-null float64\n",
      "rougher.input.feed_sol                        12679 non-null float64\n",
      "rougher.input.feed_au                         12679 non-null float64\n",
      "rougher.input.floatbank10_sulfate             12679 non-null float64\n",
      "rougher.input.floatbank10_xanthate            12679 non-null float64\n",
      "rougher.input.floatbank11_sulfate             12679 non-null float64\n",
      "rougher.input.floatbank11_xanthate            12679 non-null float64\n",
      "rougher.output.recovery                       12679 non-null float64\n",
      "rougher.state.floatbank10_a_air               12679 non-null float64\n",
      "rougher.state.floatbank10_a_level             12679 non-null float64\n",
      "rougher.state.floatbank10_b_air               12679 non-null float64\n",
      "rougher.state.floatbank10_b_level             12679 non-null float64\n",
      "rougher.state.floatbank10_c_air               12679 non-null float64\n",
      "rougher.state.floatbank10_c_level             12679 non-null float64\n",
      "rougher.state.floatbank10_d_air               12679 non-null float64\n",
      "rougher.state.floatbank10_d_level             12679 non-null float64\n",
      "rougher.state.floatbank10_e_air               12679 non-null float64\n",
      "rougher.state.floatbank10_e_level             12679 non-null float64\n",
      "rougher.state.floatbank10_f_air               12679 non-null float64\n",
      "rougher.state.floatbank10_f_level             12679 non-null float64\n",
      "secondary_cleaner.state.floatbank2_a_air      12679 non-null float64\n",
      "secondary_cleaner.state.floatbank2_a_level    12679 non-null float64\n",
      "secondary_cleaner.state.floatbank2_b_air      12679 non-null float64\n",
      "secondary_cleaner.state.floatbank2_b_level    12679 non-null float64\n",
      "secondary_cleaner.state.floatbank3_a_air      12679 non-null float64\n",
      "secondary_cleaner.state.floatbank3_a_level    12679 non-null float64\n",
      "secondary_cleaner.state.floatbank3_b_air      12679 non-null float64\n",
      "secondary_cleaner.state.floatbank3_b_level    12679 non-null float64\n",
      "secondary_cleaner.state.floatbank4_a_air      12679 non-null float64\n",
      "secondary_cleaner.state.floatbank4_a_level    12679 non-null float64\n",
      "secondary_cleaner.state.floatbank4_b_air      12679 non-null float64\n",
      "secondary_cleaner.state.floatbank4_b_level    12679 non-null float64\n",
      "secondary_cleaner.state.floatbank5_a_air      12679 non-null float64\n",
      "secondary_cleaner.state.floatbank5_a_level    12679 non-null float64\n",
      "secondary_cleaner.state.floatbank5_b_air      12679 non-null float64\n",
      "secondary_cleaner.state.floatbank5_b_level    12679 non-null float64\n",
      "secondary_cleaner.state.floatbank6_a_air      12679 non-null float64\n",
      "secondary_cleaner.state.floatbank6_a_level    12679 non-null float64\n",
      "dtypes: float64(54), object(1)\n",
      "memory usage: 5.3+ MB\n"
     ]
    }
   ],
   "source": [
    "train_data2.dropna(inplace=True)\n",
    "train_data2.reset_index(drop=True, inplace=True)\n",
    "train_data2.info()"
   ]
  },
  {
   "cell_type": "code",
   "execution_count": 31,
   "metadata": {
    "scrolled": true
   },
   "outputs": [
    {
     "data": {
      "text/html": [
       "<div>\n",
       "<style scoped>\n",
       "    .dataframe tbody tr th:only-of-type {\n",
       "        vertical-align: middle;\n",
       "    }\n",
       "\n",
       "    .dataframe tbody tr th {\n",
       "        vertical-align: top;\n",
       "    }\n",
       "\n",
       "    .dataframe thead th {\n",
       "        text-align: right;\n",
       "    }\n",
       "</style>\n",
       "<table border=\"1\" class=\"dataframe\">\n",
       "  <thead>\n",
       "    <tr style=\"text-align: right;\">\n",
       "      <th></th>\n",
       "      <th>date</th>\n",
       "      <th>final.output.recovery</th>\n",
       "      <th>primary_cleaner.input.sulfate</th>\n",
       "      <th>primary_cleaner.input.depressant</th>\n",
       "      <th>primary_cleaner.input.feed_size</th>\n",
       "      <th>primary_cleaner.input.xanthate</th>\n",
       "      <th>primary_cleaner.state.floatbank8_a_air</th>\n",
       "      <th>primary_cleaner.state.floatbank8_a_level</th>\n",
       "      <th>primary_cleaner.state.floatbank8_b_air</th>\n",
       "      <th>primary_cleaner.state.floatbank8_b_level</th>\n",
       "      <th>...</th>\n",
       "      <th>secondary_cleaner.state.floatbank4_a_air</th>\n",
       "      <th>secondary_cleaner.state.floatbank4_a_level</th>\n",
       "      <th>secondary_cleaner.state.floatbank4_b_air</th>\n",
       "      <th>secondary_cleaner.state.floatbank4_b_level</th>\n",
       "      <th>secondary_cleaner.state.floatbank5_a_air</th>\n",
       "      <th>secondary_cleaner.state.floatbank5_a_level</th>\n",
       "      <th>secondary_cleaner.state.floatbank5_b_air</th>\n",
       "      <th>secondary_cleaner.state.floatbank5_b_level</th>\n",
       "      <th>secondary_cleaner.state.floatbank6_a_air</th>\n",
       "      <th>secondary_cleaner.state.floatbank6_a_level</th>\n",
       "    </tr>\n",
       "  </thead>\n",
       "  <tbody>\n",
       "    <tr>\n",
       "      <td>0</td>\n",
       "      <td>2016-01-15 00:00:00</td>\n",
       "      <td>70.541216</td>\n",
       "      <td>127.092003</td>\n",
       "      <td>10.128295</td>\n",
       "      <td>7.25</td>\n",
       "      <td>0.988759</td>\n",
       "      <td>1549.775757</td>\n",
       "      <td>-498.912140</td>\n",
       "      <td>1551.434204</td>\n",
       "      <td>-516.403442</td>\n",
       "      <td>...</td>\n",
       "      <td>14.016835</td>\n",
       "      <td>-502.488007</td>\n",
       "      <td>12.099931</td>\n",
       "      <td>-504.715942</td>\n",
       "      <td>9.925633</td>\n",
       "      <td>-498.310211</td>\n",
       "      <td>8.079666</td>\n",
       "      <td>-500.470978</td>\n",
       "      <td>14.151341</td>\n",
       "      <td>-605.841980</td>\n",
       "    </tr>\n",
       "    <tr>\n",
       "      <td>1</td>\n",
       "      <td>2016-01-15 01:00:00</td>\n",
       "      <td>69.266198</td>\n",
       "      <td>125.629232</td>\n",
       "      <td>10.296251</td>\n",
       "      <td>7.25</td>\n",
       "      <td>1.002663</td>\n",
       "      <td>1576.166671</td>\n",
       "      <td>-500.904965</td>\n",
       "      <td>1575.950626</td>\n",
       "      <td>-499.865889</td>\n",
       "      <td>...</td>\n",
       "      <td>13.992281</td>\n",
       "      <td>-505.503262</td>\n",
       "      <td>11.950531</td>\n",
       "      <td>-501.331529</td>\n",
       "      <td>10.039245</td>\n",
       "      <td>-500.169983</td>\n",
       "      <td>7.984757</td>\n",
       "      <td>-500.582168</td>\n",
       "      <td>13.998353</td>\n",
       "      <td>-599.787184</td>\n",
       "    </tr>\n",
       "    <tr>\n",
       "      <td>2</td>\n",
       "      <td>2016-01-15 02:00:00</td>\n",
       "      <td>68.116445</td>\n",
       "      <td>123.819808</td>\n",
       "      <td>11.316280</td>\n",
       "      <td>7.25</td>\n",
       "      <td>0.991265</td>\n",
       "      <td>1601.556163</td>\n",
       "      <td>-499.997791</td>\n",
       "      <td>1600.386685</td>\n",
       "      <td>-500.607762</td>\n",
       "      <td>...</td>\n",
       "      <td>14.015015</td>\n",
       "      <td>-502.520901</td>\n",
       "      <td>11.912783</td>\n",
       "      <td>-501.133383</td>\n",
       "      <td>10.070913</td>\n",
       "      <td>-500.129135</td>\n",
       "      <td>8.013877</td>\n",
       "      <td>-500.517572</td>\n",
       "      <td>14.028663</td>\n",
       "      <td>-601.427363</td>\n",
       "    </tr>\n",
       "    <tr>\n",
       "      <td>3</td>\n",
       "      <td>2016-01-15 03:00:00</td>\n",
       "      <td>68.347543</td>\n",
       "      <td>122.270188</td>\n",
       "      <td>11.322140</td>\n",
       "      <td>7.25</td>\n",
       "      <td>0.996739</td>\n",
       "      <td>1599.968720</td>\n",
       "      <td>-500.951778</td>\n",
       "      <td>1600.659236</td>\n",
       "      <td>-499.677094</td>\n",
       "      <td>...</td>\n",
       "      <td>14.036510</td>\n",
       "      <td>-500.857308</td>\n",
       "      <td>11.999550</td>\n",
       "      <td>-501.193686</td>\n",
       "      <td>9.970366</td>\n",
       "      <td>-499.201640</td>\n",
       "      <td>7.977324</td>\n",
       "      <td>-500.255908</td>\n",
       "      <td>14.005551</td>\n",
       "      <td>-599.996129</td>\n",
       "    </tr>\n",
       "    <tr>\n",
       "      <td>4</td>\n",
       "      <td>2016-01-15 04:00:00</td>\n",
       "      <td>66.927016</td>\n",
       "      <td>117.988169</td>\n",
       "      <td>11.913613</td>\n",
       "      <td>7.25</td>\n",
       "      <td>1.009869</td>\n",
       "      <td>1601.339707</td>\n",
       "      <td>-498.975456</td>\n",
       "      <td>1601.437854</td>\n",
       "      <td>-500.323246</td>\n",
       "      <td>...</td>\n",
       "      <td>14.027298</td>\n",
       "      <td>-499.838632</td>\n",
       "      <td>11.953070</td>\n",
       "      <td>-501.053894</td>\n",
       "      <td>9.925709</td>\n",
       "      <td>-501.686727</td>\n",
       "      <td>7.894242</td>\n",
       "      <td>-500.356035</td>\n",
       "      <td>13.996647</td>\n",
       "      <td>-601.496691</td>\n",
       "    </tr>\n",
       "    <tr>\n",
       "      <td>5</td>\n",
       "      <td>2016-01-15 05:00:00</td>\n",
       "      <td>69.465816</td>\n",
       "      <td>115.581252</td>\n",
       "      <td>12.470773</td>\n",
       "      <td>7.25</td>\n",
       "      <td>0.965760</td>\n",
       "      <td>1602.964922</td>\n",
       "      <td>-498.090944</td>\n",
       "      <td>1602.074298</td>\n",
       "      <td>-500.179481</td>\n",
       "      <td>...</td>\n",
       "      <td>13.938497</td>\n",
       "      <td>-500.970168</td>\n",
       "      <td>11.883350</td>\n",
       "      <td>-500.395298</td>\n",
       "      <td>10.054147</td>\n",
       "      <td>-496.374715</td>\n",
       "      <td>7.965083</td>\n",
       "      <td>-499.364752</td>\n",
       "      <td>14.017067</td>\n",
       "      <td>-599.707915</td>\n",
       "    </tr>\n",
       "    <tr>\n",
       "      <td>6</td>\n",
       "      <td>2016-01-15 06:00:00</td>\n",
       "      <td>69.300835</td>\n",
       "      <td>117.322323</td>\n",
       "      <td>12.469088</td>\n",
       "      <td>7.25</td>\n",
       "      <td>0.895207</td>\n",
       "      <td>1597.532455</td>\n",
       "      <td>-500.985364</td>\n",
       "      <td>1602.816321</td>\n",
       "      <td>-500.696736</td>\n",
       "      <td>...</td>\n",
       "      <td>14.046819</td>\n",
       "      <td>-500.971133</td>\n",
       "      <td>12.091543</td>\n",
       "      <td>-500.501426</td>\n",
       "      <td>10.003247</td>\n",
       "      <td>-497.083180</td>\n",
       "      <td>8.010890</td>\n",
       "      <td>-500.002423</td>\n",
       "      <td>14.029649</td>\n",
       "      <td>-600.905470</td>\n",
       "    </tr>\n",
       "    <tr>\n",
       "      <td>7</td>\n",
       "      <td>2016-01-15 07:00:00</td>\n",
       "      <td>70.230976</td>\n",
       "      <td>124.592960</td>\n",
       "      <td>12.467403</td>\n",
       "      <td>7.25</td>\n",
       "      <td>0.901202</td>\n",
       "      <td>1597.946266</td>\n",
       "      <td>-501.592304</td>\n",
       "      <td>1601.078254</td>\n",
       "      <td>-499.494115</td>\n",
       "      <td>...</td>\n",
       "      <td>13.974691</td>\n",
       "      <td>-501.819696</td>\n",
       "      <td>12.101324</td>\n",
       "      <td>-500.583446</td>\n",
       "      <td>9.873169</td>\n",
       "      <td>-499.171928</td>\n",
       "      <td>7.993381</td>\n",
       "      <td>-499.794518</td>\n",
       "      <td>13.984498</td>\n",
       "      <td>-600.411070</td>\n",
       "    </tr>\n",
       "    <tr>\n",
       "      <td>8</td>\n",
       "      <td>2016-01-15 08:00:00</td>\n",
       "      <td>69.688595</td>\n",
       "      <td>131.781026</td>\n",
       "      <td>12.465718</td>\n",
       "      <td>7.25</td>\n",
       "      <td>0.885535</td>\n",
       "      <td>1601.670053</td>\n",
       "      <td>-499.548891</td>\n",
       "      <td>1598.804355</td>\n",
       "      <td>-499.689644</td>\n",
       "      <td>...</td>\n",
       "      <td>13.964030</td>\n",
       "      <td>-504.252450</td>\n",
       "      <td>12.060738</td>\n",
       "      <td>-501.174549</td>\n",
       "      <td>10.033838</td>\n",
       "      <td>-501.178133</td>\n",
       "      <td>7.881604</td>\n",
       "      <td>-499.729434</td>\n",
       "      <td>13.967135</td>\n",
       "      <td>-599.061188</td>\n",
       "    </tr>\n",
       "    <tr>\n",
       "      <td>9</td>\n",
       "      <td>2016-01-15 09:00:00</td>\n",
       "      <td>70.279619</td>\n",
       "      <td>138.120409</td>\n",
       "      <td>12.464032</td>\n",
       "      <td>7.25</td>\n",
       "      <td>0.898779</td>\n",
       "      <td>1603.436598</td>\n",
       "      <td>-499.864400</td>\n",
       "      <td>1597.455353</td>\n",
       "      <td>-500.266905</td>\n",
       "      <td>...</td>\n",
       "      <td>13.989632</td>\n",
       "      <td>-503.195299</td>\n",
       "      <td>12.052233</td>\n",
       "      <td>-500.928547</td>\n",
       "      <td>9.962574</td>\n",
       "      <td>-502.986357</td>\n",
       "      <td>7.979219</td>\n",
       "      <td>-500.146835</td>\n",
       "      <td>13.981614</td>\n",
       "      <td>-598.070855</td>\n",
       "    </tr>\n",
       "  </tbody>\n",
       "</table>\n",
       "<p>10 rows × 55 columns</p>\n",
       "</div>"
      ],
      "text/plain": [
       "                  date  final.output.recovery  primary_cleaner.input.sulfate  \\\n",
       "0  2016-01-15 00:00:00              70.541216                     127.092003   \n",
       "1  2016-01-15 01:00:00              69.266198                     125.629232   \n",
       "2  2016-01-15 02:00:00              68.116445                     123.819808   \n",
       "3  2016-01-15 03:00:00              68.347543                     122.270188   \n",
       "4  2016-01-15 04:00:00              66.927016                     117.988169   \n",
       "5  2016-01-15 05:00:00              69.465816                     115.581252   \n",
       "6  2016-01-15 06:00:00              69.300835                     117.322323   \n",
       "7  2016-01-15 07:00:00              70.230976                     124.592960   \n",
       "8  2016-01-15 08:00:00              69.688595                     131.781026   \n",
       "9  2016-01-15 09:00:00              70.279619                     138.120409   \n",
       "\n",
       "   primary_cleaner.input.depressant  primary_cleaner.input.feed_size  \\\n",
       "0                         10.128295                             7.25   \n",
       "1                         10.296251                             7.25   \n",
       "2                         11.316280                             7.25   \n",
       "3                         11.322140                             7.25   \n",
       "4                         11.913613                             7.25   \n",
       "5                         12.470773                             7.25   \n",
       "6                         12.469088                             7.25   \n",
       "7                         12.467403                             7.25   \n",
       "8                         12.465718                             7.25   \n",
       "9                         12.464032                             7.25   \n",
       "\n",
       "   primary_cleaner.input.xanthate  primary_cleaner.state.floatbank8_a_air  \\\n",
       "0                        0.988759                             1549.775757   \n",
       "1                        1.002663                             1576.166671   \n",
       "2                        0.991265                             1601.556163   \n",
       "3                        0.996739                             1599.968720   \n",
       "4                        1.009869                             1601.339707   \n",
       "5                        0.965760                             1602.964922   \n",
       "6                        0.895207                             1597.532455   \n",
       "7                        0.901202                             1597.946266   \n",
       "8                        0.885535                             1601.670053   \n",
       "9                        0.898779                             1603.436598   \n",
       "\n",
       "   primary_cleaner.state.floatbank8_a_level  \\\n",
       "0                               -498.912140   \n",
       "1                               -500.904965   \n",
       "2                               -499.997791   \n",
       "3                               -500.951778   \n",
       "4                               -498.975456   \n",
       "5                               -498.090944   \n",
       "6                               -500.985364   \n",
       "7                               -501.592304   \n",
       "8                               -499.548891   \n",
       "9                               -499.864400   \n",
       "\n",
       "   primary_cleaner.state.floatbank8_b_air  \\\n",
       "0                             1551.434204   \n",
       "1                             1575.950626   \n",
       "2                             1600.386685   \n",
       "3                             1600.659236   \n",
       "4                             1601.437854   \n",
       "5                             1602.074298   \n",
       "6                             1602.816321   \n",
       "7                             1601.078254   \n",
       "8                             1598.804355   \n",
       "9                             1597.455353   \n",
       "\n",
       "   primary_cleaner.state.floatbank8_b_level  ...  \\\n",
       "0                               -516.403442  ...   \n",
       "1                               -499.865889  ...   \n",
       "2                               -500.607762  ...   \n",
       "3                               -499.677094  ...   \n",
       "4                               -500.323246  ...   \n",
       "5                               -500.179481  ...   \n",
       "6                               -500.696736  ...   \n",
       "7                               -499.494115  ...   \n",
       "8                               -499.689644  ...   \n",
       "9                               -500.266905  ...   \n",
       "\n",
       "   secondary_cleaner.state.floatbank4_a_air  \\\n",
       "0                                 14.016835   \n",
       "1                                 13.992281   \n",
       "2                                 14.015015   \n",
       "3                                 14.036510   \n",
       "4                                 14.027298   \n",
       "5                                 13.938497   \n",
       "6                                 14.046819   \n",
       "7                                 13.974691   \n",
       "8                                 13.964030   \n",
       "9                                 13.989632   \n",
       "\n",
       "   secondary_cleaner.state.floatbank4_a_level  \\\n",
       "0                                 -502.488007   \n",
       "1                                 -505.503262   \n",
       "2                                 -502.520901   \n",
       "3                                 -500.857308   \n",
       "4                                 -499.838632   \n",
       "5                                 -500.970168   \n",
       "6                                 -500.971133   \n",
       "7                                 -501.819696   \n",
       "8                                 -504.252450   \n",
       "9                                 -503.195299   \n",
       "\n",
       "   secondary_cleaner.state.floatbank4_b_air  \\\n",
       "0                                 12.099931   \n",
       "1                                 11.950531   \n",
       "2                                 11.912783   \n",
       "3                                 11.999550   \n",
       "4                                 11.953070   \n",
       "5                                 11.883350   \n",
       "6                                 12.091543   \n",
       "7                                 12.101324   \n",
       "8                                 12.060738   \n",
       "9                                 12.052233   \n",
       "\n",
       "   secondary_cleaner.state.floatbank4_b_level  \\\n",
       "0                                 -504.715942   \n",
       "1                                 -501.331529   \n",
       "2                                 -501.133383   \n",
       "3                                 -501.193686   \n",
       "4                                 -501.053894   \n",
       "5                                 -500.395298   \n",
       "6                                 -500.501426   \n",
       "7                                 -500.583446   \n",
       "8                                 -501.174549   \n",
       "9                                 -500.928547   \n",
       "\n",
       "   secondary_cleaner.state.floatbank5_a_air  \\\n",
       "0                                  9.925633   \n",
       "1                                 10.039245   \n",
       "2                                 10.070913   \n",
       "3                                  9.970366   \n",
       "4                                  9.925709   \n",
       "5                                 10.054147   \n",
       "6                                 10.003247   \n",
       "7                                  9.873169   \n",
       "8                                 10.033838   \n",
       "9                                  9.962574   \n",
       "\n",
       "   secondary_cleaner.state.floatbank5_a_level  \\\n",
       "0                                 -498.310211   \n",
       "1                                 -500.169983   \n",
       "2                                 -500.129135   \n",
       "3                                 -499.201640   \n",
       "4                                 -501.686727   \n",
       "5                                 -496.374715   \n",
       "6                                 -497.083180   \n",
       "7                                 -499.171928   \n",
       "8                                 -501.178133   \n",
       "9                                 -502.986357   \n",
       "\n",
       "   secondary_cleaner.state.floatbank5_b_air  \\\n",
       "0                                  8.079666   \n",
       "1                                  7.984757   \n",
       "2                                  8.013877   \n",
       "3                                  7.977324   \n",
       "4                                  7.894242   \n",
       "5                                  7.965083   \n",
       "6                                  8.010890   \n",
       "7                                  7.993381   \n",
       "8                                  7.881604   \n",
       "9                                  7.979219   \n",
       "\n",
       "   secondary_cleaner.state.floatbank5_b_level  \\\n",
       "0                                 -500.470978   \n",
       "1                                 -500.582168   \n",
       "2                                 -500.517572   \n",
       "3                                 -500.255908   \n",
       "4                                 -500.356035   \n",
       "5                                 -499.364752   \n",
       "6                                 -500.002423   \n",
       "7                                 -499.794518   \n",
       "8                                 -499.729434   \n",
       "9                                 -500.146835   \n",
       "\n",
       "   secondary_cleaner.state.floatbank6_a_air  \\\n",
       "0                                 14.151341   \n",
       "1                                 13.998353   \n",
       "2                                 14.028663   \n",
       "3                                 14.005551   \n",
       "4                                 13.996647   \n",
       "5                                 14.017067   \n",
       "6                                 14.029649   \n",
       "7                                 13.984498   \n",
       "8                                 13.967135   \n",
       "9                                 13.981614   \n",
       "\n",
       "   secondary_cleaner.state.floatbank6_a_level  \n",
       "0                                 -605.841980  \n",
       "1                                 -599.787184  \n",
       "2                                 -601.427363  \n",
       "3                                 -599.996129  \n",
       "4                                 -601.496691  \n",
       "5                                 -599.707915  \n",
       "6                                 -600.905470  \n",
       "7                                 -600.411070  \n",
       "8                                 -599.061188  \n",
       "9                                 -598.070855  \n",
       "\n",
       "[10 rows x 55 columns]"
      ]
     },
     "metadata": {},
     "output_type": "display_data"
    }
   ],
   "source": [
    "display(train_data2.head(10))"
   ]
  },
  {
   "cell_type": "code",
   "execution_count": 32,
   "metadata": {},
   "outputs": [
    {
     "data": {
      "text/html": [
       "<div>\n",
       "<style scoped>\n",
       "    .dataframe tbody tr th:only-of-type {\n",
       "        vertical-align: middle;\n",
       "    }\n",
       "\n",
       "    .dataframe tbody tr th {\n",
       "        vertical-align: top;\n",
       "    }\n",
       "\n",
       "    .dataframe thead th {\n",
       "        text-align: right;\n",
       "    }\n",
       "</style>\n",
       "<table border=\"1\" class=\"dataframe\">\n",
       "  <thead>\n",
       "    <tr style=\"text-align: right;\">\n",
       "      <th></th>\n",
       "      <th>date</th>\n",
       "      <th>final.output.recovery</th>\n",
       "      <th>primary_cleaner.input.sulfate</th>\n",
       "      <th>primary_cleaner.input.depressant</th>\n",
       "      <th>primary_cleaner.input.feed_size</th>\n",
       "      <th>primary_cleaner.input.xanthate</th>\n",
       "      <th>primary_cleaner.state.floatbank8_a_air</th>\n",
       "      <th>primary_cleaner.state.floatbank8_a_level</th>\n",
       "      <th>primary_cleaner.state.floatbank8_b_air</th>\n",
       "      <th>primary_cleaner.state.floatbank8_b_level</th>\n",
       "      <th>...</th>\n",
       "      <th>secondary_cleaner.state.floatbank4_a_air</th>\n",
       "      <th>secondary_cleaner.state.floatbank4_a_level</th>\n",
       "      <th>secondary_cleaner.state.floatbank4_b_air</th>\n",
       "      <th>secondary_cleaner.state.floatbank4_b_level</th>\n",
       "      <th>secondary_cleaner.state.floatbank5_a_air</th>\n",
       "      <th>secondary_cleaner.state.floatbank5_a_level</th>\n",
       "      <th>secondary_cleaner.state.floatbank5_b_air</th>\n",
       "      <th>secondary_cleaner.state.floatbank5_b_level</th>\n",
       "      <th>secondary_cleaner.state.floatbank6_a_air</th>\n",
       "      <th>secondary_cleaner.state.floatbank6_a_level</th>\n",
       "    </tr>\n",
       "  </thead>\n",
       "  <tbody>\n",
       "    <tr>\n",
       "      <td>12669</td>\n",
       "      <td>2018-08-18 01:59:59</td>\n",
       "      <td>73.265872</td>\n",
       "      <td>132.723539</td>\n",
       "      <td>8.003791</td>\n",
       "      <td>6.283333</td>\n",
       "      <td>1.148652</td>\n",
       "      <td>1647.735565</td>\n",
       "      <td>-400.061136</td>\n",
       "      <td>1649.457537</td>\n",
       "      <td>-399.456945</td>\n",
       "      <td>...</td>\n",
       "      <td>23.015413</td>\n",
       "      <td>-501.287519</td>\n",
       "      <td>20.057415</td>\n",
       "      <td>-499.600478</td>\n",
       "      <td>17.985857</td>\n",
       "      <td>-500.239983</td>\n",
       "      <td>12.974452</td>\n",
       "      <td>-499.879930</td>\n",
       "      <td>19.988701</td>\n",
       "      <td>-501.037332</td>\n",
       "    </tr>\n",
       "    <tr>\n",
       "      <td>12670</td>\n",
       "      <td>2018-08-18 02:59:59</td>\n",
       "      <td>68.369674</td>\n",
       "      <td>132.726374</td>\n",
       "      <td>8.009750</td>\n",
       "      <td>6.500000</td>\n",
       "      <td>1.230668</td>\n",
       "      <td>1648.023813</td>\n",
       "      <td>-399.457524</td>\n",
       "      <td>1649.909661</td>\n",
       "      <td>-400.627000</td>\n",
       "      <td>...</td>\n",
       "      <td>23.017115</td>\n",
       "      <td>-501.665249</td>\n",
       "      <td>20.044418</td>\n",
       "      <td>-500.415095</td>\n",
       "      <td>18.026001</td>\n",
       "      <td>-499.866058</td>\n",
       "      <td>13.001740</td>\n",
       "      <td>-499.914235</td>\n",
       "      <td>20.005963</td>\n",
       "      <td>-500.767097</td>\n",
       "    </tr>\n",
       "    <tr>\n",
       "      <td>12671</td>\n",
       "      <td>2018-08-18 03:59:59</td>\n",
       "      <td>64.054699</td>\n",
       "      <td>125.423263</td>\n",
       "      <td>8.014263</td>\n",
       "      <td>6.500000</td>\n",
       "      <td>1.338973</td>\n",
       "      <td>1648.628464</td>\n",
       "      <td>-400.254719</td>\n",
       "      <td>1649.423778</td>\n",
       "      <td>-399.892993</td>\n",
       "      <td>...</td>\n",
       "      <td>23.030949</td>\n",
       "      <td>-501.196721</td>\n",
       "      <td>20.034440</td>\n",
       "      <td>-499.842047</td>\n",
       "      <td>18.001504</td>\n",
       "      <td>-499.872052</td>\n",
       "      <td>12.998309</td>\n",
       "      <td>-500.027809</td>\n",
       "      <td>20.007108</td>\n",
       "      <td>-500.850685</td>\n",
       "    </tr>\n",
       "    <tr>\n",
       "      <td>12672</td>\n",
       "      <td>2018-08-18 04:59:59</td>\n",
       "      <td>68.643324</td>\n",
       "      <td>114.108530</td>\n",
       "      <td>7.961098</td>\n",
       "      <td>6.500000</td>\n",
       "      <td>1.298811</td>\n",
       "      <td>1648.754818</td>\n",
       "      <td>-400.169291</td>\n",
       "      <td>1648.508847</td>\n",
       "      <td>-399.896538</td>\n",
       "      <td>...</td>\n",
       "      <td>23.033246</td>\n",
       "      <td>-500.912210</td>\n",
       "      <td>19.988437</td>\n",
       "      <td>-500.125966</td>\n",
       "      <td>18.011724</td>\n",
       "      <td>-500.090861</td>\n",
       "      <td>13.007108</td>\n",
       "      <td>-500.258238</td>\n",
       "      <td>19.983872</td>\n",
       "      <td>-502.581707</td>\n",
       "    </tr>\n",
       "    <tr>\n",
       "      <td>12673</td>\n",
       "      <td>2018-08-18 05:59:59</td>\n",
       "      <td>74.817644</td>\n",
       "      <td>119.497545</td>\n",
       "      <td>8.003752</td>\n",
       "      <td>6.500000</td>\n",
       "      <td>1.259741</td>\n",
       "      <td>1647.368779</td>\n",
       "      <td>-399.788506</td>\n",
       "      <td>1648.395206</td>\n",
       "      <td>-400.166490</td>\n",
       "      <td>...</td>\n",
       "      <td>22.993827</td>\n",
       "      <td>-501.559663</td>\n",
       "      <td>20.029144</td>\n",
       "      <td>-500.000662</td>\n",
       "      <td>18.012723</td>\n",
       "      <td>-500.024764</td>\n",
       "      <td>13.016445</td>\n",
       "      <td>-500.058432</td>\n",
       "      <td>19.973767</td>\n",
       "      <td>-501.394155</td>\n",
       "    </tr>\n",
       "    <tr>\n",
       "      <td>12674</td>\n",
       "      <td>2018-08-18 06:59:59</td>\n",
       "      <td>73.755150</td>\n",
       "      <td>123.381787</td>\n",
       "      <td>8.028927</td>\n",
       "      <td>6.500000</td>\n",
       "      <td>1.304232</td>\n",
       "      <td>1648.421193</td>\n",
       "      <td>-400.382169</td>\n",
       "      <td>1648.742005</td>\n",
       "      <td>-400.359661</td>\n",
       "      <td>...</td>\n",
       "      <td>23.031497</td>\n",
       "      <td>-501.167942</td>\n",
       "      <td>20.007571</td>\n",
       "      <td>-499.740028</td>\n",
       "      <td>18.006038</td>\n",
       "      <td>-499.834374</td>\n",
       "      <td>13.001114</td>\n",
       "      <td>-500.155694</td>\n",
       "      <td>20.007840</td>\n",
       "      <td>-501.296428</td>\n",
       "    </tr>\n",
       "    <tr>\n",
       "      <td>12675</td>\n",
       "      <td>2018-08-18 07:59:59</td>\n",
       "      <td>69.049291</td>\n",
       "      <td>120.878188</td>\n",
       "      <td>7.962636</td>\n",
       "      <td>6.500000</td>\n",
       "      <td>1.302419</td>\n",
       "      <td>1649.820162</td>\n",
       "      <td>-399.930973</td>\n",
       "      <td>1649.357538</td>\n",
       "      <td>-399.721222</td>\n",
       "      <td>...</td>\n",
       "      <td>22.960095</td>\n",
       "      <td>-501.612783</td>\n",
       "      <td>20.035660</td>\n",
       "      <td>-500.251357</td>\n",
       "      <td>17.998535</td>\n",
       "      <td>-500.395178</td>\n",
       "      <td>12.954048</td>\n",
       "      <td>-499.895163</td>\n",
       "      <td>19.968498</td>\n",
       "      <td>-501.041608</td>\n",
       "    </tr>\n",
       "    <tr>\n",
       "      <td>12676</td>\n",
       "      <td>2018-08-18 08:59:59</td>\n",
       "      <td>67.002189</td>\n",
       "      <td>105.666118</td>\n",
       "      <td>7.955111</td>\n",
       "      <td>6.500000</td>\n",
       "      <td>1.315926</td>\n",
       "      <td>1649.166761</td>\n",
       "      <td>-399.888631</td>\n",
       "      <td>1649.196904</td>\n",
       "      <td>-399.677571</td>\n",
       "      <td>...</td>\n",
       "      <td>23.015718</td>\n",
       "      <td>-501.711599</td>\n",
       "      <td>19.951231</td>\n",
       "      <td>-499.857027</td>\n",
       "      <td>18.019543</td>\n",
       "      <td>-500.451156</td>\n",
       "      <td>13.023431</td>\n",
       "      <td>-499.914391</td>\n",
       "      <td>19.990885</td>\n",
       "      <td>-501.518452</td>\n",
       "    </tr>\n",
       "    <tr>\n",
       "      <td>12677</td>\n",
       "      <td>2018-08-18 09:59:59</td>\n",
       "      <td>65.523246</td>\n",
       "      <td>98.880538</td>\n",
       "      <td>7.984164</td>\n",
       "      <td>6.500000</td>\n",
       "      <td>1.241969</td>\n",
       "      <td>1646.547763</td>\n",
       "      <td>-398.977083</td>\n",
       "      <td>1648.212240</td>\n",
       "      <td>-400.383265</td>\n",
       "      <td>...</td>\n",
       "      <td>23.024963</td>\n",
       "      <td>-501.153409</td>\n",
       "      <td>20.054122</td>\n",
       "      <td>-500.314711</td>\n",
       "      <td>17.979515</td>\n",
       "      <td>-499.272871</td>\n",
       "      <td>12.992404</td>\n",
       "      <td>-499.976268</td>\n",
       "      <td>20.013986</td>\n",
       "      <td>-500.625471</td>\n",
       "    </tr>\n",
       "    <tr>\n",
       "      <td>12678</td>\n",
       "      <td>2018-08-18 10:59:59</td>\n",
       "      <td>70.281454</td>\n",
       "      <td>95.248427</td>\n",
       "      <td>8.078957</td>\n",
       "      <td>6.500000</td>\n",
       "      <td>1.283045</td>\n",
       "      <td>1648.759906</td>\n",
       "      <td>-399.862053</td>\n",
       "      <td>1650.135395</td>\n",
       "      <td>-399.957321</td>\n",
       "      <td>...</td>\n",
       "      <td>23.018622</td>\n",
       "      <td>-500.492702</td>\n",
       "      <td>20.020205</td>\n",
       "      <td>-500.220296</td>\n",
       "      <td>17.963512</td>\n",
       "      <td>-499.939490</td>\n",
       "      <td>12.990306</td>\n",
       "      <td>-500.080993</td>\n",
       "      <td>19.990336</td>\n",
       "      <td>-499.191575</td>\n",
       "    </tr>\n",
       "  </tbody>\n",
       "</table>\n",
       "<p>10 rows × 55 columns</p>\n",
       "</div>"
      ],
      "text/plain": [
       "                      date  final.output.recovery  \\\n",
       "12669  2018-08-18 01:59:59              73.265872   \n",
       "12670  2018-08-18 02:59:59              68.369674   \n",
       "12671  2018-08-18 03:59:59              64.054699   \n",
       "12672  2018-08-18 04:59:59              68.643324   \n",
       "12673  2018-08-18 05:59:59              74.817644   \n",
       "12674  2018-08-18 06:59:59              73.755150   \n",
       "12675  2018-08-18 07:59:59              69.049291   \n",
       "12676  2018-08-18 08:59:59              67.002189   \n",
       "12677  2018-08-18 09:59:59              65.523246   \n",
       "12678  2018-08-18 10:59:59              70.281454   \n",
       "\n",
       "       primary_cleaner.input.sulfate  primary_cleaner.input.depressant  \\\n",
       "12669                     132.723539                          8.003791   \n",
       "12670                     132.726374                          8.009750   \n",
       "12671                     125.423263                          8.014263   \n",
       "12672                     114.108530                          7.961098   \n",
       "12673                     119.497545                          8.003752   \n",
       "12674                     123.381787                          8.028927   \n",
       "12675                     120.878188                          7.962636   \n",
       "12676                     105.666118                          7.955111   \n",
       "12677                      98.880538                          7.984164   \n",
       "12678                      95.248427                          8.078957   \n",
       "\n",
       "       primary_cleaner.input.feed_size  primary_cleaner.input.xanthate  \\\n",
       "12669                         6.283333                        1.148652   \n",
       "12670                         6.500000                        1.230668   \n",
       "12671                         6.500000                        1.338973   \n",
       "12672                         6.500000                        1.298811   \n",
       "12673                         6.500000                        1.259741   \n",
       "12674                         6.500000                        1.304232   \n",
       "12675                         6.500000                        1.302419   \n",
       "12676                         6.500000                        1.315926   \n",
       "12677                         6.500000                        1.241969   \n",
       "12678                         6.500000                        1.283045   \n",
       "\n",
       "       primary_cleaner.state.floatbank8_a_air  \\\n",
       "12669                             1647.735565   \n",
       "12670                             1648.023813   \n",
       "12671                             1648.628464   \n",
       "12672                             1648.754818   \n",
       "12673                             1647.368779   \n",
       "12674                             1648.421193   \n",
       "12675                             1649.820162   \n",
       "12676                             1649.166761   \n",
       "12677                             1646.547763   \n",
       "12678                             1648.759906   \n",
       "\n",
       "       primary_cleaner.state.floatbank8_a_level  \\\n",
       "12669                               -400.061136   \n",
       "12670                               -399.457524   \n",
       "12671                               -400.254719   \n",
       "12672                               -400.169291   \n",
       "12673                               -399.788506   \n",
       "12674                               -400.382169   \n",
       "12675                               -399.930973   \n",
       "12676                               -399.888631   \n",
       "12677                               -398.977083   \n",
       "12678                               -399.862053   \n",
       "\n",
       "       primary_cleaner.state.floatbank8_b_air  \\\n",
       "12669                             1649.457537   \n",
       "12670                             1649.909661   \n",
       "12671                             1649.423778   \n",
       "12672                             1648.508847   \n",
       "12673                             1648.395206   \n",
       "12674                             1648.742005   \n",
       "12675                             1649.357538   \n",
       "12676                             1649.196904   \n",
       "12677                             1648.212240   \n",
       "12678                             1650.135395   \n",
       "\n",
       "       primary_cleaner.state.floatbank8_b_level  ...  \\\n",
       "12669                               -399.456945  ...   \n",
       "12670                               -400.627000  ...   \n",
       "12671                               -399.892993  ...   \n",
       "12672                               -399.896538  ...   \n",
       "12673                               -400.166490  ...   \n",
       "12674                               -400.359661  ...   \n",
       "12675                               -399.721222  ...   \n",
       "12676                               -399.677571  ...   \n",
       "12677                               -400.383265  ...   \n",
       "12678                               -399.957321  ...   \n",
       "\n",
       "       secondary_cleaner.state.floatbank4_a_air  \\\n",
       "12669                                 23.015413   \n",
       "12670                                 23.017115   \n",
       "12671                                 23.030949   \n",
       "12672                                 23.033246   \n",
       "12673                                 22.993827   \n",
       "12674                                 23.031497   \n",
       "12675                                 22.960095   \n",
       "12676                                 23.015718   \n",
       "12677                                 23.024963   \n",
       "12678                                 23.018622   \n",
       "\n",
       "       secondary_cleaner.state.floatbank4_a_level  \\\n",
       "12669                                 -501.287519   \n",
       "12670                                 -501.665249   \n",
       "12671                                 -501.196721   \n",
       "12672                                 -500.912210   \n",
       "12673                                 -501.559663   \n",
       "12674                                 -501.167942   \n",
       "12675                                 -501.612783   \n",
       "12676                                 -501.711599   \n",
       "12677                                 -501.153409   \n",
       "12678                                 -500.492702   \n",
       "\n",
       "       secondary_cleaner.state.floatbank4_b_air  \\\n",
       "12669                                 20.057415   \n",
       "12670                                 20.044418   \n",
       "12671                                 20.034440   \n",
       "12672                                 19.988437   \n",
       "12673                                 20.029144   \n",
       "12674                                 20.007571   \n",
       "12675                                 20.035660   \n",
       "12676                                 19.951231   \n",
       "12677                                 20.054122   \n",
       "12678                                 20.020205   \n",
       "\n",
       "       secondary_cleaner.state.floatbank4_b_level  \\\n",
       "12669                                 -499.600478   \n",
       "12670                                 -500.415095   \n",
       "12671                                 -499.842047   \n",
       "12672                                 -500.125966   \n",
       "12673                                 -500.000662   \n",
       "12674                                 -499.740028   \n",
       "12675                                 -500.251357   \n",
       "12676                                 -499.857027   \n",
       "12677                                 -500.314711   \n",
       "12678                                 -500.220296   \n",
       "\n",
       "       secondary_cleaner.state.floatbank5_a_air  \\\n",
       "12669                                 17.985857   \n",
       "12670                                 18.026001   \n",
       "12671                                 18.001504   \n",
       "12672                                 18.011724   \n",
       "12673                                 18.012723   \n",
       "12674                                 18.006038   \n",
       "12675                                 17.998535   \n",
       "12676                                 18.019543   \n",
       "12677                                 17.979515   \n",
       "12678                                 17.963512   \n",
       "\n",
       "       secondary_cleaner.state.floatbank5_a_level  \\\n",
       "12669                                 -500.239983   \n",
       "12670                                 -499.866058   \n",
       "12671                                 -499.872052   \n",
       "12672                                 -500.090861   \n",
       "12673                                 -500.024764   \n",
       "12674                                 -499.834374   \n",
       "12675                                 -500.395178   \n",
       "12676                                 -500.451156   \n",
       "12677                                 -499.272871   \n",
       "12678                                 -499.939490   \n",
       "\n",
       "       secondary_cleaner.state.floatbank5_b_air  \\\n",
       "12669                                 12.974452   \n",
       "12670                                 13.001740   \n",
       "12671                                 12.998309   \n",
       "12672                                 13.007108   \n",
       "12673                                 13.016445   \n",
       "12674                                 13.001114   \n",
       "12675                                 12.954048   \n",
       "12676                                 13.023431   \n",
       "12677                                 12.992404   \n",
       "12678                                 12.990306   \n",
       "\n",
       "       secondary_cleaner.state.floatbank5_b_level  \\\n",
       "12669                                 -499.879930   \n",
       "12670                                 -499.914235   \n",
       "12671                                 -500.027809   \n",
       "12672                                 -500.258238   \n",
       "12673                                 -500.058432   \n",
       "12674                                 -500.155694   \n",
       "12675                                 -499.895163   \n",
       "12676                                 -499.914391   \n",
       "12677                                 -499.976268   \n",
       "12678                                 -500.080993   \n",
       "\n",
       "       secondary_cleaner.state.floatbank6_a_air  \\\n",
       "12669                                 19.988701   \n",
       "12670                                 20.005963   \n",
       "12671                                 20.007108   \n",
       "12672                                 19.983872   \n",
       "12673                                 19.973767   \n",
       "12674                                 20.007840   \n",
       "12675                                 19.968498   \n",
       "12676                                 19.990885   \n",
       "12677                                 20.013986   \n",
       "12678                                 19.990336   \n",
       "\n",
       "       secondary_cleaner.state.floatbank6_a_level  \n",
       "12669                                 -501.037332  \n",
       "12670                                 -500.767097  \n",
       "12671                                 -500.850685  \n",
       "12672                                 -502.581707  \n",
       "12673                                 -501.394155  \n",
       "12674                                 -501.296428  \n",
       "12675                                 -501.041608  \n",
       "12676                                 -501.518452  \n",
       "12677                                 -500.625471  \n",
       "12678                                 -499.191575  \n",
       "\n",
       "[10 rows x 55 columns]"
      ]
     },
     "metadata": {},
     "output_type": "display_data"
    }
   ],
   "source": [
    "display(train_data2.tail(10))"
   ]
  },
  {
   "cell_type": "code",
   "execution_count": 33,
   "metadata": {
    "scrolled": false
   },
   "outputs": [
    {
     "name": "stdout",
     "output_type": "stream",
     "text": [
      "secondary_cleaner.state.floatbank6_a_level    0.0\n",
      "primary_cleaner.state.floatbank8_d_level      0.0\n",
      "rougher.output.recovery                       0.0\n",
      "rougher.input.floatbank11_xanthate            0.0\n",
      "rougher.input.floatbank11_sulfate             0.0\n",
      "rougher.input.floatbank10_xanthate            0.0\n",
      "rougher.input.floatbank10_sulfate             0.0\n",
      "rougher.input.feed_au                         0.0\n",
      "rougher.input.feed_sol                        0.0\n",
      "rougher.input.feed_size                       0.0\n",
      "rougher.input.feed_rate                       0.0\n",
      "rougher.input.feed_pb                         0.0\n",
      "rougher.input.feed_ag                         0.0\n",
      "primary_cleaner.state.floatbank8_d_air        0.0\n",
      "rougher.state.floatbank10_a_level             0.0\n",
      "primary_cleaner.state.floatbank8_c_level      0.0\n",
      "primary_cleaner.state.floatbank8_c_air        0.0\n",
      "primary_cleaner.state.floatbank8_b_level      0.0\n",
      "primary_cleaner.state.floatbank8_b_air        0.0\n",
      "primary_cleaner.state.floatbank8_a_level      0.0\n",
      "primary_cleaner.state.floatbank8_a_air        0.0\n",
      "primary_cleaner.input.xanthate                0.0\n",
      "primary_cleaner.input.feed_size               0.0\n",
      "primary_cleaner.input.depressant              0.0\n",
      "primary_cleaner.input.sulfate                 0.0\n",
      "final.output.recovery                         0.0\n",
      "rougher.state.floatbank10_a_air               0.0\n",
      "rougher.state.floatbank10_b_air               0.0\n",
      "secondary_cleaner.state.floatbank6_a_air      0.0\n",
      "secondary_cleaner.state.floatbank3_a_air      0.0\n",
      "secondary_cleaner.state.floatbank5_b_level    0.0\n",
      "secondary_cleaner.state.floatbank5_b_air      0.0\n",
      "secondary_cleaner.state.floatbank5_a_level    0.0\n",
      "secondary_cleaner.state.floatbank5_a_air      0.0\n",
      "secondary_cleaner.state.floatbank4_b_level    0.0\n",
      "secondary_cleaner.state.floatbank4_b_air      0.0\n",
      "secondary_cleaner.state.floatbank4_a_level    0.0\n",
      "secondary_cleaner.state.floatbank4_a_air      0.0\n",
      "secondary_cleaner.state.floatbank3_b_level    0.0\n",
      "secondary_cleaner.state.floatbank3_b_air      0.0\n",
      "secondary_cleaner.state.floatbank3_a_level    0.0\n",
      "secondary_cleaner.state.floatbank2_b_level    0.0\n",
      "rougher.state.floatbank10_b_level             0.0\n",
      "secondary_cleaner.state.floatbank2_b_air      0.0\n",
      "secondary_cleaner.state.floatbank2_a_level    0.0\n",
      "secondary_cleaner.state.floatbank2_a_air      0.0\n",
      "rougher.state.floatbank10_f_level             0.0\n",
      "rougher.state.floatbank10_f_air               0.0\n",
      "rougher.state.floatbank10_e_level             0.0\n",
      "rougher.state.floatbank10_e_air               0.0\n",
      "rougher.state.floatbank10_d_level             0.0\n",
      "rougher.state.floatbank10_d_air               0.0\n",
      "rougher.state.floatbank10_c_level             0.0\n",
      "rougher.state.floatbank10_c_air               0.0\n",
      "date                                          0.0\n",
      "dtype: float64\n"
     ]
    }
   ],
   "source": [
    "train_data2_missing_perct = (train_data2.isna().sum())/train_data2.shape[0]*100\n",
    "print(train_data2_missing_perct.sort_values(ascending=False))"
   ]
  },
  {
   "cell_type": "markdown",
   "metadata": {},
   "source": [
    "\n",
    "\n",
    "After dropping all rows with missing values, we still have 12678 rows. We didn't seem to lose too much data. Now, we are ready for modeling. "
   ]
  },
  {
   "cell_type": "markdown",
   "metadata": {},
   "source": [
    "<div class=\"alert alert-success\">\n",
    "<b>Reviewer's comment</b>\n",
    "\n",
    "Looks good to me so far :) We didn't seem to lose too much data by dropping the rows with missing values, and the columns to be used as features in the model should indeed be those in the test set.\n",
    "\n",
    "</div>\n",
    "\n",
    "  \n",
    "<div class=\"alert alert-info\">\n",
    "  Student's comments: Sounds good! Thank you!\n",
    "</div>"
   ]
  },
  {
   "cell_type": "markdown",
   "metadata": {},
   "source": [
    "#### Perform data preprocessing for the test data\n",
    "\n",
    "The test data that was provided did not have targets, but the full data has targets. Thus, we need to merge full data with test data to get targets for the test data. \n"
   ]
  },
  {
   "cell_type": "code",
   "execution_count": 34,
   "metadata": {},
   "outputs": [
    {
     "data": {
      "text/html": [
       "<div>\n",
       "<style scoped>\n",
       "    .dataframe tbody tr th:only-of-type {\n",
       "        vertical-align: middle;\n",
       "    }\n",
       "\n",
       "    .dataframe tbody tr th {\n",
       "        vertical-align: top;\n",
       "    }\n",
       "\n",
       "    .dataframe thead th {\n",
       "        text-align: right;\n",
       "    }\n",
       "</style>\n",
       "<table border=\"1\" class=\"dataframe\">\n",
       "  <thead>\n",
       "    <tr style=\"text-align: right;\">\n",
       "      <th></th>\n",
       "      <th>date</th>\n",
       "      <th>final.output.recovery</th>\n",
       "      <th>rougher.output.recovery</th>\n",
       "    </tr>\n",
       "  </thead>\n",
       "  <tbody>\n",
       "    <tr>\n",
       "      <td>0</td>\n",
       "      <td>2016-01-15 00:00:00</td>\n",
       "      <td>70.541216</td>\n",
       "      <td>87.107763</td>\n",
       "    </tr>\n",
       "    <tr>\n",
       "      <td>1</td>\n",
       "      <td>2016-01-15 01:00:00</td>\n",
       "      <td>69.266198</td>\n",
       "      <td>86.843261</td>\n",
       "    </tr>\n",
       "    <tr>\n",
       "      <td>2</td>\n",
       "      <td>2016-01-15 02:00:00</td>\n",
       "      <td>68.116445</td>\n",
       "      <td>86.842308</td>\n",
       "    </tr>\n",
       "    <tr>\n",
       "      <td>3</td>\n",
       "      <td>2016-01-15 03:00:00</td>\n",
       "      <td>68.347543</td>\n",
       "      <td>87.226430</td>\n",
       "    </tr>\n",
       "    <tr>\n",
       "      <td>4</td>\n",
       "      <td>2016-01-15 04:00:00</td>\n",
       "      <td>66.927016</td>\n",
       "      <td>86.688794</td>\n",
       "    </tr>\n",
       "    <tr>\n",
       "      <td>...</td>\n",
       "      <td>...</td>\n",
       "      <td>...</td>\n",
       "      <td>...</td>\n",
       "    </tr>\n",
       "    <tr>\n",
       "      <td>22711</td>\n",
       "      <td>2018-08-18 06:59:59</td>\n",
       "      <td>73.755150</td>\n",
       "      <td>89.574376</td>\n",
       "    </tr>\n",
       "    <tr>\n",
       "      <td>22712</td>\n",
       "      <td>2018-08-18 07:59:59</td>\n",
       "      <td>69.049291</td>\n",
       "      <td>87.724007</td>\n",
       "    </tr>\n",
       "    <tr>\n",
       "      <td>22713</td>\n",
       "      <td>2018-08-18 08:59:59</td>\n",
       "      <td>67.002189</td>\n",
       "      <td>88.890579</td>\n",
       "    </tr>\n",
       "    <tr>\n",
       "      <td>22714</td>\n",
       "      <td>2018-08-18 09:59:59</td>\n",
       "      <td>65.523246</td>\n",
       "      <td>89.858126</td>\n",
       "    </tr>\n",
       "    <tr>\n",
       "      <td>22715</td>\n",
       "      <td>2018-08-18 10:59:59</td>\n",
       "      <td>70.281454</td>\n",
       "      <td>89.514960</td>\n",
       "    </tr>\n",
       "  </tbody>\n",
       "</table>\n",
       "<p>22716 rows × 3 columns</p>\n",
       "</div>"
      ],
      "text/plain": [
       "                      date  final.output.recovery  rougher.output.recovery\n",
       "0      2016-01-15 00:00:00              70.541216                87.107763\n",
       "1      2016-01-15 01:00:00              69.266198                86.843261\n",
       "2      2016-01-15 02:00:00              68.116445                86.842308\n",
       "3      2016-01-15 03:00:00              68.347543                87.226430\n",
       "4      2016-01-15 04:00:00              66.927016                86.688794\n",
       "...                    ...                    ...                      ...\n",
       "22711  2018-08-18 06:59:59              73.755150                89.574376\n",
       "22712  2018-08-18 07:59:59              69.049291                87.724007\n",
       "22713  2018-08-18 08:59:59              67.002189                88.890579\n",
       "22714  2018-08-18 09:59:59              65.523246                89.858126\n",
       "22715  2018-08-18 10:59:59              70.281454                89.514960\n",
       "\n",
       "[22716 rows x 3 columns]"
      ]
     },
     "execution_count": 34,
     "metadata": {},
     "output_type": "execute_result"
    }
   ],
   "source": [
    "full_data_3col = full_data[['date', 'final.output.recovery', 'rougher.output.recovery']]\n",
    "full_data_3col\n"
   ]
  },
  {
   "cell_type": "code",
   "execution_count": 35,
   "metadata": {
    "scrolled": true
   },
   "outputs": [
    {
     "name": "stdout",
     "output_type": "stream",
     "text": [
      "<class 'pandas.core.frame.DataFrame'>\n",
      "Int64Index: 5856 entries, 0 to 5855\n",
      "Data columns (total 55 columns):\n",
      "date                                          5856 non-null object\n",
      "final.output.recovery                         5414 non-null float64\n",
      "rougher.output.recovery                       5310 non-null float64\n",
      "primary_cleaner.input.sulfate                 5554 non-null float64\n",
      "primary_cleaner.input.depressant              5572 non-null float64\n",
      "primary_cleaner.input.feed_size               5856 non-null float64\n",
      "primary_cleaner.input.xanthate                5690 non-null float64\n",
      "primary_cleaner.state.floatbank8_a_air        5840 non-null float64\n",
      "primary_cleaner.state.floatbank8_a_level      5840 non-null float64\n",
      "primary_cleaner.state.floatbank8_b_air        5840 non-null float64\n",
      "primary_cleaner.state.floatbank8_b_level      5840 non-null float64\n",
      "primary_cleaner.state.floatbank8_c_air        5840 non-null float64\n",
      "primary_cleaner.state.floatbank8_c_level      5840 non-null float64\n",
      "primary_cleaner.state.floatbank8_d_air        5840 non-null float64\n",
      "primary_cleaner.state.floatbank8_d_level      5840 non-null float64\n",
      "rougher.input.feed_ag                         5840 non-null float64\n",
      "rougher.input.feed_pb                         5840 non-null float64\n",
      "rougher.input.feed_rate                       5816 non-null float64\n",
      "rougher.input.feed_size                       5834 non-null float64\n",
      "rougher.input.feed_sol                        5789 non-null float64\n",
      "rougher.input.feed_au                         5840 non-null float64\n",
      "rougher.input.floatbank10_sulfate             5599 non-null float64\n",
      "rougher.input.floatbank10_xanthate            5733 non-null float64\n",
      "rougher.input.floatbank11_sulfate             5801 non-null float64\n",
      "rougher.input.floatbank11_xanthate            5503 non-null float64\n",
      "rougher.state.floatbank10_a_air               5839 non-null float64\n",
      "rougher.state.floatbank10_a_level             5840 non-null float64\n",
      "rougher.state.floatbank10_b_air               5839 non-null float64\n",
      "rougher.state.floatbank10_b_level             5840 non-null float64\n",
      "rougher.state.floatbank10_c_air               5839 non-null float64\n",
      "rougher.state.floatbank10_c_level             5840 non-null float64\n",
      "rougher.state.floatbank10_d_air               5839 non-null float64\n",
      "rougher.state.floatbank10_d_level             5840 non-null float64\n",
      "rougher.state.floatbank10_e_air               5839 non-null float64\n",
      "rougher.state.floatbank10_e_level             5840 non-null float64\n",
      "rougher.state.floatbank10_f_air               5839 non-null float64\n",
      "rougher.state.floatbank10_f_level             5840 non-null float64\n",
      "secondary_cleaner.state.floatbank2_a_air      5836 non-null float64\n",
      "secondary_cleaner.state.floatbank2_a_level    5840 non-null float64\n",
      "secondary_cleaner.state.floatbank2_b_air      5833 non-null float64\n",
      "secondary_cleaner.state.floatbank2_b_level    5840 non-null float64\n",
      "secondary_cleaner.state.floatbank3_a_air      5822 non-null float64\n",
      "secondary_cleaner.state.floatbank3_a_level    5840 non-null float64\n",
      "secondary_cleaner.state.floatbank3_b_air      5840 non-null float64\n",
      "secondary_cleaner.state.floatbank3_b_level    5840 non-null float64\n",
      "secondary_cleaner.state.floatbank4_a_air      5840 non-null float64\n",
      "secondary_cleaner.state.floatbank4_a_level    5840 non-null float64\n",
      "secondary_cleaner.state.floatbank4_b_air      5840 non-null float64\n",
      "secondary_cleaner.state.floatbank4_b_level    5840 non-null float64\n",
      "secondary_cleaner.state.floatbank5_a_air      5840 non-null float64\n",
      "secondary_cleaner.state.floatbank5_a_level    5840 non-null float64\n",
      "secondary_cleaner.state.floatbank5_b_air      5840 non-null float64\n",
      "secondary_cleaner.state.floatbank5_b_level    5840 non-null float64\n",
      "secondary_cleaner.state.floatbank6_a_air      5840 non-null float64\n",
      "secondary_cleaner.state.floatbank6_a_level    5840 non-null float64\n",
      "dtypes: float64(54), object(1)\n",
      "memory usage: 2.5+ MB\n"
     ]
    }
   ],
   "source": [
    "test_data_merge = pd.merge(left=full_data_3col, \n",
    "                           right=test_data, \n",
    "                           left_on='date', \n",
    "                           right_on='date')\n",
    "test_data_merge.info()\n"
   ]
  },
  {
   "cell_type": "code",
   "execution_count": 36,
   "metadata": {
    "scrolled": true
   },
   "outputs": [
    {
     "name": "stdout",
     "output_type": "stream",
     "text": [
      "rougher.output.recovery                       9.323770\n",
      "final.output.recovery                         7.547814\n",
      "rougher.input.floatbank11_xanthate            6.028005\n",
      "primary_cleaner.input.sulfate                 5.157104\n",
      "primary_cleaner.input.depressant              4.849727\n",
      "rougher.input.floatbank10_sulfate             4.388661\n",
      "primary_cleaner.input.xanthate                2.834699\n",
      "rougher.input.floatbank10_xanthate            2.100410\n",
      "rougher.input.feed_sol                        1.144126\n",
      "rougher.input.floatbank11_sulfate             0.939208\n",
      "rougher.input.feed_rate                       0.683060\n",
      "secondary_cleaner.state.floatbank3_a_air      0.580601\n",
      "secondary_cleaner.state.floatbank2_b_air      0.392760\n",
      "rougher.input.feed_size                       0.375683\n",
      "secondary_cleaner.state.floatbank2_a_air      0.341530\n",
      "rougher.state.floatbank10_e_air               0.290301\n",
      "rougher.state.floatbank10_c_air               0.290301\n",
      "rougher.state.floatbank10_d_air               0.290301\n",
      "rougher.state.floatbank10_a_air               0.290301\n",
      "rougher.state.floatbank10_b_air               0.290301\n",
      "rougher.state.floatbank10_f_air               0.290301\n",
      "rougher.input.feed_pb                         0.273224\n",
      "rougher.input.feed_ag                         0.273224\n",
      "primary_cleaner.state.floatbank8_d_air        0.273224\n",
      "primary_cleaner.state.floatbank8_c_level      0.273224\n",
      "primary_cleaner.state.floatbank8_c_air        0.273224\n",
      "primary_cleaner.state.floatbank8_b_level      0.273224\n",
      "rougher.input.feed_au                         0.273224\n",
      "primary_cleaner.state.floatbank8_b_air        0.273224\n",
      "primary_cleaner.state.floatbank8_a_level      0.273224\n",
      "primary_cleaner.state.floatbank8_a_air        0.273224\n",
      "primary_cleaner.state.floatbank8_d_level      0.273224\n",
      "secondary_cleaner.state.floatbank6_a_level    0.273224\n",
      "rougher.state.floatbank10_a_level             0.273224\n",
      "secondary_cleaner.state.floatbank6_a_air      0.273224\n",
      "secondary_cleaner.state.floatbank5_b_level    0.273224\n",
      "secondary_cleaner.state.floatbank5_b_air      0.273224\n",
      "secondary_cleaner.state.floatbank5_a_level    0.273224\n",
      "secondary_cleaner.state.floatbank5_a_air      0.273224\n",
      "secondary_cleaner.state.floatbank4_b_level    0.273224\n",
      "secondary_cleaner.state.floatbank4_b_air      0.273224\n",
      "secondary_cleaner.state.floatbank4_a_level    0.273224\n",
      "secondary_cleaner.state.floatbank4_a_air      0.273224\n",
      "secondary_cleaner.state.floatbank3_b_level    0.273224\n",
      "secondary_cleaner.state.floatbank3_b_air      0.273224\n",
      "secondary_cleaner.state.floatbank3_a_level    0.273224\n",
      "secondary_cleaner.state.floatbank2_b_level    0.273224\n",
      "secondary_cleaner.state.floatbank2_a_level    0.273224\n",
      "rougher.state.floatbank10_f_level             0.273224\n",
      "rougher.state.floatbank10_e_level             0.273224\n",
      "rougher.state.floatbank10_d_level             0.273224\n",
      "rougher.state.floatbank10_c_level             0.273224\n",
      "rougher.state.floatbank10_b_level             0.273224\n",
      "primary_cleaner.input.feed_size               0.000000\n",
      "date                                          0.000000\n",
      "dtype: float64\n"
     ]
    }
   ],
   "source": [
    "test_data_merge_missing_perct = (test_data_merge.isna().sum())/test_data_merge.shape[0]*100\n",
    "print(test_data_merge_missing_perct.sort_values(ascending=False))"
   ]
  },
  {
   "cell_type": "code",
   "execution_count": 37,
   "metadata": {
    "scrolled": true
   },
   "outputs": [
    {
     "name": "stdout",
     "output_type": "stream",
     "text": [
      "<class 'pandas.core.frame.DataFrame'>\n",
      "RangeIndex: 5229 entries, 0 to 5228\n",
      "Data columns (total 55 columns):\n",
      "date                                          5229 non-null object\n",
      "final.output.recovery                         5229 non-null float64\n",
      "rougher.output.recovery                       5229 non-null float64\n",
      "primary_cleaner.input.sulfate                 5229 non-null float64\n",
      "primary_cleaner.input.depressant              5229 non-null float64\n",
      "primary_cleaner.input.feed_size               5229 non-null float64\n",
      "primary_cleaner.input.xanthate                5229 non-null float64\n",
      "primary_cleaner.state.floatbank8_a_air        5229 non-null float64\n",
      "primary_cleaner.state.floatbank8_a_level      5229 non-null float64\n",
      "primary_cleaner.state.floatbank8_b_air        5229 non-null float64\n",
      "primary_cleaner.state.floatbank8_b_level      5229 non-null float64\n",
      "primary_cleaner.state.floatbank8_c_air        5229 non-null float64\n",
      "primary_cleaner.state.floatbank8_c_level      5229 non-null float64\n",
      "primary_cleaner.state.floatbank8_d_air        5229 non-null float64\n",
      "primary_cleaner.state.floatbank8_d_level      5229 non-null float64\n",
      "rougher.input.feed_ag                         5229 non-null float64\n",
      "rougher.input.feed_pb                         5229 non-null float64\n",
      "rougher.input.feed_rate                       5229 non-null float64\n",
      "rougher.input.feed_size                       5229 non-null float64\n",
      "rougher.input.feed_sol                        5229 non-null float64\n",
      "rougher.input.feed_au                         5229 non-null float64\n",
      "rougher.input.floatbank10_sulfate             5229 non-null float64\n",
      "rougher.input.floatbank10_xanthate            5229 non-null float64\n",
      "rougher.input.floatbank11_sulfate             5229 non-null float64\n",
      "rougher.input.floatbank11_xanthate            5229 non-null float64\n",
      "rougher.state.floatbank10_a_air               5229 non-null float64\n",
      "rougher.state.floatbank10_a_level             5229 non-null float64\n",
      "rougher.state.floatbank10_b_air               5229 non-null float64\n",
      "rougher.state.floatbank10_b_level             5229 non-null float64\n",
      "rougher.state.floatbank10_c_air               5229 non-null float64\n",
      "rougher.state.floatbank10_c_level             5229 non-null float64\n",
      "rougher.state.floatbank10_d_air               5229 non-null float64\n",
      "rougher.state.floatbank10_d_level             5229 non-null float64\n",
      "rougher.state.floatbank10_e_air               5229 non-null float64\n",
      "rougher.state.floatbank10_e_level             5229 non-null float64\n",
      "rougher.state.floatbank10_f_air               5229 non-null float64\n",
      "rougher.state.floatbank10_f_level             5229 non-null float64\n",
      "secondary_cleaner.state.floatbank2_a_air      5229 non-null float64\n",
      "secondary_cleaner.state.floatbank2_a_level    5229 non-null float64\n",
      "secondary_cleaner.state.floatbank2_b_air      5229 non-null float64\n",
      "secondary_cleaner.state.floatbank2_b_level    5229 non-null float64\n",
      "secondary_cleaner.state.floatbank3_a_air      5229 non-null float64\n",
      "secondary_cleaner.state.floatbank3_a_level    5229 non-null float64\n",
      "secondary_cleaner.state.floatbank3_b_air      5229 non-null float64\n",
      "secondary_cleaner.state.floatbank3_b_level    5229 non-null float64\n",
      "secondary_cleaner.state.floatbank4_a_air      5229 non-null float64\n",
      "secondary_cleaner.state.floatbank4_a_level    5229 non-null float64\n",
      "secondary_cleaner.state.floatbank4_b_air      5229 non-null float64\n",
      "secondary_cleaner.state.floatbank4_b_level    5229 non-null float64\n",
      "secondary_cleaner.state.floatbank5_a_air      5229 non-null float64\n",
      "secondary_cleaner.state.floatbank5_a_level    5229 non-null float64\n",
      "secondary_cleaner.state.floatbank5_b_air      5229 non-null float64\n",
      "secondary_cleaner.state.floatbank5_b_level    5229 non-null float64\n",
      "secondary_cleaner.state.floatbank6_a_air      5229 non-null float64\n",
      "secondary_cleaner.state.floatbank6_a_level    5229 non-null float64\n",
      "dtypes: float64(54), object(1)\n",
      "memory usage: 2.2+ MB\n"
     ]
    }
   ],
   "source": [
    "test_data_merge.dropna(inplace=True)\n",
    "test_data_merge.reset_index(drop=True, inplace=True)\n",
    "test_data_merge.info()"
   ]
  },
  {
   "cell_type": "code",
   "execution_count": 38,
   "metadata": {
    "scrolled": false
   },
   "outputs": [
    {
     "name": "stdout",
     "output_type": "stream",
     "text": [
      "secondary_cleaner.state.floatbank6_a_level    0.0\n",
      "primary_cleaner.state.floatbank8_d_air        0.0\n",
      "rougher.input.floatbank11_xanthate            0.0\n",
      "rougher.input.floatbank11_sulfate             0.0\n",
      "rougher.input.floatbank10_xanthate            0.0\n",
      "rougher.input.floatbank10_sulfate             0.0\n",
      "rougher.input.feed_au                         0.0\n",
      "rougher.input.feed_sol                        0.0\n",
      "rougher.input.feed_size                       0.0\n",
      "rougher.input.feed_rate                       0.0\n",
      "rougher.input.feed_pb                         0.0\n",
      "rougher.input.feed_ag                         0.0\n",
      "primary_cleaner.state.floatbank8_d_level      0.0\n",
      "primary_cleaner.state.floatbank8_c_level      0.0\n",
      "rougher.state.floatbank10_a_level             0.0\n",
      "primary_cleaner.state.floatbank8_c_air        0.0\n",
      "primary_cleaner.state.floatbank8_b_level      0.0\n",
      "primary_cleaner.state.floatbank8_b_air        0.0\n",
      "primary_cleaner.state.floatbank8_a_level      0.0\n",
      "primary_cleaner.state.floatbank8_a_air        0.0\n",
      "primary_cleaner.input.xanthate                0.0\n",
      "primary_cleaner.input.feed_size               0.0\n",
      "primary_cleaner.input.depressant              0.0\n",
      "primary_cleaner.input.sulfate                 0.0\n",
      "rougher.output.recovery                       0.0\n",
      "final.output.recovery                         0.0\n",
      "rougher.state.floatbank10_a_air               0.0\n",
      "rougher.state.floatbank10_b_air               0.0\n",
      "secondary_cleaner.state.floatbank6_a_air      0.0\n",
      "secondary_cleaner.state.floatbank3_a_air      0.0\n",
      "secondary_cleaner.state.floatbank5_b_level    0.0\n",
      "secondary_cleaner.state.floatbank5_b_air      0.0\n",
      "secondary_cleaner.state.floatbank5_a_level    0.0\n",
      "secondary_cleaner.state.floatbank5_a_air      0.0\n",
      "secondary_cleaner.state.floatbank4_b_level    0.0\n",
      "secondary_cleaner.state.floatbank4_b_air      0.0\n",
      "secondary_cleaner.state.floatbank4_a_level    0.0\n",
      "secondary_cleaner.state.floatbank4_a_air      0.0\n",
      "secondary_cleaner.state.floatbank3_b_level    0.0\n",
      "secondary_cleaner.state.floatbank3_b_air      0.0\n",
      "secondary_cleaner.state.floatbank3_a_level    0.0\n",
      "secondary_cleaner.state.floatbank2_b_level    0.0\n",
      "rougher.state.floatbank10_b_level             0.0\n",
      "secondary_cleaner.state.floatbank2_b_air      0.0\n",
      "secondary_cleaner.state.floatbank2_a_level    0.0\n",
      "secondary_cleaner.state.floatbank2_a_air      0.0\n",
      "rougher.state.floatbank10_f_level             0.0\n",
      "rougher.state.floatbank10_f_air               0.0\n",
      "rougher.state.floatbank10_e_level             0.0\n",
      "rougher.state.floatbank10_e_air               0.0\n",
      "rougher.state.floatbank10_d_level             0.0\n",
      "rougher.state.floatbank10_d_air               0.0\n",
      "rougher.state.floatbank10_c_level             0.0\n",
      "rougher.state.floatbank10_c_air               0.0\n",
      "date                                          0.0\n",
      "dtype: float64\n"
     ]
    }
   ],
   "source": [
    "test_data_merge_missing_perct = (test_data_merge.isna().sum())/test_data_merge.shape[0]*100\n",
    "print(test_data_merge_missing_perct.sort_values(ascending=False))"
   ]
  },
  {
   "cell_type": "markdown",
   "metadata": {},
   "source": [
    "## Analyze the data\n",
    "\n",
    "### Concentration of metals (Au, Ag, Pb) changes during the process\n",
    "\n",
    "To understand how the concentration of metals (Au, Ag, Pb) changes depending on the purification stage, we need to look at the `test_data`.\n",
    "\n",
    "First, let's drop all rows with missing values from `test_data`."
   ]
  },
  {
   "cell_type": "code",
   "execution_count": 39,
   "metadata": {
    "scrolled": false
   },
   "outputs": [
    {
     "name": "stdout",
     "output_type": "stream",
     "text": [
      "<class 'pandas.core.frame.DataFrame'>\n",
      "RangeIndex: 11017 entries, 0 to 11016\n",
      "Data columns (total 87 columns):\n",
      "date                                                  11017 non-null object\n",
      "final.output.concentrate_ag                           11017 non-null float64\n",
      "final.output.concentrate_pb                           11017 non-null float64\n",
      "final.output.concentrate_sol                          11017 non-null float64\n",
      "final.output.concentrate_au                           11017 non-null float64\n",
      "final.output.recovery                                 11017 non-null float64\n",
      "final.output.tail_ag                                  11017 non-null float64\n",
      "final.output.tail_pb                                  11017 non-null float64\n",
      "final.output.tail_sol                                 11017 non-null float64\n",
      "final.output.tail_au                                  11017 non-null float64\n",
      "primary_cleaner.input.sulfate                         11017 non-null float64\n",
      "primary_cleaner.input.depressant                      11017 non-null float64\n",
      "primary_cleaner.input.feed_size                       11017 non-null float64\n",
      "primary_cleaner.input.xanthate                        11017 non-null float64\n",
      "primary_cleaner.output.concentrate_ag                 11017 non-null float64\n",
      "primary_cleaner.output.concentrate_pb                 11017 non-null float64\n",
      "primary_cleaner.output.concentrate_sol                11017 non-null float64\n",
      "primary_cleaner.output.concentrate_au                 11017 non-null float64\n",
      "primary_cleaner.output.tail_ag                        11017 non-null float64\n",
      "primary_cleaner.output.tail_pb                        11017 non-null float64\n",
      "primary_cleaner.output.tail_sol                       11017 non-null float64\n",
      "primary_cleaner.output.tail_au                        11017 non-null float64\n",
      "primary_cleaner.state.floatbank8_a_air                11017 non-null float64\n",
      "primary_cleaner.state.floatbank8_a_level              11017 non-null float64\n",
      "primary_cleaner.state.floatbank8_b_air                11017 non-null float64\n",
      "primary_cleaner.state.floatbank8_b_level              11017 non-null float64\n",
      "primary_cleaner.state.floatbank8_c_air                11017 non-null float64\n",
      "primary_cleaner.state.floatbank8_c_level              11017 non-null float64\n",
      "primary_cleaner.state.floatbank8_d_air                11017 non-null float64\n",
      "primary_cleaner.state.floatbank8_d_level              11017 non-null float64\n",
      "rougher.calculation.sulfate_to_au_concentrate         11017 non-null float64\n",
      "rougher.calculation.floatbank10_sulfate_to_au_feed    11017 non-null float64\n",
      "rougher.calculation.floatbank11_sulfate_to_au_feed    11017 non-null float64\n",
      "rougher.calculation.au_pb_ratio                       11017 non-null float64\n",
      "rougher.input.feed_ag                                 11017 non-null float64\n",
      "rougher.input.feed_pb                                 11017 non-null float64\n",
      "rougher.input.feed_rate                               11017 non-null float64\n",
      "rougher.input.feed_size                               11017 non-null float64\n",
      "rougher.input.feed_sol                                11017 non-null float64\n",
      "rougher.input.feed_au                                 11017 non-null float64\n",
      "rougher.input.floatbank10_sulfate                     11017 non-null float64\n",
      "rougher.input.floatbank10_xanthate                    11017 non-null float64\n",
      "rougher.input.floatbank11_sulfate                     11017 non-null float64\n",
      "rougher.input.floatbank11_xanthate                    11017 non-null float64\n",
      "rougher.output.concentrate_ag                         11017 non-null float64\n",
      "rougher.output.concentrate_pb                         11017 non-null float64\n",
      "rougher.output.concentrate_sol                        11017 non-null float64\n",
      "rougher.output.concentrate_au                         11017 non-null float64\n",
      "rougher.output.recovery                               11017 non-null float64\n",
      "rougher.output.tail_ag                                11017 non-null float64\n",
      "rougher.output.tail_pb                                11017 non-null float64\n",
      "rougher.output.tail_sol                               11017 non-null float64\n",
      "rougher.output.tail_au                                11017 non-null float64\n",
      "rougher.state.floatbank10_a_air                       11017 non-null float64\n",
      "rougher.state.floatbank10_a_level                     11017 non-null float64\n",
      "rougher.state.floatbank10_b_air                       11017 non-null float64\n",
      "rougher.state.floatbank10_b_level                     11017 non-null float64\n",
      "rougher.state.floatbank10_c_air                       11017 non-null float64\n",
      "rougher.state.floatbank10_c_level                     11017 non-null float64\n",
      "rougher.state.floatbank10_d_air                       11017 non-null float64\n",
      "rougher.state.floatbank10_d_level                     11017 non-null float64\n",
      "rougher.state.floatbank10_e_air                       11017 non-null float64\n",
      "rougher.state.floatbank10_e_level                     11017 non-null float64\n",
      "rougher.state.floatbank10_f_air                       11017 non-null float64\n",
      "rougher.state.floatbank10_f_level                     11017 non-null float64\n",
      "secondary_cleaner.output.tail_ag                      11017 non-null float64\n",
      "secondary_cleaner.output.tail_pb                      11017 non-null float64\n",
      "secondary_cleaner.output.tail_sol                     11017 non-null float64\n",
      "secondary_cleaner.output.tail_au                      11017 non-null float64\n",
      "secondary_cleaner.state.floatbank2_a_air              11017 non-null float64\n",
      "secondary_cleaner.state.floatbank2_a_level            11017 non-null float64\n",
      "secondary_cleaner.state.floatbank2_b_air              11017 non-null float64\n",
      "secondary_cleaner.state.floatbank2_b_level            11017 non-null float64\n",
      "secondary_cleaner.state.floatbank3_a_air              11017 non-null float64\n",
      "secondary_cleaner.state.floatbank3_a_level            11017 non-null float64\n",
      "secondary_cleaner.state.floatbank3_b_air              11017 non-null float64\n",
      "secondary_cleaner.state.floatbank3_b_level            11017 non-null float64\n",
      "secondary_cleaner.state.floatbank4_a_air              11017 non-null float64\n",
      "secondary_cleaner.state.floatbank4_a_level            11017 non-null float64\n",
      "secondary_cleaner.state.floatbank4_b_air              11017 non-null float64\n",
      "secondary_cleaner.state.floatbank4_b_level            11017 non-null float64\n",
      "secondary_cleaner.state.floatbank5_a_air              11017 non-null float64\n",
      "secondary_cleaner.state.floatbank5_a_level            11017 non-null float64\n",
      "secondary_cleaner.state.floatbank5_b_air              11017 non-null float64\n",
      "secondary_cleaner.state.floatbank5_b_level            11017 non-null float64\n",
      "secondary_cleaner.state.floatbank6_a_air              11017 non-null float64\n",
      "secondary_cleaner.state.floatbank6_a_level            11017 non-null float64\n",
      "dtypes: float64(86), object(1)\n",
      "memory usage: 7.3+ MB\n"
     ]
    }
   ],
   "source": [
    "train_data.dropna(inplace=True)\n",
    "train_data.reset_index(drop=True, inplace=True)\n",
    "train_data.info()"
   ]
  },
  {
   "cell_type": "code",
   "execution_count": 40,
   "metadata": {},
   "outputs": [
    {
     "name": "stdout",
     "output_type": "stream",
     "text": [
      "<class 'pandas.core.frame.DataFrame'>\n",
      "RangeIndex: 12679 entries, 0 to 12678\n",
      "Data columns (total 55 columns):\n",
      "date                                          12679 non-null object\n",
      "final.output.recovery                         12679 non-null float64\n",
      "primary_cleaner.input.sulfate                 12679 non-null float64\n",
      "primary_cleaner.input.depressant              12679 non-null float64\n",
      "primary_cleaner.input.feed_size               12679 non-null float64\n",
      "primary_cleaner.input.xanthate                12679 non-null float64\n",
      "primary_cleaner.state.floatbank8_a_air        12679 non-null float64\n",
      "primary_cleaner.state.floatbank8_a_level      12679 non-null float64\n",
      "primary_cleaner.state.floatbank8_b_air        12679 non-null float64\n",
      "primary_cleaner.state.floatbank8_b_level      12679 non-null float64\n",
      "primary_cleaner.state.floatbank8_c_air        12679 non-null float64\n",
      "primary_cleaner.state.floatbank8_c_level      12679 non-null float64\n",
      "primary_cleaner.state.floatbank8_d_air        12679 non-null float64\n",
      "primary_cleaner.state.floatbank8_d_level      12679 non-null float64\n",
      "rougher.input.feed_ag                         12679 non-null float64\n",
      "rougher.input.feed_pb                         12679 non-null float64\n",
      "rougher.input.feed_rate                       12679 non-null float64\n",
      "rougher.input.feed_size                       12679 non-null float64\n",
      "rougher.input.feed_sol                        12679 non-null float64\n",
      "rougher.input.feed_au                         12679 non-null float64\n",
      "rougher.input.floatbank10_sulfate             12679 non-null float64\n",
      "rougher.input.floatbank10_xanthate            12679 non-null float64\n",
      "rougher.input.floatbank11_sulfate             12679 non-null float64\n",
      "rougher.input.floatbank11_xanthate            12679 non-null float64\n",
      "rougher.output.recovery                       12679 non-null float64\n",
      "rougher.state.floatbank10_a_air               12679 non-null float64\n",
      "rougher.state.floatbank10_a_level             12679 non-null float64\n",
      "rougher.state.floatbank10_b_air               12679 non-null float64\n",
      "rougher.state.floatbank10_b_level             12679 non-null float64\n",
      "rougher.state.floatbank10_c_air               12679 non-null float64\n",
      "rougher.state.floatbank10_c_level             12679 non-null float64\n",
      "rougher.state.floatbank10_d_air               12679 non-null float64\n",
      "rougher.state.floatbank10_d_level             12679 non-null float64\n",
      "rougher.state.floatbank10_e_air               12679 non-null float64\n",
      "rougher.state.floatbank10_e_level             12679 non-null float64\n",
      "rougher.state.floatbank10_f_air               12679 non-null float64\n",
      "rougher.state.floatbank10_f_level             12679 non-null float64\n",
      "secondary_cleaner.state.floatbank2_a_air      12679 non-null float64\n",
      "secondary_cleaner.state.floatbank2_a_level    12679 non-null float64\n",
      "secondary_cleaner.state.floatbank2_b_air      12679 non-null float64\n",
      "secondary_cleaner.state.floatbank2_b_level    12679 non-null float64\n",
      "secondary_cleaner.state.floatbank3_a_air      12679 non-null float64\n",
      "secondary_cleaner.state.floatbank3_a_level    12679 non-null float64\n",
      "secondary_cleaner.state.floatbank3_b_air      12679 non-null float64\n",
      "secondary_cleaner.state.floatbank3_b_level    12679 non-null float64\n",
      "secondary_cleaner.state.floatbank4_a_air      12679 non-null float64\n",
      "secondary_cleaner.state.floatbank4_a_level    12679 non-null float64\n",
      "secondary_cleaner.state.floatbank4_b_air      12679 non-null float64\n",
      "secondary_cleaner.state.floatbank4_b_level    12679 non-null float64\n",
      "secondary_cleaner.state.floatbank5_a_air      12679 non-null float64\n",
      "secondary_cleaner.state.floatbank5_a_level    12679 non-null float64\n",
      "secondary_cleaner.state.floatbank5_b_air      12679 non-null float64\n",
      "secondary_cleaner.state.floatbank5_b_level    12679 non-null float64\n",
      "secondary_cleaner.state.floatbank6_a_air      12679 non-null float64\n",
      "secondary_cleaner.state.floatbank6_a_level    12679 non-null float64\n",
      "dtypes: float64(54), object(1)\n",
      "memory usage: 5.3+ MB\n"
     ]
    }
   ],
   "source": [
    "train_data2.info()"
   ]
  },
  {
   "cell_type": "code",
   "execution_count": null,
   "metadata": {},
   "outputs": [],
   "source": []
  },
  {
   "cell_type": "markdown",
   "metadata": {},
   "source": [
    "To understand how the concentration of Au changes depending on the purification stage, we can make boxplots for columns that have Au concentration from different purification stages. "
   ]
  },
  {
   "cell_type": "code",
   "execution_count": 41,
   "metadata": {},
   "outputs": [
    {
     "data": {
      "image/png": "[encoded data removed]",
      "text/plain": [
       "<Figure size 640x480 with 1 Axes>"
      ]
     },
     "metadata": {
      "needs_background": "light"
     },
     "output_type": "display_data"
    }
   ],
   "source": [
    "\n",
    "figure(figsize=(8, 6), dpi=80)\n",
    "\n",
    "train_data.boxplot(column=['rougher.input.feed_au', \n",
    "                           'rougher.output.concentrate_au', \n",
    "                           'rougher.output.recovery',\n",
    "       'rougher.output.tail_au',\n",
    "       'primary_cleaner.output.concentrate_au', \n",
    "       'primary_cleaner.output.tail_au',\n",
    "       'secondary_cleaner.output.tail_au',\n",
    "      'final.output.concentrate_au',\n",
    "      'final.output.tail_au',\n",
    "      'final.output.recovery'], grid='true', fontsize=10, rot=90);"
   ]
  },
  {
   "cell_type": "markdown",
   "metadata": {},
   "source": [
    "The above boxplots show that the `rougher.input.feed_au` has low concentration (below 20). The median tail Au concentration are very low across all stages. The median concentrate Au concentration keeps increasing in all four stages: rougher, primary_cleaner, secondary_cleaner, and final. Last but not least, the median `rougher.output.recovery` is higher than the median `final.output.recovery`. "
   ]
  },
  {
   "cell_type": "markdown",
   "metadata": {},
   "source": [
    "To understand how the concentration of Ag changes depending on the purification stage, we can make boxplots for columns that have Ag concentration from different purification stages. "
   ]
  },
  {
   "cell_type": "code",
   "execution_count": 42,
   "metadata": {},
   "outputs": [
    {
     "data": {
      "image/png": "[encoded data removed]",
      "text/plain": [
       "<Figure size 640x480 with 1 Axes>"
      ]
     },
     "metadata": {
      "needs_background": "light"
     },
     "output_type": "display_data"
    }
   ],
   "source": [
    "\n",
    "figure(figsize=(8, 6), dpi=80)\n",
    "\n",
    "train_data.boxplot(column=['rougher.input.feed_ag',\n",
    "                           'rougher.output.concentrate_ag',\n",
    "                           'primary_cleaner.output.concentrate_ag',\n",
    "                           'final.output.concentrate_ag', \n",
    "                           'rougher.output.tail_ag',\n",
    "                           'primary_cleaner.output.tail_ag',\n",
    "                           'secondary_cleaner.output.tail_ag',\n",
    "                           'final.output.tail_ag'\n",
    "    ], grid='true', fontsize=10, rot=90);"
   ]
  },
  {
   "cell_type": "markdown",
   "metadata": {},
   "source": [
    "The above boxplots show that the Ag concentration is below 30 across all stages and all parameter types. The `rougher.input.feed_ag` has low concentration (below 15). The median output concentrate Ag concentration keeps decreasing in all three stages: rougher, primary_cleaner, and final. Last but not least, the median tail ag concentration increases from rougher to primary_cleaner, then it decreases in the secondary_cleaner and final stages. "
   ]
  },
  {
   "cell_type": "markdown",
   "metadata": {},
   "source": [
    "To understand how the concentration of Pb changes depending on the purification stage, we can make boxplots for columns that have Ag concentration from different purification stages. "
   ]
  },
  {
   "cell_type": "code",
   "execution_count": 43,
   "metadata": {
    "scrolled": false
   },
   "outputs": [
    {
     "data": {
      "image/png": "[encoded data removed]",
      "text/plain": [
       "<Figure size 640x480 with 1 Axes>"
      ]
     },
     "metadata": {
      "needs_background": "light"
     },
     "output_type": "display_data"
    }
   ],
   "source": [
    "\n",
    "figure(figsize=(8, 6), dpi=80)\n",
    "\n",
    "train_data.boxplot(column=['rougher.input.feed_pb',\n",
    "                           'rougher.output.concentrate_pb',\n",
    "                           'primary_cleaner.output.concentrate_pb',\n",
    "                           'final.output.concentrate_pb', \n",
    "                           'rougher.output.tail_pb',\n",
    "                           'primary_cleaner.output.tail_pb',\n",
    "                           'secondary_cleaner.output.tail_pb',\n",
    "                           'final.output.tail_pb'\n",
    "    ], grid='true', fontsize=10, rot=90);"
   ]
  },
  {
   "cell_type": "markdown",
   "metadata": {},
   "source": [
    "The above boxplots show that the Pb concentration is below 17.5 across all stages and all parameter types. The `rougher.input.feed_pb` has low concentration (below 7.5). The median output concentrate Pb concentration keeps increasing slightly in all three stages: rougher, primary_cleaner, and final. Last but not least, the median tail Pb concentration increases from rougher to primary_cleaner and secondary_cleaner,, then it decreases in the final stage. "
   ]
  },
  {
   "cell_type": "markdown",
   "metadata": {},
   "source": [
    "<div class=\"alert alert-success\">\n",
    "<b>Reviewer's comment V2</b>\n",
    "\n",
    "Ok, well done! You confirmed that gold concentration increases throughout the process!\n",
    "\n",
    "</div>"
   ]
  },
  {
   "cell_type": "markdown",
   "metadata": {},
   "source": [
    "### Compare the feed particle size distributions\n",
    "\n",
    "Compare the feed particle size distributions in the training set and in the test set. If the distributions vary significantly, model evaluation will be performed incorrectly.\n",
    "\n",
    "First, let's look at the feed particle size distributions in the training set."
   ]
  },
  {
   "cell_type": "code",
   "execution_count": 44,
   "metadata": {
    "scrolled": false
   },
   "outputs": [
    {
     "data": {
      "text/plain": [
       "<Figure size 640x480 with 0 Axes>"
      ]
     },
     "metadata": {},
     "output_type": "display_data"
    },
    {
     "data": {
      "image/png": "[encoded data removed]",
      "text/plain": [
       "<Figure size 432x288 with 1 Axes>"
      ]
     },
     "metadata": {
      "needs_background": "light"
     },
     "output_type": "display_data"
    },
    {
     "data": {
      "image/png": "[encoded data removed]",
      "text/plain": [
       "<Figure size 432x288 with 1 Axes>"
      ]
     },
     "metadata": {
      "needs_background": "light"
     },
     "output_type": "display_data"
    }
   ],
   "source": [
    "figure(figsize=(8, 6), dpi=80);\n",
    "\n",
    "train_data.hist(column='primary_cleaner.input.feed_size', bins=30);\n",
    "plt.title('Histogram for primary_cleaner.input.feed_size for the train data');\n",
    "plt.xlabel('particle size');\n",
    "plt.ylabel('counts');\n",
    "\n",
    "\n",
    "train_data.hist(column='rougher.input.feed_size', bins=30);\n",
    "plt.title('Histogram for rougher.input.feed_size for the train data');\n",
    "plt.xlabel('particle size');\n",
    "plt.ylabel('counts');"
   ]
  },
  {
   "cell_type": "markdown",
   "metadata": {},
   "source": [
    "The above histgrams show that for the `train_data`, the `primary_cleaner.input.feed_size` is very small with median around 7 and max below 20. The distribution is left-skewed. The range of the `primary_cleaner.input.feed_size` is also very small (less than 10). \n",
    "\n",
    "In contrast, the `rougher.input.feed_size` has a very wide range, with median particle size around 60. There are some very small (below 30) and very large (above 100) particle sizes for the `rougher.input.feed_size`."
   ]
  },
  {
   "cell_type": "markdown",
   "metadata": {},
   "source": [
    "\n",
    "Next, let's look at the feed particle size distributions in the test set."
   ]
  },
  {
   "cell_type": "code",
   "execution_count": 45,
   "metadata": {
    "scrolled": false
   },
   "outputs": [
    {
     "data": {
      "text/plain": [
       "<Figure size 640x480 with 0 Axes>"
      ]
     },
     "metadata": {},
     "output_type": "display_data"
    },
    {
     "data": {
      "image/png": "[encoded data removed]",
      "text/plain": [
       "<Figure size 432x288 with 1 Axes>"
      ]
     },
     "metadata": {
      "needs_background": "light"
     },
     "output_type": "display_data"
    },
    {
     "data": {
      "image/png": "[encoded data removed]",
      "text/plain": [
       "<Figure size 432x288 with 1 Axes>"
      ]
     },
     "metadata": {
      "needs_background": "light"
     },
     "output_type": "display_data"
    }
   ],
   "source": [
    "figure(figsize=(8, 6), dpi=80)\n",
    "\n",
    "test_data.hist(column='primary_cleaner.input.feed_size', bins=30);\n",
    "plt.title('Histogram for primary_cleaner.input.feed_size for the test data');\n",
    "plt.xlabel('particle size');\n",
    "plt.ylabel('counts');\n",
    "\n",
    "test_data.hist(column='rougher.input.feed_size', bins=30);\n",
    "plt.title('Histogram for rougher.input.feed_size for the test data');\n",
    "plt.xlabel('particle size');\n",
    "plt.ylabel('counts');\n"
   ]
  },
  {
   "cell_type": "markdown",
   "metadata": {},
   "source": [
    "The above histgrams show that for the `test_data`, the `primary_cleaner.input.feed_size` is very small with median around 7 and max below 20. The distribution is left-skewed. The range of the `primary_cleaner.input.feed_size` is also very small (less than 15). \n",
    "\n",
    "In contrast, the `rougher.input.feed_size` has a very wide range, with median particle size around 60. There are some very small (below 30) and very large (above 100) particle sizes for the `rougher.input.feed_size`.\n",
    "\n",
    "We conclude that the feed particle size distributions in the training set and in the test set are very similar. Thus, model evaluation can be performed correctly."
   ]
  },
  {
   "cell_type": "markdown",
   "metadata": {},
   "source": [
    "<div class=\"alert alert-warning\">\n",
    "<b>Reviewer's comment V2</b>\n",
    "\n",
    "It would be better to plot the histograms here, box plots can be a bit misleading\n",
    "\n",
    "</div>\n",
    "\n",
    "  \n",
    "<div class=\"alert alert-info\">\n",
    "  Student's comments: Yes. I have revised the code and conclusions above. Thank you!\n",
    "</div>"
   ]
  },
  {
   "cell_type": "markdown",
   "metadata": {},
   "source": [
    "<div class=\"alert alert-success\">\n",
    "<b>Reviewer's comment V3</b>\n",
    "\n",
    "Awesome! I would further suggest to plot the histograms for the train/test set on the same axis though for easier comparison :)\n",
    "\n",
    "</div>"
   ]
  },
  {
   "cell_type": "markdown",
   "metadata": {},
   "source": [
    "### Consider the total concentrations of all substances at different stages of the recovery process: the raw feed, rougher concentrate, and final concentrate. \n",
    "\n",
    "Do you notice any abnormal values in the total distribution? If you do, is it worth removing them from both sets? Describe your findings and eliminate anomalies.\n",
    "\n",
    "First, let's create three new columns that calculate the total concentrations of all substances at different stages (the raw feed, rougher concentrate, and final concentrate) of the recovery process for the `train_data`."
   ]
  },
  {
   "cell_type": "code",
   "execution_count": 46,
   "metadata": {},
   "outputs": [],
   "source": [
    "def total_raw_feed(row):\n",
    "    \"\"\"\n",
    "    the total_raw_feed function calculate the \n",
    "    total concentrations of all substances in raw feed\n",
    "    \"\"\"\n",
    "    total = row['rougher.input.feed_ag'] + row['rougher.input.feed_pb'] + row['rougher.input.feed_sol'] + row['rougher.input.feed_au'] \n",
    "    \n",
    "    return total\n",
    "    \n",
    "# rougher_output_recovery(train_data.loc[0])    \n",
    "\n",
    "train_data['total.raw.feed'] = train_data.apply(total_raw_feed, axis=1)\n",
    "# train_data['total.raw.feed']\n"
   ]
  },
  {
   "cell_type": "code",
   "execution_count": 47,
   "metadata": {},
   "outputs": [],
   "source": [
    "def total_rougher_concentrate(row):\n",
    "\n",
    "    total = row['rougher.output.concentrate_ag'] + row['rougher.output.concentrate_pb'] + row['rougher.output.concentrate_sol'] + row['rougher.output.concentrate_au'] \n",
    "    \n",
    "    return total   \n",
    "\n",
    "train_data['total.rougher.concentrate'] = train_data.apply(total_rougher_concentrate, axis=1)\n",
    "# train_data['total.rougher.concentrate'] \n"
   ]
  },
  {
   "cell_type": "code",
   "execution_count": 48,
   "metadata": {
    "scrolled": true
   },
   "outputs": [
    {
     "data": {
      "text/plain": [
       "0        63.644396\n",
       "1        63.957723\n",
       "2        64.311180\n",
       "3        63.573449\n",
       "4        64.004667\n",
       "           ...    \n",
       "11012    68.098589\n",
       "11013    68.274362\n",
       "11014    68.226068\n",
       "11015    68.200449\n",
       "11016    68.353154\n",
       "Name: total.final.concentrate, Length: 11017, dtype: float64"
      ]
     },
     "execution_count": 48,
     "metadata": {},
     "output_type": "execute_result"
    }
   ],
   "source": [
    "def total_final_concentrate(row):\n",
    "\n",
    "    total = row['final.output.concentrate_ag'] + row['final.output.concentrate_pb'] + row['final.output.concentrate_sol'] + row['final.output.concentrate_au'] \n",
    "    \n",
    "    return total   \n",
    "\n",
    "train_data['total.final.concentrate'] = train_data.apply(total_final_concentrate, axis=1)\n",
    "train_data['total.final.concentrate']\n"
   ]
  },
  {
   "cell_type": "markdown",
   "metadata": {},
   "source": [
    "Next, let's look at the boxplots of the three columns for the total concentrations. "
   ]
  },
  {
   "cell_type": "code",
   "execution_count": 49,
   "metadata": {
    "scrolled": false
   },
   "outputs": [
    {
     "data": {
      "image/png": "[encoded data removed]",
      "text/plain": [
       "<Figure size 640x480 with 1 Axes>"
      ]
     },
     "metadata": {
      "needs_background": "light"
     },
     "output_type": "display_data"
    }
   ],
   "source": [
    "figure(figsize=(8, 6), dpi=80)\n",
    "\n",
    "train_data.boxplot(column=['total.raw.feed',\n",
    "                           'total.rougher.concentrate',\n",
    "                           'total.final.concentrate'\n",
    "    ], grid='true', fontsize=10, rot=90);\n"
   ]
  },
  {
   "cell_type": "markdown",
   "metadata": {},
   "source": [
    "We see that the median total concentrations increase from raw feed to rougher concentrate and final concentrate, which makes sense. But we also noticed that there are zeros for the total, which does not makes sense and should be removed from the dataset.  Thus, we will remove all rows with 0 from the `train_data`."
   ]
  },
  {
   "cell_type": "code",
   "execution_count": 50,
   "metadata": {
    "scrolled": true
   },
   "outputs": [
    {
     "name": "stdout",
     "output_type": "stream",
     "text": [
      "<class 'pandas.core.frame.DataFrame'>\n",
      "Int64Index: 10784 entries, 0 to 11016\n",
      "Data columns (total 90 columns):\n",
      "date                                                  10784 non-null object\n",
      "final.output.concentrate_ag                           10784 non-null float64\n",
      "final.output.concentrate_pb                           10784 non-null float64\n",
      "final.output.concentrate_sol                          10784 non-null float64\n",
      "final.output.concentrate_au                           10784 non-null float64\n",
      "final.output.recovery                                 10784 non-null float64\n",
      "final.output.tail_ag                                  10784 non-null float64\n",
      "final.output.tail_pb                                  10784 non-null float64\n",
      "final.output.tail_sol                                 10784 non-null float64\n",
      "final.output.tail_au                                  10784 non-null float64\n",
      "primary_cleaner.input.sulfate                         10784 non-null float64\n",
      "primary_cleaner.input.depressant                      10784 non-null float64\n",
      "primary_cleaner.input.feed_size                       10784 non-null float64\n",
      "primary_cleaner.input.xanthate                        10784 non-null float64\n",
      "primary_cleaner.output.concentrate_ag                 10784 non-null float64\n",
      "primary_cleaner.output.concentrate_pb                 10784 non-null float64\n",
      "primary_cleaner.output.concentrate_sol                10784 non-null float64\n",
      "primary_cleaner.output.concentrate_au                 10784 non-null float64\n",
      "primary_cleaner.output.tail_ag                        10784 non-null float64\n",
      "primary_cleaner.output.tail_pb                        10784 non-null float64\n",
      "primary_cleaner.output.tail_sol                       10784 non-null float64\n",
      "primary_cleaner.output.tail_au                        10784 non-null float64\n",
      "primary_cleaner.state.floatbank8_a_air                10784 non-null float64\n",
      "primary_cleaner.state.floatbank8_a_level              10784 non-null float64\n",
      "primary_cleaner.state.floatbank8_b_air                10784 non-null float64\n",
      "primary_cleaner.state.floatbank8_b_level              10784 non-null float64\n",
      "primary_cleaner.state.floatbank8_c_air                10784 non-null float64\n",
      "primary_cleaner.state.floatbank8_c_level              10784 non-null float64\n",
      "primary_cleaner.state.floatbank8_d_air                10784 non-null float64\n",
      "primary_cleaner.state.floatbank8_d_level              10784 non-null float64\n",
      "rougher.calculation.sulfate_to_au_concentrate         10784 non-null float64\n",
      "rougher.calculation.floatbank10_sulfate_to_au_feed    10784 non-null float64\n",
      "rougher.calculation.floatbank11_sulfate_to_au_feed    10784 non-null float64\n",
      "rougher.calculation.au_pb_ratio                       10784 non-null float64\n",
      "rougher.input.feed_ag                                 10784 non-null float64\n",
      "rougher.input.feed_pb                                 10784 non-null float64\n",
      "rougher.input.feed_rate                               10784 non-null float64\n",
      "rougher.input.feed_size                               10784 non-null float64\n",
      "rougher.input.feed_sol                                10784 non-null float64\n",
      "rougher.input.feed_au                                 10784 non-null float64\n",
      "rougher.input.floatbank10_sulfate                     10784 non-null float64\n",
      "rougher.input.floatbank10_xanthate                    10784 non-null float64\n",
      "rougher.input.floatbank11_sulfate                     10784 non-null float64\n",
      "rougher.input.floatbank11_xanthate                    10784 non-null float64\n",
      "rougher.output.concentrate_ag                         10784 non-null float64\n",
      "rougher.output.concentrate_pb                         10784 non-null float64\n",
      "rougher.output.concentrate_sol                        10784 non-null float64\n",
      "rougher.output.concentrate_au                         10784 non-null float64\n",
      "rougher.output.recovery                               10784 non-null float64\n",
      "rougher.output.tail_ag                                10784 non-null float64\n",
      "rougher.output.tail_pb                                10784 non-null float64\n",
      "rougher.output.tail_sol                               10784 non-null float64\n",
      "rougher.output.tail_au                                10784 non-null float64\n",
      "rougher.state.floatbank10_a_air                       10784 non-null float64\n",
      "rougher.state.floatbank10_a_level                     10784 non-null float64\n",
      "rougher.state.floatbank10_b_air                       10784 non-null float64\n",
      "rougher.state.floatbank10_b_level                     10784 non-null float64\n",
      "rougher.state.floatbank10_c_air                       10784 non-null float64\n",
      "rougher.state.floatbank10_c_level                     10784 non-null float64\n",
      "rougher.state.floatbank10_d_air                       10784 non-null float64\n",
      "rougher.state.floatbank10_d_level                     10784 non-null float64\n",
      "rougher.state.floatbank10_e_air                       10784 non-null float64\n",
      "rougher.state.floatbank10_e_level                     10784 non-null float64\n",
      "rougher.state.floatbank10_f_air                       10784 non-null float64\n",
      "rougher.state.floatbank10_f_level                     10784 non-null float64\n",
      "secondary_cleaner.output.tail_ag                      10784 non-null float64\n",
      "secondary_cleaner.output.tail_pb                      10784 non-null float64\n",
      "secondary_cleaner.output.tail_sol                     10784 non-null float64\n",
      "secondary_cleaner.output.tail_au                      10784 non-null float64\n",
      "secondary_cleaner.state.floatbank2_a_air              10784 non-null float64\n",
      "secondary_cleaner.state.floatbank2_a_level            10784 non-null float64\n",
      "secondary_cleaner.state.floatbank2_b_air              10784 non-null float64\n",
      "secondary_cleaner.state.floatbank2_b_level            10784 non-null float64\n",
      "secondary_cleaner.state.floatbank3_a_air              10784 non-null float64\n",
      "secondary_cleaner.state.floatbank3_a_level            10784 non-null float64\n",
      "secondary_cleaner.state.floatbank3_b_air              10784 non-null float64\n",
      "secondary_cleaner.state.floatbank3_b_level            10784 non-null float64\n",
      "secondary_cleaner.state.floatbank4_a_air              10784 non-null float64\n",
      "secondary_cleaner.state.floatbank4_a_level            10784 non-null float64\n",
      "secondary_cleaner.state.floatbank4_b_air              10784 non-null float64\n",
      "secondary_cleaner.state.floatbank4_b_level            10784 non-null float64\n",
      "secondary_cleaner.state.floatbank5_a_air              10784 non-null float64\n",
      "secondary_cleaner.state.floatbank5_a_level            10784 non-null float64\n",
      "secondary_cleaner.state.floatbank5_b_air              10784 non-null float64\n",
      "secondary_cleaner.state.floatbank5_b_level            10784 non-null float64\n",
      "secondary_cleaner.state.floatbank6_a_air              10784 non-null float64\n",
      "secondary_cleaner.state.floatbank6_a_level            10784 non-null float64\n",
      "total.raw.feed                                        10784 non-null float64\n",
      "total.rougher.concentrate                             10784 non-null float64\n",
      "total.final.concentrate                               10784 non-null float64\n",
      "dtypes: float64(89), object(1)\n",
      "memory usage: 7.5+ MB\n"
     ]
    }
   ],
   "source": [
    "train_data = train_data.loc[(train_data.loc[:,'total.raw.feed'] != 0) & (train_data.loc[:,'total.rougher.concentrate'] != 0) & (train_data.loc[:,'total.final.concentrate'] != 0) ]\n",
    "\n",
    "train_data.info()\n"
   ]
  },
  {
   "cell_type": "markdown",
   "metadata": {},
   "source": [
    "Let's look at the distribution of the total concentrations again after dropping all rows with 0 total concentrations."
   ]
  },
  {
   "cell_type": "code",
   "execution_count": 51,
   "metadata": {
    "scrolled": false
   },
   "outputs": [
    {
     "data": {
      "image/png": "[encoded data removed]",
      "text/plain": [
       "<Figure size 640x480 with 1 Axes>"
      ]
     },
     "metadata": {
      "needs_background": "light"
     },
     "output_type": "display_data"
    }
   ],
   "source": [
    "figure(figsize=(8, 6), dpi=80)\n",
    "\n",
    "train_data.boxplot(column=['total.raw.feed',\n",
    "                        'total.rougher.concentrate',\n",
    "                           'total.final.concentrate'\n",
    "    ], grid='true', fontsize=10, rot=90);\n"
   ]
  },
  {
   "cell_type": "markdown",
   "metadata": {},
   "source": [
    "We see that the total final concentrate does not have zero values. I think the `total_data` looks good now!"
   ]
  },
  {
   "cell_type": "markdown",
   "metadata": {},
   "source": [
    "The `test_data` only have columns about raw feed and does not have columns about the rougher concentrate and final concentrate. We will create a new column `total.raw.feed` for the `test_data`."
   ]
  },
  {
   "cell_type": "code",
   "execution_count": 52,
   "metadata": {
    "scrolled": true
   },
   "outputs": [],
   "source": [
    "test_data['total.raw.feed'] = test_data.apply(total_raw_feed, axis=1)\n",
    "# test_data['total.raw.feed']"
   ]
  },
  {
   "cell_type": "code",
   "execution_count": 53,
   "metadata": {},
   "outputs": [
    {
     "data": {
      "text/plain": [
       "<Figure size 640x480 with 0 Axes>"
      ]
     },
     "metadata": {},
     "output_type": "display_data"
    },
    {
     "data": {
      "image/png": "[encoded data removed]",
      "text/plain": [
       "<Figure size 432x288 with 1 Axes>"
      ]
     },
     "metadata": {
      "needs_background": "light"
     },
     "output_type": "display_data"
    }
   ],
   "source": [
    "figure(figsize=(8, 6), dpi=80);\n",
    "\n",
    "test_data.hist(column='total.raw.feed', bins=30);\n",
    "plt.title('Histogram for total.raw.feed for the test data');\n",
    "plt.xlabel('total.raw.feed');\n",
    "plt.ylabel('counts');\n"
   ]
  },
  {
   "cell_type": "code",
   "execution_count": 54,
   "metadata": {},
   "outputs": [],
   "source": [
    "test_data = test_data.loc[(test_data.loc[:,'total.raw.feed'] != 0)]\n",
    "\n",
    "# test_data.info()"
   ]
  },
  {
   "cell_type": "code",
   "execution_count": 55,
   "metadata": {},
   "outputs": [
    {
     "data": {
      "text/plain": [
       "<Figure size 640x480 with 0 Axes>"
      ]
     },
     "metadata": {},
     "output_type": "display_data"
    },
    {
     "data": {
      "image/png": "[encoded data removed]",
      "text/plain": [
       "<Figure size 432x288 with 1 Axes>"
      ]
     },
     "metadata": {
      "needs_background": "light"
     },
     "output_type": "display_data"
    }
   ],
   "source": [
    "figure(figsize=(8, 6), dpi=80)\n",
    "\n",
    "test_data.hist(column='total.raw.feed', bins=30);\n",
    "plt.title('Histogram for total.raw.feed for the test data');\n",
    "plt.xlabel('total.raw.feed');\n",
    "plt.ylabel('counts');\n"
   ]
  },
  {
   "cell_type": "markdown",
   "metadata": {},
   "source": [
    "Let's look at the distribution of the total raw feed concentrations again after dropping all rows with 0 total raw feed concentrations. We see that the total raw feed concentrate does not have zero values. I think the `test_data` looks good now!"
   ]
  },
  {
   "cell_type": "markdown",
   "metadata": {},
   "source": [
    "<div class=\"alert alert-warning\">\n",
    "<b>Reviewer's comment V2</b>\n",
    "\n",
    "Abnormal values were detected and removed! Here as well, I would suggest using histograms, as they are more informative\n",
    "\n",
    "</div>\n",
    "\n",
    "<div class=\"alert alert-info\">\n",
    "  Student's comments: Yes. I have revised the code and conclusions above. Thank you!\n",
    "</div>"
   ]
  },
  {
   "cell_type": "markdown",
   "metadata": {},
   "source": [
    "<div class=\"alert alert-success\">\n",
    "<b>Reviewer's comment V3</b>\n",
    "\n",
    "Great!\n",
    "\n",
    "</div>"
   ]
  },
  {
   "cell_type": "markdown",
   "metadata": {},
   "source": [
    "## Build the model\n",
    "\n",
    "### Write a function to calculate the final sMAPE value"
   ]
  },
  {
   "cell_type": "markdown",
   "metadata": {},
   "source": [
    "The final metric includes the two values:\n",
    "\n",
    "Final sMAPE = 25% × sMAPE (rougher) + 75% × sMAPE (final)\n",
    "\n",
    "sMAPE is the symmetric Mean Absolute Percentage Error. The smaller the sMAPE, the better the model. "
   ]
  },
  {
   "cell_type": "code",
   "execution_count": 56,
   "metadata": {},
   "outputs": [],
   "source": [
    "def smape(target, target_pred):\n",
    "    result = (np.mean(abs(target-target_pred)/((abs(target)+abs(target_pred))/2)))*100\n",
    "    final_smape = 0.25*result['rougher.output.recovery'] + 0.75*result['final.output.recovery']\n",
    "    return final_smape"
   ]
  },
  {
   "cell_type": "markdown",
   "metadata": {},
   "source": [
    "<div class=\"alert alert-success\">\n",
    "<b>Reviewer's comment V2</b>\n",
    "\n",
    "The function for SMAPE calculation is correct!\n",
    "\n",
    "</div>"
   ]
  },
  {
   "cell_type": "markdown",
   "metadata": {},
   "source": [
    "### Train different models and evaluate them using cross-validation "
   ]
  },
  {
   "cell_type": "markdown",
   "metadata": {},
   "source": [
    "#### Linear regression"
   ]
  },
  {
   "cell_type": "code",
   "execution_count": 57,
   "metadata": {},
   "outputs": [],
   "source": [
    "from sklearn.preprocessing import StandardScaler \n",
    "\n",
    "features_train = train_data2.drop(['rougher.output.recovery', 'final.output.recovery', 'date'], axis=1)\n",
    "\n",
    "target_train = train_data2[['rougher.output.recovery', 'final.output.recovery']]\n",
    "\n",
    "scaler = StandardScaler()\n",
    "scaler.fit(features_train) \n",
    "features_train_scaled = scaler.transform(features_train)\n",
    "\n",
    "# features_train_scaled.shape"
   ]
  },
  {
   "cell_type": "markdown",
   "metadata": {},
   "source": [
    "<div class=\"alert alert-danger\">\n",
    "<s><b>Reviewer's comment V2</b>\n",
    "    \n",
    "Selecting the columns like this is very error-prone. It would be better to save the list of the original test set columns and use it for filtering instead.\n",
    "    \n",
    "```python\n",
    "features_train = train_data2[train_data2.columns[14:38]]\n",
    "target_train = train_data2[train_data2.columns[24:25]]\n",
    "```\n",
    "    \n",
    "</div>\n",
    "<div class=\"alert alert-info\">\n",
    "  Student's comments: Yes. I have revised the code and conclusions. Thank you!\n",
    "</div>"
   ]
  },
  {
   "cell_type": "markdown",
   "metadata": {},
   "source": [
    "<div class=\"alert alert-success\">\n",
    "<b>Reviewer's comment V3</b>\n",
    "\n",
    "Ok, that's better!\n",
    "\n",
    "</div>"
   ]
  },
  {
   "cell_type": "code",
   "execution_count": 58,
   "metadata": {
    "scrolled": false
   },
   "outputs": [
    {
     "name": "stdout",
     "output_type": "stream",
     "text": [
      "Average evaluation score for linear regression models: -0.41719310338852106\n"
     ]
    }
   ],
   "source": [
    "model = LinearRegression()\n",
    "model.fit(features_train_scaled, target_train)\n",
    "scores = cross_val_score(model, features_train_scaled, target_train, scoring='r2', cv=3)\n",
    "final_score = np.mean(scores)\n",
    "\n",
    "print('Average evaluation score for linear regression models:', final_score)"
   ]
  },
  {
   "cell_type": "code",
   "execution_count": 59,
   "metadata": {},
   "outputs": [],
   "source": [
    "features_test = test_data_merge.drop(['rougher.output.recovery', 'final.output.recovery', 'date'], axis=1)\n",
    "features_test_scaled = scaler.transform(features_test)\n",
    "\n",
    "target_test = test_data_merge[['rougher.output.recovery', 'final.output.recovery']]\n"
   ]
  },
  {
   "cell_type": "code",
   "execution_count": 60,
   "metadata": {},
   "outputs": [
    {
     "data": {
      "text/plain": [
       "array([[88.57980743, 72.22977802],\n",
       "       [91.69474035, 72.64810955],\n",
       "       [91.40402296, 72.44285091],\n",
       "       ...,\n",
       "       [90.44425108, 73.03499163],\n",
       "       [91.18924015, 75.20010232],\n",
       "       [90.68713758, 74.15342723]])"
      ]
     },
     "execution_count": 60,
     "metadata": {},
     "output_type": "execute_result"
    }
   ],
   "source": [
    "predict_test_target = model.predict(features_test_scaled)\n",
    "predict_test_target\n",
    "# type(predict_test_target)"
   ]
  },
  {
   "cell_type": "code",
   "execution_count": 61,
   "metadata": {
    "scrolled": true
   },
   "outputs": [
    {
     "data": {
      "text/plain": [
       "9.21010792902861"
      ]
     },
     "execution_count": 61,
     "metadata": {},
     "output_type": "execute_result"
    }
   ],
   "source": [
    "smape_results = smape(target_test, predict_test_target)\n",
    "smape_results\n",
    "# smape_results['rougher.output.recovery']"
   ]
  },
  {
   "cell_type": "markdown",
   "metadata": {},
   "source": [
    "<div class=\"alert alert-warning\">\n",
    "<b>Reviewer's comment V2</b>\n",
    "\n",
    "1. $R^2$ scores can be negative. But note that in this project you're supposed to use SMAPE, rather than $R^2$ score. To use it with `cross_val_score`, you need to make a custom scorer object (here's [a guide](https://scikit-learn.org/stable/modules/model_evaluation.html#scoring) how to do it, please read it carefully, especially the point about `greater_is_better` parameter)\n",
    "2. Using scikit-learn, it's possible to solve the multi target regression task, i.e. if `target` has two columns, `LinearRegression.fit(features, target)` will train a separate model for each column. You can do the same thing manually, if you'd like (i.e. create two separate variables `target_rougher` and `target_final` and train two different models for them).\n",
    "\n",
    "I'm happy to help, but if you have any further questions or get stuck implementing this, it might be more efficient to contact the tutor for help :)\n",
    "    \n",
    "</div>\n",
    "\n",
    "<div class=\"alert alert-info\">\n",
    "  Student's comments: Thank you for your input! It really helps a lot!\n",
    "</div>"
   ]
  },
  {
   "cell_type": "markdown",
   "metadata": {},
   "source": [
    "#### Random forest regression"
   ]
  },
  {
   "cell_type": "code",
   "execution_count": 62,
   "metadata": {
    "scrolled": false
   },
   "outputs": [],
   "source": [
    "# best_smape = np.Inf\n",
    "# best_depth = 1\n",
    "# best_num_estimator = 1\n",
    "\n",
    "# for num_estimator in range(1, 22, 5):\n",
    "#     for depth in range(1, 8, 2):\n",
    "#         model = RandomForestRegressor(n_estimators=num_estimator, max_depth=depth, random_state=12345)\n",
    "#         model.fit(features_train_scaled, target_train)\n",
    "        \n",
    "#         predict_test_target = model.predict(features_test_scaled)\n",
    "#         final_smape = smape(target_test, predict_test_target)\n",
    "        \n",
    "#         if final_smape < best_smape:\n",
    "#             best_smape = final_smape\n",
    "#             best_depth = depth\n",
    "#             best_num_estimator = num_estimator\n",
    "       \n",
    "#         print(f\"max_depth = {depth}, the number of estimator = {num_estimator}, final smape = {final_smape}\")\n",
    "\n",
    "# print()\n",
    "# print(f\"The best model has max_depth = {best_depth}, the number of estimator = {best_num_estimator}, final smape = {best_smape}\")     \n",
    "\n"
   ]
  },
  {
   "cell_type": "code",
   "execution_count": 63,
   "metadata": {
    "scrolled": false
   },
   "outputs": [
    {
     "name": "stdout",
     "output_type": "stream",
     "text": [
      "max_depth = 1, the number of estimator = 1, final smape = 11.093767058075708\n",
      "max_depth = 3, the number of estimator = 1, final smape = 10.705099112882749\n",
      "max_depth = 5, the number of estimator = 1, final smape = 12.598052632559714\n",
      "max_depth = 7, the number of estimator = 1, final smape = 12.939739123972414\n",
      "max_depth = 1, the number of estimator = 6, final smape = 11.210387615311566\n",
      "max_depth = 3, the number of estimator = 6, final smape = 10.53080477329962\n",
      "max_depth = 5, the number of estimator = 6, final smape = 10.610541175727354\n",
      "max_depth = 7, the number of estimator = 6, final smape = 10.757312434051963\n",
      "max_depth = 1, the number of estimator = 11, final smape = 11.144242230075848\n",
      "max_depth = 3, the number of estimator = 11, final smape = 10.497894474536276\n",
      "max_depth = 5, the number of estimator = 11, final smape = 10.415669475524282\n",
      "max_depth = 7, the number of estimator = 11, final smape = 10.984294339001492\n",
      "max_depth = 1, the number of estimator = 16, final smape = 11.128845720076724\n",
      "max_depth = 3, the number of estimator = 16, final smape = 10.5016138015231\n",
      "max_depth = 5, the number of estimator = 16, final smape = 10.43470388627556\n",
      "max_depth = 7, the number of estimator = 16, final smape = 10.73656471854652\n",
      "max_depth = 1, the number of estimator = 21, final smape = 11.144703479636407\n",
      "max_depth = 3, the number of estimator = 21, final smape = 10.551828469584992\n",
      "max_depth = 5, the number of estimator = 21, final smape = 10.613195645859834\n",
      "max_depth = 7, the number of estimator = 21, final smape = 10.921192612978778\n",
      "\n",
      "The best model has max_depth = 5, the number of estimator = 11, final smape = 10.415669475524282\n"
     ]
    }
   ],
   "source": [
    "from sklearn.metrics import make_scorer\n",
    "# ref: https://scikit-learn.org/stable/modules/model_evaluation.html#scoring-parameter\n",
    "\n",
    "best_smape = np.Inf\n",
    "best_depth = 1\n",
    "best_num_estimator = 1\n",
    "\n",
    "for num_estimator in range(1, 22, 5):\n",
    "    for depth in range(1, 8, 2):\n",
    "        model = RandomForestRegressor(n_estimators=num_estimator, max_depth=depth, random_state=12345)\n",
    "        model.fit(features_train_scaled, target_train)\n",
    "        \n",
    "        scores = cross_val_score(model, features_train_scaled, target_train, \n",
    "                                 scoring = make_scorer(smape, greater_is_better=False), cv=3)\n",
    "        final_smape = np.mean(-scores)\n",
    "        \n",
    "        if final_smape < best_smape:\n",
    "            best_smape = final_smape\n",
    "            best_depth = depth\n",
    "            best_num_estimator = num_estimator\n",
    "       \n",
    "        print(f\"max_depth = {depth}, the number of estimator = {num_estimator}, final smape = {final_smape}\")\n",
    "\n",
    "print()\n",
    "print(f\"The best model has max_depth = {best_depth}, the number of estimator = {best_num_estimator}, final smape = {best_smape}\")     \n",
    "\n"
   ]
  },
  {
   "cell_type": "markdown",
   "metadata": {},
   "source": [
    "### Pick the best model and test it using the test set\n",
    "\n",
    "The best random forest regression model has final smape 10.42. Thus, we have determined the best random forest regression model has max_depth = 5 and the number of estimator = 11.\n",
    "\n",
    "Let's test the best model using the test set. "
   ]
  },
  {
   "cell_type": "code",
   "execution_count": 64,
   "metadata": {},
   "outputs": [
    {
     "name": "stdout",
     "output_type": "stream",
     "text": [
      "The best random forest regression model has final smape = 9.097656468087914\n"
     ]
    }
   ],
   "source": [
    "model = RandomForestRegressor(n_estimators=11, max_depth=5, random_state=12345)\n",
    "model.fit(features_train_scaled, target_train)\n",
    "        \n",
    "predict_test_target = model.predict(features_test_scaled)\n",
    "final_smape = smape(target_test, predict_test_target)\n",
    "print(f\"The best random forest regression model has final smape = {final_smape}\")   "
   ]
  },
  {
   "cell_type": "markdown",
   "metadata": {},
   "source": [
    "\n",
    "Using the test set, the linear regression model has final smape 9.21, and the best random forest regression model has final smape = 9.10. Thus, the random forest regression model with max_depth = 5 and the number of estimator = 11 is the best model. "
   ]
  },
  {
   "cell_type": "markdown",
   "metadata": {},
   "source": [
    "<div class=\"alert alert-danger\">\n",
    "<s><b>Reviewer's comment V3</b>\n",
    "\n",
    "1. It's not really appropriate to tune hyperparameters using the test set because that leads to a biased test set score (i.e. overly optimistic). The test set should be used only for the evaluation of the final model (when we already fixed hyperparameters using validation set/cross-validation). In this project you're supposed to use cross-validation in particular. As noted in a previous comment, to use SMAPE scoring with `cross_val_score`, you need to make a custom scorer object (here's [a guide](https://scikit-learn.org/stable/modules/model_evaluation.html#scoring) how to do it, please read it carefully, especially the point about `greater_is_better` parameter). So, to sum up, you just need to replace the evaluation on the test set in your hyperparameter tuning loop with a call to `cross_val_score` with appropriate scoring\n",
    "    \n",
    "2. One last touch: please add a simple baseline, e.g. a constant model always predicting train set target mean or median. It's convenient to use [DummyRegressor](https://scikit-learn.org/stable/modules/generated/sklearn.dummy.DummyRegressor.html) for this\n",
    "\n",
    "</div>\n",
    "\n",
    "<div class=\"alert alert-info\">\n",
    "  Student's comments: Thank you for your input! I have revised my code above.\n",
    "</div>"
   ]
  },
  {
   "cell_type": "markdown",
   "metadata": {},
   "source": [
    "<div class=\"alert alert-success\">\n",
    "<b>Reviewer's comment V4</b>\n",
    "\n",
    "Ok, great!\n",
    "\n",
    "</div>"
   ]
  },
  {
   "cell_type": "markdown",
   "metadata": {},
   "source": [
    "## Conclusion\n",
    "\n",
    "In this project, we developed an optimal machine learning model for Zyfra for the purpose of gold recovery from gold ore. Using symmetric Mean Absolute Percentage Error (sMAPE) as the model evaluation metric, we found the best model is random forest regression model with max_depth = 5 and the number of estimator = 11. The model has final smape 9.10."
   ]
  },
  {
   "cell_type": "markdown",
   "metadata": {},
   "source": [
    "## Task completion check list\n",
    "\n",
    "- [x]  Jupyter Notebook\n",
    "- [ ]  Code is error free\n",
    "- [ ]  The cells with the code have been arranged in order of execution\n",
    "- [ ]  Step 1 performed: data has been prepared\n",
    "    - [ ]  The formula for calculating the flotation effectiveness has been checked\n",
    "    - [ ]  The features unavailable in the test set have been analyzed\n",
    "    - [ ]  The data has been preprocessed\n",
    "- [ ]  Step 2 performed: data has been analyzed\n",
    "    - [ ]  The change in concentration of elements has been analyzed at each stage\n",
    "    - [ ]  Distributions of particle size have been analyzed for training set and test set\n",
    "    - [ ]  Total concentrations have been analyzed\n",
    "    - [ ]  Abnormal values have been analyzed and processed\n",
    "- [ ]  Step 3 performed:  model for prediction has been built\n",
    "    - [ ]  Final *sMAPE* calculation function has been written\n",
    "    - [ ]  Several models have been trained and tested\n",
    "    - [ ]  The best model has been picked and tested using the test set"
   ]
  }
 ],
 "metadata": {
  "ExecuteTimeLog": [
   {
    "duration": 181,
    "start_time": "2022-01-17T00:46:08.628Z"
   },
   {
    "duration": 1578,
    "start_time": "2022-01-17T00:56:00.945Z"
   },
   {
    "duration": 7316,
    "start_time": "2022-01-17T00:56:02.525Z"
   },
   {
    "duration": 26,
    "start_time": "2022-01-17T00:56:09.845Z"
   },
   {
    "duration": 38,
    "start_time": "2022-01-17T00:56:09.874Z"
   },
   {
    "duration": 76,
    "start_time": "2022-01-17T00:56:09.915Z"
   },
   {
    "duration": 23,
    "start_time": "2022-01-17T00:56:09.994Z"
   },
   {
    "duration": 50,
    "start_time": "2022-01-17T00:56:10.019Z"
   },
   {
    "duration": 35,
    "start_time": "2022-01-17T00:56:10.072Z"
   },
   {
    "duration": 16,
    "start_time": "2022-01-17T00:56:10.114Z"
   },
   {
    "duration": 47,
    "start_time": "2022-01-17T00:56:10.133Z"
   },
   {
    "duration": 37,
    "start_time": "2022-01-17T00:56:10.184Z"
   },
   {
    "duration": 44,
    "start_time": "2022-01-17T00:56:10.224Z"
   },
   {
    "duration": 5,
    "start_time": "2022-01-17T00:56:10.271Z"
   },
   {
    "duration": 847,
    "start_time": "2022-01-17T00:56:10.279Z"
   },
   {
    "duration": 6,
    "start_time": "2022-01-17T00:56:11.129Z"
   },
   {
    "duration": 6203,
    "start_time": "2022-01-17T00:56:11.137Z"
   },
   {
    "duration": 6,
    "start_time": "2022-01-17T00:56:17.343Z"
   },
   {
    "duration": 17,
    "start_time": "2022-01-17T00:56:17.351Z"
   },
   {
    "duration": 12,
    "start_time": "2022-01-17T00:56:17.371Z"
   },
   {
    "duration": 6948,
    "start_time": "2022-01-17T00:56:17.386Z"
   },
   {
    "duration": 11,
    "start_time": "2022-01-17T00:56:24.337Z"
   },
   {
    "duration": 6,
    "start_time": "2022-01-17T00:56:24.363Z"
   },
   {
    "duration": 5,
    "start_time": "2022-01-17T00:56:24.372Z"
   },
   {
    "duration": 14,
    "start_time": "2022-01-17T00:56:24.379Z"
   },
   {
    "duration": 5,
    "start_time": "2022-01-17T00:56:24.396Z"
   },
   {
    "duration": 5,
    "start_time": "2022-01-17T00:56:24.404Z"
   },
   {
    "duration": 8,
    "start_time": "2022-01-17T00:56:24.464Z"
   },
   {
    "duration": 20,
    "start_time": "2022-01-17T00:56:24.475Z"
   },
   {
    "duration": 10,
    "start_time": "2022-01-17T00:56:24.498Z"
   },
   {
    "duration": 11,
    "start_time": "2022-01-17T00:56:24.511Z"
   },
   {
    "duration": 39,
    "start_time": "2022-01-17T00:56:24.525Z"
   },
   {
    "duration": 41,
    "start_time": "2022-01-17T00:56:57.914Z"
   },
   {
    "duration": 34,
    "start_time": "2022-01-17T00:57:25.772Z"
   },
   {
    "duration": 28,
    "start_time": "2022-01-17T00:58:10.141Z"
   },
   {
    "duration": 38,
    "start_time": "2022-01-17T00:58:15.785Z"
   },
   {
    "duration": 37,
    "start_time": "2022-01-17T00:58:18.879Z"
   },
   {
    "duration": 1477,
    "start_time": "2022-01-17T01:04:20.045Z"
   },
   {
    "duration": 1567,
    "start_time": "2022-01-17T01:04:21.524Z"
   },
   {
    "duration": 28,
    "start_time": "2022-01-17T01:04:23.094Z"
   },
   {
    "duration": 57,
    "start_time": "2022-01-17T01:04:23.126Z"
   },
   {
    "duration": 81,
    "start_time": "2022-01-17T01:04:23.186Z"
   },
   {
    "duration": 19,
    "start_time": "2022-01-17T01:04:23.269Z"
   },
   {
    "duration": 26,
    "start_time": "2022-01-17T01:04:23.291Z"
   },
   {
    "duration": 68,
    "start_time": "2022-01-17T01:04:23.319Z"
   },
   {
    "duration": 27,
    "start_time": "2022-01-17T01:04:23.392Z"
   },
   {
    "duration": 17,
    "start_time": "2022-01-17T01:04:23.422Z"
   },
   {
    "duration": 54,
    "start_time": "2022-01-17T01:04:23.441Z"
   },
   {
    "duration": 10,
    "start_time": "2022-01-17T01:04:23.498Z"
   },
   {
    "duration": 3,
    "start_time": "2022-01-17T01:04:23.510Z"
   },
   {
    "duration": 876,
    "start_time": "2022-01-17T01:04:23.516Z"
   },
   {
    "duration": 5,
    "start_time": "2022-01-17T01:04:24.395Z"
   },
   {
    "duration": 6481,
    "start_time": "2022-01-17T01:04:24.403Z"
   },
   {
    "duration": 7,
    "start_time": "2022-01-17T01:04:30.886Z"
   },
   {
    "duration": 9,
    "start_time": "2022-01-17T01:04:30.895Z"
   },
   {
    "duration": 12,
    "start_time": "2022-01-17T01:04:30.906Z"
   },
   {
    "duration": 6458,
    "start_time": "2022-01-17T01:04:30.920Z"
   },
   {
    "duration": 11,
    "start_time": "2022-01-17T01:04:37.381Z"
   },
   {
    "duration": 7,
    "start_time": "2022-01-17T01:04:37.395Z"
   },
   {
    "duration": 6,
    "start_time": "2022-01-17T01:04:37.405Z"
   },
   {
    "duration": 52,
    "start_time": "2022-01-17T01:04:37.413Z"
   },
   {
    "duration": 6,
    "start_time": "2022-01-17T01:04:37.468Z"
   },
   {
    "duration": 6,
    "start_time": "2022-01-17T01:04:37.477Z"
   },
   {
    "duration": 8,
    "start_time": "2022-01-17T01:04:37.487Z"
   },
   {
    "duration": 20,
    "start_time": "2022-01-17T01:04:37.498Z"
   },
   {
    "duration": 13,
    "start_time": "2022-01-17T01:04:37.562Z"
   },
   {
    "duration": 26,
    "start_time": "2022-01-17T01:04:37.577Z"
   },
   {
    "duration": 64,
    "start_time": "2022-01-17T01:04:37.605Z"
   },
   {
    "duration": 34,
    "start_time": "2022-01-17T01:04:37.671Z"
   },
   {
    "duration": 13,
    "start_time": "2022-01-17T01:04:37.707Z"
   },
   {
    "duration": 34,
    "start_time": "2022-01-17T01:34:33.729Z"
   },
   {
    "duration": 422,
    "start_time": "2022-01-17T01:44:25.659Z"
   },
   {
    "duration": 299,
    "start_time": "2022-01-17T01:44:48.383Z"
   },
   {
    "duration": 311,
    "start_time": "2022-01-17T01:45:26.215Z"
   },
   {
    "duration": 335,
    "start_time": "2022-01-17T01:45:52.640Z"
   },
   {
    "duration": 308,
    "start_time": "2022-01-17T01:46:27.567Z"
   },
   {
    "duration": 284,
    "start_time": "2022-01-17T01:51:57.824Z"
   },
   {
    "duration": 5642,
    "start_time": "2022-01-17T01:52:06.322Z"
   },
   {
    "duration": 295,
    "start_time": "2022-01-17T02:35:33.980Z"
   },
   {
    "duration": 89,
    "start_time": "2022-01-17T02:35:38.509Z"
   },
   {
    "duration": 1256,
    "start_time": "2022-01-17T02:35:38.601Z"
   },
   {
    "duration": 27,
    "start_time": "2022-01-17T02:35:39.860Z"
   },
   {
    "duration": 37,
    "start_time": "2022-01-17T02:35:39.891Z"
   },
   {
    "duration": 79,
    "start_time": "2022-01-17T02:35:39.931Z"
   },
   {
    "duration": 18,
    "start_time": "2022-01-17T02:35:40.012Z"
   },
   {
    "duration": 50,
    "start_time": "2022-01-17T02:35:40.033Z"
   },
   {
    "duration": 35,
    "start_time": "2022-01-17T02:35:40.087Z"
   },
   {
    "duration": 44,
    "start_time": "2022-01-17T02:35:40.127Z"
   },
   {
    "duration": 18,
    "start_time": "2022-01-17T02:35:40.174Z"
   },
   {
    "duration": 69,
    "start_time": "2022-01-17T02:35:40.195Z"
   },
   {
    "duration": 10,
    "start_time": "2022-01-17T02:35:40.267Z"
   },
   {
    "duration": 3,
    "start_time": "2022-01-17T02:35:40.279Z"
   },
   {
    "duration": 827,
    "start_time": "2022-01-17T02:35:40.286Z"
   },
   {
    "duration": 6,
    "start_time": "2022-01-17T02:35:41.116Z"
   },
   {
    "duration": 6267,
    "start_time": "2022-01-17T02:35:41.125Z"
   },
   {
    "duration": 7,
    "start_time": "2022-01-17T02:35:47.395Z"
   },
   {
    "duration": 5,
    "start_time": "2022-01-17T02:35:47.405Z"
   },
   {
    "duration": 7,
    "start_time": "2022-01-17T02:35:47.412Z"
   },
   {
    "duration": 6092,
    "start_time": "2022-01-17T02:35:47.421Z"
   },
   {
    "duration": 14,
    "start_time": "2022-01-17T02:35:53.516Z"
   },
   {
    "duration": 9,
    "start_time": "2022-01-17T02:35:53.533Z"
   },
   {
    "duration": 3,
    "start_time": "2022-01-17T02:35:53.566Z"
   },
   {
    "duration": 15,
    "start_time": "2022-01-17T02:35:53.572Z"
   },
   {
    "duration": 7,
    "start_time": "2022-01-17T02:35:53.589Z"
   },
   {
    "duration": 6,
    "start_time": "2022-01-17T02:35:53.598Z"
   },
   {
    "duration": 10,
    "start_time": "2022-01-17T02:35:53.606Z"
   },
   {
    "duration": 19,
    "start_time": "2022-01-17T02:35:53.663Z"
   },
   {
    "duration": 12,
    "start_time": "2022-01-17T02:35:53.684Z"
   },
   {
    "duration": 25,
    "start_time": "2022-01-17T02:35:53.698Z"
   },
   {
    "duration": 69,
    "start_time": "2022-01-17T02:35:53.726Z"
   },
   {
    "duration": 34,
    "start_time": "2022-01-17T02:35:53.798Z"
   },
   {
    "duration": 36,
    "start_time": "2022-01-17T02:35:53.834Z"
   },
   {
    "duration": 33,
    "start_time": "2022-01-17T02:35:53.873Z"
   },
   {
    "duration": 223,
    "start_time": "2022-01-17T02:35:53.909Z"
   },
   {
    "duration": 5029,
    "start_time": "2022-01-17T02:37:07.307Z"
   },
   {
    "duration": 561,
    "start_time": "2022-01-17T02:38:48.123Z"
   },
   {
    "duration": 459,
    "start_time": "2022-01-17T02:39:06.224Z"
   },
   {
    "duration": 484,
    "start_time": "2022-01-17T02:39:24.697Z"
   },
   {
    "duration": 198,
    "start_time": "2022-01-17T02:40:15.429Z"
   },
   {
    "duration": 340,
    "start_time": "2022-01-17T02:42:58.032Z"
   },
   {
    "duration": 334,
    "start_time": "2022-01-17T02:44:37.422Z"
   },
   {
    "duration": 551,
    "start_time": "2022-01-17T02:44:49.576Z"
   },
   {
    "duration": 453,
    "start_time": "2022-01-17T02:47:49.060Z"
   },
   {
    "duration": 511,
    "start_time": "2022-01-17T02:48:45.039Z"
   },
   {
    "duration": 524,
    "start_time": "2022-01-17T02:49:09.980Z"
   },
   {
    "duration": 1491,
    "start_time": "2022-01-17T21:39:25.565Z"
   },
   {
    "duration": 1129,
    "start_time": "2022-01-17T21:39:27.059Z"
   },
   {
    "duration": 31,
    "start_time": "2022-01-17T21:39:28.192Z"
   },
   {
    "duration": 40,
    "start_time": "2022-01-17T21:39:28.226Z"
   },
   {
    "duration": 75,
    "start_time": "2022-01-17T21:39:28.268Z"
   },
   {
    "duration": 28,
    "start_time": "2022-01-17T21:39:28.345Z"
   },
   {
    "duration": 23,
    "start_time": "2022-01-17T21:39:28.375Z"
   },
   {
    "duration": 53,
    "start_time": "2022-01-17T21:39:28.401Z"
   },
   {
    "duration": 13,
    "start_time": "2022-01-17T21:39:28.458Z"
   },
   {
    "duration": 15,
    "start_time": "2022-01-17T21:39:28.474Z"
   },
   {
    "duration": 34,
    "start_time": "2022-01-17T21:39:28.524Z"
   },
   {
    "duration": 10,
    "start_time": "2022-01-17T21:39:28.560Z"
   },
   {
    "duration": 3,
    "start_time": "2022-01-17T21:39:28.572Z"
   },
   {
    "duration": 835,
    "start_time": "2022-01-17T21:39:28.577Z"
   },
   {
    "duration": 9,
    "start_time": "2022-01-17T21:39:29.414Z"
   },
   {
    "duration": 6249,
    "start_time": "2022-01-17T21:39:29.425Z"
   },
   {
    "duration": 7,
    "start_time": "2022-01-17T21:39:35.676Z"
   },
   {
    "duration": 6,
    "start_time": "2022-01-17T21:39:35.685Z"
   },
   {
    "duration": 31,
    "start_time": "2022-01-17T21:39:35.693Z"
   },
   {
    "duration": 6239,
    "start_time": "2022-01-17T21:39:35.726Z"
   },
   {
    "duration": 10,
    "start_time": "2022-01-17T21:39:41.967Z"
   },
   {
    "duration": 9,
    "start_time": "2022-01-17T21:39:41.979Z"
   },
   {
    "duration": 34,
    "start_time": "2022-01-17T21:39:41.990Z"
   },
   {
    "duration": 26,
    "start_time": "2022-01-17T21:39:42.026Z"
   },
   {
    "duration": 7,
    "start_time": "2022-01-17T21:39:42.055Z"
   },
   {
    "duration": 16,
    "start_time": "2022-01-17T21:39:42.064Z"
   },
   {
    "duration": 13,
    "start_time": "2022-01-17T21:39:42.084Z"
   },
   {
    "duration": 36,
    "start_time": "2022-01-17T21:39:42.099Z"
   },
   {
    "duration": 13,
    "start_time": "2022-01-17T21:39:42.137Z"
   },
   {
    "duration": 29,
    "start_time": "2022-01-17T21:39:42.153Z"
   },
   {
    "duration": 77,
    "start_time": "2022-01-17T21:39:42.185Z"
   },
   {
    "duration": 61,
    "start_time": "2022-01-17T21:39:42.265Z"
   },
   {
    "duration": 22,
    "start_time": "2022-01-17T21:39:42.329Z"
   },
   {
    "duration": 34,
    "start_time": "2022-01-17T21:39:42.354Z"
   },
   {
    "duration": 613,
    "start_time": "2022-01-17T21:39:42.391Z"
   },
   {
    "duration": 502,
    "start_time": "2022-01-17T21:58:23.859Z"
   },
   {
    "duration": 490,
    "start_time": "2022-01-17T22:09:54.238Z"
   },
   {
    "duration": 586,
    "start_time": "2022-01-17T22:31:57.315Z"
   },
   {
    "duration": 523,
    "start_time": "2022-01-17T22:35:12.049Z"
   },
   {
    "duration": 297,
    "start_time": "2022-01-17T22:46:38.874Z"
   },
   {
    "duration": 313,
    "start_time": "2022-01-17T22:53:30.475Z"
   },
   {
    "duration": 324,
    "start_time": "2022-01-17T22:55:10.277Z"
   },
   {
    "duration": 880,
    "start_time": "2022-01-17T23:34:31.755Z"
   },
   {
    "duration": 595,
    "start_time": "2022-01-17T23:34:44.693Z"
   },
   {
    "duration": 605,
    "start_time": "2022-01-17T23:37:54.792Z"
   },
   {
    "duration": 609,
    "start_time": "2022-01-17T23:40:54.420Z"
   },
   {
    "duration": 320,
    "start_time": "2022-01-17T23:45:26.644Z"
   },
   {
    "duration": 9,
    "start_time": "2022-01-18T00:22:24.637Z"
   },
   {
    "duration": 321,
    "start_time": "2022-01-18T00:22:35.547Z"
   },
   {
    "duration": 25,
    "start_time": "2022-01-18T00:23:07.271Z"
   },
   {
    "duration": 23,
    "start_time": "2022-01-18T00:23:26.120Z"
   },
   {
    "duration": 21,
    "start_time": "2022-01-18T00:24:33.363Z"
   },
   {
    "duration": 1506,
    "start_time": "2022-01-18T00:24:42.829Z"
   },
   {
    "duration": 1128,
    "start_time": "2022-01-18T00:24:44.338Z"
   },
   {
    "duration": 25,
    "start_time": "2022-01-18T00:24:45.469Z"
   },
   {
    "duration": 48,
    "start_time": "2022-01-18T00:24:45.497Z"
   },
   {
    "duration": 46,
    "start_time": "2022-01-18T00:24:45.547Z"
   },
   {
    "duration": 44,
    "start_time": "2022-01-18T00:24:45.596Z"
   },
   {
    "duration": 24,
    "start_time": "2022-01-18T00:24:45.643Z"
   },
   {
    "duration": 65,
    "start_time": "2022-01-18T00:24:45.673Z"
   },
   {
    "duration": 16,
    "start_time": "2022-01-18T00:24:45.742Z"
   },
   {
    "duration": 17,
    "start_time": "2022-01-18T00:24:45.761Z"
   },
   {
    "duration": 75,
    "start_time": "2022-01-18T00:24:45.780Z"
   },
   {
    "duration": 10,
    "start_time": "2022-01-18T00:24:45.858Z"
   },
   {
    "duration": 3,
    "start_time": "2022-01-18T00:24:45.870Z"
   },
   {
    "duration": 774,
    "start_time": "2022-01-18T00:24:45.875Z"
   },
   {
    "duration": 4,
    "start_time": "2022-01-18T00:24:46.652Z"
   },
   {
    "duration": 6027,
    "start_time": "2022-01-18T00:24:46.659Z"
   },
   {
    "duration": 7,
    "start_time": "2022-01-18T00:24:52.689Z"
   },
   {
    "duration": 26,
    "start_time": "2022-01-18T00:24:52.698Z"
   },
   {
    "duration": 5,
    "start_time": "2022-01-18T00:24:52.726Z"
   },
   {
    "duration": 5766,
    "start_time": "2022-01-18T00:24:52.734Z"
   },
   {
    "duration": 24,
    "start_time": "2022-01-18T00:24:58.503Z"
   },
   {
    "duration": 6,
    "start_time": "2022-01-18T00:24:58.529Z"
   },
   {
    "duration": 7,
    "start_time": "2022-01-18T00:24:58.541Z"
   },
   {
    "duration": 16,
    "start_time": "2022-01-18T00:24:58.551Z"
   },
   {
    "duration": 7,
    "start_time": "2022-01-18T00:24:58.569Z"
   },
   {
    "duration": 47,
    "start_time": "2022-01-18T00:24:58.578Z"
   },
   {
    "duration": 16,
    "start_time": "2022-01-18T00:24:58.627Z"
   },
   {
    "duration": 30,
    "start_time": "2022-01-18T00:24:58.645Z"
   },
   {
    "duration": 13,
    "start_time": "2022-01-18T00:24:58.678Z"
   },
   {
    "duration": 44,
    "start_time": "2022-01-18T00:24:58.694Z"
   },
   {
    "duration": 32,
    "start_time": "2022-01-18T00:24:58.740Z"
   },
   {
    "duration": 55,
    "start_time": "2022-01-18T00:24:58.775Z"
   },
   {
    "duration": 12,
    "start_time": "2022-01-18T00:24:58.833Z"
   },
   {
    "duration": 29,
    "start_time": "2022-01-18T00:24:58.848Z"
   },
   {
    "duration": 696,
    "start_time": "2022-01-18T00:24:58.880Z"
   },
   {
    "duration": 603,
    "start_time": "2022-01-18T00:24:59.579Z"
   },
   {
    "duration": 534,
    "start_time": "2022-01-18T00:25:00.185Z"
   },
   {
    "duration": 490,
    "start_time": "2022-01-18T00:25:00.723Z"
   },
   {
    "duration": 313,
    "start_time": "2022-01-18T00:25:01.224Z"
   },
   {
    "duration": 571,
    "start_time": "2022-01-18T00:25:01.540Z"
   },
   {
    "duration": 569,
    "start_time": "2022-01-18T00:25:02.114Z"
   },
   {
    "duration": 618,
    "start_time": "2022-01-18T00:25:02.686Z"
   },
   {
    "duration": 335,
    "start_time": "2022-01-18T00:25:03.306Z"
   },
   {
    "duration": 23,
    "start_time": "2022-01-18T00:25:03.643Z"
   },
   {
    "duration": 21,
    "start_time": "2022-01-18T00:25:44.817Z"
   },
   {
    "duration": 1385,
    "start_time": "2022-01-18T00:25:54.738Z"
   },
   {
    "duration": 1099,
    "start_time": "2022-01-18T00:25:56.125Z"
   },
   {
    "duration": 25,
    "start_time": "2022-01-18T00:25:57.227Z"
   },
   {
    "duration": 37,
    "start_time": "2022-01-18T00:25:57.255Z"
   },
   {
    "duration": 68,
    "start_time": "2022-01-18T00:25:57.294Z"
   },
   {
    "duration": 24,
    "start_time": "2022-01-18T00:25:57.365Z"
   },
   {
    "duration": 42,
    "start_time": "2022-01-18T00:25:57.391Z"
   },
   {
    "duration": 30,
    "start_time": "2022-01-18T00:25:57.437Z"
   },
   {
    "duration": 14,
    "start_time": "2022-01-18T00:25:57.470Z"
   },
   {
    "duration": 49,
    "start_time": "2022-01-18T00:25:57.487Z"
   },
   {
    "duration": 33,
    "start_time": "2022-01-18T00:25:57.538Z"
   },
   {
    "duration": 9,
    "start_time": "2022-01-18T00:25:57.573Z"
   },
   {
    "duration": 3,
    "start_time": "2022-01-18T00:25:57.584Z"
   },
   {
    "duration": 764,
    "start_time": "2022-01-18T00:25:57.624Z"
   },
   {
    "duration": 4,
    "start_time": "2022-01-18T00:25:58.391Z"
   },
   {
    "duration": 5821,
    "start_time": "2022-01-18T00:25:58.397Z"
   },
   {
    "duration": 8,
    "start_time": "2022-01-18T00:26:04.224Z"
   },
   {
    "duration": 6,
    "start_time": "2022-01-18T00:26:04.235Z"
   },
   {
    "duration": 5,
    "start_time": "2022-01-18T00:26:04.244Z"
   },
   {
    "duration": 6244,
    "start_time": "2022-01-18T00:26:04.251Z"
   },
   {
    "duration": 10,
    "start_time": "2022-01-18T00:26:10.497Z"
   },
   {
    "duration": 6,
    "start_time": "2022-01-18T00:26:10.523Z"
   },
   {
    "duration": 10,
    "start_time": "2022-01-18T00:26:10.534Z"
   },
   {
    "duration": 29,
    "start_time": "2022-01-18T00:26:10.547Z"
   },
   {
    "duration": 6,
    "start_time": "2022-01-18T00:26:10.578Z"
   },
   {
    "duration": 17,
    "start_time": "2022-01-18T00:26:10.586Z"
   },
   {
    "duration": 20,
    "start_time": "2022-01-18T00:26:10.605Z"
   },
   {
    "duration": 25,
    "start_time": "2022-01-18T00:26:10.627Z"
   },
   {
    "duration": 11,
    "start_time": "2022-01-18T00:26:10.654Z"
   },
   {
    "duration": 55,
    "start_time": "2022-01-18T00:26:10.668Z"
   },
   {
    "duration": 36,
    "start_time": "2022-01-18T00:26:10.725Z"
   },
   {
    "duration": 33,
    "start_time": "2022-01-18T00:26:10.763Z"
   },
   {
    "duration": 31,
    "start_time": "2022-01-18T00:26:10.798Z"
   },
   {
    "duration": 32,
    "start_time": "2022-01-18T00:26:10.831Z"
   },
   {
    "duration": 600,
    "start_time": "2022-01-18T00:26:10.865Z"
   },
   {
    "duration": 514,
    "start_time": "2022-01-18T00:26:11.467Z"
   },
   {
    "duration": 539,
    "start_time": "2022-01-18T00:26:11.984Z"
   },
   {
    "duration": 400,
    "start_time": "2022-01-18T00:26:12.525Z"
   },
   {
    "duration": 334,
    "start_time": "2022-01-18T00:26:12.928Z"
   },
   {
    "duration": 593,
    "start_time": "2022-01-18T00:26:13.264Z"
   },
   {
    "duration": 589,
    "start_time": "2022-01-18T00:26:13.859Z"
   },
   {
    "duration": 617,
    "start_time": "2022-01-18T00:26:14.450Z"
   },
   {
    "duration": 347,
    "start_time": "2022-01-18T00:26:15.069Z"
   },
   {
    "duration": 32,
    "start_time": "2022-01-18T00:26:15.418Z"
   },
   {
    "duration": 329,
    "start_time": "2022-01-18T00:26:31.802Z"
   },
   {
    "duration": 1539,
    "start_time": "2022-01-18T00:27:21.367Z"
   },
   {
    "duration": 1086,
    "start_time": "2022-01-18T00:27:22.908Z"
   },
   {
    "duration": 30,
    "start_time": "2022-01-18T00:27:23.997Z"
   },
   {
    "duration": 34,
    "start_time": "2022-01-18T00:27:24.029Z"
   },
   {
    "duration": 74,
    "start_time": "2022-01-18T00:27:24.066Z"
   },
   {
    "duration": 21,
    "start_time": "2022-01-18T00:27:24.143Z"
   },
   {
    "duration": 23,
    "start_time": "2022-01-18T00:27:24.167Z"
   },
   {
    "duration": 60,
    "start_time": "2022-01-18T00:27:24.193Z"
   },
   {
    "duration": 13,
    "start_time": "2022-01-18T00:27:24.260Z"
   },
   {
    "duration": 48,
    "start_time": "2022-01-18T00:27:24.277Z"
   },
   {
    "duration": 33,
    "start_time": "2022-01-18T00:27:24.328Z"
   },
   {
    "duration": 11,
    "start_time": "2022-01-18T00:27:24.364Z"
   },
   {
    "duration": 45,
    "start_time": "2022-01-18T00:27:24.378Z"
   },
   {
    "duration": 747,
    "start_time": "2022-01-18T00:27:24.426Z"
   },
   {
    "duration": 4,
    "start_time": "2022-01-18T00:27:25.176Z"
   },
   {
    "duration": 5725,
    "start_time": "2022-01-18T00:27:25.183Z"
   },
   {
    "duration": 15,
    "start_time": "2022-01-18T00:27:30.911Z"
   },
   {
    "duration": 16,
    "start_time": "2022-01-18T00:27:30.929Z"
   },
   {
    "duration": 9,
    "start_time": "2022-01-18T00:27:30.948Z"
   },
   {
    "duration": 6000,
    "start_time": "2022-01-18T00:27:30.959Z"
   },
   {
    "duration": 11,
    "start_time": "2022-01-18T00:27:36.962Z"
   },
   {
    "duration": 9,
    "start_time": "2022-01-18T00:27:36.976Z"
   },
   {
    "duration": 36,
    "start_time": "2022-01-18T00:27:36.988Z"
   },
   {
    "duration": 15,
    "start_time": "2022-01-18T00:27:37.027Z"
   },
   {
    "duration": 8,
    "start_time": "2022-01-18T00:27:37.045Z"
   },
   {
    "duration": 5,
    "start_time": "2022-01-18T00:27:37.055Z"
   },
   {
    "duration": 7,
    "start_time": "2022-01-18T00:27:37.066Z"
   },
   {
    "duration": 60,
    "start_time": "2022-01-18T00:27:37.076Z"
   },
   {
    "duration": 11,
    "start_time": "2022-01-18T00:27:37.139Z"
   },
   {
    "duration": 22,
    "start_time": "2022-01-18T00:27:37.152Z"
   },
   {
    "duration": 65,
    "start_time": "2022-01-18T00:27:37.177Z"
   },
   {
    "duration": 31,
    "start_time": "2022-01-18T00:27:37.245Z"
   },
   {
    "duration": 10,
    "start_time": "2022-01-18T00:27:37.279Z"
   },
   {
    "duration": 61,
    "start_time": "2022-01-18T00:27:37.291Z"
   },
   {
    "duration": 701,
    "start_time": "2022-01-18T00:27:37.354Z"
   },
   {
    "duration": 540,
    "start_time": "2022-01-18T00:27:38.058Z"
   },
   {
    "duration": 518,
    "start_time": "2022-01-18T00:27:38.600Z"
   },
   {
    "duration": 372,
    "start_time": "2022-01-18T00:27:39.121Z"
   },
   {
    "duration": 313,
    "start_time": "2022-01-18T00:27:39.495Z"
   },
   {
    "duration": 675,
    "start_time": "2022-01-18T00:27:39.810Z"
   },
   {
    "duration": 574,
    "start_time": "2022-01-18T00:27:40.487Z"
   },
   {
    "duration": 601,
    "start_time": "2022-01-18T00:27:41.063Z"
   },
   {
    "duration": 335,
    "start_time": "2022-01-18T00:27:41.667Z"
   },
   {
    "duration": 32,
    "start_time": "2022-01-18T00:27:42.005Z"
   },
   {
    "duration": 342,
    "start_time": "2022-01-18T00:28:36.253Z"
   },
   {
    "duration": 306,
    "start_time": "2022-01-18T00:30:08.460Z"
   },
   {
    "duration": 116,
    "start_time": "2022-01-18T00:30:27.146Z"
   },
   {
    "duration": 331,
    "start_time": "2022-01-18T00:30:34.539Z"
   },
   {
    "duration": 280,
    "start_time": "2022-01-18T00:36:13.332Z"
   },
   {
    "duration": 291,
    "start_time": "2022-01-18T00:36:25.893Z"
   },
   {
    "duration": 277,
    "start_time": "2022-01-18T00:37:17.791Z"
   },
   {
    "duration": 20,
    "start_time": "2022-01-18T00:38:21.965Z"
   },
   {
    "duration": 270,
    "start_time": "2022-01-18T00:38:38.658Z"
   },
   {
    "duration": 121,
    "start_time": "2022-01-19T00:57:40.365Z"
   },
   {
    "duration": 5,
    "start_time": "2022-01-19T00:57:47.756Z"
   },
   {
    "duration": 1680,
    "start_time": "2022-01-19T00:57:56.531Z"
   },
   {
    "duration": 1234,
    "start_time": "2022-01-19T00:57:58.214Z"
   },
   {
    "duration": 29,
    "start_time": "2022-01-19T00:57:59.451Z"
   },
   {
    "duration": 40,
    "start_time": "2022-01-19T00:57:59.482Z"
   },
   {
    "duration": 71,
    "start_time": "2022-01-19T00:57:59.524Z"
   },
   {
    "duration": 22,
    "start_time": "2022-01-19T00:57:59.597Z"
   },
   {
    "duration": 52,
    "start_time": "2022-01-19T00:57:59.621Z"
   },
   {
    "duration": 34,
    "start_time": "2022-01-19T00:57:59.676Z"
   },
   {
    "duration": 13,
    "start_time": "2022-01-19T00:57:59.714Z"
   },
   {
    "duration": 41,
    "start_time": "2022-01-19T00:57:59.731Z"
   },
   {
    "duration": 38,
    "start_time": "2022-01-19T00:57:59.774Z"
   },
   {
    "duration": 12,
    "start_time": "2022-01-19T00:57:59.815Z"
   },
   {
    "duration": 3,
    "start_time": "2022-01-19T00:57:59.861Z"
   },
   {
    "duration": 841,
    "start_time": "2022-01-19T00:57:59.868Z"
   },
   {
    "duration": 6,
    "start_time": "2022-01-19T00:58:00.712Z"
   },
   {
    "duration": 6312,
    "start_time": "2022-01-19T00:58:00.721Z"
   },
   {
    "duration": 24,
    "start_time": "2022-01-19T00:58:07.035Z"
   },
   {
    "duration": 6,
    "start_time": "2022-01-19T00:58:07.062Z"
   },
   {
    "duration": 6,
    "start_time": "2022-01-19T00:58:07.071Z"
   },
   {
    "duration": 6111,
    "start_time": "2022-01-19T00:58:07.080Z"
   },
   {
    "duration": 10,
    "start_time": "2022-01-19T00:58:13.193Z"
   },
   {
    "duration": 8,
    "start_time": "2022-01-19T00:58:13.206Z"
   },
   {
    "duration": 5,
    "start_time": "2022-01-19T00:58:13.216Z"
   },
   {
    "duration": 44,
    "start_time": "2022-01-19T00:58:13.223Z"
   },
   {
    "duration": 6,
    "start_time": "2022-01-19T00:58:13.270Z"
   },
   {
    "duration": 6,
    "start_time": "2022-01-19T00:58:13.278Z"
   },
   {
    "duration": 7,
    "start_time": "2022-01-19T00:58:13.289Z"
   },
   {
    "duration": 60,
    "start_time": "2022-01-19T00:58:13.299Z"
   },
   {
    "duration": 11,
    "start_time": "2022-01-19T00:58:13.362Z"
   },
   {
    "duration": 25,
    "start_time": "2022-01-19T00:58:13.375Z"
   },
   {
    "duration": 59,
    "start_time": "2022-01-19T00:58:13.402Z"
   },
   {
    "duration": 33,
    "start_time": "2022-01-19T00:58:13.464Z"
   },
   {
    "duration": 12,
    "start_time": "2022-01-19T00:58:13.499Z"
   },
   {
    "duration": 65,
    "start_time": "2022-01-19T00:58:13.514Z"
   },
   {
    "duration": 586,
    "start_time": "2022-01-19T00:58:13.581Z"
   },
   {
    "duration": 519,
    "start_time": "2022-01-19T00:58:14.169Z"
   },
   {
    "duration": 530,
    "start_time": "2022-01-19T00:58:14.691Z"
   },
   {
    "duration": 400,
    "start_time": "2022-01-19T00:58:15.223Z"
   },
   {
    "duration": 341,
    "start_time": "2022-01-19T00:58:15.626Z"
   },
   {
    "duration": 861,
    "start_time": "2022-01-19T00:58:15.970Z"
   },
   {
    "duration": 631,
    "start_time": "2022-01-19T00:58:16.834Z"
   },
   {
    "duration": 624,
    "start_time": "2022-01-19T00:58:17.467Z"
   },
   {
    "duration": 355,
    "start_time": "2022-01-19T00:58:18.093Z"
   },
   {
    "duration": 34,
    "start_time": "2022-01-19T00:58:18.451Z"
   },
   {
    "duration": 376,
    "start_time": "2022-01-19T00:58:18.487Z"
   },
   {
    "duration": 308,
    "start_time": "2022-01-19T00:58:18.865Z"
   },
   {
    "duration": 297,
    "start_time": "2022-01-19T00:58:19.175Z"
   },
   {
    "duration": 7,
    "start_time": "2022-01-19T00:58:19.475Z"
   },
   {
    "duration": 307,
    "start_time": "2022-01-19T00:58:19.485Z"
   },
   {
    "duration": 4,
    "start_time": "2022-01-19T00:58:19.795Z"
   },
   {
    "duration": 518,
    "start_time": "2022-01-19T02:01:56.764Z"
   },
   {
    "duration": 1585,
    "start_time": "2022-01-19T02:03:36.750Z"
   },
   {
    "duration": 1242,
    "start_time": "2022-01-19T02:03:38.337Z"
   },
   {
    "duration": 27,
    "start_time": "2022-01-19T02:03:39.582Z"
   },
   {
    "duration": 57,
    "start_time": "2022-01-19T02:03:39.612Z"
   },
   {
    "duration": 49,
    "start_time": "2022-01-19T02:03:39.671Z"
   },
   {
    "duration": 41,
    "start_time": "2022-01-19T02:03:39.723Z"
   },
   {
    "duration": 23,
    "start_time": "2022-01-19T02:03:39.766Z"
   },
   {
    "duration": 33,
    "start_time": "2022-01-19T02:03:39.793Z"
   },
   {
    "duration": 41,
    "start_time": "2022-01-19T02:03:39.829Z"
   },
   {
    "duration": 15,
    "start_time": "2022-01-19T02:03:39.872Z"
   },
   {
    "duration": 34,
    "start_time": "2022-01-19T02:03:39.890Z"
   },
   {
    "duration": 10,
    "start_time": "2022-01-19T02:03:39.960Z"
   },
   {
    "duration": 4,
    "start_time": "2022-01-19T02:03:39.972Z"
   },
   {
    "duration": 812,
    "start_time": "2022-01-19T02:03:39.978Z"
   },
   {
    "duration": 5,
    "start_time": "2022-01-19T02:03:40.792Z"
   },
   {
    "duration": 6703,
    "start_time": "2022-01-19T02:03:40.799Z"
   },
   {
    "duration": 7,
    "start_time": "2022-01-19T02:03:47.504Z"
   },
   {
    "duration": 6,
    "start_time": "2022-01-19T02:03:47.514Z"
   },
   {
    "duration": 6,
    "start_time": "2022-01-19T02:03:47.523Z"
   },
   {
    "duration": 6038,
    "start_time": "2022-01-19T02:03:47.561Z"
   },
   {
    "duration": 12,
    "start_time": "2022-01-19T02:03:53.602Z"
   },
   {
    "duration": 9,
    "start_time": "2022-01-19T02:03:53.617Z"
   },
   {
    "duration": 5,
    "start_time": "2022-01-19T02:03:53.660Z"
   },
   {
    "duration": 17,
    "start_time": "2022-01-19T02:03:53.668Z"
   },
   {
    "duration": 7,
    "start_time": "2022-01-19T02:03:53.688Z"
   },
   {
    "duration": 5,
    "start_time": "2022-01-19T02:03:53.697Z"
   },
   {
    "duration": 8,
    "start_time": "2022-01-19T02:03:53.705Z"
   },
   {
    "duration": 60,
    "start_time": "2022-01-19T02:03:53.716Z"
   },
   {
    "duration": 12,
    "start_time": "2022-01-19T02:03:53.779Z"
   },
   {
    "duration": 24,
    "start_time": "2022-01-19T02:03:53.794Z"
   },
   {
    "duration": 70,
    "start_time": "2022-01-19T02:03:53.820Z"
   },
   {
    "duration": 34,
    "start_time": "2022-01-19T02:03:53.893Z"
   },
   {
    "duration": 36,
    "start_time": "2022-01-19T02:03:53.930Z"
   },
   {
    "duration": 32,
    "start_time": "2022-01-19T02:03:53.970Z"
   },
   {
    "duration": 616,
    "start_time": "2022-01-19T02:03:54.005Z"
   },
   {
    "duration": 531,
    "start_time": "2022-01-19T02:03:54.624Z"
   },
   {
    "duration": 529,
    "start_time": "2022-01-19T02:03:55.159Z"
   },
   {
    "duration": 399,
    "start_time": "2022-01-19T02:03:55.691Z"
   },
   {
    "duration": 346,
    "start_time": "2022-01-19T02:03:56.094Z"
   },
   {
    "duration": 599,
    "start_time": "2022-01-19T02:03:56.444Z"
   },
   {
    "duration": 597,
    "start_time": "2022-01-19T02:03:57.046Z"
   },
   {
    "duration": 722,
    "start_time": "2022-01-19T02:03:57.646Z"
   },
   {
    "duration": 352,
    "start_time": "2022-01-19T02:03:58.370Z"
   },
   {
    "duration": 42,
    "start_time": "2022-01-19T02:03:58.725Z"
   },
   {
    "duration": 355,
    "start_time": "2022-01-19T02:03:58.770Z"
   },
   {
    "duration": 314,
    "start_time": "2022-01-19T02:03:59.128Z"
   },
   {
    "duration": 296,
    "start_time": "2022-01-19T02:03:59.445Z"
   },
   {
    "duration": 19,
    "start_time": "2022-01-19T02:03:59.744Z"
   },
   {
    "duration": 298,
    "start_time": "2022-01-19T02:03:59.766Z"
   },
   {
    "duration": 5,
    "start_time": "2022-01-19T02:04:00.067Z"
   },
   {
    "duration": 828,
    "start_time": "2022-01-19T02:04:00.075Z"
   },
   {
    "duration": 4,
    "start_time": "2022-01-19T02:04:00.902Z"
   },
   {
    "duration": 356,
    "start_time": "2022-01-19T02:04:21.820Z"
   },
   {
    "duration": 25,
    "start_time": "2022-01-19T02:04:35.176Z"
   },
   {
    "duration": 26,
    "start_time": "2022-01-19T02:05:00.820Z"
   },
   {
    "duration": 26,
    "start_time": "2022-01-19T02:05:27.048Z"
   },
   {
    "duration": 10,
    "start_time": "2022-01-19T02:05:31.876Z"
   },
   {
    "duration": 17,
    "start_time": "2022-01-19T02:05:52.246Z"
   },
   {
    "duration": 17,
    "start_time": "2022-01-19T02:06:03.481Z"
   },
   {
    "duration": 10,
    "start_time": "2022-01-19T02:06:08.322Z"
   },
   {
    "duration": 18,
    "start_time": "2022-01-19T02:06:13.148Z"
   },
   {
    "duration": 8,
    "start_time": "2022-01-19T02:06:24.149Z"
   },
   {
    "duration": 704,
    "start_time": "2022-01-19T02:06:49.455Z"
   },
   {
    "duration": 676,
    "start_time": "2022-01-19T02:10:46.089Z"
   },
   {
    "duration": 1582,
    "start_time": "2022-01-19T02:15:53.523Z"
   },
   {
    "duration": 1214,
    "start_time": "2022-01-19T02:15:55.108Z"
   },
   {
    "duration": 34,
    "start_time": "2022-01-19T02:15:56.325Z"
   },
   {
    "duration": 36,
    "start_time": "2022-01-19T02:15:56.362Z"
   },
   {
    "duration": 69,
    "start_time": "2022-01-19T02:15:56.401Z"
   },
   {
    "duration": 20,
    "start_time": "2022-01-19T02:15:56.473Z"
   },
   {
    "duration": 22,
    "start_time": "2022-01-19T02:15:56.496Z"
   },
   {
    "duration": 57,
    "start_time": "2022-01-19T02:15:56.521Z"
   },
   {
    "duration": 15,
    "start_time": "2022-01-19T02:15:56.582Z"
   },
   {
    "duration": 16,
    "start_time": "2022-01-19T02:15:56.600Z"
   },
   {
    "duration": 68,
    "start_time": "2022-01-19T02:15:56.618Z"
   },
   {
    "duration": 10,
    "start_time": "2022-01-19T02:15:56.688Z"
   },
   {
    "duration": 3,
    "start_time": "2022-01-19T02:15:56.700Z"
   },
   {
    "duration": 918,
    "start_time": "2022-01-19T02:15:56.705Z"
   },
   {
    "duration": 5,
    "start_time": "2022-01-19T02:15:57.625Z"
   },
   {
    "duration": 6732,
    "start_time": "2022-01-19T02:15:57.632Z"
   },
   {
    "duration": 6,
    "start_time": "2022-01-19T02:16:04.367Z"
   },
   {
    "duration": 14,
    "start_time": "2022-01-19T02:16:04.375Z"
   },
   {
    "duration": 16,
    "start_time": "2022-01-19T02:16:04.392Z"
   },
   {
    "duration": 6122,
    "start_time": "2022-01-19T02:16:04.410Z"
   },
   {
    "duration": 24,
    "start_time": "2022-01-19T02:16:10.535Z"
   },
   {
    "duration": 6,
    "start_time": "2022-01-19T02:16:10.561Z"
   },
   {
    "duration": 6,
    "start_time": "2022-01-19T02:16:10.570Z"
   },
   {
    "duration": 11,
    "start_time": "2022-01-19T02:16:10.578Z"
   },
   {
    "duration": 11,
    "start_time": "2022-01-19T02:16:10.592Z"
   },
   {
    "duration": 5,
    "start_time": "2022-01-19T02:16:10.605Z"
   },
   {
    "duration": 8,
    "start_time": "2022-01-19T02:16:10.664Z"
   },
   {
    "duration": 19,
    "start_time": "2022-01-19T02:16:10.675Z"
   },
   {
    "duration": 12,
    "start_time": "2022-01-19T02:16:10.697Z"
   },
   {
    "duration": 63,
    "start_time": "2022-01-19T02:16:10.711Z"
   },
   {
    "duration": 35,
    "start_time": "2022-01-19T02:16:10.776Z"
   },
   {
    "duration": 62,
    "start_time": "2022-01-19T02:16:10.813Z"
   },
   {
    "duration": 12,
    "start_time": "2022-01-19T02:16:10.877Z"
   },
   {
    "duration": 32,
    "start_time": "2022-01-19T02:16:10.891Z"
   },
   {
    "duration": 639,
    "start_time": "2022-01-19T02:16:10.926Z"
   },
   {
    "duration": 530,
    "start_time": "2022-01-19T02:16:11.567Z"
   },
   {
    "duration": 623,
    "start_time": "2022-01-19T02:16:12.099Z"
   },
   {
    "duration": 392,
    "start_time": "2022-01-19T02:16:12.724Z"
   },
   {
    "duration": 325,
    "start_time": "2022-01-19T02:16:13.118Z"
   },
   {
    "duration": 601,
    "start_time": "2022-01-19T02:16:13.445Z"
   },
   {
    "duration": 592,
    "start_time": "2022-01-19T02:16:14.048Z"
   },
   {
    "duration": 608,
    "start_time": "2022-01-19T02:16:14.642Z"
   },
   {
    "duration": 356,
    "start_time": "2022-01-19T02:16:15.252Z"
   },
   {
    "duration": 30,
    "start_time": "2022-01-19T02:16:15.610Z"
   },
   {
    "duration": 336,
    "start_time": "2022-01-19T02:16:15.658Z"
   },
   {
    "duration": 304,
    "start_time": "2022-01-19T02:16:15.996Z"
   },
   {
    "duration": 395,
    "start_time": "2022-01-19T02:16:16.302Z"
   },
   {
    "duration": 7,
    "start_time": "2022-01-19T02:16:16.700Z"
   },
   {
    "duration": 397,
    "start_time": "2022-01-19T02:16:16.709Z"
   },
   {
    "duration": 5,
    "start_time": "2022-01-19T02:16:17.109Z"
   },
   {
    "duration": 541,
    "start_time": "2022-01-19T02:16:17.117Z"
   },
   {
    "duration": 211,
    "start_time": "2022-01-19T02:16:17.662Z"
   },
   {
    "duration": 357,
    "start_time": "2022-01-19T02:36:57.711Z"
   },
   {
    "duration": 578,
    "start_time": "2022-01-19T02:37:34.815Z"
   },
   {
    "duration": 370,
    "start_time": "2022-01-19T02:38:04.501Z"
   },
   {
    "duration": 362,
    "start_time": "2022-01-19T02:38:20.007Z"
   },
   {
    "duration": 366,
    "start_time": "2022-01-19T02:48:45.174Z"
   },
   {
    "duration": 6850,
    "start_time": "2022-01-19T02:48:51.065Z"
   },
   {
    "duration": 3380,
    "start_time": "2022-01-19T02:50:08.248Z"
   },
   {
    "duration": 433,
    "start_time": "2022-01-19T02:53:57.204Z"
   },
   {
    "duration": 368,
    "start_time": "2022-01-19T02:54:51.768Z"
   },
   {
    "duration": 1556,
    "start_time": "2022-01-19T02:55:11.737Z"
   },
   {
    "duration": 1225,
    "start_time": "2022-01-19T02:55:13.296Z"
   },
   {
    "duration": 40,
    "start_time": "2022-01-19T02:55:14.525Z"
   },
   {
    "duration": 39,
    "start_time": "2022-01-19T02:55:14.569Z"
   },
   {
    "duration": 79,
    "start_time": "2022-01-19T02:55:14.611Z"
   },
   {
    "duration": 24,
    "start_time": "2022-01-19T02:55:14.693Z"
   },
   {
    "duration": 52,
    "start_time": "2022-01-19T02:55:14.719Z"
   },
   {
    "duration": 32,
    "start_time": "2022-01-19T02:55:14.775Z"
   },
   {
    "duration": 15,
    "start_time": "2022-01-19T02:55:14.810Z"
   },
   {
    "duration": 40,
    "start_time": "2022-01-19T02:55:14.828Z"
   },
   {
    "duration": 36,
    "start_time": "2022-01-19T02:55:14.870Z"
   },
   {
    "duration": 9,
    "start_time": "2022-01-19T02:55:14.908Z"
   },
   {
    "duration": 3,
    "start_time": "2022-01-19T02:55:14.919Z"
   },
   {
    "duration": 798,
    "start_time": "2022-01-19T02:55:14.960Z"
   },
   {
    "duration": 5,
    "start_time": "2022-01-19T02:55:15.760Z"
   },
   {
    "duration": 6471,
    "start_time": "2022-01-19T02:55:15.767Z"
   },
   {
    "duration": 22,
    "start_time": "2022-01-19T02:55:22.241Z"
   },
   {
    "duration": 7,
    "start_time": "2022-01-19T02:55:22.266Z"
   },
   {
    "duration": 7,
    "start_time": "2022-01-19T02:55:22.276Z"
   },
   {
    "duration": 6121,
    "start_time": "2022-01-19T02:55:22.285Z"
   },
   {
    "duration": 11,
    "start_time": "2022-01-19T02:55:28.408Z"
   },
   {
    "duration": 8,
    "start_time": "2022-01-19T02:55:28.422Z"
   },
   {
    "duration": 27,
    "start_time": "2022-01-19T02:55:28.436Z"
   },
   {
    "duration": 13,
    "start_time": "2022-01-19T02:55:28.466Z"
   },
   {
    "duration": 7,
    "start_time": "2022-01-19T02:55:28.481Z"
   },
   {
    "duration": 6,
    "start_time": "2022-01-19T02:55:28.490Z"
   },
   {
    "duration": 9,
    "start_time": "2022-01-19T02:55:28.498Z"
   },
   {
    "duration": 69,
    "start_time": "2022-01-19T02:55:28.509Z"
   },
   {
    "duration": 11,
    "start_time": "2022-01-19T02:55:28.580Z"
   },
   {
    "duration": 24,
    "start_time": "2022-01-19T02:55:28.593Z"
   },
   {
    "duration": 63,
    "start_time": "2022-01-19T02:55:28.620Z"
   },
   {
    "duration": 34,
    "start_time": "2022-01-19T02:55:28.685Z"
   },
   {
    "duration": 40,
    "start_time": "2022-01-19T02:55:28.721Z"
   },
   {
    "duration": 32,
    "start_time": "2022-01-19T02:55:28.764Z"
   },
   {
    "duration": 594,
    "start_time": "2022-01-19T02:55:28.798Z"
   },
   {
    "duration": 518,
    "start_time": "2022-01-19T02:55:29.395Z"
   },
   {
    "duration": 529,
    "start_time": "2022-01-19T02:55:29.916Z"
   },
   {
    "duration": 397,
    "start_time": "2022-01-19T02:55:30.448Z"
   },
   {
    "duration": 351,
    "start_time": "2022-01-19T02:55:30.847Z"
   },
   {
    "duration": 612,
    "start_time": "2022-01-19T02:55:31.202Z"
   },
   {
    "duration": 601,
    "start_time": "2022-01-19T02:55:31.816Z"
   },
   {
    "duration": 626,
    "start_time": "2022-01-19T02:55:32.420Z"
   },
   {
    "duration": 347,
    "start_time": "2022-01-19T02:55:33.049Z"
   },
   {
    "duration": 29,
    "start_time": "2022-01-19T02:55:33.398Z"
   },
   {
    "duration": 393,
    "start_time": "2022-01-19T02:55:33.429Z"
   },
   {
    "duration": 304,
    "start_time": "2022-01-19T02:55:33.825Z"
   },
   {
    "duration": 297,
    "start_time": "2022-01-19T02:55:34.132Z"
   },
   {
    "duration": 7,
    "start_time": "2022-01-19T02:55:34.431Z"
   },
   {
    "duration": 290,
    "start_time": "2022-01-19T02:55:34.440Z"
   },
   {
    "duration": 4,
    "start_time": "2022-01-19T02:55:34.732Z"
   },
   {
    "duration": 581,
    "start_time": "2022-01-19T02:55:34.738Z"
   },
   {
    "duration": -1209,
    "start_time": "2022-01-19T02:55:36.530Z"
   },
   {
    "duration": -1211,
    "start_time": "2022-01-19T02:55:36.533Z"
   },
   {
    "duration": -1212,
    "start_time": "2022-01-19T02:55:36.536Z"
   },
   {
    "duration": 18,
    "start_time": "2022-01-19T02:56:17.391Z"
   },
   {
    "duration": 377,
    "start_time": "2022-01-19T02:56:20.090Z"
   },
   {
    "duration": 380,
    "start_time": "2022-01-19T02:57:20.257Z"
   },
   {
    "duration": 404,
    "start_time": "2022-01-19T02:57:21.065Z"
   },
   {
    "duration": 369,
    "start_time": "2022-01-19T02:57:27.480Z"
   },
   {
    "duration": 18,
    "start_time": "2022-01-19T02:57:34.749Z"
   },
   {
    "duration": 336,
    "start_time": "2022-01-19T02:57:36.227Z"
   },
   {
    "duration": 484,
    "start_time": "2022-01-19T02:58:26.477Z"
   },
   {
    "duration": 1492,
    "start_time": "2022-01-19T02:58:40.111Z"
   },
   {
    "duration": 1230,
    "start_time": "2022-01-19T02:58:41.606Z"
   },
   {
    "duration": 26,
    "start_time": "2022-01-19T02:58:42.839Z"
   },
   {
    "duration": 38,
    "start_time": "2022-01-19T02:58:42.868Z"
   },
   {
    "duration": 71,
    "start_time": "2022-01-19T02:58:42.908Z"
   },
   {
    "duration": 21,
    "start_time": "2022-01-19T02:58:42.981Z"
   },
   {
    "duration": 24,
    "start_time": "2022-01-19T02:58:43.004Z"
   },
   {
    "duration": 35,
    "start_time": "2022-01-19T02:58:43.060Z"
   },
   {
    "duration": 13,
    "start_time": "2022-01-19T02:58:43.098Z"
   },
   {
    "duration": 48,
    "start_time": "2022-01-19T02:58:43.113Z"
   },
   {
    "duration": 34,
    "start_time": "2022-01-19T02:58:43.163Z"
   },
   {
    "duration": 9,
    "start_time": "2022-01-19T02:58:43.200Z"
   },
   {
    "duration": 4,
    "start_time": "2022-01-19T02:58:43.211Z"
   },
   {
    "duration": 842,
    "start_time": "2022-01-19T02:58:43.217Z"
   },
   {
    "duration": 5,
    "start_time": "2022-01-19T02:58:44.061Z"
   },
   {
    "duration": 6135,
    "start_time": "2022-01-19T02:58:44.069Z"
   },
   {
    "duration": 6,
    "start_time": "2022-01-19T02:58:50.207Z"
   },
   {
    "duration": 6,
    "start_time": "2022-01-19T02:58:50.216Z"
   },
   {
    "duration": 35,
    "start_time": "2022-01-19T02:58:50.224Z"
   },
   {
    "duration": 6310,
    "start_time": "2022-01-19T02:58:50.261Z"
   },
   {
    "duration": 10,
    "start_time": "2022-01-19T02:58:56.574Z"
   },
   {
    "duration": 8,
    "start_time": "2022-01-19T02:58:56.587Z"
   },
   {
    "duration": 4,
    "start_time": "2022-01-19T02:58:56.601Z"
   },
   {
    "duration": 58,
    "start_time": "2022-01-19T02:58:56.608Z"
   },
   {
    "duration": 7,
    "start_time": "2022-01-19T02:58:56.668Z"
   },
   {
    "duration": 6,
    "start_time": "2022-01-19T02:58:56.677Z"
   },
   {
    "duration": 8,
    "start_time": "2022-01-19T02:58:56.685Z"
   },
   {
    "duration": 21,
    "start_time": "2022-01-19T02:58:56.696Z"
   },
   {
    "duration": 44,
    "start_time": "2022-01-19T02:58:56.720Z"
   },
   {
    "duration": 26,
    "start_time": "2022-01-19T02:58:56.766Z"
   },
   {
    "duration": 64,
    "start_time": "2022-01-19T02:58:56.795Z"
   },
   {
    "duration": 35,
    "start_time": "2022-01-19T02:58:56.862Z"
   },
   {
    "duration": 12,
    "start_time": "2022-01-19T02:58:56.899Z"
   },
   {
    "duration": 66,
    "start_time": "2022-01-19T02:58:56.914Z"
   },
   {
    "duration": 589,
    "start_time": "2022-01-19T02:58:56.983Z"
   },
   {
    "duration": 526,
    "start_time": "2022-01-19T02:58:57.574Z"
   },
   {
    "duration": 520,
    "start_time": "2022-01-19T02:58:58.102Z"
   },
   {
    "duration": 397,
    "start_time": "2022-01-19T02:58:58.624Z"
   },
   {
    "duration": 336,
    "start_time": "2022-01-19T02:58:59.023Z"
   },
   {
    "duration": 612,
    "start_time": "2022-01-19T02:58:59.361Z"
   },
   {
    "duration": 614,
    "start_time": "2022-01-19T02:58:59.975Z"
   },
   {
    "duration": 640,
    "start_time": "2022-01-19T02:59:00.591Z"
   },
   {
    "duration": 354,
    "start_time": "2022-01-19T02:59:01.234Z"
   },
   {
    "duration": 30,
    "start_time": "2022-01-19T02:59:01.592Z"
   },
   {
    "duration": 368,
    "start_time": "2022-01-19T02:59:01.626Z"
   },
   {
    "duration": 322,
    "start_time": "2022-01-19T02:59:01.997Z"
   },
   {
    "duration": 289,
    "start_time": "2022-01-19T02:59:02.321Z"
   },
   {
    "duration": 8,
    "start_time": "2022-01-19T02:59:02.613Z"
   },
   {
    "duration": 301,
    "start_time": "2022-01-19T02:59:02.624Z"
   },
   {
    "duration": 5,
    "start_time": "2022-01-19T02:59:02.929Z"
   },
   {
    "duration": 38,
    "start_time": "2022-01-19T02:59:02.937Z"
   },
   {
    "duration": 291,
    "start_time": "2022-01-19T02:59:02.977Z"
   },
   {
    "duration": 7981,
    "start_time": "2022-01-19T02:59:03.362Z"
   },
   {
    "duration": 169,
    "start_time": "2022-01-19T02:59:11.345Z"
   },
   {
    "duration": 1124,
    "start_time": "2022-01-21T18:12:42.511Z"
   },
   {
    "duration": 1509,
    "start_time": "2022-01-21T18:12:43.637Z"
   },
   {
    "duration": 16,
    "start_time": "2022-01-21T18:12:45.148Z"
   },
   {
    "duration": 24,
    "start_time": "2022-01-21T18:12:45.167Z"
   },
   {
    "duration": 29,
    "start_time": "2022-01-21T18:12:45.193Z"
   },
   {
    "duration": 15,
    "start_time": "2022-01-21T18:12:45.224Z"
   },
   {
    "duration": 15,
    "start_time": "2022-01-21T18:12:45.271Z"
   },
   {
    "duration": 20,
    "start_time": "2022-01-21T18:12:45.289Z"
   },
   {
    "duration": 10,
    "start_time": "2022-01-21T18:12:45.311Z"
   },
   {
    "duration": 10,
    "start_time": "2022-01-21T18:12:45.322Z"
   },
   {
    "duration": 57,
    "start_time": "2022-01-21T18:12:45.333Z"
   },
   {
    "duration": 7,
    "start_time": "2022-01-21T18:12:45.391Z"
   },
   {
    "duration": 2,
    "start_time": "2022-01-21T18:12:45.399Z"
   },
   {
    "duration": 498,
    "start_time": "2022-01-21T18:12:45.403Z"
   },
   {
    "duration": 3,
    "start_time": "2022-01-21T18:12:45.903Z"
   },
   {
    "duration": 2965,
    "start_time": "2022-01-21T18:12:45.907Z"
   },
   {
    "duration": 4,
    "start_time": "2022-01-21T18:12:48.874Z"
   },
   {
    "duration": 4,
    "start_time": "2022-01-21T18:12:48.880Z"
   },
   {
    "duration": 4,
    "start_time": "2022-01-21T18:12:48.886Z"
   },
   {
    "duration": 2964,
    "start_time": "2022-01-21T18:12:48.892Z"
   },
   {
    "duration": 19,
    "start_time": "2022-01-21T18:12:51.858Z"
   },
   {
    "duration": 5,
    "start_time": "2022-01-21T18:12:51.880Z"
   },
   {
    "duration": 4,
    "start_time": "2022-01-21T18:12:51.890Z"
   },
   {
    "duration": 9,
    "start_time": "2022-01-21T18:12:51.896Z"
   },
   {
    "duration": 4,
    "start_time": "2022-01-21T18:12:51.907Z"
   },
   {
    "duration": 4,
    "start_time": "2022-01-21T18:12:51.912Z"
   },
   {
    "duration": 56,
    "start_time": "2022-01-21T18:12:51.918Z"
   },
   {
    "duration": 14,
    "start_time": "2022-01-21T18:12:51.976Z"
   },
   {
    "duration": 9,
    "start_time": "2022-01-21T18:12:51.992Z"
   },
   {
    "duration": 18,
    "start_time": "2022-01-21T18:12:52.003Z"
   },
   {
    "duration": 61,
    "start_time": "2022-01-21T18:12:52.022Z"
   },
   {
    "duration": 22,
    "start_time": "2022-01-21T18:12:52.085Z"
   },
   {
    "duration": 7,
    "start_time": "2022-01-21T18:12:52.109Z"
   },
   {
    "duration": 19,
    "start_time": "2022-01-21T18:12:52.118Z"
   },
   {
    "duration": 387,
    "start_time": "2022-01-21T18:12:52.138Z"
   },
   {
    "duration": 333,
    "start_time": "2022-01-21T18:12:52.527Z"
   },
   {
    "duration": 330,
    "start_time": "2022-01-21T18:12:52.861Z"
   },
   {
    "duration": 253,
    "start_time": "2022-01-21T18:12:53.193Z"
   },
   {
    "duration": 185,
    "start_time": "2022-01-21T18:12:53.448Z"
   },
   {
    "duration": 361,
    "start_time": "2022-01-21T18:12:53.635Z"
   },
   {
    "duration": 352,
    "start_time": "2022-01-21T18:12:53.998Z"
   },
   {
    "duration": 363,
    "start_time": "2022-01-21T18:12:54.351Z"
   },
   {
    "duration": 206,
    "start_time": "2022-01-21T18:12:54.716Z"
   },
   {
    "duration": 18,
    "start_time": "2022-01-21T18:12:54.924Z"
   },
   {
    "duration": 215,
    "start_time": "2022-01-21T18:12:54.943Z"
   },
   {
    "duration": 181,
    "start_time": "2022-01-21T18:12:55.160Z"
   },
   {
    "duration": 169,
    "start_time": "2022-01-21T18:12:55.342Z"
   },
   {
    "duration": 5,
    "start_time": "2022-01-21T18:12:55.513Z"
   },
   {
    "duration": 182,
    "start_time": "2022-01-21T18:12:55.519Z"
   },
   {
    "duration": 2,
    "start_time": "2022-01-21T18:12:55.703Z"
   },
   {
    "duration": 480,
    "start_time": "2022-01-21T18:12:55.707Z"
   },
   {
    "duration": -54,
    "start_time": "2022-01-21T18:12:56.243Z"
   },
   {
    "duration": -57,
    "start_time": "2022-01-21T18:12:56.247Z"
   },
   {
    "duration": 20,
    "start_time": "2022-01-21T18:13:13.982Z"
   },
   {
    "duration": 464,
    "start_time": "2022-01-21T18:13:25.021Z"
   },
   {
    "duration": 444,
    "start_time": "2022-01-21T18:17:44.788Z"
   },
   {
    "duration": 316,
    "start_time": "2022-01-21T18:19:07.191Z"
   },
   {
    "duration": 336,
    "start_time": "2022-01-21T18:19:35.749Z"
   },
   {
    "duration": 1126,
    "start_time": "2022-01-21T18:20:14.980Z"
   },
   {
    "duration": 309,
    "start_time": "2022-01-21T18:21:02.284Z"
   },
   {
    "duration": 282,
    "start_time": "2022-01-21T18:21:41.759Z"
   },
   {
    "duration": 4,
    "start_time": "2022-01-21T18:21:46.307Z"
   },
   {
    "duration": 4,
    "start_time": "2022-01-21T18:22:04.219Z"
   },
   {
    "duration": 375,
    "start_time": "2022-01-21T18:23:42.218Z"
   },
   {
    "duration": 1186,
    "start_time": "2022-01-21T18:24:00.942Z"
   },
   {
    "duration": 1005,
    "start_time": "2022-01-21T18:24:02.129Z"
   },
   {
    "duration": 17,
    "start_time": "2022-01-21T18:24:03.136Z"
   },
   {
    "duration": 32,
    "start_time": "2022-01-21T18:24:03.155Z"
   },
   {
    "duration": 30,
    "start_time": "2022-01-21T18:24:03.189Z"
   },
   {
    "duration": 14,
    "start_time": "2022-01-21T18:24:03.220Z"
   },
   {
    "duration": 46,
    "start_time": "2022-01-21T18:24:03.236Z"
   },
   {
    "duration": 20,
    "start_time": "2022-01-21T18:24:03.285Z"
   },
   {
    "duration": 10,
    "start_time": "2022-01-21T18:24:03.307Z"
   },
   {
    "duration": 10,
    "start_time": "2022-01-21T18:24:03.319Z"
   },
   {
    "duration": 53,
    "start_time": "2022-01-21T18:24:03.330Z"
   },
   {
    "duration": 6,
    "start_time": "2022-01-21T18:24:03.385Z"
   },
   {
    "duration": 2,
    "start_time": "2022-01-21T18:24:03.393Z"
   },
   {
    "duration": 487,
    "start_time": "2022-01-21T18:24:03.397Z"
   },
   {
    "duration": 3,
    "start_time": "2022-01-21T18:24:03.886Z"
   },
   {
    "duration": 3027,
    "start_time": "2022-01-21T18:24:03.890Z"
   },
   {
    "duration": 4,
    "start_time": "2022-01-21T18:24:06.919Z"
   },
   {
    "duration": 7,
    "start_time": "2022-01-21T18:24:06.924Z"
   },
   {
    "duration": 3,
    "start_time": "2022-01-21T18:24:06.933Z"
   },
   {
    "duration": 2969,
    "start_time": "2022-01-21T18:24:06.937Z"
   },
   {
    "duration": 7,
    "start_time": "2022-01-21T18:24:09.907Z"
   },
   {
    "duration": 15,
    "start_time": "2022-01-21T18:24:09.916Z"
   },
   {
    "duration": 13,
    "start_time": "2022-01-21T18:24:09.935Z"
   },
   {
    "duration": 19,
    "start_time": "2022-01-21T18:24:09.950Z"
   },
   {
    "duration": 15,
    "start_time": "2022-01-21T18:24:09.972Z"
   },
   {
    "duration": 25,
    "start_time": "2022-01-21T18:24:09.989Z"
   },
   {
    "duration": 12,
    "start_time": "2022-01-21T18:24:10.015Z"
   },
   {
    "duration": 32,
    "start_time": "2022-01-21T18:24:10.029Z"
   },
   {
    "duration": 15,
    "start_time": "2022-01-21T18:24:10.062Z"
   },
   {
    "duration": 21,
    "start_time": "2022-01-21T18:24:10.079Z"
   },
   {
    "duration": 18,
    "start_time": "2022-01-21T18:24:10.101Z"
   },
   {
    "duration": 18,
    "start_time": "2022-01-21T18:24:10.121Z"
   },
   {
    "duration": 30,
    "start_time": "2022-01-21T18:24:10.141Z"
   },
   {
    "duration": 20,
    "start_time": "2022-01-21T18:24:10.173Z"
   },
   {
    "duration": 352,
    "start_time": "2022-01-21T18:24:10.195Z"
   },
   {
    "duration": 314,
    "start_time": "2022-01-21T18:24:10.548Z"
   },
   {
    "duration": 309,
    "start_time": "2022-01-21T18:24:10.871Z"
   },
   {
    "duration": 256,
    "start_time": "2022-01-21T18:24:11.182Z"
   },
   {
    "duration": 198,
    "start_time": "2022-01-21T18:24:11.440Z"
   },
   {
    "duration": 356,
    "start_time": "2022-01-21T18:24:11.640Z"
   },
   {
    "duration": 347,
    "start_time": "2022-01-21T18:24:11.998Z"
   },
   {
    "duration": 364,
    "start_time": "2022-01-21T18:24:12.346Z"
   },
   {
    "duration": 212,
    "start_time": "2022-01-21T18:24:12.712Z"
   },
   {
    "duration": 18,
    "start_time": "2022-01-21T18:24:12.926Z"
   },
   {
    "duration": 217,
    "start_time": "2022-01-21T18:24:12.946Z"
   },
   {
    "duration": 185,
    "start_time": "2022-01-21T18:24:13.165Z"
   },
   {
    "duration": 172,
    "start_time": "2022-01-21T18:24:13.352Z"
   },
   {
    "duration": 5,
    "start_time": "2022-01-21T18:24:13.525Z"
   },
   {
    "duration": 182,
    "start_time": "2022-01-21T18:24:13.532Z"
   },
   {
    "duration": 3,
    "start_time": "2022-01-21T18:24:13.715Z"
   },
   {
    "duration": 29,
    "start_time": "2022-01-21T18:24:13.719Z"
   },
   {
    "duration": 630,
    "start_time": "2022-01-21T18:24:13.749Z"
   },
   {
    "duration": 92,
    "start_time": "2022-01-21T18:24:14.382Z"
   },
   {
    "duration": 405,
    "start_time": "2022-01-21T18:24:14.476Z"
   },
   {
    "duration": -59,
    "start_time": "2022-01-21T18:24:14.941Z"
   },
   {
    "duration": -61,
    "start_time": "2022-01-21T18:24:14.944Z"
   },
   {
    "duration": -64,
    "start_time": "2022-01-21T18:24:14.948Z"
   },
   {
    "duration": 300,
    "start_time": "2022-01-21T18:24:28.366Z"
   },
   {
    "duration": 2,
    "start_time": "2022-01-21T18:24:44.000Z"
   },
   {
    "duration": 927,
    "start_time": "2022-01-21T18:24:44.846Z"
   },
   {
    "duration": 304,
    "start_time": "2022-01-21T18:25:21.469Z"
   },
   {
    "duration": 922,
    "start_time": "2022-01-21T18:26:37.953Z"
   },
   {
    "duration": 3,
    "start_time": "2022-01-21T18:26:42.248Z"
   },
   {
    "duration": 8,
    "start_time": "2022-01-21T18:27:01.502Z"
   },
   {
    "duration": 327,
    "start_time": "2022-01-21T22:05:20.822Z"
   },
   {
    "duration": 2045,
    "start_time": "2022-01-21T22:05:30.880Z"
   },
   {
    "duration": 1677,
    "start_time": "2022-01-21T22:05:32.928Z"
   },
   {
    "duration": 47,
    "start_time": "2022-01-21T22:05:34.609Z"
   },
   {
    "duration": 40,
    "start_time": "2022-01-21T22:05:34.660Z"
   },
   {
    "duration": 65,
    "start_time": "2022-01-21T22:05:34.702Z"
   },
   {
    "duration": 20,
    "start_time": "2022-01-21T22:05:34.770Z"
   },
   {
    "duration": 52,
    "start_time": "2022-01-21T22:05:34.792Z"
   },
   {
    "duration": 32,
    "start_time": "2022-01-21T22:05:34.846Z"
   },
   {
    "duration": 45,
    "start_time": "2022-01-21T22:05:34.881Z"
   },
   {
    "duration": 16,
    "start_time": "2022-01-21T22:05:34.929Z"
   },
   {
    "duration": 32,
    "start_time": "2022-01-21T22:05:34.947Z"
   },
   {
    "duration": 47,
    "start_time": "2022-01-21T22:05:34.981Z"
   },
   {
    "duration": 4,
    "start_time": "2022-01-21T22:05:35.030Z"
   },
   {
    "duration": 868,
    "start_time": "2022-01-21T22:05:35.036Z"
   },
   {
    "duration": 5,
    "start_time": "2022-01-21T22:05:35.907Z"
   },
   {
    "duration": 6371,
    "start_time": "2022-01-21T22:05:35.923Z"
   },
   {
    "duration": 7,
    "start_time": "2022-01-21T22:05:42.297Z"
   },
   {
    "duration": 21,
    "start_time": "2022-01-21T22:05:42.306Z"
   },
   {
    "duration": 6,
    "start_time": "2022-01-21T22:05:42.329Z"
   },
   {
    "duration": 5867,
    "start_time": "2022-01-21T22:05:42.337Z"
   },
   {
    "duration": 23,
    "start_time": "2022-01-21T22:05:48.207Z"
   },
   {
    "duration": 9,
    "start_time": "2022-01-21T22:05:48.233Z"
   },
   {
    "duration": 7,
    "start_time": "2022-01-21T22:05:48.244Z"
   },
   {
    "duration": 18,
    "start_time": "2022-01-21T22:05:48.253Z"
   },
   {
    "duration": 8,
    "start_time": "2022-01-21T22:05:48.274Z"
   },
   {
    "duration": 6,
    "start_time": "2022-01-21T22:05:48.324Z"
   },
   {
    "duration": 7,
    "start_time": "2022-01-21T22:05:48.335Z"
   },
   {
    "duration": 19,
    "start_time": "2022-01-21T22:05:48.345Z"
   },
   {
    "duration": 11,
    "start_time": "2022-01-21T22:05:48.366Z"
   },
   {
    "duration": 62,
    "start_time": "2022-01-21T22:05:48.379Z"
   },
   {
    "duration": 35,
    "start_time": "2022-01-21T22:05:48.444Z"
   },
   {
    "duration": 60,
    "start_time": "2022-01-21T22:05:48.481Z"
   },
   {
    "duration": 10,
    "start_time": "2022-01-21T22:05:48.543Z"
   },
   {
    "duration": 29,
    "start_time": "2022-01-21T22:05:48.555Z"
   },
   {
    "duration": 1829,
    "start_time": "2022-01-21T22:05:48.586Z"
   },
   {
    "duration": -87,
    "start_time": "2022-01-21T22:05:50.509Z"
   },
   {
    "duration": -88,
    "start_time": "2022-01-21T22:05:50.512Z"
   },
   {
    "duration": -88,
    "start_time": "2022-01-21T22:05:50.514Z"
   },
   {
    "duration": -89,
    "start_time": "2022-01-21T22:05:50.516Z"
   },
   {
    "duration": -90,
    "start_time": "2022-01-21T22:05:50.518Z"
   },
   {
    "duration": -91,
    "start_time": "2022-01-21T22:05:50.521Z"
   },
   {
    "duration": -91,
    "start_time": "2022-01-21T22:05:50.522Z"
   },
   {
    "duration": -91,
    "start_time": "2022-01-21T22:05:50.524Z"
   },
   {
    "duration": -92,
    "start_time": "2022-01-21T22:05:50.526Z"
   },
   {
    "duration": -93,
    "start_time": "2022-01-21T22:05:50.528Z"
   },
   {
    "duration": -215,
    "start_time": "2022-01-21T22:05:50.652Z"
   },
   {
    "duration": -216,
    "start_time": "2022-01-21T22:05:50.654Z"
   },
   {
    "duration": -216,
    "start_time": "2022-01-21T22:05:50.655Z"
   },
   {
    "duration": -215,
    "start_time": "2022-01-21T22:05:50.656Z"
   },
   {
    "duration": -216,
    "start_time": "2022-01-21T22:05:50.658Z"
   },
   {
    "duration": -215,
    "start_time": "2022-01-21T22:05:50.659Z"
   },
   {
    "duration": -220,
    "start_time": "2022-01-21T22:05:50.665Z"
   },
   {
    "duration": -221,
    "start_time": "2022-01-21T22:05:50.667Z"
   },
   {
    "duration": -220,
    "start_time": "2022-01-21T22:05:50.668Z"
   },
   {
    "duration": -220,
    "start_time": "2022-01-21T22:05:50.669Z"
   },
   {
    "duration": -219,
    "start_time": "2022-01-21T22:05:50.670Z"
   },
   {
    "duration": 607,
    "start_time": "2022-01-21T22:06:13.906Z"
   },
   {
    "duration": 1470,
    "start_time": "2022-01-21T22:06:36.535Z"
   },
   {
    "duration": 1496,
    "start_time": "2022-01-21T22:06:38.008Z"
   },
   {
    "duration": 45,
    "start_time": "2022-01-21T22:06:39.509Z"
   },
   {
    "duration": 78,
    "start_time": "2022-01-21T22:06:39.558Z"
   },
   {
    "duration": 49,
    "start_time": "2022-01-21T22:06:39.639Z"
   },
   {
    "duration": 38,
    "start_time": "2022-01-21T22:06:39.690Z"
   },
   {
    "duration": 28,
    "start_time": "2022-01-21T22:06:39.730Z"
   },
   {
    "duration": 73,
    "start_time": "2022-01-21T22:06:39.760Z"
   },
   {
    "duration": 19,
    "start_time": "2022-01-21T22:06:39.839Z"
   },
   {
    "duration": 18,
    "start_time": "2022-01-21T22:06:39.862Z"
   },
   {
    "duration": 72,
    "start_time": "2022-01-21T22:06:39.883Z"
   },
   {
    "duration": 10,
    "start_time": "2022-01-21T22:06:39.958Z"
   },
   {
    "duration": 3,
    "start_time": "2022-01-21T22:06:39.971Z"
   },
   {
    "duration": 803,
    "start_time": "2022-01-21T22:06:39.977Z"
   },
   {
    "duration": 6,
    "start_time": "2022-01-21T22:06:40.783Z"
   },
   {
    "duration": 6040,
    "start_time": "2022-01-21T22:06:40.792Z"
   },
   {
    "duration": 6,
    "start_time": "2022-01-21T22:06:46.834Z"
   },
   {
    "duration": 10,
    "start_time": "2022-01-21T22:06:46.843Z"
   },
   {
    "duration": 6,
    "start_time": "2022-01-21T22:06:46.855Z"
   },
   {
    "duration": 5721,
    "start_time": "2022-01-21T22:06:46.863Z"
   },
   {
    "duration": 12,
    "start_time": "2022-01-21T22:06:52.587Z"
   },
   {
    "duration": 27,
    "start_time": "2022-01-21T22:06:52.601Z"
   },
   {
    "duration": 6,
    "start_time": "2022-01-21T22:06:52.631Z"
   },
   {
    "duration": 14,
    "start_time": "2022-01-21T22:06:52.640Z"
   },
   {
    "duration": 7,
    "start_time": "2022-01-21T22:06:52.656Z"
   },
   {
    "duration": 57,
    "start_time": "2022-01-21T22:06:52.666Z"
   },
   {
    "duration": 7,
    "start_time": "2022-01-21T22:06:52.728Z"
   },
   {
    "duration": 19,
    "start_time": "2022-01-21T22:06:52.739Z"
   },
   {
    "duration": 10,
    "start_time": "2022-01-21T22:06:52.760Z"
   },
   {
    "duration": 68,
    "start_time": "2022-01-21T22:06:52.773Z"
   },
   {
    "duration": 35,
    "start_time": "2022-01-21T22:06:52.844Z"
   },
   {
    "duration": 64,
    "start_time": "2022-01-21T22:06:52.882Z"
   },
   {
    "duration": 11,
    "start_time": "2022-01-21T22:06:52.949Z"
   },
   {
    "duration": 29,
    "start_time": "2022-01-21T22:06:52.963Z"
   },
   {
    "duration": 560,
    "start_time": "2022-01-21T22:06:53.024Z"
   },
   {
    "duration": 505,
    "start_time": "2022-01-21T22:06:53.587Z"
   },
   {
    "duration": 498,
    "start_time": "2022-01-21T22:06:54.095Z"
   },
   {
    "duration": 361,
    "start_time": "2022-01-21T22:06:54.595Z"
   },
   {
    "duration": 318,
    "start_time": "2022-01-21T22:06:54.958Z"
   },
   {
    "duration": 561,
    "start_time": "2022-01-21T22:06:55.278Z"
   },
   {
    "duration": 706,
    "start_time": "2022-01-21T22:06:55.841Z"
   },
   {
    "duration": 604,
    "start_time": "2022-01-21T22:06:56.550Z"
   },
   {
    "duration": 389,
    "start_time": "2022-01-21T22:06:57.157Z"
   },
   {
    "duration": 46,
    "start_time": "2022-01-21T22:06:57.550Z"
   },
   {
    "duration": 501,
    "start_time": "2022-01-21T22:06:57.599Z"
   },
   {
    "duration": 482,
    "start_time": "2022-01-21T22:06:58.103Z"
   },
   {
    "duration": 412,
    "start_time": "2022-01-21T22:06:58.588Z"
   },
   {
    "duration": 21,
    "start_time": "2022-01-21T22:06:59.003Z"
   },
   {
    "duration": 296,
    "start_time": "2022-01-21T22:06:59.027Z"
   },
   {
    "duration": 4,
    "start_time": "2022-01-21T22:06:59.325Z"
   },
   {
    "duration": 24,
    "start_time": "2022-01-21T22:06:59.332Z"
   },
   {
    "duration": 965,
    "start_time": "2022-01-21T22:06:59.359Z"
   },
   {
    "duration": 6,
    "start_time": "2022-01-21T22:07:00.328Z"
   },
   {
    "duration": 16,
    "start_time": "2022-01-21T22:07:00.338Z"
   },
   {
    "duration": 15,
    "start_time": "2022-01-21T22:07:00.424Z"
   },
   {
    "duration": 16982,
    "start_time": "2022-01-21T22:07:00.526Z"
   },
   {
    "duration": 853,
    "start_time": "2022-01-21T22:07:52.735Z"
   },
   {
    "duration": 2017,
    "start_time": "2022-01-21T22:08:43.233Z"
   },
   {
    "duration": 633,
    "start_time": "2022-01-21T22:12:21.677Z"
   },
   {
    "duration": 279,
    "start_time": "2022-01-21T22:13:00.771Z"
   },
   {
    "duration": 549,
    "start_time": "2022-01-21T22:13:26.100Z"
   },
   {
    "duration": 552,
    "start_time": "2022-01-21T22:13:48.161Z"
   },
   {
    "duration": 579,
    "start_time": "2022-01-21T22:13:53.627Z"
   },
   {
    "duration": 780,
    "start_time": "2022-01-21T22:14:00.524Z"
   },
   {
    "duration": 647,
    "start_time": "2022-01-21T22:20:00.599Z"
   },
   {
    "duration": 623,
    "start_time": "2022-01-21T22:23:44.553Z"
   },
   {
    "duration": 659,
    "start_time": "2022-01-21T22:24:58.996Z"
   },
   {
    "duration": 643,
    "start_time": "2022-01-21T22:25:13.210Z"
   },
   {
    "duration": 652,
    "start_time": "2022-01-21T22:25:52.585Z"
   },
   {
    "duration": 548,
    "start_time": "2022-01-21T22:34:49.550Z"
   },
   {
    "duration": 565,
    "start_time": "2022-01-21T22:34:56.543Z"
   },
   {
    "duration": 675,
    "start_time": "2022-01-21T22:35:05.201Z"
   },
   {
    "duration": 363,
    "start_time": "2022-01-21T22:36:04.149Z"
   },
   {
    "duration": 26,
    "start_time": "2022-01-21T22:40:19.029Z"
   },
   {
    "duration": 1364,
    "start_time": "2022-01-21T22:44:42.266Z"
   },
   {
    "duration": 5,
    "start_time": "2022-01-21T22:47:28.014Z"
   },
   {
    "duration": 21,
    "start_time": "2022-01-21T22:47:34.797Z"
   },
   {
    "duration": 6,
    "start_time": "2022-01-21T22:56:36.678Z"
   },
   {
    "duration": 17,
    "start_time": "2022-01-21T22:56:42.358Z"
   },
   {
    "duration": 16,
    "start_time": "2022-01-21T22:56:56.032Z"
   },
   {
    "duration": 299,
    "start_time": "2022-01-21T23:00:16.807Z"
   },
   {
    "duration": 20,
    "start_time": "2022-01-21T23:00:20.852Z"
   },
   {
    "duration": 29,
    "start_time": "2022-01-21T23:00:33.291Z"
   },
   {
    "duration": 15,
    "start_time": "2022-01-21T23:01:36.049Z"
   },
   {
    "duration": 6,
    "start_time": "2022-01-21T23:04:50.872Z"
   },
   {
    "duration": 486,
    "start_time": "2022-01-21T23:07:10.795Z"
   },
   {
    "duration": 6,
    "start_time": "2022-01-21T23:07:19.362Z"
   },
   {
    "duration": 302,
    "start_time": "2022-01-21T23:08:02.212Z"
   },
   {
    "duration": 978,
    "start_time": "2022-01-21T23:08:07.544Z"
   },
   {
    "duration": 5,
    "start_time": "2022-01-21T23:08:25.322Z"
   },
   {
    "duration": 301,
    "start_time": "2022-01-21T23:08:42.400Z"
   },
   {
    "duration": 16,
    "start_time": "2022-01-21T23:09:03.852Z"
   },
   {
    "duration": 7,
    "start_time": "2022-01-21T23:11:03.693Z"
   },
   {
    "duration": 10,
    "start_time": "2022-01-21T23:12:39.017Z"
   },
   {
    "duration": 282,
    "start_time": "2022-01-21T23:12:56.950Z"
   },
   {
    "duration": 1473,
    "start_time": "2022-01-21T23:13:23.558Z"
   },
   {
    "duration": 1130,
    "start_time": "2022-01-21T23:13:25.034Z"
   },
   {
    "duration": 27,
    "start_time": "2022-01-21T23:13:26.168Z"
   },
   {
    "duration": 55,
    "start_time": "2022-01-21T23:13:26.199Z"
   },
   {
    "duration": 46,
    "start_time": "2022-01-21T23:13:26.257Z"
   },
   {
    "duration": 22,
    "start_time": "2022-01-21T23:13:26.324Z"
   },
   {
    "duration": 24,
    "start_time": "2022-01-21T23:13:26.349Z"
   },
   {
    "duration": 72,
    "start_time": "2022-01-21T23:13:26.379Z"
   },
   {
    "duration": 14,
    "start_time": "2022-01-21T23:13:26.456Z"
   },
   {
    "duration": 17,
    "start_time": "2022-01-21T23:13:26.473Z"
   },
   {
    "duration": 33,
    "start_time": "2022-01-21T23:13:26.524Z"
   },
   {
    "duration": 12,
    "start_time": "2022-01-21T23:13:26.560Z"
   },
   {
    "duration": 3,
    "start_time": "2022-01-21T23:13:26.575Z"
   },
   {
    "duration": 742,
    "start_time": "2022-01-21T23:13:26.622Z"
   },
   {
    "duration": 4,
    "start_time": "2022-01-21T23:13:27.367Z"
   },
   {
    "duration": 6044,
    "start_time": "2022-01-21T23:13:27.373Z"
   },
   {
    "duration": 6,
    "start_time": "2022-01-21T23:13:33.419Z"
   },
   {
    "duration": 11,
    "start_time": "2022-01-21T23:13:33.427Z"
   },
   {
    "duration": 5,
    "start_time": "2022-01-21T23:13:33.440Z"
   },
   {
    "duration": 5853,
    "start_time": "2022-01-21T23:13:33.447Z"
   },
   {
    "duration": 22,
    "start_time": "2022-01-21T23:13:39.302Z"
   },
   {
    "duration": 10,
    "start_time": "2022-01-21T23:13:39.327Z"
   },
   {
    "duration": 5,
    "start_time": "2022-01-21T23:13:39.343Z"
   },
   {
    "duration": 16,
    "start_time": "2022-01-21T23:13:39.351Z"
   },
   {
    "duration": 6,
    "start_time": "2022-01-21T23:13:39.370Z"
   },
   {
    "duration": 46,
    "start_time": "2022-01-21T23:13:39.378Z"
   },
   {
    "duration": 8,
    "start_time": "2022-01-21T23:13:39.427Z"
   },
   {
    "duration": 18,
    "start_time": "2022-01-21T23:13:39.438Z"
   },
   {
    "duration": 10,
    "start_time": "2022-01-21T23:13:39.459Z"
   },
   {
    "duration": 60,
    "start_time": "2022-01-21T23:13:39.472Z"
   },
   {
    "duration": 33,
    "start_time": "2022-01-21T23:13:39.534Z"
   },
   {
    "duration": 57,
    "start_time": "2022-01-21T23:13:39.569Z"
   },
   {
    "duration": 18,
    "start_time": "2022-01-21T23:13:39.629Z"
   },
   {
    "duration": 17,
    "start_time": "2022-01-21T23:13:39.650Z"
   },
   {
    "duration": 64,
    "start_time": "2022-01-21T23:13:39.670Z"
   },
   {
    "duration": 6,
    "start_time": "2022-01-21T23:13:39.737Z"
   },
   {
    "duration": 452,
    "start_time": "2022-01-21T23:13:39.746Z"
   },
   {
    "duration": -89,
    "start_time": "2022-01-21T23:13:40.289Z"
   },
   {
    "duration": -90,
    "start_time": "2022-01-21T23:13:40.292Z"
   },
   {
    "duration": -91,
    "start_time": "2022-01-21T23:13:40.294Z"
   },
   {
    "duration": -93,
    "start_time": "2022-01-21T23:13:40.298Z"
   },
   {
    "duration": -94,
    "start_time": "2022-01-21T23:13:40.300Z"
   },
   {
    "duration": -94,
    "start_time": "2022-01-21T23:13:40.302Z"
   },
   {
    "duration": -95,
    "start_time": "2022-01-21T23:13:40.304Z"
   },
   {
    "duration": -96,
    "start_time": "2022-01-21T23:13:40.306Z"
   },
   {
    "duration": -96,
    "start_time": "2022-01-21T23:13:40.308Z"
   },
   {
    "duration": -102,
    "start_time": "2022-01-21T23:13:40.315Z"
   },
   {
    "duration": -103,
    "start_time": "2022-01-21T23:13:40.317Z"
   },
   {
    "duration": -103,
    "start_time": "2022-01-21T23:13:40.319Z"
   },
   {
    "duration": -103,
    "start_time": "2022-01-21T23:13:40.320Z"
   },
   {
    "duration": -104,
    "start_time": "2022-01-21T23:13:40.322Z"
   },
   {
    "duration": -103,
    "start_time": "2022-01-21T23:13:40.323Z"
   },
   {
    "duration": -104,
    "start_time": "2022-01-21T23:13:40.325Z"
   },
   {
    "duration": -103,
    "start_time": "2022-01-21T23:13:40.326Z"
   },
   {
    "duration": -103,
    "start_time": "2022-01-21T23:13:40.327Z"
   },
   {
    "duration": -104,
    "start_time": "2022-01-21T23:13:40.329Z"
   },
   {
    "duration": -103,
    "start_time": "2022-01-21T23:13:40.330Z"
   },
   {
    "duration": -103,
    "start_time": "2022-01-21T23:13:40.331Z"
   },
   {
    "duration": -103,
    "start_time": "2022-01-21T23:13:40.333Z"
   },
   {
    "duration": -103,
    "start_time": "2022-01-21T23:13:40.334Z"
   },
   {
    "duration": 2043,
    "start_time": "2022-01-21T23:14:51.079Z"
   },
   {
    "duration": 1640,
    "start_time": "2022-01-21T23:14:53.125Z"
   },
   {
    "duration": 41,
    "start_time": "2022-01-21T23:14:54.769Z"
   },
   {
    "duration": 61,
    "start_time": "2022-01-21T23:14:54.814Z"
   },
   {
    "duration": 91,
    "start_time": "2022-01-21T23:14:54.878Z"
   },
   {
    "duration": 26,
    "start_time": "2022-01-21T23:14:54.972Z"
   },
   {
    "duration": 54,
    "start_time": "2022-01-21T23:14:55.002Z"
   },
   {
    "duration": 66,
    "start_time": "2022-01-21T23:14:55.059Z"
   },
   {
    "duration": 18,
    "start_time": "2022-01-21T23:14:55.133Z"
   },
   {
    "duration": 25,
    "start_time": "2022-01-21T23:14:55.156Z"
   },
   {
    "duration": 89,
    "start_time": "2022-01-21T23:14:55.184Z"
   },
   {
    "duration": 10,
    "start_time": "2022-01-21T23:14:55.276Z"
   },
   {
    "duration": 5,
    "start_time": "2022-01-21T23:14:55.288Z"
   },
   {
    "duration": 763,
    "start_time": "2022-01-21T23:14:55.295Z"
   },
   {
    "duration": 6,
    "start_time": "2022-01-21T23:14:56.061Z"
   },
   {
    "duration": 5822,
    "start_time": "2022-01-21T23:14:56.070Z"
   },
   {
    "duration": 7,
    "start_time": "2022-01-21T23:15:01.895Z"
   },
   {
    "duration": 5,
    "start_time": "2022-01-21T23:15:01.924Z"
   },
   {
    "duration": 7,
    "start_time": "2022-01-21T23:15:01.932Z"
   },
   {
    "duration": 6047,
    "start_time": "2022-01-21T23:15:01.942Z"
   },
   {
    "duration": 13,
    "start_time": "2022-01-21T23:15:07.993Z"
   },
   {
    "duration": 10,
    "start_time": "2022-01-21T23:15:08.024Z"
   },
   {
    "duration": 9,
    "start_time": "2022-01-21T23:15:08.037Z"
   },
   {
    "duration": 24,
    "start_time": "2022-01-21T23:15:08.049Z"
   },
   {
    "duration": 9,
    "start_time": "2022-01-21T23:15:08.077Z"
   },
   {
    "duration": 40,
    "start_time": "2022-01-21T23:15:08.089Z"
   },
   {
    "duration": 9,
    "start_time": "2022-01-21T23:15:08.139Z"
   },
   {
    "duration": 21,
    "start_time": "2022-01-21T23:15:08.152Z"
   },
   {
    "duration": 48,
    "start_time": "2022-01-21T23:15:08.176Z"
   },
   {
    "duration": 27,
    "start_time": "2022-01-21T23:15:08.227Z"
   },
   {
    "duration": 36,
    "start_time": "2022-01-21T23:15:08.257Z"
   },
   {
    "duration": 80,
    "start_time": "2022-01-21T23:15:08.295Z"
   },
   {
    "duration": 16,
    "start_time": "2022-01-21T23:15:08.379Z"
   },
   {
    "duration": 46,
    "start_time": "2022-01-21T23:15:08.398Z"
   },
   {
    "duration": 51,
    "start_time": "2022-01-21T23:15:08.448Z"
   },
   {
    "duration": 7,
    "start_time": "2022-01-21T23:15:08.522Z"
   },
   {
    "duration": 531,
    "start_time": "2022-01-21T23:15:08.532Z"
   },
   {
    "duration": -95,
    "start_time": "2022-01-21T23:15:09.161Z"
   },
   {
    "duration": -96,
    "start_time": "2022-01-21T23:15:09.164Z"
   },
   {
    "duration": -96,
    "start_time": "2022-01-21T23:15:09.166Z"
   },
   {
    "duration": -98,
    "start_time": "2022-01-21T23:15:09.169Z"
   },
   {
    "duration": -98,
    "start_time": "2022-01-21T23:15:09.170Z"
   },
   {
    "duration": -98,
    "start_time": "2022-01-21T23:15:09.172Z"
   },
   {
    "duration": -99,
    "start_time": "2022-01-21T23:15:09.174Z"
   },
   {
    "duration": -99,
    "start_time": "2022-01-21T23:15:09.176Z"
   },
   {
    "duration": -105,
    "start_time": "2022-01-21T23:15:09.183Z"
   },
   {
    "duration": -106,
    "start_time": "2022-01-21T23:15:09.186Z"
   },
   {
    "duration": -106,
    "start_time": "2022-01-21T23:15:09.187Z"
   },
   {
    "duration": -106,
    "start_time": "2022-01-21T23:15:09.189Z"
   },
   {
    "duration": -111,
    "start_time": "2022-01-21T23:15:09.195Z"
   },
   {
    "duration": -111,
    "start_time": "2022-01-21T23:15:09.197Z"
   },
   {
    "duration": -111,
    "start_time": "2022-01-21T23:15:09.198Z"
   },
   {
    "duration": -111,
    "start_time": "2022-01-21T23:15:09.200Z"
   },
   {
    "duration": -111,
    "start_time": "2022-01-21T23:15:09.201Z"
   },
   {
    "duration": -114,
    "start_time": "2022-01-21T23:15:09.206Z"
   },
   {
    "duration": -114,
    "start_time": "2022-01-21T23:15:09.208Z"
   },
   {
    "duration": -219,
    "start_time": "2022-01-21T23:15:09.315Z"
   },
   {
    "duration": -220,
    "start_time": "2022-01-21T23:15:09.317Z"
   },
   {
    "duration": -220,
    "start_time": "2022-01-21T23:15:09.319Z"
   },
   {
    "duration": -220,
    "start_time": "2022-01-21T23:15:09.320Z"
   },
   {
    "duration": 1441,
    "start_time": "2022-01-21T23:15:45.782Z"
   },
   {
    "duration": 1200,
    "start_time": "2022-01-21T23:15:47.226Z"
   },
   {
    "duration": 26,
    "start_time": "2022-01-21T23:15:48.429Z"
   },
   {
    "duration": 36,
    "start_time": "2022-01-21T23:15:48.458Z"
   },
   {
    "duration": 69,
    "start_time": "2022-01-21T23:15:48.496Z"
   },
   {
    "duration": 20,
    "start_time": "2022-01-21T23:15:48.568Z"
   },
   {
    "duration": 42,
    "start_time": "2022-01-21T23:15:48.590Z"
   },
   {
    "duration": 30,
    "start_time": "2022-01-21T23:15:48.635Z"
   },
   {
    "duration": 12,
    "start_time": "2022-01-21T23:15:48.669Z"
   },
   {
    "duration": 16,
    "start_time": "2022-01-21T23:15:48.724Z"
   },
   {
    "duration": 31,
    "start_time": "2022-01-21T23:15:48.743Z"
   },
   {
    "duration": 11,
    "start_time": "2022-01-21T23:15:48.776Z"
   },
   {
    "duration": 3,
    "start_time": "2022-01-21T23:15:48.823Z"
   },
   {
    "duration": 790,
    "start_time": "2022-01-21T23:15:48.828Z"
   },
   {
    "duration": 4,
    "start_time": "2022-01-21T23:15:49.623Z"
   },
   {
    "duration": 5952,
    "start_time": "2022-01-21T23:15:49.630Z"
   },
   {
    "duration": 6,
    "start_time": "2022-01-21T23:15:55.584Z"
   },
   {
    "duration": 9,
    "start_time": "2022-01-21T23:15:55.593Z"
   },
   {
    "duration": 21,
    "start_time": "2022-01-21T23:15:55.605Z"
   },
   {
    "duration": 5825,
    "start_time": "2022-01-21T23:15:55.628Z"
   },
   {
    "duration": 11,
    "start_time": "2022-01-21T23:16:01.455Z"
   },
   {
    "duration": 15,
    "start_time": "2022-01-21T23:16:01.468Z"
   },
   {
    "duration": 9,
    "start_time": "2022-01-21T23:16:01.485Z"
   },
   {
    "duration": 37,
    "start_time": "2022-01-21T23:16:01.496Z"
   },
   {
    "duration": 8,
    "start_time": "2022-01-21T23:16:01.536Z"
   },
   {
    "duration": 9,
    "start_time": "2022-01-21T23:16:01.546Z"
   },
   {
    "duration": 12,
    "start_time": "2022-01-21T23:16:01.560Z"
   },
   {
    "duration": 29,
    "start_time": "2022-01-21T23:16:01.575Z"
   },
   {
    "duration": 11,
    "start_time": "2022-01-21T23:16:01.623Z"
   },
   {
    "duration": 30,
    "start_time": "2022-01-21T23:16:01.636Z"
   },
   {
    "duration": 32,
    "start_time": "2022-01-21T23:16:01.668Z"
   },
   {
    "duration": 32,
    "start_time": "2022-01-21T23:16:01.724Z"
   },
   {
    "duration": 13,
    "start_time": "2022-01-21T23:16:01.759Z"
   },
   {
    "duration": 55,
    "start_time": "2022-01-21T23:16:01.774Z"
   },
   {
    "duration": 35,
    "start_time": "2022-01-21T23:16:01.831Z"
   },
   {
    "duration": 32,
    "start_time": "2022-01-21T23:16:01.869Z"
   },
   {
    "duration": 14,
    "start_time": "2022-01-21T23:16:01.923Z"
   },
   {
    "duration": 593,
    "start_time": "2022-01-21T23:16:01.939Z"
   },
   {
    "duration": 511,
    "start_time": "2022-01-21T23:16:02.534Z"
   },
   {
    "duration": 505,
    "start_time": "2022-01-21T23:16:03.047Z"
   },
   {
    "duration": 772,
    "start_time": "2022-01-21T23:16:03.554Z"
   },
   {
    "duration": 709,
    "start_time": "2022-01-21T23:16:04.329Z"
   },
   {
    "duration": 598,
    "start_time": "2022-01-21T23:16:05.041Z"
   },
   {
    "duration": 1161,
    "start_time": "2022-01-21T23:16:05.642Z"
   },
   {
    "duration": 1182,
    "start_time": "2022-01-21T23:16:06.806Z"
   },
   {
    "duration": 529,
    "start_time": "2022-01-21T23:16:07.991Z"
   },
   {
    "duration": 28,
    "start_time": "2022-01-21T23:16:08.524Z"
   },
   {
    "duration": 349,
    "start_time": "2022-01-21T23:16:08.554Z"
   },
   {
    "duration": 575,
    "start_time": "2022-01-21T23:16:08.905Z"
   },
   {
    "duration": 527,
    "start_time": "2022-01-21T23:16:09.483Z"
   },
   {
    "duration": 14,
    "start_time": "2022-01-21T23:16:10.013Z"
   },
   {
    "duration": 602,
    "start_time": "2022-01-21T23:16:10.030Z"
   },
   {
    "duration": 3,
    "start_time": "2022-01-21T23:16:10.635Z"
   },
   {
    "duration": 23,
    "start_time": "2022-01-21T23:16:10.640Z"
   },
   {
    "duration": 1358,
    "start_time": "2022-01-21T23:16:10.665Z"
   },
   {
    "duration": 10,
    "start_time": "2022-01-21T23:16:12.025Z"
   },
   {
    "duration": 454,
    "start_time": "2022-01-21T23:16:12.037Z"
   },
   {
    "duration": 12,
    "start_time": "2022-01-21T23:18:39.426Z"
   },
   {
    "duration": 22,
    "start_time": "2022-01-21T23:19:54.615Z"
   },
   {
    "duration": 10,
    "start_time": "2022-01-21T23:20:13.702Z"
   },
   {
    "duration": 1583,
    "start_time": "2022-01-21T23:20:29.015Z"
   },
   {
    "duration": 1401,
    "start_time": "2022-01-21T23:20:30.601Z"
   },
   {
    "duration": 33,
    "start_time": "2022-01-21T23:20:32.006Z"
   },
   {
    "duration": 37,
    "start_time": "2022-01-21T23:20:32.043Z"
   },
   {
    "duration": 69,
    "start_time": "2022-01-21T23:20:32.083Z"
   },
   {
    "duration": 15,
    "start_time": "2022-01-21T23:20:32.155Z"
   },
   {
    "duration": 23,
    "start_time": "2022-01-21T23:20:32.172Z"
   },
   {
    "duration": 33,
    "start_time": "2022-01-21T23:20:32.223Z"
   },
   {
    "duration": 13,
    "start_time": "2022-01-21T23:20:32.260Z"
   },
   {
    "duration": 14,
    "start_time": "2022-01-21T23:20:32.276Z"
   },
   {
    "duration": 32,
    "start_time": "2022-01-21T23:20:32.324Z"
   },
   {
    "duration": 12,
    "start_time": "2022-01-21T23:20:32.359Z"
   },
   {
    "duration": 3,
    "start_time": "2022-01-21T23:20:32.374Z"
   },
   {
    "duration": 762,
    "start_time": "2022-01-21T23:20:32.380Z"
   },
   {
    "duration": 4,
    "start_time": "2022-01-21T23:20:33.144Z"
   },
   {
    "duration": 10272,
    "start_time": "2022-01-21T23:20:33.152Z"
   },
   {
    "duration": 6,
    "start_time": "2022-01-21T23:20:43.426Z"
   },
   {
    "duration": 7,
    "start_time": "2022-01-21T23:20:43.434Z"
   },
   {
    "duration": 5,
    "start_time": "2022-01-21T23:20:43.443Z"
   },
   {
    "duration": 5564,
    "start_time": "2022-01-21T23:20:43.451Z"
   },
   {
    "duration": 13,
    "start_time": "2022-01-21T23:20:49.018Z"
   },
   {
    "duration": 9,
    "start_time": "2022-01-21T23:20:49.034Z"
   },
   {
    "duration": 5,
    "start_time": "2022-01-21T23:20:49.045Z"
   },
   {
    "duration": 14,
    "start_time": "2022-01-21T23:20:49.052Z"
   },
   {
    "duration": 7,
    "start_time": "2022-01-21T23:20:49.069Z"
   },
   {
    "duration": 5,
    "start_time": "2022-01-21T23:20:49.123Z"
   },
   {
    "duration": 8,
    "start_time": "2022-01-21T23:20:49.135Z"
   },
   {
    "duration": 18,
    "start_time": "2022-01-21T23:20:49.147Z"
   },
   {
    "duration": 11,
    "start_time": "2022-01-21T23:20:49.167Z"
   },
   {
    "duration": 60,
    "start_time": "2022-01-21T23:20:49.180Z"
   },
   {
    "duration": 32,
    "start_time": "2022-01-21T23:20:49.243Z"
   },
   {
    "duration": 61,
    "start_time": "2022-01-21T23:20:49.277Z"
   },
   {
    "duration": 13,
    "start_time": "2022-01-21T23:20:49.341Z"
   },
   {
    "duration": 18,
    "start_time": "2022-01-21T23:20:49.356Z"
   },
   {
    "duration": 69,
    "start_time": "2022-01-21T23:20:49.376Z"
   },
   {
    "duration": 12,
    "start_time": "2022-01-21T23:20:49.448Z"
   },
   {
    "duration": 21,
    "start_time": "2022-01-21T23:20:49.462Z"
   },
   {
    "duration": 45,
    "start_time": "2022-01-21T23:20:49.486Z"
   },
   {
    "duration": 31,
    "start_time": "2022-01-21T23:20:49.534Z"
   },
   {
    "duration": 14,
    "start_time": "2022-01-21T23:20:49.568Z"
   },
   {
    "duration": 596,
    "start_time": "2022-01-21T23:20:49.585Z"
   },
   {
    "duration": 509,
    "start_time": "2022-01-21T23:20:50.183Z"
   },
   {
    "duration": 524,
    "start_time": "2022-01-21T23:20:50.694Z"
   },
   {
    "duration": 831,
    "start_time": "2022-01-21T23:20:51.224Z"
   },
   {
    "duration": 722,
    "start_time": "2022-01-21T23:20:52.057Z"
   },
   {
    "duration": 564,
    "start_time": "2022-01-21T23:20:52.782Z"
   },
   {
    "duration": 559,
    "start_time": "2022-01-21T23:20:53.349Z"
   },
   {
    "duration": 566,
    "start_time": "2022-01-21T23:20:53.910Z"
   },
   {
    "duration": 333,
    "start_time": "2022-01-21T23:20:54.478Z"
   },
   {
    "duration": 33,
    "start_time": "2022-01-21T23:20:54.813Z"
   },
   {
    "duration": 334,
    "start_time": "2022-01-21T23:20:54.848Z"
   },
   {
    "duration": 286,
    "start_time": "2022-01-21T23:20:55.184Z"
   },
   {
    "duration": 343,
    "start_time": "2022-01-21T23:20:55.472Z"
   },
   {
    "duration": 7,
    "start_time": "2022-01-21T23:20:55.822Z"
   },
   {
    "duration": 371,
    "start_time": "2022-01-21T23:20:55.831Z"
   },
   {
    "duration": 4,
    "start_time": "2022-01-21T23:20:56.204Z"
   },
   {
    "duration": 33,
    "start_time": "2022-01-21T23:20:56.211Z"
   },
   {
    "duration": 1378,
    "start_time": "2022-01-21T23:20:56.247Z"
   },
   {
    "duration": 11,
    "start_time": "2022-01-21T23:20:57.628Z"
   },
   {
    "duration": 93,
    "start_time": "2022-01-21T23:20:57.642Z"
   },
   {
    "duration": 5,
    "start_time": "2022-01-21T23:28:03.753Z"
   },
   {
    "duration": 5,
    "start_time": "2022-01-21T23:28:08.188Z"
   },
   {
    "duration": 8,
    "start_time": "2022-01-21T23:28:19.291Z"
   },
   {
    "duration": 8,
    "start_time": "2022-01-21T23:28:27.164Z"
   },
   {
    "duration": 14,
    "start_time": "2022-01-21T23:29:55.558Z"
   },
   {
    "duration": 13,
    "start_time": "2022-01-21T23:32:00.273Z"
   },
   {
    "duration": 11,
    "start_time": "2022-01-21T23:32:06.733Z"
   },
   {
    "duration": 12,
    "start_time": "2022-01-21T23:32:19.061Z"
   },
   {
    "duration": 14,
    "start_time": "2022-01-21T23:32:24.641Z"
   },
   {
    "duration": 4,
    "start_time": "2022-01-21T23:32:31.866Z"
   },
   {
    "duration": 5,
    "start_time": "2022-01-21T23:32:37.352Z"
   },
   {
    "duration": 6,
    "start_time": "2022-01-21T23:34:08.212Z"
   },
   {
    "duration": 4,
    "start_time": "2022-01-21T23:45:27.278Z"
   },
   {
    "duration": 9,
    "start_time": "2022-01-21T23:45:52.590Z"
   },
   {
    "duration": 14,
    "start_time": "2022-01-21T23:45:54.853Z"
   },
   {
    "duration": 478,
    "start_time": "2022-01-21T23:45:58.098Z"
   },
   {
    "duration": 106,
    "start_time": "2022-01-21T23:49:33.165Z"
   },
   {
    "duration": 337,
    "start_time": "2022-01-21T23:49:39.697Z"
   },
   {
    "duration": 1378,
    "start_time": "2022-01-21T23:51:04.545Z"
   },
   {
    "duration": 1146,
    "start_time": "2022-01-21T23:51:05.926Z"
   },
   {
    "duration": 38,
    "start_time": "2022-01-21T23:51:07.076Z"
   },
   {
    "duration": 36,
    "start_time": "2022-01-21T23:51:07.124Z"
   },
   {
    "duration": 66,
    "start_time": "2022-01-21T23:51:07.162Z"
   },
   {
    "duration": 22,
    "start_time": "2022-01-21T23:51:07.231Z"
   },
   {
    "duration": 24,
    "start_time": "2022-01-21T23:51:07.255Z"
   },
   {
    "duration": 66,
    "start_time": "2022-01-21T23:51:07.284Z"
   },
   {
    "duration": 14,
    "start_time": "2022-01-21T23:51:07.353Z"
   },
   {
    "duration": 15,
    "start_time": "2022-01-21T23:51:07.369Z"
   },
   {
    "duration": 62,
    "start_time": "2022-01-21T23:51:07.386Z"
   },
   {
    "duration": 10,
    "start_time": "2022-01-21T23:51:07.450Z"
   },
   {
    "duration": 3,
    "start_time": "2022-01-21T23:51:07.462Z"
   },
   {
    "duration": 772,
    "start_time": "2022-01-21T23:51:07.467Z"
   },
   {
    "duration": 6,
    "start_time": "2022-01-21T23:51:08.241Z"
   },
   {
    "duration": 5844,
    "start_time": "2022-01-21T23:51:08.249Z"
   },
   {
    "duration": 6,
    "start_time": "2022-01-21T23:51:14.095Z"
   },
   {
    "duration": 21,
    "start_time": "2022-01-21T23:51:14.104Z"
   },
   {
    "duration": 6,
    "start_time": "2022-01-21T23:51:14.127Z"
   },
   {
    "duration": 5685,
    "start_time": "2022-01-21T23:51:14.135Z"
   },
   {
    "duration": 9,
    "start_time": "2022-01-21T23:51:19.824Z"
   },
   {
    "duration": 9,
    "start_time": "2022-01-21T23:51:19.836Z"
   },
   {
    "duration": 4,
    "start_time": "2022-01-21T23:51:19.851Z"
   },
   {
    "duration": 13,
    "start_time": "2022-01-21T23:51:19.858Z"
   },
   {
    "duration": 5,
    "start_time": "2022-01-21T23:51:19.873Z"
   },
   {
    "duration": 4,
    "start_time": "2022-01-21T23:51:19.924Z"
   },
   {
    "duration": 8,
    "start_time": "2022-01-21T23:51:19.930Z"
   },
   {
    "duration": 20,
    "start_time": "2022-01-21T23:51:19.940Z"
   },
   {
    "duration": 10,
    "start_time": "2022-01-21T23:51:19.962Z"
   },
   {
    "duration": 59,
    "start_time": "2022-01-21T23:51:19.975Z"
   },
   {
    "duration": 33,
    "start_time": "2022-01-21T23:51:20.036Z"
   },
   {
    "duration": 56,
    "start_time": "2022-01-21T23:51:20.071Z"
   },
   {
    "duration": 12,
    "start_time": "2022-01-21T23:51:20.129Z"
   },
   {
    "duration": 16,
    "start_time": "2022-01-21T23:51:20.143Z"
   },
   {
    "duration": 63,
    "start_time": "2022-01-21T23:51:20.161Z"
   },
   {
    "duration": 9,
    "start_time": "2022-01-21T23:51:20.227Z"
   },
   {
    "duration": 22,
    "start_time": "2022-01-21T23:51:20.238Z"
   },
   {
    "duration": 10,
    "start_time": "2022-01-21T23:51:20.262Z"
   },
   {
    "duration": 75,
    "start_time": "2022-01-21T23:51:20.275Z"
   },
   {
    "duration": 13,
    "start_time": "2022-01-21T23:51:20.352Z"
   },
   {
    "duration": 586,
    "start_time": "2022-01-21T23:51:20.368Z"
   },
   {
    "duration": 506,
    "start_time": "2022-01-21T23:51:20.957Z"
   },
   {
    "duration": 510,
    "start_time": "2022-01-21T23:51:21.465Z"
   },
   {
    "duration": 764,
    "start_time": "2022-01-21T23:51:21.978Z"
   },
   {
    "duration": 697,
    "start_time": "2022-01-21T23:51:22.744Z"
   },
   {
    "duration": 566,
    "start_time": "2022-01-21T23:51:23.443Z"
   },
   {
    "duration": 557,
    "start_time": "2022-01-21T23:51:24.011Z"
   },
   {
    "duration": 536,
    "start_time": "2022-01-21T23:51:24.570Z"
   },
   {
    "duration": 318,
    "start_time": "2022-01-21T23:51:25.108Z"
   },
   {
    "duration": 29,
    "start_time": "2022-01-21T23:51:25.429Z"
   },
   {
    "duration": 337,
    "start_time": "2022-01-21T23:51:25.461Z"
   },
   {
    "duration": 273,
    "start_time": "2022-01-21T23:51:25.801Z"
   },
   {
    "duration": 348,
    "start_time": "2022-01-21T23:51:26.077Z"
   },
   {
    "duration": 7,
    "start_time": "2022-01-21T23:51:26.429Z"
   },
   {
    "duration": 363,
    "start_time": "2022-01-21T23:51:26.438Z"
   },
   {
    "duration": 4,
    "start_time": "2022-01-21T23:51:26.803Z"
   },
   {
    "duration": 31,
    "start_time": "2022-01-21T23:51:26.809Z"
   },
   {
    "duration": 1080,
    "start_time": "2022-01-21T23:51:26.842Z"
   },
   {
    "duration": 99,
    "start_time": "2022-01-21T23:51:27.925Z"
   },
   {
    "duration": 12,
    "start_time": "2022-01-21T23:51:28.027Z"
   },
   {
    "duration": 786,
    "start_time": "2022-01-21T23:51:28.125Z"
   },
   {
    "duration": -88,
    "start_time": "2022-01-21T23:51:29.001Z"
   },
   {
    "duration": 571,
    "start_time": "2022-01-21T23:51:54.759Z"
   },
   {
    "duration": 594,
    "start_time": "2022-01-21T23:52:17.193Z"
   },
   {
    "duration": 4,
    "start_time": "2022-01-21T23:52:33.458Z"
   },
   {
    "duration": 22,
    "start_time": "2022-01-21T23:52:35.593Z"
   },
   {
    "duration": 1040,
    "start_time": "2022-01-21T23:52:35.990Z"
   },
   {
    "duration": 91,
    "start_time": "2022-01-21T23:52:37.034Z"
   },
   {
    "duration": 8,
    "start_time": "2022-01-21T23:52:37.128Z"
   },
   {
    "duration": 115,
    "start_time": "2022-01-21T23:52:37.222Z"
   },
   {
    "duration": 297516,
    "start_time": "2022-01-21T23:52:41.531Z"
   },
   {
    "duration": 293,
    "start_time": "2022-01-21T23:59:25.509Z"
   },
   {
    "duration": 5,
    "start_time": "2022-01-22T00:00:00.262Z"
   },
   {
    "duration": 40016,
    "start_time": "2022-01-22T00:03:25.798Z"
   },
   {
    "duration": 40887,
    "start_time": "2022-01-22T00:04:22.571Z"
   },
   {
    "duration": 70,
    "start_time": "2022-01-22T00:08:20.465Z"
   },
   {
    "duration": 66,
    "start_time": "2022-01-22T00:08:50.573Z"
   },
   {
    "duration": 1353,
    "start_time": "2022-01-22T00:39:37.074Z"
   },
   {
    "duration": 1074,
    "start_time": "2022-01-22T00:39:38.431Z"
   },
   {
    "duration": 25,
    "start_time": "2022-01-22T00:39:39.508Z"
   },
   {
    "duration": 36,
    "start_time": "2022-01-22T00:39:39.536Z"
   },
   {
    "duration": 65,
    "start_time": "2022-01-22T00:39:39.574Z"
   },
   {
    "duration": 19,
    "start_time": "2022-01-22T00:39:39.642Z"
   },
   {
    "duration": 22,
    "start_time": "2022-01-22T00:39:39.663Z"
   },
   {
    "duration": 59,
    "start_time": "2022-01-22T00:39:39.687Z"
   },
   {
    "duration": 12,
    "start_time": "2022-01-22T00:39:39.750Z"
   },
   {
    "duration": 15,
    "start_time": "2022-01-22T00:39:39.766Z"
   },
   {
    "duration": 64,
    "start_time": "2022-01-22T00:39:39.783Z"
   },
   {
    "duration": 9,
    "start_time": "2022-01-22T00:39:39.850Z"
   },
   {
    "duration": 3,
    "start_time": "2022-01-22T00:39:39.861Z"
   },
   {
    "duration": 824,
    "start_time": "2022-01-22T00:39:39.866Z"
   },
   {
    "duration": 5,
    "start_time": "2022-01-22T00:39:40.692Z"
   },
   {
    "duration": 5702,
    "start_time": "2022-01-22T00:39:40.699Z"
   },
   {
    "duration": 18,
    "start_time": "2022-01-22T00:39:46.404Z"
   },
   {
    "duration": 5,
    "start_time": "2022-01-22T00:39:46.424Z"
   },
   {
    "duration": 5,
    "start_time": "2022-01-22T00:39:46.431Z"
   },
   {
    "duration": 5611,
    "start_time": "2022-01-22T00:39:46.439Z"
   },
   {
    "duration": 10,
    "start_time": "2022-01-22T00:39:52.052Z"
   },
   {
    "duration": 9,
    "start_time": "2022-01-22T00:39:52.065Z"
   },
   {
    "duration": 5,
    "start_time": "2022-01-22T00:39:52.076Z"
   },
   {
    "duration": 46,
    "start_time": "2022-01-22T00:39:52.084Z"
   },
   {
    "duration": 5,
    "start_time": "2022-01-22T00:39:52.133Z"
   },
   {
    "duration": 6,
    "start_time": "2022-01-22T00:39:52.140Z"
   },
   {
    "duration": 7,
    "start_time": "2022-01-22T00:39:52.151Z"
   },
   {
    "duration": 19,
    "start_time": "2022-01-22T00:39:52.161Z"
   },
   {
    "duration": 11,
    "start_time": "2022-01-22T00:39:52.224Z"
   },
   {
    "duration": 22,
    "start_time": "2022-01-22T00:39:52.238Z"
   },
   {
    "duration": 62,
    "start_time": "2022-01-22T00:39:52.263Z"
   },
   {
    "duration": 33,
    "start_time": "2022-01-22T00:39:52.327Z"
   },
   {
    "duration": 10,
    "start_time": "2022-01-22T00:39:52.363Z"
   },
   {
    "duration": 47,
    "start_time": "2022-01-22T00:39:52.376Z"
   },
   {
    "duration": 29,
    "start_time": "2022-01-22T00:39:52.425Z"
   },
   {
    "duration": 9,
    "start_time": "2022-01-22T00:39:52.456Z"
   },
   {
    "duration": 19,
    "start_time": "2022-01-22T00:39:52.467Z"
   },
   {
    "duration": 9,
    "start_time": "2022-01-22T00:39:52.523Z"
   },
   {
    "duration": 30,
    "start_time": "2022-01-22T00:39:52.535Z"
   },
   {
    "duration": 13,
    "start_time": "2022-01-22T00:39:52.568Z"
   },
   {
    "duration": 570,
    "start_time": "2022-01-22T00:39:52.583Z"
   },
   {
    "duration": 470,
    "start_time": "2022-01-22T00:39:53.156Z"
   },
   {
    "duration": 485,
    "start_time": "2022-01-22T00:39:53.629Z"
   },
   {
    "duration": 744,
    "start_time": "2022-01-22T00:39:54.116Z"
   },
   {
    "duration": 655,
    "start_time": "2022-01-22T00:39:54.863Z"
   },
   {
    "duration": 565,
    "start_time": "2022-01-22T00:39:55.521Z"
   },
   {
    "duration": 546,
    "start_time": "2022-01-22T00:39:56.089Z"
   },
   {
    "duration": 530,
    "start_time": "2022-01-22T00:39:56.637Z"
   },
   {
    "duration": 319,
    "start_time": "2022-01-22T00:39:57.169Z"
   },
   {
    "duration": 40,
    "start_time": "2022-01-22T00:39:57.491Z"
   },
   {
    "duration": 324,
    "start_time": "2022-01-22T00:39:57.533Z"
   },
   {
    "duration": 268,
    "start_time": "2022-01-22T00:39:57.859Z"
   },
   {
    "duration": 351,
    "start_time": "2022-01-22T00:39:58.129Z"
   },
   {
    "duration": 6,
    "start_time": "2022-01-22T00:39:58.482Z"
   },
   {
    "duration": 348,
    "start_time": "2022-01-22T00:39:58.491Z"
   },
   {
    "duration": 5,
    "start_time": "2022-01-22T00:39:58.841Z"
   },
   {
    "duration": 24,
    "start_time": "2022-01-22T00:39:58.848Z"
   },
   {
    "duration": 955,
    "start_time": "2022-01-22T00:39:58.875Z"
   },
   {
    "duration": 93,
    "start_time": "2022-01-22T00:39:59.833Z"
   },
   {
    "duration": 8,
    "start_time": "2022-01-22T00:39:59.929Z"
   },
   {
    "duration": 105,
    "start_time": "2022-01-22T00:40:00.026Z"
   },
   {
    "duration": 40671,
    "start_time": "2022-01-22T00:40:00.134Z"
   },
   {
    "duration": 78,
    "start_time": "2022-01-22T00:40:40.807Z"
   },
   {
    "duration": 1182,
    "start_time": "2022-01-22T17:52:56.704Z"
   },
   {
    "duration": 6927,
    "start_time": "2022-01-22T17:52:57.888Z"
   },
   {
    "duration": 19,
    "start_time": "2022-01-22T17:53:04.817Z"
   },
   {
    "duration": 24,
    "start_time": "2022-01-22T17:53:04.838Z"
   },
   {
    "duration": 29,
    "start_time": "2022-01-22T17:53:04.864Z"
   },
   {
    "duration": 21,
    "start_time": "2022-01-22T17:53:04.895Z"
   },
   {
    "duration": 27,
    "start_time": "2022-01-22T17:53:04.917Z"
   },
   {
    "duration": 20,
    "start_time": "2022-01-22T17:53:04.946Z"
   },
   {
    "duration": 14,
    "start_time": "2022-01-22T17:53:04.968Z"
   },
   {
    "duration": 9,
    "start_time": "2022-01-22T17:53:04.985Z"
   },
   {
    "duration": 21,
    "start_time": "2022-01-22T17:53:04.995Z"
   },
   {
    "duration": 7,
    "start_time": "2022-01-22T17:53:05.042Z"
   },
   {
    "duration": 5,
    "start_time": "2022-01-22T17:53:05.051Z"
   },
   {
    "duration": 487,
    "start_time": "2022-01-22T17:53:05.058Z"
   },
   {
    "duration": 3,
    "start_time": "2022-01-22T17:53:05.547Z"
   },
   {
    "duration": 3361,
    "start_time": "2022-01-22T17:53:05.552Z"
   },
   {
    "duration": 5,
    "start_time": "2022-01-22T17:53:08.915Z"
   },
   {
    "duration": 20,
    "start_time": "2022-01-22T17:53:08.921Z"
   },
   {
    "duration": 18,
    "start_time": "2022-01-22T17:53:08.943Z"
   },
   {
    "duration": 2889,
    "start_time": "2022-01-22T17:53:08.963Z"
   },
   {
    "duration": 7,
    "start_time": "2022-01-22T17:53:11.854Z"
   },
   {
    "duration": 18,
    "start_time": "2022-01-22T17:53:11.863Z"
   },
   {
    "duration": 12,
    "start_time": "2022-01-22T17:53:11.882Z"
   },
   {
    "duration": 19,
    "start_time": "2022-01-22T17:53:11.895Z"
   },
   {
    "duration": 20,
    "start_time": "2022-01-22T17:53:11.916Z"
   },
   {
    "duration": 12,
    "start_time": "2022-01-22T17:53:11.937Z"
   },
   {
    "duration": 16,
    "start_time": "2022-01-22T17:53:11.952Z"
   },
   {
    "duration": 33,
    "start_time": "2022-01-22T17:53:11.970Z"
   },
   {
    "duration": 28,
    "start_time": "2022-01-22T17:53:12.005Z"
   },
   {
    "duration": 33,
    "start_time": "2022-01-22T17:53:12.034Z"
   },
   {
    "duration": 21,
    "start_time": "2022-01-22T17:53:12.069Z"
   },
   {
    "duration": 32,
    "start_time": "2022-01-22T17:53:12.092Z"
   },
   {
    "duration": 30,
    "start_time": "2022-01-22T17:53:12.126Z"
   },
   {
    "duration": 17,
    "start_time": "2022-01-22T17:53:12.158Z"
   },
   {
    "duration": 39,
    "start_time": "2022-01-22T17:53:12.176Z"
   },
   {
    "duration": 6,
    "start_time": "2022-01-22T17:53:12.217Z"
   },
   {
    "duration": 30,
    "start_time": "2022-01-22T17:53:12.225Z"
   },
   {
    "duration": 18,
    "start_time": "2022-01-22T17:53:12.256Z"
   },
   {
    "duration": 26,
    "start_time": "2022-01-22T17:53:12.276Z"
   },
   {
    "duration": 19,
    "start_time": "2022-01-22T17:53:12.304Z"
   },
   {
    "duration": 349,
    "start_time": "2022-01-22T17:53:12.325Z"
   },
   {
    "duration": 303,
    "start_time": "2022-01-22T17:53:12.676Z"
   },
   {
    "duration": 309,
    "start_time": "2022-01-22T17:53:12.981Z"
   },
   {
    "duration": 492,
    "start_time": "2022-01-22T17:53:13.291Z"
   },
   {
    "duration": 411,
    "start_time": "2022-01-22T17:53:13.785Z"
   },
   {
    "duration": 354,
    "start_time": "2022-01-22T17:53:14.198Z"
   },
   {
    "duration": 356,
    "start_time": "2022-01-22T17:53:14.553Z"
   },
   {
    "duration": 356,
    "start_time": "2022-01-22T17:53:14.910Z"
   },
   {
    "duration": 208,
    "start_time": "2022-01-22T17:53:15.267Z"
   },
   {
    "duration": 19,
    "start_time": "2022-01-22T17:53:15.477Z"
   },
   {
    "duration": 211,
    "start_time": "2022-01-22T17:53:15.498Z"
   },
   {
    "duration": 181,
    "start_time": "2022-01-22T17:53:15.711Z"
   },
   {
    "duration": 209,
    "start_time": "2022-01-22T17:53:15.893Z"
   },
   {
    "duration": 4,
    "start_time": "2022-01-22T17:53:16.104Z"
   },
   {
    "duration": 211,
    "start_time": "2022-01-22T17:53:16.110Z"
   },
   {
    "duration": 3,
    "start_time": "2022-01-22T17:53:16.323Z"
   },
   {
    "duration": 25,
    "start_time": "2022-01-22T17:53:16.327Z"
   },
   {
    "duration": 894,
    "start_time": "2022-01-22T17:53:16.354Z"
   },
   {
    "duration": 97,
    "start_time": "2022-01-22T17:53:17.250Z"
   },
   {
    "duration": 93,
    "start_time": "2022-01-22T17:53:17.349Z"
   },
   {
    "duration": 101,
    "start_time": "2022-01-22T17:53:17.444Z"
   },
   {
    "duration": 34146,
    "start_time": "2022-01-22T17:53:17.547Z"
   },
   {
    "duration": 64,
    "start_time": "2022-01-22T17:53:51.695Z"
   },
   {
    "duration": 3,
    "start_time": "2022-01-22T23:05:41.118Z"
   },
   {
    "duration": 994,
    "start_time": "2022-01-22T23:05:41.123Z"
   },
   {
    "duration": 18,
    "start_time": "2022-01-22T23:05:42.120Z"
   },
   {
    "duration": 22,
    "start_time": "2022-01-22T23:05:42.140Z"
   },
   {
    "duration": 28,
    "start_time": "2022-01-22T23:05:42.164Z"
   },
   {
    "duration": 12,
    "start_time": "2022-01-22T23:05:42.194Z"
   },
   {
    "duration": 44,
    "start_time": "2022-01-22T23:05:42.208Z"
   },
   {
    "duration": 19,
    "start_time": "2022-01-22T23:05:42.254Z"
   },
   {
    "duration": 10,
    "start_time": "2022-01-22T23:05:42.277Z"
   },
   {
    "duration": 10,
    "start_time": "2022-01-22T23:05:42.289Z"
   },
   {
    "duration": 50,
    "start_time": "2022-01-22T23:05:42.301Z"
   },
   {
    "duration": 7,
    "start_time": "2022-01-22T23:05:42.353Z"
   },
   {
    "duration": 2,
    "start_time": "2022-01-22T23:05:42.362Z"
   },
   {
    "duration": 469,
    "start_time": "2022-01-22T23:05:42.366Z"
   },
   {
    "duration": 3,
    "start_time": "2022-01-22T23:05:42.841Z"
   },
   {
    "duration": 2955,
    "start_time": "2022-01-22T23:05:42.846Z"
   },
   {
    "duration": 4,
    "start_time": "2022-01-22T23:05:45.803Z"
   },
   {
    "duration": 15,
    "start_time": "2022-01-22T23:05:45.808Z"
   },
   {
    "duration": 19,
    "start_time": "2022-01-22T23:05:45.825Z"
   },
   {
    "duration": 2859,
    "start_time": "2022-01-22T23:05:45.845Z"
   },
   {
    "duration": 11,
    "start_time": "2022-01-22T23:05:48.706Z"
   },
   {
    "duration": 7,
    "start_time": "2022-01-22T23:05:48.719Z"
   },
   {
    "duration": 15,
    "start_time": "2022-01-22T23:05:48.727Z"
   },
   {
    "duration": 9,
    "start_time": "2022-01-22T23:05:48.743Z"
   },
   {
    "duration": 4,
    "start_time": "2022-01-22T23:05:48.754Z"
   },
   {
    "duration": 4,
    "start_time": "2022-01-22T23:05:48.760Z"
   },
   {
    "duration": 10,
    "start_time": "2022-01-22T23:05:48.767Z"
   },
   {
    "duration": 17,
    "start_time": "2022-01-22T23:05:48.779Z"
   },
   {
    "duration": 9,
    "start_time": "2022-01-22T23:05:48.798Z"
   },
   {
    "duration": 18,
    "start_time": "2022-01-22T23:05:48.841Z"
   },
   {
    "duration": 21,
    "start_time": "2022-01-22T23:05:48.861Z"
   },
   {
    "duration": 20,
    "start_time": "2022-01-22T23:05:48.884Z"
   },
   {
    "duration": 36,
    "start_time": "2022-01-22T23:05:48.906Z"
   },
   {
    "duration": 11,
    "start_time": "2022-01-22T23:05:48.944Z"
   },
   {
    "duration": 24,
    "start_time": "2022-01-22T23:05:48.957Z"
   },
   {
    "duration": 7,
    "start_time": "2022-01-22T23:05:48.983Z"
   },
   {
    "duration": 13,
    "start_time": "2022-01-22T23:05:48.992Z"
   },
   {
    "duration": 8,
    "start_time": "2022-01-22T23:05:49.042Z"
   },
   {
    "duration": 24,
    "start_time": "2022-01-22T23:05:49.052Z"
   },
   {
    "duration": 10,
    "start_time": "2022-01-22T23:05:49.078Z"
   },
   {
    "duration": 379,
    "start_time": "2022-01-22T23:05:49.090Z"
   },
   {
    "duration": 313,
    "start_time": "2022-01-22T23:05:49.471Z"
   },
   {
    "duration": 309,
    "start_time": "2022-01-22T23:05:49.786Z"
   },
   {
    "duration": 495,
    "start_time": "2022-01-22T23:05:50.097Z"
   },
   {
    "duration": 407,
    "start_time": "2022-01-22T23:05:50.594Z"
   },
   {
    "duration": 351,
    "start_time": "2022-01-22T23:05:51.003Z"
   },
   {
    "duration": 351,
    "start_time": "2022-01-22T23:05:51.356Z"
   },
   {
    "duration": 361,
    "start_time": "2022-01-22T23:05:51.708Z"
   },
   {
    "duration": 209,
    "start_time": "2022-01-22T23:05:52.071Z"
   },
   {
    "duration": 20,
    "start_time": "2022-01-22T23:05:52.282Z"
   },
   {
    "duration": 203,
    "start_time": "2022-01-22T23:05:52.304Z"
   },
   {
    "duration": 169,
    "start_time": "2022-01-22T23:05:52.509Z"
   },
   {
    "duration": 212,
    "start_time": "2022-01-22T23:05:52.680Z"
   },
   {
    "duration": 6,
    "start_time": "2022-01-22T23:05:52.894Z"
   },
   {
    "duration": 223,
    "start_time": "2022-01-22T23:05:52.902Z"
   },
   {
    "duration": 4,
    "start_time": "2022-01-22T23:05:53.127Z"
   },
   {
    "duration": 27,
    "start_time": "2022-01-22T23:05:53.132Z"
   },
   {
    "duration": 795,
    "start_time": "2022-01-22T23:05:53.161Z"
   },
   {
    "duration": 99,
    "start_time": "2022-01-22T23:05:54.042Z"
   },
   {
    "duration": 8,
    "start_time": "2022-01-22T23:05:54.143Z"
   },
   {
    "duration": 96,
    "start_time": "2022-01-22T23:05:54.153Z"
   },
   {
    "duration": 94,
    "start_time": "2022-01-22T23:05:54.252Z"
   },
   {
    "duration": 401,
    "start_time": "2022-01-22T23:05:54.348Z"
   },
   {
    "duration": -63,
    "start_time": "2022-01-22T23:05:54.814Z"
   },
   {
    "duration": 94910,
    "start_time": "2022-01-22T23:08:36.857Z"
   },
   {
    "duration": 95334,
    "start_time": "2022-01-22T23:10:58.032Z"
   },
   {
    "duration": 2000,
    "start_time": "2022-01-22T23:18:04.273Z"
   },
   {
    "duration": 2006,
    "start_time": "2022-01-22T23:20:25.036Z"
   },
   {
    "duration": 1112,
    "start_time": "2022-01-22T23:21:22.353Z"
   },
   {
    "duration": 920,
    "start_time": "2022-01-22T23:21:23.467Z"
   },
   {
    "duration": 16,
    "start_time": "2022-01-22T23:21:24.389Z"
   },
   {
    "duration": 22,
    "start_time": "2022-01-22T23:21:24.406Z"
   },
   {
    "duration": 28,
    "start_time": "2022-01-22T23:21:24.441Z"
   },
   {
    "duration": 15,
    "start_time": "2022-01-22T23:21:24.471Z"
   },
   {
    "duration": 15,
    "start_time": "2022-01-22T23:21:24.488Z"
   },
   {
    "duration": 45,
    "start_time": "2022-01-22T23:21:24.506Z"
   },
   {
    "duration": 11,
    "start_time": "2022-01-22T23:21:24.553Z"
   },
   {
    "duration": 10,
    "start_time": "2022-01-22T23:21:24.565Z"
   },
   {
    "duration": 18,
    "start_time": "2022-01-22T23:21:24.577Z"
   },
   {
    "duration": 7,
    "start_time": "2022-01-22T23:21:24.597Z"
   },
   {
    "duration": 2,
    "start_time": "2022-01-22T23:21:24.606Z"
   },
   {
    "duration": 466,
    "start_time": "2022-01-22T23:21:24.641Z"
   },
   {
    "duration": 3,
    "start_time": "2022-01-22T23:21:25.109Z"
   },
   {
    "duration": 2920,
    "start_time": "2022-01-22T23:21:25.113Z"
   },
   {
    "duration": 9,
    "start_time": "2022-01-22T23:21:28.034Z"
   },
   {
    "duration": 6,
    "start_time": "2022-01-22T23:21:28.044Z"
   },
   {
    "duration": 3,
    "start_time": "2022-01-22T23:21:28.052Z"
   },
   {
    "duration": 2862,
    "start_time": "2022-01-22T23:21:28.056Z"
   },
   {
    "duration": 7,
    "start_time": "2022-01-22T23:21:30.920Z"
   },
   {
    "duration": 18,
    "start_time": "2022-01-22T23:21:30.929Z"
   },
   {
    "duration": 18,
    "start_time": "2022-01-22T23:21:30.951Z"
   },
   {
    "duration": 38,
    "start_time": "2022-01-22T23:21:30.971Z"
   },
   {
    "duration": 17,
    "start_time": "2022-01-22T23:21:31.011Z"
   },
   {
    "duration": 19,
    "start_time": "2022-01-22T23:21:31.029Z"
   },
   {
    "duration": 22,
    "start_time": "2022-01-22T23:21:31.050Z"
   },
   {
    "duration": 19,
    "start_time": "2022-01-22T23:21:31.074Z"
   },
   {
    "duration": 8,
    "start_time": "2022-01-22T23:21:31.094Z"
   },
   {
    "duration": 19,
    "start_time": "2022-01-22T23:21:31.103Z"
   },
   {
    "duration": 25,
    "start_time": "2022-01-22T23:21:31.123Z"
   },
   {
    "duration": 21,
    "start_time": "2022-01-22T23:21:31.149Z"
   },
   {
    "duration": 11,
    "start_time": "2022-01-22T23:21:31.171Z"
   },
   {
    "duration": 10,
    "start_time": "2022-01-22T23:21:31.183Z"
   },
   {
    "duration": 22,
    "start_time": "2022-01-22T23:21:31.195Z"
   },
   {
    "duration": 27,
    "start_time": "2022-01-22T23:21:31.218Z"
   },
   {
    "duration": 12,
    "start_time": "2022-01-22T23:21:31.247Z"
   },
   {
    "duration": 17,
    "start_time": "2022-01-22T23:21:31.260Z"
   },
   {
    "duration": 24,
    "start_time": "2022-01-22T23:21:31.278Z"
   },
   {
    "duration": 8,
    "start_time": "2022-01-22T23:21:31.304Z"
   },
   {
    "duration": 357,
    "start_time": "2022-01-22T23:21:31.313Z"
   },
   {
    "duration": 295,
    "start_time": "2022-01-22T23:21:31.671Z"
   },
   {
    "duration": 311,
    "start_time": "2022-01-22T23:21:31.968Z"
   },
   {
    "duration": 514,
    "start_time": "2022-01-22T23:21:32.281Z"
   },
   {
    "duration": 422,
    "start_time": "2022-01-22T23:21:32.797Z"
   },
   {
    "duration": 389,
    "start_time": "2022-01-22T23:21:33.221Z"
   },
   {
    "duration": 392,
    "start_time": "2022-01-22T23:21:33.611Z"
   },
   {
    "duration": 366,
    "start_time": "2022-01-22T23:21:34.005Z"
   },
   {
    "duration": 210,
    "start_time": "2022-01-22T23:21:34.373Z"
   },
   {
    "duration": 17,
    "start_time": "2022-01-22T23:21:34.585Z"
   },
   {
    "duration": 212,
    "start_time": "2022-01-22T23:21:34.604Z"
   },
   {
    "duration": 177,
    "start_time": "2022-01-22T23:21:34.817Z"
   },
   {
    "duration": 213,
    "start_time": "2022-01-22T23:21:34.996Z"
   },
   {
    "duration": 5,
    "start_time": "2022-01-22T23:21:35.211Z"
   },
   {
    "duration": 220,
    "start_time": "2022-01-22T23:21:35.217Z"
   },
   {
    "duration": 3,
    "start_time": "2022-01-22T23:21:35.439Z"
   },
   {
    "duration": 20,
    "start_time": "2022-01-22T23:21:35.444Z"
   },
   {
    "duration": 976,
    "start_time": "2022-01-22T23:21:35.466Z"
   },
   {
    "duration": 7,
    "start_time": "2022-01-22T23:21:36.444Z"
   },
   {
    "duration": 7,
    "start_time": "2022-01-22T23:21:36.453Z"
   },
   {
    "duration": 105,
    "start_time": "2022-01-22T23:21:36.541Z"
   },
   {
    "duration": 3,
    "start_time": "2022-01-22T23:21:36.647Z"
   },
   {
    "duration": 96810,
    "start_time": "2022-01-22T23:21:36.651Z"
   },
   {
    "duration": 2106,
    "start_time": "2022-01-22T23:23:13.463Z"
   }
  ],
  "kernelspec": {
   "display_name": "Python 3 (ipykernel)",
   "language": "python",
   "name": "python3"
  },
  "language_info": {
   "codemirror_mode": {
    "name": "ipython",
    "version": 3
   },
   "file_extension": ".py",
   "mimetype": "text/x-python",
   "name": "python",
   "nbconvert_exporter": "python",
   "pygments_lexer": "ipython3",
   "version": "3.9.5"
  },
  "toc": {
   "base_numbering": 1,
   "nav_menu": {},
   "number_sections": true,
   "sideBar": true,
   "skip_h1_title": true,
   "title_cell": "Table of Contents",
   "title_sidebar": "Contents",
   "toc_cell": false,
   "toc_position": {},
   "toc_section_display": true,
   "toc_window_display": false
  }
 },
 "nbformat": 4,
 "nbformat_minor": 2
}
