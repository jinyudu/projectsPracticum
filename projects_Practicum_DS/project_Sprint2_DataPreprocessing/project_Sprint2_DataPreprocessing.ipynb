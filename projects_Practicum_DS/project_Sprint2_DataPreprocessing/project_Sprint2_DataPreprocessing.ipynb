{
 "cells": [
  {
   "cell_type": "markdown",
   "metadata": {},
   "source": [
    "<div style=\"border:solid green 2px; padding: 20px\"> <h1 style=\"color:green; margin-bottom:20px\">Reviewer's comment v1</h1>\n",
    "\n",
    "Hello Jinyu, my name is Dmitrii. I'm going to review your project! Nice to meet you! 🙌\n",
    "\n",
    "You can find my comments under the heading **«Review»**. I will categorize my comments in green, blue or red boxes like this:\n",
    "\n",
    "<div class=\"alert alert-success\">\n",
    "    <b>Success:</b> if everything is done successfully\n",
    "</div>\n",
    "<div class=\"alert alert-warning\">\n",
    "    <b>Remarks:</b> if I can give some recommendations or ways to improve the project\n",
    "</div>\n",
    "<div class=\"alert alert-danger\">\n",
    "    <b>Needs fixing:</b> if the block requires some corrections. Work can't be accepted with the red comments\n",
    "</div>\n",
    "\n",
    "Please don't remove my comments :) If you have any questions don't hesitate to respond to my comments in a different section. \n",
    "<div class=\"alert alert-info\"> <b>Student comments:</b> For example like this</div>    \n"
   ]
  },
  {
   "cell_type": "markdown",
   "metadata": {},
   "source": [
    "<div style=\"border:solid green 2px; padding: 20px\">\n",
    "<b>Reviewer's comment v1:</b>\n",
    "    \n",
    "<b>Overall Feedback</b> \n",
    "    \n",
    "- Overall well done!  I can see that a lot of effort has been made! Your project already looks really good and you accomplished impressive results.\n",
    "- It is great that you can use different methods for data processing and apply them on real data and project tasks, keep it up!\n",
    "- No critical issues are left, so your project has been accepted. Congratulations! However, I want to send it back to you in case you have any questions along the way or you want to make additional changes to the project.\n",
    "\n",
    "   \n",
    "I will wait for you to send me a new version of the project with changes :) \n",
    " \n",
    "And of course, if you have any questions along the way, remember that you can always reach out to your tutor for any clarification.\n",
    "    \n",
    "</div>\n",
    "\n",
    "<div class=\"alert alert-info\"> <b>Student comments:</b> Hi, Dmitrii! Thank you very much for your feedback. They are really helpful!</div> "
   ]
  },
  {
   "cell_type": "markdown",
   "metadata": {},
   "source": [
    "<div style=\"border:solid green 2px; padding: 20px\">\n",
    "<b>Reviewer's comment v2:</b>\n",
    "    \n",
    "<b>Overall Feedback</b> \n",
    "\n",
    "Hi Jinyu, thank you for adding new things and leaving your comments/feedback in the project.\n",
    "As i mentioned before no critial issues left and everything is perfect. \n",
    "\n",
    "Please keep up the great work and good luck on the next project! :) \n",
    "    \n",
    "</div>"
   ]
  },
  {
   "cell_type": "markdown",
   "metadata": {},
   "source": [
    "# Analyzing borrowers’ risk of defaulting\n",
    "\n",
    "Your project is to prepare a report for a bank’s loan division. You’ll need to find out if a customer’s marital status and number of children has an impact on whether they will default on a loan. The bank already has some data on customers’ credit worthiness.\n",
    "\n",
    "Your report will be considered when building the **credit score** of a potential customer. The **credit score** is used to evaluate the ability of a potential borrower to repay their loan.\n",
    "\n",
    "The purposes and hypotheses of the project:\n",
    "1. Find out whether a customer's marital status impacts the loan default risk. My hypotheses for this is that a customer's marital status does impact the loan default risk. \n",
    "2. Find out whether the number of children a customer has impacts the loan default risk. My hypotheses for this is that the number of children a customer does impact the loan default risk. "
   ]
  },
  {
   "cell_type": "markdown",
   "metadata": {},
   "source": [
    "<div class=\"alert alert-success\" role=\"alert\">\n",
    "<b>Reviewer's comment v1:</b>\n",
    "\n",
    "Good start! We have a brief description and the main goal of the project.\n",
    "\n",
    "\n",
    "</div>"
   ]
  },
  {
   "cell_type": "markdown",
   "metadata": {},
   "source": [
    "## Open the data file and have a look at the general information. "
   ]
  },
  {
   "cell_type": "code",
   "execution_count": 1,
   "metadata": {},
   "outputs": [],
   "source": [
    "# Loading all the libraries\n",
    "import pandas as pd\n",
    "import numpy as np\n",
    "\n",
    "\n",
    "# Load the data\n",
    "credit_score_data = pd.read_csv('/datasets/credit_scoring_eng.csv')"
   ]
  },
  {
   "cell_type": "markdown",
   "metadata": {},
   "source": [
    "## Task 1. Data exploration\n",
    "\n",
    "**Description of the data**\n",
    "- `children` - the number of children in the family\n",
    "- `days_employed` - work experience in days\n",
    "- `dob_years` - client's age in years\n",
    "- `education` - client's education\n",
    "- `education_id` - education identifier\n",
    "- `family_status` - marital status\n",
    "- `family_status_id` - marital status identifier\n",
    "- `gender` - gender of the client\n",
    "- `income_type` - type of employment\n",
    "- `debt` - was there any debt on loan repayment\n",
    "- `total_income` - monthly income\n",
    "- `purpose` - the purpose of obtaining a loan\n",
    "\n",
    "Now let's explore our data. First we want to see how many columns and rows it has."
   ]
  },
  {
   "cell_type": "code",
   "execution_count": 2,
   "metadata": {
    "scrolled": true
   },
   "outputs": [
    {
     "name": "stdout",
     "output_type": "stream",
     "text": [
      "(21525, 12)\n",
      "<class 'pandas.core.frame.DataFrame'>\n",
      "RangeIndex: 21525 entries, 0 to 21524\n",
      "Data columns (total 12 columns):\n",
      "children            21525 non-null int64\n",
      "days_employed       19351 non-null float64\n",
      "dob_years           21525 non-null int64\n",
      "education           21525 non-null object\n",
      "education_id        21525 non-null int64\n",
      "family_status       21525 non-null object\n",
      "family_status_id    21525 non-null int64\n",
      "gender              21525 non-null object\n",
      "income_type         21525 non-null object\n",
      "debt                21525 non-null int64\n",
      "total_income        19351 non-null float64\n",
      "purpose             21525 non-null object\n",
      "dtypes: float64(2), int64(5), object(5)\n",
      "memory usage: 2.0+ MB\n"
     ]
    }
   ],
   "source": [
    "# Let's see how many rows and columns our dataset has \n",
    "print(credit_score_data.shape)\n",
    "# and the general information about the data set\n",
    "credit_score_data.info()"
   ]
  },
  {
   "cell_type": "markdown",
   "metadata": {},
   "source": [
    "It shows that the data set has 21525 rows and 12 columns. The columns have different types such as int, float and object. Next, we will look at the first 10 rows to check for potential issues with the data."
   ]
  },
  {
   "cell_type": "code",
   "execution_count": 3,
   "metadata": {},
   "outputs": [
    {
     "data": {
      "text/html": [
       "<div>\n",
       "<style scoped>\n",
       "    .dataframe tbody tr th:only-of-type {\n",
       "        vertical-align: middle;\n",
       "    }\n",
       "\n",
       "    .dataframe tbody tr th {\n",
       "        vertical-align: top;\n",
       "    }\n",
       "\n",
       "    .dataframe thead th {\n",
       "        text-align: right;\n",
       "    }\n",
       "</style>\n",
       "<table border=\"1\" class=\"dataframe\">\n",
       "  <thead>\n",
       "    <tr style=\"text-align: right;\">\n",
       "      <th></th>\n",
       "      <th>children</th>\n",
       "      <th>days_employed</th>\n",
       "      <th>dob_years</th>\n",
       "      <th>education</th>\n",
       "      <th>education_id</th>\n",
       "      <th>family_status</th>\n",
       "      <th>family_status_id</th>\n",
       "      <th>gender</th>\n",
       "      <th>income_type</th>\n",
       "      <th>debt</th>\n",
       "      <th>total_income</th>\n",
       "      <th>purpose</th>\n",
       "    </tr>\n",
       "  </thead>\n",
       "  <tbody>\n",
       "    <tr>\n",
       "      <td>0</td>\n",
       "      <td>1</td>\n",
       "      <td>-8437.673028</td>\n",
       "      <td>42</td>\n",
       "      <td>bachelor's degree</td>\n",
       "      <td>0</td>\n",
       "      <td>married</td>\n",
       "      <td>0</td>\n",
       "      <td>F</td>\n",
       "      <td>employee</td>\n",
       "      <td>0</td>\n",
       "      <td>40620.102</td>\n",
       "      <td>purchase of the house</td>\n",
       "    </tr>\n",
       "    <tr>\n",
       "      <td>1</td>\n",
       "      <td>1</td>\n",
       "      <td>-4024.803754</td>\n",
       "      <td>36</td>\n",
       "      <td>secondary education</td>\n",
       "      <td>1</td>\n",
       "      <td>married</td>\n",
       "      <td>0</td>\n",
       "      <td>F</td>\n",
       "      <td>employee</td>\n",
       "      <td>0</td>\n",
       "      <td>17932.802</td>\n",
       "      <td>car purchase</td>\n",
       "    </tr>\n",
       "    <tr>\n",
       "      <td>2</td>\n",
       "      <td>0</td>\n",
       "      <td>-5623.422610</td>\n",
       "      <td>33</td>\n",
       "      <td>Secondary Education</td>\n",
       "      <td>1</td>\n",
       "      <td>married</td>\n",
       "      <td>0</td>\n",
       "      <td>M</td>\n",
       "      <td>employee</td>\n",
       "      <td>0</td>\n",
       "      <td>23341.752</td>\n",
       "      <td>purchase of the house</td>\n",
       "    </tr>\n",
       "    <tr>\n",
       "      <td>3</td>\n",
       "      <td>3</td>\n",
       "      <td>-4124.747207</td>\n",
       "      <td>32</td>\n",
       "      <td>secondary education</td>\n",
       "      <td>1</td>\n",
       "      <td>married</td>\n",
       "      <td>0</td>\n",
       "      <td>M</td>\n",
       "      <td>employee</td>\n",
       "      <td>0</td>\n",
       "      <td>42820.568</td>\n",
       "      <td>supplementary education</td>\n",
       "    </tr>\n",
       "    <tr>\n",
       "      <td>4</td>\n",
       "      <td>0</td>\n",
       "      <td>340266.072047</td>\n",
       "      <td>53</td>\n",
       "      <td>secondary education</td>\n",
       "      <td>1</td>\n",
       "      <td>civil partnership</td>\n",
       "      <td>1</td>\n",
       "      <td>F</td>\n",
       "      <td>retiree</td>\n",
       "      <td>0</td>\n",
       "      <td>25378.572</td>\n",
       "      <td>to have a wedding</td>\n",
       "    </tr>\n",
       "    <tr>\n",
       "      <td>5</td>\n",
       "      <td>0</td>\n",
       "      <td>-926.185831</td>\n",
       "      <td>27</td>\n",
       "      <td>bachelor's degree</td>\n",
       "      <td>0</td>\n",
       "      <td>civil partnership</td>\n",
       "      <td>1</td>\n",
       "      <td>M</td>\n",
       "      <td>business</td>\n",
       "      <td>0</td>\n",
       "      <td>40922.170</td>\n",
       "      <td>purchase of the house</td>\n",
       "    </tr>\n",
       "    <tr>\n",
       "      <td>6</td>\n",
       "      <td>0</td>\n",
       "      <td>-2879.202052</td>\n",
       "      <td>43</td>\n",
       "      <td>bachelor's degree</td>\n",
       "      <td>0</td>\n",
       "      <td>married</td>\n",
       "      <td>0</td>\n",
       "      <td>F</td>\n",
       "      <td>business</td>\n",
       "      <td>0</td>\n",
       "      <td>38484.156</td>\n",
       "      <td>housing transactions</td>\n",
       "    </tr>\n",
       "    <tr>\n",
       "      <td>7</td>\n",
       "      <td>0</td>\n",
       "      <td>-152.779569</td>\n",
       "      <td>50</td>\n",
       "      <td>SECONDARY EDUCATION</td>\n",
       "      <td>1</td>\n",
       "      <td>married</td>\n",
       "      <td>0</td>\n",
       "      <td>M</td>\n",
       "      <td>employee</td>\n",
       "      <td>0</td>\n",
       "      <td>21731.829</td>\n",
       "      <td>education</td>\n",
       "    </tr>\n",
       "    <tr>\n",
       "      <td>8</td>\n",
       "      <td>2</td>\n",
       "      <td>-6929.865299</td>\n",
       "      <td>35</td>\n",
       "      <td>BACHELOR'S DEGREE</td>\n",
       "      <td>0</td>\n",
       "      <td>civil partnership</td>\n",
       "      <td>1</td>\n",
       "      <td>F</td>\n",
       "      <td>employee</td>\n",
       "      <td>0</td>\n",
       "      <td>15337.093</td>\n",
       "      <td>having a wedding</td>\n",
       "    </tr>\n",
       "    <tr>\n",
       "      <td>9</td>\n",
       "      <td>0</td>\n",
       "      <td>-2188.756445</td>\n",
       "      <td>41</td>\n",
       "      <td>secondary education</td>\n",
       "      <td>1</td>\n",
       "      <td>married</td>\n",
       "      <td>0</td>\n",
       "      <td>M</td>\n",
       "      <td>employee</td>\n",
       "      <td>0</td>\n",
       "      <td>23108.150</td>\n",
       "      <td>purchase of the house for my family</td>\n",
       "    </tr>\n",
       "  </tbody>\n",
       "</table>\n",
       "</div>"
      ],
      "text/plain": [
       "   children  days_employed  dob_years            education  education_id  \\\n",
       "0         1   -8437.673028         42    bachelor's degree             0   \n",
       "1         1   -4024.803754         36  secondary education             1   \n",
       "2         0   -5623.422610         33  Secondary Education             1   \n",
       "3         3   -4124.747207         32  secondary education             1   \n",
       "4         0  340266.072047         53  secondary education             1   \n",
       "5         0    -926.185831         27    bachelor's degree             0   \n",
       "6         0   -2879.202052         43    bachelor's degree             0   \n",
       "7         0    -152.779569         50  SECONDARY EDUCATION             1   \n",
       "8         2   -6929.865299         35    BACHELOR'S DEGREE             0   \n",
       "9         0   -2188.756445         41  secondary education             1   \n",
       "\n",
       "       family_status  family_status_id gender income_type  debt  total_income  \\\n",
       "0            married                 0      F    employee     0     40620.102   \n",
       "1            married                 0      F    employee     0     17932.802   \n",
       "2            married                 0      M    employee     0     23341.752   \n",
       "3            married                 0      M    employee     0     42820.568   \n",
       "4  civil partnership                 1      F     retiree     0     25378.572   \n",
       "5  civil partnership                 1      M    business     0     40922.170   \n",
       "6            married                 0      F    business     0     38484.156   \n",
       "7            married                 0      M    employee     0     21731.829   \n",
       "8  civil partnership                 1      F    employee     0     15337.093   \n",
       "9            married                 0      M    employee     0     23108.150   \n",
       "\n",
       "                               purpose  \n",
       "0                purchase of the house  \n",
       "1                         car purchase  \n",
       "2                purchase of the house  \n",
       "3              supplementary education  \n",
       "4                    to have a wedding  \n",
       "5                purchase of the house  \n",
       "6                 housing transactions  \n",
       "7                            education  \n",
       "8                     having a wedding  \n",
       "9  purchase of the house for my family  "
      ]
     },
     "execution_count": 3,
     "metadata": {},
     "output_type": "execute_result"
    }
   ],
   "source": [
    "# Let's look at the first 10 rows of the dataset\n",
    "credit_score_data.head(10)"
   ]
  },
  {
   "cell_type": "markdown",
   "metadata": {},
   "source": [
    "<div class=\"alert alert-success\" role=\"alert\">\n",
    "<b>Reviewer's comment v1</b>\n",
    "Great start! Now we got a first look at the data.\n",
    "</div>"
   ]
  },
  {
   "cell_type": "markdown",
   "metadata": {},
   "source": []
  },
  {
   "cell_type": "code",
   "execution_count": 4,
   "metadata": {
    "scrolled": true
   },
   "outputs": [
    {
     "data": {
      "text/html": [
       "<div>\n",
       "<style scoped>\n",
       "    .dataframe tbody tr th:only-of-type {\n",
       "        vertical-align: middle;\n",
       "    }\n",
       "\n",
       "    .dataframe tbody tr th {\n",
       "        vertical-align: top;\n",
       "    }\n",
       "\n",
       "    .dataframe thead th {\n",
       "        text-align: right;\n",
       "    }\n",
       "</style>\n",
       "<table border=\"1\" class=\"dataframe\">\n",
       "  <thead>\n",
       "    <tr style=\"text-align: right;\">\n",
       "      <th></th>\n",
       "      <th>children</th>\n",
       "      <th>days_employed</th>\n",
       "      <th>dob_years</th>\n",
       "      <th>education</th>\n",
       "      <th>education_id</th>\n",
       "      <th>family_status</th>\n",
       "      <th>family_status_id</th>\n",
       "      <th>gender</th>\n",
       "      <th>income_type</th>\n",
       "      <th>debt</th>\n",
       "      <th>total_income</th>\n",
       "      <th>purpose</th>\n",
       "    </tr>\n",
       "  </thead>\n",
       "  <tbody>\n",
       "    <tr>\n",
       "      <td>0</td>\n",
       "      <td>1</td>\n",
       "      <td>-8437.673028</td>\n",
       "      <td>42</td>\n",
       "      <td>bachelor's degree</td>\n",
       "      <td>0</td>\n",
       "      <td>married</td>\n",
       "      <td>0</td>\n",
       "      <td>F</td>\n",
       "      <td>employee</td>\n",
       "      <td>0</td>\n",
       "      <td>40620.102</td>\n",
       "      <td>purchase of the house</td>\n",
       "    </tr>\n",
       "    <tr>\n",
       "      <td>1</td>\n",
       "      <td>1</td>\n",
       "      <td>-4024.803754</td>\n",
       "      <td>36</td>\n",
       "      <td>secondary education</td>\n",
       "      <td>1</td>\n",
       "      <td>married</td>\n",
       "      <td>0</td>\n",
       "      <td>F</td>\n",
       "      <td>employee</td>\n",
       "      <td>0</td>\n",
       "      <td>17932.802</td>\n",
       "      <td>car purchase</td>\n",
       "    </tr>\n",
       "    <tr>\n",
       "      <td>2</td>\n",
       "      <td>0</td>\n",
       "      <td>-5623.422610</td>\n",
       "      <td>33</td>\n",
       "      <td>Secondary Education</td>\n",
       "      <td>1</td>\n",
       "      <td>married</td>\n",
       "      <td>0</td>\n",
       "      <td>M</td>\n",
       "      <td>employee</td>\n",
       "      <td>0</td>\n",
       "      <td>23341.752</td>\n",
       "      <td>purchase of the house</td>\n",
       "    </tr>\n",
       "    <tr>\n",
       "      <td>3</td>\n",
       "      <td>3</td>\n",
       "      <td>-4124.747207</td>\n",
       "      <td>32</td>\n",
       "      <td>secondary education</td>\n",
       "      <td>1</td>\n",
       "      <td>married</td>\n",
       "      <td>0</td>\n",
       "      <td>M</td>\n",
       "      <td>employee</td>\n",
       "      <td>0</td>\n",
       "      <td>42820.568</td>\n",
       "      <td>supplementary education</td>\n",
       "    </tr>\n",
       "    <tr>\n",
       "      <td>4</td>\n",
       "      <td>0</td>\n",
       "      <td>340266.072047</td>\n",
       "      <td>53</td>\n",
       "      <td>secondary education</td>\n",
       "      <td>1</td>\n",
       "      <td>civil partnership</td>\n",
       "      <td>1</td>\n",
       "      <td>F</td>\n",
       "      <td>retiree</td>\n",
       "      <td>0</td>\n",
       "      <td>25378.572</td>\n",
       "      <td>to have a wedding</td>\n",
       "    </tr>\n",
       "    <tr>\n",
       "      <td>5</td>\n",
       "      <td>0</td>\n",
       "      <td>-926.185831</td>\n",
       "      <td>27</td>\n",
       "      <td>bachelor's degree</td>\n",
       "      <td>0</td>\n",
       "      <td>civil partnership</td>\n",
       "      <td>1</td>\n",
       "      <td>M</td>\n",
       "      <td>business</td>\n",
       "      <td>0</td>\n",
       "      <td>40922.170</td>\n",
       "      <td>purchase of the house</td>\n",
       "    </tr>\n",
       "    <tr>\n",
       "      <td>6</td>\n",
       "      <td>0</td>\n",
       "      <td>-2879.202052</td>\n",
       "      <td>43</td>\n",
       "      <td>bachelor's degree</td>\n",
       "      <td>0</td>\n",
       "      <td>married</td>\n",
       "      <td>0</td>\n",
       "      <td>F</td>\n",
       "      <td>business</td>\n",
       "      <td>0</td>\n",
       "      <td>38484.156</td>\n",
       "      <td>housing transactions</td>\n",
       "    </tr>\n",
       "    <tr>\n",
       "      <td>7</td>\n",
       "      <td>0</td>\n",
       "      <td>-152.779569</td>\n",
       "      <td>50</td>\n",
       "      <td>SECONDARY EDUCATION</td>\n",
       "      <td>1</td>\n",
       "      <td>married</td>\n",
       "      <td>0</td>\n",
       "      <td>M</td>\n",
       "      <td>employee</td>\n",
       "      <td>0</td>\n",
       "      <td>21731.829</td>\n",
       "      <td>education</td>\n",
       "    </tr>\n",
       "    <tr>\n",
       "      <td>8</td>\n",
       "      <td>2</td>\n",
       "      <td>-6929.865299</td>\n",
       "      <td>35</td>\n",
       "      <td>BACHELOR'S DEGREE</td>\n",
       "      <td>0</td>\n",
       "      <td>civil partnership</td>\n",
       "      <td>1</td>\n",
       "      <td>F</td>\n",
       "      <td>employee</td>\n",
       "      <td>0</td>\n",
       "      <td>15337.093</td>\n",
       "      <td>having a wedding</td>\n",
       "    </tr>\n",
       "    <tr>\n",
       "      <td>9</td>\n",
       "      <td>0</td>\n",
       "      <td>-2188.756445</td>\n",
       "      <td>41</td>\n",
       "      <td>secondary education</td>\n",
       "      <td>1</td>\n",
       "      <td>married</td>\n",
       "      <td>0</td>\n",
       "      <td>M</td>\n",
       "      <td>employee</td>\n",
       "      <td>0</td>\n",
       "      <td>23108.150</td>\n",
       "      <td>purchase of the house for my family</td>\n",
       "    </tr>\n",
       "    <tr>\n",
       "      <td>10</td>\n",
       "      <td>2</td>\n",
       "      <td>-4171.483647</td>\n",
       "      <td>36</td>\n",
       "      <td>bachelor's degree</td>\n",
       "      <td>0</td>\n",
       "      <td>married</td>\n",
       "      <td>0</td>\n",
       "      <td>M</td>\n",
       "      <td>business</td>\n",
       "      <td>0</td>\n",
       "      <td>18230.959</td>\n",
       "      <td>buy real estate</td>\n",
       "    </tr>\n",
       "    <tr>\n",
       "      <td>11</td>\n",
       "      <td>0</td>\n",
       "      <td>-792.701887</td>\n",
       "      <td>40</td>\n",
       "      <td>secondary education</td>\n",
       "      <td>1</td>\n",
       "      <td>married</td>\n",
       "      <td>0</td>\n",
       "      <td>F</td>\n",
       "      <td>employee</td>\n",
       "      <td>0</td>\n",
       "      <td>12331.077</td>\n",
       "      <td>buy commercial real estate</td>\n",
       "    </tr>\n",
       "    <tr>\n",
       "      <td>12</td>\n",
       "      <td>0</td>\n",
       "      <td>NaN</td>\n",
       "      <td>65</td>\n",
       "      <td>secondary education</td>\n",
       "      <td>1</td>\n",
       "      <td>civil partnership</td>\n",
       "      <td>1</td>\n",
       "      <td>M</td>\n",
       "      <td>retiree</td>\n",
       "      <td>0</td>\n",
       "      <td>NaN</td>\n",
       "      <td>to have a wedding</td>\n",
       "    </tr>\n",
       "    <tr>\n",
       "      <td>13</td>\n",
       "      <td>0</td>\n",
       "      <td>-1846.641941</td>\n",
       "      <td>54</td>\n",
       "      <td>some college</td>\n",
       "      <td>2</td>\n",
       "      <td>married</td>\n",
       "      <td>0</td>\n",
       "      <td>F</td>\n",
       "      <td>employee</td>\n",
       "      <td>0</td>\n",
       "      <td>20873.317</td>\n",
       "      <td>car purchase</td>\n",
       "    </tr>\n",
       "    <tr>\n",
       "      <td>14</td>\n",
       "      <td>0</td>\n",
       "      <td>-1844.956182</td>\n",
       "      <td>56</td>\n",
       "      <td>bachelor's degree</td>\n",
       "      <td>0</td>\n",
       "      <td>civil partnership</td>\n",
       "      <td>1</td>\n",
       "      <td>F</td>\n",
       "      <td>business</td>\n",
       "      <td>1</td>\n",
       "      <td>26420.466</td>\n",
       "      <td>buy residential real estate</td>\n",
       "    </tr>\n",
       "  </tbody>\n",
       "</table>\n",
       "</div>"
      ],
      "text/plain": [
       "    children  days_employed  dob_years            education  education_id  \\\n",
       "0          1   -8437.673028         42    bachelor's degree             0   \n",
       "1          1   -4024.803754         36  secondary education             1   \n",
       "2          0   -5623.422610         33  Secondary Education             1   \n",
       "3          3   -4124.747207         32  secondary education             1   \n",
       "4          0  340266.072047         53  secondary education             1   \n",
       "5          0    -926.185831         27    bachelor's degree             0   \n",
       "6          0   -2879.202052         43    bachelor's degree             0   \n",
       "7          0    -152.779569         50  SECONDARY EDUCATION             1   \n",
       "8          2   -6929.865299         35    BACHELOR'S DEGREE             0   \n",
       "9          0   -2188.756445         41  secondary education             1   \n",
       "10         2   -4171.483647         36    bachelor's degree             0   \n",
       "11         0    -792.701887         40  secondary education             1   \n",
       "12         0            NaN         65  secondary education             1   \n",
       "13         0   -1846.641941         54         some college             2   \n",
       "14         0   -1844.956182         56    bachelor's degree             0   \n",
       "\n",
       "        family_status  family_status_id gender income_type  debt  \\\n",
       "0             married                 0      F    employee     0   \n",
       "1             married                 0      F    employee     0   \n",
       "2             married                 0      M    employee     0   \n",
       "3             married                 0      M    employee     0   \n",
       "4   civil partnership                 1      F     retiree     0   \n",
       "5   civil partnership                 1      M    business     0   \n",
       "6             married                 0      F    business     0   \n",
       "7             married                 0      M    employee     0   \n",
       "8   civil partnership                 1      F    employee     0   \n",
       "9             married                 0      M    employee     0   \n",
       "10            married                 0      M    business     0   \n",
       "11            married                 0      F    employee     0   \n",
       "12  civil partnership                 1      M     retiree     0   \n",
       "13            married                 0      F    employee     0   \n",
       "14  civil partnership                 1      F    business     1   \n",
       "\n",
       "    total_income                              purpose  \n",
       "0      40620.102                purchase of the house  \n",
       "1      17932.802                         car purchase  \n",
       "2      23341.752                purchase of the house  \n",
       "3      42820.568              supplementary education  \n",
       "4      25378.572                    to have a wedding  \n",
       "5      40922.170                purchase of the house  \n",
       "6      38484.156                 housing transactions  \n",
       "7      21731.829                            education  \n",
       "8      15337.093                     having a wedding  \n",
       "9      23108.150  purchase of the house for my family  \n",
       "10     18230.959                      buy real estate  \n",
       "11     12331.077           buy commercial real estate  \n",
       "12           NaN                    to have a wedding  \n",
       "13     20873.317                         car purchase  \n",
       "14     26420.466          buy residential real estate  "
      ]
     },
     "execution_count": 4,
     "metadata": {},
     "output_type": "execute_result"
    }
   ],
   "source": [
    "# let's print the first N rows\n",
    "N = 15\n",
    "credit_score_data.head(N)"
   ]
  },
  {
   "cell_type": "markdown",
   "metadata": {},
   "source": [
    "<div class=\"alert alert-warning\" role=\"alert\">\n",
    "<b>Reviewer's comment v1</b>\n",
    "    \n",
    "Here you can just write:\n",
    "\n",
    "credit_score_data.head(15) or credit_score_data.sample(15)\n",
    "</div> \n",
    "    \n",
    "<div class=\"alert alert-info\"> <b>Student comments:</b> Sure. Sample 15 sounds great! Let me try it.</div>    "
   ]
  },
  {
   "cell_type": "code",
   "execution_count": 5,
   "metadata": {},
   "outputs": [
    {
     "data": {
      "text/html": [
       "<div>\n",
       "<style scoped>\n",
       "    .dataframe tbody tr th:only-of-type {\n",
       "        vertical-align: middle;\n",
       "    }\n",
       "\n",
       "    .dataframe tbody tr th {\n",
       "        vertical-align: top;\n",
       "    }\n",
       "\n",
       "    .dataframe thead th {\n",
       "        text-align: right;\n",
       "    }\n",
       "</style>\n",
       "<table border=\"1\" class=\"dataframe\">\n",
       "  <thead>\n",
       "    <tr style=\"text-align: right;\">\n",
       "      <th></th>\n",
       "      <th>children</th>\n",
       "      <th>days_employed</th>\n",
       "      <th>dob_years</th>\n",
       "      <th>education</th>\n",
       "      <th>education_id</th>\n",
       "      <th>family_status</th>\n",
       "      <th>family_status_id</th>\n",
       "      <th>gender</th>\n",
       "      <th>income_type</th>\n",
       "      <th>debt</th>\n",
       "      <th>total_income</th>\n",
       "      <th>purpose</th>\n",
       "    </tr>\n",
       "  </thead>\n",
       "  <tbody>\n",
       "    <tr>\n",
       "      <td>20827</td>\n",
       "      <td>1</td>\n",
       "      <td>-1264.290386</td>\n",
       "      <td>42</td>\n",
       "      <td>secondary education</td>\n",
       "      <td>1</td>\n",
       "      <td>married</td>\n",
       "      <td>0</td>\n",
       "      <td>F</td>\n",
       "      <td>employee</td>\n",
       "      <td>0</td>\n",
       "      <td>21437.923</td>\n",
       "      <td>property</td>\n",
       "    </tr>\n",
       "    <tr>\n",
       "      <td>3593</td>\n",
       "      <td>0</td>\n",
       "      <td>-2418.158261</td>\n",
       "      <td>53</td>\n",
       "      <td>secondary education</td>\n",
       "      <td>1</td>\n",
       "      <td>married</td>\n",
       "      <td>0</td>\n",
       "      <td>F</td>\n",
       "      <td>employee</td>\n",
       "      <td>0</td>\n",
       "      <td>12671.291</td>\n",
       "      <td>car</td>\n",
       "    </tr>\n",
       "    <tr>\n",
       "      <td>20936</td>\n",
       "      <td>0</td>\n",
       "      <td>-2131.180354</td>\n",
       "      <td>36</td>\n",
       "      <td>secondary education</td>\n",
       "      <td>1</td>\n",
       "      <td>unmarried</td>\n",
       "      <td>4</td>\n",
       "      <td>F</td>\n",
       "      <td>employee</td>\n",
       "      <td>0</td>\n",
       "      <td>35033.430</td>\n",
       "      <td>to buy a car</td>\n",
       "    </tr>\n",
       "    <tr>\n",
       "      <td>11975</td>\n",
       "      <td>0</td>\n",
       "      <td>394727.358075</td>\n",
       "      <td>55</td>\n",
       "      <td>bachelor's degree</td>\n",
       "      <td>0</td>\n",
       "      <td>unmarried</td>\n",
       "      <td>4</td>\n",
       "      <td>F</td>\n",
       "      <td>retiree</td>\n",
       "      <td>0</td>\n",
       "      <td>46279.494</td>\n",
       "      <td>supplementary education</td>\n",
       "    </tr>\n",
       "    <tr>\n",
       "      <td>5793</td>\n",
       "      <td>0</td>\n",
       "      <td>-6856.873829</td>\n",
       "      <td>44</td>\n",
       "      <td>secondary education</td>\n",
       "      <td>1</td>\n",
       "      <td>married</td>\n",
       "      <td>0</td>\n",
       "      <td>M</td>\n",
       "      <td>employee</td>\n",
       "      <td>0</td>\n",
       "      <td>47151.121</td>\n",
       "      <td>to buy a car</td>\n",
       "    </tr>\n",
       "    <tr>\n",
       "      <td>13102</td>\n",
       "      <td>2</td>\n",
       "      <td>-3890.630362</td>\n",
       "      <td>39</td>\n",
       "      <td>secondary education</td>\n",
       "      <td>1</td>\n",
       "      <td>married</td>\n",
       "      <td>0</td>\n",
       "      <td>F</td>\n",
       "      <td>employee</td>\n",
       "      <td>0</td>\n",
       "      <td>21583.892</td>\n",
       "      <td>real estate transactions</td>\n",
       "    </tr>\n",
       "    <tr>\n",
       "      <td>3442</td>\n",
       "      <td>0</td>\n",
       "      <td>NaN</td>\n",
       "      <td>60</td>\n",
       "      <td>secondary education</td>\n",
       "      <td>1</td>\n",
       "      <td>unmarried</td>\n",
       "      <td>4</td>\n",
       "      <td>F</td>\n",
       "      <td>retiree</td>\n",
       "      <td>0</td>\n",
       "      <td>NaN</td>\n",
       "      <td>purchase of the house for my family</td>\n",
       "    </tr>\n",
       "    <tr>\n",
       "      <td>12382</td>\n",
       "      <td>0</td>\n",
       "      <td>-5424.530359</td>\n",
       "      <td>55</td>\n",
       "      <td>secondary education</td>\n",
       "      <td>1</td>\n",
       "      <td>married</td>\n",
       "      <td>0</td>\n",
       "      <td>M</td>\n",
       "      <td>employee</td>\n",
       "      <td>0</td>\n",
       "      <td>20850.366</td>\n",
       "      <td>buy residential real estate</td>\n",
       "    </tr>\n",
       "    <tr>\n",
       "      <td>13720</td>\n",
       "      <td>1</td>\n",
       "      <td>NaN</td>\n",
       "      <td>36</td>\n",
       "      <td>bachelor's degree</td>\n",
       "      <td>0</td>\n",
       "      <td>married</td>\n",
       "      <td>0</td>\n",
       "      <td>F</td>\n",
       "      <td>civil servant</td>\n",
       "      <td>0</td>\n",
       "      <td>NaN</td>\n",
       "      <td>car purchase</td>\n",
       "    </tr>\n",
       "    <tr>\n",
       "      <td>16101</td>\n",
       "      <td>2</td>\n",
       "      <td>-1524.028664</td>\n",
       "      <td>32</td>\n",
       "      <td>secondary education</td>\n",
       "      <td>1</td>\n",
       "      <td>married</td>\n",
       "      <td>0</td>\n",
       "      <td>F</td>\n",
       "      <td>business</td>\n",
       "      <td>0</td>\n",
       "      <td>12859.126</td>\n",
       "      <td>housing</td>\n",
       "    </tr>\n",
       "    <tr>\n",
       "      <td>2680</td>\n",
       "      <td>0</td>\n",
       "      <td>-1876.270086</td>\n",
       "      <td>31</td>\n",
       "      <td>bachelor's degree</td>\n",
       "      <td>0</td>\n",
       "      <td>unmarried</td>\n",
       "      <td>4</td>\n",
       "      <td>F</td>\n",
       "      <td>business</td>\n",
       "      <td>0</td>\n",
       "      <td>32529.320</td>\n",
       "      <td>education</td>\n",
       "    </tr>\n",
       "    <tr>\n",
       "      <td>11643</td>\n",
       "      <td>0</td>\n",
       "      <td>393725.426795</td>\n",
       "      <td>69</td>\n",
       "      <td>secondary education</td>\n",
       "      <td>1</td>\n",
       "      <td>divorced</td>\n",
       "      <td>3</td>\n",
       "      <td>M</td>\n",
       "      <td>retiree</td>\n",
       "      <td>0</td>\n",
       "      <td>44449.443</td>\n",
       "      <td>purchase of the house for my family</td>\n",
       "    </tr>\n",
       "    <tr>\n",
       "      <td>13166</td>\n",
       "      <td>0</td>\n",
       "      <td>389733.585507</td>\n",
       "      <td>60</td>\n",
       "      <td>secondary education</td>\n",
       "      <td>1</td>\n",
       "      <td>married</td>\n",
       "      <td>0</td>\n",
       "      <td>F</td>\n",
       "      <td>retiree</td>\n",
       "      <td>0</td>\n",
       "      <td>13683.721</td>\n",
       "      <td>housing transactions</td>\n",
       "    </tr>\n",
       "    <tr>\n",
       "      <td>20190</td>\n",
       "      <td>0</td>\n",
       "      <td>-11634.497890</td>\n",
       "      <td>57</td>\n",
       "      <td>secondary education</td>\n",
       "      <td>1</td>\n",
       "      <td>civil partnership</td>\n",
       "      <td>1</td>\n",
       "      <td>F</td>\n",
       "      <td>business</td>\n",
       "      <td>0</td>\n",
       "      <td>18309.545</td>\n",
       "      <td>having a wedding</td>\n",
       "    </tr>\n",
       "    <tr>\n",
       "      <td>15916</td>\n",
       "      <td>5</td>\n",
       "      <td>-2286.262752</td>\n",
       "      <td>37</td>\n",
       "      <td>secondary education</td>\n",
       "      <td>1</td>\n",
       "      <td>married</td>\n",
       "      <td>0</td>\n",
       "      <td>F</td>\n",
       "      <td>employee</td>\n",
       "      <td>0</td>\n",
       "      <td>41071.736</td>\n",
       "      <td>buy real estate</td>\n",
       "    </tr>\n",
       "  </tbody>\n",
       "</table>\n",
       "</div>"
      ],
      "text/plain": [
       "       children  days_employed  dob_years            education  education_id  \\\n",
       "20827         1   -1264.290386         42  secondary education             1   \n",
       "3593          0   -2418.158261         53  secondary education             1   \n",
       "20936         0   -2131.180354         36  secondary education             1   \n",
       "11975         0  394727.358075         55    bachelor's degree             0   \n",
       "5793          0   -6856.873829         44  secondary education             1   \n",
       "13102         2   -3890.630362         39  secondary education             1   \n",
       "3442          0            NaN         60  secondary education             1   \n",
       "12382         0   -5424.530359         55  secondary education             1   \n",
       "13720         1            NaN         36    bachelor's degree             0   \n",
       "16101         2   -1524.028664         32  secondary education             1   \n",
       "2680          0   -1876.270086         31    bachelor's degree             0   \n",
       "11643         0  393725.426795         69  secondary education             1   \n",
       "13166         0  389733.585507         60  secondary education             1   \n",
       "20190         0  -11634.497890         57  secondary education             1   \n",
       "15916         5   -2286.262752         37  secondary education             1   \n",
       "\n",
       "           family_status  family_status_id gender    income_type  debt  \\\n",
       "20827            married                 0      F       employee     0   \n",
       "3593             married                 0      F       employee     0   \n",
       "20936          unmarried                 4      F       employee     0   \n",
       "11975          unmarried                 4      F        retiree     0   \n",
       "5793             married                 0      M       employee     0   \n",
       "13102            married                 0      F       employee     0   \n",
       "3442           unmarried                 4      F        retiree     0   \n",
       "12382            married                 0      M       employee     0   \n",
       "13720            married                 0      F  civil servant     0   \n",
       "16101            married                 0      F       business     0   \n",
       "2680           unmarried                 4      F       business     0   \n",
       "11643           divorced                 3      M        retiree     0   \n",
       "13166            married                 0      F        retiree     0   \n",
       "20190  civil partnership                 1      F       business     0   \n",
       "15916            married                 0      F       employee     0   \n",
       "\n",
       "       total_income                              purpose  \n",
       "20827     21437.923                             property  \n",
       "3593      12671.291                                  car  \n",
       "20936     35033.430                         to buy a car  \n",
       "11975     46279.494              supplementary education  \n",
       "5793      47151.121                         to buy a car  \n",
       "13102     21583.892             real estate transactions  \n",
       "3442            NaN  purchase of the house for my family  \n",
       "12382     20850.366          buy residential real estate  \n",
       "13720           NaN                         car purchase  \n",
       "16101     12859.126                              housing  \n",
       "2680      32529.320                            education  \n",
       "11643     44449.443  purchase of the house for my family  \n",
       "13166     13683.721                 housing transactions  \n",
       "20190     18309.545                     having a wedding  \n",
       "15916     41071.736                      buy real estate  "
      ]
     },
     "execution_count": 5,
     "metadata": {},
     "output_type": "execute_result"
    }
   ],
   "source": [
    "credit_score_data.sample(15)"
   ]
  },
  {
   "cell_type": "markdown",
   "metadata": {},
   "source": [
    "Looking at the first 15 rows of the dataset, we see that there are no obvious issues with column named `children`, `dob_years`, `education`, `education_id`, `family_status`, `family_status_id`, `gender`, `income_type` and `debt`.\n",
    "\n",
    "But the column `days_employed` has many negative values, which does not make sense since this column represents work experience in days. It also has some missing values. The column `education` has inconsistent lower/upper case characters for the same category. The column `total_income` has some missing values. The column `purpose` has different wording for the same category.     "
   ]
  },
  {
   "cell_type": "code",
   "execution_count": 6,
   "metadata": {
    "scrolled": false
   },
   "outputs": [
    {
     "name": "stdout",
     "output_type": "stream",
     "text": [
      "children               0\n",
      "days_employed       2174\n",
      "dob_years              0\n",
      "education              0\n",
      "education_id           0\n",
      "family_status          0\n",
      "family_status_id       0\n",
      "gender                 0\n",
      "income_type            0\n",
      "debt                   0\n",
      "total_income        2174\n",
      "purpose                0\n",
      "dtype: int64\n"
     ]
    }
   ],
   "source": [
    "# Get info on data\n",
    "print(credit_score_data.isna().sum())"
   ]
  },
  {
   "cell_type": "markdown",
   "metadata": {},
   "source": [
    "The column named `days_employed` has 2174 missing values and the column named `total_income` also has 2174 missing values. All other columns do not have any missing values.  "
   ]
  },
  {
   "cell_type": "code",
   "execution_count": 7,
   "metadata": {
    "scrolled": true
   },
   "outputs": [
    {
     "name": "stdout",
     "output_type": "stream",
     "text": [
      "12      NaN\n",
      "26      NaN\n",
      "29      NaN\n",
      "41      NaN\n",
      "55      NaN\n",
      "         ..\n",
      "21489   NaN\n",
      "21495   NaN\n",
      "21497   NaN\n",
      "21502   NaN\n",
      "21510   NaN\n",
      "Name: days_employed, Length: 2174, dtype: float64\n",
      "12      NaN\n",
      "26      NaN\n",
      "29      NaN\n",
      "41      NaN\n",
      "55      NaN\n",
      "         ..\n",
      "21489   NaN\n",
      "21495   NaN\n",
      "21497   NaN\n",
      "21502   NaN\n",
      "21510   NaN\n",
      "Name: total_income, Length: 2174, dtype: float64\n"
     ]
    }
   ],
   "source": [
    "# Let's look at the filtered table with missing values in the the first column with missing data\n",
    "\n",
    "print(credit_score_data[credit_score_data['days_employed'].isna()]['days_employed'])\n",
    "\n",
    "print(credit_score_data[credit_score_data['total_income'].isna()]['total_income'])"
   ]
  },
  {
   "cell_type": "markdown",
   "metadata": {},
   "source": [
    "By looking at the row indices of the first and last five rows of missing values from the columns `days_employed` and `total_income`, we suspect that missing values seem symmetric, which means if a row is missing`days_employed`, it also has `total_income` missing. But we are not sure about this assumption yet. We need to conduct further investigations to find out whether it is true. Specifically, we need to find out whether missing values from `days_employed` and `total_income` come from the same rows. "
   ]
  },
  {
   "cell_type": "code",
   "execution_count": 8,
   "metadata": {
    "scrolled": true
   },
   "outputs": [
    {
     "name": "stdout",
     "output_type": "stream",
     "text": [
      "2174\n",
      "2174\n"
     ]
    }
   ],
   "source": [
    "# Let's apply multiple conditions for filtering data and look at the number of rows in the filtered table.\n",
    "print(credit_score_data[credit_score_data['days_employed'].isna()]['total_income'].isna().sum())\n",
    "\n",
    "print(credit_score_data[credit_score_data['total_income'].isna()]['days_employed'].isna().sum())"
   ]
  },
  {
   "cell_type": "code",
   "execution_count": 9,
   "metadata": {},
   "outputs": [
    {
     "name": "stdout",
     "output_type": "stream",
     "text": [
      "The percentage of missing values in the data set is: 10.10%\n"
     ]
    }
   ],
   "source": [
    "perct_missing = credit_score_data['days_employed'].isna().sum()/credit_score_data.shape[0]\n",
    "print(f'The percentage of missing values in the data set is: {perct_missing:.2%}')"
   ]
  },
  {
   "cell_type": "markdown",
   "metadata": {},
   "source": [
    "<div class=\"alert alert-block alert-success\">\n",
    "<b>Reviewer's comment v1</b>\n",
    " \n",
    "\n",
    "Great! It is indeed helpful to check not only the total amount of missing values in each column but also look at the percentage of missing values. It helps to understand the overall impact. You can check percentage using, for example, this code: \n",
    "    \n",
    "    cs.isnull().sum()/len(cs)\n",
    "\n",
    "Or you can even make a dataframe of of it using to_frame\n",
    "    \n",
    "    mis_values = cs.isnull().sum().to_frame('missing_values')\n",
    "    mis_values['%'] = round(cs.isnull().sum()/len(cs),3)\n",
    "    mis_values.sort_values(by='%', ascending=False)\n",
    "    \n",
    "    \n",
    "</div>\n",
    "<div class=\"alert alert-info\"> <b>Student comments:</b> Sure. Sounds great! Let me try it.</div>    "
   ]
  },
  {
   "cell_type": "code",
   "execution_count": 10,
   "metadata": {
    "scrolled": true
   },
   "outputs": [
    {
     "data": {
      "text/plain": [
       "children            0.000000\n",
       "days_employed       0.100999\n",
       "dob_years           0.000000\n",
       "education           0.000000\n",
       "education_id        0.000000\n",
       "family_status       0.000000\n",
       "family_status_id    0.000000\n",
       "gender              0.000000\n",
       "income_type         0.000000\n",
       "debt                0.000000\n",
       "total_income        0.100999\n",
       "purpose             0.000000\n",
       "dtype: float64"
      ]
     },
     "execution_count": 10,
     "metadata": {},
     "output_type": "execute_result"
    }
   ],
   "source": [
    "credit_score_data.isnull().sum()/len(credit_score_data)"
   ]
  },
  {
   "cell_type": "code",
   "execution_count": 11,
   "metadata": {},
   "outputs": [
    {
     "data": {
      "text/html": [
       "<div>\n",
       "<style scoped>\n",
       "    .dataframe tbody tr th:only-of-type {\n",
       "        vertical-align: middle;\n",
       "    }\n",
       "\n",
       "    .dataframe tbody tr th {\n",
       "        vertical-align: top;\n",
       "    }\n",
       "\n",
       "    .dataframe thead th {\n",
       "        text-align: right;\n",
       "    }\n",
       "</style>\n",
       "<table border=\"1\" class=\"dataframe\">\n",
       "  <thead>\n",
       "    <tr style=\"text-align: right;\">\n",
       "      <th></th>\n",
       "      <th>missing_values</th>\n",
       "      <th>%</th>\n",
       "    </tr>\n",
       "  </thead>\n",
       "  <tbody>\n",
       "    <tr>\n",
       "      <td>days_employed</td>\n",
       "      <td>2174</td>\n",
       "      <td>10.1</td>\n",
       "    </tr>\n",
       "    <tr>\n",
       "      <td>total_income</td>\n",
       "      <td>2174</td>\n",
       "      <td>10.1</td>\n",
       "    </tr>\n",
       "    <tr>\n",
       "      <td>children</td>\n",
       "      <td>0</td>\n",
       "      <td>0.0</td>\n",
       "    </tr>\n",
       "    <tr>\n",
       "      <td>dob_years</td>\n",
       "      <td>0</td>\n",
       "      <td>0.0</td>\n",
       "    </tr>\n",
       "    <tr>\n",
       "      <td>education</td>\n",
       "      <td>0</td>\n",
       "      <td>0.0</td>\n",
       "    </tr>\n",
       "    <tr>\n",
       "      <td>education_id</td>\n",
       "      <td>0</td>\n",
       "      <td>0.0</td>\n",
       "    </tr>\n",
       "    <tr>\n",
       "      <td>family_status</td>\n",
       "      <td>0</td>\n",
       "      <td>0.0</td>\n",
       "    </tr>\n",
       "    <tr>\n",
       "      <td>family_status_id</td>\n",
       "      <td>0</td>\n",
       "      <td>0.0</td>\n",
       "    </tr>\n",
       "    <tr>\n",
       "      <td>gender</td>\n",
       "      <td>0</td>\n",
       "      <td>0.0</td>\n",
       "    </tr>\n",
       "    <tr>\n",
       "      <td>income_type</td>\n",
       "      <td>0</td>\n",
       "      <td>0.0</td>\n",
       "    </tr>\n",
       "    <tr>\n",
       "      <td>debt</td>\n",
       "      <td>0</td>\n",
       "      <td>0.0</td>\n",
       "    </tr>\n",
       "    <tr>\n",
       "      <td>purpose</td>\n",
       "      <td>0</td>\n",
       "      <td>0.0</td>\n",
       "    </tr>\n",
       "  </tbody>\n",
       "</table>\n",
       "</div>"
      ],
      "text/plain": [
       "                  missing_values     %\n",
       "days_employed               2174  10.1\n",
       "total_income                2174  10.1\n",
       "children                       0   0.0\n",
       "dob_years                      0   0.0\n",
       "education                      0   0.0\n",
       "education_id                   0   0.0\n",
       "family_status                  0   0.0\n",
       "family_status_id               0   0.0\n",
       "gender                         0   0.0\n",
       "income_type                    0   0.0\n",
       "debt                           0   0.0\n",
       "purpose                        0   0.0"
      ]
     },
     "execution_count": 11,
     "metadata": {},
     "output_type": "execute_result"
    }
   ],
   "source": [
    "mis_values = credit_score_data.isnull().sum().to_frame('missing_values')\n",
    "mis_values['%'] = round(credit_score_data.isnull().sum()/len(credit_score_data)*100,3)\n",
    "mis_values.sort_values(by='%', ascending=False)"
   ]
  },
  {
   "cell_type": "markdown",
   "metadata": {},
   "source": [
    "<div class=\"alert alert-block alert-success\">\n",
    "<b>Reviewer's comment v2:</b>\n",
    "   \n",
    "Great that you added this new dataframe."
   ]
  },
  {
   "cell_type": "markdown",
   "metadata": {},
   "source": [
    "**Intermediate conclusion**\n",
    "\n",
    "1. The above results shows that missing values from `days_employed` and `total_income` are symmetric because when `days_employed` has missing values, `total_income` also have exactly the same number of missing values, and vice versa. \n",
    "\n",
    "2. The data set has about 10.10% missing values. Because the data set is quite large and the percentage of missing values is relatively high, I think it is better not to drop all rows with missing values. We should consider whether the missing data could be due to the specific client characteristic, such as a customer's marital status, the number of children a customer has and whether the customer has ever defaulted on a loan. Specifically, we should check whether there's any dependence missing values have on the value of other indicators with the columns with identified specific client characteristic.     "
   ]
  },
  {
   "cell_type": "code",
   "execution_count": 12,
   "metadata": {
    "scrolled": true
   },
   "outputs": [
    {
     "name": "stdout",
     "output_type": "stream",
     "text": [
      "      days_employed  total_income\n",
      "0               NaN           NaN\n",
      "1               NaN           NaN\n",
      "2               NaN           NaN\n",
      "3               NaN           NaN\n",
      "4               NaN           NaN\n",
      "...             ...           ...\n",
      "2169            NaN           NaN\n",
      "2170            NaN           NaN\n",
      "2171            NaN           NaN\n",
      "2172            NaN           NaN\n",
      "2173            NaN           NaN\n",
      "\n",
      "[2174 rows x 2 columns]\n"
     ]
    }
   ],
   "source": [
    "# Let's investigate clients who do not have data on identified characteristic and the column with the missing values\n",
    "rows_with_missing_values = credit_score_data[credit_score_data['days_employed'].isna()].reset_index(drop=True)\n",
    "# print(rows_with_missing_values)\n",
    "columns_with_missing_values = credit_score_data[credit_score_data['days_employed'].isna()][['days_employed', 'total_income']].reset_index(drop=True)\n",
    "print(columns_with_missing_values)"
   ]
  },
  {
   "cell_type": "code",
   "execution_count": 13,
   "metadata": {},
   "outputs": [
    {
     "name": "stdout",
     "output_type": "stream",
     "text": [
      "The loan default rate in the entire data set is 8.09%\n",
      "The loan default rate in the data set with missing values is 7.82%\n"
     ]
    }
   ],
   "source": [
    "size_dataset_debt = credit_score_data.groupby('debt').size()\n",
    "default_dataset = size_dataset_debt[1]/(size_dataset_debt[0]+size_dataset_debt[1])\n",
    "print(f'The loan default rate in the entire data set is {default_dataset:.2%}')\n",
    "\n",
    "size_missing_data_debt = rows_with_missing_values.groupby('debt').size()\n",
    "default_missing_data = size_missing_data_debt[1]/(size_missing_data_debt[0]+size_missing_data_debt[1])\n",
    "print(f'The loan default rate in the data set with missing values is {default_missing_data:.2%}')\n",
    "\n",
    "# https://pandas.pydata.org/docs/reference/api/pandas.pivot_table.html"
   ]
  },
  {
   "cell_type": "markdown",
   "metadata": {},
   "source": [
    "The loan default rate in the entire data set is not very different from the loan default rate in the data set with missing values. Thus, the missing values do not seem to have any dependence on whether the loan has defaulted or not."
   ]
  },
  {
   "cell_type": "code",
   "execution_count": 14,
   "metadata": {
    "scrolled": true
   },
   "outputs": [
    {
     "name": "stdout",
     "output_type": "stream",
     "text": [
      "The percentage of each category in the entire data set based on grouping the 'family_status' column:\n"
     ]
    },
    {
     "data": {
      "text/plain": [
       "family_status\n",
       "civil partnership    0.194053\n",
       "divorced             0.055517\n",
       "married              0.575145\n",
       "unmarried            0.130685\n",
       "widow / widower      0.044599\n",
       "dtype: float64"
      ]
     },
     "execution_count": 14,
     "metadata": {},
     "output_type": "execute_result"
    }
   ],
   "source": [
    "print(\"The percentage of each category in the entire data set based on grouping the 'family_status' column:\")\n",
    "credit_score_data.groupby('family_status').size().transform(lambda x: x/x.sum())"
   ]
  },
  {
   "cell_type": "code",
   "execution_count": 15,
   "metadata": {
    "scrolled": true
   },
   "outputs": [
    {
     "name": "stdout",
     "output_type": "stream",
     "text": [
      "The percentage of each category in the sub-dataset with missing values based on grouping the 'family_status' column:\n"
     ]
    },
    {
     "data": {
      "text/plain": [
       "family_status\n",
       "civil partnership    0.203312\n",
       "divorced             0.051518\n",
       "married              0.568997\n",
       "unmarried            0.132475\n",
       "widow / widower      0.043698\n",
       "dtype: float64"
      ]
     },
     "execution_count": 15,
     "metadata": {},
     "output_type": "execute_result"
    }
   ],
   "source": [
    "print(\"The percentage of each category in the sub-dataset with missing values based on grouping the 'family_status' column:\")\n",
    "rows_with_missing_values.groupby('family_status').size().transform(lambda x: x/x.sum())"
   ]
  },
  {
   "cell_type": "markdown",
   "metadata": {},
   "source": [
    "The distribution of the data set with missing values does not seem to have any dependence on marital status of customers."
   ]
  },
  {
   "cell_type": "code",
   "execution_count": 16,
   "metadata": {
    "scrolled": false
   },
   "outputs": [
    {
     "name": "stdout",
     "output_type": "stream",
     "text": [
      "The percentage of each category based on grouping the 'children' column in the entire data set:\n"
     ]
    },
    {
     "data": {
      "text/plain": [
       "children\n",
       "-1     0.002184\n",
       " 0     0.657329\n",
       " 1     0.223833\n",
       " 2     0.095470\n",
       " 3     0.015331\n",
       " 4     0.001905\n",
       " 5     0.000418\n",
       " 20    0.003531\n",
       "dtype: float64"
      ]
     },
     "execution_count": 16,
     "metadata": {},
     "output_type": "execute_result"
    }
   ],
   "source": [
    "print(\"The percentage of each category based on grouping the 'children' column in the entire data set:\")\n",
    "credit_score_data.groupby('children').size().transform(lambda x: x/x.sum())"
   ]
  },
  {
   "cell_type": "code",
   "execution_count": 17,
   "metadata": {
    "scrolled": true
   },
   "outputs": [
    {
     "name": "stdout",
     "output_type": "stream",
     "text": [
      "The percentage of each category based on grouping the 'children' column in the sub-dataset with missing values:\n"
     ]
    },
    {
     "data": {
      "text/plain": [
       "children\n",
       "-1     0.001380\n",
       " 0     0.661914\n",
       " 1     0.218491\n",
       " 2     0.093836\n",
       " 3     0.016559\n",
       " 4     0.003220\n",
       " 5     0.000460\n",
       " 20    0.004140\n",
       "dtype: float64"
      ]
     },
     "execution_count": 17,
     "metadata": {},
     "output_type": "execute_result"
    }
   ],
   "source": [
    "print(\"The percentage of each category based on grouping the 'children' column in the sub-dataset with missing values:\")\n",
    "rows_with_missing_values.groupby('children').size().transform(lambda x: x/x.sum())"
   ]
  },
  {
   "cell_type": "markdown",
   "metadata": {},
   "source": [
    "The above calculation shows that the distribution of the data set with missing values are quite similar with the distribution of the entire data set in terms of the number of children in the family, except that when the number of children is 4, the percentage from the missing values sub-dataset is much higher than that from the entire data set. However, because the percentage of clients having 4 children is quite low, we can conclude that the missing values do not depend on the `children` column.  "
   ]
  },
  {
   "cell_type": "code",
   "execution_count": 18,
   "metadata": {
    "scrolled": false
   },
   "outputs": [
    {
     "name": "stdout",
     "output_type": "stream",
     "text": [
      "The percentage of each category based on grouping the 'income_type' column in the entire data set:\n"
     ]
    },
    {
     "data": {
      "text/plain": [
       "income_type\n",
       "business                       0.236237\n",
       "civil servant                  0.067782\n",
       "employee                       0.516562\n",
       "entrepreneur                   0.000093\n",
       "paternity / maternity leave    0.000046\n",
       "retiree                        0.179141\n",
       "student                        0.000046\n",
       "unemployed                     0.000093\n",
       "dtype: float64"
      ]
     },
     "execution_count": 18,
     "metadata": {},
     "output_type": "execute_result"
    }
   ],
   "source": [
    "print(\"The percentage of each category based on grouping the 'income_type' column in the entire data set:\")\n",
    "credit_score_data.groupby('income_type').size().transform(lambda x: x/x.sum())"
   ]
  },
  {
   "cell_type": "code",
   "execution_count": 19,
   "metadata": {
    "scrolled": false
   },
   "outputs": [
    {
     "name": "stdout",
     "output_type": "stream",
     "text": [
      "The percentage of each category based on grouping the 'income_type' column in the sub-dataset with missing values:\n"
     ]
    },
    {
     "data": {
      "text/plain": [
       "income_type\n",
       "business         0.233671\n",
       "civil servant    0.067617\n",
       "employee         0.508280\n",
       "entrepreneur     0.000460\n",
       "retiree          0.189972\n",
       "dtype: float64"
      ]
     },
     "execution_count": 19,
     "metadata": {},
     "output_type": "execute_result"
    }
   ],
   "source": [
    "print(\"The percentage of each category based on grouping the 'income_type' column in the sub-dataset with missing values:\")\n",
    "rows_with_missing_values.groupby('income_type').size().transform(lambda x: x/x.sum())"
   ]
  },
  {
   "cell_type": "markdown",
   "metadata": {},
   "source": [
    "The above calculation shows that the distribution of the data set with missing values are quite different from the distribution of the entire data set in terms of the customers' income types. The subset of the data with missing values does not have anyone with income types of paternity/maternity leave, student, or unemployed. It is very likely that missing values are related to income type.  "
   ]
  },
  {
   "cell_type": "markdown",
   "metadata": {},
   "source": [
    "**Possible reasons for missing values in data and intermediate conclusion**\n",
    "\n",
    "It is hard to determine exactly why some values might be missing. Based on the above analysis, it is possible that missing values are not random and they might be related to income type or age of the clients.  \n",
    "\n",
    "Let's start checking whether the missing values are random."
   ]
  },
  {
   "cell_type": "markdown",
   "metadata": {},
   "source": [
    "## Data transformation"
   ]
  },
  {
   "cell_type": "code",
   "execution_count": 20,
   "metadata": {},
   "outputs": [
    {
     "name": "stdout",
     "output_type": "stream",
     "text": [
      "[\"bachelor's degree\" 'secondary education' 'Secondary Education'\n",
      " 'SECONDARY EDUCATION' \"BACHELOR'S DEGREE\" 'some college'\n",
      " 'primary education' \"Bachelor's Degree\" 'SOME COLLEGE' 'Some College'\n",
      " 'PRIMARY EDUCATION' 'Primary Education' 'Graduate Degree'\n",
      " 'GRADUATE DEGREE' 'graduate degree']\n"
     ]
    }
   ],
   "source": [
    "# Let's see all values in education column to check if and what spellings will need to be fixed\n",
    "print(credit_score_data['education'].unique())"
   ]
  },
  {
   "cell_type": "code",
   "execution_count": 21,
   "metadata": {
    "scrolled": true
   },
   "outputs": [],
   "source": [
    "# Fix the registers if required\n",
    "credit_score_data['education'] = credit_score_data['education'].str.lower()"
   ]
  },
  {
   "cell_type": "code",
   "execution_count": 22,
   "metadata": {},
   "outputs": [
    {
     "name": "stdout",
     "output_type": "stream",
     "text": [
      "[\"bachelor's degree\" 'secondary education' 'some college'\n",
      " 'primary education' 'graduate degree']\n"
     ]
    }
   ],
   "source": [
    "# Checking all the values in the column to make sure we fixed them\n",
    "\n",
    "print(credit_score_data['education'].str.lower().unique())"
   ]
  },
  {
   "cell_type": "markdown",
   "metadata": {},
   "source": [
    "<div class=\"alert alert-success\" role=\"alert\">\n",
    "<b>Reviewer's comment v1</b>\n",
    "    \n",
    "Great! Either upper or `.str.lower()` could be used here to fix duplicates."
   ]
  },
  {
   "cell_type": "code",
   "execution_count": 23,
   "metadata": {},
   "outputs": [
    {
     "name": "stdout",
     "output_type": "stream",
     "text": [
      "[ 1  0  3  2 -1  4 20  5]\n"
     ]
    }
   ],
   "source": [
    "# Let's see the distribution of values in the `children` column\n",
    "print(credit_score_data['children'].unique())"
   ]
  },
  {
   "cell_type": "code",
   "execution_count": 24,
   "metadata": {},
   "outputs": [
    {
     "name": "stdout",
     "output_type": "stream",
     "text": [
      "47\n",
      "The percentage of rows with negative values in the children column is: 0.22%\n"
     ]
    }
   ],
   "source": [
    "print(sum(credit_score_data['children']== -1))\n",
    "\n",
    "fraction_children_negative = sum(credit_score_data['children']== -1)/(credit_score_data.shape[0])\n",
    "\n",
    "print(f'The percentage of rows with negative values in the children column is: {fraction_children_negative:.2%}')"
   ]
  },
  {
   "cell_type": "markdown",
   "metadata": {},
   "source": [
    "There are 47 rows with negative values (-1) in the `children` column, which is about 0.22% of the dataset. It is hard to tell why those values are negative. Because the percentage of rows with negative values in the `children` column is very small, I think it is safe to drop those rows. "
   ]
  },
  {
   "cell_type": "code",
   "execution_count": 25,
   "metadata": {},
   "outputs": [],
   "source": [
    "# [fix the data based on your decision]\n",
    "credit_score_data = credit_score_data.loc[credit_score_data[\"children\"] != -1]"
   ]
  },
  {
   "cell_type": "markdown",
   "metadata": {},
   "source": [
    "<div class=\"alert alert-success\" role=\"alert\">\n",
    "<b>Reviewer's comment v1</b>\n",
    "Well done! These values has been indeed suspicious. "
   ]
  },
  {
   "cell_type": "code",
   "execution_count": 26,
   "metadata": {},
   "outputs": [
    {
     "name": "stdout",
     "output_type": "stream",
     "text": [
      "[ 1  0  3  2  4 20  5]\n"
     ]
    }
   ],
   "source": [
    "# Checking the `children` column again to make sure it's all fixed\n",
    "print(credit_score_data['children'].unique())\n",
    "\n",
    "# credit_score_data.shape\n",
    "# print (21525-credit_score_data.shape[0])\n",
    "# reference: https://www.shanelynn.ie/pandas-drop-delete-dataframe-rows-columns/"
   ]
  },
  {
   "cell_type": "code",
   "execution_count": 27,
   "metadata": {},
   "outputs": [
    {
     "name": "stdout",
     "output_type": "stream",
     "text": [
      "[-8437.67302776 -4024.80375385 -5623.42261023 ... -2113.3468877\n",
      " -3112.4817052  -1984.50758853]\n",
      "15869\n",
      "The percentage of days employed with negative values is: 73.88%\n"
     ]
    }
   ],
   "source": [
    "# Find problematic data in `days_employed`, if they exist, and calculate the percentage\n",
    "\n",
    "print(credit_score_data['days_employed'].unique())\n",
    "\n",
    "print(sum(credit_score_data['days_employed']<0))\n",
    "\n",
    "perct_negative_days_employed = sum(credit_score_data['days_employed']<0)/credit_score_data.shape[0]\n",
    "\n",
    "print(f'The percentage of days employed with negative values is: {perct_negative_days_employed:.2%}')"
   ]
  },
  {
   "cell_type": "markdown",
   "metadata": {},
   "source": [
    "We see that data in the `days_employed` column has many negative values. The percentage of days employed with negative values is as high as 73.88%. This might be caused by some technical issues which added a negative sign to the values. I think the most reasonable way to correct the data in the `days_employed` column is to change the negative numbers to positive numbers with the same absolute values.    "
   ]
  },
  {
   "cell_type": "code",
   "execution_count": 28,
   "metadata": {},
   "outputs": [],
   "source": [
    "# Address the problematic values, if they exist\n",
    "credit_score_data['days_employed'] = credit_score_data['days_employed'].abs()"
   ]
  },
  {
   "cell_type": "code",
   "execution_count": 29,
   "metadata": {},
   "outputs": [
    {
     "name": "stdout",
     "output_type": "stream",
     "text": [
      "[8437.67302776 4024.80375385 5623.42261023 ... 2113.3468877  3112.4817052\n",
      " 1984.50758853]\n"
     ]
    }
   ],
   "source": [
    "# Check the result - make sure it's fixed\n",
    "print(credit_score_data['days_employed'].unique())"
   ]
  },
  {
   "cell_type": "markdown",
   "metadata": {},
   "source": [
    "Let's now look at the client's age and whether there are any issues there."
   ]
  },
  {
   "cell_type": "code",
   "execution_count": 30,
   "metadata": {
    "scrolled": false
   },
   "outputs": [
    {
     "name": "stdout",
     "output_type": "stream",
     "text": [
      "[42 36 33 32 53 27 43 50 35 41 40 65 54 56 26 48 24 21 57 67 28 63 62 47\n",
      " 34 68 25 31 30 20 49 37 45 61 64 44 52 46 23 38 39 51  0 59 29 60 55 58\n",
      " 71 22 73 66 69 19 72 70 74 75]\n",
      "0\n",
      "75\n"
     ]
    }
   ],
   "source": [
    "# Check the `dob_years` for suspicious values and count the percentage\n",
    "print(credit_score_data['dob_years'].unique())\n",
    "print(credit_score_data['dob_years'].min())\n",
    "print(credit_score_data['dob_years'].max())\n"
   ]
  },
  {
   "cell_type": "markdown",
   "metadata": {},
   "source": [
    "The age ranges from 0 to 75. But 0 cannot be someone's age. Now let's check how many rows with age = 0."
   ]
  },
  {
   "cell_type": "code",
   "execution_count": 31,
   "metadata": {},
   "outputs": [
    {
     "name": "stdout",
     "output_type": "stream",
     "text": [
      "101\n"
     ]
    }
   ],
   "source": [
    "print(sum(credit_score_data['dob_years'] == 0))"
   ]
  },
  {
   "cell_type": "markdown",
   "metadata": {},
   "source": [
    "There are 101 rows with clients' age that is 0. I suspect that age = 0 means age is missing. Because there are not that many rows with age = 0, I think it is safe to remove those rows with missing values.  "
   ]
  },
  {
   "cell_type": "code",
   "execution_count": 32,
   "metadata": {},
   "outputs": [],
   "source": [
    "# Address the issues in the `dob_years` column, if they exist\n",
    "credit_score_data = credit_score_data.loc[credit_score_data[\"dob_years\"] > 0]"
   ]
  },
  {
   "cell_type": "code",
   "execution_count": 33,
   "metadata": {
    "scrolled": true
   },
   "outputs": [
    {
     "name": "stdout",
     "output_type": "stream",
     "text": [
      "19\n"
     ]
    }
   ],
   "source": [
    "# Check the result - make sure it's fixed\n",
    "print(credit_score_data['dob_years'].min())"
   ]
  },
  {
   "cell_type": "markdown",
   "metadata": {},
   "source": [
    "Now it shows that the minimum age of all clients is 19, which is reasonable. We can move on to check the `family_status` column.  "
   ]
  },
  {
   "cell_type": "code",
   "execution_count": 34,
   "metadata": {},
   "outputs": [
    {
     "name": "stdout",
     "output_type": "stream",
     "text": [
      "['married' 'civil partnership' 'widow / widower' 'divorced' 'unmarried']\n"
     ]
    }
   ],
   "source": [
    "# Let's see the values for the column\n",
    "print(credit_score_data['family_status'].unique())"
   ]
  },
  {
   "cell_type": "markdown",
   "metadata": {},
   "source": [
    "I do not see any issues with the `family_status` column. Now let's move on to check the `gender` column."
   ]
  },
  {
   "cell_type": "code",
   "execution_count": 35,
   "metadata": {},
   "outputs": [
    {
     "name": "stdout",
     "output_type": "stream",
     "text": [
      "['F' 'M' 'XNA']\n"
     ]
    }
   ],
   "source": [
    "# Let's see the values in the column\n",
    "print(credit_score_data['gender'].unique())"
   ]
  },
  {
   "cell_type": "markdown",
   "metadata": {},
   "source": [
    "There are three unique values in the `gender` column: F, M and XNA. I think XNA means missing values. Let's find out how many missing values the `gender` column has.   "
   ]
  },
  {
   "cell_type": "code",
   "execution_count": 36,
   "metadata": {},
   "outputs": [
    {
     "name": "stdout",
     "output_type": "stream",
     "text": [
      "1\n"
     ]
    }
   ],
   "source": [
    "# Address the problematic values, if they exist\n",
    "print(sum(credit_score_data['gender'] == 'XNA'))"
   ]
  },
  {
   "cell_type": "markdown",
   "metadata": {},
   "source": [
    "There is only one row that has gender = XNA. We can remove this row from the dataset."
   ]
  },
  {
   "cell_type": "code",
   "execution_count": 37,
   "metadata": {},
   "outputs": [],
   "source": [
    "credit_score_data = credit_score_data.loc[credit_score_data[\"gender\"] != 'XNA']"
   ]
  },
  {
   "cell_type": "markdown",
   "metadata": {},
   "source": [
    "<div class=\"alert alert-success\" role=\"alert\">\n",
    "<b>Reviewer's comment v1</b>\n",
    "\n",
    "Good that you excluded this value."
   ]
  },
  {
   "cell_type": "code",
   "execution_count": 38,
   "metadata": {},
   "outputs": [
    {
     "name": "stdout",
     "output_type": "stream",
     "text": [
      "['F' 'M']\n"
     ]
    }
   ],
   "source": [
    "# Check the result - make sure it's fixed\n",
    "print(credit_score_data['gender'].unique())"
   ]
  },
  {
   "cell_type": "markdown",
   "metadata": {},
   "source": [
    "Now the `gender` column has two unique values: F, M. This looks good! Next, let's check the `income_type` column."
   ]
  },
  {
   "cell_type": "code",
   "execution_count": 39,
   "metadata": {},
   "outputs": [
    {
     "name": "stdout",
     "output_type": "stream",
     "text": [
      "['employee' 'retiree' 'business' 'civil servant' 'unemployed'\n",
      " 'entrepreneur' 'student' 'paternity / maternity leave']\n"
     ]
    }
   ],
   "source": [
    "# Let's see the values in the column\n",
    "print(credit_score_data['income_type'].unique())"
   ]
  },
  {
   "cell_type": "markdown",
   "metadata": {},
   "source": [
    "I do not see any issues with the `income_type` column. Now let's see if we have any duplicates in our data."
   ]
  },
  {
   "cell_type": "code",
   "execution_count": 40,
   "metadata": {},
   "outputs": [
    {
     "data": {
      "text/plain": [
       "71"
      ]
     },
     "execution_count": 40,
     "metadata": {},
     "output_type": "execute_result"
    }
   ],
   "source": [
    "# Checking duplicates\n",
    "credit_score_data.duplicated().sum()"
   ]
  },
  {
   "cell_type": "code",
   "execution_count": 41,
   "metadata": {},
   "outputs": [],
   "source": [
    "# Address the duplicates, if they exist\n",
    "credit_score_data = credit_score_data.drop_duplicates().reset_index(drop=True)"
   ]
  },
  {
   "cell_type": "code",
   "execution_count": 42,
   "metadata": {},
   "outputs": [
    {
     "data": {
      "text/plain": [
       "0"
      ]
     },
     "execution_count": 42,
     "metadata": {},
     "output_type": "execute_result"
    }
   ],
   "source": [
    "# Last check whether we have any duplicates\n",
    "credit_score_data.duplicated().sum()"
   ]
  },
  {
   "cell_type": "markdown",
   "metadata": {},
   "source": [
    "The data set has 71 duplicated rows and they are dropped from the data set.  "
   ]
  },
  {
   "cell_type": "code",
   "execution_count": 43,
   "metadata": {
    "scrolled": true
   },
   "outputs": [
    {
     "data": {
      "text/plain": [
       "(21305, 12)"
      ]
     },
     "execution_count": 43,
     "metadata": {},
     "output_type": "execute_result"
    }
   ],
   "source": [
    "# Check the size of the dataset that you now have after your first manipulations with it\n",
    "credit_score_data.shape"
   ]
  },
  {
   "cell_type": "code",
   "execution_count": 44,
   "metadata": {},
   "outputs": [
    {
     "name": "stdout",
     "output_type": "stream",
     "text": [
      "The percentage of rows removed from the dataset is: 1.02%\n"
     ]
    }
   ],
   "source": [
    "perct_rows_removed = (21525-21305)/21525\n",
    "print(f'The percentage of rows removed from the dataset is: {perct_rows_removed:.2%}')"
   ]
  },
  {
   "cell_type": "code",
   "execution_count": 45,
   "metadata": {},
   "outputs": [
    {
     "data": {
      "text/html": [
       "<div>\n",
       "<style scoped>\n",
       "    .dataframe tbody tr th:only-of-type {\n",
       "        vertical-align: middle;\n",
       "    }\n",
       "\n",
       "    .dataframe tbody tr th {\n",
       "        vertical-align: top;\n",
       "    }\n",
       "\n",
       "    .dataframe thead th {\n",
       "        text-align: right;\n",
       "    }\n",
       "</style>\n",
       "<table border=\"1\" class=\"dataframe\">\n",
       "  <thead>\n",
       "    <tr style=\"text-align: right;\">\n",
       "      <th></th>\n",
       "      <th>children</th>\n",
       "      <th>days_employed</th>\n",
       "      <th>dob_years</th>\n",
       "      <th>education</th>\n",
       "      <th>education_id</th>\n",
       "      <th>family_status</th>\n",
       "      <th>family_status_id</th>\n",
       "      <th>gender</th>\n",
       "      <th>income_type</th>\n",
       "      <th>debt</th>\n",
       "      <th>total_income</th>\n",
       "      <th>purpose</th>\n",
       "    </tr>\n",
       "  </thead>\n",
       "  <tbody>\n",
       "    <tr>\n",
       "      <td>0</td>\n",
       "      <td>1</td>\n",
       "      <td>8437.673028</td>\n",
       "      <td>42</td>\n",
       "      <td>bachelor's degree</td>\n",
       "      <td>0</td>\n",
       "      <td>married</td>\n",
       "      <td>0</td>\n",
       "      <td>F</td>\n",
       "      <td>employee</td>\n",
       "      <td>0</td>\n",
       "      <td>40620.102</td>\n",
       "      <td>purchase of the house</td>\n",
       "    </tr>\n",
       "    <tr>\n",
       "      <td>1</td>\n",
       "      <td>1</td>\n",
       "      <td>4024.803754</td>\n",
       "      <td>36</td>\n",
       "      <td>secondary education</td>\n",
       "      <td>1</td>\n",
       "      <td>married</td>\n",
       "      <td>0</td>\n",
       "      <td>F</td>\n",
       "      <td>employee</td>\n",
       "      <td>0</td>\n",
       "      <td>17932.802</td>\n",
       "      <td>car purchase</td>\n",
       "    </tr>\n",
       "    <tr>\n",
       "      <td>2</td>\n",
       "      <td>0</td>\n",
       "      <td>5623.422610</td>\n",
       "      <td>33</td>\n",
       "      <td>secondary education</td>\n",
       "      <td>1</td>\n",
       "      <td>married</td>\n",
       "      <td>0</td>\n",
       "      <td>M</td>\n",
       "      <td>employee</td>\n",
       "      <td>0</td>\n",
       "      <td>23341.752</td>\n",
       "      <td>purchase of the house</td>\n",
       "    </tr>\n",
       "    <tr>\n",
       "      <td>3</td>\n",
       "      <td>3</td>\n",
       "      <td>4124.747207</td>\n",
       "      <td>32</td>\n",
       "      <td>secondary education</td>\n",
       "      <td>1</td>\n",
       "      <td>married</td>\n",
       "      <td>0</td>\n",
       "      <td>M</td>\n",
       "      <td>employee</td>\n",
       "      <td>0</td>\n",
       "      <td>42820.568</td>\n",
       "      <td>supplementary education</td>\n",
       "    </tr>\n",
       "    <tr>\n",
       "      <td>4</td>\n",
       "      <td>0</td>\n",
       "      <td>340266.072047</td>\n",
       "      <td>53</td>\n",
       "      <td>secondary education</td>\n",
       "      <td>1</td>\n",
       "      <td>civil partnership</td>\n",
       "      <td>1</td>\n",
       "      <td>F</td>\n",
       "      <td>retiree</td>\n",
       "      <td>0</td>\n",
       "      <td>25378.572</td>\n",
       "      <td>to have a wedding</td>\n",
       "    </tr>\n",
       "    <tr>\n",
       "      <td>5</td>\n",
       "      <td>0</td>\n",
       "      <td>926.185831</td>\n",
       "      <td>27</td>\n",
       "      <td>bachelor's degree</td>\n",
       "      <td>0</td>\n",
       "      <td>civil partnership</td>\n",
       "      <td>1</td>\n",
       "      <td>M</td>\n",
       "      <td>business</td>\n",
       "      <td>0</td>\n",
       "      <td>40922.170</td>\n",
       "      <td>purchase of the house</td>\n",
       "    </tr>\n",
       "    <tr>\n",
       "      <td>6</td>\n",
       "      <td>0</td>\n",
       "      <td>2879.202052</td>\n",
       "      <td>43</td>\n",
       "      <td>bachelor's degree</td>\n",
       "      <td>0</td>\n",
       "      <td>married</td>\n",
       "      <td>0</td>\n",
       "      <td>F</td>\n",
       "      <td>business</td>\n",
       "      <td>0</td>\n",
       "      <td>38484.156</td>\n",
       "      <td>housing transactions</td>\n",
       "    </tr>\n",
       "    <tr>\n",
       "      <td>7</td>\n",
       "      <td>0</td>\n",
       "      <td>152.779569</td>\n",
       "      <td>50</td>\n",
       "      <td>secondary education</td>\n",
       "      <td>1</td>\n",
       "      <td>married</td>\n",
       "      <td>0</td>\n",
       "      <td>M</td>\n",
       "      <td>employee</td>\n",
       "      <td>0</td>\n",
       "      <td>21731.829</td>\n",
       "      <td>education</td>\n",
       "    </tr>\n",
       "    <tr>\n",
       "      <td>8</td>\n",
       "      <td>2</td>\n",
       "      <td>6929.865299</td>\n",
       "      <td>35</td>\n",
       "      <td>bachelor's degree</td>\n",
       "      <td>0</td>\n",
       "      <td>civil partnership</td>\n",
       "      <td>1</td>\n",
       "      <td>F</td>\n",
       "      <td>employee</td>\n",
       "      <td>0</td>\n",
       "      <td>15337.093</td>\n",
       "      <td>having a wedding</td>\n",
       "    </tr>\n",
       "    <tr>\n",
       "      <td>9</td>\n",
       "      <td>0</td>\n",
       "      <td>2188.756445</td>\n",
       "      <td>41</td>\n",
       "      <td>secondary education</td>\n",
       "      <td>1</td>\n",
       "      <td>married</td>\n",
       "      <td>0</td>\n",
       "      <td>M</td>\n",
       "      <td>employee</td>\n",
       "      <td>0</td>\n",
       "      <td>23108.150</td>\n",
       "      <td>purchase of the house for my family</td>\n",
       "    </tr>\n",
       "    <tr>\n",
       "      <td>10</td>\n",
       "      <td>2</td>\n",
       "      <td>4171.483647</td>\n",
       "      <td>36</td>\n",
       "      <td>bachelor's degree</td>\n",
       "      <td>0</td>\n",
       "      <td>married</td>\n",
       "      <td>0</td>\n",
       "      <td>M</td>\n",
       "      <td>business</td>\n",
       "      <td>0</td>\n",
       "      <td>18230.959</td>\n",
       "      <td>buy real estate</td>\n",
       "    </tr>\n",
       "    <tr>\n",
       "      <td>11</td>\n",
       "      <td>0</td>\n",
       "      <td>792.701887</td>\n",
       "      <td>40</td>\n",
       "      <td>secondary education</td>\n",
       "      <td>1</td>\n",
       "      <td>married</td>\n",
       "      <td>0</td>\n",
       "      <td>F</td>\n",
       "      <td>employee</td>\n",
       "      <td>0</td>\n",
       "      <td>12331.077</td>\n",
       "      <td>buy commercial real estate</td>\n",
       "    </tr>\n",
       "    <tr>\n",
       "      <td>12</td>\n",
       "      <td>0</td>\n",
       "      <td>NaN</td>\n",
       "      <td>65</td>\n",
       "      <td>secondary education</td>\n",
       "      <td>1</td>\n",
       "      <td>civil partnership</td>\n",
       "      <td>1</td>\n",
       "      <td>M</td>\n",
       "      <td>retiree</td>\n",
       "      <td>0</td>\n",
       "      <td>NaN</td>\n",
       "      <td>to have a wedding</td>\n",
       "    </tr>\n",
       "    <tr>\n",
       "      <td>13</td>\n",
       "      <td>0</td>\n",
       "      <td>1846.641941</td>\n",
       "      <td>54</td>\n",
       "      <td>some college</td>\n",
       "      <td>2</td>\n",
       "      <td>married</td>\n",
       "      <td>0</td>\n",
       "      <td>F</td>\n",
       "      <td>employee</td>\n",
       "      <td>0</td>\n",
       "      <td>20873.317</td>\n",
       "      <td>car purchase</td>\n",
       "    </tr>\n",
       "    <tr>\n",
       "      <td>14</td>\n",
       "      <td>0</td>\n",
       "      <td>1844.956182</td>\n",
       "      <td>56</td>\n",
       "      <td>bachelor's degree</td>\n",
       "      <td>0</td>\n",
       "      <td>civil partnership</td>\n",
       "      <td>1</td>\n",
       "      <td>F</td>\n",
       "      <td>business</td>\n",
       "      <td>1</td>\n",
       "      <td>26420.466</td>\n",
       "      <td>buy residential real estate</td>\n",
       "    </tr>\n",
       "  </tbody>\n",
       "</table>\n",
       "</div>"
      ],
      "text/plain": [
       "    children  days_employed  dob_years            education  education_id  \\\n",
       "0          1    8437.673028         42    bachelor's degree             0   \n",
       "1          1    4024.803754         36  secondary education             1   \n",
       "2          0    5623.422610         33  secondary education             1   \n",
       "3          3    4124.747207         32  secondary education             1   \n",
       "4          0  340266.072047         53  secondary education             1   \n",
       "5          0     926.185831         27    bachelor's degree             0   \n",
       "6          0    2879.202052         43    bachelor's degree             0   \n",
       "7          0     152.779569         50  secondary education             1   \n",
       "8          2    6929.865299         35    bachelor's degree             0   \n",
       "9          0    2188.756445         41  secondary education             1   \n",
       "10         2    4171.483647         36    bachelor's degree             0   \n",
       "11         0     792.701887         40  secondary education             1   \n",
       "12         0            NaN         65  secondary education             1   \n",
       "13         0    1846.641941         54         some college             2   \n",
       "14         0    1844.956182         56    bachelor's degree             0   \n",
       "\n",
       "        family_status  family_status_id gender income_type  debt  \\\n",
       "0             married                 0      F    employee     0   \n",
       "1             married                 0      F    employee     0   \n",
       "2             married                 0      M    employee     0   \n",
       "3             married                 0      M    employee     0   \n",
       "4   civil partnership                 1      F     retiree     0   \n",
       "5   civil partnership                 1      M    business     0   \n",
       "6             married                 0      F    business     0   \n",
       "7             married                 0      M    employee     0   \n",
       "8   civil partnership                 1      F    employee     0   \n",
       "9             married                 0      M    employee     0   \n",
       "10            married                 0      M    business     0   \n",
       "11            married                 0      F    employee     0   \n",
       "12  civil partnership                 1      M     retiree     0   \n",
       "13            married                 0      F    employee     0   \n",
       "14  civil partnership                 1      F    business     1   \n",
       "\n",
       "    total_income                              purpose  \n",
       "0      40620.102                purchase of the house  \n",
       "1      17932.802                         car purchase  \n",
       "2      23341.752                purchase of the house  \n",
       "3      42820.568              supplementary education  \n",
       "4      25378.572                    to have a wedding  \n",
       "5      40922.170                purchase of the house  \n",
       "6      38484.156                 housing transactions  \n",
       "7      21731.829                            education  \n",
       "8      15337.093                     having a wedding  \n",
       "9      23108.150  purchase of the house for my family  \n",
       "10     18230.959                      buy real estate  \n",
       "11     12331.077           buy commercial real estate  \n",
       "12           NaN                    to have a wedding  \n",
       "13     20873.317                         car purchase  \n",
       "14     26420.466          buy residential real estate  "
      ]
     },
     "execution_count": 45,
     "metadata": {},
     "output_type": "execute_result"
    }
   ],
   "source": [
    "credit_score_data.head(15)"
   ]
  },
  {
   "cell_type": "markdown",
   "metadata": {},
   "source": [
    "After checking each column, processing the abnormal values, and dropping duplicated rows, the new dataset now has 21305 rows and 12 columns. The percentage of rows removed from the dataset is about 1.02%. "
   ]
  },
  {
   "cell_type": "markdown",
   "metadata": {},
   "source": [
    "# Working with missing values"
   ]
  },
  {
   "cell_type": "markdown",
   "metadata": {},
   "source": [
    "To speed up working with some data, I want to work with dictionaries for some values, where IDs are provided. It is obvious that values from the columns `education_id` and `education` are key value pairs and they can be used to create a dictionary. Moreover, the columns `family_status_id` and `family_status` can be used to create another dictionary. \n",
    "\n",
    "The dictionaries I will work with are shown below:"
   ]
  },
  {
   "cell_type": "code",
   "execution_count": 46,
   "metadata": {},
   "outputs": [
    {
     "data": {
      "text/plain": [
       "education_id  education          \n",
       "0             bachelor's degree       5206\n",
       "1             secondary education    15071\n",
       "2             some college             740\n",
       "3             primary education        282\n",
       "4             graduate degree            6\n",
       "dtype: int64"
      ]
     },
     "execution_count": 46,
     "metadata": {},
     "output_type": "execute_result"
    }
   ],
   "source": [
    "education_id_education = credit_score_data.groupby(['education_id', 'education']).size()\n",
    "education_id_education"
   ]
  },
  {
   "cell_type": "code",
   "execution_count": 47,
   "metadata": {},
   "outputs": [],
   "source": [
    "# Find the dictionaries\n",
    "dict_education = {0:\"bachelor's degree\", \n",
    "                  1:\"secondary education\", \n",
    "                  2:\"some college\", \n",
    "                  3:\"primary education\", \n",
    "                  4:\"graduate degree\"}"
   ]
  },
  {
   "cell_type": "code",
   "execution_count": 48,
   "metadata": {
    "scrolled": false
   },
   "outputs": [
    {
     "data": {
      "text/plain": [
       "family_status_id  family_status    \n",
       "0                 married              12261\n",
       "1                 civil partnership     4124\n",
       "2                 widow / widower        950\n",
       "3                 divorced              1181\n",
       "4                 unmarried             2789\n",
       "dtype: int64"
      ]
     },
     "execution_count": 48,
     "metadata": {},
     "output_type": "execute_result"
    }
   ],
   "source": [
    "family_status_id_family_status = credit_score_data.groupby(['family_status_id', 'family_status']).size()\n",
    "family_status_id_family_status"
   ]
  },
  {
   "cell_type": "code",
   "execution_count": 49,
   "metadata": {},
   "outputs": [],
   "source": [
    "# Find the dictionaries\n",
    "dict_family_status = {0:\"married\", \n",
    "                  1:\"civil partnership\", \n",
    "                  2:\"widow / widower\", \n",
    "                  3:\"divorced\", \n",
    "                  4:\"unmarried\"}"
   ]
  },
  {
   "cell_type": "markdown",
   "metadata": {},
   "source": [
    "<div class=\"alert alert-warning\" role=\"alert\">\n",
    "<b>Reviewer's comment v1</b>\n",
    "\n",
    "To check overall data or correctness of operation you can create a histogram with changed data.\n",
    "</div>\n",
    "\n",
    "<div class=\"alert alert-info\"> <b>Student comments:</b> Sure. Sounds great! Let me try it.</div> \n",
    "    \n",
    "    "
   ]
  },
  {
   "cell_type": "code",
   "execution_count": 100,
   "metadata": {},
   "outputs": [
    {
     "data": {
      "text/plain": [
       "<matplotlib.axes._subplots.AxesSubplot at 0x7fb8721ecd10>"
      ]
     },
     "execution_count": 100,
     "metadata": {},
     "output_type": "execute_result"
    },
    {
     "data": {
      "image/png": "[encoded data removed]",
      "text/plain": [
       "<Figure size 432x288 with 1 Axes>"
      ]
     },
     "metadata": {
      "needs_background": "light"
     },
     "output_type": "display_data"
    }
   ],
   "source": [
    "family_status_id_family_status.plot(kind='bar')"
   ]
  },
  {
   "cell_type": "markdown",
   "metadata": {},
   "source": [
    "<div class=\"alert alert-block alert-success\">\n",
    "<b>Reviewer's comment v2:</b>\n",
    "    \n",
    "Nicely done! \n",
    "\n",
    "In order not to show auxiliary python outputs like \"matplotlib.axes._subplots.AxesSubplot at 0x7f5feaf7fc90 ', you can add a semicolon or plt.show () at the end of the line."
   ]
  },
  {
   "cell_type": "markdown",
   "metadata": {},
   "source": [
    "### Restoring missing values in `total_income`"
   ]
  },
  {
   "cell_type": "markdown",
   "metadata": {},
   "source": [
    "First, we want to find ways to impute the missing values in the `total_income` column. Total income might be associated with a person's days of employment, age, education level, gender and income type. With reasonable simplicity, we will: 1) create age categories for clients. 2) impute missing values in the `total_income` column using the median income for each age category. "
   ]
  },
  {
   "cell_type": "code",
   "execution_count": 51,
   "metadata": {},
   "outputs": [
    {
     "name": "stdout",
     "output_type": "stream",
     "text": [
      "19     14\n",
      "20     51\n",
      "21    111\n",
      "22    183\n",
      "23    251\n",
      "24    263\n",
      "25    357\n",
      "26    407\n",
      "27    492\n",
      "28    501\n",
      "29    544\n",
      "30    536\n",
      "31    557\n",
      "32    507\n",
      "33    579\n",
      "34    598\n",
      "35    615\n",
      "36    554\n",
      "37    534\n",
      "38    595\n",
      "39    572\n",
      "40    605\n",
      "41    603\n",
      "42    594\n",
      "43    511\n",
      "44    543\n",
      "45    496\n",
      "46    469\n",
      "47    477\n",
      "48    535\n",
      "49    508\n",
      "50    511\n",
      "51    445\n",
      "52    484\n",
      "53    458\n",
      "54    474\n",
      "55    442\n",
      "56    483\n",
      "57    454\n",
      "58    454\n",
      "59    442\n",
      "60    374\n",
      "61    353\n",
      "62    348\n",
      "63    268\n",
      "64    259\n",
      "65    193\n",
      "66    182\n",
      "67    167\n",
      "68     99\n",
      "69     84\n",
      "70     65\n",
      "71     56\n",
      "72     33\n",
      "73      8\n",
      "74      6\n",
      "75      1\n",
      "Name: dob_years, dtype: int64\n"
     ]
    }
   ],
   "source": [
    "print(credit_score_data['dob_years'].value_counts().sort_index())"
   ]
  },
  {
   "cell_type": "code",
   "execution_count": 52,
   "metadata": {},
   "outputs": [],
   "source": [
    "# Let's write a function that calculates the age category\n",
    "\n",
    "def age_group(age):\n",
    "    \n",
    "    \"\"\"\n",
    "    The function returns the age group according to the age values, using the following rules:\n",
    "    'young adult' for age <= 30\n",
    "    'adult'  for 30 < age <= 64\n",
    "    'retired'  for age > 64\n",
    "    \"\"\"\n",
    "    if age <= 30:\n",
    "        return 'young adult'\n",
    "    elif age <= 64:\n",
    "        return 'adult'\n",
    "    else:\n",
    "        return 'retired'"
   ]
  },
  {
   "cell_type": "code",
   "execution_count": 53,
   "metadata": {},
   "outputs": [
    {
     "name": "stdout",
     "output_type": "stream",
     "text": [
      "young adult\n",
      "adult\n",
      "retired\n"
     ]
    }
   ],
   "source": [
    "# Test if the function works\n",
    "age1 = 27\n",
    "print(age_group(age1))\n",
    "\n",
    "age2 = 37\n",
    "print(age_group(age2))\n",
    "\n",
    "age3 = 67\n",
    "print(age_group(age3))"
   ]
  },
  {
   "cell_type": "code",
   "execution_count": 54,
   "metadata": {},
   "outputs": [],
   "source": [
    "# Creating new column based on function\n",
    "\n",
    "credit_score_data['age_group'] = credit_score_data['dob_years'].apply(age_group)\n",
    "rows_with_missing_values['age_group'] =rows_with_missing_values['dob_years'].apply(age_group)"
   ]
  },
  {
   "cell_type": "code",
   "execution_count": 55,
   "metadata": {},
   "outputs": [
    {
     "data": {
      "text/plain": [
       "0          adult\n",
       "1          adult\n",
       "2          adult\n",
       "3          adult\n",
       "4          adult\n",
       "          ...   \n",
       "21300      adult\n",
       "21301    retired\n",
       "21302      adult\n",
       "21303      adult\n",
       "21304      adult\n",
       "Name: age_group, Length: 21305, dtype: object"
      ]
     },
     "execution_count": 55,
     "metadata": {},
     "output_type": "execute_result"
    }
   ],
   "source": [
    "# Checking how values in the new column\n",
    "\n",
    "credit_score_data['age_group']"
   ]
  },
  {
   "cell_type": "code",
   "execution_count": 56,
   "metadata": {},
   "outputs": [
    {
     "name": "stdout",
     "output_type": "stream",
     "text": [
      "      children  days_employed  dob_years            education  education_id  \\\n",
      "0            0            NaN         65  secondary education             1   \n",
      "1            0            NaN         41  secondary education             1   \n",
      "2            0            NaN         63  secondary education             1   \n",
      "3            0            NaN         50  secondary education             1   \n",
      "4            0            NaN         54  secondary education             1   \n",
      "...        ...            ...        ...                  ...           ...   \n",
      "2085         2            NaN         47  secondary education             1   \n",
      "2086         1            NaN         50  secondary education             1   \n",
      "2087         0            NaN         48    bachelor's degree             0   \n",
      "2088         1            NaN         42  secondary education             1   \n",
      "2089         2            NaN         28  secondary education             1   \n",
      "\n",
      "          family_status  family_status_id gender    income_type  debt  \\\n",
      "0     civil partnership                 1      M        retiree     0   \n",
      "1               married                 0      M  civil servant     0   \n",
      "2             unmarried                 4      F        retiree     0   \n",
      "3               married                 0      F  civil servant     0   \n",
      "4     civil partnership                 1      F        retiree     1   \n",
      "...                 ...               ...    ...            ...   ...   \n",
      "2085            married                 0      M       business     0   \n",
      "2086  civil partnership                 1      F       employee     0   \n",
      "2087            married                 0      F       business     0   \n",
      "2088            married                 0      F       employee     0   \n",
      "2089            married                 0      F       employee     0   \n",
      "\n",
      "      total_income                   purpose    age_group  \n",
      "0              NaN         to have a wedding      retired  \n",
      "1              NaN                 education        adult  \n",
      "2              NaN    building a real estate        adult  \n",
      "3              NaN  second-hand car purchase        adult  \n",
      "4              NaN         to have a wedding        adult  \n",
      "...            ...                       ...          ...  \n",
      "2085           NaN         purchase of a car        adult  \n",
      "2086           NaN          wedding ceremony        adult  \n",
      "2087           NaN       building a property        adult  \n",
      "2088           NaN    building a real estate        adult  \n",
      "2089           NaN              car purchase  young adult  \n",
      "\n",
      "[2090 rows x 13 columns]\n"
     ]
    }
   ],
   "source": [
    "rows_with_missing_values = credit_score_data[credit_score_data['days_employed'].isna()].reset_index(drop=True)\n",
    "print(rows_with_missing_values)"
   ]
  },
  {
   "cell_type": "code",
   "execution_count": 57,
   "metadata": {},
   "outputs": [],
   "source": [
    "# Create a table that only has data without missing values. \n",
    "# This data will be used to restore the missing values.\n",
    "credit_score_data_no_missing = credit_score_data.dropna(axis='rows').reset_index(drop=True)"
   ]
  },
  {
   "cell_type": "code",
   "execution_count": 58,
   "metadata": {},
   "outputs": [
    {
     "name": "stdout",
     "output_type": "stream",
     "text": [
      "    children  days_employed  dob_years            education  education_id  \\\n",
      "0          1    8437.673028         42    bachelor's degree             0   \n",
      "1          1    4024.803754         36  secondary education             1   \n",
      "2          0    5623.422610         33  secondary education             1   \n",
      "3          3    4124.747207         32  secondary education             1   \n",
      "4          0  340266.072047         53  secondary education             1   \n",
      "5          0     926.185831         27    bachelor's degree             0   \n",
      "6          0    2879.202052         43    bachelor's degree             0   \n",
      "7          0     152.779569         50  secondary education             1   \n",
      "8          2    6929.865299         35    bachelor's degree             0   \n",
      "9          0    2188.756445         41  secondary education             1   \n",
      "10         2    4171.483647         36    bachelor's degree             0   \n",
      "11         0     792.701887         40  secondary education             1   \n",
      "12         0    1846.641941         54         some college             2   \n",
      "13         0    1844.956182         56    bachelor's degree             0   \n",
      "14         1     972.364419         26  secondary education             1   \n",
      "\n",
      "        family_status  family_status_id gender income_type  debt  \\\n",
      "0             married                 0      F    employee     0   \n",
      "1             married                 0      F    employee     0   \n",
      "2             married                 0      M    employee     0   \n",
      "3             married                 0      M    employee     0   \n",
      "4   civil partnership                 1      F     retiree     0   \n",
      "5   civil partnership                 1      M    business     0   \n",
      "6             married                 0      F    business     0   \n",
      "7             married                 0      M    employee     0   \n",
      "8   civil partnership                 1      F    employee     0   \n",
      "9             married                 0      M    employee     0   \n",
      "10            married                 0      M    business     0   \n",
      "11            married                 0      F    employee     0   \n",
      "12            married                 0      F    employee     0   \n",
      "13  civil partnership                 1      F    business     1   \n",
      "14            married                 0      F    employee     0   \n",
      "\n",
      "    total_income                              purpose    age_group  \n",
      "0      40620.102                purchase of the house        adult  \n",
      "1      17932.802                         car purchase        adult  \n",
      "2      23341.752                purchase of the house        adult  \n",
      "3      42820.568              supplementary education        adult  \n",
      "4      25378.572                    to have a wedding        adult  \n",
      "5      40922.170                purchase of the house  young adult  \n",
      "6      38484.156                 housing transactions        adult  \n",
      "7      21731.829                            education        adult  \n",
      "8      15337.093                     having a wedding        adult  \n",
      "9      23108.150  purchase of the house for my family        adult  \n",
      "10     18230.959                      buy real estate        adult  \n",
      "11     12331.077           buy commercial real estate        adult  \n",
      "12     20873.317                         car purchase        adult  \n",
      "13     26420.466          buy residential real estate        adult  \n",
      "14     18691.345         construction of own property  young adult  \n"
     ]
    }
   ],
   "source": [
    "# Create a table without missing values and print a few of its rows to make sure it looks fine\n",
    "print(credit_score_data_no_missing.head(15))"
   ]
  },
  {
   "cell_type": "code",
   "execution_count": 59,
   "metadata": {},
   "outputs": [
    {
     "data": {
      "text/html": [
       "<div>\n",
       "<style scoped>\n",
       "    .dataframe tbody tr th:only-of-type {\n",
       "        vertical-align: middle;\n",
       "    }\n",
       "\n",
       "    .dataframe tbody tr th {\n",
       "        vertical-align: top;\n",
       "    }\n",
       "\n",
       "    .dataframe thead th {\n",
       "        text-align: right;\n",
       "    }\n",
       "</style>\n",
       "<table border=\"1\" class=\"dataframe\">\n",
       "  <thead>\n",
       "    <tr style=\"text-align: right;\">\n",
       "      <th></th>\n",
       "      <th>total_income</th>\n",
       "    </tr>\n",
       "    <tr>\n",
       "      <th>age_group</th>\n",
       "      <th></th>\n",
       "    </tr>\n",
       "  </thead>\n",
       "  <tbody>\n",
       "    <tr>\n",
       "      <td>adult</td>\n",
       "      <td>27305.187614</td>\n",
       "    </tr>\n",
       "    <tr>\n",
       "      <td>retired</td>\n",
       "      <td>21546.199144</td>\n",
       "    </tr>\n",
       "    <tr>\n",
       "      <td>young adult</td>\n",
       "      <td>25810.971051</td>\n",
       "    </tr>\n",
       "  </tbody>\n",
       "</table>\n",
       "</div>"
      ],
      "text/plain": [
       "             total_income\n",
       "age_group                \n",
       "adult        27305.187614\n",
       "retired      21546.199144\n",
       "young adult  25810.971051"
      ]
     },
     "execution_count": 59,
     "metadata": {},
     "output_type": "execute_result"
    }
   ],
   "source": [
    "# Look at the mean values for income based on your identified factors\n",
    "credit_score_data_no_missing.pivot_table(index='age_group', \n",
    "                                        values='total_income', \n",
    "                                        aggfunc= 'mean')"
   ]
  },
  {
   "cell_type": "code",
   "execution_count": 60,
   "metadata": {
    "scrolled": true
   },
   "outputs": [
    {
     "data": {
      "text/html": [
       "<div>\n",
       "<style scoped>\n",
       "    .dataframe tbody tr th:only-of-type {\n",
       "        vertical-align: middle;\n",
       "    }\n",
       "\n",
       "    .dataframe tbody tr th {\n",
       "        vertical-align: top;\n",
       "    }\n",
       "\n",
       "    .dataframe thead th {\n",
       "        text-align: right;\n",
       "    }\n",
       "</style>\n",
       "<table border=\"1\" class=\"dataframe\">\n",
       "  <thead>\n",
       "    <tr style=\"text-align: right;\">\n",
       "      <th></th>\n",
       "      <th>total_income</th>\n",
       "    </tr>\n",
       "    <tr>\n",
       "      <th>age_group</th>\n",
       "      <th></th>\n",
       "    </tr>\n",
       "  </thead>\n",
       "  <tbody>\n",
       "    <tr>\n",
       "      <td>adult</td>\n",
       "      <td>23547.067</td>\n",
       "    </tr>\n",
       "    <tr>\n",
       "      <td>retired</td>\n",
       "      <td>18434.205</td>\n",
       "    </tr>\n",
       "    <tr>\n",
       "      <td>young adult</td>\n",
       "      <td>22955.474</td>\n",
       "    </tr>\n",
       "  </tbody>\n",
       "</table>\n",
       "</div>"
      ],
      "text/plain": [
       "             total_income\n",
       "age_group                \n",
       "adult           23547.067\n",
       "retired         18434.205\n",
       "young adult     22955.474"
      ]
     },
     "execution_count": 60,
     "metadata": {},
     "output_type": "execute_result"
    }
   ],
   "source": [
    "# Look at the median values for income based on your identified factors\n",
    "credit_score_data_no_missing.pivot_table(index='age_group', \n",
    "                                        values='total_income', \n",
    "                                        aggfunc= 'median')"
   ]
  },
  {
   "cell_type": "markdown",
   "metadata": {},
   "source": [
    "The distribution of income is right skewed because mean is larger than the median for each age group. Thus, median income represents the average population income better. It is better to use median income for imputation for the total income.  "
   ]
  },
  {
   "cell_type": "code",
   "execution_count": 61,
   "metadata": {},
   "outputs": [],
   "source": [
    "#  Write a function that we will use for filling in missing values\n",
    "\n",
    "def total_income_fill_na(row):\n",
    "    age_group = row['age_group']\n",
    "    if age_group == 'young adult':\n",
    "        return 22955.474\n",
    "    elif age_group == 'adult':\n",
    "        return 23547.067\n",
    "    else:\n",
    "        return 18434.205\n",
    "        "
   ]
  },
  {
   "cell_type": "code",
   "execution_count": 62,
   "metadata": {
    "scrolled": true
   },
   "outputs": [],
   "source": [
    "# print(rows_with_missing_values)"
   ]
  },
  {
   "cell_type": "code",
   "execution_count": 63,
   "metadata": {},
   "outputs": [
    {
     "name": "stdout",
     "output_type": "stream",
     "text": [
      "18434.205\n",
      "23547.067\n",
      "22955.474\n"
     ]
    }
   ],
   "source": [
    "# Check if it works\n",
    "# age_group1 = 'young adult'\n",
    "row1 = rows_with_missing_values.loc[0]\n",
    "# print(row1)\n",
    "print(total_income_fill_na(row1))\n",
    "\n",
    "row2 = rows_with_missing_values.loc[1]\n",
    "# print(row1)\n",
    "print(total_income_fill_na(row2))\n",
    "\n",
    "row3 = rows_with_missing_values.loc[2089]\n",
    "# print(row1)\n",
    "print(total_income_fill_na(row3))"
   ]
  },
  {
   "cell_type": "code",
   "execution_count": 64,
   "metadata": {
    "scrolled": true
   },
   "outputs": [],
   "source": [
    "# Apply it to every row\n",
    "\n",
    "rows_with_missing_values['total_income'] = rows_with_missing_values.apply(total_income_fill_na, axis=1)"
   ]
  },
  {
   "cell_type": "code",
   "execution_count": 65,
   "metadata": {},
   "outputs": [
    {
     "data": {
      "text/html": [
       "<div>\n",
       "<style scoped>\n",
       "    .dataframe tbody tr th:only-of-type {\n",
       "        vertical-align: middle;\n",
       "    }\n",
       "\n",
       "    .dataframe tbody tr th {\n",
       "        vertical-align: top;\n",
       "    }\n",
       "\n",
       "    .dataframe thead th {\n",
       "        text-align: right;\n",
       "    }\n",
       "</style>\n",
       "<table border=\"1\" class=\"dataframe\">\n",
       "  <thead>\n",
       "    <tr style=\"text-align: right;\">\n",
       "      <th></th>\n",
       "      <th>children</th>\n",
       "      <th>days_employed</th>\n",
       "      <th>dob_years</th>\n",
       "      <th>education</th>\n",
       "      <th>education_id</th>\n",
       "      <th>family_status</th>\n",
       "      <th>family_status_id</th>\n",
       "      <th>gender</th>\n",
       "      <th>income_type</th>\n",
       "      <th>debt</th>\n",
       "      <th>total_income</th>\n",
       "      <th>purpose</th>\n",
       "      <th>age_group</th>\n",
       "    </tr>\n",
       "  </thead>\n",
       "  <tbody>\n",
       "    <tr>\n",
       "      <td>0</td>\n",
       "      <td>0</td>\n",
       "      <td>NaN</td>\n",
       "      <td>65</td>\n",
       "      <td>secondary education</td>\n",
       "      <td>1</td>\n",
       "      <td>civil partnership</td>\n",
       "      <td>1</td>\n",
       "      <td>M</td>\n",
       "      <td>retiree</td>\n",
       "      <td>0</td>\n",
       "      <td>18434.205</td>\n",
       "      <td>to have a wedding</td>\n",
       "      <td>retired</td>\n",
       "    </tr>\n",
       "    <tr>\n",
       "      <td>1</td>\n",
       "      <td>0</td>\n",
       "      <td>NaN</td>\n",
       "      <td>41</td>\n",
       "      <td>secondary education</td>\n",
       "      <td>1</td>\n",
       "      <td>married</td>\n",
       "      <td>0</td>\n",
       "      <td>M</td>\n",
       "      <td>civil servant</td>\n",
       "      <td>0</td>\n",
       "      <td>23547.067</td>\n",
       "      <td>education</td>\n",
       "      <td>adult</td>\n",
       "    </tr>\n",
       "    <tr>\n",
       "      <td>2</td>\n",
       "      <td>0</td>\n",
       "      <td>NaN</td>\n",
       "      <td>63</td>\n",
       "      <td>secondary education</td>\n",
       "      <td>1</td>\n",
       "      <td>unmarried</td>\n",
       "      <td>4</td>\n",
       "      <td>F</td>\n",
       "      <td>retiree</td>\n",
       "      <td>0</td>\n",
       "      <td>23547.067</td>\n",
       "      <td>building a real estate</td>\n",
       "      <td>adult</td>\n",
       "    </tr>\n",
       "    <tr>\n",
       "      <td>3</td>\n",
       "      <td>0</td>\n",
       "      <td>NaN</td>\n",
       "      <td>50</td>\n",
       "      <td>secondary education</td>\n",
       "      <td>1</td>\n",
       "      <td>married</td>\n",
       "      <td>0</td>\n",
       "      <td>F</td>\n",
       "      <td>civil servant</td>\n",
       "      <td>0</td>\n",
       "      <td>23547.067</td>\n",
       "      <td>second-hand car purchase</td>\n",
       "      <td>adult</td>\n",
       "    </tr>\n",
       "    <tr>\n",
       "      <td>4</td>\n",
       "      <td>0</td>\n",
       "      <td>NaN</td>\n",
       "      <td>54</td>\n",
       "      <td>secondary education</td>\n",
       "      <td>1</td>\n",
       "      <td>civil partnership</td>\n",
       "      <td>1</td>\n",
       "      <td>F</td>\n",
       "      <td>retiree</td>\n",
       "      <td>1</td>\n",
       "      <td>23547.067</td>\n",
       "      <td>to have a wedding</td>\n",
       "      <td>adult</td>\n",
       "    </tr>\n",
       "    <tr>\n",
       "      <td>...</td>\n",
       "      <td>...</td>\n",
       "      <td>...</td>\n",
       "      <td>...</td>\n",
       "      <td>...</td>\n",
       "      <td>...</td>\n",
       "      <td>...</td>\n",
       "      <td>...</td>\n",
       "      <td>...</td>\n",
       "      <td>...</td>\n",
       "      <td>...</td>\n",
       "      <td>...</td>\n",
       "      <td>...</td>\n",
       "      <td>...</td>\n",
       "    </tr>\n",
       "    <tr>\n",
       "      <td>2085</td>\n",
       "      <td>2</td>\n",
       "      <td>NaN</td>\n",
       "      <td>47</td>\n",
       "      <td>secondary education</td>\n",
       "      <td>1</td>\n",
       "      <td>married</td>\n",
       "      <td>0</td>\n",
       "      <td>M</td>\n",
       "      <td>business</td>\n",
       "      <td>0</td>\n",
       "      <td>23547.067</td>\n",
       "      <td>purchase of a car</td>\n",
       "      <td>adult</td>\n",
       "    </tr>\n",
       "    <tr>\n",
       "      <td>2086</td>\n",
       "      <td>1</td>\n",
       "      <td>NaN</td>\n",
       "      <td>50</td>\n",
       "      <td>secondary education</td>\n",
       "      <td>1</td>\n",
       "      <td>civil partnership</td>\n",
       "      <td>1</td>\n",
       "      <td>F</td>\n",
       "      <td>employee</td>\n",
       "      <td>0</td>\n",
       "      <td>23547.067</td>\n",
       "      <td>wedding ceremony</td>\n",
       "      <td>adult</td>\n",
       "    </tr>\n",
       "    <tr>\n",
       "      <td>2087</td>\n",
       "      <td>0</td>\n",
       "      <td>NaN</td>\n",
       "      <td>48</td>\n",
       "      <td>bachelor's degree</td>\n",
       "      <td>0</td>\n",
       "      <td>married</td>\n",
       "      <td>0</td>\n",
       "      <td>F</td>\n",
       "      <td>business</td>\n",
       "      <td>0</td>\n",
       "      <td>23547.067</td>\n",
       "      <td>building a property</td>\n",
       "      <td>adult</td>\n",
       "    </tr>\n",
       "    <tr>\n",
       "      <td>2088</td>\n",
       "      <td>1</td>\n",
       "      <td>NaN</td>\n",
       "      <td>42</td>\n",
       "      <td>secondary education</td>\n",
       "      <td>1</td>\n",
       "      <td>married</td>\n",
       "      <td>0</td>\n",
       "      <td>F</td>\n",
       "      <td>employee</td>\n",
       "      <td>0</td>\n",
       "      <td>23547.067</td>\n",
       "      <td>building a real estate</td>\n",
       "      <td>adult</td>\n",
       "    </tr>\n",
       "    <tr>\n",
       "      <td>2089</td>\n",
       "      <td>2</td>\n",
       "      <td>NaN</td>\n",
       "      <td>28</td>\n",
       "      <td>secondary education</td>\n",
       "      <td>1</td>\n",
       "      <td>married</td>\n",
       "      <td>0</td>\n",
       "      <td>F</td>\n",
       "      <td>employee</td>\n",
       "      <td>0</td>\n",
       "      <td>22955.474</td>\n",
       "      <td>car purchase</td>\n",
       "      <td>young adult</td>\n",
       "    </tr>\n",
       "  </tbody>\n",
       "</table>\n",
       "<p>2090 rows × 13 columns</p>\n",
       "</div>"
      ],
      "text/plain": [
       "      children  days_employed  dob_years            education  education_id  \\\n",
       "0            0            NaN         65  secondary education             1   \n",
       "1            0            NaN         41  secondary education             1   \n",
       "2            0            NaN         63  secondary education             1   \n",
       "3            0            NaN         50  secondary education             1   \n",
       "4            0            NaN         54  secondary education             1   \n",
       "...        ...            ...        ...                  ...           ...   \n",
       "2085         2            NaN         47  secondary education             1   \n",
       "2086         1            NaN         50  secondary education             1   \n",
       "2087         0            NaN         48    bachelor's degree             0   \n",
       "2088         1            NaN         42  secondary education             1   \n",
       "2089         2            NaN         28  secondary education             1   \n",
       "\n",
       "          family_status  family_status_id gender    income_type  debt  \\\n",
       "0     civil partnership                 1      M        retiree     0   \n",
       "1               married                 0      M  civil servant     0   \n",
       "2             unmarried                 4      F        retiree     0   \n",
       "3               married                 0      F  civil servant     0   \n",
       "4     civil partnership                 1      F        retiree     1   \n",
       "...                 ...               ...    ...            ...   ...   \n",
       "2085            married                 0      M       business     0   \n",
       "2086  civil partnership                 1      F       employee     0   \n",
       "2087            married                 0      F       business     0   \n",
       "2088            married                 0      F       employee     0   \n",
       "2089            married                 0      F       employee     0   \n",
       "\n",
       "      total_income                   purpose    age_group  \n",
       "0        18434.205         to have a wedding      retired  \n",
       "1        23547.067                 education        adult  \n",
       "2        23547.067    building a real estate        adult  \n",
       "3        23547.067  second-hand car purchase        adult  \n",
       "4        23547.067         to have a wedding        adult  \n",
       "...            ...                       ...          ...  \n",
       "2085     23547.067         purchase of a car        adult  \n",
       "2086     23547.067          wedding ceremony        adult  \n",
       "2087     23547.067       building a property        adult  \n",
       "2088     23547.067    building a real estate        adult  \n",
       "2089     22955.474              car purchase  young adult  \n",
       "\n",
       "[2090 rows x 13 columns]"
      ]
     },
     "execution_count": 65,
     "metadata": {},
     "output_type": "execute_result"
    }
   ],
   "source": [
    "# Check if we got any errors\n",
    "rows_with_missing_values"
   ]
  },
  {
   "cell_type": "code",
   "execution_count": 66,
   "metadata": {},
   "outputs": [
    {
     "data": {
      "text/plain": [
       "2090"
      ]
     },
     "execution_count": 66,
     "metadata": {},
     "output_type": "execute_result"
    }
   ],
   "source": [
    "# Checking the number of entries in the columns\n",
    "\n",
    "len(rows_with_missing_values['total_income'])"
   ]
  },
  {
   "cell_type": "markdown",
   "metadata": {},
   "source": [
    "###  Restoring values in `days_employed`"
   ]
  },
  {
   "cell_type": "markdown",
   "metadata": {},
   "source": [
    "If a person work for 40 years, then equavalently he/she works 14600 days. "
   ]
  },
  {
   "cell_type": "code",
   "execution_count": 67,
   "metadata": {
    "scrolled": false
   },
   "outputs": [
    {
     "data": {
      "text/plain": [
       "4        340266.072047\n",
       "17       400281.136913\n",
       "23       338551.952911\n",
       "24       363548.489348\n",
       "27       335581.668515\n",
       "             ...      \n",
       "19196    338904.866406\n",
       "19199    386497.714078\n",
       "19200    362161.054124\n",
       "19208    373995.710838\n",
       "19211    343937.404131\n",
       "Name: days_employed, Length: 3438, dtype: float64"
      ]
     },
     "execution_count": 67,
     "metadata": {},
     "output_type": "execute_result"
    }
   ],
   "source": [
    "credit_score_data_no_missing[credit_score_data_no_missing['days_employed']>=14600]['days_employed']\n",
    "\n",
    "# credit_score_data_no_missing['days_employed'].sort_values().tail(100)"
   ]
  },
  {
   "cell_type": "markdown",
   "metadata": {},
   "source": [
    "Notice that in the dataset, there are 3438 clients who reported themselves working more than 300000 days, which is about 822 years! That is impossile! There must be some data entry errors for clients with unusually large values for days imployed. It is hard to tell why those values are unrealisticly large. So I decide to drop rows with `days_employed` >= 14600. "
   ]
  },
  {
   "cell_type": "code",
   "execution_count": 68,
   "metadata": {},
   "outputs": [],
   "source": [
    "credit_score_data_no_missing = credit_score_data_no_missing[credit_score_data_no_missing['days_employed'] <= 14600]"
   ]
  },
  {
   "cell_type": "code",
   "execution_count": 69,
   "metadata": {
    "pycharm": {
     "name": "#%%\n"
    }
   },
   "outputs": [
    {
     "data": {
      "text/html": [
       "<div>\n",
       "<style scoped>\n",
       "    .dataframe tbody tr th:only-of-type {\n",
       "        vertical-align: middle;\n",
       "    }\n",
       "\n",
       "    .dataframe tbody tr th {\n",
       "        vertical-align: top;\n",
       "    }\n",
       "\n",
       "    .dataframe thead th {\n",
       "        text-align: right;\n",
       "    }\n",
       "</style>\n",
       "<table border=\"1\" class=\"dataframe\">\n",
       "  <thead>\n",
       "    <tr style=\"text-align: right;\">\n",
       "      <th></th>\n",
       "      <th>days_employed</th>\n",
       "    </tr>\n",
       "    <tr>\n",
       "      <th>age_group</th>\n",
       "      <th></th>\n",
       "    </tr>\n",
       "  </thead>\n",
       "  <tbody>\n",
       "    <tr>\n",
       "      <td>adult</td>\n",
       "      <td>1892.676984</td>\n",
       "    </tr>\n",
       "    <tr>\n",
       "      <td>retired</td>\n",
       "      <td>2761.484453</td>\n",
       "    </tr>\n",
       "    <tr>\n",
       "      <td>young adult</td>\n",
       "      <td>1043.334773</td>\n",
       "    </tr>\n",
       "  </tbody>\n",
       "</table>\n",
       "</div>"
      ],
      "text/plain": [
       "             days_employed\n",
       "age_group                 \n",
       "adult          1892.676984\n",
       "retired        2761.484453\n",
       "young adult    1043.334773"
      ]
     },
     "execution_count": 69,
     "metadata": {},
     "output_type": "execute_result"
    }
   ],
   "source": [
    "# Distribution of `days_employed` medians based on your identified parameters\n",
    "credit_score_data_no_missing.pivot_table(index='age_group', \n",
    "                                        values='days_employed', \n",
    "                                        aggfunc= 'median')"
   ]
  },
  {
   "cell_type": "code",
   "execution_count": 70,
   "metadata": {
    "scrolled": true
   },
   "outputs": [
    {
     "data": {
      "text/html": [
       "<div>\n",
       "<style scoped>\n",
       "    .dataframe tbody tr th:only-of-type {\n",
       "        vertical-align: middle;\n",
       "    }\n",
       "\n",
       "    .dataframe tbody tr th {\n",
       "        vertical-align: top;\n",
       "    }\n",
       "\n",
       "    .dataframe thead th {\n",
       "        text-align: right;\n",
       "    }\n",
       "</style>\n",
       "<table border=\"1\" class=\"dataframe\">\n",
       "  <thead>\n",
       "    <tr style=\"text-align: right;\">\n",
       "      <th></th>\n",
       "      <th>days_employed</th>\n",
       "    </tr>\n",
       "    <tr>\n",
       "      <th>age_group</th>\n",
       "      <th></th>\n",
       "    </tr>\n",
       "  </thead>\n",
       "  <tbody>\n",
       "    <tr>\n",
       "      <td>adult</td>\n",
       "      <td>2614.090656</td>\n",
       "    </tr>\n",
       "    <tr>\n",
       "      <td>retired</td>\n",
       "      <td>3817.982948</td>\n",
       "    </tr>\n",
       "    <tr>\n",
       "      <td>young adult</td>\n",
       "      <td>1279.049310</td>\n",
       "    </tr>\n",
       "  </tbody>\n",
       "</table>\n",
       "</div>"
      ],
      "text/plain": [
       "             days_employed\n",
       "age_group                 \n",
       "adult          2614.090656\n",
       "retired        3817.982948\n",
       "young adult    1279.049310"
      ]
     },
     "execution_count": 70,
     "metadata": {},
     "output_type": "execute_result"
    }
   ],
   "source": [
    "# Distribution of `days_employed` means based on your identified parameters\n",
    "credit_score_data_no_missing.pivot_table(index='age_group', \n",
    "                                        values='days_employed', \n",
    "                                        aggfunc= 'mean')"
   ]
  },
  {
   "cell_type": "markdown",
   "metadata": {},
   "source": [
    "The distribution of the number of days employed is right skewed because mean is larger than the median for each age group. Thus, median income represents the average number of days employed better. It is better to use median for imputation for the `days_employed` column.  "
   ]
  },
  {
   "cell_type": "code",
   "execution_count": 71,
   "metadata": {},
   "outputs": [],
   "source": [
    "# Let's write a function that calculates means or medians (depending on your decision) based on your identified parameter\n",
    "\n",
    "def days_employed_fill_na(row):\n",
    "    age_group = row['age_group']\n",
    "    if age_group == 'young adult':\n",
    "        return 1043.334773\n",
    "    elif age_group == 'adult':\n",
    "        return 1892.676984\n",
    "    else:\n",
    "        return 2761.484453"
   ]
  },
  {
   "cell_type": "code",
   "execution_count": 72,
   "metadata": {},
   "outputs": [
    {
     "name": "stdout",
     "output_type": "stream",
     "text": [
      "2761.484453\n",
      "1892.676984\n",
      "1043.334773\n"
     ]
    }
   ],
   "source": [
    "# Check that the function works\n",
    "\n",
    "row1 = rows_with_missing_values.loc[0]\n",
    "# print(row1)\n",
    "print(days_employed_fill_na(row1))\n",
    "\n",
    "row2 = rows_with_missing_values.loc[1]\n",
    "# print(row1)\n",
    "print(days_employed_fill_na(row2))\n",
    "\n",
    "row3 = rows_with_missing_values.loc[2089]\n",
    "# print(row1)\n",
    "print(days_employed_fill_na(row3))"
   ]
  },
  {
   "cell_type": "code",
   "execution_count": 73,
   "metadata": {},
   "outputs": [],
   "source": [
    "# Apply function to the days_employed\n",
    "\n",
    "rows_with_missing_values['days_employed'] = rows_with_missing_values.apply(days_employed_fill_na, axis=1)"
   ]
  },
  {
   "cell_type": "code",
   "execution_count": 74,
   "metadata": {},
   "outputs": [
    {
     "data": {
      "text/html": [
       "<div>\n",
       "<style scoped>\n",
       "    .dataframe tbody tr th:only-of-type {\n",
       "        vertical-align: middle;\n",
       "    }\n",
       "\n",
       "    .dataframe tbody tr th {\n",
       "        vertical-align: top;\n",
       "    }\n",
       "\n",
       "    .dataframe thead th {\n",
       "        text-align: right;\n",
       "    }\n",
       "</style>\n",
       "<table border=\"1\" class=\"dataframe\">\n",
       "  <thead>\n",
       "    <tr style=\"text-align: right;\">\n",
       "      <th></th>\n",
       "      <th>children</th>\n",
       "      <th>days_employed</th>\n",
       "      <th>dob_years</th>\n",
       "      <th>education</th>\n",
       "      <th>education_id</th>\n",
       "      <th>family_status</th>\n",
       "      <th>family_status_id</th>\n",
       "      <th>gender</th>\n",
       "      <th>income_type</th>\n",
       "      <th>debt</th>\n",
       "      <th>total_income</th>\n",
       "      <th>purpose</th>\n",
       "      <th>age_group</th>\n",
       "    </tr>\n",
       "  </thead>\n",
       "  <tbody>\n",
       "    <tr>\n",
       "      <td>0</td>\n",
       "      <td>0</td>\n",
       "      <td>2761.484453</td>\n",
       "      <td>65</td>\n",
       "      <td>secondary education</td>\n",
       "      <td>1</td>\n",
       "      <td>civil partnership</td>\n",
       "      <td>1</td>\n",
       "      <td>M</td>\n",
       "      <td>retiree</td>\n",
       "      <td>0</td>\n",
       "      <td>18434.205</td>\n",
       "      <td>to have a wedding</td>\n",
       "      <td>retired</td>\n",
       "    </tr>\n",
       "    <tr>\n",
       "      <td>1</td>\n",
       "      <td>0</td>\n",
       "      <td>1892.676984</td>\n",
       "      <td>41</td>\n",
       "      <td>secondary education</td>\n",
       "      <td>1</td>\n",
       "      <td>married</td>\n",
       "      <td>0</td>\n",
       "      <td>M</td>\n",
       "      <td>civil servant</td>\n",
       "      <td>0</td>\n",
       "      <td>23547.067</td>\n",
       "      <td>education</td>\n",
       "      <td>adult</td>\n",
       "    </tr>\n",
       "    <tr>\n",
       "      <td>2</td>\n",
       "      <td>0</td>\n",
       "      <td>1892.676984</td>\n",
       "      <td>63</td>\n",
       "      <td>secondary education</td>\n",
       "      <td>1</td>\n",
       "      <td>unmarried</td>\n",
       "      <td>4</td>\n",
       "      <td>F</td>\n",
       "      <td>retiree</td>\n",
       "      <td>0</td>\n",
       "      <td>23547.067</td>\n",
       "      <td>building a real estate</td>\n",
       "      <td>adult</td>\n",
       "    </tr>\n",
       "    <tr>\n",
       "      <td>3</td>\n",
       "      <td>0</td>\n",
       "      <td>1892.676984</td>\n",
       "      <td>50</td>\n",
       "      <td>secondary education</td>\n",
       "      <td>1</td>\n",
       "      <td>married</td>\n",
       "      <td>0</td>\n",
       "      <td>F</td>\n",
       "      <td>civil servant</td>\n",
       "      <td>0</td>\n",
       "      <td>23547.067</td>\n",
       "      <td>second-hand car purchase</td>\n",
       "      <td>adult</td>\n",
       "    </tr>\n",
       "    <tr>\n",
       "      <td>4</td>\n",
       "      <td>0</td>\n",
       "      <td>1892.676984</td>\n",
       "      <td>54</td>\n",
       "      <td>secondary education</td>\n",
       "      <td>1</td>\n",
       "      <td>civil partnership</td>\n",
       "      <td>1</td>\n",
       "      <td>F</td>\n",
       "      <td>retiree</td>\n",
       "      <td>1</td>\n",
       "      <td>23547.067</td>\n",
       "      <td>to have a wedding</td>\n",
       "      <td>adult</td>\n",
       "    </tr>\n",
       "    <tr>\n",
       "      <td>...</td>\n",
       "      <td>...</td>\n",
       "      <td>...</td>\n",
       "      <td>...</td>\n",
       "      <td>...</td>\n",
       "      <td>...</td>\n",
       "      <td>...</td>\n",
       "      <td>...</td>\n",
       "      <td>...</td>\n",
       "      <td>...</td>\n",
       "      <td>...</td>\n",
       "      <td>...</td>\n",
       "      <td>...</td>\n",
       "      <td>...</td>\n",
       "    </tr>\n",
       "    <tr>\n",
       "      <td>2085</td>\n",
       "      <td>2</td>\n",
       "      <td>1892.676984</td>\n",
       "      <td>47</td>\n",
       "      <td>secondary education</td>\n",
       "      <td>1</td>\n",
       "      <td>married</td>\n",
       "      <td>0</td>\n",
       "      <td>M</td>\n",
       "      <td>business</td>\n",
       "      <td>0</td>\n",
       "      <td>23547.067</td>\n",
       "      <td>purchase of a car</td>\n",
       "      <td>adult</td>\n",
       "    </tr>\n",
       "    <tr>\n",
       "      <td>2086</td>\n",
       "      <td>1</td>\n",
       "      <td>1892.676984</td>\n",
       "      <td>50</td>\n",
       "      <td>secondary education</td>\n",
       "      <td>1</td>\n",
       "      <td>civil partnership</td>\n",
       "      <td>1</td>\n",
       "      <td>F</td>\n",
       "      <td>employee</td>\n",
       "      <td>0</td>\n",
       "      <td>23547.067</td>\n",
       "      <td>wedding ceremony</td>\n",
       "      <td>adult</td>\n",
       "    </tr>\n",
       "    <tr>\n",
       "      <td>2087</td>\n",
       "      <td>0</td>\n",
       "      <td>1892.676984</td>\n",
       "      <td>48</td>\n",
       "      <td>bachelor's degree</td>\n",
       "      <td>0</td>\n",
       "      <td>married</td>\n",
       "      <td>0</td>\n",
       "      <td>F</td>\n",
       "      <td>business</td>\n",
       "      <td>0</td>\n",
       "      <td>23547.067</td>\n",
       "      <td>building a property</td>\n",
       "      <td>adult</td>\n",
       "    </tr>\n",
       "    <tr>\n",
       "      <td>2088</td>\n",
       "      <td>1</td>\n",
       "      <td>1892.676984</td>\n",
       "      <td>42</td>\n",
       "      <td>secondary education</td>\n",
       "      <td>1</td>\n",
       "      <td>married</td>\n",
       "      <td>0</td>\n",
       "      <td>F</td>\n",
       "      <td>employee</td>\n",
       "      <td>0</td>\n",
       "      <td>23547.067</td>\n",
       "      <td>building a real estate</td>\n",
       "      <td>adult</td>\n",
       "    </tr>\n",
       "    <tr>\n",
       "      <td>2089</td>\n",
       "      <td>2</td>\n",
       "      <td>1043.334773</td>\n",
       "      <td>28</td>\n",
       "      <td>secondary education</td>\n",
       "      <td>1</td>\n",
       "      <td>married</td>\n",
       "      <td>0</td>\n",
       "      <td>F</td>\n",
       "      <td>employee</td>\n",
       "      <td>0</td>\n",
       "      <td>22955.474</td>\n",
       "      <td>car purchase</td>\n",
       "      <td>young adult</td>\n",
       "    </tr>\n",
       "  </tbody>\n",
       "</table>\n",
       "<p>2090 rows × 13 columns</p>\n",
       "</div>"
      ],
      "text/plain": [
       "      children  days_employed  dob_years            education  education_id  \\\n",
       "0            0    2761.484453         65  secondary education             1   \n",
       "1            0    1892.676984         41  secondary education             1   \n",
       "2            0    1892.676984         63  secondary education             1   \n",
       "3            0    1892.676984         50  secondary education             1   \n",
       "4            0    1892.676984         54  secondary education             1   \n",
       "...        ...            ...        ...                  ...           ...   \n",
       "2085         2    1892.676984         47  secondary education             1   \n",
       "2086         1    1892.676984         50  secondary education             1   \n",
       "2087         0    1892.676984         48    bachelor's degree             0   \n",
       "2088         1    1892.676984         42  secondary education             1   \n",
       "2089         2    1043.334773         28  secondary education             1   \n",
       "\n",
       "          family_status  family_status_id gender    income_type  debt  \\\n",
       "0     civil partnership                 1      M        retiree     0   \n",
       "1               married                 0      M  civil servant     0   \n",
       "2             unmarried                 4      F        retiree     0   \n",
       "3               married                 0      F  civil servant     0   \n",
       "4     civil partnership                 1      F        retiree     1   \n",
       "...                 ...               ...    ...            ...   ...   \n",
       "2085            married                 0      M       business     0   \n",
       "2086  civil partnership                 1      F       employee     0   \n",
       "2087            married                 0      F       business     0   \n",
       "2088            married                 0      F       employee     0   \n",
       "2089            married                 0      F       employee     0   \n",
       "\n",
       "      total_income                   purpose    age_group  \n",
       "0        18434.205         to have a wedding      retired  \n",
       "1        23547.067                 education        adult  \n",
       "2        23547.067    building a real estate        adult  \n",
       "3        23547.067  second-hand car purchase        adult  \n",
       "4        23547.067         to have a wedding        adult  \n",
       "...            ...                       ...          ...  \n",
       "2085     23547.067         purchase of a car        adult  \n",
       "2086     23547.067          wedding ceremony        adult  \n",
       "2087     23547.067       building a property        adult  \n",
       "2088     23547.067    building a real estate        adult  \n",
       "2089     22955.474              car purchase  young adult  \n",
       "\n",
       "[2090 rows x 13 columns]"
      ]
     },
     "execution_count": 74,
     "metadata": {},
     "output_type": "execute_result"
    }
   ],
   "source": [
    "# Replacing missing values\n",
    "\n",
    "rows_with_missing_values"
   ]
  },
  {
   "cell_type": "code",
   "execution_count": 75,
   "metadata": {
    "scrolled": true
   },
   "outputs": [
    {
     "name": "stdout",
     "output_type": "stream",
     "text": [
      "children            0\n",
      "days_employed       0\n",
      "dob_years           0\n",
      "education           0\n",
      "education_id        0\n",
      "family_status       0\n",
      "family_status_id    0\n",
      "gender              0\n",
      "income_type         0\n",
      "debt                0\n",
      "total_income        0\n",
      "purpose             0\n",
      "age_group           0\n",
      "dtype: int64\n"
     ]
    }
   ],
   "source": [
    "# Check the entries in all columns - make sure we fixed all missing values\n",
    "credit_score_data = credit_score_data_no_missing.append(rows_with_missing_values).reset_index(drop=True)\n",
    "\n",
    "print(credit_score_data.isna().sum())"
   ]
  },
  {
   "cell_type": "code",
   "execution_count": 76,
   "metadata": {
    "scrolled": true
   },
   "outputs": [
    {
     "name": "stdout",
     "output_type": "stream",
     "text": [
      "<class 'pandas.core.frame.DataFrame'>\n",
      "RangeIndex: 17867 entries, 0 to 17866\n",
      "Data columns (total 13 columns):\n",
      "children            17867 non-null int64\n",
      "days_employed       17867 non-null float64\n",
      "dob_years           17867 non-null int64\n",
      "education           17867 non-null object\n",
      "education_id        17867 non-null int64\n",
      "family_status       17867 non-null object\n",
      "family_status_id    17867 non-null int64\n",
      "gender              17867 non-null object\n",
      "income_type         17867 non-null object\n",
      "debt                17867 non-null int64\n",
      "total_income        17867 non-null float64\n",
      "purpose             17867 non-null object\n",
      "age_group           17867 non-null object\n",
      "dtypes: float64(2), int64(5), object(6)\n",
      "memory usage: 1.8+ MB\n"
     ]
    },
    {
     "data": {
      "text/plain": [
       "(17867, 13)"
      ]
     },
     "execution_count": 76,
     "metadata": {},
     "output_type": "execute_result"
    }
   ],
   "source": [
    "credit_score_data.info()\n",
    "credit_score_data.shape"
   ]
  },
  {
   "cell_type": "markdown",
   "metadata": {},
   "source": [
    "After cleaning up the dataset, the processed dataset now has 17867 rows and 13 columns, without any missing values in all columns. "
   ]
  },
  {
   "cell_type": "markdown",
   "metadata": {},
   "source": [
    "<div class=\"alert alert-success\" role=\"alert\">\n",
    "<b>Reviewer's comment v1:</b>\n",
    "    \n",
    "Very detailed analisis of missing data. And you correctly identified columns with missing or strange values.\n",
    "Also very cool that you created functions to partially automate your code."
   ]
  },
  {
   "cell_type": "markdown",
   "metadata": {},
   "source": [
    "## Categorization of data\n",
    "\n",
    "First, let's look at the `family_status` column. "
   ]
  },
  {
   "cell_type": "code",
   "execution_count": 77,
   "metadata": {
    "scrolled": true
   },
   "outputs": [
    {
     "data": {
      "text/plain": [
       "0                  married\n",
       "1                  married\n",
       "2                  married\n",
       "3                  married\n",
       "4        civil partnership\n",
       "               ...        \n",
       "17862              married\n",
       "17863    civil partnership\n",
       "17864              married\n",
       "17865              married\n",
       "17866              married\n",
       "Name: family_status, Length: 17867, dtype: object"
      ]
     },
     "execution_count": 77,
     "metadata": {},
     "output_type": "execute_result"
    }
   ],
   "source": [
    "# Print the values for your selected data for categorization\n",
    "\n",
    "credit_score_data['family_status']"
   ]
  },
  {
   "cell_type": "code",
   "execution_count": 78,
   "metadata": {},
   "outputs": [
    {
     "name": "stdout",
     "output_type": "stream",
     "text": [
      "['married' 'civil partnership' 'divorced' 'unmarried' 'widow / widower']\n"
     ]
    }
   ],
   "source": [
    "# Check the unique values\n",
    "print(credit_score_data['family_status'].unique())"
   ]
  },
  {
   "cell_type": "markdown",
   "metadata": {},
   "source": [
    "Based on the unique values from the `family_status` column, I can identify two main groups: partnership and single. The partnership group include clients who are married or have civil partnership. The single group include clients who are divorced, unmarried, or widowed. Now let's categorize our data."
   ]
  },
  {
   "cell_type": "code",
   "execution_count": 79,
   "metadata": {},
   "outputs": [],
   "source": [
    "# Let's write a function to categorize the data based on common topics\n",
    "\n",
    "def family_status_category(row):\n",
    "    if row['family_status'] in ['married', 'civil partnership']:\n",
    "        return 'partnership'\n",
    "    else:\n",
    "        return 'single'"
   ]
  },
  {
   "cell_type": "code",
   "execution_count": 80,
   "metadata": {},
   "outputs": [],
   "source": [
    "# Create a column with the categories and count the values for them\n",
    "\n",
    "# print(credit_score_data.loc[0])\n",
    "# family_status_category(credit_score_data.loc[0])\n",
    "credit_score_data['family_status'] = credit_score_data.apply(family_status_category, axis=1)"
   ]
  },
  {
   "cell_type": "code",
   "execution_count": 81,
   "metadata": {},
   "outputs": [
    {
     "name": "stdout",
     "output_type": "stream",
     "text": [
      "   children  days_employed  dob_years            education  education_id  \\\n",
      "0         1    8437.673028         42    bachelor's degree             0   \n",
      "1         1    4024.803754         36  secondary education             1   \n",
      "2         0    5623.422610         33  secondary education             1   \n",
      "3         3    4124.747207         32  secondary education             1   \n",
      "4         0     926.185831         27    bachelor's degree             0   \n",
      "5         0    2879.202052         43    bachelor's degree             0   \n",
      "6         0     152.779569         50  secondary education             1   \n",
      "7         2    6929.865299         35    bachelor's degree             0   \n",
      "8         0    2188.756445         41  secondary education             1   \n",
      "9         2    4171.483647         36    bachelor's degree             0   \n",
      "\n",
      "  family_status  family_status_id gender income_type  debt  total_income  \\\n",
      "0   partnership                 0      F    employee     0     40620.102   \n",
      "1   partnership                 0      F    employee     0     17932.802   \n",
      "2   partnership                 0      M    employee     0     23341.752   \n",
      "3   partnership                 0      M    employee     0     42820.568   \n",
      "4   partnership                 1      M    business     0     40922.170   \n",
      "5   partnership                 0      F    business     0     38484.156   \n",
      "6   partnership                 0      M    employee     0     21731.829   \n",
      "7   partnership                 1      F    employee     0     15337.093   \n",
      "8   partnership                 0      M    employee     0     23108.150   \n",
      "9   partnership                 0      M    business     0     18230.959   \n",
      "\n",
      "                               purpose    age_group  \n",
      "0                purchase of the house        adult  \n",
      "1                         car purchase        adult  \n",
      "2                purchase of the house        adult  \n",
      "3              supplementary education        adult  \n",
      "4                purchase of the house  young adult  \n",
      "5                 housing transactions        adult  \n",
      "6                            education        adult  \n",
      "7                     having a wedding        adult  \n",
      "8  purchase of the house for my family        adult  \n",
      "9                      buy real estate        adult  \n",
      "       children  days_employed  dob_years            education  education_id  \\\n",
      "17857         0    2761.484453         65  secondary education             1   \n",
      "17858         0    1892.676984         63  secondary education             1   \n",
      "17859         0    1892.676984         49  secondary education             1   \n",
      "17860         1    1892.676984         38         some college             2   \n",
      "17861         1    1892.676984         35    bachelor's degree             0   \n",
      "17862         2    1892.676984         47  secondary education             1   \n",
      "17863         1    1892.676984         50  secondary education             1   \n",
      "17864         0    1892.676984         48    bachelor's degree             0   \n",
      "17865         1    1892.676984         42  secondary education             1   \n",
      "17866         2    1043.334773         28  secondary education             1   \n",
      "\n",
      "      family_status  family_status_id gender income_type  debt  total_income  \\\n",
      "17857   partnership                 0      F     retiree     0     18434.205   \n",
      "17858   partnership                 0      M     retiree     0     23547.067   \n",
      "17859   partnership                 0      F    employee     1     23547.067   \n",
      "17860        single                 4      F    employee     0     23547.067   \n",
      "17861   partnership                 1      M    employee     0     23547.067   \n",
      "17862   partnership                 0      M    business     0     23547.067   \n",
      "17863   partnership                 1      F    employee     0     23547.067   \n",
      "17864   partnership                 0      F    business     0     23547.067   \n",
      "17865   partnership                 0      F    employee     0     23547.067   \n",
      "17866   partnership                 0      F    employee     0     22955.474   \n",
      "\n",
      "                        purpose    age_group  \n",
      "17857  purchase of my own house      retired  \n",
      "17858         purchase of a car        adult  \n",
      "17859                  property        adult  \n",
      "17860      housing transactions        adult  \n",
      "17861          having a wedding        adult  \n",
      "17862         purchase of a car        adult  \n",
      "17863          wedding ceremony        adult  \n",
      "17864       building a property        adult  \n",
      "17865    building a real estate        adult  \n",
      "17866              car purchase  young adult  \n"
     ]
    }
   ],
   "source": [
    "print(credit_score_data.head(10))\n",
    "print(credit_score_data.tail(10))\n",
    "# print(credit_score_data.groupby('family_status')['family_status'].count())"
   ]
  },
  {
   "cell_type": "markdown",
   "metadata": {},
   "source": [
    "Next, let's look at the `children` column. "
   ]
  },
  {
   "cell_type": "code",
   "execution_count": 82,
   "metadata": {},
   "outputs": [
    {
     "data": {
      "text/plain": [
       "array([ 1,  0,  3,  2,  4, 20,  5])"
      ]
     },
     "execution_count": 82,
     "metadata": {},
     "output_type": "execute_result"
    }
   ],
   "source": [
    "# Looking through all the numerical data in your selected column for categorization\n",
    "credit_score_data['children'].unique()"
   ]
  },
  {
   "cell_type": "code",
   "execution_count": 83,
   "metadata": {},
   "outputs": [
    {
     "data": {
      "text/plain": [
       "children\n",
       "0     10869\n",
       "1      4537\n",
       "2      2022\n",
       "3       322\n",
       "4        40\n",
       "5         9\n",
       "20       68\n",
       "dtype: int64"
      ]
     },
     "execution_count": 83,
     "metadata": {},
     "output_type": "execute_result"
    }
   ],
   "source": [
    "# Getting summary statistics for the column\n",
    "\n",
    "credit_score_data.groupby('children').size()"
   ]
  },
  {
   "cell_type": "markdown",
   "metadata": {},
   "source": [
    "For the `children` column, I decide to create 3 categories based on these rules: 0 - none; 1,2 - low; 3,4,5 - medium; 20 - high. The reasons are simple, people without children should be a separate category. People with fewer children should be in one category, and people with more children should be in another category. Peole with manhy children should be in a distinct category. "
   ]
  },
  {
   "cell_type": "code",
   "execution_count": 84,
   "metadata": {},
   "outputs": [],
   "source": [
    "# Creating function for categorizing into different numerical groups based on ranges\n",
    "def children_category(row):\n",
    "    if row['children'] == 0:\n",
    "        return 'none'\n",
    "    elif row['children'] in [1,2]:\n",
    "        return 'low'\n",
    "    elif row['children'] in [3,4,5]:\n",
    "        return 'medium'\n",
    "    else:\n",
    "        return 'high'"
   ]
  },
  {
   "cell_type": "code",
   "execution_count": 85,
   "metadata": {},
   "outputs": [],
   "source": [
    "# Creating column with categories\n",
    "credit_score_data['children'] = credit_score_data.apply(children_category, axis=1)"
   ]
  },
  {
   "cell_type": "code",
   "execution_count": 86,
   "metadata": {
    "scrolled": false
   },
   "outputs": [
    {
     "data": {
      "text/plain": [
       "children\n",
       "high         68\n",
       "low        6559\n",
       "medium      371\n",
       "none      10869\n",
       "dtype: int64"
      ]
     },
     "execution_count": 86,
     "metadata": {},
     "output_type": "execute_result"
    }
   ],
   "source": [
    "# Count each categories values to see the distribution\n",
    "credit_score_data.groupby('children').size()"
   ]
  },
  {
   "cell_type": "markdown",
   "metadata": {},
   "source": [
    "Next, let's look at the `total_income` column. "
   ]
  },
  {
   "cell_type": "code",
   "execution_count": 87,
   "metadata": {},
   "outputs": [
    {
     "data": {
      "text/plain": [
       "array([  3418.824 ,  18133.5975,  23547.067 ,  32032.0105, 362496.645 ])"
      ]
     },
     "execution_count": 87,
     "metadata": {},
     "output_type": "execute_result"
    }
   ],
   "source": [
    "# the five number summary of the total_income column\n",
    "\n",
    "income_quartiles = np.percentile(credit_score_data['total_income'], [0,25, 50, 75, 100])\n",
    "income_quartiles"
   ]
  },
  {
   "cell_type": "code",
   "execution_count": 88,
   "metadata": {},
   "outputs": [],
   "source": [
    "def income_category(row):\n",
    "    if row['total_income'] < 18133.5975:\n",
    "        return 'low'\n",
    "    elif row['total_income'] >= 18133.5975 and row['total_income'] < 32032.0105:\n",
    "        return 'medium'\n",
    "    else:\n",
    "        return 'high'"
   ]
  },
  {
   "cell_type": "code",
   "execution_count": 89,
   "metadata": {},
   "outputs": [],
   "source": [
    "# Creating column with categories\n",
    "credit_score_data['total_income'] = credit_score_data.apply(income_category, axis=1)"
   ]
  },
  {
   "cell_type": "code",
   "execution_count": 90,
   "metadata": {
    "scrolled": true
   },
   "outputs": [
    {
     "data": {
      "text/plain": [
       "total_income\n",
       "high      4467\n",
       "low       4467\n",
       "medium    8933\n",
       "dtype: int64"
      ]
     },
     "execution_count": 90,
     "metadata": {},
     "output_type": "execute_result"
    }
   ],
   "source": [
    "# Count each categories values to see the distribution\n",
    "credit_score_data.groupby('total_income').size()"
   ]
  },
  {
   "cell_type": "markdown",
   "metadata": {},
   "source": [
    "Next, let's look at the `purpose` column. "
   ]
  },
  {
   "cell_type": "code",
   "execution_count": 91,
   "metadata": {
    "scrolled": false
   },
   "outputs": [
    {
     "data": {
      "text/plain": [
       "array(['purchase of the house', 'car purchase', 'supplementary education',\n",
       "       'housing transactions', 'education', 'having a wedding',\n",
       "       'purchase of the house for my family', 'buy real estate',\n",
       "       'buy commercial real estate', 'buy residential real estate',\n",
       "       'construction of own property', 'property', 'building a property',\n",
       "       'buying my own car', 'buying a second-hand car',\n",
       "       'to have a wedding', 'housing', 'transactions with my real estate',\n",
       "       'cars', 'to become educated', 'getting an education',\n",
       "       'second-hand car purchase', 'car', 'wedding ceremony',\n",
       "       'to get a supplementary education', 'purchase of my own house',\n",
       "       'real estate transactions', 'getting higher education',\n",
       "       'transactions with commercial real estate', 'to own a car',\n",
       "       'purchase of a car', 'profile education', 'university education',\n",
       "       'to buy a car', 'buying property for renting out',\n",
       "       'building a real estate', 'housing renovation',\n",
       "       'going to university'], dtype=object)"
      ]
     },
     "execution_count": 91,
     "metadata": {},
     "output_type": "execute_result"
    }
   ],
   "source": [
    "credit_score_data['purpose'].unique()"
   ]
  },
  {
   "cell_type": "code",
   "execution_count": 92,
   "metadata": {},
   "outputs": [],
   "source": [
    "\n",
    "real_estate = ['purchase of the house', \n",
    "             'housing transactions', \n",
    "             'purchase of the house for my family', \n",
    "             'buy real estate',\n",
    "               'buy commercial real estate', \n",
    "               'buy residential real estate',\n",
    "               'construction of own property', \n",
    "               'property', \n",
    "               'building a property', 'housing',\n",
    "              'transactions with my real estate',\n",
    "               'purchase of my own house',\n",
    "               'real estate transactions',\n",
    "               'transactions with commercial real estate',\n",
    "               'buying property for renting out',\n",
    "               'building a real estate', 'housing renovation'\n",
    "              ]\n",
    "car = ['car purchase', 'buying my own car', \n",
    "       'buying a second-hand car','cars',\n",
    "      'second-hand car purchase', 'car', \n",
    "      'to own a car','purchase of a car',\n",
    "       'to buy a car', \n",
    "      ]\n",
    "\n",
    "education = ['supplementary education', 'education',\n",
    "            'to become educated', 'getting an education',\n",
    "             'to get a supplementary education',\n",
    "             'getting higher education',\n",
    "             'profile education', 'university education',\n",
    "             'going to university'\n",
    "            ]\n",
    "\n",
    "wedding = ['having a wedding', 'to have a wedding',\n",
    "          'wedding ceremony'\n",
    "          ]\n",
    "\n",
    "def purpose_category(row):\n",
    "    if row['purpose'] in real_estate:\n",
    "        return 'real_estate'\n",
    "    elif row['purpose'] in car:\n",
    "        return 'car'\n",
    "    elif row['purpose'] in education:\n",
    "        return 'education'\n",
    "    elif row['purpose'] in wedding:\n",
    "        return 'wedding'"
   ]
  },
  {
   "cell_type": "code",
   "execution_count": 93,
   "metadata": {},
   "outputs": [],
   "source": [
    "credit_score_data['purpose'] = credit_score_data.apply(purpose_category, axis=1)"
   ]
  },
  {
   "cell_type": "code",
   "execution_count": 94,
   "metadata": {},
   "outputs": [
    {
     "data": {
      "text/plain": [
       "purpose\n",
       "car            3559\n",
       "education      3335\n",
       "real_estate    9042\n",
       "wedding        1931\n",
       "dtype: int64"
      ]
     },
     "execution_count": 94,
     "metadata": {},
     "output_type": "execute_result"
    }
   ],
   "source": [
    "# Count each categories values to see the distribution\n",
    "credit_score_data.groupby('purpose').size()"
   ]
  },
  {
   "cell_type": "markdown",
   "metadata": {},
   "source": [
    "<div class=\"alert alert-success\" role=\"alert\">\n",
    "<b>Reviewer's comment v1</b>\n",
    "\n",
    "Good work! It is great, that you managed to create functions to categorize data. \n",
    "You correctly identified all possible ways to categorize existent data. \n",
    "Additionally you can use stemming or lemmatization to check loan purpose. \n",
    "\n",
    "You can read about it here: https://www.datacamp.com/community/tutorials/stemming-lemmatization-python\n",
    "</div>\n",
    "\n",
    "<div class=\"alert alert-info\"> <b>Student comments:</b> Sounds great! I will learn more about stemming or lemmatization.</div> "
   ]
  },
  {
   "cell_type": "markdown",
   "metadata": {},
   "source": [
    "<div class=\"alert alert-block alert-success\">\n",
    "<b>Reviewer's comment v2:</b>\n",
    "    \n",
    "🙌"
   ]
  },
  {
   "cell_type": "markdown",
   "metadata": {},
   "source": [
    "## Checking the Hypotheses\n"
   ]
  },
  {
   "cell_type": "markdown",
   "metadata": {},
   "source": [
    "**Is there a correlation between having children and paying back on time?**"
   ]
  },
  {
   "cell_type": "code",
   "execution_count": 95,
   "metadata": {},
   "outputs": [
    {
     "data": {
      "text/html": [
       "<div>\n",
       "<style scoped>\n",
       "    .dataframe tbody tr th:only-of-type {\n",
       "        vertical-align: middle;\n",
       "    }\n",
       "\n",
       "    .dataframe tbody tr th {\n",
       "        vertical-align: top;\n",
       "    }\n",
       "\n",
       "    .dataframe thead th {\n",
       "        text-align: right;\n",
       "    }\n",
       "</style>\n",
       "<table border=\"1\" class=\"dataframe\">\n",
       "  <thead>\n",
       "    <tr style=\"text-align: right;\">\n",
       "      <th>debt</th>\n",
       "      <th>0</th>\n",
       "      <th>1</th>\n",
       "      <th>All</th>\n",
       "      <th>perct_default</th>\n",
       "    </tr>\n",
       "    <tr>\n",
       "      <th>children</th>\n",
       "      <th></th>\n",
       "      <th></th>\n",
       "      <th></th>\n",
       "      <th></th>\n",
       "    </tr>\n",
       "  </thead>\n",
       "  <tbody>\n",
       "    <tr>\n",
       "      <td>high</td>\n",
       "      <td>60</td>\n",
       "      <td>8</td>\n",
       "      <td>68</td>\n",
       "      <td>11.764706</td>\n",
       "    </tr>\n",
       "    <tr>\n",
       "      <td>low</td>\n",
       "      <td>5938</td>\n",
       "      <td>621</td>\n",
       "      <td>6559</td>\n",
       "      <td>9.467907</td>\n",
       "    </tr>\n",
       "    <tr>\n",
       "      <td>medium</td>\n",
       "      <td>341</td>\n",
       "      <td>30</td>\n",
       "      <td>371</td>\n",
       "      <td>8.086253</td>\n",
       "    </tr>\n",
       "    <tr>\n",
       "      <td>none</td>\n",
       "      <td>9977</td>\n",
       "      <td>892</td>\n",
       "      <td>10869</td>\n",
       "      <td>8.206827</td>\n",
       "    </tr>\n",
       "    <tr>\n",
       "      <td>All</td>\n",
       "      <td>16316</td>\n",
       "      <td>1551</td>\n",
       "      <td>17867</td>\n",
       "      <td>8.680808</td>\n",
       "    </tr>\n",
       "  </tbody>\n",
       "</table>\n",
       "</div>"
      ],
      "text/plain": [
       "debt          0     1    All  perct_default\n",
       "children                                   \n",
       "high         60     8     68      11.764706\n",
       "low        5938   621   6559       9.467907\n",
       "medium      341    30    371       8.086253\n",
       "none       9977   892  10869       8.206827\n",
       "All       16316  1551  17867       8.680808"
      ]
     },
     "execution_count": 95,
     "metadata": {},
     "output_type": "execute_result"
    }
   ],
   "source": [
    "# Check the children data and paying back on time\n",
    "\n",
    "debt_vs_children = credit_score_data.pivot_table(index='children', \n",
    "                              columns = 'debt',\n",
    "                              values='dob_years', \n",
    "                              aggfunc= 'count', margins=True)\n",
    "debt_vs_children\n",
    "# Calculating default-rate based on the number of children\n",
    "\n",
    "# debt_vs_children.loc[('high',0)]\n",
    "# debt_vs_children.loc[('All','perct')] = debt_vs_children.loc[('All',1)]/debt_vs_children.loc[('All','All')]*100\n",
    "\n",
    "for category in ['none', 'low', 'medium', 'high', 'All']:\n",
    "    debt_vs_children.loc[(category,'perct_default')] = debt_vs_children.loc[(category,1)]/debt_vs_children.loc[(category,'All')]*100\n",
    "\n",
    "\n",
    "debt_vs_children"
   ]
  },
  {
   "cell_type": "markdown",
   "metadata": {},
   "source": [
    "**Conclusion**\n",
    "\n",
    "For the entire dataset, the overall loan default rate is 8.68%. For people with no children and people with 3 to 5 children, their loan default rate is below average. But for people with 1 or 2 children, their loan default rate (9.47%) is a little above average. For people with lots of children, their loan default rate (11.76%) is significantly higher than average. Thus, there is a correlation between having children and paying back on time.    \n",
    "\n"
   ]
  },
  {
   "cell_type": "markdown",
   "metadata": {},
   "source": [
    "<div class=\"alert alert-success\" role=\"alert\">\n",
    "<b>Reviewer's comment v1</b>\n",
    "\n",
    "Great that you created pivot table. Also agree with your conclusion. "
   ]
  },
  {
   "cell_type": "markdown",
   "metadata": {},
   "source": [
    "**Is there a correlation between family status and paying back on time?**"
   ]
  },
  {
   "cell_type": "code",
   "execution_count": 96,
   "metadata": {},
   "outputs": [
    {
     "data": {
      "text/html": [
       "<div>\n",
       "<style scoped>\n",
       "    .dataframe tbody tr th:only-of-type {\n",
       "        vertical-align: middle;\n",
       "    }\n",
       "\n",
       "    .dataframe tbody tr th {\n",
       "        vertical-align: top;\n",
       "    }\n",
       "\n",
       "    .dataframe thead th {\n",
       "        text-align: right;\n",
       "    }\n",
       "</style>\n",
       "<table border=\"1\" class=\"dataframe\">\n",
       "  <thead>\n",
       "    <tr style=\"text-align: right;\">\n",
       "      <th>debt</th>\n",
       "      <th>0</th>\n",
       "      <th>1</th>\n",
       "      <th>All</th>\n",
       "      <th>perct_default</th>\n",
       "    </tr>\n",
       "    <tr>\n",
       "      <th>family_status</th>\n",
       "      <th></th>\n",
       "      <th></th>\n",
       "      <th></th>\n",
       "      <th></th>\n",
       "    </tr>\n",
       "  </thead>\n",
       "  <tbody>\n",
       "    <tr>\n",
       "      <td>partnership</td>\n",
       "      <td>12744</td>\n",
       "      <td>1185</td>\n",
       "      <td>13929</td>\n",
       "      <td>8.507431</td>\n",
       "    </tr>\n",
       "    <tr>\n",
       "      <td>single</td>\n",
       "      <td>3572</td>\n",
       "      <td>366</td>\n",
       "      <td>3938</td>\n",
       "      <td>9.294058</td>\n",
       "    </tr>\n",
       "    <tr>\n",
       "      <td>All</td>\n",
       "      <td>16316</td>\n",
       "      <td>1551</td>\n",
       "      <td>17867</td>\n",
       "      <td>8.680808</td>\n",
       "    </tr>\n",
       "  </tbody>\n",
       "</table>\n",
       "</div>"
      ],
      "text/plain": [
       "debt               0     1    All  perct_default\n",
       "family_status                                   \n",
       "partnership    12744  1185  13929       8.507431\n",
       "single          3572   366   3938       9.294058\n",
       "All            16316  1551  17867       8.680808"
      ]
     },
     "execution_count": 96,
     "metadata": {},
     "output_type": "execute_result"
    }
   ],
   "source": [
    "# Check the family status data and paying back on time\n",
    "debt_vs_family_status = credit_score_data.pivot_table(index='family_status', \n",
    "                              columns = 'debt',\n",
    "                              values='dob_years', \n",
    "                              aggfunc= 'count', margins=True)\n",
    "\n",
    "\n",
    "# Calculating default-rate based on family status\n",
    "\n",
    "for category in ['partnership', 'single', 'All']:\n",
    "    debt_vs_family_status.loc[(category,'perct_default')] = debt_vs_family_status.loc[(category,1)]/debt_vs_family_status.loc[(category,'All')]*100\n",
    "\n",
    "debt_vs_family_status"
   ]
  },
  {
   "cell_type": "markdown",
   "metadata": {},
   "source": [
    "**Conclusion**\n",
    "\n",
    "For the entire dataset, the overall loan default rate is 8.68%. For people that are single, their loan default rate (9.29%) is a little above average. For people that have partners, their loan default rate (8.51%) is a little below average. Thus, there is a correlation between family status and paying back on time. \n"
   ]
  },
  {
   "cell_type": "markdown",
   "metadata": {},
   "source": [
    "<div class=\"alert alert-success\" role=\"alert\">\n",
    "<b>Reviewer's comment v1</b>\n",
    "\n",
    "Agree, civil partnership people indeed have some tendency not to pay on time. \n",
    "</div>"
   ]
  },
  {
   "cell_type": "markdown",
   "metadata": {},
   "source": [
    "**Is there a correlation between income level and paying back on time?**"
   ]
  },
  {
   "cell_type": "code",
   "execution_count": 97,
   "metadata": {},
   "outputs": [
    {
     "data": {
      "text/html": [
       "<div>\n",
       "<style scoped>\n",
       "    .dataframe tbody tr th:only-of-type {\n",
       "        vertical-align: middle;\n",
       "    }\n",
       "\n",
       "    .dataframe tbody tr th {\n",
       "        vertical-align: top;\n",
       "    }\n",
       "\n",
       "    .dataframe thead th {\n",
       "        text-align: right;\n",
       "    }\n",
       "</style>\n",
       "<table border=\"1\" class=\"dataframe\">\n",
       "  <thead>\n",
       "    <tr style=\"text-align: right;\">\n",
       "      <th>debt</th>\n",
       "      <th>0</th>\n",
       "      <th>1</th>\n",
       "      <th>All</th>\n",
       "      <th>perct_default</th>\n",
       "    </tr>\n",
       "    <tr>\n",
       "      <th>total_income</th>\n",
       "      <th></th>\n",
       "      <th></th>\n",
       "      <th></th>\n",
       "      <th></th>\n",
       "    </tr>\n",
       "  </thead>\n",
       "  <tbody>\n",
       "    <tr>\n",
       "      <td>high</td>\n",
       "      <td>4143</td>\n",
       "      <td>324</td>\n",
       "      <td>4467</td>\n",
       "      <td>7.253190</td>\n",
       "    </tr>\n",
       "    <tr>\n",
       "      <td>low</td>\n",
       "      <td>4058</td>\n",
       "      <td>409</td>\n",
       "      <td>4467</td>\n",
       "      <td>9.156033</td>\n",
       "    </tr>\n",
       "    <tr>\n",
       "      <td>medium</td>\n",
       "      <td>8115</td>\n",
       "      <td>818</td>\n",
       "      <td>8933</td>\n",
       "      <td>9.157058</td>\n",
       "    </tr>\n",
       "    <tr>\n",
       "      <td>All</td>\n",
       "      <td>16316</td>\n",
       "      <td>1551</td>\n",
       "      <td>17867</td>\n",
       "      <td>8.680808</td>\n",
       "    </tr>\n",
       "  </tbody>\n",
       "</table>\n",
       "</div>"
      ],
      "text/plain": [
       "debt              0     1    All  perct_default\n",
       "total_income                                   \n",
       "high           4143   324   4467       7.253190\n",
       "low            4058   409   4467       9.156033\n",
       "medium         8115   818   8933       9.157058\n",
       "All           16316  1551  17867       8.680808"
      ]
     },
     "execution_count": 97,
     "metadata": {},
     "output_type": "execute_result"
    }
   ],
   "source": [
    "# Check the income level data and paying back on time\n",
    "\n",
    "debt_vs_income = credit_score_data.pivot_table(index='total_income', \n",
    "                              columns = 'debt',\n",
    "                              values='dob_years', \n",
    "                              aggfunc= 'count', margins=True)\n",
    "\n",
    "# Calculating default-rate based on income level\n",
    "\n",
    "for category in ['low', 'medium', 'high', 'All']:\n",
    "    debt_vs_income.loc[(category,'perct_default')] = debt_vs_income.loc[(category,1)]/debt_vs_income.loc[(category,'All')]*100\n",
    "\n",
    "\n",
    "debt_vs_income"
   ]
  },
  {
   "cell_type": "markdown",
   "metadata": {},
   "source": [
    "**Conclusion**\n",
    "\n",
    "For the entire dataset, the overall loan default rate is 8.68%. For people that have low or medium income, their loan default rate (9.16%) is a little above average. For people that have high income, their loan default rate (7.25%) is a significantly below average. Thus, there is a correlation between income level and paying back on time. "
   ]
  },
  {
   "cell_type": "markdown",
   "metadata": {},
   "source": [
    "**How does credit purpose affect the default rate?**"
   ]
  },
  {
   "cell_type": "code",
   "execution_count": 98,
   "metadata": {},
   "outputs": [
    {
     "data": {
      "text/html": [
       "<div>\n",
       "<style scoped>\n",
       "    .dataframe tbody tr th:only-of-type {\n",
       "        vertical-align: middle;\n",
       "    }\n",
       "\n",
       "    .dataframe tbody tr th {\n",
       "        vertical-align: top;\n",
       "    }\n",
       "\n",
       "    .dataframe thead th {\n",
       "        text-align: right;\n",
       "    }\n",
       "</style>\n",
       "<table border=\"1\" class=\"dataframe\">\n",
       "  <thead>\n",
       "    <tr style=\"text-align: right;\">\n",
       "      <th>debt</th>\n",
       "      <th>0</th>\n",
       "      <th>1</th>\n",
       "      <th>All</th>\n",
       "      <th>perct_default</th>\n",
       "    </tr>\n",
       "    <tr>\n",
       "      <th>purpose</th>\n",
       "      <th></th>\n",
       "      <th></th>\n",
       "      <th></th>\n",
       "      <th></th>\n",
       "    </tr>\n",
       "  </thead>\n",
       "  <tbody>\n",
       "    <tr>\n",
       "      <td>car</td>\n",
       "      <td>3202</td>\n",
       "      <td>357</td>\n",
       "      <td>3559</td>\n",
       "      <td>10.030908</td>\n",
       "    </tr>\n",
       "    <tr>\n",
       "      <td>education</td>\n",
       "      <td>3007</td>\n",
       "      <td>328</td>\n",
       "      <td>3335</td>\n",
       "      <td>9.835082</td>\n",
       "    </tr>\n",
       "    <tr>\n",
       "      <td>real_estate</td>\n",
       "      <td>8341</td>\n",
       "      <td>701</td>\n",
       "      <td>9042</td>\n",
       "      <td>7.752710</td>\n",
       "    </tr>\n",
       "    <tr>\n",
       "      <td>wedding</td>\n",
       "      <td>1766</td>\n",
       "      <td>165</td>\n",
       "      <td>1931</td>\n",
       "      <td>8.544795</td>\n",
       "    </tr>\n",
       "    <tr>\n",
       "      <td>All</td>\n",
       "      <td>16316</td>\n",
       "      <td>1551</td>\n",
       "      <td>17867</td>\n",
       "      <td>8.680808</td>\n",
       "    </tr>\n",
       "  </tbody>\n",
       "</table>\n",
       "</div>"
      ],
      "text/plain": [
       "debt             0     1    All  perct_default\n",
       "purpose                                       \n",
       "car           3202   357   3559      10.030908\n",
       "education     3007   328   3335       9.835082\n",
       "real_estate   8341   701   9042       7.752710\n",
       "wedding       1766   165   1931       8.544795\n",
       "All          16316  1551  17867       8.680808"
      ]
     },
     "execution_count": 98,
     "metadata": {},
     "output_type": "execute_result"
    }
   ],
   "source": [
    "# Check the percentages for default rate for each credit purpose and analyze them\n",
    "\n",
    "debt_vs_purpose = credit_score_data.pivot_table(index='purpose', \n",
    "                              columns = 'debt',\n",
    "                              values='dob_years', \n",
    "                              aggfunc= 'count', margins=True)\n",
    "\n",
    "\n",
    "for category in ['car', 'education', 'real_estate','wedding', 'All']:\n",
    "    debt_vs_purpose.loc[(category,'perct_default')] = debt_vs_purpose.loc[(category,1)]/debt_vs_purpose.loc[(category,'All')]*100\n",
    "\n",
    "\n",
    "debt_vs_purpose"
   ]
  },
  {
   "cell_type": "markdown",
   "metadata": {},
   "source": [
    "**Conclusion**\n",
    "\n",
    "For the entire dataset, the overall loan default rate is 8.68%. For people that borrow debt for wedding or real estate purposes, their loan default rate (8.54% and 7.75%) is a little below average. For people that borrow debt for education or car purposes, their loan default rate (9.84% and 10.03%) is higher than average. \n",
    "Thus, there is a correlation between credit purpose and default rate. \n"
   ]
  },
  {
   "cell_type": "markdown",
   "metadata": {},
   "source": [
    "<div class=\"alert alert-success\" role=\"alert\">\n",
    "<b>Reviewer's comment v1</b>\n",
    "    \n",
    "And also agree with the last two questions. You conducted great research and nicely presented answers to hypotheses. "
   ]
  },
  {
   "cell_type": "markdown",
   "metadata": {},
   "source": [
    "<div class=\"alert alert-warning\">\n",
    "<b>Reviewer's comment v1:</b>\n",
    "\n",
    "You have made correct conclusions based on the data that you have obtained.\n",
    "\n",
    "On a real project, a general conclusion is probably the only thing the business will read. Therefore, it is crucial to also indicate shortly the answers to both key business questions you investigated and overall steps you accomplished in this project.\n",
    "    \n",
    "    \n",
    "    For example:\n",
    "    1. Replaced missing values in the following data with the following method.\n",
    "    2. Replaced data types in the following columns.\n",
    "    3. etc.\n",
    "    4. etc.    \n",
    "</div> \n",
    "<div class=\"alert alert-info\"> <b>Student comments:</b> I see. Let me rewrite the conclusion. </div> "
   ]
  },
  {
   "cell_type": "markdown",
   "metadata": {},
   "source": [
    "# General Conclusion \n",
    "\n",
    "**The project was carried out in five major steps:**\n",
    "1. Set project objectives and propose hypothesis\n",
    "2. General data exploration and check for abnormal data values and patterns\n",
    "3. Data transformation and missing value imputation\n",
    "4. Data categorization\n",
    "5. Testing hypothesis and making conclusions\n",
    "\n",
    "**Major findings:**\n",
    "\n",
    "The analysis in this project discovered that the number of children a client has, marital status, total income level and purpose of debt all have association with debt default rate. Specifically, for the entire dataset, the overall loan default rate is 8.68%. For people with no children and people with 3 to 5 children, their loan default rate is below average. But for people with 1 or 2 children, their loan default rate (9.47%) is a little above average. For people with lots of children, their loan default rate (11.76%) is significantly higher than average. For people that are single, their loan default rate (9.29%) is a little above average. For people that have partners, their loan default rate (8.51%) is a little below average. For people that have low or medium income, their loan default rate (9.16%) is a little above average. For people that have high income, their loan default rate (7.25%) is a significantly below average. For people that borrow debt for wedding or real estate purposes, their loan default rate (8.54% and 7.75%) is a little below average. For people that borrow debt for education or car purposes, their loan default rate (9.84% and 10.03%) is higher than average. "
   ]
  },
  {
   "cell_type": "markdown",
   "metadata": {},
   "source": [
    "<div class=\"alert alert-block alert-success\">\n",
    "<b>Reviewer's comment v2:</b>\n",
    "    \n",
    "Thanks for going an extra mile and extending your overall conclusions."
   ]
  }
 ],
 "metadata": {
  "ExecuteTimeLog": [
   {
    "duration": 2741,
    "start_time": "2021-10-21T01:08:49.480Z"
   },
   {
    "duration": 52,
    "start_time": "2021-10-21T01:08:53.315Z"
   },
   {
    "duration": 49,
    "start_time": "2021-10-21T01:08:57.432Z"
   },
   {
    "duration": 70,
    "start_time": "2021-10-21T01:09:07.706Z"
   },
   {
    "duration": 309,
    "start_time": "2021-11-13T18:11:26.396Z"
   },
   {
    "duration": 3078,
    "start_time": "2021-11-13T18:11:30.973Z"
   },
   {
    "duration": -252,
    "start_time": "2021-11-13T18:11:34.305Z"
   },
   {
    "duration": 45,
    "start_time": "2021-11-13T18:11:50.995Z"
   },
   {
    "duration": 18,
    "start_time": "2021-11-13T18:11:53.563Z"
   },
   {
    "duration": 11,
    "start_time": "2021-11-13T18:12:42.385Z"
   },
   {
    "duration": 13,
    "start_time": "2021-11-13T18:17:50.764Z"
   },
   {
    "duration": 294,
    "start_time": "2021-11-24T00:12:35.890Z"
   },
   {
    "duration": 650,
    "start_time": "2021-11-24T00:12:40.344Z"
   },
   {
    "duration": 13,
    "start_time": "2021-11-24T00:12:42.118Z"
   },
   {
    "duration": 21,
    "start_time": "2021-11-24T00:13:34.839Z"
   },
   {
    "duration": 14,
    "start_time": "2021-11-24T00:14:59.139Z"
   },
   {
    "duration": 9,
    "start_time": "2021-11-24T00:29:44.200Z"
   },
   {
    "duration": 13,
    "start_time": "2021-11-24T00:51:35.273Z"
   },
   {
    "duration": 8,
    "start_time": "2021-11-24T00:53:10.467Z"
   },
   {
    "duration": 9,
    "start_time": "2021-11-24T00:53:42.476Z"
   },
   {
    "duration": 6,
    "start_time": "2021-11-24T01:02:17.607Z"
   },
   {
    "duration": 6,
    "start_time": "2021-11-24T01:02:30.779Z"
   },
   {
    "duration": 9,
    "start_time": "2021-11-24T01:04:22.537Z"
   },
   {
    "duration": 270,
    "start_time": "2021-11-24T01:10:41.390Z"
   },
   {
    "duration": 8,
    "start_time": "2021-11-24T01:11:02.526Z"
   },
   {
    "duration": 4,
    "start_time": "2021-11-24T01:11:30.838Z"
   },
   {
    "duration": 4,
    "start_time": "2021-11-24T01:11:47.272Z"
   },
   {
    "duration": 142,
    "start_time": "2021-11-24T01:16:22.168Z"
   },
   {
    "duration": 84,
    "start_time": "2021-11-24T01:16:32.865Z"
   },
   {
    "duration": 5,
    "start_time": "2021-11-24T01:17:04.057Z"
   },
   {
    "duration": 5,
    "start_time": "2021-11-24T01:20:43.202Z"
   },
   {
    "duration": 4,
    "start_time": "2021-11-24T01:21:02.168Z"
   },
   {
    "duration": 5,
    "start_time": "2021-11-24T01:48:35.930Z"
   },
   {
    "duration": 252,
    "start_time": "2021-11-24T01:49:22.477Z"
   },
   {
    "duration": 12,
    "start_time": "2021-11-24T01:49:43.846Z"
   },
   {
    "duration": 4,
    "start_time": "2021-11-24T01:50:17.786Z"
   },
   {
    "duration": 9,
    "start_time": "2021-11-24T01:50:43.883Z"
   },
   {
    "duration": 12,
    "start_time": "2021-11-24T01:50:44.655Z"
   },
   {
    "duration": 4,
    "start_time": "2021-11-24T01:51:19.183Z"
   },
   {
    "duration": 9,
    "start_time": "2021-11-24T01:51:19.773Z"
   },
   {
    "duration": 12,
    "start_time": "2021-11-24T01:51:20.446Z"
   },
   {
    "duration": 4,
    "start_time": "2021-11-24T01:52:07.659Z"
   },
   {
    "duration": 80,
    "start_time": "2021-11-24T01:54:23.044Z"
   },
   {
    "duration": 11,
    "start_time": "2021-11-24T01:54:37.191Z"
   },
   {
    "duration": 5,
    "start_time": "2021-11-24T01:55:47.993Z"
   },
   {
    "duration": 127,
    "start_time": "2021-11-24T01:55:59.192Z"
   },
   {
    "duration": 6,
    "start_time": "2021-11-24T01:56:02.108Z"
   },
   {
    "duration": 6,
    "start_time": "2021-11-24T01:56:52.054Z"
   },
   {
    "duration": 5,
    "start_time": "2021-11-24T01:58:05.004Z"
   },
   {
    "duration": 5,
    "start_time": "2021-11-24T01:58:18.231Z"
   },
   {
    "duration": 83,
    "start_time": "2021-11-24T02:00:40.544Z"
   },
   {
    "duration": 86,
    "start_time": "2021-11-24T02:01:02.640Z"
   },
   {
    "duration": 7,
    "start_time": "2021-11-24T02:01:07.219Z"
   },
   {
    "duration": 14,
    "start_time": "2021-11-24T02:01:45.799Z"
   },
   {
    "duration": 8,
    "start_time": "2021-11-24T02:01:54.927Z"
   },
   {
    "duration": 7,
    "start_time": "2021-11-24T02:07:25.946Z"
   },
   {
    "duration": 4,
    "start_time": "2021-11-24T02:07:35.851Z"
   },
   {
    "duration": 5,
    "start_time": "2021-11-24T02:07:52.612Z"
   },
   {
    "duration": 252,
    "start_time": "2021-11-24T02:08:31.585Z"
   },
   {
    "duration": 5,
    "start_time": "2021-11-24T02:08:42.340Z"
   },
   {
    "duration": 4,
    "start_time": "2021-11-24T02:09:17.587Z"
   },
   {
    "duration": 4,
    "start_time": "2021-11-24T02:09:33.984Z"
   },
   {
    "duration": 8,
    "start_time": "2021-11-24T02:09:34.503Z"
   },
   {
    "duration": 8,
    "start_time": "2021-11-24T02:09:36.961Z"
   },
   {
    "duration": 4,
    "start_time": "2021-11-24T02:09:38.030Z"
   },
   {
    "duration": 434,
    "start_time": "2021-11-24T13:05:51.501Z"
   },
   {
    "duration": 836,
    "start_time": "2021-11-24T13:05:56.755Z"
   },
   {
    "duration": 17,
    "start_time": "2021-11-24T13:05:57.594Z"
   },
   {
    "duration": 29,
    "start_time": "2021-11-24T13:05:57.615Z"
   },
   {
    "duration": 53,
    "start_time": "2021-11-24T13:05:57.647Z"
   },
   {
    "duration": 11,
    "start_time": "2021-11-24T13:05:57.703Z"
   },
   {
    "duration": 18,
    "start_time": "2021-11-24T13:05:57.717Z"
   },
   {
    "duration": 9,
    "start_time": "2021-11-24T13:05:57.737Z"
   },
   {
    "duration": 18,
    "start_time": "2021-11-24T13:05:57.749Z"
   },
   {
    "duration": 32,
    "start_time": "2021-11-24T13:05:57.770Z"
   },
   {
    "duration": 7,
    "start_time": "2021-11-24T13:06:07.864Z"
   },
   {
    "duration": 35,
    "start_time": "2021-11-24T13:12:44.794Z"
   },
   {
    "duration": 29,
    "start_time": "2021-11-24T13:14:11.560Z"
   },
   {
    "duration": 20,
    "start_time": "2021-11-24T13:16:26.759Z"
   },
   {
    "duration": 55,
    "start_time": "2021-11-24T13:18:07.423Z"
   },
   {
    "duration": 15,
    "start_time": "2021-11-24T13:18:07.480Z"
   },
   {
    "duration": 20,
    "start_time": "2021-11-24T13:18:07.614Z"
   },
   {
    "duration": 26,
    "start_time": "2021-11-24T13:18:07.637Z"
   },
   {
    "duration": 18,
    "start_time": "2021-11-24T13:18:07.666Z"
   },
   {
    "duration": 24,
    "start_time": "2021-11-24T13:18:07.686Z"
   },
   {
    "duration": 10,
    "start_time": "2021-11-24T13:18:07.787Z"
   },
   {
    "duration": 8,
    "start_time": "2021-11-24T13:18:07.800Z"
   },
   {
    "duration": 26,
    "start_time": "2021-11-24T13:18:07.811Z"
   },
   {
    "duration": 26,
    "start_time": "2021-11-24T13:18:07.839Z"
   },
   {
    "duration": 30,
    "start_time": "2021-11-24T13:18:19.482Z"
   },
   {
    "duration": 59,
    "start_time": "2021-11-24T13:35:06.391Z"
   },
   {
    "duration": 18,
    "start_time": "2021-11-24T13:35:06.453Z"
   },
   {
    "duration": 44,
    "start_time": "2021-11-24T13:35:06.475Z"
   },
   {
    "duration": 33,
    "start_time": "2021-11-24T13:35:06.522Z"
   },
   {
    "duration": 21,
    "start_time": "2021-11-24T13:35:06.557Z"
   },
   {
    "duration": 26,
    "start_time": "2021-11-24T13:35:06.581Z"
   },
   {
    "duration": 28,
    "start_time": "2021-11-24T13:35:06.610Z"
   },
   {
    "duration": 15,
    "start_time": "2021-11-24T13:35:06.641Z"
   },
   {
    "duration": 23,
    "start_time": "2021-11-24T13:35:06.659Z"
   },
   {
    "duration": 26,
    "start_time": "2021-11-24T13:35:06.701Z"
   },
   {
    "duration": 128,
    "start_time": "2021-11-24T13:35:39.263Z"
   },
   {
    "duration": 27,
    "start_time": "2021-11-24T13:35:54.268Z"
   },
   {
    "duration": 447,
    "start_time": "2021-11-24T13:36:45.979Z"
   },
   {
    "duration": 380,
    "start_time": "2021-11-24T13:37:22.128Z"
   },
   {
    "duration": 26,
    "start_time": "2021-11-24T13:37:28.203Z"
   },
   {
    "duration": 26,
    "start_time": "2021-11-24T13:38:29.141Z"
   },
   {
    "duration": 383,
    "start_time": "2021-11-24T13:41:08.722Z"
   },
   {
    "duration": 383,
    "start_time": "2021-11-24T13:41:12.805Z"
   },
   {
    "duration": 430,
    "start_time": "2021-11-24T13:41:22.094Z"
   },
   {
    "duration": 115,
    "start_time": "2021-11-24T13:45:31.921Z"
   },
   {
    "duration": 131,
    "start_time": "2021-11-24T13:45:39.156Z"
   },
   {
    "duration": 36,
    "start_time": "2021-11-24T13:45:42.212Z"
   },
   {
    "duration": 43,
    "start_time": "2021-11-24T13:46:43.584Z"
   },
   {
    "duration": 45,
    "start_time": "2021-11-24T13:47:43.001Z"
   },
   {
    "duration": 76,
    "start_time": "2021-11-24T13:48:56.549Z"
   },
   {
    "duration": 45,
    "start_time": "2021-11-24T13:50:01.648Z"
   },
   {
    "duration": 11020,
    "start_time": "2021-11-24T13:50:57.219Z"
   },
   {
    "duration": 467,
    "start_time": "2021-11-24T13:51:12.977Z"
   },
   {
    "duration": 38,
    "start_time": "2021-11-24T13:51:20.256Z"
   },
   {
    "duration": 147,
    "start_time": "2021-11-24T14:01:15.552Z"
   },
   {
    "duration": 133,
    "start_time": "2021-11-24T14:01:25.028Z"
   },
   {
    "duration": 416,
    "start_time": "2021-11-24T14:01:36.906Z"
   },
   {
    "duration": 459,
    "start_time": "2021-11-24T14:01:41.773Z"
   },
   {
    "duration": 363,
    "start_time": "2021-11-24T14:01:59.120Z"
   },
   {
    "duration": 806,
    "start_time": "2021-11-24T14:02:35.146Z"
   },
   {
    "duration": 5,
    "start_time": "2021-11-24T14:02:39.702Z"
   },
   {
    "duration": 433,
    "start_time": "2021-11-24T14:03:09.597Z"
   },
   {
    "duration": 9,
    "start_time": "2021-11-24T14:04:33.791Z"
   },
   {
    "duration": 18,
    "start_time": "2021-11-24T14:04:41.809Z"
   },
   {
    "duration": 10,
    "start_time": "2021-11-24T14:07:02.162Z"
   },
   {
    "duration": 9,
    "start_time": "2021-11-24T14:07:12.150Z"
   },
   {
    "duration": 12,
    "start_time": "2021-11-24T14:08:09.993Z"
   },
   {
    "duration": 9,
    "start_time": "2021-11-24T14:08:14.766Z"
   },
   {
    "duration": 119,
    "start_time": "2021-11-24T14:08:39.606Z"
   },
   {
    "duration": 8,
    "start_time": "2021-11-24T14:08:43.563Z"
   },
   {
    "duration": 14,
    "start_time": "2021-11-24T14:08:50.569Z"
   },
   {
    "duration": 13,
    "start_time": "2021-11-24T14:09:05.459Z"
   },
   {
    "duration": 34,
    "start_time": "2021-11-24T16:27:36.300Z"
   },
   {
    "duration": -126,
    "start_time": "2021-11-24T16:47:26.629Z"
   },
   {
    "duration": 54,
    "start_time": "2021-11-24T16:48:47.481Z"
   },
   {
    "duration": 15,
    "start_time": "2021-11-24T16:48:47.669Z"
   },
   {
    "duration": 22,
    "start_time": "2021-11-24T16:48:47.686Z"
   },
   {
    "duration": 30,
    "start_time": "2021-11-24T16:48:47.711Z"
   },
   {
    "duration": 17,
    "start_time": "2021-11-24T16:48:47.744Z"
   },
   {
    "duration": 18,
    "start_time": "2021-11-24T16:48:47.764Z"
   },
   {
    "duration": 25,
    "start_time": "2021-11-24T16:48:47.785Z"
   },
   {
    "duration": 5,
    "start_time": "2021-11-24T16:48:47.813Z"
   },
   {
    "duration": 9014,
    "start_time": "2021-11-24T16:49:00.956Z"
   },
   {
    "duration": 20,
    "start_time": "2021-11-24T16:49:23.075Z"
   },
   {
    "duration": 12,
    "start_time": "2021-11-24T16:50:22.458Z"
   },
   {
    "duration": 434,
    "start_time": "2021-11-24T17:02:55.216Z"
   },
   {
    "duration": 13,
    "start_time": "2021-11-24T17:04:38.281Z"
   },
   {
    "duration": 9,
    "start_time": "2021-11-24T17:04:49.102Z"
   },
   {
    "duration": 18,
    "start_time": "2021-11-24T17:05:18.525Z"
   },
   {
    "duration": 28,
    "start_time": "2021-11-24T17:05:27.074Z"
   },
   {
    "duration": 9,
    "start_time": "2021-11-24T17:07:48.224Z"
   },
   {
    "duration": 9,
    "start_time": "2021-11-24T17:08:27.614Z"
   },
   {
    "duration": 8,
    "start_time": "2021-11-24T17:08:37.489Z"
   },
   {
    "duration": 8,
    "start_time": "2021-11-24T17:08:42.710Z"
   },
   {
    "duration": 7,
    "start_time": "2021-11-24T17:08:56.763Z"
   },
   {
    "duration": 5578,
    "start_time": "2021-11-24T17:09:04.657Z"
   },
   {
    "duration": 7,
    "start_time": "2021-11-24T17:09:13.231Z"
   },
   {
    "duration": 9,
    "start_time": "2021-11-24T17:09:19.730Z"
   },
   {
    "duration": 10,
    "start_time": "2021-11-24T17:10:54.231Z"
   },
   {
    "duration": 9,
    "start_time": "2021-11-24T17:11:40.046Z"
   },
   {
    "duration": 8,
    "start_time": "2021-11-24T17:12:44.281Z"
   },
   {
    "duration": 10,
    "start_time": "2021-11-24T17:15:21.511Z"
   },
   {
    "duration": 9,
    "start_time": "2021-11-24T17:17:59.653Z"
   },
   {
    "duration": 9,
    "start_time": "2021-11-24T17:18:22.898Z"
   },
   {
    "duration": 9,
    "start_time": "2021-11-24T17:18:32.639Z"
   },
   {
    "duration": 14,
    "start_time": "2021-11-24T17:26:52.373Z"
   },
   {
    "duration": 11,
    "start_time": "2021-11-24T17:29:34.088Z"
   },
   {
    "duration": 11,
    "start_time": "2021-11-24T17:30:35.780Z"
   },
   {
    "duration": 12,
    "start_time": "2021-11-24T17:30:58.562Z"
   },
   {
    "duration": 9,
    "start_time": "2021-11-24T17:31:38.786Z"
   },
   {
    "duration": 15,
    "start_time": "2021-11-24T17:36:29.487Z"
   },
   {
    "duration": 12,
    "start_time": "2021-11-24T17:42:34.684Z"
   },
   {
    "duration": 16,
    "start_time": "2021-11-24T17:43:29.874Z"
   },
   {
    "duration": 16,
    "start_time": "2021-11-24T17:44:07.670Z"
   },
   {
    "duration": 12,
    "start_time": "2021-11-24T17:44:22.377Z"
   },
   {
    "duration": 11,
    "start_time": "2021-11-24T17:44:42.820Z"
   },
   {
    "duration": 11,
    "start_time": "2021-11-24T17:48:22.828Z"
   },
   {
    "duration": 11,
    "start_time": "2021-11-24T17:49:12.399Z"
   },
   {
    "duration": 13,
    "start_time": "2021-11-24T17:56:36.176Z"
   },
   {
    "duration": 9,
    "start_time": "2021-11-24T17:56:38.465Z"
   },
   {
    "duration": 12,
    "start_time": "2021-11-24T17:56:43.892Z"
   },
   {
    "duration": 11,
    "start_time": "2021-11-24T17:56:44.569Z"
   },
   {
    "duration": 11,
    "start_time": "2021-11-24T17:56:46.606Z"
   },
   {
    "duration": 13,
    "start_time": "2021-11-24T17:56:47.764Z"
   },
   {
    "duration": 324,
    "start_time": "2021-11-24T20:53:07.718Z"
   },
   {
    "duration": 649,
    "start_time": "2021-11-24T20:53:13.075Z"
   },
   {
    "duration": 12,
    "start_time": "2021-11-24T20:53:13.726Z"
   },
   {
    "duration": 24,
    "start_time": "2021-11-24T20:53:13.740Z"
   },
   {
    "duration": 18,
    "start_time": "2021-11-24T20:53:13.768Z"
   },
   {
    "duration": 10,
    "start_time": "2021-11-24T20:53:13.788Z"
   },
   {
    "duration": 10,
    "start_time": "2021-11-24T20:53:13.799Z"
   },
   {
    "duration": 8,
    "start_time": "2021-11-24T20:53:13.810Z"
   },
   {
    "duration": 4,
    "start_time": "2021-11-24T20:53:13.820Z"
   },
   {
    "duration": 52,
    "start_time": "2021-11-24T20:53:13.825Z"
   },
   {
    "duration": 8,
    "start_time": "2021-11-24T20:53:13.879Z"
   },
   {
    "duration": 10,
    "start_time": "2021-11-24T20:53:13.889Z"
   },
   {
    "duration": 7,
    "start_time": "2021-11-24T20:53:13.901Z"
   },
   {
    "duration": 10,
    "start_time": "2021-11-24T20:53:13.910Z"
   },
   {
    "duration": 9,
    "start_time": "2021-11-24T20:53:16.717Z"
   },
   {
    "duration": 9,
    "start_time": "2021-11-24T20:53:21.674Z"
   },
   {
    "duration": 9,
    "start_time": "2021-11-24T20:56:55.481Z"
   },
   {
    "duration": 8,
    "start_time": "2021-11-24T20:57:06.881Z"
   },
   {
    "duration": 7,
    "start_time": "2021-11-24T20:57:53.935Z"
   },
   {
    "duration": 7,
    "start_time": "2021-11-24T20:57:57.017Z"
   },
   {
    "duration": 4,
    "start_time": "2021-11-24T21:31:56.117Z"
   },
   {
    "duration": 16,
    "start_time": "2021-11-24T21:33:35.007Z"
   },
   {
    "duration": 257,
    "start_time": "2021-11-24T21:33:47.020Z"
   },
   {
    "duration": 7,
    "start_time": "2021-11-24T21:34:00.092Z"
   },
   {
    "duration": 8,
    "start_time": "2021-11-24T21:34:18.431Z"
   },
   {
    "duration": 10,
    "start_time": "2021-11-24T21:35:14.506Z"
   },
   {
    "duration": 730,
    "start_time": "2021-11-24T21:35:41.896Z"
   },
   {
    "duration": 10,
    "start_time": "2021-11-24T21:36:24.106Z"
   },
   {
    "duration": 10,
    "start_time": "2021-11-24T21:37:00.278Z"
   },
   {
    "duration": 10,
    "start_time": "2021-11-24T21:37:29.821Z"
   },
   {
    "duration": 3,
    "start_time": "2021-11-24T21:43:21.172Z"
   },
   {
    "duration": 5,
    "start_time": "2021-11-24T21:43:27.557Z"
   },
   {
    "duration": 5,
    "start_time": "2021-11-24T21:45:59.547Z"
   },
   {
    "duration": 5,
    "start_time": "2021-11-24T21:48:16.390Z"
   },
   {
    "duration": 4,
    "start_time": "2021-11-24T21:52:41.598Z"
   },
   {
    "duration": 3,
    "start_time": "2021-11-24T21:52:45.655Z"
   },
   {
    "duration": 3,
    "start_time": "2021-11-24T21:52:58.243Z"
   },
   {
    "duration": 45,
    "start_time": "2021-11-24T21:53:11.702Z"
   },
   {
    "duration": 12,
    "start_time": "2021-11-24T21:53:11.749Z"
   },
   {
    "duration": 23,
    "start_time": "2021-11-24T21:53:11.764Z"
   },
   {
    "duration": 15,
    "start_time": "2021-11-24T21:53:11.789Z"
   },
   {
    "duration": 11,
    "start_time": "2021-11-24T21:53:11.806Z"
   },
   {
    "duration": 11,
    "start_time": "2021-11-24T21:53:11.818Z"
   },
   {
    "duration": 33,
    "start_time": "2021-11-24T21:53:11.830Z"
   },
   {
    "duration": 7,
    "start_time": "2021-11-24T21:53:11.865Z"
   },
   {
    "duration": 14,
    "start_time": "2021-11-24T21:53:11.877Z"
   },
   {
    "duration": 6,
    "start_time": "2021-11-24T21:53:11.893Z"
   },
   {
    "duration": 11,
    "start_time": "2021-11-24T21:53:11.901Z"
   },
   {
    "duration": 7,
    "start_time": "2021-11-24T21:53:11.913Z"
   },
   {
    "duration": 55,
    "start_time": "2021-11-24T21:53:11.922Z"
   },
   {
    "duration": 8,
    "start_time": "2021-11-24T21:53:11.980Z"
   },
   {
    "duration": 11,
    "start_time": "2021-11-24T21:53:11.989Z"
   },
   {
    "duration": 7,
    "start_time": "2021-11-24T21:53:12.002Z"
   },
   {
    "duration": 8,
    "start_time": "2021-11-24T21:53:12.011Z"
   },
   {
    "duration": 43,
    "start_time": "2021-11-24T21:53:12.020Z"
   },
   {
    "duration": 34,
    "start_time": "2021-11-24T21:53:12.066Z"
   },
   {
    "duration": 7,
    "start_time": "2021-11-24T21:53:12.102Z"
   },
   {
    "duration": 15,
    "start_time": "2021-11-24T21:53:12.111Z"
   },
   {
    "duration": 15,
    "start_time": "2021-11-24T21:53:12.128Z"
   },
   {
    "duration": 7,
    "start_time": "2021-11-24T21:53:12.145Z"
   },
   {
    "duration": 19,
    "start_time": "2021-11-24T21:53:12.154Z"
   },
   {
    "duration": 11,
    "start_time": "2021-11-24T21:53:12.176Z"
   },
   {
    "duration": 10,
    "start_time": "2021-11-24T21:53:12.189Z"
   },
   {
    "duration": 7,
    "start_time": "2021-11-24T21:53:12.202Z"
   },
   {
    "duration": 11,
    "start_time": "2021-11-24T21:53:12.211Z"
   },
   {
    "duration": 14,
    "start_time": "2021-11-24T21:53:12.224Z"
   },
   {
    "duration": 6,
    "start_time": "2021-11-24T21:53:21.921Z"
   },
   {
    "duration": 4,
    "start_time": "2021-11-24T21:53:22.613Z"
   },
   {
    "duration": 6,
    "start_time": "2021-11-24T21:53:30.529Z"
   },
   {
    "duration": 4,
    "start_time": "2021-11-24T21:53:31.130Z"
   },
   {
    "duration": 4,
    "start_time": "2021-11-24T21:55:49.631Z"
   },
   {
    "duration": 4,
    "start_time": "2021-11-24T21:55:52.403Z"
   },
   {
    "duration": 4,
    "start_time": "2021-11-24T21:59:31.789Z"
   },
   {
    "duration": 6,
    "start_time": "2021-11-24T22:02:55.113Z"
   },
   {
    "duration": 6,
    "start_time": "2021-11-24T22:02:57.291Z"
   },
   {
    "duration": 5,
    "start_time": "2021-11-24T22:04:07.053Z"
   },
   {
    "duration": 5,
    "start_time": "2021-11-24T22:04:13.479Z"
   },
   {
    "duration": 4,
    "start_time": "2021-11-24T22:04:17.915Z"
   },
   {
    "duration": 4,
    "start_time": "2021-11-24T22:04:18.297Z"
   },
   {
    "duration": 48,
    "start_time": "2021-11-24T22:04:22.744Z"
   },
   {
    "duration": 14,
    "start_time": "2021-11-24T22:04:22.795Z"
   },
   {
    "duration": 13,
    "start_time": "2021-11-24T22:04:22.812Z"
   },
   {
    "duration": 43,
    "start_time": "2021-11-24T22:04:22.827Z"
   },
   {
    "duration": 13,
    "start_time": "2021-11-24T22:04:22.873Z"
   },
   {
    "duration": 14,
    "start_time": "2021-11-24T22:04:22.888Z"
   },
   {
    "duration": 8,
    "start_time": "2021-11-24T22:04:22.904Z"
   },
   {
    "duration": 4,
    "start_time": "2021-11-24T22:04:22.914Z"
   },
   {
    "duration": 12,
    "start_time": "2021-11-24T22:04:22.920Z"
   },
   {
    "duration": 37,
    "start_time": "2021-11-24T22:04:22.934Z"
   },
   {
    "duration": 10,
    "start_time": "2021-11-24T22:04:22.974Z"
   },
   {
    "duration": 12,
    "start_time": "2021-11-24T22:04:22.986Z"
   },
   {
    "duration": 10,
    "start_time": "2021-11-24T22:04:22.999Z"
   },
   {
    "duration": 9,
    "start_time": "2021-11-24T22:04:23.011Z"
   },
   {
    "duration": 12,
    "start_time": "2021-11-24T22:04:23.062Z"
   },
   {
    "duration": 15,
    "start_time": "2021-11-24T22:04:23.077Z"
   },
   {
    "duration": 6,
    "start_time": "2021-11-24T22:04:23.094Z"
   },
   {
    "duration": 13,
    "start_time": "2021-11-24T22:04:23.102Z"
   },
   {
    "duration": 19,
    "start_time": "2021-11-24T22:04:23.116Z"
   },
   {
    "duration": 28,
    "start_time": "2021-11-24T22:04:23.137Z"
   },
   {
    "duration": 12,
    "start_time": "2021-11-24T22:04:23.167Z"
   },
   {
    "duration": 12,
    "start_time": "2021-11-24T22:04:23.180Z"
   },
   {
    "duration": 5,
    "start_time": "2021-11-24T22:04:23.196Z"
   },
   {
    "duration": 18,
    "start_time": "2021-11-24T22:04:23.202Z"
   },
   {
    "duration": 3,
    "start_time": "2021-11-24T22:04:23.221Z"
   },
   {
    "duration": 8,
    "start_time": "2021-11-24T22:04:23.226Z"
   },
   {
    "duration": 33,
    "start_time": "2021-11-24T22:04:23.236Z"
   },
   {
    "duration": 9,
    "start_time": "2021-11-24T22:04:23.273Z"
   },
   {
    "duration": 12,
    "start_time": "2021-11-24T22:04:23.284Z"
   },
   {
    "duration": 5,
    "start_time": "2021-11-24T22:04:23.298Z"
   },
   {
    "duration": 9,
    "start_time": "2021-11-24T22:04:23.304Z"
   },
   {
    "duration": 8,
    "start_time": "2021-11-24T22:04:23.314Z"
   },
   {
    "duration": 11,
    "start_time": "2021-11-24T22:04:23.323Z"
   },
   {
    "duration": 29,
    "start_time": "2021-11-24T22:04:23.336Z"
   },
   {
    "duration": 8,
    "start_time": "2021-11-24T22:04:25.970Z"
   },
   {
    "duration": 5,
    "start_time": "2021-11-24T22:04:27.022Z"
   },
   {
    "duration": 4,
    "start_time": "2021-11-24T22:06:55.231Z"
   },
   {
    "duration": 16,
    "start_time": "2021-11-24T22:10:04.144Z"
   },
   {
    "duration": 36,
    "start_time": "2021-11-24T22:10:56.661Z"
   },
   {
    "duration": 16,
    "start_time": "2021-11-24T22:10:57.307Z"
   },
   {
    "duration": 22,
    "start_time": "2021-11-24T22:11:11.563Z"
   },
   {
    "duration": 19,
    "start_time": "2021-11-24T22:11:27.098Z"
   },
   {
    "duration": 15,
    "start_time": "2021-11-24T22:11:27.699Z"
   },
   {
    "duration": 4,
    "start_time": "2021-11-24T22:13:40.084Z"
   },
   {
    "duration": 4,
    "start_time": "2021-11-24T22:16:18.009Z"
   },
   {
    "duration": 3,
    "start_time": "2021-11-24T22:16:31.764Z"
   },
   {
    "duration": 3,
    "start_time": "2021-11-24T22:16:40.299Z"
   },
   {
    "duration": 87,
    "start_time": "2021-11-24T22:16:57.253Z"
   },
   {
    "duration": 3,
    "start_time": "2021-11-24T22:17:12.541Z"
   },
   {
    "duration": 3,
    "start_time": "2021-11-24T22:18:13.832Z"
   },
   {
    "duration": 3,
    "start_time": "2021-11-24T22:19:08.791Z"
   },
   {
    "duration": 14,
    "start_time": "2021-11-24T22:21:42.274Z"
   },
   {
    "duration": 4,
    "start_time": "2021-11-24T22:27:26.355Z"
   },
   {
    "duration": 4,
    "start_time": "2021-11-24T22:27:40.588Z"
   },
   {
    "duration": 265,
    "start_time": "2021-11-24T22:28:28.841Z"
   },
   {
    "duration": 8,
    "start_time": "2021-11-24T22:28:32.318Z"
   },
   {
    "duration": 10,
    "start_time": "2021-11-24T22:28:37.088Z"
   },
   {
    "duration": 9,
    "start_time": "2021-11-24T22:29:00.915Z"
   },
   {
    "duration": 87,
    "start_time": "2021-11-24T22:30:27.264Z"
   },
   {
    "duration": 3,
    "start_time": "2021-11-24T22:30:55.573Z"
   },
   {
    "duration": 11,
    "start_time": "2021-11-24T22:31:49.873Z"
   },
   {
    "duration": 3,
    "start_time": "2021-11-24T22:32:40.159Z"
   },
   {
    "duration": 252,
    "start_time": "2021-11-24T22:33:28.413Z"
   },
   {
    "duration": 3,
    "start_time": "2021-11-24T22:33:29.303Z"
   },
   {
    "duration": 245,
    "start_time": "2021-11-24T22:33:41.533Z"
   },
   {
    "duration": 48,
    "start_time": "2021-11-24T22:33:45.455Z"
   },
   {
    "duration": 12,
    "start_time": "2021-11-24T22:33:45.505Z"
   },
   {
    "duration": 13,
    "start_time": "2021-11-24T22:33:45.520Z"
   },
   {
    "duration": 40,
    "start_time": "2021-11-24T22:33:45.535Z"
   },
   {
    "duration": 14,
    "start_time": "2021-11-24T22:33:45.578Z"
   },
   {
    "duration": 11,
    "start_time": "2021-11-24T22:33:45.594Z"
   },
   {
    "duration": 12,
    "start_time": "2021-11-24T22:33:45.607Z"
   },
   {
    "duration": 4,
    "start_time": "2021-11-24T22:33:45.623Z"
   },
   {
    "duration": 36,
    "start_time": "2021-11-24T22:33:45.630Z"
   },
   {
    "duration": 9,
    "start_time": "2021-11-24T22:33:45.668Z"
   },
   {
    "duration": 11,
    "start_time": "2021-11-24T22:33:45.679Z"
   },
   {
    "duration": 15,
    "start_time": "2021-11-24T22:33:45.692Z"
   },
   {
    "duration": 14,
    "start_time": "2021-11-24T22:33:45.709Z"
   },
   {
    "duration": 44,
    "start_time": "2021-11-24T22:33:45.725Z"
   },
   {
    "duration": 8,
    "start_time": "2021-11-24T22:33:45.770Z"
   },
   {
    "duration": 7,
    "start_time": "2021-11-24T22:33:45.780Z"
   },
   {
    "duration": 5,
    "start_time": "2021-11-24T22:33:45.789Z"
   },
   {
    "duration": 17,
    "start_time": "2021-11-24T22:33:45.795Z"
   },
   {
    "duration": 49,
    "start_time": "2021-11-24T22:33:45.814Z"
   },
   {
    "duration": 4,
    "start_time": "2021-11-24T22:33:45.866Z"
   },
   {
    "duration": 11,
    "start_time": "2021-11-24T22:33:45.872Z"
   },
   {
    "duration": 14,
    "start_time": "2021-11-24T22:33:45.885Z"
   },
   {
    "duration": 7,
    "start_time": "2021-11-24T22:33:45.902Z"
   },
   {
    "duration": 19,
    "start_time": "2021-11-24T22:33:45.911Z"
   },
   {
    "duration": 31,
    "start_time": "2021-11-24T22:33:45.932Z"
   },
   {
    "duration": 6,
    "start_time": "2021-11-24T22:33:45.965Z"
   },
   {
    "duration": 6,
    "start_time": "2021-11-24T22:33:45.973Z"
   },
   {
    "duration": 7,
    "start_time": "2021-11-24T22:33:45.981Z"
   },
   {
    "duration": 14,
    "start_time": "2021-11-24T22:33:45.990Z"
   },
   {
    "duration": 5,
    "start_time": "2021-11-24T22:33:46.005Z"
   },
   {
    "duration": 10,
    "start_time": "2021-11-24T22:33:46.011Z"
   },
   {
    "duration": 11,
    "start_time": "2021-11-24T22:33:46.022Z"
   },
   {
    "duration": 31,
    "start_time": "2021-11-24T22:33:46.035Z"
   },
   {
    "duration": 11,
    "start_time": "2021-11-24T22:33:46.068Z"
   },
   {
    "duration": 6,
    "start_time": "2021-11-24T22:33:46.081Z"
   },
   {
    "duration": 12,
    "start_time": "2021-11-24T22:33:46.089Z"
   },
   {
    "duration": 19,
    "start_time": "2021-11-24T22:33:46.103Z"
   },
   {
    "duration": 39,
    "start_time": "2021-11-24T22:33:46.124Z"
   },
   {
    "duration": 16,
    "start_time": "2021-11-24T22:33:46.165Z"
   },
   {
    "duration": 3,
    "start_time": "2021-11-24T22:33:46.183Z"
   },
   {
    "duration": 6,
    "start_time": "2021-11-24T22:33:46.187Z"
   },
   {
    "duration": 16,
    "start_time": "2021-11-24T22:33:46.194Z"
   },
   {
    "duration": 245,
    "start_time": "2021-11-24T22:33:53.880Z"
   },
   {
    "duration": 3,
    "start_time": "2021-11-24T22:33:55.932Z"
   },
   {
    "duration": 9,
    "start_time": "2021-11-24T22:33:57.631Z"
   },
   {
    "duration": 3,
    "start_time": "2021-11-24T22:33:59.102Z"
   },
   {
    "duration": 9,
    "start_time": "2021-11-24T22:34:26.051Z"
   },
   {
    "duration": 3,
    "start_time": "2021-11-24T22:34:30.952Z"
   },
   {
    "duration": 9,
    "start_time": "2021-11-24T22:34:37.250Z"
   },
   {
    "duration": 3,
    "start_time": "2021-11-24T22:34:39.364Z"
   },
   {
    "duration": 7,
    "start_time": "2021-11-25T00:34:29.917Z"
   },
   {
    "duration": 6,
    "start_time": "2021-11-25T00:36:59.973Z"
   },
   {
    "duration": 85,
    "start_time": "2021-11-25T00:39:51.828Z"
   },
   {
    "duration": 86,
    "start_time": "2021-11-25T00:41:02.242Z"
   },
   {
    "duration": 5,
    "start_time": "2021-11-25T00:41:09.504Z"
   },
   {
    "duration": 303,
    "start_time": "2021-11-25T00:41:26.803Z"
   },
   {
    "duration": 6,
    "start_time": "2021-11-25T00:41:35.800Z"
   },
   {
    "duration": 247,
    "start_time": "2021-11-25T01:07:33.262Z"
   },
   {
    "duration": 4,
    "start_time": "2021-11-25T01:07:36.170Z"
   },
   {
    "duration": 4,
    "start_time": "2021-11-25T01:07:37.056Z"
   },
   {
    "duration": 5,
    "start_time": "2021-11-25T01:07:52.377Z"
   },
   {
    "duration": 3,
    "start_time": "2021-11-25T01:08:12.265Z"
   },
   {
    "duration": 4,
    "start_time": "2021-11-25T01:08:27.285Z"
   },
   {
    "duration": 7,
    "start_time": "2021-11-25T01:09:14.518Z"
   },
   {
    "duration": 5,
    "start_time": "2021-11-25T01:09:21.217Z"
   },
   {
    "duration": 252,
    "start_time": "2021-11-25T01:14:36.806Z"
   },
   {
    "duration": 10,
    "start_time": "2021-11-25T01:14:59.984Z"
   },
   {
    "duration": 13,
    "start_time": "2021-11-25T01:15:38.779Z"
   },
   {
    "duration": 8,
    "start_time": "2021-11-25T01:16:00.360Z"
   },
   {
    "duration": 8,
    "start_time": "2021-11-25T01:16:45.696Z"
   },
   {
    "duration": 8,
    "start_time": "2021-11-25T01:17:09.892Z"
   },
   {
    "duration": 12,
    "start_time": "2021-11-25T01:19:04.181Z"
   },
   {
    "duration": 43,
    "start_time": "2021-11-25T01:19:10.587Z"
   },
   {
    "duration": 12,
    "start_time": "2021-11-25T01:19:10.632Z"
   },
   {
    "duration": 12,
    "start_time": "2021-11-25T01:19:10.647Z"
   },
   {
    "duration": 18,
    "start_time": "2021-11-25T01:19:10.661Z"
   },
   {
    "duration": 10,
    "start_time": "2021-11-25T01:19:10.681Z"
   },
   {
    "duration": 9,
    "start_time": "2021-11-25T01:19:10.693Z"
   },
   {
    "duration": 8,
    "start_time": "2021-11-25T01:19:10.704Z"
   },
   {
    "duration": 4,
    "start_time": "2021-11-25T01:19:10.714Z"
   },
   {
    "duration": 46,
    "start_time": "2021-11-25T01:19:10.719Z"
   },
   {
    "duration": 7,
    "start_time": "2021-11-25T01:19:10.782Z"
   },
   {
    "duration": 8,
    "start_time": "2021-11-25T01:19:10.792Z"
   },
   {
    "duration": 8,
    "start_time": "2021-11-25T01:19:10.802Z"
   },
   {
    "duration": 6,
    "start_time": "2021-11-25T01:19:10.812Z"
   },
   {
    "duration": 7,
    "start_time": "2021-11-25T01:19:10.820Z"
   },
   {
    "duration": 42,
    "start_time": "2021-11-25T01:19:10.828Z"
   },
   {
    "duration": 10,
    "start_time": "2021-11-25T01:19:10.872Z"
   },
   {
    "duration": 8,
    "start_time": "2021-11-25T01:19:10.884Z"
   },
   {
    "duration": 13,
    "start_time": "2021-11-25T01:19:10.893Z"
   },
   {
    "duration": 17,
    "start_time": "2021-11-25T01:19:10.909Z"
   },
   {
    "duration": 34,
    "start_time": "2021-11-25T01:19:10.929Z"
   },
   {
    "duration": 8,
    "start_time": "2021-11-25T01:19:10.966Z"
   },
   {
    "duration": 8,
    "start_time": "2021-11-25T01:19:10.976Z"
   },
   {
    "duration": 7,
    "start_time": "2021-11-25T01:19:10.985Z"
   },
   {
    "duration": 15,
    "start_time": "2021-11-25T01:19:10.993Z"
   },
   {
    "duration": 3,
    "start_time": "2021-11-25T01:19:11.010Z"
   },
   {
    "duration": 15,
    "start_time": "2021-11-25T01:19:11.014Z"
   },
   {
    "duration": 7,
    "start_time": "2021-11-25T01:19:11.031Z"
   },
   {
    "duration": 27,
    "start_time": "2021-11-25T01:19:11.040Z"
   },
   {
    "duration": 14,
    "start_time": "2021-11-25T01:19:11.069Z"
   },
   {
    "duration": 6,
    "start_time": "2021-11-25T01:19:11.085Z"
   },
   {
    "duration": 11,
    "start_time": "2021-11-25T01:19:11.093Z"
   },
   {
    "duration": 8,
    "start_time": "2021-11-25T01:19:11.106Z"
   },
   {
    "duration": 9,
    "start_time": "2021-11-25T01:19:11.116Z"
   },
   {
    "duration": 12,
    "start_time": "2021-11-25T01:19:11.127Z"
   },
   {
    "duration": 22,
    "start_time": "2021-11-25T01:19:11.141Z"
   },
   {
    "duration": 4,
    "start_time": "2021-11-25T01:19:11.165Z"
   },
   {
    "duration": 16,
    "start_time": "2021-11-25T01:19:11.173Z"
   },
   {
    "duration": 18,
    "start_time": "2021-11-25T01:19:11.192Z"
   },
   {
    "duration": 14,
    "start_time": "2021-11-25T01:19:11.212Z"
   },
   {
    "duration": 3,
    "start_time": "2021-11-25T01:19:11.228Z"
   },
   {
    "duration": 3,
    "start_time": "2021-11-25T01:19:11.264Z"
   },
   {
    "duration": 19,
    "start_time": "2021-11-25T01:19:11.268Z"
   },
   {
    "duration": 10,
    "start_time": "2021-11-25T01:19:11.288Z"
   },
   {
    "duration": 3,
    "start_time": "2021-11-25T01:19:11.299Z"
   },
   {
    "duration": 16,
    "start_time": "2021-11-25T01:19:11.304Z"
   },
   {
    "duration": 12,
    "start_time": "2021-11-25T01:19:11.322Z"
   },
   {
    "duration": 10,
    "start_time": "2021-11-25T01:19:11.336Z"
   },
   {
    "duration": 15,
    "start_time": "2021-11-25T01:19:11.348Z"
   },
   {
    "duration": 11,
    "start_time": "2021-11-25T01:19:11.365Z"
   },
   {
    "duration": 12,
    "start_time": "2021-11-25T01:19:11.378Z"
   },
   {
    "duration": 15,
    "start_time": "2021-11-25T01:19:11.392Z"
   },
   {
    "duration": 15,
    "start_time": "2021-11-25T01:19:11.409Z"
   },
   {
    "duration": 8,
    "start_time": "2021-11-25T01:19:11.425Z"
   },
   {
    "duration": 7,
    "start_time": "2021-11-25T01:19:11.435Z"
   },
   {
    "duration": 8,
    "start_time": "2021-11-25T01:19:11.444Z"
   },
   {
    "duration": 7,
    "start_time": "2021-11-25T01:19:11.453Z"
   },
   {
    "duration": 11,
    "start_time": "2021-11-25T01:19:11.462Z"
   },
   {
    "duration": 8,
    "start_time": "2021-11-25T01:19:11.475Z"
   },
   {
    "duration": 11,
    "start_time": "2021-11-25T01:19:11.485Z"
   },
   {
    "duration": 8,
    "start_time": "2021-11-25T01:19:11.498Z"
   },
   {
    "duration": 8,
    "start_time": "2021-11-25T01:19:11.507Z"
   },
   {
    "duration": 8,
    "start_time": "2021-11-25T01:19:11.516Z"
   },
   {
    "duration": 8,
    "start_time": "2021-11-25T01:19:11.525Z"
   },
   {
    "duration": 9,
    "start_time": "2021-11-25T01:19:11.535Z"
   },
   {
    "duration": 7,
    "start_time": "2021-11-25T01:19:11.546Z"
   },
   {
    "duration": 9,
    "start_time": "2021-11-25T01:19:11.555Z"
   },
   {
    "duration": 7,
    "start_time": "2021-11-25T01:19:11.566Z"
   },
   {
    "duration": 13,
    "start_time": "2021-11-25T01:19:11.574Z"
   },
   {
    "duration": 7,
    "start_time": "2021-11-25T01:19:11.588Z"
   },
   {
    "duration": 15,
    "start_time": "2021-11-25T01:19:11.597Z"
   },
   {
    "duration": 11,
    "start_time": "2021-11-25T01:19:11.613Z"
   },
   {
    "duration": 8,
    "start_time": "2021-11-25T01:19:11.625Z"
   },
   {
    "duration": 8,
    "start_time": "2021-11-25T01:19:11.635Z"
   },
   {
    "duration": 10,
    "start_time": "2021-11-25T01:19:11.644Z"
   },
   {
    "duration": 10,
    "start_time": "2021-11-25T01:19:11.655Z"
   },
   {
    "duration": 10,
    "start_time": "2021-11-25T01:19:11.666Z"
   },
   {
    "duration": 8,
    "start_time": "2021-11-25T01:19:11.677Z"
   },
   {
    "duration": 9,
    "start_time": "2021-11-25T01:19:11.686Z"
   },
   {
    "duration": 8,
    "start_time": "2021-11-25T01:19:11.697Z"
   },
   {
    "duration": 9,
    "start_time": "2021-11-25T01:19:11.706Z"
   },
   {
    "duration": 8,
    "start_time": "2021-11-25T01:19:11.716Z"
   },
   {
    "duration": 11,
    "start_time": "2021-11-25T01:19:11.725Z"
   },
   {
    "duration": 13,
    "start_time": "2021-11-25T01:50:26.792Z"
   },
   {
    "duration": 14,
    "start_time": "2021-11-25T01:50:55.045Z"
   },
   {
    "duration": 13,
    "start_time": "2021-11-25T01:51:01.507Z"
   },
   {
    "duration": 83,
    "start_time": "2021-11-25T02:06:54.623Z"
   },
   {
    "duration": 3,
    "start_time": "2021-11-25T02:06:55.838Z"
   },
   {
    "duration": 81,
    "start_time": "2021-11-25T02:06:56.238Z"
   },
   {
    "duration": 3,
    "start_time": "2021-11-25T02:07:08.942Z"
   },
   {
    "duration": 3,
    "start_time": "2021-11-25T02:07:15.869Z"
   },
   {
    "duration": 3,
    "start_time": "2021-11-25T02:08:46.187Z"
   },
   {
    "duration": 3,
    "start_time": "2021-11-25T02:08:46.649Z"
   },
   {
    "duration": 4,
    "start_time": "2021-11-25T02:09:18.495Z"
   },
   {
    "duration": 20,
    "start_time": "2021-11-25T02:11:50.071Z"
   },
   {
    "duration": 4,
    "start_time": "2021-11-25T02:12:56.017Z"
   },
   {
    "duration": 18,
    "start_time": "2021-11-25T02:13:03.237Z"
   },
   {
    "duration": 257,
    "start_time": "2021-11-25T02:14:29.131Z"
   },
   {
    "duration": 238,
    "start_time": "2021-11-25T02:14:42.239Z"
   },
   {
    "duration": 4,
    "start_time": "2021-11-25T02:14:46.933Z"
   },
   {
    "duration": 3,
    "start_time": "2021-11-25T02:14:56.417Z"
   },
   {
    "duration": 875,
    "start_time": "2021-11-25T14:24:29.765Z"
   },
   {
    "duration": 19,
    "start_time": "2021-11-25T14:24:30.643Z"
   },
   {
    "duration": 52,
    "start_time": "2021-11-25T14:24:30.666Z"
   },
   {
    "duration": 40,
    "start_time": "2021-11-25T14:24:30.721Z"
   },
   {
    "duration": 29,
    "start_time": "2021-11-25T14:24:30.764Z"
   },
   {
    "duration": 14,
    "start_time": "2021-11-25T14:24:30.796Z"
   },
   {
    "duration": 15,
    "start_time": "2021-11-25T14:24:30.813Z"
   },
   {
    "duration": 14,
    "start_time": "2021-11-25T14:24:30.832Z"
   },
   {
    "duration": 28,
    "start_time": "2021-11-25T14:24:30.849Z"
   },
   {
    "duration": 21,
    "start_time": "2021-11-25T14:24:30.879Z"
   },
   {
    "duration": 27,
    "start_time": "2021-11-25T14:24:30.902Z"
   },
   {
    "duration": 10,
    "start_time": "2021-11-25T14:24:30.932Z"
   },
   {
    "duration": 15,
    "start_time": "2021-11-25T14:24:30.945Z"
   },
   {
    "duration": 46,
    "start_time": "2021-11-25T14:24:30.962Z"
   },
   {
    "duration": 12,
    "start_time": "2021-11-25T14:24:31.012Z"
   },
   {
    "duration": 16,
    "start_time": "2021-11-25T14:24:31.027Z"
   },
   {
    "duration": 11,
    "start_time": "2021-11-25T14:24:31.045Z"
   },
   {
    "duration": 53,
    "start_time": "2021-11-25T14:24:31.058Z"
   },
   {
    "duration": 18,
    "start_time": "2021-11-25T14:24:31.114Z"
   },
   {
    "duration": 12,
    "start_time": "2021-11-25T14:24:31.135Z"
   },
   {
    "duration": 23,
    "start_time": "2021-11-25T14:24:31.150Z"
   },
   {
    "duration": 21,
    "start_time": "2021-11-25T14:24:31.176Z"
   },
   {
    "duration": 8,
    "start_time": "2021-11-25T14:24:31.206Z"
   },
   {
    "duration": 21,
    "start_time": "2021-11-25T14:24:31.220Z"
   },
   {
    "duration": 4,
    "start_time": "2021-11-25T14:24:31.244Z"
   },
   {
    "duration": 24,
    "start_time": "2021-11-25T14:24:31.251Z"
   },
   {
    "duration": 25,
    "start_time": "2021-11-25T14:24:31.278Z"
   },
   {
    "duration": 19,
    "start_time": "2021-11-25T14:24:31.308Z"
   },
   {
    "duration": 23,
    "start_time": "2021-11-25T14:24:31.329Z"
   },
   {
    "duration": 18,
    "start_time": "2021-11-25T14:24:31.354Z"
   },
   {
    "duration": 17,
    "start_time": "2021-11-25T14:24:31.374Z"
   },
   {
    "duration": 9,
    "start_time": "2021-11-25T14:24:31.393Z"
   },
   {
    "duration": 28,
    "start_time": "2021-11-25T14:24:31.404Z"
   },
   {
    "duration": 16,
    "start_time": "2021-11-25T14:24:31.435Z"
   },
   {
    "duration": 16,
    "start_time": "2021-11-25T14:24:31.454Z"
   },
   {
    "duration": 12,
    "start_time": "2021-11-25T14:24:31.473Z"
   },
   {
    "duration": 43,
    "start_time": "2021-11-25T14:24:31.488Z"
   },
   {
    "duration": 27,
    "start_time": "2021-11-25T14:24:31.534Z"
   },
   {
    "duration": 52,
    "start_time": "2021-11-25T14:24:31.563Z"
   },
   {
    "duration": 6,
    "start_time": "2021-11-25T14:24:31.618Z"
   },
   {
    "duration": 13,
    "start_time": "2021-11-25T14:24:31.627Z"
   },
   {
    "duration": 37,
    "start_time": "2021-11-25T14:24:31.643Z"
   },
   {
    "duration": 27,
    "start_time": "2021-11-25T14:24:31.683Z"
   },
   {
    "duration": 15,
    "start_time": "2021-11-25T14:24:31.712Z"
   },
   {
    "duration": 16,
    "start_time": "2021-11-25T14:24:31.735Z"
   },
   {
    "duration": 6,
    "start_time": "2021-11-25T14:24:31.753Z"
   },
   {
    "duration": 20,
    "start_time": "2021-11-25T14:24:31.761Z"
   },
   {
    "duration": 11,
    "start_time": "2021-11-25T14:24:31.801Z"
   },
   {
    "duration": 17,
    "start_time": "2021-11-25T14:24:31.815Z"
   },
   {
    "duration": 24,
    "start_time": "2021-11-25T14:24:31.834Z"
   },
   {
    "duration": 12,
    "start_time": "2021-11-25T14:24:31.860Z"
   },
   {
    "duration": 19,
    "start_time": "2021-11-25T14:24:31.875Z"
   },
   {
    "duration": 14,
    "start_time": "2021-11-25T14:24:31.905Z"
   },
   {
    "duration": 25,
    "start_time": "2021-11-25T14:24:31.922Z"
   },
   {
    "duration": 19,
    "start_time": "2021-11-25T14:24:31.950Z"
   },
   {
    "duration": 4,
    "start_time": "2021-11-25T14:24:31.971Z"
   },
   {
    "duration": 8,
    "start_time": "2021-11-25T14:24:32.003Z"
   },
   {
    "duration": 15,
    "start_time": "2021-11-25T14:24:32.014Z"
   },
   {
    "duration": 42,
    "start_time": "2021-11-25T14:24:32.032Z"
   },
   {
    "duration": 26,
    "start_time": "2021-11-25T14:24:32.076Z"
   },
   {
    "duration": 9,
    "start_time": "2021-11-25T14:24:32.106Z"
   },
   {
    "duration": 17,
    "start_time": "2021-11-25T14:24:32.118Z"
   },
   {
    "duration": 36,
    "start_time": "2021-11-25T14:24:32.137Z"
   },
   {
    "duration": 49,
    "start_time": "2021-11-25T14:24:32.175Z"
   },
   {
    "duration": 16,
    "start_time": "2021-11-25T14:24:32.227Z"
   },
   {
    "duration": 20,
    "start_time": "2021-11-25T14:24:32.245Z"
   },
   {
    "duration": 16,
    "start_time": "2021-11-25T14:24:32.268Z"
   },
   {
    "duration": 4,
    "start_time": "2021-11-25T14:24:32.291Z"
   },
   {
    "duration": 14,
    "start_time": "2021-11-25T14:24:32.298Z"
   },
   {
    "duration": 12,
    "start_time": "2021-11-25T14:24:32.315Z"
   },
   {
    "duration": 21,
    "start_time": "2021-11-25T14:24:32.330Z"
   },
   {
    "duration": 13,
    "start_time": "2021-11-25T14:24:32.353Z"
   },
   {
    "duration": 11,
    "start_time": "2021-11-25T14:24:32.368Z"
   },
   {
    "duration": 13,
    "start_time": "2021-11-25T14:24:32.381Z"
   },
   {
    "duration": 12,
    "start_time": "2021-11-25T14:24:32.397Z"
   },
   {
    "duration": 12,
    "start_time": "2021-11-25T14:24:32.411Z"
   },
   {
    "duration": 15,
    "start_time": "2021-11-25T14:24:32.426Z"
   },
   {
    "duration": 12,
    "start_time": "2021-11-25T14:24:32.444Z"
   },
   {
    "duration": 15,
    "start_time": "2021-11-25T14:24:32.458Z"
   },
   {
    "duration": 14,
    "start_time": "2021-11-25T14:24:32.475Z"
   },
   {
    "duration": 15,
    "start_time": "2021-11-25T14:24:32.492Z"
   },
   {
    "duration": 66,
    "start_time": "2021-11-25T15:23:29.062Z"
   },
   {
    "duration": 14,
    "start_time": "2021-11-25T15:23:29.130Z"
   },
   {
    "duration": 19,
    "start_time": "2021-11-25T15:23:29.147Z"
   },
   {
    "duration": 54,
    "start_time": "2021-11-25T15:23:29.169Z"
   },
   {
    "duration": 13,
    "start_time": "2021-11-25T15:23:29.226Z"
   },
   {
    "duration": 12,
    "start_time": "2021-11-25T15:23:29.241Z"
   },
   {
    "duration": 48,
    "start_time": "2021-11-25T15:23:29.256Z"
   },
   {
    "duration": 6,
    "start_time": "2021-11-25T15:23:29.308Z"
   },
   {
    "duration": 14,
    "start_time": "2021-11-25T15:23:29.317Z"
   },
   {
    "duration": 10,
    "start_time": "2021-11-25T15:23:29.334Z"
   },
   {
    "duration": 76,
    "start_time": "2021-11-25T15:23:29.346Z"
   },
   {
    "duration": 16,
    "start_time": "2021-11-25T15:23:29.425Z"
   },
   {
    "duration": 12,
    "start_time": "2021-11-25T15:23:29.445Z"
   },
   {
    "duration": 51,
    "start_time": "2021-11-25T15:23:29.460Z"
   },
   {
    "duration": 11,
    "start_time": "2021-11-25T15:23:29.515Z"
   },
   {
    "duration": 10,
    "start_time": "2021-11-25T15:23:29.528Z"
   },
   {
    "duration": 7,
    "start_time": "2021-11-25T15:23:29.540Z"
   },
   {
    "duration": 63,
    "start_time": "2021-11-25T15:23:29.549Z"
   },
   {
    "duration": 17,
    "start_time": "2021-11-25T15:23:29.615Z"
   },
   {
    "duration": 5,
    "start_time": "2021-11-25T15:23:29.635Z"
   },
   {
    "duration": 15,
    "start_time": "2021-11-25T15:23:29.643Z"
   },
   {
    "duration": 11,
    "start_time": "2021-11-25T15:23:29.661Z"
   },
   {
    "duration": 5,
    "start_time": "2021-11-25T15:23:29.712Z"
   },
   {
    "duration": 20,
    "start_time": "2021-11-25T15:23:29.721Z"
   },
   {
    "duration": 4,
    "start_time": "2021-11-25T15:23:29.743Z"
   },
   {
    "duration": 10,
    "start_time": "2021-11-25T15:23:29.749Z"
   },
   {
    "duration": 6,
    "start_time": "2021-11-25T15:23:29.761Z"
   },
   {
    "duration": 40,
    "start_time": "2021-11-25T15:23:29.769Z"
   },
   {
    "duration": 9,
    "start_time": "2021-11-25T15:23:29.813Z"
   },
   {
    "duration": 7,
    "start_time": "2021-11-25T15:23:29.824Z"
   },
   {
    "duration": 9,
    "start_time": "2021-11-25T15:23:29.833Z"
   },
   {
    "duration": 8,
    "start_time": "2021-11-25T15:23:29.844Z"
   },
   {
    "duration": 54,
    "start_time": "2021-11-25T15:23:29.854Z"
   },
   {
    "duration": 9,
    "start_time": "2021-11-25T15:23:29.913Z"
   },
   {
    "duration": 5,
    "start_time": "2021-11-25T15:23:29.925Z"
   },
   {
    "duration": 9,
    "start_time": "2021-11-25T15:23:29.932Z"
   },
   {
    "duration": 25,
    "start_time": "2021-11-25T15:23:29.944Z"
   },
   {
    "duration": 55,
    "start_time": "2021-11-25T15:23:29.972Z"
   },
   {
    "duration": 23,
    "start_time": "2021-11-25T15:23:30.030Z"
   },
   {
    "duration": 5,
    "start_time": "2021-11-25T15:23:30.056Z"
   },
   {
    "duration": 25,
    "start_time": "2021-11-25T15:23:30.063Z"
   },
   {
    "duration": 34,
    "start_time": "2021-11-25T15:23:30.100Z"
   },
   {
    "duration": 27,
    "start_time": "2021-11-25T15:23:30.136Z"
   },
   {
    "duration": 3,
    "start_time": "2021-11-25T15:23:30.165Z"
   },
   {
    "duration": 21,
    "start_time": "2021-11-25T15:23:30.171Z"
   },
   {
    "duration": 4,
    "start_time": "2021-11-25T15:23:30.208Z"
   },
   {
    "duration": 22,
    "start_time": "2021-11-25T15:23:30.214Z"
   },
   {
    "duration": 7,
    "start_time": "2021-11-25T15:23:30.239Z"
   },
   {
    "duration": 12,
    "start_time": "2021-11-25T15:23:30.248Z"
   },
   {
    "duration": 24,
    "start_time": "2021-11-25T15:23:30.262Z"
   },
   {
    "duration": 20,
    "start_time": "2021-11-25T15:23:30.289Z"
   },
   {
    "duration": 29,
    "start_time": "2021-11-25T15:23:30.312Z"
   },
   {
    "duration": 13,
    "start_time": "2021-11-25T15:23:30.343Z"
   },
   {
    "duration": 47,
    "start_time": "2021-11-25T15:23:30.359Z"
   },
   {
    "duration": 22,
    "start_time": "2021-11-25T15:23:30.409Z"
   },
   {
    "duration": 4,
    "start_time": "2021-11-25T15:23:30.434Z"
   },
   {
    "duration": 15,
    "start_time": "2021-11-25T15:23:30.441Z"
   },
   {
    "duration": 17,
    "start_time": "2021-11-25T15:23:30.459Z"
   },
   {
    "duration": 52,
    "start_time": "2021-11-25T15:23:30.478Z"
   },
   {
    "duration": 16,
    "start_time": "2021-11-25T15:23:30.533Z"
   },
   {
    "duration": 15,
    "start_time": "2021-11-25T15:23:30.551Z"
   },
   {
    "duration": 10,
    "start_time": "2021-11-25T15:23:30.569Z"
   },
   {
    "duration": 5,
    "start_time": "2021-11-25T15:23:30.601Z"
   },
   {
    "duration": 25,
    "start_time": "2021-11-25T15:23:30.609Z"
   },
   {
    "duration": 17,
    "start_time": "2021-11-25T15:23:30.637Z"
   },
   {
    "duration": 33,
    "start_time": "2021-11-25T15:23:30.657Z"
   },
   {
    "duration": 31,
    "start_time": "2021-11-25T15:23:30.693Z"
   },
   {
    "duration": 11,
    "start_time": "2021-11-25T15:23:30.733Z"
   },
   {
    "duration": 19,
    "start_time": "2021-11-25T15:23:30.747Z"
   },
   {
    "duration": 19,
    "start_time": "2021-11-25T15:23:30.768Z"
   },
   {
    "duration": 20,
    "start_time": "2021-11-25T15:23:30.790Z"
   },
   {
    "duration": 15,
    "start_time": "2021-11-25T15:23:30.813Z"
   },
   {
    "duration": 16,
    "start_time": "2021-11-25T15:23:30.830Z"
   },
   {
    "duration": 15,
    "start_time": "2021-11-25T15:23:30.849Z"
   },
   {
    "duration": 17,
    "start_time": "2021-11-25T15:23:30.867Z"
   },
   {
    "duration": 12,
    "start_time": "2021-11-25T15:23:30.886Z"
   },
   {
    "duration": 24,
    "start_time": "2021-11-25T15:23:30.901Z"
   },
   {
    "duration": 16,
    "start_time": "2021-11-25T15:23:30.927Z"
   },
   {
    "duration": 21,
    "start_time": "2021-11-25T15:23:30.945Z"
   },
   {
    "duration": 22,
    "start_time": "2021-11-25T15:23:30.969Z"
   },
   {
    "duration": 20,
    "start_time": "2021-11-25T15:23:30.994Z"
   },
   {
    "duration": 25,
    "start_time": "2021-11-25T15:39:26.182Z"
   },
   {
    "duration": 19,
    "start_time": "2021-11-25T15:46:55.081Z"
   },
   {
    "duration": 19,
    "start_time": "2021-11-25T15:47:21.463Z"
   },
   {
    "duration": 7,
    "start_time": "2021-11-25T15:59:20.824Z"
   },
   {
    "duration": 481,
    "start_time": "2021-11-25T15:59:56.083Z"
   },
   {
    "duration": 11,
    "start_time": "2021-11-25T16:00:28.302Z"
   },
   {
    "duration": 10,
    "start_time": "2021-11-25T16:00:50.270Z"
   },
   {
    "duration": 10,
    "start_time": "2021-11-25T16:02:53.837Z"
   },
   {
    "duration": 14,
    "start_time": "2021-11-25T16:03:40.353Z"
   },
   {
    "duration": 10,
    "start_time": "2021-11-25T16:04:34.469Z"
   },
   {
    "duration": 8,
    "start_time": "2021-11-25T16:34:56.295Z"
   },
   {
    "duration": 19,
    "start_time": "2021-11-25T16:35:04.640Z"
   },
   {
    "duration": 18,
    "start_time": "2021-11-25T16:35:06.363Z"
   },
   {
    "duration": 4,
    "start_time": "2021-11-25T16:36:27.324Z"
   },
   {
    "duration": 4,
    "start_time": "2021-11-25T16:37:26.416Z"
   },
   {
    "duration": 5,
    "start_time": "2021-11-25T16:37:27.000Z"
   },
   {
    "duration": 76,
    "start_time": "2021-11-25T16:45:10.197Z"
   },
   {
    "duration": 33,
    "start_time": "2021-11-25T16:45:10.276Z"
   },
   {
    "duration": 29,
    "start_time": "2021-11-25T16:45:10.314Z"
   },
   {
    "duration": 31,
    "start_time": "2021-11-25T16:45:10.347Z"
   },
   {
    "duration": 11,
    "start_time": "2021-11-25T16:45:10.401Z"
   },
   {
    "duration": 11,
    "start_time": "2021-11-25T16:45:10.414Z"
   },
   {
    "duration": 8,
    "start_time": "2021-11-25T16:45:10.428Z"
   },
   {
    "duration": 62,
    "start_time": "2021-11-25T16:45:10.440Z"
   },
   {
    "duration": 14,
    "start_time": "2021-11-25T16:45:10.504Z"
   },
   {
    "duration": 9,
    "start_time": "2021-11-25T16:45:10.520Z"
   },
   {
    "duration": 10,
    "start_time": "2021-11-25T16:45:10.532Z"
   },
   {
    "duration": 16,
    "start_time": "2021-11-25T16:45:10.544Z"
   },
   {
    "duration": 49,
    "start_time": "2021-11-25T16:45:10.562Z"
   },
   {
    "duration": 20,
    "start_time": "2021-11-25T16:45:10.613Z"
   },
   {
    "duration": 14,
    "start_time": "2021-11-25T16:45:10.635Z"
   },
   {
    "duration": 14,
    "start_time": "2021-11-25T16:45:10.651Z"
   },
   {
    "duration": 39,
    "start_time": "2021-11-25T16:45:10.667Z"
   },
   {
    "duration": 17,
    "start_time": "2021-11-25T16:45:10.708Z"
   },
   {
    "duration": 17,
    "start_time": "2021-11-25T16:45:10.727Z"
   },
   {
    "duration": 6,
    "start_time": "2021-11-25T16:45:10.747Z"
   },
   {
    "duration": 52,
    "start_time": "2021-11-25T16:45:10.755Z"
   },
   {
    "duration": 9,
    "start_time": "2021-11-25T16:45:10.809Z"
   },
   {
    "duration": 5,
    "start_time": "2021-11-25T16:45:10.824Z"
   },
   {
    "duration": 19,
    "start_time": "2021-11-25T16:45:10.832Z"
   },
   {
    "duration": 4,
    "start_time": "2021-11-25T16:45:10.854Z"
   },
   {
    "duration": 6,
    "start_time": "2021-11-25T16:45:10.900Z"
   },
   {
    "duration": 18,
    "start_time": "2021-11-25T16:45:10.908Z"
   },
   {
    "duration": 13,
    "start_time": "2021-11-25T16:45:10.928Z"
   },
   {
    "duration": 20,
    "start_time": "2021-11-25T16:45:10.943Z"
   },
   {
    "duration": 5,
    "start_time": "2021-11-25T16:45:10.966Z"
   },
   {
    "duration": 13,
    "start_time": "2021-11-25T16:45:10.973Z"
   },
   {
    "duration": 22,
    "start_time": "2021-11-25T16:45:11.001Z"
   },
   {
    "duration": 12,
    "start_time": "2021-11-25T16:45:11.025Z"
   },
   {
    "duration": 15,
    "start_time": "2021-11-25T16:45:11.039Z"
   },
   {
    "duration": 10,
    "start_time": "2021-11-25T16:45:11.057Z"
   },
   {
    "duration": 8,
    "start_time": "2021-11-25T16:45:11.069Z"
   },
   {
    "duration": 40,
    "start_time": "2021-11-25T16:45:11.079Z"
   },
   {
    "duration": 27,
    "start_time": "2021-11-25T16:45:11.121Z"
   },
   {
    "duration": 22,
    "start_time": "2021-11-25T16:45:11.150Z"
   },
   {
    "duration": 30,
    "start_time": "2021-11-25T16:45:11.174Z"
   },
   {
    "duration": 15,
    "start_time": "2021-11-25T16:45:11.206Z"
   },
   {
    "duration": 22,
    "start_time": "2021-11-25T16:45:11.223Z"
   },
   {
    "duration": 12,
    "start_time": "2021-11-25T16:45:11.247Z"
   },
   {
    "duration": 4,
    "start_time": "2021-11-25T16:45:11.261Z"
   },
   {
    "duration": 42,
    "start_time": "2021-11-25T16:45:11.267Z"
   },
   {
    "duration": 4,
    "start_time": "2021-11-25T16:45:11.311Z"
   },
   {
    "duration": 14,
    "start_time": "2021-11-25T16:45:11.317Z"
   },
   {
    "duration": 8,
    "start_time": "2021-11-25T16:45:11.333Z"
   },
   {
    "duration": 14,
    "start_time": "2021-11-25T16:45:11.343Z"
   },
   {
    "duration": 41,
    "start_time": "2021-11-25T16:45:11.359Z"
   },
   {
    "duration": 8,
    "start_time": "2021-11-25T16:45:11.403Z"
   },
   {
    "duration": 25,
    "start_time": "2021-11-25T16:45:11.413Z"
   },
   {
    "duration": 13,
    "start_time": "2021-11-25T16:45:11.441Z"
   },
   {
    "duration": 48,
    "start_time": "2021-11-25T16:45:11.456Z"
   },
   {
    "duration": 19,
    "start_time": "2021-11-25T16:45:11.506Z"
   },
   {
    "duration": 3,
    "start_time": "2021-11-25T16:45:11.528Z"
   },
   {
    "duration": 12,
    "start_time": "2021-11-25T16:45:11.534Z"
   },
   {
    "duration": 5,
    "start_time": "2021-11-25T16:45:15.005Z"
   },
   {
    "duration": 8661,
    "start_time": "2021-11-25T16:45:16.083Z"
   },
   {
    "duration": -505,
    "start_time": "2021-11-25T16:45:25.251Z"
   },
   {
    "duration": 708,
    "start_time": "2021-11-25T16:47:12.022Z"
   },
   {
    "duration": 712,
    "start_time": "2021-11-25T16:47:35.846Z"
   },
   {
    "duration": 61,
    "start_time": "2021-11-25T16:50:55.899Z"
   },
   {
    "duration": 15,
    "start_time": "2021-11-25T16:50:55.963Z"
   },
   {
    "duration": 24,
    "start_time": "2021-11-25T16:50:55.981Z"
   },
   {
    "duration": 26,
    "start_time": "2021-11-25T16:50:56.088Z"
   },
   {
    "duration": 18,
    "start_time": "2021-11-25T16:50:56.117Z"
   },
   {
    "duration": 66,
    "start_time": "2021-11-25T16:50:56.138Z"
   },
   {
    "duration": 12,
    "start_time": "2021-11-25T16:50:56.207Z"
   },
   {
    "duration": 6,
    "start_time": "2021-11-25T16:50:56.223Z"
   },
   {
    "duration": 45,
    "start_time": "2021-11-25T16:50:56.252Z"
   },
   {
    "duration": 8,
    "start_time": "2021-11-25T16:50:56.300Z"
   },
   {
    "duration": 41,
    "start_time": "2021-11-25T16:50:56.311Z"
   },
   {
    "duration": 31,
    "start_time": "2021-11-25T16:50:56.355Z"
   },
   {
    "duration": 11,
    "start_time": "2021-11-25T16:50:56.389Z"
   },
   {
    "duration": 12,
    "start_time": "2021-11-25T16:50:56.425Z"
   },
   {
    "duration": 41,
    "start_time": "2021-11-25T16:50:56.441Z"
   },
   {
    "duration": 29,
    "start_time": "2021-11-25T16:50:56.485Z"
   },
   {
    "duration": 14,
    "start_time": "2021-11-25T16:50:56.517Z"
   },
   {
    "duration": 19,
    "start_time": "2021-11-25T16:50:56.534Z"
   },
   {
    "duration": 25,
    "start_time": "2021-11-25T16:50:56.556Z"
   },
   {
    "duration": 18,
    "start_time": "2021-11-25T16:50:56.584Z"
   },
   {
    "duration": 12,
    "start_time": "2021-11-25T16:50:56.605Z"
   },
   {
    "duration": 13,
    "start_time": "2021-11-25T16:50:56.621Z"
   },
   {
    "duration": 10,
    "start_time": "2021-11-25T16:50:56.636Z"
   },
   {
    "duration": 57,
    "start_time": "2021-11-25T16:50:56.648Z"
   },
   {
    "duration": 5,
    "start_time": "2021-11-25T16:50:56.707Z"
   },
   {
    "duration": 19,
    "start_time": "2021-11-25T16:50:56.714Z"
   },
   {
    "duration": 14,
    "start_time": "2021-11-25T16:50:56.736Z"
   },
   {
    "duration": 10,
    "start_time": "2021-11-25T16:50:56.752Z"
   },
   {
    "duration": 39,
    "start_time": "2021-11-25T16:50:56.764Z"
   },
   {
    "duration": 5,
    "start_time": "2021-11-25T16:50:56.807Z"
   },
   {
    "duration": 8,
    "start_time": "2021-11-25T16:50:56.815Z"
   },
   {
    "duration": 9,
    "start_time": "2021-11-25T16:50:56.826Z"
   },
   {
    "duration": 14,
    "start_time": "2021-11-25T16:50:56.837Z"
   },
   {
    "duration": 51,
    "start_time": "2021-11-25T16:50:56.854Z"
   },
   {
    "duration": 6,
    "start_time": "2021-11-25T16:50:56.907Z"
   },
   {
    "duration": 11,
    "start_time": "2021-11-25T16:50:56.916Z"
   },
   {
    "duration": 27,
    "start_time": "2021-11-25T16:50:56.930Z"
   },
   {
    "duration": 59,
    "start_time": "2021-11-25T16:50:56.960Z"
   },
   {
    "duration": 26,
    "start_time": "2021-11-25T16:50:57.024Z"
   },
   {
    "duration": 5,
    "start_time": "2021-11-25T16:50:57.053Z"
   },
   {
    "duration": 5,
    "start_time": "2021-11-25T16:50:57.100Z"
   },
   {
    "duration": 24,
    "start_time": "2021-11-25T16:50:57.108Z"
   },
   {
    "duration": 14,
    "start_time": "2021-11-25T16:50:57.135Z"
   },
   {
    "duration": 4,
    "start_time": "2021-11-25T16:50:57.151Z"
   },
   {
    "duration": 13,
    "start_time": "2021-11-25T16:50:57.200Z"
   },
   {
    "duration": 5,
    "start_time": "2021-11-25T16:50:57.215Z"
   },
   {
    "duration": 25,
    "start_time": "2021-11-25T16:50:57.223Z"
   },
   {
    "duration": 6,
    "start_time": "2021-11-25T16:50:57.251Z"
   },
   {
    "duration": 10,
    "start_time": "2021-11-25T16:50:57.259Z"
   },
   {
    "duration": 12,
    "start_time": "2021-11-25T16:50:57.302Z"
   },
   {
    "duration": 10,
    "start_time": "2021-11-25T16:50:57.317Z"
   },
   {
    "duration": 21,
    "start_time": "2021-11-25T16:50:57.330Z"
   },
   {
    "duration": 51,
    "start_time": "2021-11-25T16:50:57.354Z"
   },
   {
    "duration": 24,
    "start_time": "2021-11-25T16:50:57.408Z"
   },
   {
    "duration": 23,
    "start_time": "2021-11-25T16:50:57.435Z"
   },
   {
    "duration": 39,
    "start_time": "2021-11-25T16:50:57.461Z"
   },
   {
    "duration": 5,
    "start_time": "2021-11-25T16:50:57.503Z"
   },
   {
    "duration": 5,
    "start_time": "2021-11-25T16:51:01.038Z"
   },
   {
    "duration": 725,
    "start_time": "2021-11-25T16:51:02.010Z"
   },
   {
    "duration": 5,
    "start_time": "2021-11-25T16:52:40.023Z"
   },
   {
    "duration": 701,
    "start_time": "2021-11-25T16:52:40.808Z"
   },
   {
    "duration": 10747,
    "start_time": "2021-11-25T16:53:16.297Z"
   },
   {
    "duration": 8762,
    "start_time": "2021-11-25T16:57:16.409Z"
   },
   {
    "duration": 30,
    "start_time": "2021-11-25T16:59:17.263Z"
   },
   {
    "duration": 13,
    "start_time": "2021-11-25T17:00:14.279Z"
   },
   {
    "duration": 20,
    "start_time": "2021-11-25T17:00:35.495Z"
   },
   {
    "duration": 20,
    "start_time": "2021-11-25T17:01:51.268Z"
   },
   {
    "duration": 13,
    "start_time": "2021-11-25T17:01:53.596Z"
   },
   {
    "duration": 19,
    "start_time": "2021-11-25T17:02:03.200Z"
   },
   {
    "duration": 19,
    "start_time": "2021-11-25T17:02:04.722Z"
   },
   {
    "duration": 4,
    "start_time": "2021-11-25T17:02:08.145Z"
   },
   {
    "duration": 708,
    "start_time": "2021-11-25T17:02:14.640Z"
   },
   {
    "duration": 5,
    "start_time": "2021-11-25T17:02:26.811Z"
   },
   {
    "duration": 7,
    "start_time": "2021-11-25T17:02:42.537Z"
   },
   {
    "duration": 4,
    "start_time": "2021-11-25T17:02:54.865Z"
   },
   {
    "duration": 5,
    "start_time": "2021-11-25T17:03:03.048Z"
   },
   {
    "duration": 365,
    "start_time": "2021-11-25T17:03:48.597Z"
   },
   {
    "duration": 6,
    "start_time": "2021-11-25T17:03:54.533Z"
   },
   {
    "duration": 14,
    "start_time": "2021-11-25T17:04:19.759Z"
   },
   {
    "duration": 7,
    "start_time": "2021-11-25T17:04:53.907Z"
   },
   {
    "duration": 13,
    "start_time": "2021-11-25T17:05:16.923Z"
   },
   {
    "duration": 18,
    "start_time": "2021-11-25T17:06:20.175Z"
   },
   {
    "duration": 7,
    "start_time": "2021-11-25T17:06:49.149Z"
   },
   {
    "duration": 3,
    "start_time": "2021-11-25T17:06:56.097Z"
   },
   {
    "duration": 44,
    "start_time": "2021-11-25T17:07:14.455Z"
   },
   {
    "duration": 37,
    "start_time": "2021-11-25T17:07:20.295Z"
   },
   {
    "duration": 6,
    "start_time": "2021-11-25T17:08:06.355Z"
   },
   {
    "duration": 10,
    "start_time": "2021-11-25T17:08:28.746Z"
   },
   {
    "duration": 9,
    "start_time": "2021-11-25T17:08:35.332Z"
   },
   {
    "duration": 25,
    "start_time": "2021-11-25T17:08:38.211Z"
   },
   {
    "duration": 18,
    "start_time": "2021-11-25T17:08:39.297Z"
   },
   {
    "duration": 4,
    "start_time": "2021-11-25T17:08:45.519Z"
   },
   {
    "duration": 4,
    "start_time": "2021-11-25T17:09:11.370Z"
   },
   {
    "duration": 832,
    "start_time": "2021-11-25T17:10:03.267Z"
   },
   {
    "duration": 4,
    "start_time": "2021-11-25T17:10:08.761Z"
   },
   {
    "duration": 701,
    "start_time": "2021-11-25T17:10:09.217Z"
   },
   {
    "duration": 5,
    "start_time": "2021-11-25T17:10:34.724Z"
   },
   {
    "duration": 7,
    "start_time": "2021-11-25T17:10:35.115Z"
   },
   {
    "duration": 4,
    "start_time": "2021-11-25T17:11:19.250Z"
   },
   {
    "duration": 8,
    "start_time": "2021-11-25T17:11:19.814Z"
   },
   {
    "duration": 4908,
    "start_time": "2021-11-25T17:11:59.359Z"
   },
   {
    "duration": 47,
    "start_time": "2021-11-25T17:12:17.133Z"
   },
   {
    "duration": 48,
    "start_time": "2021-11-25T17:12:27.411Z"
   },
   {
    "duration": 72,
    "start_time": "2021-11-25T17:13:10.136Z"
   },
   {
    "duration": 34,
    "start_time": "2021-11-25T17:13:10.929Z"
   },
   {
    "duration": 33,
    "start_time": "2021-11-25T17:13:42.959Z"
   },
   {
    "duration": 8,
    "start_time": "2021-11-25T17:14:39.950Z"
   },
   {
    "duration": 25,
    "start_time": "2021-11-25T17:16:53.373Z"
   },
   {
    "duration": 15,
    "start_time": "2021-11-25T17:17:18.713Z"
   },
   {
    "duration": 15,
    "start_time": "2021-11-25T17:17:47.054Z"
   },
   {
    "duration": 155,
    "start_time": "2021-11-25T17:26:33.586Z"
   },
   {
    "duration": 7,
    "start_time": "2021-11-25T17:26:44.544Z"
   },
   {
    "duration": 5,
    "start_time": "2021-11-25T17:27:12.855Z"
   },
   {
    "duration": 7,
    "start_time": "2021-11-25T17:30:41.320Z"
   },
   {
    "duration": 7,
    "start_time": "2021-11-25T17:30:49.261Z"
   },
   {
    "duration": 4,
    "start_time": "2021-11-25T17:37:27.170Z"
   },
   {
    "duration": 734,
    "start_time": "2021-11-25T17:37:54.940Z"
   },
   {
    "duration": 12,
    "start_time": "2021-11-25T17:38:58.014Z"
   },
   {
    "duration": 29,
    "start_time": "2021-11-25T17:40:49.796Z"
   },
   {
    "duration": 19,
    "start_time": "2021-11-25T17:40:52.621Z"
   },
   {
    "duration": 6,
    "start_time": "2021-11-25T17:41:13.865Z"
   },
   {
    "duration": 8,
    "start_time": "2021-11-25T17:41:23.418Z"
   },
   {
    "duration": 354,
    "start_time": "2021-11-25T17:42:16.262Z"
   },
   {
    "duration": 365,
    "start_time": "2021-11-25T17:44:34.996Z"
   },
   {
    "duration": 448,
    "start_time": "2021-11-25T17:45:17.603Z"
   },
   {
    "duration": 341,
    "start_time": "2021-11-25T17:47:54.976Z"
   },
   {
    "duration": 56,
    "start_time": "2021-11-25T17:48:09.187Z"
   },
   {
    "duration": 16,
    "start_time": "2021-11-25T17:48:09.246Z"
   },
   {
    "duration": 51,
    "start_time": "2021-11-25T17:48:09.265Z"
   },
   {
    "duration": 26,
    "start_time": "2021-11-25T17:48:09.319Z"
   },
   {
    "duration": 17,
    "start_time": "2021-11-25T17:48:09.349Z"
   },
   {
    "duration": 15,
    "start_time": "2021-11-25T17:48:09.400Z"
   },
   {
    "duration": 10,
    "start_time": "2021-11-25T17:48:09.418Z"
   },
   {
    "duration": 6,
    "start_time": "2021-11-25T17:48:09.433Z"
   },
   {
    "duration": 64,
    "start_time": "2021-11-25T17:48:09.442Z"
   },
   {
    "duration": 9,
    "start_time": "2021-11-25T17:48:09.509Z"
   },
   {
    "duration": 11,
    "start_time": "2021-11-25T17:48:09.521Z"
   },
   {
    "duration": 12,
    "start_time": "2021-11-25T17:48:09.534Z"
   },
   {
    "duration": 61,
    "start_time": "2021-11-25T17:48:09.548Z"
   },
   {
    "duration": 10,
    "start_time": "2021-11-25T17:48:09.612Z"
   },
   {
    "duration": 11,
    "start_time": "2021-11-25T17:48:09.624Z"
   },
   {
    "duration": 64,
    "start_time": "2021-11-25T17:48:09.638Z"
   },
   {
    "duration": 8,
    "start_time": "2021-11-25T17:48:09.705Z"
   },
   {
    "duration": 23,
    "start_time": "2021-11-25T17:48:09.716Z"
   },
   {
    "duration": 26,
    "start_time": "2021-11-25T17:48:09.742Z"
   },
   {
    "duration": 7,
    "start_time": "2021-11-25T17:48:09.802Z"
   },
   {
    "duration": 13,
    "start_time": "2021-11-25T17:48:09.812Z"
   },
   {
    "duration": 12,
    "start_time": "2021-11-25T17:48:09.828Z"
   },
   {
    "duration": 8,
    "start_time": "2021-11-25T17:48:09.847Z"
   },
   {
    "duration": 55,
    "start_time": "2021-11-25T17:48:09.859Z"
   },
   {
    "duration": 4,
    "start_time": "2021-11-25T17:48:09.917Z"
   },
   {
    "duration": 10,
    "start_time": "2021-11-25T17:48:09.923Z"
   },
   {
    "duration": 12,
    "start_time": "2021-11-25T17:48:09.935Z"
   },
   {
    "duration": 9,
    "start_time": "2021-11-25T17:48:09.949Z"
   },
   {
    "duration": 47,
    "start_time": "2021-11-25T17:48:09.960Z"
   },
   {
    "duration": 24,
    "start_time": "2021-11-25T17:48:10.009Z"
   },
   {
    "duration": 29,
    "start_time": "2021-11-25T17:48:10.035Z"
   },
   {
    "duration": 8,
    "start_time": "2021-11-25T17:48:10.066Z"
   },
   {
    "duration": 27,
    "start_time": "2021-11-25T17:48:10.076Z"
   },
   {
    "duration": 16,
    "start_time": "2021-11-25T17:48:10.106Z"
   },
   {
    "duration": 16,
    "start_time": "2021-11-25T17:48:10.125Z"
   },
   {
    "duration": 12,
    "start_time": "2021-11-25T17:48:10.144Z"
   },
   {
    "duration": 46,
    "start_time": "2021-11-25T17:48:10.159Z"
   },
   {
    "duration": 26,
    "start_time": "2021-11-25T17:48:10.207Z"
   },
   {
    "duration": 23,
    "start_time": "2021-11-25T17:48:10.235Z"
   },
   {
    "duration": 6,
    "start_time": "2021-11-25T17:48:10.261Z"
   },
   {
    "duration": 5,
    "start_time": "2021-11-25T17:48:10.307Z"
   },
   {
    "duration": 38,
    "start_time": "2021-11-25T17:48:10.315Z"
   },
   {
    "duration": 44,
    "start_time": "2021-11-25T17:48:10.357Z"
   },
   {
    "duration": 4,
    "start_time": "2021-11-25T17:48:10.403Z"
   },
   {
    "duration": 17,
    "start_time": "2021-11-25T17:48:10.410Z"
   },
   {
    "duration": 3,
    "start_time": "2021-11-25T17:48:10.430Z"
   },
   {
    "duration": 15,
    "start_time": "2021-11-25T17:48:10.436Z"
   },
   {
    "duration": 46,
    "start_time": "2021-11-25T17:48:10.454Z"
   },
   {
    "duration": 7,
    "start_time": "2021-11-25T17:48:10.503Z"
   },
   {
    "duration": 13,
    "start_time": "2021-11-25T17:48:10.513Z"
   },
   {
    "duration": 7,
    "start_time": "2021-11-25T17:48:10.529Z"
   },
   {
    "duration": 24,
    "start_time": "2021-11-25T17:48:10.539Z"
   },
   {
    "duration": 46,
    "start_time": "2021-11-25T17:48:10.565Z"
   },
   {
    "duration": 22,
    "start_time": "2021-11-25T17:48:10.613Z"
   },
   {
    "duration": 19,
    "start_time": "2021-11-25T17:48:10.637Z"
   },
   {
    "duration": 42,
    "start_time": "2021-11-25T17:48:10.659Z"
   },
   {
    "duration": 8,
    "start_time": "2021-11-25T17:48:10.704Z"
   },
   {
    "duration": 13746,
    "start_time": "2021-11-25T17:48:10.715Z"
   },
   {
    "duration": -370,
    "start_time": "2021-11-25T17:48:24.834Z"
   },
   {
    "duration": -373,
    "start_time": "2021-11-25T17:48:24.839Z"
   },
   {
    "duration": -376,
    "start_time": "2021-11-25T17:48:24.843Z"
   },
   {
    "duration": -379,
    "start_time": "2021-11-25T17:48:24.848Z"
   },
   {
    "duration": -381,
    "start_time": "2021-11-25T17:48:24.851Z"
   },
   {
    "duration": -384,
    "start_time": "2021-11-25T17:48:24.856Z"
   },
   {
    "duration": -386,
    "start_time": "2021-11-25T17:48:24.860Z"
   },
   {
    "duration": -388,
    "start_time": "2021-11-25T17:48:24.864Z"
   },
   {
    "duration": -391,
    "start_time": "2021-11-25T17:48:24.868Z"
   },
   {
    "duration": -395,
    "start_time": "2021-11-25T17:48:24.873Z"
   },
   {
    "duration": -470,
    "start_time": "2021-11-25T17:48:24.950Z"
   },
   {
    "duration": -472,
    "start_time": "2021-11-25T17:48:24.953Z"
   },
   {
    "duration": -474,
    "start_time": "2021-11-25T17:48:24.957Z"
   },
   {
    "duration": -478,
    "start_time": "2021-11-25T17:48:24.962Z"
   },
   {
    "duration": -495,
    "start_time": "2021-11-25T17:48:24.981Z"
   },
   {
    "duration": -498,
    "start_time": "2021-11-25T17:48:24.985Z"
   },
   {
    "duration": 17,
    "start_time": "2021-11-25T17:50:52.950Z"
   },
   {
    "duration": 10469,
    "start_time": "2021-11-25T17:54:08.832Z"
   },
   {
    "duration": 16,
    "start_time": "2021-11-25T17:54:32.809Z"
   },
   {
    "duration": 7,
    "start_time": "2021-11-25T17:54:35.549Z"
   },
   {
    "duration": 19,
    "start_time": "2021-11-25T17:54:39.441Z"
   },
   {
    "duration": 13,
    "start_time": "2021-11-25T17:54:40.265Z"
   },
   {
    "duration": 19,
    "start_time": "2021-11-25T17:54:45.247Z"
   },
   {
    "duration": 20,
    "start_time": "2021-11-25T17:54:46.532Z"
   },
   {
    "duration": 4,
    "start_time": "2021-11-25T17:54:49.135Z"
   },
   {
    "duration": 20,
    "start_time": "2021-11-25T17:54:49.800Z"
   },
   {
    "duration": 8,
    "start_time": "2021-11-25T17:54:51.527Z"
   },
   {
    "duration": 46,
    "start_time": "2021-11-25T17:55:23.255Z"
   },
   {
    "duration": 33,
    "start_time": "2021-11-25T17:55:24.980Z"
   },
   {
    "duration": 5,
    "start_time": "2021-11-25T17:55:47.327Z"
   },
   {
    "duration": 10,
    "start_time": "2021-11-25T17:56:01.275Z"
   },
   {
    "duration": 46,
    "start_time": "2021-11-25T17:56:07.116Z"
   },
   {
    "duration": 33,
    "start_time": "2021-11-25T17:56:07.840Z"
   },
   {
    "duration": 5,
    "start_time": "2021-11-25T17:56:09.718Z"
   },
   {
    "duration": 12,
    "start_time": "2021-11-25T17:56:20.916Z"
   },
   {
    "duration": 10,
    "start_time": "2021-11-25T17:56:22.362Z"
   },
   {
    "duration": 19,
    "start_time": "2021-11-25T17:56:23.496Z"
   },
   {
    "duration": 19,
    "start_time": "2021-11-25T17:56:24.490Z"
   },
   {
    "duration": 4,
    "start_time": "2021-11-25T17:56:26.213Z"
   },
   {
    "duration": 7,
    "start_time": "2021-11-25T17:56:27.396Z"
   },
   {
    "duration": 52,
    "start_time": "2021-11-25T17:56:28.164Z"
   },
   {
    "duration": 35,
    "start_time": "2021-11-25T17:56:29.303Z"
   },
   {
    "duration": 25,
    "start_time": "2021-11-25T17:56:29.953Z"
   },
   {
    "duration": 19,
    "start_time": "2021-11-25T17:56:31.711Z"
   },
   {
    "duration": 7,
    "start_time": "2021-11-25T17:56:34.983Z"
   },
   {
    "duration": 5,
    "start_time": "2021-11-25T17:56:36.999Z"
   },
   {
    "duration": 5,
    "start_time": "2021-11-25T17:56:39.142Z"
   },
   {
    "duration": 727,
    "start_time": "2021-11-25T17:56:41.266Z"
   },
   {
    "duration": 343,
    "start_time": "2021-11-25T17:57:05.247Z"
   },
   {
    "duration": 58,
    "start_time": "2021-11-25T17:57:33.504Z"
   },
   {
    "duration": 14,
    "start_time": "2021-11-25T17:57:33.565Z"
   },
   {
    "duration": 32,
    "start_time": "2021-11-25T17:57:33.582Z"
   },
   {
    "duration": 21,
    "start_time": "2021-11-25T17:57:33.681Z"
   },
   {
    "duration": 13,
    "start_time": "2021-11-25T17:57:33.705Z"
   },
   {
    "duration": 12,
    "start_time": "2021-11-25T17:57:33.721Z"
   },
   {
    "duration": 10,
    "start_time": "2021-11-25T17:57:33.736Z"
   },
   {
    "duration": 6,
    "start_time": "2021-11-25T17:57:33.748Z"
   },
   {
    "duration": 52,
    "start_time": "2021-11-25T17:57:33.756Z"
   },
   {
    "duration": 10,
    "start_time": "2021-11-25T17:57:33.852Z"
   },
   {
    "duration": 17,
    "start_time": "2021-11-25T17:57:33.866Z"
   },
   {
    "duration": 21,
    "start_time": "2021-11-25T17:57:33.888Z"
   },
   {
    "duration": 12,
    "start_time": "2021-11-25T17:57:33.913Z"
   },
   {
    "duration": 9,
    "start_time": "2021-11-25T17:57:33.927Z"
   },
   {
    "duration": 12,
    "start_time": "2021-11-25T17:57:33.939Z"
   },
   {
    "duration": 11,
    "start_time": "2021-11-25T17:57:33.999Z"
   },
   {
    "duration": 13,
    "start_time": "2021-11-25T17:57:34.012Z"
   },
   {
    "duration": 17,
    "start_time": "2021-11-25T17:57:34.029Z"
   },
   {
    "duration": 58,
    "start_time": "2021-11-25T17:57:34.048Z"
   },
   {
    "duration": 5,
    "start_time": "2021-11-25T17:57:34.108Z"
   },
   {
    "duration": 14,
    "start_time": "2021-11-25T17:57:34.116Z"
   },
   {
    "duration": 7,
    "start_time": "2021-11-25T17:57:34.133Z"
   },
   {
    "duration": 7,
    "start_time": "2021-11-25T17:57:34.142Z"
   },
   {
    "duration": 55,
    "start_time": "2021-11-25T17:57:34.151Z"
   },
   {
    "duration": 5,
    "start_time": "2021-11-25T17:57:34.208Z"
   },
   {
    "duration": 15,
    "start_time": "2021-11-25T17:57:34.215Z"
   },
   {
    "duration": 11,
    "start_time": "2021-11-25T17:57:34.233Z"
   },
   {
    "duration": 12,
    "start_time": "2021-11-25T17:57:34.246Z"
   },
   {
    "duration": 47,
    "start_time": "2021-11-25T17:57:34.260Z"
   },
   {
    "duration": 6,
    "start_time": "2021-11-25T17:57:34.310Z"
   },
   {
    "duration": 10,
    "start_time": "2021-11-25T17:57:34.319Z"
   },
   {
    "duration": 10,
    "start_time": "2021-11-25T17:57:34.331Z"
   },
   {
    "duration": 8,
    "start_time": "2021-11-25T17:57:34.346Z"
   },
   {
    "duration": 45,
    "start_time": "2021-11-25T17:57:34.357Z"
   },
   {
    "duration": 8,
    "start_time": "2021-11-25T17:57:34.405Z"
   },
   {
    "duration": 9,
    "start_time": "2021-11-25T17:57:34.416Z"
   },
   {
    "duration": 26,
    "start_time": "2021-11-25T17:57:34.427Z"
   },
   {
    "duration": 55,
    "start_time": "2021-11-25T17:57:34.455Z"
   },
   {
    "duration": 23,
    "start_time": "2021-11-25T17:57:34.512Z"
   },
   {
    "duration": 4,
    "start_time": "2021-11-25T17:57:34.537Z"
   },
   {
    "duration": 12,
    "start_time": "2021-11-25T17:57:34.544Z"
   },
   {
    "duration": 52,
    "start_time": "2021-11-25T17:57:34.558Z"
   },
   {
    "duration": 15,
    "start_time": "2021-11-25T17:57:34.613Z"
   },
   {
    "duration": 3,
    "start_time": "2021-11-25T17:57:34.631Z"
   },
   {
    "duration": 17,
    "start_time": "2021-11-25T17:57:34.636Z"
   },
   {
    "duration": 4,
    "start_time": "2021-11-25T17:57:34.655Z"
   },
   {
    "duration": 41,
    "start_time": "2021-11-25T17:57:34.661Z"
   },
   {
    "duration": 7,
    "start_time": "2021-11-25T17:57:34.705Z"
   },
   {
    "duration": 10,
    "start_time": "2021-11-25T17:57:34.715Z"
   },
   {
    "duration": 23,
    "start_time": "2021-11-25T17:57:34.728Z"
   },
   {
    "duration": 11,
    "start_time": "2021-11-25T17:57:34.753Z"
   },
   {
    "duration": 48,
    "start_time": "2021-11-25T17:57:34.767Z"
   },
   {
    "duration": 14,
    "start_time": "2021-11-25T17:57:34.818Z"
   },
   {
    "duration": 45,
    "start_time": "2021-11-25T17:57:34.835Z"
   },
   {
    "duration": 31,
    "start_time": "2021-11-25T17:57:34.883Z"
   },
   {
    "duration": 17,
    "start_time": "2021-11-25T17:57:34.917Z"
   },
   {
    "duration": 26,
    "start_time": "2021-11-25T17:57:34.936Z"
   },
   {
    "duration": 15,
    "start_time": "2021-11-25T17:57:34.964Z"
   },
   {
    "duration": 61,
    "start_time": "2021-11-25T17:57:34.982Z"
   },
   {
    "duration": 35,
    "start_time": "2021-11-25T17:57:35.046Z"
   },
   {
    "duration": 20,
    "start_time": "2021-11-25T17:57:35.083Z"
   },
   {
    "duration": 10,
    "start_time": "2021-11-25T17:57:35.109Z"
   },
   {
    "duration": 8,
    "start_time": "2021-11-25T17:57:35.122Z"
   },
   {
    "duration": 21,
    "start_time": "2021-11-25T17:57:35.132Z"
   },
   {
    "duration": 62,
    "start_time": "2021-11-25T17:57:35.157Z"
   },
   {
    "duration": 5,
    "start_time": "2021-11-25T17:57:35.222Z"
   },
   {
    "duration": 15,
    "start_time": "2021-11-25T17:57:35.230Z"
   },
   {
    "duration": 81,
    "start_time": "2021-11-25T17:57:35.247Z"
   },
   {
    "duration": 37,
    "start_time": "2021-11-25T17:57:35.331Z"
   },
   {
    "duration": 54,
    "start_time": "2021-11-25T17:57:35.372Z"
   },
   {
    "duration": 19,
    "start_time": "2021-11-25T17:57:35.429Z"
   },
   {
    "duration": 12,
    "start_time": "2021-11-25T17:57:35.451Z"
   },
   {
    "duration": 35,
    "start_time": "2021-11-25T17:57:35.465Z"
   },
   {
    "duration": 6,
    "start_time": "2021-11-25T17:57:35.503Z"
   },
   {
    "duration": 371,
    "start_time": "2021-11-25T17:57:35.512Z"
   },
   {
    "duration": 7,
    "start_time": "2021-11-25T17:59:59.911Z"
   },
   {
    "duration": 6,
    "start_time": "2021-11-25T18:00:16.690Z"
   },
   {
    "duration": 615,
    "start_time": "2021-11-25T20:47:26.685Z"
   },
   {
    "duration": 10,
    "start_time": "2021-11-25T20:47:27.302Z"
   },
   {
    "duration": 17,
    "start_time": "2021-11-25T20:47:27.314Z"
   },
   {
    "duration": 13,
    "start_time": "2021-11-25T20:47:27.333Z"
   },
   {
    "duration": 9,
    "start_time": "2021-11-25T20:47:27.348Z"
   },
   {
    "duration": 34,
    "start_time": "2021-11-25T20:47:27.358Z"
   },
   {
    "duration": 6,
    "start_time": "2021-11-25T20:47:27.393Z"
   },
   {
    "duration": 3,
    "start_time": "2021-11-25T20:47:27.402Z"
   },
   {
    "duration": 9,
    "start_time": "2021-11-25T20:47:27.407Z"
   },
   {
    "duration": 5,
    "start_time": "2021-11-25T20:47:27.418Z"
   },
   {
    "duration": 10,
    "start_time": "2021-11-25T20:47:27.425Z"
   },
   {
    "duration": 6,
    "start_time": "2021-11-25T20:47:27.436Z"
   },
   {
    "duration": 47,
    "start_time": "2021-11-25T20:47:27.444Z"
   },
   {
    "duration": 6,
    "start_time": "2021-11-25T20:47:27.493Z"
   },
   {
    "duration": 8,
    "start_time": "2021-11-25T20:47:27.500Z"
   },
   {
    "duration": 6,
    "start_time": "2021-11-25T20:47:27.509Z"
   },
   {
    "duration": 6,
    "start_time": "2021-11-25T20:47:27.516Z"
   },
   {
    "duration": 9,
    "start_time": "2021-11-25T20:47:27.524Z"
   },
   {
    "duration": 17,
    "start_time": "2021-11-25T20:47:27.535Z"
   },
   {
    "duration": 4,
    "start_time": "2021-11-25T20:47:27.553Z"
   },
   {
    "duration": 36,
    "start_time": "2021-11-25T20:47:27.558Z"
   },
   {
    "duration": 7,
    "start_time": "2021-11-25T20:47:27.595Z"
   },
   {
    "duration": 4,
    "start_time": "2021-11-25T20:47:27.605Z"
   },
   {
    "duration": 10,
    "start_time": "2021-11-25T20:47:27.611Z"
   },
   {
    "duration": 2,
    "start_time": "2021-11-25T20:47:27.623Z"
   },
   {
    "duration": 6,
    "start_time": "2021-11-25T20:47:27.627Z"
   },
   {
    "duration": 4,
    "start_time": "2021-11-25T20:47:27.634Z"
   },
   {
    "duration": 5,
    "start_time": "2021-11-25T20:47:27.640Z"
   },
   {
    "duration": 45,
    "start_time": "2021-11-25T20:47:27.647Z"
   },
   {
    "duration": 3,
    "start_time": "2021-11-25T20:47:27.694Z"
   },
   {
    "duration": 5,
    "start_time": "2021-11-25T20:47:27.699Z"
   },
   {
    "duration": 4,
    "start_time": "2021-11-25T20:47:27.705Z"
   },
   {
    "duration": 7,
    "start_time": "2021-11-25T20:47:27.710Z"
   },
   {
    "duration": 7,
    "start_time": "2021-11-25T20:47:27.719Z"
   },
   {
    "duration": 3,
    "start_time": "2021-11-25T20:47:27.728Z"
   },
   {
    "duration": 4,
    "start_time": "2021-11-25T20:47:27.733Z"
   },
   {
    "duration": 19,
    "start_time": "2021-11-25T20:47:27.738Z"
   },
   {
    "duration": 42,
    "start_time": "2021-11-25T20:47:27.759Z"
   },
   {
    "duration": 12,
    "start_time": "2021-11-25T20:47:27.802Z"
   },
   {
    "duration": 3,
    "start_time": "2021-11-25T20:47:27.816Z"
   },
   {
    "duration": 6,
    "start_time": "2021-11-25T20:47:27.820Z"
   },
   {
    "duration": 14,
    "start_time": "2021-11-25T20:47:27.828Z"
   },
   {
    "duration": 14,
    "start_time": "2021-11-25T20:47:27.843Z"
   },
   {
    "duration": 3,
    "start_time": "2021-11-25T20:47:27.858Z"
   },
   {
    "duration": 32,
    "start_time": "2021-11-25T20:47:27.862Z"
   },
   {
    "duration": 2,
    "start_time": "2021-11-25T20:47:27.895Z"
   },
   {
    "duration": 8,
    "start_time": "2021-11-25T20:47:27.899Z"
   },
   {
    "duration": 4,
    "start_time": "2021-11-25T20:47:27.908Z"
   },
   {
    "duration": 6,
    "start_time": "2021-11-25T20:47:27.913Z"
   },
   {
    "duration": 8,
    "start_time": "2021-11-25T20:47:27.920Z"
   },
   {
    "duration": 7,
    "start_time": "2021-11-25T20:47:27.929Z"
   },
   {
    "duration": 5,
    "start_time": "2021-11-25T20:47:27.938Z"
   },
   {
    "duration": 11,
    "start_time": "2021-11-25T20:47:27.945Z"
   },
   {
    "duration": 12,
    "start_time": "2021-11-25T20:47:44.024Z"
   },
   {
    "duration": 8,
    "start_time": "2021-11-25T20:47:46.304Z"
   },
   {
    "duration": 12,
    "start_time": "2021-11-25T20:48:01.606Z"
   },
   {
    "duration": 13,
    "start_time": "2021-11-25T20:48:20.251Z"
   },
   {
    "duration": 7,
    "start_time": "2021-11-25T20:48:23.101Z"
   },
   {
    "duration": 12,
    "start_time": "2021-11-25T20:49:21.343Z"
   },
   {
    "duration": 11,
    "start_time": "2021-11-25T20:49:23.026Z"
   },
   {
    "duration": 2,
    "start_time": "2021-11-25T20:49:31.822Z"
   },
   {
    "duration": 2,
    "start_time": "2021-11-25T20:50:29.043Z"
   },
   {
    "duration": 294,
    "start_time": "2021-11-25T20:50:30.233Z"
   },
   {
    "duration": 10,
    "start_time": "2021-11-25T20:50:49.730Z"
   },
   {
    "duration": 2,
    "start_time": "2021-11-25T20:51:16.320Z"
   },
   {
    "duration": 5,
    "start_time": "2021-11-25T20:51:18.163Z"
   },
   {
    "duration": 4,
    "start_time": "2021-11-25T20:51:37.700Z"
   },
   {
    "duration": 24,
    "start_time": "2021-11-25T20:51:58.912Z"
   },
   {
    "duration": 24,
    "start_time": "2021-11-25T20:52:02.335Z"
   },
   {
    "duration": 18,
    "start_time": "2021-11-25T20:52:05.907Z"
   },
   {
    "duration": 4,
    "start_time": "2021-11-25T20:52:16.207Z"
   },
   {
    "duration": 6,
    "start_time": "2021-11-25T20:53:56.236Z"
   },
   {
    "duration": 6,
    "start_time": "2021-11-25T20:56:36.751Z"
   },
   {
    "duration": 6,
    "start_time": "2021-11-25T20:56:39.797Z"
   },
   {
    "duration": 11,
    "start_time": "2021-11-25T20:56:41.381Z"
   },
   {
    "duration": 11,
    "start_time": "2021-11-25T20:56:42.957Z"
   },
   {
    "duration": 3,
    "start_time": "2021-11-25T20:56:44.683Z"
   },
   {
    "duration": 4,
    "start_time": "2021-11-25T20:57:05.051Z"
   },
   {
    "duration": 24,
    "start_time": "2021-11-25T20:57:20.830Z"
   },
   {
    "duration": 18,
    "start_time": "2021-11-25T20:57:24.591Z"
   },
   {
    "duration": 19,
    "start_time": "2021-11-25T20:57:48.446Z"
   },
   {
    "duration": 11,
    "start_time": "2021-11-25T20:57:50.812Z"
   },
   {
    "duration": 5,
    "start_time": "2021-11-25T20:58:35.846Z"
   },
   {
    "duration": 4,
    "start_time": "2021-11-25T20:58:40.351Z"
   },
   {
    "duration": 2,
    "start_time": "2021-11-25T20:58:42.977Z"
   },
   {
    "duration": 179,
    "start_time": "2021-11-25T20:58:47.832Z"
   },
   {
    "duration": 7,
    "start_time": "2021-11-25T20:59:05.316Z"
   },
   {
    "duration": 10,
    "start_time": "2021-11-25T20:59:19.261Z"
   },
   {
    "duration": 2,
    "start_time": "2021-11-25T21:00:07.814Z"
   },
   {
    "duration": 174,
    "start_time": "2021-11-25T21:00:08.603Z"
   },
   {
    "duration": 11,
    "start_time": "2021-11-25T21:00:09.327Z"
   },
   {
    "duration": 43,
    "start_time": "2021-11-25T21:00:45.771Z"
   },
   {
    "duration": 9,
    "start_time": "2021-11-25T21:00:45.816Z"
   },
   {
    "duration": 27,
    "start_time": "2021-11-25T21:00:45.827Z"
   },
   {
    "duration": 46,
    "start_time": "2021-11-25T21:00:45.856Z"
   },
   {
    "duration": 20,
    "start_time": "2021-11-25T21:00:45.903Z"
   },
   {
    "duration": 14,
    "start_time": "2021-11-25T21:00:45.924Z"
   },
   {
    "duration": 16,
    "start_time": "2021-11-25T21:00:45.940Z"
   },
   {
    "duration": 9,
    "start_time": "2021-11-25T21:00:45.958Z"
   },
   {
    "duration": 32,
    "start_time": "2021-11-25T21:00:45.969Z"
   },
   {
    "duration": 20,
    "start_time": "2021-11-25T21:00:46.002Z"
   },
   {
    "duration": 11,
    "start_time": "2021-11-25T21:00:46.024Z"
   },
   {
    "duration": 6,
    "start_time": "2021-11-25T21:00:46.036Z"
   },
   {
    "duration": 8,
    "start_time": "2021-11-25T21:00:46.043Z"
   },
   {
    "duration": 7,
    "start_time": "2021-11-25T21:00:46.052Z"
   },
   {
    "duration": 7,
    "start_time": "2021-11-25T21:00:46.060Z"
   },
   {
    "duration": 7,
    "start_time": "2021-11-25T21:00:46.068Z"
   },
   {
    "duration": 3,
    "start_time": "2021-11-25T21:00:46.088Z"
   },
   {
    "duration": 12,
    "start_time": "2021-11-25T21:00:46.092Z"
   },
   {
    "duration": 13,
    "start_time": "2021-11-25T21:00:46.105Z"
   },
   {
    "duration": 3,
    "start_time": "2021-11-25T21:00:46.120Z"
   },
   {
    "duration": 8,
    "start_time": "2021-11-25T21:00:46.125Z"
   },
   {
    "duration": 5,
    "start_time": "2021-11-25T21:00:46.135Z"
   },
   {
    "duration": 11,
    "start_time": "2021-11-25T21:00:46.144Z"
   },
   {
    "duration": 10,
    "start_time": "2021-11-25T21:00:46.188Z"
   },
   {
    "duration": 3,
    "start_time": "2021-11-25T21:00:46.199Z"
   },
   {
    "duration": 10,
    "start_time": "2021-11-25T21:00:46.203Z"
   },
   {
    "duration": 7,
    "start_time": "2021-11-25T21:00:46.215Z"
   },
   {
    "duration": 6,
    "start_time": "2021-11-25T21:00:46.223Z"
   },
   {
    "duration": 7,
    "start_time": "2021-11-25T21:00:46.230Z"
   },
   {
    "duration": 4,
    "start_time": "2021-11-25T21:00:46.238Z"
   },
   {
    "duration": 5,
    "start_time": "2021-11-25T21:00:46.243Z"
   },
   {
    "duration": 5,
    "start_time": "2021-11-25T21:00:46.250Z"
   },
   {
    "duration": 32,
    "start_time": "2021-11-25T21:00:46.256Z"
   },
   {
    "duration": 7,
    "start_time": "2021-11-25T21:00:46.290Z"
   },
   {
    "duration": 4,
    "start_time": "2021-11-25T21:00:46.298Z"
   },
   {
    "duration": 6,
    "start_time": "2021-11-25T21:00:46.303Z"
   },
   {
    "duration": 13,
    "start_time": "2021-11-25T21:00:46.310Z"
   },
   {
    "duration": 15,
    "start_time": "2021-11-25T21:00:46.325Z"
   },
   {
    "duration": 47,
    "start_time": "2021-11-25T21:00:46.341Z"
   },
   {
    "duration": 3,
    "start_time": "2021-11-25T21:00:46.389Z"
   },
   {
    "duration": 6,
    "start_time": "2021-11-25T21:00:46.394Z"
   },
   {
    "duration": 14,
    "start_time": "2021-11-25T21:00:46.402Z"
   },
   {
    "duration": 9,
    "start_time": "2021-11-25T21:00:46.417Z"
   },
   {
    "duration": 3,
    "start_time": "2021-11-25T21:00:46.427Z"
   },
   {
    "duration": 12,
    "start_time": "2021-11-25T21:00:46.431Z"
   },
   {
    "duration": 2,
    "start_time": "2021-11-25T21:00:46.444Z"
   },
   {
    "duration": 7,
    "start_time": "2021-11-25T21:00:46.447Z"
   },
   {
    "duration": 3,
    "start_time": "2021-11-25T21:00:46.456Z"
   },
   {
    "duration": 3,
    "start_time": "2021-11-25T21:00:46.488Z"
   },
   {
    "duration": 10,
    "start_time": "2021-11-25T21:00:46.493Z"
   },
   {
    "duration": 7,
    "start_time": "2021-11-25T21:00:46.504Z"
   },
   {
    "duration": 14,
    "start_time": "2021-11-25T21:00:46.512Z"
   },
   {
    "duration": 10,
    "start_time": "2021-11-25T21:00:46.528Z"
   },
   {
    "duration": 7,
    "start_time": "2021-11-25T21:00:46.540Z"
   },
   {
    "duration": 45,
    "start_time": "2021-11-25T21:00:46.548Z"
   },
   {
    "duration": 10,
    "start_time": "2021-11-25T21:00:46.595Z"
   },
   {
    "duration": 2,
    "start_time": "2021-11-25T21:00:46.607Z"
   },
   {
    "duration": 5,
    "start_time": "2021-11-25T21:00:46.610Z"
   },
   {
    "duration": 6,
    "start_time": "2021-11-25T21:00:46.616Z"
   },
   {
    "duration": 25,
    "start_time": "2021-11-25T21:00:46.623Z"
   },
   {
    "duration": 39,
    "start_time": "2021-11-25T21:00:46.649Z"
   },
   {
    "duration": 3,
    "start_time": "2021-11-25T21:00:46.690Z"
   },
   {
    "duration": 6,
    "start_time": "2021-11-25T21:00:46.695Z"
   },
   {
    "duration": 4,
    "start_time": "2021-11-25T21:00:46.703Z"
   },
   {
    "duration": 14,
    "start_time": "2021-11-25T21:00:46.708Z"
   },
   {
    "duration": 9,
    "start_time": "2021-11-25T21:00:46.723Z"
   },
   {
    "duration": 2,
    "start_time": "2021-11-25T21:00:46.734Z"
   },
   {
    "duration": 6,
    "start_time": "2021-11-25T21:00:46.737Z"
   },
   {
    "duration": 53,
    "start_time": "2021-11-25T21:00:46.745Z"
   },
   {
    "duration": 20,
    "start_time": "2021-11-25T21:00:46.799Z"
   },
   {
    "duration": 18,
    "start_time": "2021-11-25T21:00:46.821Z"
   },
   {
    "duration": 9,
    "start_time": "2021-11-25T21:00:46.841Z"
   },
   {
    "duration": 3,
    "start_time": "2021-11-25T21:00:46.852Z"
   },
   {
    "duration": 31,
    "start_time": "2021-11-25T21:00:46.857Z"
   },
   {
    "duration": 2,
    "start_time": "2021-11-25T21:00:50.400Z"
   },
   {
    "duration": 173,
    "start_time": "2021-11-25T21:00:52.804Z"
   },
   {
    "duration": 12,
    "start_time": "2021-11-25T21:00:53.622Z"
   },
   {
    "duration": 7,
    "start_time": "2021-11-25T21:01:10.027Z"
   },
   {
    "duration": 11,
    "start_time": "2021-11-25T21:01:19.773Z"
   },
   {
    "duration": 11,
    "start_time": "2021-11-25T21:02:17.212Z"
   },
   {
    "duration": 4,
    "start_time": "2021-11-25T21:02:21.504Z"
   },
   {
    "duration": 5,
    "start_time": "2021-11-25T21:03:01.381Z"
   },
   {
    "duration": 3,
    "start_time": "2021-11-25T21:11:29.340Z"
   },
   {
    "duration": 211,
    "start_time": "2021-11-25T21:12:05.161Z"
   },
   {
    "duration": 7,
    "start_time": "2021-11-25T21:12:15.710Z"
   },
   {
    "duration": 232,
    "start_time": "2021-11-25T21:27:12.470Z"
   },
   {
    "duration": 30,
    "start_time": "2021-11-25T21:29:03.287Z"
   },
   {
    "duration": 15,
    "start_time": "2021-11-25T21:31:10.152Z"
   },
   {
    "duration": 75,
    "start_time": "2021-11-25T21:34:37.949Z"
   },
   {
    "duration": 6,
    "start_time": "2021-11-25T21:34:47.816Z"
   },
   {
    "duration": 10,
    "start_time": "2021-11-25T21:34:58.732Z"
   },
   {
    "duration": 9,
    "start_time": "2021-11-25T21:35:54.786Z"
   },
   {
    "duration": 10,
    "start_time": "2021-11-25T21:36:07.621Z"
   },
   {
    "duration": 6504,
    "start_time": "2021-11-25T21:36:26.949Z"
   },
   {
    "duration": 10,
    "start_time": "2021-11-25T21:36:39.793Z"
   },
   {
    "duration": 7246,
    "start_time": "2021-11-25T21:36:51.204Z"
   },
   {
    "duration": 12,
    "start_time": "2021-11-25T21:38:41.460Z"
   },
   {
    "duration": 15,
    "start_time": "2021-11-25T21:38:46.501Z"
   },
   {
    "duration": 4315,
    "start_time": "2021-11-25T21:39:05.853Z"
   },
   {
    "duration": 33,
    "start_time": "2021-11-25T21:40:38.175Z"
   },
   {
    "duration": 32,
    "start_time": "2021-11-25T21:41:15.137Z"
   },
   {
    "duration": 31,
    "start_time": "2021-11-25T21:41:23.511Z"
   },
   {
    "duration": 34,
    "start_time": "2021-11-25T21:41:35.876Z"
   },
   {
    "duration": 34,
    "start_time": "2021-11-25T21:42:23.406Z"
   },
   {
    "duration": 31,
    "start_time": "2021-11-25T21:42:25.976Z"
   },
   {
    "duration": 87,
    "start_time": "2021-11-25T21:43:09.537Z"
   },
   {
    "duration": 82,
    "start_time": "2021-11-25T21:43:16.867Z"
   },
   {
    "duration": 32,
    "start_time": "2021-11-25T21:43:31.658Z"
   },
   {
    "duration": 33,
    "start_time": "2021-11-25T21:43:34.690Z"
   },
   {
    "duration": 5811,
    "start_time": "2021-11-25T21:44:18.744Z"
   },
   {
    "duration": 30,
    "start_time": "2021-11-25T21:44:28.243Z"
   },
   {
    "duration": 33,
    "start_time": "2021-11-25T21:44:50.674Z"
   },
   {
    "duration": 33,
    "start_time": "2021-11-25T21:45:01.159Z"
   },
   {
    "duration": 35,
    "start_time": "2021-11-25T21:45:11.906Z"
   },
   {
    "duration": 35,
    "start_time": "2021-11-25T21:45:39.652Z"
   },
   {
    "duration": 79,
    "start_time": "2021-11-25T21:47:48.091Z"
   },
   {
    "duration": 32,
    "start_time": "2021-11-25T21:47:58.710Z"
   },
   {
    "duration": 36,
    "start_time": "2021-11-25T21:48:04.578Z"
   },
   {
    "duration": 6071,
    "start_time": "2021-11-25T21:48:42.576Z"
   },
   {
    "duration": 41,
    "start_time": "2021-11-25T21:49:08.015Z"
   },
   {
    "duration": 36,
    "start_time": "2021-11-25T21:58:45.773Z"
   },
   {
    "duration": 31,
    "start_time": "2021-11-25T21:59:50.945Z"
   },
   {
    "duration": 42,
    "start_time": "2021-11-25T21:59:54.955Z"
   },
   {
    "duration": 31,
    "start_time": "2021-11-25T22:01:26.271Z"
   },
   {
    "duration": 35,
    "start_time": "2021-11-25T22:01:31.931Z"
   },
   {
    "duration": 37,
    "start_time": "2021-11-25T22:01:45.314Z"
   },
   {
    "duration": 78,
    "start_time": "2021-11-25T22:06:57.220Z"
   },
   {
    "duration": 5,
    "start_time": "2021-11-25T22:07:03.980Z"
   },
   {
    "duration": 5,
    "start_time": "2021-11-25T22:07:23.831Z"
   },
   {
    "duration": 230,
    "start_time": "2021-11-25T22:08:51.581Z"
   },
   {
    "duration": 3,
    "start_time": "2021-11-25T22:08:59.665Z"
   },
   {
    "duration": 5,
    "start_time": "2021-11-25T22:09:10.158Z"
   },
   {
    "duration": 5,
    "start_time": "2021-11-25T22:09:17.728Z"
   },
   {
    "duration": 5,
    "start_time": "2021-11-25T22:09:50.837Z"
   },
   {
    "duration": 5,
    "start_time": "2021-11-25T22:11:42.574Z"
   },
   {
    "duration": 3,
    "start_time": "2021-11-25T22:15:14.144Z"
   },
   {
    "duration": 304,
    "start_time": "2021-11-25T22:15:38.397Z"
   },
   {
    "duration": 10,
    "start_time": "2021-11-25T22:15:52.762Z"
   },
   {
    "duration": 32,
    "start_time": "2021-11-25T22:16:59.367Z"
   },
   {
    "duration": 36,
    "start_time": "2021-11-25T22:18:02.364Z"
   },
   {
    "duration": 4,
    "start_time": "2021-11-25T22:20:19.236Z"
   },
   {
    "duration": 4,
    "start_time": "2021-11-25T22:20:30.858Z"
   },
   {
    "duration": 5,
    "start_time": "2021-11-25T22:21:24.774Z"
   },
   {
    "duration": 4,
    "start_time": "2021-11-25T22:31:21.553Z"
   },
   {
    "duration": 5,
    "start_time": "2021-11-25T22:31:55.435Z"
   },
   {
    "duration": 259,
    "start_time": "2021-11-25T22:31:56.007Z"
   },
   {
    "duration": 6,
    "start_time": "2021-11-25T22:32:11.920Z"
   },
   {
    "duration": 30,
    "start_time": "2021-11-25T22:32:49.265Z"
   },
   {
    "duration": 36,
    "start_time": "2021-11-25T22:32:54.636Z"
   },
   {
    "duration": 39,
    "start_time": "2021-11-25T22:33:41.339Z"
   },
   {
    "duration": 604,
    "start_time": "2021-11-25T22:48:43.855Z"
   },
   {
    "duration": 10,
    "start_time": "2021-11-25T22:48:44.460Z"
   },
   {
    "duration": 17,
    "start_time": "2021-11-25T22:48:44.472Z"
   },
   {
    "duration": 12,
    "start_time": "2021-11-25T22:48:44.490Z"
   },
   {
    "duration": 9,
    "start_time": "2021-11-25T22:48:44.503Z"
   },
   {
    "duration": 7,
    "start_time": "2021-11-25T22:48:44.514Z"
   },
   {
    "duration": 6,
    "start_time": "2021-11-25T22:48:44.523Z"
   },
   {
    "duration": 4,
    "start_time": "2021-11-25T22:48:44.531Z"
   },
   {
    "duration": 55,
    "start_time": "2021-11-25T22:48:44.537Z"
   },
   {
    "duration": 8,
    "start_time": "2021-11-25T22:48:44.595Z"
   },
   {
    "duration": 11,
    "start_time": "2021-11-25T22:48:44.604Z"
   },
   {
    "duration": 7,
    "start_time": "2021-11-25T22:48:44.617Z"
   },
   {
    "duration": 6,
    "start_time": "2021-11-25T22:48:44.626Z"
   },
   {
    "duration": 6,
    "start_time": "2021-11-25T22:48:44.634Z"
   },
   {
    "duration": 47,
    "start_time": "2021-11-25T22:48:44.642Z"
   },
   {
    "duration": 9,
    "start_time": "2021-11-25T22:48:44.690Z"
   },
   {
    "duration": 8,
    "start_time": "2021-11-25T22:48:44.700Z"
   },
   {
    "duration": 11,
    "start_time": "2021-11-25T22:48:44.710Z"
   },
   {
    "duration": 12,
    "start_time": "2021-11-25T22:48:44.722Z"
   },
   {
    "duration": 3,
    "start_time": "2021-11-25T22:48:44.736Z"
   },
   {
    "duration": 7,
    "start_time": "2021-11-25T22:48:44.787Z"
   },
   {
    "duration": 13,
    "start_time": "2021-11-25T22:48:44.796Z"
   },
   {
    "duration": 4,
    "start_time": "2021-11-25T22:48:44.811Z"
   },
   {
    "duration": 12,
    "start_time": "2021-11-25T22:48:44.816Z"
   },
   {
    "duration": 3,
    "start_time": "2021-11-25T22:48:44.830Z"
   },
   {
    "duration": 5,
    "start_time": "2021-11-25T22:48:44.835Z"
   },
   {
    "duration": 4,
    "start_time": "2021-11-25T22:48:44.887Z"
   },
   {
    "duration": 7,
    "start_time": "2021-11-25T22:48:44.895Z"
   },
   {
    "duration": 8,
    "start_time": "2021-11-25T22:48:44.904Z"
   },
   {
    "duration": 5,
    "start_time": "2021-11-25T22:48:44.914Z"
   },
   {
    "duration": 9,
    "start_time": "2021-11-25T22:48:44.921Z"
   },
   {
    "duration": 4,
    "start_time": "2021-11-25T22:48:44.932Z"
   },
   {
    "duration": 9,
    "start_time": "2021-11-25T22:48:44.938Z"
   },
   {
    "duration": 42,
    "start_time": "2021-11-25T22:48:44.949Z"
   },
   {
    "duration": 4,
    "start_time": "2021-11-25T22:48:44.992Z"
   },
   {
    "duration": 10,
    "start_time": "2021-11-25T22:48:44.998Z"
   },
   {
    "duration": 22,
    "start_time": "2021-11-25T22:48:45.010Z"
   },
   {
    "duration": 17,
    "start_time": "2021-11-25T22:48:45.034Z"
   },
   {
    "duration": 44,
    "start_time": "2021-11-25T22:48:45.052Z"
   },
   {
    "duration": 3,
    "start_time": "2021-11-25T22:48:45.098Z"
   },
   {
    "duration": 7,
    "start_time": "2021-11-25T22:48:45.103Z"
   },
   {
    "duration": 15,
    "start_time": "2021-11-25T22:48:45.112Z"
   },
   {
    "duration": 9,
    "start_time": "2021-11-25T22:48:45.129Z"
   },
   {
    "duration": 2,
    "start_time": "2021-11-25T22:48:45.140Z"
   },
   {
    "duration": 46,
    "start_time": "2021-11-25T22:48:45.143Z"
   },
   {
    "duration": 2,
    "start_time": "2021-11-25T22:48:45.190Z"
   },
   {
    "duration": 7,
    "start_time": "2021-11-25T22:48:45.194Z"
   },
   {
    "duration": 4,
    "start_time": "2021-11-25T22:48:45.203Z"
   },
   {
    "duration": 5,
    "start_time": "2021-11-25T22:48:45.209Z"
   },
   {
    "duration": 8,
    "start_time": "2021-11-25T22:48:45.215Z"
   },
   {
    "duration": 6,
    "start_time": "2021-11-25T22:48:45.225Z"
   },
   {
    "duration": 13,
    "start_time": "2021-11-25T22:48:45.232Z"
   },
   {
    "duration": 48,
    "start_time": "2021-11-25T22:48:45.247Z"
   },
   {
    "duration": 8,
    "start_time": "2021-11-25T22:48:45.296Z"
   },
   {
    "duration": 17,
    "start_time": "2021-11-25T22:48:45.305Z"
   },
   {
    "duration": 10,
    "start_time": "2021-11-25T22:48:45.323Z"
   },
   {
    "duration": 3,
    "start_time": "2021-11-25T22:48:45.334Z"
   },
   {
    "duration": 5,
    "start_time": "2021-11-25T22:48:45.338Z"
   },
   {
    "duration": 8,
    "start_time": "2021-11-25T22:48:45.344Z"
   },
   {
    "duration": 55,
    "start_time": "2021-11-25T22:48:45.353Z"
   },
   {
    "duration": 18,
    "start_time": "2021-11-25T22:48:45.409Z"
   },
   {
    "duration": 5,
    "start_time": "2021-11-25T22:48:45.428Z"
   },
   {
    "duration": 7,
    "start_time": "2021-11-25T22:48:45.435Z"
   },
   {
    "duration": 7,
    "start_time": "2021-11-25T22:48:45.443Z"
   },
   {
    "duration": 39,
    "start_time": "2021-11-25T22:48:45.452Z"
   },
   {
    "duration": 11,
    "start_time": "2021-11-25T22:48:45.492Z"
   },
   {
    "duration": 7,
    "start_time": "2021-11-25T22:48:45.504Z"
   },
   {
    "duration": 7,
    "start_time": "2021-11-25T22:48:45.512Z"
   },
   {
    "duration": 27,
    "start_time": "2021-11-25T22:48:45.520Z"
   },
   {
    "duration": 45,
    "start_time": "2021-11-25T22:48:45.548Z"
   },
   {
    "duration": 18,
    "start_time": "2021-11-25T22:48:45.595Z"
   },
   {
    "duration": 11,
    "start_time": "2021-11-25T22:48:45.614Z"
   },
   {
    "duration": 4,
    "start_time": "2021-11-25T22:48:45.626Z"
   },
   {
    "duration": 6,
    "start_time": "2021-11-25T22:48:45.632Z"
   },
   {
    "duration": 4,
    "start_time": "2021-11-25T22:48:45.639Z"
   },
   {
    "duration": 210,
    "start_time": "2021-11-25T22:48:45.644Z"
   },
   {
    "duration": 12,
    "start_time": "2021-11-25T22:48:45.855Z"
   },
   {
    "duration": 5,
    "start_time": "2021-11-25T22:48:45.869Z"
   },
   {
    "duration": 17,
    "start_time": "2021-11-25T22:48:45.875Z"
   },
   {
    "duration": 3,
    "start_time": "2021-11-25T22:48:45.893Z"
   },
   {
    "duration": 228,
    "start_time": "2021-11-25T22:48:45.901Z"
   },
   {
    "duration": 7,
    "start_time": "2021-11-25T22:48:46.130Z"
   },
   {
    "duration": 18,
    "start_time": "2021-11-25T22:48:46.138Z"
   },
   {
    "duration": 20,
    "start_time": "2021-11-25T22:48:46.158Z"
   },
   {
    "duration": 317,
    "start_time": "2021-11-25T22:48:46.180Z"
   },
   {
    "duration": 8,
    "start_time": "2021-11-25T22:48:46.499Z"
   },
   {
    "duration": 6,
    "start_time": "2021-11-25T22:48:46.508Z"
   },
   {
    "duration": 6,
    "start_time": "2021-11-25T22:48:46.515Z"
   },
   {
    "duration": 273,
    "start_time": "2021-11-25T22:48:46.523Z"
   },
   {
    "duration": 5,
    "start_time": "2021-11-25T22:48:46.798Z"
   },
   {
    "duration": 46,
    "start_time": "2021-11-25T22:48:46.804Z"
   },
   {
    "duration": 52,
    "start_time": "2021-11-25T22:48:46.852Z"
   },
   {
    "duration": 35,
    "start_time": "2021-11-25T22:48:46.905Z"
   },
   {
    "duration": 51,
    "start_time": "2021-11-25T22:48:46.941Z"
   },
   {
    "duration": 797,
    "start_time": "2021-11-26T16:16:08.130Z"
   },
   {
    "duration": 1038,
    "start_time": "2021-11-26T16:16:14.469Z"
   },
   {
    "duration": 16,
    "start_time": "2021-11-26T16:16:15.510Z"
   },
   {
    "duration": 83,
    "start_time": "2021-11-26T16:16:15.529Z"
   },
   {
    "duration": 21,
    "start_time": "2021-11-26T16:16:15.616Z"
   },
   {
    "duration": 15,
    "start_time": "2021-11-26T16:16:15.640Z"
   },
   {
    "duration": 18,
    "start_time": "2021-11-26T16:16:15.700Z"
   },
   {
    "duration": 9,
    "start_time": "2021-11-26T16:16:15.720Z"
   },
   {
    "duration": 5,
    "start_time": "2021-11-26T16:16:15.733Z"
   },
   {
    "duration": 63,
    "start_time": "2021-11-26T16:16:15.741Z"
   },
   {
    "duration": 9,
    "start_time": "2021-11-26T16:16:15.806Z"
   },
   {
    "duration": 17,
    "start_time": "2021-11-26T16:16:15.818Z"
   },
   {
    "duration": 9,
    "start_time": "2021-11-26T16:16:15.838Z"
   },
   {
    "duration": 10,
    "start_time": "2021-11-26T16:16:15.850Z"
   },
   {
    "duration": 13,
    "start_time": "2021-11-26T16:16:15.902Z"
   },
   {
    "duration": 15,
    "start_time": "2021-11-26T16:16:15.918Z"
   },
   {
    "duration": 64,
    "start_time": "2021-11-26T16:16:15.936Z"
   },
   {
    "duration": 7,
    "start_time": "2021-11-26T16:16:16.003Z"
   },
   {
    "duration": 20,
    "start_time": "2021-11-26T16:16:16.012Z"
   },
   {
    "duration": 24,
    "start_time": "2021-11-26T16:16:16.034Z"
   },
   {
    "duration": 6,
    "start_time": "2021-11-26T16:16:16.060Z"
   },
   {
    "duration": 36,
    "start_time": "2021-11-26T16:16:16.068Z"
   },
   {
    "duration": 10,
    "start_time": "2021-11-26T16:16:16.106Z"
   },
   {
    "duration": 5,
    "start_time": "2021-11-26T16:16:16.123Z"
   },
   {
    "duration": 18,
    "start_time": "2021-11-26T16:16:16.132Z"
   },
   {
    "duration": 4,
    "start_time": "2021-11-26T16:16:16.152Z"
   },
   {
    "duration": 46,
    "start_time": "2021-11-26T16:16:16.158Z"
   },
   {
    "duration": 7,
    "start_time": "2021-11-26T16:16:16.206Z"
   },
   {
    "duration": 10,
    "start_time": "2021-11-26T16:16:16.215Z"
   },
   {
    "duration": 12,
    "start_time": "2021-11-26T16:16:16.227Z"
   },
   {
    "duration": 8,
    "start_time": "2021-11-26T16:16:16.242Z"
   },
   {
    "duration": 47,
    "start_time": "2021-11-26T16:16:16.253Z"
   },
   {
    "duration": 7,
    "start_time": "2021-11-26T16:16:16.303Z"
   },
   {
    "duration": 18,
    "start_time": "2021-11-26T16:16:16.313Z"
   },
   {
    "duration": 18,
    "start_time": "2021-11-26T16:16:16.334Z"
   },
   {
    "duration": 9,
    "start_time": "2021-11-26T16:16:16.355Z"
   },
   {
    "duration": 35,
    "start_time": "2021-11-26T16:16:16.367Z"
   },
   {
    "duration": 28,
    "start_time": "2021-11-26T16:16:16.405Z"
   },
   {
    "duration": 27,
    "start_time": "2021-11-26T16:16:16.436Z"
   },
   {
    "duration": 58,
    "start_time": "2021-11-26T16:16:16.466Z"
   },
   {
    "duration": 6,
    "start_time": "2021-11-26T16:16:16.527Z"
   },
   {
    "duration": 13,
    "start_time": "2021-11-26T16:16:16.536Z"
   },
   {
    "duration": 57,
    "start_time": "2021-11-26T16:16:16.552Z"
   },
   {
    "duration": 14,
    "start_time": "2021-11-26T16:16:16.611Z"
   },
   {
    "duration": 4,
    "start_time": "2021-11-26T16:16:16.627Z"
   },
   {
    "duration": 20,
    "start_time": "2021-11-26T16:16:16.633Z"
   },
   {
    "duration": 9,
    "start_time": "2021-11-26T16:16:16.656Z"
   },
   {
    "duration": 34,
    "start_time": "2021-11-26T16:16:16.668Z"
   },
   {
    "duration": 5,
    "start_time": "2021-11-26T16:16:16.704Z"
   },
   {
    "duration": 18,
    "start_time": "2021-11-26T16:16:16.711Z"
   },
   {
    "duration": 29,
    "start_time": "2021-11-26T16:16:16.731Z"
   },
   {
    "duration": 22,
    "start_time": "2021-11-26T16:16:16.762Z"
   },
   {
    "duration": 38,
    "start_time": "2021-11-26T16:16:16.787Z"
   },
   {
    "duration": 18,
    "start_time": "2021-11-26T16:16:16.827Z"
   },
   {
    "duration": 13,
    "start_time": "2021-11-26T16:16:16.848Z"
   },
   {
    "duration": 46,
    "start_time": "2021-11-26T16:16:16.863Z"
   },
   {
    "duration": 29,
    "start_time": "2021-11-26T16:16:16.912Z"
   },
   {
    "duration": 6,
    "start_time": "2021-11-26T16:16:16.944Z"
   },
   {
    "duration": 12,
    "start_time": "2021-11-26T16:16:16.952Z"
   },
   {
    "duration": 35,
    "start_time": "2021-11-26T16:16:16.966Z"
   },
   {
    "duration": 49,
    "start_time": "2021-11-26T16:16:17.004Z"
   },
   {
    "duration": 51,
    "start_time": "2021-11-26T16:16:17.055Z"
   },
   {
    "duration": 8,
    "start_time": "2021-11-26T16:16:17.109Z"
   },
   {
    "duration": 13,
    "start_time": "2021-11-26T16:16:17.119Z"
   },
   {
    "duration": 10,
    "start_time": "2021-11-26T16:16:17.134Z"
   },
   {
    "duration": 63,
    "start_time": "2021-11-26T16:16:17.147Z"
   },
   {
    "duration": 19,
    "start_time": "2021-11-26T16:16:17.212Z"
   },
   {
    "duration": 9,
    "start_time": "2021-11-26T16:16:17.234Z"
   },
   {
    "duration": 17,
    "start_time": "2021-11-26T16:16:17.251Z"
   },
   {
    "duration": 67,
    "start_time": "2021-11-26T16:16:17.271Z"
   },
   {
    "duration": 33,
    "start_time": "2021-11-26T16:16:17.340Z"
   },
   {
    "duration": 39,
    "start_time": "2021-11-26T16:16:17.400Z"
   },
   {
    "duration": 17,
    "start_time": "2021-11-26T16:16:17.441Z"
   },
   {
    "duration": 9,
    "start_time": "2021-11-26T16:16:17.460Z"
   },
   {
    "duration": 31,
    "start_time": "2021-11-26T16:16:17.472Z"
   },
   {
    "duration": 15,
    "start_time": "2021-11-26T16:16:17.506Z"
   },
   {
    "duration": 379,
    "start_time": "2021-11-26T16:16:17.523Z"
   },
   {
    "duration": 19,
    "start_time": "2021-11-26T16:16:17.904Z"
   },
   {
    "duration": 9,
    "start_time": "2021-11-26T16:16:17.926Z"
   },
   {
    "duration": 14,
    "start_time": "2021-11-26T16:16:17.937Z"
   },
   {
    "duration": 10,
    "start_time": "2021-11-26T16:16:17.953Z"
   },
   {
    "duration": 433,
    "start_time": "2021-11-26T16:16:17.966Z"
   },
   {
    "duration": 11,
    "start_time": "2021-11-26T16:16:18.402Z"
   },
   {
    "duration": 6,
    "start_time": "2021-11-26T16:16:18.416Z"
   },
   {
    "duration": 4,
    "start_time": "2021-11-26T16:16:18.425Z"
   },
   {
    "duration": 620,
    "start_time": "2021-11-26T16:16:18.431Z"
   },
   {
    "duration": 12,
    "start_time": "2021-11-26T16:16:19.053Z"
   },
   {
    "duration": 7,
    "start_time": "2021-11-26T16:16:19.067Z"
   },
   {
    "duration": 29,
    "start_time": "2021-11-26T16:16:19.076Z"
   },
   {
    "duration": 539,
    "start_time": "2021-11-26T16:16:19.107Z"
   },
   {
    "duration": 7,
    "start_time": "2021-11-26T16:16:19.649Z"
   },
   {
    "duration": 88,
    "start_time": "2021-11-26T16:16:19.658Z"
   },
   {
    "duration": 70,
    "start_time": "2021-11-26T16:16:19.748Z"
   },
   {
    "duration": 62,
    "start_time": "2021-11-26T16:16:19.820Z"
   },
   {
    "duration": 64,
    "start_time": "2021-11-26T16:16:19.900Z"
   },
   {
    "duration": 767,
    "start_time": "2021-11-27T02:21:52.977Z"
   },
   {
    "duration": 12,
    "start_time": "2021-11-27T02:21:53.746Z"
   },
   {
    "duration": 19,
    "start_time": "2021-11-27T02:21:53.760Z"
   },
   {
    "duration": 15,
    "start_time": "2021-11-27T02:21:53.781Z"
   },
   {
    "duration": 20,
    "start_time": "2021-11-27T02:21:53.798Z"
   },
   {
    "duration": 9,
    "start_time": "2021-11-27T02:21:53.820Z"
   },
   {
    "duration": 37,
    "start_time": "2021-11-27T02:21:53.830Z"
   },
   {
    "duration": 8,
    "start_time": "2021-11-27T02:21:53.869Z"
   },
   {
    "duration": 19,
    "start_time": "2021-11-27T02:21:53.879Z"
   },
   {
    "duration": 15,
    "start_time": "2021-11-27T02:21:53.900Z"
   },
   {
    "duration": 18,
    "start_time": "2021-11-27T02:21:53.917Z"
   },
   {
    "duration": 27,
    "start_time": "2021-11-27T02:21:53.937Z"
   },
   {
    "duration": 22,
    "start_time": "2021-11-27T02:21:53.965Z"
   },
   {
    "duration": 13,
    "start_time": "2021-11-27T02:21:53.989Z"
   },
   {
    "duration": 16,
    "start_time": "2021-11-27T02:21:54.003Z"
   },
   {
    "duration": 13,
    "start_time": "2021-11-27T02:21:54.022Z"
   },
   {
    "duration": 15,
    "start_time": "2021-11-27T02:21:54.037Z"
   },
   {
    "duration": 5,
    "start_time": "2021-11-27T02:21:54.064Z"
   },
   {
    "duration": 22,
    "start_time": "2021-11-27T02:21:54.072Z"
   },
   {
    "duration": 26,
    "start_time": "2021-11-27T02:21:54.096Z"
   },
   {
    "duration": 10,
    "start_time": "2021-11-27T02:21:54.124Z"
   },
   {
    "duration": 25,
    "start_time": "2021-11-27T02:21:54.136Z"
   },
   {
    "duration": 17,
    "start_time": "2021-11-27T02:21:54.166Z"
   },
   {
    "duration": 14,
    "start_time": "2021-11-27T02:21:54.187Z"
   },
   {
    "duration": 24,
    "start_time": "2021-11-27T02:21:54.203Z"
   },
   {
    "duration": 4,
    "start_time": "2021-11-27T02:21:54.229Z"
   },
   {
    "duration": 24,
    "start_time": "2021-11-27T02:21:54.235Z"
   },
   {
    "duration": 13,
    "start_time": "2021-11-27T02:21:54.261Z"
   },
   {
    "duration": 16,
    "start_time": "2021-11-27T02:21:54.277Z"
   },
   {
    "duration": 18,
    "start_time": "2021-11-27T02:21:54.295Z"
   },
   {
    "duration": 14,
    "start_time": "2021-11-27T02:21:54.316Z"
   },
   {
    "duration": 17,
    "start_time": "2021-11-27T02:21:54.332Z"
   },
   {
    "duration": 14,
    "start_time": "2021-11-27T02:21:54.352Z"
   },
   {
    "duration": 14,
    "start_time": "2021-11-27T02:21:54.369Z"
   },
   {
    "duration": 31,
    "start_time": "2021-11-27T02:21:54.386Z"
   },
   {
    "duration": 16,
    "start_time": "2021-11-27T02:21:54.419Z"
   },
   {
    "duration": 13,
    "start_time": "2021-11-27T02:21:54.437Z"
   },
   {
    "duration": 31,
    "start_time": "2021-11-27T02:21:54.453Z"
   },
   {
    "duration": 24,
    "start_time": "2021-11-27T02:21:54.486Z"
   },
   {
    "duration": 22,
    "start_time": "2021-11-27T02:21:54.512Z"
   },
   {
    "duration": 5,
    "start_time": "2021-11-27T02:21:54.536Z"
   },
   {
    "duration": 22,
    "start_time": "2021-11-27T02:21:54.543Z"
   },
   {
    "duration": 33,
    "start_time": "2021-11-27T02:21:54.567Z"
   },
   {
    "duration": 14,
    "start_time": "2021-11-27T02:21:54.602Z"
   },
   {
    "duration": 3,
    "start_time": "2021-11-27T02:21:54.619Z"
   },
   {
    "duration": 26,
    "start_time": "2021-11-27T02:21:54.624Z"
   },
   {
    "duration": 10,
    "start_time": "2021-11-27T02:21:54.663Z"
   },
   {
    "duration": 20,
    "start_time": "2021-11-27T02:21:54.674Z"
   },
   {
    "duration": 8,
    "start_time": "2021-11-27T02:21:54.695Z"
   },
   {
    "duration": 13,
    "start_time": "2021-11-27T02:21:54.704Z"
   },
   {
    "duration": 14,
    "start_time": "2021-11-27T02:21:54.719Z"
   },
   {
    "duration": 10,
    "start_time": "2021-11-27T02:21:54.734Z"
   },
   {
    "duration": 21,
    "start_time": "2021-11-27T02:21:54.745Z"
   },
   {
    "duration": 14,
    "start_time": "2021-11-27T02:21:54.768Z"
   },
   {
    "duration": 10,
    "start_time": "2021-11-27T02:21:54.783Z"
   },
   {
    "duration": 20,
    "start_time": "2021-11-27T02:21:54.794Z"
   },
   {
    "duration": 14,
    "start_time": "2021-11-27T02:21:54.815Z"
   },
   {
    "duration": 4,
    "start_time": "2021-11-27T02:21:54.830Z"
   },
   {
    "duration": 29,
    "start_time": "2021-11-27T02:21:54.836Z"
   },
   {
    "duration": 20,
    "start_time": "2021-11-27T02:21:54.866Z"
   },
   {
    "duration": 44,
    "start_time": "2021-11-27T02:21:54.888Z"
   },
   {
    "duration": 19,
    "start_time": "2021-11-27T02:21:54.934Z"
   },
   {
    "duration": 27,
    "start_time": "2021-11-27T02:21:54.955Z"
   },
   {
    "duration": 17,
    "start_time": "2021-11-27T02:21:54.983Z"
   },
   {
    "duration": 27,
    "start_time": "2021-11-27T02:21:55.001Z"
   },
   {
    "duration": 31,
    "start_time": "2021-11-27T02:21:55.030Z"
   },
   {
    "duration": 25,
    "start_time": "2021-11-27T02:21:55.063Z"
   },
   {
    "duration": 19,
    "start_time": "2021-11-27T02:21:55.094Z"
   },
   {
    "duration": 33,
    "start_time": "2021-11-27T02:21:55.116Z"
   },
   {
    "duration": 34,
    "start_time": "2021-11-27T02:21:55.151Z"
   },
   {
    "duration": 38,
    "start_time": "2021-11-27T02:21:55.186Z"
   },
   {
    "duration": 29,
    "start_time": "2021-11-27T02:21:55.226Z"
   },
   {
    "duration": 11,
    "start_time": "2021-11-27T02:21:55.257Z"
   },
   {
    "duration": 15,
    "start_time": "2021-11-27T02:21:55.270Z"
   },
   {
    "duration": 27,
    "start_time": "2021-11-27T02:21:55.286Z"
   },
   {
    "duration": 9,
    "start_time": "2021-11-27T02:21:55.315Z"
   },
   {
    "duration": 196,
    "start_time": "2021-11-27T02:21:55.326Z"
   },
   {
    "duration": 14,
    "start_time": "2021-11-27T02:21:55.524Z"
   },
   {
    "duration": 21,
    "start_time": "2021-11-27T02:21:55.539Z"
   },
   {
    "duration": 42,
    "start_time": "2021-11-27T02:21:55.562Z"
   },
   {
    "duration": 15,
    "start_time": "2021-11-27T02:21:55.606Z"
   },
   {
    "duration": 241,
    "start_time": "2021-11-27T02:21:55.623Z"
   },
   {
    "duration": 9,
    "start_time": "2021-11-27T02:21:55.865Z"
   },
   {
    "duration": 20,
    "start_time": "2021-11-27T02:21:55.875Z"
   },
   {
    "duration": 25,
    "start_time": "2021-11-27T02:21:55.896Z"
   },
   {
    "duration": 350,
    "start_time": "2021-11-27T02:21:55.922Z"
   },
   {
    "duration": 9,
    "start_time": "2021-11-27T02:21:56.274Z"
   },
   {
    "duration": 32,
    "start_time": "2021-11-27T02:21:56.285Z"
   },
   {
    "duration": 7,
    "start_time": "2021-11-27T02:21:56.319Z"
   },
   {
    "duration": 292,
    "start_time": "2021-11-27T02:21:56.328Z"
   },
   {
    "duration": 6,
    "start_time": "2021-11-27T02:21:56.622Z"
   },
   {
    "duration": 63,
    "start_time": "2021-11-27T02:21:56.629Z"
   },
   {
    "duration": 45,
    "start_time": "2021-11-27T02:21:56.694Z"
   },
   {
    "duration": 44,
    "start_time": "2021-11-27T02:21:56.740Z"
   },
   {
    "duration": 41,
    "start_time": "2021-11-27T02:21:56.786Z"
   },
   {
    "duration": 15,
    "start_time": "2021-11-27T02:22:42.176Z"
   },
   {
    "duration": 12,
    "start_time": "2021-11-27T02:25:43.613Z"
   },
   {
    "duration": 45,
    "start_time": "2021-11-27T02:26:02.889Z"
   },
   {
    "duration": 13,
    "start_time": "2021-11-27T02:26:02.936Z"
   },
   {
    "duration": 20,
    "start_time": "2021-11-27T02:26:02.951Z"
   },
   {
    "duration": 19,
    "start_time": "2021-11-27T02:26:02.973Z"
   },
   {
    "duration": 16,
    "start_time": "2021-11-27T02:26:02.994Z"
   },
   {
    "duration": 16,
    "start_time": "2021-11-27T02:26:03.013Z"
   },
   {
    "duration": 9,
    "start_time": "2021-11-27T02:26:03.030Z"
   },
   {
    "duration": 28,
    "start_time": "2021-11-27T02:26:03.041Z"
   },
   {
    "duration": 21,
    "start_time": "2021-11-27T02:26:03.071Z"
   },
   {
    "duration": 28,
    "start_time": "2021-11-27T02:26:03.094Z"
   },
   {
    "duration": 18,
    "start_time": "2021-11-27T02:26:35.002Z"
   },
   {
    "duration": 21,
    "start_time": "2021-11-27T02:26:58.469Z"
   },
   {
    "duration": 233,
    "start_time": "2021-11-27T02:31:44.723Z"
   },
   {
    "duration": 10,
    "start_time": "2021-11-27T02:32:33.524Z"
   },
   {
    "duration": 150,
    "start_time": "2021-11-27T02:32:36.113Z"
   },
   {
    "duration": 152,
    "start_time": "2021-11-27T02:33:01.806Z"
   },
   {
    "duration": 671,
    "start_time": "2021-11-27T02:55:40.871Z"
   },
   {
    "duration": 13,
    "start_time": "2021-11-27T02:55:41.544Z"
   },
   {
    "duration": 20,
    "start_time": "2021-11-27T02:55:41.559Z"
   },
   {
    "duration": 13,
    "start_time": "2021-11-27T02:55:41.581Z"
   },
   {
    "duration": 14,
    "start_time": "2021-11-27T02:55:41.596Z"
   },
   {
    "duration": 8,
    "start_time": "2021-11-27T02:55:41.612Z"
   },
   {
    "duration": 41,
    "start_time": "2021-11-27T02:55:41.622Z"
   },
   {
    "duration": 8,
    "start_time": "2021-11-27T02:55:41.666Z"
   },
   {
    "duration": 4,
    "start_time": "2021-11-27T02:55:41.676Z"
   },
   {
    "duration": 16,
    "start_time": "2021-11-27T02:55:41.682Z"
   },
   {
    "duration": 19,
    "start_time": "2021-11-27T02:55:41.699Z"
   },
   {
    "duration": 45,
    "start_time": "2021-11-27T02:55:41.720Z"
   },
   {
    "duration": 7,
    "start_time": "2021-11-27T02:55:41.767Z"
   },
   {
    "duration": 8,
    "start_time": "2021-11-27T02:55:41.775Z"
   },
   {
    "duration": 6,
    "start_time": "2021-11-27T02:55:41.785Z"
   },
   {
    "duration": 9,
    "start_time": "2021-11-27T02:55:41.793Z"
   },
   {
    "duration": 12,
    "start_time": "2021-11-27T02:55:41.803Z"
   },
   {
    "duration": 10,
    "start_time": "2021-11-27T02:55:41.817Z"
   },
   {
    "duration": 42,
    "start_time": "2021-11-27T02:55:41.828Z"
   },
   {
    "duration": 4,
    "start_time": "2021-11-27T02:55:41.872Z"
   },
   {
    "duration": 11,
    "start_time": "2021-11-27T02:55:41.878Z"
   },
   {
    "duration": 15,
    "start_time": "2021-11-27T02:55:41.891Z"
   },
   {
    "duration": 4,
    "start_time": "2021-11-27T02:55:41.910Z"
   },
   {
    "duration": 11,
    "start_time": "2021-11-27T02:55:41.916Z"
   },
   {
    "duration": 37,
    "start_time": "2021-11-27T02:55:41.929Z"
   },
   {
    "duration": 6,
    "start_time": "2021-11-27T02:55:41.968Z"
   },
   {
    "duration": 13,
    "start_time": "2021-11-27T02:55:41.976Z"
   },
   {
    "duration": 5,
    "start_time": "2021-11-27T02:55:41.991Z"
   },
   {
    "duration": 8,
    "start_time": "2021-11-27T02:55:41.998Z"
   },
   {
    "duration": 8,
    "start_time": "2021-11-27T02:55:42.008Z"
   },
   {
    "duration": 9,
    "start_time": "2021-11-27T02:55:42.018Z"
   },
   {
    "duration": 10,
    "start_time": "2021-11-27T02:55:42.029Z"
   },
   {
    "duration": 24,
    "start_time": "2021-11-27T02:55:42.041Z"
   },
   {
    "duration": 5,
    "start_time": "2021-11-27T02:55:42.067Z"
   },
   {
    "duration": 8,
    "start_time": "2021-11-27T02:55:42.074Z"
   },
   {
    "duration": 10,
    "start_time": "2021-11-27T02:55:42.083Z"
   },
   {
    "duration": 11,
    "start_time": "2021-11-27T02:55:42.095Z"
   },
   {
    "duration": 6,
    "start_time": "2021-11-27T02:55:42.108Z"
   },
   {
    "duration": 7,
    "start_time": "2021-11-27T02:55:42.115Z"
   },
   {
    "duration": 19,
    "start_time": "2021-11-27T02:55:42.124Z"
   },
   {
    "duration": 18,
    "start_time": "2021-11-27T02:55:42.164Z"
   },
   {
    "duration": 15,
    "start_time": "2021-11-27T02:55:42.184Z"
   },
   {
    "duration": 3,
    "start_time": "2021-11-27T02:55:42.201Z"
   },
   {
    "duration": 11,
    "start_time": "2021-11-27T02:55:42.206Z"
   },
   {
    "duration": 17,
    "start_time": "2021-11-27T02:55:42.219Z"
   },
   {
    "duration": 32,
    "start_time": "2021-11-27T02:55:42.238Z"
   },
   {
    "duration": 24,
    "start_time": "2021-11-27T02:55:42.272Z"
   },
   {
    "duration": 22,
    "start_time": "2021-11-27T02:55:42.298Z"
   },
   {
    "duration": 21,
    "start_time": "2021-11-27T02:55:42.322Z"
   },
   {
    "duration": 238,
    "start_time": "2021-11-27T02:55:42.346Z"
   },
   {
    "duration": 6,
    "start_time": "2021-11-27T02:55:42.586Z"
   },
   {
    "duration": 5,
    "start_time": "2021-11-27T02:55:42.594Z"
   },
   {
    "duration": 7,
    "start_time": "2021-11-27T02:55:42.600Z"
   },
   {
    "duration": 10,
    "start_time": "2021-11-27T02:55:42.609Z"
   },
   {
    "duration": 5,
    "start_time": "2021-11-27T02:55:42.621Z"
   },
   {
    "duration": 41,
    "start_time": "2021-11-27T02:55:42.627Z"
   },
   {
    "duration": 14,
    "start_time": "2021-11-27T02:55:42.670Z"
   },
   {
    "duration": 7,
    "start_time": "2021-11-27T02:55:42.686Z"
   },
   {
    "duration": 16,
    "start_time": "2021-11-27T02:55:42.695Z"
   },
   {
    "duration": 12,
    "start_time": "2021-11-27T02:55:42.713Z"
   },
   {
    "duration": 3,
    "start_time": "2021-11-27T02:55:42.727Z"
   },
   {
    "duration": 33,
    "start_time": "2021-11-27T02:55:42.732Z"
   },
   {
    "duration": 7,
    "start_time": "2021-11-27T02:55:42.767Z"
   },
   {
    "duration": 31,
    "start_time": "2021-11-27T02:55:42.776Z"
   },
   {
    "duration": 20,
    "start_time": "2021-11-27T02:55:42.809Z"
   },
   {
    "duration": 4,
    "start_time": "2021-11-27T02:55:42.831Z"
   },
   {
    "duration": 27,
    "start_time": "2021-11-27T02:55:42.837Z"
   },
   {
    "duration": 6,
    "start_time": "2021-11-27T02:55:42.869Z"
   },
   {
    "duration": 13,
    "start_time": "2021-11-27T02:55:42.878Z"
   },
   {
    "duration": 13,
    "start_time": "2021-11-27T02:55:42.893Z"
   },
   {
    "duration": 3,
    "start_time": "2021-11-27T02:55:42.908Z"
   },
   {
    "duration": 10,
    "start_time": "2021-11-27T02:55:42.912Z"
   },
   {
    "duration": 58,
    "start_time": "2021-11-27T02:55:42.924Z"
   },
   {
    "duration": 22,
    "start_time": "2021-11-27T02:55:42.983Z"
   },
   {
    "duration": 22,
    "start_time": "2021-11-27T02:55:43.007Z"
   },
   {
    "duration": 39,
    "start_time": "2021-11-27T02:55:43.031Z"
   },
   {
    "duration": 6,
    "start_time": "2021-11-27T02:55:43.071Z"
   },
   {
    "duration": 8,
    "start_time": "2021-11-27T02:55:43.079Z"
   },
   {
    "duration": 4,
    "start_time": "2021-11-27T02:55:43.089Z"
   },
   {
    "duration": 316,
    "start_time": "2021-11-27T02:55:43.097Z"
   },
   {
    "duration": 19,
    "start_time": "2021-11-27T02:55:43.416Z"
   },
   {
    "duration": 8,
    "start_time": "2021-11-27T02:55:43.437Z"
   },
   {
    "duration": 22,
    "start_time": "2021-11-27T02:55:43.447Z"
   },
   {
    "duration": 5,
    "start_time": "2021-11-27T02:55:43.471Z"
   },
   {
    "duration": 373,
    "start_time": "2021-11-27T02:55:43.478Z"
   },
   {
    "duration": 15,
    "start_time": "2021-11-27T02:55:43.853Z"
   },
   {
    "duration": 6,
    "start_time": "2021-11-27T02:55:43.870Z"
   },
   {
    "duration": 4,
    "start_time": "2021-11-27T02:55:43.878Z"
   },
   {
    "duration": 537,
    "start_time": "2021-11-27T02:55:43.884Z"
   },
   {
    "duration": 12,
    "start_time": "2021-11-27T02:55:44.423Z"
   },
   {
    "duration": 7,
    "start_time": "2021-11-27T02:55:44.437Z"
   },
   {
    "duration": 19,
    "start_time": "2021-11-27T02:55:44.446Z"
   },
   {
    "duration": 454,
    "start_time": "2021-11-27T02:55:44.467Z"
   },
   {
    "duration": 8,
    "start_time": "2021-11-27T02:55:44.923Z"
   },
   {
    "duration": 76,
    "start_time": "2021-11-27T02:55:44.933Z"
   },
   {
    "duration": 63,
    "start_time": "2021-11-27T02:55:45.011Z"
   },
   {
    "duration": 37,
    "start_time": "2021-11-27T02:55:45.076Z"
   },
   {
    "duration": 50,
    "start_time": "2021-11-27T02:55:45.115Z"
   },
   {
    "duration": 897,
    "start_time": "2021-11-27T08:48:22.152Z"
   },
   {
    "duration": 15,
    "start_time": "2021-11-27T08:48:23.052Z"
   },
   {
    "duration": 31,
    "start_time": "2021-11-27T08:48:23.071Z"
   },
   {
    "duration": 22,
    "start_time": "2021-11-27T08:48:23.104Z"
   },
   {
    "duration": 47,
    "start_time": "2021-11-27T08:48:23.128Z"
   },
   {
    "duration": 16,
    "start_time": "2021-11-27T08:48:23.177Z"
   },
   {
    "duration": 12,
    "start_time": "2021-11-27T08:48:23.195Z"
   },
   {
    "duration": 10,
    "start_time": "2021-11-27T08:48:23.211Z"
   },
   {
    "duration": 5,
    "start_time": "2021-11-27T08:48:23.224Z"
   },
   {
    "duration": 17,
    "start_time": "2021-11-27T08:48:23.268Z"
   },
   {
    "duration": 26,
    "start_time": "2021-11-27T08:48:23.287Z"
   },
   {
    "duration": 15,
    "start_time": "2021-11-27T08:48:23.315Z"
   },
   {
    "duration": 12,
    "start_time": "2021-11-27T08:48:23.367Z"
   },
   {
    "duration": 11,
    "start_time": "2021-11-27T08:48:23.381Z"
   },
   {
    "duration": 10,
    "start_time": "2021-11-27T08:48:23.395Z"
   },
   {
    "duration": 11,
    "start_time": "2021-11-27T08:48:23.407Z"
   },
   {
    "duration": 10,
    "start_time": "2021-11-27T08:48:23.468Z"
   },
   {
    "duration": 19,
    "start_time": "2021-11-27T08:48:23.481Z"
   },
   {
    "duration": 10,
    "start_time": "2021-11-27T08:48:23.502Z"
   },
   {
    "duration": 7,
    "start_time": "2021-11-27T08:48:23.514Z"
   },
   {
    "duration": 55,
    "start_time": "2021-11-27T08:48:23.524Z"
   },
   {
    "duration": 20,
    "start_time": "2021-11-27T08:48:23.581Z"
   },
   {
    "duration": 5,
    "start_time": "2021-11-27T08:48:23.607Z"
   },
   {
    "duration": 12,
    "start_time": "2021-11-27T08:48:23.616Z"
   },
   {
    "duration": 43,
    "start_time": "2021-11-27T08:48:23.630Z"
   },
   {
    "duration": 8,
    "start_time": "2021-11-27T08:48:23.675Z"
   },
   {
    "duration": 15,
    "start_time": "2021-11-27T08:48:23.685Z"
   },
   {
    "duration": 4,
    "start_time": "2021-11-27T08:48:23.702Z"
   },
   {
    "duration": 9,
    "start_time": "2021-11-27T08:48:23.709Z"
   },
   {
    "duration": 52,
    "start_time": "2021-11-27T08:48:23.721Z"
   },
   {
    "duration": 15,
    "start_time": "2021-11-27T08:48:23.775Z"
   },
   {
    "duration": 14,
    "start_time": "2021-11-27T08:48:23.792Z"
   },
   {
    "duration": 6,
    "start_time": "2021-11-27T08:48:23.808Z"
   },
   {
    "duration": 10,
    "start_time": "2021-11-27T08:48:23.816Z"
   },
   {
    "duration": 38,
    "start_time": "2021-11-27T08:48:23.829Z"
   },
   {
    "duration": 9,
    "start_time": "2021-11-27T08:48:23.869Z"
   },
   {
    "duration": 14,
    "start_time": "2021-11-27T08:48:23.880Z"
   },
   {
    "duration": 6,
    "start_time": "2021-11-27T08:48:23.897Z"
   },
   {
    "duration": 9,
    "start_time": "2021-11-27T08:48:23.905Z"
   },
   {
    "duration": 65,
    "start_time": "2021-11-27T08:48:23.916Z"
   },
   {
    "duration": 24,
    "start_time": "2021-11-27T08:48:23.984Z"
   },
   {
    "duration": 23,
    "start_time": "2021-11-27T08:48:24.011Z"
   },
   {
    "duration": 30,
    "start_time": "2021-11-27T08:48:24.037Z"
   },
   {
    "duration": 4,
    "start_time": "2021-11-27T08:48:24.070Z"
   },
   {
    "duration": 25,
    "start_time": "2021-11-27T08:48:24.076Z"
   },
   {
    "duration": 12,
    "start_time": "2021-11-27T08:48:24.104Z"
   },
   {
    "duration": 3,
    "start_time": "2021-11-27T08:48:24.119Z"
   },
   {
    "duration": 51,
    "start_time": "2021-11-27T08:48:24.125Z"
   },
   {
    "duration": 6,
    "start_time": "2021-11-27T08:48:24.178Z"
   },
   {
    "duration": 383,
    "start_time": "2021-11-27T08:48:24.187Z"
   },
   {
    "duration": 8,
    "start_time": "2021-11-27T08:48:24.572Z"
   },
   {
    "duration": 7,
    "start_time": "2021-11-27T08:48:24.582Z"
   },
   {
    "duration": 8,
    "start_time": "2021-11-27T08:48:24.592Z"
   },
   {
    "duration": 15,
    "start_time": "2021-11-27T08:48:24.602Z"
   },
   {
    "duration": 7,
    "start_time": "2021-11-27T08:48:24.619Z"
   },
   {
    "duration": 22,
    "start_time": "2021-11-27T08:48:24.668Z"
   },
   {
    "duration": 19,
    "start_time": "2021-11-27T08:48:24.693Z"
   },
   {
    "duration": 12,
    "start_time": "2021-11-27T08:48:24.715Z"
   },
   {
    "duration": 48,
    "start_time": "2021-11-27T08:48:24.730Z"
   },
   {
    "duration": 20,
    "start_time": "2021-11-27T08:48:24.781Z"
   },
   {
    "duration": 4,
    "start_time": "2021-11-27T08:48:24.803Z"
   },
   {
    "duration": 10,
    "start_time": "2021-11-27T08:48:24.809Z"
   },
   {
    "duration": 49,
    "start_time": "2021-11-27T08:48:24.822Z"
   },
   {
    "duration": 46,
    "start_time": "2021-11-27T08:48:24.873Z"
   },
   {
    "duration": 48,
    "start_time": "2021-11-27T08:48:24.922Z"
   },
   {
    "duration": 6,
    "start_time": "2021-11-27T08:48:24.972Z"
   },
   {
    "duration": 12,
    "start_time": "2021-11-27T08:48:24.980Z"
   },
   {
    "duration": 7,
    "start_time": "2021-11-27T08:48:25.001Z"
   },
   {
    "duration": 60,
    "start_time": "2021-11-27T08:48:25.011Z"
   },
   {
    "duration": 19,
    "start_time": "2021-11-27T08:48:25.073Z"
   },
   {
    "duration": 4,
    "start_time": "2021-11-27T08:48:25.095Z"
   },
   {
    "duration": 9,
    "start_time": "2021-11-27T08:48:25.102Z"
   },
   {
    "duration": 80,
    "start_time": "2021-11-27T08:48:25.113Z"
   },
   {
    "duration": 32,
    "start_time": "2021-11-27T08:48:25.196Z"
   },
   {
    "duration": 51,
    "start_time": "2021-11-27T08:48:25.230Z"
   },
   {
    "duration": 16,
    "start_time": "2021-11-27T08:48:25.283Z"
   },
   {
    "duration": 7,
    "start_time": "2021-11-27T08:48:25.302Z"
   },
   {
    "duration": 16,
    "start_time": "2021-11-27T08:48:25.311Z"
   },
   {
    "duration": 4,
    "start_time": "2021-11-27T08:48:25.329Z"
   },
   {
    "duration": 326,
    "start_time": "2021-11-27T08:48:25.366Z"
   },
   {
    "duration": 20,
    "start_time": "2021-11-27T08:48:25.694Z"
   },
   {
    "duration": 11,
    "start_time": "2021-11-27T08:48:25.717Z"
   },
   {
    "duration": 11,
    "start_time": "2021-11-27T08:48:25.730Z"
   },
   {
    "duration": 5,
    "start_time": "2021-11-27T08:48:25.768Z"
   },
   {
    "duration": 403,
    "start_time": "2021-11-27T08:48:25.775Z"
   },
   {
    "duration": 12,
    "start_time": "2021-11-27T08:48:26.180Z"
   },
   {
    "duration": 9,
    "start_time": "2021-11-27T08:48:26.194Z"
   },
   {
    "duration": 11,
    "start_time": "2021-11-27T08:48:26.205Z"
   },
   {
    "duration": 594,
    "start_time": "2021-11-27T08:48:26.219Z"
   },
   {
    "duration": 13,
    "start_time": "2021-11-27T08:48:26.816Z"
   },
   {
    "duration": 10,
    "start_time": "2021-11-27T08:48:26.831Z"
   },
   {
    "duration": 9,
    "start_time": "2021-11-27T08:48:26.869Z"
   },
   {
    "duration": 499,
    "start_time": "2021-11-27T08:48:26.881Z"
   },
   {
    "duration": 10,
    "start_time": "2021-11-27T08:48:27.383Z"
   },
   {
    "duration": 91,
    "start_time": "2021-11-27T08:48:27.396Z"
   },
   {
    "duration": 63,
    "start_time": "2021-11-27T08:48:27.490Z"
   },
   {
    "duration": 62,
    "start_time": "2021-11-27T08:48:27.567Z"
   },
   {
    "duration": 88,
    "start_time": "2021-11-27T08:48:27.632Z"
   },
   {
    "duration": 710,
    "start_time": "2021-11-27T08:51:46.524Z"
   },
   {
    "duration": 267,
    "start_time": "2021-11-27T08:51:52.749Z"
   }
  ],
  "kernelspec": {
   "display_name": "Python 3",
   "language": "python",
   "name": "python3"
  },
  "language_info": {
   "codemirror_mode": {
    "name": "ipython",
    "version": 3
   },
   "file_extension": ".py",
   "mimetype": "text/x-python",
   "name": "python",
   "nbconvert_exporter": "python",
   "pygments_lexer": "ipython3",
   "version": "3.7.8"
  },
  "toc": {
   "base_numbering": 1,
   "nav_menu": {},
   "number_sections": true,
   "sideBar": true,
   "skip_h1_title": true,
   "title_cell": "Table of Contents",
   "title_sidebar": "Contents",
   "toc_cell": false,
   "toc_position": {},
   "toc_section_display": true,
   "toc_window_display": false
  }
 },
 "nbformat": 4,
 "nbformat_minor": 2
}
