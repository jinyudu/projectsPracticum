{
 "cells": [
  {
   "cell_type": "markdown",
   "metadata": {},
   "source": [
    "<div style=\"border:solid green 2px; padding: 20px\"> <h1 style=\"color:green; margin-bottom:20px\">Reviewer's comment v1</h1>\n",
    "\n",
    "Hello Jinyu, my name is Dmitrii. I'm going to review your project! Nice to meet you! 🙌\n",
    "\n",
    "You can find my comments under the heading **«Review»**. I will categorize my comments in green, blue or red boxes like this:\n",
    "\n",
    "<div class=\"alert alert-success\">\n",
    "    <b>Success:</b> if everything is done successfully\n",
    "</div>\n",
    "<div class=\"alert alert-warning\">\n",
    "    <b>Remarks:</b> if I can give some recommendations or ways to improve the project\n",
    "</div>\n",
    "<div class=\"alert alert-danger\">\n",
    "    <b>Needs fixing:</b> if the block requires some corrections. Work can't be accepted with the red comments\n",
    "</div>\n",
    "\n",
    "Please don't remove my comments :) If you have any questions don't hesitate to respond to my comments in a different section. \n",
    "<div class=\"alert alert-info\"> <b>Student comments:</b> For example like this</div>    \n"
   ]
  },
  {
   "cell_type": "markdown",
   "metadata": {},
   "source": [
    "<div style=\"border:solid green 2px; padding: 20px\">\n",
    "<b>Reviewer's comment v1:</b>\n",
    "    \n",
    "<b>Overall Feedback</b> \n",
    "    \n",
    "    \n",
    "- Overall well done! I can see that a lot of effort has been made! Your project already looks really good and you accomplished impressive results.\n",
    "- It is great that you can use different methods for data processing and apply them to real data and project tasks, keep it up! \n",
    "- There is only one comment to be fixed: \n",
    "  - Try aggregated data to fill missing values in `model_year`, `cylinders`, and `odometer`.\n",
    "\n",
    "I will wait for you to send me a new version of the project :)\n",
    "    \n",
    "</div>"
   ]
  },
  {
   "cell_type": "markdown",
   "metadata": {},
   "source": [
    "<div class=\"alert alert-info\"> <b>Student comments:</b> Hello, Dmitrii. Thank you for reviewi your project! Nice to meet you!</div>    "
   ]
  },
  {
   "cell_type": "markdown",
   "metadata": {},
   "source": [
    "# What sells a car?\n",
    "\n",
    "You're an analyst at Crankshaft List. Hundreds of free advertisements for vehicles are published on your site every day. You need to study data collected over the last few years and determine which factors influence the price of a vehicle.\n",
    "\n",
    "## Purposes of the project\n",
    "\n",
    "The purposes of the project is to find out what factors influence the price of a vehicle. \n",
    "\n",
    "## Action plan\n",
    "\n",
    "1. Initial data exploration\n",
    "2. Data cleaning \n",
    "  - handling missing values\n",
    "  - fix data types\n",
    "  - treat outliers\n",
    "  - create new variables if needed\n",
    "3. Study the core parameters and relationships\n",
    "4. Conclusion"
   ]
  },
  {
   "cell_type": "markdown",
   "metadata": {},
   "source": [
    "<div class=\"alert alert-success\">\n",
    "<b>Reviewer's comment v1:</b>\n",
    "    \n",
    "- Great that you added additional information about project tasks. It gives an overview of what you are going to achieve in this project.\n"
   ]
  },
  {
   "cell_type": "markdown",
   "metadata": {},
   "source": [
    "## Initialization"
   ]
  },
  {
   "cell_type": "code",
   "execution_count": 1,
   "metadata": {},
   "outputs": [],
   "source": [
    "# Loading all the libraries\n",
    "import matplotlib.pyplot as plt\n",
    "import numpy as np\n",
    "import pandas as pd\n",
    "import seaborn as sns"
   ]
  },
  {
   "cell_type": "markdown",
   "metadata": {},
   "source": [
    "### Load data"
   ]
  },
  {
   "cell_type": "code",
   "execution_count": 2,
   "metadata": {},
   "outputs": [],
   "source": [
    "# Load the data file into a DataFrame\n",
    "car_data = pd.read_csv('/datasets/vehicles_us.csv')"
   ]
  },
  {
   "cell_type": "markdown",
   "metadata": {},
   "source": [
    "### Explore initial data"
   ]
  },
  {
   "cell_type": "markdown",
   "metadata": {},
   "source": [
    "The dataset contains the following fields:\n",
    "- `price`\n",
    "- `model_year`\n",
    "- `model`\n",
    "- `condition`\n",
    "- `cylinders`\n",
    "- `fuel` — gas, diesel, etc.\n",
    "- `odometer` — the vehicle's mileage when the ad was published\n",
    "- `transmission`\n",
    "- `type`\n",
    "- `paint_color`\n",
    "- `is_4wd` — whether the vehicle has 4-wheel drive (Boolean type)\n",
    "- `date_posted` — the date the ad was published\n",
    "- `days_listed` — from publication to removal"
   ]
  },
  {
   "cell_type": "code",
   "execution_count": 3,
   "metadata": {},
   "outputs": [
    {
     "name": "stdout",
     "output_type": "stream",
     "text": [
      "<class 'pandas.core.frame.DataFrame'>\n",
      "RangeIndex: 51525 entries, 0 to 51524\n",
      "Data columns (total 13 columns):\n",
      "price           51525 non-null int64\n",
      "model_year      47906 non-null float64\n",
      "model           51525 non-null object\n",
      "condition       51525 non-null object\n",
      "cylinders       46265 non-null float64\n",
      "fuel            51525 non-null object\n",
      "odometer        43633 non-null float64\n",
      "transmission    51525 non-null object\n",
      "type            51525 non-null object\n",
      "paint_color     42258 non-null object\n",
      "is_4wd          25572 non-null float64\n",
      "date_posted     51525 non-null object\n",
      "days_listed     51525 non-null int64\n",
      "dtypes: float64(4), int64(2), object(7)\n",
      "memory usage: 5.1+ MB\n"
     ]
    }
   ],
   "source": [
    "# print the general/summary information about the DataFrame\n",
    "\n",
    "car_data.info()"
   ]
  },
  {
   "cell_type": "code",
   "execution_count": 4,
   "metadata": {},
   "outputs": [
    {
     "name": "stdout",
     "output_type": "stream",
     "text": [
      "   price  model_year           model  condition  cylinders fuel  odometer  \\\n",
      "0   9400      2011.0          bmw x5       good        6.0  gas  145000.0   \n",
      "1  25500         NaN      ford f-150       good        6.0  gas   88705.0   \n",
      "2   5500      2013.0  hyundai sonata   like new        4.0  gas  110000.0   \n",
      "3   1500      2003.0      ford f-150       fair        8.0  gas       NaN   \n",
      "4  14900      2017.0    chrysler 200  excellent        4.0  gas   80903.0   \n",
      "5  14990      2014.0    chrysler 300  excellent        6.0  gas   57954.0   \n",
      "6  12990      2015.0    toyota camry  excellent        4.0  gas   79212.0   \n",
      "7  15990      2013.0     honda pilot  excellent        6.0  gas  109473.0   \n",
      "8  11500      2012.0     kia sorento  excellent        4.0  gas  104174.0   \n",
      "9   9200      2008.0     honda pilot  excellent        NaN  gas  147191.0   \n",
      "\n",
      "  transmission    type paint_color  is_4wd date_posted  days_listed  \n",
      "0    automatic     SUV         NaN     1.0  2018-06-23           19  \n",
      "1    automatic  pickup       white     1.0  2018-10-19           50  \n",
      "2    automatic   sedan         red     NaN  2019-02-07           79  \n",
      "3    automatic  pickup         NaN     NaN  2019-03-22            9  \n",
      "4    automatic   sedan       black     NaN  2019-04-02           28  \n",
      "5    automatic   sedan       black     1.0  2018-06-20           15  \n",
      "6    automatic   sedan       white     NaN  2018-12-27           73  \n",
      "7    automatic     SUV       black     1.0  2019-01-07           68  \n",
      "8    automatic     SUV         NaN     1.0  2018-07-16           19  \n",
      "9    automatic     SUV        blue     1.0  2019-02-15           17  \n"
     ]
    }
   ],
   "source": [
    "# print a sample of data\n",
    "\n",
    "print(car_data.head(10))"
   ]
  },
  {
   "cell_type": "markdown",
   "metadata": {},
   "source": [
    "The dataset has 51525 rows and 13 columns. The data type for `model_year`, `cylinders` and `is_4wd` is `float64`, which does not make sense. `model_year` and `date_posted` are perhaps better to be datatime type. `cylinders` and `is_4wd` should be integer type. The data type for all the other variables looks good.   \n",
    "\n",
    "The general information and the printed data sample look reasonable except that those three variables mentioned above do not seem to have to correct data type. "
   ]
  },
  {
   "cell_type": "code",
   "execution_count": 5,
   "metadata": {
    "scrolled": true
   },
   "outputs": [
    {
     "name": "stdout",
     "output_type": "stream",
     "text": [
      "price            0.000000\n",
      "model_year       7.023775\n",
      "model            0.000000\n",
      "condition        0.000000\n",
      "cylinders       10.208637\n",
      "fuel             0.000000\n",
      "odometer        15.316836\n",
      "transmission     0.000000\n",
      "type             0.000000\n",
      "paint_color     17.985444\n",
      "is_4wd          50.369723\n",
      "date_posted      0.000000\n",
      "days_listed      0.000000\n",
      "dtype: float64\n"
     ]
    }
   ],
   "source": [
    "missing_perct = (car_data.isna().sum())/car_data.shape[0]*100\n",
    "print(missing_perct)"
   ]
  },
  {
   "cell_type": "markdown",
   "metadata": {},
   "source": [
    "<div class=\"alert alert-block alert-success\">\n",
    "<b>Reviewer's comment v1:</b>\n",
    "    \n",
    "A good start and first view on data. \n",
    "It is always helpful to calculate the percentage of missing values. It helps to understand the overall impact and to make a more weighted decision regarding what to do next.\n",
    "    \n",
    "Also great that all imports and data load are grouped in different cells before the project.\n",
    "\n",
    "\n",
    "</div>"
   ]
  },
  {
   "cell_type": "markdown",
   "metadata": {},
   "source": [
    "The results above show the percentage of missing values for each column. The variable `is_4wd` has 50.37% of its data missing, which is a lot! About 18% of the `paint_color` are missing values. The columns `odometer`, `cylinders`, and `model_year` have around 15%, 10% and 7% missing values, respectively. "
   ]
  },
  {
   "cell_type": "markdown",
   "metadata": {},
   "source": [
    "### Conclusions and further steps\n",
    "\n",
    "Initial exploration of the dataset reveals the following findings with action steps:\n",
    "1. The columns `price`, `condition`, `fuel`, `transmission` and `type` look reasonable so far. \n",
    "2. The columns `model_year` and `date_posted` should have datatime data type. Becasue the age of cars is critical for its sale price, we should create a new variable that calculates the age of cars. \n",
    "3. The column `model` looks ok. But we might need to re-code its values to make them easy to work with. \n",
    "4. The data type of the `cylinders` column should be changed to integer data type. \n",
    "5. The column `is_4wd` has about 50% of values missing. \n",
    "6. The column `paint_color` has about 18% of values missing. \n",
    "7. We will remove the columns `is_4wd` and `paint_color` from the dataset because they do not appear to be key variables for cars' price. \n",
    "8. The variables `odometer`, `cylinders`, and `model_year` are important for determining cars' price. We will keep these columns and remove all rows with missing values in the `odometer`, `cylinders`, and `model_year` columns."
   ]
  },
  {
   "cell_type": "markdown",
   "metadata": {},
   "source": [
    "## Treat missing values (if any)"
   ]
  },
  {
   "cell_type": "code",
   "execution_count": 6,
   "metadata": {
    "scrolled": false
   },
   "outputs": [
    {
     "name": "stdout",
     "output_type": "stream",
     "text": [
      "price           0.0\n",
      "model_year      0.0\n",
      "model           0.0\n",
      "condition       0.0\n",
      "cylinders       0.0\n",
      "fuel            0.0\n",
      "odometer        0.0\n",
      "transmission    0.0\n",
      "type            0.0\n",
      "date_posted     0.0\n",
      "days_listed     0.0\n",
      "dtype: float64\n"
     ]
    }
   ],
   "source": [
    "car_data2 = car_data.drop(['is_4wd', 'paint_color'], axis=1)\n",
    "\n",
    "car_data2.dropna(subset=['model_year', 'cylinders', 'odometer'], axis=0, inplace=True )\n",
    "missing_perct = (car_data2.isna().sum())/car_data2.shape[0]*100\n",
    "print(missing_perct)"
   ]
  },
  {
   "cell_type": "markdown",
   "metadata": {},
   "source": [
    "We removed the columns `is_4wd` and `paint_color` from the dataset because they do not appear to be key variables for cars' price. Moreover, the variables `odometer`, `cylinders`, and `model_year` might be important for determining cars' price. So we kept these columns and removed all rows with missing values in these three columns. Now there are no missing values in the dataset. "
   ]
  },
  {
   "cell_type": "markdown",
   "metadata": {},
   "source": [
    "<div class=\"alert alert-block alert-danger\">\n",
    "<b>Reviewer's comment v1:</b>\n",
    "\n",
    "That is a good start and you have a clear reasoning. However in many cases it is more beneficial to try to restore missing data, as by deleting it we can lose potentially important insights. \n",
    "\n",
    "**`is_4wd`**\n",
    "    \n",
    "`is_4wd` contains a boolean type of information (yes/no). So filling missing data with 0 will allow us to keep a potentially useful feature.\n",
    "    \n",
    "**`paint_color`**   \n",
    "\n",
    "So, here I can recommend to fill it with 'unknown' or any other placeholder, as it is not possible to fill this value based on other car features.\n",
    "    \n",
    "For other columns it can be helpful to try to restore missing data. Here we can check the relationship between feature with missing values and other vehicle characteristics to find a grouped value. \n",
    "    \n",
    "**`model_year`**\n",
    "  \n",
    "Potentially model_year could be indeed correlated with odometer or car condition.\n",
    "\n",
    "And you can use the following code as an example: \n",
    "    \n",
    "    data['odometer']= data['odometer'].fillna(data.groupby(['model_year', 'condition'])['odometer'].transform('median'))\n",
    "    \n",
    "Can you please give it a try?"
   ]
  },
  {
   "cell_type": "markdown",
   "metadata": {},
   "source": [
    "## Fix data types"
   ]
  },
  {
   "cell_type": "code",
   "execution_count": 7,
   "metadata": {
    "scrolled": true
   },
   "outputs": [
    {
     "name": "stdout",
     "output_type": "stream",
     "text": [
      "<class 'pandas.core.frame.DataFrame'>\n",
      "Int64Index: 36419 entries, 0 to 51523\n",
      "Data columns (total 11 columns):\n",
      "price           36419 non-null int64\n",
      "model_year      36419 non-null datetime64[ns]\n",
      "model           36419 non-null object\n",
      "condition       36419 non-null object\n",
      "cylinders       36419 non-null int32\n",
      "fuel            36419 non-null object\n",
      "odometer        36419 non-null float64\n",
      "transmission    36419 non-null object\n",
      "type            36419 non-null object\n",
      "date_posted     36419 non-null datetime64[ns]\n",
      "days_listed     36419 non-null int64\n",
      "dtypes: datetime64[ns](2), float64(1), int32(1), int64(2), object(5)\n",
      "memory usage: 3.2+ MB\n"
     ]
    }
   ],
   "source": [
    "car_data2['model_year'] = pd.to_datetime(car_data2['model_year'], format='%Y')\n",
    "\n",
    "# Add datetime values for when the ad was placed\n",
    "car_data2['date_posted'] = pd.to_datetime(car_data2['date_posted'], format='%Y-%m-%d')\n",
    "\n",
    "car_data2['cylinders'] = car_data2['cylinders'].astype('int32')\n",
    "car_data2.info()"
   ]
  },
  {
   "cell_type": "markdown",
   "metadata": {},
   "source": [
    "<div class=\"alert alert-success\">\n",
    "<b>Reviewer's comment v1:</b>\n",
    "    \n",
    "Great that you checked data types."
   ]
  },
  {
   "cell_type": "markdown",
   "metadata": {},
   "source": [
    "We changed the data type of the columns `model_year` and `date_posted` to datatime data type. We also changed the data type of the column `cylinders` to integer data type. Then, we look at the general information of the dataset again, all columns now have reasonable data types. "
   ]
  },
  {
   "cell_type": "markdown",
   "metadata": {},
   "source": [
    "## Enrich data"
   ]
  },
  {
   "cell_type": "code",
   "execution_count": 8,
   "metadata": {
    "scrolled": true
   },
   "outputs": [
    {
     "data": {
      "text/plain": [
       "count    36419.000000\n",
       "mean         9.066639\n",
       "std          6.273583\n",
       "min          0.000000\n",
       "25%          4.523288\n",
       "50%          7.969863\n",
       "75%         12.553425\n",
       "max        110.586301\n",
       "Name: age, dtype: float64"
      ]
     },
     "execution_count": 8,
     "metadata": {},
     "output_type": "execute_result"
    }
   ],
   "source": [
    "# Add the vehicle's age when the ad was placed\n",
    "car_data2['age'] = (car_data2['date_posted']  - car_data2['model_year']).dt.days/365\n",
    "# car_data2\n",
    "# car_data2.info()\n",
    "car_data2['age'].describe()"
   ]
  },
  {
   "cell_type": "markdown",
   "metadata": {},
   "source": [
    "<div class=\"alert alert-warning\">\n",
    "<b>Reviewer's comment v1:</b>\n",
    "    \n",
    "Here you can slso add  +1 to the equation above to take into account the current year. Otherwise, it will lead to multiple 0 in `vehicle_age` (as below) and as a result infinite values in `yearly_mileage`. \n",
    "\n"
   ]
  },
  {
   "cell_type": "markdown",
   "metadata": {},
   "source": [
    "Some cars have `age` = 0 and those might be new cars! Some cars have `age` = 110.586. Those seem to be really old cars. Let's find out more about cars with `age` = 0. "
   ]
  },
  {
   "cell_type": "code",
   "execution_count": 9,
   "metadata": {
    "scrolled": true
   },
   "outputs": [
    {
     "data": {
      "text/html": [
       "<div>\n",
       "<style scoped>\n",
       "    .dataframe tbody tr th:only-of-type {\n",
       "        vertical-align: middle;\n",
       "    }\n",
       "\n",
       "    .dataframe tbody tr th {\n",
       "        vertical-align: top;\n",
       "    }\n",
       "\n",
       "    .dataframe thead th {\n",
       "        text-align: right;\n",
       "    }\n",
       "</style>\n",
       "<table border=\"1\" class=\"dataframe\">\n",
       "  <thead>\n",
       "    <tr style=\"text-align: right;\">\n",
       "      <th></th>\n",
       "      <th>price</th>\n",
       "      <th>model_year</th>\n",
       "      <th>model</th>\n",
       "      <th>condition</th>\n",
       "      <th>cylinders</th>\n",
       "      <th>fuel</th>\n",
       "      <th>odometer</th>\n",
       "      <th>transmission</th>\n",
       "      <th>type</th>\n",
       "      <th>date_posted</th>\n",
       "      <th>days_listed</th>\n",
       "      <th>age</th>\n",
       "    </tr>\n",
       "  </thead>\n",
       "  <tbody>\n",
       "    <tr>\n",
       "      <td>10176</td>\n",
       "      <td>21400</td>\n",
       "      <td>2019-01-01</td>\n",
       "      <td>nissan frontier crew cab sv</td>\n",
       "      <td>good</td>\n",
       "      <td>6</td>\n",
       "      <td>gas</td>\n",
       "      <td>30062.0</td>\n",
       "      <td>other</td>\n",
       "      <td>pickup</td>\n",
       "      <td>2019-01-01</td>\n",
       "      <td>47</td>\n",
       "      <td>0.0</td>\n",
       "    </tr>\n",
       "    <tr>\n",
       "      <td>50707</td>\n",
       "      <td>17459</td>\n",
       "      <td>2019-01-01</td>\n",
       "      <td>dodge grand caravan</td>\n",
       "      <td>excellent</td>\n",
       "      <td>6</td>\n",
       "      <td>gas</td>\n",
       "      <td>47000.0</td>\n",
       "      <td>automatic</td>\n",
       "      <td>van</td>\n",
       "      <td>2019-01-01</td>\n",
       "      <td>6</td>\n",
       "      <td>0.0</td>\n",
       "    </tr>\n",
       "  </tbody>\n",
       "</table>\n",
       "</div>"
      ],
      "text/plain": [
       "       price model_year                        model  condition  cylinders  \\\n",
       "10176  21400 2019-01-01  nissan frontier crew cab sv       good          6   \n",
       "50707  17459 2019-01-01          dodge grand caravan  excellent          6   \n",
       "\n",
       "      fuel  odometer transmission    type date_posted  days_listed  age  \n",
       "10176  gas   30062.0        other  pickup  2019-01-01           47  0.0  \n",
       "50707  gas   47000.0    automatic     van  2019-01-01            6  0.0  "
      ]
     },
     "execution_count": 9,
     "metadata": {},
     "output_type": "execute_result"
    }
   ],
   "source": [
    "car_data2[(car_data2['age'] == 0)]"
   ]
  },
  {
   "cell_type": "markdown",
   "metadata": {},
   "source": [
    "Two cars has `age` = 0 but their odometer reading is not 0! That does not makes sense because if their age is correct, then they are new cars and their odometer reading should be 0 too! Thus, we will delete these two rows from the dataset. "
   ]
  },
  {
   "cell_type": "code",
   "execution_count": 10,
   "metadata": {},
   "outputs": [],
   "source": [
    "car_data2 = car_data2[(car_data2['age'] > 0)]"
   ]
  },
  {
   "cell_type": "code",
   "execution_count": 11,
   "metadata": {},
   "outputs": [],
   "source": [
    "# Add the vehicle's average mileage per year\n",
    "\n",
    "car_data2['yearly_mileage'] = np.round(car_data2['odometer'] /car_data2['age'])\n",
    "# car_data2"
   ]
  },
  {
   "cell_type": "code",
   "execution_count": 12,
   "metadata": {
    "scrolled": false
   },
   "outputs": [
    {
     "data": {
      "text/plain": [
       "excellent    17465\n",
       "good         14256\n",
       "like new      3363\n",
       "fair          1148\n",
       "new            105\n",
       "salvage         80\n",
       "Name: condition, dtype: int64"
      ]
     },
     "execution_count": 12,
     "metadata": {},
     "output_type": "execute_result"
    }
   ],
   "source": [
    "# look at the unique values and counts for the condition column\n",
    "\n",
    "car_data2['condition'].value_counts()"
   ]
  },
  {
   "cell_type": "code",
   "execution_count": 13,
   "metadata": {},
   "outputs": [
    {
     "data": {
      "text/html": [
       "<div>\n",
       "<style scoped>\n",
       "    .dataframe tbody tr th:only-of-type {\n",
       "        vertical-align: middle;\n",
       "    }\n",
       "\n",
       "    .dataframe tbody tr th {\n",
       "        vertical-align: top;\n",
       "    }\n",
       "\n",
       "    .dataframe thead th {\n",
       "        text-align: right;\n",
       "    }\n",
       "</style>\n",
       "<table border=\"1\" class=\"dataframe\">\n",
       "  <thead>\n",
       "    <tr style=\"text-align: right;\">\n",
       "      <th></th>\n",
       "      <th>price</th>\n",
       "      <th>model_year</th>\n",
       "      <th>model</th>\n",
       "      <th>condition</th>\n",
       "      <th>cylinders</th>\n",
       "      <th>fuel</th>\n",
       "      <th>odometer</th>\n",
       "      <th>transmission</th>\n",
       "      <th>type</th>\n",
       "      <th>date_posted</th>\n",
       "      <th>days_listed</th>\n",
       "      <th>age</th>\n",
       "      <th>yearly_mileage</th>\n",
       "    </tr>\n",
       "  </thead>\n",
       "  <tbody>\n",
       "    <tr>\n",
       "      <td>317</td>\n",
       "      <td>600</td>\n",
       "      <td>1999-01-01</td>\n",
       "      <td>toyota camry le</td>\n",
       "      <td>salvage</td>\n",
       "      <td>4</td>\n",
       "      <td>gas</td>\n",
       "      <td>216348.0</td>\n",
       "      <td>automatic</td>\n",
       "      <td>sedan</td>\n",
       "      <td>2019-03-04</td>\n",
       "      <td>23</td>\n",
       "      <td>20.183562</td>\n",
       "      <td>10719.0</td>\n",
       "    </tr>\n",
       "    <tr>\n",
       "      <td>439</td>\n",
       "      <td>1000</td>\n",
       "      <td>2008-01-01</td>\n",
       "      <td>ford f150</td>\n",
       "      <td>salvage</td>\n",
       "      <td>8</td>\n",
       "      <td>gas</td>\n",
       "      <td>285000.0</td>\n",
       "      <td>automatic</td>\n",
       "      <td>pickup</td>\n",
       "      <td>2018-10-19</td>\n",
       "      <td>19</td>\n",
       "      <td>10.805479</td>\n",
       "      <td>26376.0</td>\n",
       "    </tr>\n",
       "    <tr>\n",
       "      <td>519</td>\n",
       "      <td>5500</td>\n",
       "      <td>2012-01-01</td>\n",
       "      <td>nissan frontier</td>\n",
       "      <td>salvage</td>\n",
       "      <td>6</td>\n",
       "      <td>gas</td>\n",
       "      <td>120000.0</td>\n",
       "      <td>automatic</td>\n",
       "      <td>truck</td>\n",
       "      <td>2018-05-20</td>\n",
       "      <td>9</td>\n",
       "      <td>6.386301</td>\n",
       "      <td>18790.0</td>\n",
       "    </tr>\n",
       "    <tr>\n",
       "      <td>686</td>\n",
       "      <td>999</td>\n",
       "      <td>1995-01-01</td>\n",
       "      <td>toyota 4runner</td>\n",
       "      <td>salvage</td>\n",
       "      <td>6</td>\n",
       "      <td>gas</td>\n",
       "      <td>164221.0</td>\n",
       "      <td>automatic</td>\n",
       "      <td>SUV</td>\n",
       "      <td>2018-05-03</td>\n",
       "      <td>33</td>\n",
       "      <td>23.350685</td>\n",
       "      <td>7033.0</td>\n",
       "    </tr>\n",
       "    <tr>\n",
       "      <td>1503</td>\n",
       "      <td>850</td>\n",
       "      <td>2003-01-01</td>\n",
       "      <td>honda civic</td>\n",
       "      <td>salvage</td>\n",
       "      <td>4</td>\n",
       "      <td>hybrid</td>\n",
       "      <td>229704.0</td>\n",
       "      <td>automatic</td>\n",
       "      <td>sedan</td>\n",
       "      <td>2018-12-23</td>\n",
       "      <td>39</td>\n",
       "      <td>15.986301</td>\n",
       "      <td>14369.0</td>\n",
       "    </tr>\n",
       "    <tr>\n",
       "      <td>...</td>\n",
       "      <td>...</td>\n",
       "      <td>...</td>\n",
       "      <td>...</td>\n",
       "      <td>...</td>\n",
       "      <td>...</td>\n",
       "      <td>...</td>\n",
       "      <td>...</td>\n",
       "      <td>...</td>\n",
       "      <td>...</td>\n",
       "      <td>...</td>\n",
       "      <td>...</td>\n",
       "      <td>...</td>\n",
       "      <td>...</td>\n",
       "    </tr>\n",
       "    <tr>\n",
       "      <td>49724</td>\n",
       "      <td>1500</td>\n",
       "      <td>1994-01-01</td>\n",
       "      <td>jeep wrangler</td>\n",
       "      <td>salvage</td>\n",
       "      <td>4</td>\n",
       "      <td>gas</td>\n",
       "      <td>173000.0</td>\n",
       "      <td>manual</td>\n",
       "      <td>SUV</td>\n",
       "      <td>2019-03-30</td>\n",
       "      <td>9</td>\n",
       "      <td>25.257534</td>\n",
       "      <td>6849.0</td>\n",
       "    </tr>\n",
       "    <tr>\n",
       "      <td>50167</td>\n",
       "      <td>1000</td>\n",
       "      <td>1999-01-01</td>\n",
       "      <td>jeep cherokee</td>\n",
       "      <td>salvage</td>\n",
       "      <td>6</td>\n",
       "      <td>gas</td>\n",
       "      <td>207000.0</td>\n",
       "      <td>automatic</td>\n",
       "      <td>SUV</td>\n",
       "      <td>2018-06-20</td>\n",
       "      <td>43</td>\n",
       "      <td>19.479452</td>\n",
       "      <td>10627.0</td>\n",
       "    </tr>\n",
       "    <tr>\n",
       "      <td>50213</td>\n",
       "      <td>850</td>\n",
       "      <td>1997-01-01</td>\n",
       "      <td>ford f150</td>\n",
       "      <td>salvage</td>\n",
       "      <td>8</td>\n",
       "      <td>gas</td>\n",
       "      <td>238240.0</td>\n",
       "      <td>automatic</td>\n",
       "      <td>pickup</td>\n",
       "      <td>2019-01-20</td>\n",
       "      <td>7</td>\n",
       "      <td>22.065753</td>\n",
       "      <td>10797.0</td>\n",
       "    </tr>\n",
       "    <tr>\n",
       "      <td>50816</td>\n",
       "      <td>5000</td>\n",
       "      <td>2017-01-01</td>\n",
       "      <td>dodge grand caravan</td>\n",
       "      <td>salvage</td>\n",
       "      <td>6</td>\n",
       "      <td>gas</td>\n",
       "      <td>20000.0</td>\n",
       "      <td>automatic</td>\n",
       "      <td>mini-van</td>\n",
       "      <td>2018-08-18</td>\n",
       "      <td>7</td>\n",
       "      <td>1.627397</td>\n",
       "      <td>12290.0</td>\n",
       "    </tr>\n",
       "    <tr>\n",
       "      <td>51521</td>\n",
       "      <td>2700</td>\n",
       "      <td>2002-01-01</td>\n",
       "      <td>honda civic</td>\n",
       "      <td>salvage</td>\n",
       "      <td>4</td>\n",
       "      <td>gas</td>\n",
       "      <td>181500.0</td>\n",
       "      <td>automatic</td>\n",
       "      <td>sedan</td>\n",
       "      <td>2018-11-14</td>\n",
       "      <td>22</td>\n",
       "      <td>16.879452</td>\n",
       "      <td>10753.0</td>\n",
       "    </tr>\n",
       "  </tbody>\n",
       "</table>\n",
       "<p>80 rows × 13 columns</p>\n",
       "</div>"
      ],
      "text/plain": [
       "       price model_year                model condition  cylinders    fuel  \\\n",
       "317      600 1999-01-01      toyota camry le   salvage          4     gas   \n",
       "439     1000 2008-01-01            ford f150   salvage          8     gas   \n",
       "519     5500 2012-01-01      nissan frontier   salvage          6     gas   \n",
       "686      999 1995-01-01       toyota 4runner   salvage          6     gas   \n",
       "1503     850 2003-01-01          honda civic   salvage          4  hybrid   \n",
       "...      ...        ...                  ...       ...        ...     ...   \n",
       "49724   1500 1994-01-01        jeep wrangler   salvage          4     gas   \n",
       "50167   1000 1999-01-01        jeep cherokee   salvage          6     gas   \n",
       "50213    850 1997-01-01            ford f150   salvage          8     gas   \n",
       "50816   5000 2017-01-01  dodge grand caravan   salvage          6     gas   \n",
       "51521   2700 2002-01-01          honda civic   salvage          4     gas   \n",
       "\n",
       "       odometer transmission      type date_posted  days_listed        age  \\\n",
       "317    216348.0    automatic     sedan  2019-03-04           23  20.183562   \n",
       "439    285000.0    automatic    pickup  2018-10-19           19  10.805479   \n",
       "519    120000.0    automatic     truck  2018-05-20            9   6.386301   \n",
       "686    164221.0    automatic       SUV  2018-05-03           33  23.350685   \n",
       "1503   229704.0    automatic     sedan  2018-12-23           39  15.986301   \n",
       "...         ...          ...       ...         ...          ...        ...   \n",
       "49724  173000.0       manual       SUV  2019-03-30            9  25.257534   \n",
       "50167  207000.0    automatic       SUV  2018-06-20           43  19.479452   \n",
       "50213  238240.0    automatic    pickup  2019-01-20            7  22.065753   \n",
       "50816   20000.0    automatic  mini-van  2018-08-18            7   1.627397   \n",
       "51521  181500.0    automatic     sedan  2018-11-14           22  16.879452   \n",
       "\n",
       "       yearly_mileage  \n",
       "317           10719.0  \n",
       "439           26376.0  \n",
       "519           18790.0  \n",
       "686            7033.0  \n",
       "1503          14369.0  \n",
       "...               ...  \n",
       "49724          6849.0  \n",
       "50167         10627.0  \n",
       "50213         10797.0  \n",
       "50816         12290.0  \n",
       "51521         10753.0  \n",
       "\n",
       "[80 rows x 13 columns]"
      ]
     },
     "execution_count": 13,
     "metadata": {},
     "output_type": "execute_result"
    }
   ],
   "source": [
    "car_data2[(car_data2['condition'] == 'salvage')]"
   ]
  },
  {
   "cell_type": "code",
   "execution_count": 14,
   "metadata": {},
   "outputs": [],
   "source": [
    "# Let's write a function that replace the condition values with something that can be manipulated more easily\n",
    "\n",
    "def recode_condition(condition):\n",
    "    \n",
    "    if condition ==  'salvage':\n",
    "        return 0\n",
    "    elif condition ==  'fair':\n",
    "        return 1\n",
    "    elif condition ==  'good':\n",
    "        return 2\n",
    "    elif condition ==  'excellent':\n",
    "        return 3\n",
    "    elif condition ==  'like new':\n",
    "        return 4\n",
    "    else:\n",
    "        return 5"
   ]
  },
  {
   "cell_type": "code",
   "execution_count": 15,
   "metadata": {},
   "outputs": [],
   "source": [
    "car_data2['condition'] = car_data2['condition'].apply(recode_condition)"
   ]
  },
  {
   "cell_type": "markdown",
   "metadata": {},
   "source": [
    "## Check clean data"
   ]
  },
  {
   "cell_type": "code",
   "execution_count": 16,
   "metadata": {
    "scrolled": true
   },
   "outputs": [
    {
     "name": "stdout",
     "output_type": "stream",
     "text": [
      "<class 'pandas.core.frame.DataFrame'>\n",
      "Int64Index: 36417 entries, 0 to 51523\n",
      "Data columns (total 13 columns):\n",
      "price             36417 non-null int64\n",
      "model_year        36417 non-null datetime64[ns]\n",
      "model             36417 non-null object\n",
      "condition         36417 non-null int64\n",
      "cylinders         36417 non-null int32\n",
      "fuel              36417 non-null object\n",
      "odometer          36417 non-null float64\n",
      "transmission      36417 non-null object\n",
      "type              36417 non-null object\n",
      "date_posted       36417 non-null datetime64[ns]\n",
      "days_listed       36417 non-null int64\n",
      "age               36417 non-null float64\n",
      "yearly_mileage    36417 non-null float64\n",
      "dtypes: datetime64[ns](2), float64(3), int32(1), int64(3), object(4)\n",
      "memory usage: 3.8+ MB\n"
     ]
    }
   ],
   "source": [
    "# print the general/summary information about the DataFrame\n",
    "\n",
    "car_data2.info()"
   ]
  },
  {
   "cell_type": "code",
   "execution_count": 17,
   "metadata": {},
   "outputs": [
    {
     "data": {
      "text/html": [
       "<div>\n",
       "<style scoped>\n",
       "    .dataframe tbody tr th:only-of-type {\n",
       "        vertical-align: middle;\n",
       "    }\n",
       "\n",
       "    .dataframe tbody tr th {\n",
       "        vertical-align: top;\n",
       "    }\n",
       "\n",
       "    .dataframe thead th {\n",
       "        text-align: right;\n",
       "    }\n",
       "</style>\n",
       "<table border=\"1\" class=\"dataframe\">\n",
       "  <thead>\n",
       "    <tr style=\"text-align: right;\">\n",
       "      <th></th>\n",
       "      <th>price</th>\n",
       "      <th>model_year</th>\n",
       "      <th>model</th>\n",
       "      <th>condition</th>\n",
       "      <th>cylinders</th>\n",
       "      <th>fuel</th>\n",
       "      <th>odometer</th>\n",
       "      <th>transmission</th>\n",
       "      <th>type</th>\n",
       "      <th>date_posted</th>\n",
       "      <th>days_listed</th>\n",
       "      <th>age</th>\n",
       "      <th>yearly_mileage</th>\n",
       "    </tr>\n",
       "  </thead>\n",
       "  <tbody>\n",
       "    <tr>\n",
       "      <td>0</td>\n",
       "      <td>9400</td>\n",
       "      <td>2011-01-01</td>\n",
       "      <td>bmw x5</td>\n",
       "      <td>2</td>\n",
       "      <td>6</td>\n",
       "      <td>gas</td>\n",
       "      <td>145000.0</td>\n",
       "      <td>automatic</td>\n",
       "      <td>SUV</td>\n",
       "      <td>2018-06-23</td>\n",
       "      <td>19</td>\n",
       "      <td>7.479452</td>\n",
       "      <td>19386.0</td>\n",
       "    </tr>\n",
       "    <tr>\n",
       "      <td>2</td>\n",
       "      <td>5500</td>\n",
       "      <td>2013-01-01</td>\n",
       "      <td>hyundai sonata</td>\n",
       "      <td>4</td>\n",
       "      <td>4</td>\n",
       "      <td>gas</td>\n",
       "      <td>110000.0</td>\n",
       "      <td>automatic</td>\n",
       "      <td>sedan</td>\n",
       "      <td>2019-02-07</td>\n",
       "      <td>79</td>\n",
       "      <td>6.104110</td>\n",
       "      <td>18021.0</td>\n",
       "    </tr>\n",
       "    <tr>\n",
       "      <td>4</td>\n",
       "      <td>14900</td>\n",
       "      <td>2017-01-01</td>\n",
       "      <td>chrysler 200</td>\n",
       "      <td>3</td>\n",
       "      <td>4</td>\n",
       "      <td>gas</td>\n",
       "      <td>80903.0</td>\n",
       "      <td>automatic</td>\n",
       "      <td>sedan</td>\n",
       "      <td>2019-04-02</td>\n",
       "      <td>28</td>\n",
       "      <td>2.249315</td>\n",
       "      <td>35968.0</td>\n",
       "    </tr>\n",
       "    <tr>\n",
       "      <td>5</td>\n",
       "      <td>14990</td>\n",
       "      <td>2014-01-01</td>\n",
       "      <td>chrysler 300</td>\n",
       "      <td>3</td>\n",
       "      <td>6</td>\n",
       "      <td>gas</td>\n",
       "      <td>57954.0</td>\n",
       "      <td>automatic</td>\n",
       "      <td>sedan</td>\n",
       "      <td>2018-06-20</td>\n",
       "      <td>15</td>\n",
       "      <td>4.468493</td>\n",
       "      <td>12969.0</td>\n",
       "    </tr>\n",
       "    <tr>\n",
       "      <td>6</td>\n",
       "      <td>12990</td>\n",
       "      <td>2015-01-01</td>\n",
       "      <td>toyota camry</td>\n",
       "      <td>3</td>\n",
       "      <td>4</td>\n",
       "      <td>gas</td>\n",
       "      <td>79212.0</td>\n",
       "      <td>automatic</td>\n",
       "      <td>sedan</td>\n",
       "      <td>2018-12-27</td>\n",
       "      <td>73</td>\n",
       "      <td>3.989041</td>\n",
       "      <td>19857.0</td>\n",
       "    </tr>\n",
       "    <tr>\n",
       "      <td>7</td>\n",
       "      <td>15990</td>\n",
       "      <td>2013-01-01</td>\n",
       "      <td>honda pilot</td>\n",
       "      <td>3</td>\n",
       "      <td>6</td>\n",
       "      <td>gas</td>\n",
       "      <td>109473.0</td>\n",
       "      <td>automatic</td>\n",
       "      <td>SUV</td>\n",
       "      <td>2019-01-07</td>\n",
       "      <td>68</td>\n",
       "      <td>6.019178</td>\n",
       "      <td>18187.0</td>\n",
       "    </tr>\n",
       "    <tr>\n",
       "      <td>8</td>\n",
       "      <td>11500</td>\n",
       "      <td>2012-01-01</td>\n",
       "      <td>kia sorento</td>\n",
       "      <td>3</td>\n",
       "      <td>4</td>\n",
       "      <td>gas</td>\n",
       "      <td>104174.0</td>\n",
       "      <td>automatic</td>\n",
       "      <td>SUV</td>\n",
       "      <td>2018-07-16</td>\n",
       "      <td>19</td>\n",
       "      <td>6.542466</td>\n",
       "      <td>15923.0</td>\n",
       "    </tr>\n",
       "    <tr>\n",
       "      <td>10</td>\n",
       "      <td>19500</td>\n",
       "      <td>2011-01-01</td>\n",
       "      <td>chevrolet silverado 1500</td>\n",
       "      <td>3</td>\n",
       "      <td>8</td>\n",
       "      <td>gas</td>\n",
       "      <td>128413.0</td>\n",
       "      <td>automatic</td>\n",
       "      <td>pickup</td>\n",
       "      <td>2018-09-17</td>\n",
       "      <td>38</td>\n",
       "      <td>7.715068</td>\n",
       "      <td>16644.0</td>\n",
       "    </tr>\n",
       "    <tr>\n",
       "      <td>11</td>\n",
       "      <td>8990</td>\n",
       "      <td>2012-01-01</td>\n",
       "      <td>honda accord</td>\n",
       "      <td>3</td>\n",
       "      <td>4</td>\n",
       "      <td>gas</td>\n",
       "      <td>111142.0</td>\n",
       "      <td>automatic</td>\n",
       "      <td>sedan</td>\n",
       "      <td>2019-03-28</td>\n",
       "      <td>29</td>\n",
       "      <td>7.241096</td>\n",
       "      <td>15349.0</td>\n",
       "    </tr>\n",
       "    <tr>\n",
       "      <td>12</td>\n",
       "      <td>18990</td>\n",
       "      <td>2012-01-01</td>\n",
       "      <td>ram 1500</td>\n",
       "      <td>3</td>\n",
       "      <td>8</td>\n",
       "      <td>gas</td>\n",
       "      <td>140742.0</td>\n",
       "      <td>automatic</td>\n",
       "      <td>pickup</td>\n",
       "      <td>2019-04-02</td>\n",
       "      <td>37</td>\n",
       "      <td>7.254795</td>\n",
       "      <td>19400.0</td>\n",
       "    </tr>\n",
       "  </tbody>\n",
       "</table>\n",
       "</div>"
      ],
      "text/plain": [
       "    price model_year                     model  condition  cylinders fuel  \\\n",
       "0    9400 2011-01-01                    bmw x5          2          6  gas   \n",
       "2    5500 2013-01-01            hyundai sonata          4          4  gas   \n",
       "4   14900 2017-01-01              chrysler 200          3          4  gas   \n",
       "5   14990 2014-01-01              chrysler 300          3          6  gas   \n",
       "6   12990 2015-01-01              toyota camry          3          4  gas   \n",
       "7   15990 2013-01-01               honda pilot          3          6  gas   \n",
       "8   11500 2012-01-01               kia sorento          3          4  gas   \n",
       "10  19500 2011-01-01  chevrolet silverado 1500          3          8  gas   \n",
       "11   8990 2012-01-01              honda accord          3          4  gas   \n",
       "12  18990 2012-01-01                  ram 1500          3          8  gas   \n",
       "\n",
       "    odometer transmission    type date_posted  days_listed       age  \\\n",
       "0   145000.0    automatic     SUV  2018-06-23           19  7.479452   \n",
       "2   110000.0    automatic   sedan  2019-02-07           79  6.104110   \n",
       "4    80903.0    automatic   sedan  2019-04-02           28  2.249315   \n",
       "5    57954.0    automatic   sedan  2018-06-20           15  4.468493   \n",
       "6    79212.0    automatic   sedan  2018-12-27           73  3.989041   \n",
       "7   109473.0    automatic     SUV  2019-01-07           68  6.019178   \n",
       "8   104174.0    automatic     SUV  2018-07-16           19  6.542466   \n",
       "10  128413.0    automatic  pickup  2018-09-17           38  7.715068   \n",
       "11  111142.0    automatic   sedan  2019-03-28           29  7.241096   \n",
       "12  140742.0    automatic  pickup  2019-04-02           37  7.254795   \n",
       "\n",
       "    yearly_mileage  \n",
       "0          19386.0  \n",
       "2          18021.0  \n",
       "4          35968.0  \n",
       "5          12969.0  \n",
       "6          19857.0  \n",
       "7          18187.0  \n",
       "8          15923.0  \n",
       "10         16644.0  \n",
       "11         15349.0  \n",
       "12         19400.0  "
      ]
     },
     "execution_count": 17,
     "metadata": {},
     "output_type": "execute_result"
    }
   ],
   "source": [
    "# print a sample of data\n",
    "\n",
    "car_data2.head(10)"
   ]
  },
  {
   "cell_type": "markdown",
   "metadata": {},
   "source": [
    "## Study core parameters\n",
    "\n",
    "The parameters are\n",
    "- Price\n",
    "- The vehicle's age when the ad was placed\n",
    "- Mileage\n",
    "- Number of cylinders\n",
    "- Condition"
   ]
  },
  {
   "cell_type": "code",
   "execution_count": 18,
   "metadata": {},
   "outputs": [
    {
     "data": {
      "text/html": [
       "<div>\n",
       "<style scoped>\n",
       "    .dataframe tbody tr th:only-of-type {\n",
       "        vertical-align: middle;\n",
       "    }\n",
       "\n",
       "    .dataframe tbody tr th {\n",
       "        vertical-align: top;\n",
       "    }\n",
       "\n",
       "    .dataframe thead th {\n",
       "        text-align: right;\n",
       "    }\n",
       "</style>\n",
       "<table border=\"1\" class=\"dataframe\">\n",
       "  <thead>\n",
       "    <tr style=\"text-align: right;\">\n",
       "      <th></th>\n",
       "      <th>price</th>\n",
       "      <th>condition</th>\n",
       "      <th>cylinders</th>\n",
       "      <th>odometer</th>\n",
       "      <th>days_listed</th>\n",
       "      <th>age</th>\n",
       "      <th>yearly_mileage</th>\n",
       "    </tr>\n",
       "  </thead>\n",
       "  <tbody>\n",
       "    <tr>\n",
       "      <td>count</td>\n",
       "      <td>36417.000000</td>\n",
       "      <td>36417.000000</td>\n",
       "      <td>36417.000000</td>\n",
       "      <td>36417.000000</td>\n",
       "      <td>36417.000000</td>\n",
       "      <td>36417.000000</td>\n",
       "      <td>3.641700e+04</td>\n",
       "    </tr>\n",
       "    <tr>\n",
       "      <td>mean</td>\n",
       "      <td>12187.277700</td>\n",
       "      <td>2.637010</td>\n",
       "      <td>6.132603</td>\n",
       "      <td>115327.850152</td>\n",
       "      <td>39.650520</td>\n",
       "      <td>9.067136</td>\n",
       "      <td>1.880732e+04</td>\n",
       "    </tr>\n",
       "    <tr>\n",
       "      <td>std</td>\n",
       "      <td>10076.862885</td>\n",
       "      <td>0.713767</td>\n",
       "      <td>1.659692</td>\n",
       "      <td>65067.917757</td>\n",
       "      <td>28.119584</td>\n",
       "      <td>6.273396</td>\n",
       "      <td>7.189982e+04</td>\n",
       "    </tr>\n",
       "    <tr>\n",
       "      <td>min</td>\n",
       "      <td>1.000000</td>\n",
       "      <td>0.000000</td>\n",
       "      <td>3.000000</td>\n",
       "      <td>0.000000</td>\n",
       "      <td>0.000000</td>\n",
       "      <td>0.002740</td>\n",
       "      <td>0.000000e+00</td>\n",
       "    </tr>\n",
       "    <tr>\n",
       "      <td>25%</td>\n",
       "      <td>5000.000000</td>\n",
       "      <td>2.000000</td>\n",
       "      <td>4.000000</td>\n",
       "      <td>69855.000000</td>\n",
       "      <td>19.000000</td>\n",
       "      <td>4.523288</td>\n",
       "      <td>1.011700e+04</td>\n",
       "    </tr>\n",
       "    <tr>\n",
       "      <td>50%</td>\n",
       "      <td>9000.000000</td>\n",
       "      <td>3.000000</td>\n",
       "      <td>6.000000</td>\n",
       "      <td>113000.000000</td>\n",
       "      <td>33.000000</td>\n",
       "      <td>7.972603</td>\n",
       "      <td>1.418500e+04</td>\n",
       "    </tr>\n",
       "    <tr>\n",
       "      <td>75%</td>\n",
       "      <td>16900.000000</td>\n",
       "      <td>3.000000</td>\n",
       "      <td>8.000000</td>\n",
       "      <td>155000.000000</td>\n",
       "      <td>53.000000</td>\n",
       "      <td>12.553425</td>\n",
       "      <td>1.979900e+04</td>\n",
       "    </tr>\n",
       "    <tr>\n",
       "      <td>max</td>\n",
       "      <td>375000.000000</td>\n",
       "      <td>5.000000</td>\n",
       "      <td>12.000000</td>\n",
       "      <td>990000.000000</td>\n",
       "      <td>271.000000</td>\n",
       "      <td>110.586301</td>\n",
       "      <td>8.251190e+06</td>\n",
       "    </tr>\n",
       "  </tbody>\n",
       "</table>\n",
       "</div>"
      ],
      "text/plain": [
       "               price     condition     cylinders       odometer   days_listed  \\\n",
       "count   36417.000000  36417.000000  36417.000000   36417.000000  36417.000000   \n",
       "mean    12187.277700      2.637010      6.132603  115327.850152     39.650520   \n",
       "std     10076.862885      0.713767      1.659692   65067.917757     28.119584   \n",
       "min         1.000000      0.000000      3.000000       0.000000      0.000000   \n",
       "25%      5000.000000      2.000000      4.000000   69855.000000     19.000000   \n",
       "50%      9000.000000      3.000000      6.000000  113000.000000     33.000000   \n",
       "75%     16900.000000      3.000000      8.000000  155000.000000     53.000000   \n",
       "max    375000.000000      5.000000     12.000000  990000.000000    271.000000   \n",
       "\n",
       "                age  yearly_mileage  \n",
       "count  36417.000000    3.641700e+04  \n",
       "mean       9.067136    1.880732e+04  \n",
       "std        6.273396    7.189982e+04  \n",
       "min        0.002740    0.000000e+00  \n",
       "25%        4.523288    1.011700e+04  \n",
       "50%        7.972603    1.418500e+04  \n",
       "75%       12.553425    1.979900e+04  \n",
       "max      110.586301    8.251190e+06  "
      ]
     },
     "execution_count": 18,
     "metadata": {},
     "output_type": "execute_result"
    }
   ],
   "source": [
    "car_data2.describe()"
   ]
  },
  {
   "cell_type": "code",
   "execution_count": 19,
   "metadata": {
    "scrolled": true
   },
   "outputs": [
    {
     "data": {
      "image/png": "[encoded data removed]",
      "text/plain": [
       "<Figure size 432x288 with 1 Axes>"
      ]
     },
     "metadata": {
      "needs_background": "light"
     },
     "output_type": "display_data"
    }
   ],
   "source": [
    "# boxplot of price\n",
    "# car_data2.plot('price',kind='hist', bins=10)\n",
    "car_data2.boxplot(column='price')\n",
    "plt.show()"
   ]
  },
  {
   "cell_type": "markdown",
   "metadata": {},
   "source": [
    "Around 75% of the cars have price below 16900. Some cars have unusually high prices (outilers). "
   ]
  },
  {
   "cell_type": "code",
   "execution_count": 20,
   "metadata": {
    "scrolled": true
   },
   "outputs": [
    {
     "data": {
      "image/png": "[encoded data removed]",
      "text/plain": [
       "<Figure size 432x288 with 1 Axes>"
      ]
     },
     "metadata": {
      "needs_background": "light"
     },
     "output_type": "display_data"
    }
   ],
   "source": [
    "# boxplot of age\n",
    "car_data2.boxplot(column='age')\n",
    "plt.show()"
   ]
  },
  {
   "cell_type": "markdown",
   "metadata": {},
   "source": [
    "<div class=\"alert alert-block alert-warning\">\n",
    "<b>Reviewer's comment v1:</b>\n",
    "    \n",
    "Adding titles to your graphs is important for providing context for the users so they understand what they are looking at. Together with for example legends and axis labels this is important to support unambiguous interpretation of displayed information."
   ]
  },
  {
   "cell_type": "markdown",
   "metadata": {},
   "source": [
    "Around 75% of the cars have age below 12.55 years. Some cars have unusually old age (outilers). "
   ]
  },
  {
   "cell_type": "code",
   "execution_count": 21,
   "metadata": {
    "scrolled": false
   },
   "outputs": [
    {
     "data": {
      "image/png": "[encoded data removed]",
      "text/plain": [
       "<Figure size 432x288 with 1 Axes>"
      ]
     },
     "metadata": {
      "needs_background": "light"
     },
     "output_type": "display_data"
    }
   ],
   "source": [
    "# boxplot of yearly_mileage\n",
    "\n",
    "car_data2.boxplot(column='yearly_mileage')\n",
    "plt.show()"
   ]
  },
  {
   "cell_type": "markdown",
   "metadata": {},
   "source": [
    "Around 75% of the cars have yearly mileage below 19799 miles. Some cars have unusually high yearly mileage (outilers). "
   ]
  },
  {
   "cell_type": "code",
   "execution_count": 22,
   "metadata": {
    "scrolled": true
   },
   "outputs": [
    {
     "data": {
      "image/png": "[encoded data removed]",
      "text/plain": [
       "<Figure size 432x288 with 1 Axes>"
      ]
     },
     "metadata": {
      "needs_background": "light"
     },
     "output_type": "display_data"
    }
   ],
   "source": [
    "# barplot of cylinders\n",
    "car_data2['cylinders'].value_counts().plot(kind='bar')\n",
    "plt.show()"
   ]
  },
  {
   "cell_type": "markdown",
   "metadata": {},
   "source": [
    "Most cars have 4, 6 or 8 cylinders. Very few cars have 3, 5, 10, or 12 cylinders."
   ]
  },
  {
   "cell_type": "code",
   "execution_count": 23,
   "metadata": {},
   "outputs": [
    {
     "data": {
      "image/png": "[encoded data removed]",
      "text/plain": [
       "<Figure size 432x288 with 1 Axes>"
      ]
     },
     "metadata": {
      "needs_background": "light"
     },
     "output_type": "display_data"
    }
   ],
   "source": [
    "# barplot of condition\n",
    "car_data2['condition'].value_counts().plot(kind='bar')\n",
    "plt.show()\n"
   ]
  },
  {
   "cell_type": "markdown",
   "metadata": {},
   "source": [
    "Most cars are in good or excellent condition. There are some but not many cars in fair or like new condition. Very few cars are in new or salvage condition.\n",
    "\n"
   ]
  },
  {
   "cell_type": "markdown",
   "metadata": {},
   "source": [
    "## Study and treat outliers"
   ]
  },
  {
   "cell_type": "markdown",
   "metadata": {},
   "source": [
    "The above analysis shows that the columns `price`, `age` and `yearly_mileage` have outliers. We want to create a DataFrame without those outliers. First, let's identify the outliers by defining the lower/upper limits for the normal range of values for each column."
   ]
  },
  {
   "cell_type": "code",
   "execution_count": 24,
   "metadata": {},
   "outputs": [],
   "source": [
    "# Determine if there are still more outliers in each column\n",
    "\n",
    "def check_outlier(col_name, df):\n",
    "    '''\n",
    "    The check_outlier checks if there are outliers in a column\n",
    "    '''\n",
    "    # col_name is a string\n",
    "    MIN, Q1, Q3, MAX = df[col_name].quantile([0, 0.25, 0.75, 1.0])\n",
    "    IQR = Q3 - Q1\n",
    "    lower_limit, upper_limit = Q1-1.5*IQR, Q3+1.5*IQR\n",
    "    print(f'The lower limit for the normal range of {col_name} is {lower_limit}')\n",
    "    print(f'The upper limit for the normal range of {col_name} is {upper_limit}')\n",
    "    print(f'The minimum of {col_name} is {MIN}')\n",
    "    print(f'The maximum of {col_name} is {MAX}')\n"
   ]
  },
  {
   "cell_type": "code",
   "execution_count": 25,
   "metadata": {
    "scrolled": true
   },
   "outputs": [
    {
     "name": "stdout",
     "output_type": "stream",
     "text": [
      "The lower limit for the normal range of price is -12850.0\n",
      "The upper limit for the normal range of price is 34750.0\n",
      "The minimum of price is 1.0\n",
      "The maximum of price is 375000.0\n"
     ]
    }
   ],
   "source": [
    "check_outlier('price',car_data2 )"
   ]
  },
  {
   "cell_type": "code",
   "execution_count": 26,
   "metadata": {
    "scrolled": false
   },
   "outputs": [
    {
     "name": "stdout",
     "output_type": "stream",
     "text": [
      "The lower limit for the normal range of age is -7.521917808219177\n",
      "The upper limit for the normal range of age is 24.5986301369863\n",
      "The minimum of age is 0.0027397260273972603\n",
      "The maximum of age is 110.58630136986301\n"
     ]
    }
   ],
   "source": [
    "check_outlier('age',car_data2 )"
   ]
  },
  {
   "cell_type": "code",
   "execution_count": 27,
   "metadata": {
    "scrolled": true
   },
   "outputs": [
    {
     "name": "stdout",
     "output_type": "stream",
     "text": [
      "The lower limit for the normal range of yearly_mileage is -4406.0\n",
      "The upper limit for the normal range of yearly_mileage is 34322.0\n",
      "The minimum of yearly_mileage is 0.0\n",
      "The maximum of yearly_mileage is 8251190.0\n"
     ]
    }
   ],
   "source": [
    "check_outlier('yearly_mileage',car_data2 )"
   ]
  },
  {
   "cell_type": "markdown",
   "metadata": {},
   "source": [
    "Now let's define a function that removes outliers from a column. "
   ]
  },
  {
   "cell_type": "code",
   "execution_count": 28,
   "metadata": {},
   "outputs": [],
   "source": [
    "\n",
    "def remove_outlier(col_name, df):\n",
    "    '''\n",
    "    The remove_outlier function removes outlier in a column.\n",
    "    '''\n",
    "    # col_name is a string\n",
    "    keep_removing = True\n",
    "    while keep_removing:\n",
    "        MIN, Q1, Q3, MAX = df[col_name].quantile([0, 0.25, 0.75, 1.0])\n",
    "        IQR = Q3 - Q1\n",
    "        lower_limit, upper_limit = Q1-1.5*IQR, Q3+1.5*IQR\n",
    "        df = df.loc[(df[col_name] > lower_limit) &  (df[col_name] < upper_limit)]\n",
    "        \n",
    "        MIN, Q1, Q3, MAX = df[col_name].quantile([0, 0.25, 0.75, 1.0])\n",
    "        IQR = Q3 - Q1\n",
    "        lower_limit, upper_limit = Q1-1.5*IQR, Q3+1.5*IQR\n",
    "        if MIN > lower_limit and MAX < upper_limit:\n",
    "            keep_removing = False\n",
    "    \n",
    "    return df"
   ]
  },
  {
   "cell_type": "code",
   "execution_count": 29,
   "metadata": {},
   "outputs": [],
   "source": [
    "\n",
    "car_data2 = remove_outlier('price', car_data2)\n",
    "car_data2 = remove_outlier('age', car_data2)\n",
    "car_data2 = remove_outlier('yearly_mileage', car_data2)"
   ]
  },
  {
   "cell_type": "code",
   "execution_count": 30,
   "metadata": {
    "scrolled": true
   },
   "outputs": [
    {
     "name": "stdout",
     "output_type": "stream",
     "text": [
      "The lower limit for the normal range of price is -10050.0\n",
      "The upper limit for the normal range of price is 29950.0\n",
      "The minimum of price is 1.0\n",
      "The maximum of price is 31000.0\n"
     ]
    }
   ],
   "source": [
    "check_outlier('price',car_data2 )"
   ]
  },
  {
   "cell_type": "code",
   "execution_count": 31,
   "metadata": {
    "scrolled": false
   },
   "outputs": [
    {
     "name": "stdout",
     "output_type": "stream",
     "text": [
      "The lower limit for the normal range of odometer is -44364.375\n",
      "The upper limit for the normal range of odometer is 278836.625\n",
      "The minimum of odometer is 0.0\n",
      "The maximum of odometer is 498000.0\n"
     ]
    }
   ],
   "source": [
    "check_outlier('odometer',car_data2 )"
   ]
  },
  {
   "cell_type": "code",
   "execution_count": 32,
   "metadata": {
    "scrolled": false
   },
   "outputs": [
    {
     "name": "stdout",
     "output_type": "stream",
     "text": [
      "The lower limit for the normal range of age is -5.354794520547944\n",
      "The upper limit for the normal range of age is 23.80684931506849\n",
      "The minimum of age is 0.04657534246575343\n",
      "The maximum of age is 23.945205479452056\n"
     ]
    }
   ],
   "source": [
    "check_outlier('age',car_data2 )"
   ]
  },
  {
   "cell_type": "code",
   "execution_count": 33,
   "metadata": {
    "scrolled": true
   },
   "outputs": [
    {
     "name": "stdout",
     "output_type": "stream",
     "text": [
      "The lower limit for the normal range of yearly_mileage is -1891.0\n",
      "The upper limit for the normal range of yearly_mileage is 29743.0\n",
      "The minimum of yearly_mileage is 0.0\n",
      "The maximum of yearly_mileage is 29733.0\n"
     ]
    }
   ],
   "source": [
    "check_outlier('yearly_mileage',car_data2 )"
   ]
  },
  {
   "cell_type": "markdown",
   "metadata": {},
   "source": [
    "The data is heavily right-tailded. The outliers has been removed to the best of my capability. "
   ]
  },
  {
   "cell_type": "markdown",
   "metadata": {},
   "source": [
    "<div class=\"alert alert-block alert-success\">\n",
    "<b>Reviewer's comment v1:</b>\n",
    "    \n",
    "Well done! You perfectly identified and handled outliers. You can additionally check a nice article about working with outliers:\n",
    "- https://www.pluralsight.com/guides/cleaning-up-data-from-outliers\n",
    "</div>"
   ]
  },
  {
   "cell_type": "markdown",
   "metadata": {},
   "source": [
    "## Study core parameters without outliers"
   ]
  },
  {
   "cell_type": "code",
   "execution_count": 34,
   "metadata": {
    "scrolled": true
   },
   "outputs": [
    {
     "data": {
      "text/plain": [
       "0"
      ]
     },
     "execution_count": 34,
     "metadata": {},
     "output_type": "execute_result"
    }
   ],
   "source": [
    "car_data2.duplicated().sum()"
   ]
  },
  {
   "cell_type": "markdown",
   "metadata": {},
   "source": [
    "It shows that the `car_data2` dataframe has no duplicated rows. "
   ]
  },
  {
   "cell_type": "code",
   "execution_count": 35,
   "metadata": {},
   "outputs": [
    {
     "data": {
      "text/html": [
       "<div>\n",
       "<style scoped>\n",
       "    .dataframe tbody tr th:only-of-type {\n",
       "        vertical-align: middle;\n",
       "    }\n",
       "\n",
       "    .dataframe tbody tr th {\n",
       "        vertical-align: top;\n",
       "    }\n",
       "\n",
       "    .dataframe thead th {\n",
       "        text-align: right;\n",
       "    }\n",
       "</style>\n",
       "<table border=\"1\" class=\"dataframe\">\n",
       "  <thead>\n",
       "    <tr style=\"text-align: right;\">\n",
       "      <th></th>\n",
       "      <th>price</th>\n",
       "      <th>condition</th>\n",
       "      <th>cylinders</th>\n",
       "      <th>odometer</th>\n",
       "      <th>days_listed</th>\n",
       "      <th>age</th>\n",
       "      <th>yearly_mileage</th>\n",
       "    </tr>\n",
       "  </thead>\n",
       "  <tbody>\n",
       "    <tr>\n",
       "      <td>count</td>\n",
       "      <td>31304.000000</td>\n",
       "      <td>31304.000000</td>\n",
       "      <td>31304.000000</td>\n",
       "      <td>31304.000000</td>\n",
       "      <td>31304.000000</td>\n",
       "      <td>31304.000000</td>\n",
       "      <td>31304.000000</td>\n",
       "    </tr>\n",
       "    <tr>\n",
       "      <td>mean</td>\n",
       "      <td>10474.632092</td>\n",
       "      <td>2.612030</td>\n",
       "      <td>6.053316</td>\n",
       "      <td>119197.711059</td>\n",
       "      <td>39.699847</td>\n",
       "      <td>9.455425</td>\n",
       "      <td>14075.818394</td>\n",
       "    </tr>\n",
       "    <tr>\n",
       "      <td>std</td>\n",
       "      <td>7240.757433</td>\n",
       "      <td>0.701701</td>\n",
       "      <td>1.647787</td>\n",
       "      <td>61217.435456</td>\n",
       "      <td>28.214820</td>\n",
       "      <td>4.983426</td>\n",
       "      <td>6082.401904</td>\n",
       "    </tr>\n",
       "    <tr>\n",
       "      <td>min</td>\n",
       "      <td>1.000000</td>\n",
       "      <td>0.000000</td>\n",
       "      <td>3.000000</td>\n",
       "      <td>0.000000</td>\n",
       "      <td>0.000000</td>\n",
       "      <td>0.046575</td>\n",
       "      <td>0.000000</td>\n",
       "    </tr>\n",
       "    <tr>\n",
       "      <td>25%</td>\n",
       "      <td>4950.000000</td>\n",
       "      <td>2.000000</td>\n",
       "      <td>4.000000</td>\n",
       "      <td>76836.000000</td>\n",
       "      <td>19.000000</td>\n",
       "      <td>5.580822</td>\n",
       "      <td>9971.750000</td>\n",
       "    </tr>\n",
       "    <tr>\n",
       "      <td>50%</td>\n",
       "      <td>8495.000000</td>\n",
       "      <td>3.000000</td>\n",
       "      <td>6.000000</td>\n",
       "      <td>117556.500000</td>\n",
       "      <td>33.000000</td>\n",
       "      <td>8.772603</td>\n",
       "      <td>13567.000000</td>\n",
       "    </tr>\n",
       "    <tr>\n",
       "      <td>75%</td>\n",
       "      <td>14950.000000</td>\n",
       "      <td>3.000000</td>\n",
       "      <td>8.000000</td>\n",
       "      <td>157636.250000</td>\n",
       "      <td>54.000000</td>\n",
       "      <td>12.871233</td>\n",
       "      <td>17880.250000</td>\n",
       "    </tr>\n",
       "    <tr>\n",
       "      <td>max</td>\n",
       "      <td>31000.000000</td>\n",
       "      <td>5.000000</td>\n",
       "      <td>12.000000</td>\n",
       "      <td>498000.000000</td>\n",
       "      <td>271.000000</td>\n",
       "      <td>23.945205</td>\n",
       "      <td>29733.000000</td>\n",
       "    </tr>\n",
       "  </tbody>\n",
       "</table>\n",
       "</div>"
      ],
      "text/plain": [
       "              price     condition     cylinders       odometer   days_listed  \\\n",
       "count  31304.000000  31304.000000  31304.000000   31304.000000  31304.000000   \n",
       "mean   10474.632092      2.612030      6.053316  119197.711059     39.699847   \n",
       "std     7240.757433      0.701701      1.647787   61217.435456     28.214820   \n",
       "min        1.000000      0.000000      3.000000       0.000000      0.000000   \n",
       "25%     4950.000000      2.000000      4.000000   76836.000000     19.000000   \n",
       "50%     8495.000000      3.000000      6.000000  117556.500000     33.000000   \n",
       "75%    14950.000000      3.000000      8.000000  157636.250000     54.000000   \n",
       "max    31000.000000      5.000000     12.000000  498000.000000    271.000000   \n",
       "\n",
       "                age  yearly_mileage  \n",
       "count  31304.000000    31304.000000  \n",
       "mean       9.455425    14075.818394  \n",
       "std        4.983426     6082.401904  \n",
       "min        0.046575        0.000000  \n",
       "25%        5.580822     9971.750000  \n",
       "50%        8.772603    13567.000000  \n",
       "75%       12.871233    17880.250000  \n",
       "max       23.945205    29733.000000  "
      ]
     },
     "execution_count": 35,
     "metadata": {},
     "output_type": "execute_result"
    }
   ],
   "source": [
    "car_data2.describe()"
   ]
  },
  {
   "cell_type": "code",
   "execution_count": 36,
   "metadata": {
    "scrolled": false
   },
   "outputs": [
    {
     "data": {
      "image/png": "[encoded data removed]",
      "text/plain": [
       "<Figure size 432x288 with 1 Axes>"
      ]
     },
     "metadata": {
      "needs_background": "light"
     },
     "output_type": "display_data"
    }
   ],
   "source": [
    "# boxplot of price\n",
    "# car_data2.plot('price',kind='hist', bins=10)\n",
    "car_data2.hist(column='price')\n",
    "plt.show()"
   ]
  },
  {
   "cell_type": "markdown",
   "metadata": {},
   "source": [
    "After removing the extreme outliers, the `price` variable still has some but not many outliers. The distribution of `price` is right-skewed. The car sale prices range from 1 to 31000 dollars, with median price at 8495 dollars. "
   ]
  },
  {
   "cell_type": "code",
   "execution_count": 37,
   "metadata": {
    "scrolled": true
   },
   "outputs": [
    {
     "data": {
      "image/png": "[encoded data removed]",
      "text/plain": [
       "<Figure size 432x288 with 1 Axes>"
      ]
     },
     "metadata": {
      "needs_background": "light"
     },
     "output_type": "display_data"
    }
   ],
   "source": [
    "# boxplot of age\n",
    "car_data2.hist(column='age')\n",
    "plt.show()"
   ]
  },
  {
   "cell_type": "markdown",
   "metadata": {},
   "source": [
    "After removing the extreme outliers, the `age` variable still has some but not many outliers. The distribution of `age` is slightly right-skewed. The age of cars range from 0.047 years to 23.94 years, with median age at 8.77 years. "
   ]
  },
  {
   "cell_type": "code",
   "execution_count": 38,
   "metadata": {
    "scrolled": true
   },
   "outputs": [
    {
     "data": {
      "image/png": "[encoded data removed]",
      "text/plain": [
       "<Figure size 432x288 with 1 Axes>"
      ]
     },
     "metadata": {
      "needs_background": "light"
     },
     "output_type": "display_data"
    }
   ],
   "source": [
    "# boxplot of odometer\n",
    "\n",
    "car_data2.hist(column='yearly_mileage')\n",
    "plt.show()"
   ]
  },
  {
   "cell_type": "markdown",
   "metadata": {},
   "source": [
    "After removing the extreme outliers, the `yearly_mileage` variable does not have any outliers. The distribution of `yearly_mileage` is slightly right-skewed. The yearly mileage of cars range from 0 to 29733 miles, with median at 13567 miles. "
   ]
  },
  {
   "cell_type": "markdown",
   "metadata": {},
   "source": [
    "## Ads lifetime"
   ]
  },
  {
   "cell_type": "code",
   "execution_count": 39,
   "metadata": {
    "scrolled": true
   },
   "outputs": [
    {
     "data": {
      "text/plain": [
       "count    31304.000000\n",
       "mean        39.699847\n",
       "std         28.214820\n",
       "min          0.000000\n",
       "25%         19.000000\n",
       "50%         33.000000\n",
       "75%         54.000000\n",
       "max        271.000000\n",
       "Name: days_listed, dtype: float64"
      ]
     },
     "execution_count": 39,
     "metadata": {},
     "output_type": "execute_result"
    }
   ],
   "source": [
    "car_data2['days_listed'].describe()"
   ]
  },
  {
   "cell_type": "code",
   "execution_count": 40,
   "metadata": {},
   "outputs": [
    {
     "data": {
      "image/png": "[encoded data removed]",
      "text/plain": [
       "<Figure size 432x288 with 1 Axes>"
      ]
     },
     "metadata": {
      "needs_background": "light"
     },
     "output_type": "display_data"
    }
   ],
   "source": [
    "car_data2.hist(column='days_listed')\n",
    "plt.show()"
   ]
  },
  {
   "cell_type": "markdown",
   "metadata": {},
   "source": [
    "The days of advertisements being displayed range from 0 to 271 days, with median 33 days, and mean 39 days. The box plot indicates the `days_listed` variable is right skewed. The typical lifetime of an ad is somewhere between 19 days to 54 days. "
   ]
  },
  {
   "cell_type": "code",
   "execution_count": 41,
   "metadata": {
    "scrolled": true
   },
   "outputs": [
    {
     "data": {
      "image/png": "[encoded data removed]",
      "text/plain": [
       "<Figure size 432x288 with 2 Axes>"
      ]
     },
     "metadata": {
      "needs_background": "light"
     },
     "output_type": "display_data"
    }
   ],
   "source": [
    "car_data2_quick = car_data2.query('days_listed < 50')\n",
    "\n",
    "hm_all = sns.heatmap(car_data2_quick.corr(), annot=True)"
   ]
  },
  {
   "cell_type": "markdown",
   "metadata": {},
   "source": [
    "We filtered the data and created a dataframe that has `days_listed` less than 50 days. Then, we plotted the \n",
    "The correlation heatmap of the new dataframe shows that `days_listed` has pretty weak correlation with other variables. It has a relatively strong negative correlation with the variable `condition` and it has a relatively strong positive correlation with the variable `odometer`. That indicates if a car is in superior condition and the `odometer` reading is low, then it is easier to sell and the days listed on ad is shorter. "
   ]
  },
  {
   "cell_type": "markdown",
   "metadata": {},
   "source": [
    "## Average price per each type of vehicle"
   ]
  },
  {
   "cell_type": "code",
   "execution_count": 42,
   "metadata": {},
   "outputs": [
    {
     "name": "stdout",
     "output_type": "stream",
     "text": [
      "             number_of_ads  median_price    mean_price\n",
      "type                                                  \n",
      "SUV                   7778          8200   9909.656210\n",
      "bus                     15         28990  18153.000000\n",
      "convertible            235         12995  12834.553191\n",
      "coupe                 1417         12000  13162.163726\n",
      "hatchback              667          5800   6496.101949\n",
      "mini-van               739          5995   7490.653586\n",
      "offroad                132         11950  13710.098485\n",
      "other                  143          8495   9104.076923\n",
      "pickup                3947         12795  13756.976438\n",
      "sedan                 7809          5900   6673.840697\n",
      "truck                 7019         13500  13910.599516\n",
      "van                    374          7200   8182.042781\n",
      "wagon                 1029          6995   8540.210884\n"
     ]
    }
   ],
   "source": [
    "type_count_mean = car_data2.pivot_table(index='type', \n",
    "                     values='price', \n",
    "                     aggfunc = ['count', 'median','mean'])\n",
    "type_count_mean.columns = ['number_of_ads', 'median_price','mean_price']\n",
    "print(type_count_mean)"
   ]
  },
  {
   "cell_type": "code",
   "execution_count": 43,
   "metadata": {
    "scrolled": true
   },
   "outputs": [
    {
     "data": {
      "image/png": "[encoded data removed]",
      "text/plain": [
       "<Figure size 432x288 with 1 Axes>"
      ]
     },
     "metadata": {
      "needs_background": "light"
     },
     "output_type": "display_data"
    }
   ],
   "source": [
    "type_count_mean.plot(y='number_of_ads', kind='bar')\n",
    "plt.show()"
   ]
  },
  {
   "cell_type": "markdown",
   "metadata": {},
   "source": [
    "The bar plot shows that SUV and sedan have the top 2 greatest number of the ads, whereas all other types of cars have relatively smaller number of ads. "
   ]
  },
  {
   "cell_type": "markdown",
   "metadata": {},
   "source": [
    "<div class=\"alert alert-block alert-success\">\n",
    "<b>Reviewer's comment v1:</b>\n",
    "    \n",
    "Typical lifetime of an ad has been correctly identified."
   ]
  },
  {
   "cell_type": "markdown",
   "metadata": {},
   "source": [
    "## Price factors"
   ]
  },
  {
   "cell_type": "code",
   "execution_count": 44,
   "metadata": {},
   "outputs": [],
   "source": [
    "# car_data2\n",
    "\n",
    "car_data2_SUV = car_data2.query('type == \"SUV\"')\n",
    "car_data2_sedan = car_data2.query('type == \"sedan\"')"
   ]
  },
  {
   "cell_type": "code",
   "execution_count": 45,
   "metadata": {
    "scrolled": false
   },
   "outputs": [
    {
     "data": {
      "image/png": "[encoded data removed]",
      "text/plain": [
       "<Figure size 432x288 with 2 Axes>"
      ]
     },
     "metadata": {
      "needs_background": "light"
     },
     "output_type": "display_data"
    }
   ],
   "source": [
    "hm_SUV = sns.heatmap(car_data2_SUV.corr(), annot=True)"
   ]
  },
  {
   "cell_type": "markdown",
   "metadata": {},
   "source": [
    "The heatmap of the correlation matrix for SUV shows that price of SUV has relatively strong but negative correlation with the age of cars and the odometer reading of cars. Moreover, price has weak but positive correlation with condition of cars and yearly mileage of cars. Finally, price has little correlation with days of ads being listed. "
   ]
  },
  {
   "cell_type": "code",
   "execution_count": 46,
   "metadata": {
    "scrolled": false
   },
   "outputs": [
    {
     "data": {
      "image/png": "[encoded data removed]",
      "text/plain": [
       "<Figure size 432x288 with 2 Axes>"
      ]
     },
     "metadata": {
      "needs_background": "light"
     },
     "output_type": "display_data"
    }
   ],
   "source": [
    "hm_sedan = sns.heatmap(car_data2_sedan.corr(), annot=True)"
   ]
  },
  {
   "cell_type": "markdown",
   "metadata": {},
   "source": [
    "The heatmap of the correlation matrix for sedan shows that price of sedan has relatively strong but negative correlation with the age of cars and the odometer reading of cars. Moreover, price has weak but positive correlation with condition of cars and yearly mileage of cars. Finally, price has little correlation with days of ads being listed. "
   ]
  },
  {
   "cell_type": "markdown",
   "metadata": {},
   "source": [
    "<div class=\"alert alert-block alert-success\">\n",
    "<b>Reviewer's comment v1:</b>\n",
    "    \n",
    "Overall an excellent data analysis with correct conclusions and different graph types.\n",
    "\n",
    "Great that you managed to create a correlation matrix (heatmap) to check the correlation of different features.\n",
    "\n",
    "</div>"
   ]
  },
  {
   "cell_type": "markdown",
   "metadata": {},
   "source": [
    "## General conclusion\n",
    "\n",
    "This project aimed to determine the factors that influence prices of vehicles. We started with initial exploraton of the dataset. We identified columns with missing values and wrong data types. Then we removed the columns `is_4wd` and `paint_color` from the dataset and fixed the data types in columns `model_year`, `date_posted`, and `cylinders`. Then, we created a new variable called `age`, which was the age of the vehicle when it was listed for sale.  We also recoded the `codition` column with numeric values. Furthermore, we checked the distribution of the core parameters `price`, `age` and `yearly_odometer` using boxplots and the distribution of `cylinders` and `condition` using barplots. After identifying the heavy right-skewness of the variables `price`, `age` and `yearly_odometer`, we removed the outliers from the dataset. Finally, we studied ad lifetime and average price for each type of vehicle. \n",
    "\n",
    "The overall conclusion is that price of vehicles had relatively strong but negative correlation with odometer readings and age of vehicle. Moreover, price had positive correlation with condition of the car. Price did not appear to have strong correlation with any other variables in the dataset. "
   ]
  },
  {
   "cell_type": "markdown",
   "metadata": {},
   "source": [
    "<div class=\"alert alert-warning\">\n",
    "<b>Reviewer's comment v1:</b>\n",
    " \n",
    "Overall you did a great research. I left some feedback to check above and open questions to understand your reasoning. \n",
    "    \n",
    "A small tip regarding overall conclusion: \n",
    "    It represents the overall work progress that you achieved. On a real project, this is probably the only thing the business will read. Therefore, it is crucial to indicate in a structured way all conclusions that you made on each step in the project.\n",
    "\n",
    "For example:\n",
    "\n",
    "- Replaced missing values in the following data with the following method.\n",
    "- Replaced data types in the following columns.\n",
    "- etc.\n",
    "- We observe that ... factors impact ... \n",
    "- My analysis show ...\n",
    "- I can recomend the following next steps / activities ...\n",
    "\n",
    "It is also important to provide explanations and interpretations that will be interesting for business based on your analysis.\n",
    "\n",
    "</div>"
   ]
  }
 ],
 "metadata": {
  "ExecuteTimeLog": [
   {
    "duration": 828,
    "start_time": "2021-11-16T09:21:11.304Z"
   },
   {
    "duration": 893,
    "start_time": "2021-11-16T09:21:17.728Z"
   },
   {
    "duration": 1150,
    "start_time": "2021-11-16T09:21:29.568Z"
   },
   {
    "duration": 3,
    "start_time": "2021-11-16T09:24:14.495Z"
   },
   {
    "duration": 120,
    "start_time": "2021-11-16T09:24:46.630Z"
   },
   {
    "duration": 3,
    "start_time": "2021-11-16T09:28:27.882Z"
   },
   {
    "duration": 4,
    "start_time": "2021-11-16T09:29:54.281Z"
   },
   {
    "duration": 3,
    "start_time": "2021-11-16T09:30:45.936Z"
   },
   {
    "duration": 4,
    "start_time": "2021-11-16T09:31:06.300Z"
   },
   {
    "duration": 113,
    "start_time": "2021-11-16T09:31:37.208Z"
   },
   {
    "duration": 143,
    "start_time": "2021-11-16T09:31:48.656Z"
   },
   {
    "duration": 98,
    "start_time": "2021-11-16T09:31:55.678Z"
   },
   {
    "duration": 3,
    "start_time": "2021-11-16T09:32:08.535Z"
   },
   {
    "duration": 111,
    "start_time": "2021-11-16T09:32:10.120Z"
   },
   {
    "duration": 3,
    "start_time": "2021-11-16T09:32:15.732Z"
   },
   {
    "duration": 4,
    "start_time": "2021-11-16T09:32:29.423Z"
   },
   {
    "duration": 3,
    "start_time": "2021-11-16T10:03:03.074Z"
   },
   {
    "duration": 3,
    "start_time": "2021-11-16T10:10:01.288Z"
   },
   {
    "duration": 3,
    "start_time": "2021-11-16T10:10:46.923Z"
   },
   {
    "duration": 121,
    "start_time": "2021-11-16T10:37:46.494Z"
   },
   {
    "duration": 125,
    "start_time": "2021-11-16T10:38:20.632Z"
   },
   {
    "duration": 112,
    "start_time": "2021-11-16T10:46:53.001Z"
   },
   {
    "duration": 110,
    "start_time": "2021-11-16T10:48:25.775Z"
   },
   {
    "duration": 3,
    "start_time": "2021-11-16T10:50:18.720Z"
   },
   {
    "duration": 4,
    "start_time": "2021-11-16T10:50:37.649Z"
   },
   {
    "duration": 2,
    "start_time": "2021-11-16T10:50:51.884Z"
   },
   {
    "duration": 3,
    "start_time": "2021-11-16T10:51:56.237Z"
   },
   {
    "duration": 101,
    "start_time": "2021-11-16T10:53:13.791Z"
   },
   {
    "duration": 3,
    "start_time": "2021-11-16T10:55:59.186Z"
   },
   {
    "duration": 3,
    "start_time": "2021-11-16T10:56:10.751Z"
   },
   {
    "duration": 3,
    "start_time": "2021-11-16T10:56:49.038Z"
   },
   {
    "duration": 3,
    "start_time": "2021-11-16T10:56:49.174Z"
   },
   {
    "duration": 4,
    "start_time": "2021-11-16T10:56:49.414Z"
   },
   {
    "duration": 3,
    "start_time": "2021-11-16T10:56:49.680Z"
   },
   {
    "duration": 3,
    "start_time": "2021-11-16T10:56:50.370Z"
   },
   {
    "duration": 114,
    "start_time": "2021-11-16T10:59:34.518Z"
   },
   {
    "duration": 3,
    "start_time": "2021-11-16T11:01:41.201Z"
   },
   {
    "duration": 116,
    "start_time": "2021-11-16T11:01:48.754Z"
   },
   {
    "duration": 3,
    "start_time": "2021-11-16T11:02:16.685Z"
   },
   {
    "duration": 3,
    "start_time": "2021-11-16T11:02:19.479Z"
   },
   {
    "duration": 3,
    "start_time": "2021-11-16T11:02:47.067Z"
   },
   {
    "duration": 3,
    "start_time": "2021-11-16T11:02:49.353Z"
   },
   {
    "duration": 3,
    "start_time": "2021-11-16T11:03:07.835Z"
   },
   {
    "duration": 3,
    "start_time": "2021-11-16T11:03:07.953Z"
   },
   {
    "duration": 112,
    "start_time": "2021-11-16T11:07:52.072Z"
   },
   {
    "duration": 187,
    "start_time": "2021-11-16T11:09:23.468Z"
   },
   {
    "duration": 4,
    "start_time": "2021-11-16T11:10:01.455Z"
   },
   {
    "duration": 3,
    "start_time": "2021-11-16T11:10:05.069Z"
   },
   {
    "duration": 4,
    "start_time": "2021-11-16T11:10:13.376Z"
   },
   {
    "duration": 3,
    "start_time": "2021-11-16T11:10:14.434Z"
   },
   {
    "duration": 3,
    "start_time": "2021-11-16T11:10:22.853Z"
   },
   {
    "duration": 4,
    "start_time": "2021-11-16T11:27:29.279Z"
   },
   {
    "duration": 4,
    "start_time": "2021-11-16T11:29:08.919Z"
   },
   {
    "duration": 118,
    "start_time": "2021-11-16T11:29:46.703Z"
   },
   {
    "duration": 437,
    "start_time": "2021-11-16T11:36:02.181Z"
   },
   {
    "duration": 157,
    "start_time": "2021-11-16T11:36:14.388Z"
   },
   {
    "duration": 207,
    "start_time": "2021-11-16T11:47:15.898Z"
   },
   {
    "duration": 3,
    "start_time": "2021-11-16T11:53:52.092Z"
   },
   {
    "duration": 3,
    "start_time": "2021-11-16T11:53:52.236Z"
   },
   {
    "duration": 3,
    "start_time": "2021-11-16T11:59:12.005Z"
   },
   {
    "duration": 112,
    "start_time": "2021-11-16T12:00:33.446Z"
   },
   {
    "duration": 3,
    "start_time": "2021-11-16T12:02:14.453Z"
   },
   {
    "duration": 3,
    "start_time": "2021-11-16T12:02:39.512Z"
   },
   {
    "duration": 106,
    "start_time": "2021-11-16T12:03:03.460Z"
   },
   {
    "duration": 220,
    "start_time": "2021-12-11T02:11:31.498Z"
   },
   {
    "duration": 520,
    "start_time": "2021-12-11T02:11:35.131Z"
   },
   {
    "duration": 117,
    "start_time": "2021-12-11T02:11:37.376Z"
   },
   {
    "duration": 98,
    "start_time": "2021-12-11T02:11:48.948Z"
   },
   {
    "duration": 96,
    "start_time": "2021-12-11T02:12:04.886Z"
   },
   {
    "duration": 102,
    "start_time": "2021-12-11T02:13:29.693Z"
   },
   {
    "duration": 19,
    "start_time": "2021-12-11T02:13:45.221Z"
   },
   {
    "duration": 90,
    "start_time": "2021-12-11T02:13:46.787Z"
   },
   {
    "duration": 3,
    "start_time": "2021-12-11T02:14:37.276Z"
   },
   {
    "duration": 87,
    "start_time": "2021-12-11T02:14:38.242Z"
   },
   {
    "duration": 2,
    "start_time": "2021-12-11T02:15:04.668Z"
   },
   {
    "duration": 85,
    "start_time": "2021-12-11T02:15:06.219Z"
   },
   {
    "duration": 17,
    "start_time": "2021-12-11T02:19:52.125Z"
   },
   {
    "duration": 18,
    "start_time": "2021-12-11T02:21:08.853Z"
   },
   {
    "duration": 19,
    "start_time": "2021-12-11T02:21:20.415Z"
   },
   {
    "duration": 18,
    "start_time": "2021-12-11T02:21:33.716Z"
   },
   {
    "duration": 3,
    "start_time": "2021-12-11T02:26:19.360Z"
   },
   {
    "duration": 85,
    "start_time": "2021-12-11T02:26:20.897Z"
   },
   {
    "duration": 2,
    "start_time": "2021-12-11T02:27:11.865Z"
   },
   {
    "duration": 86,
    "start_time": "2021-12-11T02:27:13.028Z"
   },
   {
    "duration": 19,
    "start_time": "2021-12-11T02:27:15.134Z"
   },
   {
    "duration": 8,
    "start_time": "2021-12-11T02:27:17.496Z"
   },
   {
    "duration": 19,
    "start_time": "2021-12-11T02:31:55.638Z"
   },
   {
    "duration": 693,
    "start_time": "2021-12-11T11:41:51.725Z"
   },
   {
    "duration": 586,
    "start_time": "2021-12-11T11:41:56.803Z"
   },
   {
    "duration": 84,
    "start_time": "2021-12-11T11:41:57.391Z"
   },
   {
    "duration": 21,
    "start_time": "2021-12-11T11:41:57.478Z"
   },
   {
    "duration": 9,
    "start_time": "2021-12-11T11:41:57.501Z"
   },
   {
    "duration": 47,
    "start_time": "2021-12-11T11:41:57.512Z"
   },
   {
    "duration": 3,
    "start_time": "2021-12-11T11:41:57.561Z"
   },
   {
    "duration": 4,
    "start_time": "2021-12-11T11:41:57.566Z"
   },
   {
    "duration": 6,
    "start_time": "2021-12-11T11:41:57.573Z"
   },
   {
    "duration": 8,
    "start_time": "2021-12-11T11:41:57.581Z"
   },
   {
    "duration": 7,
    "start_time": "2021-12-11T11:41:57.591Z"
   },
   {
    "duration": 5,
    "start_time": "2021-12-11T11:41:57.599Z"
   },
   {
    "duration": 4,
    "start_time": "2021-12-11T11:41:57.606Z"
   },
   {
    "duration": 4,
    "start_time": "2021-12-11T11:41:57.612Z"
   },
   {
    "duration": 29,
    "start_time": "2021-12-11T11:41:57.617Z"
   },
   {
    "duration": 4,
    "start_time": "2021-12-11T11:41:57.648Z"
   },
   {
    "duration": 4,
    "start_time": "2021-12-11T11:41:57.654Z"
   },
   {
    "duration": 4,
    "start_time": "2021-12-11T11:41:57.659Z"
   },
   {
    "duration": 5,
    "start_time": "2021-12-11T11:41:57.665Z"
   },
   {
    "duration": 3,
    "start_time": "2021-12-11T11:41:57.672Z"
   },
   {
    "duration": 4,
    "start_time": "2021-12-11T11:41:57.678Z"
   },
   {
    "duration": 18,
    "start_time": "2021-12-11T11:46:27.045Z"
   },
   {
    "duration": 18,
    "start_time": "2021-12-11T11:46:40.833Z"
   },
   {
    "duration": 320,
    "start_time": "2021-12-11T11:47:17.303Z"
   },
   {
    "duration": 20,
    "start_time": "2021-12-11T11:47:30.157Z"
   },
   {
    "duration": 19,
    "start_time": "2021-12-11T11:48:23.370Z"
   },
   {
    "duration": 18,
    "start_time": "2021-12-11T11:49:03.150Z"
   },
   {
    "duration": 3,
    "start_time": "2021-12-11T12:44:30.673Z"
   },
   {
    "duration": 85,
    "start_time": "2021-12-11T12:44:30.866Z"
   },
   {
    "duration": 21,
    "start_time": "2021-12-11T12:44:30.953Z"
   },
   {
    "duration": 9,
    "start_time": "2021-12-11T12:44:30.976Z"
   },
   {
    "duration": 26,
    "start_time": "2021-12-11T12:44:30.987Z"
   },
   {
    "duration": 47,
    "start_time": "2021-12-11T12:44:31.015Z"
   },
   {
    "duration": 2,
    "start_time": "2021-12-11T12:44:31.064Z"
   },
   {
    "duration": 5,
    "start_time": "2021-12-11T12:44:31.068Z"
   },
   {
    "duration": 6,
    "start_time": "2021-12-11T12:44:31.075Z"
   },
   {
    "duration": 9,
    "start_time": "2021-12-11T12:44:31.084Z"
   },
   {
    "duration": 7,
    "start_time": "2021-12-11T12:44:31.095Z"
   },
   {
    "duration": 7,
    "start_time": "2021-12-11T12:44:31.104Z"
   },
   {
    "duration": 6,
    "start_time": "2021-12-11T12:44:31.113Z"
   },
   {
    "duration": 24,
    "start_time": "2021-12-11T12:44:31.120Z"
   },
   {
    "duration": 8,
    "start_time": "2021-12-11T12:44:31.147Z"
   },
   {
    "duration": 7,
    "start_time": "2021-12-11T12:44:31.157Z"
   },
   {
    "duration": 6,
    "start_time": "2021-12-11T12:44:31.166Z"
   },
   {
    "duration": 5,
    "start_time": "2021-12-11T12:44:31.174Z"
   },
   {
    "duration": 10,
    "start_time": "2021-12-11T12:44:31.180Z"
   },
   {
    "duration": 7,
    "start_time": "2021-12-11T12:44:31.191Z"
   },
   {
    "duration": 10,
    "start_time": "2021-12-11T12:44:31.200Z"
   },
   {
    "duration": 844,
    "start_time": "2021-12-11T12:50:27.618Z"
   },
   {
    "duration": 3,
    "start_time": "2021-12-11T12:50:31.697Z"
   },
   {
    "duration": 101,
    "start_time": "2021-12-11T12:50:31.706Z"
   },
   {
    "duration": 40,
    "start_time": "2021-12-11T12:50:31.810Z"
   },
   {
    "duration": 13,
    "start_time": "2021-12-11T12:50:31.853Z"
   },
   {
    "duration": 32,
    "start_time": "2021-12-11T12:50:31.868Z"
   },
   {
    "duration": 578,
    "start_time": "2021-12-11T12:50:31.902Z"
   },
   {
    "duration": -20,
    "start_time": "2021-12-11T12:50:32.502Z"
   },
   {
    "duration": -29,
    "start_time": "2021-12-11T12:50:32.513Z"
   },
   {
    "duration": -29,
    "start_time": "2021-12-11T12:50:32.514Z"
   },
   {
    "duration": -29,
    "start_time": "2021-12-11T12:50:32.516Z"
   },
   {
    "duration": -218,
    "start_time": "2021-12-11T12:50:32.706Z"
   },
   {
    "duration": -219,
    "start_time": "2021-12-11T12:50:32.708Z"
   },
   {
    "duration": -219,
    "start_time": "2021-12-11T12:50:32.710Z"
   },
   {
    "duration": -219,
    "start_time": "2021-12-11T12:50:32.711Z"
   },
   {
    "duration": -220,
    "start_time": "2021-12-11T12:50:32.713Z"
   },
   {
    "duration": -220,
    "start_time": "2021-12-11T12:50:32.714Z"
   },
   {
    "duration": -220,
    "start_time": "2021-12-11T12:50:32.716Z"
   },
   {
    "duration": -221,
    "start_time": "2021-12-11T12:50:32.718Z"
   },
   {
    "duration": -227,
    "start_time": "2021-12-11T12:50:32.726Z"
   },
   {
    "duration": -227,
    "start_time": "2021-12-11T12:50:32.727Z"
   },
   {
    "duration": -228,
    "start_time": "2021-12-11T12:50:32.729Z"
   },
   {
    "duration": 13,
    "start_time": "2021-12-11T12:52:26.769Z"
   },
   {
    "duration": 23,
    "start_time": "2021-12-11T12:52:42.327Z"
   },
   {
    "duration": 27,
    "start_time": "2021-12-11T12:53:30.749Z"
   },
   {
    "duration": 36,
    "start_time": "2021-12-11T13:03:31.371Z"
   },
   {
    "duration": 7,
    "start_time": "2021-12-11T13:04:31.120Z"
   },
   {
    "duration": 20,
    "start_time": "2021-12-11T13:04:37.471Z"
   },
   {
    "duration": 29,
    "start_time": "2021-12-11T13:06:00.642Z"
   },
   {
    "duration": 297,
    "start_time": "2021-12-11T13:08:29.066Z"
   },
   {
    "duration": 25,
    "start_time": "2021-12-11T13:08:41.116Z"
   },
   {
    "duration": 25,
    "start_time": "2021-12-11T13:09:04.842Z"
   },
   {
    "duration": 16,
    "start_time": "2021-12-11T13:09:12.697Z"
   },
   {
    "duration": 20,
    "start_time": "2021-12-11T13:09:16.710Z"
   },
   {
    "duration": 30,
    "start_time": "2021-12-11T13:15:15.883Z"
   },
   {
    "duration": 5,
    "start_time": "2021-12-11T13:15:44.280Z"
   },
   {
    "duration": 24,
    "start_time": "2021-12-11T13:15:57.740Z"
   },
   {
    "duration": 23,
    "start_time": "2021-12-11T13:16:31.900Z"
   },
   {
    "duration": 1260,
    "start_time": "2021-12-11T13:18:15.038Z"
   },
   {
    "duration": 1115,
    "start_time": "2021-12-11T13:18:37.272Z"
   },
   {
    "duration": 1048,
    "start_time": "2021-12-11T13:27:37.177Z"
   },
   {
    "duration": 20,
    "start_time": "2021-12-11T13:27:42.150Z"
   },
   {
    "duration": 18,
    "start_time": "2021-12-11T13:27:50.462Z"
   },
   {
    "duration": 297,
    "start_time": "2021-12-11T13:29:48.169Z"
   },
   {
    "duration": 19,
    "start_time": "2021-12-11T13:30:45.060Z"
   },
   {
    "duration": 32,
    "start_time": "2021-12-11T13:31:01.251Z"
   },
   {
    "duration": 23,
    "start_time": "2021-12-11T13:34:54.438Z"
   },
   {
    "duration": 15,
    "start_time": "2021-12-11T13:34:59.402Z"
   },
   {
    "duration": 17,
    "start_time": "2021-12-11T13:39:07.894Z"
   },
   {
    "duration": 22,
    "start_time": "2021-12-11T13:39:16.693Z"
   },
   {
    "duration": 39,
    "start_time": "2021-12-11T13:39:24.804Z"
   },
   {
    "duration": 7,
    "start_time": "2021-12-11T13:40:54.117Z"
   },
   {
    "duration": 6,
    "start_time": "2021-12-11T13:42:15.919Z"
   },
   {
    "duration": 23,
    "start_time": "2021-12-11T13:42:21.738Z"
   },
   {
    "duration": 35,
    "start_time": "2021-12-11T13:43:04.597Z"
   },
   {
    "duration": 36,
    "start_time": "2021-12-11T13:43:11.030Z"
   },
   {
    "duration": 4,
    "start_time": "2021-12-11T13:43:15.366Z"
   },
   {
    "duration": 23,
    "start_time": "2021-12-11T14:20:09.636Z"
   },
   {
    "duration": 9,
    "start_time": "2021-12-11T14:23:12.873Z"
   },
   {
    "duration": 15,
    "start_time": "2021-12-11T14:27:16.800Z"
   },
   {
    "duration": 15,
    "start_time": "2021-12-11T14:27:16.855Z"
   },
   {
    "duration": 25,
    "start_time": "2021-12-11T14:28:11.386Z"
   },
   {
    "duration": 7,
    "start_time": "2021-12-11T14:28:13.869Z"
   },
   {
    "duration": 5,
    "start_time": "2021-12-11T14:28:14.050Z"
   },
   {
    "duration": 9,
    "start_time": "2021-12-11T14:28:14.173Z"
   },
   {
    "duration": 16,
    "start_time": "2021-12-11T14:28:15.596Z"
   },
   {
    "duration": 14,
    "start_time": "2021-12-11T14:28:16.231Z"
   },
   {
    "duration": 18,
    "start_time": "2021-12-11T14:28:30.431Z"
   },
   {
    "duration": 117,
    "start_time": "2021-12-11T14:28:33.656Z"
   },
   {
    "duration": 122,
    "start_time": "2021-12-11T14:28:33.832Z"
   },
   {
    "duration": 30,
    "start_time": "2021-12-11T14:28:33.957Z"
   },
   {
    "duration": 20,
    "start_time": "2021-12-11T14:28:33.990Z"
   },
   {
    "duration": 31,
    "start_time": "2021-12-11T14:28:34.013Z"
   },
   {
    "duration": 29,
    "start_time": "2021-12-11T14:28:34.046Z"
   },
   {
    "duration": 25,
    "start_time": "2021-12-11T14:28:34.076Z"
   },
   {
    "duration": 8,
    "start_time": "2021-12-11T14:28:34.103Z"
   },
   {
    "duration": 6,
    "start_time": "2021-12-11T14:28:34.113Z"
   },
   {
    "duration": 29,
    "start_time": "2021-12-11T14:28:34.122Z"
   },
   {
    "duration": 30,
    "start_time": "2021-12-11T14:28:34.153Z"
   },
   {
    "duration": 25,
    "start_time": "2021-12-11T14:28:34.185Z"
   },
   {
    "duration": 7,
    "start_time": "2021-12-11T14:28:34.213Z"
   },
   {
    "duration": 5,
    "start_time": "2021-12-11T14:28:34.222Z"
   },
   {
    "duration": 6,
    "start_time": "2021-12-11T14:28:34.228Z"
   },
   {
    "duration": 4,
    "start_time": "2021-12-11T14:28:34.236Z"
   },
   {
    "duration": 4,
    "start_time": "2021-12-11T14:28:34.242Z"
   },
   {
    "duration": 4,
    "start_time": "2021-12-11T14:28:34.248Z"
   },
   {
    "duration": 3,
    "start_time": "2021-12-11T14:28:34.254Z"
   },
   {
    "duration": 4,
    "start_time": "2021-12-11T14:28:34.260Z"
   },
   {
    "duration": 7,
    "start_time": "2021-12-11T14:28:34.265Z"
   },
   {
    "duration": 514,
    "start_time": "2021-12-11T14:33:17.123Z"
   },
   {
    "duration": 941,
    "start_time": "2021-12-11T14:33:37.594Z"
   },
   {
    "duration": 38,
    "start_time": "2021-12-11T14:34:39.219Z"
   },
   {
    "duration": 43,
    "start_time": "2021-12-11T14:35:13.593Z"
   },
   {
    "duration": 13,
    "start_time": "2021-12-11T14:38:30.630Z"
   },
   {
    "duration": 86,
    "start_time": "2021-12-11T14:42:46.449Z"
   },
   {
    "duration": 24,
    "start_time": "2021-12-11T14:42:53.504Z"
   },
   {
    "duration": 24,
    "start_time": "2021-12-11T14:43:05.243Z"
   },
   {
    "duration": 20,
    "start_time": "2021-12-11T14:43:18.688Z"
   },
   {
    "duration": 25,
    "start_time": "2021-12-11T14:43:27.648Z"
   },
   {
    "duration": 18,
    "start_time": "2021-12-11T14:43:32.648Z"
   },
   {
    "duration": 22,
    "start_time": "2021-12-11T14:46:47.737Z"
   },
   {
    "duration": 14,
    "start_time": "2021-12-11T14:47:10.364Z"
   },
   {
    "duration": 7,
    "start_time": "2021-12-11T14:50:00.435Z"
   },
   {
    "duration": 11,
    "start_time": "2021-12-11T14:50:02.538Z"
   },
   {
    "duration": 7,
    "start_time": "2021-12-11T14:50:04.396Z"
   },
   {
    "duration": 3,
    "start_time": "2021-12-11T14:50:06.891Z"
   },
   {
    "duration": 84,
    "start_time": "2021-12-11T14:50:06.901Z"
   },
   {
    "duration": 21,
    "start_time": "2021-12-11T14:50:06.987Z"
   },
   {
    "duration": 9,
    "start_time": "2021-12-11T14:50:07.010Z"
   },
   {
    "duration": 38,
    "start_time": "2021-12-11T14:50:07.021Z"
   },
   {
    "duration": 23,
    "start_time": "2021-12-11T14:50:07.061Z"
   },
   {
    "duration": 25,
    "start_time": "2021-12-11T14:50:07.086Z"
   },
   {
    "duration": 42,
    "start_time": "2021-12-11T14:50:07.113Z"
   },
   {
    "duration": 14,
    "start_time": "2021-12-11T14:50:07.158Z"
   },
   {
    "duration": 8,
    "start_time": "2021-12-11T14:50:07.175Z"
   },
   {
    "duration": 4,
    "start_time": "2021-12-11T14:50:07.186Z"
   },
   {
    "duration": 11,
    "start_time": "2021-12-11T14:50:07.192Z"
   },
   {
    "duration": 50,
    "start_time": "2021-12-11T14:50:07.204Z"
   },
   {
    "duration": 34,
    "start_time": "2021-12-11T14:50:07.255Z"
   },
   {
    "duration": 15,
    "start_time": "2021-12-11T14:50:07.291Z"
   },
   {
    "duration": 4,
    "start_time": "2021-12-11T14:50:07.308Z"
   },
   {
    "duration": 30,
    "start_time": "2021-12-11T14:50:07.315Z"
   },
   {
    "duration": 6,
    "start_time": "2021-12-11T14:50:07.347Z"
   },
   {
    "duration": 6,
    "start_time": "2021-12-11T14:50:07.355Z"
   },
   {
    "duration": 4,
    "start_time": "2021-12-11T14:50:07.363Z"
   },
   {
    "duration": 4,
    "start_time": "2021-12-11T14:50:07.369Z"
   },
   {
    "duration": 4,
    "start_time": "2021-12-11T14:50:07.375Z"
   },
   {
    "duration": 5,
    "start_time": "2021-12-11T14:50:07.382Z"
   },
   {
    "duration": 4,
    "start_time": "2021-12-11T14:50:07.389Z"
   },
   {
    "duration": 13,
    "start_time": "2021-12-11T14:50:32.112Z"
   },
   {
    "duration": 9,
    "start_time": "2021-12-11T14:50:36.160Z"
   },
   {
    "duration": 4,
    "start_time": "2021-12-11T14:50:42.306Z"
   },
   {
    "duration": 8,
    "start_time": "2021-12-11T14:50:44.992Z"
   },
   {
    "duration": 21,
    "start_time": "2021-12-11T14:51:00.221Z"
   },
   {
    "duration": 43,
    "start_time": "2021-12-11T14:51:00.532Z"
   },
   {
    "duration": 15,
    "start_time": "2021-12-11T14:51:25.024Z"
   },
   {
    "duration": 2,
    "start_time": "2021-12-11T14:51:28.814Z"
   },
   {
    "duration": 323,
    "start_time": "2021-12-11T14:53:20.164Z"
   },
   {
    "duration": 275,
    "start_time": "2021-12-11T14:54:05.680Z"
   },
   {
    "duration": 267,
    "start_time": "2021-12-11T14:54:08.440Z"
   },
   {
    "duration": 141,
    "start_time": "2021-12-11T14:55:04.202Z"
   },
   {
    "duration": 174,
    "start_time": "2021-12-11T14:57:28.789Z"
   },
   {
    "duration": 139,
    "start_time": "2021-12-11T14:59:41.137Z"
   },
   {
    "duration": 150,
    "start_time": "2021-12-11T15:00:02.021Z"
   },
   {
    "duration": 136,
    "start_time": "2021-12-11T15:00:31.081Z"
   },
   {
    "duration": 221,
    "start_time": "2021-12-11T15:00:36.708Z"
   },
   {
    "duration": 183,
    "start_time": "2021-12-11T15:02:39.717Z"
   },
   {
    "duration": 123,
    "start_time": "2021-12-11T15:02:45.311Z"
   },
   {
    "duration": 3,
    "start_time": "2021-12-11T15:03:15.808Z"
   },
   {
    "duration": 107,
    "start_time": "2021-12-11T15:03:15.813Z"
   },
   {
    "duration": 30,
    "start_time": "2021-12-11T15:03:15.922Z"
   },
   {
    "duration": 9,
    "start_time": "2021-12-11T15:03:15.955Z"
   },
   {
    "duration": 21,
    "start_time": "2021-12-11T15:03:15.965Z"
   },
   {
    "duration": 23,
    "start_time": "2021-12-11T15:03:15.988Z"
   },
   {
    "duration": 59,
    "start_time": "2021-12-11T15:03:16.013Z"
   },
   {
    "duration": 13,
    "start_time": "2021-12-11T15:03:16.073Z"
   },
   {
    "duration": 14,
    "start_time": "2021-12-11T15:03:16.088Z"
   },
   {
    "duration": 6,
    "start_time": "2021-12-11T15:03:16.104Z"
   },
   {
    "duration": 7,
    "start_time": "2021-12-11T15:03:16.112Z"
   },
   {
    "duration": 13,
    "start_time": "2021-12-11T15:03:16.150Z"
   },
   {
    "duration": 15,
    "start_time": "2021-12-11T15:03:16.165Z"
   },
   {
    "duration": 15,
    "start_time": "2021-12-11T15:03:16.181Z"
   },
   {
    "duration": 60,
    "start_time": "2021-12-11T15:03:16.198Z"
   },
   {
    "duration": 152,
    "start_time": "2021-12-11T15:03:16.260Z"
   },
   {
    "duration": 132,
    "start_time": "2021-12-11T15:03:16.413Z"
   },
   {
    "duration": 9,
    "start_time": "2021-12-11T15:03:16.548Z"
   },
   {
    "duration": 11,
    "start_time": "2021-12-11T15:03:16.559Z"
   },
   {
    "duration": 8,
    "start_time": "2021-12-11T15:03:16.572Z"
   },
   {
    "duration": 14,
    "start_time": "2021-12-11T15:03:16.582Z"
   },
   {
    "duration": 13,
    "start_time": "2021-12-11T15:03:16.598Z"
   },
   {
    "duration": 7,
    "start_time": "2021-12-11T15:03:16.612Z"
   },
   {
    "duration": 6,
    "start_time": "2021-12-11T15:03:16.620Z"
   },
   {
    "duration": 126,
    "start_time": "2021-12-11T15:04:35.328Z"
   },
   {
    "duration": 634,
    "start_time": "2021-12-11T15:55:09.795Z"
   },
   {
    "duration": 83,
    "start_time": "2021-12-11T15:55:10.431Z"
   },
   {
    "duration": 30,
    "start_time": "2021-12-11T15:55:10.516Z"
   },
   {
    "duration": 10,
    "start_time": "2021-12-11T15:55:10.548Z"
   },
   {
    "duration": 23,
    "start_time": "2021-12-11T15:55:10.560Z"
   },
   {
    "duration": 24,
    "start_time": "2021-12-11T15:55:10.585Z"
   },
   {
    "duration": 48,
    "start_time": "2021-12-11T15:55:10.611Z"
   },
   {
    "duration": 14,
    "start_time": "2021-12-11T15:55:10.660Z"
   },
   {
    "duration": 15,
    "start_time": "2021-12-11T15:55:10.677Z"
   },
   {
    "duration": 7,
    "start_time": "2021-12-11T15:55:10.694Z"
   },
   {
    "duration": 5,
    "start_time": "2021-12-11T15:55:10.703Z"
   },
   {
    "duration": 38,
    "start_time": "2021-12-11T15:55:10.709Z"
   },
   {
    "duration": 15,
    "start_time": "2021-12-11T15:55:10.749Z"
   },
   {
    "duration": 13,
    "start_time": "2021-12-11T15:55:10.766Z"
   },
   {
    "duration": 32,
    "start_time": "2021-12-11T15:55:10.780Z"
   },
   {
    "duration": 167,
    "start_time": "2021-12-11T15:55:10.814Z"
   },
   {
    "duration": 138,
    "start_time": "2021-12-11T15:55:10.982Z"
   },
   {
    "duration": 131,
    "start_time": "2021-12-11T15:55:11.121Z"
   },
   {
    "duration": 748,
    "start_time": "2021-12-11T15:56:48.392Z"
   },
   {
    "duration": 95,
    "start_time": "2021-12-11T15:56:49.142Z"
   },
   {
    "duration": 28,
    "start_time": "2021-12-11T15:56:49.240Z"
   },
   {
    "duration": 10,
    "start_time": "2021-12-11T15:56:49.271Z"
   },
   {
    "duration": 48,
    "start_time": "2021-12-11T15:56:49.283Z"
   },
   {
    "duration": 40,
    "start_time": "2021-12-11T15:56:49.333Z"
   },
   {
    "duration": 33,
    "start_time": "2021-12-11T15:56:49.376Z"
   },
   {
    "duration": 21,
    "start_time": "2021-12-11T15:56:49.413Z"
   },
   {
    "duration": 25,
    "start_time": "2021-12-11T15:56:49.436Z"
   },
   {
    "duration": 11,
    "start_time": "2021-12-11T15:56:49.463Z"
   },
   {
    "duration": 6,
    "start_time": "2021-12-11T15:56:49.476Z"
   },
   {
    "duration": 29,
    "start_time": "2021-12-11T15:56:49.485Z"
   },
   {
    "duration": 32,
    "start_time": "2021-12-11T15:56:49.517Z"
   },
   {
    "duration": 22,
    "start_time": "2021-12-11T15:56:49.552Z"
   },
   {
    "duration": 45,
    "start_time": "2021-12-11T15:56:49.576Z"
   },
   {
    "duration": 168,
    "start_time": "2021-12-11T15:56:49.623Z"
   },
   {
    "duration": 143,
    "start_time": "2021-12-11T15:56:49.793Z"
   },
   {
    "duration": 194,
    "start_time": "2021-12-11T15:56:49.937Z"
   },
   {
    "duration": 256,
    "start_time": "2021-12-11T15:56:50.133Z"
   },
   {
    "duration": 54,
    "start_time": "2021-12-11T15:56:50.391Z"
   },
   {
    "duration": 2,
    "start_time": "2021-12-11T15:56:50.447Z"
   },
   {
    "duration": 14,
    "start_time": "2021-12-11T15:56:50.451Z"
   },
   {
    "duration": 7,
    "start_time": "2021-12-11T15:56:50.469Z"
   },
   {
    "duration": 13,
    "start_time": "2021-12-11T15:56:50.478Z"
   },
   {
    "duration": 149,
    "start_time": "2021-12-11T15:57:05.405Z"
   },
   {
    "duration": 163,
    "start_time": "2021-12-11T16:05:24.774Z"
   },
   {
    "duration": 541,
    "start_time": "2021-12-11T16:16:56.725Z"
   },
   {
    "duration": 563,
    "start_time": "2021-12-11T16:17:22.986Z"
   },
   {
    "duration": 536,
    "start_time": "2021-12-11T16:17:41.218Z"
   },
   {
    "duration": 5,
    "start_time": "2021-12-11T16:17:50.693Z"
   },
   {
    "duration": 9,
    "start_time": "2021-12-11T16:17:57.056Z"
   },
   {
    "duration": 89,
    "start_time": "2021-12-11T16:18:14.320Z"
   },
   {
    "duration": 7,
    "start_time": "2021-12-11T16:18:17.990Z"
   },
   {
    "duration": 7,
    "start_time": "2021-12-11T16:18:22.053Z"
   },
   {
    "duration": 286,
    "start_time": "2021-12-11T16:19:22.575Z"
   },
   {
    "duration": 5,
    "start_time": "2021-12-11T16:19:31.083Z"
   },
   {
    "duration": 8,
    "start_time": "2021-12-11T16:19:49.273Z"
   },
   {
    "duration": 8,
    "start_time": "2021-12-11T16:20:53.497Z"
   },
   {
    "duration": 7,
    "start_time": "2021-12-11T16:21:24.852Z"
   },
   {
    "duration": 6,
    "start_time": "2021-12-11T16:24:30.235Z"
   },
   {
    "duration": 123,
    "start_time": "2021-12-11T16:26:28.394Z"
   },
   {
    "duration": 6,
    "start_time": "2021-12-11T16:28:15.754Z"
   },
   {
    "duration": 7,
    "start_time": "2021-12-11T16:28:41.265Z"
   },
   {
    "duration": 312,
    "start_time": "2021-12-11T16:32:14.545Z"
   },
   {
    "duration": 7,
    "start_time": "2021-12-11T16:32:25.899Z"
   },
   {
    "duration": 7,
    "start_time": "2021-12-11T16:32:26.326Z"
   },
   {
    "duration": 7,
    "start_time": "2021-12-11T16:32:26.760Z"
   },
   {
    "duration": 298,
    "start_time": "2021-12-11T16:32:27.392Z"
   },
   {
    "duration": 307,
    "start_time": "2021-12-11T16:32:55.558Z"
   },
   {
    "duration": 12,
    "start_time": "2021-12-11T16:34:03.097Z"
   },
   {
    "duration": 13,
    "start_time": "2021-12-11T16:34:24.255Z"
   },
   {
    "duration": 2,
    "start_time": "2021-12-11T16:35:14.557Z"
   },
   {
    "duration": 96,
    "start_time": "2021-12-11T16:35:14.563Z"
   },
   {
    "duration": 21,
    "start_time": "2021-12-11T16:35:14.661Z"
   },
   {
    "duration": 22,
    "start_time": "2021-12-11T16:35:14.685Z"
   },
   {
    "duration": 22,
    "start_time": "2021-12-11T16:35:14.710Z"
   },
   {
    "duration": 33,
    "start_time": "2021-12-11T16:35:14.734Z"
   },
   {
    "duration": 26,
    "start_time": "2021-12-11T16:35:14.769Z"
   },
   {
    "duration": 23,
    "start_time": "2021-12-11T16:35:14.798Z"
   },
   {
    "duration": 40,
    "start_time": "2021-12-11T16:35:14.823Z"
   },
   {
    "duration": 8,
    "start_time": "2021-12-11T16:35:14.867Z"
   },
   {
    "duration": 26,
    "start_time": "2021-12-11T16:35:14.878Z"
   },
   {
    "duration": 27,
    "start_time": "2021-12-11T16:35:14.906Z"
   },
   {
    "duration": 32,
    "start_time": "2021-12-11T16:35:14.935Z"
   },
   {
    "duration": 27,
    "start_time": "2021-12-11T16:35:14.968Z"
   },
   {
    "duration": 34,
    "start_time": "2021-12-11T16:35:14.997Z"
   },
   {
    "duration": 134,
    "start_time": "2021-12-11T16:35:15.032Z"
   },
   {
    "duration": 125,
    "start_time": "2021-12-11T16:35:15.168Z"
   },
   {
    "duration": 140,
    "start_time": "2021-12-11T16:35:15.295Z"
   },
   {
    "duration": 144,
    "start_time": "2021-12-11T16:35:15.437Z"
   },
   {
    "duration": 162,
    "start_time": "2021-12-11T16:35:15.582Z"
   },
   {
    "duration": 6,
    "start_time": "2021-12-11T16:35:15.746Z"
   },
   {
    "duration": 17,
    "start_time": "2021-12-11T16:35:15.753Z"
   },
   {
    "duration": 27,
    "start_time": "2021-12-11T16:35:15.772Z"
   },
   {
    "duration": 32,
    "start_time": "2021-12-11T16:35:15.800Z"
   },
   {
    "duration": 33,
    "start_time": "2021-12-11T16:35:15.834Z"
   },
   {
    "duration": 136,
    "start_time": "2021-12-11T16:35:15.869Z"
   },
   {
    "duration": 134,
    "start_time": "2021-12-11T16:35:16.007Z"
   },
   {
    "duration": 205,
    "start_time": "2021-12-11T16:35:16.146Z"
   },
   {
    "duration": 141,
    "start_time": "2021-12-11T16:35:16.353Z"
   },
   {
    "duration": 155,
    "start_time": "2021-12-11T16:35:16.495Z"
   },
   {
    "duration": 12,
    "start_time": "2021-12-11T16:40:20.235Z"
   },
   {
    "duration": 32,
    "start_time": "2021-12-11T16:40:21.894Z"
   },
   {
    "duration": 2,
    "start_time": "2021-12-11T16:40:25.171Z"
   },
   {
    "duration": 83,
    "start_time": "2021-12-11T16:40:25.178Z"
   },
   {
    "duration": 19,
    "start_time": "2021-12-11T16:40:25.263Z"
   },
   {
    "duration": 9,
    "start_time": "2021-12-11T16:40:25.284Z"
   },
   {
    "duration": 19,
    "start_time": "2021-12-11T16:40:25.295Z"
   },
   {
    "duration": 43,
    "start_time": "2021-12-11T16:40:25.315Z"
   },
   {
    "duration": 24,
    "start_time": "2021-12-11T16:40:25.360Z"
   },
   {
    "duration": 11,
    "start_time": "2021-12-11T16:40:25.386Z"
   },
   {
    "duration": 11,
    "start_time": "2021-12-11T16:40:25.400Z"
   },
   {
    "duration": 35,
    "start_time": "2021-12-11T16:40:25.414Z"
   },
   {
    "duration": 4,
    "start_time": "2021-12-11T16:40:25.451Z"
   },
   {
    "duration": 11,
    "start_time": "2021-12-11T16:40:25.456Z"
   },
   {
    "duration": 15,
    "start_time": "2021-12-11T16:40:25.468Z"
   },
   {
    "duration": 14,
    "start_time": "2021-12-11T16:40:25.484Z"
   },
   {
    "duration": 57,
    "start_time": "2021-12-11T16:40:25.499Z"
   },
   {
    "duration": 151,
    "start_time": "2021-12-11T16:40:25.558Z"
   },
   {
    "duration": 135,
    "start_time": "2021-12-11T16:40:25.711Z"
   },
   {
    "duration": 138,
    "start_time": "2021-12-11T16:40:25.848Z"
   },
   {
    "duration": 153,
    "start_time": "2021-12-11T16:40:25.988Z"
   },
   {
    "duration": 152,
    "start_time": "2021-12-11T16:40:26.143Z"
   },
   {
    "duration": 8,
    "start_time": "2021-12-11T16:40:26.297Z"
   },
   {
    "duration": 7,
    "start_time": "2021-12-11T16:40:26.307Z"
   },
   {
    "duration": 29,
    "start_time": "2021-12-11T16:40:26.316Z"
   },
   {
    "duration": 12,
    "start_time": "2021-12-11T16:40:26.349Z"
   },
   {
    "duration": 33,
    "start_time": "2021-12-11T16:40:26.363Z"
   },
   {
    "duration": 163,
    "start_time": "2021-12-11T16:40:26.398Z"
   },
   {
    "duration": 137,
    "start_time": "2021-12-11T16:40:26.563Z"
   },
   {
    "duration": 149,
    "start_time": "2021-12-11T16:40:26.702Z"
   },
   {
    "duration": 218,
    "start_time": "2021-12-11T16:40:26.853Z"
   },
   {
    "duration": 165,
    "start_time": "2021-12-11T16:40:27.073Z"
   },
   {
    "duration": 3,
    "start_time": "2021-12-11T16:42:16.213Z"
   },
   {
    "duration": 84,
    "start_time": "2021-12-11T16:42:16.428Z"
   },
   {
    "duration": 31,
    "start_time": "2021-12-11T16:42:16.514Z"
   },
   {
    "duration": 9,
    "start_time": "2021-12-11T16:42:16.547Z"
   },
   {
    "duration": 20,
    "start_time": "2021-12-11T16:42:16.557Z"
   },
   {
    "duration": 22,
    "start_time": "2021-12-11T16:42:16.578Z"
   },
   {
    "duration": 48,
    "start_time": "2021-12-11T16:42:16.602Z"
   },
   {
    "duration": 12,
    "start_time": "2021-12-11T16:42:16.652Z"
   },
   {
    "duration": 14,
    "start_time": "2021-12-11T16:42:16.665Z"
   },
   {
    "duration": 6,
    "start_time": "2021-12-11T16:42:16.681Z"
   },
   {
    "duration": 4,
    "start_time": "2021-12-11T16:42:16.690Z"
   },
   {
    "duration": 10,
    "start_time": "2021-12-11T16:42:16.695Z"
   },
   {
    "duration": 48,
    "start_time": "2021-12-11T16:42:16.707Z"
   },
   {
    "duration": 14,
    "start_time": "2021-12-11T16:42:16.757Z"
   },
   {
    "duration": 34,
    "start_time": "2021-12-11T16:42:16.773Z"
   },
   {
    "duration": 164,
    "start_time": "2021-12-11T16:42:16.809Z"
   },
   {
    "duration": 134,
    "start_time": "2021-12-11T16:42:16.974Z"
   },
   {
    "duration": 136,
    "start_time": "2021-12-11T16:42:17.110Z"
   },
   {
    "duration": 158,
    "start_time": "2021-12-11T16:42:17.247Z"
   },
   {
    "duration": 164,
    "start_time": "2021-12-11T16:42:17.406Z"
   },
   {
    "duration": 6,
    "start_time": "2021-12-11T16:42:17.571Z"
   },
   {
    "duration": 7,
    "start_time": "2021-12-11T16:42:17.579Z"
   },
   {
    "duration": 6,
    "start_time": "2021-12-11T16:42:17.588Z"
   },
   {
    "duration": 11,
    "start_time": "2021-12-11T16:42:17.596Z"
   },
   {
    "duration": 67,
    "start_time": "2021-12-11T16:42:17.608Z"
   },
   {
    "duration": 147,
    "start_time": "2021-12-11T16:42:17.676Z"
   },
   {
    "duration": 147,
    "start_time": "2021-12-11T16:42:17.825Z"
   },
   {
    "duration": 154,
    "start_time": "2021-12-11T16:42:17.976Z"
   },
   {
    "duration": 7,
    "start_time": "2021-12-11T16:42:18.132Z"
   },
   {
    "duration": 6,
    "start_time": "2021-12-11T16:42:18.145Z"
   },
   {
    "duration": 10,
    "start_time": "2021-12-11T16:42:18.153Z"
   },
   {
    "duration": 12,
    "start_time": "2021-12-11T16:42:18.165Z"
   },
   {
    "duration": 233,
    "start_time": "2021-12-11T16:42:18.179Z"
   },
   {
    "duration": 195,
    "start_time": "2021-12-11T16:42:18.413Z"
   },
   {
    "duration": 137,
    "start_time": "2021-12-11T16:42:18.609Z"
   },
   {
    "duration": 6,
    "start_time": "2021-12-11T16:53:53.587Z"
   },
   {
    "duration": 8,
    "start_time": "2021-12-11T16:53:58.996Z"
   },
   {
    "duration": 6,
    "start_time": "2021-12-11T16:54:16.570Z"
   },
   {
    "duration": 5,
    "start_time": "2021-12-11T17:03:51.973Z"
   },
   {
    "duration": 672,
    "start_time": "2021-12-11T17:04:16.285Z"
   },
   {
    "duration": 4,
    "start_time": "2021-12-11T17:05:07.951Z"
   },
   {
    "duration": 580,
    "start_time": "2021-12-11T17:05:16.726Z"
   },
   {
    "duration": 5,
    "start_time": "2021-12-11T17:05:58.301Z"
   },
   {
    "duration": 555,
    "start_time": "2021-12-11T17:05:58.865Z"
   },
   {
    "duration": 5,
    "start_time": "2021-12-11T17:06:27.790Z"
   },
   {
    "duration": 36,
    "start_time": "2021-12-11T17:06:28.339Z"
   },
   {
    "duration": 7,
    "start_time": "2021-12-11T17:06:36.981Z"
   },
   {
    "duration": 7,
    "start_time": "2021-12-11T17:06:39.553Z"
   },
   {
    "duration": 7,
    "start_time": "2021-12-11T17:06:40.446Z"
   },
   {
    "duration": 11,
    "start_time": "2021-12-11T17:06:43.784Z"
   },
   {
    "duration": 33,
    "start_time": "2021-12-11T17:06:47.258Z"
   },
   {
    "duration": 132,
    "start_time": "2021-12-11T17:06:48.640Z"
   },
   {
    "duration": 5,
    "start_time": "2021-12-11T17:07:01.189Z"
   },
   {
    "duration": 69,
    "start_time": "2021-12-11T17:07:02.048Z"
   },
   {
    "duration": 132,
    "start_time": "2021-12-11T17:07:30.736Z"
   },
   {
    "duration": 7,
    "start_time": "2021-12-11T17:08:00.632Z"
   },
   {
    "duration": 6,
    "start_time": "2021-12-11T17:08:16.803Z"
   },
   {
    "duration": 7,
    "start_time": "2021-12-11T17:08:36.525Z"
   },
   {
    "duration": 127,
    "start_time": "2021-12-11T17:42:07.964Z"
   },
   {
    "duration": 6,
    "start_time": "2021-12-11T17:42:44.198Z"
   },
   {
    "duration": 3,
    "start_time": "2021-12-11T17:46:42.278Z"
   },
   {
    "duration": 6,
    "start_time": "2021-12-11T17:47:02.098Z"
   },
   {
    "duration": 2,
    "start_time": "2021-12-11T17:47:16.557Z"
   },
   {
    "duration": 83,
    "start_time": "2021-12-11T17:47:16.563Z"
   },
   {
    "duration": 20,
    "start_time": "2021-12-11T17:47:16.648Z"
   },
   {
    "duration": 8,
    "start_time": "2021-12-11T17:47:16.671Z"
   },
   {
    "duration": 21,
    "start_time": "2021-12-11T17:47:16.682Z"
   },
   {
    "duration": 41,
    "start_time": "2021-12-11T17:47:16.705Z"
   },
   {
    "duration": 24,
    "start_time": "2021-12-11T17:47:16.748Z"
   },
   {
    "duration": 12,
    "start_time": "2021-12-11T17:47:16.773Z"
   },
   {
    "duration": 14,
    "start_time": "2021-12-11T17:47:16.786Z"
   },
   {
    "duration": 7,
    "start_time": "2021-12-11T17:47:16.802Z"
   },
   {
    "duration": 34,
    "start_time": "2021-12-11T17:47:16.811Z"
   },
   {
    "duration": 10,
    "start_time": "2021-12-11T17:47:16.847Z"
   },
   {
    "duration": 15,
    "start_time": "2021-12-11T17:47:16.858Z"
   },
   {
    "duration": 14,
    "start_time": "2021-12-11T17:47:16.875Z"
   },
   {
    "duration": 54,
    "start_time": "2021-12-11T17:47:16.891Z"
   },
   {
    "duration": 143,
    "start_time": "2021-12-11T17:47:16.947Z"
   },
   {
    "duration": 130,
    "start_time": "2021-12-11T17:47:17.091Z"
   },
   {
    "duration": 133,
    "start_time": "2021-12-11T17:47:17.222Z"
   },
   {
    "duration": 145,
    "start_time": "2021-12-11T17:47:17.357Z"
   },
   {
    "duration": 154,
    "start_time": "2021-12-11T17:47:17.504Z"
   },
   {
    "duration": 4,
    "start_time": "2021-12-11T17:47:17.660Z"
   },
   {
    "duration": 136,
    "start_time": "2021-12-11T17:47:17.666Z"
   },
   {
    "duration": 3,
    "start_time": "2021-12-11T17:47:17.804Z"
   },
   {
    "duration": 4,
    "start_time": "2021-12-11T17:47:21.015Z"
   },
   {
    "duration": 6,
    "start_time": "2021-12-11T17:47:21.671Z"
   },
   {
    "duration": 7,
    "start_time": "2021-12-11T17:47:52.823Z"
   },
   {
    "duration": 5,
    "start_time": "2021-12-11T17:48:10.667Z"
   },
   {
    "duration": 7,
    "start_time": "2021-12-11T17:48:22.364Z"
   },
   {
    "duration": 3,
    "start_time": "2021-12-11T17:48:31.712Z"
   },
   {
    "duration": 111,
    "start_time": "2021-12-11T17:48:31.716Z"
   },
   {
    "duration": 19,
    "start_time": "2021-12-11T17:48:31.829Z"
   },
   {
    "duration": 20,
    "start_time": "2021-12-11T17:48:31.851Z"
   },
   {
    "duration": 20,
    "start_time": "2021-12-11T17:48:31.873Z"
   },
   {
    "duration": 21,
    "start_time": "2021-12-11T17:48:31.894Z"
   },
   {
    "duration": 31,
    "start_time": "2021-12-11T17:48:31.917Z"
   },
   {
    "duration": 12,
    "start_time": "2021-12-11T17:48:31.951Z"
   },
   {
    "duration": 13,
    "start_time": "2021-12-11T17:48:31.965Z"
   },
   {
    "duration": 6,
    "start_time": "2021-12-11T17:48:31.980Z"
   },
   {
    "duration": 5,
    "start_time": "2021-12-11T17:48:31.987Z"
   },
   {
    "duration": 11,
    "start_time": "2021-12-11T17:48:31.994Z"
   },
   {
    "duration": 47,
    "start_time": "2021-12-11T17:48:32.007Z"
   },
   {
    "duration": 15,
    "start_time": "2021-12-11T17:48:32.056Z"
   },
   {
    "duration": 35,
    "start_time": "2021-12-11T17:48:32.073Z"
   },
   {
    "duration": 155,
    "start_time": "2021-12-11T17:48:32.110Z"
   },
   {
    "duration": 130,
    "start_time": "2021-12-11T17:48:32.267Z"
   },
   {
    "duration": 199,
    "start_time": "2021-12-11T17:48:32.399Z"
   },
   {
    "duration": 148,
    "start_time": "2021-12-11T17:48:32.600Z"
   },
   {
    "duration": 155,
    "start_time": "2021-12-11T17:48:32.750Z"
   },
   {
    "duration": 4,
    "start_time": "2021-12-11T17:48:32.906Z"
   },
   {
    "duration": 139,
    "start_time": "2021-12-11T17:48:32.912Z"
   },
   {
    "duration": 3,
    "start_time": "2021-12-11T17:48:33.054Z"
   },
   {
    "duration": 11,
    "start_time": "2021-12-11T17:48:33.059Z"
   },
   {
    "duration": 11,
    "start_time": "2021-12-11T17:48:33.072Z"
   },
   {
    "duration": 12,
    "start_time": "2021-12-11T17:48:33.084Z"
   },
   {
    "duration": 14,
    "start_time": "2021-12-11T17:48:33.097Z"
   },
   {
    "duration": 6,
    "start_time": "2021-12-11T17:48:35.283Z"
   },
   {
    "duration": 4,
    "start_time": "2021-12-11T17:50:10.225Z"
   },
   {
    "duration": 8,
    "start_time": "2021-12-11T17:50:12.951Z"
   },
   {
    "duration": 6,
    "start_time": "2021-12-11T17:50:13.740Z"
   },
   {
    "duration": 6,
    "start_time": "2021-12-11T17:50:14.716Z"
   },
   {
    "duration": 6,
    "start_time": "2021-12-11T17:50:15.885Z"
   },
   {
    "duration": 31,
    "start_time": "2021-12-11T17:50:31.459Z"
   },
   {
    "duration": 133,
    "start_time": "2021-12-11T17:50:37.515Z"
   },
   {
    "duration": 3,
    "start_time": "2021-12-11T17:51:04.835Z"
   },
   {
    "duration": 93,
    "start_time": "2021-12-11T17:51:04.840Z"
   },
   {
    "duration": 20,
    "start_time": "2021-12-11T17:51:04.935Z"
   },
   {
    "duration": 26,
    "start_time": "2021-12-11T17:51:04.957Z"
   },
   {
    "duration": 31,
    "start_time": "2021-12-11T17:51:04.985Z"
   },
   {
    "duration": 43,
    "start_time": "2021-12-11T17:51:05.018Z"
   },
   {
    "duration": 24,
    "start_time": "2021-12-11T17:51:05.063Z"
   },
   {
    "duration": 30,
    "start_time": "2021-12-11T17:51:05.089Z"
   },
   {
    "duration": 34,
    "start_time": "2021-12-11T17:51:05.121Z"
   },
   {
    "duration": 35,
    "start_time": "2021-12-11T17:51:05.157Z"
   },
   {
    "duration": 19,
    "start_time": "2021-12-11T17:51:05.194Z"
   },
   {
    "duration": 29,
    "start_time": "2021-12-11T17:51:05.214Z"
   },
   {
    "duration": 34,
    "start_time": "2021-12-11T17:51:05.245Z"
   },
   {
    "duration": 16,
    "start_time": "2021-12-11T17:51:05.281Z"
   },
   {
    "duration": 61,
    "start_time": "2021-12-11T17:51:05.299Z"
   },
   {
    "duration": 149,
    "start_time": "2021-12-11T17:51:05.362Z"
   },
   {
    "duration": 130,
    "start_time": "2021-12-11T17:51:05.512Z"
   },
   {
    "duration": 134,
    "start_time": "2021-12-11T17:51:05.644Z"
   },
   {
    "duration": 155,
    "start_time": "2021-12-11T17:51:05.780Z"
   },
   {
    "duration": 156,
    "start_time": "2021-12-11T17:51:05.937Z"
   },
   {
    "duration": 5,
    "start_time": "2021-12-11T17:51:06.095Z"
   },
   {
    "duration": 154,
    "start_time": "2021-12-11T17:51:06.102Z"
   },
   {
    "duration": 3,
    "start_time": "2021-12-11T17:51:06.259Z"
   },
   {
    "duration": 30,
    "start_time": "2021-12-11T17:51:06.264Z"
   },
   {
    "duration": 9,
    "start_time": "2021-12-11T17:51:06.296Z"
   },
   {
    "duration": 9,
    "start_time": "2021-12-11T17:51:06.307Z"
   },
   {
    "duration": 17,
    "start_time": "2021-12-11T17:51:06.319Z"
   },
   {
    "duration": 38,
    "start_time": "2021-12-11T17:51:06.338Z"
   },
   {
    "duration": 136,
    "start_time": "2021-12-11T17:51:06.377Z"
   },
   {
    "duration": 132,
    "start_time": "2021-12-11T17:51:06.515Z"
   },
   {
    "duration": 198,
    "start_time": "2021-12-11T17:51:06.649Z"
   },
   {
    "duration": 2,
    "start_time": "2021-12-11T17:52:25.291Z"
   },
   {
    "duration": 78,
    "start_time": "2021-12-11T17:52:25.296Z"
   },
   {
    "duration": 19,
    "start_time": "2021-12-11T17:52:25.376Z"
   },
   {
    "duration": 8,
    "start_time": "2021-12-11T17:52:25.397Z"
   },
   {
    "duration": 39,
    "start_time": "2021-12-11T17:52:25.407Z"
   },
   {
    "duration": 22,
    "start_time": "2021-12-11T17:52:25.448Z"
   },
   {
    "duration": 23,
    "start_time": "2021-12-11T17:52:25.472Z"
   },
   {
    "duration": 11,
    "start_time": "2021-12-11T17:52:25.497Z"
   },
   {
    "duration": 38,
    "start_time": "2021-12-11T17:52:25.510Z"
   },
   {
    "duration": 6,
    "start_time": "2021-12-11T17:52:25.550Z"
   },
   {
    "duration": 8,
    "start_time": "2021-12-11T17:52:25.557Z"
   },
   {
    "duration": 16,
    "start_time": "2021-12-11T17:52:25.567Z"
   },
   {
    "duration": 16,
    "start_time": "2021-12-11T17:52:25.585Z"
   },
   {
    "duration": 15,
    "start_time": "2021-12-11T17:52:25.602Z"
   },
   {
    "duration": 52,
    "start_time": "2021-12-11T17:52:25.618Z"
   },
   {
    "duration": 142,
    "start_time": "2021-12-11T17:52:25.672Z"
   },
   {
    "duration": 124,
    "start_time": "2021-12-11T17:52:25.816Z"
   },
   {
    "duration": 131,
    "start_time": "2021-12-11T17:52:25.942Z"
   },
   {
    "duration": 145,
    "start_time": "2021-12-11T17:52:26.074Z"
   },
   {
    "duration": 151,
    "start_time": "2021-12-11T17:52:26.220Z"
   },
   {
    "duration": 5,
    "start_time": "2021-12-11T17:52:26.372Z"
   },
   {
    "duration": 126,
    "start_time": "2021-12-11T17:52:26.378Z"
   },
   {
    "duration": 5,
    "start_time": "2021-12-11T17:52:26.505Z"
   },
   {
    "duration": 6,
    "start_time": "2021-12-11T17:52:26.513Z"
   },
   {
    "duration": 24,
    "start_time": "2021-12-11T17:52:26.521Z"
   },
   {
    "duration": 5,
    "start_time": "2021-12-11T17:52:26.547Z"
   },
   {
    "duration": 6,
    "start_time": "2021-12-11T17:52:26.554Z"
   },
   {
    "duration": 31,
    "start_time": "2021-12-11T17:52:26.561Z"
   },
   {
    "duration": 157,
    "start_time": "2021-12-11T17:52:26.594Z"
   },
   {
    "duration": 130,
    "start_time": "2021-12-11T17:52:26.753Z"
   },
   {
    "duration": 134,
    "start_time": "2021-12-11T17:52:26.885Z"
   },
   {
    "duration": 6,
    "start_time": "2021-12-11T17:54:00.664Z"
   },
   {
    "duration": 6,
    "start_time": "2021-12-11T17:54:02.531Z"
   },
   {
    "duration": 2,
    "start_time": "2021-12-11T17:55:31.633Z"
   },
   {
    "duration": 81,
    "start_time": "2021-12-11T17:55:31.637Z"
   },
   {
    "duration": 17,
    "start_time": "2021-12-11T17:55:31.720Z"
   },
   {
    "duration": 11,
    "start_time": "2021-12-11T17:55:31.739Z"
   },
   {
    "duration": 18,
    "start_time": "2021-12-11T17:55:31.752Z"
   },
   {
    "duration": 20,
    "start_time": "2021-12-11T17:55:31.771Z"
   },
   {
    "duration": 21,
    "start_time": "2021-12-11T17:55:31.792Z"
   },
   {
    "duration": 35,
    "start_time": "2021-12-11T17:55:31.816Z"
   },
   {
    "duration": 12,
    "start_time": "2021-12-11T17:55:31.853Z"
   },
   {
    "duration": 6,
    "start_time": "2021-12-11T17:55:31.866Z"
   },
   {
    "duration": 4,
    "start_time": "2021-12-11T17:55:31.873Z"
   },
   {
    "duration": 10,
    "start_time": "2021-12-11T17:55:31.879Z"
   },
   {
    "duration": 14,
    "start_time": "2021-12-11T17:55:31.891Z"
   },
   {
    "duration": 40,
    "start_time": "2021-12-11T17:55:31.906Z"
   },
   {
    "duration": 32,
    "start_time": "2021-12-11T17:55:31.947Z"
   },
   {
    "duration": 139,
    "start_time": "2021-12-11T17:55:31.980Z"
   },
   {
    "duration": 125,
    "start_time": "2021-12-11T17:55:32.121Z"
   },
   {
    "duration": 197,
    "start_time": "2021-12-11T17:55:32.248Z"
   },
   {
    "duration": 141,
    "start_time": "2021-12-11T17:55:32.447Z"
   },
   {
    "duration": 150,
    "start_time": "2021-12-11T17:55:32.590Z"
   },
   {
    "duration": 5,
    "start_time": "2021-12-11T17:55:32.741Z"
   },
   {
    "duration": 132,
    "start_time": "2021-12-11T17:55:32.748Z"
   },
   {
    "duration": 3,
    "start_time": "2021-12-11T17:55:32.883Z"
   },
   {
    "duration": 28,
    "start_time": "2021-12-11T17:55:32.888Z"
   },
   {
    "duration": 14,
    "start_time": "2021-12-11T17:55:32.918Z"
   },
   {
    "duration": 21,
    "start_time": "2021-12-11T17:55:32.933Z"
   },
   {
    "duration": 27,
    "start_time": "2021-12-11T17:55:32.955Z"
   },
   {
    "duration": 41,
    "start_time": "2021-12-11T17:55:32.983Z"
   },
   {
    "duration": 125,
    "start_time": "2021-12-11T17:55:33.026Z"
   },
   {
    "duration": 125,
    "start_time": "2021-12-11T17:55:33.153Z"
   },
   {
    "duration": 175,
    "start_time": "2021-12-11T17:55:33.280Z"
   },
   {
    "duration": 3,
    "start_time": "2021-12-11T17:55:54.414Z"
   },
   {
    "duration": 6,
    "start_time": "2021-12-11T17:55:54.973Z"
   },
   {
    "duration": 7,
    "start_time": "2021-12-11T17:55:55.894Z"
   },
   {
    "duration": 6,
    "start_time": "2021-12-11T17:55:56.467Z"
   },
   {
    "duration": 6,
    "start_time": "2021-12-11T17:55:56.850Z"
   },
   {
    "duration": 3,
    "start_time": "2021-12-11T17:56:32.603Z"
   },
   {
    "duration": 78,
    "start_time": "2021-12-11T17:56:32.610Z"
   },
   {
    "duration": 19,
    "start_time": "2021-12-11T17:56:32.690Z"
   },
   {
    "duration": 9,
    "start_time": "2021-12-11T17:56:32.711Z"
   },
   {
    "duration": 40,
    "start_time": "2021-12-11T17:56:32.722Z"
   },
   {
    "duration": 22,
    "start_time": "2021-12-11T17:56:32.764Z"
   },
   {
    "duration": 26,
    "start_time": "2021-12-11T17:56:32.788Z"
   },
   {
    "duration": 34,
    "start_time": "2021-12-11T17:56:32.816Z"
   },
   {
    "duration": 12,
    "start_time": "2021-12-11T17:56:32.852Z"
   },
   {
    "duration": 6,
    "start_time": "2021-12-11T17:56:32.867Z"
   },
   {
    "duration": 4,
    "start_time": "2021-12-11T17:56:32.876Z"
   },
   {
    "duration": 9,
    "start_time": "2021-12-11T17:56:32.882Z"
   },
   {
    "duration": 56,
    "start_time": "2021-12-11T17:56:32.893Z"
   },
   {
    "duration": 15,
    "start_time": "2021-12-11T17:56:32.951Z"
   },
   {
    "duration": 36,
    "start_time": "2021-12-11T17:56:32.968Z"
   },
   {
    "duration": 155,
    "start_time": "2021-12-11T17:56:33.006Z"
   },
   {
    "duration": 139,
    "start_time": "2021-12-11T17:56:33.163Z"
   },
   {
    "duration": 134,
    "start_time": "2021-12-11T17:56:33.305Z"
   },
   {
    "duration": 138,
    "start_time": "2021-12-11T17:56:33.440Z"
   },
   {
    "duration": 156,
    "start_time": "2021-12-11T17:56:33.580Z"
   },
   {
    "duration": 6,
    "start_time": "2021-12-11T17:56:33.738Z"
   },
   {
    "duration": 5,
    "start_time": "2021-12-11T17:56:33.746Z"
   },
   {
    "duration": 5,
    "start_time": "2021-12-11T17:56:33.753Z"
   },
   {
    "duration": 5,
    "start_time": "2021-12-11T17:56:33.760Z"
   },
   {
    "duration": 6,
    "start_time": "2021-12-11T17:56:33.767Z"
   },
   {
    "duration": 97,
    "start_time": "2021-12-11T17:56:33.774Z"
   },
   {
    "duration": 119,
    "start_time": "2021-12-11T17:56:33.872Z"
   },
   {
    "duration": 4,
    "start_time": "2021-12-11T17:56:33.994Z"
   },
   {
    "duration": 7,
    "start_time": "2021-12-11T17:56:34.000Z"
   },
   {
    "duration": 5,
    "start_time": "2021-12-11T17:56:34.009Z"
   },
   {
    "duration": 30,
    "start_time": "2021-12-11T17:56:34.016Z"
   },
   {
    "duration": 6,
    "start_time": "2021-12-11T17:56:34.048Z"
   },
   {
    "duration": 30,
    "start_time": "2021-12-11T17:56:34.055Z"
   },
   {
    "duration": 157,
    "start_time": "2021-12-11T17:56:34.087Z"
   },
   {
    "duration": 136,
    "start_time": "2021-12-11T17:56:34.246Z"
   },
   {
    "duration": 186,
    "start_time": "2021-12-11T17:56:34.384Z"
   },
   {
    "duration": 4,
    "start_time": "2021-12-11T17:57:15.005Z"
   },
   {
    "duration": 875,
    "start_time": "2021-12-11T17:57:39.351Z"
   },
   {
    "duration": 90,
    "start_time": "2021-12-11T17:57:40.229Z"
   },
   {
    "duration": 28,
    "start_time": "2021-12-11T17:57:40.322Z"
   },
   {
    "duration": 10,
    "start_time": "2021-12-11T17:57:40.353Z"
   },
   {
    "duration": 76,
    "start_time": "2021-12-11T17:57:40.365Z"
   },
   {
    "duration": 26,
    "start_time": "2021-12-11T17:57:40.443Z"
   },
   {
    "duration": 29,
    "start_time": "2021-12-11T17:57:40.474Z"
   },
   {
    "duration": 16,
    "start_time": "2021-12-11T17:57:40.504Z"
   },
   {
    "duration": 18,
    "start_time": "2021-12-11T17:57:40.546Z"
   },
   {
    "duration": 15,
    "start_time": "2021-12-11T17:57:40.567Z"
   },
   {
    "duration": 19,
    "start_time": "2021-12-11T17:57:40.584Z"
   },
   {
    "duration": 17,
    "start_time": "2021-12-11T17:57:40.605Z"
   },
   {
    "duration": 41,
    "start_time": "2021-12-11T17:57:40.624Z"
   },
   {
    "duration": 17,
    "start_time": "2021-12-11T17:57:40.667Z"
   },
   {
    "duration": 58,
    "start_time": "2021-12-11T17:57:40.686Z"
   },
   {
    "duration": 149,
    "start_time": "2021-12-11T17:57:40.748Z"
   },
   {
    "duration": 147,
    "start_time": "2021-12-11T17:57:40.899Z"
   },
   {
    "duration": 137,
    "start_time": "2021-12-11T17:57:41.048Z"
   },
   {
    "duration": 188,
    "start_time": "2021-12-11T17:57:41.187Z"
   },
   {
    "duration": 161,
    "start_time": "2021-12-11T17:57:41.377Z"
   },
   {
    "duration": 4,
    "start_time": "2021-12-11T17:57:41.540Z"
   },
   {
    "duration": 24,
    "start_time": "2021-12-11T17:57:41.545Z"
   },
   {
    "duration": 14,
    "start_time": "2021-12-11T17:57:41.570Z"
   },
   {
    "duration": 32,
    "start_time": "2021-12-11T17:57:41.585Z"
   },
   {
    "duration": 20,
    "start_time": "2021-12-11T17:57:41.618Z"
   },
   {
    "duration": 12,
    "start_time": "2021-12-11T17:57:41.639Z"
   },
   {
    "duration": 135,
    "start_time": "2021-12-11T17:57:41.654Z"
   },
   {
    "duration": 3,
    "start_time": "2021-12-11T17:57:41.791Z"
   },
   {
    "duration": 13,
    "start_time": "2021-12-11T17:57:41.796Z"
   },
   {
    "duration": 19,
    "start_time": "2021-12-11T17:57:41.811Z"
   },
   {
    "duration": 21,
    "start_time": "2021-12-11T17:57:41.831Z"
   },
   {
    "duration": 23,
    "start_time": "2021-12-11T17:57:41.854Z"
   },
   {
    "duration": 58,
    "start_time": "2021-12-11T17:57:41.879Z"
   },
   {
    "duration": 126,
    "start_time": "2021-12-11T17:57:41.938Z"
   },
   {
    "duration": 123,
    "start_time": "2021-12-11T17:57:42.066Z"
   },
   {
    "duration": 136,
    "start_time": "2021-12-11T17:57:42.191Z"
   },
   {
    "duration": 3,
    "start_time": "2021-12-11T18:03:55.101Z"
   },
   {
    "duration": 84,
    "start_time": "2021-12-11T18:03:55.108Z"
   },
   {
    "duration": 19,
    "start_time": "2021-12-11T18:03:55.193Z"
   },
   {
    "duration": 7,
    "start_time": "2021-12-11T18:03:55.214Z"
   },
   {
    "duration": 32,
    "start_time": "2021-12-11T18:03:55.223Z"
   },
   {
    "duration": 21,
    "start_time": "2021-12-11T18:03:55.257Z"
   },
   {
    "duration": 24,
    "start_time": "2021-12-11T18:03:55.280Z"
   },
   {
    "duration": 11,
    "start_time": "2021-12-11T18:03:55.306Z"
   },
   {
    "duration": 37,
    "start_time": "2021-12-11T18:03:55.319Z"
   },
   {
    "duration": 6,
    "start_time": "2021-12-11T18:03:55.359Z"
   },
   {
    "duration": 4,
    "start_time": "2021-12-11T18:03:55.367Z"
   },
   {
    "duration": 10,
    "start_time": "2021-12-11T18:03:55.373Z"
   },
   {
    "duration": 15,
    "start_time": "2021-12-11T18:03:55.384Z"
   },
   {
    "duration": 14,
    "start_time": "2021-12-11T18:03:55.401Z"
   },
   {
    "duration": 32,
    "start_time": "2021-12-11T18:03:55.445Z"
   },
   {
    "duration": 146,
    "start_time": "2021-12-11T18:03:55.478Z"
   },
   {
    "duration": 134,
    "start_time": "2021-12-11T18:03:55.626Z"
   },
   {
    "duration": 128,
    "start_time": "2021-12-11T18:03:55.762Z"
   },
   {
    "duration": 141,
    "start_time": "2021-12-11T18:03:55.892Z"
   },
   {
    "duration": 158,
    "start_time": "2021-12-11T18:03:56.035Z"
   },
   {
    "duration": 4,
    "start_time": "2021-12-11T18:03:56.194Z"
   },
   {
    "duration": 8,
    "start_time": "2021-12-11T18:03:56.200Z"
   },
   {
    "duration": 8,
    "start_time": "2021-12-11T18:03:56.210Z"
   },
   {
    "duration": 5,
    "start_time": "2021-12-11T18:03:56.220Z"
   },
   {
    "duration": 5,
    "start_time": "2021-12-11T18:03:56.245Z"
   },
   {
    "duration": 5,
    "start_time": "2021-12-11T18:03:56.252Z"
   },
   {
    "duration": 145,
    "start_time": "2021-12-11T18:03:56.258Z"
   },
   {
    "duration": 5,
    "start_time": "2021-12-11T18:03:56.406Z"
   },
   {
    "duration": 5,
    "start_time": "2021-12-11T18:03:56.413Z"
   },
   {
    "duration": 26,
    "start_time": "2021-12-11T18:03:56.420Z"
   },
   {
    "duration": 5,
    "start_time": "2021-12-11T18:03:56.448Z"
   },
   {
    "duration": 28,
    "start_time": "2021-12-11T18:03:56.455Z"
   },
   {
    "duration": 150,
    "start_time": "2021-12-11T18:03:56.485Z"
   },
   {
    "duration": 186,
    "start_time": "2021-12-11T18:03:56.637Z"
   },
   {
    "duration": 135,
    "start_time": "2021-12-11T18:03:56.825Z"
   },
   {
    "duration": 5,
    "start_time": "2021-12-11T18:08:00.765Z"
   },
   {
    "duration": 3,
    "start_time": "2021-12-11T18:08:03.238Z"
   },
   {
    "duration": 117,
    "start_time": "2021-12-11T18:08:03.244Z"
   },
   {
    "duration": 21,
    "start_time": "2021-12-11T18:08:03.363Z"
   },
   {
    "duration": 12,
    "start_time": "2021-12-11T18:08:03.387Z"
   },
   {
    "duration": 25,
    "start_time": "2021-12-11T18:08:03.401Z"
   },
   {
    "duration": 38,
    "start_time": "2021-12-11T18:08:03.427Z"
   },
   {
    "duration": 25,
    "start_time": "2021-12-11T18:08:03.467Z"
   },
   {
    "duration": 10,
    "start_time": "2021-12-11T18:08:03.494Z"
   },
   {
    "duration": 41,
    "start_time": "2021-12-11T18:08:03.506Z"
   },
   {
    "duration": 6,
    "start_time": "2021-12-11T18:08:03.550Z"
   },
   {
    "duration": 10,
    "start_time": "2021-12-11T18:08:03.558Z"
   },
   {
    "duration": 16,
    "start_time": "2021-12-11T18:08:03.570Z"
   },
   {
    "duration": 31,
    "start_time": "2021-12-11T18:08:03.588Z"
   },
   {
    "duration": 24,
    "start_time": "2021-12-11T18:08:03.621Z"
   },
   {
    "duration": 36,
    "start_time": "2021-12-11T18:08:03.647Z"
   },
   {
    "duration": 150,
    "start_time": "2021-12-11T18:08:03.685Z"
   },
   {
    "duration": 127,
    "start_time": "2021-12-11T18:08:03.844Z"
   },
   {
    "duration": 144,
    "start_time": "2021-12-11T18:08:03.973Z"
   },
   {
    "duration": 161,
    "start_time": "2021-12-11T18:08:04.119Z"
   },
   {
    "duration": 202,
    "start_time": "2021-12-11T18:08:04.282Z"
   },
   {
    "duration": 5,
    "start_time": "2021-12-11T18:08:04.486Z"
   },
   {
    "duration": 23,
    "start_time": "2021-12-11T18:08:04.493Z"
   },
   {
    "duration": 19,
    "start_time": "2021-12-11T18:08:04.518Z"
   },
   {
    "duration": 12,
    "start_time": "2021-12-11T18:08:04.539Z"
   },
   {
    "duration": 19,
    "start_time": "2021-12-11T18:08:04.554Z"
   },
   {
    "duration": 24,
    "start_time": "2021-12-11T18:08:04.575Z"
   },
   {
    "duration": 716,
    "start_time": "2021-12-11T18:08:41.010Z"
   },
   {
    "duration": 85,
    "start_time": "2021-12-11T18:08:41.728Z"
   },
   {
    "duration": 29,
    "start_time": "2021-12-11T18:08:41.815Z"
   },
   {
    "duration": 10,
    "start_time": "2021-12-11T18:08:41.847Z"
   },
   {
    "duration": 36,
    "start_time": "2021-12-11T18:08:41.859Z"
   },
   {
    "duration": 31,
    "start_time": "2021-12-11T18:08:41.897Z"
   },
   {
    "duration": 34,
    "start_time": "2021-12-11T18:08:41.929Z"
   },
   {
    "duration": 13,
    "start_time": "2021-12-11T18:08:41.965Z"
   },
   {
    "duration": 35,
    "start_time": "2021-12-11T18:08:41.980Z"
   },
   {
    "duration": 8,
    "start_time": "2021-12-11T18:08:42.017Z"
   },
   {
    "duration": 26,
    "start_time": "2021-12-11T18:08:42.026Z"
   },
   {
    "duration": 26,
    "start_time": "2021-12-11T18:08:42.054Z"
   },
   {
    "duration": 20,
    "start_time": "2021-12-11T18:08:42.082Z"
   },
   {
    "duration": 18,
    "start_time": "2021-12-11T18:08:42.104Z"
   },
   {
    "duration": 31,
    "start_time": "2021-12-11T18:08:42.124Z"
   },
   {
    "duration": 136,
    "start_time": "2021-12-11T18:08:42.157Z"
   },
   {
    "duration": 141,
    "start_time": "2021-12-11T18:08:42.294Z"
   },
   {
    "duration": 149,
    "start_time": "2021-12-11T18:08:42.437Z"
   },
   {
    "duration": 250,
    "start_time": "2021-12-11T18:08:42.588Z"
   },
   {
    "duration": 220,
    "start_time": "2021-12-11T18:08:42.843Z"
   },
   {
    "duration": 4,
    "start_time": "2021-12-11T18:08:43.065Z"
   },
   {
    "duration": 8,
    "start_time": "2021-12-11T18:08:43.071Z"
   },
   {
    "duration": 6,
    "start_time": "2021-12-11T18:08:43.081Z"
   },
   {
    "duration": 7,
    "start_time": "2021-12-11T18:08:43.089Z"
   },
   {
    "duration": 7,
    "start_time": "2021-12-11T18:08:43.097Z"
   },
   {
    "duration": 7,
    "start_time": "2021-12-11T18:08:43.145Z"
   },
   {
    "duration": 689,
    "start_time": "2021-12-11T18:10:06.672Z"
   },
   {
    "duration": 88,
    "start_time": "2021-12-11T18:10:07.363Z"
   },
   {
    "duration": 21,
    "start_time": "2021-12-11T18:10:07.453Z"
   },
   {
    "duration": 9,
    "start_time": "2021-12-11T18:10:07.476Z"
   },
   {
    "duration": 26,
    "start_time": "2021-12-11T18:10:07.487Z"
   },
   {
    "duration": 37,
    "start_time": "2021-12-11T18:10:07.515Z"
   },
   {
    "duration": 24,
    "start_time": "2021-12-11T18:10:07.554Z"
   },
   {
    "duration": 14,
    "start_time": "2021-12-11T18:10:07.580Z"
   },
   {
    "duration": 14,
    "start_time": "2021-12-11T18:10:07.596Z"
   },
   {
    "duration": 31,
    "start_time": "2021-12-11T18:10:07.613Z"
   },
   {
    "duration": 5,
    "start_time": "2021-12-11T18:10:07.646Z"
   },
   {
    "duration": 31,
    "start_time": "2021-12-11T18:10:07.652Z"
   },
   {
    "duration": 24,
    "start_time": "2021-12-11T18:10:07.685Z"
   },
   {
    "duration": 14,
    "start_time": "2021-12-11T18:10:07.710Z"
   },
   {
    "duration": 33,
    "start_time": "2021-12-11T18:10:07.726Z"
   },
   {
    "duration": 149,
    "start_time": "2021-12-11T18:10:07.761Z"
   },
   {
    "duration": 134,
    "start_time": "2021-12-11T18:10:07.912Z"
   },
   {
    "duration": 136,
    "start_time": "2021-12-11T18:10:08.047Z"
   },
   {
    "duration": 208,
    "start_time": "2021-12-11T18:10:08.185Z"
   },
   {
    "duration": 159,
    "start_time": "2021-12-11T18:10:08.395Z"
   },
   {
    "duration": 4,
    "start_time": "2021-12-11T18:10:08.555Z"
   },
   {
    "duration": 7,
    "start_time": "2021-12-11T18:10:08.561Z"
   },
   {
    "duration": 6,
    "start_time": "2021-12-11T18:10:08.570Z"
   },
   {
    "duration": 5,
    "start_time": "2021-12-11T18:10:08.578Z"
   },
   {
    "duration": 5,
    "start_time": "2021-12-11T18:10:08.585Z"
   },
   {
    "duration": 5,
    "start_time": "2021-12-11T18:10:08.592Z"
   },
   {
    "duration": 628,
    "start_time": "2021-12-11T18:12:13.583Z"
   },
   {
    "duration": 94,
    "start_time": "2021-12-11T18:12:14.213Z"
   },
   {
    "duration": 19,
    "start_time": "2021-12-11T18:12:14.311Z"
   },
   {
    "duration": 18,
    "start_time": "2021-12-11T18:12:14.333Z"
   },
   {
    "duration": 19,
    "start_time": "2021-12-11T18:12:14.352Z"
   },
   {
    "duration": 25,
    "start_time": "2021-12-11T18:12:14.373Z"
   },
   {
    "duration": 55,
    "start_time": "2021-12-11T18:12:14.400Z"
   },
   {
    "duration": 14,
    "start_time": "2021-12-11T18:12:14.458Z"
   },
   {
    "duration": 15,
    "start_time": "2021-12-11T18:12:14.474Z"
   },
   {
    "duration": 8,
    "start_time": "2021-12-11T18:12:14.490Z"
   },
   {
    "duration": 4,
    "start_time": "2021-12-11T18:12:14.500Z"
   },
   {
    "duration": 40,
    "start_time": "2021-12-11T18:12:14.506Z"
   },
   {
    "duration": 15,
    "start_time": "2021-12-11T18:12:14.547Z"
   },
   {
    "duration": 14,
    "start_time": "2021-12-11T18:12:14.563Z"
   },
   {
    "duration": 34,
    "start_time": "2021-12-11T18:12:14.579Z"
   },
   {
    "duration": 171,
    "start_time": "2021-12-11T18:12:14.615Z"
   },
   {
    "duration": 134,
    "start_time": "2021-12-11T18:12:14.788Z"
   },
   {
    "duration": 137,
    "start_time": "2021-12-11T18:12:14.924Z"
   },
   {
    "duration": 193,
    "start_time": "2021-12-11T18:12:15.063Z"
   },
   {
    "duration": 166,
    "start_time": "2021-12-11T18:12:15.258Z"
   },
   {
    "duration": 4,
    "start_time": "2021-12-11T18:12:15.426Z"
   },
   {
    "duration": 15,
    "start_time": "2021-12-11T18:12:15.433Z"
   },
   {
    "duration": 6,
    "start_time": "2021-12-11T18:12:15.451Z"
   },
   {
    "duration": 6,
    "start_time": "2021-12-11T18:12:15.459Z"
   },
   {
    "duration": 5,
    "start_time": "2021-12-11T18:12:15.467Z"
   },
   {
    "duration": 8,
    "start_time": "2021-12-11T18:12:15.474Z"
   },
   {
    "duration": 684,
    "start_time": "2021-12-11T18:13:39.812Z"
   },
   {
    "duration": 89,
    "start_time": "2021-12-11T18:13:40.498Z"
   },
   {
    "duration": 20,
    "start_time": "2021-12-11T18:13:40.590Z"
   },
   {
    "duration": 9,
    "start_time": "2021-12-11T18:13:40.612Z"
   },
   {
    "duration": 35,
    "start_time": "2021-12-11T18:13:40.622Z"
   },
   {
    "duration": 24,
    "start_time": "2021-12-11T18:13:40.659Z"
   },
   {
    "duration": 24,
    "start_time": "2021-12-11T18:13:40.685Z"
   },
   {
    "duration": 34,
    "start_time": "2021-12-11T18:13:40.711Z"
   },
   {
    "duration": 14,
    "start_time": "2021-12-11T18:13:40.748Z"
   },
   {
    "duration": 7,
    "start_time": "2021-12-11T18:13:40.763Z"
   },
   {
    "duration": 14,
    "start_time": "2021-12-11T18:13:40.771Z"
   },
   {
    "duration": 21,
    "start_time": "2021-12-11T18:13:40.787Z"
   },
   {
    "duration": 28,
    "start_time": "2021-12-11T18:13:40.809Z"
   },
   {
    "duration": 15,
    "start_time": "2021-12-11T18:13:40.838Z"
   },
   {
    "duration": 34,
    "start_time": "2021-12-11T18:13:40.855Z"
   },
   {
    "duration": 161,
    "start_time": "2021-12-11T18:13:40.891Z"
   },
   {
    "duration": 134,
    "start_time": "2021-12-11T18:13:41.053Z"
   },
   {
    "duration": 135,
    "start_time": "2021-12-11T18:13:41.189Z"
   },
   {
    "duration": 185,
    "start_time": "2021-12-11T18:13:41.326Z"
   },
   {
    "duration": 158,
    "start_time": "2021-12-11T18:13:41.512Z"
   },
   {
    "duration": 3,
    "start_time": "2021-12-11T18:13:41.672Z"
   },
   {
    "duration": 8,
    "start_time": "2021-12-11T18:13:41.677Z"
   },
   {
    "duration": 6,
    "start_time": "2021-12-11T18:13:41.686Z"
   },
   {
    "duration": 6,
    "start_time": "2021-12-11T18:13:41.694Z"
   },
   {
    "duration": 5,
    "start_time": "2021-12-11T18:13:41.701Z"
   },
   {
    "duration": 4,
    "start_time": "2021-12-11T18:13:41.708Z"
   },
   {
    "duration": 65,
    "start_time": "2021-12-11T18:13:41.715Z"
   },
   {
    "duration": 5,
    "start_time": "2021-12-11T18:13:41.782Z"
   },
   {
    "duration": 7,
    "start_time": "2021-12-11T18:13:41.789Z"
   },
   {
    "duration": 6,
    "start_time": "2021-12-11T18:13:41.797Z"
   },
   {
    "duration": 6,
    "start_time": "2021-12-11T18:13:41.805Z"
   },
   {
    "duration": 32,
    "start_time": "2021-12-11T18:13:41.845Z"
   },
   {
    "duration": 157,
    "start_time": "2021-12-11T18:13:41.878Z"
   },
   {
    "duration": 135,
    "start_time": "2021-12-11T18:13:42.036Z"
   },
   {
    "duration": 135,
    "start_time": "2021-12-11T18:13:42.172Z"
   },
   {
    "duration": 647,
    "start_time": "2021-12-11T18:14:46.785Z"
   },
   {
    "duration": 89,
    "start_time": "2021-12-11T18:14:47.434Z"
   },
   {
    "duration": 21,
    "start_time": "2021-12-11T18:14:47.525Z"
   },
   {
    "duration": 21,
    "start_time": "2021-12-11T18:14:47.548Z"
   },
   {
    "duration": 56,
    "start_time": "2021-12-11T18:14:47.570Z"
   },
   {
    "duration": 37,
    "start_time": "2021-12-11T18:14:47.628Z"
   },
   {
    "duration": 26,
    "start_time": "2021-12-11T18:14:47.667Z"
   },
   {
    "duration": 25,
    "start_time": "2021-12-11T18:14:47.695Z"
   },
   {
    "duration": 30,
    "start_time": "2021-12-11T18:14:47.723Z"
   },
   {
    "duration": 25,
    "start_time": "2021-12-11T18:14:47.756Z"
   },
   {
    "duration": 16,
    "start_time": "2021-12-11T18:14:47.783Z"
   },
   {
    "duration": 28,
    "start_time": "2021-12-11T18:14:47.800Z"
   },
   {
    "duration": 39,
    "start_time": "2021-12-11T18:14:47.830Z"
   },
   {
    "duration": 23,
    "start_time": "2021-12-11T18:14:47.871Z"
   },
   {
    "duration": 52,
    "start_time": "2021-12-11T18:14:47.896Z"
   },
   {
    "duration": 153,
    "start_time": "2021-12-11T18:14:47.950Z"
   },
   {
    "duration": 138,
    "start_time": "2021-12-11T18:14:48.105Z"
   },
   {
    "duration": 153,
    "start_time": "2021-12-11T18:14:48.245Z"
   },
   {
    "duration": 204,
    "start_time": "2021-12-11T18:14:48.400Z"
   },
   {
    "duration": 160,
    "start_time": "2021-12-11T18:14:48.605Z"
   },
   {
    "duration": 4,
    "start_time": "2021-12-11T18:14:48.766Z"
   },
   {
    "duration": 28,
    "start_time": "2021-12-11T18:14:48.771Z"
   },
   {
    "duration": 17,
    "start_time": "2021-12-11T18:14:48.801Z"
   },
   {
    "duration": 21,
    "start_time": "2021-12-11T18:14:48.820Z"
   },
   {
    "duration": 21,
    "start_time": "2021-12-11T18:14:48.843Z"
   },
   {
    "duration": 22,
    "start_time": "2021-12-11T18:14:48.865Z"
   },
   {
    "duration": 50,
    "start_time": "2021-12-11T18:14:48.890Z"
   },
   {
    "duration": 5,
    "start_time": "2021-12-11T18:14:48.942Z"
   },
   {
    "duration": 18,
    "start_time": "2021-12-11T18:14:48.948Z"
   },
   {
    "duration": 4,
    "start_time": "2021-12-11T18:14:48.968Z"
   },
   {
    "duration": 5,
    "start_time": "2021-12-11T18:14:48.974Z"
   },
   {
    "duration": 28,
    "start_time": "2021-12-11T18:14:48.981Z"
   },
   {
    "duration": 148,
    "start_time": "2021-12-11T18:14:49.011Z"
   },
   {
    "duration": 123,
    "start_time": "2021-12-11T18:14:49.160Z"
   },
   {
    "duration": 143,
    "start_time": "2021-12-11T18:14:49.285Z"
   },
   {
    "duration": 641,
    "start_time": "2021-12-11T18:15:58.955Z"
   },
   {
    "duration": 85,
    "start_time": "2021-12-11T18:15:59.598Z"
   },
   {
    "duration": 19,
    "start_time": "2021-12-11T18:15:59.686Z"
   },
   {
    "duration": 9,
    "start_time": "2021-12-11T18:15:59.706Z"
   },
   {
    "duration": 31,
    "start_time": "2021-12-11T18:15:59.717Z"
   },
   {
    "duration": 23,
    "start_time": "2021-12-11T18:15:59.750Z"
   },
   {
    "duration": 24,
    "start_time": "2021-12-11T18:15:59.774Z"
   },
   {
    "duration": 13,
    "start_time": "2021-12-11T18:15:59.800Z"
   },
   {
    "duration": 34,
    "start_time": "2021-12-11T18:15:59.816Z"
   },
   {
    "duration": 6,
    "start_time": "2021-12-11T18:15:59.852Z"
   },
   {
    "duration": 4,
    "start_time": "2021-12-11T18:15:59.860Z"
   },
   {
    "duration": 10,
    "start_time": "2021-12-11T18:15:59.865Z"
   },
   {
    "duration": 15,
    "start_time": "2021-12-11T18:15:59.876Z"
   },
   {
    "duration": 14,
    "start_time": "2021-12-11T18:15:59.893Z"
   },
   {
    "duration": 62,
    "start_time": "2021-12-11T18:15:59.909Z"
   },
   {
    "duration": 163,
    "start_time": "2021-12-11T18:15:59.973Z"
   },
   {
    "duration": 140,
    "start_time": "2021-12-11T18:16:00.138Z"
   },
   {
    "duration": 135,
    "start_time": "2021-12-11T18:16:00.280Z"
   },
   {
    "duration": 185,
    "start_time": "2021-12-11T18:16:00.417Z"
   },
   {
    "duration": 155,
    "start_time": "2021-12-11T18:16:00.604Z"
   },
   {
    "duration": 4,
    "start_time": "2021-12-11T18:16:00.761Z"
   },
   {
    "duration": 11,
    "start_time": "2021-12-11T18:16:00.766Z"
   },
   {
    "duration": 11,
    "start_time": "2021-12-11T18:16:00.779Z"
   },
   {
    "duration": 14,
    "start_time": "2021-12-11T18:16:00.791Z"
   },
   {
    "duration": 11,
    "start_time": "2021-12-11T18:16:00.806Z"
   },
   {
    "duration": 19,
    "start_time": "2021-12-11T18:16:00.819Z"
   },
   {
    "duration": 132,
    "start_time": "2021-12-11T18:16:00.841Z"
   },
   {
    "duration": 6,
    "start_time": "2021-12-11T18:16:00.975Z"
   },
   {
    "duration": 24,
    "start_time": "2021-12-11T18:16:00.982Z"
   },
   {
    "duration": 8,
    "start_time": "2021-12-11T18:16:01.008Z"
   },
   {
    "duration": 11,
    "start_time": "2021-12-11T18:16:01.017Z"
   },
   {
    "duration": 39,
    "start_time": "2021-12-11T18:16:01.029Z"
   },
   {
    "duration": 134,
    "start_time": "2021-12-11T18:16:01.070Z"
   },
   {
    "duration": 127,
    "start_time": "2021-12-11T18:16:01.206Z"
   },
   {
    "duration": 133,
    "start_time": "2021-12-11T18:16:01.335Z"
   },
   {
    "duration": 685,
    "start_time": "2021-12-11T18:18:32.250Z"
   },
   {
    "duration": 79,
    "start_time": "2021-12-11T18:18:32.936Z"
   },
   {
    "duration": 19,
    "start_time": "2021-12-11T18:18:33.017Z"
   },
   {
    "duration": 8,
    "start_time": "2021-12-11T18:18:33.044Z"
   },
   {
    "duration": 20,
    "start_time": "2021-12-11T18:18:33.054Z"
   },
   {
    "duration": 24,
    "start_time": "2021-12-11T18:18:33.075Z"
   },
   {
    "duration": 54,
    "start_time": "2021-12-11T18:18:33.101Z"
   },
   {
    "duration": 13,
    "start_time": "2021-12-11T18:18:33.157Z"
   },
   {
    "duration": 14,
    "start_time": "2021-12-11T18:18:33.173Z"
   },
   {
    "duration": 8,
    "start_time": "2021-12-11T18:18:33.189Z"
   },
   {
    "duration": 5,
    "start_time": "2021-12-11T18:18:33.199Z"
   },
   {
    "duration": 42,
    "start_time": "2021-12-11T18:18:33.205Z"
   },
   {
    "duration": 22,
    "start_time": "2021-12-11T18:18:33.249Z"
   },
   {
    "duration": 15,
    "start_time": "2021-12-11T18:18:33.274Z"
   },
   {
    "duration": 62,
    "start_time": "2021-12-11T18:18:33.291Z"
   },
   {
    "duration": 159,
    "start_time": "2021-12-11T18:18:33.355Z"
   },
   {
    "duration": 131,
    "start_time": "2021-12-11T18:18:33.516Z"
   },
   {
    "duration": 130,
    "start_time": "2021-12-11T18:18:33.648Z"
   },
   {
    "duration": 230,
    "start_time": "2021-12-11T18:18:33.780Z"
   },
   {
    "duration": 152,
    "start_time": "2021-12-11T18:18:34.012Z"
   },
   {
    "duration": 3,
    "start_time": "2021-12-11T18:18:34.166Z"
   },
   {
    "duration": 8,
    "start_time": "2021-12-11T18:18:34.171Z"
   },
   {
    "duration": 5,
    "start_time": "2021-12-11T18:18:34.181Z"
   },
   {
    "duration": 5,
    "start_time": "2021-12-11T18:18:34.188Z"
   },
   {
    "duration": 5,
    "start_time": "2021-12-11T18:18:34.195Z"
   },
   {
    "duration": 5,
    "start_time": "2021-12-11T18:18:34.202Z"
   },
   {
    "duration": 641,
    "start_time": "2021-12-11T18:18:34.210Z"
   },
   {
    "duration": -93,
    "start_time": "2021-12-11T18:18:34.946Z"
   },
   {
    "duration": -95,
    "start_time": "2021-12-11T18:18:34.949Z"
   },
   {
    "duration": -97,
    "start_time": "2021-12-11T18:18:34.952Z"
   },
   {
    "duration": -98,
    "start_time": "2021-12-11T18:18:34.954Z"
   },
   {
    "duration": -100,
    "start_time": "2021-12-11T18:18:34.956Z"
   },
   {
    "duration": -247,
    "start_time": "2021-12-11T18:18:35.104Z"
   },
   {
    "duration": -249,
    "start_time": "2021-12-11T18:18:35.107Z"
   },
   {
    "duration": -251,
    "start_time": "2021-12-11T18:18:35.110Z"
   },
   {
    "duration": 622,
    "start_time": "2021-12-11T18:19:16.977Z"
   },
   {
    "duration": 81,
    "start_time": "2021-12-11T18:19:17.600Z"
   },
   {
    "duration": 20,
    "start_time": "2021-12-11T18:19:17.683Z"
   },
   {
    "duration": 52,
    "start_time": "2021-12-11T18:19:17.705Z"
   },
   {
    "duration": 37,
    "start_time": "2021-12-11T18:19:17.759Z"
   },
   {
    "duration": 39,
    "start_time": "2021-12-11T18:19:17.798Z"
   },
   {
    "duration": 34,
    "start_time": "2021-12-11T18:19:17.839Z"
   },
   {
    "duration": 14,
    "start_time": "2021-12-11T18:19:17.875Z"
   },
   {
    "duration": 38,
    "start_time": "2021-12-11T18:19:17.891Z"
   },
   {
    "duration": 15,
    "start_time": "2021-12-11T18:19:17.931Z"
   },
   {
    "duration": 18,
    "start_time": "2021-12-11T18:19:17.948Z"
   },
   {
    "duration": 31,
    "start_time": "2021-12-11T18:19:17.968Z"
   },
   {
    "duration": 34,
    "start_time": "2021-12-11T18:19:18.001Z"
   },
   {
    "duration": 28,
    "start_time": "2021-12-11T18:19:18.037Z"
   },
   {
    "duration": 64,
    "start_time": "2021-12-11T18:19:18.066Z"
   },
   {
    "duration": 137,
    "start_time": "2021-12-11T18:19:18.132Z"
   },
   {
    "duration": 144,
    "start_time": "2021-12-11T18:19:18.271Z"
   },
   {
    "duration": 140,
    "start_time": "2021-12-11T18:19:18.417Z"
   },
   {
    "duration": 184,
    "start_time": "2021-12-11T18:19:18.558Z"
   },
   {
    "duration": 155,
    "start_time": "2021-12-11T18:19:18.743Z"
   },
   {
    "duration": 4,
    "start_time": "2021-12-11T18:19:18.899Z"
   },
   {
    "duration": 59,
    "start_time": "2021-12-11T18:19:18.904Z"
   },
   {
    "duration": 38,
    "start_time": "2021-12-11T18:19:18.964Z"
   },
   {
    "duration": 36,
    "start_time": "2021-12-11T18:19:19.003Z"
   },
   {
    "duration": 35,
    "start_time": "2021-12-11T18:19:19.040Z"
   },
   {
    "duration": 34,
    "start_time": "2021-12-11T18:19:19.077Z"
   },
   {
    "duration": 176,
    "start_time": "2021-12-11T18:19:19.114Z"
   },
   {
    "duration": 5,
    "start_time": "2021-12-11T18:19:19.292Z"
   },
   {
    "duration": 52,
    "start_time": "2021-12-11T18:19:19.298Z"
   },
   {
    "duration": 26,
    "start_time": "2021-12-11T18:19:19.352Z"
   },
   {
    "duration": 29,
    "start_time": "2021-12-11T18:19:19.380Z"
   },
   {
    "duration": 75,
    "start_time": "2021-12-11T18:19:19.410Z"
   },
   {
    "duration": 169,
    "start_time": "2021-12-11T18:19:19.487Z"
   },
   {
    "duration": 141,
    "start_time": "2021-12-11T18:19:19.658Z"
   },
   {
    "duration": 194,
    "start_time": "2021-12-11T18:19:19.801Z"
   },
   {
    "duration": 1319,
    "start_time": "2021-12-12T01:30:18.357Z"
   },
   {
    "duration": 114,
    "start_time": "2021-12-12T01:30:19.679Z"
   },
   {
    "duration": 29,
    "start_time": "2021-12-12T01:30:19.796Z"
   },
   {
    "duration": 13,
    "start_time": "2021-12-12T01:30:19.828Z"
   },
   {
    "duration": 26,
    "start_time": "2021-12-12T01:30:19.843Z"
   },
   {
    "duration": 67,
    "start_time": "2021-12-12T01:30:19.871Z"
   },
   {
    "duration": 33,
    "start_time": "2021-12-12T01:30:19.941Z"
   },
   {
    "duration": 40,
    "start_time": "2021-12-12T01:30:19.978Z"
   },
   {
    "duration": 21,
    "start_time": "2021-12-12T01:30:20.021Z"
   },
   {
    "duration": 11,
    "start_time": "2021-12-12T01:30:20.045Z"
   },
   {
    "duration": 6,
    "start_time": "2021-12-12T01:30:20.058Z"
   },
   {
    "duration": 13,
    "start_time": "2021-12-12T01:30:20.066Z"
   },
   {
    "duration": 54,
    "start_time": "2021-12-12T01:30:20.081Z"
   },
   {
    "duration": 23,
    "start_time": "2021-12-12T01:30:20.137Z"
   },
   {
    "duration": 80,
    "start_time": "2021-12-12T01:30:20.163Z"
   },
   {
    "duration": 240,
    "start_time": "2021-12-12T01:30:20.245Z"
   },
   {
    "duration": 213,
    "start_time": "2021-12-12T01:30:20.487Z"
   },
   {
    "duration": 217,
    "start_time": "2021-12-12T01:30:20.702Z"
   },
   {
    "duration": 295,
    "start_time": "2021-12-12T01:30:20.922Z"
   },
   {
    "duration": 256,
    "start_time": "2021-12-12T01:30:21.219Z"
   },
   {
    "duration": 7,
    "start_time": "2021-12-12T01:30:21.478Z"
   },
   {
    "duration": 31,
    "start_time": "2021-12-12T01:30:21.488Z"
   },
   {
    "duration": 9,
    "start_time": "2021-12-12T01:30:21.525Z"
   },
   {
    "duration": 9,
    "start_time": "2021-12-12T01:30:21.538Z"
   },
   {
    "duration": 10,
    "start_time": "2021-12-12T01:30:21.550Z"
   },
   {
    "duration": 55,
    "start_time": "2021-12-12T01:30:21.562Z"
   },
   {
    "duration": 215,
    "start_time": "2021-12-12T01:30:21.621Z"
   },
   {
    "duration": 9,
    "start_time": "2021-12-12T01:30:21.839Z"
   },
   {
    "duration": 8,
    "start_time": "2021-12-12T01:30:21.850Z"
   },
   {
    "duration": 10,
    "start_time": "2021-12-12T01:30:21.860Z"
   },
   {
    "duration": 7,
    "start_time": "2021-12-12T01:30:21.872Z"
   },
   {
    "duration": 76,
    "start_time": "2021-12-12T01:30:21.882Z"
   },
   {
    "duration": 231,
    "start_time": "2021-12-12T01:30:21.960Z"
   },
   {
    "duration": 207,
    "start_time": "2021-12-12T01:30:22.194Z"
   },
   {
    "duration": 223,
    "start_time": "2021-12-12T01:30:22.404Z"
   },
   {
    "duration": 23,
    "start_time": "2021-12-12T01:31:34.239Z"
   },
   {
    "duration": 38,
    "start_time": "2021-12-12T01:38:15.395Z"
   },
   {
    "duration": 5,
    "start_time": "2021-12-12T01:40:49.068Z"
   },
   {
    "duration": 22,
    "start_time": "2021-12-12T01:41:25.594Z"
   },
   {
    "duration": 16,
    "start_time": "2021-12-12T01:41:38.219Z"
   },
   {
    "duration": 22,
    "start_time": "2021-12-12T01:41:51.644Z"
   },
   {
    "duration": 860,
    "start_time": "2021-12-12T02:01:34.743Z"
   },
   {
    "duration": 119,
    "start_time": "2021-12-12T02:01:35.605Z"
   },
   {
    "duration": 26,
    "start_time": "2021-12-12T02:01:35.727Z"
   },
   {
    "duration": 14,
    "start_time": "2021-12-12T02:01:35.755Z"
   },
   {
    "duration": 55,
    "start_time": "2021-12-12T02:01:35.771Z"
   },
   {
    "duration": 35,
    "start_time": "2021-12-12T02:01:35.828Z"
   },
   {
    "duration": 54,
    "start_time": "2021-12-12T02:01:35.866Z"
   },
   {
    "duration": 19,
    "start_time": "2021-12-12T02:01:35.924Z"
   },
   {
    "duration": 22,
    "start_time": "2021-12-12T02:01:35.946Z"
   },
   {
    "duration": 11,
    "start_time": "2021-12-12T02:01:35.970Z"
   },
   {
    "duration": 5,
    "start_time": "2021-12-12T02:01:36.018Z"
   },
   {
    "duration": 13,
    "start_time": "2021-12-12T02:01:36.025Z"
   },
   {
    "duration": 38,
    "start_time": "2021-12-12T02:01:36.040Z"
   },
   {
    "duration": 4,
    "start_time": "2021-12-12T02:01:36.080Z"
   },
   {
    "duration": 55,
    "start_time": "2021-12-12T02:01:36.086Z"
   },
   {
    "duration": 18,
    "start_time": "2021-12-12T02:01:36.144Z"
   },
   {
    "duration": 53,
    "start_time": "2021-12-12T02:01:36.164Z"
   },
   {
    "duration": 52,
    "start_time": "2021-12-12T02:01:36.220Z"
   },
   {
    "duration": 250,
    "start_time": "2021-12-12T02:01:36.275Z"
   },
   {
    "duration": 213,
    "start_time": "2021-12-12T02:01:36.527Z"
   },
   {
    "duration": 221,
    "start_time": "2021-12-12T02:01:36.743Z"
   },
   {
    "duration": 288,
    "start_time": "2021-12-12T02:01:36.966Z"
   },
   {
    "duration": 240,
    "start_time": "2021-12-12T02:01:37.259Z"
   },
   {
    "duration": 6,
    "start_time": "2021-12-12T02:01:37.502Z"
   },
   {
    "duration": 8,
    "start_time": "2021-12-12T02:01:37.517Z"
   },
   {
    "duration": 9,
    "start_time": "2021-12-12T02:01:37.527Z"
   },
   {
    "duration": 8,
    "start_time": "2021-12-12T02:01:37.538Z"
   },
   {
    "duration": 12,
    "start_time": "2021-12-12T02:01:37.548Z"
   },
   {
    "duration": 9,
    "start_time": "2021-12-12T02:01:37.562Z"
   },
   {
    "duration": 203,
    "start_time": "2021-12-12T02:01:37.618Z"
   },
   {
    "duration": 7,
    "start_time": "2021-12-12T02:01:37.823Z"
   },
   {
    "duration": 8,
    "start_time": "2021-12-12T02:01:37.833Z"
   },
   {
    "duration": 8,
    "start_time": "2021-12-12T02:01:37.843Z"
   },
   {
    "duration": 7,
    "start_time": "2021-12-12T02:01:37.854Z"
   },
   {
    "duration": 99,
    "start_time": "2021-12-12T02:01:37.863Z"
   },
   {
    "duration": 233,
    "start_time": "2021-12-12T02:01:37.964Z"
   },
   {
    "duration": 204,
    "start_time": "2021-12-12T02:01:38.199Z"
   },
   {
    "duration": 239,
    "start_time": "2021-12-12T02:01:38.405Z"
   },
   {
    "duration": 964,
    "start_time": "2021-12-12T02:12:35.213Z"
   },
   {
    "duration": 115,
    "start_time": "2021-12-12T02:12:36.179Z"
   },
   {
    "duration": 34,
    "start_time": "2021-12-12T02:12:36.297Z"
   },
   {
    "duration": 13,
    "start_time": "2021-12-12T02:12:36.334Z"
   },
   {
    "duration": 30,
    "start_time": "2021-12-12T02:12:36.350Z"
   },
   {
    "duration": 60,
    "start_time": "2021-12-12T02:12:36.382Z"
   },
   {
    "duration": 34,
    "start_time": "2021-12-12T02:12:36.444Z"
   },
   {
    "duration": 39,
    "start_time": "2021-12-12T02:12:36.481Z"
   },
   {
    "duration": 22,
    "start_time": "2021-12-12T02:12:36.524Z"
   },
   {
    "duration": 10,
    "start_time": "2021-12-12T02:12:36.549Z"
   },
   {
    "duration": 5,
    "start_time": "2021-12-12T02:12:36.562Z"
   },
   {
    "duration": 49,
    "start_time": "2021-12-12T02:12:36.570Z"
   },
   {
    "duration": 39,
    "start_time": "2021-12-12T02:12:36.621Z"
   },
   {
    "duration": 5,
    "start_time": "2021-12-12T02:12:36.662Z"
   },
   {
    "duration": 55,
    "start_time": "2021-12-12T02:12:36.669Z"
   },
   {
    "duration": 17,
    "start_time": "2021-12-12T02:12:36.727Z"
   },
   {
    "duration": 22,
    "start_time": "2021-12-12T02:12:36.747Z"
   },
   {
    "duration": 80,
    "start_time": "2021-12-12T02:12:36.771Z"
   },
   {
    "duration": 245,
    "start_time": "2021-12-12T02:12:36.854Z"
   },
   {
    "duration": 218,
    "start_time": "2021-12-12T02:12:37.101Z"
   },
   {
    "duration": 227,
    "start_time": "2021-12-12T02:12:37.321Z"
   },
   {
    "duration": 300,
    "start_time": "2021-12-12T02:12:37.550Z"
   },
   {
    "duration": 246,
    "start_time": "2021-12-12T02:12:37.853Z"
   },
   {
    "duration": 15,
    "start_time": "2021-12-12T02:12:38.102Z"
   },
   {
    "duration": 7,
    "start_time": "2021-12-12T02:12:38.119Z"
   },
   {
    "duration": 14,
    "start_time": "2021-12-12T02:12:38.129Z"
   },
   {
    "duration": 13,
    "start_time": "2021-12-12T02:12:38.147Z"
   },
   {
    "duration": 8,
    "start_time": "2021-12-12T02:12:38.162Z"
   },
   {
    "duration": 245,
    "start_time": "2021-12-12T02:12:38.172Z"
   },
   {
    "duration": 7,
    "start_time": "2021-12-12T02:12:38.419Z"
   },
   {
    "duration": 9,
    "start_time": "2021-12-12T02:12:38.428Z"
   },
   {
    "duration": 9,
    "start_time": "2021-12-12T02:12:38.439Z"
   },
   {
    "duration": 7,
    "start_time": "2021-12-12T02:12:38.450Z"
   },
   {
    "duration": 94,
    "start_time": "2021-12-12T02:12:38.459Z"
   },
   {
    "duration": 241,
    "start_time": "2021-12-12T02:12:38.556Z"
   },
   {
    "duration": 210,
    "start_time": "2021-12-12T02:12:38.800Z"
   },
   {
    "duration": 238,
    "start_time": "2021-12-12T02:12:39.017Z"
   },
   {
    "duration": 139,
    "start_time": "2021-12-12T02:13:16.314Z"
   },
   {
    "duration": 9,
    "start_time": "2021-12-12T02:13:19.219Z"
   },
   {
    "duration": 9,
    "start_time": "2021-12-12T02:13:24.873Z"
   },
   {
    "duration": 9,
    "start_time": "2021-12-12T02:13:27.329Z"
   },
   {
    "duration": 8,
    "start_time": "2021-12-12T02:13:29.647Z"
   },
   {
    "duration": 50,
    "start_time": "2021-12-12T02:14:08.573Z"
   },
   {
    "duration": 4,
    "start_time": "2021-12-12T02:14:14.394Z"
   },
   {
    "duration": 138,
    "start_time": "2021-12-12T02:14:14.400Z"
   },
   {
    "duration": 25,
    "start_time": "2021-12-12T02:14:14.541Z"
   },
   {
    "duration": 16,
    "start_time": "2021-12-12T02:14:14.569Z"
   },
   {
    "duration": 41,
    "start_time": "2021-12-12T02:14:14.588Z"
   },
   {
    "duration": 32,
    "start_time": "2021-12-12T02:14:14.632Z"
   },
   {
    "duration": 56,
    "start_time": "2021-12-12T02:14:14.667Z"
   },
   {
    "duration": 17,
    "start_time": "2021-12-12T02:14:14.725Z"
   },
   {
    "duration": 21,
    "start_time": "2021-12-12T02:14:14.746Z"
   },
   {
    "duration": 10,
    "start_time": "2021-12-12T02:14:14.770Z"
   },
   {
    "duration": 5,
    "start_time": "2021-12-12T02:14:14.818Z"
   },
   {
    "duration": 15,
    "start_time": "2021-12-12T02:14:14.826Z"
   },
   {
    "duration": 46,
    "start_time": "2021-12-12T02:14:14.844Z"
   },
   {
    "duration": 25,
    "start_time": "2021-12-12T02:14:14.892Z"
   },
   {
    "duration": 29,
    "start_time": "2021-12-12T02:14:14.920Z"
   },
   {
    "duration": 18,
    "start_time": "2021-12-12T02:14:14.952Z"
   },
   {
    "duration": 21,
    "start_time": "2021-12-12T02:14:14.972Z"
   },
   {
    "duration": 52,
    "start_time": "2021-12-12T02:14:15.018Z"
   },
   {
    "duration": 251,
    "start_time": "2021-12-12T02:14:15.073Z"
   },
   {
    "duration": 216,
    "start_time": "2021-12-12T02:14:15.326Z"
   },
   {
    "duration": 229,
    "start_time": "2021-12-12T02:14:15.544Z"
   },
   {
    "duration": 244,
    "start_time": "2021-12-12T02:14:15.775Z"
   },
   {
    "duration": 235,
    "start_time": "2021-12-12T02:14:16.021Z"
   },
   {
    "duration": 6,
    "start_time": "2021-12-12T02:14:16.258Z"
   },
   {
    "duration": 9,
    "start_time": "2021-12-12T02:14:16.267Z"
   },
   {
    "duration": 8,
    "start_time": "2021-12-12T02:14:16.278Z"
   },
   {
    "duration": 8,
    "start_time": "2021-12-12T02:14:16.320Z"
   },
   {
    "duration": 7,
    "start_time": "2021-12-12T02:14:16.330Z"
   },
   {
    "duration": 193,
    "start_time": "2021-12-12T02:14:16.339Z"
   },
   {
    "duration": 7,
    "start_time": "2021-12-12T02:14:16.535Z"
   },
   {
    "duration": 13,
    "start_time": "2021-12-12T02:14:16.544Z"
   },
   {
    "duration": 10,
    "start_time": "2021-12-12T02:14:16.560Z"
   },
   {
    "duration": 8,
    "start_time": "2021-12-12T02:14:16.573Z"
   },
   {
    "duration": 52,
    "start_time": "2021-12-12T02:14:28.051Z"
   },
   {
    "duration": 209,
    "start_time": "2021-12-12T02:14:30.392Z"
   },
   {
    "duration": 383,
    "start_time": "2021-12-12T02:14:36.011Z"
   },
   {
    "duration": 212,
    "start_time": "2021-12-12T02:14:38.827Z"
   },
   {
    "duration": 12,
    "start_time": "2021-12-12T02:21:08.014Z"
   },
   {
    "duration": 208,
    "start_time": "2021-12-12T02:21:44.933Z"
   },
   {
    "duration": 16,
    "start_time": "2021-12-12T02:27:16.789Z"
   },
   {
    "duration": 412,
    "start_time": "2021-12-12T02:30:56.271Z"
   },
   {
    "duration": 607,
    "start_time": "2021-12-12T02:31:01.753Z"
   },
   {
    "duration": 117,
    "start_time": "2021-12-12T02:31:02.362Z"
   },
   {
    "duration": 25,
    "start_time": "2021-12-12T02:31:02.481Z"
   },
   {
    "duration": 18,
    "start_time": "2021-12-12T02:31:02.509Z"
   },
   {
    "duration": 24,
    "start_time": "2021-12-12T02:31:02.529Z"
   },
   {
    "duration": 61,
    "start_time": "2021-12-12T02:31:02.556Z"
   },
   {
    "duration": 34,
    "start_time": "2021-12-12T02:31:02.619Z"
   },
   {
    "duration": 16,
    "start_time": "2021-12-12T02:31:02.657Z"
   },
   {
    "duration": 48,
    "start_time": "2021-12-12T02:31:02.676Z"
   },
   {
    "duration": 9,
    "start_time": "2021-12-12T02:31:02.726Z"
   },
   {
    "duration": 5,
    "start_time": "2021-12-12T02:31:02.737Z"
   },
   {
    "duration": 13,
    "start_time": "2021-12-12T02:31:02.744Z"
   },
   {
    "duration": 71,
    "start_time": "2021-12-12T02:31:02.759Z"
   },
   {
    "duration": 4,
    "start_time": "2021-12-12T02:31:02.832Z"
   },
   {
    "duration": 27,
    "start_time": "2021-12-12T02:31:02.839Z"
   },
   {
    "duration": 16,
    "start_time": "2021-12-12T02:31:02.869Z"
   },
   {
    "duration": 48,
    "start_time": "2021-12-12T02:31:02.888Z"
   },
   {
    "duration": 53,
    "start_time": "2021-12-12T02:31:02.938Z"
   },
   {
    "duration": 318,
    "start_time": "2021-12-12T02:31:03.018Z"
   },
   {
    "duration": 220,
    "start_time": "2021-12-12T02:31:03.339Z"
   },
   {
    "duration": 223,
    "start_time": "2021-12-12T02:31:03.562Z"
   },
   {
    "duration": 253,
    "start_time": "2021-12-12T02:31:03.789Z"
   },
   {
    "duration": 252,
    "start_time": "2021-12-12T02:31:04.049Z"
   },
   {
    "duration": 5,
    "start_time": "2021-12-12T02:31:04.304Z"
   },
   {
    "duration": 8,
    "start_time": "2021-12-12T02:31:04.317Z"
   },
   {
    "duration": 7,
    "start_time": "2021-12-12T02:31:04.328Z"
   },
   {
    "duration": 7,
    "start_time": "2021-12-12T02:31:04.338Z"
   },
   {
    "duration": 7,
    "start_time": "2021-12-12T02:31:04.347Z"
   },
   {
    "duration": 208,
    "start_time": "2021-12-12T02:31:04.356Z"
   },
   {
    "duration": 7,
    "start_time": "2021-12-12T02:31:04.566Z"
   },
   {
    "duration": 12,
    "start_time": "2021-12-12T02:31:04.575Z"
   },
   {
    "duration": 32,
    "start_time": "2021-12-12T02:31:04.589Z"
   },
   {
    "duration": 12,
    "start_time": "2021-12-12T02:31:04.624Z"
   },
   {
    "duration": 50,
    "start_time": "2021-12-12T02:31:04.638Z"
   },
   {
    "duration": 263,
    "start_time": "2021-12-12T02:31:04.691Z"
   },
   {
    "duration": 227,
    "start_time": "2021-12-12T02:31:04.956Z"
   },
   {
    "duration": 235,
    "start_time": "2021-12-12T02:31:05.185Z"
   },
   {
    "duration": 12,
    "start_time": "2021-12-12T02:31:05.422Z"
   },
   {
    "duration": 227,
    "start_time": "2021-12-12T02:31:05.436Z"
   },
   {
    "duration": 3173,
    "start_time": "2021-12-12T02:31:05.665Z"
   },
   {
    "duration": 457,
    "start_time": "2021-12-12T02:31:52.792Z"
   },
   {
    "duration": 708,
    "start_time": "2021-12-12T02:33:02.149Z"
   },
   {
    "duration": 36,
    "start_time": "2021-12-12T02:40:25.787Z"
   },
   {
    "duration": 27,
    "start_time": "2021-12-12T02:41:52.013Z"
   },
   {
    "duration": 31,
    "start_time": "2021-12-12T02:42:09.763Z"
   },
   {
    "duration": 29,
    "start_time": "2021-12-12T02:42:46.636Z"
   },
   {
    "duration": 350,
    "start_time": "2021-12-12T02:44:38.325Z"
   },
   {
    "duration": 460,
    "start_time": "2021-12-12T02:44:55.573Z"
   },
   {
    "duration": 667,
    "start_time": "2021-12-12T02:46:40.936Z"
   },
   {
    "duration": 3,
    "start_time": "2021-12-12T13:10:49.921Z"
   },
   {
    "duration": 1067,
    "start_time": "2021-12-12T13:12:03.249Z"
   },
   {
    "duration": 81,
    "start_time": "2021-12-12T13:12:04.317Z"
   },
   {
    "duration": 19,
    "start_time": "2021-12-12T13:12:04.400Z"
   },
   {
    "duration": 8,
    "start_time": "2021-12-12T13:12:04.421Z"
   },
   {
    "duration": 20,
    "start_time": "2021-12-12T13:12:04.430Z"
   },
   {
    "duration": 23,
    "start_time": "2021-12-12T13:12:04.463Z"
   },
   {
    "duration": 24,
    "start_time": "2021-12-12T13:12:04.488Z"
   },
   {
    "duration": 13,
    "start_time": "2021-12-12T13:12:04.514Z"
   },
   {
    "duration": 39,
    "start_time": "2021-12-12T13:12:04.529Z"
   },
   {
    "duration": 6,
    "start_time": "2021-12-12T13:12:04.570Z"
   },
   {
    "duration": 5,
    "start_time": "2021-12-12T13:12:04.578Z"
   },
   {
    "duration": 9,
    "start_time": "2021-12-12T13:12:04.584Z"
   },
   {
    "duration": 23,
    "start_time": "2021-12-12T13:12:04.594Z"
   },
   {
    "duration": 3,
    "start_time": "2021-12-12T13:12:04.619Z"
   },
   {
    "duration": 45,
    "start_time": "2021-12-12T13:12:04.623Z"
   },
   {
    "duration": 13,
    "start_time": "2021-12-12T13:12:04.669Z"
   },
   {
    "duration": 14,
    "start_time": "2021-12-12T13:12:04.683Z"
   },
   {
    "duration": 36,
    "start_time": "2021-12-12T13:12:04.699Z"
   },
   {
    "duration": 152,
    "start_time": "2021-12-12T13:12:04.736Z"
   },
   {
    "duration": 122,
    "start_time": "2021-12-12T13:12:04.889Z"
   },
   {
    "duration": 134,
    "start_time": "2021-12-12T13:12:05.013Z"
   },
   {
    "duration": 143,
    "start_time": "2021-12-12T13:12:05.148Z"
   },
   {
    "duration": 145,
    "start_time": "2021-12-12T13:12:05.292Z"
   },
   {
    "duration": 3,
    "start_time": "2021-12-12T13:12:05.439Z"
   },
   {
    "duration": 8,
    "start_time": "2021-12-12T13:12:05.444Z"
   },
   {
    "duration": 14,
    "start_time": "2021-12-12T13:12:05.453Z"
   },
   {
    "duration": 5,
    "start_time": "2021-12-12T13:12:05.471Z"
   },
   {
    "duration": 6,
    "start_time": "2021-12-12T13:12:05.478Z"
   },
   {
    "duration": 126,
    "start_time": "2021-12-12T13:12:05.486Z"
   },
   {
    "duration": 5,
    "start_time": "2021-12-12T13:12:05.614Z"
   },
   {
    "duration": 5,
    "start_time": "2021-12-12T13:12:05.621Z"
   },
   {
    "duration": 7,
    "start_time": "2021-12-12T13:12:05.627Z"
   },
   {
    "duration": 7,
    "start_time": "2021-12-12T13:12:05.635Z"
   },
   {
    "duration": 50,
    "start_time": "2021-12-12T13:12:05.644Z"
   },
   {
    "duration": 144,
    "start_time": "2021-12-12T13:12:05.696Z"
   },
   {
    "duration": 124,
    "start_time": "2021-12-12T13:12:05.841Z"
   },
   {
    "duration": 199,
    "start_time": "2021-12-12T13:12:05.967Z"
   },
   {
    "duration": 9,
    "start_time": "2021-12-12T13:12:06.167Z"
   },
   {
    "duration": 151,
    "start_time": "2021-12-12T13:12:06.178Z"
   },
   {
    "duration": 486,
    "start_time": "2021-12-12T13:12:06.331Z"
   },
   {
    "duration": 21,
    "start_time": "2021-12-12T13:12:06.819Z"
   },
   {
    "duration": 203,
    "start_time": "2021-12-12T13:12:06.841Z"
   },
   {
    "duration": 455,
    "start_time": "2021-12-12T13:12:07.046Z"
   },
   {
    "duration": 170,
    "start_time": "2021-12-12T13:12:22.966Z"
   },
   {
    "duration": 167,
    "start_time": "2021-12-12T13:13:10.378Z"
   },
   {
    "duration": 168,
    "start_time": "2021-12-12T13:14:26.484Z"
   },
   {
    "duration": 171,
    "start_time": "2021-12-12T13:15:24.011Z"
   },
   {
    "duration": 639,
    "start_time": "2021-12-12T13:18:21.163Z"
   },
   {
    "duration": 444,
    "start_time": "2021-12-12T13:18:59.778Z"
   },
   {
    "duration": 471,
    "start_time": "2021-12-12T13:20:11.425Z"
   },
   {
    "duration": 28,
    "start_time": "2021-12-12T13:32:04.579Z"
   },
   {
    "duration": 29,
    "start_time": "2021-12-12T13:33:10.437Z"
   },
   {
    "duration": 349,
    "start_time": "2021-12-12T13:38:16.543Z"
   },
   {
    "duration": 3,
    "start_time": "2021-12-12T13:38:52.899Z"
   },
   {
    "duration": 82,
    "start_time": "2021-12-12T13:38:52.907Z"
   },
   {
    "duration": 18,
    "start_time": "2021-12-12T13:38:52.991Z"
   },
   {
    "duration": 8,
    "start_time": "2021-12-12T13:38:53.011Z"
   },
   {
    "duration": 18,
    "start_time": "2021-12-12T13:38:53.021Z"
   },
   {
    "duration": 23,
    "start_time": "2021-12-12T13:38:53.063Z"
   },
   {
    "duration": 23,
    "start_time": "2021-12-12T13:38:53.088Z"
   },
   {
    "duration": 12,
    "start_time": "2021-12-12T13:38:53.113Z"
   },
   {
    "duration": 42,
    "start_time": "2021-12-12T13:38:53.126Z"
   },
   {
    "duration": 5,
    "start_time": "2021-12-12T13:38:53.171Z"
   },
   {
    "duration": 4,
    "start_time": "2021-12-12T13:38:53.178Z"
   },
   {
    "duration": 10,
    "start_time": "2021-12-12T13:38:53.183Z"
   },
   {
    "duration": 26,
    "start_time": "2021-12-12T13:38:53.195Z"
   },
   {
    "duration": 3,
    "start_time": "2021-12-12T13:38:53.222Z"
   },
   {
    "duration": 42,
    "start_time": "2021-12-12T13:38:53.227Z"
   },
   {
    "duration": 11,
    "start_time": "2021-12-12T13:38:53.271Z"
   },
   {
    "duration": 12,
    "start_time": "2021-12-12T13:38:53.284Z"
   },
   {
    "duration": 33,
    "start_time": "2021-12-12T13:38:53.298Z"
   },
   {
    "duration": 154,
    "start_time": "2021-12-12T13:38:53.332Z"
   },
   {
    "duration": 126,
    "start_time": "2021-12-12T13:38:53.487Z"
   },
   {
    "duration": 129,
    "start_time": "2021-12-12T13:38:53.615Z"
   },
   {
    "duration": 136,
    "start_time": "2021-12-12T13:38:53.745Z"
   },
   {
    "duration": 134,
    "start_time": "2021-12-12T13:38:53.883Z"
   },
   {
    "duration": 4,
    "start_time": "2021-12-12T13:38:54.018Z"
   },
   {
    "duration": 33,
    "start_time": "2021-12-12T13:38:54.023Z"
   },
   {
    "duration": 20,
    "start_time": "2021-12-12T13:38:54.057Z"
   },
   {
    "duration": 16,
    "start_time": "2021-12-12T13:38:54.078Z"
   },
   {
    "duration": 19,
    "start_time": "2021-12-12T13:38:54.097Z"
   },
   {
    "duration": 107,
    "start_time": "2021-12-12T13:38:54.118Z"
   },
   {
    "duration": 4,
    "start_time": "2021-12-12T13:38:54.227Z"
   },
   {
    "duration": 17,
    "start_time": "2021-12-12T13:38:54.233Z"
   },
   {
    "duration": 21,
    "start_time": "2021-12-12T13:38:54.252Z"
   },
   {
    "duration": 10,
    "start_time": "2021-12-12T13:38:54.274Z"
   },
   {
    "duration": 48,
    "start_time": "2021-12-12T13:38:54.285Z"
   },
   {
    "duration": 174,
    "start_time": "2021-12-12T13:38:54.334Z"
   },
   {
    "duration": 255,
    "start_time": "2021-12-12T13:38:54.510Z"
   },
   {
    "duration": 172,
    "start_time": "2021-12-12T13:38:54.766Z"
   },
   {
    "duration": 8,
    "start_time": "2021-12-12T13:38:54.940Z"
   },
   {
    "duration": 181,
    "start_time": "2021-12-12T13:38:54.949Z"
   },
   {
    "duration": 486,
    "start_time": "2021-12-12T13:38:55.132Z"
   },
   {
    "duration": 25,
    "start_time": "2021-12-12T13:38:55.620Z"
   },
   {
    "duration": 201,
    "start_time": "2021-12-12T13:38:55.647Z"
   },
   {
    "duration": 477,
    "start_time": "2021-12-12T13:38:55.849Z"
   },
   {
    "duration": 257,
    "start_time": "2021-12-12T13:38:56.328Z"
   },
   {
    "duration": 228,
    "start_time": "2021-12-12T13:39:18.513Z"
   },
   {
    "duration": 21,
    "start_time": "2021-12-12T13:39:20.269Z"
   },
   {
    "duration": 265,
    "start_time": "2021-12-12T13:39:52.021Z"
   },
   {
    "duration": 248,
    "start_time": "2021-12-12T13:40:32.419Z"
   },
   {
    "duration": 23,
    "start_time": "2021-12-12T13:40:36.953Z"
   },
   {
    "duration": 23,
    "start_time": "2021-12-12T13:41:40.978Z"
   },
   {
    "duration": 3,
    "start_time": "2021-12-12T13:41:44.454Z"
   },
   {
    "duration": 276,
    "start_time": "2021-12-12T13:41:46.871Z"
   },
   {
    "duration": 258,
    "start_time": "2021-12-12T13:42:44.882Z"
   },
   {
    "duration": 242,
    "start_time": "2021-12-12T13:43:11.423Z"
   },
   {
    "duration": 21,
    "start_time": "2021-12-12T13:44:27.134Z"
   },
   {
    "duration": 30,
    "start_time": "2021-12-12T13:44:58.444Z"
   },
   {
    "duration": 248,
    "start_time": "2021-12-12T13:49:28.908Z"
   },
   {
    "duration": 24,
    "start_time": "2021-12-12T13:49:30.664Z"
   },
   {
    "duration": 260,
    "start_time": "2021-12-12T13:49:31.268Z"
   },
   {
    "duration": 7,
    "start_time": "2021-12-12T13:50:13.415Z"
   },
   {
    "duration": 12,
    "start_time": "2021-12-12T13:50:47.070Z"
   },
   {
    "duration": 3,
    "start_time": "2021-12-12T13:52:39.225Z"
   },
   {
    "duration": 99,
    "start_time": "2021-12-12T13:52:39.232Z"
   },
   {
    "duration": 18,
    "start_time": "2021-12-12T13:52:39.333Z"
   },
   {
    "duration": 24,
    "start_time": "2021-12-12T13:52:39.353Z"
   },
   {
    "duration": 30,
    "start_time": "2021-12-12T13:52:39.379Z"
   },
   {
    "duration": 22,
    "start_time": "2021-12-12T13:52:39.411Z"
   },
   {
    "duration": 32,
    "start_time": "2021-12-12T13:52:39.435Z"
   },
   {
    "duration": 10,
    "start_time": "2021-12-12T13:52:39.469Z"
   },
   {
    "duration": 12,
    "start_time": "2021-12-12T13:52:39.480Z"
   },
   {
    "duration": 12,
    "start_time": "2021-12-12T13:52:39.495Z"
   },
   {
    "duration": 9,
    "start_time": "2021-12-12T13:52:39.509Z"
   },
   {
    "duration": 27,
    "start_time": "2021-12-12T13:52:39.520Z"
   },
   {
    "duration": 32,
    "start_time": "2021-12-12T13:52:39.548Z"
   },
   {
    "duration": 3,
    "start_time": "2021-12-12T13:52:39.582Z"
   },
   {
    "duration": 31,
    "start_time": "2021-12-12T13:52:39.586Z"
   },
   {
    "duration": 11,
    "start_time": "2021-12-12T13:52:39.619Z"
   },
   {
    "duration": 21,
    "start_time": "2021-12-12T13:52:39.632Z"
   },
   {
    "duration": 48,
    "start_time": "2021-12-12T13:52:39.655Z"
   },
   {
    "duration": 127,
    "start_time": "2021-12-12T13:52:39.704Z"
   },
   {
    "duration": 132,
    "start_time": "2021-12-12T13:52:39.833Z"
   },
   {
    "duration": 129,
    "start_time": "2021-12-12T13:52:39.967Z"
   },
   {
    "duration": 227,
    "start_time": "2021-12-12T13:52:40.097Z"
   },
   {
    "duration": 139,
    "start_time": "2021-12-12T13:52:40.326Z"
   },
   {
    "duration": 4,
    "start_time": "2021-12-12T13:52:40.467Z"
   },
   {
    "duration": 24,
    "start_time": "2021-12-12T13:52:40.472Z"
   },
   {
    "duration": 22,
    "start_time": "2021-12-12T13:52:40.498Z"
   },
   {
    "duration": 30,
    "start_time": "2021-12-12T13:52:40.521Z"
   },
   {
    "duration": 15,
    "start_time": "2021-12-12T13:52:40.554Z"
   },
   {
    "duration": 101,
    "start_time": "2021-12-12T13:52:40.571Z"
   },
   {
    "duration": 5,
    "start_time": "2021-12-12T13:52:40.673Z"
   },
   {
    "duration": 47,
    "start_time": "2021-12-12T13:52:40.679Z"
   },
   {
    "duration": 23,
    "start_time": "2021-12-12T13:52:40.727Z"
   },
   {
    "duration": 32,
    "start_time": "2021-12-12T13:52:40.751Z"
   },
   {
    "duration": 21,
    "start_time": "2021-12-12T13:52:40.784Z"
   },
   {
    "duration": 31,
    "start_time": "2021-12-12T13:52:40.806Z"
   },
   {
    "duration": 176,
    "start_time": "2021-12-12T13:52:40.838Z"
   },
   {
    "duration": 175,
    "start_time": "2021-12-12T13:52:41.016Z"
   },
   {
    "duration": 187,
    "start_time": "2021-12-12T13:52:41.192Z"
   },
   {
    "duration": 7,
    "start_time": "2021-12-12T13:52:41.380Z"
   },
   {
    "duration": 171,
    "start_time": "2021-12-12T13:52:41.388Z"
   },
   {
    "duration": 450,
    "start_time": "2021-12-12T13:52:41.560Z"
   },
   {
    "duration": 25,
    "start_time": "2021-12-12T13:52:42.012Z"
   },
   {
    "duration": 208,
    "start_time": "2021-12-12T13:52:42.039Z"
   },
   {
    "duration": 476,
    "start_time": "2021-12-12T13:52:42.248Z"
   },
   {
    "duration": 10,
    "start_time": "2021-12-12T13:52:42.725Z"
   },
   {
    "duration": 477,
    "start_time": "2021-12-12T13:52:42.736Z"
   },
   {
    "duration": 570,
    "start_time": "2021-12-12T13:53:00.340Z"
   },
   {
    "duration": 468,
    "start_time": "2021-12-12T13:53:08.234Z"
   },
   {
    "duration": 433,
    "start_time": "2021-12-12T13:53:55.686Z"
   },
   {
    "duration": 507,
    "start_time": "2021-12-12T13:58:29.120Z"
   },
   {
    "duration": 1099,
    "start_time": "2021-12-12T15:52:53.312Z"
   },
   {
    "duration": 78,
    "start_time": "2021-12-12T15:52:54.413Z"
   },
   {
    "duration": 19,
    "start_time": "2021-12-12T15:52:54.493Z"
   },
   {
    "duration": 23,
    "start_time": "2021-12-12T15:52:54.514Z"
   },
   {
    "duration": 32,
    "start_time": "2021-12-12T15:52:54.539Z"
   },
   {
    "duration": 23,
    "start_time": "2021-12-12T15:52:54.573Z"
   },
   {
    "duration": 24,
    "start_time": "2021-12-12T15:52:54.598Z"
   },
   {
    "duration": 14,
    "start_time": "2021-12-12T15:52:54.623Z"
   },
   {
    "duration": 32,
    "start_time": "2021-12-12T15:52:54.640Z"
   },
   {
    "duration": 7,
    "start_time": "2021-12-12T15:52:54.674Z"
   },
   {
    "duration": 4,
    "start_time": "2021-12-12T15:52:54.683Z"
   },
   {
    "duration": 12,
    "start_time": "2021-12-12T15:52:54.689Z"
   },
   {
    "duration": 29,
    "start_time": "2021-12-12T15:52:54.703Z"
   },
   {
    "duration": 3,
    "start_time": "2021-12-12T15:52:54.734Z"
   },
   {
    "duration": 35,
    "start_time": "2021-12-12T15:52:54.738Z"
   },
   {
    "duration": 13,
    "start_time": "2021-12-12T15:52:54.774Z"
   },
   {
    "duration": 13,
    "start_time": "2021-12-12T15:52:54.789Z"
   },
   {
    "duration": 36,
    "start_time": "2021-12-12T15:52:54.804Z"
   },
   {
    "duration": 139,
    "start_time": "2021-12-12T15:52:54.862Z"
   },
   {
    "duration": 126,
    "start_time": "2021-12-12T15:52:55.002Z"
   },
   {
    "duration": 133,
    "start_time": "2021-12-12T15:52:55.130Z"
   },
   {
    "duration": 142,
    "start_time": "2021-12-12T15:52:55.264Z"
   },
   {
    "duration": 142,
    "start_time": "2021-12-12T15:52:55.408Z"
   },
   {
    "duration": 4,
    "start_time": "2021-12-12T15:52:55.552Z"
   },
   {
    "duration": 6,
    "start_time": "2021-12-12T15:52:55.562Z"
   },
   {
    "duration": 7,
    "start_time": "2021-12-12T15:52:55.569Z"
   },
   {
    "duration": 26,
    "start_time": "2021-12-12T15:52:55.579Z"
   },
   {
    "duration": 15,
    "start_time": "2021-12-12T15:52:55.612Z"
   },
   {
    "duration": 179,
    "start_time": "2021-12-12T15:52:55.629Z"
   },
   {
    "duration": 5,
    "start_time": "2021-12-12T15:52:55.810Z"
   },
   {
    "duration": 7,
    "start_time": "2021-12-12T15:52:55.816Z"
   },
   {
    "duration": 8,
    "start_time": "2021-12-12T15:52:55.825Z"
   },
   {
    "duration": 5,
    "start_time": "2021-12-12T15:52:55.834Z"
   },
   {
    "duration": 38,
    "start_time": "2021-12-12T15:52:55.841Z"
   },
   {
    "duration": 32,
    "start_time": "2021-12-12T15:52:55.880Z"
   },
   {
    "duration": 296,
    "start_time": "2021-12-12T15:52:55.913Z"
   },
   {
    "duration": 170,
    "start_time": "2021-12-12T15:52:56.211Z"
   },
   {
    "duration": 255,
    "start_time": "2021-12-12T15:52:56.383Z"
   },
   {
    "duration": 9,
    "start_time": "2021-12-12T15:52:56.640Z"
   },
   {
    "duration": 188,
    "start_time": "2021-12-12T15:52:56.650Z"
   },
   {
    "duration": 481,
    "start_time": "2021-12-12T15:52:56.840Z"
   },
   {
    "duration": 29,
    "start_time": "2021-12-12T15:52:57.323Z"
   },
   {
    "duration": 202,
    "start_time": "2021-12-12T15:52:57.363Z"
   },
   {
    "duration": 11,
    "start_time": "2021-12-12T15:52:57.568Z"
   },
   {
    "duration": 441,
    "start_time": "2021-12-12T15:52:57.581Z"
   },
   {
    "duration": 504,
    "start_time": "2021-12-12T15:52:58.025Z"
   },
   {
    "duration": 105,
    "start_time": "2021-12-13T13:29:40.329Z"
   }
  ],
  "kernelspec": {
   "display_name": "Python 3",
   "language": "python",
   "name": "python3"
  },
  "language_info": {
   "codemirror_mode": {
    "name": "ipython",
    "version": 3
   },
   "file_extension": ".py",
   "mimetype": "text/x-python",
   "name": "python",
   "nbconvert_exporter": "python",
   "pygments_lexer": "ipython3",
   "version": "3.7.8"
  },
  "toc": {
   "base_numbering": 1,
   "nav_menu": {},
   "number_sections": true,
   "sideBar": true,
   "skip_h1_title": false,
   "title_cell": "Table of Contents",
   "title_sidebar": "Contents",
   "toc_cell": false,
   "toc_position": {},
   "toc_section_display": true,
   "toc_window_display": false
  }
 },
 "nbformat": 4,
 "nbformat_minor": 2
}
