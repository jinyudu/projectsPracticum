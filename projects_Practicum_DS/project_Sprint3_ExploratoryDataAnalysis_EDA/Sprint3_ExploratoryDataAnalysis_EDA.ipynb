{
 "cells": [
  {
   "cell_type": "markdown",
   "metadata": {},
   "source": [
    "<div style=\"border:solid green 2px; padding: 20px\"> <h1 style=\"color:green; margin-bottom:20px\">Reviewer's comment v1</h1>\n",
    "\n",
    "Hello Jinyu, my name is Dmitrii. I'm going to review your project! Nice to meet you! 🙌\n",
    "\n",
    "You can find my comments under the heading **«Review»**. I will categorize my comments in green, blue or red boxes like this:\n",
    "\n",
    "<div class=\"alert alert-success\">\n",
    "    <b>Success:</b> if everything is done successfully\n",
    "</div>\n",
    "<div class=\"alert alert-warning\">\n",
    "    <b>Remarks:</b> if I can give some recommendations or ways to improve the project\n",
    "</div>\n",
    "<div class=\"alert alert-danger\">\n",
    "    <b>Needs fixing:</b> if the block requires some corrections. Work can't be accepted with the red comments\n",
    "</div>\n",
    "\n",
    "Please don't remove my comments :) If you have any questions don't hesitate to respond to my comments in a different section. \n",
    "<div class=\"alert alert-info\"> <b>Student comments:</b> For example like this</div>    \n"
   ]
  },
  {
   "cell_type": "markdown",
   "metadata": {},
   "source": [
    "<div style=\"border:solid green 2px; padding: 20px\">\n",
    "<b>Reviewer's comment v1:</b>\n",
    "    \n",
    "<b>Overall Feedback</b> \n",
    "    \n",
    "    \n",
    "- Overall well done! I can see that a lot of effort has been made! Your project already looks really good and you accomplished impressive results.\n",
    "- It is great that you can use different methods for data processing and apply them to real data and project tasks, keep it up! \n",
    "- There is only one comment to be fixed: \n",
    "  - Try aggregated data to fill missing values in `model_year`, `cylinders`, and `odometer`.\n",
    "\n",
    "I will wait for you to send me a new version of the project :)\n",
    "    \n",
    "</div>"
   ]
  },
  {
   "cell_type": "markdown",
   "metadata": {},
   "source": [
    "<div class=\"alert alert-info\"> <b>Student comments:</b> Hello, Dmitrii. Thank you for reviewing my project! Nice to meet you too!</div>    "
   ]
  },
  {
   "cell_type": "markdown",
   "metadata": {},
   "source": [
    "<div style=\"border:solid green 2px; padding: 20px\">\n",
    "<b>Reviewer's comment v2:</b>\n",
    "    \n",
    "<b>Overall Feedback</b> \n",
    "\n",
    "Hi Jinyu, thank you for leaving your comments/feedback in the project :)\n",
    "Now, no critial issues left and everything is perfect. \n",
    "\n",
    "Please keep up the great work and good luck on the next project! \n",
    "</div>"
   ]
  },
  {
   "cell_type": "markdown",
   "metadata": {},
   "source": [
    "# What sells a car?\n",
    "\n",
    "You're an analyst at Crankshaft List. Hundreds of free advertisements for vehicles are published on your site every day. You need to study data collected over the last few years and determine which factors influence the price of a vehicle.\n",
    "\n",
    "## Purposes of the project\n",
    "\n",
    "The purposes of the project is to find out what factors influence the price of a vehicle. \n",
    "\n",
    "## Action plan\n",
    "\n",
    "1. Initial data exploration\n",
    "2. Data cleaning \n",
    "  - handling missing values\n",
    "  - fix data types\n",
    "  - treat outliers\n",
    "  - create new variables if needed\n",
    "3. Study the core parameters and relationships\n",
    "4. Conclusion"
   ]
  },
  {
   "cell_type": "markdown",
   "metadata": {},
   "source": [
    "<div class=\"alert alert-success\">\n",
    "<b>Reviewer's comment v1:</b>\n",
    "    \n",
    "- Great that you added additional information about project tasks. It gives an overview of what you are going to achieve in this project.\n"
   ]
  },
  {
   "cell_type": "markdown",
   "metadata": {},
   "source": [
    "## Initialization"
   ]
  },
  {
   "cell_type": "code",
   "execution_count": 1,
   "metadata": {},
   "outputs": [],
   "source": [
    "# Loading all the libraries\n",
    "import matplotlib.pyplot as plt\n",
    "import numpy as np\n",
    "import pandas as pd\n",
    "import seaborn as sns"
   ]
  },
  {
   "cell_type": "markdown",
   "metadata": {},
   "source": [
    "### Load data"
   ]
  },
  {
   "cell_type": "code",
   "execution_count": 2,
   "metadata": {},
   "outputs": [],
   "source": [
    "# Load the data file into a DataFrame\n",
    "car_data = pd.read_csv('/datasets/vehicles_us.csv')"
   ]
  },
  {
   "cell_type": "markdown",
   "metadata": {},
   "source": [
    "### Explore initial data"
   ]
  },
  {
   "cell_type": "markdown",
   "metadata": {},
   "source": [
    "The dataset contains the following fields:\n",
    "- `price`\n",
    "- `model_year`\n",
    "- `model`\n",
    "- `condition`\n",
    "- `cylinders`\n",
    "- `fuel` — gas, diesel, etc.\n",
    "- `odometer` — the vehicle's mileage when the ad was published\n",
    "- `transmission`\n",
    "- `type`\n",
    "- `paint_color`\n",
    "- `is_4wd` — whether the vehicle has 4-wheel drive (Boolean type)\n",
    "- `date_posted` — the date the ad was published\n",
    "- `days_listed` — from publication to removal"
   ]
  },
  {
   "cell_type": "code",
   "execution_count": 3,
   "metadata": {},
   "outputs": [
    {
     "name": "stdout",
     "output_type": "stream",
     "text": [
      "<class 'pandas.core.frame.DataFrame'>\n",
      "RangeIndex: 51525 entries, 0 to 51524\n",
      "Data columns (total 13 columns):\n",
      "price           51525 non-null int64\n",
      "model_year      47906 non-null float64\n",
      "model           51525 non-null object\n",
      "condition       51525 non-null object\n",
      "cylinders       46265 non-null float64\n",
      "fuel            51525 non-null object\n",
      "odometer        43633 non-null float64\n",
      "transmission    51525 non-null object\n",
      "type            51525 non-null object\n",
      "paint_color     42258 non-null object\n",
      "is_4wd          25572 non-null float64\n",
      "date_posted     51525 non-null object\n",
      "days_listed     51525 non-null int64\n",
      "dtypes: float64(4), int64(2), object(7)\n",
      "memory usage: 5.1+ MB\n"
     ]
    }
   ],
   "source": [
    "# print the general/summary information about the DataFrame\n",
    "\n",
    "car_data.info()"
   ]
  },
  {
   "cell_type": "code",
   "execution_count": 4,
   "metadata": {},
   "outputs": [
    {
     "name": "stdout",
     "output_type": "stream",
     "text": [
      "   price  model_year           model  condition  cylinders fuel  odometer  \\\n",
      "0   9400      2011.0          bmw x5       good        6.0  gas  145000.0   \n",
      "1  25500         NaN      ford f-150       good        6.0  gas   88705.0   \n",
      "2   5500      2013.0  hyundai sonata   like new        4.0  gas  110000.0   \n",
      "3   1500      2003.0      ford f-150       fair        8.0  gas       NaN   \n",
      "4  14900      2017.0    chrysler 200  excellent        4.0  gas   80903.0   \n",
      "5  14990      2014.0    chrysler 300  excellent        6.0  gas   57954.0   \n",
      "6  12990      2015.0    toyota camry  excellent        4.0  gas   79212.0   \n",
      "7  15990      2013.0     honda pilot  excellent        6.0  gas  109473.0   \n",
      "8  11500      2012.0     kia sorento  excellent        4.0  gas  104174.0   \n",
      "9   9200      2008.0     honda pilot  excellent        NaN  gas  147191.0   \n",
      "\n",
      "  transmission    type paint_color  is_4wd date_posted  days_listed  \n",
      "0    automatic     SUV         NaN     1.0  2018-06-23           19  \n",
      "1    automatic  pickup       white     1.0  2018-10-19           50  \n",
      "2    automatic   sedan         red     NaN  2019-02-07           79  \n",
      "3    automatic  pickup         NaN     NaN  2019-03-22            9  \n",
      "4    automatic   sedan       black     NaN  2019-04-02           28  \n",
      "5    automatic   sedan       black     1.0  2018-06-20           15  \n",
      "6    automatic   sedan       white     NaN  2018-12-27           73  \n",
      "7    automatic     SUV       black     1.0  2019-01-07           68  \n",
      "8    automatic     SUV         NaN     1.0  2018-07-16           19  \n",
      "9    automatic     SUV        blue     1.0  2019-02-15           17  \n"
     ]
    }
   ],
   "source": [
    "# print a sample of data\n",
    "\n",
    "print(car_data.head(10))"
   ]
  },
  {
   "cell_type": "markdown",
   "metadata": {},
   "source": [
    "The dataset has 51525 rows and 13 columns. The data type for `model_year`, `cylinders` and `is_4wd` is `float64`, which does not make sense. `model_year` and `date_posted` are perhaps better to be datatime type. `cylinders` and `is_4wd` should be integer type. The data type for all the other variables looks good.   \n",
    "\n",
    "The general information and the printed data sample look reasonable except that those three variables mentioned above do not seem to have to correct data type. "
   ]
  },
  {
   "cell_type": "code",
   "execution_count": 5,
   "metadata": {
    "scrolled": true
   },
   "outputs": [
    {
     "name": "stdout",
     "output_type": "stream",
     "text": [
      "price            0.000000\n",
      "model_year       7.023775\n",
      "model            0.000000\n",
      "condition        0.000000\n",
      "cylinders       10.208637\n",
      "fuel             0.000000\n",
      "odometer        15.316836\n",
      "transmission     0.000000\n",
      "type             0.000000\n",
      "paint_color     17.985444\n",
      "is_4wd          50.369723\n",
      "date_posted      0.000000\n",
      "days_listed      0.000000\n",
      "dtype: float64\n"
     ]
    }
   ],
   "source": [
    "missing_perct = (car_data.isna().sum())/car_data.shape[0]*100\n",
    "print(missing_perct)"
   ]
  },
  {
   "cell_type": "markdown",
   "metadata": {},
   "source": [
    "<div class=\"alert alert-block alert-success\">\n",
    "<b>Reviewer's comment v1:</b>\n",
    "    \n",
    "A good start and first view on data. \n",
    "It is always helpful to calculate the percentage of missing values. It helps to understand the overall impact and to make a more weighted decision regarding what to do next.\n",
    "    \n",
    "Also great that all imports and data load are grouped in different cells before the project.\n",
    "\n",
    "\n",
    "</div>"
   ]
  },
  {
   "cell_type": "markdown",
   "metadata": {},
   "source": [
    "The results above show the percentage of missing values for each column. The variable `is_4wd` has 50.37% of its data missing, which is a lot! About 18% of the `paint_color` are missing values. The columns `odometer`, `cylinders`, and `model_year` have around 15%, 10% and 7% missing values, respectively. "
   ]
  },
  {
   "cell_type": "code",
   "execution_count": 6,
   "metadata": {
    "scrolled": true
   },
   "outputs": [
    {
     "data": {
      "text/plain": [
       "NaN    25953\n",
       "1.0    25572\n",
       "Name: is_4wd, dtype: int64"
      ]
     },
     "execution_count": 6,
     "metadata": {},
     "output_type": "execute_result"
    }
   ],
   "source": [
    "car_data['is_4wd'].value_counts(dropna=False)"
   ]
  },
  {
   "cell_type": "code",
   "execution_count": 7,
   "metadata": {
    "scrolled": true
   },
   "outputs": [
    {
     "data": {
      "text/plain": [
       "white     10029\n",
       "NaN        9267\n",
       "black      7692\n",
       "silver     6244\n",
       "grey       5037\n",
       "blue       4475\n",
       "red        4421\n",
       "green      1396\n",
       "brown      1223\n",
       "custom     1153\n",
       "yellow      255\n",
       "orange      231\n",
       "purple      102\n",
       "Name: paint_color, dtype: int64"
      ]
     },
     "execution_count": 7,
     "metadata": {},
     "output_type": "execute_result"
    }
   ],
   "source": [
    "car_data['paint_color'].value_counts(dropna=False)"
   ]
  },
  {
   "cell_type": "code",
   "execution_count": 8,
   "metadata": {},
   "outputs": [
    {
     "data": {
      "text/plain": [
       "NaN         7892\n",
       "0.0          185\n",
       "140000.0     183\n",
       "120000.0     179\n",
       "130000.0     178\n",
       "            ... \n",
       "51595.0        1\n",
       "111381.0       1\n",
       "155940.0       1\n",
       "43402.0        1\n",
       "74063.0        1\n",
       "Name: odometer, Length: 17763, dtype: int64"
      ]
     },
     "execution_count": 8,
     "metadata": {},
     "output_type": "execute_result"
    }
   ],
   "source": [
    "car_data['odometer'].value_counts(dropna=False)"
   ]
  },
  {
   "cell_type": "code",
   "execution_count": 9,
   "metadata": {},
   "outputs": [
    {
     "data": {
      "text/plain": [
       "8.0     15844\n",
       "6.0     15700\n",
       "4.0     13864\n",
       "NaN      5260\n",
       "10.0      549\n",
       "5.0       272\n",
       "3.0        34\n",
       "12.0        2\n",
       "Name: cylinders, dtype: int64"
      ]
     },
     "execution_count": 9,
     "metadata": {},
     "output_type": "execute_result"
    }
   ],
   "source": [
    "car_data['cylinders'].value_counts(dropna=False)"
   ]
  },
  {
   "cell_type": "markdown",
   "metadata": {},
   "source": [
    "### Conclusions and further steps\n",
    "\n",
    "Initial exploration of the dataset reveals the following findings with action steps:\n",
    "1. The columns `price`, `condition`, `fuel`, `transmission` and `type` look reasonable so far. \n",
    "2. The columns `model_year` and `date_posted` should have datatime data type. Becasue the age of cars is critical for its sale price, we should create a new variable that calculates the age of cars. \n",
    "3. The column `model` looks ok. But we might need to re-code its values to make them easy to work with. \n",
    "4. The data type of the `cylinders` column should be changed to integer data type. \n",
    "5. The column `is_4wd` has about 50% of values missing. \n",
    "6. The column `paint_color` has about 18% of values missing. \n",
    "7. It seems that `is_4wd` contains a boolean type of information (yes/no). It has 25572 rows with 1.0 and 25953 rows with missing values. It is likely that the missing values should be 0, which stands for `is_4wd` = no. So we will fill missing data with 0 in the `is_4wd` column. This will likely allow us extract some useful information.\n",
    "8. We will fill missing data with 'unknown' in the `paint_color` column because it is not possible to fill these values based on other car features.\n",
    "9. Potentially `model_year` and `condition` could be correlated with `odometer`. So we will fill the missing values in \n",
    "`odometer` with group median based on `model_year` and `condition`.\n",
    "10. The `model_year` may be highly related to the car's `model` and `condition`. Thus, we will fill in missing values in `model_year` with values based on `model` and `condition`. \n"
   ]
  },
  {
   "cell_type": "markdown",
   "metadata": {},
   "source": [
    "## Treat missing values (if any)"
   ]
  },
  {
   "cell_type": "code",
   "execution_count": 10,
   "metadata": {
    "scrolled": false
   },
   "outputs": [],
   "source": [
    "# car_data2 = car_data.drop(['is_4wd', 'paint_color'], axis=1)\n",
    "\n",
    "# car_data2.dropna(subset=['model_year', 'cylinders', 'odometer'], axis=0, inplace=True )\n",
    "# missing_perct = (car_data2.isna().sum())/car_data2.shape[0]*100\n",
    "# print(missing_perct)"
   ]
  },
  {
   "cell_type": "markdown",
   "metadata": {},
   "source": [
    "We removed the columns `is_4wd` and `paint_color` from the dataset because they do not appear to be key variables for cars' price. Moreover, the variables `odometer`, `cylinders`, and `model_year` might be important for determining cars' price. So we kept these columns and removed all rows with missing values in these three columns. Now there are no missing values in the dataset. "
   ]
  },
  {
   "cell_type": "markdown",
   "metadata": {},
   "source": [
    "<div class=\"alert alert-block alert-danger\">\n",
    "<b>Reviewer's comment v1:</b>\n",
    "\n",
    "That is a good start and you have a clear reasoning. However in many cases it is more beneficial to try to restore missing data, as by deleting it we can lose potentially important insights. \n",
    "\n",
    "**`is_4wd`**\n",
    "    \n",
    "`is_4wd` contains a boolean type of information (yes/no). So filling missing data with 0 will allow us to keep a potentially useful feature.\n",
    "    \n",
    "**`paint_color`**   \n",
    "\n",
    "So, here I can recommend to fill it with 'unknown' or any other placeholder, as it is not possible to fill this value based on other car features.\n",
    "    \n",
    "For other columns it can be helpful to try to restore missing data. Here we can check the relationship between feature with missing values and other vehicle characteristics to find a grouped value. \n",
    "    \n",
    "**`model_year`**\n",
    "  \n",
    "Potentially model_year could be indeed correlated with odometer or car condition.\n",
    "\n",
    "And you can use the following code as an example: \n",
    "    \n",
    "    data['odometer']= data['odometer'].fillna(data.groupby(['model_year', 'condition'])['odometer'].transform('median'))\n",
    "    \n",
    "Can you please give it a try?"
   ]
  },
  {
   "cell_type": "markdown",
   "metadata": {},
   "source": [
    "<div class=\"alert alert-info\"> <b>Student comments:</b> Sure. I will redo the treating missing value part. I commented out my old code, so it does not interfere wiht my new code. </div>   "
   ]
  },
  {
   "cell_type": "markdown",
   "metadata": {},
   "source": [
    "We will fill missing data with 0 in the `is_4wd` column."
   ]
  },
  {
   "cell_type": "code",
   "execution_count": 11,
   "metadata": {},
   "outputs": [],
   "source": [
    "car_data['is_4wd'] = car_data['is_4wd'].fillna(0)"
   ]
  },
  {
   "cell_type": "markdown",
   "metadata": {},
   "source": [
    "We will fill missing data with 'unknown' in the `paint_color` column because it is not possible to fill these values based on other car features."
   ]
  },
  {
   "cell_type": "code",
   "execution_count": 12,
   "metadata": {},
   "outputs": [],
   "source": [
    "car_data['paint_color'] = car_data['paint_color'].fillna('unknown')"
   ]
  },
  {
   "cell_type": "markdown",
   "metadata": {},
   "source": [
    "Potentially `model_year` and `condition` could be correlated with `odometer`. So we will fill the missing values in \n",
    "`odometer` with group median based on `model_year` and `condition`."
   ]
  },
  {
   "cell_type": "code",
   "execution_count": 13,
   "metadata": {
    "scrolled": true
   },
   "outputs": [],
   "source": [
    "car_data['odometer']= car_data['odometer'].fillna(\n",
    "    car_data.groupby(['model_year', 'condition'])['odometer'].transform('median'))"
   ]
  },
  {
   "cell_type": "code",
   "execution_count": 14,
   "metadata": {},
   "outputs": [
    {
     "data": {
      "text/plain": [
       "NaN         556\n",
       "120000.0    453\n",
       "98000.0     416\n",
       "90700.0     326\n",
       "126000.0    306\n",
       "           ... \n",
       "12898.0       1\n",
       "29991.0       1\n",
       "105656.0      1\n",
       "94991.0       1\n",
       "90214.0       1\n",
       "Name: odometer, Length: 17810, dtype: int64"
      ]
     },
     "execution_count": 14,
     "metadata": {},
     "output_type": "execute_result"
    }
   ],
   "source": [
    "car_data['odometer'].value_counts(dropna=False)"
   ]
  },
  {
   "cell_type": "markdown",
   "metadata": {},
   "source": [
    "We see that there are still some missing values in `odometer`. Because we have much fewer missing values in `odometer`, now we can drop rows with missing values in `odometer`."
   ]
  },
  {
   "cell_type": "markdown",
   "metadata": {},
   "source": [
    "The number of cylinders in a car may be highly related to the car's model and year of the model. Thus, we will fill in missing values in `cylinders` with values based on `model_year` and `model`. "
   ]
  },
  {
   "cell_type": "code",
   "execution_count": 15,
   "metadata": {},
   "outputs": [],
   "source": [
    "car_data['cylinders'] = car_data['cylinders'].fillna(\n",
    "    car_data.groupby(['model_year', 'model'])['cylinders'].transform('median'))"
   ]
  },
  {
   "cell_type": "code",
   "execution_count": 16,
   "metadata": {
    "scrolled": true
   },
   "outputs": [
    {
     "data": {
      "text/plain": [
       "8.0     17497\n",
       "6.0     17354\n",
       "4.0     15354\n",
       "10.0      564\n",
       "NaN       389\n",
       "5.0       310\n",
       "3.0        34\n",
       "7.0        17\n",
       "9.0         2\n",
       "12.0        2\n",
       "5.5         1\n",
       "4.5         1\n",
       "Name: cylinders, dtype: int64"
      ]
     },
     "execution_count": 16,
     "metadata": {},
     "output_type": "execute_result"
    }
   ],
   "source": [
    "car_data['cylinders'].value_counts(dropna=False)"
   ]
  },
  {
   "cell_type": "markdown",
   "metadata": {},
   "source": [
    "The `model_year` may be highly related to the car's `model` and `condition`. Thus, we will fill in missing values in `model_year` with values based on `model` and `condition`. \n"
   ]
  },
  {
   "cell_type": "code",
   "execution_count": 17,
   "metadata": {},
   "outputs": [],
   "source": [
    "car_data['model_year'] = car_data['model_year'].fillna(\n",
    "    car_data.groupby(['model', 'condition'])['model_year'].transform('median'))"
   ]
  },
  {
   "cell_type": "code",
   "execution_count": 18,
   "metadata": {
    "scrolled": true
   },
   "outputs": [
    {
     "data": {
      "text/plain": [
       "2013.0    4023\n",
       "2012.0    3983\n",
       "2011.0    3763\n",
       "2014.0    3643\n",
       "2015.0    3463\n",
       "          ... \n",
       "1954.0       1\n",
       "1949.0       1\n",
       "1948.0       1\n",
       "1936.0       1\n",
       "1929.0       1\n",
       "Name: model_year, Length: 82, dtype: int64"
      ]
     },
     "execution_count": 18,
     "metadata": {},
     "output_type": "execute_result"
    }
   ],
   "source": [
    "car_data['model_year'].value_counts(dropna=False)"
   ]
  },
  {
   "cell_type": "markdown",
   "metadata": {},
   "source": [
    "Next, we will drop all rows that still have missing values. "
   ]
  },
  {
   "cell_type": "code",
   "execution_count": 59,
   "metadata": {},
   "outputs": [],
   "source": [
    "car_data2 = car_data.dropna(subset=['model_year', 'cylinders', 'odometer'], axis=0 )"
   ]
  },
  {
   "cell_type": "markdown",
   "metadata": {},
   "source": [
    "Let's check if there are still any missing values in any of the columns."
   ]
  },
  {
   "cell_type": "code",
   "execution_count": 20,
   "metadata": {
    "scrolled": true
   },
   "outputs": [
    {
     "name": "stdout",
     "output_type": "stream",
     "text": [
      "price           0.0\n",
      "model_year      0.0\n",
      "model           0.0\n",
      "condition       0.0\n",
      "cylinders       0.0\n",
      "fuel            0.0\n",
      "odometer        0.0\n",
      "transmission    0.0\n",
      "type            0.0\n",
      "paint_color     0.0\n",
      "is_4wd          0.0\n",
      "date_posted     0.0\n",
      "days_listed     0.0\n",
      "dtype: float64\n"
     ]
    }
   ],
   "source": [
    "missing_perct = (car_data2.isna().sum())/car_data2.shape[0]*100\n",
    "print(missing_perct)"
   ]
  },
  {
   "cell_type": "markdown",
   "metadata": {},
   "source": [
    "Now the data does not have missing values!"
   ]
  },
  {
   "cell_type": "markdown",
   "metadata": {},
   "source": [
    "<div class=\"alert alert-block alert-success\">\n",
    "<b>Reviewer's comment v2:</b>\n",
    "\n",
    "You have done great work with missing values! Now you saved data and filled it with related values - win/win :)"
   ]
  },
  {
   "cell_type": "markdown",
   "metadata": {},
   "source": [
    "## Fix data types"
   ]
  },
  {
   "cell_type": "code",
   "execution_count": 21,
   "metadata": {
    "scrolled": true
   },
   "outputs": [
    {
     "name": "stdout",
     "output_type": "stream",
     "text": [
      "<class 'pandas.core.frame.DataFrame'>\n",
      "Int64Index: 50635 entries, 0 to 51524\n",
      "Data columns (total 13 columns):\n",
      "price           50635 non-null int64\n",
      "model_year      50635 non-null datetime64[ns]\n",
      "model           50635 non-null object\n",
      "condition       50635 non-null object\n",
      "cylinders       50635 non-null int32\n",
      "fuel            50635 non-null object\n",
      "odometer        50635 non-null float64\n",
      "transmission    50635 non-null object\n",
      "type            50635 non-null object\n",
      "paint_color     50635 non-null object\n",
      "is_4wd          50635 non-null float64\n",
      "date_posted     50635 non-null datetime64[ns]\n",
      "days_listed     50635 non-null int64\n",
      "dtypes: datetime64[ns](2), float64(2), int32(1), int64(2), object(6)\n",
      "memory usage: 5.2+ MB\n"
     ]
    },
    {
     "name": "stderr",
     "output_type": "stream",
     "text": [
      "/opt/conda/lib/python3.7/site-packages/pandas/core/indexing.py:494: SettingWithCopyWarning: \n",
      "A value is trying to be set on a copy of a slice from a DataFrame.\n",
      "Try using .loc[row_indexer,col_indexer] = value instead\n",
      "\n",
      "See the caveats in the documentation: http://pandas.pydata.org/pandas-docs/stable/user_guide/indexing.html#returning-a-view-versus-a-copy\n",
      "  self.obj[item] = s\n"
     ]
    }
   ],
   "source": [
    "car_data2.loc[:,'model_year'] = pd.to_datetime(car_data2.loc[:,'model_year'], format='%Y')\n",
    "\n",
    "# Add datetime values for when the ad was placed\n",
    "car_data2.loc[:,'date_posted'] = pd.to_datetime(car_data2.loc[:,'date_posted'], format='%Y-%m-%d')\n",
    "\n",
    "car_data2.loc[:,'cylinders'] = car_data2.loc[:,'cylinders'].astype('int32')\n",
    "car_data2.info()"
   ]
  },
  {
   "cell_type": "markdown",
   "metadata": {},
   "source": [
    "<div class=\"alert alert-success\">\n",
    "<b>Reviewer's comment v1:</b>\n",
    "    \n",
    "Great that you checked data types."
   ]
  },
  {
   "cell_type": "markdown",
   "metadata": {},
   "source": [
    "We changed the data type of the columns `model_year` and `date_posted` to datatime data type. We also changed the data type of the column `cylinders` to integer data type. Then, we look at the general information of the dataset again, all columns now have reasonable data types. "
   ]
  },
  {
   "cell_type": "markdown",
   "metadata": {},
   "source": [
    "## Enrich data"
   ]
  },
  {
   "cell_type": "code",
   "execution_count": 22,
   "metadata": {
    "scrolled": true
   },
   "outputs": [
    {
     "name": "stderr",
     "output_type": "stream",
     "text": [
      "/opt/conda/lib/python3.7/site-packages/pandas/core/indexing.py:376: SettingWithCopyWarning: \n",
      "A value is trying to be set on a copy of a slice from a DataFrame.\n",
      "Try using .loc[row_indexer,col_indexer] = value instead\n",
      "\n",
      "See the caveats in the documentation: http://pandas.pydata.org/pandas-docs/stable/user_guide/indexing.html#returning-a-view-versus-a-copy\n",
      "  self.obj[key] = _infer_fill_value(value)\n"
     ]
    },
    {
     "data": {
      "text/plain": [
       "count    50635.000000\n",
       "mean        10.024737\n",
       "std          6.108174\n",
       "min          1.000000\n",
       "25%          5.643836\n",
       "50%          8.969863\n",
       "75%         13.394521\n",
       "max        111.586301\n",
       "Name: age, dtype: float64"
      ]
     },
     "execution_count": 22,
     "metadata": {},
     "output_type": "execute_result"
    }
   ],
   "source": [
    "# Add the vehicle's age when the ad was placed\n",
    "car_data2.loc[:,'age'] = (car_data2.loc[:,'date_posted']  - car_data2.loc[:,'model_year']).dt.days/365 + 1\n",
    "# car_data2\n",
    "# car_data2.info()\n",
    "car_data2.loc[:,'age'].describe()"
   ]
  },
  {
   "cell_type": "markdown",
   "metadata": {},
   "source": [
    "<div class=\"alert alert-warning\">\n",
    "<b>Reviewer's comment v1:</b>\n",
    "    \n",
    "Here you can slso add  +1 to the equation above to take into account the current year. Otherwise, it will lead to multiple 0 in `vehicle_age` (as below) and as a result infinite values in `yearly_mileage`. \n",
    "\n"
   ]
  },
  {
   "cell_type": "markdown",
   "metadata": {},
   "source": [
    "<div class=\"alert alert-info\"> <b>Student comments:</b> Yes! That is a good point. I added 1 to the age calculation. </div>  "
   ]
  },
  {
   "cell_type": "markdown",
   "metadata": {},
   "source": [
    "<div class=\"alert alert-success\">\n",
    "<b>Reviewer's comment v2:</b>\n",
    "    \n",
    "🙌"
   ]
  },
  {
   "cell_type": "markdown",
   "metadata": {},
   "source": [
    "Some cars have `age` = 111.586. Those seem to be really old cars. "
   ]
  },
  {
   "cell_type": "code",
   "execution_count": 23,
   "metadata": {},
   "outputs": [],
   "source": [
    "# Add the vehicle's average mileage per year\n",
    "\n",
    "car_data2.loc[:,'yearly_mileage'] = np.round(car_data2.loc[:,'odometer'] /car_data2.loc[:,'age'])\n",
    "# car_data2"
   ]
  },
  {
   "cell_type": "code",
   "execution_count": 24,
   "metadata": {
    "scrolled": false
   },
   "outputs": [
    {
     "data": {
      "text/plain": [
       "excellent    24385\n",
       "good         19756\n",
       "like new      4666\n",
       "fair          1581\n",
       "new            136\n",
       "salvage        111\n",
       "Name: condition, dtype: int64"
      ]
     },
     "execution_count": 24,
     "metadata": {},
     "output_type": "execute_result"
    }
   ],
   "source": [
    "# look at the unique values and counts for the condition column\n",
    "\n",
    "car_data2['condition'].value_counts()"
   ]
  },
  {
   "cell_type": "code",
   "execution_count": 25,
   "metadata": {},
   "outputs": [
    {
     "data": {
      "text/html": [
       "<div>\n",
       "<style scoped>\n",
       "    .dataframe tbody tr th:only-of-type {\n",
       "        vertical-align: middle;\n",
       "    }\n",
       "\n",
       "    .dataframe tbody tr th {\n",
       "        vertical-align: top;\n",
       "    }\n",
       "\n",
       "    .dataframe thead th {\n",
       "        text-align: right;\n",
       "    }\n",
       "</style>\n",
       "<table border=\"1\" class=\"dataframe\">\n",
       "  <thead>\n",
       "    <tr style=\"text-align: right;\">\n",
       "      <th></th>\n",
       "      <th>price</th>\n",
       "      <th>model_year</th>\n",
       "      <th>model</th>\n",
       "      <th>condition</th>\n",
       "      <th>cylinders</th>\n",
       "      <th>fuel</th>\n",
       "      <th>odometer</th>\n",
       "      <th>transmission</th>\n",
       "      <th>type</th>\n",
       "      <th>paint_color</th>\n",
       "      <th>is_4wd</th>\n",
       "      <th>date_posted</th>\n",
       "      <th>days_listed</th>\n",
       "      <th>age</th>\n",
       "      <th>yearly_mileage</th>\n",
       "    </tr>\n",
       "  </thead>\n",
       "  <tbody>\n",
       "    <tr>\n",
       "      <td>317</td>\n",
       "      <td>600</td>\n",
       "      <td>1999-01-01</td>\n",
       "      <td>toyota camry le</td>\n",
       "      <td>salvage</td>\n",
       "      <td>4</td>\n",
       "      <td>gas</td>\n",
       "      <td>216348.0</td>\n",
       "      <td>automatic</td>\n",
       "      <td>sedan</td>\n",
       "      <td>white</td>\n",
       "      <td>0.0</td>\n",
       "      <td>2019-03-04</td>\n",
       "      <td>23</td>\n",
       "      <td>21.183562</td>\n",
       "      <td>10213.0</td>\n",
       "    </tr>\n",
       "    <tr>\n",
       "      <td>439</td>\n",
       "      <td>1000</td>\n",
       "      <td>2008-01-01</td>\n",
       "      <td>ford f150</td>\n",
       "      <td>salvage</td>\n",
       "      <td>8</td>\n",
       "      <td>gas</td>\n",
       "      <td>285000.0</td>\n",
       "      <td>automatic</td>\n",
       "      <td>pickup</td>\n",
       "      <td>white</td>\n",
       "      <td>0.0</td>\n",
       "      <td>2018-10-19</td>\n",
       "      <td>19</td>\n",
       "      <td>11.805479</td>\n",
       "      <td>24141.0</td>\n",
       "    </tr>\n",
       "    <tr>\n",
       "      <td>519</td>\n",
       "      <td>5500</td>\n",
       "      <td>2012-01-01</td>\n",
       "      <td>nissan frontier</td>\n",
       "      <td>salvage</td>\n",
       "      <td>6</td>\n",
       "      <td>gas</td>\n",
       "      <td>120000.0</td>\n",
       "      <td>automatic</td>\n",
       "      <td>truck</td>\n",
       "      <td>white</td>\n",
       "      <td>1.0</td>\n",
       "      <td>2018-05-20</td>\n",
       "      <td>9</td>\n",
       "      <td>7.386301</td>\n",
       "      <td>16246.0</td>\n",
       "    </tr>\n",
       "    <tr>\n",
       "      <td>686</td>\n",
       "      <td>999</td>\n",
       "      <td>1995-01-01</td>\n",
       "      <td>toyota 4runner</td>\n",
       "      <td>salvage</td>\n",
       "      <td>6</td>\n",
       "      <td>gas</td>\n",
       "      <td>164221.0</td>\n",
       "      <td>automatic</td>\n",
       "      <td>SUV</td>\n",
       "      <td>red</td>\n",
       "      <td>0.0</td>\n",
       "      <td>2018-05-03</td>\n",
       "      <td>33</td>\n",
       "      <td>24.350685</td>\n",
       "      <td>6744.0</td>\n",
       "    </tr>\n",
       "    <tr>\n",
       "      <td>1503</td>\n",
       "      <td>850</td>\n",
       "      <td>2003-01-01</td>\n",
       "      <td>honda civic</td>\n",
       "      <td>salvage</td>\n",
       "      <td>4</td>\n",
       "      <td>hybrid</td>\n",
       "      <td>229704.0</td>\n",
       "      <td>automatic</td>\n",
       "      <td>sedan</td>\n",
       "      <td>brown</td>\n",
       "      <td>0.0</td>\n",
       "      <td>2018-12-23</td>\n",
       "      <td>39</td>\n",
       "      <td>16.986301</td>\n",
       "      <td>13523.0</td>\n",
       "    </tr>\n",
       "    <tr>\n",
       "      <td>...</td>\n",
       "      <td>...</td>\n",
       "      <td>...</td>\n",
       "      <td>...</td>\n",
       "      <td>...</td>\n",
       "      <td>...</td>\n",
       "      <td>...</td>\n",
       "      <td>...</td>\n",
       "      <td>...</td>\n",
       "      <td>...</td>\n",
       "      <td>...</td>\n",
       "      <td>...</td>\n",
       "      <td>...</td>\n",
       "      <td>...</td>\n",
       "      <td>...</td>\n",
       "      <td>...</td>\n",
       "    </tr>\n",
       "    <tr>\n",
       "      <td>50269</td>\n",
       "      <td>500</td>\n",
       "      <td>2008-01-01</td>\n",
       "      <td>nissan versa</td>\n",
       "      <td>salvage</td>\n",
       "      <td>4</td>\n",
       "      <td>gas</td>\n",
       "      <td>225000.0</td>\n",
       "      <td>automatic</td>\n",
       "      <td>hatchback</td>\n",
       "      <td>black</td>\n",
       "      <td>0.0</td>\n",
       "      <td>2018-10-18</td>\n",
       "      <td>33</td>\n",
       "      <td>11.802740</td>\n",
       "      <td>19063.0</td>\n",
       "    </tr>\n",
       "    <tr>\n",
       "      <td>50698</td>\n",
       "      <td>3500</td>\n",
       "      <td>2006-01-01</td>\n",
       "      <td>honda accord</td>\n",
       "      <td>salvage</td>\n",
       "      <td>4</td>\n",
       "      <td>gas</td>\n",
       "      <td>106251.0</td>\n",
       "      <td>automatic</td>\n",
       "      <td>sedan</td>\n",
       "      <td>unknown</td>\n",
       "      <td>0.0</td>\n",
       "      <td>2018-06-11</td>\n",
       "      <td>23</td>\n",
       "      <td>13.449315</td>\n",
       "      <td>7900.0</td>\n",
       "    </tr>\n",
       "    <tr>\n",
       "      <td>50816</td>\n",
       "      <td>5000</td>\n",
       "      <td>2017-01-01</td>\n",
       "      <td>dodge grand caravan</td>\n",
       "      <td>salvage</td>\n",
       "      <td>6</td>\n",
       "      <td>gas</td>\n",
       "      <td>20000.0</td>\n",
       "      <td>automatic</td>\n",
       "      <td>mini-van</td>\n",
       "      <td>unknown</td>\n",
       "      <td>0.0</td>\n",
       "      <td>2018-08-18</td>\n",
       "      <td>7</td>\n",
       "      <td>2.627397</td>\n",
       "      <td>7612.0</td>\n",
       "    </tr>\n",
       "    <tr>\n",
       "      <td>50854</td>\n",
       "      <td>2900</td>\n",
       "      <td>2013-01-01</td>\n",
       "      <td>hyundai sonata</td>\n",
       "      <td>salvage</td>\n",
       "      <td>4</td>\n",
       "      <td>gas</td>\n",
       "      <td>57500.0</td>\n",
       "      <td>automatic</td>\n",
       "      <td>sedan</td>\n",
       "      <td>blue</td>\n",
       "      <td>0.0</td>\n",
       "      <td>2018-10-28</td>\n",
       "      <td>22</td>\n",
       "      <td>6.824658</td>\n",
       "      <td>8425.0</td>\n",
       "    </tr>\n",
       "    <tr>\n",
       "      <td>51521</td>\n",
       "      <td>2700</td>\n",
       "      <td>2002-01-01</td>\n",
       "      <td>honda civic</td>\n",
       "      <td>salvage</td>\n",
       "      <td>4</td>\n",
       "      <td>gas</td>\n",
       "      <td>181500.0</td>\n",
       "      <td>automatic</td>\n",
       "      <td>sedan</td>\n",
       "      <td>white</td>\n",
       "      <td>0.0</td>\n",
       "      <td>2018-11-14</td>\n",
       "      <td>22</td>\n",
       "      <td>17.879452</td>\n",
       "      <td>10151.0</td>\n",
       "    </tr>\n",
       "  </tbody>\n",
       "</table>\n",
       "<p>111 rows × 15 columns</p>\n",
       "</div>"
      ],
      "text/plain": [
       "       price model_year                model condition  cylinders    fuel  \\\n",
       "317      600 1999-01-01      toyota camry le   salvage          4     gas   \n",
       "439     1000 2008-01-01            ford f150   salvage          8     gas   \n",
       "519     5500 2012-01-01      nissan frontier   salvage          6     gas   \n",
       "686      999 1995-01-01       toyota 4runner   salvage          6     gas   \n",
       "1503     850 2003-01-01          honda civic   salvage          4  hybrid   \n",
       "...      ...        ...                  ...       ...        ...     ...   \n",
       "50269    500 2008-01-01         nissan versa   salvage          4     gas   \n",
       "50698   3500 2006-01-01         honda accord   salvage          4     gas   \n",
       "50816   5000 2017-01-01  dodge grand caravan   salvage          6     gas   \n",
       "50854   2900 2013-01-01       hyundai sonata   salvage          4     gas   \n",
       "51521   2700 2002-01-01          honda civic   salvage          4     gas   \n",
       "\n",
       "       odometer transmission       type paint_color  is_4wd date_posted  \\\n",
       "317    216348.0    automatic      sedan       white     0.0  2019-03-04   \n",
       "439    285000.0    automatic     pickup       white     0.0  2018-10-19   \n",
       "519    120000.0    automatic      truck       white     1.0  2018-05-20   \n",
       "686    164221.0    automatic        SUV         red     0.0  2018-05-03   \n",
       "1503   229704.0    automatic      sedan       brown     0.0  2018-12-23   \n",
       "...         ...          ...        ...         ...     ...         ...   \n",
       "50269  225000.0    automatic  hatchback       black     0.0  2018-10-18   \n",
       "50698  106251.0    automatic      sedan     unknown     0.0  2018-06-11   \n",
       "50816   20000.0    automatic   mini-van     unknown     0.0  2018-08-18   \n",
       "50854   57500.0    automatic      sedan        blue     0.0  2018-10-28   \n",
       "51521  181500.0    automatic      sedan       white     0.0  2018-11-14   \n",
       "\n",
       "       days_listed        age  yearly_mileage  \n",
       "317             23  21.183562         10213.0  \n",
       "439             19  11.805479         24141.0  \n",
       "519              9   7.386301         16246.0  \n",
       "686             33  24.350685          6744.0  \n",
       "1503            39  16.986301         13523.0  \n",
       "...            ...        ...             ...  \n",
       "50269           33  11.802740         19063.0  \n",
       "50698           23  13.449315          7900.0  \n",
       "50816            7   2.627397          7612.0  \n",
       "50854           22   6.824658          8425.0  \n",
       "51521           22  17.879452         10151.0  \n",
       "\n",
       "[111 rows x 15 columns]"
      ]
     },
     "execution_count": 25,
     "metadata": {},
     "output_type": "execute_result"
    }
   ],
   "source": [
    "car_data2[(car_data2['condition'] == 'salvage')]"
   ]
  },
  {
   "cell_type": "code",
   "execution_count": 26,
   "metadata": {},
   "outputs": [],
   "source": [
    "# Let's write a function that replace the condition values with something that can be manipulated more easily\n",
    "\n",
    "def recode_condition(condition):\n",
    "    \n",
    "    if condition ==  'salvage':\n",
    "        return 0\n",
    "    elif condition ==  'fair':\n",
    "        return 1\n",
    "    elif condition ==  'good':\n",
    "        return 2\n",
    "    elif condition ==  'excellent':\n",
    "        return 3\n",
    "    elif condition ==  'like new':\n",
    "        return 4\n",
    "    else:\n",
    "        return 5"
   ]
  },
  {
   "cell_type": "code",
   "execution_count": 27,
   "metadata": {},
   "outputs": [],
   "source": [
    "car_data2.loc[:,'condition'] = car_data2.loc[:,'condition'].apply(recode_condition)"
   ]
  },
  {
   "cell_type": "markdown",
   "metadata": {},
   "source": [
    "## Check clean data"
   ]
  },
  {
   "cell_type": "code",
   "execution_count": 28,
   "metadata": {
    "scrolled": true
   },
   "outputs": [
    {
     "name": "stdout",
     "output_type": "stream",
     "text": [
      "<class 'pandas.core.frame.DataFrame'>\n",
      "Int64Index: 50635 entries, 0 to 51524\n",
      "Data columns (total 15 columns):\n",
      "price             50635 non-null int64\n",
      "model_year        50635 non-null datetime64[ns]\n",
      "model             50635 non-null object\n",
      "condition         50635 non-null int64\n",
      "cylinders         50635 non-null int32\n",
      "fuel              50635 non-null object\n",
      "odometer          50635 non-null float64\n",
      "transmission      50635 non-null object\n",
      "type              50635 non-null object\n",
      "paint_color       50635 non-null object\n",
      "is_4wd            50635 non-null float64\n",
      "date_posted       50635 non-null datetime64[ns]\n",
      "days_listed       50635 non-null int64\n",
      "age               50635 non-null float64\n",
      "yearly_mileage    50635 non-null float64\n",
      "dtypes: datetime64[ns](2), float64(4), int32(1), int64(3), object(5)\n",
      "memory usage: 6.0+ MB\n"
     ]
    }
   ],
   "source": [
    "# print the general/summary information about the DataFrame\n",
    "\n",
    "car_data2.info()"
   ]
  },
  {
   "cell_type": "code",
   "execution_count": 29,
   "metadata": {},
   "outputs": [
    {
     "data": {
      "text/html": [
       "<div>\n",
       "<style scoped>\n",
       "    .dataframe tbody tr th:only-of-type {\n",
       "        vertical-align: middle;\n",
       "    }\n",
       "\n",
       "    .dataframe tbody tr th {\n",
       "        vertical-align: top;\n",
       "    }\n",
       "\n",
       "    .dataframe thead th {\n",
       "        text-align: right;\n",
       "    }\n",
       "</style>\n",
       "<table border=\"1\" class=\"dataframe\">\n",
       "  <thead>\n",
       "    <tr style=\"text-align: right;\">\n",
       "      <th></th>\n",
       "      <th>price</th>\n",
       "      <th>model_year</th>\n",
       "      <th>model</th>\n",
       "      <th>condition</th>\n",
       "      <th>cylinders</th>\n",
       "      <th>fuel</th>\n",
       "      <th>odometer</th>\n",
       "      <th>transmission</th>\n",
       "      <th>type</th>\n",
       "      <th>paint_color</th>\n",
       "      <th>is_4wd</th>\n",
       "      <th>date_posted</th>\n",
       "      <th>days_listed</th>\n",
       "      <th>age</th>\n",
       "      <th>yearly_mileage</th>\n",
       "    </tr>\n",
       "  </thead>\n",
       "  <tbody>\n",
       "    <tr>\n",
       "      <td>0</td>\n",
       "      <td>9400</td>\n",
       "      <td>2011-01-01</td>\n",
       "      <td>bmw x5</td>\n",
       "      <td>2</td>\n",
       "      <td>6</td>\n",
       "      <td>gas</td>\n",
       "      <td>145000.0</td>\n",
       "      <td>automatic</td>\n",
       "      <td>SUV</td>\n",
       "      <td>unknown</td>\n",
       "      <td>1.0</td>\n",
       "      <td>2018-06-23</td>\n",
       "      <td>19</td>\n",
       "      <td>8.479452</td>\n",
       "      <td>17100.0</td>\n",
       "    </tr>\n",
       "    <tr>\n",
       "      <td>1</td>\n",
       "      <td>25500</td>\n",
       "      <td>2008-01-01</td>\n",
       "      <td>ford f-150</td>\n",
       "      <td>2</td>\n",
       "      <td>6</td>\n",
       "      <td>gas</td>\n",
       "      <td>88705.0</td>\n",
       "      <td>automatic</td>\n",
       "      <td>pickup</td>\n",
       "      <td>white</td>\n",
       "      <td>1.0</td>\n",
       "      <td>2018-10-19</td>\n",
       "      <td>50</td>\n",
       "      <td>11.805479</td>\n",
       "      <td>7514.0</td>\n",
       "    </tr>\n",
       "    <tr>\n",
       "      <td>2</td>\n",
       "      <td>5500</td>\n",
       "      <td>2013-01-01</td>\n",
       "      <td>hyundai sonata</td>\n",
       "      <td>4</td>\n",
       "      <td>4</td>\n",
       "      <td>gas</td>\n",
       "      <td>110000.0</td>\n",
       "      <td>automatic</td>\n",
       "      <td>sedan</td>\n",
       "      <td>red</td>\n",
       "      <td>0.0</td>\n",
       "      <td>2019-02-07</td>\n",
       "      <td>79</td>\n",
       "      <td>7.104110</td>\n",
       "      <td>15484.0</td>\n",
       "    </tr>\n",
       "    <tr>\n",
       "      <td>3</td>\n",
       "      <td>1500</td>\n",
       "      <td>2003-01-01</td>\n",
       "      <td>ford f-150</td>\n",
       "      <td>1</td>\n",
       "      <td>8</td>\n",
       "      <td>gas</td>\n",
       "      <td>193850.0</td>\n",
       "      <td>automatic</td>\n",
       "      <td>pickup</td>\n",
       "      <td>unknown</td>\n",
       "      <td>0.0</td>\n",
       "      <td>2019-03-22</td>\n",
       "      <td>9</td>\n",
       "      <td>17.230137</td>\n",
       "      <td>11251.0</td>\n",
       "    </tr>\n",
       "    <tr>\n",
       "      <td>4</td>\n",
       "      <td>14900</td>\n",
       "      <td>2017-01-01</td>\n",
       "      <td>chrysler 200</td>\n",
       "      <td>3</td>\n",
       "      <td>4</td>\n",
       "      <td>gas</td>\n",
       "      <td>80903.0</td>\n",
       "      <td>automatic</td>\n",
       "      <td>sedan</td>\n",
       "      <td>black</td>\n",
       "      <td>0.0</td>\n",
       "      <td>2019-04-02</td>\n",
       "      <td>28</td>\n",
       "      <td>3.249315</td>\n",
       "      <td>24898.0</td>\n",
       "    </tr>\n",
       "    <tr>\n",
       "      <td>5</td>\n",
       "      <td>14990</td>\n",
       "      <td>2014-01-01</td>\n",
       "      <td>chrysler 300</td>\n",
       "      <td>3</td>\n",
       "      <td>6</td>\n",
       "      <td>gas</td>\n",
       "      <td>57954.0</td>\n",
       "      <td>automatic</td>\n",
       "      <td>sedan</td>\n",
       "      <td>black</td>\n",
       "      <td>1.0</td>\n",
       "      <td>2018-06-20</td>\n",
       "      <td>15</td>\n",
       "      <td>5.468493</td>\n",
       "      <td>10598.0</td>\n",
       "    </tr>\n",
       "    <tr>\n",
       "      <td>6</td>\n",
       "      <td>12990</td>\n",
       "      <td>2015-01-01</td>\n",
       "      <td>toyota camry</td>\n",
       "      <td>3</td>\n",
       "      <td>4</td>\n",
       "      <td>gas</td>\n",
       "      <td>79212.0</td>\n",
       "      <td>automatic</td>\n",
       "      <td>sedan</td>\n",
       "      <td>white</td>\n",
       "      <td>0.0</td>\n",
       "      <td>2018-12-27</td>\n",
       "      <td>73</td>\n",
       "      <td>4.989041</td>\n",
       "      <td>15877.0</td>\n",
       "    </tr>\n",
       "    <tr>\n",
       "      <td>7</td>\n",
       "      <td>15990</td>\n",
       "      <td>2013-01-01</td>\n",
       "      <td>honda pilot</td>\n",
       "      <td>3</td>\n",
       "      <td>6</td>\n",
       "      <td>gas</td>\n",
       "      <td>109473.0</td>\n",
       "      <td>automatic</td>\n",
       "      <td>SUV</td>\n",
       "      <td>black</td>\n",
       "      <td>1.0</td>\n",
       "      <td>2019-01-07</td>\n",
       "      <td>68</td>\n",
       "      <td>7.019178</td>\n",
       "      <td>15596.0</td>\n",
       "    </tr>\n",
       "    <tr>\n",
       "      <td>8</td>\n",
       "      <td>11500</td>\n",
       "      <td>2012-01-01</td>\n",
       "      <td>kia sorento</td>\n",
       "      <td>3</td>\n",
       "      <td>4</td>\n",
       "      <td>gas</td>\n",
       "      <td>104174.0</td>\n",
       "      <td>automatic</td>\n",
       "      <td>SUV</td>\n",
       "      <td>unknown</td>\n",
       "      <td>1.0</td>\n",
       "      <td>2018-07-16</td>\n",
       "      <td>19</td>\n",
       "      <td>7.542466</td>\n",
       "      <td>13812.0</td>\n",
       "    </tr>\n",
       "    <tr>\n",
       "      <td>9</td>\n",
       "      <td>9200</td>\n",
       "      <td>2008-01-01</td>\n",
       "      <td>honda pilot</td>\n",
       "      <td>3</td>\n",
       "      <td>6</td>\n",
       "      <td>gas</td>\n",
       "      <td>147191.0</td>\n",
       "      <td>automatic</td>\n",
       "      <td>SUV</td>\n",
       "      <td>blue</td>\n",
       "      <td>1.0</td>\n",
       "      <td>2019-02-15</td>\n",
       "      <td>17</td>\n",
       "      <td>12.131507</td>\n",
       "      <td>12133.0</td>\n",
       "    </tr>\n",
       "  </tbody>\n",
       "</table>\n",
       "</div>"
      ],
      "text/plain": [
       "   price model_year           model  condition  cylinders fuel  odometer  \\\n",
       "0   9400 2011-01-01          bmw x5          2          6  gas  145000.0   \n",
       "1  25500 2008-01-01      ford f-150          2          6  gas   88705.0   \n",
       "2   5500 2013-01-01  hyundai sonata          4          4  gas  110000.0   \n",
       "3   1500 2003-01-01      ford f-150          1          8  gas  193850.0   \n",
       "4  14900 2017-01-01    chrysler 200          3          4  gas   80903.0   \n",
       "5  14990 2014-01-01    chrysler 300          3          6  gas   57954.0   \n",
       "6  12990 2015-01-01    toyota camry          3          4  gas   79212.0   \n",
       "7  15990 2013-01-01     honda pilot          3          6  gas  109473.0   \n",
       "8  11500 2012-01-01     kia sorento          3          4  gas  104174.0   \n",
       "9   9200 2008-01-01     honda pilot          3          6  gas  147191.0   \n",
       "\n",
       "  transmission    type paint_color  is_4wd date_posted  days_listed  \\\n",
       "0    automatic     SUV     unknown     1.0  2018-06-23           19   \n",
       "1    automatic  pickup       white     1.0  2018-10-19           50   \n",
       "2    automatic   sedan         red     0.0  2019-02-07           79   \n",
       "3    automatic  pickup     unknown     0.0  2019-03-22            9   \n",
       "4    automatic   sedan       black     0.0  2019-04-02           28   \n",
       "5    automatic   sedan       black     1.0  2018-06-20           15   \n",
       "6    automatic   sedan       white     0.0  2018-12-27           73   \n",
       "7    automatic     SUV       black     1.0  2019-01-07           68   \n",
       "8    automatic     SUV     unknown     1.0  2018-07-16           19   \n",
       "9    automatic     SUV        blue     1.0  2019-02-15           17   \n",
       "\n",
       "         age  yearly_mileage  \n",
       "0   8.479452         17100.0  \n",
       "1  11.805479          7514.0  \n",
       "2   7.104110         15484.0  \n",
       "3  17.230137         11251.0  \n",
       "4   3.249315         24898.0  \n",
       "5   5.468493         10598.0  \n",
       "6   4.989041         15877.0  \n",
       "7   7.019178         15596.0  \n",
       "8   7.542466         13812.0  \n",
       "9  12.131507         12133.0  "
      ]
     },
     "execution_count": 29,
     "metadata": {},
     "output_type": "execute_result"
    }
   ],
   "source": [
    "# print a sample of data\n",
    "\n",
    "car_data2.head(10)"
   ]
  },
  {
   "cell_type": "markdown",
   "metadata": {},
   "source": [
    "## Study core parameters\n",
    "\n",
    "The parameters are\n",
    "- Price\n",
    "- The vehicle's age when the ad was placed\n",
    "- Mileage\n",
    "- Number of cylinders\n",
    "- Condition"
   ]
  },
  {
   "cell_type": "code",
   "execution_count": 30,
   "metadata": {},
   "outputs": [
    {
     "data": {
      "text/html": [
       "<div>\n",
       "<style scoped>\n",
       "    .dataframe tbody tr th:only-of-type {\n",
       "        vertical-align: middle;\n",
       "    }\n",
       "\n",
       "    .dataframe tbody tr th {\n",
       "        vertical-align: top;\n",
       "    }\n",
       "\n",
       "    .dataframe thead th {\n",
       "        text-align: right;\n",
       "    }\n",
       "</style>\n",
       "<table border=\"1\" class=\"dataframe\">\n",
       "  <thead>\n",
       "    <tr style=\"text-align: right;\">\n",
       "      <th></th>\n",
       "      <th>price</th>\n",
       "      <th>condition</th>\n",
       "      <th>cylinders</th>\n",
       "      <th>odometer</th>\n",
       "      <th>is_4wd</th>\n",
       "      <th>days_listed</th>\n",
       "      <th>age</th>\n",
       "      <th>yearly_mileage</th>\n",
       "    </tr>\n",
       "  </thead>\n",
       "  <tbody>\n",
       "    <tr>\n",
       "      <td>count</td>\n",
       "      <td>50635.000000</td>\n",
       "      <td>50635.000000</td>\n",
       "      <td>50635.000000</td>\n",
       "      <td>50635.000000</td>\n",
       "      <td>50635.000000</td>\n",
       "      <td>50635.000000</td>\n",
       "      <td>50635.000000</td>\n",
       "      <td>50635.000000</td>\n",
       "    </tr>\n",
       "    <tr>\n",
       "      <td>mean</td>\n",
       "      <td>12136.267285</td>\n",
       "      <td>2.638333</td>\n",
       "      <td>6.119581</td>\n",
       "      <td>115177.365498</td>\n",
       "      <td>0.496416</td>\n",
       "      <td>39.543695</td>\n",
       "      <td>10.024737</td>\n",
       "      <td>13120.302479</td>\n",
       "    </tr>\n",
       "    <tr>\n",
       "      <td>std</td>\n",
       "      <td>10043.252461</td>\n",
       "      <td>0.711961</td>\n",
       "      <td>1.657046</td>\n",
       "      <td>62461.145247</td>\n",
       "      <td>0.499992</td>\n",
       "      <td>28.187960</td>\n",
       "      <td>6.108174</td>\n",
       "      <td>6981.203158</td>\n",
       "    </tr>\n",
       "    <tr>\n",
       "      <td>min</td>\n",
       "      <td>1.000000</td>\n",
       "      <td>0.000000</td>\n",
       "      <td>3.000000</td>\n",
       "      <td>0.000000</td>\n",
       "      <td>0.000000</td>\n",
       "      <td>0.000000</td>\n",
       "      <td>1.000000</td>\n",
       "      <td>0.000000</td>\n",
       "    </tr>\n",
       "    <tr>\n",
       "      <td>25%</td>\n",
       "      <td>5000.000000</td>\n",
       "      <td>2.000000</td>\n",
       "      <td>4.000000</td>\n",
       "      <td>72796.000000</td>\n",
       "      <td>0.000000</td>\n",
       "      <td>19.000000</td>\n",
       "      <td>5.643836</td>\n",
       "      <td>9190.000000</td>\n",
       "    </tr>\n",
       "    <tr>\n",
       "      <td>50%</td>\n",
       "      <td>9000.000000</td>\n",
       "      <td>3.000000</td>\n",
       "      <td>6.000000</td>\n",
       "      <td>114479.000000</td>\n",
       "      <td>0.000000</td>\n",
       "      <td>33.000000</td>\n",
       "      <td>8.969863</td>\n",
       "      <td>12409.000000</td>\n",
       "    </tr>\n",
       "    <tr>\n",
       "      <td>75%</td>\n",
       "      <td>16803.000000</td>\n",
       "      <td>3.000000</td>\n",
       "      <td>8.000000</td>\n",
       "      <td>153000.000000</td>\n",
       "      <td>1.000000</td>\n",
       "      <td>53.000000</td>\n",
       "      <td>13.394521</td>\n",
       "      <td>15859.500000</td>\n",
       "    </tr>\n",
       "    <tr>\n",
       "      <td>max</td>\n",
       "      <td>375000.000000</td>\n",
       "      <td>5.000000</td>\n",
       "      <td>12.000000</td>\n",
       "      <td>990000.000000</td>\n",
       "      <td>1.000000</td>\n",
       "      <td>271.000000</td>\n",
       "      <td>111.586301</td>\n",
       "      <td>219353.000000</td>\n",
       "    </tr>\n",
       "  </tbody>\n",
       "</table>\n",
       "</div>"
      ],
      "text/plain": [
       "               price     condition     cylinders       odometer        is_4wd  \\\n",
       "count   50635.000000  50635.000000  50635.000000   50635.000000  50635.000000   \n",
       "mean    12136.267285      2.638333      6.119581  115177.365498      0.496416   \n",
       "std     10043.252461      0.711961      1.657046   62461.145247      0.499992   \n",
       "min         1.000000      0.000000      3.000000       0.000000      0.000000   \n",
       "25%      5000.000000      2.000000      4.000000   72796.000000      0.000000   \n",
       "50%      9000.000000      3.000000      6.000000  114479.000000      0.000000   \n",
       "75%     16803.000000      3.000000      8.000000  153000.000000      1.000000   \n",
       "max    375000.000000      5.000000     12.000000  990000.000000      1.000000   \n",
       "\n",
       "        days_listed           age  yearly_mileage  \n",
       "count  50635.000000  50635.000000    50635.000000  \n",
       "mean      39.543695     10.024737    13120.302479  \n",
       "std       28.187960      6.108174     6981.203158  \n",
       "min        0.000000      1.000000        0.000000  \n",
       "25%       19.000000      5.643836     9190.000000  \n",
       "50%       33.000000      8.969863    12409.000000  \n",
       "75%       53.000000     13.394521    15859.500000  \n",
       "max      271.000000    111.586301   219353.000000  "
      ]
     },
     "execution_count": 30,
     "metadata": {},
     "output_type": "execute_result"
    }
   ],
   "source": [
    "car_data2.describe()"
   ]
  },
  {
   "cell_type": "code",
   "execution_count": 31,
   "metadata": {
    "scrolled": true
   },
   "outputs": [
    {
     "data": {
      "image/png": "[encoded data removed]",
      "text/plain": [
       "<Figure size 432x288 with 1 Axes>"
      ]
     },
     "metadata": {
      "needs_background": "light"
     },
     "output_type": "display_data"
    }
   ],
   "source": [
    "# boxplot of price\n",
    "# car_data2.plot('price',kind='hist', bins=10)\n",
    "car_data2.boxplot(column='price')\n",
    "plt.title('Boxplot for price')\n",
    "plt.ylabel('dollars')\n",
    "plt.show()"
   ]
  },
  {
   "cell_type": "markdown",
   "metadata": {},
   "source": [
    "Around 75% of the cars have price below 16803. Some cars have unusually high prices (outilers). "
   ]
  },
  {
   "cell_type": "code",
   "execution_count": 32,
   "metadata": {
    "scrolled": true
   },
   "outputs": [
    {
     "data": {
      "image/png": "[encoded data removed]",
      "text/plain": [
       "<Figure size 432x288 with 1 Axes>"
      ]
     },
     "metadata": {
      "needs_background": "light"
     },
     "output_type": "display_data"
    }
   ],
   "source": [
    "# boxplot of age\n",
    "car_data2.boxplot(column='age')\n",
    "plt.title(\"Boxplot for cars' age \")\n",
    "plt.ylabel('years')\n",
    "plt.show()"
   ]
  },
  {
   "cell_type": "markdown",
   "metadata": {},
   "source": [
    "<div class=\"alert alert-block alert-warning\">\n",
    "<b>Reviewer's comment v1:</b>\n",
    "    \n",
    "Adding titles to your graphs is important for providing context for the users so they understand what they are looking at. Together with for example legends and axis labels this is important to support unambiguous interpretation of displayed information."
   ]
  },
  {
   "cell_type": "markdown",
   "metadata": {},
   "source": [
    "<div class=\"alert alert-info\"> <b>Student comments:</b> Yes! That is a good point. </div>  "
   ]
  },
  {
   "cell_type": "markdown",
   "metadata": {},
   "source": [
    "<div class=\"alert alert-success\">\n",
    "<b>Reviewer's comment v2:</b>\n",
    "    \n",
    "Thanks for adding that! "
   ]
  },
  {
   "cell_type": "markdown",
   "metadata": {},
   "source": [
    "Around 75% of the cars have age below 13.39 years. Some cars have unusually old age (outilers). "
   ]
  },
  {
   "cell_type": "code",
   "execution_count": 33,
   "metadata": {
    "scrolled": false
   },
   "outputs": [
    {
     "data": {
      "image/png": "[encoded data removed]",
      "text/plain": [
       "<Figure size 432x288 with 1 Axes>"
      ]
     },
     "metadata": {
      "needs_background": "light"
     },
     "output_type": "display_data"
    }
   ],
   "source": [
    "# boxplot of yearly_mileage\n",
    "\n",
    "car_data2.boxplot(column='yearly_mileage')\n",
    "plt.title(\"Boxplot for cars' yearly mileage \")\n",
    "plt.ylabel('mileage per year')\n",
    "plt.show()"
   ]
  },
  {
   "cell_type": "markdown",
   "metadata": {},
   "source": [
    "Around 75% of the cars have yearly mileage below 15859 miles. Some cars have unusually high yearly mileage (outilers). "
   ]
  },
  {
   "cell_type": "code",
   "execution_count": 34,
   "metadata": {
    "scrolled": true
   },
   "outputs": [
    {
     "data": {
      "image/png": "[encoded data removed]",
      "text/plain": [
       "<Figure size 432x288 with 1 Axes>"
      ]
     },
     "metadata": {
      "needs_background": "light"
     },
     "output_type": "display_data"
    }
   ],
   "source": [
    "# barplot of cylinders\n",
    "car_data2['cylinders'].value_counts().plot(kind='bar')\n",
    "plt.title(\"Barplot for the number of cylinders in cars\")\n",
    "plt.ylabel('counts')\n",
    "plt.show()"
   ]
  },
  {
   "cell_type": "markdown",
   "metadata": {},
   "source": [
    "Most cars have 4, 6 or 8 cylinders. Very few cars have 3, 5, 7, 9, 10, or 12 cylinders."
   ]
  },
  {
   "cell_type": "code",
   "execution_count": 35,
   "metadata": {},
   "outputs": [
    {
     "data": {
      "image/png": "[encoded data removed]",
      "text/plain": [
       "<Figure size 432x288 with 1 Axes>"
      ]
     },
     "metadata": {
      "needs_background": "light"
     },
     "output_type": "display_data"
    }
   ],
   "source": [
    "# barplot of condition\n",
    "car_data2['condition'].value_counts().plot(kind='bar')\n",
    "plt.title(\"Barplot for the condition of cars\")\n",
    "plt.ylabel('counts')\n",
    "plt.show()\n"
   ]
  },
  {
   "cell_type": "markdown",
   "metadata": {},
   "source": [
    "Most cars are in good or excellent condition. There are some but not many cars in fair or like new condition. Very few cars are in new or salvage condition.\n",
    "\n"
   ]
  },
  {
   "cell_type": "markdown",
   "metadata": {},
   "source": [
    "## Study and treat outliers"
   ]
  },
  {
   "cell_type": "markdown",
   "metadata": {},
   "source": [
    "The above analysis shows that the columns `price`, `age` and `yearly_mileage` have outliers. We want to create a DataFrame without those outliers. First, let's identify the outliers by defining the lower/upper limits for the normal range of values for each column."
   ]
  },
  {
   "cell_type": "code",
   "execution_count": 36,
   "metadata": {},
   "outputs": [],
   "source": [
    "# Determine if there are still more outliers in each column\n",
    "\n",
    "def check_outlier(col_name, df):\n",
    "    '''\n",
    "    The check_outlier checks if there are outliers in a column\n",
    "    '''\n",
    "    # col_name is a string\n",
    "    MIN, Q1, Q3, MAX = df[col_name].quantile([0, 0.25, 0.75, 1.0])\n",
    "    IQR = Q3 - Q1\n",
    "    lower_limit, upper_limit = Q1-1.5*IQR, Q3+1.5*IQR\n",
    "    print(f'The lower limit for the normal range of {col_name} is {lower_limit}')\n",
    "    print(f'The upper limit for the normal range of {col_name} is {upper_limit}')\n",
    "    print(f'The minimum of {col_name} is {MIN}')\n",
    "    print(f'The maximum of {col_name} is {MAX}')\n"
   ]
  },
  {
   "cell_type": "code",
   "execution_count": 37,
   "metadata": {
    "scrolled": true
   },
   "outputs": [
    {
     "name": "stdout",
     "output_type": "stream",
     "text": [
      "The lower limit for the normal range of price is -12704.5\n",
      "The upper limit for the normal range of price is 34507.5\n",
      "The minimum of price is 1.0\n",
      "The maximum of price is 375000.0\n"
     ]
    }
   ],
   "source": [
    "check_outlier('price',car_data2 )"
   ]
  },
  {
   "cell_type": "code",
   "execution_count": 38,
   "metadata": {
    "scrolled": false
   },
   "outputs": [
    {
     "name": "stdout",
     "output_type": "stream",
     "text": [
      "The lower limit for the normal range of age is -5.982191780821917\n",
      "The upper limit for the normal range of age is 25.02054794520548\n",
      "The minimum of age is 1.0\n",
      "The maximum of age is 111.58630136986301\n"
     ]
    }
   ],
   "source": [
    "check_outlier('age',car_data2 )"
   ]
  },
  {
   "cell_type": "code",
   "execution_count": 39,
   "metadata": {
    "scrolled": true
   },
   "outputs": [
    {
     "name": "stdout",
     "output_type": "stream",
     "text": [
      "The lower limit for the normal range of yearly_mileage is -814.25\n",
      "The upper limit for the normal range of yearly_mileage is 25863.75\n",
      "The minimum of yearly_mileage is 0.0\n",
      "The maximum of yearly_mileage is 219353.0\n"
     ]
    }
   ],
   "source": [
    "check_outlier('yearly_mileage',car_data2 )"
   ]
  },
  {
   "cell_type": "markdown",
   "metadata": {},
   "source": [
    "Now let's define a function that removes outliers from a column. "
   ]
  },
  {
   "cell_type": "code",
   "execution_count": 40,
   "metadata": {},
   "outputs": [],
   "source": [
    "\n",
    "def remove_outlier(col_name, df):\n",
    "    '''\n",
    "    The remove_outlier function removes outlier in a column.\n",
    "    '''\n",
    "    # col_name is a string\n",
    "    keep_removing = True\n",
    "    while keep_removing:\n",
    "        MIN, Q1, Q3, MAX = df[col_name].quantile([0, 0.25, 0.75, 1.0])\n",
    "        IQR = Q3 - Q1\n",
    "        lower_limit, upper_limit = Q1-1.5*IQR, Q3+1.5*IQR\n",
    "        df = df.loc[(df[col_name] > lower_limit) &  (df[col_name] < upper_limit)]\n",
    "        \n",
    "        MIN, Q1, Q3, MAX = df[col_name].quantile([0, 0.25, 0.75, 1.0])\n",
    "        IQR = Q3 - Q1\n",
    "        lower_limit, upper_limit = Q1-1.5*IQR, Q3+1.5*IQR\n",
    "        if MIN > lower_limit and MAX < upper_limit:\n",
    "            keep_removing = False\n",
    "    \n",
    "    return df"
   ]
  },
  {
   "cell_type": "code",
   "execution_count": 41,
   "metadata": {},
   "outputs": [],
   "source": [
    "\n",
    "car_data2 = remove_outlier('price', car_data2)\n",
    "car_data2 = remove_outlier('age', car_data2)\n",
    "car_data2 = remove_outlier('yearly_mileage', car_data2)"
   ]
  },
  {
   "cell_type": "code",
   "execution_count": 42,
   "metadata": {
    "scrolled": true
   },
   "outputs": [
    {
     "name": "stdout",
     "output_type": "stream",
     "text": [
      "The lower limit for the normal range of price is -10005.0\n",
      "The upper limit for the normal range of price is 29995.0\n",
      "The minimum of price is 1.0\n",
      "The maximum of price is 30000.0\n"
     ]
    }
   ],
   "source": [
    "check_outlier('price',car_data2 )"
   ]
  },
  {
   "cell_type": "code",
   "execution_count": 43,
   "metadata": {
    "scrolled": false
   },
   "outputs": [
    {
     "name": "stdout",
     "output_type": "stream",
     "text": [
      "The lower limit for the normal range of odometer is -32600.25\n",
      "The upper limit for the normal range of odometer is 264837.75\n",
      "The minimum of odometer is 977.0\n",
      "The maximum of odometer is 434762.0\n"
     ]
    }
   ],
   "source": [
    "check_outlier('odometer',car_data2 )"
   ]
  },
  {
   "cell_type": "code",
   "execution_count": 44,
   "metadata": {
    "scrolled": false
   },
   "outputs": [
    {
     "name": "stdout",
     "output_type": "stream",
     "text": [
      "The lower limit for the normal range of age is -4.476712328767122\n",
      "The upper limit for the normal range of age is 24.38904109589041\n",
      "The minimum of age is 1.0\n",
      "The maximum of age is 24.38082191780822\n"
     ]
    }
   ],
   "source": [
    "check_outlier('age',car_data2 )"
   ]
  },
  {
   "cell_type": "code",
   "execution_count": 45,
   "metadata": {
    "scrolled": true
   },
   "outputs": [
    {
     "name": "stdout",
     "output_type": "stream",
     "text": [
      "The lower limit for the normal range of yearly_mileage is 622.0\n",
      "The upper limit for the normal range of yearly_mileage is 24098.0\n",
      "The minimum of yearly_mileage is 623.0\n",
      "The maximum of yearly_mileage is 24095.0\n"
     ]
    }
   ],
   "source": [
    "check_outlier('yearly_mileage',car_data2 )"
   ]
  },
  {
   "cell_type": "markdown",
   "metadata": {},
   "source": [
    "The data is heavily right-tailded. The outliers has been removed to the best of my capability. "
   ]
  },
  {
   "cell_type": "markdown",
   "metadata": {},
   "source": [
    "<div class=\"alert alert-block alert-success\">\n",
    "<b>Reviewer's comment v1:</b>\n",
    "    \n",
    "Well done! You perfectly identified and handled outliers. You can additionally check a nice article about working with outliers:\n",
    "- https://www.pluralsight.com/guides/cleaning-up-data-from-outliers\n",
    "</div>"
   ]
  },
  {
   "cell_type": "markdown",
   "metadata": {},
   "source": [
    "## Study core parameters without outliers"
   ]
  },
  {
   "cell_type": "code",
   "execution_count": 46,
   "metadata": {
    "scrolled": true
   },
   "outputs": [
    {
     "data": {
      "text/plain": [
       "0"
      ]
     },
     "execution_count": 46,
     "metadata": {},
     "output_type": "execute_result"
    }
   ],
   "source": [
    "car_data2.duplicated().sum()"
   ]
  },
  {
   "cell_type": "markdown",
   "metadata": {},
   "source": [
    "It shows that the `car_data2` dataframe has no duplicated rows. "
   ]
  },
  {
   "cell_type": "code",
   "execution_count": 47,
   "metadata": {},
   "outputs": [
    {
     "data": {
      "text/html": [
       "<div>\n",
       "<style scoped>\n",
       "    .dataframe tbody tr th:only-of-type {\n",
       "        vertical-align: middle;\n",
       "    }\n",
       "\n",
       "    .dataframe tbody tr th {\n",
       "        vertical-align: top;\n",
       "    }\n",
       "\n",
       "    .dataframe thead th {\n",
       "        text-align: right;\n",
       "    }\n",
       "</style>\n",
       "<table border=\"1\" class=\"dataframe\">\n",
       "  <thead>\n",
       "    <tr style=\"text-align: right;\">\n",
       "      <th></th>\n",
       "      <th>price</th>\n",
       "      <th>condition</th>\n",
       "      <th>cylinders</th>\n",
       "      <th>odometer</th>\n",
       "      <th>is_4wd</th>\n",
       "      <th>days_listed</th>\n",
       "      <th>age</th>\n",
       "      <th>yearly_mileage</th>\n",
       "    </tr>\n",
       "  </thead>\n",
       "  <tbody>\n",
       "    <tr>\n",
       "      <td>count</td>\n",
       "      <td>43799.000000</td>\n",
       "      <td>43799.000000</td>\n",
       "      <td>43799.000000</td>\n",
       "      <td>43799.000000</td>\n",
       "      <td>43799.000000</td>\n",
       "      <td>43799.000000</td>\n",
       "      <td>43799.000000</td>\n",
       "      <td>43799.000000</td>\n",
       "    </tr>\n",
       "    <tr>\n",
       "      <td>mean</td>\n",
       "      <td>10619.113108</td>\n",
       "      <td>2.619192</td>\n",
       "      <td>6.027626</td>\n",
       "      <td>118551.174148</td>\n",
       "      <td>0.477408</td>\n",
       "      <td>39.533003</td>\n",
       "      <td>10.145208</td>\n",
       "      <td>12483.357839</td>\n",
       "    </tr>\n",
       "    <tr>\n",
       "      <td>std</td>\n",
       "      <td>7253.566657</td>\n",
       "      <td>0.698179</td>\n",
       "      <td>1.649339</td>\n",
       "      <td>56730.370458</td>\n",
       "      <td>0.499495</td>\n",
       "      <td>28.178580</td>\n",
       "      <td>4.981841</td>\n",
       "      <td>4441.200775</td>\n",
       "    </tr>\n",
       "    <tr>\n",
       "      <td>min</td>\n",
       "      <td>1.000000</td>\n",
       "      <td>0.000000</td>\n",
       "      <td>3.000000</td>\n",
       "      <td>977.000000</td>\n",
       "      <td>0.000000</td>\n",
       "      <td>0.000000</td>\n",
       "      <td>1.000000</td>\n",
       "      <td>623.000000</td>\n",
       "    </tr>\n",
       "    <tr>\n",
       "      <td>25%</td>\n",
       "      <td>4995.000000</td>\n",
       "      <td>2.000000</td>\n",
       "      <td>4.000000</td>\n",
       "      <td>78939.000000</td>\n",
       "      <td>0.000000</td>\n",
       "      <td>19.000000</td>\n",
       "      <td>6.347945</td>\n",
       "      <td>9425.500000</td>\n",
       "    </tr>\n",
       "    <tr>\n",
       "      <td>50%</td>\n",
       "      <td>8700.000000</td>\n",
       "      <td>3.000000</td>\n",
       "      <td>6.000000</td>\n",
       "      <td>117897.000000</td>\n",
       "      <td>0.000000</td>\n",
       "      <td>33.000000</td>\n",
       "      <td>9.509589</td>\n",
       "      <td>12301.000000</td>\n",
       "    </tr>\n",
       "    <tr>\n",
       "      <td>75%</td>\n",
       "      <td>14995.000000</td>\n",
       "      <td>3.000000</td>\n",
       "      <td>8.000000</td>\n",
       "      <td>153298.500000</td>\n",
       "      <td>1.000000</td>\n",
       "      <td>53.000000</td>\n",
       "      <td>13.564384</td>\n",
       "      <td>15294.500000</td>\n",
       "    </tr>\n",
       "    <tr>\n",
       "      <td>max</td>\n",
       "      <td>30000.000000</td>\n",
       "      <td>5.000000</td>\n",
       "      <td>12.000000</td>\n",
       "      <td>434762.000000</td>\n",
       "      <td>1.000000</td>\n",
       "      <td>271.000000</td>\n",
       "      <td>24.380822</td>\n",
       "      <td>24095.000000</td>\n",
       "    </tr>\n",
       "  </tbody>\n",
       "</table>\n",
       "</div>"
      ],
      "text/plain": [
       "              price     condition     cylinders       odometer        is_4wd  \\\n",
       "count  43799.000000  43799.000000  43799.000000   43799.000000  43799.000000   \n",
       "mean   10619.113108      2.619192      6.027626  118551.174148      0.477408   \n",
       "std     7253.566657      0.698179      1.649339   56730.370458      0.499495   \n",
       "min        1.000000      0.000000      3.000000     977.000000      0.000000   \n",
       "25%     4995.000000      2.000000      4.000000   78939.000000      0.000000   \n",
       "50%     8700.000000      3.000000      6.000000  117897.000000      0.000000   \n",
       "75%    14995.000000      3.000000      8.000000  153298.500000      1.000000   \n",
       "max    30000.000000      5.000000     12.000000  434762.000000      1.000000   \n",
       "\n",
       "        days_listed           age  yearly_mileage  \n",
       "count  43799.000000  43799.000000    43799.000000  \n",
       "mean      39.533003     10.145208    12483.357839  \n",
       "std       28.178580      4.981841     4441.200775  \n",
       "min        0.000000      1.000000      623.000000  \n",
       "25%       19.000000      6.347945     9425.500000  \n",
       "50%       33.000000      9.509589    12301.000000  \n",
       "75%       53.000000     13.564384    15294.500000  \n",
       "max      271.000000     24.380822    24095.000000  "
      ]
     },
     "execution_count": 47,
     "metadata": {},
     "output_type": "execute_result"
    }
   ],
   "source": [
    "car_data2.describe()"
   ]
  },
  {
   "cell_type": "code",
   "execution_count": 48,
   "metadata": {
    "scrolled": false
   },
   "outputs": [
    {
     "data": {
      "image/png": "[encoded data removed]",
      "text/plain": [
       "<Figure size 432x288 with 1 Axes>"
      ]
     },
     "metadata": {
      "needs_background": "light"
     },
     "output_type": "display_data"
    }
   ],
   "source": [
    "# boxplot of price\n",
    "# car_data2.plot('price',kind='hist', bins=10)\n",
    "car_data2.hist(column='price')\n",
    "plt.title('Histogram for price')\n",
    "plt.ylabel('dollars')\n",
    "plt.show()"
   ]
  },
  {
   "cell_type": "markdown",
   "metadata": {},
   "source": [
    "After removing the extreme outliers, the `price` variable still has some but not many outliers. The distribution of `price` is right-skewed. The car sale prices range from 1 to 30000 dollars, with median price at 8700 dollars. "
   ]
  },
  {
   "cell_type": "code",
   "execution_count": 49,
   "metadata": {
    "scrolled": true
   },
   "outputs": [
    {
     "data": {
      "image/png": "[encoded data removed]",
      "text/plain": [
       "<Figure size 432x288 with 1 Axes>"
      ]
     },
     "metadata": {
      "needs_background": "light"
     },
     "output_type": "display_data"
    }
   ],
   "source": [
    "# boxplot of age\n",
    "car_data2.hist(column='age')\n",
    "plt.title(\"Histogram for cars' age \")\n",
    "plt.ylabel('years')\n",
    "plt.show()"
   ]
  },
  {
   "cell_type": "markdown",
   "metadata": {},
   "source": [
    "After removing the extreme outliers, the `age` variable still has some but not many outliers. The distribution of `age` is slightly right-skewed. The age of cars range from 1 year to 24.38 years, with median age at 9.51 years. "
   ]
  },
  {
   "cell_type": "code",
   "execution_count": 50,
   "metadata": {
    "scrolled": true
   },
   "outputs": [
    {
     "data": {
      "image/png": "[encoded data removed]",
      "text/plain": [
       "<Figure size 432x288 with 1 Axes>"
      ]
     },
     "metadata": {
      "needs_background": "light"
     },
     "output_type": "display_data"
    }
   ],
   "source": [
    "car_data2.hist(column='yearly_mileage')\n",
    "plt.title(\"Histogram for cars' yearly mileage\")\n",
    "plt.ylabel('mileage per year')\n",
    "plt.show()"
   ]
  },
  {
   "cell_type": "markdown",
   "metadata": {},
   "source": [
    "After removing the extreme outliers, the `yearly_mileage` variable does not have any outliers. The distribution of `yearly_mileage` is slightly right-skewed. The yearly mileage of cars range from 623 to 24095 miles, with median at 12301 miles. "
   ]
  },
  {
   "cell_type": "markdown",
   "metadata": {},
   "source": [
    "## Ads lifetime"
   ]
  },
  {
   "cell_type": "code",
   "execution_count": 51,
   "metadata": {
    "scrolled": true
   },
   "outputs": [
    {
     "data": {
      "text/plain": [
       "count    43799.000000\n",
       "mean        39.533003\n",
       "std         28.178580\n",
       "min          0.000000\n",
       "25%         19.000000\n",
       "50%         33.000000\n",
       "75%         53.000000\n",
       "max        271.000000\n",
       "Name: days_listed, dtype: float64"
      ]
     },
     "execution_count": 51,
     "metadata": {},
     "output_type": "execute_result"
    }
   ],
   "source": [
    "car_data2['days_listed'].describe()"
   ]
  },
  {
   "cell_type": "code",
   "execution_count": 52,
   "metadata": {},
   "outputs": [
    {
     "data": {
      "image/png": "[encoded data removed]",
      "text/plain": [
       "<Figure size 432x288 with 1 Axes>"
      ]
     },
     "metadata": {
      "needs_background": "light"
     },
     "output_type": "display_data"
    }
   ],
   "source": [
    "car_data2.hist(column='days_listed')\n",
    "plt.title(\"Histogram for ad lifetime\")\n",
    "plt.ylabel('count')\n",
    "plt.show()"
   ]
  },
  {
   "cell_type": "markdown",
   "metadata": {},
   "source": [
    "The days of advertisements being displayed range from 0 to 271 days, with median 33 days, and mean 39 days. The histgram indicates the `days_listed` variable is right skewed. The typical lifetime of an ad is somewhere below 50 days. "
   ]
  },
  {
   "cell_type": "code",
   "execution_count": 53,
   "metadata": {
    "scrolled": true
   },
   "outputs": [
    {
     "data": {
      "image/png": "[encoded data removed]",
      "text/plain": [
       "<Figure size 1080x576 with 2 Axes>"
      ]
     },
     "metadata": {
      "needs_background": "light"
     },
     "output_type": "display_data"
    }
   ],
   "source": [
    "car_data2_quick = car_data2.query('days_listed < 50')\n",
    "plt.figure(figsize = (15,8))\n",
    "hm_all = sns.heatmap(car_data2_quick.corr(), annot=True)\n"
   ]
  },
  {
   "cell_type": "markdown",
   "metadata": {},
   "source": [
    "We filtered the data and created a dataframe that has `days_listed` less than 50 days. Then, we plotted the \n",
    "The correlation heatmap of the new dataframe shows that `days_listed` has pretty weak correlation with other variables. It has a relatively strong negative correlation with the variables `price` and `condition`. It has a relatively strong positive correlation with the variable `odometer`, `is_4wd` and `age`. That indicates if a car is in superior condition and the `odometer` reading is low, then it is easier to sell and the days listed on ad is shorter. "
   ]
  },
  {
   "cell_type": "markdown",
   "metadata": {},
   "source": [
    "## Average price per each type of vehicle"
   ]
  },
  {
   "cell_type": "code",
   "execution_count": 54,
   "metadata": {},
   "outputs": [
    {
     "name": "stdout",
     "output_type": "stream",
     "text": [
      "             number_of_ads  median_price    mean_price\n",
      "type                                                  \n",
      "SUV                  10959        8495.0  10040.386440\n",
      "bus                     18       28990.0  19959.166667\n",
      "convertible            311       12980.0  12622.717042\n",
      "coupe                 1907       12995.0  13436.788673\n",
      "hatchback              941        5950.0   6782.413390\n",
      "mini-van              1036        5999.5   7724.297297\n",
      "offroad                169       12500.0  13827.946746\n",
      "other                  204        8797.5   9485.857843\n",
      "pickup                5537       12995.0  13951.801517\n",
      "sedan                11087        5995.0   6863.141697\n",
      "truck                 9692       13900.0  14075.390116\n",
      "van                    528        6995.0   8150.058712\n",
      "wagon                 1410        7770.0   8825.321986\n"
     ]
    }
   ],
   "source": [
    "type_count_mean = car_data2.pivot_table(index='type', \n",
    "                     values='price', \n",
    "                     aggfunc = ['count', 'median','mean'])\n",
    "type_count_mean.columns = ['number_of_ads', 'median_price','mean_price']\n",
    "print(type_count_mean)"
   ]
  },
  {
   "cell_type": "code",
   "execution_count": 55,
   "metadata": {
    "scrolled": true
   },
   "outputs": [
    {
     "data": {
      "image/png": "[encoded data removed]",
      "text/plain": [
       "<Figure size 432x288 with 1 Axes>"
      ]
     },
     "metadata": {
      "needs_background": "light"
     },
     "output_type": "display_data"
    }
   ],
   "source": [
    "type_count_mean.plot(y='number_of_ads', kind='bar')\n",
    "plt.title(\"Barplot for vehicle type\")\n",
    "plt.ylabel('count')\n",
    "plt.show()"
   ]
  },
  {
   "cell_type": "markdown",
   "metadata": {},
   "source": [
    "The bar plot shows that SUV and sedan have the top 2 greatest number of the ads, whereas all other types of cars have relatively smaller number of ads. "
   ]
  },
  {
   "cell_type": "markdown",
   "metadata": {},
   "source": [
    "<div class=\"alert alert-block alert-success\">\n",
    "<b>Reviewer's comment v1:</b>\n",
    "    \n",
    "Typical lifetime of an ad has been correctly identified."
   ]
  },
  {
   "cell_type": "markdown",
   "metadata": {},
   "source": [
    "## Price factors"
   ]
  },
  {
   "cell_type": "code",
   "execution_count": 56,
   "metadata": {},
   "outputs": [],
   "source": [
    "# car_data2\n",
    "\n",
    "car_data2_SUV = car_data2.query('type == \"SUV\"')\n",
    "car_data2_sedan = car_data2.query('type == \"sedan\"')"
   ]
  },
  {
   "cell_type": "code",
   "execution_count": 57,
   "metadata": {
    "scrolled": false
   },
   "outputs": [
    {
     "data": {
      "image/png": "[encoded data removed]",
      "text/plain": [
       "<Figure size 1080x576 with 2 Axes>"
      ]
     },
     "metadata": {
      "needs_background": "light"
     },
     "output_type": "display_data"
    }
   ],
   "source": [
    "plt.figure(figsize = (15,8))\n",
    "hm_SUV = sns.heatmap(car_data2_SUV.corr(), annot=True)"
   ]
  },
  {
   "cell_type": "markdown",
   "metadata": {},
   "source": [
    "The heatmap of the correlation matrix for SUV shows that price of SUV has relatively strong but negative correlation with the age of cars and the odometer reading of cars. Moreover, price has weak but positive correlation with condition of cars and yearly mileage of cars. Finally, price has little correlation with days of ads being listed. "
   ]
  },
  {
   "cell_type": "code",
   "execution_count": 58,
   "metadata": {
    "scrolled": false
   },
   "outputs": [
    {
     "data": {
      "image/png": "[encoded data removed]",
      "text/plain": [
       "<Figure size 1080x576 with 2 Axes>"
      ]
     },
     "metadata": {
      "needs_background": "light"
     },
     "output_type": "display_data"
    }
   ],
   "source": [
    "plt.figure(figsize = (15,8))\n",
    "hm_sedan = sns.heatmap(car_data2_sedan.corr(), annot=True)"
   ]
  },
  {
   "cell_type": "markdown",
   "metadata": {},
   "source": [
    "The heatmap of the correlation matrix for sedan shows that price of sedan has relatively strong but negative correlation with the age of cars and the odometer reading of cars. Moreover, price has weak but positive correlation with condition of cars and yearly mileage of cars. Finally, price has little correlation with days of ads being listed. "
   ]
  },
  {
   "cell_type": "markdown",
   "metadata": {},
   "source": [
    "<div class=\"alert alert-block alert-success\">\n",
    "<b>Reviewer's comment v1:</b>\n",
    "    \n",
    "Overall an excellent data analysis with correct conclusions and different graph types.\n",
    "\n",
    "Great that you managed to create a correlation matrix (heatmap) to check the correlation of different features.\n",
    "\n",
    "</div>"
   ]
  },
  {
   "cell_type": "markdown",
   "metadata": {},
   "source": [
    "## General conclusion\n",
    "\n",
    "This project aimed to determine the factors that influence prices of vehicles. We started with initial exploraton of the dataset. We identified columns with missing values and wrong data types. Then we removed the columns `is_4wd` and `paint_color` from the dataset and fixed the data types in columns `model_year`, `date_posted`, and `cylinders`. Then, we created a new variable called `age`, which was the age of the vehicle when it was listed for sale.  We also recoded the `codition` column with numeric values. Furthermore, we checked the distribution of the core parameters `price`, `age` and `yearly_odometer` using boxplots and the distribution of `cylinders` and `condition` using barplots. After identifying the heavy right-skewness of the variables `price`, `age` and `yearly_odometer`, we removed the outliers from the dataset. Finally, we studied ad lifetime and average price for each type of vehicle. \n",
    "\n",
    "The overall conclusion is that price of vehicles had relatively strong but negative correlation with odometer readings and age of vehicle. Moreover, price had positive correlation with condition of the car. Price did not appear to have strong correlation with any other variables in the dataset. "
   ]
  },
  {
   "cell_type": "markdown",
   "metadata": {},
   "source": [
    "<div class=\"alert alert-warning\">\n",
    "<b>Reviewer's comment v1:</b>\n",
    " \n",
    "Overall you did a great research. I left some feedback to check above and open questions to understand your reasoning. \n",
    "    \n",
    "A small tip regarding overall conclusion: \n",
    "    It represents the overall work progress that you achieved. On a real project, this is probably the only thing the business will read. Therefore, it is crucial to indicate in a structured way all conclusions that you made on each step in the project.\n",
    "\n",
    "For example:\n",
    "\n",
    "- Replaced missing values in the following data with the following method.\n",
    "- Replaced data types in the following columns.\n",
    "- etc.\n",
    "- We observe that ... factors impact ... \n",
    "- My analysis show ...\n",
    "- I can recomend the following next steps / activities ...\n",
    "\n",
    "It is also important to provide explanations and interpretations that will be interesting for business based on your analysis.\n",
    "\n",
    "</div>"
   ]
  },
  {
   "cell_type": "markdown",
   "metadata": {},
   "source": [
    "<div class=\"alert alert-info\"> <b>Student comments:</b> Yes! That is a good point. I will re-write it. </div>  "
   ]
  },
  {
   "cell_type": "markdown",
   "metadata": {},
   "source": [
    "<div class=\"alert alert-block alert-success\">\n",
    "<b>Reviewer's comment v2:</b>\n",
    "    \n",
    "Thank you for extending your overall conclusions and going an extra mile improving your project! "
   ]
  },
  {
   "cell_type": "markdown",
   "metadata": {},
   "source": [
    "This project aimed to determine the factors that influence prices of vehicles. \n",
    "\n",
    "The major action steps are:\n",
    "- We started with initial exploraton of the dataset. We identified columns with missing values and wrong data types. \n",
    "- Then we fixed missing values in columns `is_4wd`, `paint_color`, `cylinders`, `odometers`, and `model_year` from the dataset. \n",
    "- We fixed the data types in columns `model_year`, `date_posted`, and `cylinders`. \n",
    "- Then, we created a new variable called `age`, which was the age of the vehicle when it was listed for sale.  \n",
    "- We also recoded the `codition` column with numeric values. \n",
    "- Furthermore, we checked the distribution of the core parameters `price`, `age` and `yearly_odometer` using boxplots and the distribution of `cylinders` and `condition` using barplots. \n",
    "- After identifying the heavy right-skewness of the variables `price`, `age` and `yearly_odometer`, we removed the outliers from the dataset. \n",
    "- Finally, we studied ad lifetime and average price for each type of vehicle. \n",
    "\n",
    "The overall conclusion is that price of vehicles had relatively strong but negative correlation with odometer readings and age of vehicle. Moreover, price had positive correlation with condition of the car. Price did not appear to have strong correlation with any other variables in the dataset. "
   ]
  },
  {
   "cell_type": "code",
   "execution_count": null,
   "metadata": {},
   "outputs": [],
   "source": []
  }
 ],
 "metadata": {
  "ExecuteTimeLog": [
   {
    "duration": 828,
    "start_time": "2021-11-16T09:21:11.304Z"
   },
   {
    "duration": 893,
    "start_time": "2021-11-16T09:21:17.728Z"
   },
   {
    "duration": 1150,
    "start_time": "2021-11-16T09:21:29.568Z"
   },
   {
    "duration": 3,
    "start_time": "2021-11-16T09:24:14.495Z"
   },
   {
    "duration": 120,
    "start_time": "2021-11-16T09:24:46.630Z"
   },
   {
    "duration": 3,
    "start_time": "2021-11-16T09:28:27.882Z"
   },
   {
    "duration": 4,
    "start_time": "2021-11-16T09:29:54.281Z"
   },
   {
    "duration": 3,
    "start_time": "2021-11-16T09:30:45.936Z"
   },
   {
    "duration": 4,
    "start_time": "2021-11-16T09:31:06.300Z"
   },
   {
    "duration": 113,
    "start_time": "2021-11-16T09:31:37.208Z"
   },
   {
    "duration": 143,
    "start_time": "2021-11-16T09:31:48.656Z"
   },
   {
    "duration": 98,
    "start_time": "2021-11-16T09:31:55.678Z"
   },
   {
    "duration": 3,
    "start_time": "2021-11-16T09:32:08.535Z"
   },
   {
    "duration": 111,
    "start_time": "2021-11-16T09:32:10.120Z"
   },
   {
    "duration": 3,
    "start_time": "2021-11-16T09:32:15.732Z"
   },
   {
    "duration": 4,
    "start_time": "2021-11-16T09:32:29.423Z"
   },
   {
    "duration": 3,
    "start_time": "2021-11-16T10:03:03.074Z"
   },
   {
    "duration": 3,
    "start_time": "2021-11-16T10:10:01.288Z"
   },
   {
    "duration": 3,
    "start_time": "2021-11-16T10:10:46.923Z"
   },
   {
    "duration": 121,
    "start_time": "2021-11-16T10:37:46.494Z"
   },
   {
    "duration": 125,
    "start_time": "2021-11-16T10:38:20.632Z"
   },
   {
    "duration": 112,
    "start_time": "2021-11-16T10:46:53.001Z"
   },
   {
    "duration": 110,
    "start_time": "2021-11-16T10:48:25.775Z"
   },
   {
    "duration": 3,
    "start_time": "2021-11-16T10:50:18.720Z"
   },
   {
    "duration": 4,
    "start_time": "2021-11-16T10:50:37.649Z"
   },
   {
    "duration": 2,
    "start_time": "2021-11-16T10:50:51.884Z"
   },
   {
    "duration": 3,
    "start_time": "2021-11-16T10:51:56.237Z"
   },
   {
    "duration": 101,
    "start_time": "2021-11-16T10:53:13.791Z"
   },
   {
    "duration": 3,
    "start_time": "2021-11-16T10:55:59.186Z"
   },
   {
    "duration": 3,
    "start_time": "2021-11-16T10:56:10.751Z"
   },
   {
    "duration": 3,
    "start_time": "2021-11-16T10:56:49.038Z"
   },
   {
    "duration": 3,
    "start_time": "2021-11-16T10:56:49.174Z"
   },
   {
    "duration": 4,
    "start_time": "2021-11-16T10:56:49.414Z"
   },
   {
    "duration": 3,
    "start_time": "2021-11-16T10:56:49.680Z"
   },
   {
    "duration": 3,
    "start_time": "2021-11-16T10:56:50.370Z"
   },
   {
    "duration": 114,
    "start_time": "2021-11-16T10:59:34.518Z"
   },
   {
    "duration": 3,
    "start_time": "2021-11-16T11:01:41.201Z"
   },
   {
    "duration": 116,
    "start_time": "2021-11-16T11:01:48.754Z"
   },
   {
    "duration": 3,
    "start_time": "2021-11-16T11:02:16.685Z"
   },
   {
    "duration": 3,
    "start_time": "2021-11-16T11:02:19.479Z"
   },
   {
    "duration": 3,
    "start_time": "2021-11-16T11:02:47.067Z"
   },
   {
    "duration": 3,
    "start_time": "2021-11-16T11:02:49.353Z"
   },
   {
    "duration": 3,
    "start_time": "2021-11-16T11:03:07.835Z"
   },
   {
    "duration": 3,
    "start_time": "2021-11-16T11:03:07.953Z"
   },
   {
    "duration": 112,
    "start_time": "2021-11-16T11:07:52.072Z"
   },
   {
    "duration": 187,
    "start_time": "2021-11-16T11:09:23.468Z"
   },
   {
    "duration": 4,
    "start_time": "2021-11-16T11:10:01.455Z"
   },
   {
    "duration": 3,
    "start_time": "2021-11-16T11:10:05.069Z"
   },
   {
    "duration": 4,
    "start_time": "2021-11-16T11:10:13.376Z"
   },
   {
    "duration": 3,
    "start_time": "2021-11-16T11:10:14.434Z"
   },
   {
    "duration": 3,
    "start_time": "2021-11-16T11:10:22.853Z"
   },
   {
    "duration": 4,
    "start_time": "2021-11-16T11:27:29.279Z"
   },
   {
    "duration": 4,
    "start_time": "2021-11-16T11:29:08.919Z"
   },
   {
    "duration": 118,
    "start_time": "2021-11-16T11:29:46.703Z"
   },
   {
    "duration": 437,
    "start_time": "2021-11-16T11:36:02.181Z"
   },
   {
    "duration": 157,
    "start_time": "2021-11-16T11:36:14.388Z"
   },
   {
    "duration": 207,
    "start_time": "2021-11-16T11:47:15.898Z"
   },
   {
    "duration": 3,
    "start_time": "2021-11-16T11:53:52.092Z"
   },
   {
    "duration": 3,
    "start_time": "2021-11-16T11:53:52.236Z"
   },
   {
    "duration": 3,
    "start_time": "2021-11-16T11:59:12.005Z"
   },
   {
    "duration": 112,
    "start_time": "2021-11-16T12:00:33.446Z"
   },
   {
    "duration": 3,
    "start_time": "2021-11-16T12:02:14.453Z"
   },
   {
    "duration": 3,
    "start_time": "2021-11-16T12:02:39.512Z"
   },
   {
    "duration": 106,
    "start_time": "2021-11-16T12:03:03.460Z"
   },
   {
    "duration": 220,
    "start_time": "2021-12-11T02:11:31.498Z"
   },
   {
    "duration": 520,
    "start_time": "2021-12-11T02:11:35.131Z"
   },
   {
    "duration": 117,
    "start_time": "2021-12-11T02:11:37.376Z"
   },
   {
    "duration": 98,
    "start_time": "2021-12-11T02:11:48.948Z"
   },
   {
    "duration": 96,
    "start_time": "2021-12-11T02:12:04.886Z"
   },
   {
    "duration": 102,
    "start_time": "2021-12-11T02:13:29.693Z"
   },
   {
    "duration": 19,
    "start_time": "2021-12-11T02:13:45.221Z"
   },
   {
    "duration": 90,
    "start_time": "2021-12-11T02:13:46.787Z"
   },
   {
    "duration": 3,
    "start_time": "2021-12-11T02:14:37.276Z"
   },
   {
    "duration": 87,
    "start_time": "2021-12-11T02:14:38.242Z"
   },
   {
    "duration": 2,
    "start_time": "2021-12-11T02:15:04.668Z"
   },
   {
    "duration": 85,
    "start_time": "2021-12-11T02:15:06.219Z"
   },
   {
    "duration": 17,
    "start_time": "2021-12-11T02:19:52.125Z"
   },
   {
    "duration": 18,
    "start_time": "2021-12-11T02:21:08.853Z"
   },
   {
    "duration": 19,
    "start_time": "2021-12-11T02:21:20.415Z"
   },
   {
    "duration": 18,
    "start_time": "2021-12-11T02:21:33.716Z"
   },
   {
    "duration": 3,
    "start_time": "2021-12-11T02:26:19.360Z"
   },
   {
    "duration": 85,
    "start_time": "2021-12-11T02:26:20.897Z"
   },
   {
    "duration": 2,
    "start_time": "2021-12-11T02:27:11.865Z"
   },
   {
    "duration": 86,
    "start_time": "2021-12-11T02:27:13.028Z"
   },
   {
    "duration": 19,
    "start_time": "2021-12-11T02:27:15.134Z"
   },
   {
    "duration": 8,
    "start_time": "2021-12-11T02:27:17.496Z"
   },
   {
    "duration": 19,
    "start_time": "2021-12-11T02:31:55.638Z"
   },
   {
    "duration": 693,
    "start_time": "2021-12-11T11:41:51.725Z"
   },
   {
    "duration": 586,
    "start_time": "2021-12-11T11:41:56.803Z"
   },
   {
    "duration": 84,
    "start_time": "2021-12-11T11:41:57.391Z"
   },
   {
    "duration": 21,
    "start_time": "2021-12-11T11:41:57.478Z"
   },
   {
    "duration": 9,
    "start_time": "2021-12-11T11:41:57.501Z"
   },
   {
    "duration": 47,
    "start_time": "2021-12-11T11:41:57.512Z"
   },
   {
    "duration": 3,
    "start_time": "2021-12-11T11:41:57.561Z"
   },
   {
    "duration": 4,
    "start_time": "2021-12-11T11:41:57.566Z"
   },
   {
    "duration": 6,
    "start_time": "2021-12-11T11:41:57.573Z"
   },
   {
    "duration": 8,
    "start_time": "2021-12-11T11:41:57.581Z"
   },
   {
    "duration": 7,
    "start_time": "2021-12-11T11:41:57.591Z"
   },
   {
    "duration": 5,
    "start_time": "2021-12-11T11:41:57.599Z"
   },
   {
    "duration": 4,
    "start_time": "2021-12-11T11:41:57.606Z"
   },
   {
    "duration": 4,
    "start_time": "2021-12-11T11:41:57.612Z"
   },
   {
    "duration": 29,
    "start_time": "2021-12-11T11:41:57.617Z"
   },
   {
    "duration": 4,
    "start_time": "2021-12-11T11:41:57.648Z"
   },
   {
    "duration": 4,
    "start_time": "2021-12-11T11:41:57.654Z"
   },
   {
    "duration": 4,
    "start_time": "2021-12-11T11:41:57.659Z"
   },
   {
    "duration": 5,
    "start_time": "2021-12-11T11:41:57.665Z"
   },
   {
    "duration": 3,
    "start_time": "2021-12-11T11:41:57.672Z"
   },
   {
    "duration": 4,
    "start_time": "2021-12-11T11:41:57.678Z"
   },
   {
    "duration": 18,
    "start_time": "2021-12-11T11:46:27.045Z"
   },
   {
    "duration": 18,
    "start_time": "2021-12-11T11:46:40.833Z"
   },
   {
    "duration": 320,
    "start_time": "2021-12-11T11:47:17.303Z"
   },
   {
    "duration": 20,
    "start_time": "2021-12-11T11:47:30.157Z"
   },
   {
    "duration": 19,
    "start_time": "2021-12-11T11:48:23.370Z"
   },
   {
    "duration": 18,
    "start_time": "2021-12-11T11:49:03.150Z"
   },
   {
    "duration": 3,
    "start_time": "2021-12-11T12:44:30.673Z"
   },
   {
    "duration": 85,
    "start_time": "2021-12-11T12:44:30.866Z"
   },
   {
    "duration": 21,
    "start_time": "2021-12-11T12:44:30.953Z"
   },
   {
    "duration": 9,
    "start_time": "2021-12-11T12:44:30.976Z"
   },
   {
    "duration": 26,
    "start_time": "2021-12-11T12:44:30.987Z"
   },
   {
    "duration": 47,
    "start_time": "2021-12-11T12:44:31.015Z"
   },
   {
    "duration": 2,
    "start_time": "2021-12-11T12:44:31.064Z"
   },
   {
    "duration": 5,
    "start_time": "2021-12-11T12:44:31.068Z"
   },
   {
    "duration": 6,
    "start_time": "2021-12-11T12:44:31.075Z"
   },
   {
    "duration": 9,
    "start_time": "2021-12-11T12:44:31.084Z"
   },
   {
    "duration": 7,
    "start_time": "2021-12-11T12:44:31.095Z"
   },
   {
    "duration": 7,
    "start_time": "2021-12-11T12:44:31.104Z"
   },
   {
    "duration": 6,
    "start_time": "2021-12-11T12:44:31.113Z"
   },
   {
    "duration": 24,
    "start_time": "2021-12-11T12:44:31.120Z"
   },
   {
    "duration": 8,
    "start_time": "2021-12-11T12:44:31.147Z"
   },
   {
    "duration": 7,
    "start_time": "2021-12-11T12:44:31.157Z"
   },
   {
    "duration": 6,
    "start_time": "2021-12-11T12:44:31.166Z"
   },
   {
    "duration": 5,
    "start_time": "2021-12-11T12:44:31.174Z"
   },
   {
    "duration": 10,
    "start_time": "2021-12-11T12:44:31.180Z"
   },
   {
    "duration": 7,
    "start_time": "2021-12-11T12:44:31.191Z"
   },
   {
    "duration": 10,
    "start_time": "2021-12-11T12:44:31.200Z"
   },
   {
    "duration": 844,
    "start_time": "2021-12-11T12:50:27.618Z"
   },
   {
    "duration": 3,
    "start_time": "2021-12-11T12:50:31.697Z"
   },
   {
    "duration": 101,
    "start_time": "2021-12-11T12:50:31.706Z"
   },
   {
    "duration": 40,
    "start_time": "2021-12-11T12:50:31.810Z"
   },
   {
    "duration": 13,
    "start_time": "2021-12-11T12:50:31.853Z"
   },
   {
    "duration": 32,
    "start_time": "2021-12-11T12:50:31.868Z"
   },
   {
    "duration": 578,
    "start_time": "2021-12-11T12:50:31.902Z"
   },
   {
    "duration": -20,
    "start_time": "2021-12-11T12:50:32.502Z"
   },
   {
    "duration": -29,
    "start_time": "2021-12-11T12:50:32.513Z"
   },
   {
    "duration": -29,
    "start_time": "2021-12-11T12:50:32.514Z"
   },
   {
    "duration": -29,
    "start_time": "2021-12-11T12:50:32.516Z"
   },
   {
    "duration": -218,
    "start_time": "2021-12-11T12:50:32.706Z"
   },
   {
    "duration": -219,
    "start_time": "2021-12-11T12:50:32.708Z"
   },
   {
    "duration": -219,
    "start_time": "2021-12-11T12:50:32.710Z"
   },
   {
    "duration": -219,
    "start_time": "2021-12-11T12:50:32.711Z"
   },
   {
    "duration": -220,
    "start_time": "2021-12-11T12:50:32.713Z"
   },
   {
    "duration": -220,
    "start_time": "2021-12-11T12:50:32.714Z"
   },
   {
    "duration": -220,
    "start_time": "2021-12-11T12:50:32.716Z"
   },
   {
    "duration": -221,
    "start_time": "2021-12-11T12:50:32.718Z"
   },
   {
    "duration": -227,
    "start_time": "2021-12-11T12:50:32.726Z"
   },
   {
    "duration": -227,
    "start_time": "2021-12-11T12:50:32.727Z"
   },
   {
    "duration": -228,
    "start_time": "2021-12-11T12:50:32.729Z"
   },
   {
    "duration": 13,
    "start_time": "2021-12-11T12:52:26.769Z"
   },
   {
    "duration": 23,
    "start_time": "2021-12-11T12:52:42.327Z"
   },
   {
    "duration": 27,
    "start_time": "2021-12-11T12:53:30.749Z"
   },
   {
    "duration": 36,
    "start_time": "2021-12-11T13:03:31.371Z"
   },
   {
    "duration": 7,
    "start_time": "2021-12-11T13:04:31.120Z"
   },
   {
    "duration": 20,
    "start_time": "2021-12-11T13:04:37.471Z"
   },
   {
    "duration": 29,
    "start_time": "2021-12-11T13:06:00.642Z"
   },
   {
    "duration": 297,
    "start_time": "2021-12-11T13:08:29.066Z"
   },
   {
    "duration": 25,
    "start_time": "2021-12-11T13:08:41.116Z"
   },
   {
    "duration": 25,
    "start_time": "2021-12-11T13:09:04.842Z"
   },
   {
    "duration": 16,
    "start_time": "2021-12-11T13:09:12.697Z"
   },
   {
    "duration": 20,
    "start_time": "2021-12-11T13:09:16.710Z"
   },
   {
    "duration": 30,
    "start_time": "2021-12-11T13:15:15.883Z"
   },
   {
    "duration": 5,
    "start_time": "2021-12-11T13:15:44.280Z"
   },
   {
    "duration": 24,
    "start_time": "2021-12-11T13:15:57.740Z"
   },
   {
    "duration": 23,
    "start_time": "2021-12-11T13:16:31.900Z"
   },
   {
    "duration": 1260,
    "start_time": "2021-12-11T13:18:15.038Z"
   },
   {
    "duration": 1115,
    "start_time": "2021-12-11T13:18:37.272Z"
   },
   {
    "duration": 1048,
    "start_time": "2021-12-11T13:27:37.177Z"
   },
   {
    "duration": 20,
    "start_time": "2021-12-11T13:27:42.150Z"
   },
   {
    "duration": 18,
    "start_time": "2021-12-11T13:27:50.462Z"
   },
   {
    "duration": 297,
    "start_time": "2021-12-11T13:29:48.169Z"
   },
   {
    "duration": 19,
    "start_time": "2021-12-11T13:30:45.060Z"
   },
   {
    "duration": 32,
    "start_time": "2021-12-11T13:31:01.251Z"
   },
   {
    "duration": 23,
    "start_time": "2021-12-11T13:34:54.438Z"
   },
   {
    "duration": 15,
    "start_time": "2021-12-11T13:34:59.402Z"
   },
   {
    "duration": 17,
    "start_time": "2021-12-11T13:39:07.894Z"
   },
   {
    "duration": 22,
    "start_time": "2021-12-11T13:39:16.693Z"
   },
   {
    "duration": 39,
    "start_time": "2021-12-11T13:39:24.804Z"
   },
   {
    "duration": 7,
    "start_time": "2021-12-11T13:40:54.117Z"
   },
   {
    "duration": 6,
    "start_time": "2021-12-11T13:42:15.919Z"
   },
   {
    "duration": 23,
    "start_time": "2021-12-11T13:42:21.738Z"
   },
   {
    "duration": 35,
    "start_time": "2021-12-11T13:43:04.597Z"
   },
   {
    "duration": 36,
    "start_time": "2021-12-11T13:43:11.030Z"
   },
   {
    "duration": 4,
    "start_time": "2021-12-11T13:43:15.366Z"
   },
   {
    "duration": 23,
    "start_time": "2021-12-11T14:20:09.636Z"
   },
   {
    "duration": 9,
    "start_time": "2021-12-11T14:23:12.873Z"
   },
   {
    "duration": 15,
    "start_time": "2021-12-11T14:27:16.800Z"
   },
   {
    "duration": 15,
    "start_time": "2021-12-11T14:27:16.855Z"
   },
   {
    "duration": 25,
    "start_time": "2021-12-11T14:28:11.386Z"
   },
   {
    "duration": 7,
    "start_time": "2021-12-11T14:28:13.869Z"
   },
   {
    "duration": 5,
    "start_time": "2021-12-11T14:28:14.050Z"
   },
   {
    "duration": 9,
    "start_time": "2021-12-11T14:28:14.173Z"
   },
   {
    "duration": 16,
    "start_time": "2021-12-11T14:28:15.596Z"
   },
   {
    "duration": 14,
    "start_time": "2021-12-11T14:28:16.231Z"
   },
   {
    "duration": 18,
    "start_time": "2021-12-11T14:28:30.431Z"
   },
   {
    "duration": 117,
    "start_time": "2021-12-11T14:28:33.656Z"
   },
   {
    "duration": 122,
    "start_time": "2021-12-11T14:28:33.832Z"
   },
   {
    "duration": 30,
    "start_time": "2021-12-11T14:28:33.957Z"
   },
   {
    "duration": 20,
    "start_time": "2021-12-11T14:28:33.990Z"
   },
   {
    "duration": 31,
    "start_time": "2021-12-11T14:28:34.013Z"
   },
   {
    "duration": 29,
    "start_time": "2021-12-11T14:28:34.046Z"
   },
   {
    "duration": 25,
    "start_time": "2021-12-11T14:28:34.076Z"
   },
   {
    "duration": 8,
    "start_time": "2021-12-11T14:28:34.103Z"
   },
   {
    "duration": 6,
    "start_time": "2021-12-11T14:28:34.113Z"
   },
   {
    "duration": 29,
    "start_time": "2021-12-11T14:28:34.122Z"
   },
   {
    "duration": 30,
    "start_time": "2021-12-11T14:28:34.153Z"
   },
   {
    "duration": 25,
    "start_time": "2021-12-11T14:28:34.185Z"
   },
   {
    "duration": 7,
    "start_time": "2021-12-11T14:28:34.213Z"
   },
   {
    "duration": 5,
    "start_time": "2021-12-11T14:28:34.222Z"
   },
   {
    "duration": 6,
    "start_time": "2021-12-11T14:28:34.228Z"
   },
   {
    "duration": 4,
    "start_time": "2021-12-11T14:28:34.236Z"
   },
   {
    "duration": 4,
    "start_time": "2021-12-11T14:28:34.242Z"
   },
   {
    "duration": 4,
    "start_time": "2021-12-11T14:28:34.248Z"
   },
   {
    "duration": 3,
    "start_time": "2021-12-11T14:28:34.254Z"
   },
   {
    "duration": 4,
    "start_time": "2021-12-11T14:28:34.260Z"
   },
   {
    "duration": 7,
    "start_time": "2021-12-11T14:28:34.265Z"
   },
   {
    "duration": 514,
    "start_time": "2021-12-11T14:33:17.123Z"
   },
   {
    "duration": 941,
    "start_time": "2021-12-11T14:33:37.594Z"
   },
   {
    "duration": 38,
    "start_time": "2021-12-11T14:34:39.219Z"
   },
   {
    "duration": 43,
    "start_time": "2021-12-11T14:35:13.593Z"
   },
   {
    "duration": 13,
    "start_time": "2021-12-11T14:38:30.630Z"
   },
   {
    "duration": 86,
    "start_time": "2021-12-11T14:42:46.449Z"
   },
   {
    "duration": 24,
    "start_time": "2021-12-11T14:42:53.504Z"
   },
   {
    "duration": 24,
    "start_time": "2021-12-11T14:43:05.243Z"
   },
   {
    "duration": 20,
    "start_time": "2021-12-11T14:43:18.688Z"
   },
   {
    "duration": 25,
    "start_time": "2021-12-11T14:43:27.648Z"
   },
   {
    "duration": 18,
    "start_time": "2021-12-11T14:43:32.648Z"
   },
   {
    "duration": 22,
    "start_time": "2021-12-11T14:46:47.737Z"
   },
   {
    "duration": 14,
    "start_time": "2021-12-11T14:47:10.364Z"
   },
   {
    "duration": 7,
    "start_time": "2021-12-11T14:50:00.435Z"
   },
   {
    "duration": 11,
    "start_time": "2021-12-11T14:50:02.538Z"
   },
   {
    "duration": 7,
    "start_time": "2021-12-11T14:50:04.396Z"
   },
   {
    "duration": 3,
    "start_time": "2021-12-11T14:50:06.891Z"
   },
   {
    "duration": 84,
    "start_time": "2021-12-11T14:50:06.901Z"
   },
   {
    "duration": 21,
    "start_time": "2021-12-11T14:50:06.987Z"
   },
   {
    "duration": 9,
    "start_time": "2021-12-11T14:50:07.010Z"
   },
   {
    "duration": 38,
    "start_time": "2021-12-11T14:50:07.021Z"
   },
   {
    "duration": 23,
    "start_time": "2021-12-11T14:50:07.061Z"
   },
   {
    "duration": 25,
    "start_time": "2021-12-11T14:50:07.086Z"
   },
   {
    "duration": 42,
    "start_time": "2021-12-11T14:50:07.113Z"
   },
   {
    "duration": 14,
    "start_time": "2021-12-11T14:50:07.158Z"
   },
   {
    "duration": 8,
    "start_time": "2021-12-11T14:50:07.175Z"
   },
   {
    "duration": 4,
    "start_time": "2021-12-11T14:50:07.186Z"
   },
   {
    "duration": 11,
    "start_time": "2021-12-11T14:50:07.192Z"
   },
   {
    "duration": 50,
    "start_time": "2021-12-11T14:50:07.204Z"
   },
   {
    "duration": 34,
    "start_time": "2021-12-11T14:50:07.255Z"
   },
   {
    "duration": 15,
    "start_time": "2021-12-11T14:50:07.291Z"
   },
   {
    "duration": 4,
    "start_time": "2021-12-11T14:50:07.308Z"
   },
   {
    "duration": 30,
    "start_time": "2021-12-11T14:50:07.315Z"
   },
   {
    "duration": 6,
    "start_time": "2021-12-11T14:50:07.347Z"
   },
   {
    "duration": 6,
    "start_time": "2021-12-11T14:50:07.355Z"
   },
   {
    "duration": 4,
    "start_time": "2021-12-11T14:50:07.363Z"
   },
   {
    "duration": 4,
    "start_time": "2021-12-11T14:50:07.369Z"
   },
   {
    "duration": 4,
    "start_time": "2021-12-11T14:50:07.375Z"
   },
   {
    "duration": 5,
    "start_time": "2021-12-11T14:50:07.382Z"
   },
   {
    "duration": 4,
    "start_time": "2021-12-11T14:50:07.389Z"
   },
   {
    "duration": 13,
    "start_time": "2021-12-11T14:50:32.112Z"
   },
   {
    "duration": 9,
    "start_time": "2021-12-11T14:50:36.160Z"
   },
   {
    "duration": 4,
    "start_time": "2021-12-11T14:50:42.306Z"
   },
   {
    "duration": 8,
    "start_time": "2021-12-11T14:50:44.992Z"
   },
   {
    "duration": 21,
    "start_time": "2021-12-11T14:51:00.221Z"
   },
   {
    "duration": 43,
    "start_time": "2021-12-11T14:51:00.532Z"
   },
   {
    "duration": 15,
    "start_time": "2021-12-11T14:51:25.024Z"
   },
   {
    "duration": 2,
    "start_time": "2021-12-11T14:51:28.814Z"
   },
   {
    "duration": 323,
    "start_time": "2021-12-11T14:53:20.164Z"
   },
   {
    "duration": 275,
    "start_time": "2021-12-11T14:54:05.680Z"
   },
   {
    "duration": 267,
    "start_time": "2021-12-11T14:54:08.440Z"
   },
   {
    "duration": 141,
    "start_time": "2021-12-11T14:55:04.202Z"
   },
   {
    "duration": 174,
    "start_time": "2021-12-11T14:57:28.789Z"
   },
   {
    "duration": 139,
    "start_time": "2021-12-11T14:59:41.137Z"
   },
   {
    "duration": 150,
    "start_time": "2021-12-11T15:00:02.021Z"
   },
   {
    "duration": 136,
    "start_time": "2021-12-11T15:00:31.081Z"
   },
   {
    "duration": 221,
    "start_time": "2021-12-11T15:00:36.708Z"
   },
   {
    "duration": 183,
    "start_time": "2021-12-11T15:02:39.717Z"
   },
   {
    "duration": 123,
    "start_time": "2021-12-11T15:02:45.311Z"
   },
   {
    "duration": 3,
    "start_time": "2021-12-11T15:03:15.808Z"
   },
   {
    "duration": 107,
    "start_time": "2021-12-11T15:03:15.813Z"
   },
   {
    "duration": 30,
    "start_time": "2021-12-11T15:03:15.922Z"
   },
   {
    "duration": 9,
    "start_time": "2021-12-11T15:03:15.955Z"
   },
   {
    "duration": 21,
    "start_time": "2021-12-11T15:03:15.965Z"
   },
   {
    "duration": 23,
    "start_time": "2021-12-11T15:03:15.988Z"
   },
   {
    "duration": 59,
    "start_time": "2021-12-11T15:03:16.013Z"
   },
   {
    "duration": 13,
    "start_time": "2021-12-11T15:03:16.073Z"
   },
   {
    "duration": 14,
    "start_time": "2021-12-11T15:03:16.088Z"
   },
   {
    "duration": 6,
    "start_time": "2021-12-11T15:03:16.104Z"
   },
   {
    "duration": 7,
    "start_time": "2021-12-11T15:03:16.112Z"
   },
   {
    "duration": 13,
    "start_time": "2021-12-11T15:03:16.150Z"
   },
   {
    "duration": 15,
    "start_time": "2021-12-11T15:03:16.165Z"
   },
   {
    "duration": 15,
    "start_time": "2021-12-11T15:03:16.181Z"
   },
   {
    "duration": 60,
    "start_time": "2021-12-11T15:03:16.198Z"
   },
   {
    "duration": 152,
    "start_time": "2021-12-11T15:03:16.260Z"
   },
   {
    "duration": 132,
    "start_time": "2021-12-11T15:03:16.413Z"
   },
   {
    "duration": 9,
    "start_time": "2021-12-11T15:03:16.548Z"
   },
   {
    "duration": 11,
    "start_time": "2021-12-11T15:03:16.559Z"
   },
   {
    "duration": 8,
    "start_time": "2021-12-11T15:03:16.572Z"
   },
   {
    "duration": 14,
    "start_time": "2021-12-11T15:03:16.582Z"
   },
   {
    "duration": 13,
    "start_time": "2021-12-11T15:03:16.598Z"
   },
   {
    "duration": 7,
    "start_time": "2021-12-11T15:03:16.612Z"
   },
   {
    "duration": 6,
    "start_time": "2021-12-11T15:03:16.620Z"
   },
   {
    "duration": 126,
    "start_time": "2021-12-11T15:04:35.328Z"
   },
   {
    "duration": 634,
    "start_time": "2021-12-11T15:55:09.795Z"
   },
   {
    "duration": 83,
    "start_time": "2021-12-11T15:55:10.431Z"
   },
   {
    "duration": 30,
    "start_time": "2021-12-11T15:55:10.516Z"
   },
   {
    "duration": 10,
    "start_time": "2021-12-11T15:55:10.548Z"
   },
   {
    "duration": 23,
    "start_time": "2021-12-11T15:55:10.560Z"
   },
   {
    "duration": 24,
    "start_time": "2021-12-11T15:55:10.585Z"
   },
   {
    "duration": 48,
    "start_time": "2021-12-11T15:55:10.611Z"
   },
   {
    "duration": 14,
    "start_time": "2021-12-11T15:55:10.660Z"
   },
   {
    "duration": 15,
    "start_time": "2021-12-11T15:55:10.677Z"
   },
   {
    "duration": 7,
    "start_time": "2021-12-11T15:55:10.694Z"
   },
   {
    "duration": 5,
    "start_time": "2021-12-11T15:55:10.703Z"
   },
   {
    "duration": 38,
    "start_time": "2021-12-11T15:55:10.709Z"
   },
   {
    "duration": 15,
    "start_time": "2021-12-11T15:55:10.749Z"
   },
   {
    "duration": 13,
    "start_time": "2021-12-11T15:55:10.766Z"
   },
   {
    "duration": 32,
    "start_time": "2021-12-11T15:55:10.780Z"
   },
   {
    "duration": 167,
    "start_time": "2021-12-11T15:55:10.814Z"
   },
   {
    "duration": 138,
    "start_time": "2021-12-11T15:55:10.982Z"
   },
   {
    "duration": 131,
    "start_time": "2021-12-11T15:55:11.121Z"
   },
   {
    "duration": 748,
    "start_time": "2021-12-11T15:56:48.392Z"
   },
   {
    "duration": 95,
    "start_time": "2021-12-11T15:56:49.142Z"
   },
   {
    "duration": 28,
    "start_time": "2021-12-11T15:56:49.240Z"
   },
   {
    "duration": 10,
    "start_time": "2021-12-11T15:56:49.271Z"
   },
   {
    "duration": 48,
    "start_time": "2021-12-11T15:56:49.283Z"
   },
   {
    "duration": 40,
    "start_time": "2021-12-11T15:56:49.333Z"
   },
   {
    "duration": 33,
    "start_time": "2021-12-11T15:56:49.376Z"
   },
   {
    "duration": 21,
    "start_time": "2021-12-11T15:56:49.413Z"
   },
   {
    "duration": 25,
    "start_time": "2021-12-11T15:56:49.436Z"
   },
   {
    "duration": 11,
    "start_time": "2021-12-11T15:56:49.463Z"
   },
   {
    "duration": 6,
    "start_time": "2021-12-11T15:56:49.476Z"
   },
   {
    "duration": 29,
    "start_time": "2021-12-11T15:56:49.485Z"
   },
   {
    "duration": 32,
    "start_time": "2021-12-11T15:56:49.517Z"
   },
   {
    "duration": 22,
    "start_time": "2021-12-11T15:56:49.552Z"
   },
   {
    "duration": 45,
    "start_time": "2021-12-11T15:56:49.576Z"
   },
   {
    "duration": 168,
    "start_time": "2021-12-11T15:56:49.623Z"
   },
   {
    "duration": 143,
    "start_time": "2021-12-11T15:56:49.793Z"
   },
   {
    "duration": 194,
    "start_time": "2021-12-11T15:56:49.937Z"
   },
   {
    "duration": 256,
    "start_time": "2021-12-11T15:56:50.133Z"
   },
   {
    "duration": 54,
    "start_time": "2021-12-11T15:56:50.391Z"
   },
   {
    "duration": 2,
    "start_time": "2021-12-11T15:56:50.447Z"
   },
   {
    "duration": 14,
    "start_time": "2021-12-11T15:56:50.451Z"
   },
   {
    "duration": 7,
    "start_time": "2021-12-11T15:56:50.469Z"
   },
   {
    "duration": 13,
    "start_time": "2021-12-11T15:56:50.478Z"
   },
   {
    "duration": 149,
    "start_time": "2021-12-11T15:57:05.405Z"
   },
   {
    "duration": 163,
    "start_time": "2021-12-11T16:05:24.774Z"
   },
   {
    "duration": 541,
    "start_time": "2021-12-11T16:16:56.725Z"
   },
   {
    "duration": 563,
    "start_time": "2021-12-11T16:17:22.986Z"
   },
   {
    "duration": 536,
    "start_time": "2021-12-11T16:17:41.218Z"
   },
   {
    "duration": 5,
    "start_time": "2021-12-11T16:17:50.693Z"
   },
   {
    "duration": 9,
    "start_time": "2021-12-11T16:17:57.056Z"
   },
   {
    "duration": 89,
    "start_time": "2021-12-11T16:18:14.320Z"
   },
   {
    "duration": 7,
    "start_time": "2021-12-11T16:18:17.990Z"
   },
   {
    "duration": 7,
    "start_time": "2021-12-11T16:18:22.053Z"
   },
   {
    "duration": 286,
    "start_time": "2021-12-11T16:19:22.575Z"
   },
   {
    "duration": 5,
    "start_time": "2021-12-11T16:19:31.083Z"
   },
   {
    "duration": 8,
    "start_time": "2021-12-11T16:19:49.273Z"
   },
   {
    "duration": 8,
    "start_time": "2021-12-11T16:20:53.497Z"
   },
   {
    "duration": 7,
    "start_time": "2021-12-11T16:21:24.852Z"
   },
   {
    "duration": 6,
    "start_time": "2021-12-11T16:24:30.235Z"
   },
   {
    "duration": 123,
    "start_time": "2021-12-11T16:26:28.394Z"
   },
   {
    "duration": 6,
    "start_time": "2021-12-11T16:28:15.754Z"
   },
   {
    "duration": 7,
    "start_time": "2021-12-11T16:28:41.265Z"
   },
   {
    "duration": 312,
    "start_time": "2021-12-11T16:32:14.545Z"
   },
   {
    "duration": 7,
    "start_time": "2021-12-11T16:32:25.899Z"
   },
   {
    "duration": 7,
    "start_time": "2021-12-11T16:32:26.326Z"
   },
   {
    "duration": 7,
    "start_time": "2021-12-11T16:32:26.760Z"
   },
   {
    "duration": 298,
    "start_time": "2021-12-11T16:32:27.392Z"
   },
   {
    "duration": 307,
    "start_time": "2021-12-11T16:32:55.558Z"
   },
   {
    "duration": 12,
    "start_time": "2021-12-11T16:34:03.097Z"
   },
   {
    "duration": 13,
    "start_time": "2021-12-11T16:34:24.255Z"
   },
   {
    "duration": 2,
    "start_time": "2021-12-11T16:35:14.557Z"
   },
   {
    "duration": 96,
    "start_time": "2021-12-11T16:35:14.563Z"
   },
   {
    "duration": 21,
    "start_time": "2021-12-11T16:35:14.661Z"
   },
   {
    "duration": 22,
    "start_time": "2021-12-11T16:35:14.685Z"
   },
   {
    "duration": 22,
    "start_time": "2021-12-11T16:35:14.710Z"
   },
   {
    "duration": 33,
    "start_time": "2021-12-11T16:35:14.734Z"
   },
   {
    "duration": 26,
    "start_time": "2021-12-11T16:35:14.769Z"
   },
   {
    "duration": 23,
    "start_time": "2021-12-11T16:35:14.798Z"
   },
   {
    "duration": 40,
    "start_time": "2021-12-11T16:35:14.823Z"
   },
   {
    "duration": 8,
    "start_time": "2021-12-11T16:35:14.867Z"
   },
   {
    "duration": 26,
    "start_time": "2021-12-11T16:35:14.878Z"
   },
   {
    "duration": 27,
    "start_time": "2021-12-11T16:35:14.906Z"
   },
   {
    "duration": 32,
    "start_time": "2021-12-11T16:35:14.935Z"
   },
   {
    "duration": 27,
    "start_time": "2021-12-11T16:35:14.968Z"
   },
   {
    "duration": 34,
    "start_time": "2021-12-11T16:35:14.997Z"
   },
   {
    "duration": 134,
    "start_time": "2021-12-11T16:35:15.032Z"
   },
   {
    "duration": 125,
    "start_time": "2021-12-11T16:35:15.168Z"
   },
   {
    "duration": 140,
    "start_time": "2021-12-11T16:35:15.295Z"
   },
   {
    "duration": 144,
    "start_time": "2021-12-11T16:35:15.437Z"
   },
   {
    "duration": 162,
    "start_time": "2021-12-11T16:35:15.582Z"
   },
   {
    "duration": 6,
    "start_time": "2021-12-11T16:35:15.746Z"
   },
   {
    "duration": 17,
    "start_time": "2021-12-11T16:35:15.753Z"
   },
   {
    "duration": 27,
    "start_time": "2021-12-11T16:35:15.772Z"
   },
   {
    "duration": 32,
    "start_time": "2021-12-11T16:35:15.800Z"
   },
   {
    "duration": 33,
    "start_time": "2021-12-11T16:35:15.834Z"
   },
   {
    "duration": 136,
    "start_time": "2021-12-11T16:35:15.869Z"
   },
   {
    "duration": 134,
    "start_time": "2021-12-11T16:35:16.007Z"
   },
   {
    "duration": 205,
    "start_time": "2021-12-11T16:35:16.146Z"
   },
   {
    "duration": 141,
    "start_time": "2021-12-11T16:35:16.353Z"
   },
   {
    "duration": 155,
    "start_time": "2021-12-11T16:35:16.495Z"
   },
   {
    "duration": 12,
    "start_time": "2021-12-11T16:40:20.235Z"
   },
   {
    "duration": 32,
    "start_time": "2021-12-11T16:40:21.894Z"
   },
   {
    "duration": 2,
    "start_time": "2021-12-11T16:40:25.171Z"
   },
   {
    "duration": 83,
    "start_time": "2021-12-11T16:40:25.178Z"
   },
   {
    "duration": 19,
    "start_time": "2021-12-11T16:40:25.263Z"
   },
   {
    "duration": 9,
    "start_time": "2021-12-11T16:40:25.284Z"
   },
   {
    "duration": 19,
    "start_time": "2021-12-11T16:40:25.295Z"
   },
   {
    "duration": 43,
    "start_time": "2021-12-11T16:40:25.315Z"
   },
   {
    "duration": 24,
    "start_time": "2021-12-11T16:40:25.360Z"
   },
   {
    "duration": 11,
    "start_time": "2021-12-11T16:40:25.386Z"
   },
   {
    "duration": 11,
    "start_time": "2021-12-11T16:40:25.400Z"
   },
   {
    "duration": 35,
    "start_time": "2021-12-11T16:40:25.414Z"
   },
   {
    "duration": 4,
    "start_time": "2021-12-11T16:40:25.451Z"
   },
   {
    "duration": 11,
    "start_time": "2021-12-11T16:40:25.456Z"
   },
   {
    "duration": 15,
    "start_time": "2021-12-11T16:40:25.468Z"
   },
   {
    "duration": 14,
    "start_time": "2021-12-11T16:40:25.484Z"
   },
   {
    "duration": 57,
    "start_time": "2021-12-11T16:40:25.499Z"
   },
   {
    "duration": 151,
    "start_time": "2021-12-11T16:40:25.558Z"
   },
   {
    "duration": 135,
    "start_time": "2021-12-11T16:40:25.711Z"
   },
   {
    "duration": 138,
    "start_time": "2021-12-11T16:40:25.848Z"
   },
   {
    "duration": 153,
    "start_time": "2021-12-11T16:40:25.988Z"
   },
   {
    "duration": 152,
    "start_time": "2021-12-11T16:40:26.143Z"
   },
   {
    "duration": 8,
    "start_time": "2021-12-11T16:40:26.297Z"
   },
   {
    "duration": 7,
    "start_time": "2021-12-11T16:40:26.307Z"
   },
   {
    "duration": 29,
    "start_time": "2021-12-11T16:40:26.316Z"
   },
   {
    "duration": 12,
    "start_time": "2021-12-11T16:40:26.349Z"
   },
   {
    "duration": 33,
    "start_time": "2021-12-11T16:40:26.363Z"
   },
   {
    "duration": 163,
    "start_time": "2021-12-11T16:40:26.398Z"
   },
   {
    "duration": 137,
    "start_time": "2021-12-11T16:40:26.563Z"
   },
   {
    "duration": 149,
    "start_time": "2021-12-11T16:40:26.702Z"
   },
   {
    "duration": 218,
    "start_time": "2021-12-11T16:40:26.853Z"
   },
   {
    "duration": 165,
    "start_time": "2021-12-11T16:40:27.073Z"
   },
   {
    "duration": 3,
    "start_time": "2021-12-11T16:42:16.213Z"
   },
   {
    "duration": 84,
    "start_time": "2021-12-11T16:42:16.428Z"
   },
   {
    "duration": 31,
    "start_time": "2021-12-11T16:42:16.514Z"
   },
   {
    "duration": 9,
    "start_time": "2021-12-11T16:42:16.547Z"
   },
   {
    "duration": 20,
    "start_time": "2021-12-11T16:42:16.557Z"
   },
   {
    "duration": 22,
    "start_time": "2021-12-11T16:42:16.578Z"
   },
   {
    "duration": 48,
    "start_time": "2021-12-11T16:42:16.602Z"
   },
   {
    "duration": 12,
    "start_time": "2021-12-11T16:42:16.652Z"
   },
   {
    "duration": 14,
    "start_time": "2021-12-11T16:42:16.665Z"
   },
   {
    "duration": 6,
    "start_time": "2021-12-11T16:42:16.681Z"
   },
   {
    "duration": 4,
    "start_time": "2021-12-11T16:42:16.690Z"
   },
   {
    "duration": 10,
    "start_time": "2021-12-11T16:42:16.695Z"
   },
   {
    "duration": 48,
    "start_time": "2021-12-11T16:42:16.707Z"
   },
   {
    "duration": 14,
    "start_time": "2021-12-11T16:42:16.757Z"
   },
   {
    "duration": 34,
    "start_time": "2021-12-11T16:42:16.773Z"
   },
   {
    "duration": 164,
    "start_time": "2021-12-11T16:42:16.809Z"
   },
   {
    "duration": 134,
    "start_time": "2021-12-11T16:42:16.974Z"
   },
   {
    "duration": 136,
    "start_time": "2021-12-11T16:42:17.110Z"
   },
   {
    "duration": 158,
    "start_time": "2021-12-11T16:42:17.247Z"
   },
   {
    "duration": 164,
    "start_time": "2021-12-11T16:42:17.406Z"
   },
   {
    "duration": 6,
    "start_time": "2021-12-11T16:42:17.571Z"
   },
   {
    "duration": 7,
    "start_time": "2021-12-11T16:42:17.579Z"
   },
   {
    "duration": 6,
    "start_time": "2021-12-11T16:42:17.588Z"
   },
   {
    "duration": 11,
    "start_time": "2021-12-11T16:42:17.596Z"
   },
   {
    "duration": 67,
    "start_time": "2021-12-11T16:42:17.608Z"
   },
   {
    "duration": 147,
    "start_time": "2021-12-11T16:42:17.676Z"
   },
   {
    "duration": 147,
    "start_time": "2021-12-11T16:42:17.825Z"
   },
   {
    "duration": 154,
    "start_time": "2021-12-11T16:42:17.976Z"
   },
   {
    "duration": 7,
    "start_time": "2021-12-11T16:42:18.132Z"
   },
   {
    "duration": 6,
    "start_time": "2021-12-11T16:42:18.145Z"
   },
   {
    "duration": 10,
    "start_time": "2021-12-11T16:42:18.153Z"
   },
   {
    "duration": 12,
    "start_time": "2021-12-11T16:42:18.165Z"
   },
   {
    "duration": 233,
    "start_time": "2021-12-11T16:42:18.179Z"
   },
   {
    "duration": 195,
    "start_time": "2021-12-11T16:42:18.413Z"
   },
   {
    "duration": 137,
    "start_time": "2021-12-11T16:42:18.609Z"
   },
   {
    "duration": 6,
    "start_time": "2021-12-11T16:53:53.587Z"
   },
   {
    "duration": 8,
    "start_time": "2021-12-11T16:53:58.996Z"
   },
   {
    "duration": 6,
    "start_time": "2021-12-11T16:54:16.570Z"
   },
   {
    "duration": 5,
    "start_time": "2021-12-11T17:03:51.973Z"
   },
   {
    "duration": 672,
    "start_time": "2021-12-11T17:04:16.285Z"
   },
   {
    "duration": 4,
    "start_time": "2021-12-11T17:05:07.951Z"
   },
   {
    "duration": 580,
    "start_time": "2021-12-11T17:05:16.726Z"
   },
   {
    "duration": 5,
    "start_time": "2021-12-11T17:05:58.301Z"
   },
   {
    "duration": 555,
    "start_time": "2021-12-11T17:05:58.865Z"
   },
   {
    "duration": 5,
    "start_time": "2021-12-11T17:06:27.790Z"
   },
   {
    "duration": 36,
    "start_time": "2021-12-11T17:06:28.339Z"
   },
   {
    "duration": 7,
    "start_time": "2021-12-11T17:06:36.981Z"
   },
   {
    "duration": 7,
    "start_time": "2021-12-11T17:06:39.553Z"
   },
   {
    "duration": 7,
    "start_time": "2021-12-11T17:06:40.446Z"
   },
   {
    "duration": 11,
    "start_time": "2021-12-11T17:06:43.784Z"
   },
   {
    "duration": 33,
    "start_time": "2021-12-11T17:06:47.258Z"
   },
   {
    "duration": 132,
    "start_time": "2021-12-11T17:06:48.640Z"
   },
   {
    "duration": 5,
    "start_time": "2021-12-11T17:07:01.189Z"
   },
   {
    "duration": 69,
    "start_time": "2021-12-11T17:07:02.048Z"
   },
   {
    "duration": 132,
    "start_time": "2021-12-11T17:07:30.736Z"
   },
   {
    "duration": 7,
    "start_time": "2021-12-11T17:08:00.632Z"
   },
   {
    "duration": 6,
    "start_time": "2021-12-11T17:08:16.803Z"
   },
   {
    "duration": 7,
    "start_time": "2021-12-11T17:08:36.525Z"
   },
   {
    "duration": 127,
    "start_time": "2021-12-11T17:42:07.964Z"
   },
   {
    "duration": 6,
    "start_time": "2021-12-11T17:42:44.198Z"
   },
   {
    "duration": 3,
    "start_time": "2021-12-11T17:46:42.278Z"
   },
   {
    "duration": 6,
    "start_time": "2021-12-11T17:47:02.098Z"
   },
   {
    "duration": 2,
    "start_time": "2021-12-11T17:47:16.557Z"
   },
   {
    "duration": 83,
    "start_time": "2021-12-11T17:47:16.563Z"
   },
   {
    "duration": 20,
    "start_time": "2021-12-11T17:47:16.648Z"
   },
   {
    "duration": 8,
    "start_time": "2021-12-11T17:47:16.671Z"
   },
   {
    "duration": 21,
    "start_time": "2021-12-11T17:47:16.682Z"
   },
   {
    "duration": 41,
    "start_time": "2021-12-11T17:47:16.705Z"
   },
   {
    "duration": 24,
    "start_time": "2021-12-11T17:47:16.748Z"
   },
   {
    "duration": 12,
    "start_time": "2021-12-11T17:47:16.773Z"
   },
   {
    "duration": 14,
    "start_time": "2021-12-11T17:47:16.786Z"
   },
   {
    "duration": 7,
    "start_time": "2021-12-11T17:47:16.802Z"
   },
   {
    "duration": 34,
    "start_time": "2021-12-11T17:47:16.811Z"
   },
   {
    "duration": 10,
    "start_time": "2021-12-11T17:47:16.847Z"
   },
   {
    "duration": 15,
    "start_time": "2021-12-11T17:47:16.858Z"
   },
   {
    "duration": 14,
    "start_time": "2021-12-11T17:47:16.875Z"
   },
   {
    "duration": 54,
    "start_time": "2021-12-11T17:47:16.891Z"
   },
   {
    "duration": 143,
    "start_time": "2021-12-11T17:47:16.947Z"
   },
   {
    "duration": 130,
    "start_time": "2021-12-11T17:47:17.091Z"
   },
   {
    "duration": 133,
    "start_time": "2021-12-11T17:47:17.222Z"
   },
   {
    "duration": 145,
    "start_time": "2021-12-11T17:47:17.357Z"
   },
   {
    "duration": 154,
    "start_time": "2021-12-11T17:47:17.504Z"
   },
   {
    "duration": 4,
    "start_time": "2021-12-11T17:47:17.660Z"
   },
   {
    "duration": 136,
    "start_time": "2021-12-11T17:47:17.666Z"
   },
   {
    "duration": 3,
    "start_time": "2021-12-11T17:47:17.804Z"
   },
   {
    "duration": 4,
    "start_time": "2021-12-11T17:47:21.015Z"
   },
   {
    "duration": 6,
    "start_time": "2021-12-11T17:47:21.671Z"
   },
   {
    "duration": 7,
    "start_time": "2021-12-11T17:47:52.823Z"
   },
   {
    "duration": 5,
    "start_time": "2021-12-11T17:48:10.667Z"
   },
   {
    "duration": 7,
    "start_time": "2021-12-11T17:48:22.364Z"
   },
   {
    "duration": 3,
    "start_time": "2021-12-11T17:48:31.712Z"
   },
   {
    "duration": 111,
    "start_time": "2021-12-11T17:48:31.716Z"
   },
   {
    "duration": 19,
    "start_time": "2021-12-11T17:48:31.829Z"
   },
   {
    "duration": 20,
    "start_time": "2021-12-11T17:48:31.851Z"
   },
   {
    "duration": 20,
    "start_time": "2021-12-11T17:48:31.873Z"
   },
   {
    "duration": 21,
    "start_time": "2021-12-11T17:48:31.894Z"
   },
   {
    "duration": 31,
    "start_time": "2021-12-11T17:48:31.917Z"
   },
   {
    "duration": 12,
    "start_time": "2021-12-11T17:48:31.951Z"
   },
   {
    "duration": 13,
    "start_time": "2021-12-11T17:48:31.965Z"
   },
   {
    "duration": 6,
    "start_time": "2021-12-11T17:48:31.980Z"
   },
   {
    "duration": 5,
    "start_time": "2021-12-11T17:48:31.987Z"
   },
   {
    "duration": 11,
    "start_time": "2021-12-11T17:48:31.994Z"
   },
   {
    "duration": 47,
    "start_time": "2021-12-11T17:48:32.007Z"
   },
   {
    "duration": 15,
    "start_time": "2021-12-11T17:48:32.056Z"
   },
   {
    "duration": 35,
    "start_time": "2021-12-11T17:48:32.073Z"
   },
   {
    "duration": 155,
    "start_time": "2021-12-11T17:48:32.110Z"
   },
   {
    "duration": 130,
    "start_time": "2021-12-11T17:48:32.267Z"
   },
   {
    "duration": 199,
    "start_time": "2021-12-11T17:48:32.399Z"
   },
   {
    "duration": 148,
    "start_time": "2021-12-11T17:48:32.600Z"
   },
   {
    "duration": 155,
    "start_time": "2021-12-11T17:48:32.750Z"
   },
   {
    "duration": 4,
    "start_time": "2021-12-11T17:48:32.906Z"
   },
   {
    "duration": 139,
    "start_time": "2021-12-11T17:48:32.912Z"
   },
   {
    "duration": 3,
    "start_time": "2021-12-11T17:48:33.054Z"
   },
   {
    "duration": 11,
    "start_time": "2021-12-11T17:48:33.059Z"
   },
   {
    "duration": 11,
    "start_time": "2021-12-11T17:48:33.072Z"
   },
   {
    "duration": 12,
    "start_time": "2021-12-11T17:48:33.084Z"
   },
   {
    "duration": 14,
    "start_time": "2021-12-11T17:48:33.097Z"
   },
   {
    "duration": 6,
    "start_time": "2021-12-11T17:48:35.283Z"
   },
   {
    "duration": 4,
    "start_time": "2021-12-11T17:50:10.225Z"
   },
   {
    "duration": 8,
    "start_time": "2021-12-11T17:50:12.951Z"
   },
   {
    "duration": 6,
    "start_time": "2021-12-11T17:50:13.740Z"
   },
   {
    "duration": 6,
    "start_time": "2021-12-11T17:50:14.716Z"
   },
   {
    "duration": 6,
    "start_time": "2021-12-11T17:50:15.885Z"
   },
   {
    "duration": 31,
    "start_time": "2021-12-11T17:50:31.459Z"
   },
   {
    "duration": 133,
    "start_time": "2021-12-11T17:50:37.515Z"
   },
   {
    "duration": 3,
    "start_time": "2021-12-11T17:51:04.835Z"
   },
   {
    "duration": 93,
    "start_time": "2021-12-11T17:51:04.840Z"
   },
   {
    "duration": 20,
    "start_time": "2021-12-11T17:51:04.935Z"
   },
   {
    "duration": 26,
    "start_time": "2021-12-11T17:51:04.957Z"
   },
   {
    "duration": 31,
    "start_time": "2021-12-11T17:51:04.985Z"
   },
   {
    "duration": 43,
    "start_time": "2021-12-11T17:51:05.018Z"
   },
   {
    "duration": 24,
    "start_time": "2021-12-11T17:51:05.063Z"
   },
   {
    "duration": 30,
    "start_time": "2021-12-11T17:51:05.089Z"
   },
   {
    "duration": 34,
    "start_time": "2021-12-11T17:51:05.121Z"
   },
   {
    "duration": 35,
    "start_time": "2021-12-11T17:51:05.157Z"
   },
   {
    "duration": 19,
    "start_time": "2021-12-11T17:51:05.194Z"
   },
   {
    "duration": 29,
    "start_time": "2021-12-11T17:51:05.214Z"
   },
   {
    "duration": 34,
    "start_time": "2021-12-11T17:51:05.245Z"
   },
   {
    "duration": 16,
    "start_time": "2021-12-11T17:51:05.281Z"
   },
   {
    "duration": 61,
    "start_time": "2021-12-11T17:51:05.299Z"
   },
   {
    "duration": 149,
    "start_time": "2021-12-11T17:51:05.362Z"
   },
   {
    "duration": 130,
    "start_time": "2021-12-11T17:51:05.512Z"
   },
   {
    "duration": 134,
    "start_time": "2021-12-11T17:51:05.644Z"
   },
   {
    "duration": 155,
    "start_time": "2021-12-11T17:51:05.780Z"
   },
   {
    "duration": 156,
    "start_time": "2021-12-11T17:51:05.937Z"
   },
   {
    "duration": 5,
    "start_time": "2021-12-11T17:51:06.095Z"
   },
   {
    "duration": 154,
    "start_time": "2021-12-11T17:51:06.102Z"
   },
   {
    "duration": 3,
    "start_time": "2021-12-11T17:51:06.259Z"
   },
   {
    "duration": 30,
    "start_time": "2021-12-11T17:51:06.264Z"
   },
   {
    "duration": 9,
    "start_time": "2021-12-11T17:51:06.296Z"
   },
   {
    "duration": 9,
    "start_time": "2021-12-11T17:51:06.307Z"
   },
   {
    "duration": 17,
    "start_time": "2021-12-11T17:51:06.319Z"
   },
   {
    "duration": 38,
    "start_time": "2021-12-11T17:51:06.338Z"
   },
   {
    "duration": 136,
    "start_time": "2021-12-11T17:51:06.377Z"
   },
   {
    "duration": 132,
    "start_time": "2021-12-11T17:51:06.515Z"
   },
   {
    "duration": 198,
    "start_time": "2021-12-11T17:51:06.649Z"
   },
   {
    "duration": 2,
    "start_time": "2021-12-11T17:52:25.291Z"
   },
   {
    "duration": 78,
    "start_time": "2021-12-11T17:52:25.296Z"
   },
   {
    "duration": 19,
    "start_time": "2021-12-11T17:52:25.376Z"
   },
   {
    "duration": 8,
    "start_time": "2021-12-11T17:52:25.397Z"
   },
   {
    "duration": 39,
    "start_time": "2021-12-11T17:52:25.407Z"
   },
   {
    "duration": 22,
    "start_time": "2021-12-11T17:52:25.448Z"
   },
   {
    "duration": 23,
    "start_time": "2021-12-11T17:52:25.472Z"
   },
   {
    "duration": 11,
    "start_time": "2021-12-11T17:52:25.497Z"
   },
   {
    "duration": 38,
    "start_time": "2021-12-11T17:52:25.510Z"
   },
   {
    "duration": 6,
    "start_time": "2021-12-11T17:52:25.550Z"
   },
   {
    "duration": 8,
    "start_time": "2021-12-11T17:52:25.557Z"
   },
   {
    "duration": 16,
    "start_time": "2021-12-11T17:52:25.567Z"
   },
   {
    "duration": 16,
    "start_time": "2021-12-11T17:52:25.585Z"
   },
   {
    "duration": 15,
    "start_time": "2021-12-11T17:52:25.602Z"
   },
   {
    "duration": 52,
    "start_time": "2021-12-11T17:52:25.618Z"
   },
   {
    "duration": 142,
    "start_time": "2021-12-11T17:52:25.672Z"
   },
   {
    "duration": 124,
    "start_time": "2021-12-11T17:52:25.816Z"
   },
   {
    "duration": 131,
    "start_time": "2021-12-11T17:52:25.942Z"
   },
   {
    "duration": 145,
    "start_time": "2021-12-11T17:52:26.074Z"
   },
   {
    "duration": 151,
    "start_time": "2021-12-11T17:52:26.220Z"
   },
   {
    "duration": 5,
    "start_time": "2021-12-11T17:52:26.372Z"
   },
   {
    "duration": 126,
    "start_time": "2021-12-11T17:52:26.378Z"
   },
   {
    "duration": 5,
    "start_time": "2021-12-11T17:52:26.505Z"
   },
   {
    "duration": 6,
    "start_time": "2021-12-11T17:52:26.513Z"
   },
   {
    "duration": 24,
    "start_time": "2021-12-11T17:52:26.521Z"
   },
   {
    "duration": 5,
    "start_time": "2021-12-11T17:52:26.547Z"
   },
   {
    "duration": 6,
    "start_time": "2021-12-11T17:52:26.554Z"
   },
   {
    "duration": 31,
    "start_time": "2021-12-11T17:52:26.561Z"
   },
   {
    "duration": 157,
    "start_time": "2021-12-11T17:52:26.594Z"
   },
   {
    "duration": 130,
    "start_time": "2021-12-11T17:52:26.753Z"
   },
   {
    "duration": 134,
    "start_time": "2021-12-11T17:52:26.885Z"
   },
   {
    "duration": 6,
    "start_time": "2021-12-11T17:54:00.664Z"
   },
   {
    "duration": 6,
    "start_time": "2021-12-11T17:54:02.531Z"
   },
   {
    "duration": 2,
    "start_time": "2021-12-11T17:55:31.633Z"
   },
   {
    "duration": 81,
    "start_time": "2021-12-11T17:55:31.637Z"
   },
   {
    "duration": 17,
    "start_time": "2021-12-11T17:55:31.720Z"
   },
   {
    "duration": 11,
    "start_time": "2021-12-11T17:55:31.739Z"
   },
   {
    "duration": 18,
    "start_time": "2021-12-11T17:55:31.752Z"
   },
   {
    "duration": 20,
    "start_time": "2021-12-11T17:55:31.771Z"
   },
   {
    "duration": 21,
    "start_time": "2021-12-11T17:55:31.792Z"
   },
   {
    "duration": 35,
    "start_time": "2021-12-11T17:55:31.816Z"
   },
   {
    "duration": 12,
    "start_time": "2021-12-11T17:55:31.853Z"
   },
   {
    "duration": 6,
    "start_time": "2021-12-11T17:55:31.866Z"
   },
   {
    "duration": 4,
    "start_time": "2021-12-11T17:55:31.873Z"
   },
   {
    "duration": 10,
    "start_time": "2021-12-11T17:55:31.879Z"
   },
   {
    "duration": 14,
    "start_time": "2021-12-11T17:55:31.891Z"
   },
   {
    "duration": 40,
    "start_time": "2021-12-11T17:55:31.906Z"
   },
   {
    "duration": 32,
    "start_time": "2021-12-11T17:55:31.947Z"
   },
   {
    "duration": 139,
    "start_time": "2021-12-11T17:55:31.980Z"
   },
   {
    "duration": 125,
    "start_time": "2021-12-11T17:55:32.121Z"
   },
   {
    "duration": 197,
    "start_time": "2021-12-11T17:55:32.248Z"
   },
   {
    "duration": 141,
    "start_time": "2021-12-11T17:55:32.447Z"
   },
   {
    "duration": 150,
    "start_time": "2021-12-11T17:55:32.590Z"
   },
   {
    "duration": 5,
    "start_time": "2021-12-11T17:55:32.741Z"
   },
   {
    "duration": 132,
    "start_time": "2021-12-11T17:55:32.748Z"
   },
   {
    "duration": 3,
    "start_time": "2021-12-11T17:55:32.883Z"
   },
   {
    "duration": 28,
    "start_time": "2021-12-11T17:55:32.888Z"
   },
   {
    "duration": 14,
    "start_time": "2021-12-11T17:55:32.918Z"
   },
   {
    "duration": 21,
    "start_time": "2021-12-11T17:55:32.933Z"
   },
   {
    "duration": 27,
    "start_time": "2021-12-11T17:55:32.955Z"
   },
   {
    "duration": 41,
    "start_time": "2021-12-11T17:55:32.983Z"
   },
   {
    "duration": 125,
    "start_time": "2021-12-11T17:55:33.026Z"
   },
   {
    "duration": 125,
    "start_time": "2021-12-11T17:55:33.153Z"
   },
   {
    "duration": 175,
    "start_time": "2021-12-11T17:55:33.280Z"
   },
   {
    "duration": 3,
    "start_time": "2021-12-11T17:55:54.414Z"
   },
   {
    "duration": 6,
    "start_time": "2021-12-11T17:55:54.973Z"
   },
   {
    "duration": 7,
    "start_time": "2021-12-11T17:55:55.894Z"
   },
   {
    "duration": 6,
    "start_time": "2021-12-11T17:55:56.467Z"
   },
   {
    "duration": 6,
    "start_time": "2021-12-11T17:55:56.850Z"
   },
   {
    "duration": 3,
    "start_time": "2021-12-11T17:56:32.603Z"
   },
   {
    "duration": 78,
    "start_time": "2021-12-11T17:56:32.610Z"
   },
   {
    "duration": 19,
    "start_time": "2021-12-11T17:56:32.690Z"
   },
   {
    "duration": 9,
    "start_time": "2021-12-11T17:56:32.711Z"
   },
   {
    "duration": 40,
    "start_time": "2021-12-11T17:56:32.722Z"
   },
   {
    "duration": 22,
    "start_time": "2021-12-11T17:56:32.764Z"
   },
   {
    "duration": 26,
    "start_time": "2021-12-11T17:56:32.788Z"
   },
   {
    "duration": 34,
    "start_time": "2021-12-11T17:56:32.816Z"
   },
   {
    "duration": 12,
    "start_time": "2021-12-11T17:56:32.852Z"
   },
   {
    "duration": 6,
    "start_time": "2021-12-11T17:56:32.867Z"
   },
   {
    "duration": 4,
    "start_time": "2021-12-11T17:56:32.876Z"
   },
   {
    "duration": 9,
    "start_time": "2021-12-11T17:56:32.882Z"
   },
   {
    "duration": 56,
    "start_time": "2021-12-11T17:56:32.893Z"
   },
   {
    "duration": 15,
    "start_time": "2021-12-11T17:56:32.951Z"
   },
   {
    "duration": 36,
    "start_time": "2021-12-11T17:56:32.968Z"
   },
   {
    "duration": 155,
    "start_time": "2021-12-11T17:56:33.006Z"
   },
   {
    "duration": 139,
    "start_time": "2021-12-11T17:56:33.163Z"
   },
   {
    "duration": 134,
    "start_time": "2021-12-11T17:56:33.305Z"
   },
   {
    "duration": 138,
    "start_time": "2021-12-11T17:56:33.440Z"
   },
   {
    "duration": 156,
    "start_time": "2021-12-11T17:56:33.580Z"
   },
   {
    "duration": 6,
    "start_time": "2021-12-11T17:56:33.738Z"
   },
   {
    "duration": 5,
    "start_time": "2021-12-11T17:56:33.746Z"
   },
   {
    "duration": 5,
    "start_time": "2021-12-11T17:56:33.753Z"
   },
   {
    "duration": 5,
    "start_time": "2021-12-11T17:56:33.760Z"
   },
   {
    "duration": 6,
    "start_time": "2021-12-11T17:56:33.767Z"
   },
   {
    "duration": 97,
    "start_time": "2021-12-11T17:56:33.774Z"
   },
   {
    "duration": 119,
    "start_time": "2021-12-11T17:56:33.872Z"
   },
   {
    "duration": 4,
    "start_time": "2021-12-11T17:56:33.994Z"
   },
   {
    "duration": 7,
    "start_time": "2021-12-11T17:56:34.000Z"
   },
   {
    "duration": 5,
    "start_time": "2021-12-11T17:56:34.009Z"
   },
   {
    "duration": 30,
    "start_time": "2021-12-11T17:56:34.016Z"
   },
   {
    "duration": 6,
    "start_time": "2021-12-11T17:56:34.048Z"
   },
   {
    "duration": 30,
    "start_time": "2021-12-11T17:56:34.055Z"
   },
   {
    "duration": 157,
    "start_time": "2021-12-11T17:56:34.087Z"
   },
   {
    "duration": 136,
    "start_time": "2021-12-11T17:56:34.246Z"
   },
   {
    "duration": 186,
    "start_time": "2021-12-11T17:56:34.384Z"
   },
   {
    "duration": 4,
    "start_time": "2021-12-11T17:57:15.005Z"
   },
   {
    "duration": 875,
    "start_time": "2021-12-11T17:57:39.351Z"
   },
   {
    "duration": 90,
    "start_time": "2021-12-11T17:57:40.229Z"
   },
   {
    "duration": 28,
    "start_time": "2021-12-11T17:57:40.322Z"
   },
   {
    "duration": 10,
    "start_time": "2021-12-11T17:57:40.353Z"
   },
   {
    "duration": 76,
    "start_time": "2021-12-11T17:57:40.365Z"
   },
   {
    "duration": 26,
    "start_time": "2021-12-11T17:57:40.443Z"
   },
   {
    "duration": 29,
    "start_time": "2021-12-11T17:57:40.474Z"
   },
   {
    "duration": 16,
    "start_time": "2021-12-11T17:57:40.504Z"
   },
   {
    "duration": 18,
    "start_time": "2021-12-11T17:57:40.546Z"
   },
   {
    "duration": 15,
    "start_time": "2021-12-11T17:57:40.567Z"
   },
   {
    "duration": 19,
    "start_time": "2021-12-11T17:57:40.584Z"
   },
   {
    "duration": 17,
    "start_time": "2021-12-11T17:57:40.605Z"
   },
   {
    "duration": 41,
    "start_time": "2021-12-11T17:57:40.624Z"
   },
   {
    "duration": 17,
    "start_time": "2021-12-11T17:57:40.667Z"
   },
   {
    "duration": 58,
    "start_time": "2021-12-11T17:57:40.686Z"
   },
   {
    "duration": 149,
    "start_time": "2021-12-11T17:57:40.748Z"
   },
   {
    "duration": 147,
    "start_time": "2021-12-11T17:57:40.899Z"
   },
   {
    "duration": 137,
    "start_time": "2021-12-11T17:57:41.048Z"
   },
   {
    "duration": 188,
    "start_time": "2021-12-11T17:57:41.187Z"
   },
   {
    "duration": 161,
    "start_time": "2021-12-11T17:57:41.377Z"
   },
   {
    "duration": 4,
    "start_time": "2021-12-11T17:57:41.540Z"
   },
   {
    "duration": 24,
    "start_time": "2021-12-11T17:57:41.545Z"
   },
   {
    "duration": 14,
    "start_time": "2021-12-11T17:57:41.570Z"
   },
   {
    "duration": 32,
    "start_time": "2021-12-11T17:57:41.585Z"
   },
   {
    "duration": 20,
    "start_time": "2021-12-11T17:57:41.618Z"
   },
   {
    "duration": 12,
    "start_time": "2021-12-11T17:57:41.639Z"
   },
   {
    "duration": 135,
    "start_time": "2021-12-11T17:57:41.654Z"
   },
   {
    "duration": 3,
    "start_time": "2021-12-11T17:57:41.791Z"
   },
   {
    "duration": 13,
    "start_time": "2021-12-11T17:57:41.796Z"
   },
   {
    "duration": 19,
    "start_time": "2021-12-11T17:57:41.811Z"
   },
   {
    "duration": 21,
    "start_time": "2021-12-11T17:57:41.831Z"
   },
   {
    "duration": 23,
    "start_time": "2021-12-11T17:57:41.854Z"
   },
   {
    "duration": 58,
    "start_time": "2021-12-11T17:57:41.879Z"
   },
   {
    "duration": 126,
    "start_time": "2021-12-11T17:57:41.938Z"
   },
   {
    "duration": 123,
    "start_time": "2021-12-11T17:57:42.066Z"
   },
   {
    "duration": 136,
    "start_time": "2021-12-11T17:57:42.191Z"
   },
   {
    "duration": 3,
    "start_time": "2021-12-11T18:03:55.101Z"
   },
   {
    "duration": 84,
    "start_time": "2021-12-11T18:03:55.108Z"
   },
   {
    "duration": 19,
    "start_time": "2021-12-11T18:03:55.193Z"
   },
   {
    "duration": 7,
    "start_time": "2021-12-11T18:03:55.214Z"
   },
   {
    "duration": 32,
    "start_time": "2021-12-11T18:03:55.223Z"
   },
   {
    "duration": 21,
    "start_time": "2021-12-11T18:03:55.257Z"
   },
   {
    "duration": 24,
    "start_time": "2021-12-11T18:03:55.280Z"
   },
   {
    "duration": 11,
    "start_time": "2021-12-11T18:03:55.306Z"
   },
   {
    "duration": 37,
    "start_time": "2021-12-11T18:03:55.319Z"
   },
   {
    "duration": 6,
    "start_time": "2021-12-11T18:03:55.359Z"
   },
   {
    "duration": 4,
    "start_time": "2021-12-11T18:03:55.367Z"
   },
   {
    "duration": 10,
    "start_time": "2021-12-11T18:03:55.373Z"
   },
   {
    "duration": 15,
    "start_time": "2021-12-11T18:03:55.384Z"
   },
   {
    "duration": 14,
    "start_time": "2021-12-11T18:03:55.401Z"
   },
   {
    "duration": 32,
    "start_time": "2021-12-11T18:03:55.445Z"
   },
   {
    "duration": 146,
    "start_time": "2021-12-11T18:03:55.478Z"
   },
   {
    "duration": 134,
    "start_time": "2021-12-11T18:03:55.626Z"
   },
   {
    "duration": 128,
    "start_time": "2021-12-11T18:03:55.762Z"
   },
   {
    "duration": 141,
    "start_time": "2021-12-11T18:03:55.892Z"
   },
   {
    "duration": 158,
    "start_time": "2021-12-11T18:03:56.035Z"
   },
   {
    "duration": 4,
    "start_time": "2021-12-11T18:03:56.194Z"
   },
   {
    "duration": 8,
    "start_time": "2021-12-11T18:03:56.200Z"
   },
   {
    "duration": 8,
    "start_time": "2021-12-11T18:03:56.210Z"
   },
   {
    "duration": 5,
    "start_time": "2021-12-11T18:03:56.220Z"
   },
   {
    "duration": 5,
    "start_time": "2021-12-11T18:03:56.245Z"
   },
   {
    "duration": 5,
    "start_time": "2021-12-11T18:03:56.252Z"
   },
   {
    "duration": 145,
    "start_time": "2021-12-11T18:03:56.258Z"
   },
   {
    "duration": 5,
    "start_time": "2021-12-11T18:03:56.406Z"
   },
   {
    "duration": 5,
    "start_time": "2021-12-11T18:03:56.413Z"
   },
   {
    "duration": 26,
    "start_time": "2021-12-11T18:03:56.420Z"
   },
   {
    "duration": 5,
    "start_time": "2021-12-11T18:03:56.448Z"
   },
   {
    "duration": 28,
    "start_time": "2021-12-11T18:03:56.455Z"
   },
   {
    "duration": 150,
    "start_time": "2021-12-11T18:03:56.485Z"
   },
   {
    "duration": 186,
    "start_time": "2021-12-11T18:03:56.637Z"
   },
   {
    "duration": 135,
    "start_time": "2021-12-11T18:03:56.825Z"
   },
   {
    "duration": 5,
    "start_time": "2021-12-11T18:08:00.765Z"
   },
   {
    "duration": 3,
    "start_time": "2021-12-11T18:08:03.238Z"
   },
   {
    "duration": 117,
    "start_time": "2021-12-11T18:08:03.244Z"
   },
   {
    "duration": 21,
    "start_time": "2021-12-11T18:08:03.363Z"
   },
   {
    "duration": 12,
    "start_time": "2021-12-11T18:08:03.387Z"
   },
   {
    "duration": 25,
    "start_time": "2021-12-11T18:08:03.401Z"
   },
   {
    "duration": 38,
    "start_time": "2021-12-11T18:08:03.427Z"
   },
   {
    "duration": 25,
    "start_time": "2021-12-11T18:08:03.467Z"
   },
   {
    "duration": 10,
    "start_time": "2021-12-11T18:08:03.494Z"
   },
   {
    "duration": 41,
    "start_time": "2021-12-11T18:08:03.506Z"
   },
   {
    "duration": 6,
    "start_time": "2021-12-11T18:08:03.550Z"
   },
   {
    "duration": 10,
    "start_time": "2021-12-11T18:08:03.558Z"
   },
   {
    "duration": 16,
    "start_time": "2021-12-11T18:08:03.570Z"
   },
   {
    "duration": 31,
    "start_time": "2021-12-11T18:08:03.588Z"
   },
   {
    "duration": 24,
    "start_time": "2021-12-11T18:08:03.621Z"
   },
   {
    "duration": 36,
    "start_time": "2021-12-11T18:08:03.647Z"
   },
   {
    "duration": 150,
    "start_time": "2021-12-11T18:08:03.685Z"
   },
   {
    "duration": 127,
    "start_time": "2021-12-11T18:08:03.844Z"
   },
   {
    "duration": 144,
    "start_time": "2021-12-11T18:08:03.973Z"
   },
   {
    "duration": 161,
    "start_time": "2021-12-11T18:08:04.119Z"
   },
   {
    "duration": 202,
    "start_time": "2021-12-11T18:08:04.282Z"
   },
   {
    "duration": 5,
    "start_time": "2021-12-11T18:08:04.486Z"
   },
   {
    "duration": 23,
    "start_time": "2021-12-11T18:08:04.493Z"
   },
   {
    "duration": 19,
    "start_time": "2021-12-11T18:08:04.518Z"
   },
   {
    "duration": 12,
    "start_time": "2021-12-11T18:08:04.539Z"
   },
   {
    "duration": 19,
    "start_time": "2021-12-11T18:08:04.554Z"
   },
   {
    "duration": 24,
    "start_time": "2021-12-11T18:08:04.575Z"
   },
   {
    "duration": 716,
    "start_time": "2021-12-11T18:08:41.010Z"
   },
   {
    "duration": 85,
    "start_time": "2021-12-11T18:08:41.728Z"
   },
   {
    "duration": 29,
    "start_time": "2021-12-11T18:08:41.815Z"
   },
   {
    "duration": 10,
    "start_time": "2021-12-11T18:08:41.847Z"
   },
   {
    "duration": 36,
    "start_time": "2021-12-11T18:08:41.859Z"
   },
   {
    "duration": 31,
    "start_time": "2021-12-11T18:08:41.897Z"
   },
   {
    "duration": 34,
    "start_time": "2021-12-11T18:08:41.929Z"
   },
   {
    "duration": 13,
    "start_time": "2021-12-11T18:08:41.965Z"
   },
   {
    "duration": 35,
    "start_time": "2021-12-11T18:08:41.980Z"
   },
   {
    "duration": 8,
    "start_time": "2021-12-11T18:08:42.017Z"
   },
   {
    "duration": 26,
    "start_time": "2021-12-11T18:08:42.026Z"
   },
   {
    "duration": 26,
    "start_time": "2021-12-11T18:08:42.054Z"
   },
   {
    "duration": 20,
    "start_time": "2021-12-11T18:08:42.082Z"
   },
   {
    "duration": 18,
    "start_time": "2021-12-11T18:08:42.104Z"
   },
   {
    "duration": 31,
    "start_time": "2021-12-11T18:08:42.124Z"
   },
   {
    "duration": 136,
    "start_time": "2021-12-11T18:08:42.157Z"
   },
   {
    "duration": 141,
    "start_time": "2021-12-11T18:08:42.294Z"
   },
   {
    "duration": 149,
    "start_time": "2021-12-11T18:08:42.437Z"
   },
   {
    "duration": 250,
    "start_time": "2021-12-11T18:08:42.588Z"
   },
   {
    "duration": 220,
    "start_time": "2021-12-11T18:08:42.843Z"
   },
   {
    "duration": 4,
    "start_time": "2021-12-11T18:08:43.065Z"
   },
   {
    "duration": 8,
    "start_time": "2021-12-11T18:08:43.071Z"
   },
   {
    "duration": 6,
    "start_time": "2021-12-11T18:08:43.081Z"
   },
   {
    "duration": 7,
    "start_time": "2021-12-11T18:08:43.089Z"
   },
   {
    "duration": 7,
    "start_time": "2021-12-11T18:08:43.097Z"
   },
   {
    "duration": 7,
    "start_time": "2021-12-11T18:08:43.145Z"
   },
   {
    "duration": 689,
    "start_time": "2021-12-11T18:10:06.672Z"
   },
   {
    "duration": 88,
    "start_time": "2021-12-11T18:10:07.363Z"
   },
   {
    "duration": 21,
    "start_time": "2021-12-11T18:10:07.453Z"
   },
   {
    "duration": 9,
    "start_time": "2021-12-11T18:10:07.476Z"
   },
   {
    "duration": 26,
    "start_time": "2021-12-11T18:10:07.487Z"
   },
   {
    "duration": 37,
    "start_time": "2021-12-11T18:10:07.515Z"
   },
   {
    "duration": 24,
    "start_time": "2021-12-11T18:10:07.554Z"
   },
   {
    "duration": 14,
    "start_time": "2021-12-11T18:10:07.580Z"
   },
   {
    "duration": 14,
    "start_time": "2021-12-11T18:10:07.596Z"
   },
   {
    "duration": 31,
    "start_time": "2021-12-11T18:10:07.613Z"
   },
   {
    "duration": 5,
    "start_time": "2021-12-11T18:10:07.646Z"
   },
   {
    "duration": 31,
    "start_time": "2021-12-11T18:10:07.652Z"
   },
   {
    "duration": 24,
    "start_time": "2021-12-11T18:10:07.685Z"
   },
   {
    "duration": 14,
    "start_time": "2021-12-11T18:10:07.710Z"
   },
   {
    "duration": 33,
    "start_time": "2021-12-11T18:10:07.726Z"
   },
   {
    "duration": 149,
    "start_time": "2021-12-11T18:10:07.761Z"
   },
   {
    "duration": 134,
    "start_time": "2021-12-11T18:10:07.912Z"
   },
   {
    "duration": 136,
    "start_time": "2021-12-11T18:10:08.047Z"
   },
   {
    "duration": 208,
    "start_time": "2021-12-11T18:10:08.185Z"
   },
   {
    "duration": 159,
    "start_time": "2021-12-11T18:10:08.395Z"
   },
   {
    "duration": 4,
    "start_time": "2021-12-11T18:10:08.555Z"
   },
   {
    "duration": 7,
    "start_time": "2021-12-11T18:10:08.561Z"
   },
   {
    "duration": 6,
    "start_time": "2021-12-11T18:10:08.570Z"
   },
   {
    "duration": 5,
    "start_time": "2021-12-11T18:10:08.578Z"
   },
   {
    "duration": 5,
    "start_time": "2021-12-11T18:10:08.585Z"
   },
   {
    "duration": 5,
    "start_time": "2021-12-11T18:10:08.592Z"
   },
   {
    "duration": 628,
    "start_time": "2021-12-11T18:12:13.583Z"
   },
   {
    "duration": 94,
    "start_time": "2021-12-11T18:12:14.213Z"
   },
   {
    "duration": 19,
    "start_time": "2021-12-11T18:12:14.311Z"
   },
   {
    "duration": 18,
    "start_time": "2021-12-11T18:12:14.333Z"
   },
   {
    "duration": 19,
    "start_time": "2021-12-11T18:12:14.352Z"
   },
   {
    "duration": 25,
    "start_time": "2021-12-11T18:12:14.373Z"
   },
   {
    "duration": 55,
    "start_time": "2021-12-11T18:12:14.400Z"
   },
   {
    "duration": 14,
    "start_time": "2021-12-11T18:12:14.458Z"
   },
   {
    "duration": 15,
    "start_time": "2021-12-11T18:12:14.474Z"
   },
   {
    "duration": 8,
    "start_time": "2021-12-11T18:12:14.490Z"
   },
   {
    "duration": 4,
    "start_time": "2021-12-11T18:12:14.500Z"
   },
   {
    "duration": 40,
    "start_time": "2021-12-11T18:12:14.506Z"
   },
   {
    "duration": 15,
    "start_time": "2021-12-11T18:12:14.547Z"
   },
   {
    "duration": 14,
    "start_time": "2021-12-11T18:12:14.563Z"
   },
   {
    "duration": 34,
    "start_time": "2021-12-11T18:12:14.579Z"
   },
   {
    "duration": 171,
    "start_time": "2021-12-11T18:12:14.615Z"
   },
   {
    "duration": 134,
    "start_time": "2021-12-11T18:12:14.788Z"
   },
   {
    "duration": 137,
    "start_time": "2021-12-11T18:12:14.924Z"
   },
   {
    "duration": 193,
    "start_time": "2021-12-11T18:12:15.063Z"
   },
   {
    "duration": 166,
    "start_time": "2021-12-11T18:12:15.258Z"
   },
   {
    "duration": 4,
    "start_time": "2021-12-11T18:12:15.426Z"
   },
   {
    "duration": 15,
    "start_time": "2021-12-11T18:12:15.433Z"
   },
   {
    "duration": 6,
    "start_time": "2021-12-11T18:12:15.451Z"
   },
   {
    "duration": 6,
    "start_time": "2021-12-11T18:12:15.459Z"
   },
   {
    "duration": 5,
    "start_time": "2021-12-11T18:12:15.467Z"
   },
   {
    "duration": 8,
    "start_time": "2021-12-11T18:12:15.474Z"
   },
   {
    "duration": 684,
    "start_time": "2021-12-11T18:13:39.812Z"
   },
   {
    "duration": 89,
    "start_time": "2021-12-11T18:13:40.498Z"
   },
   {
    "duration": 20,
    "start_time": "2021-12-11T18:13:40.590Z"
   },
   {
    "duration": 9,
    "start_time": "2021-12-11T18:13:40.612Z"
   },
   {
    "duration": 35,
    "start_time": "2021-12-11T18:13:40.622Z"
   },
   {
    "duration": 24,
    "start_time": "2021-12-11T18:13:40.659Z"
   },
   {
    "duration": 24,
    "start_time": "2021-12-11T18:13:40.685Z"
   },
   {
    "duration": 34,
    "start_time": "2021-12-11T18:13:40.711Z"
   },
   {
    "duration": 14,
    "start_time": "2021-12-11T18:13:40.748Z"
   },
   {
    "duration": 7,
    "start_time": "2021-12-11T18:13:40.763Z"
   },
   {
    "duration": 14,
    "start_time": "2021-12-11T18:13:40.771Z"
   },
   {
    "duration": 21,
    "start_time": "2021-12-11T18:13:40.787Z"
   },
   {
    "duration": 28,
    "start_time": "2021-12-11T18:13:40.809Z"
   },
   {
    "duration": 15,
    "start_time": "2021-12-11T18:13:40.838Z"
   },
   {
    "duration": 34,
    "start_time": "2021-12-11T18:13:40.855Z"
   },
   {
    "duration": 161,
    "start_time": "2021-12-11T18:13:40.891Z"
   },
   {
    "duration": 134,
    "start_time": "2021-12-11T18:13:41.053Z"
   },
   {
    "duration": 135,
    "start_time": "2021-12-11T18:13:41.189Z"
   },
   {
    "duration": 185,
    "start_time": "2021-12-11T18:13:41.326Z"
   },
   {
    "duration": 158,
    "start_time": "2021-12-11T18:13:41.512Z"
   },
   {
    "duration": 3,
    "start_time": "2021-12-11T18:13:41.672Z"
   },
   {
    "duration": 8,
    "start_time": "2021-12-11T18:13:41.677Z"
   },
   {
    "duration": 6,
    "start_time": "2021-12-11T18:13:41.686Z"
   },
   {
    "duration": 6,
    "start_time": "2021-12-11T18:13:41.694Z"
   },
   {
    "duration": 5,
    "start_time": "2021-12-11T18:13:41.701Z"
   },
   {
    "duration": 4,
    "start_time": "2021-12-11T18:13:41.708Z"
   },
   {
    "duration": 65,
    "start_time": "2021-12-11T18:13:41.715Z"
   },
   {
    "duration": 5,
    "start_time": "2021-12-11T18:13:41.782Z"
   },
   {
    "duration": 7,
    "start_time": "2021-12-11T18:13:41.789Z"
   },
   {
    "duration": 6,
    "start_time": "2021-12-11T18:13:41.797Z"
   },
   {
    "duration": 6,
    "start_time": "2021-12-11T18:13:41.805Z"
   },
   {
    "duration": 32,
    "start_time": "2021-12-11T18:13:41.845Z"
   },
   {
    "duration": 157,
    "start_time": "2021-12-11T18:13:41.878Z"
   },
   {
    "duration": 135,
    "start_time": "2021-12-11T18:13:42.036Z"
   },
   {
    "duration": 135,
    "start_time": "2021-12-11T18:13:42.172Z"
   },
   {
    "duration": 647,
    "start_time": "2021-12-11T18:14:46.785Z"
   },
   {
    "duration": 89,
    "start_time": "2021-12-11T18:14:47.434Z"
   },
   {
    "duration": 21,
    "start_time": "2021-12-11T18:14:47.525Z"
   },
   {
    "duration": 21,
    "start_time": "2021-12-11T18:14:47.548Z"
   },
   {
    "duration": 56,
    "start_time": "2021-12-11T18:14:47.570Z"
   },
   {
    "duration": 37,
    "start_time": "2021-12-11T18:14:47.628Z"
   },
   {
    "duration": 26,
    "start_time": "2021-12-11T18:14:47.667Z"
   },
   {
    "duration": 25,
    "start_time": "2021-12-11T18:14:47.695Z"
   },
   {
    "duration": 30,
    "start_time": "2021-12-11T18:14:47.723Z"
   },
   {
    "duration": 25,
    "start_time": "2021-12-11T18:14:47.756Z"
   },
   {
    "duration": 16,
    "start_time": "2021-12-11T18:14:47.783Z"
   },
   {
    "duration": 28,
    "start_time": "2021-12-11T18:14:47.800Z"
   },
   {
    "duration": 39,
    "start_time": "2021-12-11T18:14:47.830Z"
   },
   {
    "duration": 23,
    "start_time": "2021-12-11T18:14:47.871Z"
   },
   {
    "duration": 52,
    "start_time": "2021-12-11T18:14:47.896Z"
   },
   {
    "duration": 153,
    "start_time": "2021-12-11T18:14:47.950Z"
   },
   {
    "duration": 138,
    "start_time": "2021-12-11T18:14:48.105Z"
   },
   {
    "duration": 153,
    "start_time": "2021-12-11T18:14:48.245Z"
   },
   {
    "duration": 204,
    "start_time": "2021-12-11T18:14:48.400Z"
   },
   {
    "duration": 160,
    "start_time": "2021-12-11T18:14:48.605Z"
   },
   {
    "duration": 4,
    "start_time": "2021-12-11T18:14:48.766Z"
   },
   {
    "duration": 28,
    "start_time": "2021-12-11T18:14:48.771Z"
   },
   {
    "duration": 17,
    "start_time": "2021-12-11T18:14:48.801Z"
   },
   {
    "duration": 21,
    "start_time": "2021-12-11T18:14:48.820Z"
   },
   {
    "duration": 21,
    "start_time": "2021-12-11T18:14:48.843Z"
   },
   {
    "duration": 22,
    "start_time": "2021-12-11T18:14:48.865Z"
   },
   {
    "duration": 50,
    "start_time": "2021-12-11T18:14:48.890Z"
   },
   {
    "duration": 5,
    "start_time": "2021-12-11T18:14:48.942Z"
   },
   {
    "duration": 18,
    "start_time": "2021-12-11T18:14:48.948Z"
   },
   {
    "duration": 4,
    "start_time": "2021-12-11T18:14:48.968Z"
   },
   {
    "duration": 5,
    "start_time": "2021-12-11T18:14:48.974Z"
   },
   {
    "duration": 28,
    "start_time": "2021-12-11T18:14:48.981Z"
   },
   {
    "duration": 148,
    "start_time": "2021-12-11T18:14:49.011Z"
   },
   {
    "duration": 123,
    "start_time": "2021-12-11T18:14:49.160Z"
   },
   {
    "duration": 143,
    "start_time": "2021-12-11T18:14:49.285Z"
   },
   {
    "duration": 641,
    "start_time": "2021-12-11T18:15:58.955Z"
   },
   {
    "duration": 85,
    "start_time": "2021-12-11T18:15:59.598Z"
   },
   {
    "duration": 19,
    "start_time": "2021-12-11T18:15:59.686Z"
   },
   {
    "duration": 9,
    "start_time": "2021-12-11T18:15:59.706Z"
   },
   {
    "duration": 31,
    "start_time": "2021-12-11T18:15:59.717Z"
   },
   {
    "duration": 23,
    "start_time": "2021-12-11T18:15:59.750Z"
   },
   {
    "duration": 24,
    "start_time": "2021-12-11T18:15:59.774Z"
   },
   {
    "duration": 13,
    "start_time": "2021-12-11T18:15:59.800Z"
   },
   {
    "duration": 34,
    "start_time": "2021-12-11T18:15:59.816Z"
   },
   {
    "duration": 6,
    "start_time": "2021-12-11T18:15:59.852Z"
   },
   {
    "duration": 4,
    "start_time": "2021-12-11T18:15:59.860Z"
   },
   {
    "duration": 10,
    "start_time": "2021-12-11T18:15:59.865Z"
   },
   {
    "duration": 15,
    "start_time": "2021-12-11T18:15:59.876Z"
   },
   {
    "duration": 14,
    "start_time": "2021-12-11T18:15:59.893Z"
   },
   {
    "duration": 62,
    "start_time": "2021-12-11T18:15:59.909Z"
   },
   {
    "duration": 163,
    "start_time": "2021-12-11T18:15:59.973Z"
   },
   {
    "duration": 140,
    "start_time": "2021-12-11T18:16:00.138Z"
   },
   {
    "duration": 135,
    "start_time": "2021-12-11T18:16:00.280Z"
   },
   {
    "duration": 185,
    "start_time": "2021-12-11T18:16:00.417Z"
   },
   {
    "duration": 155,
    "start_time": "2021-12-11T18:16:00.604Z"
   },
   {
    "duration": 4,
    "start_time": "2021-12-11T18:16:00.761Z"
   },
   {
    "duration": 11,
    "start_time": "2021-12-11T18:16:00.766Z"
   },
   {
    "duration": 11,
    "start_time": "2021-12-11T18:16:00.779Z"
   },
   {
    "duration": 14,
    "start_time": "2021-12-11T18:16:00.791Z"
   },
   {
    "duration": 11,
    "start_time": "2021-12-11T18:16:00.806Z"
   },
   {
    "duration": 19,
    "start_time": "2021-12-11T18:16:00.819Z"
   },
   {
    "duration": 132,
    "start_time": "2021-12-11T18:16:00.841Z"
   },
   {
    "duration": 6,
    "start_time": "2021-12-11T18:16:00.975Z"
   },
   {
    "duration": 24,
    "start_time": "2021-12-11T18:16:00.982Z"
   },
   {
    "duration": 8,
    "start_time": "2021-12-11T18:16:01.008Z"
   },
   {
    "duration": 11,
    "start_time": "2021-12-11T18:16:01.017Z"
   },
   {
    "duration": 39,
    "start_time": "2021-12-11T18:16:01.029Z"
   },
   {
    "duration": 134,
    "start_time": "2021-12-11T18:16:01.070Z"
   },
   {
    "duration": 127,
    "start_time": "2021-12-11T18:16:01.206Z"
   },
   {
    "duration": 133,
    "start_time": "2021-12-11T18:16:01.335Z"
   },
   {
    "duration": 685,
    "start_time": "2021-12-11T18:18:32.250Z"
   },
   {
    "duration": 79,
    "start_time": "2021-12-11T18:18:32.936Z"
   },
   {
    "duration": 19,
    "start_time": "2021-12-11T18:18:33.017Z"
   },
   {
    "duration": 8,
    "start_time": "2021-12-11T18:18:33.044Z"
   },
   {
    "duration": 20,
    "start_time": "2021-12-11T18:18:33.054Z"
   },
   {
    "duration": 24,
    "start_time": "2021-12-11T18:18:33.075Z"
   },
   {
    "duration": 54,
    "start_time": "2021-12-11T18:18:33.101Z"
   },
   {
    "duration": 13,
    "start_time": "2021-12-11T18:18:33.157Z"
   },
   {
    "duration": 14,
    "start_time": "2021-12-11T18:18:33.173Z"
   },
   {
    "duration": 8,
    "start_time": "2021-12-11T18:18:33.189Z"
   },
   {
    "duration": 5,
    "start_time": "2021-12-11T18:18:33.199Z"
   },
   {
    "duration": 42,
    "start_time": "2021-12-11T18:18:33.205Z"
   },
   {
    "duration": 22,
    "start_time": "2021-12-11T18:18:33.249Z"
   },
   {
    "duration": 15,
    "start_time": "2021-12-11T18:18:33.274Z"
   },
   {
    "duration": 62,
    "start_time": "2021-12-11T18:18:33.291Z"
   },
   {
    "duration": 159,
    "start_time": "2021-12-11T18:18:33.355Z"
   },
   {
    "duration": 131,
    "start_time": "2021-12-11T18:18:33.516Z"
   },
   {
    "duration": 130,
    "start_time": "2021-12-11T18:18:33.648Z"
   },
   {
    "duration": 230,
    "start_time": "2021-12-11T18:18:33.780Z"
   },
   {
    "duration": 152,
    "start_time": "2021-12-11T18:18:34.012Z"
   },
   {
    "duration": 3,
    "start_time": "2021-12-11T18:18:34.166Z"
   },
   {
    "duration": 8,
    "start_time": "2021-12-11T18:18:34.171Z"
   },
   {
    "duration": 5,
    "start_time": "2021-12-11T18:18:34.181Z"
   },
   {
    "duration": 5,
    "start_time": "2021-12-11T18:18:34.188Z"
   },
   {
    "duration": 5,
    "start_time": "2021-12-11T18:18:34.195Z"
   },
   {
    "duration": 5,
    "start_time": "2021-12-11T18:18:34.202Z"
   },
   {
    "duration": 641,
    "start_time": "2021-12-11T18:18:34.210Z"
   },
   {
    "duration": -93,
    "start_time": "2021-12-11T18:18:34.946Z"
   },
   {
    "duration": -95,
    "start_time": "2021-12-11T18:18:34.949Z"
   },
   {
    "duration": -97,
    "start_time": "2021-12-11T18:18:34.952Z"
   },
   {
    "duration": -98,
    "start_time": "2021-12-11T18:18:34.954Z"
   },
   {
    "duration": -100,
    "start_time": "2021-12-11T18:18:34.956Z"
   },
   {
    "duration": -247,
    "start_time": "2021-12-11T18:18:35.104Z"
   },
   {
    "duration": -249,
    "start_time": "2021-12-11T18:18:35.107Z"
   },
   {
    "duration": -251,
    "start_time": "2021-12-11T18:18:35.110Z"
   },
   {
    "duration": 622,
    "start_time": "2021-12-11T18:19:16.977Z"
   },
   {
    "duration": 81,
    "start_time": "2021-12-11T18:19:17.600Z"
   },
   {
    "duration": 20,
    "start_time": "2021-12-11T18:19:17.683Z"
   },
   {
    "duration": 52,
    "start_time": "2021-12-11T18:19:17.705Z"
   },
   {
    "duration": 37,
    "start_time": "2021-12-11T18:19:17.759Z"
   },
   {
    "duration": 39,
    "start_time": "2021-12-11T18:19:17.798Z"
   },
   {
    "duration": 34,
    "start_time": "2021-12-11T18:19:17.839Z"
   },
   {
    "duration": 14,
    "start_time": "2021-12-11T18:19:17.875Z"
   },
   {
    "duration": 38,
    "start_time": "2021-12-11T18:19:17.891Z"
   },
   {
    "duration": 15,
    "start_time": "2021-12-11T18:19:17.931Z"
   },
   {
    "duration": 18,
    "start_time": "2021-12-11T18:19:17.948Z"
   },
   {
    "duration": 31,
    "start_time": "2021-12-11T18:19:17.968Z"
   },
   {
    "duration": 34,
    "start_time": "2021-12-11T18:19:18.001Z"
   },
   {
    "duration": 28,
    "start_time": "2021-12-11T18:19:18.037Z"
   },
   {
    "duration": 64,
    "start_time": "2021-12-11T18:19:18.066Z"
   },
   {
    "duration": 137,
    "start_time": "2021-12-11T18:19:18.132Z"
   },
   {
    "duration": 144,
    "start_time": "2021-12-11T18:19:18.271Z"
   },
   {
    "duration": 140,
    "start_time": "2021-12-11T18:19:18.417Z"
   },
   {
    "duration": 184,
    "start_time": "2021-12-11T18:19:18.558Z"
   },
   {
    "duration": 155,
    "start_time": "2021-12-11T18:19:18.743Z"
   },
   {
    "duration": 4,
    "start_time": "2021-12-11T18:19:18.899Z"
   },
   {
    "duration": 59,
    "start_time": "2021-12-11T18:19:18.904Z"
   },
   {
    "duration": 38,
    "start_time": "2021-12-11T18:19:18.964Z"
   },
   {
    "duration": 36,
    "start_time": "2021-12-11T18:19:19.003Z"
   },
   {
    "duration": 35,
    "start_time": "2021-12-11T18:19:19.040Z"
   },
   {
    "duration": 34,
    "start_time": "2021-12-11T18:19:19.077Z"
   },
   {
    "duration": 176,
    "start_time": "2021-12-11T18:19:19.114Z"
   },
   {
    "duration": 5,
    "start_time": "2021-12-11T18:19:19.292Z"
   },
   {
    "duration": 52,
    "start_time": "2021-12-11T18:19:19.298Z"
   },
   {
    "duration": 26,
    "start_time": "2021-12-11T18:19:19.352Z"
   },
   {
    "duration": 29,
    "start_time": "2021-12-11T18:19:19.380Z"
   },
   {
    "duration": 75,
    "start_time": "2021-12-11T18:19:19.410Z"
   },
   {
    "duration": 169,
    "start_time": "2021-12-11T18:19:19.487Z"
   },
   {
    "duration": 141,
    "start_time": "2021-12-11T18:19:19.658Z"
   },
   {
    "duration": 194,
    "start_time": "2021-12-11T18:19:19.801Z"
   },
   {
    "duration": 1319,
    "start_time": "2021-12-12T01:30:18.357Z"
   },
   {
    "duration": 114,
    "start_time": "2021-12-12T01:30:19.679Z"
   },
   {
    "duration": 29,
    "start_time": "2021-12-12T01:30:19.796Z"
   },
   {
    "duration": 13,
    "start_time": "2021-12-12T01:30:19.828Z"
   },
   {
    "duration": 26,
    "start_time": "2021-12-12T01:30:19.843Z"
   },
   {
    "duration": 67,
    "start_time": "2021-12-12T01:30:19.871Z"
   },
   {
    "duration": 33,
    "start_time": "2021-12-12T01:30:19.941Z"
   },
   {
    "duration": 40,
    "start_time": "2021-12-12T01:30:19.978Z"
   },
   {
    "duration": 21,
    "start_time": "2021-12-12T01:30:20.021Z"
   },
   {
    "duration": 11,
    "start_time": "2021-12-12T01:30:20.045Z"
   },
   {
    "duration": 6,
    "start_time": "2021-12-12T01:30:20.058Z"
   },
   {
    "duration": 13,
    "start_time": "2021-12-12T01:30:20.066Z"
   },
   {
    "duration": 54,
    "start_time": "2021-12-12T01:30:20.081Z"
   },
   {
    "duration": 23,
    "start_time": "2021-12-12T01:30:20.137Z"
   },
   {
    "duration": 80,
    "start_time": "2021-12-12T01:30:20.163Z"
   },
   {
    "duration": 240,
    "start_time": "2021-12-12T01:30:20.245Z"
   },
   {
    "duration": 213,
    "start_time": "2021-12-12T01:30:20.487Z"
   },
   {
    "duration": 217,
    "start_time": "2021-12-12T01:30:20.702Z"
   },
   {
    "duration": 295,
    "start_time": "2021-12-12T01:30:20.922Z"
   },
   {
    "duration": 256,
    "start_time": "2021-12-12T01:30:21.219Z"
   },
   {
    "duration": 7,
    "start_time": "2021-12-12T01:30:21.478Z"
   },
   {
    "duration": 31,
    "start_time": "2021-12-12T01:30:21.488Z"
   },
   {
    "duration": 9,
    "start_time": "2021-12-12T01:30:21.525Z"
   },
   {
    "duration": 9,
    "start_time": "2021-12-12T01:30:21.538Z"
   },
   {
    "duration": 10,
    "start_time": "2021-12-12T01:30:21.550Z"
   },
   {
    "duration": 55,
    "start_time": "2021-12-12T01:30:21.562Z"
   },
   {
    "duration": 215,
    "start_time": "2021-12-12T01:30:21.621Z"
   },
   {
    "duration": 9,
    "start_time": "2021-12-12T01:30:21.839Z"
   },
   {
    "duration": 8,
    "start_time": "2021-12-12T01:30:21.850Z"
   },
   {
    "duration": 10,
    "start_time": "2021-12-12T01:30:21.860Z"
   },
   {
    "duration": 7,
    "start_time": "2021-12-12T01:30:21.872Z"
   },
   {
    "duration": 76,
    "start_time": "2021-12-12T01:30:21.882Z"
   },
   {
    "duration": 231,
    "start_time": "2021-12-12T01:30:21.960Z"
   },
   {
    "duration": 207,
    "start_time": "2021-12-12T01:30:22.194Z"
   },
   {
    "duration": 223,
    "start_time": "2021-12-12T01:30:22.404Z"
   },
   {
    "duration": 23,
    "start_time": "2021-12-12T01:31:34.239Z"
   },
   {
    "duration": 38,
    "start_time": "2021-12-12T01:38:15.395Z"
   },
   {
    "duration": 5,
    "start_time": "2021-12-12T01:40:49.068Z"
   },
   {
    "duration": 22,
    "start_time": "2021-12-12T01:41:25.594Z"
   },
   {
    "duration": 16,
    "start_time": "2021-12-12T01:41:38.219Z"
   },
   {
    "duration": 22,
    "start_time": "2021-12-12T01:41:51.644Z"
   },
   {
    "duration": 860,
    "start_time": "2021-12-12T02:01:34.743Z"
   },
   {
    "duration": 119,
    "start_time": "2021-12-12T02:01:35.605Z"
   },
   {
    "duration": 26,
    "start_time": "2021-12-12T02:01:35.727Z"
   },
   {
    "duration": 14,
    "start_time": "2021-12-12T02:01:35.755Z"
   },
   {
    "duration": 55,
    "start_time": "2021-12-12T02:01:35.771Z"
   },
   {
    "duration": 35,
    "start_time": "2021-12-12T02:01:35.828Z"
   },
   {
    "duration": 54,
    "start_time": "2021-12-12T02:01:35.866Z"
   },
   {
    "duration": 19,
    "start_time": "2021-12-12T02:01:35.924Z"
   },
   {
    "duration": 22,
    "start_time": "2021-12-12T02:01:35.946Z"
   },
   {
    "duration": 11,
    "start_time": "2021-12-12T02:01:35.970Z"
   },
   {
    "duration": 5,
    "start_time": "2021-12-12T02:01:36.018Z"
   },
   {
    "duration": 13,
    "start_time": "2021-12-12T02:01:36.025Z"
   },
   {
    "duration": 38,
    "start_time": "2021-12-12T02:01:36.040Z"
   },
   {
    "duration": 4,
    "start_time": "2021-12-12T02:01:36.080Z"
   },
   {
    "duration": 55,
    "start_time": "2021-12-12T02:01:36.086Z"
   },
   {
    "duration": 18,
    "start_time": "2021-12-12T02:01:36.144Z"
   },
   {
    "duration": 53,
    "start_time": "2021-12-12T02:01:36.164Z"
   },
   {
    "duration": 52,
    "start_time": "2021-12-12T02:01:36.220Z"
   },
   {
    "duration": 250,
    "start_time": "2021-12-12T02:01:36.275Z"
   },
   {
    "duration": 213,
    "start_time": "2021-12-12T02:01:36.527Z"
   },
   {
    "duration": 221,
    "start_time": "2021-12-12T02:01:36.743Z"
   },
   {
    "duration": 288,
    "start_time": "2021-12-12T02:01:36.966Z"
   },
   {
    "duration": 240,
    "start_time": "2021-12-12T02:01:37.259Z"
   },
   {
    "duration": 6,
    "start_time": "2021-12-12T02:01:37.502Z"
   },
   {
    "duration": 8,
    "start_time": "2021-12-12T02:01:37.517Z"
   },
   {
    "duration": 9,
    "start_time": "2021-12-12T02:01:37.527Z"
   },
   {
    "duration": 8,
    "start_time": "2021-12-12T02:01:37.538Z"
   },
   {
    "duration": 12,
    "start_time": "2021-12-12T02:01:37.548Z"
   },
   {
    "duration": 9,
    "start_time": "2021-12-12T02:01:37.562Z"
   },
   {
    "duration": 203,
    "start_time": "2021-12-12T02:01:37.618Z"
   },
   {
    "duration": 7,
    "start_time": "2021-12-12T02:01:37.823Z"
   },
   {
    "duration": 8,
    "start_time": "2021-12-12T02:01:37.833Z"
   },
   {
    "duration": 8,
    "start_time": "2021-12-12T02:01:37.843Z"
   },
   {
    "duration": 7,
    "start_time": "2021-12-12T02:01:37.854Z"
   },
   {
    "duration": 99,
    "start_time": "2021-12-12T02:01:37.863Z"
   },
   {
    "duration": 233,
    "start_time": "2021-12-12T02:01:37.964Z"
   },
   {
    "duration": 204,
    "start_time": "2021-12-12T02:01:38.199Z"
   },
   {
    "duration": 239,
    "start_time": "2021-12-12T02:01:38.405Z"
   },
   {
    "duration": 964,
    "start_time": "2021-12-12T02:12:35.213Z"
   },
   {
    "duration": 115,
    "start_time": "2021-12-12T02:12:36.179Z"
   },
   {
    "duration": 34,
    "start_time": "2021-12-12T02:12:36.297Z"
   },
   {
    "duration": 13,
    "start_time": "2021-12-12T02:12:36.334Z"
   },
   {
    "duration": 30,
    "start_time": "2021-12-12T02:12:36.350Z"
   },
   {
    "duration": 60,
    "start_time": "2021-12-12T02:12:36.382Z"
   },
   {
    "duration": 34,
    "start_time": "2021-12-12T02:12:36.444Z"
   },
   {
    "duration": 39,
    "start_time": "2021-12-12T02:12:36.481Z"
   },
   {
    "duration": 22,
    "start_time": "2021-12-12T02:12:36.524Z"
   },
   {
    "duration": 10,
    "start_time": "2021-12-12T02:12:36.549Z"
   },
   {
    "duration": 5,
    "start_time": "2021-12-12T02:12:36.562Z"
   },
   {
    "duration": 49,
    "start_time": "2021-12-12T02:12:36.570Z"
   },
   {
    "duration": 39,
    "start_time": "2021-12-12T02:12:36.621Z"
   },
   {
    "duration": 5,
    "start_time": "2021-12-12T02:12:36.662Z"
   },
   {
    "duration": 55,
    "start_time": "2021-12-12T02:12:36.669Z"
   },
   {
    "duration": 17,
    "start_time": "2021-12-12T02:12:36.727Z"
   },
   {
    "duration": 22,
    "start_time": "2021-12-12T02:12:36.747Z"
   },
   {
    "duration": 80,
    "start_time": "2021-12-12T02:12:36.771Z"
   },
   {
    "duration": 245,
    "start_time": "2021-12-12T02:12:36.854Z"
   },
   {
    "duration": 218,
    "start_time": "2021-12-12T02:12:37.101Z"
   },
   {
    "duration": 227,
    "start_time": "2021-12-12T02:12:37.321Z"
   },
   {
    "duration": 300,
    "start_time": "2021-12-12T02:12:37.550Z"
   },
   {
    "duration": 246,
    "start_time": "2021-12-12T02:12:37.853Z"
   },
   {
    "duration": 15,
    "start_time": "2021-12-12T02:12:38.102Z"
   },
   {
    "duration": 7,
    "start_time": "2021-12-12T02:12:38.119Z"
   },
   {
    "duration": 14,
    "start_time": "2021-12-12T02:12:38.129Z"
   },
   {
    "duration": 13,
    "start_time": "2021-12-12T02:12:38.147Z"
   },
   {
    "duration": 8,
    "start_time": "2021-12-12T02:12:38.162Z"
   },
   {
    "duration": 245,
    "start_time": "2021-12-12T02:12:38.172Z"
   },
   {
    "duration": 7,
    "start_time": "2021-12-12T02:12:38.419Z"
   },
   {
    "duration": 9,
    "start_time": "2021-12-12T02:12:38.428Z"
   },
   {
    "duration": 9,
    "start_time": "2021-12-12T02:12:38.439Z"
   },
   {
    "duration": 7,
    "start_time": "2021-12-12T02:12:38.450Z"
   },
   {
    "duration": 94,
    "start_time": "2021-12-12T02:12:38.459Z"
   },
   {
    "duration": 241,
    "start_time": "2021-12-12T02:12:38.556Z"
   },
   {
    "duration": 210,
    "start_time": "2021-12-12T02:12:38.800Z"
   },
   {
    "duration": 238,
    "start_time": "2021-12-12T02:12:39.017Z"
   },
   {
    "duration": 139,
    "start_time": "2021-12-12T02:13:16.314Z"
   },
   {
    "duration": 9,
    "start_time": "2021-12-12T02:13:19.219Z"
   },
   {
    "duration": 9,
    "start_time": "2021-12-12T02:13:24.873Z"
   },
   {
    "duration": 9,
    "start_time": "2021-12-12T02:13:27.329Z"
   },
   {
    "duration": 8,
    "start_time": "2021-12-12T02:13:29.647Z"
   },
   {
    "duration": 50,
    "start_time": "2021-12-12T02:14:08.573Z"
   },
   {
    "duration": 4,
    "start_time": "2021-12-12T02:14:14.394Z"
   },
   {
    "duration": 138,
    "start_time": "2021-12-12T02:14:14.400Z"
   },
   {
    "duration": 25,
    "start_time": "2021-12-12T02:14:14.541Z"
   },
   {
    "duration": 16,
    "start_time": "2021-12-12T02:14:14.569Z"
   },
   {
    "duration": 41,
    "start_time": "2021-12-12T02:14:14.588Z"
   },
   {
    "duration": 32,
    "start_time": "2021-12-12T02:14:14.632Z"
   },
   {
    "duration": 56,
    "start_time": "2021-12-12T02:14:14.667Z"
   },
   {
    "duration": 17,
    "start_time": "2021-12-12T02:14:14.725Z"
   },
   {
    "duration": 21,
    "start_time": "2021-12-12T02:14:14.746Z"
   },
   {
    "duration": 10,
    "start_time": "2021-12-12T02:14:14.770Z"
   },
   {
    "duration": 5,
    "start_time": "2021-12-12T02:14:14.818Z"
   },
   {
    "duration": 15,
    "start_time": "2021-12-12T02:14:14.826Z"
   },
   {
    "duration": 46,
    "start_time": "2021-12-12T02:14:14.844Z"
   },
   {
    "duration": 25,
    "start_time": "2021-12-12T02:14:14.892Z"
   },
   {
    "duration": 29,
    "start_time": "2021-12-12T02:14:14.920Z"
   },
   {
    "duration": 18,
    "start_time": "2021-12-12T02:14:14.952Z"
   },
   {
    "duration": 21,
    "start_time": "2021-12-12T02:14:14.972Z"
   },
   {
    "duration": 52,
    "start_time": "2021-12-12T02:14:15.018Z"
   },
   {
    "duration": 251,
    "start_time": "2021-12-12T02:14:15.073Z"
   },
   {
    "duration": 216,
    "start_time": "2021-12-12T02:14:15.326Z"
   },
   {
    "duration": 229,
    "start_time": "2021-12-12T02:14:15.544Z"
   },
   {
    "duration": 244,
    "start_time": "2021-12-12T02:14:15.775Z"
   },
   {
    "duration": 235,
    "start_time": "2021-12-12T02:14:16.021Z"
   },
   {
    "duration": 6,
    "start_time": "2021-12-12T02:14:16.258Z"
   },
   {
    "duration": 9,
    "start_time": "2021-12-12T02:14:16.267Z"
   },
   {
    "duration": 8,
    "start_time": "2021-12-12T02:14:16.278Z"
   },
   {
    "duration": 8,
    "start_time": "2021-12-12T02:14:16.320Z"
   },
   {
    "duration": 7,
    "start_time": "2021-12-12T02:14:16.330Z"
   },
   {
    "duration": 193,
    "start_time": "2021-12-12T02:14:16.339Z"
   },
   {
    "duration": 7,
    "start_time": "2021-12-12T02:14:16.535Z"
   },
   {
    "duration": 13,
    "start_time": "2021-12-12T02:14:16.544Z"
   },
   {
    "duration": 10,
    "start_time": "2021-12-12T02:14:16.560Z"
   },
   {
    "duration": 8,
    "start_time": "2021-12-12T02:14:16.573Z"
   },
   {
    "duration": 52,
    "start_time": "2021-12-12T02:14:28.051Z"
   },
   {
    "duration": 209,
    "start_time": "2021-12-12T02:14:30.392Z"
   },
   {
    "duration": 383,
    "start_time": "2021-12-12T02:14:36.011Z"
   },
   {
    "duration": 212,
    "start_time": "2021-12-12T02:14:38.827Z"
   },
   {
    "duration": 12,
    "start_time": "2021-12-12T02:21:08.014Z"
   },
   {
    "duration": 208,
    "start_time": "2021-12-12T02:21:44.933Z"
   },
   {
    "duration": 16,
    "start_time": "2021-12-12T02:27:16.789Z"
   },
   {
    "duration": 412,
    "start_time": "2021-12-12T02:30:56.271Z"
   },
   {
    "duration": 607,
    "start_time": "2021-12-12T02:31:01.753Z"
   },
   {
    "duration": 117,
    "start_time": "2021-12-12T02:31:02.362Z"
   },
   {
    "duration": 25,
    "start_time": "2021-12-12T02:31:02.481Z"
   },
   {
    "duration": 18,
    "start_time": "2021-12-12T02:31:02.509Z"
   },
   {
    "duration": 24,
    "start_time": "2021-12-12T02:31:02.529Z"
   },
   {
    "duration": 61,
    "start_time": "2021-12-12T02:31:02.556Z"
   },
   {
    "duration": 34,
    "start_time": "2021-12-12T02:31:02.619Z"
   },
   {
    "duration": 16,
    "start_time": "2021-12-12T02:31:02.657Z"
   },
   {
    "duration": 48,
    "start_time": "2021-12-12T02:31:02.676Z"
   },
   {
    "duration": 9,
    "start_time": "2021-12-12T02:31:02.726Z"
   },
   {
    "duration": 5,
    "start_time": "2021-12-12T02:31:02.737Z"
   },
   {
    "duration": 13,
    "start_time": "2021-12-12T02:31:02.744Z"
   },
   {
    "duration": 71,
    "start_time": "2021-12-12T02:31:02.759Z"
   },
   {
    "duration": 4,
    "start_time": "2021-12-12T02:31:02.832Z"
   },
   {
    "duration": 27,
    "start_time": "2021-12-12T02:31:02.839Z"
   },
   {
    "duration": 16,
    "start_time": "2021-12-12T02:31:02.869Z"
   },
   {
    "duration": 48,
    "start_time": "2021-12-12T02:31:02.888Z"
   },
   {
    "duration": 53,
    "start_time": "2021-12-12T02:31:02.938Z"
   },
   {
    "duration": 318,
    "start_time": "2021-12-12T02:31:03.018Z"
   },
   {
    "duration": 220,
    "start_time": "2021-12-12T02:31:03.339Z"
   },
   {
    "duration": 223,
    "start_time": "2021-12-12T02:31:03.562Z"
   },
   {
    "duration": 253,
    "start_time": "2021-12-12T02:31:03.789Z"
   },
   {
    "duration": 252,
    "start_time": "2021-12-12T02:31:04.049Z"
   },
   {
    "duration": 5,
    "start_time": "2021-12-12T02:31:04.304Z"
   },
   {
    "duration": 8,
    "start_time": "2021-12-12T02:31:04.317Z"
   },
   {
    "duration": 7,
    "start_time": "2021-12-12T02:31:04.328Z"
   },
   {
    "duration": 7,
    "start_time": "2021-12-12T02:31:04.338Z"
   },
   {
    "duration": 7,
    "start_time": "2021-12-12T02:31:04.347Z"
   },
   {
    "duration": 208,
    "start_time": "2021-12-12T02:31:04.356Z"
   },
   {
    "duration": 7,
    "start_time": "2021-12-12T02:31:04.566Z"
   },
   {
    "duration": 12,
    "start_time": "2021-12-12T02:31:04.575Z"
   },
   {
    "duration": 32,
    "start_time": "2021-12-12T02:31:04.589Z"
   },
   {
    "duration": 12,
    "start_time": "2021-12-12T02:31:04.624Z"
   },
   {
    "duration": 50,
    "start_time": "2021-12-12T02:31:04.638Z"
   },
   {
    "duration": 263,
    "start_time": "2021-12-12T02:31:04.691Z"
   },
   {
    "duration": 227,
    "start_time": "2021-12-12T02:31:04.956Z"
   },
   {
    "duration": 235,
    "start_time": "2021-12-12T02:31:05.185Z"
   },
   {
    "duration": 12,
    "start_time": "2021-12-12T02:31:05.422Z"
   },
   {
    "duration": 227,
    "start_time": "2021-12-12T02:31:05.436Z"
   },
   {
    "duration": 3173,
    "start_time": "2021-12-12T02:31:05.665Z"
   },
   {
    "duration": 457,
    "start_time": "2021-12-12T02:31:52.792Z"
   },
   {
    "duration": 708,
    "start_time": "2021-12-12T02:33:02.149Z"
   },
   {
    "duration": 36,
    "start_time": "2021-12-12T02:40:25.787Z"
   },
   {
    "duration": 27,
    "start_time": "2021-12-12T02:41:52.013Z"
   },
   {
    "duration": 31,
    "start_time": "2021-12-12T02:42:09.763Z"
   },
   {
    "duration": 29,
    "start_time": "2021-12-12T02:42:46.636Z"
   },
   {
    "duration": 350,
    "start_time": "2021-12-12T02:44:38.325Z"
   },
   {
    "duration": 460,
    "start_time": "2021-12-12T02:44:55.573Z"
   },
   {
    "duration": 667,
    "start_time": "2021-12-12T02:46:40.936Z"
   },
   {
    "duration": 3,
    "start_time": "2021-12-12T13:10:49.921Z"
   },
   {
    "duration": 1067,
    "start_time": "2021-12-12T13:12:03.249Z"
   },
   {
    "duration": 81,
    "start_time": "2021-12-12T13:12:04.317Z"
   },
   {
    "duration": 19,
    "start_time": "2021-12-12T13:12:04.400Z"
   },
   {
    "duration": 8,
    "start_time": "2021-12-12T13:12:04.421Z"
   },
   {
    "duration": 20,
    "start_time": "2021-12-12T13:12:04.430Z"
   },
   {
    "duration": 23,
    "start_time": "2021-12-12T13:12:04.463Z"
   },
   {
    "duration": 24,
    "start_time": "2021-12-12T13:12:04.488Z"
   },
   {
    "duration": 13,
    "start_time": "2021-12-12T13:12:04.514Z"
   },
   {
    "duration": 39,
    "start_time": "2021-12-12T13:12:04.529Z"
   },
   {
    "duration": 6,
    "start_time": "2021-12-12T13:12:04.570Z"
   },
   {
    "duration": 5,
    "start_time": "2021-12-12T13:12:04.578Z"
   },
   {
    "duration": 9,
    "start_time": "2021-12-12T13:12:04.584Z"
   },
   {
    "duration": 23,
    "start_time": "2021-12-12T13:12:04.594Z"
   },
   {
    "duration": 3,
    "start_time": "2021-12-12T13:12:04.619Z"
   },
   {
    "duration": 45,
    "start_time": "2021-12-12T13:12:04.623Z"
   },
   {
    "duration": 13,
    "start_time": "2021-12-12T13:12:04.669Z"
   },
   {
    "duration": 14,
    "start_time": "2021-12-12T13:12:04.683Z"
   },
   {
    "duration": 36,
    "start_time": "2021-12-12T13:12:04.699Z"
   },
   {
    "duration": 152,
    "start_time": "2021-12-12T13:12:04.736Z"
   },
   {
    "duration": 122,
    "start_time": "2021-12-12T13:12:04.889Z"
   },
   {
    "duration": 134,
    "start_time": "2021-12-12T13:12:05.013Z"
   },
   {
    "duration": 143,
    "start_time": "2021-12-12T13:12:05.148Z"
   },
   {
    "duration": 145,
    "start_time": "2021-12-12T13:12:05.292Z"
   },
   {
    "duration": 3,
    "start_time": "2021-12-12T13:12:05.439Z"
   },
   {
    "duration": 8,
    "start_time": "2021-12-12T13:12:05.444Z"
   },
   {
    "duration": 14,
    "start_time": "2021-12-12T13:12:05.453Z"
   },
   {
    "duration": 5,
    "start_time": "2021-12-12T13:12:05.471Z"
   },
   {
    "duration": 6,
    "start_time": "2021-12-12T13:12:05.478Z"
   },
   {
    "duration": 126,
    "start_time": "2021-12-12T13:12:05.486Z"
   },
   {
    "duration": 5,
    "start_time": "2021-12-12T13:12:05.614Z"
   },
   {
    "duration": 5,
    "start_time": "2021-12-12T13:12:05.621Z"
   },
   {
    "duration": 7,
    "start_time": "2021-12-12T13:12:05.627Z"
   },
   {
    "duration": 7,
    "start_time": "2021-12-12T13:12:05.635Z"
   },
   {
    "duration": 50,
    "start_time": "2021-12-12T13:12:05.644Z"
   },
   {
    "duration": 144,
    "start_time": "2021-12-12T13:12:05.696Z"
   },
   {
    "duration": 124,
    "start_time": "2021-12-12T13:12:05.841Z"
   },
   {
    "duration": 199,
    "start_time": "2021-12-12T13:12:05.967Z"
   },
   {
    "duration": 9,
    "start_time": "2021-12-12T13:12:06.167Z"
   },
   {
    "duration": 151,
    "start_time": "2021-12-12T13:12:06.178Z"
   },
   {
    "duration": 486,
    "start_time": "2021-12-12T13:12:06.331Z"
   },
   {
    "duration": 21,
    "start_time": "2021-12-12T13:12:06.819Z"
   },
   {
    "duration": 203,
    "start_time": "2021-12-12T13:12:06.841Z"
   },
   {
    "duration": 455,
    "start_time": "2021-12-12T13:12:07.046Z"
   },
   {
    "duration": 170,
    "start_time": "2021-12-12T13:12:22.966Z"
   },
   {
    "duration": 167,
    "start_time": "2021-12-12T13:13:10.378Z"
   },
   {
    "duration": 168,
    "start_time": "2021-12-12T13:14:26.484Z"
   },
   {
    "duration": 171,
    "start_time": "2021-12-12T13:15:24.011Z"
   },
   {
    "duration": 639,
    "start_time": "2021-12-12T13:18:21.163Z"
   },
   {
    "duration": 444,
    "start_time": "2021-12-12T13:18:59.778Z"
   },
   {
    "duration": 471,
    "start_time": "2021-12-12T13:20:11.425Z"
   },
   {
    "duration": 28,
    "start_time": "2021-12-12T13:32:04.579Z"
   },
   {
    "duration": 29,
    "start_time": "2021-12-12T13:33:10.437Z"
   },
   {
    "duration": 349,
    "start_time": "2021-12-12T13:38:16.543Z"
   },
   {
    "duration": 3,
    "start_time": "2021-12-12T13:38:52.899Z"
   },
   {
    "duration": 82,
    "start_time": "2021-12-12T13:38:52.907Z"
   },
   {
    "duration": 18,
    "start_time": "2021-12-12T13:38:52.991Z"
   },
   {
    "duration": 8,
    "start_time": "2021-12-12T13:38:53.011Z"
   },
   {
    "duration": 18,
    "start_time": "2021-12-12T13:38:53.021Z"
   },
   {
    "duration": 23,
    "start_time": "2021-12-12T13:38:53.063Z"
   },
   {
    "duration": 23,
    "start_time": "2021-12-12T13:38:53.088Z"
   },
   {
    "duration": 12,
    "start_time": "2021-12-12T13:38:53.113Z"
   },
   {
    "duration": 42,
    "start_time": "2021-12-12T13:38:53.126Z"
   },
   {
    "duration": 5,
    "start_time": "2021-12-12T13:38:53.171Z"
   },
   {
    "duration": 4,
    "start_time": "2021-12-12T13:38:53.178Z"
   },
   {
    "duration": 10,
    "start_time": "2021-12-12T13:38:53.183Z"
   },
   {
    "duration": 26,
    "start_time": "2021-12-12T13:38:53.195Z"
   },
   {
    "duration": 3,
    "start_time": "2021-12-12T13:38:53.222Z"
   },
   {
    "duration": 42,
    "start_time": "2021-12-12T13:38:53.227Z"
   },
   {
    "duration": 11,
    "start_time": "2021-12-12T13:38:53.271Z"
   },
   {
    "duration": 12,
    "start_time": "2021-12-12T13:38:53.284Z"
   },
   {
    "duration": 33,
    "start_time": "2021-12-12T13:38:53.298Z"
   },
   {
    "duration": 154,
    "start_time": "2021-12-12T13:38:53.332Z"
   },
   {
    "duration": 126,
    "start_time": "2021-12-12T13:38:53.487Z"
   },
   {
    "duration": 129,
    "start_time": "2021-12-12T13:38:53.615Z"
   },
   {
    "duration": 136,
    "start_time": "2021-12-12T13:38:53.745Z"
   },
   {
    "duration": 134,
    "start_time": "2021-12-12T13:38:53.883Z"
   },
   {
    "duration": 4,
    "start_time": "2021-12-12T13:38:54.018Z"
   },
   {
    "duration": 33,
    "start_time": "2021-12-12T13:38:54.023Z"
   },
   {
    "duration": 20,
    "start_time": "2021-12-12T13:38:54.057Z"
   },
   {
    "duration": 16,
    "start_time": "2021-12-12T13:38:54.078Z"
   },
   {
    "duration": 19,
    "start_time": "2021-12-12T13:38:54.097Z"
   },
   {
    "duration": 107,
    "start_time": "2021-12-12T13:38:54.118Z"
   },
   {
    "duration": 4,
    "start_time": "2021-12-12T13:38:54.227Z"
   },
   {
    "duration": 17,
    "start_time": "2021-12-12T13:38:54.233Z"
   },
   {
    "duration": 21,
    "start_time": "2021-12-12T13:38:54.252Z"
   },
   {
    "duration": 10,
    "start_time": "2021-12-12T13:38:54.274Z"
   },
   {
    "duration": 48,
    "start_time": "2021-12-12T13:38:54.285Z"
   },
   {
    "duration": 174,
    "start_time": "2021-12-12T13:38:54.334Z"
   },
   {
    "duration": 255,
    "start_time": "2021-12-12T13:38:54.510Z"
   },
   {
    "duration": 172,
    "start_time": "2021-12-12T13:38:54.766Z"
   },
   {
    "duration": 8,
    "start_time": "2021-12-12T13:38:54.940Z"
   },
   {
    "duration": 181,
    "start_time": "2021-12-12T13:38:54.949Z"
   },
   {
    "duration": 486,
    "start_time": "2021-12-12T13:38:55.132Z"
   },
   {
    "duration": 25,
    "start_time": "2021-12-12T13:38:55.620Z"
   },
   {
    "duration": 201,
    "start_time": "2021-12-12T13:38:55.647Z"
   },
   {
    "duration": 477,
    "start_time": "2021-12-12T13:38:55.849Z"
   },
   {
    "duration": 257,
    "start_time": "2021-12-12T13:38:56.328Z"
   },
   {
    "duration": 228,
    "start_time": "2021-12-12T13:39:18.513Z"
   },
   {
    "duration": 21,
    "start_time": "2021-12-12T13:39:20.269Z"
   },
   {
    "duration": 265,
    "start_time": "2021-12-12T13:39:52.021Z"
   },
   {
    "duration": 248,
    "start_time": "2021-12-12T13:40:32.419Z"
   },
   {
    "duration": 23,
    "start_time": "2021-12-12T13:40:36.953Z"
   },
   {
    "duration": 23,
    "start_time": "2021-12-12T13:41:40.978Z"
   },
   {
    "duration": 3,
    "start_time": "2021-12-12T13:41:44.454Z"
   },
   {
    "duration": 276,
    "start_time": "2021-12-12T13:41:46.871Z"
   },
   {
    "duration": 258,
    "start_time": "2021-12-12T13:42:44.882Z"
   },
   {
    "duration": 242,
    "start_time": "2021-12-12T13:43:11.423Z"
   },
   {
    "duration": 21,
    "start_time": "2021-12-12T13:44:27.134Z"
   },
   {
    "duration": 30,
    "start_time": "2021-12-12T13:44:58.444Z"
   },
   {
    "duration": 248,
    "start_time": "2021-12-12T13:49:28.908Z"
   },
   {
    "duration": 24,
    "start_time": "2021-12-12T13:49:30.664Z"
   },
   {
    "duration": 260,
    "start_time": "2021-12-12T13:49:31.268Z"
   },
   {
    "duration": 7,
    "start_time": "2021-12-12T13:50:13.415Z"
   },
   {
    "duration": 12,
    "start_time": "2021-12-12T13:50:47.070Z"
   },
   {
    "duration": 3,
    "start_time": "2021-12-12T13:52:39.225Z"
   },
   {
    "duration": 99,
    "start_time": "2021-12-12T13:52:39.232Z"
   },
   {
    "duration": 18,
    "start_time": "2021-12-12T13:52:39.333Z"
   },
   {
    "duration": 24,
    "start_time": "2021-12-12T13:52:39.353Z"
   },
   {
    "duration": 30,
    "start_time": "2021-12-12T13:52:39.379Z"
   },
   {
    "duration": 22,
    "start_time": "2021-12-12T13:52:39.411Z"
   },
   {
    "duration": 32,
    "start_time": "2021-12-12T13:52:39.435Z"
   },
   {
    "duration": 10,
    "start_time": "2021-12-12T13:52:39.469Z"
   },
   {
    "duration": 12,
    "start_time": "2021-12-12T13:52:39.480Z"
   },
   {
    "duration": 12,
    "start_time": "2021-12-12T13:52:39.495Z"
   },
   {
    "duration": 9,
    "start_time": "2021-12-12T13:52:39.509Z"
   },
   {
    "duration": 27,
    "start_time": "2021-12-12T13:52:39.520Z"
   },
   {
    "duration": 32,
    "start_time": "2021-12-12T13:52:39.548Z"
   },
   {
    "duration": 3,
    "start_time": "2021-12-12T13:52:39.582Z"
   },
   {
    "duration": 31,
    "start_time": "2021-12-12T13:52:39.586Z"
   },
   {
    "duration": 11,
    "start_time": "2021-12-12T13:52:39.619Z"
   },
   {
    "duration": 21,
    "start_time": "2021-12-12T13:52:39.632Z"
   },
   {
    "duration": 48,
    "start_time": "2021-12-12T13:52:39.655Z"
   },
   {
    "duration": 127,
    "start_time": "2021-12-12T13:52:39.704Z"
   },
   {
    "duration": 132,
    "start_time": "2021-12-12T13:52:39.833Z"
   },
   {
    "duration": 129,
    "start_time": "2021-12-12T13:52:39.967Z"
   },
   {
    "duration": 227,
    "start_time": "2021-12-12T13:52:40.097Z"
   },
   {
    "duration": 139,
    "start_time": "2021-12-12T13:52:40.326Z"
   },
   {
    "duration": 4,
    "start_time": "2021-12-12T13:52:40.467Z"
   },
   {
    "duration": 24,
    "start_time": "2021-12-12T13:52:40.472Z"
   },
   {
    "duration": 22,
    "start_time": "2021-12-12T13:52:40.498Z"
   },
   {
    "duration": 30,
    "start_time": "2021-12-12T13:52:40.521Z"
   },
   {
    "duration": 15,
    "start_time": "2021-12-12T13:52:40.554Z"
   },
   {
    "duration": 101,
    "start_time": "2021-12-12T13:52:40.571Z"
   },
   {
    "duration": 5,
    "start_time": "2021-12-12T13:52:40.673Z"
   },
   {
    "duration": 47,
    "start_time": "2021-12-12T13:52:40.679Z"
   },
   {
    "duration": 23,
    "start_time": "2021-12-12T13:52:40.727Z"
   },
   {
    "duration": 32,
    "start_time": "2021-12-12T13:52:40.751Z"
   },
   {
    "duration": 21,
    "start_time": "2021-12-12T13:52:40.784Z"
   },
   {
    "duration": 31,
    "start_time": "2021-12-12T13:52:40.806Z"
   },
   {
    "duration": 176,
    "start_time": "2021-12-12T13:52:40.838Z"
   },
   {
    "duration": 175,
    "start_time": "2021-12-12T13:52:41.016Z"
   },
   {
    "duration": 187,
    "start_time": "2021-12-12T13:52:41.192Z"
   },
   {
    "duration": 7,
    "start_time": "2021-12-12T13:52:41.380Z"
   },
   {
    "duration": 171,
    "start_time": "2021-12-12T13:52:41.388Z"
   },
   {
    "duration": 450,
    "start_time": "2021-12-12T13:52:41.560Z"
   },
   {
    "duration": 25,
    "start_time": "2021-12-12T13:52:42.012Z"
   },
   {
    "duration": 208,
    "start_time": "2021-12-12T13:52:42.039Z"
   },
   {
    "duration": 476,
    "start_time": "2021-12-12T13:52:42.248Z"
   },
   {
    "duration": 10,
    "start_time": "2021-12-12T13:52:42.725Z"
   },
   {
    "duration": 477,
    "start_time": "2021-12-12T13:52:42.736Z"
   },
   {
    "duration": 570,
    "start_time": "2021-12-12T13:53:00.340Z"
   },
   {
    "duration": 468,
    "start_time": "2021-12-12T13:53:08.234Z"
   },
   {
    "duration": 433,
    "start_time": "2021-12-12T13:53:55.686Z"
   },
   {
    "duration": 507,
    "start_time": "2021-12-12T13:58:29.120Z"
   },
   {
    "duration": 1099,
    "start_time": "2021-12-12T15:52:53.312Z"
   },
   {
    "duration": 78,
    "start_time": "2021-12-12T15:52:54.413Z"
   },
   {
    "duration": 19,
    "start_time": "2021-12-12T15:52:54.493Z"
   },
   {
    "duration": 23,
    "start_time": "2021-12-12T15:52:54.514Z"
   },
   {
    "duration": 32,
    "start_time": "2021-12-12T15:52:54.539Z"
   },
   {
    "duration": 23,
    "start_time": "2021-12-12T15:52:54.573Z"
   },
   {
    "duration": 24,
    "start_time": "2021-12-12T15:52:54.598Z"
   },
   {
    "duration": 14,
    "start_time": "2021-12-12T15:52:54.623Z"
   },
   {
    "duration": 32,
    "start_time": "2021-12-12T15:52:54.640Z"
   },
   {
    "duration": 7,
    "start_time": "2021-12-12T15:52:54.674Z"
   },
   {
    "duration": 4,
    "start_time": "2021-12-12T15:52:54.683Z"
   },
   {
    "duration": 12,
    "start_time": "2021-12-12T15:52:54.689Z"
   },
   {
    "duration": 29,
    "start_time": "2021-12-12T15:52:54.703Z"
   },
   {
    "duration": 3,
    "start_time": "2021-12-12T15:52:54.734Z"
   },
   {
    "duration": 35,
    "start_time": "2021-12-12T15:52:54.738Z"
   },
   {
    "duration": 13,
    "start_time": "2021-12-12T15:52:54.774Z"
   },
   {
    "duration": 13,
    "start_time": "2021-12-12T15:52:54.789Z"
   },
   {
    "duration": 36,
    "start_time": "2021-12-12T15:52:54.804Z"
   },
   {
    "duration": 139,
    "start_time": "2021-12-12T15:52:54.862Z"
   },
   {
    "duration": 126,
    "start_time": "2021-12-12T15:52:55.002Z"
   },
   {
    "duration": 133,
    "start_time": "2021-12-12T15:52:55.130Z"
   },
   {
    "duration": 142,
    "start_time": "2021-12-12T15:52:55.264Z"
   },
   {
    "duration": 142,
    "start_time": "2021-12-12T15:52:55.408Z"
   },
   {
    "duration": 4,
    "start_time": "2021-12-12T15:52:55.552Z"
   },
   {
    "duration": 6,
    "start_time": "2021-12-12T15:52:55.562Z"
   },
   {
    "duration": 7,
    "start_time": "2021-12-12T15:52:55.569Z"
   },
   {
    "duration": 26,
    "start_time": "2021-12-12T15:52:55.579Z"
   },
   {
    "duration": 15,
    "start_time": "2021-12-12T15:52:55.612Z"
   },
   {
    "duration": 179,
    "start_time": "2021-12-12T15:52:55.629Z"
   },
   {
    "duration": 5,
    "start_time": "2021-12-12T15:52:55.810Z"
   },
   {
    "duration": 7,
    "start_time": "2021-12-12T15:52:55.816Z"
   },
   {
    "duration": 8,
    "start_time": "2021-12-12T15:52:55.825Z"
   },
   {
    "duration": 5,
    "start_time": "2021-12-12T15:52:55.834Z"
   },
   {
    "duration": 38,
    "start_time": "2021-12-12T15:52:55.841Z"
   },
   {
    "duration": 32,
    "start_time": "2021-12-12T15:52:55.880Z"
   },
   {
    "duration": 296,
    "start_time": "2021-12-12T15:52:55.913Z"
   },
   {
    "duration": 170,
    "start_time": "2021-12-12T15:52:56.211Z"
   },
   {
    "duration": 255,
    "start_time": "2021-12-12T15:52:56.383Z"
   },
   {
    "duration": 9,
    "start_time": "2021-12-12T15:52:56.640Z"
   },
   {
    "duration": 188,
    "start_time": "2021-12-12T15:52:56.650Z"
   },
   {
    "duration": 481,
    "start_time": "2021-12-12T15:52:56.840Z"
   },
   {
    "duration": 29,
    "start_time": "2021-12-12T15:52:57.323Z"
   },
   {
    "duration": 202,
    "start_time": "2021-12-12T15:52:57.363Z"
   },
   {
    "duration": 11,
    "start_time": "2021-12-12T15:52:57.568Z"
   },
   {
    "duration": 441,
    "start_time": "2021-12-12T15:52:57.581Z"
   },
   {
    "duration": 504,
    "start_time": "2021-12-12T15:52:58.025Z"
   },
   {
    "duration": 105,
    "start_time": "2021-12-13T13:29:40.329Z"
   },
   {
    "duration": 1042,
    "start_time": "2021-12-13T17:34:41.195Z"
   },
   {
    "duration": 116,
    "start_time": "2021-12-13T17:34:42.239Z"
   },
   {
    "duration": 18,
    "start_time": "2021-12-13T17:34:42.357Z"
   },
   {
    "duration": 9,
    "start_time": "2021-12-13T17:34:42.377Z"
   },
   {
    "duration": 21,
    "start_time": "2021-12-13T17:34:42.387Z"
   },
   {
    "duration": 342,
    "start_time": "2021-12-13T17:34:43.497Z"
   },
   {
    "duration": 11,
    "start_time": "2021-12-13T17:34:48.315Z"
   },
   {
    "duration": 6,
    "start_time": "2021-12-13T17:35:32.076Z"
   },
   {
    "duration": 4,
    "start_time": "2021-12-13T17:42:43.810Z"
   },
   {
    "duration": 6,
    "start_time": "2021-12-13T17:42:50.763Z"
   },
   {
    "duration": 9,
    "start_time": "2021-12-13T17:44:39.159Z"
   },
   {
    "duration": 6,
    "start_time": "2021-12-13T17:45:18.529Z"
   },
   {
    "duration": 13,
    "start_time": "2021-12-13T17:45:25.358Z"
   },
   {
    "duration": 274,
    "start_time": "2021-12-13T17:50:28.780Z"
   },
   {
    "duration": 4,
    "start_time": "2021-12-13T17:51:24.123Z"
   },
   {
    "duration": 28,
    "start_time": "2021-12-13T17:51:34.234Z"
   },
   {
    "duration": 384,
    "start_time": "2021-12-13T17:52:44.281Z"
   },
   {
    "duration": 260,
    "start_time": "2021-12-13T17:52:50.474Z"
   },
   {
    "duration": 197,
    "start_time": "2021-12-13T17:53:02.346Z"
   },
   {
    "duration": 5,
    "start_time": "2021-12-13T17:53:10.807Z"
   },
   {
    "duration": 14,
    "start_time": "2021-12-13T17:53:19.857Z"
   },
   {
    "duration": 11,
    "start_time": "2021-12-13T17:54:38.279Z"
   },
   {
    "duration": 13,
    "start_time": "2021-12-13T17:54:40.346Z"
   },
   {
    "duration": 9,
    "start_time": "2021-12-13T17:55:07.481Z"
   },
   {
    "duration": 12,
    "start_time": "2021-12-13T17:55:25.392Z"
   },
   {
    "duration": 9,
    "start_time": "2021-12-13T17:55:30.352Z"
   },
   {
    "duration": 11,
    "start_time": "2021-12-13T18:00:46.272Z"
   },
   {
    "duration": 13,
    "start_time": "2021-12-13T18:00:50.301Z"
   },
   {
    "duration": 3,
    "start_time": "2021-12-13T18:01:05.756Z"
   },
   {
    "duration": 82,
    "start_time": "2021-12-13T18:01:05.765Z"
   },
   {
    "duration": 19,
    "start_time": "2021-12-13T18:01:05.849Z"
   },
   {
    "duration": 44,
    "start_time": "2021-12-13T18:01:05.871Z"
   },
   {
    "duration": 45,
    "start_time": "2021-12-13T18:01:05.917Z"
   },
   {
    "duration": 13,
    "start_time": "2021-12-13T18:01:05.964Z"
   },
   {
    "duration": 10,
    "start_time": "2021-12-13T18:01:05.979Z"
   },
   {
    "duration": 37,
    "start_time": "2021-12-13T18:01:05.990Z"
   },
   {
    "duration": 4,
    "start_time": "2021-12-13T18:01:06.029Z"
   },
   {
    "duration": 7,
    "start_time": "2021-12-13T18:01:06.035Z"
   },
   {
    "duration": 11,
    "start_time": "2021-12-13T18:01:06.043Z"
   },
   {
    "duration": 17,
    "start_time": "2021-12-13T18:01:06.055Z"
   },
   {
    "duration": 12,
    "start_time": "2021-12-13T18:01:12.388Z"
   },
   {
    "duration": 2,
    "start_time": "2021-12-13T18:01:24.336Z"
   },
   {
    "duration": 82,
    "start_time": "2021-12-13T18:01:24.560Z"
   },
   {
    "duration": 19,
    "start_time": "2021-12-13T18:01:24.644Z"
   },
   {
    "duration": 8,
    "start_time": "2021-12-13T18:01:24.665Z"
   },
   {
    "duration": 21,
    "start_time": "2021-12-13T18:01:24.675Z"
   },
   {
    "duration": 6,
    "start_time": "2021-12-13T18:01:24.697Z"
   },
   {
    "duration": 44,
    "start_time": "2021-12-13T18:01:24.704Z"
   },
   {
    "duration": 10,
    "start_time": "2021-12-13T18:01:24.750Z"
   },
   {
    "duration": 2,
    "start_time": "2021-12-13T18:01:24.761Z"
   },
   {
    "duration": 7,
    "start_time": "2021-12-13T18:01:24.765Z"
   },
   {
    "duration": 6,
    "start_time": "2021-12-13T18:01:24.774Z"
   },
   {
    "duration": 14,
    "start_time": "2021-12-13T18:01:24.781Z"
   },
   {
    "duration": 13,
    "start_time": "2021-12-13T18:01:28.389Z"
   },
   {
    "duration": 8,
    "start_time": "2021-12-13T18:01:34.962Z"
   },
   {
    "duration": 3,
    "start_time": "2021-12-13T18:02:10.390Z"
   },
   {
    "duration": 110,
    "start_time": "2021-12-13T18:02:10.395Z"
   },
   {
    "duration": 19,
    "start_time": "2021-12-13T18:02:10.507Z"
   },
   {
    "duration": 9,
    "start_time": "2021-12-13T18:02:10.572Z"
   },
   {
    "duration": 38,
    "start_time": "2021-12-13T18:02:10.583Z"
   },
   {
    "duration": 23,
    "start_time": "2021-12-13T18:02:10.623Z"
   },
   {
    "duration": 26,
    "start_time": "2021-12-13T18:02:10.649Z"
   },
   {
    "duration": 32,
    "start_time": "2021-12-13T18:02:10.677Z"
   },
   {
    "duration": 29,
    "start_time": "2021-12-13T18:02:10.711Z"
   },
   {
    "duration": 18,
    "start_time": "2021-12-13T18:02:10.753Z"
   },
   {
    "duration": 39,
    "start_time": "2021-12-13T18:02:10.773Z"
   },
   {
    "duration": 50,
    "start_time": "2021-12-13T18:02:10.814Z"
   },
   {
    "duration": 9,
    "start_time": "2021-12-13T18:02:24.715Z"
   },
   {
    "duration": 11,
    "start_time": "2021-12-13T18:03:25.073Z"
   },
   {
    "duration": 9,
    "start_time": "2021-12-13T18:03:27.566Z"
   },
   {
    "duration": 12,
    "start_time": "2021-12-13T18:03:32.088Z"
   },
   {
    "duration": 11,
    "start_time": "2021-12-13T18:03:34.049Z"
   },
   {
    "duration": 415,
    "start_time": "2021-12-13T20:46:10.221Z"
   },
   {
    "duration": 1255,
    "start_time": "2021-12-13T20:46:16.912Z"
   },
   {
    "duration": 510,
    "start_time": "2021-12-13T20:46:18.169Z"
   },
   {
    "duration": 21,
    "start_time": "2021-12-13T20:46:18.681Z"
   },
   {
    "duration": 9,
    "start_time": "2021-12-13T20:46:18.704Z"
   },
   {
    "duration": 20,
    "start_time": "2021-12-13T20:46:18.715Z"
   },
   {
    "duration": 8,
    "start_time": "2021-12-13T20:46:18.737Z"
   },
   {
    "duration": 10,
    "start_time": "2021-12-13T20:46:18.747Z"
   },
   {
    "duration": 9,
    "start_time": "2021-12-13T20:46:18.759Z"
   },
   {
    "duration": 2,
    "start_time": "2021-12-13T20:46:18.770Z"
   },
   {
    "duration": 4,
    "start_time": "2021-12-13T20:46:18.806Z"
   },
   {
    "duration": 6,
    "start_time": "2021-12-13T20:46:18.812Z"
   },
   {
    "duration": 14,
    "start_time": "2021-12-13T20:46:18.819Z"
   },
   {
    "duration": 8,
    "start_time": "2021-12-13T20:46:18.834Z"
   },
   {
    "duration": 12,
    "start_time": "2021-12-13T20:46:18.844Z"
   },
   {
    "duration": 11,
    "start_time": "2021-12-13T20:46:24.600Z"
   },
   {
    "duration": 8,
    "start_time": "2021-12-13T20:46:47.063Z"
   },
   {
    "duration": 3,
    "start_time": "2021-12-13T20:47:25.823Z"
   },
   {
    "duration": 85,
    "start_time": "2021-12-13T20:47:25.828Z"
   },
   {
    "duration": 20,
    "start_time": "2021-12-13T20:47:25.915Z"
   },
   {
    "duration": 8,
    "start_time": "2021-12-13T20:47:25.938Z"
   },
   {
    "duration": 20,
    "start_time": "2021-12-13T20:47:25.949Z"
   },
   {
    "duration": 7,
    "start_time": "2021-12-13T20:47:25.970Z"
   },
   {
    "duration": 36,
    "start_time": "2021-12-13T20:47:25.979Z"
   },
   {
    "duration": 10,
    "start_time": "2021-12-13T20:47:26.018Z"
   },
   {
    "duration": 7,
    "start_time": "2021-12-13T20:47:26.030Z"
   },
   {
    "duration": 2,
    "start_time": "2021-12-13T20:47:26.039Z"
   },
   {
    "duration": 8,
    "start_time": "2021-12-13T20:47:26.043Z"
   },
   {
    "duration": 8,
    "start_time": "2021-12-13T20:47:26.053Z"
   },
   {
    "duration": 57,
    "start_time": "2021-12-13T20:47:26.063Z"
   },
   {
    "duration": 10,
    "start_time": "2021-12-13T20:47:26.122Z"
   },
   {
    "duration": 14,
    "start_time": "2021-12-13T20:47:26.134Z"
   },
   {
    "duration": 7,
    "start_time": "2021-12-13T20:47:29.800Z"
   },
   {
    "duration": 205,
    "start_time": "2021-12-14T00:57:09.613Z"
   },
   {
    "duration": 1130,
    "start_time": "2021-12-14T00:57:13.913Z"
   },
   {
    "duration": 137,
    "start_time": "2021-12-14T00:57:15.045Z"
   },
   {
    "duration": 20,
    "start_time": "2021-12-14T00:57:15.184Z"
   },
   {
    "duration": 10,
    "start_time": "2021-12-14T00:57:15.206Z"
   },
   {
    "duration": 21,
    "start_time": "2021-12-14T00:57:15.217Z"
   },
   {
    "duration": 8,
    "start_time": "2021-12-14T00:57:15.239Z"
   },
   {
    "duration": 9,
    "start_time": "2021-12-14T00:57:15.248Z"
   },
   {
    "duration": 33,
    "start_time": "2021-12-14T00:57:15.259Z"
   },
   {
    "duration": 7,
    "start_time": "2021-12-14T00:57:15.294Z"
   },
   {
    "duration": 2,
    "start_time": "2021-12-14T00:57:15.302Z"
   },
   {
    "duration": 5,
    "start_time": "2021-12-14T00:57:15.306Z"
   },
   {
    "duration": 7,
    "start_time": "2021-12-14T00:57:15.312Z"
   },
   {
    "duration": 14,
    "start_time": "2021-12-14T00:57:15.320Z"
   },
   {
    "duration": 8,
    "start_time": "2021-12-14T00:57:15.335Z"
   },
   {
    "duration": 50,
    "start_time": "2021-12-14T00:57:15.345Z"
   },
   {
    "duration": 6,
    "start_time": "2021-12-14T00:57:15.396Z"
   },
   {
    "duration": 13,
    "start_time": "2021-12-14T00:57:15.404Z"
   },
   {
    "duration": 7,
    "start_time": "2021-12-14T00:57:28.329Z"
   },
   {
    "duration": 221,
    "start_time": "2021-12-14T00:58:38.549Z"
   },
   {
    "duration": 11,
    "start_time": "2021-12-14T00:59:28.576Z"
   },
   {
    "duration": 17,
    "start_time": "2021-12-14T01:00:11.763Z"
   },
   {
    "duration": 19,
    "start_time": "2021-12-14T01:00:16.044Z"
   },
   {
    "duration": 3,
    "start_time": "2021-12-14T01:00:32.762Z"
   },
   {
    "duration": 97,
    "start_time": "2021-12-14T01:00:32.768Z"
   },
   {
    "duration": 19,
    "start_time": "2021-12-14T01:00:32.866Z"
   },
   {
    "duration": 9,
    "start_time": "2021-12-14T01:00:32.891Z"
   },
   {
    "duration": 19,
    "start_time": "2021-12-14T01:00:32.902Z"
   },
   {
    "duration": 6,
    "start_time": "2021-12-14T01:00:32.944Z"
   },
   {
    "duration": 9,
    "start_time": "2021-12-14T01:00:32.951Z"
   },
   {
    "duration": 8,
    "start_time": "2021-12-14T01:00:32.962Z"
   },
   {
    "duration": 20,
    "start_time": "2021-12-14T01:00:32.972Z"
   },
   {
    "duration": 2,
    "start_time": "2021-12-14T01:00:32.993Z"
   },
   {
    "duration": 6,
    "start_time": "2021-12-14T01:00:32.997Z"
   },
   {
    "duration": 7,
    "start_time": "2021-12-14T01:00:33.004Z"
   },
   {
    "duration": 13,
    "start_time": "2021-12-14T01:00:33.012Z"
   },
   {
    "duration": 9,
    "start_time": "2021-12-14T01:00:33.027Z"
   },
   {
    "duration": 12,
    "start_time": "2021-12-14T01:00:33.038Z"
   },
   {
    "duration": 8,
    "start_time": "2021-12-14T01:00:33.124Z"
   },
   {
    "duration": 13,
    "start_time": "2021-12-14T01:00:33.134Z"
   },
   {
    "duration": 8,
    "start_time": "2021-12-14T01:00:33.149Z"
   },
   {
    "duration": 12,
    "start_time": "2021-12-14T01:00:33.159Z"
   },
   {
    "duration": 17,
    "start_time": "2021-12-14T01:00:37.530Z"
   },
   {
    "duration": 1052,
    "start_time": "2021-12-14T01:02:36.097Z"
   },
   {
    "duration": 84,
    "start_time": "2021-12-14T01:02:37.150Z"
   },
   {
    "duration": 18,
    "start_time": "2021-12-14T01:02:37.236Z"
   },
   {
    "duration": 13,
    "start_time": "2021-12-14T01:02:37.256Z"
   },
   {
    "duration": 33,
    "start_time": "2021-12-14T01:02:37.270Z"
   },
   {
    "duration": 7,
    "start_time": "2021-12-14T01:02:37.305Z"
   },
   {
    "duration": 8,
    "start_time": "2021-12-14T01:02:37.314Z"
   },
   {
    "duration": 10,
    "start_time": "2021-12-14T01:02:37.324Z"
   },
   {
    "duration": 6,
    "start_time": "2021-12-14T01:02:37.336Z"
   },
   {
    "duration": 1,
    "start_time": "2021-12-14T01:02:37.345Z"
   },
   {
    "duration": 6,
    "start_time": "2021-12-14T01:02:37.348Z"
   },
   {
    "duration": 39,
    "start_time": "2021-12-14T01:02:37.355Z"
   },
   {
    "duration": 13,
    "start_time": "2021-12-14T01:02:37.396Z"
   },
   {
    "duration": 8,
    "start_time": "2021-12-14T01:02:37.410Z"
   },
   {
    "duration": 11,
    "start_time": "2021-12-14T01:02:37.420Z"
   },
   {
    "duration": 6,
    "start_time": "2021-12-14T01:02:37.432Z"
   },
   {
    "duration": 15,
    "start_time": "2021-12-14T01:02:37.440Z"
   },
   {
    "duration": 36,
    "start_time": "2021-12-14T01:02:37.456Z"
   },
   {
    "duration": 11,
    "start_time": "2021-12-14T01:02:37.494Z"
   },
   {
    "duration": 17,
    "start_time": "2021-12-14T01:02:37.506Z"
   },
   {
    "duration": 33,
    "start_time": "2021-12-14T01:02:37.525Z"
   },
   {
    "duration": 41,
    "start_time": "2021-12-14T01:02:37.560Z"
   },
   {
    "duration": 16,
    "start_time": "2021-12-14T01:02:37.602Z"
   },
   {
    "duration": 9,
    "start_time": "2021-12-14T01:02:37.619Z"
   },
   {
    "duration": 4,
    "start_time": "2021-12-14T01:02:37.629Z"
   },
   {
    "duration": 9,
    "start_time": "2021-12-14T01:02:37.635Z"
   },
   {
    "duration": 50,
    "start_time": "2021-12-14T01:02:37.648Z"
   },
   {
    "duration": 3,
    "start_time": "2021-12-14T01:02:37.700Z"
   },
   {
    "duration": 23,
    "start_time": "2021-12-14T01:02:37.705Z"
   },
   {
    "duration": 16,
    "start_time": "2021-12-14T01:02:37.730Z"
   },
   {
    "duration": 15,
    "start_time": "2021-12-14T01:02:37.748Z"
   },
   {
    "duration": 67,
    "start_time": "2021-12-14T01:02:37.764Z"
   },
   {
    "duration": 152,
    "start_time": "2021-12-14T01:02:37.832Z"
   },
   {
    "duration": 136,
    "start_time": "2021-12-14T01:02:37.986Z"
   },
   {
    "duration": 144,
    "start_time": "2021-12-14T01:02:38.124Z"
   },
   {
    "duration": 166,
    "start_time": "2021-12-14T01:02:38.270Z"
   },
   {
    "duration": 138,
    "start_time": "2021-12-14T01:02:38.437Z"
   },
   {
    "duration": 4,
    "start_time": "2021-12-14T01:02:38.577Z"
   },
   {
    "duration": 12,
    "start_time": "2021-12-14T01:02:38.583Z"
   },
   {
    "duration": 6,
    "start_time": "2021-12-14T01:02:38.597Z"
   },
   {
    "duration": 6,
    "start_time": "2021-12-14T01:02:38.605Z"
   },
   {
    "duration": 4,
    "start_time": "2021-12-14T01:02:38.613Z"
   },
   {
    "duration": 145,
    "start_time": "2021-12-14T01:02:38.619Z"
   },
   {
    "duration": 6,
    "start_time": "2021-12-14T01:02:38.765Z"
   },
   {
    "duration": 12,
    "start_time": "2021-12-14T01:02:38.772Z"
   },
   {
    "duration": 34,
    "start_time": "2021-12-14T01:02:38.792Z"
   },
   {
    "duration": 20,
    "start_time": "2021-12-14T01:02:38.828Z"
   },
   {
    "duration": 39,
    "start_time": "2021-12-14T01:02:38.849Z"
   },
   {
    "duration": 44,
    "start_time": "2021-12-14T01:02:38.890Z"
   },
   {
    "duration": 192,
    "start_time": "2021-12-14T01:02:38.935Z"
   },
   {
    "duration": 188,
    "start_time": "2021-12-14T01:02:39.128Z"
   },
   {
    "duration": 246,
    "start_time": "2021-12-14T01:02:39.317Z"
   },
   {
    "duration": 9,
    "start_time": "2021-12-14T01:02:39.565Z"
   },
   {
    "duration": 197,
    "start_time": "2021-12-14T01:02:39.576Z"
   },
   {
    "duration": 572,
    "start_time": "2021-12-14T01:02:39.774Z"
   },
   {
    "duration": 28,
    "start_time": "2021-12-14T01:02:40.348Z"
   },
   {
    "duration": 219,
    "start_time": "2021-12-14T01:02:40.378Z"
   },
   {
    "duration": 12,
    "start_time": "2021-12-14T01:02:40.599Z"
   },
   {
    "duration": 531,
    "start_time": "2021-12-14T01:02:40.612Z"
   },
   {
    "duration": 543,
    "start_time": "2021-12-14T01:02:41.145Z"
   },
   {
    "duration": 21,
    "start_time": "2021-12-14T01:04:38.009Z"
   },
   {
    "duration": 12,
    "start_time": "2021-12-14T01:05:18.863Z"
   },
   {
    "duration": 13,
    "start_time": "2021-12-14T01:05:58.427Z"
   },
   {
    "duration": 11,
    "start_time": "2021-12-14T01:07:00.089Z"
   },
   {
    "duration": 3,
    "start_time": "2021-12-14T01:07:31.267Z"
   },
   {
    "duration": 93,
    "start_time": "2021-12-14T01:07:31.272Z"
   },
   {
    "duration": 27,
    "start_time": "2021-12-14T01:07:31.367Z"
   },
   {
    "duration": 8,
    "start_time": "2021-12-14T01:07:31.396Z"
   },
   {
    "duration": 19,
    "start_time": "2021-12-14T01:07:31.462Z"
   },
   {
    "duration": 9,
    "start_time": "2021-12-14T01:07:31.483Z"
   },
   {
    "duration": 9,
    "start_time": "2021-12-14T01:07:31.494Z"
   },
   {
    "duration": 15,
    "start_time": "2021-12-14T01:07:31.505Z"
   },
   {
    "duration": 7,
    "start_time": "2021-12-14T01:07:31.522Z"
   },
   {
    "duration": 2,
    "start_time": "2021-12-14T01:07:31.531Z"
   },
   {
    "duration": 5,
    "start_time": "2021-12-14T01:07:31.535Z"
   },
   {
    "duration": 8,
    "start_time": "2021-12-14T01:07:31.542Z"
   },
   {
    "duration": 12,
    "start_time": "2021-12-14T01:07:31.643Z"
   },
   {
    "duration": 8,
    "start_time": "2021-12-14T01:07:31.657Z"
   },
   {
    "duration": 12,
    "start_time": "2021-12-14T01:07:31.667Z"
   },
   {
    "duration": 6,
    "start_time": "2021-12-14T01:07:31.681Z"
   },
   {
    "duration": 13,
    "start_time": "2021-12-14T01:07:31.689Z"
   },
   {
    "duration": 6,
    "start_time": "2021-12-14T01:07:31.704Z"
   },
   {
    "duration": 11,
    "start_time": "2021-12-14T01:07:31.712Z"
   },
   {
    "duration": 17,
    "start_time": "2021-12-14T01:07:31.725Z"
   },
   {
    "duration": 56,
    "start_time": "2021-12-14T01:07:31.745Z"
   },
   {
    "duration": 14,
    "start_time": "2021-12-14T01:07:31.803Z"
   },
   {
    "duration": 31,
    "start_time": "2021-12-14T01:09:53.079Z"
   },
   {
    "duration": 25,
    "start_time": "2021-12-14T01:10:32.615Z"
   },
   {
    "duration": 2,
    "start_time": "2021-12-14T01:10:36.459Z"
   },
   {
    "duration": 114,
    "start_time": "2021-12-14T01:10:36.463Z"
   },
   {
    "duration": 19,
    "start_time": "2021-12-14T01:10:36.579Z"
   },
   {
    "duration": 9,
    "start_time": "2021-12-14T01:10:36.600Z"
   },
   {
    "duration": 17,
    "start_time": "2021-12-14T01:10:36.660Z"
   },
   {
    "duration": 6,
    "start_time": "2021-12-14T01:10:36.679Z"
   },
   {
    "duration": 17,
    "start_time": "2021-12-14T01:10:36.686Z"
   },
   {
    "duration": 13,
    "start_time": "2021-12-14T01:10:36.704Z"
   },
   {
    "duration": 13,
    "start_time": "2021-12-14T01:10:36.719Z"
   },
   {
    "duration": 11,
    "start_time": "2021-12-14T01:10:36.734Z"
   },
   {
    "duration": 4,
    "start_time": "2021-12-14T01:10:36.842Z"
   },
   {
    "duration": 25,
    "start_time": "2021-12-14T01:10:36.848Z"
   },
   {
    "duration": 15,
    "start_time": "2021-12-14T01:10:36.875Z"
   },
   {
    "duration": 26,
    "start_time": "2021-12-14T01:10:36.892Z"
   },
   {
    "duration": 20,
    "start_time": "2021-12-14T01:10:36.919Z"
   },
   {
    "duration": 13,
    "start_time": "2021-12-14T01:10:36.940Z"
   },
   {
    "duration": 30,
    "start_time": "2021-12-14T01:10:36.955Z"
   },
   {
    "duration": 7,
    "start_time": "2021-12-14T01:10:37.565Z"
   },
   {
    "duration": 11,
    "start_time": "2021-12-14T01:10:37.574Z"
   },
   {
    "duration": 16,
    "start_time": "2021-12-14T01:10:37.587Z"
   },
   {
    "duration": 34,
    "start_time": "2021-12-14T01:10:40.382Z"
   },
   {
    "duration": 3,
    "start_time": "2021-12-14T01:10:50.345Z"
   },
   {
    "duration": 87,
    "start_time": "2021-12-14T01:10:50.352Z"
   },
   {
    "duration": 19,
    "start_time": "2021-12-14T01:10:50.442Z"
   },
   {
    "duration": 9,
    "start_time": "2021-12-14T01:10:50.463Z"
   },
   {
    "duration": 19,
    "start_time": "2021-12-14T01:10:50.535Z"
   },
   {
    "duration": 6,
    "start_time": "2021-12-14T01:10:50.556Z"
   },
   {
    "duration": 9,
    "start_time": "2021-12-14T01:10:50.564Z"
   },
   {
    "duration": 11,
    "start_time": "2021-12-14T01:10:50.575Z"
   },
   {
    "duration": 6,
    "start_time": "2021-12-14T01:10:50.587Z"
   },
   {
    "duration": 2,
    "start_time": "2021-12-14T01:10:50.595Z"
   },
   {
    "duration": 5,
    "start_time": "2021-12-14T01:10:50.599Z"
   },
   {
    "duration": 7,
    "start_time": "2021-12-14T01:10:50.606Z"
   },
   {
    "duration": 12,
    "start_time": "2021-12-14T01:10:50.718Z"
   },
   {
    "duration": 9,
    "start_time": "2021-12-14T01:10:50.732Z"
   },
   {
    "duration": 12,
    "start_time": "2021-12-14T01:10:50.743Z"
   },
   {
    "duration": 6,
    "start_time": "2021-12-14T01:10:50.757Z"
   },
   {
    "duration": 13,
    "start_time": "2021-12-14T01:10:50.765Z"
   },
   {
    "duration": 14,
    "start_time": "2021-12-14T01:10:50.780Z"
   },
   {
    "duration": 10,
    "start_time": "2021-12-14T01:10:50.795Z"
   },
   {
    "duration": 17,
    "start_time": "2021-12-14T01:10:50.807Z"
   },
   {
    "duration": 32,
    "start_time": "2021-12-14T01:10:50.826Z"
   },
   {
    "duration": 16,
    "start_time": "2021-12-14T01:11:15.161Z"
   },
   {
    "duration": 15,
    "start_time": "2021-12-14T01:11:41.401Z"
   },
   {
    "duration": 3,
    "start_time": "2021-12-14T01:11:47.522Z"
   },
   {
    "duration": 85,
    "start_time": "2021-12-14T01:11:47.528Z"
   },
   {
    "duration": 18,
    "start_time": "2021-12-14T01:11:47.615Z"
   },
   {
    "duration": 8,
    "start_time": "2021-12-14T01:11:47.635Z"
   },
   {
    "duration": 18,
    "start_time": "2021-12-14T01:11:47.645Z"
   },
   {
    "duration": 7,
    "start_time": "2021-12-14T01:11:48.476Z"
   },
   {
    "duration": 9,
    "start_time": "2021-12-14T01:11:48.485Z"
   },
   {
    "duration": 8,
    "start_time": "2021-12-14T01:11:48.496Z"
   },
   {
    "duration": 6,
    "start_time": "2021-12-14T01:11:48.660Z"
   },
   {
    "duration": 2,
    "start_time": "2021-12-14T01:11:48.668Z"
   },
   {
    "duration": 7,
    "start_time": "2021-12-14T01:11:48.672Z"
   },
   {
    "duration": 12,
    "start_time": "2021-12-14T01:11:48.681Z"
   },
   {
    "duration": 15,
    "start_time": "2021-12-14T01:11:48.695Z"
   },
   {
    "duration": 8,
    "start_time": "2021-12-14T01:11:48.712Z"
   },
   {
    "duration": 13,
    "start_time": "2021-12-14T01:11:48.722Z"
   },
   {
    "duration": 6,
    "start_time": "2021-12-14T01:11:48.736Z"
   },
   {
    "duration": 13,
    "start_time": "2021-12-14T01:11:48.744Z"
   },
   {
    "duration": 7,
    "start_time": "2021-12-14T01:11:48.841Z"
   },
   {
    "duration": 10,
    "start_time": "2021-12-14T01:11:48.850Z"
   },
   {
    "duration": 17,
    "start_time": "2021-12-14T01:11:48.862Z"
   },
   {
    "duration": 32,
    "start_time": "2021-12-14T01:11:48.880Z"
   },
   {
    "duration": 15,
    "start_time": "2021-12-14T01:11:48.913Z"
   },
   {
    "duration": 15,
    "start_time": "2021-12-14T01:11:54.121Z"
   },
   {
    "duration": 5,
    "start_time": "2021-12-14T01:12:43.739Z"
   },
   {
    "duration": 6,
    "start_time": "2021-12-14T01:13:06.753Z"
   },
   {
    "duration": 10,
    "start_time": "2021-12-14T01:13:14.543Z"
   },
   {
    "duration": 29,
    "start_time": "2021-12-14T01:13:24.028Z"
   },
   {
    "duration": 3,
    "start_time": "2021-12-14T01:13:32.978Z"
   },
   {
    "duration": 21,
    "start_time": "2021-12-14T01:13:34.020Z"
   },
   {
    "duration": 26,
    "start_time": "2021-12-14T01:13:45.573Z"
   },
   {
    "duration": 3,
    "start_time": "2021-12-14T01:13:53.414Z"
   },
   {
    "duration": 84,
    "start_time": "2021-12-14T01:13:53.420Z"
   },
   {
    "duration": 20,
    "start_time": "2021-12-14T01:13:53.506Z"
   },
   {
    "duration": 8,
    "start_time": "2021-12-14T01:13:53.610Z"
   },
   {
    "duration": 20,
    "start_time": "2021-12-14T01:13:53.620Z"
   },
   {
    "duration": 6,
    "start_time": "2021-12-14T01:13:53.642Z"
   },
   {
    "duration": 9,
    "start_time": "2021-12-14T01:13:53.650Z"
   },
   {
    "duration": 9,
    "start_time": "2021-12-14T01:13:53.661Z"
   },
   {
    "duration": 20,
    "start_time": "2021-12-14T01:13:53.671Z"
   },
   {
    "duration": 2,
    "start_time": "2021-12-14T01:13:53.797Z"
   },
   {
    "duration": 5,
    "start_time": "2021-12-14T01:13:53.801Z"
   },
   {
    "duration": 10,
    "start_time": "2021-12-14T01:13:53.808Z"
   },
   {
    "duration": 12,
    "start_time": "2021-12-14T01:13:53.820Z"
   },
   {
    "duration": 8,
    "start_time": "2021-12-14T01:13:53.833Z"
   },
   {
    "duration": 13,
    "start_time": "2021-12-14T01:13:53.843Z"
   },
   {
    "duration": 6,
    "start_time": "2021-12-14T01:13:53.857Z"
   },
   {
    "duration": 38,
    "start_time": "2021-12-14T01:13:53.864Z"
   },
   {
    "duration": 6,
    "start_time": "2021-12-14T01:13:53.904Z"
   },
   {
    "duration": 11,
    "start_time": "2021-12-14T01:13:53.992Z"
   },
   {
    "duration": 18,
    "start_time": "2021-12-14T01:13:54.004Z"
   },
   {
    "duration": 32,
    "start_time": "2021-12-14T01:13:54.024Z"
   },
   {
    "duration": 44,
    "start_time": "2021-12-14T01:13:54.058Z"
   },
   {
    "duration": 6,
    "start_time": "2021-12-14T01:13:54.103Z"
   },
   {
    "duration": 10,
    "start_time": "2021-12-14T01:13:54.111Z"
   },
   {
    "duration": 25,
    "start_time": "2021-12-14T01:13:54.123Z"
   },
   {
    "duration": 3,
    "start_time": "2021-12-14T01:13:54.150Z"
   },
   {
    "duration": 47,
    "start_time": "2021-12-14T01:13:54.155Z"
   },
   {
    "duration": 17,
    "start_time": "2021-12-14T01:14:05.141Z"
   },
   {
    "duration": 16,
    "start_time": "2021-12-14T01:14:08.104Z"
   },
   {
    "duration": 45,
    "start_time": "2021-12-14T01:14:36.399Z"
   },
   {
    "duration": 150,
    "start_time": "2021-12-14T01:14:40.161Z"
   },
   {
    "duration": 136,
    "start_time": "2021-12-14T01:15:01.658Z"
   },
   {
    "duration": 216,
    "start_time": "2021-12-14T01:15:34.734Z"
   },
   {
    "duration": 147,
    "start_time": "2021-12-14T01:15:44.430Z"
   },
   {
    "duration": 139,
    "start_time": "2021-12-14T01:16:02.259Z"
   },
   {
    "duration": 463,
    "start_time": "2021-12-14T01:16:36.983Z"
   },
   {
    "duration": 146,
    "start_time": "2021-12-14T01:16:58.128Z"
   },
   {
    "duration": 139,
    "start_time": "2021-12-14T01:17:08.608Z"
   },
   {
    "duration": 143,
    "start_time": "2021-12-14T01:19:03.804Z"
   },
   {
    "duration": 165,
    "start_time": "2021-12-14T01:22:05.759Z"
   },
   {
    "duration": 147,
    "start_time": "2021-12-14T01:23:13.321Z"
   },
   {
    "duration": 4,
    "start_time": "2021-12-14T01:24:26.807Z"
   },
   {
    "duration": 6,
    "start_time": "2021-12-14T01:24:27.220Z"
   },
   {
    "duration": 7,
    "start_time": "2021-12-14T01:24:41.551Z"
   },
   {
    "duration": 7,
    "start_time": "2021-12-14T01:25:09.573Z"
   },
   {
    "duration": 5,
    "start_time": "2021-12-14T01:25:17.174Z"
   },
   {
    "duration": 122,
    "start_time": "2021-12-14T01:25:18.566Z"
   },
   {
    "duration": 7,
    "start_time": "2021-12-14T01:25:19.542Z"
   },
   {
    "duration": 8,
    "start_time": "2021-12-14T01:25:22.358Z"
   },
   {
    "duration": 8,
    "start_time": "2021-12-14T01:25:27.354Z"
   },
   {
    "duration": 6,
    "start_time": "2021-12-14T01:25:28.761Z"
   },
   {
    "duration": 27,
    "start_time": "2021-12-14T01:25:35.012Z"
   },
   {
    "duration": 42,
    "start_time": "2021-12-14T01:25:37.412Z"
   },
   {
    "duration": 184,
    "start_time": "2021-12-14T01:25:41.582Z"
   },
   {
    "duration": 188,
    "start_time": "2021-12-14T01:26:34.073Z"
   },
   {
    "duration": 190,
    "start_time": "2021-12-14T01:27:52.669Z"
   },
   {
    "duration": 176,
    "start_time": "2021-12-14T01:28:46.276Z"
   },
   {
    "duration": 262,
    "start_time": "2021-12-14T01:29:32.746Z"
   },
   {
    "duration": 10,
    "start_time": "2021-12-14T01:30:48.213Z"
   },
   {
    "duration": 188,
    "start_time": "2021-12-14T01:30:56.905Z"
   },
   {
    "duration": 193,
    "start_time": "2021-12-14T01:31:14.533Z"
   },
   {
    "duration": 184,
    "start_time": "2021-12-14T01:31:34.729Z"
   },
   {
    "duration": 3,
    "start_time": "2021-12-14T01:32:42.529Z"
   },
   {
    "duration": 85,
    "start_time": "2021-12-14T01:32:42.535Z"
   },
   {
    "duration": 19,
    "start_time": "2021-12-14T01:32:42.621Z"
   },
   {
    "duration": 8,
    "start_time": "2021-12-14T01:32:42.642Z"
   },
   {
    "duration": 40,
    "start_time": "2021-12-14T01:32:42.652Z"
   },
   {
    "duration": 7,
    "start_time": "2021-12-14T01:32:42.693Z"
   },
   {
    "duration": 9,
    "start_time": "2021-12-14T01:32:42.702Z"
   },
   {
    "duration": 16,
    "start_time": "2021-12-14T01:32:42.713Z"
   },
   {
    "duration": 6,
    "start_time": "2021-12-14T01:32:42.731Z"
   },
   {
    "duration": 2,
    "start_time": "2021-12-14T01:32:42.739Z"
   },
   {
    "duration": 8,
    "start_time": "2021-12-14T01:32:42.742Z"
   },
   {
    "duration": 6,
    "start_time": "2021-12-14T01:32:42.769Z"
   },
   {
    "duration": 25,
    "start_time": "2021-12-14T01:32:42.776Z"
   },
   {
    "duration": 8,
    "start_time": "2021-12-14T01:32:42.803Z"
   },
   {
    "duration": 11,
    "start_time": "2021-12-14T01:32:42.813Z"
   },
   {
    "duration": 6,
    "start_time": "2021-12-14T01:32:42.825Z"
   },
   {
    "duration": 13,
    "start_time": "2021-12-14T01:32:42.832Z"
   },
   {
    "duration": 5,
    "start_time": "2021-12-14T01:32:42.847Z"
   },
   {
    "duration": 10,
    "start_time": "2021-12-14T01:32:42.892Z"
   },
   {
    "duration": 17,
    "start_time": "2021-12-14T01:32:42.904Z"
   },
   {
    "duration": 33,
    "start_time": "2021-12-14T01:32:42.923Z"
   },
   {
    "duration": 39,
    "start_time": "2021-12-14T01:32:42.958Z"
   },
   {
    "duration": 6,
    "start_time": "2021-12-14T01:32:42.999Z"
   },
   {
    "duration": 9,
    "start_time": "2021-12-14T01:32:43.006Z"
   },
   {
    "duration": 26,
    "start_time": "2021-12-14T01:32:43.016Z"
   },
   {
    "duration": 3,
    "start_time": "2021-12-14T01:32:43.044Z"
   },
   {
    "duration": 58,
    "start_time": "2021-12-14T01:32:43.049Z"
   },
   {
    "duration": 21,
    "start_time": "2021-12-14T01:32:43.109Z"
   },
   {
    "duration": 16,
    "start_time": "2021-12-14T01:32:43.132Z"
   },
   {
    "duration": 60,
    "start_time": "2021-12-14T01:32:43.149Z"
   },
   {
    "duration": 160,
    "start_time": "2021-12-14T01:32:43.210Z"
   },
   {
    "duration": 141,
    "start_time": "2021-12-14T01:32:43.372Z"
   },
   {
    "duration": 148,
    "start_time": "2021-12-14T01:32:43.515Z"
   },
   {
    "duration": 168,
    "start_time": "2021-12-14T01:32:43.667Z"
   },
   {
    "duration": 149,
    "start_time": "2021-12-14T01:32:43.837Z"
   },
   {
    "duration": 4,
    "start_time": "2021-12-14T01:32:43.988Z"
   },
   {
    "duration": 15,
    "start_time": "2021-12-14T01:32:43.993Z"
   },
   {
    "duration": 6,
    "start_time": "2021-12-14T01:32:44.010Z"
   },
   {
    "duration": 9,
    "start_time": "2021-12-14T01:32:44.017Z"
   },
   {
    "duration": 5,
    "start_time": "2021-12-14T01:32:44.027Z"
   },
   {
    "duration": 149,
    "start_time": "2021-12-14T01:32:44.033Z"
   },
   {
    "duration": 8,
    "start_time": "2021-12-14T01:32:44.184Z"
   },
   {
    "duration": 6,
    "start_time": "2021-12-14T01:32:44.194Z"
   },
   {
    "duration": 6,
    "start_time": "2021-12-14T01:32:44.202Z"
   },
   {
    "duration": 9,
    "start_time": "2021-12-14T01:32:44.210Z"
   },
   {
    "duration": 27,
    "start_time": "2021-12-14T01:32:44.221Z"
   },
   {
    "duration": 76,
    "start_time": "2021-12-14T01:32:44.250Z"
   },
   {
    "duration": 195,
    "start_time": "2021-12-14T01:32:44.328Z"
   },
   {
    "duration": 214,
    "start_time": "2021-12-14T01:32:44.525Z"
   },
   {
    "duration": 189,
    "start_time": "2021-12-14T01:32:44.741Z"
   },
   {
    "duration": 8,
    "start_time": "2021-12-14T01:32:44.932Z"
   },
   {
    "duration": 291,
    "start_time": "2021-12-14T01:32:44.942Z"
   },
   {
    "duration": 556,
    "start_time": "2021-12-14T01:33:13.278Z"
   },
   {
    "duration": 591,
    "start_time": "2021-12-14T01:34:35.942Z"
   },
   {
    "duration": 523,
    "start_time": "2021-12-14T01:34:47.621Z"
   },
   {
    "duration": 861,
    "start_time": "2021-12-14T01:35:10.464Z"
   },
   {
    "duration": 743,
    "start_time": "2021-12-14T01:35:29.724Z"
   },
   {
    "duration": 31,
    "start_time": "2021-12-14T01:39:43.463Z"
   },
   {
    "duration": 304,
    "start_time": "2021-12-14T01:39:48.024Z"
   },
   {
    "duration": 207,
    "start_time": "2021-12-14T01:40:34.404Z"
   },
   {
    "duration": 13,
    "start_time": "2021-12-14T01:41:07.416Z"
   },
   {
    "duration": 734,
    "start_time": "2021-12-14T01:41:08.968Z"
   },
   {
    "duration": 741,
    "start_time": "2021-12-14T01:42:14.469Z"
   },
   {
    "duration": 689,
    "start_time": "2021-12-14T01:43:17.733Z"
   },
   {
    "duration": 1170,
    "start_time": "2021-12-14T02:11:50.789Z"
   },
   {
    "duration": 85,
    "start_time": "2021-12-14T02:11:51.961Z"
   },
   {
    "duration": 18,
    "start_time": "2021-12-14T02:11:52.048Z"
   },
   {
    "duration": 9,
    "start_time": "2021-12-14T02:11:52.068Z"
   },
   {
    "duration": 22,
    "start_time": "2021-12-14T02:11:52.079Z"
   },
   {
    "duration": 8,
    "start_time": "2021-12-14T02:11:52.103Z"
   },
   {
    "duration": 9,
    "start_time": "2021-12-14T02:11:52.112Z"
   },
   {
    "duration": 9,
    "start_time": "2021-12-14T02:11:52.123Z"
   },
   {
    "duration": 6,
    "start_time": "2021-12-14T02:11:52.135Z"
   },
   {
    "duration": 3,
    "start_time": "2021-12-14T02:11:52.143Z"
   },
   {
    "duration": 45,
    "start_time": "2021-12-14T02:11:52.147Z"
   },
   {
    "duration": 9,
    "start_time": "2021-12-14T02:11:52.194Z"
   },
   {
    "duration": 14,
    "start_time": "2021-12-14T02:11:52.205Z"
   },
   {
    "duration": 9,
    "start_time": "2021-12-14T02:11:52.220Z"
   },
   {
    "duration": 12,
    "start_time": "2021-12-14T02:11:52.230Z"
   },
   {
    "duration": 6,
    "start_time": "2021-12-14T02:11:52.244Z"
   },
   {
    "duration": 42,
    "start_time": "2021-12-14T02:11:52.252Z"
   },
   {
    "duration": 7,
    "start_time": "2021-12-14T02:11:52.296Z"
   },
   {
    "duration": 12,
    "start_time": "2021-12-14T02:11:52.304Z"
   },
   {
    "duration": 18,
    "start_time": "2021-12-14T02:11:52.317Z"
   },
   {
    "duration": 70,
    "start_time": "2021-12-14T02:11:52.337Z"
   },
   {
    "duration": 18,
    "start_time": "2021-12-14T02:11:52.408Z"
   },
   {
    "duration": 8,
    "start_time": "2021-12-14T02:11:52.428Z"
   },
   {
    "duration": 10,
    "start_time": "2021-12-14T02:11:52.437Z"
   },
   {
    "duration": 54,
    "start_time": "2021-12-14T02:11:52.449Z"
   },
   {
    "duration": 5,
    "start_time": "2021-12-14T02:11:52.504Z"
   },
   {
    "duration": 24,
    "start_time": "2021-12-14T02:11:52.512Z"
   },
   {
    "duration": 19,
    "start_time": "2021-12-14T02:11:52.538Z"
   },
   {
    "duration": 36,
    "start_time": "2021-12-14T02:11:52.559Z"
   },
   {
    "duration": 42,
    "start_time": "2021-12-14T02:11:52.597Z"
   },
   {
    "duration": 173,
    "start_time": "2021-12-14T02:11:52.640Z"
   },
   {
    "duration": 143,
    "start_time": "2021-12-14T02:11:52.815Z"
   },
   {
    "duration": 169,
    "start_time": "2021-12-14T02:11:52.959Z"
   },
   {
    "duration": 172,
    "start_time": "2021-12-14T02:11:53.129Z"
   },
   {
    "duration": 149,
    "start_time": "2021-12-14T02:11:53.303Z"
   },
   {
    "duration": 4,
    "start_time": "2021-12-14T02:11:53.453Z"
   },
   {
    "duration": 9,
    "start_time": "2021-12-14T02:11:53.458Z"
   },
   {
    "duration": 6,
    "start_time": "2021-12-14T02:11:53.469Z"
   },
   {
    "duration": 6,
    "start_time": "2021-12-14T02:11:53.476Z"
   },
   {
    "duration": 21,
    "start_time": "2021-12-14T02:11:53.483Z"
   },
   {
    "duration": 148,
    "start_time": "2021-12-14T02:11:53.505Z"
   },
   {
    "duration": 5,
    "start_time": "2021-12-14T02:11:53.655Z"
   },
   {
    "duration": 11,
    "start_time": "2021-12-14T02:11:53.661Z"
   },
   {
    "duration": 7,
    "start_time": "2021-12-14T02:11:53.673Z"
   },
   {
    "duration": 7,
    "start_time": "2021-12-14T02:11:53.681Z"
   },
   {
    "duration": 29,
    "start_time": "2021-12-14T02:11:53.689Z"
   },
   {
    "duration": 38,
    "start_time": "2021-12-14T02:11:53.720Z"
   },
   {
    "duration": 274,
    "start_time": "2021-12-14T02:11:53.759Z"
   },
   {
    "duration": 303,
    "start_time": "2021-12-14T02:11:54.034Z"
   },
   {
    "duration": 258,
    "start_time": "2021-12-14T02:11:54.338Z"
   },
   {
    "duration": 8,
    "start_time": "2021-12-14T02:11:54.598Z"
   },
   {
    "duration": 200,
    "start_time": "2021-12-14T02:11:54.608Z"
   },
   {
    "duration": 716,
    "start_time": "2021-12-14T02:11:54.810Z"
   },
   {
    "duration": 30,
    "start_time": "2021-12-14T02:11:55.528Z"
   },
   {
    "duration": 220,
    "start_time": "2021-12-14T02:11:55.560Z"
   },
   {
    "duration": 16,
    "start_time": "2021-12-14T02:11:55.782Z"
   },
   {
    "duration": 711,
    "start_time": "2021-12-14T02:11:55.800Z"
   },
   {
    "duration": 740,
    "start_time": "2021-12-14T02:11:56.512Z"
   },
   {
    "duration": 606,
    "start_time": "2021-12-14T02:12:09.823Z"
   },
   {
    "duration": 661,
    "start_time": "2021-12-14T02:12:18.355Z"
   },
   {
    "duration": 1105,
    "start_time": "2021-12-14T02:12:42.079Z"
   },
   {
    "duration": 83,
    "start_time": "2021-12-14T02:12:43.186Z"
   },
   {
    "duration": 19,
    "start_time": "2021-12-14T02:12:43.272Z"
   },
   {
    "duration": 9,
    "start_time": "2021-12-14T02:12:43.293Z"
   },
   {
    "duration": 24,
    "start_time": "2021-12-14T02:12:43.304Z"
   },
   {
    "duration": 8,
    "start_time": "2021-12-14T02:12:43.329Z"
   },
   {
    "duration": 9,
    "start_time": "2021-12-14T02:12:43.338Z"
   },
   {
    "duration": 9,
    "start_time": "2021-12-14T02:12:43.348Z"
   },
   {
    "duration": 37,
    "start_time": "2021-12-14T02:12:43.359Z"
   },
   {
    "duration": 3,
    "start_time": "2021-12-14T02:12:43.398Z"
   },
   {
    "duration": 7,
    "start_time": "2021-12-14T02:12:43.402Z"
   },
   {
    "duration": 7,
    "start_time": "2021-12-14T02:12:43.410Z"
   },
   {
    "duration": 13,
    "start_time": "2021-12-14T02:12:43.418Z"
   },
   {
    "duration": 8,
    "start_time": "2021-12-14T02:12:43.432Z"
   },
   {
    "duration": 12,
    "start_time": "2021-12-14T02:12:43.441Z"
   },
   {
    "duration": 38,
    "start_time": "2021-12-14T02:12:43.454Z"
   },
   {
    "duration": 13,
    "start_time": "2021-12-14T02:12:43.493Z"
   },
   {
    "duration": 6,
    "start_time": "2021-12-14T02:12:43.508Z"
   },
   {
    "duration": 11,
    "start_time": "2021-12-14T02:12:43.515Z"
   },
   {
    "duration": 16,
    "start_time": "2021-12-14T02:12:43.527Z"
   },
   {
    "duration": 67,
    "start_time": "2021-12-14T02:12:43.545Z"
   },
   {
    "duration": 15,
    "start_time": "2021-12-14T02:12:43.614Z"
   },
   {
    "duration": 7,
    "start_time": "2021-12-14T02:12:43.631Z"
   },
   {
    "duration": 8,
    "start_time": "2021-12-14T02:12:43.639Z"
   },
   {
    "duration": 51,
    "start_time": "2021-12-14T02:12:43.649Z"
   },
   {
    "duration": 3,
    "start_time": "2021-12-14T02:12:43.702Z"
   },
   {
    "duration": 22,
    "start_time": "2021-12-14T02:12:43.709Z"
   },
   {
    "duration": 16,
    "start_time": "2021-12-14T02:12:43.733Z"
   },
   {
    "duration": 15,
    "start_time": "2021-12-14T02:12:43.751Z"
   },
   {
    "duration": 64,
    "start_time": "2021-12-14T02:12:43.767Z"
   },
   {
    "duration": 160,
    "start_time": "2021-12-14T02:12:43.833Z"
   },
   {
    "duration": 150,
    "start_time": "2021-12-14T02:12:43.994Z"
   },
   {
    "duration": 152,
    "start_time": "2021-12-14T02:12:44.146Z"
   },
   {
    "duration": 177,
    "start_time": "2021-12-14T02:12:44.300Z"
   },
   {
    "duration": 153,
    "start_time": "2021-12-14T02:12:44.479Z"
   },
   {
    "duration": 4,
    "start_time": "2021-12-14T02:12:44.634Z"
   },
   {
    "duration": 14,
    "start_time": "2021-12-14T02:12:44.639Z"
   },
   {
    "duration": 6,
    "start_time": "2021-12-14T02:12:44.655Z"
   },
   {
    "duration": 10,
    "start_time": "2021-12-14T02:12:44.662Z"
   },
   {
    "duration": 19,
    "start_time": "2021-12-14T02:12:44.674Z"
   },
   {
    "duration": 142,
    "start_time": "2021-12-14T02:12:44.694Z"
   },
   {
    "duration": 5,
    "start_time": "2021-12-14T02:12:44.838Z"
   },
   {
    "duration": 9,
    "start_time": "2021-12-14T02:12:44.844Z"
   },
   {
    "duration": 13,
    "start_time": "2021-12-14T02:12:44.854Z"
   },
   {
    "duration": 18,
    "start_time": "2021-12-14T02:12:44.868Z"
   },
   {
    "duration": 31,
    "start_time": "2021-12-14T02:12:44.888Z"
   },
   {
    "duration": 41,
    "start_time": "2021-12-14T02:12:44.920Z"
   },
   {
    "duration": 206,
    "start_time": "2021-12-14T02:12:44.962Z"
   },
   {
    "duration": 208,
    "start_time": "2021-12-14T02:12:45.169Z"
   },
   {
    "duration": 267,
    "start_time": "2021-12-14T02:12:45.378Z"
   },
   {
    "duration": 10,
    "start_time": "2021-12-14T02:12:45.646Z"
   },
   {
    "duration": 207,
    "start_time": "2021-12-14T02:12:45.657Z"
   },
   {
    "duration": 656,
    "start_time": "2021-12-14T02:12:45.866Z"
   },
   {
    "duration": 32,
    "start_time": "2021-12-14T02:12:46.524Z"
   },
   {
    "duration": 228,
    "start_time": "2021-12-14T02:12:46.558Z"
   },
   {
    "duration": 14,
    "start_time": "2021-12-14T02:12:46.787Z"
   },
   {
    "duration": 635,
    "start_time": "2021-12-14T02:12:46.803Z"
   },
   {
    "duration": 629,
    "start_time": "2021-12-14T02:12:47.440Z"
   },
   {
    "duration": 14,
    "start_time": "2021-12-14T02:14:17.431Z"
   }
  ],
  "kernelspec": {
   "display_name": "Python 3",
   "language": "python",
   "name": "python3"
  },
  "language_info": {
   "codemirror_mode": {
    "name": "ipython",
    "version": 3
   },
   "file_extension": ".py",
   "mimetype": "text/x-python",
   "name": "python",
   "nbconvert_exporter": "python",
   "pygments_lexer": "ipython3",
   "version": "3.7.8"
  },
  "toc": {
   "base_numbering": 1,
   "nav_menu": {},
   "number_sections": true,
   "sideBar": true,
   "skip_h1_title": false,
   "title_cell": "Table of Contents",
   "title_sidebar": "Contents",
   "toc_cell": false,
   "toc_position": {},
   "toc_section_display": true,
   "toc_window_display": false
  }
 },
 "nbformat": 4,
 "nbformat_minor": 2
}
