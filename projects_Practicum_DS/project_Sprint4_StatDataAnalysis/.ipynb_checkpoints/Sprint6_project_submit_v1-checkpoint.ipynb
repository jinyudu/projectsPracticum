{
 "cells": [
  {
   "cell_type": "markdown",
   "metadata": {},
   "source": [
    "# Which one is a better plan?\n",
    "\n",
    "You work as an analyst for the telecom operator Megaline. The company offers its clients two prepaid plans, Surf and Ultimate. The commercial department wants to know which of the plans brings in more revenue in order to adjust the advertising budget.\n",
    "\n",
    "You are going to carry out a preliminary analysis of the plans based on a relatively small client selection. You'll have the data on 500 Megaline clients: who the clients are, where they're from, which plan they use, and the number of calls they made and text messages they sent in 2018. Your job is to analyze the clients' behavior and determine which prepaid plan brings in more revenue."
   ]
  },
  {
   "cell_type": "markdown",
   "metadata": {},
   "source": [
    "## Purpose of the project\n",
    "1. Have a good understanding of the datasets\n",
    "2. Data cleaning and wrangling\n",
    "3. Study user behavior for messaging, calling and internet data usage\n",
    "4. Compare the revenue between the two different plans\n",
    "5. Perform statistical hypothesis tests to check whether the average revenue from users of the Ultimate and Surf plans differs\n",
    "6. Perform statistical hypothesis tests to check whether the average revenue from users in the NY-NJ area is different from that of the users from the other regions "
   ]
  },
  {
   "cell_type": "markdown",
   "metadata": {},
   "source": [
    "## Initialization"
   ]
  },
  {
   "cell_type": "code",
   "execution_count": 230,
   "metadata": {},
   "outputs": [],
   "source": [
    "# Loading all the libraries\n",
    "\n",
    "import pandas as pd\n",
    "import numpy as np \n",
    "from matplotlib import pyplot as plt\n",
    "import seaborn as sns\n",
    "from scipy import stats as st\n",
    "import math as mt"
   ]
  },
  {
   "cell_type": "markdown",
   "metadata": {},
   "source": [
    "## Load data"
   ]
  },
  {
   "cell_type": "code",
   "execution_count": 231,
   "metadata": {},
   "outputs": [],
   "source": [
    "# Load the data files into different DataFrames\n",
    "    \n",
    "plans = pd.read_csv('/datasets/megaline_plans.csv')\n",
    "users = pd.read_csv('/datasets/megaline_users.csv')\n",
    "calls = pd.read_csv('/datasets/megaline_calls.csv')\n",
    "messages = pd.read_csv('/datasets/megaline_messages.csv')\n",
    "internet = pd.read_csv('/datasets/megaline_internet.csv')"
   ]
  },
  {
   "cell_type": "markdown",
   "metadata": {},
   "source": [
    "## Plans"
   ]
  },
  {
   "cell_type": "code",
   "execution_count": 232,
   "metadata": {},
   "outputs": [
    {
     "name": "stdout",
     "output_type": "stream",
     "text": [
      "<class 'pandas.core.frame.DataFrame'>\n",
      "RangeIndex: 2 entries, 0 to 1\n",
      "Data columns (total 8 columns):\n",
      "messages_included        2 non-null int64\n",
      "mb_per_month_included    2 non-null int64\n",
      "minutes_included         2 non-null int64\n",
      "usd_monthly_pay          2 non-null int64\n",
      "usd_per_gb               2 non-null int64\n",
      "usd_per_message          2 non-null float64\n",
      "usd_per_minute           2 non-null float64\n",
      "plan_name                2 non-null object\n",
      "dtypes: float64(2), int64(5), object(1)\n",
      "memory usage: 256.0+ bytes\n"
     ]
    }
   ],
   "source": [
    "# Print the general/summary information about the plans' DataFrame\n",
    "\n",
    "plans.info()"
   ]
  },
  {
   "cell_type": "code",
   "execution_count": 233,
   "metadata": {},
   "outputs": [
    {
     "data": {
      "text/html": [
       "<div>\n",
       "<style scoped>\n",
       "    .dataframe tbody tr th:only-of-type {\n",
       "        vertical-align: middle;\n",
       "    }\n",
       "\n",
       "    .dataframe tbody tr th {\n",
       "        vertical-align: top;\n",
       "    }\n",
       "\n",
       "    .dataframe thead th {\n",
       "        text-align: right;\n",
       "    }\n",
       "</style>\n",
       "<table border=\"1\" class=\"dataframe\">\n",
       "  <thead>\n",
       "    <tr style=\"text-align: right;\">\n",
       "      <th></th>\n",
       "      <th>messages_included</th>\n",
       "      <th>mb_per_month_included</th>\n",
       "      <th>minutes_included</th>\n",
       "      <th>usd_monthly_pay</th>\n",
       "      <th>usd_per_gb</th>\n",
       "      <th>usd_per_message</th>\n",
       "      <th>usd_per_minute</th>\n",
       "      <th>plan_name</th>\n",
       "    </tr>\n",
       "  </thead>\n",
       "  <tbody>\n",
       "    <tr>\n",
       "      <td>0</td>\n",
       "      <td>50</td>\n",
       "      <td>15360</td>\n",
       "      <td>500</td>\n",
       "      <td>20</td>\n",
       "      <td>10</td>\n",
       "      <td>0.03</td>\n",
       "      <td>0.03</td>\n",
       "      <td>surf</td>\n",
       "    </tr>\n",
       "    <tr>\n",
       "      <td>1</td>\n",
       "      <td>1000</td>\n",
       "      <td>30720</td>\n",
       "      <td>3000</td>\n",
       "      <td>70</td>\n",
       "      <td>7</td>\n",
       "      <td>0.01</td>\n",
       "      <td>0.01</td>\n",
       "      <td>ultimate</td>\n",
       "    </tr>\n",
       "  </tbody>\n",
       "</table>\n",
       "</div>"
      ],
      "text/plain": [
       "   messages_included  mb_per_month_included  minutes_included  \\\n",
       "0                 50                  15360               500   \n",
       "1               1000                  30720              3000   \n",
       "\n",
       "   usd_monthly_pay  usd_per_gb  usd_per_message  usd_per_minute plan_name  \n",
       "0               20          10             0.03            0.03      surf  \n",
       "1               70           7             0.01            0.01  ultimate  "
      ]
     },
     "metadata": {},
     "output_type": "display_data"
    }
   ],
   "source": [
    "# Print a sample of data for plans\n",
    "\n",
    "display(plans.head(5))"
   ]
  },
  {
   "cell_type": "markdown",
   "metadata": {},
   "source": [
    "The `plans` dataframe has 2 rows and 8 columns. All columns seem to have the correct values and data types. I do not see any obvious issues with the data. So there is no need to fix anything about it. "
   ]
  },
  {
   "cell_type": "markdown",
   "metadata": {},
   "source": [
    "## Users"
   ]
  },
  {
   "cell_type": "code",
   "execution_count": 234,
   "metadata": {
    "scrolled": true
   },
   "outputs": [
    {
     "name": "stdout",
     "output_type": "stream",
     "text": [
      "<class 'pandas.core.frame.DataFrame'>\n",
      "RangeIndex: 500 entries, 0 to 499\n",
      "Data columns (total 8 columns):\n",
      "user_id       500 non-null int64\n",
      "first_name    500 non-null object\n",
      "last_name     500 non-null object\n",
      "age           500 non-null int64\n",
      "city          500 non-null object\n",
      "reg_date      500 non-null object\n",
      "plan          500 non-null object\n",
      "churn_date    34 non-null object\n",
      "dtypes: int64(2), object(6)\n",
      "memory usage: 31.4+ KB\n"
     ]
    }
   ],
   "source": [
    "# Print the general/summary information about the users' DataFrame\n",
    "\n",
    "users.info()"
   ]
  },
  {
   "cell_type": "code",
   "execution_count": 235,
   "metadata": {
    "scrolled": true
   },
   "outputs": [
    {
     "data": {
      "text/html": [
       "<div>\n",
       "<style scoped>\n",
       "    .dataframe tbody tr th:only-of-type {\n",
       "        vertical-align: middle;\n",
       "    }\n",
       "\n",
       "    .dataframe tbody tr th {\n",
       "        vertical-align: top;\n",
       "    }\n",
       "\n",
       "    .dataframe thead th {\n",
       "        text-align: right;\n",
       "    }\n",
       "</style>\n",
       "<table border=\"1\" class=\"dataframe\">\n",
       "  <thead>\n",
       "    <tr style=\"text-align: right;\">\n",
       "      <th></th>\n",
       "      <th>user_id</th>\n",
       "      <th>first_name</th>\n",
       "      <th>last_name</th>\n",
       "      <th>age</th>\n",
       "      <th>city</th>\n",
       "      <th>reg_date</th>\n",
       "      <th>plan</th>\n",
       "      <th>churn_date</th>\n",
       "    </tr>\n",
       "  </thead>\n",
       "  <tbody>\n",
       "    <tr>\n",
       "      <td>0</td>\n",
       "      <td>1000</td>\n",
       "      <td>Anamaria</td>\n",
       "      <td>Bauer</td>\n",
       "      <td>45</td>\n",
       "      <td>Atlanta-Sandy Springs-Roswell, GA MSA</td>\n",
       "      <td>2018-12-24</td>\n",
       "      <td>ultimate</td>\n",
       "      <td>NaN</td>\n",
       "    </tr>\n",
       "    <tr>\n",
       "      <td>1</td>\n",
       "      <td>1001</td>\n",
       "      <td>Mickey</td>\n",
       "      <td>Wilkerson</td>\n",
       "      <td>28</td>\n",
       "      <td>Seattle-Tacoma-Bellevue, WA MSA</td>\n",
       "      <td>2018-08-13</td>\n",
       "      <td>surf</td>\n",
       "      <td>NaN</td>\n",
       "    </tr>\n",
       "    <tr>\n",
       "      <td>2</td>\n",
       "      <td>1002</td>\n",
       "      <td>Carlee</td>\n",
       "      <td>Hoffman</td>\n",
       "      <td>36</td>\n",
       "      <td>Las Vegas-Henderson-Paradise, NV MSA</td>\n",
       "      <td>2018-10-21</td>\n",
       "      <td>surf</td>\n",
       "      <td>NaN</td>\n",
       "    </tr>\n",
       "    <tr>\n",
       "      <td>3</td>\n",
       "      <td>1003</td>\n",
       "      <td>Reynaldo</td>\n",
       "      <td>Jenkins</td>\n",
       "      <td>52</td>\n",
       "      <td>Tulsa, OK MSA</td>\n",
       "      <td>2018-01-28</td>\n",
       "      <td>surf</td>\n",
       "      <td>NaN</td>\n",
       "    </tr>\n",
       "    <tr>\n",
       "      <td>4</td>\n",
       "      <td>1004</td>\n",
       "      <td>Leonila</td>\n",
       "      <td>Thompson</td>\n",
       "      <td>40</td>\n",
       "      <td>Seattle-Tacoma-Bellevue, WA MSA</td>\n",
       "      <td>2018-05-23</td>\n",
       "      <td>surf</td>\n",
       "      <td>NaN</td>\n",
       "    </tr>\n",
       "    <tr>\n",
       "      <td>5</td>\n",
       "      <td>1005</td>\n",
       "      <td>Livia</td>\n",
       "      <td>Shields</td>\n",
       "      <td>31</td>\n",
       "      <td>Dallas-Fort Worth-Arlington, TX MSA</td>\n",
       "      <td>2018-11-29</td>\n",
       "      <td>surf</td>\n",
       "      <td>NaN</td>\n",
       "    </tr>\n",
       "    <tr>\n",
       "      <td>6</td>\n",
       "      <td>1006</td>\n",
       "      <td>Jesusa</td>\n",
       "      <td>Bradford</td>\n",
       "      <td>73</td>\n",
       "      <td>San Francisco-Oakland-Berkeley, CA MSA</td>\n",
       "      <td>2018-11-27</td>\n",
       "      <td>ultimate</td>\n",
       "      <td>2018-12-18</td>\n",
       "    </tr>\n",
       "    <tr>\n",
       "      <td>7</td>\n",
       "      <td>1007</td>\n",
       "      <td>Eusebio</td>\n",
       "      <td>Welch</td>\n",
       "      <td>42</td>\n",
       "      <td>Grand Rapids-Kentwood, MI MSA</td>\n",
       "      <td>2018-07-11</td>\n",
       "      <td>surf</td>\n",
       "      <td>NaN</td>\n",
       "    </tr>\n",
       "    <tr>\n",
       "      <td>8</td>\n",
       "      <td>1008</td>\n",
       "      <td>Emely</td>\n",
       "      <td>Hoffman</td>\n",
       "      <td>53</td>\n",
       "      <td>Orlando-Kissimmee-Sanford, FL MSA</td>\n",
       "      <td>2018-08-03</td>\n",
       "      <td>ultimate</td>\n",
       "      <td>NaN</td>\n",
       "    </tr>\n",
       "    <tr>\n",
       "      <td>9</td>\n",
       "      <td>1009</td>\n",
       "      <td>Gerry</td>\n",
       "      <td>Little</td>\n",
       "      <td>19</td>\n",
       "      <td>San Jose-Sunnyvale-Santa Clara, CA MSA</td>\n",
       "      <td>2018-04-22</td>\n",
       "      <td>surf</td>\n",
       "      <td>NaN</td>\n",
       "    </tr>\n",
       "  </tbody>\n",
       "</table>\n",
       "</div>"
      ],
      "text/plain": [
       "   user_id first_name  last_name  age                                    city  \\\n",
       "0     1000   Anamaria      Bauer   45   Atlanta-Sandy Springs-Roswell, GA MSA   \n",
       "1     1001     Mickey  Wilkerson   28         Seattle-Tacoma-Bellevue, WA MSA   \n",
       "2     1002     Carlee    Hoffman   36    Las Vegas-Henderson-Paradise, NV MSA   \n",
       "3     1003   Reynaldo    Jenkins   52                           Tulsa, OK MSA   \n",
       "4     1004    Leonila   Thompson   40         Seattle-Tacoma-Bellevue, WA MSA   \n",
       "5     1005      Livia    Shields   31     Dallas-Fort Worth-Arlington, TX MSA   \n",
       "6     1006     Jesusa   Bradford   73  San Francisco-Oakland-Berkeley, CA MSA   \n",
       "7     1007    Eusebio      Welch   42           Grand Rapids-Kentwood, MI MSA   \n",
       "8     1008      Emely    Hoffman   53       Orlando-Kissimmee-Sanford, FL MSA   \n",
       "9     1009      Gerry     Little   19  San Jose-Sunnyvale-Santa Clara, CA MSA   \n",
       "\n",
       "     reg_date      plan  churn_date  \n",
       "0  2018-12-24  ultimate         NaN  \n",
       "1  2018-08-13      surf         NaN  \n",
       "2  2018-10-21      surf         NaN  \n",
       "3  2018-01-28      surf         NaN  \n",
       "4  2018-05-23      surf         NaN  \n",
       "5  2018-11-29      surf         NaN  \n",
       "6  2018-11-27  ultimate  2018-12-18  \n",
       "7  2018-07-11      surf         NaN  \n",
       "8  2018-08-03  ultimate         NaN  \n",
       "9  2018-04-22      surf         NaN  "
      ]
     },
     "metadata": {},
     "output_type": "display_data"
    }
   ],
   "source": [
    "# Print a sample of data for users\n",
    "\n",
    "display(users.head(10))"
   ]
  },
  {
   "cell_type": "code",
   "execution_count": 236,
   "metadata": {
    "scrolled": true
   },
   "outputs": [
    {
     "name": "stdout",
     "output_type": "stream",
     "text": [
      "user_id        0.0\n",
      "first_name     0.0\n",
      "last_name      0.0\n",
      "age            0.0\n",
      "city           0.0\n",
      "reg_date       0.0\n",
      "plan           0.0\n",
      "churn_date    93.2\n",
      "dtype: float64\n"
     ]
    }
   ],
   "source": [
    "users_missing_perct = (users.isna().sum())/users.shape[0]*100\n",
    "print(users_missing_perct)"
   ]
  },
  {
   "cell_type": "markdown",
   "metadata": {},
   "source": [
    "The `users` dataframe has 500 rows and 8 columns. I think there are three obvious issues with the data set. \n",
    "1. The `user_id` column currently has `int64` as the data type. But it makes more sense for `user_id` to be of `string` data type. \n",
    "2. The `reg_date` and `churn_date` columns currently have `object` as the data type. But it makes more sense for those two columns to be of `datetime` data type. \n",
    "3. The `churn_date` column has 93.2% of its data as missing values. I think customers with missing values for `churn_date` might indicate they are still using the service. "
   ]
  },
  {
   "cell_type": "markdown",
   "metadata": {},
   "source": [
    "### Fix Data"
   ]
  },
  {
   "cell_type": "markdown",
   "metadata": {},
   "source": [
    "I will change the data type of `reg_date` and `churn_date` columns to `datetime` data type. I will also change the data type for `user_id` to be `string`. "
   ]
  },
  {
   "cell_type": "code",
   "execution_count": 237,
   "metadata": {},
   "outputs": [],
   "source": [
    "users['reg_date'] = pd.to_datetime(users['reg_date'], format='%Y-%m-%d')\n",
    "users['churn_date'] = pd.to_datetime(users['churn_date'], format='%Y-%m-%d')\n",
    "users['user_id'] = users['user_id'].astype('str')\n"
   ]
  },
  {
   "cell_type": "markdown",
   "metadata": {},
   "source": [
    "### Enrich Data"
   ]
  },
  {
   "cell_type": "markdown",
   "metadata": {},
   "source": [
    "We will create a new column called `active` based on the `churn_date` column. If the `churn_date` = NaN, then `active`  = 1, that means a customer is still actively using the service. If the `churn_date` is not NaN, then `active`  = 0, that means a customer has stopped using the service. "
   ]
  },
  {
   "cell_type": "code",
   "execution_count": 238,
   "metadata": {
    "scrolled": false
   },
   "outputs": [
    {
     "data": {
      "text/plain": [
       "NaT           466\n",
       "2018-12-18      3\n",
       "2018-12-19      2\n",
       "2018-11-14      2\n",
       "2018-12-31      2\n",
       "2018-09-01      1\n",
       "2018-08-19      1\n",
       "2018-10-03      1\n",
       "2018-08-16      1\n",
       "2018-12-15      1\n",
       "2018-12-12      1\n",
       "2018-11-11      1\n",
       "2018-12-26      1\n",
       "2018-09-07      1\n",
       "2018-10-22      1\n",
       "2018-09-18      1\n",
       "2018-12-10      1\n",
       "2018-12-27      1\n",
       "2018-11-30      1\n",
       "2018-10-13      1\n",
       "2018-11-24      1\n",
       "2018-10-07      1\n",
       "2018-12-22      1\n",
       "2018-11-21      1\n",
       "2018-11-18      1\n",
       "2018-09-17      1\n",
       "2018-07-31      1\n",
       "2018-12-30      1\n",
       "2018-11-29      1\n",
       "2018-11-16      1\n",
       "Name: churn_date, dtype: int64"
      ]
     },
     "execution_count": 238,
     "metadata": {},
     "output_type": "execute_result"
    }
   ],
   "source": [
    "users['churn_date'].value_counts(dropna=False)"
   ]
  },
  {
   "cell_type": "code",
   "execution_count": 239,
   "metadata": {},
   "outputs": [],
   "source": [
    "users['active'] = np.where(users['churn_date'].isna(), 1, 0)"
   ]
  },
  {
   "cell_type": "code",
   "execution_count": 240,
   "metadata": {},
   "outputs": [
    {
     "data": {
      "text/plain": [
       "1    466\n",
       "0     34\n",
       "Name: active, dtype: int64"
      ]
     },
     "execution_count": 240,
     "metadata": {},
     "output_type": "execute_result"
    }
   ],
   "source": [
    "users['active'].value_counts(dropna=False)"
   ]
  },
  {
   "cell_type": "markdown",
   "metadata": {},
   "source": [
    "## Calls"
   ]
  },
  {
   "cell_type": "code",
   "execution_count": 241,
   "metadata": {},
   "outputs": [
    {
     "name": "stdout",
     "output_type": "stream",
     "text": [
      "<class 'pandas.core.frame.DataFrame'>\n",
      "RangeIndex: 137735 entries, 0 to 137734\n",
      "Data columns (total 4 columns):\n",
      "id           137735 non-null object\n",
      "user_id      137735 non-null int64\n",
      "call_date    137735 non-null object\n",
      "duration     137735 non-null float64\n",
      "dtypes: float64(1), int64(1), object(2)\n",
      "memory usage: 4.2+ MB\n"
     ]
    }
   ],
   "source": [
    "# Print the general/summary information about the calls' DataFrame\n",
    "\n",
    "calls.info()"
   ]
  },
  {
   "cell_type": "code",
   "execution_count": 242,
   "metadata": {},
   "outputs": [
    {
     "data": {
      "text/html": [
       "<div>\n",
       "<style scoped>\n",
       "    .dataframe tbody tr th:only-of-type {\n",
       "        vertical-align: middle;\n",
       "    }\n",
       "\n",
       "    .dataframe tbody tr th {\n",
       "        vertical-align: top;\n",
       "    }\n",
       "\n",
       "    .dataframe thead th {\n",
       "        text-align: right;\n",
       "    }\n",
       "</style>\n",
       "<table border=\"1\" class=\"dataframe\">\n",
       "  <thead>\n",
       "    <tr style=\"text-align: right;\">\n",
       "      <th></th>\n",
       "      <th>id</th>\n",
       "      <th>user_id</th>\n",
       "      <th>call_date</th>\n",
       "      <th>duration</th>\n",
       "    </tr>\n",
       "  </thead>\n",
       "  <tbody>\n",
       "    <tr>\n",
       "      <td>0</td>\n",
       "      <td>1000_93</td>\n",
       "      <td>1000</td>\n",
       "      <td>2018-12-27</td>\n",
       "      <td>8.52</td>\n",
       "    </tr>\n",
       "    <tr>\n",
       "      <td>1</td>\n",
       "      <td>1000_145</td>\n",
       "      <td>1000</td>\n",
       "      <td>2018-12-27</td>\n",
       "      <td>13.66</td>\n",
       "    </tr>\n",
       "    <tr>\n",
       "      <td>2</td>\n",
       "      <td>1000_247</td>\n",
       "      <td>1000</td>\n",
       "      <td>2018-12-27</td>\n",
       "      <td>14.48</td>\n",
       "    </tr>\n",
       "    <tr>\n",
       "      <td>3</td>\n",
       "      <td>1000_309</td>\n",
       "      <td>1000</td>\n",
       "      <td>2018-12-28</td>\n",
       "      <td>5.76</td>\n",
       "    </tr>\n",
       "    <tr>\n",
       "      <td>4</td>\n",
       "      <td>1000_380</td>\n",
       "      <td>1000</td>\n",
       "      <td>2018-12-30</td>\n",
       "      <td>4.22</td>\n",
       "    </tr>\n",
       "    <tr>\n",
       "      <td>5</td>\n",
       "      <td>1000_388</td>\n",
       "      <td>1000</td>\n",
       "      <td>2018-12-31</td>\n",
       "      <td>2.20</td>\n",
       "    </tr>\n",
       "    <tr>\n",
       "      <td>6</td>\n",
       "      <td>1000_510</td>\n",
       "      <td>1000</td>\n",
       "      <td>2018-12-27</td>\n",
       "      <td>5.75</td>\n",
       "    </tr>\n",
       "    <tr>\n",
       "      <td>7</td>\n",
       "      <td>1000_521</td>\n",
       "      <td>1000</td>\n",
       "      <td>2018-12-28</td>\n",
       "      <td>14.18</td>\n",
       "    </tr>\n",
       "    <tr>\n",
       "      <td>8</td>\n",
       "      <td>1000_530</td>\n",
       "      <td>1000</td>\n",
       "      <td>2018-12-28</td>\n",
       "      <td>5.77</td>\n",
       "    </tr>\n",
       "    <tr>\n",
       "      <td>9</td>\n",
       "      <td>1000_544</td>\n",
       "      <td>1000</td>\n",
       "      <td>2018-12-26</td>\n",
       "      <td>4.40</td>\n",
       "    </tr>\n",
       "  </tbody>\n",
       "</table>\n",
       "</div>"
      ],
      "text/plain": [
       "         id  user_id   call_date  duration\n",
       "0   1000_93     1000  2018-12-27      8.52\n",
       "1  1000_145     1000  2018-12-27     13.66\n",
       "2  1000_247     1000  2018-12-27     14.48\n",
       "3  1000_309     1000  2018-12-28      5.76\n",
       "4  1000_380     1000  2018-12-30      4.22\n",
       "5  1000_388     1000  2018-12-31      2.20\n",
       "6  1000_510     1000  2018-12-27      5.75\n",
       "7  1000_521     1000  2018-12-28     14.18\n",
       "8  1000_530     1000  2018-12-28      5.77\n",
       "9  1000_544     1000  2018-12-26      4.40"
      ]
     },
     "metadata": {},
     "output_type": "display_data"
    }
   ],
   "source": [
    "# Print a sample of data for calls\n",
    "\n",
    "display(calls.head(10))"
   ]
  },
  {
   "cell_type": "code",
   "execution_count": 243,
   "metadata": {
    "scrolled": true
   },
   "outputs": [
    {
     "name": "stdout",
     "output_type": "stream",
     "text": [
      "id           0.0\n",
      "user_id      0.0\n",
      "call_date    0.0\n",
      "duration     0.0\n",
      "dtype: float64\n"
     ]
    }
   ],
   "source": [
    "calls_missing_perct = (calls.isna().sum())/calls.shape[0]*100\n",
    "print(calls_missing_perct)"
   ]
  },
  {
   "cell_type": "markdown",
   "metadata": {},
   "source": [
    "The `calls` dataframe has 137735 rows and 4 columns. No missing values were found! I think there are two obvious issues with the data set. \n",
    "1. The `user_id` column currently has `int64` as the data type. But it makes more sense for `user_id` to be of `string` data type. \n",
    "2. The `call_date` column currently have `object` as the data type. But it makes more sense for it to be of `datetime` data type. \n"
   ]
  },
  {
   "cell_type": "markdown",
   "metadata": {},
   "source": [
    "### Fix data"
   ]
  },
  {
   "cell_type": "markdown",
   "metadata": {},
   "source": [
    "We will change the data type of the `user_id` and `call_date` columns to `string` and `datetime`, respectively. "
   ]
  },
  {
   "cell_type": "code",
   "execution_count": 244,
   "metadata": {},
   "outputs": [],
   "source": [
    "calls['user_id'] = calls['user_id'].astype('str')\n",
    "calls['call_date'] = pd.to_datetime(calls['call_date'], format='%Y-%m-%d')"
   ]
  },
  {
   "cell_type": "markdown",
   "metadata": {},
   "source": [
    "### Enrich data"
   ]
  },
  {
   "cell_type": "markdown",
   "metadata": {},
   "source": [
    "Because the analysis is interested in the aggregated data in each month, we will created a new column called `month` that captures the month of the call. "
   ]
  },
  {
   "cell_type": "code",
   "execution_count": 245,
   "metadata": {},
   "outputs": [],
   "source": [
    "calls['month'] = calls['call_date'].dt.month"
   ]
  },
  {
   "cell_type": "markdown",
   "metadata": {},
   "source": [
    "For calls, the length of each individual call is rounded up: even if the call lasted just one second, it will be counted as one minute. Thus, we will round the minutes of each call up to the nearest integer."
   ]
  },
  {
   "cell_type": "code",
   "execution_count": 246,
   "metadata": {},
   "outputs": [],
   "source": [
    "calls['duration'] = calls['duration'] .apply(np.ceil)"
   ]
  },
  {
   "cell_type": "markdown",
   "metadata": {},
   "source": [
    "## Messages"
   ]
  },
  {
   "cell_type": "code",
   "execution_count": 247,
   "metadata": {},
   "outputs": [
    {
     "name": "stdout",
     "output_type": "stream",
     "text": [
      "<class 'pandas.core.frame.DataFrame'>\n",
      "RangeIndex: 76051 entries, 0 to 76050\n",
      "Data columns (total 3 columns):\n",
      "id              76051 non-null object\n",
      "user_id         76051 non-null int64\n",
      "message_date    76051 non-null object\n",
      "dtypes: int64(1), object(2)\n",
      "memory usage: 1.7+ MB\n"
     ]
    }
   ],
   "source": [
    "# Print the general/summary information about the messages' DataFrame\n",
    "\n",
    "messages.info()"
   ]
  },
  {
   "cell_type": "code",
   "execution_count": 248,
   "metadata": {},
   "outputs": [
    {
     "data": {
      "text/html": [
       "<div>\n",
       "<style scoped>\n",
       "    .dataframe tbody tr th:only-of-type {\n",
       "        vertical-align: middle;\n",
       "    }\n",
       "\n",
       "    .dataframe tbody tr th {\n",
       "        vertical-align: top;\n",
       "    }\n",
       "\n",
       "    .dataframe thead th {\n",
       "        text-align: right;\n",
       "    }\n",
       "</style>\n",
       "<table border=\"1\" class=\"dataframe\">\n",
       "  <thead>\n",
       "    <tr style=\"text-align: right;\">\n",
       "      <th></th>\n",
       "      <th>id</th>\n",
       "      <th>user_id</th>\n",
       "      <th>message_date</th>\n",
       "    </tr>\n",
       "  </thead>\n",
       "  <tbody>\n",
       "    <tr>\n",
       "      <td>0</td>\n",
       "      <td>1000_125</td>\n",
       "      <td>1000</td>\n",
       "      <td>2018-12-27</td>\n",
       "    </tr>\n",
       "    <tr>\n",
       "      <td>1</td>\n",
       "      <td>1000_160</td>\n",
       "      <td>1000</td>\n",
       "      <td>2018-12-31</td>\n",
       "    </tr>\n",
       "    <tr>\n",
       "      <td>2</td>\n",
       "      <td>1000_223</td>\n",
       "      <td>1000</td>\n",
       "      <td>2018-12-31</td>\n",
       "    </tr>\n",
       "    <tr>\n",
       "      <td>3</td>\n",
       "      <td>1000_251</td>\n",
       "      <td>1000</td>\n",
       "      <td>2018-12-27</td>\n",
       "    </tr>\n",
       "    <tr>\n",
       "      <td>4</td>\n",
       "      <td>1000_255</td>\n",
       "      <td>1000</td>\n",
       "      <td>2018-12-26</td>\n",
       "    </tr>\n",
       "    <tr>\n",
       "      <td>5</td>\n",
       "      <td>1000_346</td>\n",
       "      <td>1000</td>\n",
       "      <td>2018-12-29</td>\n",
       "    </tr>\n",
       "    <tr>\n",
       "      <td>6</td>\n",
       "      <td>1000_386</td>\n",
       "      <td>1000</td>\n",
       "      <td>2018-12-30</td>\n",
       "    </tr>\n",
       "    <tr>\n",
       "      <td>7</td>\n",
       "      <td>1000_413</td>\n",
       "      <td>1000</td>\n",
       "      <td>2018-12-31</td>\n",
       "    </tr>\n",
       "    <tr>\n",
       "      <td>8</td>\n",
       "      <td>1000_502</td>\n",
       "      <td>1000</td>\n",
       "      <td>2018-12-27</td>\n",
       "    </tr>\n",
       "    <tr>\n",
       "      <td>9</td>\n",
       "      <td>1000_525</td>\n",
       "      <td>1000</td>\n",
       "      <td>2018-12-28</td>\n",
       "    </tr>\n",
       "  </tbody>\n",
       "</table>\n",
       "</div>"
      ],
      "text/plain": [
       "         id  user_id message_date\n",
       "0  1000_125     1000   2018-12-27\n",
       "1  1000_160     1000   2018-12-31\n",
       "2  1000_223     1000   2018-12-31\n",
       "3  1000_251     1000   2018-12-27\n",
       "4  1000_255     1000   2018-12-26\n",
       "5  1000_346     1000   2018-12-29\n",
       "6  1000_386     1000   2018-12-30\n",
       "7  1000_413     1000   2018-12-31\n",
       "8  1000_502     1000   2018-12-27\n",
       "9  1000_525     1000   2018-12-28"
      ]
     },
     "metadata": {},
     "output_type": "display_data"
    }
   ],
   "source": [
    "# Print a sample of data for messages\n",
    "\n",
    "display(messages.head(10))"
   ]
  },
  {
   "cell_type": "code",
   "execution_count": 249,
   "metadata": {
    "scrolled": true
   },
   "outputs": [
    {
     "data": {
      "text/plain": [
       "id              0.0\n",
       "user_id         0.0\n",
       "message_date    0.0\n",
       "dtype: float64"
      ]
     },
     "metadata": {},
     "output_type": "display_data"
    }
   ],
   "source": [
    "messages_missing_perct = (messages.isna().sum())/messages.shape[0]*100\n",
    "display(messages_missing_perct)"
   ]
  },
  {
   "cell_type": "markdown",
   "metadata": {},
   "source": [
    "The `messages` dataframe has 76051 rows and 4 columns. No missing values were found! I think there are two obvious issues with the data set. \n",
    "1. The `user_id` column currently has `int64` as the data type. But it makes more sense for `user_id` to be of `string` data type. \n",
    "2. The `message_date` column currently have `object` as the data type. But it makes more sense for it to be of `datetime` data type. \n"
   ]
  },
  {
   "cell_type": "markdown",
   "metadata": {},
   "source": [
    "### Fix data"
   ]
  },
  {
   "cell_type": "code",
   "execution_count": 250,
   "metadata": {},
   "outputs": [],
   "source": [
    "messages['user_id'] = messages['user_id'].astype('str')\n",
    "messages['message_date'] = pd.to_datetime(messages['message_date'], format='%Y-%m-%d')"
   ]
  },
  {
   "cell_type": "markdown",
   "metadata": {},
   "source": [
    "### Enrich data"
   ]
  },
  {
   "cell_type": "markdown",
   "metadata": {},
   "source": [
    "Because the analysis is interested in the aggregated data in each month, we will created a new column called `month` that captures the month of the messages. "
   ]
  },
  {
   "cell_type": "code",
   "execution_count": 251,
   "metadata": {},
   "outputs": [],
   "source": [
    "messages['month'] = messages['message_date'].dt.month"
   ]
  },
  {
   "cell_type": "markdown",
   "metadata": {},
   "source": [
    "## Internet"
   ]
  },
  {
   "cell_type": "code",
   "execution_count": 252,
   "metadata": {},
   "outputs": [
    {
     "name": "stdout",
     "output_type": "stream",
     "text": [
      "<class 'pandas.core.frame.DataFrame'>\n",
      "RangeIndex: 104825 entries, 0 to 104824\n",
      "Data columns (total 4 columns):\n",
      "id              104825 non-null object\n",
      "user_id         104825 non-null int64\n",
      "session_date    104825 non-null object\n",
      "mb_used         104825 non-null float64\n",
      "dtypes: float64(1), int64(1), object(2)\n",
      "memory usage: 3.2+ MB\n"
     ]
    }
   ],
   "source": [
    "# Print the general/summary information about the internet DataFrame\n",
    "\n",
    "internet.info()"
   ]
  },
  {
   "cell_type": "code",
   "execution_count": 253,
   "metadata": {},
   "outputs": [
    {
     "data": {
      "text/html": [
       "<div>\n",
       "<style scoped>\n",
       "    .dataframe tbody tr th:only-of-type {\n",
       "        vertical-align: middle;\n",
       "    }\n",
       "\n",
       "    .dataframe tbody tr th {\n",
       "        vertical-align: top;\n",
       "    }\n",
       "\n",
       "    .dataframe thead th {\n",
       "        text-align: right;\n",
       "    }\n",
       "</style>\n",
       "<table border=\"1\" class=\"dataframe\">\n",
       "  <thead>\n",
       "    <tr style=\"text-align: right;\">\n",
       "      <th></th>\n",
       "      <th>id</th>\n",
       "      <th>user_id</th>\n",
       "      <th>session_date</th>\n",
       "      <th>mb_used</th>\n",
       "    </tr>\n",
       "  </thead>\n",
       "  <tbody>\n",
       "    <tr>\n",
       "      <td>0</td>\n",
       "      <td>1000_13</td>\n",
       "      <td>1000</td>\n",
       "      <td>2018-12-29</td>\n",
       "      <td>89.86</td>\n",
       "    </tr>\n",
       "    <tr>\n",
       "      <td>1</td>\n",
       "      <td>1000_204</td>\n",
       "      <td>1000</td>\n",
       "      <td>2018-12-31</td>\n",
       "      <td>0.00</td>\n",
       "    </tr>\n",
       "    <tr>\n",
       "      <td>2</td>\n",
       "      <td>1000_379</td>\n",
       "      <td>1000</td>\n",
       "      <td>2018-12-28</td>\n",
       "      <td>660.40</td>\n",
       "    </tr>\n",
       "    <tr>\n",
       "      <td>3</td>\n",
       "      <td>1000_413</td>\n",
       "      <td>1000</td>\n",
       "      <td>2018-12-26</td>\n",
       "      <td>270.99</td>\n",
       "    </tr>\n",
       "    <tr>\n",
       "      <td>4</td>\n",
       "      <td>1000_442</td>\n",
       "      <td>1000</td>\n",
       "      <td>2018-12-27</td>\n",
       "      <td>880.22</td>\n",
       "    </tr>\n",
       "    <tr>\n",
       "      <td>5</td>\n",
       "      <td>1001_0</td>\n",
       "      <td>1001</td>\n",
       "      <td>2018-08-24</td>\n",
       "      <td>284.68</td>\n",
       "    </tr>\n",
       "    <tr>\n",
       "      <td>6</td>\n",
       "      <td>1001_3</td>\n",
       "      <td>1001</td>\n",
       "      <td>2018-12-09</td>\n",
       "      <td>656.04</td>\n",
       "    </tr>\n",
       "    <tr>\n",
       "      <td>7</td>\n",
       "      <td>1001_4</td>\n",
       "      <td>1001</td>\n",
       "      <td>2018-11-04</td>\n",
       "      <td>16.97</td>\n",
       "    </tr>\n",
       "    <tr>\n",
       "      <td>8</td>\n",
       "      <td>1001_10</td>\n",
       "      <td>1001</td>\n",
       "      <td>2018-11-27</td>\n",
       "      <td>135.18</td>\n",
       "    </tr>\n",
       "    <tr>\n",
       "      <td>9</td>\n",
       "      <td>1001_15</td>\n",
       "      <td>1001</td>\n",
       "      <td>2018-12-13</td>\n",
       "      <td>761.92</td>\n",
       "    </tr>\n",
       "  </tbody>\n",
       "</table>\n",
       "</div>"
      ],
      "text/plain": [
       "         id  user_id session_date  mb_used\n",
       "0   1000_13     1000   2018-12-29    89.86\n",
       "1  1000_204     1000   2018-12-31     0.00\n",
       "2  1000_379     1000   2018-12-28   660.40\n",
       "3  1000_413     1000   2018-12-26   270.99\n",
       "4  1000_442     1000   2018-12-27   880.22\n",
       "5    1001_0     1001   2018-08-24   284.68\n",
       "6    1001_3     1001   2018-12-09   656.04\n",
       "7    1001_4     1001   2018-11-04    16.97\n",
       "8   1001_10     1001   2018-11-27   135.18\n",
       "9   1001_15     1001   2018-12-13   761.92"
      ]
     },
     "metadata": {},
     "output_type": "display_data"
    }
   ],
   "source": [
    "# Print a sample of data for the internet traffic\n",
    "\n",
    "display(internet.head(10))"
   ]
  },
  {
   "cell_type": "code",
   "execution_count": 254,
   "metadata": {
    "scrolled": true
   },
   "outputs": [
    {
     "name": "stdout",
     "output_type": "stream",
     "text": [
      "id              0.0\n",
      "user_id         0.0\n",
      "session_date    0.0\n",
      "mb_used         0.0\n",
      "dtype: float64\n"
     ]
    }
   ],
   "source": [
    "internet_missing_perct = (internet.isna().sum())/internet.shape[0]*100\n",
    "print(internet_missing_perct)"
   ]
  },
  {
   "cell_type": "markdown",
   "metadata": {},
   "source": [
    "The `internet` dataframe has 104825 rows and 4 columns. No missing values were found! I think there are two obvious issues with the data set. \n",
    "1. The `user_id` column currently has `int64` as the data type. But it makes more sense for `user_id` to be of `string` data type. \n",
    "2. The `session_date` column currently have `object` as the data type. But it makes more sense for it to be of `datetime` data type. "
   ]
  },
  {
   "cell_type": "markdown",
   "metadata": {},
   "source": [
    "### Fix data"
   ]
  },
  {
   "cell_type": "code",
   "execution_count": 255,
   "metadata": {},
   "outputs": [],
   "source": [
    "internet['user_id'] = internet['user_id'].astype('str')\n",
    "internet['session_date'] = pd.to_datetime(internet['session_date'], format='%Y-%m-%d')"
   ]
  },
  {
   "cell_type": "markdown",
   "metadata": {},
   "source": [
    "### Enrich data"
   ]
  },
  {
   "cell_type": "markdown",
   "metadata": {},
   "source": [
    "Because the analysis is interested in the aggregated data in each month, we will created a new column called `month` that captures the month of the internet sessions. "
   ]
  },
  {
   "cell_type": "code",
   "execution_count": 256,
   "metadata": {},
   "outputs": [],
   "source": [
    "internet['month'] = internet['session_date'].dt.month"
   ]
  },
  {
   "cell_type": "markdown",
   "metadata": {},
   "source": [
    "## Study plan conditions"
   ]
  },
  {
   "cell_type": "markdown",
   "metadata": {},
   "source": [
    "It is critical to understand how the plans work and how users are charged based on their plan subscription. So let's print out the plan information and view their conditions once again."
   ]
  },
  {
   "cell_type": "code",
   "execution_count": 257,
   "metadata": {},
   "outputs": [
    {
     "data": {
      "text/html": [
       "<div>\n",
       "<style scoped>\n",
       "    .dataframe tbody tr th:only-of-type {\n",
       "        vertical-align: middle;\n",
       "    }\n",
       "\n",
       "    .dataframe tbody tr th {\n",
       "        vertical-align: top;\n",
       "    }\n",
       "\n",
       "    .dataframe thead th {\n",
       "        text-align: right;\n",
       "    }\n",
       "</style>\n",
       "<table border=\"1\" class=\"dataframe\">\n",
       "  <thead>\n",
       "    <tr style=\"text-align: right;\">\n",
       "      <th></th>\n",
       "      <th>messages_included</th>\n",
       "      <th>mb_per_month_included</th>\n",
       "      <th>minutes_included</th>\n",
       "      <th>usd_monthly_pay</th>\n",
       "      <th>usd_per_gb</th>\n",
       "      <th>usd_per_message</th>\n",
       "      <th>usd_per_minute</th>\n",
       "      <th>plan_name</th>\n",
       "    </tr>\n",
       "  </thead>\n",
       "  <tbody>\n",
       "    <tr>\n",
       "      <td>0</td>\n",
       "      <td>50</td>\n",
       "      <td>15360</td>\n",
       "      <td>500</td>\n",
       "      <td>20</td>\n",
       "      <td>10</td>\n",
       "      <td>0.03</td>\n",
       "      <td>0.03</td>\n",
       "      <td>surf</td>\n",
       "    </tr>\n",
       "    <tr>\n",
       "      <td>1</td>\n",
       "      <td>1000</td>\n",
       "      <td>30720</td>\n",
       "      <td>3000</td>\n",
       "      <td>70</td>\n",
       "      <td>7</td>\n",
       "      <td>0.01</td>\n",
       "      <td>0.01</td>\n",
       "      <td>ultimate</td>\n",
       "    </tr>\n",
       "  </tbody>\n",
       "</table>\n",
       "</div>"
      ],
      "text/plain": [
       "   messages_included  mb_per_month_included  minutes_included  \\\n",
       "0                 50                  15360               500   \n",
       "1               1000                  30720              3000   \n",
       "\n",
       "   usd_monthly_pay  usd_per_gb  usd_per_message  usd_per_minute plan_name  \n",
       "0               20          10             0.03            0.03      surf  \n",
       "1               70           7             0.01            0.01  ultimate  "
      ]
     },
     "metadata": {},
     "output_type": "display_data"
    }
   ],
   "source": [
    "# Print out the plan conditions and make sure they are clear for you\n",
    "\n",
    "display(plans.head(5))"
   ]
  },
  {
   "cell_type": "markdown",
   "metadata": {},
   "source": [
    "## Aggregate data per user per period\n",
    "\n",
    "Now, as the data is clean, let's aggregate data per user per period in order to have just one record per user per period. It should ease the further analysis a lot."
   ]
  },
  {
   "cell_type": "code",
   "execution_count": 258,
   "metadata": {},
   "outputs": [
    {
     "data": {
      "text/plain": [
       "2018-12-27    1091\n",
       "2018-12-28    1085\n",
       "2018-12-30    1080\n",
       "2018-12-24    1078\n",
       "2018-12-29    1070\n",
       "              ... \n",
       "2018-01-17       6\n",
       "2018-01-26       6\n",
       "2018-01-15       5\n",
       "2018-01-18       4\n",
       "2018-01-24       3\n",
       "Name: call_date, Length: 351, dtype: int64"
      ]
     },
     "execution_count": 258,
     "metadata": {},
     "output_type": "execute_result"
    }
   ],
   "source": [
    "calls['call_date'].value_counts(dropna=False)"
   ]
  },
  {
   "cell_type": "code",
   "execution_count": 259,
   "metadata": {},
   "outputs": [
    {
     "data": {
      "text/html": [
       "<div>\n",
       "<style scoped>\n",
       "    .dataframe tbody tr th:only-of-type {\n",
       "        vertical-align: middle;\n",
       "    }\n",
       "\n",
       "    .dataframe tbody tr th {\n",
       "        vertical-align: top;\n",
       "    }\n",
       "\n",
       "    .dataframe thead th {\n",
       "        text-align: right;\n",
       "    }\n",
       "</style>\n",
       "<table border=\"1\" class=\"dataframe\">\n",
       "  <thead>\n",
       "    <tr style=\"text-align: right;\">\n",
       "      <th></th>\n",
       "      <th>user_id</th>\n",
       "      <th>month</th>\n",
       "      <th>num_calls</th>\n",
       "    </tr>\n",
       "  </thead>\n",
       "  <tbody>\n",
       "    <tr>\n",
       "      <td>0</td>\n",
       "      <td>1000</td>\n",
       "      <td>12</td>\n",
       "      <td>16</td>\n",
       "    </tr>\n",
       "    <tr>\n",
       "      <td>1</td>\n",
       "      <td>1001</td>\n",
       "      <td>8</td>\n",
       "      <td>27</td>\n",
       "    </tr>\n",
       "    <tr>\n",
       "      <td>2</td>\n",
       "      <td>1001</td>\n",
       "      <td>9</td>\n",
       "      <td>49</td>\n",
       "    </tr>\n",
       "    <tr>\n",
       "      <td>3</td>\n",
       "      <td>1001</td>\n",
       "      <td>10</td>\n",
       "      <td>65</td>\n",
       "    </tr>\n",
       "    <tr>\n",
       "      <td>4</td>\n",
       "      <td>1001</td>\n",
       "      <td>11</td>\n",
       "      <td>64</td>\n",
       "    </tr>\n",
       "    <tr>\n",
       "      <td>...</td>\n",
       "      <td>...</td>\n",
       "      <td>...</td>\n",
       "      <td>...</td>\n",
       "    </tr>\n",
       "    <tr>\n",
       "      <td>2253</td>\n",
       "      <td>1498</td>\n",
       "      <td>12</td>\n",
       "      <td>39</td>\n",
       "    </tr>\n",
       "    <tr>\n",
       "      <td>2254</td>\n",
       "      <td>1499</td>\n",
       "      <td>9</td>\n",
       "      <td>41</td>\n",
       "    </tr>\n",
       "    <tr>\n",
       "      <td>2255</td>\n",
       "      <td>1499</td>\n",
       "      <td>10</td>\n",
       "      <td>53</td>\n",
       "    </tr>\n",
       "    <tr>\n",
       "      <td>2256</td>\n",
       "      <td>1499</td>\n",
       "      <td>11</td>\n",
       "      <td>45</td>\n",
       "    </tr>\n",
       "    <tr>\n",
       "      <td>2257</td>\n",
       "      <td>1499</td>\n",
       "      <td>12</td>\n",
       "      <td>65</td>\n",
       "    </tr>\n",
       "  </tbody>\n",
       "</table>\n",
       "<p>2258 rows × 3 columns</p>\n",
       "</div>"
      ],
      "text/plain": [
       "     user_id  month  num_calls\n",
       "0       1000     12         16\n",
       "1       1001      8         27\n",
       "2       1001      9         49\n",
       "3       1001     10         65\n",
       "4       1001     11         64\n",
       "...      ...    ...        ...\n",
       "2253    1498     12         39\n",
       "2254    1499      9         41\n",
       "2255    1499     10         53\n",
       "2256    1499     11         45\n",
       "2257    1499     12         65\n",
       "\n",
       "[2258 rows x 3 columns]"
      ]
     },
     "execution_count": 259,
     "metadata": {},
     "output_type": "execute_result"
    }
   ],
   "source": [
    "# Calculate the number of calls made by each user per month. Save the result.\n",
    "\n",
    "calls_per_user_per_month = calls.pivot_table(index = ['user_id', 'month'], \n",
    "                                  values = 'id', \n",
    "                                  aggfunc= 'count')\n",
    "\n",
    "calls_per_user_per_month = calls_per_user_per_month.reset_index()\n",
    "# https://pandas.pydata.org/docs/reference/api/pandas.DataFrame.reset_index.html\n",
    "\n",
    "calls_per_user_per_month.columns = ['user_id', 'month', 'num_calls']\n",
    "calls_per_user_per_month"
   ]
  },
  {
   "cell_type": "code",
   "execution_count": 260,
   "metadata": {},
   "outputs": [
    {
     "data": {
      "text/html": [
       "<div>\n",
       "<style scoped>\n",
       "    .dataframe tbody tr th:only-of-type {\n",
       "        vertical-align: middle;\n",
       "    }\n",
       "\n",
       "    .dataframe tbody tr th {\n",
       "        vertical-align: top;\n",
       "    }\n",
       "\n",
       "    .dataframe thead th {\n",
       "        text-align: right;\n",
       "    }\n",
       "</style>\n",
       "<table border=\"1\" class=\"dataframe\">\n",
       "  <thead>\n",
       "    <tr style=\"text-align: right;\">\n",
       "      <th></th>\n",
       "      <th>user_id</th>\n",
       "      <th>month</th>\n",
       "      <th>call_duration</th>\n",
       "    </tr>\n",
       "  </thead>\n",
       "  <tbody>\n",
       "    <tr>\n",
       "      <td>0</td>\n",
       "      <td>1000</td>\n",
       "      <td>12</td>\n",
       "      <td>124.0</td>\n",
       "    </tr>\n",
       "    <tr>\n",
       "      <td>1</td>\n",
       "      <td>1001</td>\n",
       "      <td>8</td>\n",
       "      <td>182.0</td>\n",
       "    </tr>\n",
       "    <tr>\n",
       "      <td>2</td>\n",
       "      <td>1001</td>\n",
       "      <td>9</td>\n",
       "      <td>315.0</td>\n",
       "    </tr>\n",
       "    <tr>\n",
       "      <td>3</td>\n",
       "      <td>1001</td>\n",
       "      <td>10</td>\n",
       "      <td>393.0</td>\n",
       "    </tr>\n",
       "    <tr>\n",
       "      <td>4</td>\n",
       "      <td>1001</td>\n",
       "      <td>11</td>\n",
       "      <td>426.0</td>\n",
       "    </tr>\n",
       "    <tr>\n",
       "      <td>...</td>\n",
       "      <td>...</td>\n",
       "      <td>...</td>\n",
       "      <td>...</td>\n",
       "    </tr>\n",
       "    <tr>\n",
       "      <td>2253</td>\n",
       "      <td>1498</td>\n",
       "      <td>12</td>\n",
       "      <td>339.0</td>\n",
       "    </tr>\n",
       "    <tr>\n",
       "      <td>2254</td>\n",
       "      <td>1499</td>\n",
       "      <td>9</td>\n",
       "      <td>346.0</td>\n",
       "    </tr>\n",
       "    <tr>\n",
       "      <td>2255</td>\n",
       "      <td>1499</td>\n",
       "      <td>10</td>\n",
       "      <td>385.0</td>\n",
       "    </tr>\n",
       "    <tr>\n",
       "      <td>2256</td>\n",
       "      <td>1499</td>\n",
       "      <td>11</td>\n",
       "      <td>308.0</td>\n",
       "    </tr>\n",
       "    <tr>\n",
       "      <td>2257</td>\n",
       "      <td>1499</td>\n",
       "      <td>12</td>\n",
       "      <td>496.0</td>\n",
       "    </tr>\n",
       "  </tbody>\n",
       "</table>\n",
       "<p>2258 rows × 3 columns</p>\n",
       "</div>"
      ],
      "text/plain": [
       "     user_id  month  call_duration\n",
       "0       1000     12          124.0\n",
       "1       1001      8          182.0\n",
       "2       1001      9          315.0\n",
       "3       1001     10          393.0\n",
       "4       1001     11          426.0\n",
       "...      ...    ...            ...\n",
       "2253    1498     12          339.0\n",
       "2254    1499      9          346.0\n",
       "2255    1499     10          385.0\n",
       "2256    1499     11          308.0\n",
       "2257    1499     12          496.0\n",
       "\n",
       "[2258 rows x 3 columns]"
      ]
     },
     "execution_count": 260,
     "metadata": {},
     "output_type": "execute_result"
    }
   ],
   "source": [
    "# Calculate the amount of call minutes spent by each user per month. Save the result.\n",
    "\n",
    "call_minutes_per_user_per_month = calls.pivot_table(index = ['user_id', 'month'], \n",
    "                                  values = 'duration', \n",
    "                                  aggfunc= 'sum')\n",
    "\n",
    "call_minutes_per_user_per_month = call_minutes_per_user_per_month.reset_index()\n",
    "\n",
    "call_minutes_per_user_per_month.columns = ['user_id', 'month', 'call_duration']\n",
    "call_minutes_per_user_per_month"
   ]
  },
  {
   "cell_type": "code",
   "execution_count": 261,
   "metadata": {},
   "outputs": [
    {
     "data": {
      "text/html": [
       "<div>\n",
       "<style scoped>\n",
       "    .dataframe tbody tr th:only-of-type {\n",
       "        vertical-align: middle;\n",
       "    }\n",
       "\n",
       "    .dataframe tbody tr th {\n",
       "        vertical-align: top;\n",
       "    }\n",
       "\n",
       "    .dataframe thead th {\n",
       "        text-align: right;\n",
       "    }\n",
       "</style>\n",
       "<table border=\"1\" class=\"dataframe\">\n",
       "  <thead>\n",
       "    <tr style=\"text-align: right;\">\n",
       "      <th></th>\n",
       "      <th>user_id</th>\n",
       "      <th>month</th>\n",
       "      <th>num_messages</th>\n",
       "    </tr>\n",
       "  </thead>\n",
       "  <tbody>\n",
       "    <tr>\n",
       "      <td>0</td>\n",
       "      <td>1000</td>\n",
       "      <td>12</td>\n",
       "      <td>11</td>\n",
       "    </tr>\n",
       "    <tr>\n",
       "      <td>1</td>\n",
       "      <td>1001</td>\n",
       "      <td>8</td>\n",
       "      <td>30</td>\n",
       "    </tr>\n",
       "    <tr>\n",
       "      <td>2</td>\n",
       "      <td>1001</td>\n",
       "      <td>9</td>\n",
       "      <td>44</td>\n",
       "    </tr>\n",
       "    <tr>\n",
       "      <td>3</td>\n",
       "      <td>1001</td>\n",
       "      <td>10</td>\n",
       "      <td>53</td>\n",
       "    </tr>\n",
       "    <tr>\n",
       "      <td>4</td>\n",
       "      <td>1001</td>\n",
       "      <td>11</td>\n",
       "      <td>36</td>\n",
       "    </tr>\n",
       "    <tr>\n",
       "      <td>...</td>\n",
       "      <td>...</td>\n",
       "      <td>...</td>\n",
       "      <td>...</td>\n",
       "    </tr>\n",
       "    <tr>\n",
       "      <td>1801</td>\n",
       "      <td>1496</td>\n",
       "      <td>9</td>\n",
       "      <td>21</td>\n",
       "    </tr>\n",
       "    <tr>\n",
       "      <td>1802</td>\n",
       "      <td>1496</td>\n",
       "      <td>10</td>\n",
       "      <td>18</td>\n",
       "    </tr>\n",
       "    <tr>\n",
       "      <td>1803</td>\n",
       "      <td>1496</td>\n",
       "      <td>11</td>\n",
       "      <td>13</td>\n",
       "    </tr>\n",
       "    <tr>\n",
       "      <td>1804</td>\n",
       "      <td>1496</td>\n",
       "      <td>12</td>\n",
       "      <td>11</td>\n",
       "    </tr>\n",
       "    <tr>\n",
       "      <td>1805</td>\n",
       "      <td>1497</td>\n",
       "      <td>12</td>\n",
       "      <td>50</td>\n",
       "    </tr>\n",
       "  </tbody>\n",
       "</table>\n",
       "<p>1806 rows × 3 columns</p>\n",
       "</div>"
      ],
      "text/plain": [
       "     user_id  month  num_messages\n",
       "0       1000     12            11\n",
       "1       1001      8            30\n",
       "2       1001      9            44\n",
       "3       1001     10            53\n",
       "4       1001     11            36\n",
       "...      ...    ...           ...\n",
       "1801    1496      9            21\n",
       "1802    1496     10            18\n",
       "1803    1496     11            13\n",
       "1804    1496     12            11\n",
       "1805    1497     12            50\n",
       "\n",
       "[1806 rows x 3 columns]"
      ]
     },
     "execution_count": 261,
     "metadata": {},
     "output_type": "execute_result"
    }
   ],
   "source": [
    "# Calculate the number of messages sent by each user per month. Save the result.\n",
    "\n",
    "messages_per_user_per_month = messages.pivot_table(index = ['user_id', 'month'], \n",
    "                                  values = 'id', \n",
    "                                  aggfunc= 'count')\n",
    "\n",
    "messages_per_user_per_month = messages_per_user_per_month.reset_index()\n",
    "messages_per_user_per_month.columns = ['user_id', 'month', 'num_messages']\n",
    "messages_per_user_per_month"
   ]
  },
  {
   "cell_type": "markdown",
   "metadata": {},
   "source": [
    "For web traffic, individual web sessions are not rounded up. Instead, the total for the month is rounded up. If someone uses 1025 megabytes this month, they will be charged for 2 gigabytes."
   ]
  },
  {
   "cell_type": "code",
   "execution_count": 262,
   "metadata": {},
   "outputs": [
    {
     "data": {
      "text/html": [
       "<div>\n",
       "<style scoped>\n",
       "    .dataframe tbody tr th:only-of-type {\n",
       "        vertical-align: middle;\n",
       "    }\n",
       "\n",
       "    .dataframe tbody tr th {\n",
       "        vertical-align: top;\n",
       "    }\n",
       "\n",
       "    .dataframe thead th {\n",
       "        text-align: right;\n",
       "    }\n",
       "</style>\n",
       "<table border=\"1\" class=\"dataframe\">\n",
       "  <thead>\n",
       "    <tr style=\"text-align: right;\">\n",
       "      <th></th>\n",
       "      <th>user_id</th>\n",
       "      <th>month</th>\n",
       "      <th>gb_used</th>\n",
       "    </tr>\n",
       "  </thead>\n",
       "  <tbody>\n",
       "    <tr>\n",
       "      <td>0</td>\n",
       "      <td>1000</td>\n",
       "      <td>12</td>\n",
       "      <td>2.0</td>\n",
       "    </tr>\n",
       "    <tr>\n",
       "      <td>1</td>\n",
       "      <td>1001</td>\n",
       "      <td>8</td>\n",
       "      <td>7.0</td>\n",
       "    </tr>\n",
       "    <tr>\n",
       "      <td>2</td>\n",
       "      <td>1001</td>\n",
       "      <td>9</td>\n",
       "      <td>14.0</td>\n",
       "    </tr>\n",
       "    <tr>\n",
       "      <td>3</td>\n",
       "      <td>1001</td>\n",
       "      <td>10</td>\n",
       "      <td>22.0</td>\n",
       "    </tr>\n",
       "    <tr>\n",
       "      <td>4</td>\n",
       "      <td>1001</td>\n",
       "      <td>11</td>\n",
       "      <td>19.0</td>\n",
       "    </tr>\n",
       "    <tr>\n",
       "      <td>...</td>\n",
       "      <td>...</td>\n",
       "      <td>...</td>\n",
       "      <td>...</td>\n",
       "    </tr>\n",
       "    <tr>\n",
       "      <td>2272</td>\n",
       "      <td>1498</td>\n",
       "      <td>12</td>\n",
       "      <td>23.0</td>\n",
       "    </tr>\n",
       "    <tr>\n",
       "      <td>2273</td>\n",
       "      <td>1499</td>\n",
       "      <td>9</td>\n",
       "      <td>13.0</td>\n",
       "    </tr>\n",
       "    <tr>\n",
       "      <td>2274</td>\n",
       "      <td>1499</td>\n",
       "      <td>10</td>\n",
       "      <td>20.0</td>\n",
       "    </tr>\n",
       "    <tr>\n",
       "      <td>2275</td>\n",
       "      <td>1499</td>\n",
       "      <td>11</td>\n",
       "      <td>17.0</td>\n",
       "    </tr>\n",
       "    <tr>\n",
       "      <td>2276</td>\n",
       "      <td>1499</td>\n",
       "      <td>12</td>\n",
       "      <td>22.0</td>\n",
       "    </tr>\n",
       "  </tbody>\n",
       "</table>\n",
       "<p>2277 rows × 3 columns</p>\n",
       "</div>"
      ],
      "text/plain": [
       "     user_id  month  gb_used\n",
       "0       1000     12      2.0\n",
       "1       1001      8      7.0\n",
       "2       1001      9     14.0\n",
       "3       1001     10     22.0\n",
       "4       1001     11     19.0\n",
       "...      ...    ...      ...\n",
       "2272    1498     12     23.0\n",
       "2273    1499      9     13.0\n",
       "2274    1499     10     20.0\n",
       "2275    1499     11     17.0\n",
       "2276    1499     12     22.0\n",
       "\n",
       "[2277 rows x 3 columns]"
      ]
     },
     "execution_count": 262,
     "metadata": {},
     "output_type": "execute_result"
    }
   ],
   "source": [
    "# Calculate the volume of internet traffic used by each user per month. Save the result.\n",
    "\n",
    "internet_volumn_per_user_per_month = internet.pivot_table(index = ['user_id', 'month'], \n",
    "                                  values = 'mb_used', \n",
    "                                  aggfunc= 'sum')\n",
    "\n",
    "internet_volumn_per_user_per_month = internet_volumn_per_user_per_month.reset_index()\n",
    "\n",
    "internet_volumn_per_user_per_month.columns = ['user_id', 'month', 'gb_used']\n",
    "\n",
    "internet_volumn_per_user_per_month['gb_used'] = np.ceil(internet_volumn_per_user_per_month['gb_used']/1024)\n",
    "\n",
    "internet_volumn_per_user_per_month"
   ]
  },
  {
   "cell_type": "markdown",
   "metadata": {},
   "source": [
    "Let's put the aggregate data together into one DataFrame so that one record in it would represent what an unique user consumed in a given month."
   ]
  },
  {
   "cell_type": "code",
   "execution_count": 263,
   "metadata": {
    "scrolled": true
   },
   "outputs": [
    {
     "data": {
      "text/html": [
       "<div>\n",
       "<style scoped>\n",
       "    .dataframe tbody tr th:only-of-type {\n",
       "        vertical-align: middle;\n",
       "    }\n",
       "\n",
       "    .dataframe tbody tr th {\n",
       "        vertical-align: top;\n",
       "    }\n",
       "\n",
       "    .dataframe thead th {\n",
       "        text-align: right;\n",
       "    }\n",
       "</style>\n",
       "<table border=\"1\" class=\"dataframe\">\n",
       "  <thead>\n",
       "    <tr style=\"text-align: right;\">\n",
       "      <th></th>\n",
       "      <th>user_id</th>\n",
       "      <th>month</th>\n",
       "      <th>num_calls</th>\n",
       "      <th>call_duration</th>\n",
       "      <th>num_messages</th>\n",
       "      <th>gb_used</th>\n",
       "    </tr>\n",
       "  </thead>\n",
       "  <tbody>\n",
       "    <tr>\n",
       "      <td>0</td>\n",
       "      <td>1000</td>\n",
       "      <td>12</td>\n",
       "      <td>16.0</td>\n",
       "      <td>124.0</td>\n",
       "      <td>11.0</td>\n",
       "      <td>2.0</td>\n",
       "    </tr>\n",
       "    <tr>\n",
       "      <td>1</td>\n",
       "      <td>1001</td>\n",
       "      <td>8</td>\n",
       "      <td>27.0</td>\n",
       "      <td>182.0</td>\n",
       "      <td>30.0</td>\n",
       "      <td>7.0</td>\n",
       "    </tr>\n",
       "    <tr>\n",
       "      <td>2</td>\n",
       "      <td>1001</td>\n",
       "      <td>9</td>\n",
       "      <td>49.0</td>\n",
       "      <td>315.0</td>\n",
       "      <td>44.0</td>\n",
       "      <td>14.0</td>\n",
       "    </tr>\n",
       "    <tr>\n",
       "      <td>3</td>\n",
       "      <td>1001</td>\n",
       "      <td>10</td>\n",
       "      <td>65.0</td>\n",
       "      <td>393.0</td>\n",
       "      <td>53.0</td>\n",
       "      <td>22.0</td>\n",
       "    </tr>\n",
       "    <tr>\n",
       "      <td>4</td>\n",
       "      <td>1001</td>\n",
       "      <td>11</td>\n",
       "      <td>64.0</td>\n",
       "      <td>426.0</td>\n",
       "      <td>36.0</td>\n",
       "      <td>19.0</td>\n",
       "    </tr>\n",
       "    <tr>\n",
       "      <td>...</td>\n",
       "      <td>...</td>\n",
       "      <td>...</td>\n",
       "      <td>...</td>\n",
       "      <td>...</td>\n",
       "      <td>...</td>\n",
       "      <td>...</td>\n",
       "    </tr>\n",
       "    <tr>\n",
       "      <td>2288</td>\n",
       "      <td>1349</td>\n",
       "      <td>12</td>\n",
       "      <td>NaN</td>\n",
       "      <td>NaN</td>\n",
       "      <td>61.0</td>\n",
       "      <td>13.0</td>\n",
       "    </tr>\n",
       "    <tr>\n",
       "      <td>2289</td>\n",
       "      <td>1361</td>\n",
       "      <td>5</td>\n",
       "      <td>NaN</td>\n",
       "      <td>NaN</td>\n",
       "      <td>2.0</td>\n",
       "      <td>2.0</td>\n",
       "    </tr>\n",
       "    <tr>\n",
       "      <td>2290</td>\n",
       "      <td>1482</td>\n",
       "      <td>10</td>\n",
       "      <td>NaN</td>\n",
       "      <td>NaN</td>\n",
       "      <td>2.0</td>\n",
       "      <td>NaN</td>\n",
       "    </tr>\n",
       "    <tr>\n",
       "      <td>2291</td>\n",
       "      <td>1108</td>\n",
       "      <td>12</td>\n",
       "      <td>NaN</td>\n",
       "      <td>NaN</td>\n",
       "      <td>NaN</td>\n",
       "      <td>1.0</td>\n",
       "    </tr>\n",
       "    <tr>\n",
       "      <td>2292</td>\n",
       "      <td>1311</td>\n",
       "      <td>6</td>\n",
       "      <td>NaN</td>\n",
       "      <td>NaN</td>\n",
       "      <td>NaN</td>\n",
       "      <td>2.0</td>\n",
       "    </tr>\n",
       "  </tbody>\n",
       "</table>\n",
       "<p>2293 rows × 6 columns</p>\n",
       "</div>"
      ],
      "text/plain": [
       "     user_id  month  num_calls  call_duration  num_messages  gb_used\n",
       "0       1000     12       16.0          124.0          11.0      2.0\n",
       "1       1001      8       27.0          182.0          30.0      7.0\n",
       "2       1001      9       49.0          315.0          44.0     14.0\n",
       "3       1001     10       65.0          393.0          53.0     22.0\n",
       "4       1001     11       64.0          426.0          36.0     19.0\n",
       "...      ...    ...        ...            ...           ...      ...\n",
       "2288    1349     12        NaN            NaN          61.0     13.0\n",
       "2289    1361      5        NaN            NaN           2.0      2.0\n",
       "2290    1482     10        NaN            NaN           2.0      NaN\n",
       "2291    1108     12        NaN            NaN           NaN      1.0\n",
       "2292    1311      6        NaN            NaN           NaN      2.0\n",
       "\n",
       "[2293 rows x 6 columns]"
      ]
     },
     "execution_count": 263,
     "metadata": {},
     "output_type": "execute_result"
    }
   ],
   "source": [
    "# Merge the data for calls, minutes, messages, internet based on user_id and month\n",
    "\n",
    "data = calls_per_user_per_month.merge(call_minutes_per_user_per_month, \n",
    "                                      left_on=['user_id', 'month'], \n",
    "                                      right_on =['user_id', 'month'], \n",
    "                                      how='outer')\n",
    "data = data.merge(messages_per_user_per_month,\n",
    "                                      left_on=['user_id', 'month'], \n",
    "                                      right_on =['user_id', 'month'], \n",
    "                                      how='outer')\n",
    "                                \n",
    "data = data.merge(internet_volumn_per_user_per_month,\n",
    "                                      left_on=['user_id', 'month'], \n",
    "                                      right_on =['user_id', 'month'], \n",
    "                                      how='outer')\n",
    "data"
   ]
  },
  {
   "cell_type": "code",
   "execution_count": 264,
   "metadata": {
    "scrolled": false
   },
   "outputs": [
    {
     "data": {
      "text/html": [
       "<div>\n",
       "<style scoped>\n",
       "    .dataframe tbody tr th:only-of-type {\n",
       "        vertical-align: middle;\n",
       "    }\n",
       "\n",
       "    .dataframe tbody tr th {\n",
       "        vertical-align: top;\n",
       "    }\n",
       "\n",
       "    .dataframe thead th {\n",
       "        text-align: right;\n",
       "    }\n",
       "</style>\n",
       "<table border=\"1\" class=\"dataframe\">\n",
       "  <thead>\n",
       "    <tr style=\"text-align: right;\">\n",
       "      <th></th>\n",
       "      <th>user_id</th>\n",
       "      <th>month</th>\n",
       "      <th>num_calls</th>\n",
       "      <th>call_duration</th>\n",
       "      <th>num_messages</th>\n",
       "      <th>gb_used</th>\n",
       "      <th>first_name</th>\n",
       "      <th>last_name</th>\n",
       "      <th>age</th>\n",
       "      <th>city</th>\n",
       "      <th>reg_date</th>\n",
       "      <th>plan</th>\n",
       "      <th>churn_date</th>\n",
       "      <th>active</th>\n",
       "    </tr>\n",
       "  </thead>\n",
       "  <tbody>\n",
       "    <tr>\n",
       "      <td>0</td>\n",
       "      <td>1000</td>\n",
       "      <td>12</td>\n",
       "      <td>16.0</td>\n",
       "      <td>124.0</td>\n",
       "      <td>11.0</td>\n",
       "      <td>2.0</td>\n",
       "      <td>Anamaria</td>\n",
       "      <td>Bauer</td>\n",
       "      <td>45</td>\n",
       "      <td>Atlanta-Sandy Springs-Roswell, GA MSA</td>\n",
       "      <td>2018-12-24</td>\n",
       "      <td>ultimate</td>\n",
       "      <td>NaT</td>\n",
       "      <td>1</td>\n",
       "    </tr>\n",
       "    <tr>\n",
       "      <td>1</td>\n",
       "      <td>1001</td>\n",
       "      <td>8</td>\n",
       "      <td>27.0</td>\n",
       "      <td>182.0</td>\n",
       "      <td>30.0</td>\n",
       "      <td>7.0</td>\n",
       "      <td>Mickey</td>\n",
       "      <td>Wilkerson</td>\n",
       "      <td>28</td>\n",
       "      <td>Seattle-Tacoma-Bellevue, WA MSA</td>\n",
       "      <td>2018-08-13</td>\n",
       "      <td>surf</td>\n",
       "      <td>NaT</td>\n",
       "      <td>1</td>\n",
       "    </tr>\n",
       "    <tr>\n",
       "      <td>2</td>\n",
       "      <td>1001</td>\n",
       "      <td>9</td>\n",
       "      <td>49.0</td>\n",
       "      <td>315.0</td>\n",
       "      <td>44.0</td>\n",
       "      <td>14.0</td>\n",
       "      <td>Mickey</td>\n",
       "      <td>Wilkerson</td>\n",
       "      <td>28</td>\n",
       "      <td>Seattle-Tacoma-Bellevue, WA MSA</td>\n",
       "      <td>2018-08-13</td>\n",
       "      <td>surf</td>\n",
       "      <td>NaT</td>\n",
       "      <td>1</td>\n",
       "    </tr>\n",
       "    <tr>\n",
       "      <td>3</td>\n",
       "      <td>1001</td>\n",
       "      <td>10</td>\n",
       "      <td>65.0</td>\n",
       "      <td>393.0</td>\n",
       "      <td>53.0</td>\n",
       "      <td>22.0</td>\n",
       "      <td>Mickey</td>\n",
       "      <td>Wilkerson</td>\n",
       "      <td>28</td>\n",
       "      <td>Seattle-Tacoma-Bellevue, WA MSA</td>\n",
       "      <td>2018-08-13</td>\n",
       "      <td>surf</td>\n",
       "      <td>NaT</td>\n",
       "      <td>1</td>\n",
       "    </tr>\n",
       "    <tr>\n",
       "      <td>4</td>\n",
       "      <td>1001</td>\n",
       "      <td>11</td>\n",
       "      <td>64.0</td>\n",
       "      <td>426.0</td>\n",
       "      <td>36.0</td>\n",
       "      <td>19.0</td>\n",
       "      <td>Mickey</td>\n",
       "      <td>Wilkerson</td>\n",
       "      <td>28</td>\n",
       "      <td>Seattle-Tacoma-Bellevue, WA MSA</td>\n",
       "      <td>2018-08-13</td>\n",
       "      <td>surf</td>\n",
       "      <td>NaT</td>\n",
       "      <td>1</td>\n",
       "    </tr>\n",
       "    <tr>\n",
       "      <td>...</td>\n",
       "      <td>...</td>\n",
       "      <td>...</td>\n",
       "      <td>...</td>\n",
       "      <td>...</td>\n",
       "      <td>...</td>\n",
       "      <td>...</td>\n",
       "      <td>...</td>\n",
       "      <td>...</td>\n",
       "      <td>...</td>\n",
       "      <td>...</td>\n",
       "      <td>...</td>\n",
       "      <td>...</td>\n",
       "      <td>...</td>\n",
       "      <td>...</td>\n",
       "    </tr>\n",
       "    <tr>\n",
       "      <td>2288</td>\n",
       "      <td>1349</td>\n",
       "      <td>12</td>\n",
       "      <td>NaN</td>\n",
       "      <td>NaN</td>\n",
       "      <td>61.0</td>\n",
       "      <td>13.0</td>\n",
       "      <td>Florentina</td>\n",
       "      <td>Diaz</td>\n",
       "      <td>69</td>\n",
       "      <td>Boston-Cambridge-Newton, MA-NH MSA</td>\n",
       "      <td>2018-10-01</td>\n",
       "      <td>surf</td>\n",
       "      <td>NaT</td>\n",
       "      <td>1</td>\n",
       "    </tr>\n",
       "    <tr>\n",
       "      <td>2289</td>\n",
       "      <td>1361</td>\n",
       "      <td>5</td>\n",
       "      <td>NaN</td>\n",
       "      <td>NaN</td>\n",
       "      <td>2.0</td>\n",
       "      <td>2.0</td>\n",
       "      <td>Jacelyn</td>\n",
       "      <td>Hoffman</td>\n",
       "      <td>45</td>\n",
       "      <td>Birmingham-Hoover, AL MSA</td>\n",
       "      <td>2018-04-14</td>\n",
       "      <td>surf</td>\n",
       "      <td>NaT</td>\n",
       "      <td>1</td>\n",
       "    </tr>\n",
       "    <tr>\n",
       "      <td>2290</td>\n",
       "      <td>1482</td>\n",
       "      <td>10</td>\n",
       "      <td>NaN</td>\n",
       "      <td>NaN</td>\n",
       "      <td>2.0</td>\n",
       "      <td>NaN</td>\n",
       "      <td>Armand</td>\n",
       "      <td>Glenn</td>\n",
       "      <td>70</td>\n",
       "      <td>New York-Newark-Jersey City, NY-NJ-PA MSA</td>\n",
       "      <td>2018-01-01</td>\n",
       "      <td>ultimate</td>\n",
       "      <td>NaT</td>\n",
       "      <td>1</td>\n",
       "    </tr>\n",
       "    <tr>\n",
       "      <td>2291</td>\n",
       "      <td>1108</td>\n",
       "      <td>12</td>\n",
       "      <td>NaN</td>\n",
       "      <td>NaN</td>\n",
       "      <td>NaN</td>\n",
       "      <td>1.0</td>\n",
       "      <td>Porfirio</td>\n",
       "      <td>Kane</td>\n",
       "      <td>45</td>\n",
       "      <td>Salt Lake City, UT MSA</td>\n",
       "      <td>2018-12-30</td>\n",
       "      <td>ultimate</td>\n",
       "      <td>NaT</td>\n",
       "      <td>1</td>\n",
       "    </tr>\n",
       "    <tr>\n",
       "      <td>2292</td>\n",
       "      <td>1311</td>\n",
       "      <td>6</td>\n",
       "      <td>NaN</td>\n",
       "      <td>NaN</td>\n",
       "      <td>NaN</td>\n",
       "      <td>2.0</td>\n",
       "      <td>Cherlyn</td>\n",
       "      <td>Saunders</td>\n",
       "      <td>69</td>\n",
       "      <td>Memphis, TN-MS-AR MSA</td>\n",
       "      <td>2018-06-27</td>\n",
       "      <td>ultimate</td>\n",
       "      <td>NaT</td>\n",
       "      <td>1</td>\n",
       "    </tr>\n",
       "  </tbody>\n",
       "</table>\n",
       "<p>2293 rows × 14 columns</p>\n",
       "</div>"
      ],
      "text/plain": [
       "     user_id  month  num_calls  call_duration  num_messages  gb_used  \\\n",
       "0       1000     12       16.0          124.0          11.0      2.0   \n",
       "1       1001      8       27.0          182.0          30.0      7.0   \n",
       "2       1001      9       49.0          315.0          44.0     14.0   \n",
       "3       1001     10       65.0          393.0          53.0     22.0   \n",
       "4       1001     11       64.0          426.0          36.0     19.0   \n",
       "...      ...    ...        ...            ...           ...      ...   \n",
       "2288    1349     12        NaN            NaN          61.0     13.0   \n",
       "2289    1361      5        NaN            NaN           2.0      2.0   \n",
       "2290    1482     10        NaN            NaN           2.0      NaN   \n",
       "2291    1108     12        NaN            NaN           NaN      1.0   \n",
       "2292    1311      6        NaN            NaN           NaN      2.0   \n",
       "\n",
       "      first_name  last_name  age                                       city  \\\n",
       "0       Anamaria      Bauer   45      Atlanta-Sandy Springs-Roswell, GA MSA   \n",
       "1         Mickey  Wilkerson   28            Seattle-Tacoma-Bellevue, WA MSA   \n",
       "2         Mickey  Wilkerson   28            Seattle-Tacoma-Bellevue, WA MSA   \n",
       "3         Mickey  Wilkerson   28            Seattle-Tacoma-Bellevue, WA MSA   \n",
       "4         Mickey  Wilkerson   28            Seattle-Tacoma-Bellevue, WA MSA   \n",
       "...          ...        ...  ...                                        ...   \n",
       "2288  Florentina       Diaz   69         Boston-Cambridge-Newton, MA-NH MSA   \n",
       "2289     Jacelyn    Hoffman   45                  Birmingham-Hoover, AL MSA   \n",
       "2290      Armand      Glenn   70  New York-Newark-Jersey City, NY-NJ-PA MSA   \n",
       "2291    Porfirio       Kane   45                     Salt Lake City, UT MSA   \n",
       "2292     Cherlyn   Saunders   69                      Memphis, TN-MS-AR MSA   \n",
       "\n",
       "       reg_date      plan churn_date  active  \n",
       "0    2018-12-24  ultimate        NaT       1  \n",
       "1    2018-08-13      surf        NaT       1  \n",
       "2    2018-08-13      surf        NaT       1  \n",
       "3    2018-08-13      surf        NaT       1  \n",
       "4    2018-08-13      surf        NaT       1  \n",
       "...         ...       ...        ...     ...  \n",
       "2288 2018-10-01      surf        NaT       1  \n",
       "2289 2018-04-14      surf        NaT       1  \n",
       "2290 2018-01-01  ultimate        NaT       1  \n",
       "2291 2018-12-30  ultimate        NaT       1  \n",
       "2292 2018-06-27  ultimate        NaT       1  \n",
       "\n",
       "[2293 rows x 14 columns]"
      ]
     },
     "execution_count": 264,
     "metadata": {},
     "output_type": "execute_result"
    }
   ],
   "source": [
    "# Add the plan information\n",
    "\n",
    "data = data.merge(users,\n",
    "                  left_on=['user_id'], \n",
    "                  right_on =['user_id'], \n",
    "                  how='left')\n",
    "\n",
    "data"
   ]
  },
  {
   "cell_type": "code",
   "execution_count": 265,
   "metadata": {
    "scrolled": false
   },
   "outputs": [
    {
     "data": {
      "text/html": [
       "<div>\n",
       "<style scoped>\n",
       "    .dataframe tbody tr th:only-of-type {\n",
       "        vertical-align: middle;\n",
       "    }\n",
       "\n",
       "    .dataframe tbody tr th {\n",
       "        vertical-align: top;\n",
       "    }\n",
       "\n",
       "    .dataframe thead th {\n",
       "        text-align: right;\n",
       "    }\n",
       "</style>\n",
       "<table border=\"1\" class=\"dataframe\">\n",
       "  <thead>\n",
       "    <tr style=\"text-align: right;\">\n",
       "      <th></th>\n",
       "      <th>user_id</th>\n",
       "      <th>month</th>\n",
       "      <th>num_calls</th>\n",
       "      <th>call_duration</th>\n",
       "      <th>num_messages</th>\n",
       "      <th>gb_used</th>\n",
       "      <th>age</th>\n",
       "      <th>city</th>\n",
       "      <th>reg_date</th>\n",
       "      <th>plan</th>\n",
       "      <th>churn_date</th>\n",
       "      <th>active</th>\n",
       "    </tr>\n",
       "  </thead>\n",
       "  <tbody>\n",
       "    <tr>\n",
       "      <td>19</td>\n",
       "      <td>1006</td>\n",
       "      <td>11</td>\n",
       "      <td>2.0</td>\n",
       "      <td>10.0</td>\n",
       "      <td>15.0</td>\n",
       "      <td>3.0</td>\n",
       "      <td>73</td>\n",
       "      <td>San Francisco-Oakland-Berkeley, CA MSA</td>\n",
       "      <td>2018-11-27</td>\n",
       "      <td>ultimate</td>\n",
       "      <td>2018-12-18</td>\n",
       "      <td>0</td>\n",
       "    </tr>\n",
       "    <tr>\n",
       "      <td>20</td>\n",
       "      <td>1006</td>\n",
       "      <td>12</td>\n",
       "      <td>9.0</td>\n",
       "      <td>59.0</td>\n",
       "      <td>139.0</td>\n",
       "      <td>32.0</td>\n",
       "      <td>73</td>\n",
       "      <td>San Francisco-Oakland-Berkeley, CA MSA</td>\n",
       "      <td>2018-11-27</td>\n",
       "      <td>ultimate</td>\n",
       "      <td>2018-12-18</td>\n",
       "      <td>0</td>\n",
       "    </tr>\n",
       "    <tr>\n",
       "      <td>53</td>\n",
       "      <td>1012</td>\n",
       "      <td>11</td>\n",
       "      <td>10.0</td>\n",
       "      <td>75.0</td>\n",
       "      <td>0.0</td>\n",
       "      <td>14.0</td>\n",
       "      <td>59</td>\n",
       "      <td>Chicago-Naperville-Elgin, IL-IN-WI MSA</td>\n",
       "      <td>2018-06-28</td>\n",
       "      <td>surf</td>\n",
       "      <td>2018-11-16</td>\n",
       "      <td>0</td>\n",
       "    </tr>\n",
       "    <tr>\n",
       "      <td>54</td>\n",
       "      <td>1012</td>\n",
       "      <td>12</td>\n",
       "      <td>16.0</td>\n",
       "      <td>78.0</td>\n",
       "      <td>0.0</td>\n",
       "      <td>12.0</td>\n",
       "      <td>59</td>\n",
       "      <td>Chicago-Naperville-Elgin, IL-IN-WI MSA</td>\n",
       "      <td>2018-06-28</td>\n",
       "      <td>surf</td>\n",
       "      <td>2018-11-16</td>\n",
       "      <td>0</td>\n",
       "    </tr>\n",
       "    <tr>\n",
       "      <td>75</td>\n",
       "      <td>1022</td>\n",
       "      <td>5</td>\n",
       "      <td>39.0</td>\n",
       "      <td>302.0</td>\n",
       "      <td>0.0</td>\n",
       "      <td>5.0</td>\n",
       "      <td>73</td>\n",
       "      <td>New York-Newark-Jersey City, NY-NJ-PA MSA</td>\n",
       "      <td>2018-04-20</td>\n",
       "      <td>surf</td>\n",
       "      <td>2018-09-07</td>\n",
       "      <td>0</td>\n",
       "    </tr>\n",
       "    <tr>\n",
       "      <td>...</td>\n",
       "      <td>...</td>\n",
       "      <td>...</td>\n",
       "      <td>...</td>\n",
       "      <td>...</td>\n",
       "      <td>...</td>\n",
       "      <td>...</td>\n",
       "      <td>...</td>\n",
       "      <td>...</td>\n",
       "      <td>...</td>\n",
       "      <td>...</td>\n",
       "      <td>...</td>\n",
       "      <td>...</td>\n",
       "    </tr>\n",
       "    <tr>\n",
       "      <td>2213</td>\n",
       "      <td>1491</td>\n",
       "      <td>8</td>\n",
       "      <td>54.0</td>\n",
       "      <td>382.0</td>\n",
       "      <td>50.0</td>\n",
       "      <td>11.0</td>\n",
       "      <td>22</td>\n",
       "      <td>Grand Rapids-Kentwood, MI MSA</td>\n",
       "      <td>2018-04-27</td>\n",
       "      <td>surf</td>\n",
       "      <td>2018-09-18</td>\n",
       "      <td>0</td>\n",
       "    </tr>\n",
       "    <tr>\n",
       "      <td>2214</td>\n",
       "      <td>1491</td>\n",
       "      <td>9</td>\n",
       "      <td>52.0</td>\n",
       "      <td>414.0</td>\n",
       "      <td>50.0</td>\n",
       "      <td>7.0</td>\n",
       "      <td>22</td>\n",
       "      <td>Grand Rapids-Kentwood, MI MSA</td>\n",
       "      <td>2018-04-27</td>\n",
       "      <td>surf</td>\n",
       "      <td>2018-09-18</td>\n",
       "      <td>0</td>\n",
       "    </tr>\n",
       "    <tr>\n",
       "      <td>2215</td>\n",
       "      <td>1491</td>\n",
       "      <td>10</td>\n",
       "      <td>75.0</td>\n",
       "      <td>585.0</td>\n",
       "      <td>51.0</td>\n",
       "      <td>9.0</td>\n",
       "      <td>22</td>\n",
       "      <td>Grand Rapids-Kentwood, MI MSA</td>\n",
       "      <td>2018-04-27</td>\n",
       "      <td>surf</td>\n",
       "      <td>2018-09-18</td>\n",
       "      <td>0</td>\n",
       "    </tr>\n",
       "    <tr>\n",
       "      <td>2216</td>\n",
       "      <td>1491</td>\n",
       "      <td>11</td>\n",
       "      <td>46.0</td>\n",
       "      <td>409.0</td>\n",
       "      <td>46.0</td>\n",
       "      <td>6.0</td>\n",
       "      <td>22</td>\n",
       "      <td>Grand Rapids-Kentwood, MI MSA</td>\n",
       "      <td>2018-04-27</td>\n",
       "      <td>surf</td>\n",
       "      <td>2018-09-18</td>\n",
       "      <td>0</td>\n",
       "    </tr>\n",
       "    <tr>\n",
       "      <td>2217</td>\n",
       "      <td>1491</td>\n",
       "      <td>12</td>\n",
       "      <td>55.0</td>\n",
       "      <td>399.0</td>\n",
       "      <td>43.0</td>\n",
       "      <td>7.0</td>\n",
       "      <td>22</td>\n",
       "      <td>Grand Rapids-Kentwood, MI MSA</td>\n",
       "      <td>2018-04-27</td>\n",
       "      <td>surf</td>\n",
       "      <td>2018-09-18</td>\n",
       "      <td>0</td>\n",
       "    </tr>\n",
       "  </tbody>\n",
       "</table>\n",
       "<p>158 rows × 12 columns</p>\n",
       "</div>"
      ],
      "text/plain": [
       "     user_id  month  num_calls  call_duration  num_messages  gb_used  age  \\\n",
       "19      1006     11        2.0           10.0          15.0      3.0   73   \n",
       "20      1006     12        9.0           59.0         139.0     32.0   73   \n",
       "53      1012     11       10.0           75.0           0.0     14.0   59   \n",
       "54      1012     12       16.0           78.0           0.0     12.0   59   \n",
       "75      1022      5       39.0          302.0           0.0      5.0   73   \n",
       "...      ...    ...        ...            ...           ...      ...  ...   \n",
       "2213    1491      8       54.0          382.0          50.0     11.0   22   \n",
       "2214    1491      9       52.0          414.0          50.0      7.0   22   \n",
       "2215    1491     10       75.0          585.0          51.0      9.0   22   \n",
       "2216    1491     11       46.0          409.0          46.0      6.0   22   \n",
       "2217    1491     12       55.0          399.0          43.0      7.0   22   \n",
       "\n",
       "                                           city   reg_date      plan  \\\n",
       "19       San Francisco-Oakland-Berkeley, CA MSA 2018-11-27  ultimate   \n",
       "20       San Francisco-Oakland-Berkeley, CA MSA 2018-11-27  ultimate   \n",
       "53       Chicago-Naperville-Elgin, IL-IN-WI MSA 2018-06-28      surf   \n",
       "54       Chicago-Naperville-Elgin, IL-IN-WI MSA 2018-06-28      surf   \n",
       "75    New York-Newark-Jersey City, NY-NJ-PA MSA 2018-04-20      surf   \n",
       "...                                         ...        ...       ...   \n",
       "2213              Grand Rapids-Kentwood, MI MSA 2018-04-27      surf   \n",
       "2214              Grand Rapids-Kentwood, MI MSA 2018-04-27      surf   \n",
       "2215              Grand Rapids-Kentwood, MI MSA 2018-04-27      surf   \n",
       "2216              Grand Rapids-Kentwood, MI MSA 2018-04-27      surf   \n",
       "2217              Grand Rapids-Kentwood, MI MSA 2018-04-27      surf   \n",
       "\n",
       "     churn_date  active  \n",
       "19   2018-12-18       0  \n",
       "20   2018-12-18       0  \n",
       "53   2018-11-16       0  \n",
       "54   2018-11-16       0  \n",
       "75   2018-09-07       0  \n",
       "...         ...     ...  \n",
       "2213 2018-09-18       0  \n",
       "2214 2018-09-18       0  \n",
       "2215 2018-09-18       0  \n",
       "2216 2018-09-18       0  \n",
       "2217 2018-09-18       0  \n",
       "\n",
       "[158 rows x 12 columns]"
      ]
     },
     "execution_count": 265,
     "metadata": {},
     "output_type": "execute_result"
    }
   ],
   "source": [
    "data = data.drop(['first_name', 'last_name'], axis=1)\n",
    "data['num_calls'] = data['num_calls'].fillna(0)\n",
    "data['call_duration'] = data['call_duration'].fillna(0)\n",
    "data['num_messages'] = data['num_messages'].fillna(0)\n",
    "data['gb_used'] = data['gb_used'].fillna(0)\n",
    "data[data['active']==0]"
   ]
  },
  {
   "cell_type": "markdown",
   "metadata": {},
   "source": [
    "Here I have noticed something unusual about the data. Take user with `user_id` 1491 for example, he or she has `churn_date` 2018-09-18, but it shows that he or she still had data usage during `month` 10, 11, 12. If possible, I would like the data provider to provide some explanation about this. "
   ]
  },
  {
   "cell_type": "code",
   "execution_count": 266,
   "metadata": {
    "scrolled": true
   },
   "outputs": [
    {
     "name": "stdout",
     "output_type": "stream",
     "text": [
      "<class 'pandas.core.frame.DataFrame'>\n",
      "Int64Index: 2293 entries, 0 to 2292\n",
      "Data columns (total 12 columns):\n",
      "user_id          2293 non-null object\n",
      "month            2293 non-null int64\n",
      "num_calls        2293 non-null float64\n",
      "call_duration    2293 non-null float64\n",
      "num_messages     2293 non-null float64\n",
      "gb_used          2293 non-null float64\n",
      "age              2293 non-null int64\n",
      "city             2293 non-null object\n",
      "reg_date         2293 non-null datetime64[ns]\n",
      "plan             2293 non-null object\n",
      "churn_date       158 non-null datetime64[ns]\n",
      "active           2293 non-null int64\n",
      "dtypes: datetime64[ns](2), float64(4), int64(3), object(3)\n",
      "memory usage: 232.9+ KB\n"
     ]
    }
   ],
   "source": [
    "data.info()"
   ]
  },
  {
   "cell_type": "code",
   "execution_count": 267,
   "metadata": {},
   "outputs": [
    {
     "data": {
      "text/plain": [
       "12    469\n",
       "11    410\n",
       "10    343\n",
       "9     280\n",
       "8     233\n",
       "7     180\n",
       "6     144\n",
       "5     106\n",
       "4      71\n",
       "3      35\n",
       "2      16\n",
       "1       6\n",
       "Name: month, dtype: int64"
      ]
     },
     "execution_count": 267,
     "metadata": {},
     "output_type": "execute_result"
    }
   ],
   "source": [
    "data['month'].value_counts(dropna=False)"
   ]
  },
  {
   "cell_type": "code",
   "execution_count": 268,
   "metadata": {},
   "outputs": [
    {
     "data": {
      "text/plain": [
       "surf        1573\n",
       "ultimate     720\n",
       "Name: plan, dtype: int64"
      ]
     },
     "execution_count": 268,
     "metadata": {},
     "output_type": "execute_result"
    }
   ],
   "source": [
    "data['plan'].value_counts(dropna=False)"
   ]
  },
  {
   "cell_type": "markdown",
   "metadata": {},
   "source": [
    "Next, we will calculate the monthly revenue from each user."
   ]
  },
  {
   "cell_type": "code",
   "execution_count": 269,
   "metadata": {},
   "outputs": [],
   "source": [
    "# Calculate the monthly revenue for each user\n",
    "\n",
    "surf = {\"charge\":20, \n",
    "       \"minutes\":500,\n",
    "       \"texts\":50,\n",
    "       \"data\":15,\n",
    "       \"extra_1minute\": 0.03,\n",
    "       \"extra_1message\": 0.03,\n",
    "       \"extra_1gb\": 10}\n",
    "\n",
    "ultimate = {\"charge\":70, \n",
    "       \"minutes\":3000,\n",
    "       \"texts\":1000,\n",
    "       \"data\":30,\n",
    "       \"extra_1minute\": 0.01,\n",
    "       \"extra_1message\": 0.01,\n",
    "       \"extra_1gb\": 7}\n",
    "\n",
    "def monthly_revenue_per_user(row):\n",
    "    \n",
    "    plan = row['plan'] \n",
    "    num_calls = row['num_calls']\n",
    "    call_duration = row['call_duration']\n",
    "    num_messages = row['num_messages']\n",
    "    gb_used = row['gb_used']\n",
    "    \n",
    "    \n",
    "    if plan == 'surf':\n",
    "        monthly_revenue = surf['charge'] \\\n",
    "            + max((call_duration - surf['minutes'])*surf['extra_1minute'], 0) \\\n",
    "            + max((num_messages - surf['texts'])*surf['extra_1message'], 0)\\\n",
    "            + max((gb_used - surf['data'])*surf['extra_1gb'], 0)\n",
    "        \n",
    "        return monthly_revenue\n",
    "    else:\n",
    "        monthly_revenue = ultimate['charge'] \\\n",
    "            + max((call_duration - ultimate['minutes'])*ultimate['extra_1minute'], 0) \\\n",
    "            + max((num_messages - ultimate['texts'])*ultimate['extra_1message'], 0)\\\n",
    "            + max((gb_used - ultimate['data'])*ultimate['extra_1gb'], 0)\n",
    "        \n",
    "        return monthly_revenue\n",
    "    \n",
    "#     for key, value in surf.items():\n",
    "#         print(key, '->', value)\n",
    "\n",
    "  \n",
    "# monthly_revenue_per_user(data.loc[0])\n",
    "data['revenue'] = data.apply(monthly_revenue_per_user, axis=1)"
   ]
  },
  {
   "cell_type": "code",
   "execution_count": 270,
   "metadata": {},
   "outputs": [
    {
     "data": {
      "text/html": [
       "<div>\n",
       "<style scoped>\n",
       "    .dataframe tbody tr th:only-of-type {\n",
       "        vertical-align: middle;\n",
       "    }\n",
       "\n",
       "    .dataframe tbody tr th {\n",
       "        vertical-align: top;\n",
       "    }\n",
       "\n",
       "    .dataframe thead th {\n",
       "        text-align: right;\n",
       "    }\n",
       "</style>\n",
       "<table border=\"1\" class=\"dataframe\">\n",
       "  <thead>\n",
       "    <tr style=\"text-align: right;\">\n",
       "      <th></th>\n",
       "      <th>user_id</th>\n",
       "      <th>month</th>\n",
       "      <th>num_calls</th>\n",
       "      <th>call_duration</th>\n",
       "      <th>num_messages</th>\n",
       "      <th>gb_used</th>\n",
       "      <th>age</th>\n",
       "      <th>city</th>\n",
       "      <th>reg_date</th>\n",
       "      <th>plan</th>\n",
       "      <th>churn_date</th>\n",
       "      <th>active</th>\n",
       "      <th>revenue</th>\n",
       "    </tr>\n",
       "  </thead>\n",
       "  <tbody>\n",
       "    <tr>\n",
       "      <td>0</td>\n",
       "      <td>1000</td>\n",
       "      <td>12</td>\n",
       "      <td>16.0</td>\n",
       "      <td>124.0</td>\n",
       "      <td>11.0</td>\n",
       "      <td>2.0</td>\n",
       "      <td>45</td>\n",
       "      <td>Atlanta-Sandy Springs-Roswell, GA MSA</td>\n",
       "      <td>2018-12-24</td>\n",
       "      <td>ultimate</td>\n",
       "      <td>NaT</td>\n",
       "      <td>1</td>\n",
       "      <td>70.00</td>\n",
       "    </tr>\n",
       "    <tr>\n",
       "      <td>1</td>\n",
       "      <td>1001</td>\n",
       "      <td>8</td>\n",
       "      <td>27.0</td>\n",
       "      <td>182.0</td>\n",
       "      <td>30.0</td>\n",
       "      <td>7.0</td>\n",
       "      <td>28</td>\n",
       "      <td>Seattle-Tacoma-Bellevue, WA MSA</td>\n",
       "      <td>2018-08-13</td>\n",
       "      <td>surf</td>\n",
       "      <td>NaT</td>\n",
       "      <td>1</td>\n",
       "      <td>20.00</td>\n",
       "    </tr>\n",
       "    <tr>\n",
       "      <td>2</td>\n",
       "      <td>1001</td>\n",
       "      <td>9</td>\n",
       "      <td>49.0</td>\n",
       "      <td>315.0</td>\n",
       "      <td>44.0</td>\n",
       "      <td>14.0</td>\n",
       "      <td>28</td>\n",
       "      <td>Seattle-Tacoma-Bellevue, WA MSA</td>\n",
       "      <td>2018-08-13</td>\n",
       "      <td>surf</td>\n",
       "      <td>NaT</td>\n",
       "      <td>1</td>\n",
       "      <td>20.00</td>\n",
       "    </tr>\n",
       "    <tr>\n",
       "      <td>3</td>\n",
       "      <td>1001</td>\n",
       "      <td>10</td>\n",
       "      <td>65.0</td>\n",
       "      <td>393.0</td>\n",
       "      <td>53.0</td>\n",
       "      <td>22.0</td>\n",
       "      <td>28</td>\n",
       "      <td>Seattle-Tacoma-Bellevue, WA MSA</td>\n",
       "      <td>2018-08-13</td>\n",
       "      <td>surf</td>\n",
       "      <td>NaT</td>\n",
       "      <td>1</td>\n",
       "      <td>90.09</td>\n",
       "    </tr>\n",
       "    <tr>\n",
       "      <td>4</td>\n",
       "      <td>1001</td>\n",
       "      <td>11</td>\n",
       "      <td>64.0</td>\n",
       "      <td>426.0</td>\n",
       "      <td>36.0</td>\n",
       "      <td>19.0</td>\n",
       "      <td>28</td>\n",
       "      <td>Seattle-Tacoma-Bellevue, WA MSA</td>\n",
       "      <td>2018-08-13</td>\n",
       "      <td>surf</td>\n",
       "      <td>NaT</td>\n",
       "      <td>1</td>\n",
       "      <td>60.00</td>\n",
       "    </tr>\n",
       "    <tr>\n",
       "      <td>...</td>\n",
       "      <td>...</td>\n",
       "      <td>...</td>\n",
       "      <td>...</td>\n",
       "      <td>...</td>\n",
       "      <td>...</td>\n",
       "      <td>...</td>\n",
       "      <td>...</td>\n",
       "      <td>...</td>\n",
       "      <td>...</td>\n",
       "      <td>...</td>\n",
       "      <td>...</td>\n",
       "      <td>...</td>\n",
       "      <td>...</td>\n",
       "    </tr>\n",
       "    <tr>\n",
       "      <td>2288</td>\n",
       "      <td>1349</td>\n",
       "      <td>12</td>\n",
       "      <td>0.0</td>\n",
       "      <td>0.0</td>\n",
       "      <td>61.0</td>\n",
       "      <td>13.0</td>\n",
       "      <td>69</td>\n",
       "      <td>Boston-Cambridge-Newton, MA-NH MSA</td>\n",
       "      <td>2018-10-01</td>\n",
       "      <td>surf</td>\n",
       "      <td>NaT</td>\n",
       "      <td>1</td>\n",
       "      <td>20.33</td>\n",
       "    </tr>\n",
       "    <tr>\n",
       "      <td>2289</td>\n",
       "      <td>1361</td>\n",
       "      <td>5</td>\n",
       "      <td>0.0</td>\n",
       "      <td>0.0</td>\n",
       "      <td>2.0</td>\n",
       "      <td>2.0</td>\n",
       "      <td>45</td>\n",
       "      <td>Birmingham-Hoover, AL MSA</td>\n",
       "      <td>2018-04-14</td>\n",
       "      <td>surf</td>\n",
       "      <td>NaT</td>\n",
       "      <td>1</td>\n",
       "      <td>20.00</td>\n",
       "    </tr>\n",
       "    <tr>\n",
       "      <td>2290</td>\n",
       "      <td>1482</td>\n",
       "      <td>10</td>\n",
       "      <td>0.0</td>\n",
       "      <td>0.0</td>\n",
       "      <td>2.0</td>\n",
       "      <td>0.0</td>\n",
       "      <td>70</td>\n",
       "      <td>New York-Newark-Jersey City, NY-NJ-PA MSA</td>\n",
       "      <td>2018-01-01</td>\n",
       "      <td>ultimate</td>\n",
       "      <td>NaT</td>\n",
       "      <td>1</td>\n",
       "      <td>70.00</td>\n",
       "    </tr>\n",
       "    <tr>\n",
       "      <td>2291</td>\n",
       "      <td>1108</td>\n",
       "      <td>12</td>\n",
       "      <td>0.0</td>\n",
       "      <td>0.0</td>\n",
       "      <td>0.0</td>\n",
       "      <td>1.0</td>\n",
       "      <td>45</td>\n",
       "      <td>Salt Lake City, UT MSA</td>\n",
       "      <td>2018-12-30</td>\n",
       "      <td>ultimate</td>\n",
       "      <td>NaT</td>\n",
       "      <td>1</td>\n",
       "      <td>70.00</td>\n",
       "    </tr>\n",
       "    <tr>\n",
       "      <td>2292</td>\n",
       "      <td>1311</td>\n",
       "      <td>6</td>\n",
       "      <td>0.0</td>\n",
       "      <td>0.0</td>\n",
       "      <td>0.0</td>\n",
       "      <td>2.0</td>\n",
       "      <td>69</td>\n",
       "      <td>Memphis, TN-MS-AR MSA</td>\n",
       "      <td>2018-06-27</td>\n",
       "      <td>ultimate</td>\n",
       "      <td>NaT</td>\n",
       "      <td>1</td>\n",
       "      <td>70.00</td>\n",
       "    </tr>\n",
       "  </tbody>\n",
       "</table>\n",
       "<p>2293 rows × 13 columns</p>\n",
       "</div>"
      ],
      "text/plain": [
       "     user_id  month  num_calls  call_duration  num_messages  gb_used  age  \\\n",
       "0       1000     12       16.0          124.0          11.0      2.0   45   \n",
       "1       1001      8       27.0          182.0          30.0      7.0   28   \n",
       "2       1001      9       49.0          315.0          44.0     14.0   28   \n",
       "3       1001     10       65.0          393.0          53.0     22.0   28   \n",
       "4       1001     11       64.0          426.0          36.0     19.0   28   \n",
       "...      ...    ...        ...            ...           ...      ...  ...   \n",
       "2288    1349     12        0.0            0.0          61.0     13.0   69   \n",
       "2289    1361      5        0.0            0.0           2.0      2.0   45   \n",
       "2290    1482     10        0.0            0.0           2.0      0.0   70   \n",
       "2291    1108     12        0.0            0.0           0.0      1.0   45   \n",
       "2292    1311      6        0.0            0.0           0.0      2.0   69   \n",
       "\n",
       "                                           city   reg_date      plan  \\\n",
       "0         Atlanta-Sandy Springs-Roswell, GA MSA 2018-12-24  ultimate   \n",
       "1               Seattle-Tacoma-Bellevue, WA MSA 2018-08-13      surf   \n",
       "2               Seattle-Tacoma-Bellevue, WA MSA 2018-08-13      surf   \n",
       "3               Seattle-Tacoma-Bellevue, WA MSA 2018-08-13      surf   \n",
       "4               Seattle-Tacoma-Bellevue, WA MSA 2018-08-13      surf   \n",
       "...                                         ...        ...       ...   \n",
       "2288         Boston-Cambridge-Newton, MA-NH MSA 2018-10-01      surf   \n",
       "2289                  Birmingham-Hoover, AL MSA 2018-04-14      surf   \n",
       "2290  New York-Newark-Jersey City, NY-NJ-PA MSA 2018-01-01  ultimate   \n",
       "2291                     Salt Lake City, UT MSA 2018-12-30  ultimate   \n",
       "2292                      Memphis, TN-MS-AR MSA 2018-06-27  ultimate   \n",
       "\n",
       "     churn_date  active  revenue  \n",
       "0           NaT       1    70.00  \n",
       "1           NaT       1    20.00  \n",
       "2           NaT       1    20.00  \n",
       "3           NaT       1    90.09  \n",
       "4           NaT       1    60.00  \n",
       "...         ...     ...      ...  \n",
       "2288        NaT       1    20.33  \n",
       "2289        NaT       1    20.00  \n",
       "2290        NaT       1    70.00  \n",
       "2291        NaT       1    70.00  \n",
       "2292        NaT       1    70.00  \n",
       "\n",
       "[2293 rows x 13 columns]"
      ]
     },
     "execution_count": 270,
     "metadata": {},
     "output_type": "execute_result"
    }
   ],
   "source": [
    "data"
   ]
  },
  {
   "cell_type": "markdown",
   "metadata": {},
   "source": [
    "## Study user behaviour"
   ]
  },
  {
   "cell_type": "markdown",
   "metadata": {},
   "source": [
    "### Calls"
   ]
  },
  {
   "cell_type": "code",
   "execution_count": 271,
   "metadata": {},
   "outputs": [
    {
     "data": {
      "text/html": [
       "<div>\n",
       "<style scoped>\n",
       "    .dataframe tbody tr th:only-of-type {\n",
       "        vertical-align: middle;\n",
       "    }\n",
       "\n",
       "    .dataframe tbody tr th {\n",
       "        vertical-align: top;\n",
       "    }\n",
       "\n",
       "    .dataframe thead th {\n",
       "        text-align: right;\n",
       "    }\n",
       "</style>\n",
       "<table border=\"1\" class=\"dataframe\">\n",
       "  <thead>\n",
       "    <tr style=\"text-align: right;\">\n",
       "      <th></th>\n",
       "      <th>plan</th>\n",
       "      <th>month</th>\n",
       "      <th>call_duration</th>\n",
       "    </tr>\n",
       "  </thead>\n",
       "  <tbody>\n",
       "    <tr>\n",
       "      <td>0</td>\n",
       "      <td>surf</td>\n",
       "      <td>1</td>\n",
       "      <td>203.000000</td>\n",
       "    </tr>\n",
       "    <tr>\n",
       "      <td>1</td>\n",
       "      <td>surf</td>\n",
       "      <td>2</td>\n",
       "      <td>297.000000</td>\n",
       "    </tr>\n",
       "    <tr>\n",
       "      <td>2</td>\n",
       "      <td>surf</td>\n",
       "      <td>3</td>\n",
       "      <td>330.000000</td>\n",
       "    </tr>\n",
       "    <tr>\n",
       "      <td>3</td>\n",
       "      <td>surf</td>\n",
       "      <td>4</td>\n",
       "      <td>351.540000</td>\n",
       "    </tr>\n",
       "    <tr>\n",
       "      <td>4</td>\n",
       "      <td>surf</td>\n",
       "      <td>5</td>\n",
       "      <td>399.584416</td>\n",
       "    </tr>\n",
       "    <tr>\n",
       "      <td>5</td>\n",
       "      <td>surf</td>\n",
       "      <td>6</td>\n",
       "      <td>431.298969</td>\n",
       "    </tr>\n",
       "    <tr>\n",
       "      <td>6</td>\n",
       "      <td>surf</td>\n",
       "      <td>7</td>\n",
       "      <td>449.983471</td>\n",
       "    </tr>\n",
       "    <tr>\n",
       "      <td>7</td>\n",
       "      <td>surf</td>\n",
       "      <td>8</td>\n",
       "      <td>410.111111</td>\n",
       "    </tr>\n",
       "    <tr>\n",
       "      <td>8</td>\n",
       "      <td>surf</td>\n",
       "      <td>9</td>\n",
       "      <td>414.226804</td>\n",
       "    </tr>\n",
       "    <tr>\n",
       "      <td>9</td>\n",
       "      <td>surf</td>\n",
       "      <td>10</td>\n",
       "      <td>429.729958</td>\n",
       "    </tr>\n",
       "    <tr>\n",
       "      <td>10</td>\n",
       "      <td>surf</td>\n",
       "      <td>11</td>\n",
       "      <td>423.325088</td>\n",
       "    </tr>\n",
       "    <tr>\n",
       "      <td>11</td>\n",
       "      <td>surf</td>\n",
       "      <td>12</td>\n",
       "      <td>473.836478</td>\n",
       "    </tr>\n",
       "    <tr>\n",
       "      <td>12</td>\n",
       "      <td>ultimate</td>\n",
       "      <td>1</td>\n",
       "      <td>193.500000</td>\n",
       "    </tr>\n",
       "    <tr>\n",
       "      <td>13</td>\n",
       "      <td>ultimate</td>\n",
       "      <td>2</td>\n",
       "      <td>403.142857</td>\n",
       "    </tr>\n",
       "    <tr>\n",
       "      <td>14</td>\n",
       "      <td>ultimate</td>\n",
       "      <td>3</td>\n",
       "      <td>304.250000</td>\n",
       "    </tr>\n",
       "    <tr>\n",
       "      <td>15</td>\n",
       "      <td>ultimate</td>\n",
       "      <td>4</td>\n",
       "      <td>336.857143</td>\n",
       "    </tr>\n",
       "    <tr>\n",
       "      <td>16</td>\n",
       "      <td>ultimate</td>\n",
       "      <td>5</td>\n",
       "      <td>406.241379</td>\n",
       "    </tr>\n",
       "    <tr>\n",
       "      <td>17</td>\n",
       "      <td>ultimate</td>\n",
       "      <td>6</td>\n",
       "      <td>370.957447</td>\n",
       "    </tr>\n",
       "    <tr>\n",
       "      <td>18</td>\n",
       "      <td>ultimate</td>\n",
       "      <td>7</td>\n",
       "      <td>427.067797</td>\n",
       "    </tr>\n",
       "    <tr>\n",
       "      <td>19</td>\n",
       "      <td>ultimate</td>\n",
       "      <td>8</td>\n",
       "      <td>421.436620</td>\n",
       "    </tr>\n",
       "    <tr>\n",
       "      <td>20</td>\n",
       "      <td>ultimate</td>\n",
       "      <td>9</td>\n",
       "      <td>437.511628</td>\n",
       "    </tr>\n",
       "    <tr>\n",
       "      <td>21</td>\n",
       "      <td>ultimate</td>\n",
       "      <td>10</td>\n",
       "      <td>450.735849</td>\n",
       "    </tr>\n",
       "    <tr>\n",
       "      <td>22</td>\n",
       "      <td>ultimate</td>\n",
       "      <td>11</td>\n",
       "      <td>445.196850</td>\n",
       "    </tr>\n",
       "    <tr>\n",
       "      <td>23</td>\n",
       "      <td>ultimate</td>\n",
       "      <td>12</td>\n",
       "      <td>459.099338</td>\n",
       "    </tr>\n",
       "  </tbody>\n",
       "</table>\n",
       "</div>"
      ],
      "text/plain": [
       "        plan  month  call_duration\n",
       "0       surf      1     203.000000\n",
       "1       surf      2     297.000000\n",
       "2       surf      3     330.000000\n",
       "3       surf      4     351.540000\n",
       "4       surf      5     399.584416\n",
       "5       surf      6     431.298969\n",
       "6       surf      7     449.983471\n",
       "7       surf      8     410.111111\n",
       "8       surf      9     414.226804\n",
       "9       surf     10     429.729958\n",
       "10      surf     11     423.325088\n",
       "11      surf     12     473.836478\n",
       "12  ultimate      1     193.500000\n",
       "13  ultimate      2     403.142857\n",
       "14  ultimate      3     304.250000\n",
       "15  ultimate      4     336.857143\n",
       "16  ultimate      5     406.241379\n",
       "17  ultimate      6     370.957447\n",
       "18  ultimate      7     427.067797\n",
       "19  ultimate      8     421.436620\n",
       "20  ultimate      9     437.511628\n",
       "21  ultimate     10     450.735849\n",
       "22  ultimate     11     445.196850\n",
       "23  ultimate     12     459.099338"
      ]
     },
     "execution_count": 271,
     "metadata": {},
     "output_type": "execute_result"
    }
   ],
   "source": [
    "# Compare average duration of calls per each plan per each distinct month. Plot a bar plat to visualize it.\n",
    "\n",
    "avg_call_minutes_per_month = data.pivot_table(index = ['plan', 'month'], \n",
    "                                             values = 'call_duration', \n",
    "                                             aggfunc = 'mean')\n",
    "\n",
    "avg_call_minutes_per_month = avg_call_minutes_per_month.reset_index()\n",
    "avg_call_minutes_per_month"
   ]
  },
  {
   "cell_type": "code",
   "execution_count": 272,
   "metadata": {
    "scrolled": false
   },
   "outputs": [
    {
     "data": {
      "image/png": "[encoded data removed]",
      "text/plain": [
       "<Figure size 432x288 with 1 Axes>"
      ]
     },
     "metadata": {
      "needs_background": "light"
     },
     "output_type": "display_data"
    }
   ],
   "source": [
    "# creating subplots\n",
    "ax = plt.subplots()\n",
    "  \n",
    "# plotting columns\n",
    "ax = sns.barplot(x=avg_call_minutes_per_month.loc[0:11,'month'], \n",
    "                 y=avg_call_minutes_per_month.loc[0:11,'call_duration'], \n",
    "                 color='green', alpha=0.3, label='surf')\n",
    "\n",
    "ax = sns.barplot(x=avg_call_minutes_per_month.loc[12:23,'month'], \n",
    "                 y=avg_call_minutes_per_month.loc[12:23,'call_duration'], \n",
    "                 color='red', alpha=0.2,label='ultimate')\n",
    "  \n",
    "# renaming the axes\n",
    "ax.set(xlabel=\"month\", \n",
    "       ylabel=\"average monthly call minutes\",\n",
    "       title = 'Barplots of average monthly call minutes per customer for each phone plan')\n",
    "ax.legend(ncol=2, loc=\"upper left\", frameon=True)\n",
    "\n",
    "# visulaizing illustration\n",
    "plt.show()\n",
    "\n",
    "# https://www.geeksforgeeks.org/how-to-overlap-two-barplots-in-seaborn/\n",
    "# https://seaborn.pydata.org/examples/part_whole_bars.html"
   ]
  },
  {
   "cell_type": "markdown",
   "metadata": {},
   "source": [
    "The overlaied barplots of average monthly call minutes per customer for each phone plan show that in Feburary, users with the untimate plan had monthly call minutes around 400 minutes, which is much higher those for the surf plan (300 minutes). In June, users with the surf plan had monthly call minutes around 420 minutes, which is higher those for the untimate plan (around 370 minutes). In any other months, users with both plans had roughly equal number of average monthly call minutes. "
   ]
  },
  {
   "cell_type": "code",
   "execution_count": 273,
   "metadata": {
    "scrolled": false
   },
   "outputs": [
    {
     "data": {
      "image/png": "[encoded data removed]",
      "text/plain": [
       "<Figure size 432x288 with 1 Axes>"
      ]
     },
     "metadata": {
      "needs_background": "light"
     },
     "output_type": "display_data"
    },
    {
     "data": {
      "image/png": "[encoded data removed]",
      "text/plain": [
       "<Figure size 432x288 with 1 Axes>"
      ]
     },
     "metadata": {
      "needs_background": "light"
     },
     "output_type": "display_data"
    }
   ],
   "source": [
    "# Compare the number of minutes users of each plan require each month. Plot a histogram.\n",
    "\n",
    "data_surf = data[data['plan']=='surf']\n",
    "data_ultimate = data[data['plan']=='ultimate']\n",
    "\n",
    "data_surf.hist(\"call_duration\", bins=30)\n",
    "plt.xlabel('minutes')\n",
    "plt.ylabel('count of users')\n",
    "plt.title('Histogram of monthly call minutes per user for the surf plan')\n",
    "\n",
    "data_ultimate.hist(\"call_duration\", bins=30)\n",
    "plt.xlabel('minutes')\n",
    "plt.ylabel('count of users')\n",
    "plt.title('Histogram of monthly call minutes per user for the ultimate plan')\n",
    "\n",
    "plt.show()"
   ]
  },
  {
   "cell_type": "markdown",
   "metadata": {},
   "source": [
    "The histograms of monthly call minutes per user for both plan are right-skewed. The shape of both distribution are similar. The majority of the call minutes are between 200 minutes to 600 minutes. Notice that users with surf plan had larger number of counts in general. "
   ]
  },
  {
   "cell_type": "markdown",
   "metadata": {},
   "source": [
    "Nest, we will calculate the mean and the variable of the call duration.  "
   ]
  },
  {
   "cell_type": "code",
   "execution_count": 274,
   "metadata": {},
   "outputs": [
    {
     "name": "stdout",
     "output_type": "stream",
     "text": [
      "The mean monthly call durantion for the surf plan is 428.75\n",
      "The variance of monthly call durantion for the surf plan is 54933.33\n",
      "The mean monthly call durantion for the ultimate plan is 430.45\n",
      "The variance of monthly call durantion for the ultimate plan is 57764.13\n"
     ]
    }
   ],
   "source": [
    "# Calculate the mean and the variance of the monthly call duration\n",
    "\n",
    "mean_monthly_call_duration_surf = data_surf[\"call_duration\"].mean()\n",
    "var_monthly_call_duration_surf = np.var(data_surf[\"call_duration\"])\n",
    "print(\"The mean monthly call durantion for the surf plan is\", round(mean_monthly_call_duration_surf,2))\n",
    "print(\"The variance of monthly call durantion for the surf plan is\", round(var_monthly_call_duration_surf,2))\n",
    "\n",
    "mean_monthly_call_duration_ultimate = data_ultimate[\"call_duration\"].mean()\n",
    "var_monthly_call_duration_ultimate = np.var(data_ultimate[\"call_duration\"])\n",
    "print(\"The mean monthly call durantion for the ultimate plan is\", round(mean_monthly_call_duration_ultimate,2))\n",
    "print(\"The variance of monthly call durantion for the ultimate plan is\", round(var_monthly_call_duration_ultimate,2))"
   ]
  },
  {
   "cell_type": "markdown",
   "metadata": {},
   "source": [
    "We see that the mean and the variable of the call duration for both plans are quite close to each other. So it is very likely that users on the different plans have very similar behaviours for their calls."
   ]
  },
  {
   "cell_type": "code",
   "execution_count": 275,
   "metadata": {
    "scrolled": false
   },
   "outputs": [
    {
     "data": {
      "image/png": "[encoded data removed]",
      "text/plain": [
       "<Figure size 432x288 with 1 Axes>"
      ]
     },
     "metadata": {
      "needs_background": "light"
     },
     "output_type": "display_data"
    }
   ],
   "source": [
    "# Plot a boxplot to visualize the distribution of the monthly call duration\n",
    "\n",
    "data_surf.boxplot(\"call_duration\")\n",
    "plt.ylabel('minutes')\n",
    "plt.title('Boxplot of call minutes per user per month for the surf plan')\n",
    "plt.show()"
   ]
  },
  {
   "cell_type": "markdown",
   "metadata": {},
   "source": [
    "The Boxplot of call minutes per user per month for the surf plan shows that 75% of its users had call minutes less than 600 per month. Some users called over 1000 minutes per month, which are outliers. Because the free quota for surf plan is 500 monthly minutes, some users were definitely paying extra for phone calls. "
   ]
  },
  {
   "cell_type": "code",
   "execution_count": 276,
   "metadata": {
    "scrolled": true
   },
   "outputs": [
    {
     "data": {
      "image/png": "[encoded data removed]",
      "text/plain": [
       "<Figure size 432x288 with 1 Axes>"
      ]
     },
     "metadata": {
      "needs_background": "light"
     },
     "output_type": "display_data"
    }
   ],
   "source": [
    "\n",
    "data_ultimate.boxplot(\"call_duration\")\n",
    "plt.ylabel('minutes')\n",
    "plt.title('Boxplot of call minutes per user per month for the ultimate plan')\n",
    "plt.show()"
   ]
  },
  {
   "cell_type": "markdown",
   "metadata": {},
   "source": [
    "The Boxplot of call minutes per user per month for the ultimate plan shows that 75% of its users had call minutes less than 600 per month. Some users called over 1000 minutes per month, which are outliers. Because the free quota for ultimate plan is 3000 monthly minutes, no users were paying extra for phone calls even though there were outliers. "
   ]
  },
  {
   "cell_type": "markdown",
   "metadata": {},
   "source": [
    "In terms of how the users behave in calling, the distribution from both plans are both right-skewed with median around 400 minutes per month and 75% percentile 600 minutes per month. So my conclusion for calling behavior is that users from both plans had similar behaviors.   "
   ]
  },
  {
   "cell_type": "markdown",
   "metadata": {},
   "source": [
    "### Messages"
   ]
  },
  {
   "cell_type": "code",
   "execution_count": 277,
   "metadata": {
    "scrolled": true
   },
   "outputs": [
    {
     "data": {
      "text/html": [
       "<div>\n",
       "<style scoped>\n",
       "    .dataframe tbody tr th:only-of-type {\n",
       "        vertical-align: middle;\n",
       "    }\n",
       "\n",
       "    .dataframe tbody tr th {\n",
       "        vertical-align: top;\n",
       "    }\n",
       "\n",
       "    .dataframe thead th {\n",
       "        text-align: right;\n",
       "    }\n",
       "</style>\n",
       "<table border=\"1\" class=\"dataframe\">\n",
       "  <thead>\n",
       "    <tr style=\"text-align: right;\">\n",
       "      <th></th>\n",
       "      <th>plan</th>\n",
       "      <th>month</th>\n",
       "      <th>num_messages</th>\n",
       "    </tr>\n",
       "  </thead>\n",
       "  <tbody>\n",
       "    <tr>\n",
       "      <td>0</td>\n",
       "      <td>surf</td>\n",
       "      <td>1</td>\n",
       "      <td>10.500000</td>\n",
       "    </tr>\n",
       "    <tr>\n",
       "      <td>1</td>\n",
       "      <td>surf</td>\n",
       "      <td>2</td>\n",
       "      <td>12.000000</td>\n",
       "    </tr>\n",
       "    <tr>\n",
       "      <td>2</td>\n",
       "      <td>surf</td>\n",
       "      <td>3</td>\n",
       "      <td>15.260870</td>\n",
       "    </tr>\n",
       "    <tr>\n",
       "      <td>3</td>\n",
       "      <td>surf</td>\n",
       "      <td>4</td>\n",
       "      <td>17.400000</td>\n",
       "    </tr>\n",
       "    <tr>\n",
       "      <td>4</td>\n",
       "      <td>surf</td>\n",
       "      <td>5</td>\n",
       "      <td>24.012987</td>\n",
       "    </tr>\n",
       "    <tr>\n",
       "      <td>5</td>\n",
       "      <td>surf</td>\n",
       "      <td>6</td>\n",
       "      <td>25.298969</td>\n",
       "    </tr>\n",
       "    <tr>\n",
       "      <td>6</td>\n",
       "      <td>surf</td>\n",
       "      <td>7</td>\n",
       "      <td>27.033058</td>\n",
       "    </tr>\n",
       "    <tr>\n",
       "      <td>7</td>\n",
       "      <td>surf</td>\n",
       "      <td>8</td>\n",
       "      <td>28.777778</td>\n",
       "    </tr>\n",
       "    <tr>\n",
       "      <td>8</td>\n",
       "      <td>surf</td>\n",
       "      <td>9</td>\n",
       "      <td>30.762887</td>\n",
       "    </tr>\n",
       "    <tr>\n",
       "      <td>9</td>\n",
       "      <td>surf</td>\n",
       "      <td>10</td>\n",
       "      <td>33.839662</td>\n",
       "    </tr>\n",
       "    <tr>\n",
       "      <td>10</td>\n",
       "      <td>surf</td>\n",
       "      <td>11</td>\n",
       "      <td>32.385159</td>\n",
       "    </tr>\n",
       "    <tr>\n",
       "      <td>11</td>\n",
       "      <td>surf</td>\n",
       "      <td>12</td>\n",
       "      <td>38.600629</td>\n",
       "    </tr>\n",
       "    <tr>\n",
       "      <td>12</td>\n",
       "      <td>ultimate</td>\n",
       "      <td>1</td>\n",
       "      <td>15.500000</td>\n",
       "    </tr>\n",
       "    <tr>\n",
       "      <td>13</td>\n",
       "      <td>ultimate</td>\n",
       "      <td>2</td>\n",
       "      <td>21.571429</td>\n",
       "    </tr>\n",
       "    <tr>\n",
       "      <td>14</td>\n",
       "      <td>ultimate</td>\n",
       "      <td>3</td>\n",
       "      <td>20.250000</td>\n",
       "    </tr>\n",
       "    <tr>\n",
       "      <td>15</td>\n",
       "      <td>ultimate</td>\n",
       "      <td>4</td>\n",
       "      <td>22.047619</td>\n",
       "    </tr>\n",
       "    <tr>\n",
       "      <td>16</td>\n",
       "      <td>ultimate</td>\n",
       "      <td>5</td>\n",
       "      <td>32.103448</td>\n",
       "    </tr>\n",
       "    <tr>\n",
       "      <td>17</td>\n",
       "      <td>ultimate</td>\n",
       "      <td>6</td>\n",
       "      <td>29.340426</td>\n",
       "    </tr>\n",
       "    <tr>\n",
       "      <td>18</td>\n",
       "      <td>ultimate</td>\n",
       "      <td>7</td>\n",
       "      <td>32.830508</td>\n",
       "    </tr>\n",
       "    <tr>\n",
       "      <td>19</td>\n",
       "      <td>ultimate</td>\n",
       "      <td>8</td>\n",
       "      <td>38.478873</td>\n",
       "    </tr>\n",
       "    <tr>\n",
       "      <td>20</td>\n",
       "      <td>ultimate</td>\n",
       "      <td>9</td>\n",
       "      <td>37.895349</td>\n",
       "    </tr>\n",
       "    <tr>\n",
       "      <td>21</td>\n",
       "      <td>ultimate</td>\n",
       "      <td>10</td>\n",
       "      <td>39.443396</td>\n",
       "    </tr>\n",
       "    <tr>\n",
       "      <td>22</td>\n",
       "      <td>ultimate</td>\n",
       "      <td>11</td>\n",
       "      <td>38.606299</td>\n",
       "    </tr>\n",
       "    <tr>\n",
       "      <td>23</td>\n",
       "      <td>ultimate</td>\n",
       "      <td>12</td>\n",
       "      <td>45.006623</td>\n",
       "    </tr>\n",
       "  </tbody>\n",
       "</table>\n",
       "</div>"
      ],
      "text/plain": [
       "        plan  month  num_messages\n",
       "0       surf      1     10.500000\n",
       "1       surf      2     12.000000\n",
       "2       surf      3     15.260870\n",
       "3       surf      4     17.400000\n",
       "4       surf      5     24.012987\n",
       "5       surf      6     25.298969\n",
       "6       surf      7     27.033058\n",
       "7       surf      8     28.777778\n",
       "8       surf      9     30.762887\n",
       "9       surf     10     33.839662\n",
       "10      surf     11     32.385159\n",
       "11      surf     12     38.600629\n",
       "12  ultimate      1     15.500000\n",
       "13  ultimate      2     21.571429\n",
       "14  ultimate      3     20.250000\n",
       "15  ultimate      4     22.047619\n",
       "16  ultimate      5     32.103448\n",
       "17  ultimate      6     29.340426\n",
       "18  ultimate      7     32.830508\n",
       "19  ultimate      8     38.478873\n",
       "20  ultimate      9     37.895349\n",
       "21  ultimate     10     39.443396\n",
       "22  ultimate     11     38.606299\n",
       "23  ultimate     12     45.006623"
      ]
     },
     "execution_count": 277,
     "metadata": {},
     "output_type": "execute_result"
    }
   ],
   "source": [
    "# Compare the number of messages users of each plan tend to send each month\n",
    "\n",
    "num_messages_per_month = data.pivot_table(index = ['plan', 'month'], \n",
    "                                             values = 'num_messages', \n",
    "                                             aggfunc = 'mean')\n",
    "\n",
    "num_messages_per_month = num_messages_per_month.reset_index()\n",
    "num_messages_per_month\n"
   ]
  },
  {
   "cell_type": "code",
   "execution_count": 278,
   "metadata": {
    "scrolled": true
   },
   "outputs": [
    {
     "data": {
      "image/png": "[encoded data removed]",
      "text/plain": [
       "<Figure size 432x288 with 1 Axes>"
      ]
     },
     "metadata": {
      "needs_background": "light"
     },
     "output_type": "display_data"
    }
   ],
   "source": [
    "# creating subplots\n",
    "ax = plt.subplots()\n",
    "  \n",
    "# plotting columns\n",
    "ax = sns.barplot(x=num_messages_per_month.loc[0:11,'month'], \n",
    "                 y=num_messages_per_month.loc[0:11,'num_messages'], \n",
    "                 color='green', alpha=0.3, label='surf')\n",
    "\n",
    "ax = sns.barplot(x=num_messages_per_month.loc[12:23,'month'], \n",
    "                 y=num_messages_per_month.loc[12:23,'num_messages'], \n",
    "                 color='red', alpha=0.2,label='ultimate')\n",
    "  \n",
    "# renaming the axes\n",
    "ax.set(xlabel=\"month\", \n",
    "       ylabel=\"average monthly number of messages\",\n",
    "       title = 'Barplots of average monthly number of messages per customer for each phone plan')\n",
    "ax.legend(ncol=2, loc=\"upper left\", frameon=True)\n",
    "\n",
    "# visulaizing illustration\n",
    "plt.show()\n",
    "\n",
    "# https://www.geeksforgeeks.org/how-to-overlap-two-barplots-in-seaborn/\n",
    "# https://seaborn.pydata.org/examples/part_whole_bars.html"
   ]
  },
  {
   "cell_type": "markdown",
   "metadata": {},
   "source": [
    "We see that across the year, users with the ultimate plan send more messages than those with the surf plan. "
   ]
  },
  {
   "cell_type": "code",
   "execution_count": 279,
   "metadata": {
    "scrolled": false
   },
   "outputs": [
    {
     "data": {
      "image/png": "[encoded data removed]",
      "text/plain": [
       "<Figure size 432x288 with 1 Axes>"
      ]
     },
     "metadata": {
      "needs_background": "light"
     },
     "output_type": "display_data"
    },
    {
     "data": {
      "image/png": "[encoded data removed]",
      "text/plain": [
       "<Figure size 432x288 with 1 Axes>"
      ]
     },
     "metadata": {
      "needs_background": "light"
     },
     "output_type": "display_data"
    }
   ],
   "source": [
    "\n",
    "data_surf.hist(\"num_messages\", bins=30)\n",
    "plt.xlabel('number of messages')\n",
    "plt.ylabel('count of users')\n",
    "plt.title('Histogram of monthly number of messages per customer for the surf plan')\n",
    "\n",
    "data_ultimate.hist(\"num_messages\", bins=30)\n",
    "plt.xlabel('number of messages')\n",
    "plt.ylabel('count of users')\n",
    "plt.title('Histogram of monthly number of messages per customer for the ultimate plan')\n",
    "\n",
    "plt.show()"
   ]
  },
  {
   "cell_type": "markdown",
   "metadata": {},
   "source": [
    "The histogram of monthly number of messages per customer for the surf plan shows that it has over 500 users that did not send any messages in some months. The distribution is highly right-skewed. The majority of surf users send less than 100 messages per month. A few users send more than 200 messages a month.  \n",
    "\n",
    "The histogram of monthly number of messages per customer for the ultimate plan shows that it has over 175 users that did not send any messages in some months. The distribution is highly right-skewed. The majority of ultimate users send less than 100 messages per month. A few users send more than 150 messages a month.  "
   ]
  },
  {
   "cell_type": "code",
   "execution_count": 280,
   "metadata": {},
   "outputs": [
    {
     "name": "stdout",
     "output_type": "stream",
     "text": [
      "The mean monthly number of messages for the surf plan is 31.16\n",
      "The variance of monthly number of messages for the surf plan is 1126.01\n",
      "The mean monthly number of messages for the ultimate plan is 37.55\n",
      "The variance of monthly number of messages for the ultimate plan is 1207.08\n"
     ]
    }
   ],
   "source": [
    "# Calculate the mean and the variance of the monthly call duration\n",
    "\n",
    "mean_monthly_num_messages_surf = data_surf[\"num_messages\"].mean()\n",
    "var_monthly_num_messages_surf = np.var(data_surf[\"num_messages\"])\n",
    "print(\"The mean monthly number of messages for the surf plan is\", round(mean_monthly_num_messages_surf,2))\n",
    "print(\"The variance of monthly number of messages for the surf plan is\", round(var_monthly_num_messages_surf,2))\n",
    "\n",
    "mean_monthly_num_messages_ultimate = data_ultimate[\"num_messages\"].mean()\n",
    "var_monthly_num_messages_ultimate = np.var(data_ultimate[\"num_messages\"])\n",
    "print(\"The mean monthly number of messages for the ultimate plan is\", round(mean_monthly_num_messages_ultimate,2))\n",
    "print(\"The variance of monthly number of messages for the ultimate plan is\", round(var_monthly_num_messages_ultimate,2))\n"
   ]
  },
  {
   "cell_type": "markdown",
   "metadata": {},
   "source": [
    "We see that the mean and the variable of monthly number of messages for both plans are quite close to each other. So it is very likely that users on the different plans have very similar messaging behaviours."
   ]
  },
  {
   "cell_type": "code",
   "execution_count": 281,
   "metadata": {
    "scrolled": false
   },
   "outputs": [
    {
     "data": {
      "image/png": "[encoded data removed]",
      "text/plain": [
       "<Figure size 432x288 with 1 Axes>"
      ]
     },
     "metadata": {
      "needs_background": "light"
     },
     "output_type": "display_data"
    }
   ],
   "source": [
    "data_surf.boxplot(\"num_messages\")\n",
    "plt.ylabel('number of messages')\n",
    "plt.title('Boxplot of monthly number of messages per customer for the surf plan')\n",
    "plt.show()"
   ]
  },
  {
   "cell_type": "markdown",
   "metadata": {},
   "source": [
    "The Boxplot of monthly number of messages per customer for the surf plan shows that 75% of its users sent less than 50 messages per month, which is within the free quota of the plan. Some users send over 100 messages, which are outliers. "
   ]
  },
  {
   "cell_type": "code",
   "execution_count": 282,
   "metadata": {
    "scrolled": false
   },
   "outputs": [
    {
     "data": {
      "image/png": "[encoded data removed]",
      "text/plain": [
       "<Figure size 432x288 with 1 Axes>"
      ]
     },
     "metadata": {
      "needs_background": "light"
     },
     "output_type": "display_data"
    }
   ],
   "source": [
    "data_ultimate.boxplot(\"num_messages\")\n",
    "plt.ylabel('number of messages')\n",
    "plt.title('Boxplot of monthly number of messages per customer for the ultimate plan')\n",
    "plt.show()"
   ]
  },
  {
   "cell_type": "markdown",
   "metadata": {},
   "source": [
    "The Boxplot of monthly number of messages per customer for the ultimate plan shows that 75% of its users sent less than 60 messages per month. Some of its users sent over 125 messages or more per month. Those are outliers. But still, it is within the free quota of the plan. "
   ]
  },
  {
   "cell_type": "markdown",
   "metadata": {},
   "source": [
    "In terms of how the users behave in messaging, the distribution from both plans are both right-skewed with median around 25 messages per month and 75% percentile around 50 or 60 messages per month. Users from the surf plan has outliers that sent more than 200 messages per month, which was not seen with users from the ultimate plan. So my conclusion for messaging behavior is that users from both plans had similar behaviors.   "
   ]
  },
  {
   "cell_type": "markdown",
   "metadata": {},
   "source": [
    "### Internet"
   ]
  },
  {
   "cell_type": "code",
   "execution_count": 283,
   "metadata": {
    "scrolled": true
   },
   "outputs": [
    {
     "data": {
      "text/html": [
       "<div>\n",
       "<style scoped>\n",
       "    .dataframe tbody tr th:only-of-type {\n",
       "        vertical-align: middle;\n",
       "    }\n",
       "\n",
       "    .dataframe tbody tr th {\n",
       "        vertical-align: top;\n",
       "    }\n",
       "\n",
       "    .dataframe thead th {\n",
       "        text-align: right;\n",
       "    }\n",
       "</style>\n",
       "<table border=\"1\" class=\"dataframe\">\n",
       "  <thead>\n",
       "    <tr style=\"text-align: right;\">\n",
       "      <th></th>\n",
       "      <th>plan</th>\n",
       "      <th>month</th>\n",
       "      <th>gb_used</th>\n",
       "    </tr>\n",
       "  </thead>\n",
       "  <tbody>\n",
       "    <tr>\n",
       "      <td>0</td>\n",
       "      <td>surf</td>\n",
       "      <td>1</td>\n",
       "      <td>5.000000</td>\n",
       "    </tr>\n",
       "    <tr>\n",
       "      <td>1</td>\n",
       "      <td>surf</td>\n",
       "      <td>2</td>\n",
       "      <td>12.222222</td>\n",
       "    </tr>\n",
       "    <tr>\n",
       "      <td>2</td>\n",
       "      <td>surf</td>\n",
       "      <td>3</td>\n",
       "      <td>13.565217</td>\n",
       "    </tr>\n",
       "    <tr>\n",
       "      <td>3</td>\n",
       "      <td>surf</td>\n",
       "      <td>4</td>\n",
       "      <td>12.220000</td>\n",
       "    </tr>\n",
       "    <tr>\n",
       "      <td>4</td>\n",
       "      <td>surf</td>\n",
       "      <td>5</td>\n",
       "      <td>14.116883</td>\n",
       "    </tr>\n",
       "    <tr>\n",
       "      <td>5</td>\n",
       "      <td>surf</td>\n",
       "      <td>6</td>\n",
       "      <td>15.484536</td>\n",
       "    </tr>\n",
       "    <tr>\n",
       "      <td>6</td>\n",
       "      <td>surf</td>\n",
       "      <td>7</td>\n",
       "      <td>16.876033</td>\n",
       "    </tr>\n",
       "    <tr>\n",
       "      <td>7</td>\n",
       "      <td>surf</td>\n",
       "      <td>8</td>\n",
       "      <td>16.882716</td>\n",
       "    </tr>\n",
       "    <tr>\n",
       "      <td>8</td>\n",
       "      <td>surf</td>\n",
       "      <td>9</td>\n",
       "      <td>16.690722</td>\n",
       "    </tr>\n",
       "    <tr>\n",
       "      <td>9</td>\n",
       "      <td>surf</td>\n",
       "      <td>10</td>\n",
       "      <td>17.409283</td>\n",
       "    </tr>\n",
       "    <tr>\n",
       "      <td>10</td>\n",
       "      <td>surf</td>\n",
       "      <td>11</td>\n",
       "      <td>16.431095</td>\n",
       "    </tr>\n",
       "    <tr>\n",
       "      <td>11</td>\n",
       "      <td>surf</td>\n",
       "      <td>12</td>\n",
       "      <td>18.238994</td>\n",
       "    </tr>\n",
       "    <tr>\n",
       "      <td>12</td>\n",
       "      <td>ultimate</td>\n",
       "      <td>1</td>\n",
       "      <td>7.250000</td>\n",
       "    </tr>\n",
       "    <tr>\n",
       "      <td>13</td>\n",
       "      <td>ultimate</td>\n",
       "      <td>2</td>\n",
       "      <td>17.285714</td>\n",
       "    </tr>\n",
       "    <tr>\n",
       "      <td>14</td>\n",
       "      <td>ultimate</td>\n",
       "      <td>3</td>\n",
       "      <td>18.416667</td>\n",
       "    </tr>\n",
       "    <tr>\n",
       "      <td>15</td>\n",
       "      <td>ultimate</td>\n",
       "      <td>4</td>\n",
       "      <td>16.333333</td>\n",
       "    </tr>\n",
       "    <tr>\n",
       "      <td>16</td>\n",
       "      <td>ultimate</td>\n",
       "      <td>5</td>\n",
       "      <td>16.862069</td>\n",
       "    </tr>\n",
       "    <tr>\n",
       "      <td>17</td>\n",
       "      <td>ultimate</td>\n",
       "      <td>6</td>\n",
       "      <td>15.425532</td>\n",
       "    </tr>\n",
       "    <tr>\n",
       "      <td>18</td>\n",
       "      <td>ultimate</td>\n",
       "      <td>7</td>\n",
       "      <td>16.491525</td>\n",
       "    </tr>\n",
       "    <tr>\n",
       "      <td>19</td>\n",
       "      <td>ultimate</td>\n",
       "      <td>8</td>\n",
       "      <td>17.845070</td>\n",
       "    </tr>\n",
       "    <tr>\n",
       "      <td>20</td>\n",
       "      <td>ultimate</td>\n",
       "      <td>9</td>\n",
       "      <td>17.011628</td>\n",
       "    </tr>\n",
       "    <tr>\n",
       "      <td>21</td>\n",
       "      <td>ultimate</td>\n",
       "      <td>10</td>\n",
       "      <td>17.716981</td>\n",
       "    </tr>\n",
       "    <tr>\n",
       "      <td>22</td>\n",
       "      <td>ultimate</td>\n",
       "      <td>11</td>\n",
       "      <td>17.118110</td>\n",
       "    </tr>\n",
       "    <tr>\n",
       "      <td>23</td>\n",
       "      <td>ultimate</td>\n",
       "      <td>12</td>\n",
       "      <td>18.397351</td>\n",
       "    </tr>\n",
       "  </tbody>\n",
       "</table>\n",
       "</div>"
      ],
      "text/plain": [
       "        plan  month    gb_used\n",
       "0       surf      1   5.000000\n",
       "1       surf      2  12.222222\n",
       "2       surf      3  13.565217\n",
       "3       surf      4  12.220000\n",
       "4       surf      5  14.116883\n",
       "5       surf      6  15.484536\n",
       "6       surf      7  16.876033\n",
       "7       surf      8  16.882716\n",
       "8       surf      9  16.690722\n",
       "9       surf     10  17.409283\n",
       "10      surf     11  16.431095\n",
       "11      surf     12  18.238994\n",
       "12  ultimate      1   7.250000\n",
       "13  ultimate      2  17.285714\n",
       "14  ultimate      3  18.416667\n",
       "15  ultimate      4  16.333333\n",
       "16  ultimate      5  16.862069\n",
       "17  ultimate      6  15.425532\n",
       "18  ultimate      7  16.491525\n",
       "19  ultimate      8  17.845070\n",
       "20  ultimate      9  17.011628\n",
       "21  ultimate     10  17.716981\n",
       "22  ultimate     11  17.118110\n",
       "23  ultimate     12  18.397351"
      ]
     },
     "execution_count": 283,
     "metadata": {},
     "output_type": "execute_result"
    }
   ],
   "source": [
    "# Compare the number of messages users of each plan tend to send each month\n",
    "\n",
    "gb_used_per_month = data.pivot_table(index = ['plan', 'month'], \n",
    "                                             values = 'gb_used', \n",
    "                                             aggfunc = 'mean')\n",
    "\n",
    "gb_used_per_month = gb_used_per_month.reset_index()\n",
    "gb_used_per_month\n"
   ]
  },
  {
   "cell_type": "code",
   "execution_count": 284,
   "metadata": {
    "scrolled": true
   },
   "outputs": [
    {
     "data": {
      "image/png": "[encoded data removed]",
      "text/plain": [
       "<Figure size 432x288 with 1 Axes>"
      ]
     },
     "metadata": {
      "needs_background": "light"
     },
     "output_type": "display_data"
    }
   ],
   "source": [
    "# creating subplots\n",
    "ax = plt.subplots()\n",
    "  \n",
    "# plotting columns\n",
    "ax = sns.barplot(x=gb_used_per_month.loc[0:11,'month'], \n",
    "                 y=gb_used_per_month.loc[0:11,'gb_used'], \n",
    "                 color='green', alpha=0.3, label='surf')\n",
    "\n",
    "ax = sns.barplot(x=gb_used_per_month.loc[12:23,'month'], \n",
    "                 y=gb_used_per_month.loc[12:23,'gb_used'], \n",
    "                 color='red', alpha=0.2,label='ultimate')\n",
    "  \n",
    "# renaming the axes\n",
    "ax.set(xlabel=\"month\", \n",
    "       ylabel=\"average monthly data usage in GB\",\n",
    "       title = 'Barplots of average monthly data usage in GB per customer for each phone plan')\n",
    "ax.legend(ncol=2, loc=\"upper left\", frameon=True)\n",
    "\n",
    "# visulaizing illustration\n",
    "plt.show()\n",
    "\n",
    "# https://www.geeksforgeeks.org/how-to-overlap-two-barplots-in-seaborn/\n",
    "# https://seaborn.pydata.org/examples/part_whole_bars.html"
   ]
  },
  {
   "cell_type": "markdown",
   "metadata": {},
   "source": [
    "We see that users from both plans had smaller data usage in Janurary compared with the rest of the months. \n",
    "Across the year, users with the ultimate plan had more data usage than those with the surf plan. "
   ]
  },
  {
   "cell_type": "code",
   "execution_count": 285,
   "metadata": {
    "scrolled": false
   },
   "outputs": [
    {
     "data": {
      "image/png": "[encoded data removed]",
      "text/plain": [
       "<Figure size 432x288 with 1 Axes>"
      ]
     },
     "metadata": {
      "needs_background": "light"
     },
     "output_type": "display_data"
    },
    {
     "data": {
      "image/png": "[encoded data removed]",
      "text/plain": [
       "<Figure size 432x288 with 1 Axes>"
      ]
     },
     "metadata": {
      "needs_background": "light"
     },
     "output_type": "display_data"
    }
   ],
   "source": [
    "\n",
    "data_surf.hist(\"gb_used\", bins=30)\n",
    "plt.xlabel('data usage in GB')\n",
    "plt.ylabel('count of users')\n",
    "plt.title('Histogram of monthly data usage in GB per customer for the surf plan')\n",
    "\n",
    "data_ultimate.hist(\"gb_used\", bins=30)\n",
    "plt.xlabel('data usage in GB')\n",
    "plt.ylabel('count of users')\n",
    "plt.title('Histogram of monthly data usage in GB per customer for the ultimate plan')\n",
    "\n",
    "plt.show()"
   ]
  },
  {
   "cell_type": "markdown",
   "metadata": {},
   "source": [
    "The histograms of monthly data usage in GB per customer for the surf plan and the ultimate plan are slightly right-skewed. They look similar except that the histogram for the surf plan had more extreme outliers. Both histograms had center around 15 GB.  "
   ]
  },
  {
   "cell_type": "code",
   "execution_count": 286,
   "metadata": {},
   "outputs": [
    {
     "name": "stdout",
     "output_type": "stream",
     "text": [
      "The mean monthly data usage for the surf plan is 16.67\n",
      "The variance of monthly data usage for the surf plan is 61.54\n",
      "The mean monthly data usage for the ultimate plan is 17.31\n",
      "The variance of monthly data usage for the ultimate plan is 58.75\n"
     ]
    }
   ],
   "source": [
    "# Calculate the mean and the variance of the monthly call duration\n",
    "\n",
    "mean_monthly_data_usage_surf = data_surf[\"gb_used\"].mean()\n",
    "var_monthly_data_usage_surf = np.var(data_surf[\"gb_used\"])\n",
    "print(\"The mean monthly data usage for the surf plan is\", round(mean_monthly_data_usage_surf,2))\n",
    "print(\"The variance of monthly data usage for the surf plan is\", round(var_monthly_data_usage_surf,2))\n",
    "\n",
    "mean_monthly_data_usage_ultimate = data_ultimate[\"gb_used\"].mean()\n",
    "var_monthly_data_usage_ultimate = np.var(data_ultimate[\"gb_used\"])\n",
    "print(\"The mean monthly data usage for the ultimate plan is\", round(mean_monthly_data_usage_ultimate,2))\n",
    "print(\"The variance of monthly data usage for the ultimate plan is\", round(var_monthly_data_usage_ultimate,2))\n"
   ]
  },
  {
   "cell_type": "markdown",
   "metadata": {},
   "source": [
    "We see that the mean and the variable of monthly data usage for both plans are quite close to each other. So it is very likely that users on the different plans have very similar behaviours in terms of monthly data usage."
   ]
  },
  {
   "cell_type": "code",
   "execution_count": 287,
   "metadata": {
    "scrolled": false
   },
   "outputs": [
    {
     "data": {
      "image/png": "[encoded data removed]",
      "text/plain": [
       "<Figure size 432x288 with 1 Axes>"
      ]
     },
     "metadata": {
      "needs_background": "light"
     },
     "output_type": "display_data"
    }
   ],
   "source": [
    "data_surf.boxplot(\"gb_used\")\n",
    "plt.ylabel('data usage in GB')\n",
    "plt.title('Boxplot of monthly data usage in GB per customer for the surf plan')\n",
    "plt.show()"
   ]
  },
  {
   "cell_type": "markdown",
   "metadata": {},
   "source": [
    "The Boxplot of monthly monthly data usage in GB per customer for the surf plan shows that 75% of its users used less than 21 GB per month. About half of its users used more than 15 GB per month, which exceeded the free monthly quota. \n",
    "Some users used more than 50 GB per month! "
   ]
  },
  {
   "cell_type": "code",
   "execution_count": 288,
   "metadata": {
    "scrolled": false
   },
   "outputs": [
    {
     "data": {
      "image/png": "[encoded data removed]",
      "text/plain": [
       "<Figure size 432x288 with 1 Axes>"
      ]
     },
     "metadata": {
      "needs_background": "light"
     },
     "output_type": "display_data"
    }
   ],
   "source": [
    "data_ultimate.boxplot(\"gb_used\")\n",
    "plt.ylabel('data usage in GB')\n",
    "plt.title('Boxplot of monthly data usage in GB per customer for the ultimate plan')\n",
    "plt.show()"
   ]
  },
  {
   "cell_type": "markdown",
   "metadata": {},
   "source": [
    "The Boxplot of monthly monthly data usage in GB per customer for the ultimate plan shows that 75% of its users used less than 21 GB per month. Some users used more than 30 GB per month, which exceeded the free monthly quota.  "
   ]
  },
  {
   "cell_type": "markdown",
   "metadata": {},
   "source": [
    "In terms of how the users behave in data usage, the distribution from both plans are both right-skewed with median around 17 GB per month and 75% percentile around 21 GB per month. Because the free monthly quota for surf users is 15 GB, half of its users are paying extra for data usage. In contrast, because the free monthly quota for ultimate plan users is 30 GB, not many of its users are paying extra for data usage. So my conclusion for data usage behavior is that users from surf plans tended to exceed the free quota limit of the plan, whereas most of users from the ultimate plan did not exceed the free quota limit of the plan.   "
   ]
  },
  {
   "cell_type": "markdown",
   "metadata": {},
   "source": [
    "## Revenue"
   ]
  },
  {
   "cell_type": "code",
   "execution_count": 289,
   "metadata": {
    "scrolled": true
   },
   "outputs": [
    {
     "data": {
      "text/html": [
       "<div>\n",
       "<style scoped>\n",
       "    .dataframe tbody tr th:only-of-type {\n",
       "        vertical-align: middle;\n",
       "    }\n",
       "\n",
       "    .dataframe tbody tr th {\n",
       "        vertical-align: top;\n",
       "    }\n",
       "\n",
       "    .dataframe thead th {\n",
       "        text-align: right;\n",
       "    }\n",
       "</style>\n",
       "<table border=\"1\" class=\"dataframe\">\n",
       "  <thead>\n",
       "    <tr style=\"text-align: right;\">\n",
       "      <th></th>\n",
       "      <th>plan</th>\n",
       "      <th>month</th>\n",
       "      <th>revenue</th>\n",
       "    </tr>\n",
       "  </thead>\n",
       "  <tbody>\n",
       "    <tr>\n",
       "      <td>0</td>\n",
       "      <td>surf</td>\n",
       "      <td>1</td>\n",
       "      <td>20.000000</td>\n",
       "    </tr>\n",
       "    <tr>\n",
       "      <td>1</td>\n",
       "      <td>surf</td>\n",
       "      <td>2</td>\n",
       "      <td>34.396667</td>\n",
       "    </tr>\n",
       "    <tr>\n",
       "      <td>2</td>\n",
       "      <td>surf</td>\n",
       "      <td>3</td>\n",
       "      <td>45.941304</td>\n",
       "    </tr>\n",
       "    <tr>\n",
       "      <td>3</td>\n",
       "      <td>surf</td>\n",
       "      <td>4</td>\n",
       "      <td>40.710600</td>\n",
       "    </tr>\n",
       "    <tr>\n",
       "      <td>4</td>\n",
       "      <td>surf</td>\n",
       "      <td>5</td>\n",
       "      <td>47.628182</td>\n",
       "    </tr>\n",
       "    <tr>\n",
       "      <td>5</td>\n",
       "      <td>surf</td>\n",
       "      <td>6</td>\n",
       "      <td>49.276289</td>\n",
       "    </tr>\n",
       "    <tr>\n",
       "      <td>6</td>\n",
       "      <td>surf</td>\n",
       "      <td>7</td>\n",
       "      <td>62.674050</td>\n",
       "    </tr>\n",
       "    <tr>\n",
       "      <td>7</td>\n",
       "      <td>surf</td>\n",
       "      <td>8</td>\n",
       "      <td>63.931173</td>\n",
       "    </tr>\n",
       "    <tr>\n",
       "      <td>8</td>\n",
       "      <td>surf</td>\n",
       "      <td>9</td>\n",
       "      <td>58.271495</td>\n",
       "    </tr>\n",
       "    <tr>\n",
       "      <td>9</td>\n",
       "      <td>surf</td>\n",
       "      <td>10</td>\n",
       "      <td>65.421224</td>\n",
       "    </tr>\n",
       "    <tr>\n",
       "      <td>10</td>\n",
       "      <td>surf</td>\n",
       "      <td>11</td>\n",
       "      <td>58.004276</td>\n",
       "    </tr>\n",
       "    <tr>\n",
       "      <td>11</td>\n",
       "      <td>surf</td>\n",
       "      <td>12</td>\n",
       "      <td>70.557044</td>\n",
       "    </tr>\n",
       "    <tr>\n",
       "      <td>12</td>\n",
       "      <td>ultimate</td>\n",
       "      <td>1</td>\n",
       "      <td>70.000000</td>\n",
       "    </tr>\n",
       "    <tr>\n",
       "      <td>13</td>\n",
       "      <td>ultimate</td>\n",
       "      <td>2</td>\n",
       "      <td>70.000000</td>\n",
       "    </tr>\n",
       "    <tr>\n",
       "      <td>14</td>\n",
       "      <td>ultimate</td>\n",
       "      <td>3</td>\n",
       "      <td>74.666667</td>\n",
       "    </tr>\n",
       "    <tr>\n",
       "      <td>15</td>\n",
       "      <td>ultimate</td>\n",
       "      <td>4</td>\n",
       "      <td>73.000000</td>\n",
       "    </tr>\n",
       "    <tr>\n",
       "      <td>16</td>\n",
       "      <td>ultimate</td>\n",
       "      <td>5</td>\n",
       "      <td>70.724138</td>\n",
       "    </tr>\n",
       "    <tr>\n",
       "      <td>17</td>\n",
       "      <td>ultimate</td>\n",
       "      <td>6</td>\n",
       "      <td>71.638298</td>\n",
       "    </tr>\n",
       "    <tr>\n",
       "      <td>18</td>\n",
       "      <td>ultimate</td>\n",
       "      <td>7</td>\n",
       "      <td>71.898305</td>\n",
       "    </tr>\n",
       "    <tr>\n",
       "      <td>19</td>\n",
       "      <td>ultimate</td>\n",
       "      <td>8</td>\n",
       "      <td>72.859155</td>\n",
       "    </tr>\n",
       "    <tr>\n",
       "      <td>20</td>\n",
       "      <td>ultimate</td>\n",
       "      <td>9</td>\n",
       "      <td>72.034884</td>\n",
       "    </tr>\n",
       "    <tr>\n",
       "      <td>21</td>\n",
       "      <td>ultimate</td>\n",
       "      <td>10</td>\n",
       "      <td>72.311321</td>\n",
       "    </tr>\n",
       "    <tr>\n",
       "      <td>22</td>\n",
       "      <td>ultimate</td>\n",
       "      <td>11</td>\n",
       "      <td>71.708661</td>\n",
       "    </tr>\n",
       "    <tr>\n",
       "      <td>23</td>\n",
       "      <td>ultimate</td>\n",
       "      <td>12</td>\n",
       "      <td>73.291391</td>\n",
       "    </tr>\n",
       "  </tbody>\n",
       "</table>\n",
       "</div>"
      ],
      "text/plain": [
       "        plan  month    revenue\n",
       "0       surf      1  20.000000\n",
       "1       surf      2  34.396667\n",
       "2       surf      3  45.941304\n",
       "3       surf      4  40.710600\n",
       "4       surf      5  47.628182\n",
       "5       surf      6  49.276289\n",
       "6       surf      7  62.674050\n",
       "7       surf      8  63.931173\n",
       "8       surf      9  58.271495\n",
       "9       surf     10  65.421224\n",
       "10      surf     11  58.004276\n",
       "11      surf     12  70.557044\n",
       "12  ultimate      1  70.000000\n",
       "13  ultimate      2  70.000000\n",
       "14  ultimate      3  74.666667\n",
       "15  ultimate      4  73.000000\n",
       "16  ultimate      5  70.724138\n",
       "17  ultimate      6  71.638298\n",
       "18  ultimate      7  71.898305\n",
       "19  ultimate      8  72.859155\n",
       "20  ultimate      9  72.034884\n",
       "21  ultimate     10  72.311321\n",
       "22  ultimate     11  71.708661\n",
       "23  ultimate     12  73.291391"
      ]
     },
     "execution_count": 289,
     "metadata": {},
     "output_type": "execute_result"
    }
   ],
   "source": [
    "# Compare the number of messages users of each plan tend to send each month\n",
    "\n",
    "revenue_per_month = data.pivot_table(index = ['plan', 'month'], \n",
    "                                             values = 'revenue', \n",
    "                                             aggfunc = 'mean')\n",
    "\n",
    "revenue_per_month = revenue_per_month.reset_index()\n",
    "revenue_per_month\n"
   ]
  },
  {
   "cell_type": "code",
   "execution_count": 290,
   "metadata": {
    "scrolled": true
   },
   "outputs": [
    {
     "data": {
      "image/png": "[encoded data removed]",
      "text/plain": [
       "<Figure size 432x288 with 1 Axes>"
      ]
     },
     "metadata": {
      "needs_background": "light"
     },
     "output_type": "display_data"
    }
   ],
   "source": [
    "# creating subplots\n",
    "ax = plt.subplots()\n",
    "  \n",
    "# plotting columns\n",
    "ax = sns.barplot(x=revenue_per_month.loc[0:11,'month'], \n",
    "                 y=revenue_per_month.loc[0:11,'revenue'], \n",
    "                 color='green', alpha=0.3, label='surf')\n",
    "\n",
    "ax = sns.barplot(x=revenue_per_month.loc[12:23,'month'], \n",
    "                 y=revenue_per_month.loc[12:23,'revenue'], \n",
    "                 color='red', alpha=0.2,label='ultimate')\n",
    "  \n",
    "# renaming the axes\n",
    "ax.set(xlabel=\"month\", \n",
    "       ylabel=\"average monthly revenue per user in $\",\n",
    "       title = 'Barplots of average monthly revenue per user in $ for each phone plan')\n",
    "ax.legend(ncol=2, loc=\"upper left\", frameon=True)\n",
    "\n",
    "# visulaizing illustration\n",
    "plt.show()\n",
    "\n",
    "# https://www.geeksforgeeks.org/how-to-overlap-two-barplots-in-seaborn/\n",
    "# https://seaborn.pydata.org/examples/part_whole_bars.html"
   ]
  },
  {
   "cell_type": "markdown",
   "metadata": {},
   "source": [
    "We see that users from the ultimate plan spent around 70 dollars each month across the year. Users from the surf plan spent the least amount of money in Janurary, but their spending kept increasing as time continued. In December, users from the surf plan spent close to 70 dollars each month! \n",
    "\n",
    "The monthy package charge is 20 dollars for the surf plan. So many surf users are paying extra for their plan.\n",
    "The monthy package charge is 70 dollars for the ultimate plan. So few ultimate users are paying extra for their plan."
   ]
  },
  {
   "cell_type": "code",
   "execution_count": 291,
   "metadata": {
    "scrolled": false
   },
   "outputs": [
    {
     "data": {
      "image/png": "[encoded data removed]",
      "text/plain": [
       "<Figure size 432x288 with 1 Axes>"
      ]
     },
     "metadata": {
      "needs_background": "light"
     },
     "output_type": "display_data"
    },
    {
     "data": {
      "image/png": "[encoded data removed]",
      "text/plain": [
       "<Figure size 432x288 with 1 Axes>"
      ]
     },
     "metadata": {
      "needs_background": "light"
     },
     "output_type": "display_data"
    }
   ],
   "source": [
    "\n",
    "data_surf.hist(\"revenue\", bins=30)\n",
    "plt.xlabel('average monthly revenue per user in $')\n",
    "plt.ylabel('count of users')\n",
    "plt.title('Histogram of average monthly revenue per user in $ for the surf plan')\n",
    "\n",
    "data_ultimate.hist(\"revenue\", bins=30)\n",
    "plt.xlabel('average monthly revenue per user in $')\n",
    "plt.ylabel('count of users')\n",
    "plt.title('Histogram of average monthly revenue per user in $ for the ultimate plan')\n",
    "\n",
    "plt.show()"
   ]
  },
  {
   "cell_type": "markdown",
   "metadata": {},
   "source": [
    "The histograms of average monthly revenue per user in dollar for the surf plan shows that the distribution is highly right-skewed, with the majority of the uses paying less than 100 dollars per month. However, there are some users paying more than 200 dollars a month!\n",
    "\n",
    "The histograms of average monthly revenue per user in dollar for the ultimate plan shows that the distribution is highly right-skewed, with the majority of the uses paying less than 70 dollars per month. However, there are some users paying somewhere between 80 and 180 dollars a month!\n",
    " "
   ]
  },
  {
   "cell_type": "code",
   "execution_count": 292,
   "metadata": {},
   "outputs": [
    {
     "name": "stdout",
     "output_type": "stream",
     "text": [
      "The mean monthly revenue for the surf plan is 60.71\n",
      "The variance of monthly revenue for the surf plan is 3065.88\n",
      "The mean monthly revenue for the ultimate plan is 72.31\n",
      "The variance of monthly revenue for the ultimate plan is 129.67\n"
     ]
    }
   ],
   "source": [
    "# Calculate the mean and the variance of the monthly call duration\n",
    "\n",
    "mean_monthly_revenue_surf = data_surf[\"revenue\"].mean()\n",
    "var_monthly_revenue_surf = np.var(data_surf[\"revenue\"])\n",
    "print(\"The mean monthly revenue for the surf plan is\", round(mean_monthly_revenue_surf,2))\n",
    "print(\"The variance of monthly revenue for the surf plan is\", round(var_monthly_revenue_surf,2))\n",
    "\n",
    "mean_monthly_revenue_ultimate = data_ultimate[\"revenue\"].mean()\n",
    "var_monthly_revenue_ultimate = np.var(data_ultimate[\"revenue\"])\n",
    "print(\"The mean monthly revenue for the ultimate plan is\", round(mean_monthly_revenue_ultimate,2))\n",
    "print(\"The variance of monthly revenue for the ultimate plan is\", round(var_monthly_revenue_ultimate,2))\n"
   ]
  },
  {
   "cell_type": "markdown",
   "metadata": {},
   "source": [
    "We see that the mean and the variable of monthly revenue for both plans are quite different from each other. So it is very likely that users on the different plans have very different monthly revenue. "
   ]
  },
  {
   "cell_type": "code",
   "execution_count": 293,
   "metadata": {
    "scrolled": false
   },
   "outputs": [
    {
     "data": {
      "image/png": "[encoded data removed]",
      "text/plain": [
       "<Figure size 432x288 with 1 Axes>"
      ]
     },
     "metadata": {
      "needs_background": "light"
     },
     "output_type": "display_data"
    }
   ],
   "source": [
    "data_surf.boxplot(\"revenue\")\n",
    "plt.ylabel('average monthly revenue per user in $')\n",
    "plt.title('Boxplot of average monthly revenue per user in $ for the surf plan')\n",
    "plt.show()"
   ]
  },
  {
   "cell_type": "markdown",
   "metadata": {},
   "source": [
    "The Boxplot of average monthly revenue per user in dollar for the surf plan shows that 75% of its paied less than 80 dollars per month. The majority of its users paied more than 20 dollars per month. Some users paying more than 200 dollars a month!"
   ]
  },
  {
   "cell_type": "code",
   "execution_count": 294,
   "metadata": {
    "scrolled": false
   },
   "outputs": [
    {
     "data": {
      "image/png": "[encoded data removed]",
      "text/plain": [
       "<Figure size 432x288 with 1 Axes>"
      ]
     },
     "metadata": {
      "needs_background": "light"
     },
     "output_type": "display_data"
    }
   ],
   "source": [
    "data_ultimate.boxplot(\"revenue\")\n",
    "plt.ylabel('average monthly revenue per user in $')\n",
    "plt.title('Boxplot of average monthly revenue per user in $ for the ultimate plan')\n",
    "plt.show()\n"
   ]
  },
  {
   "cell_type": "markdown",
   "metadata": {},
   "source": [
    "The Boxplot of average monthly revenue per user in dollar for the ultimate plan shows most of its paied 70 dollars per month. Some but not many users were paying more than 80 dollars a month!"
   ]
  },
  {
   "cell_type": "markdown",
   "metadata": {},
   "source": [
    "In terms of how the users behave in monthly cost, the distribution from both plans are quite different. Surf plan users tended to pay more than the 20 dollars plan cost, whereas most of the ultimate plan users did not pay more than 70 dollars. "
   ]
  },
  {
   "cell_type": "markdown",
   "metadata": {},
   "source": [
    "## Test statistical hypotheses"
   ]
  },
  {
   "cell_type": "markdown",
   "metadata": {},
   "source": [
    "Let's test the hypothesis that the average revenue from users of the Ultimate and Surf plans differs. That is, we want to test:\n",
    "$$ H_0: \\mu_{1} =  \\mu_{2}$$\n",
    "$$ H_0: \\mu_{1} \\ne  \\mu_{2}$$\n",
    "where $\\mu_{1}$ is average monthly revenue from users of the surf plan, and $\\mu_{2}$ is average monthly revenue from users of the Ultimate plan.\n",
    "\n",
    "We will use alpha = 0.05 and hypothesis test on the equality of two population means. "
   ]
  },
  {
   "cell_type": "code",
   "execution_count": 295,
   "metadata": {
    "scrolled": true
   },
   "outputs": [
    {
     "name": "stdout",
     "output_type": "stream",
     "text": [
      "p-value: 2.862674510698644e-08\n"
     ]
    }
   ],
   "source": [
    "# Test the hypotheses\n",
    "alpha = 0.05\n",
    "results = st.ttest_ind(data_surf[\"revenue\"], data_ultimate[\"revenue\"])\n",
    "print('p-value:', results.pvalue)"
   ]
  },
  {
   "cell_type": "code",
   "execution_count": 296,
   "metadata": {
    "scrolled": false
   },
   "outputs": [
    {
     "name": "stdout",
     "output_type": "stream",
     "text": [
      "We reject the null hypothesis.\n"
     ]
    }
   ],
   "source": [
    "if results.pvalue < alpha:\n",
    "    print(\"We reject the null hypothesis.\")\n",
    "else:\n",
    "    print(\"We can't reject the null hypothesis.\")"
   ]
  },
  {
   "cell_type": "markdown",
   "metadata": {},
   "source": [
    "Thus, we conclude that the average revenue from users of the Ultimate and Surf plans differs. "
   ]
  },
  {
   "cell_type": "markdown",
   "metadata": {},
   "source": [
    "Now let's test the hypothesis that the average revenue from users in the NY-NJ area is different from that of the users from the other regions. That is, we want to test:\n",
    "$$ H_0: \\mu_{1} =  \\mu_{2}$$\n",
    "$$ H_0: \\mu_{1} \\ne  \\mu_{2}$$\n",
    "where $\\mu_{1}$ is average monthly revenue from users in the NY-NJ area, and $\\mu_{2}$ is average monthly revenue from users in other regions.\n",
    "\n",
    "We will use alpha = 0.05 and hypothesis test on the equality of two population means. "
   ]
  },
  {
   "cell_type": "code",
   "execution_count": 297,
   "metadata": {},
   "outputs": [],
   "source": [
    "data['city_ny_nj'] = data['city'].str.match(pat=r'.*NY-NJ.*').astype('int')"
   ]
  },
  {
   "cell_type": "code",
   "execution_count": 298,
   "metadata": {
    "scrolled": true
   },
   "outputs": [
    {
     "data": {
      "text/html": [
       "<div>\n",
       "<style scoped>\n",
       "    .dataframe tbody tr th:only-of-type {\n",
       "        vertical-align: middle;\n",
       "    }\n",
       "\n",
       "    .dataframe tbody tr th {\n",
       "        vertical-align: top;\n",
       "    }\n",
       "\n",
       "    .dataframe thead th {\n",
       "        text-align: right;\n",
       "    }\n",
       "</style>\n",
       "<table border=\"1\" class=\"dataframe\">\n",
       "  <thead>\n",
       "    <tr style=\"text-align: right;\">\n",
       "      <th></th>\n",
       "      <th>user_id</th>\n",
       "      <th>month</th>\n",
       "      <th>num_calls</th>\n",
       "      <th>call_duration</th>\n",
       "      <th>num_messages</th>\n",
       "      <th>gb_used</th>\n",
       "      <th>age</th>\n",
       "      <th>city</th>\n",
       "      <th>reg_date</th>\n",
       "      <th>plan</th>\n",
       "      <th>churn_date</th>\n",
       "      <th>active</th>\n",
       "      <th>revenue</th>\n",
       "      <th>city_ny_nj</th>\n",
       "    </tr>\n",
       "  </thead>\n",
       "  <tbody>\n",
       "    <tr>\n",
       "      <td>0</td>\n",
       "      <td>1000</td>\n",
       "      <td>12</td>\n",
       "      <td>16.0</td>\n",
       "      <td>124.0</td>\n",
       "      <td>11.0</td>\n",
       "      <td>2.0</td>\n",
       "      <td>45</td>\n",
       "      <td>Atlanta-Sandy Springs-Roswell, GA MSA</td>\n",
       "      <td>2018-12-24</td>\n",
       "      <td>ultimate</td>\n",
       "      <td>NaT</td>\n",
       "      <td>1</td>\n",
       "      <td>70.00</td>\n",
       "      <td>0</td>\n",
       "    </tr>\n",
       "    <tr>\n",
       "      <td>1</td>\n",
       "      <td>1001</td>\n",
       "      <td>8</td>\n",
       "      <td>27.0</td>\n",
       "      <td>182.0</td>\n",
       "      <td>30.0</td>\n",
       "      <td>7.0</td>\n",
       "      <td>28</td>\n",
       "      <td>Seattle-Tacoma-Bellevue, WA MSA</td>\n",
       "      <td>2018-08-13</td>\n",
       "      <td>surf</td>\n",
       "      <td>NaT</td>\n",
       "      <td>1</td>\n",
       "      <td>20.00</td>\n",
       "      <td>0</td>\n",
       "    </tr>\n",
       "    <tr>\n",
       "      <td>2</td>\n",
       "      <td>1001</td>\n",
       "      <td>9</td>\n",
       "      <td>49.0</td>\n",
       "      <td>315.0</td>\n",
       "      <td>44.0</td>\n",
       "      <td>14.0</td>\n",
       "      <td>28</td>\n",
       "      <td>Seattle-Tacoma-Bellevue, WA MSA</td>\n",
       "      <td>2018-08-13</td>\n",
       "      <td>surf</td>\n",
       "      <td>NaT</td>\n",
       "      <td>1</td>\n",
       "      <td>20.00</td>\n",
       "      <td>0</td>\n",
       "    </tr>\n",
       "    <tr>\n",
       "      <td>3</td>\n",
       "      <td>1001</td>\n",
       "      <td>10</td>\n",
       "      <td>65.0</td>\n",
       "      <td>393.0</td>\n",
       "      <td>53.0</td>\n",
       "      <td>22.0</td>\n",
       "      <td>28</td>\n",
       "      <td>Seattle-Tacoma-Bellevue, WA MSA</td>\n",
       "      <td>2018-08-13</td>\n",
       "      <td>surf</td>\n",
       "      <td>NaT</td>\n",
       "      <td>1</td>\n",
       "      <td>90.09</td>\n",
       "      <td>0</td>\n",
       "    </tr>\n",
       "    <tr>\n",
       "      <td>4</td>\n",
       "      <td>1001</td>\n",
       "      <td>11</td>\n",
       "      <td>64.0</td>\n",
       "      <td>426.0</td>\n",
       "      <td>36.0</td>\n",
       "      <td>19.0</td>\n",
       "      <td>28</td>\n",
       "      <td>Seattle-Tacoma-Bellevue, WA MSA</td>\n",
       "      <td>2018-08-13</td>\n",
       "      <td>surf</td>\n",
       "      <td>NaT</td>\n",
       "      <td>1</td>\n",
       "      <td>60.00</td>\n",
       "      <td>0</td>\n",
       "    </tr>\n",
       "    <tr>\n",
       "      <td>...</td>\n",
       "      <td>...</td>\n",
       "      <td>...</td>\n",
       "      <td>...</td>\n",
       "      <td>...</td>\n",
       "      <td>...</td>\n",
       "      <td>...</td>\n",
       "      <td>...</td>\n",
       "      <td>...</td>\n",
       "      <td>...</td>\n",
       "      <td>...</td>\n",
       "      <td>...</td>\n",
       "      <td>...</td>\n",
       "      <td>...</td>\n",
       "      <td>...</td>\n",
       "    </tr>\n",
       "    <tr>\n",
       "      <td>2288</td>\n",
       "      <td>1349</td>\n",
       "      <td>12</td>\n",
       "      <td>0.0</td>\n",
       "      <td>0.0</td>\n",
       "      <td>61.0</td>\n",
       "      <td>13.0</td>\n",
       "      <td>69</td>\n",
       "      <td>Boston-Cambridge-Newton, MA-NH MSA</td>\n",
       "      <td>2018-10-01</td>\n",
       "      <td>surf</td>\n",
       "      <td>NaT</td>\n",
       "      <td>1</td>\n",
       "      <td>20.33</td>\n",
       "      <td>0</td>\n",
       "    </tr>\n",
       "    <tr>\n",
       "      <td>2289</td>\n",
       "      <td>1361</td>\n",
       "      <td>5</td>\n",
       "      <td>0.0</td>\n",
       "      <td>0.0</td>\n",
       "      <td>2.0</td>\n",
       "      <td>2.0</td>\n",
       "      <td>45</td>\n",
       "      <td>Birmingham-Hoover, AL MSA</td>\n",
       "      <td>2018-04-14</td>\n",
       "      <td>surf</td>\n",
       "      <td>NaT</td>\n",
       "      <td>1</td>\n",
       "      <td>20.00</td>\n",
       "      <td>0</td>\n",
       "    </tr>\n",
       "    <tr>\n",
       "      <td>2290</td>\n",
       "      <td>1482</td>\n",
       "      <td>10</td>\n",
       "      <td>0.0</td>\n",
       "      <td>0.0</td>\n",
       "      <td>2.0</td>\n",
       "      <td>0.0</td>\n",
       "      <td>70</td>\n",
       "      <td>New York-Newark-Jersey City, NY-NJ-PA MSA</td>\n",
       "      <td>2018-01-01</td>\n",
       "      <td>ultimate</td>\n",
       "      <td>NaT</td>\n",
       "      <td>1</td>\n",
       "      <td>70.00</td>\n",
       "      <td>1</td>\n",
       "    </tr>\n",
       "    <tr>\n",
       "      <td>2291</td>\n",
       "      <td>1108</td>\n",
       "      <td>12</td>\n",
       "      <td>0.0</td>\n",
       "      <td>0.0</td>\n",
       "      <td>0.0</td>\n",
       "      <td>1.0</td>\n",
       "      <td>45</td>\n",
       "      <td>Salt Lake City, UT MSA</td>\n",
       "      <td>2018-12-30</td>\n",
       "      <td>ultimate</td>\n",
       "      <td>NaT</td>\n",
       "      <td>1</td>\n",
       "      <td>70.00</td>\n",
       "      <td>0</td>\n",
       "    </tr>\n",
       "    <tr>\n",
       "      <td>2292</td>\n",
       "      <td>1311</td>\n",
       "      <td>6</td>\n",
       "      <td>0.0</td>\n",
       "      <td>0.0</td>\n",
       "      <td>0.0</td>\n",
       "      <td>2.0</td>\n",
       "      <td>69</td>\n",
       "      <td>Memphis, TN-MS-AR MSA</td>\n",
       "      <td>2018-06-27</td>\n",
       "      <td>ultimate</td>\n",
       "      <td>NaT</td>\n",
       "      <td>1</td>\n",
       "      <td>70.00</td>\n",
       "      <td>0</td>\n",
       "    </tr>\n",
       "  </tbody>\n",
       "</table>\n",
       "<p>2293 rows × 14 columns</p>\n",
       "</div>"
      ],
      "text/plain": [
       "     user_id  month  num_calls  call_duration  num_messages  gb_used  age  \\\n",
       "0       1000     12       16.0          124.0          11.0      2.0   45   \n",
       "1       1001      8       27.0          182.0          30.0      7.0   28   \n",
       "2       1001      9       49.0          315.0          44.0     14.0   28   \n",
       "3       1001     10       65.0          393.0          53.0     22.0   28   \n",
       "4       1001     11       64.0          426.0          36.0     19.0   28   \n",
       "...      ...    ...        ...            ...           ...      ...  ...   \n",
       "2288    1349     12        0.0            0.0          61.0     13.0   69   \n",
       "2289    1361      5        0.0            0.0           2.0      2.0   45   \n",
       "2290    1482     10        0.0            0.0           2.0      0.0   70   \n",
       "2291    1108     12        0.0            0.0           0.0      1.0   45   \n",
       "2292    1311      6        0.0            0.0           0.0      2.0   69   \n",
       "\n",
       "                                           city   reg_date      plan  \\\n",
       "0         Atlanta-Sandy Springs-Roswell, GA MSA 2018-12-24  ultimate   \n",
       "1               Seattle-Tacoma-Bellevue, WA MSA 2018-08-13      surf   \n",
       "2               Seattle-Tacoma-Bellevue, WA MSA 2018-08-13      surf   \n",
       "3               Seattle-Tacoma-Bellevue, WA MSA 2018-08-13      surf   \n",
       "4               Seattle-Tacoma-Bellevue, WA MSA 2018-08-13      surf   \n",
       "...                                         ...        ...       ...   \n",
       "2288         Boston-Cambridge-Newton, MA-NH MSA 2018-10-01      surf   \n",
       "2289                  Birmingham-Hoover, AL MSA 2018-04-14      surf   \n",
       "2290  New York-Newark-Jersey City, NY-NJ-PA MSA 2018-01-01  ultimate   \n",
       "2291                     Salt Lake City, UT MSA 2018-12-30  ultimate   \n",
       "2292                      Memphis, TN-MS-AR MSA 2018-06-27  ultimate   \n",
       "\n",
       "     churn_date  active  revenue  city_ny_nj  \n",
       "0           NaT       1    70.00           0  \n",
       "1           NaT       1    20.00           0  \n",
       "2           NaT       1    20.00           0  \n",
       "3           NaT       1    90.09           0  \n",
       "4           NaT       1    60.00           0  \n",
       "...         ...     ...      ...         ...  \n",
       "2288        NaT       1    20.33           0  \n",
       "2289        NaT       1    20.00           0  \n",
       "2290        NaT       1    70.00           1  \n",
       "2291        NaT       1    70.00           0  \n",
       "2292        NaT       1    70.00           0  \n",
       "\n",
       "[2293 rows x 14 columns]"
      ]
     },
     "execution_count": 298,
     "metadata": {},
     "output_type": "execute_result"
    }
   ],
   "source": [
    "data"
   ]
  },
  {
   "cell_type": "code",
   "execution_count": 299,
   "metadata": {},
   "outputs": [],
   "source": [
    "# Test the hypotheses\n",
    "alpha = 0.05\n",
    "\n",
    "data_city_ny_nj = data[data['city_ny_nj'] ==1]\n",
    "data_city_other = data[data['city_ny_nj'] ==0]"
   ]
  },
  {
   "cell_type": "code",
   "execution_count": 300,
   "metadata": {
    "scrolled": true
   },
   "outputs": [
    {
     "name": "stdout",
     "output_type": "stream",
     "text": [
      "p-value: 0.043557431621342436\n"
     ]
    }
   ],
   "source": [
    "results = st.ttest_ind(data_city_ny_nj['revenue'], data_city_other['revenue'])\n",
    "print('p-value:', results.pvalue)"
   ]
  },
  {
   "cell_type": "code",
   "execution_count": 301,
   "metadata": {
    "scrolled": false
   },
   "outputs": [
    {
     "name": "stdout",
     "output_type": "stream",
     "text": [
      "We reject the null hypothesis.\n"
     ]
    }
   ],
   "source": [
    "if results.pvalue < alpha:\n",
    "    print(\"We reject the null hypothesis.\")\n",
    "else:\n",
    "    print(\"We can't reject the null hypothesis.\")"
   ]
  },
  {
   "cell_type": "markdown",
   "metadata": {},
   "source": [
    "Thus, we conclude that the average revenue from users in the NY-NJ area is different from that of the users from the other regions. "
   ]
  },
  {
   "cell_type": "markdown",
   "metadata": {},
   "source": [
    "## General conclusion\n",
    "\n",
    "In this project, we analyzed five datasets from the telecom operator Megaline. The major steps for analyzing the data are:\n",
    "\n",
    "1. Load datasets and perform initial data exploration\n",
    "2. Fix and enrich data by changing data types and creating new variables when appropriate\n",
    "3. Merge datasets and study the customer behavior on calling, messaging, using internet and monthly revenue\n",
    "4. Perform statistical hypothesis tests to check whether the average revenue from users of the Ultimate and Surf plans differs\n",
    "5. Perform statistical hypothesis tests to check whether the average revenue from users in the NY-NJ area is different from that of the users from the other regions \n",
    "\n",
    "The main findings are:\n",
    "1. Calling behavior of users from both Ultimate and Surf plans are very similar.\n",
    "2. Messaging behavior of users from both Ultimate and Surf plans are very similar.\n",
    "3. Data usage behavior of users from both Ultimate and Surf plans are very similar.\n",
    "4. Monthly revenue of users from both Ultimate and Surf plans are quite different.\n",
    "5. The average revenue from users of the Ultimate and Surf plans differs.\n",
    "6. The average revenue from users in the NY-NJ area is different from that of the users from the other regions.\n",
    "\n",
    "\n",
    "The data shows that many users on the Surf plan are paying extra to get more internet data usage. This might cause customer retaintion issues because many customers are paying more than the plan monthly charge. Thus, we recommend that Megaline come up with a third plan that cost around 50 dollars per month and have more free quota, for example, 25 GB per month for internet usage. This plan will cost less than the current  70 dollars and help retain customers that need more than 15GB but less than 30GB data per month. Moreover, for the Ultimiate plan, 3000 monthly messages and 1000 text messages seem too much for all users, thus, it may be a good idea to lower those numbers in the free quota while at the same time decrease the price of the Ultimiate plan.  "
   ]
  }
 ],
 "metadata": {
  "ExecuteTimeLog": [
   {
    "duration": 828,
    "start_time": "2021-11-16T09:21:11.304Z"
   },
   {
    "duration": 893,
    "start_time": "2021-11-16T09:21:17.728Z"
   },
   {
    "duration": 1150,
    "start_time": "2021-11-16T09:21:29.568Z"
   },
   {
    "duration": 3,
    "start_time": "2021-11-16T09:24:14.495Z"
   },
   {
    "duration": 120,
    "start_time": "2021-11-16T09:24:46.630Z"
   },
   {
    "duration": 3,
    "start_time": "2021-11-16T09:28:27.882Z"
   },
   {
    "duration": 4,
    "start_time": "2021-11-16T09:29:54.281Z"
   },
   {
    "duration": 3,
    "start_time": "2021-11-16T09:30:45.936Z"
   },
   {
    "duration": 4,
    "start_time": "2021-11-16T09:31:06.300Z"
   },
   {
    "duration": 113,
    "start_time": "2021-11-16T09:31:37.208Z"
   },
   {
    "duration": 143,
    "start_time": "2021-11-16T09:31:48.656Z"
   },
   {
    "duration": 98,
    "start_time": "2021-11-16T09:31:55.678Z"
   },
   {
    "duration": 3,
    "start_time": "2021-11-16T09:32:08.535Z"
   },
   {
    "duration": 111,
    "start_time": "2021-11-16T09:32:10.120Z"
   },
   {
    "duration": 3,
    "start_time": "2021-11-16T09:32:15.732Z"
   },
   {
    "duration": 4,
    "start_time": "2021-11-16T09:32:29.423Z"
   },
   {
    "duration": 3,
    "start_time": "2021-11-16T10:03:03.074Z"
   },
   {
    "duration": 3,
    "start_time": "2021-11-16T10:10:01.288Z"
   },
   {
    "duration": 3,
    "start_time": "2021-11-16T10:10:46.923Z"
   },
   {
    "duration": 121,
    "start_time": "2021-11-16T10:37:46.494Z"
   },
   {
    "duration": 125,
    "start_time": "2021-11-16T10:38:20.632Z"
   },
   {
    "duration": 112,
    "start_time": "2021-11-16T10:46:53.001Z"
   },
   {
    "duration": 110,
    "start_time": "2021-11-16T10:48:25.775Z"
   },
   {
    "duration": 3,
    "start_time": "2021-11-16T10:50:18.720Z"
   },
   {
    "duration": 4,
    "start_time": "2021-11-16T10:50:37.649Z"
   },
   {
    "duration": 2,
    "start_time": "2021-11-16T10:50:51.884Z"
   },
   {
    "duration": 3,
    "start_time": "2021-11-16T10:51:56.237Z"
   },
   {
    "duration": 101,
    "start_time": "2021-11-16T10:53:13.791Z"
   },
   {
    "duration": 3,
    "start_time": "2021-11-16T10:55:59.186Z"
   },
   {
    "duration": 3,
    "start_time": "2021-11-16T10:56:10.751Z"
   },
   {
    "duration": 3,
    "start_time": "2021-11-16T10:56:49.038Z"
   },
   {
    "duration": 3,
    "start_time": "2021-11-16T10:56:49.174Z"
   },
   {
    "duration": 4,
    "start_time": "2021-11-16T10:56:49.414Z"
   },
   {
    "duration": 3,
    "start_time": "2021-11-16T10:56:49.680Z"
   },
   {
    "duration": 3,
    "start_time": "2021-11-16T10:56:50.370Z"
   },
   {
    "duration": 114,
    "start_time": "2021-11-16T10:59:34.518Z"
   },
   {
    "duration": 3,
    "start_time": "2021-11-16T11:01:41.201Z"
   },
   {
    "duration": 116,
    "start_time": "2021-11-16T11:01:48.754Z"
   },
   {
    "duration": 3,
    "start_time": "2021-11-16T11:02:16.685Z"
   },
   {
    "duration": 3,
    "start_time": "2021-11-16T11:02:19.479Z"
   },
   {
    "duration": 3,
    "start_time": "2021-11-16T11:02:47.067Z"
   },
   {
    "duration": 3,
    "start_time": "2021-11-16T11:02:49.353Z"
   },
   {
    "duration": 3,
    "start_time": "2021-11-16T11:03:07.835Z"
   },
   {
    "duration": 3,
    "start_time": "2021-11-16T11:03:07.953Z"
   },
   {
    "duration": 112,
    "start_time": "2021-11-16T11:07:52.072Z"
   },
   {
    "duration": 187,
    "start_time": "2021-11-16T11:09:23.468Z"
   },
   {
    "duration": 4,
    "start_time": "2021-11-16T11:10:01.455Z"
   },
   {
    "duration": 3,
    "start_time": "2021-11-16T11:10:05.069Z"
   },
   {
    "duration": 4,
    "start_time": "2021-11-16T11:10:13.376Z"
   },
   {
    "duration": 3,
    "start_time": "2021-11-16T11:10:14.434Z"
   },
   {
    "duration": 3,
    "start_time": "2021-11-16T11:10:22.853Z"
   },
   {
    "duration": 4,
    "start_time": "2021-11-16T11:27:29.279Z"
   },
   {
    "duration": 4,
    "start_time": "2021-11-16T11:29:08.919Z"
   },
   {
    "duration": 118,
    "start_time": "2021-11-16T11:29:46.703Z"
   },
   {
    "duration": 437,
    "start_time": "2021-11-16T11:36:02.181Z"
   },
   {
    "duration": 157,
    "start_time": "2021-11-16T11:36:14.388Z"
   },
   {
    "duration": 207,
    "start_time": "2021-11-16T11:47:15.898Z"
   },
   {
    "duration": 3,
    "start_time": "2021-11-16T11:53:52.092Z"
   },
   {
    "duration": 3,
    "start_time": "2021-11-16T11:53:52.236Z"
   },
   {
    "duration": 3,
    "start_time": "2021-11-16T11:59:12.005Z"
   },
   {
    "duration": 112,
    "start_time": "2021-11-16T12:00:33.446Z"
   },
   {
    "duration": 3,
    "start_time": "2021-11-16T12:02:14.453Z"
   },
   {
    "duration": 3,
    "start_time": "2021-11-16T12:02:39.512Z"
   },
   {
    "duration": 106,
    "start_time": "2021-11-16T12:03:03.460Z"
   },
   {
    "duration": 3,
    "start_time": "2021-11-17T20:37:21.139Z"
   },
   {
    "duration": 3,
    "start_time": "2021-11-17T20:37:22.229Z"
   },
   {
    "duration": 3,
    "start_time": "2021-11-17T20:38:38.806Z"
   },
   {
    "duration": 3,
    "start_time": "2021-11-17T20:38:41.958Z"
   },
   {
    "duration": 3,
    "start_time": "2021-11-17T20:43:46.551Z"
   },
   {
    "duration": 4,
    "start_time": "2021-11-17T20:58:21.835Z"
   },
   {
    "duration": 3,
    "start_time": "2021-11-17T20:59:21.872Z"
   },
   {
    "duration": 4,
    "start_time": "2021-11-17T20:59:45.352Z"
   },
   {
    "duration": 4,
    "start_time": "2021-11-17T20:59:49.646Z"
   },
   {
    "duration": 159,
    "start_time": "2021-11-17T21:02:26.949Z"
   },
   {
    "duration": 3,
    "start_time": "2021-11-17T21:03:53.461Z"
   },
   {
    "duration": 3,
    "start_time": "2021-11-17T21:03:53.694Z"
   },
   {
    "duration": 3,
    "start_time": "2021-11-17T21:05:28.145Z"
   },
   {
    "duration": 116,
    "start_time": "2021-11-17T21:05:57.787Z"
   },
   {
    "duration": 3,
    "start_time": "2021-11-17T21:06:37.993Z"
   },
   {
    "duration": 3,
    "start_time": "2021-11-17T21:06:38.261Z"
   },
   {
    "duration": 3,
    "start_time": "2021-11-17T21:11:54.358Z"
   },
   {
    "duration": 3,
    "start_time": "2021-11-17T21:12:43.846Z"
   },
   {
    "duration": 4,
    "start_time": "2021-11-17T21:13:08.773Z"
   },
   {
    "duration": 3,
    "start_time": "2021-11-17T21:14:44.441Z"
   },
   {
    "duration": 3,
    "start_time": "2021-11-17T21:15:42.059Z"
   },
   {
    "duration": 4,
    "start_time": "2021-11-17T21:15:51.995Z"
   },
   {
    "duration": 3,
    "start_time": "2021-11-17T21:15:53.923Z"
   },
   {
    "duration": 3,
    "start_time": "2021-11-17T21:15:55.282Z"
   },
   {
    "duration": 3,
    "start_time": "2021-11-17T21:16:28.492Z"
   },
   {
    "duration": 3,
    "start_time": "2021-11-17T21:16:32.603Z"
   },
   {
    "duration": 3,
    "start_time": "2021-11-17T21:17:06.941Z"
   },
   {
    "duration": 98,
    "start_time": "2021-11-17T21:18:05.733Z"
   },
   {
    "duration": 4,
    "start_time": "2021-11-17T21:21:35.255Z"
   },
   {
    "duration": 3,
    "start_time": "2021-11-17T21:21:37.804Z"
   },
   {
    "duration": 4,
    "start_time": "2021-11-17T21:23:06.071Z"
   },
   {
    "duration": 3,
    "start_time": "2021-11-17T21:23:24.799Z"
   },
   {
    "duration": 3,
    "start_time": "2021-11-17T21:23:32.591Z"
   },
   {
    "duration": 98,
    "start_time": "2021-11-17T21:28:31.559Z"
   },
   {
    "duration": 3,
    "start_time": "2021-11-17T21:28:45.448Z"
   },
   {
    "duration": 3,
    "start_time": "2021-11-17T21:29:17.303Z"
   },
   {
    "duration": 3,
    "start_time": "2021-11-17T21:29:29.617Z"
   },
   {
    "duration": 3,
    "start_time": "2021-11-17T21:29:32.681Z"
   },
   {
    "duration": 3,
    "start_time": "2021-11-17T21:36:11.474Z"
   },
   {
    "duration": 3,
    "start_time": "2021-11-17T21:36:14.791Z"
   },
   {
    "duration": 3,
    "start_time": "2021-11-17T21:36:53.943Z"
   },
   {
    "duration": 3,
    "start_time": "2021-11-17T21:36:56.165Z"
   },
   {
    "duration": 4,
    "start_time": "2021-11-17T21:37:16.590Z"
   },
   {
    "duration": 3,
    "start_time": "2021-11-17T21:37:22.702Z"
   },
   {
    "duration": 4,
    "start_time": "2021-11-17T21:38:03.479Z"
   },
   {
    "duration": 3,
    "start_time": "2021-11-17T21:38:08.601Z"
   },
   {
    "duration": 3,
    "start_time": "2021-11-17T21:38:12.928Z"
   },
   {
    "duration": 3,
    "start_time": "2021-11-17T21:38:48.896Z"
   },
   {
    "duration": 2,
    "start_time": "2021-11-17T21:38:49.171Z"
   },
   {
    "duration": 4,
    "start_time": "2021-11-17T21:39:57.889Z"
   },
   {
    "duration": 3,
    "start_time": "2021-11-17T21:39:58.057Z"
   },
   {
    "duration": 3,
    "start_time": "2021-11-17T21:41:20.108Z"
   },
   {
    "duration": 3,
    "start_time": "2021-11-17T21:41:20.629Z"
   },
   {
    "duration": 3,
    "start_time": "2021-11-17T21:42:49.136Z"
   },
   {
    "duration": 3,
    "start_time": "2021-11-17T21:43:15.137Z"
   },
   {
    "duration": 4,
    "start_time": "2021-11-17T21:43:16.766Z"
   },
   {
    "duration": 4,
    "start_time": "2021-11-17T21:43:31.711Z"
   },
   {
    "duration": 3,
    "start_time": "2021-11-17T21:43:36.312Z"
   },
   {
    "duration": 4,
    "start_time": "2021-11-17T21:45:08.825Z"
   },
   {
    "duration": 4,
    "start_time": "2021-11-17T21:45:10.119Z"
   },
   {
    "duration": 4,
    "start_time": "2021-11-17T21:45:13.748Z"
   },
   {
    "duration": 3,
    "start_time": "2021-11-17T21:45:22.219Z"
   },
   {
    "duration": 3,
    "start_time": "2021-11-17T21:45:33.412Z"
   },
   {
    "duration": 2,
    "start_time": "2021-11-17T21:46:01.885Z"
   },
   {
    "duration": 3,
    "start_time": "2021-11-17T21:46:03.628Z"
   },
   {
    "duration": 107,
    "start_time": "2021-11-17T21:47:32.512Z"
   },
   {
    "duration": 103,
    "start_time": "2021-11-17T21:50:36.243Z"
   },
   {
    "duration": 3,
    "start_time": "2021-11-18T06:28:31.440Z"
   },
   {
    "duration": 3,
    "start_time": "2021-11-18T06:29:00.168Z"
   },
   {
    "duration": 3,
    "start_time": "2021-11-18T06:31:27.008Z"
   },
   {
    "duration": 2,
    "start_time": "2021-11-18T06:35:34.288Z"
   },
   {
    "duration": 2,
    "start_time": "2021-11-18T06:38:04.527Z"
   },
   {
    "duration": 3164,
    "start_time": "2021-12-14T23:57:15.446Z"
   },
   {
    "duration": 4,
    "start_time": "2021-12-14T23:57:20.668Z"
   },
   {
    "duration": 2999,
    "start_time": "2021-12-14T23:57:24.231Z"
   },
   {
    "duration": 366,
    "start_time": "2021-12-14T23:57:48.086Z"
   },
   {
    "duration": 24,
    "start_time": "2021-12-15T00:25:53.261Z"
   },
   {
    "duration": 9,
    "start_time": "2021-12-15T00:26:53.782Z"
   },
   {
    "duration": 26,
    "start_time": "2021-12-15T00:29:03.579Z"
   },
   {
    "duration": 8,
    "start_time": "2021-12-15T00:30:44.791Z"
   },
   {
    "duration": 9,
    "start_time": "2021-12-15T00:30:45.941Z"
   },
   {
    "duration": 10,
    "start_time": "2021-12-15T00:31:01.712Z"
   },
   {
    "duration": 4,
    "start_time": "2021-12-15T00:34:27.891Z"
   },
   {
    "duration": 9,
    "start_time": "2021-12-15T00:36:38.178Z"
   },
   {
    "duration": 10,
    "start_time": "2021-12-15T00:36:41.357Z"
   },
   {
    "duration": 21,
    "start_time": "2021-12-15T00:37:44.030Z"
   },
   {
    "duration": 7,
    "start_time": "2021-12-15T00:37:59.015Z"
   },
   {
    "duration": 15,
    "start_time": "2021-12-15T00:38:40.991Z"
   },
   {
    "duration": 8,
    "start_time": "2021-12-15T00:38:41.543Z"
   },
   {
    "duration": 21,
    "start_time": "2021-12-15T00:40:58.656Z"
   },
   {
    "duration": 8,
    "start_time": "2021-12-15T00:45:07.080Z"
   },
   {
    "duration": 9,
    "start_time": "2021-12-15T00:45:13.835Z"
   },
   {
    "duration": 10,
    "start_time": "2021-12-15T00:45:14.227Z"
   },
   {
    "duration": 7,
    "start_time": "2021-12-15T00:45:16.443Z"
   },
   {
    "duration": 21,
    "start_time": "2021-12-15T00:45:27.710Z"
   },
   {
    "duration": 7,
    "start_time": "2021-12-15T00:45:27.733Z"
   },
   {
    "duration": 20,
    "start_time": "2021-12-15T00:45:30.144Z"
   },
   {
    "duration": 14,
    "start_time": "2021-12-15T00:45:55.140Z"
   },
   {
    "duration": 8,
    "start_time": "2021-12-15T00:47:35.833Z"
   },
   {
    "duration": 4,
    "start_time": "2021-12-15T00:48:06.656Z"
   },
   {
    "duration": 406,
    "start_time": "2021-12-15T00:48:06.664Z"
   },
   {
    "duration": 9,
    "start_time": "2021-12-15T00:48:07.074Z"
   },
   {
    "duration": 12,
    "start_time": "2021-12-15T00:48:07.087Z"
   },
   {
    "duration": 12,
    "start_time": "2021-12-15T00:48:07.102Z"
   },
   {
    "duration": 49,
    "start_time": "2021-12-15T00:48:07.116Z"
   },
   {
    "duration": 7,
    "start_time": "2021-12-15T00:48:07.168Z"
   },
   {
    "duration": 21,
    "start_time": "2021-12-15T00:48:07.178Z"
   },
   {
    "duration": 8,
    "start_time": "2021-12-15T00:48:07.203Z"
   },
   {
    "duration": 57,
    "start_time": "2021-12-15T00:48:07.213Z"
   },
   {
    "duration": 15,
    "start_time": "2021-12-15T00:48:07.272Z"
   },
   {
    "duration": 6,
    "start_time": "2021-12-15T00:48:07.290Z"
   },
   {
    "duration": 17,
    "start_time": "2021-12-15T00:48:07.298Z"
   },
   {
    "duration": 54,
    "start_time": "2021-12-15T00:48:07.318Z"
   },
   {
    "duration": 7,
    "start_time": "2021-12-15T00:48:07.375Z"
   },
   {
    "duration": 19,
    "start_time": "2021-12-15T00:48:07.384Z"
   },
   {
    "duration": 9,
    "start_time": "2021-12-15T00:48:07.406Z"
   },
   {
    "duration": 5,
    "start_time": "2021-12-15T00:48:07.417Z"
   },
   {
    "duration": 6,
    "start_time": "2021-12-15T00:48:07.424Z"
   },
   {
    "duration": 10,
    "start_time": "2021-12-15T00:48:07.432Z"
   },
   {
    "duration": 12,
    "start_time": "2021-12-15T00:48:07.444Z"
   },
   {
    "duration": 6,
    "start_time": "2021-12-15T00:48:07.458Z"
   },
   {
    "duration": 5,
    "start_time": "2021-12-15T00:48:07.467Z"
   },
   {
    "duration": 7,
    "start_time": "2021-12-15T00:48:07.474Z"
   },
   {
    "duration": 6,
    "start_time": "2021-12-15T00:48:07.483Z"
   },
   {
    "duration": 4,
    "start_time": "2021-12-15T00:48:07.877Z"
   },
   {
    "duration": 3,
    "start_time": "2021-12-15T00:48:07.885Z"
   },
   {
    "duration": 4,
    "start_time": "2021-12-15T00:48:07.891Z"
   },
   {
    "duration": 4,
    "start_time": "2021-12-15T00:48:07.897Z"
   },
   {
    "duration": 3,
    "start_time": "2021-12-15T00:48:07.904Z"
   },
   {
    "duration": 4,
    "start_time": "2021-12-15T00:48:07.910Z"
   },
   {
    "duration": 4,
    "start_time": "2021-12-15T00:48:07.916Z"
   },
   {
    "duration": 8,
    "start_time": "2021-12-15T01:09:40.697Z"
   },
   {
    "duration": 13,
    "start_time": "2021-12-15T01:10:41.065Z"
   },
   {
    "duration": 6,
    "start_time": "2021-12-15T01:47:01.691Z"
   },
   {
    "duration": 10,
    "start_time": "2021-12-15T01:47:05.200Z"
   },
   {
    "duration": 9,
    "start_time": "2021-12-15T01:47:10.689Z"
   },
   {
    "duration": 9,
    "start_time": "2021-12-15T01:47:37.477Z"
   },
   {
    "duration": 11,
    "start_time": "2021-12-15T01:47:39.878Z"
   },
   {
    "duration": 423,
    "start_time": "2021-12-15T01:49:48.163Z"
   },
   {
    "duration": 15,
    "start_time": "2021-12-15T01:50:52.998Z"
   },
   {
    "duration": 10,
    "start_time": "2021-12-15T01:51:06.592Z"
   },
   {
    "duration": 9,
    "start_time": "2021-12-15T01:51:16.366Z"
   },
   {
    "duration": 9,
    "start_time": "2021-12-15T01:51:21.889Z"
   },
   {
    "duration": 9,
    "start_time": "2021-12-15T02:05:17.887Z"
   },
   {
    "duration": 21,
    "start_time": "2021-12-15T02:05:47.528Z"
   },
   {
    "duration": 8,
    "start_time": "2021-12-15T02:05:50.055Z"
   },
   {
    "duration": 137,
    "start_time": "2021-12-15T02:11:47.894Z"
   },
   {
    "duration": 14,
    "start_time": "2021-12-15T02:14:25.813Z"
   },
   {
    "duration": 7,
    "start_time": "2021-12-15T02:14:38.201Z"
   },
   {
    "duration": 13,
    "start_time": "2021-12-15T02:14:41.199Z"
   },
   {
    "duration": 82,
    "start_time": "2021-12-15T02:16:46.910Z"
   },
   {
    "duration": 23,
    "start_time": "2021-12-15T02:16:51.910Z"
   },
   {
    "duration": 8,
    "start_time": "2021-12-15T02:16:52.430Z"
   },
   {
    "duration": 18,
    "start_time": "2021-12-15T02:17:05.184Z"
   },
   {
    "duration": 8,
    "start_time": "2021-12-15T02:17:06.548Z"
   },
   {
    "duration": 18,
    "start_time": "2021-12-15T02:17:10.429Z"
   },
   {
    "duration": 10397,
    "start_time": "2021-12-15T02:19:32.163Z"
   },
   {
    "duration": 41,
    "start_time": "2021-12-15T02:20:09.537Z"
   },
   {
    "duration": 28,
    "start_time": "2021-12-15T02:20:16.957Z"
   },
   {
    "duration": 11,
    "start_time": "2021-12-15T02:21:36.678Z"
   },
   {
    "duration": 442,
    "start_time": "2021-12-15T02:25:18.006Z"
   },
   {
    "duration": 14,
    "start_time": "2021-12-15T02:25:26.561Z"
   },
   {
    "duration": 9,
    "start_time": "2021-12-15T02:28:16.664Z"
   },
   {
    "duration": 13,
    "start_time": "2021-12-15T02:28:32.998Z"
   },
   {
    "duration": 17,
    "start_time": "2021-12-15T02:28:52.913Z"
   },
   {
    "duration": 13,
    "start_time": "2021-12-15T02:29:12.012Z"
   },
   {
    "duration": 12,
    "start_time": "2021-12-15T02:29:20.485Z"
   },
   {
    "duration": 16,
    "start_time": "2021-12-15T02:29:27.121Z"
   },
   {
    "duration": 16,
    "start_time": "2021-12-15T02:29:38.317Z"
   },
   {
    "duration": 876,
    "start_time": "2021-12-15T14:18:57.165Z"
   },
   {
    "duration": 1329,
    "start_time": "2021-12-15T14:19:01.597Z"
   },
   {
    "duration": 1161,
    "start_time": "2021-12-15T14:19:02.929Z"
   },
   {
    "duration": 10,
    "start_time": "2021-12-15T14:19:04.093Z"
   },
   {
    "duration": 24,
    "start_time": "2021-12-15T14:19:04.107Z"
   },
   {
    "duration": 34,
    "start_time": "2021-12-15T14:19:04.133Z"
   },
   {
    "duration": 19,
    "start_time": "2021-12-15T14:19:04.169Z"
   },
   {
    "duration": 28,
    "start_time": "2021-12-15T14:19:04.191Z"
   },
   {
    "duration": 10,
    "start_time": "2021-12-15T14:19:04.222Z"
   },
   {
    "duration": 46,
    "start_time": "2021-12-15T14:19:04.236Z"
   },
   {
    "duration": 14,
    "start_time": "2021-12-15T14:19:04.285Z"
   },
   {
    "duration": 666,
    "start_time": "2021-12-15T14:19:04.303Z"
   },
   {
    "duration": -37,
    "start_time": "2021-12-15T14:19:05.010Z"
   },
   {
    "duration": -37,
    "start_time": "2021-12-15T14:19:05.012Z"
   },
   {
    "duration": -37,
    "start_time": "2021-12-15T14:19:05.014Z"
   },
   {
    "duration": -181,
    "start_time": "2021-12-15T14:19:05.160Z"
   },
   {
    "duration": -182,
    "start_time": "2021-12-15T14:19:05.162Z"
   },
   {
    "duration": -182,
    "start_time": "2021-12-15T14:19:05.164Z"
   },
   {
    "duration": -205,
    "start_time": "2021-12-15T14:19:05.188Z"
   },
   {
    "duration": -208,
    "start_time": "2021-12-15T14:19:05.192Z"
   },
   {
    "duration": -209,
    "start_time": "2021-12-15T14:19:05.195Z"
   },
   {
    "duration": -209,
    "start_time": "2021-12-15T14:19:05.197Z"
   },
   {
    "duration": -210,
    "start_time": "2021-12-15T14:19:05.200Z"
   },
   {
    "duration": -211,
    "start_time": "2021-12-15T14:19:05.203Z"
   },
   {
    "duration": -211,
    "start_time": "2021-12-15T14:19:05.205Z"
   },
   {
    "duration": -349,
    "start_time": "2021-12-15T14:19:05.344Z"
   },
   {
    "duration": -351,
    "start_time": "2021-12-15T14:19:05.347Z"
   },
   {
    "duration": -352,
    "start_time": "2021-12-15T14:19:05.350Z"
   },
   {
    "duration": -357,
    "start_time": "2021-12-15T14:19:05.357Z"
   },
   {
    "duration": -356,
    "start_time": "2021-12-15T14:19:05.359Z"
   },
   {
    "duration": -356,
    "start_time": "2021-12-15T14:19:05.361Z"
   },
   {
    "duration": -356,
    "start_time": "2021-12-15T14:19:05.363Z"
   },
   {
    "duration": -357,
    "start_time": "2021-12-15T14:19:05.365Z"
   },
   {
    "duration": -359,
    "start_time": "2021-12-15T14:19:05.368Z"
   },
   {
    "duration": -359,
    "start_time": "2021-12-15T14:19:05.370Z"
   },
   {
    "duration": -492,
    "start_time": "2021-12-15T14:19:05.506Z"
   },
   {
    "duration": -452,
    "start_time": "2021-12-15T14:19:05.513Z"
   },
   {
    "duration": 11263,
    "start_time": "2021-12-15T14:25:21.858Z"
   },
   {
    "duration": 9,
    "start_time": "2021-12-15T14:25:37.162Z"
   },
   {
    "duration": 9,
    "start_time": "2021-12-15T14:27:59.014Z"
   },
   {
    "duration": 5,
    "start_time": "2021-12-15T14:28:19.346Z"
   },
   {
    "duration": 415,
    "start_time": "2021-12-15T14:28:19.357Z"
   },
   {
    "duration": 9,
    "start_time": "2021-12-15T14:28:19.774Z"
   },
   {
    "duration": 15,
    "start_time": "2021-12-15T14:28:19.785Z"
   },
   {
    "duration": 9,
    "start_time": "2021-12-15T14:28:19.803Z"
   },
   {
    "duration": 50,
    "start_time": "2021-12-15T14:28:19.815Z"
   },
   {
    "duration": 12,
    "start_time": "2021-12-15T14:28:19.867Z"
   },
   {
    "duration": 13,
    "start_time": "2021-12-15T14:28:19.882Z"
   },
   {
    "duration": 12,
    "start_time": "2021-12-15T14:28:19.897Z"
   },
   {
    "duration": 10,
    "start_time": "2021-12-15T14:28:23.912Z"
   },
   {
    "duration": 5,
    "start_time": "2021-12-15T14:31:21.333Z"
   },
   {
    "duration": 9,
    "start_time": "2021-12-15T14:31:24.565Z"
   },
   {
    "duration": 10,
    "start_time": "2021-12-15T14:31:31.706Z"
   },
   {
    "duration": 18,
    "start_time": "2021-12-15T14:31:37.849Z"
   },
   {
    "duration": 5,
    "start_time": "2021-12-15T14:31:58.175Z"
   },
   {
    "duration": 18,
    "start_time": "2021-12-15T14:32:02.110Z"
   },
   {
    "duration": 17,
    "start_time": "2021-12-15T14:32:04.314Z"
   },
   {
    "duration": 4,
    "start_time": "2021-12-15T14:32:16.919Z"
   },
   {
    "duration": 9,
    "start_time": "2021-12-15T14:32:54.885Z"
   },
   {
    "duration": 8,
    "start_time": "2021-12-15T14:33:32.297Z"
   },
   {
    "duration": 5,
    "start_time": "2021-12-15T14:33:45.697Z"
   },
   {
    "duration": 8,
    "start_time": "2021-12-15T14:33:46.840Z"
   },
   {
    "duration": 4,
    "start_time": "2021-12-15T14:35:57.876Z"
   },
   {
    "duration": 390,
    "start_time": "2021-12-15T14:35:57.883Z"
   },
   {
    "duration": 9,
    "start_time": "2021-12-15T14:35:58.843Z"
   },
   {
    "duration": 14,
    "start_time": "2021-12-15T14:35:58.855Z"
   },
   {
    "duration": 13,
    "start_time": "2021-12-15T14:35:58.872Z"
   },
   {
    "duration": 34,
    "start_time": "2021-12-15T14:35:58.888Z"
   },
   {
    "duration": 9,
    "start_time": "2021-12-15T14:35:58.924Z"
   },
   {
    "duration": 5,
    "start_time": "2021-12-15T14:36:10.321Z"
   },
   {
    "duration": 8,
    "start_time": "2021-12-15T14:36:11.029Z"
   },
   {
    "duration": 18,
    "start_time": "2021-12-15T14:36:37.467Z"
   },
   {
    "duration": 5,
    "start_time": "2021-12-15T14:42:55.824Z"
   },
   {
    "duration": 391,
    "start_time": "2021-12-15T14:42:55.834Z"
   },
   {
    "duration": 10,
    "start_time": "2021-12-15T14:42:56.228Z"
   },
   {
    "duration": 29,
    "start_time": "2021-12-15T14:42:56.242Z"
   },
   {
    "duration": 11,
    "start_time": "2021-12-15T14:42:56.274Z"
   },
   {
    "duration": 19,
    "start_time": "2021-12-15T14:42:56.288Z"
   },
   {
    "duration": 9,
    "start_time": "2021-12-15T14:42:56.310Z"
   },
   {
    "duration": 5,
    "start_time": "2021-12-15T14:43:00.069Z"
   },
   {
    "duration": 10,
    "start_time": "2021-12-15T14:43:01.017Z"
   },
   {
    "duration": 5,
    "start_time": "2021-12-15T14:43:19.801Z"
   },
   {
    "duration": 8,
    "start_time": "2021-12-15T14:43:20.555Z"
   },
   {
    "duration": 5,
    "start_time": "2021-12-15T14:43:29.164Z"
   },
   {
    "duration": 7,
    "start_time": "2021-12-15T14:43:29.613Z"
   },
   {
    "duration": 5,
    "start_time": "2021-12-15T14:46:47.744Z"
   },
   {
    "duration": 8,
    "start_time": "2021-12-15T14:46:48.568Z"
   },
   {
    "duration": 7,
    "start_time": "2021-12-15T14:47:36.511Z"
   },
   {
    "duration": 8,
    "start_time": "2021-12-15T14:47:36.853Z"
   },
   {
    "duration": 6,
    "start_time": "2021-12-15T14:48:49.770Z"
   },
   {
    "duration": 10,
    "start_time": "2021-12-15T14:48:49.779Z"
   },
   {
    "duration": 6,
    "start_time": "2021-12-15T14:50:56.213Z"
   },
   {
    "duration": 417,
    "start_time": "2021-12-15T14:50:56.222Z"
   },
   {
    "duration": 21,
    "start_time": "2021-12-15T14:50:56.642Z"
   },
   {
    "duration": 27,
    "start_time": "2021-12-15T14:50:56.666Z"
   },
   {
    "duration": 16,
    "start_time": "2021-12-15T14:50:56.696Z"
   },
   {
    "duration": 17,
    "start_time": "2021-12-15T14:50:56.715Z"
   },
   {
    "duration": 28,
    "start_time": "2021-12-15T14:50:56.735Z"
   },
   {
    "duration": 5,
    "start_time": "2021-12-15T14:50:56.765Z"
   },
   {
    "duration": 13,
    "start_time": "2021-12-15T14:50:56.773Z"
   },
   {
    "duration": 16,
    "start_time": "2021-12-15T14:50:56.789Z"
   },
   {
    "duration": 23,
    "start_time": "2021-12-15T14:50:56.808Z"
   },
   {
    "duration": 39,
    "start_time": "2021-12-15T14:50:56.833Z"
   },
   {
    "duration": 13,
    "start_time": "2021-12-15T14:50:56.874Z"
   },
   {
    "duration": 13,
    "start_time": "2021-12-15T14:51:02.700Z"
   },
   {
    "duration": 21,
    "start_time": "2021-12-15T14:51:03.585Z"
   },
   {
    "duration": 139,
    "start_time": "2021-12-15T14:51:09.265Z"
   },
   {
    "duration": 15,
    "start_time": "2021-12-15T14:51:16.007Z"
   },
   {
    "duration": 14,
    "start_time": "2021-12-15T14:51:16.286Z"
   },
   {
    "duration": 17,
    "start_time": "2021-12-15T14:51:19.487Z"
   },
   {
    "duration": 83,
    "start_time": "2021-12-15T14:51:26.627Z"
   },
   {
    "duration": 20,
    "start_time": "2021-12-15T14:51:27.504Z"
   },
   {
    "duration": 12,
    "start_time": "2021-12-15T14:51:27.892Z"
   },
   {
    "duration": 24,
    "start_time": "2021-12-15T14:51:31.928Z"
   },
   {
    "duration": 108,
    "start_time": "2021-12-15T14:51:35.929Z"
   },
   {
    "duration": 13,
    "start_time": "2021-12-15T14:51:37.317Z"
   },
   {
    "duration": 51,
    "start_time": "2021-12-15T14:59:02.419Z"
   },
   {
    "duration": 42,
    "start_time": "2021-12-15T14:59:09.689Z"
   },
   {
    "duration": 14,
    "start_time": "2021-12-15T15:03:04.970Z"
   },
   {
    "duration": 5,
    "start_time": "2021-12-15T15:22:54.667Z"
   },
   {
    "duration": 390,
    "start_time": "2021-12-15T15:22:54.675Z"
   },
   {
    "duration": 8,
    "start_time": "2021-12-15T15:22:55.068Z"
   },
   {
    "duration": 16,
    "start_time": "2021-12-15T15:22:55.080Z"
   },
   {
    "duration": 10,
    "start_time": "2021-12-15T15:22:55.099Z"
   },
   {
    "duration": 51,
    "start_time": "2021-12-15T15:22:55.111Z"
   },
   {
    "duration": 10,
    "start_time": "2021-12-15T15:22:55.165Z"
   },
   {
    "duration": 7,
    "start_time": "2021-12-15T15:22:55.179Z"
   },
   {
    "duration": 11,
    "start_time": "2021-12-15T15:22:55.189Z"
   },
   {
    "duration": 12,
    "start_time": "2021-12-15T15:22:55.203Z"
   },
   {
    "duration": 47,
    "start_time": "2021-12-15T15:22:55.217Z"
   },
   {
    "duration": 21,
    "start_time": "2021-12-15T15:22:55.267Z"
   },
   {
    "duration": 12,
    "start_time": "2021-12-15T15:22:55.290Z"
   },
   {
    "duration": 57,
    "start_time": "2021-12-15T15:22:55.305Z"
   },
   {
    "duration": 140,
    "start_time": "2021-12-15T15:22:55.364Z"
   },
   {
    "duration": 15,
    "start_time": "2021-12-15T15:22:55.506Z"
   },
   {
    "duration": 38,
    "start_time": "2021-12-15T15:22:55.523Z"
   },
   {
    "duration": 19,
    "start_time": "2021-12-15T15:22:55.563Z"
   },
   {
    "duration": 91,
    "start_time": "2021-12-15T15:22:55.584Z"
   },
   {
    "duration": 18,
    "start_time": "2021-12-15T15:22:55.678Z"
   },
   {
    "duration": 14,
    "start_time": "2021-12-15T15:22:55.698Z"
   },
   {
    "duration": 50,
    "start_time": "2021-12-15T15:22:55.714Z"
   },
   {
    "duration": 114,
    "start_time": "2021-12-15T15:22:55.769Z"
   },
   {
    "duration": 12,
    "start_time": "2021-12-15T15:22:55.886Z"
   },
   {
    "duration": 11,
    "start_time": "2021-12-15T15:22:55.900Z"
   },
   {
    "duration": 85,
    "start_time": "2021-12-15T15:22:55.913Z"
   },
   {
    "duration": 2,
    "start_time": "2021-12-15T15:22:56.001Z"
   },
   {
    "duration": 6,
    "start_time": "2021-12-15T15:22:56.005Z"
   },
   {
    "duration": 6,
    "start_time": "2021-12-15T15:22:56.014Z"
   },
   {
    "duration": 5,
    "start_time": "2021-12-15T15:22:56.022Z"
   },
   {
    "duration": 4,
    "start_time": "2021-12-15T15:22:56.030Z"
   },
   {
    "duration": 3,
    "start_time": "2021-12-15T15:22:56.060Z"
   },
   {
    "duration": 5,
    "start_time": "2021-12-15T15:22:56.065Z"
   },
   {
    "duration": 4,
    "start_time": "2021-12-15T15:22:56.073Z"
   },
   {
    "duration": 7,
    "start_time": "2021-12-15T15:22:56.079Z"
   },
   {
    "duration": 11,
    "start_time": "2021-12-15T15:22:56.089Z"
   },
   {
    "duration": 5,
    "start_time": "2021-12-15T15:22:56.103Z"
   },
   {
    "duration": 7,
    "start_time": "2021-12-15T15:22:56.110Z"
   },
   {
    "duration": 6,
    "start_time": "2021-12-15T15:22:56.160Z"
   },
   {
    "duration": 6,
    "start_time": "2021-12-15T15:22:56.168Z"
   },
   {
    "duration": 403,
    "start_time": "2021-12-15T15:23:30.126Z"
   },
   {
    "duration": 22,
    "start_time": "2021-12-15T15:23:38.161Z"
   },
   {
    "duration": 15,
    "start_time": "2021-12-15T15:23:43.751Z"
   },
   {
    "duration": 22,
    "start_time": "2021-12-15T15:23:54.947Z"
   },
   {
    "duration": 13,
    "start_time": "2021-12-15T15:24:04.924Z"
   },
   {
    "duration": 23,
    "start_time": "2021-12-15T15:24:41.308Z"
   },
   {
    "duration": 974,
    "start_time": "2021-12-15T15:25:00.378Z"
   },
   {
    "duration": 64,
    "start_time": "2021-12-15T15:25:13.907Z"
   },
   {
    "duration": 1509,
    "start_time": "2021-12-15T15:27:33.055Z"
   },
   {
    "duration": 66,
    "start_time": "2021-12-15T15:31:13.569Z"
   },
   {
    "duration": 6,
    "start_time": "2021-12-15T15:43:01.258Z"
   },
   {
    "duration": 13,
    "start_time": "2021-12-15T15:43:06.384Z"
   },
   {
    "duration": 5,
    "start_time": "2021-12-15T15:43:44.008Z"
   },
   {
    "duration": 380,
    "start_time": "2021-12-15T15:43:44.015Z"
   },
   {
    "duration": 9,
    "start_time": "2021-12-15T15:43:44.399Z"
   },
   {
    "duration": 16,
    "start_time": "2021-12-15T15:43:44.412Z"
   },
   {
    "duration": 36,
    "start_time": "2021-12-15T15:43:44.430Z"
   },
   {
    "duration": 15,
    "start_time": "2021-12-15T15:43:44.469Z"
   },
   {
    "duration": 10,
    "start_time": "2021-12-15T15:43:44.486Z"
   },
   {
    "duration": 5,
    "start_time": "2021-12-15T15:43:44.500Z"
   },
   {
    "duration": 10,
    "start_time": "2021-12-15T15:43:44.508Z"
   },
   {
    "duration": 9,
    "start_time": "2021-12-15T15:43:44.560Z"
   },
   {
    "duration": 10,
    "start_time": "2021-12-15T15:43:44.572Z"
   },
   {
    "duration": 28,
    "start_time": "2021-12-15T15:43:44.584Z"
   },
   {
    "duration": 12,
    "start_time": "2021-12-15T15:43:44.614Z"
   },
   {
    "duration": 21,
    "start_time": "2021-12-15T15:43:44.660Z"
   },
   {
    "duration": 152,
    "start_time": "2021-12-15T15:43:44.685Z"
   },
   {
    "duration": 33,
    "start_time": "2021-12-15T15:43:44.840Z"
   },
   {
    "duration": 5,
    "start_time": "2021-12-15T15:43:44.878Z"
   },
   {
    "duration": 16,
    "start_time": "2021-12-15T15:43:44.885Z"
   },
   {
    "duration": 11,
    "start_time": "2021-12-15T15:43:44.903Z"
   },
   {
    "duration": 57,
    "start_time": "2021-12-15T15:43:44.916Z"
   },
   {
    "duration": 103,
    "start_time": "2021-12-15T15:43:44.975Z"
   },
   {
    "duration": 19,
    "start_time": "2021-12-15T15:43:45.080Z"
   },
   {
    "duration": 13,
    "start_time": "2021-12-15T15:43:45.101Z"
   },
   {
    "duration": 51,
    "start_time": "2021-12-15T15:43:45.117Z"
   },
   {
    "duration": 115,
    "start_time": "2021-12-15T15:43:45.171Z"
   },
   {
    "duration": 11,
    "start_time": "2021-12-15T15:43:45.289Z"
   },
   {
    "duration": 12,
    "start_time": "2021-12-15T15:43:45.303Z"
   },
   {
    "duration": 68,
    "start_time": "2021-12-15T15:43:45.375Z"
   },
   {
    "duration": 57,
    "start_time": "2021-12-15T15:43:49.735Z"
   },
   {
    "duration": 70,
    "start_time": "2021-12-15T15:43:55.164Z"
   },
   {
    "duration": 66,
    "start_time": "2021-12-15T15:45:21.650Z"
   },
   {
    "duration": 60,
    "start_time": "2021-12-15T15:45:23.350Z"
   },
   {
    "duration": 19,
    "start_time": "2021-12-15T15:47:53.393Z"
   },
   {
    "duration": 12,
    "start_time": "2021-12-15T15:49:06.229Z"
   },
   {
    "duration": 22,
    "start_time": "2021-12-15T15:49:09.452Z"
   },
   {
    "duration": 19,
    "start_time": "2021-12-15T15:49:10.881Z"
   },
   {
    "duration": 14,
    "start_time": "2021-12-15T15:49:21.227Z"
   },
   {
    "duration": 12,
    "start_time": "2021-12-15T15:49:23.919Z"
   },
   {
    "duration": 57,
    "start_time": "2021-12-15T15:51:15.145Z"
   },
   {
    "duration": 5,
    "start_time": "2021-12-15T16:09:24.021Z"
   },
   {
    "duration": 386,
    "start_time": "2021-12-15T16:09:24.029Z"
   },
   {
    "duration": 9,
    "start_time": "2021-12-15T16:09:24.418Z"
   },
   {
    "duration": 31,
    "start_time": "2021-12-15T16:09:24.430Z"
   },
   {
    "duration": 8,
    "start_time": "2021-12-15T16:09:24.463Z"
   },
   {
    "duration": 17,
    "start_time": "2021-12-15T16:09:24.474Z"
   },
   {
    "duration": 8,
    "start_time": "2021-12-15T16:09:24.494Z"
   },
   {
    "duration": 5,
    "start_time": "2021-12-15T16:09:27.351Z"
   },
   {
    "duration": 8,
    "start_time": "2021-12-15T16:09:29.025Z"
   },
   {
    "duration": 5,
    "start_time": "2021-12-15T16:09:47.655Z"
   },
   {
    "duration": 406,
    "start_time": "2021-12-15T16:09:47.663Z"
   },
   {
    "duration": 9,
    "start_time": "2021-12-15T16:09:48.072Z"
   },
   {
    "duration": 20,
    "start_time": "2021-12-15T16:09:48.084Z"
   },
   {
    "duration": 13,
    "start_time": "2021-12-15T16:09:48.106Z"
   },
   {
    "duration": 61,
    "start_time": "2021-12-15T16:09:48.122Z"
   },
   {
    "duration": 10,
    "start_time": "2021-12-15T16:09:48.185Z"
   },
   {
    "duration": -537,
    "start_time": "2021-12-15T16:10:10.947Z"
   },
   {
    "duration": -540,
    "start_time": "2021-12-15T16:10:10.951Z"
   },
   {
    "duration": 5,
    "start_time": "2021-12-15T16:10:14.760Z"
   },
   {
    "duration": 385,
    "start_time": "2021-12-15T16:10:14.770Z"
   },
   {
    "duration": 8,
    "start_time": "2021-12-15T16:10:15.158Z"
   },
   {
    "duration": 16,
    "start_time": "2021-12-15T16:10:15.169Z"
   },
   {
    "duration": 11,
    "start_time": "2021-12-15T16:10:15.187Z"
   },
   {
    "duration": 18,
    "start_time": "2021-12-15T16:10:15.200Z"
   },
   {
    "duration": 41,
    "start_time": "2021-12-15T16:10:15.220Z"
   },
   {
    "duration": 8,
    "start_time": "2021-12-15T16:10:15.263Z"
   },
   {
    "duration": 5,
    "start_time": "2021-12-15T16:10:16.978Z"
   },
   {
    "duration": 8,
    "start_time": "2021-12-15T16:10:17.436Z"
   },
   {
    "duration": 9,
    "start_time": "2021-12-15T16:11:49.489Z"
   },
   {
    "duration": 4,
    "start_time": "2021-12-15T16:12:19.242Z"
   },
   {
    "duration": 356,
    "start_time": "2021-12-15T16:12:19.253Z"
   },
   {
    "duration": 9,
    "start_time": "2021-12-15T16:12:19.612Z"
   },
   {
    "duration": 17,
    "start_time": "2021-12-15T16:12:19.624Z"
   },
   {
    "duration": 10,
    "start_time": "2021-12-15T16:12:19.661Z"
   },
   {
    "duration": 25,
    "start_time": "2021-12-15T16:12:19.674Z"
   },
   {
    "duration": 25,
    "start_time": "2021-12-15T16:12:19.702Z"
   },
   {
    "duration": 31,
    "start_time": "2021-12-15T16:12:19.730Z"
   },
   {
    "duration": 26,
    "start_time": "2021-12-15T16:12:19.765Z"
   },
   {
    "duration": 19,
    "start_time": "2021-12-15T16:12:19.794Z"
   },
   {
    "duration": 13,
    "start_time": "2021-12-15T16:12:19.815Z"
   },
   {
    "duration": 431,
    "start_time": "2021-12-15T16:16:37.329Z"
   },
   {
    "duration": 5,
    "start_time": "2021-12-15T16:17:02.186Z"
   },
   {
    "duration": 380,
    "start_time": "2021-12-15T16:17:02.198Z"
   },
   {
    "duration": 8,
    "start_time": "2021-12-15T16:17:02.581Z"
   },
   {
    "duration": 19,
    "start_time": "2021-12-15T16:17:02.592Z"
   },
   {
    "duration": 10,
    "start_time": "2021-12-15T16:17:02.614Z"
   },
   {
    "duration": 46,
    "start_time": "2021-12-15T16:17:02.627Z"
   },
   {
    "duration": 10,
    "start_time": "2021-12-15T16:17:02.676Z"
   },
   {
    "duration": 14,
    "start_time": "2021-12-15T16:17:02.689Z"
   },
   {
    "duration": 11,
    "start_time": "2021-12-15T16:17:02.708Z"
   },
   {
    "duration": 40,
    "start_time": "2021-12-15T16:17:02.722Z"
   },
   {
    "duration": 14,
    "start_time": "2021-12-15T16:17:02.764Z"
   },
   {
    "duration": 26,
    "start_time": "2021-12-15T16:17:02.780Z"
   },
   {
    "duration": 12,
    "start_time": "2021-12-15T16:17:02.808Z"
   },
   {
    "duration": 54,
    "start_time": "2021-12-15T16:17:02.822Z"
   },
   {
    "duration": 149,
    "start_time": "2021-12-15T16:17:02.878Z"
   },
   {
    "duration": 35,
    "start_time": "2021-12-15T16:17:03.029Z"
   },
   {
    "duration": 5,
    "start_time": "2021-12-15T16:17:03.066Z"
   },
   {
    "duration": 20,
    "start_time": "2021-12-15T16:17:03.073Z"
   },
   {
    "duration": 11,
    "start_time": "2021-12-15T16:17:03.095Z"
   },
   {
    "duration": 51,
    "start_time": "2021-12-15T16:17:03.108Z"
   },
   {
    "duration": 97,
    "start_time": "2021-12-15T16:17:03.162Z"
   },
   {
    "duration": 15,
    "start_time": "2021-12-15T16:17:03.261Z"
   },
   {
    "duration": 20,
    "start_time": "2021-12-15T16:17:03.278Z"
   },
   {
    "duration": 13,
    "start_time": "2021-12-15T16:17:03.302Z"
   },
   {
    "duration": 54,
    "start_time": "2021-12-15T16:17:03.318Z"
   },
   {
    "duration": 119,
    "start_time": "2021-12-15T16:17:03.375Z"
   },
   {
    "duration": 19,
    "start_time": "2021-12-15T16:17:05.827Z"
   },
   {
    "duration": 14,
    "start_time": "2021-12-15T16:17:14.035Z"
   },
   {
    "duration": 55,
    "start_time": "2021-12-15T16:19:37.634Z"
   },
   {
    "duration": 24,
    "start_time": "2021-12-15T16:31:50.608Z"
   },
   {
    "duration": 5,
    "start_time": "2021-12-15T16:31:58.067Z"
   },
   {
    "duration": 22,
    "start_time": "2021-12-15T16:32:00.644Z"
   },
   {
    "duration": 12,
    "start_time": "2021-12-15T16:32:02.002Z"
   },
   {
    "duration": 17,
    "start_time": "2021-12-15T16:32:05.400Z"
   },
   {
    "duration": 21,
    "start_time": "2021-12-15T16:32:09.223Z"
   },
   {
    "duration": 15,
    "start_time": "2021-12-15T16:32:10.409Z"
   },
   {
    "duration": 16,
    "start_time": "2021-12-15T16:32:16.143Z"
   },
   {
    "duration": 21,
    "start_time": "2021-12-15T16:32:17.665Z"
   },
   {
    "duration": 15,
    "start_time": "2021-12-15T16:32:20.728Z"
   },
   {
    "duration": 20,
    "start_time": "2021-12-15T16:32:22.383Z"
   },
   {
    "duration": 27,
    "start_time": "2021-12-15T16:32:25.036Z"
   },
   {
    "duration": 19,
    "start_time": "2021-12-15T16:32:26.384Z"
   },
   {
    "duration": 19,
    "start_time": "2021-12-15T16:32:30.996Z"
   },
   {
    "duration": 13,
    "start_time": "2021-12-15T16:32:32.824Z"
   },
   {
    "duration": 12,
    "start_time": "2021-12-15T16:32:36.816Z"
   },
   {
    "duration": 73,
    "start_time": "2021-12-15T16:32:47.542Z"
   },
   {
    "duration": 55,
    "start_time": "2021-12-15T16:32:54.962Z"
   },
   {
    "duration": 45,
    "start_time": "2021-12-15T16:33:00.774Z"
   },
   {
    "duration": 47,
    "start_time": "2021-12-15T16:33:06.646Z"
   },
   {
    "duration": 312,
    "start_time": "2021-12-15T20:33:52.183Z"
   },
   {
    "duration": 1378,
    "start_time": "2021-12-15T20:34:01.900Z"
   },
   {
    "duration": 380,
    "start_time": "2021-12-15T20:34:03.281Z"
   },
   {
    "duration": 9,
    "start_time": "2021-12-15T20:34:03.665Z"
   },
   {
    "duration": 41,
    "start_time": "2021-12-15T20:34:03.678Z"
   },
   {
    "duration": 10,
    "start_time": "2021-12-15T20:34:03.722Z"
   },
   {
    "duration": 20,
    "start_time": "2021-12-15T20:34:03.735Z"
   },
   {
    "duration": 9,
    "start_time": "2021-12-15T20:34:03.758Z"
   },
   {
    "duration": 20,
    "start_time": "2021-12-15T20:34:03.816Z"
   },
   {
    "duration": 13,
    "start_time": "2021-12-15T20:34:03.840Z"
   },
   {
    "duration": 6,
    "start_time": "2021-12-15T20:34:03.856Z"
   },
   {
    "duration": 11,
    "start_time": "2021-12-15T20:34:03.865Z"
   },
   {
    "duration": 50,
    "start_time": "2021-12-15T20:34:03.878Z"
   },
   {
    "duration": 12,
    "start_time": "2021-12-15T20:34:03.930Z"
   },
   {
    "duration": 23,
    "start_time": "2021-12-15T20:34:03.944Z"
   },
   {
    "duration": 171,
    "start_time": "2021-12-15T20:34:03.969Z"
   },
   {
    "duration": 23,
    "start_time": "2021-12-15T20:34:04.143Z"
   },
   {
    "duration": 6,
    "start_time": "2021-12-15T20:34:04.168Z"
   },
   {
    "duration": 17,
    "start_time": "2021-12-15T20:34:04.176Z"
   },
   {
    "duration": 11,
    "start_time": "2021-12-15T20:34:04.218Z"
   },
   {
    "duration": 17,
    "start_time": "2021-12-15T20:34:04.231Z"
   },
   {
    "duration": 111,
    "start_time": "2021-12-15T20:34:04.250Z"
   },
   {
    "duration": 15,
    "start_time": "2021-12-15T20:34:04.363Z"
   },
   {
    "duration": 38,
    "start_time": "2021-12-15T20:34:04.383Z"
   },
   {
    "duration": 12,
    "start_time": "2021-12-15T20:34:04.425Z"
   },
   {
    "duration": 25,
    "start_time": "2021-12-15T20:34:04.439Z"
   },
   {
    "duration": 131,
    "start_time": "2021-12-15T20:34:04.467Z"
   },
   {
    "duration": 24,
    "start_time": "2021-12-15T20:34:04.600Z"
   },
   {
    "duration": 14,
    "start_time": "2021-12-15T20:34:04.626Z"
   },
   {
    "duration": 13,
    "start_time": "2021-12-15T20:34:04.642Z"
   },
   {
    "duration": 108,
    "start_time": "2021-12-15T20:34:04.657Z"
   },
   {
    "duration": 74,
    "start_time": "2021-12-15T20:34:04.767Z"
   },
   {
    "duration": 47,
    "start_time": "2021-12-15T20:34:04.843Z"
   },
   {
    "duration": 65,
    "start_time": "2021-12-15T20:34:04.893Z"
   },
   {
    "duration": 4,
    "start_time": "2021-12-15T20:34:04.961Z"
   },
   {
    "duration": 6,
    "start_time": "2021-12-15T20:34:04.967Z"
   },
   {
    "duration": 41,
    "start_time": "2021-12-15T20:34:04.976Z"
   },
   {
    "duration": 9,
    "start_time": "2021-12-15T20:34:05.020Z"
   },
   {
    "duration": 6,
    "start_time": "2021-12-15T20:34:05.032Z"
   },
   {
    "duration": 5,
    "start_time": "2021-12-15T20:34:05.041Z"
   },
   {
    "duration": 5,
    "start_time": "2021-12-15T20:34:05.049Z"
   },
   {
    "duration": 5,
    "start_time": "2021-12-15T20:34:05.057Z"
   },
   {
    "duration": 5,
    "start_time": "2021-12-15T20:34:05.064Z"
   },
   {
    "duration": 6,
    "start_time": "2021-12-15T20:34:05.072Z"
   },
   {
    "duration": 37,
    "start_time": "2021-12-15T20:34:05.080Z"
   },
   {
    "duration": 50,
    "start_time": "2021-12-15T20:35:36.793Z"
   },
   {
    "duration": 63,
    "start_time": "2021-12-15T20:35:45.020Z"
   },
   {
    "duration": 51,
    "start_time": "2021-12-15T20:36:36.760Z"
   },
   {
    "duration": 54,
    "start_time": "2021-12-15T20:37:26.504Z"
   },
   {
    "duration": 42,
    "start_time": "2021-12-15T20:37:52.345Z"
   },
   {
    "duration": 70,
    "start_time": "2021-12-15T20:38:28.007Z"
   },
   {
    "duration": 45,
    "start_time": "2021-12-15T20:39:23.892Z"
   },
   {
    "duration": 10,
    "start_time": "2021-12-15T22:18:08.607Z"
   },
   {
    "duration": 24,
    "start_time": "2021-12-15T22:18:12.975Z"
   },
   {
    "duration": 86,
    "start_time": "2021-12-15T22:53:57.334Z"
   },
   {
    "duration": 78,
    "start_time": "2021-12-15T22:54:05.633Z"
   },
   {
    "duration": 81,
    "start_time": "2021-12-15T22:54:23.265Z"
   },
   {
    "duration": 102,
    "start_time": "2021-12-15T22:54:30.838Z"
   },
   {
    "duration": 33,
    "start_time": "2021-12-15T22:55:11.187Z"
   },
   {
    "duration": 42,
    "start_time": "2021-12-15T22:55:36.115Z"
   },
   {
    "duration": 41,
    "start_time": "2021-12-15T22:57:12.879Z"
   },
   {
    "duration": 28,
    "start_time": "2021-12-15T22:59:22.312Z"
   },
   {
    "duration": 15,
    "start_time": "2021-12-15T23:00:25.518Z"
   },
   {
    "duration": 74,
    "start_time": "2021-12-15T23:00:29.015Z"
   },
   {
    "duration": 74,
    "start_time": "2021-12-15T23:02:51.550Z"
   },
   {
    "duration": 4,
    "start_time": "2021-12-15T23:05:43.836Z"
   },
   {
    "duration": 379,
    "start_time": "2021-12-15T23:05:43.846Z"
   },
   {
    "duration": 9,
    "start_time": "2021-12-15T23:05:44.227Z"
   },
   {
    "duration": 20,
    "start_time": "2021-12-15T23:05:44.239Z"
   },
   {
    "duration": 9,
    "start_time": "2021-12-15T23:05:44.262Z"
   },
   {
    "duration": 19,
    "start_time": "2021-12-15T23:05:44.274Z"
   },
   {
    "duration": 28,
    "start_time": "2021-12-15T23:05:44.295Z"
   },
   {
    "duration": 28,
    "start_time": "2021-12-15T23:05:44.326Z"
   },
   {
    "duration": 25,
    "start_time": "2021-12-15T23:05:44.357Z"
   },
   {
    "duration": 5,
    "start_time": "2021-12-15T23:05:44.386Z"
   },
   {
    "duration": 10,
    "start_time": "2021-12-15T23:05:44.393Z"
   },
   {
    "duration": 31,
    "start_time": "2021-12-15T23:05:44.405Z"
   },
   {
    "duration": 11,
    "start_time": "2021-12-15T23:05:44.439Z"
   },
   {
    "duration": 38,
    "start_time": "2021-12-15T23:05:44.452Z"
   },
   {
    "duration": 150,
    "start_time": "2021-12-15T23:05:44.492Z"
   },
   {
    "duration": 22,
    "start_time": "2021-12-15T23:05:44.645Z"
   },
   {
    "duration": 5,
    "start_time": "2021-12-15T23:05:44.669Z"
   },
   {
    "duration": 46,
    "start_time": "2021-12-15T23:05:44.676Z"
   },
   {
    "duration": 11,
    "start_time": "2021-12-15T23:05:44.725Z"
   },
   {
    "duration": 25,
    "start_time": "2021-12-15T23:05:44.739Z"
   },
   {
    "duration": 108,
    "start_time": "2021-12-15T23:05:44.767Z"
   },
   {
    "duration": 15,
    "start_time": "2021-12-15T23:05:44.878Z"
   },
   {
    "duration": 35,
    "start_time": "2021-12-15T23:05:44.895Z"
   },
   {
    "duration": 20,
    "start_time": "2021-12-15T23:05:44.934Z"
   },
   {
    "duration": 32,
    "start_time": "2021-12-15T23:05:44.957Z"
   },
   {
    "duration": 188,
    "start_time": "2021-12-15T23:05:44.992Z"
   },
   {
    "duration": 42,
    "start_time": "2021-12-15T23:05:45.183Z"
   },
   {
    "duration": 12,
    "start_time": "2021-12-15T23:05:45.228Z"
   },
   {
    "duration": 22,
    "start_time": "2021-12-15T23:05:45.242Z"
   },
   {
    "duration": 96,
    "start_time": "2021-12-15T23:05:45.267Z"
   },
   {
    "duration": 75,
    "start_time": "2021-12-15T23:05:45.366Z"
   },
   {
    "duration": 50,
    "start_time": "2021-12-15T23:05:45.443Z"
   },
   {
    "duration": 68,
    "start_time": "2021-12-15T23:05:45.495Z"
   },
   {
    "duration": 59,
    "start_time": "2021-12-15T23:05:45.566Z"
   },
   {
    "duration": 3,
    "start_time": "2021-12-15T23:05:45.628Z"
   },
   {
    "duration": 51,
    "start_time": "2021-12-15T23:05:45.633Z"
   },
   {
    "duration": 74,
    "start_time": "2021-12-15T23:05:51.183Z"
   },
   {
    "duration": 26,
    "start_time": "2021-12-15T23:09:57.720Z"
   },
   {
    "duration": 62,
    "start_time": "2021-12-15T23:22:16.984Z"
   },
   {
    "duration": 4,
    "start_time": "2021-12-15T23:22:53.969Z"
   },
   {
    "duration": 391,
    "start_time": "2021-12-15T23:22:53.978Z"
   },
   {
    "duration": 8,
    "start_time": "2021-12-15T23:22:54.372Z"
   },
   {
    "duration": 36,
    "start_time": "2021-12-15T23:22:54.383Z"
   },
   {
    "duration": 9,
    "start_time": "2021-12-15T23:22:54.421Z"
   },
   {
    "duration": 17,
    "start_time": "2021-12-15T23:22:54.432Z"
   },
   {
    "duration": 9,
    "start_time": "2021-12-15T23:22:54.451Z"
   },
   {
    "duration": 10,
    "start_time": "2021-12-15T23:22:54.462Z"
   },
   {
    "duration": 10,
    "start_time": "2021-12-15T23:22:54.516Z"
   },
   {
    "duration": 5,
    "start_time": "2021-12-15T23:22:54.529Z"
   },
   {
    "duration": 11,
    "start_time": "2021-12-15T23:22:54.537Z"
   },
   {
    "duration": 21,
    "start_time": "2021-12-15T23:22:54.550Z"
   },
   {
    "duration": 44,
    "start_time": "2021-12-15T23:22:54.573Z"
   },
   {
    "duration": 20,
    "start_time": "2021-12-15T23:22:54.619Z"
   },
   {
    "duration": 156,
    "start_time": "2021-12-15T23:22:54.641Z"
   },
   {
    "duration": 30,
    "start_time": "2021-12-15T23:22:54.799Z"
   },
   {
    "duration": 5,
    "start_time": "2021-12-15T23:22:54.832Z"
   },
   {
    "duration": 19,
    "start_time": "2021-12-15T23:22:54.839Z"
   },
   {
    "duration": 11,
    "start_time": "2021-12-15T23:22:54.860Z"
   },
   {
    "duration": 45,
    "start_time": "2021-12-15T23:22:54.873Z"
   },
   {
    "duration": 77,
    "start_time": "2021-12-15T23:22:54.920Z"
   },
   {
    "duration": 32,
    "start_time": "2021-12-15T23:22:54.999Z"
   },
   {
    "duration": 17,
    "start_time": "2021-12-15T23:22:55.033Z"
   },
   {
    "duration": 12,
    "start_time": "2021-12-15T23:22:55.055Z"
   },
   {
    "duration": 52,
    "start_time": "2021-12-15T23:22:55.070Z"
   },
   {
    "duration": 111,
    "start_time": "2021-12-15T23:22:55.124Z"
   },
   {
    "duration": 18,
    "start_time": "2021-12-15T23:22:55.238Z"
   },
   {
    "duration": 12,
    "start_time": "2021-12-15T23:22:55.259Z"
   },
   {
    "duration": 12,
    "start_time": "2021-12-15T23:22:55.273Z"
   },
   {
    "duration": 77,
    "start_time": "2021-12-15T23:22:55.318Z"
   },
   {
    "duration": 57,
    "start_time": "2021-12-15T23:22:55.417Z"
   },
   {
    "duration": 69,
    "start_time": "2021-12-15T23:22:55.476Z"
   },
   {
    "duration": 49,
    "start_time": "2021-12-15T23:22:55.548Z"
   },
   {
    "duration": 54,
    "start_time": "2021-12-15T23:22:55.600Z"
   },
   {
    "duration": 30,
    "start_time": "2021-12-15T23:22:55.657Z"
   },
   {
    "duration": 19,
    "start_time": "2021-12-15T23:22:55.718Z"
   },
   {
    "duration": 20,
    "start_time": "2021-12-15T23:23:02.926Z"
   },
   {
    "duration": 310,
    "start_time": "2021-12-15T23:23:11.980Z"
   },
   {
    "duration": 29,
    "start_time": "2021-12-15T23:23:24.495Z"
   },
   {
    "duration": 6,
    "start_time": "2021-12-15T23:23:44.724Z"
   },
   {
    "duration": 47,
    "start_time": "2021-12-15T23:23:59.729Z"
   },
   {
    "duration": 16,
    "start_time": "2021-12-15T23:25:33.929Z"
   },
   {
    "duration": 65,
    "start_time": "2021-12-15T23:25:48.374Z"
   },
   {
    "duration": 50,
    "start_time": "2021-12-15T23:26:09.068Z"
   },
   {
    "duration": 5,
    "start_time": "2021-12-15T23:26:32.781Z"
   },
   {
    "duration": 47,
    "start_time": "2021-12-15T23:29:34.240Z"
   },
   {
    "duration": 4,
    "start_time": "2021-12-15T23:34:45.795Z"
   },
   {
    "duration": 373,
    "start_time": "2021-12-15T23:34:45.802Z"
   },
   {
    "duration": 9,
    "start_time": "2021-12-15T23:34:46.178Z"
   },
   {
    "duration": 30,
    "start_time": "2021-12-15T23:34:46.189Z"
   },
   {
    "duration": 10,
    "start_time": "2021-12-15T23:34:46.221Z"
   },
   {
    "duration": 18,
    "start_time": "2021-12-15T23:34:46.234Z"
   },
   {
    "duration": 8,
    "start_time": "2021-12-15T23:34:46.254Z"
   },
   {
    "duration": 52,
    "start_time": "2021-12-15T23:34:46.265Z"
   },
   {
    "duration": 8,
    "start_time": "2021-12-15T23:34:46.321Z"
   },
   {
    "duration": 6,
    "start_time": "2021-12-15T23:34:46.331Z"
   },
   {
    "duration": 8,
    "start_time": "2021-12-15T23:34:46.340Z"
   },
   {
    "duration": 22,
    "start_time": "2021-12-15T23:34:46.351Z"
   },
   {
    "duration": 50,
    "start_time": "2021-12-15T23:34:46.376Z"
   },
   {
    "duration": 20,
    "start_time": "2021-12-15T23:34:46.428Z"
   },
   {
    "duration": 159,
    "start_time": "2021-12-15T23:34:46.451Z"
   },
   {
    "duration": 22,
    "start_time": "2021-12-15T23:34:46.617Z"
   },
   {
    "duration": 5,
    "start_time": "2021-12-15T23:34:46.641Z"
   },
   {
    "duration": 19,
    "start_time": "2021-12-15T23:34:46.648Z"
   },
   {
    "duration": 10,
    "start_time": "2021-12-15T23:34:46.669Z"
   },
   {
    "duration": 48,
    "start_time": "2021-12-15T23:34:46.682Z"
   },
   {
    "duration": 94,
    "start_time": "2021-12-15T23:34:46.733Z"
   },
   {
    "duration": 14,
    "start_time": "2021-12-15T23:34:46.829Z"
   },
   {
    "duration": 18,
    "start_time": "2021-12-15T23:34:46.846Z"
   },
   {
    "duration": 12,
    "start_time": "2021-12-15T23:34:46.866Z"
   },
   {
    "duration": 46,
    "start_time": "2021-12-15T23:34:46.881Z"
   },
   {
    "duration": 121,
    "start_time": "2021-12-15T23:34:46.931Z"
   },
   {
    "duration": 18,
    "start_time": "2021-12-15T23:34:47.055Z"
   },
   {
    "duration": 12,
    "start_time": "2021-12-15T23:34:47.075Z"
   },
   {
    "duration": 38,
    "start_time": "2021-12-15T23:34:47.089Z"
   },
   {
    "duration": 96,
    "start_time": "2021-12-15T23:34:47.130Z"
   },
   {
    "duration": 60,
    "start_time": "2021-12-15T23:34:47.229Z"
   },
   {
    "duration": 49,
    "start_time": "2021-12-15T23:34:47.317Z"
   },
   {
    "duration": 82,
    "start_time": "2021-12-15T23:34:47.369Z"
   },
   {
    "duration": 63,
    "start_time": "2021-12-15T23:34:47.455Z"
   },
   {
    "duration": 32,
    "start_time": "2021-12-15T23:34:47.521Z"
   },
   {
    "duration": 22,
    "start_time": "2021-12-15T23:34:47.556Z"
   },
   {
    "duration": 65,
    "start_time": "2021-12-15T23:34:47.581Z"
   },
   {
    "duration": 3,
    "start_time": "2021-12-15T23:34:47.649Z"
   },
   {
    "duration": 15,
    "start_time": "2021-12-15T23:35:02.512Z"
   },
   {
    "duration": 48,
    "start_time": "2021-12-15T23:35:10.342Z"
   },
   {
    "duration": 46,
    "start_time": "2021-12-15T23:37:13.390Z"
   },
   {
    "duration": 1070,
    "start_time": "2021-12-17T13:38:50.936Z"
   },
   {
    "duration": 813,
    "start_time": "2021-12-17T13:38:52.008Z"
   },
   {
    "duration": 7,
    "start_time": "2021-12-17T13:38:52.824Z"
   },
   {
    "duration": 12,
    "start_time": "2021-12-17T13:38:52.833Z"
   },
   {
    "duration": 8,
    "start_time": "2021-12-17T13:38:52.846Z"
   },
   {
    "duration": 17,
    "start_time": "2021-12-17T13:38:52.855Z"
   },
   {
    "duration": 10,
    "start_time": "2021-12-17T13:38:52.873Z"
   },
   {
    "duration": 28,
    "start_time": "2021-12-17T13:38:52.885Z"
   },
   {
    "duration": 7,
    "start_time": "2021-12-17T13:38:52.916Z"
   },
   {
    "duration": 4,
    "start_time": "2021-12-17T13:38:52.925Z"
   },
   {
    "duration": 7,
    "start_time": "2021-12-17T13:38:52.930Z"
   },
   {
    "duration": 17,
    "start_time": "2021-12-17T13:38:52.938Z"
   },
   {
    "duration": 7,
    "start_time": "2021-12-17T13:38:52.957Z"
   },
   {
    "duration": 45,
    "start_time": "2021-12-17T13:38:52.966Z"
   },
   {
    "duration": 103,
    "start_time": "2021-12-17T13:38:53.014Z"
   },
   {
    "duration": 18,
    "start_time": "2021-12-17T13:38:53.119Z"
   },
   {
    "duration": 6,
    "start_time": "2021-12-17T13:38:53.138Z"
   },
   {
    "duration": 13,
    "start_time": "2021-12-17T13:38:53.146Z"
   },
   {
    "duration": 7,
    "start_time": "2021-12-17T13:38:53.162Z"
   },
   {
    "duration": 42,
    "start_time": "2021-12-17T13:38:53.171Z"
   },
   {
    "duration": 55,
    "start_time": "2021-12-17T13:38:53.215Z"
   },
   {
    "duration": 11,
    "start_time": "2021-12-17T13:38:53.272Z"
   },
   {
    "duration": 31,
    "start_time": "2021-12-17T13:38:53.285Z"
   },
   {
    "duration": 9,
    "start_time": "2021-12-17T13:38:53.319Z"
   },
   {
    "duration": 13,
    "start_time": "2021-12-17T13:38:53.330Z"
   },
   {
    "duration": 104,
    "start_time": "2021-12-17T13:38:53.345Z"
   },
   {
    "duration": 14,
    "start_time": "2021-12-17T13:38:53.452Z"
   },
   {
    "duration": 9,
    "start_time": "2021-12-17T13:38:53.469Z"
   },
   {
    "duration": 27,
    "start_time": "2021-12-17T13:38:53.480Z"
   },
   {
    "duration": 51,
    "start_time": "2021-12-17T13:38:53.509Z"
   },
   {
    "duration": 58,
    "start_time": "2021-12-17T13:38:53.562Z"
   },
   {
    "duration": 31,
    "start_time": "2021-12-17T13:38:53.621Z"
   },
   {
    "duration": 34,
    "start_time": "2021-12-17T13:38:53.654Z"
   },
   {
    "duration": 45,
    "start_time": "2021-12-17T13:38:53.690Z"
   },
   {
    "duration": 2,
    "start_time": "2021-12-17T13:38:53.736Z"
   },
   {
    "duration": 30,
    "start_time": "2021-12-17T13:38:53.740Z"
   },
   {
    "duration": 2,
    "start_time": "2021-12-17T13:38:53.772Z"
   },
   {
    "duration": 31,
    "start_time": "2021-12-17T13:38:53.776Z"
   },
   {
    "duration": 4,
    "start_time": "2021-12-17T13:38:53.809Z"
   },
   {
    "duration": 5,
    "start_time": "2021-12-17T13:38:53.815Z"
   },
   {
    "duration": 6,
    "start_time": "2021-12-17T13:38:53.822Z"
   },
   {
    "duration": 9,
    "start_time": "2021-12-17T13:38:53.829Z"
   },
   {
    "duration": 9,
    "start_time": "2021-12-17T13:38:53.839Z"
   },
   {
    "duration": 8,
    "start_time": "2021-12-17T13:38:53.850Z"
   },
   {
    "duration": 10,
    "start_time": "2021-12-17T13:38:53.860Z"
   },
   {
    "duration": 3,
    "start_time": "2021-12-17T13:53:30.175Z"
   },
   {
    "duration": 333,
    "start_time": "2021-12-17T13:53:30.183Z"
   },
   {
    "duration": 6,
    "start_time": "2021-12-17T13:53:30.518Z"
   },
   {
    "duration": 17,
    "start_time": "2021-12-17T13:53:30.526Z"
   },
   {
    "duration": 11,
    "start_time": "2021-12-17T13:53:30.545Z"
   },
   {
    "duration": 28,
    "start_time": "2021-12-17T13:53:30.557Z"
   },
   {
    "duration": 30,
    "start_time": "2021-12-17T13:53:30.587Z"
   },
   {
    "duration": 11,
    "start_time": "2021-12-17T13:53:30.619Z"
   },
   {
    "duration": 11,
    "start_time": "2021-12-17T13:53:30.632Z"
   },
   {
    "duration": 9,
    "start_time": "2021-12-17T13:53:30.646Z"
   },
   {
    "duration": 20,
    "start_time": "2021-12-17T13:53:30.658Z"
   },
   {
    "duration": 28,
    "start_time": "2021-12-17T13:53:30.679Z"
   },
   {
    "duration": 9,
    "start_time": "2021-12-17T13:53:30.709Z"
   },
   {
    "duration": 21,
    "start_time": "2021-12-17T13:53:30.719Z"
   },
   {
    "duration": 106,
    "start_time": "2021-12-17T13:53:30.741Z"
   },
   {
    "duration": 16,
    "start_time": "2021-12-17T13:53:30.849Z"
   },
   {
    "duration": 4,
    "start_time": "2021-12-17T13:53:30.867Z"
   },
   {
    "duration": 34,
    "start_time": "2021-12-17T13:53:30.872Z"
   },
   {
    "duration": 7,
    "start_time": "2021-12-17T13:53:30.908Z"
   },
   {
    "duration": 17,
    "start_time": "2021-12-17T13:53:30.916Z"
   },
   {
    "duration": 74,
    "start_time": "2021-12-17T13:53:30.935Z"
   },
   {
    "duration": 12,
    "start_time": "2021-12-17T13:53:31.011Z"
   },
   {
    "duration": 16,
    "start_time": "2021-12-17T13:53:31.024Z"
   },
   {
    "duration": 10,
    "start_time": "2021-12-17T13:53:31.042Z"
   },
   {
    "duration": 18,
    "start_time": "2021-12-17T13:53:31.053Z"
   },
   {
    "duration": 101,
    "start_time": "2021-12-17T13:53:31.072Z"
   },
   {
    "duration": 14,
    "start_time": "2021-12-17T13:53:31.175Z"
   },
   {
    "duration": 18,
    "start_time": "2021-12-17T13:53:31.193Z"
   },
   {
    "duration": 9,
    "start_time": "2021-12-17T13:53:31.213Z"
   },
   {
    "duration": 56,
    "start_time": "2021-12-17T13:53:31.224Z"
   },
   {
    "duration": 60,
    "start_time": "2021-12-17T13:53:31.281Z"
   },
   {
    "duration": 33,
    "start_time": "2021-12-17T13:53:31.343Z"
   },
   {
    "duration": 57,
    "start_time": "2021-12-17T13:53:31.378Z"
   },
   {
    "duration": 27,
    "start_time": "2021-12-17T13:53:31.437Z"
   },
   {
    "duration": 2,
    "start_time": "2021-12-17T13:53:31.466Z"
   },
   {
    "duration": 49,
    "start_time": "2021-12-17T13:53:31.470Z"
   },
   {
    "duration": 2,
    "start_time": "2021-12-17T13:53:31.520Z"
   },
   {
    "duration": 5,
    "start_time": "2021-12-17T13:53:31.524Z"
   },
   {
    "duration": 5,
    "start_time": "2021-12-17T13:53:31.531Z"
   },
   {
    "duration": 5,
    "start_time": "2021-12-17T13:53:31.537Z"
   },
   {
    "duration": 5,
    "start_time": "2021-12-17T13:53:31.543Z"
   },
   {
    "duration": 4,
    "start_time": "2021-12-17T13:53:31.550Z"
   },
   {
    "duration": 7,
    "start_time": "2021-12-17T13:53:31.556Z"
   },
   {
    "duration": 6,
    "start_time": "2021-12-17T13:53:31.564Z"
   },
   {
    "duration": 5,
    "start_time": "2021-12-17T13:53:31.571Z"
   },
   {
    "duration": 24,
    "start_time": "2021-12-17T14:03:45.268Z"
   },
   {
    "duration": 4,
    "start_time": "2021-12-17T14:05:04.951Z"
   },
   {
    "duration": 13,
    "start_time": "2021-12-17T14:05:11.014Z"
   },
   {
    "duration": 8,
    "start_time": "2021-12-17T14:05:11.030Z"
   },
   {
    "duration": 15,
    "start_time": "2021-12-17T14:07:31.325Z"
   },
   {
    "duration": 13,
    "start_time": "2021-12-17T14:08:29.830Z"
   },
   {
    "duration": 8,
    "start_time": "2021-12-17T14:08:37.138Z"
   },
   {
    "duration": 7,
    "start_time": "2021-12-17T14:09:58.688Z"
   },
   {
    "duration": 43,
    "start_time": "2021-12-17T14:10:01.754Z"
   },
   {
    "duration": 37,
    "start_time": "2021-12-17T14:10:32.876Z"
   },
   {
    "duration": 29,
    "start_time": "2021-12-17T14:10:47.809Z"
   },
   {
    "duration": 32,
    "start_time": "2021-12-17T14:11:12.805Z"
   },
   {
    "duration": 27,
    "start_time": "2021-12-17T14:12:26.407Z"
   },
   {
    "duration": 29,
    "start_time": "2021-12-17T14:12:31.976Z"
   },
   {
    "duration": 30,
    "start_time": "2021-12-17T14:13:15.264Z"
   },
   {
    "duration": 29,
    "start_time": "2021-12-17T14:13:49.782Z"
   },
   {
    "duration": 30,
    "start_time": "2021-12-17T14:14:56.988Z"
   },
   {
    "duration": 3,
    "start_time": "2021-12-17T14:26:53.851Z"
   },
   {
    "duration": 294,
    "start_time": "2021-12-17T14:26:53.856Z"
   },
   {
    "duration": 6,
    "start_time": "2021-12-17T14:26:54.152Z"
   },
   {
    "duration": 10,
    "start_time": "2021-12-17T14:26:54.160Z"
   },
   {
    "duration": 6,
    "start_time": "2021-12-17T14:26:54.172Z"
   },
   {
    "duration": 10,
    "start_time": "2021-12-17T14:26:54.180Z"
   },
   {
    "duration": 7,
    "start_time": "2021-12-17T14:26:54.192Z"
   },
   {
    "duration": 7,
    "start_time": "2021-12-17T14:26:54.201Z"
   },
   {
    "duration": 7,
    "start_time": "2021-12-17T14:26:54.210Z"
   },
   {
    "duration": 9,
    "start_time": "2021-12-17T14:26:54.219Z"
   },
   {
    "duration": 8,
    "start_time": "2021-12-17T14:26:54.229Z"
   },
   {
    "duration": 16,
    "start_time": "2021-12-17T14:26:54.238Z"
   },
   {
    "duration": 7,
    "start_time": "2021-12-17T14:26:54.256Z"
   },
   {
    "duration": 26,
    "start_time": "2021-12-17T14:26:54.604Z"
   },
   {
    "duration": 184,
    "start_time": "2021-12-17T14:26:54.633Z"
   },
   {
    "duration": 18,
    "start_time": "2021-12-17T14:26:54.819Z"
   },
   {
    "duration": 5,
    "start_time": "2021-12-17T14:26:54.839Z"
   },
   {
    "duration": 13,
    "start_time": "2021-12-17T14:26:54.846Z"
   },
   {
    "duration": 8,
    "start_time": "2021-12-17T14:26:54.860Z"
   },
   {
    "duration": 47,
    "start_time": "2021-12-17T14:26:54.870Z"
   },
   {
    "duration": 55,
    "start_time": "2021-12-17T14:26:54.920Z"
   },
   {
    "duration": 32,
    "start_time": "2021-12-17T14:26:54.977Z"
   },
   {
    "duration": 15,
    "start_time": "2021-12-17T14:26:55.010Z"
   },
   {
    "duration": 7,
    "start_time": "2021-12-17T14:26:55.027Z"
   },
   {
    "duration": 16,
    "start_time": "2021-12-17T14:26:55.036Z"
   },
   {
    "duration": 95,
    "start_time": "2021-12-17T14:26:55.054Z"
   },
   {
    "duration": 14,
    "start_time": "2021-12-17T14:26:55.150Z"
   },
   {
    "duration": 9,
    "start_time": "2021-12-17T14:26:55.166Z"
   },
   {
    "duration": 10,
    "start_time": "2021-12-17T14:26:55.176Z"
   },
   {
    "duration": 53,
    "start_time": "2021-12-17T14:26:55.207Z"
   },
   {
    "duration": 55,
    "start_time": "2021-12-17T14:26:55.262Z"
   },
   {
    "duration": 33,
    "start_time": "2021-12-17T14:26:55.319Z"
   },
   {
    "duration": 35,
    "start_time": "2021-12-17T14:26:55.354Z"
   },
   {
    "duration": 30,
    "start_time": "2021-12-17T14:26:55.406Z"
   },
   {
    "duration": 30,
    "start_time": "2021-12-17T14:26:55.439Z"
   },
   {
    "duration": 2,
    "start_time": "2021-12-17T14:26:55.472Z"
   },
   {
    "duration": 34,
    "start_time": "2021-12-17T14:26:55.476Z"
   },
   {
    "duration": 4,
    "start_time": "2021-12-17T14:26:55.512Z"
   },
   {
    "duration": 5,
    "start_time": "2021-12-17T14:26:55.518Z"
   },
   {
    "duration": 5,
    "start_time": "2021-12-17T14:26:55.525Z"
   },
   {
    "duration": 4,
    "start_time": "2021-12-17T14:26:55.531Z"
   },
   {
    "duration": 7,
    "start_time": "2021-12-17T14:26:55.537Z"
   },
   {
    "duration": 5,
    "start_time": "2021-12-17T14:26:55.546Z"
   },
   {
    "duration": 5,
    "start_time": "2021-12-17T14:26:55.552Z"
   },
   {
    "duration": 3,
    "start_time": "2021-12-17T14:36:22.295Z"
   },
   {
    "duration": 295,
    "start_time": "2021-12-17T14:36:22.302Z"
   },
   {
    "duration": 6,
    "start_time": "2021-12-17T14:36:22.599Z"
   },
   {
    "duration": 13,
    "start_time": "2021-12-17T14:36:22.607Z"
   },
   {
    "duration": 6,
    "start_time": "2021-12-17T14:36:22.622Z"
   },
   {
    "duration": 12,
    "start_time": "2021-12-17T14:36:22.630Z"
   },
   {
    "duration": 6,
    "start_time": "2021-12-17T14:36:22.643Z"
   },
   {
    "duration": 9,
    "start_time": "2021-12-17T14:36:22.651Z"
   },
   {
    "duration": 9,
    "start_time": "2021-12-17T14:36:22.661Z"
   },
   {
    "duration": 5,
    "start_time": "2021-12-17T14:36:22.672Z"
   },
   {
    "duration": 5,
    "start_time": "2021-12-17T14:36:22.706Z"
   },
   {
    "duration": 19,
    "start_time": "2021-12-17T14:36:22.713Z"
   },
   {
    "duration": 8,
    "start_time": "2021-12-17T14:36:22.733Z"
   },
   {
    "duration": 16,
    "start_time": "2021-12-17T14:36:22.742Z"
   },
   {
    "duration": 109,
    "start_time": "2021-12-17T14:36:22.760Z"
   },
   {
    "duration": 16,
    "start_time": "2021-12-17T14:36:22.871Z"
   },
   {
    "duration": 4,
    "start_time": "2021-12-17T14:36:22.889Z"
   },
   {
    "duration": 22,
    "start_time": "2021-12-17T14:36:22.894Z"
   },
   {
    "duration": 6,
    "start_time": "2021-12-17T14:36:22.918Z"
   },
   {
    "duration": 14,
    "start_time": "2021-12-17T14:36:22.925Z"
   },
   {
    "duration": 74,
    "start_time": "2021-12-17T14:36:22.940Z"
   },
   {
    "duration": 11,
    "start_time": "2021-12-17T14:36:23.016Z"
   },
   {
    "duration": 14,
    "start_time": "2021-12-17T14:36:23.028Z"
   },
   {
    "duration": 8,
    "start_time": "2021-12-17T14:36:23.043Z"
   },
   {
    "duration": 15,
    "start_time": "2021-12-17T14:36:23.052Z"
   },
   {
    "duration": 95,
    "start_time": "2021-12-17T14:36:23.068Z"
   },
   {
    "duration": 13,
    "start_time": "2021-12-17T14:36:23.165Z"
   },
   {
    "duration": 8,
    "start_time": "2021-12-17T14:36:23.181Z"
   },
   {
    "duration": 8,
    "start_time": "2021-12-17T14:36:23.207Z"
   },
   {
    "duration": 54,
    "start_time": "2021-12-17T14:36:23.217Z"
   },
   {
    "duration": 59,
    "start_time": "2021-12-17T14:36:23.273Z"
   },
   {
    "duration": 35,
    "start_time": "2021-12-17T14:36:23.333Z"
   },
   {
    "duration": 61,
    "start_time": "2021-12-17T14:36:23.370Z"
   },
   {
    "duration": 29,
    "start_time": "2021-12-17T14:36:23.433Z"
   },
   {
    "duration": 52,
    "start_time": "2021-12-17T14:36:23.464Z"
   },
   {
    "duration": 2,
    "start_time": "2021-12-17T14:36:23.518Z"
   },
   {
    "duration": 6,
    "start_time": "2021-12-17T14:36:23.522Z"
   },
   {
    "duration": 7,
    "start_time": "2021-12-17T14:36:23.530Z"
   },
   {
    "duration": 7,
    "start_time": "2021-12-17T14:36:23.539Z"
   },
   {
    "duration": 4,
    "start_time": "2021-12-17T14:36:23.548Z"
   },
   {
    "duration": 6,
    "start_time": "2021-12-17T14:36:23.554Z"
   },
   {
    "duration": 5,
    "start_time": "2021-12-17T14:36:23.562Z"
   },
   {
    "duration": 7,
    "start_time": "2021-12-17T14:36:23.569Z"
   },
   {
    "duration": 5,
    "start_time": "2021-12-17T14:36:23.578Z"
   },
   {
    "duration": 4,
    "start_time": "2021-12-17T14:45:57.429Z"
   },
   {
    "duration": 3,
    "start_time": "2021-12-17T14:46:22.060Z"
   },
   {
    "duration": 360,
    "start_time": "2021-12-17T14:46:46.353Z"
   },
   {
    "duration": 6,
    "start_time": "2021-12-17T14:46:52.954Z"
   },
   {
    "duration": 7,
    "start_time": "2021-12-17T14:48:35.411Z"
   },
   {
    "duration": 116,
    "start_time": "2021-12-17T15:16:03.079Z"
   },
   {
    "duration": 4,
    "start_time": "2021-12-17T15:16:08.566Z"
   },
   {
    "duration": 4,
    "start_time": "2021-12-17T15:16:15.134Z"
   },
   {
    "duration": 690,
    "start_time": "2021-12-17T15:16:33.289Z"
   },
   {
    "duration": 572,
    "start_time": "2021-12-17T15:16:47.422Z"
   },
   {
    "duration": 2756,
    "start_time": "2021-12-17T15:18:56.679Z"
   },
   {
    "duration": 8581,
    "start_time": "2021-12-17T15:19:02.511Z"
   },
   {
    "duration": 10061,
    "start_time": "2021-12-17T15:19:30.243Z"
   },
   {
    "duration": 5,
    "start_time": "2021-12-17T15:20:35.785Z"
   },
   {
    "duration": 6,
    "start_time": "2021-12-17T15:20:43.679Z"
   },
   {
    "duration": 4,
    "start_time": "2021-12-17T15:20:57.299Z"
   },
   {
    "duration": 5,
    "start_time": "2021-12-17T15:21:33.865Z"
   },
   {
    "duration": 132,
    "start_time": "2021-12-17T15:22:37.819Z"
   },
   {
    "duration": 4,
    "start_time": "2021-12-17T15:22:55.133Z"
   },
   {
    "duration": 588,
    "start_time": "2021-12-17T15:23:04.832Z"
   },
   {
    "duration": 5,
    "start_time": "2021-12-17T15:23:19.577Z"
   },
   {
    "duration": 5,
    "start_time": "2021-12-17T15:23:47.008Z"
   },
   {
    "duration": 591,
    "start_time": "2021-12-17T15:24:22.229Z"
   },
   {
    "duration": 1177,
    "start_time": "2021-12-17T15:24:44.635Z"
   },
   {
    "duration": 6,
    "start_time": "2021-12-17T15:25:08.713Z"
   },
   {
    "duration": 6,
    "start_time": "2021-12-17T15:26:50.380Z"
   },
   {
    "duration": 5,
    "start_time": "2021-12-17T15:27:41.193Z"
   },
   {
    "duration": 5,
    "start_time": "2021-12-17T15:27:45.789Z"
   },
   {
    "duration": 5,
    "start_time": "2021-12-17T15:27:53.206Z"
   },
   {
    "duration": 6,
    "start_time": "2021-12-17T15:28:03.024Z"
   },
   {
    "duration": 365,
    "start_time": "2021-12-17T15:31:41.786Z"
   },
   {
    "duration": 6,
    "start_time": "2021-12-17T15:31:44.348Z"
   },
   {
    "duration": 6,
    "start_time": "2021-12-17T15:34:56.687Z"
   },
   {
    "duration": 6,
    "start_time": "2021-12-17T15:35:01.019Z"
   },
   {
    "duration": 7,
    "start_time": "2021-12-17T15:35:10.842Z"
   },
   {
    "duration": 5,
    "start_time": "2021-12-17T15:35:16.363Z"
   },
   {
    "duration": 5,
    "start_time": "2021-12-17T15:35:21.481Z"
   },
   {
    "duration": 4,
    "start_time": "2021-12-17T15:39:16.850Z"
   },
   {
    "duration": 3,
    "start_time": "2021-12-17T15:39:19.461Z"
   },
   {
    "duration": 564,
    "start_time": "2021-12-17T15:43:02.398Z"
   },
   {
    "duration": 596,
    "start_time": "2021-12-17T15:44:17.691Z"
   },
   {
    "duration": 6,
    "start_time": "2021-12-17T15:45:17.067Z"
   },
   {
    "duration": 7,
    "start_time": "2021-12-17T15:48:31.476Z"
   },
   {
    "duration": 7,
    "start_time": "2021-12-17T15:48:38.319Z"
   },
   {
    "duration": 9,
    "start_time": "2021-12-17T15:49:11.974Z"
   },
   {
    "duration": 6,
    "start_time": "2021-12-17T15:50:29.837Z"
   },
   {
    "duration": 6,
    "start_time": "2021-12-17T15:50:48.217Z"
   },
   {
    "duration": 15,
    "start_time": "2021-12-17T15:50:48.226Z"
   },
   {
    "duration": 9,
    "start_time": "2021-12-17T15:51:17.765Z"
   },
   {
    "duration": 23,
    "start_time": "2021-12-17T15:54:03.307Z"
   },
   {
    "duration": 8,
    "start_time": "2021-12-17T15:54:03.770Z"
   },
   {
    "duration": 7,
    "start_time": "2021-12-17T16:00:34.657Z"
   },
   {
    "duration": 27,
    "start_time": "2021-12-17T16:00:59.850Z"
   },
   {
    "duration": 24,
    "start_time": "2021-12-17T16:01:13.362Z"
   },
   {
    "duration": 354,
    "start_time": "2021-12-17T16:02:41.907Z"
   },
   {
    "duration": 3,
    "start_time": "2021-12-17T16:02:52.380Z"
   },
   {
    "duration": 299,
    "start_time": "2021-12-17T16:02:52.387Z"
   },
   {
    "duration": 7,
    "start_time": "2021-12-17T16:02:52.688Z"
   },
   {
    "duration": 35,
    "start_time": "2021-12-17T16:02:52.697Z"
   },
   {
    "duration": 22,
    "start_time": "2021-12-17T16:02:52.734Z"
   },
   {
    "duration": 15,
    "start_time": "2021-12-17T16:02:52.758Z"
   },
   {
    "duration": 7,
    "start_time": "2021-12-17T16:02:52.775Z"
   },
   {
    "duration": 9,
    "start_time": "2021-12-17T16:02:52.783Z"
   },
   {
    "duration": 23,
    "start_time": "2021-12-17T16:02:52.794Z"
   },
   {
    "duration": 4,
    "start_time": "2021-12-17T16:02:52.820Z"
   },
   {
    "duration": 9,
    "start_time": "2021-12-17T16:02:52.826Z"
   },
   {
    "duration": 23,
    "start_time": "2021-12-17T16:02:52.836Z"
   },
   {
    "duration": 8,
    "start_time": "2021-12-17T16:02:52.861Z"
   },
   {
    "duration": 17,
    "start_time": "2021-12-17T16:02:52.871Z"
   },
   {
    "duration": 201,
    "start_time": "2021-12-17T16:02:52.890Z"
   },
   {
    "duration": 28,
    "start_time": "2021-12-17T16:02:53.093Z"
   },
   {
    "duration": 4,
    "start_time": "2021-12-17T16:02:53.123Z"
   },
   {
    "duration": 13,
    "start_time": "2021-12-17T16:02:53.129Z"
   },
   {
    "duration": 7,
    "start_time": "2021-12-17T16:02:53.144Z"
   },
   {
    "duration": 14,
    "start_time": "2021-12-17T16:02:53.152Z"
   },
   {
    "duration": 73,
    "start_time": "2021-12-17T16:02:53.168Z"
   },
   {
    "duration": 18,
    "start_time": "2021-12-17T16:02:53.242Z"
   },
   {
    "duration": 17,
    "start_time": "2021-12-17T16:02:53.262Z"
   },
   {
    "duration": 37,
    "start_time": "2021-12-17T16:02:53.281Z"
   },
   {
    "duration": 35,
    "start_time": "2021-12-17T16:02:53.320Z"
   },
   {
    "duration": 75,
    "start_time": "2021-12-17T16:02:53.357Z"
   },
   {
    "duration": 13,
    "start_time": "2021-12-17T16:02:53.434Z"
   },
   {
    "duration": 8,
    "start_time": "2021-12-17T16:02:53.451Z"
   },
   {
    "duration": 17,
    "start_time": "2021-12-17T16:02:53.461Z"
   },
   {
    "duration": 71,
    "start_time": "2021-12-17T16:02:53.480Z"
   },
   {
    "duration": 38,
    "start_time": "2021-12-17T16:02:53.552Z"
   },
   {
    "duration": 46,
    "start_time": "2021-12-17T16:02:53.592Z"
   },
   {
    "duration": 35,
    "start_time": "2021-12-17T16:02:53.640Z"
   },
   {
    "duration": 47,
    "start_time": "2021-12-17T16:02:53.677Z"
   },
   {
    "duration": 29,
    "start_time": "2021-12-17T16:02:53.725Z"
   },
   {
    "duration": 24,
    "start_time": "2021-12-17T16:02:53.755Z"
   },
   {
    "duration": 359,
    "start_time": "2021-12-17T16:05:29.970Z"
   },
   {
    "duration": 354,
    "start_time": "2021-12-17T16:05:38.004Z"
   },
   {
    "duration": 350,
    "start_time": "2021-12-17T16:05:44.017Z"
   },
   {
    "duration": 3,
    "start_time": "2021-12-17T16:05:48.370Z"
   },
   {
    "duration": 318,
    "start_time": "2021-12-17T16:05:48.377Z"
   },
   {
    "duration": 6,
    "start_time": "2021-12-17T16:05:48.697Z"
   },
   {
    "duration": 11,
    "start_time": "2021-12-17T16:05:48.705Z"
   },
   {
    "duration": 9,
    "start_time": "2021-12-17T16:05:48.718Z"
   },
   {
    "duration": 31,
    "start_time": "2021-12-17T16:05:48.729Z"
   },
   {
    "duration": 9,
    "start_time": "2021-12-17T16:05:48.762Z"
   },
   {
    "duration": 8,
    "start_time": "2021-12-17T16:05:48.773Z"
   },
   {
    "duration": 9,
    "start_time": "2021-12-17T16:05:48.783Z"
   },
   {
    "duration": 13,
    "start_time": "2021-12-17T16:05:48.795Z"
   },
   {
    "duration": 7,
    "start_time": "2021-12-17T16:05:48.810Z"
   },
   {
    "duration": 15,
    "start_time": "2021-12-17T16:05:48.819Z"
   },
   {
    "duration": 8,
    "start_time": "2021-12-17T16:05:48.836Z"
   },
   {
    "duration": 28,
    "start_time": "2021-12-17T16:05:48.846Z"
   },
   {
    "duration": 115,
    "start_time": "2021-12-17T16:05:48.876Z"
   },
   {
    "duration": 25,
    "start_time": "2021-12-17T16:05:48.993Z"
   },
   {
    "duration": 4,
    "start_time": "2021-12-17T16:05:49.019Z"
   },
   {
    "duration": 18,
    "start_time": "2021-12-17T16:05:49.025Z"
   },
   {
    "duration": 8,
    "start_time": "2021-12-17T16:05:49.046Z"
   },
   {
    "duration": 13,
    "start_time": "2021-12-17T16:05:49.056Z"
   },
   {
    "duration": 77,
    "start_time": "2021-12-17T16:05:49.071Z"
   },
   {
    "duration": 10,
    "start_time": "2021-12-17T16:05:49.150Z"
   },
   {
    "duration": 13,
    "start_time": "2021-12-17T16:05:49.162Z"
   },
   {
    "duration": 30,
    "start_time": "2021-12-17T16:05:49.177Z"
   },
   {
    "duration": 13,
    "start_time": "2021-12-17T16:05:49.209Z"
   },
   {
    "duration": 86,
    "start_time": "2021-12-17T16:05:49.223Z"
   },
   {
    "duration": 14,
    "start_time": "2021-12-17T16:05:49.311Z"
   },
   {
    "duration": 8,
    "start_time": "2021-12-17T16:05:49.328Z"
   },
   {
    "duration": 20,
    "start_time": "2021-12-17T16:05:49.338Z"
   },
   {
    "duration": 71,
    "start_time": "2021-12-17T16:05:49.360Z"
   },
   {
    "duration": 41,
    "start_time": "2021-12-17T16:05:49.434Z"
   },
   {
    "duration": 60,
    "start_time": "2021-12-17T16:05:49.477Z"
   },
   {
    "duration": 37,
    "start_time": "2021-12-17T16:05:49.538Z"
   },
   {
    "duration": 45,
    "start_time": "2021-12-17T16:05:49.576Z"
   },
   {
    "duration": 31,
    "start_time": "2021-12-17T16:05:49.622Z"
   },
   {
    "duration": 52,
    "start_time": "2021-12-17T16:05:49.655Z"
   },
   {
    "duration": 9,
    "start_time": "2021-12-17T16:54:22.732Z"
   },
   {
    "duration": 9,
    "start_time": "2021-12-17T16:54:31.183Z"
   },
   {
    "duration": 5280,
    "start_time": "2021-12-17T16:55:30.224Z"
   },
   {
    "duration": 3,
    "start_time": "2021-12-17T16:55:38.838Z"
   },
   {
    "duration": 301,
    "start_time": "2021-12-17T16:55:38.845Z"
   },
   {
    "duration": 5,
    "start_time": "2021-12-17T16:55:39.148Z"
   },
   {
    "duration": 11,
    "start_time": "2021-12-17T16:55:39.156Z"
   },
   {
    "duration": 7,
    "start_time": "2021-12-17T16:55:39.169Z"
   },
   {
    "duration": 33,
    "start_time": "2021-12-17T16:55:39.178Z"
   },
   {
    "duration": 6,
    "start_time": "2021-12-17T16:55:39.212Z"
   },
   {
    "duration": 8,
    "start_time": "2021-12-17T16:55:39.220Z"
   },
   {
    "duration": 8,
    "start_time": "2021-12-17T16:55:39.229Z"
   },
   {
    "duration": 3,
    "start_time": "2021-12-17T16:55:39.240Z"
   },
   {
    "duration": 7,
    "start_time": "2021-12-17T16:55:39.245Z"
   },
   {
    "duration": 17,
    "start_time": "2021-12-17T16:55:39.253Z"
   },
   {
    "duration": 41,
    "start_time": "2021-12-17T16:55:39.271Z"
   },
   {
    "duration": 18,
    "start_time": "2021-12-17T16:55:39.314Z"
   },
   {
    "duration": 104,
    "start_time": "2021-12-17T16:55:39.334Z"
   },
   {
    "duration": 17,
    "start_time": "2021-12-17T16:55:39.440Z"
   },
   {
    "duration": 4,
    "start_time": "2021-12-17T16:55:39.459Z"
   },
   {
    "duration": 47,
    "start_time": "2021-12-17T16:55:39.465Z"
   },
   {
    "duration": 8,
    "start_time": "2021-12-17T16:55:39.515Z"
   },
   {
    "duration": 18,
    "start_time": "2021-12-17T16:55:39.525Z"
   },
   {
    "duration": 66,
    "start_time": "2021-12-17T16:55:39.545Z"
   },
   {
    "duration": 11,
    "start_time": "2021-12-17T16:55:39.613Z"
   },
   {
    "duration": 15,
    "start_time": "2021-12-17T16:55:39.626Z"
   },
   {
    "duration": 7,
    "start_time": "2021-12-17T16:55:39.643Z"
   },
   {
    "duration": 15,
    "start_time": "2021-12-17T16:55:39.652Z"
   },
   {
    "duration": 106,
    "start_time": "2021-12-17T16:55:39.668Z"
   },
   {
    "duration": 14,
    "start_time": "2021-12-17T16:55:39.776Z"
   },
   {
    "duration": 19,
    "start_time": "2021-12-17T16:55:39.792Z"
   },
   {
    "duration": 8,
    "start_time": "2021-12-17T16:55:39.813Z"
   },
   {
    "duration": 56,
    "start_time": "2021-12-17T16:55:39.823Z"
   },
   {
    "duration": 62,
    "start_time": "2021-12-17T16:55:39.881Z"
   },
   {
    "duration": 34,
    "start_time": "2021-12-17T16:55:39.947Z"
   },
   {
    "duration": 60,
    "start_time": "2021-12-17T16:55:39.984Z"
   },
   {
    "duration": 28,
    "start_time": "2021-12-17T16:55:40.047Z"
   },
   {
    "duration": 54,
    "start_time": "2021-12-17T16:55:40.078Z"
   },
   {
    "duration": 27,
    "start_time": "2021-12-17T16:55:40.134Z"
   },
   {
    "duration": 7,
    "start_time": "2021-12-17T16:55:40.163Z"
   },
   {
    "duration": 7,
    "start_time": "2021-12-17T16:55:40.172Z"
   },
   {
    "duration": 31,
    "start_time": "2021-12-17T16:55:40.180Z"
   },
   {
    "duration": 5708,
    "start_time": "2021-12-17T16:55:40.213Z"
   },
   {
    "duration": 102,
    "start_time": "2021-12-17T16:57:33.534Z"
   },
   {
    "duration": 25,
    "start_time": "2021-12-17T16:57:41.435Z"
   },
   {
    "duration": 12,
    "start_time": "2021-12-17T17:00:38.753Z"
   },
   {
    "duration": 16,
    "start_time": "2021-12-17T17:00:43.647Z"
   },
   {
    "duration": 278,
    "start_time": "2021-12-17T17:03:31.904Z"
   },
   {
    "duration": 294,
    "start_time": "2021-12-17T17:04:41.318Z"
   },
   {
    "duration": 290,
    "start_time": "2021-12-17T17:05:18.917Z"
   },
   {
    "duration": 289,
    "start_time": "2021-12-17T17:05:29.169Z"
   },
   {
    "duration": 18,
    "start_time": "2021-12-17T17:06:04.706Z"
   },
   {
    "duration": 13,
    "start_time": "2021-12-17T17:06:49.796Z"
   },
   {
    "duration": 22,
    "start_time": "2021-12-17T17:06:53.877Z"
   },
   {
    "duration": 13,
    "start_time": "2021-12-17T17:07:14.793Z"
   },
   {
    "duration": 19,
    "start_time": "2021-12-17T17:07:38.991Z"
   },
   {
    "duration": 221,
    "start_time": "2021-12-17T17:07:51.144Z"
   },
   {
    "duration": 18,
    "start_time": "2021-12-17T17:08:07.651Z"
   },
   {
    "duration": 245,
    "start_time": "2021-12-17T17:08:15.829Z"
   },
   {
    "duration": 356,
    "start_time": "2021-12-17T17:08:38.573Z"
   },
   {
    "duration": 176,
    "start_time": "2021-12-17T17:12:27.482Z"
   },
   {
    "duration": 378,
    "start_time": "2021-12-17T17:13:09.572Z"
   },
   {
    "duration": 359,
    "start_time": "2021-12-17T17:15:29.754Z"
   },
   {
    "duration": 365,
    "start_time": "2021-12-17T17:15:35.418Z"
   },
   {
    "duration": 15,
    "start_time": "2021-12-17T17:16:11.419Z"
   },
   {
    "duration": 421,
    "start_time": "2021-12-17T17:16:19.455Z"
   },
   {
    "duration": 18,
    "start_time": "2021-12-17T17:17:44.664Z"
   },
   {
    "duration": 377,
    "start_time": "2021-12-17T17:18:31.232Z"
   },
   {
    "duration": 354,
    "start_time": "2021-12-17T17:18:39.800Z"
   },
   {
    "duration": 323,
    "start_time": "2021-12-17T17:18:44.475Z"
   },
   {
    "duration": 347,
    "start_time": "2021-12-17T17:23:16.787Z"
   },
   {
    "duration": 430,
    "start_time": "2021-12-17T17:24:55.590Z"
   },
   {
    "duration": 355,
    "start_time": "2021-12-17T17:25:04.574Z"
   },
   {
    "duration": 573,
    "start_time": "2021-12-17T17:34:21.315Z"
   },
   {
    "duration": 84,
    "start_time": "2021-12-17T17:34:32.210Z"
   },
   {
    "duration": 178,
    "start_time": "2021-12-17T17:34:40.509Z"
   },
   {
    "duration": 194,
    "start_time": "2021-12-17T17:35:06.450Z"
   },
   {
    "duration": 229,
    "start_time": "2021-12-17T17:35:35.436Z"
   },
   {
    "duration": 228,
    "start_time": "2021-12-17T17:35:47.650Z"
   },
   {
    "duration": 233,
    "start_time": "2021-12-17T17:36:11.548Z"
   },
   {
    "duration": 327,
    "start_time": "2021-12-17T17:36:50.859Z"
   },
   {
    "duration": 5,
    "start_time": "2021-12-17T17:37:33.406Z"
   },
   {
    "duration": 4,
    "start_time": "2021-12-17T17:44:00.527Z"
   },
   {
    "duration": 341,
    "start_time": "2021-12-17T17:44:00.533Z"
   },
   {
    "duration": 6,
    "start_time": "2021-12-17T17:44:00.876Z"
   },
   {
    "duration": 26,
    "start_time": "2021-12-17T17:44:00.884Z"
   },
   {
    "duration": 8,
    "start_time": "2021-12-17T17:44:00.911Z"
   },
   {
    "duration": 15,
    "start_time": "2021-12-17T17:44:00.920Z"
   },
   {
    "duration": 9,
    "start_time": "2021-12-17T17:44:00.937Z"
   },
   {
    "duration": 8,
    "start_time": "2021-12-17T17:44:00.948Z"
   },
   {
    "duration": 12,
    "start_time": "2021-12-17T17:44:00.958Z"
   },
   {
    "duration": 6,
    "start_time": "2021-12-17T17:44:00.971Z"
   },
   {
    "duration": 10,
    "start_time": "2021-12-17T17:44:00.978Z"
   },
   {
    "duration": 27,
    "start_time": "2021-12-17T17:44:00.990Z"
   },
   {
    "duration": 8,
    "start_time": "2021-12-17T17:44:01.019Z"
   },
   {
    "duration": 40,
    "start_time": "2021-12-17T17:44:01.028Z"
   },
   {
    "duration": 95,
    "start_time": "2021-12-17T17:44:01.070Z"
   },
   {
    "duration": 19,
    "start_time": "2021-12-17T17:44:01.167Z"
   },
   {
    "duration": 21,
    "start_time": "2021-12-17T17:44:01.188Z"
   },
   {
    "duration": 13,
    "start_time": "2021-12-17T17:44:01.211Z"
   },
   {
    "duration": 8,
    "start_time": "2021-12-17T17:44:01.226Z"
   },
   {
    "duration": 15,
    "start_time": "2021-12-17T17:44:01.235Z"
   },
   {
    "duration": 74,
    "start_time": "2021-12-17T17:44:01.251Z"
   },
   {
    "duration": 11,
    "start_time": "2021-12-17T17:44:01.327Z"
   },
   {
    "duration": 14,
    "start_time": "2021-12-17T17:44:01.341Z"
   },
   {
    "duration": 13,
    "start_time": "2021-12-17T17:44:01.357Z"
   },
   {
    "duration": 38,
    "start_time": "2021-12-17T17:44:01.372Z"
   },
   {
    "duration": 69,
    "start_time": "2021-12-17T17:44:01.412Z"
   },
   {
    "duration": 25,
    "start_time": "2021-12-17T17:44:01.483Z"
   },
   {
    "duration": 8,
    "start_time": "2021-12-17T17:44:01.510Z"
   },
   {
    "duration": 10,
    "start_time": "2021-12-17T17:44:01.520Z"
   },
   {
    "duration": 74,
    "start_time": "2021-12-17T17:44:01.532Z"
   },
   {
    "duration": 38,
    "start_time": "2021-12-17T17:44:01.608Z"
   },
   {
    "duration": 34,
    "start_time": "2021-12-17T17:44:01.648Z"
   },
   {
    "duration": 54,
    "start_time": "2021-12-17T17:44:01.684Z"
   },
   {
    "duration": 27,
    "start_time": "2021-12-17T17:44:01.740Z"
   },
   {
    "duration": 45,
    "start_time": "2021-12-17T17:44:01.769Z"
   },
   {
    "duration": 26,
    "start_time": "2021-12-17T17:44:01.816Z"
   },
   {
    "duration": 8,
    "start_time": "2021-12-17T17:44:01.844Z"
   },
   {
    "duration": 6,
    "start_time": "2021-12-17T17:44:01.854Z"
   },
   {
    "duration": 7,
    "start_time": "2021-12-17T17:44:01.862Z"
   },
   {
    "duration": 140,
    "start_time": "2021-12-17T17:44:01.871Z"
   },
   {
    "duration": 25,
    "start_time": "2021-12-17T17:44:02.013Z"
   },
   {
    "duration": 18,
    "start_time": "2021-12-17T17:44:02.040Z"
   },
   {
    "duration": 362,
    "start_time": "2021-12-17T17:44:09.034Z"
   },
   {
    "duration": 344,
    "start_time": "2021-12-17T17:44:26.484Z"
   },
   {
    "duration": 243,
    "start_time": "2021-12-17T17:46:36.539Z"
   },
   {
    "duration": 111,
    "start_time": "2021-12-17T17:48:30.885Z"
   },
   {
    "duration": 255,
    "start_time": "2021-12-17T17:48:36.195Z"
   },
   {
    "duration": 248,
    "start_time": "2021-12-17T17:49:04.427Z"
   },
   {
    "duration": 225,
    "start_time": "2021-12-17T17:50:34.135Z"
   },
   {
    "duration": 253,
    "start_time": "2021-12-17T17:50:40.120Z"
   },
   {
    "duration": 341,
    "start_time": "2021-12-17T17:50:56.432Z"
   },
   {
    "duration": 232,
    "start_time": "2021-12-17T17:51:02.184Z"
   },
   {
    "duration": 249,
    "start_time": "2021-12-17T17:51:09.743Z"
   },
   {
    "duration": 223,
    "start_time": "2021-12-17T17:54:29.754Z"
   },
   {
    "duration": 262,
    "start_time": "2021-12-17T17:56:49.411Z"
   },
   {
    "duration": 232,
    "start_time": "2021-12-17T18:00:00.421Z"
   },
   {
    "duration": 239,
    "start_time": "2021-12-17T18:01:48.287Z"
   },
   {
    "duration": 264,
    "start_time": "2021-12-17T18:02:03.504Z"
   },
   {
    "duration": 244,
    "start_time": "2021-12-17T18:02:25.611Z"
   },
   {
    "duration": 245,
    "start_time": "2021-12-17T18:03:28.668Z"
   },
   {
    "duration": 266,
    "start_time": "2021-12-17T18:04:46.330Z"
   },
   {
    "duration": 389,
    "start_time": "2021-12-17T18:05:54.096Z"
   },
   {
    "duration": 276,
    "start_time": "2021-12-17T18:06:22.335Z"
   },
   {
    "duration": 416,
    "start_time": "2021-12-17T18:20:26.709Z"
   },
   {
    "duration": 407,
    "start_time": "2021-12-17T18:20:32.356Z"
   },
   {
    "duration": 384,
    "start_time": "2021-12-17T18:21:36.835Z"
   },
   {
    "duration": 375,
    "start_time": "2021-12-17T18:23:08.559Z"
   },
   {
    "duration": 333,
    "start_time": "2021-12-17T18:23:38.887Z"
   },
   {
    "duration": 289,
    "start_time": "2021-12-17T18:24:43.892Z"
   },
   {
    "duration": 421,
    "start_time": "2021-12-17T18:25:18.912Z"
   },
   {
    "duration": 174,
    "start_time": "2021-12-17T18:25:59.620Z"
   },
   {
    "duration": 354,
    "start_time": "2021-12-17T18:29:59.080Z"
   },
   {
    "duration": 196,
    "start_time": "2021-12-17T18:30:09.445Z"
   },
   {
    "duration": 379,
    "start_time": "2021-12-17T18:30:39.673Z"
   },
   {
    "duration": 361,
    "start_time": "2021-12-17T18:30:52.562Z"
   },
   {
    "duration": 628,
    "start_time": "2021-12-17T18:31:53.105Z"
   },
   {
    "duration": 373,
    "start_time": "2021-12-17T18:32:51.677Z"
   },
   {
    "duration": 379,
    "start_time": "2021-12-17T18:32:59.275Z"
   },
   {
    "duration": 446,
    "start_time": "2021-12-17T18:33:10.546Z"
   },
   {
    "duration": 556,
    "start_time": "2021-12-17T18:35:46.883Z"
   },
   {
    "duration": 452,
    "start_time": "2021-12-17T18:36:03.985Z"
   },
   {
    "duration": 552,
    "start_time": "2021-12-17T18:36:32.554Z"
   },
   {
    "duration": 462,
    "start_time": "2021-12-17T18:37:26.879Z"
   },
   {
    "duration": 462,
    "start_time": "2021-12-17T18:37:38.975Z"
   },
   {
    "duration": 3,
    "start_time": "2021-12-17T18:49:23.313Z"
   },
   {
    "duration": 5,
    "start_time": "2021-12-17T18:49:27.299Z"
   },
   {
    "duration": 6,
    "start_time": "2021-12-17T18:50:12.279Z"
   },
   {
    "duration": 5,
    "start_time": "2021-12-17T18:50:22.897Z"
   },
   {
    "duration": 5,
    "start_time": "2021-12-17T18:51:13.036Z"
   },
   {
    "duration": 5,
    "start_time": "2021-12-17T18:51:41.362Z"
   },
   {
    "duration": 5,
    "start_time": "2021-12-17T18:52:16.738Z"
   },
   {
    "duration": 7,
    "start_time": "2021-12-17T18:52:29.924Z"
   },
   {
    "duration": 7,
    "start_time": "2021-12-17T18:53:51.489Z"
   },
   {
    "duration": 133,
    "start_time": "2021-12-17T18:55:03.354Z"
   },
   {
    "duration": 139,
    "start_time": "2021-12-17T18:56:48.072Z"
   },
   {
    "duration": 166,
    "start_time": "2021-12-17T18:57:32.267Z"
   },
   {
    "duration": 143,
    "start_time": "2021-12-17T18:57:54.901Z"
   },
   {
    "duration": 138,
    "start_time": "2021-12-17T18:58:00.077Z"
   },
   {
    "duration": 4,
    "start_time": "2021-12-17T19:43:56.056Z"
   },
   {
    "duration": 340,
    "start_time": "2021-12-17T19:43:56.063Z"
   },
   {
    "duration": 7,
    "start_time": "2021-12-17T19:43:56.404Z"
   },
   {
    "duration": 13,
    "start_time": "2021-12-17T19:43:56.413Z"
   },
   {
    "duration": 6,
    "start_time": "2021-12-17T19:43:56.428Z"
   },
   {
    "duration": 11,
    "start_time": "2021-12-17T19:43:56.436Z"
   },
   {
    "duration": 7,
    "start_time": "2021-12-17T19:43:56.448Z"
   },
   {
    "duration": 9,
    "start_time": "2021-12-17T19:43:56.456Z"
   },
   {
    "duration": 8,
    "start_time": "2021-12-17T19:43:56.467Z"
   },
   {
    "duration": 4,
    "start_time": "2021-12-17T19:43:56.506Z"
   },
   {
    "duration": 7,
    "start_time": "2021-12-17T19:43:56.512Z"
   },
   {
    "duration": 18,
    "start_time": "2021-12-17T19:43:56.520Z"
   },
   {
    "duration": 8,
    "start_time": "2021-12-17T19:43:56.539Z"
   },
   {
    "duration": 15,
    "start_time": "2021-12-17T19:43:56.548Z"
   },
   {
    "duration": 111,
    "start_time": "2021-12-17T19:43:56.565Z"
   },
   {
    "duration": 16,
    "start_time": "2021-12-17T19:43:56.678Z"
   },
   {
    "duration": 3,
    "start_time": "2021-12-17T19:43:56.707Z"
   },
   {
    "duration": 12,
    "start_time": "2021-12-17T19:43:56.712Z"
   },
   {
    "duration": 8,
    "start_time": "2021-12-17T19:43:56.726Z"
   },
   {
    "duration": 12,
    "start_time": "2021-12-17T19:43:56.736Z"
   },
   {
    "duration": 73,
    "start_time": "2021-12-17T19:43:56.749Z"
   },
   {
    "duration": 11,
    "start_time": "2021-12-17T19:43:56.824Z"
   },
   {
    "duration": 14,
    "start_time": "2021-12-17T19:43:56.837Z"
   },
   {
    "duration": 8,
    "start_time": "2021-12-17T19:43:56.853Z"
   },
   {
    "duration": 43,
    "start_time": "2021-12-17T19:43:56.863Z"
   },
   {
    "duration": 71,
    "start_time": "2021-12-17T19:43:56.908Z"
   },
   {
    "duration": 26,
    "start_time": "2021-12-17T19:43:56.981Z"
   },
   {
    "duration": 8,
    "start_time": "2021-12-17T19:43:57.010Z"
   },
   {
    "duration": 8,
    "start_time": "2021-12-17T19:43:57.020Z"
   },
   {
    "duration": 51,
    "start_time": "2021-12-17T19:43:57.030Z"
   },
   {
    "duration": 56,
    "start_time": "2021-12-17T19:43:57.082Z"
   },
   {
    "duration": 33,
    "start_time": "2021-12-17T19:43:57.140Z"
   },
   {
    "duration": 54,
    "start_time": "2021-12-17T19:43:57.175Z"
   },
   {
    "duration": 28,
    "start_time": "2021-12-17T19:43:57.230Z"
   },
   {
    "duration": 48,
    "start_time": "2021-12-17T19:43:57.260Z"
   },
   {
    "duration": 26,
    "start_time": "2021-12-17T19:43:57.311Z"
   },
   {
    "duration": 7,
    "start_time": "2021-12-17T19:43:57.339Z"
   },
   {
    "duration": 7,
    "start_time": "2021-12-17T19:43:57.350Z"
   },
   {
    "duration": 8,
    "start_time": "2021-12-17T19:43:57.359Z"
   },
   {
    "duration": 137,
    "start_time": "2021-12-17T19:43:57.369Z"
   },
   {
    "duration": 23,
    "start_time": "2021-12-17T19:43:57.508Z"
   },
   {
    "duration": 17,
    "start_time": "2021-12-17T19:43:57.533Z"
   },
   {
    "duration": 276,
    "start_time": "2021-12-17T19:43:57.552Z"
   },
   {
    "duration": 463,
    "start_time": "2021-12-17T19:43:57.830Z"
   },
   {
    "duration": 11,
    "start_time": "2021-12-17T19:43:58.295Z"
   },
   {
    "duration": 160,
    "start_time": "2021-12-17T19:43:58.307Z"
   },
   {
    "duration": 161,
    "start_time": "2021-12-17T19:43:58.469Z"
   },
   {
    "duration": 2,
    "start_time": "2021-12-17T19:43:58.632Z"
   },
   {
    "duration": 4,
    "start_time": "2021-12-17T19:43:58.636Z"
   },
   {
    "duration": 4,
    "start_time": "2021-12-17T19:43:58.642Z"
   },
   {
    "duration": 5,
    "start_time": "2021-12-17T19:43:58.647Z"
   },
   {
    "duration": 18,
    "start_time": "2021-12-17T19:54:03.151Z"
   },
   {
    "duration": 274,
    "start_time": "2021-12-17T19:54:04.651Z"
   },
   {
    "duration": 4,
    "start_time": "2021-12-17T20:50:08.999Z"
   },
   {
    "duration": 303,
    "start_time": "2021-12-17T20:50:09.006Z"
   },
   {
    "duration": 6,
    "start_time": "2021-12-17T20:50:09.311Z"
   },
   {
    "duration": 9,
    "start_time": "2021-12-17T20:50:09.319Z"
   },
   {
    "duration": 8,
    "start_time": "2021-12-17T20:50:09.330Z"
   },
   {
    "duration": 11,
    "start_time": "2021-12-17T20:50:09.339Z"
   },
   {
    "duration": 6,
    "start_time": "2021-12-17T20:50:09.351Z"
   },
   {
    "duration": 9,
    "start_time": "2021-12-17T20:50:09.359Z"
   },
   {
    "duration": 40,
    "start_time": "2021-12-17T20:50:09.370Z"
   },
   {
    "duration": 4,
    "start_time": "2021-12-17T20:50:09.414Z"
   },
   {
    "duration": 8,
    "start_time": "2021-12-17T20:50:09.421Z"
   },
   {
    "duration": 20,
    "start_time": "2021-12-17T20:50:09.430Z"
   },
   {
    "duration": 10,
    "start_time": "2021-12-17T20:50:09.452Z"
   },
   {
    "duration": 52,
    "start_time": "2021-12-17T20:50:09.463Z"
   },
   {
    "duration": 104,
    "start_time": "2021-12-17T20:50:09.517Z"
   },
   {
    "duration": 17,
    "start_time": "2021-12-17T20:50:09.623Z"
   },
   {
    "duration": 4,
    "start_time": "2021-12-17T20:50:09.642Z"
   },
   {
    "duration": 16,
    "start_time": "2021-12-17T20:50:09.647Z"
   },
   {
    "duration": 8,
    "start_time": "2021-12-17T20:50:09.665Z"
   },
   {
    "duration": 37,
    "start_time": "2021-12-17T20:50:09.675Z"
   },
   {
    "duration": 54,
    "start_time": "2021-12-17T20:50:09.714Z"
   },
   {
    "duration": 11,
    "start_time": "2021-12-17T20:50:09.770Z"
   },
   {
    "duration": 31,
    "start_time": "2021-12-17T20:50:09.783Z"
   },
   {
    "duration": 10,
    "start_time": "2021-12-17T20:50:09.815Z"
   },
   {
    "duration": 23,
    "start_time": "2021-12-17T20:50:09.827Z"
   },
   {
    "duration": 86,
    "start_time": "2021-12-17T20:50:09.852Z"
   },
   {
    "duration": 14,
    "start_time": "2021-12-17T20:50:09.940Z"
   },
   {
    "duration": 9,
    "start_time": "2021-12-17T20:50:09.957Z"
   },
   {
    "duration": 8,
    "start_time": "2021-12-17T20:50:09.968Z"
   },
   {
    "duration": 80,
    "start_time": "2021-12-17T20:50:09.978Z"
   },
   {
    "duration": 54,
    "start_time": "2021-12-17T20:50:10.060Z"
   },
   {
    "duration": 36,
    "start_time": "2021-12-17T20:50:10.115Z"
   },
   {
    "duration": 57,
    "start_time": "2021-12-17T20:50:10.153Z"
   },
   {
    "duration": 29,
    "start_time": "2021-12-17T20:50:10.212Z"
   },
   {
    "duration": 30,
    "start_time": "2021-12-17T20:50:10.243Z"
   },
   {
    "duration": 51,
    "start_time": "2021-12-17T20:50:10.275Z"
   },
   {
    "duration": 7,
    "start_time": "2021-12-17T20:50:10.328Z"
   },
   {
    "duration": 6,
    "start_time": "2021-12-17T20:50:10.337Z"
   },
   {
    "duration": 7,
    "start_time": "2021-12-17T20:50:10.345Z"
   },
   {
    "duration": 132,
    "start_time": "2021-12-17T20:50:10.354Z"
   },
   {
    "duration": 34,
    "start_time": "2021-12-17T20:50:10.487Z"
   },
   {
    "duration": 17,
    "start_time": "2021-12-17T20:50:10.522Z"
   },
   {
    "duration": 277,
    "start_time": "2021-12-17T20:50:10.541Z"
   },
   {
    "duration": 598,
    "start_time": "2021-12-17T20:50:10.820Z"
   },
   {
    "duration": 7,
    "start_time": "2021-12-17T20:50:11.420Z"
   },
   {
    "duration": 284,
    "start_time": "2021-12-17T20:50:11.429Z"
   },
   {
    "duration": 164,
    "start_time": "2021-12-17T20:50:11.714Z"
   },
   {
    "duration": 2,
    "start_time": "2021-12-17T20:50:11.879Z"
   },
   {
    "duration": 12,
    "start_time": "2021-12-17T20:50:11.883Z"
   },
   {
    "duration": 11,
    "start_time": "2021-12-17T20:50:11.897Z"
   },
   {
    "duration": 8,
    "start_time": "2021-12-17T20:50:11.910Z"
   },
   {
    "duration": 16,
    "start_time": "2021-12-17T20:53:56.005Z"
   },
   {
    "duration": 28,
    "start_time": "2021-12-17T20:54:28.802Z"
   },
   {
    "duration": 16,
    "start_time": "2021-12-17T20:55:14.702Z"
   },
   {
    "duration": 280,
    "start_time": "2021-12-17T20:58:10.941Z"
   },
   {
    "duration": 442,
    "start_time": "2021-12-17T21:03:26.556Z"
   },
   {
    "duration": 431,
    "start_time": "2021-12-17T21:04:32.821Z"
   },
   {
    "duration": 139,
    "start_time": "2021-12-17T21:11:23.242Z"
   },
   {
    "duration": 145,
    "start_time": "2021-12-17T21:11:24.805Z"
   },
   {
    "duration": 132,
    "start_time": "2021-12-17T21:11:50.478Z"
   },
   {
    "duration": 134,
    "start_time": "2021-12-17T21:11:52.860Z"
   },
   {
    "duration": 138,
    "start_time": "2021-12-17T21:15:34.866Z"
   },
   {
    "duration": 542,
    "start_time": "2021-12-17T21:20:18.734Z"
   },
   {
    "duration": 577,
    "start_time": "2021-12-17T21:20:24.185Z"
   },
   {
    "duration": 18,
    "start_time": "2021-12-17T21:45:27.240Z"
   },
   {
    "duration": 267,
    "start_time": "2021-12-17T21:47:03.641Z"
   },
   {
    "duration": 424,
    "start_time": "2021-12-17T21:51:28.940Z"
   },
   {
    "duration": 451,
    "start_time": "2021-12-17T21:56:21.224Z"
   },
   {
    "duration": 141,
    "start_time": "2021-12-17T21:56:32.099Z"
   },
   {
    "duration": 133,
    "start_time": "2021-12-17T21:56:35.212Z"
   },
   {
    "duration": 131,
    "start_time": "2021-12-17T21:59:42.950Z"
   },
   {
    "duration": 17,
    "start_time": "2021-12-17T22:05:54.399Z"
   },
   {
    "duration": 265,
    "start_time": "2021-12-17T22:08:34.337Z"
   },
   {
    "duration": 457,
    "start_time": "2021-12-17T22:17:50.387Z"
   },
   {
    "duration": 3,
    "start_time": "2021-12-17T22:29:52.827Z"
   },
   {
    "duration": 294,
    "start_time": "2021-12-17T22:29:52.833Z"
   },
   {
    "duration": 6,
    "start_time": "2021-12-17T22:29:53.129Z"
   },
   {
    "duration": 10,
    "start_time": "2021-12-17T22:29:53.137Z"
   },
   {
    "duration": 6,
    "start_time": "2021-12-17T22:29:53.149Z"
   },
   {
    "duration": 17,
    "start_time": "2021-12-17T22:29:53.157Z"
   },
   {
    "duration": 7,
    "start_time": "2021-12-17T22:29:53.175Z"
   },
   {
    "duration": 28,
    "start_time": "2021-12-17T22:29:53.184Z"
   },
   {
    "duration": 7,
    "start_time": "2021-12-17T22:29:53.214Z"
   },
   {
    "duration": 4,
    "start_time": "2021-12-17T22:29:53.386Z"
   },
   {
    "duration": 19,
    "start_time": "2021-12-17T22:29:53.392Z"
   },
   {
    "duration": 17,
    "start_time": "2021-12-17T22:29:53.413Z"
   },
   {
    "duration": 8,
    "start_time": "2021-12-17T22:29:53.432Z"
   },
   {
    "duration": 16,
    "start_time": "2021-12-17T22:29:53.442Z"
   },
   {
    "duration": 106,
    "start_time": "2021-12-17T22:29:53.460Z"
   },
   {
    "duration": 16,
    "start_time": "2021-12-17T22:29:53.568Z"
   },
   {
    "duration": 4,
    "start_time": "2021-12-17T22:29:53.585Z"
   },
   {
    "duration": 25,
    "start_time": "2021-12-17T22:29:53.590Z"
   },
   {
    "duration": 7,
    "start_time": "2021-12-17T22:29:53.617Z"
   },
   {
    "duration": 13,
    "start_time": "2021-12-17T22:29:53.625Z"
   },
   {
    "duration": 72,
    "start_time": "2021-12-17T22:29:53.639Z"
   },
   {
    "duration": 10,
    "start_time": "2021-12-17T22:29:53.713Z"
   },
   {
    "duration": 13,
    "start_time": "2021-12-17T22:29:53.724Z"
   },
   {
    "duration": 15,
    "start_time": "2021-12-17T22:29:53.738Z"
   },
   {
    "duration": 13,
    "start_time": "2021-12-17T22:29:53.754Z"
   },
   {
    "duration": 87,
    "start_time": "2021-12-17T22:29:53.769Z"
   },
   {
    "duration": 13,
    "start_time": "2021-12-17T22:29:53.857Z"
   },
   {
    "duration": 7,
    "start_time": "2021-12-17T22:29:53.874Z"
   },
   {
    "duration": 25,
    "start_time": "2021-12-17T22:29:53.883Z"
   },
   {
    "duration": 51,
    "start_time": "2021-12-17T22:29:53.909Z"
   },
   {
    "duration": 55,
    "start_time": "2021-12-17T22:29:53.961Z"
   },
   {
    "duration": 32,
    "start_time": "2021-12-17T22:29:54.018Z"
   },
   {
    "duration": 37,
    "start_time": "2021-12-17T22:29:54.052Z"
   },
   {
    "duration": 39,
    "start_time": "2021-12-17T22:29:54.091Z"
   },
   {
    "duration": 28,
    "start_time": "2021-12-17T22:29:54.132Z"
   },
   {
    "duration": 47,
    "start_time": "2021-12-17T22:29:54.161Z"
   },
   {
    "duration": 8,
    "start_time": "2021-12-17T22:29:54.209Z"
   },
   {
    "duration": 7,
    "start_time": "2021-12-17T22:29:54.218Z"
   },
   {
    "duration": 8,
    "start_time": "2021-12-17T22:29:54.226Z"
   },
   {
    "duration": 123,
    "start_time": "2021-12-17T22:29:54.236Z"
   },
   {
    "duration": 23,
    "start_time": "2021-12-17T22:29:54.360Z"
   },
   {
    "duration": 32,
    "start_time": "2021-12-17T22:29:54.385Z"
   },
   {
    "duration": 260,
    "start_time": "2021-12-17T22:29:54.419Z"
   },
   {
    "duration": 457,
    "start_time": "2021-12-17T22:29:54.681Z"
   },
   {
    "duration": 7,
    "start_time": "2021-12-17T22:29:55.140Z"
   },
   {
    "duration": 148,
    "start_time": "2021-12-17T22:29:55.148Z"
   },
   {
    "duration": 146,
    "start_time": "2021-12-17T22:29:55.298Z"
   },
   {
    "duration": 17,
    "start_time": "2021-12-17T22:29:55.445Z"
   },
   {
    "duration": 274,
    "start_time": "2021-12-17T22:29:55.464Z"
   },
   {
    "duration": 500,
    "start_time": "2021-12-17T22:29:55.740Z"
   },
   {
    "duration": 152,
    "start_time": "2021-12-17T22:29:56.242Z"
   },
   {
    "duration": 145,
    "start_time": "2021-12-17T22:29:56.396Z"
   },
   {
    "duration": 17,
    "start_time": "2021-12-17T22:29:56.543Z"
   },
   {
    "duration": 280,
    "start_time": "2021-12-17T22:29:56.562Z"
   },
   {
    "duration": 588,
    "start_time": "2021-12-17T22:29:56.844Z"
   },
   {
    "duration": 159,
    "start_time": "2021-12-17T22:29:57.434Z"
   },
   {
    "duration": 142,
    "start_time": "2021-12-17T22:29:57.594Z"
   },
   {
    "duration": 18,
    "start_time": "2021-12-17T22:29:57.738Z"
   },
   {
    "duration": 284,
    "start_time": "2021-12-17T22:29:57.757Z"
   },
   {
    "duration": 482,
    "start_time": "2021-12-17T22:29:58.043Z"
   },
   {
    "duration": 161,
    "start_time": "2021-12-17T22:29:58.527Z"
   },
   {
    "duration": 146,
    "start_time": "2021-12-17T22:29:58.690Z"
   },
   {
    "duration": 2,
    "start_time": "2021-12-17T22:29:58.838Z"
   },
   {
    "duration": 4,
    "start_time": "2021-12-17T22:29:58.842Z"
   },
   {
    "duration": 143,
    "start_time": "2021-12-17T22:33:50.093Z"
   },
   {
    "duration": 138,
    "start_time": "2021-12-17T22:36:27.022Z"
   },
   {
    "duration": 4,
    "start_time": "2021-12-17T22:47:36.468Z"
   },
   {
    "duration": 5,
    "start_time": "2021-12-17T22:47:42.972Z"
   },
   {
    "duration": 4,
    "start_time": "2021-12-17T22:48:20.613Z"
   },
   {
    "duration": 335,
    "start_time": "2021-12-17T22:50:04.244Z"
   },
   {
    "duration": 4,
    "start_time": "2021-12-17T22:50:07.144Z"
   },
   {
    "duration": 4,
    "start_time": "2021-12-17T22:50:07.515Z"
   },
   {
    "duration": 1423,
    "start_time": "2021-12-18T15:10:14.814Z"
   },
   {
    "duration": 993,
    "start_time": "2021-12-18T15:10:16.240Z"
   },
   {
    "duration": 10,
    "start_time": "2021-12-18T15:10:17.235Z"
   },
   {
    "duration": 28,
    "start_time": "2021-12-18T15:10:17.247Z"
   },
   {
    "duration": 8,
    "start_time": "2021-12-18T15:10:17.278Z"
   },
   {
    "duration": 15,
    "start_time": "2021-12-18T15:10:17.288Z"
   },
   {
    "duration": 13,
    "start_time": "2021-12-18T15:10:17.305Z"
   },
   {
    "duration": 43,
    "start_time": "2021-12-18T15:10:17.322Z"
   },
   {
    "duration": 11,
    "start_time": "2021-12-18T15:10:17.368Z"
   },
   {
    "duration": 5,
    "start_time": "2021-12-18T15:10:17.381Z"
   },
   {
    "duration": 8,
    "start_time": "2021-12-18T15:10:17.388Z"
   },
   {
    "duration": 21,
    "start_time": "2021-12-18T15:10:17.399Z"
   },
   {
    "duration": 12,
    "start_time": "2021-12-18T15:10:17.463Z"
   },
   {
    "duration": 22,
    "start_time": "2021-12-18T15:10:17.477Z"
   },
   {
    "duration": 182,
    "start_time": "2021-12-18T15:10:17.502Z"
   },
   {
    "duration": 24,
    "start_time": "2021-12-18T15:10:17.686Z"
   },
   {
    "duration": 5,
    "start_time": "2021-12-18T15:10:17.713Z"
   },
   {
    "duration": 43,
    "start_time": "2021-12-18T15:10:17.720Z"
   },
   {
    "duration": 10,
    "start_time": "2021-12-18T15:10:17.765Z"
   },
   {
    "duration": 15,
    "start_time": "2021-12-18T15:10:17.777Z"
   },
   {
    "duration": 111,
    "start_time": "2021-12-18T15:10:17.795Z"
   },
   {
    "duration": 14,
    "start_time": "2021-12-18T15:10:17.909Z"
   },
   {
    "duration": 38,
    "start_time": "2021-12-18T15:10:17.929Z"
   },
   {
    "duration": 11,
    "start_time": "2021-12-18T15:10:17.971Z"
   },
   {
    "duration": 19,
    "start_time": "2021-12-18T15:10:17.985Z"
   },
   {
    "duration": 142,
    "start_time": "2021-12-18T15:10:18.006Z"
   },
   {
    "duration": 27,
    "start_time": "2021-12-18T15:10:18.150Z"
   },
   {
    "duration": 12,
    "start_time": "2021-12-18T15:10:18.179Z"
   },
   {
    "duration": 13,
    "start_time": "2021-12-18T15:10:18.193Z"
   },
   {
    "duration": 109,
    "start_time": "2021-12-18T15:10:18.208Z"
   },
   {
    "duration": 68,
    "start_time": "2021-12-18T15:10:18.319Z"
   },
   {
    "duration": 49,
    "start_time": "2021-12-18T15:10:18.389Z"
   },
   {
    "duration": 68,
    "start_time": "2021-12-18T15:10:18.441Z"
   },
   {
    "duration": 65,
    "start_time": "2021-12-18T15:10:18.511Z"
   },
   {
    "duration": 47,
    "start_time": "2021-12-18T15:10:18.579Z"
   },
   {
    "duration": 55,
    "start_time": "2021-12-18T15:10:18.629Z"
   },
   {
    "duration": 11,
    "start_time": "2021-12-18T15:10:18.686Z"
   },
   {
    "duration": 8,
    "start_time": "2021-12-18T15:10:18.699Z"
   },
   {
    "duration": 9,
    "start_time": "2021-12-18T15:10:18.710Z"
   },
   {
    "duration": 212,
    "start_time": "2021-12-18T15:10:18.721Z"
   },
   {
    "duration": 44,
    "start_time": "2021-12-18T15:10:18.935Z"
   },
   {
    "duration": 29,
    "start_time": "2021-12-18T15:10:18.981Z"
   },
   {
    "duration": 613,
    "start_time": "2021-12-18T15:10:19.013Z"
   },
   {
    "duration": 782,
    "start_time": "2021-12-18T15:10:19.628Z"
   },
   {
    "duration": 10,
    "start_time": "2021-12-18T15:10:20.412Z"
   },
   {
    "duration": 265,
    "start_time": "2021-12-18T15:10:20.424Z"
   },
   {
    "duration": 251,
    "start_time": "2021-12-18T15:10:20.692Z"
   },
   {
    "duration": 38,
    "start_time": "2021-12-18T15:10:20.946Z"
   },
   {
    "duration": 451,
    "start_time": "2021-12-18T15:10:20.987Z"
   },
   {
    "duration": 905,
    "start_time": "2021-12-18T15:10:21.440Z"
   },
   {
    "duration": 239,
    "start_time": "2021-12-18T15:10:22.347Z"
   },
   {
    "duration": 243,
    "start_time": "2021-12-18T15:10:22.588Z"
   },
   {
    "duration": 41,
    "start_time": "2021-12-18T15:10:22.834Z"
   },
   {
    "duration": 474,
    "start_time": "2021-12-18T15:10:22.877Z"
   },
   {
    "duration": 761,
    "start_time": "2021-12-18T15:10:23.354Z"
   },
   {
    "duration": 262,
    "start_time": "2021-12-18T15:10:24.119Z"
   },
   {
    "duration": 342,
    "start_time": "2021-12-18T15:10:24.385Z"
   },
   {
    "duration": 46,
    "start_time": "2021-12-18T15:10:24.729Z"
   },
   {
    "duration": 511,
    "start_time": "2021-12-18T15:10:24.778Z"
   },
   {
    "duration": 875,
    "start_time": "2021-12-18T15:10:25.292Z"
   },
   {
    "duration": 250,
    "start_time": "2021-12-18T15:10:26.169Z"
   },
   {
    "duration": 246,
    "start_time": "2021-12-18T15:10:26.421Z"
   },
   {
    "duration": 6,
    "start_time": "2021-12-18T15:10:26.670Z"
   },
   {
    "duration": 8,
    "start_time": "2021-12-18T15:10:26.678Z"
   },
   {
    "duration": 3,
    "start_time": "2021-12-18T15:10:26.688Z"
   },
   {
    "duration": 11,
    "start_time": "2021-12-18T15:13:24.264Z"
   },
   {
    "duration": 38,
    "start_time": "2021-12-18T15:13:32.344Z"
   },
   {
    "duration": 7,
    "start_time": "2021-12-18T15:14:06.182Z"
   },
   {
    "duration": 41,
    "start_time": "2021-12-18T15:14:09.320Z"
   },
   {
    "duration": 8,
    "start_time": "2021-12-18T15:15:07.982Z"
   },
   {
    "duration": 38,
    "start_time": "2021-12-18T15:15:10.260Z"
   },
   {
    "duration": 34,
    "start_time": "2021-12-18T15:15:27.878Z"
   },
   {
    "duration": 41,
    "start_time": "2021-12-18T15:15:54.207Z"
   },
   {
    "duration": 5,
    "start_time": "2021-12-18T15:22:37.724Z"
   },
   {
    "duration": 371,
    "start_time": "2021-12-18T15:22:37.925Z"
   },
   {
    "duration": 9,
    "start_time": "2021-12-18T15:22:38.299Z"
   },
   {
    "duration": 34,
    "start_time": "2021-12-18T15:22:38.311Z"
   },
   {
    "duration": 30,
    "start_time": "2021-12-18T15:22:38.348Z"
   },
   {
    "duration": 43,
    "start_time": "2021-12-18T15:22:38.381Z"
   },
   {
    "duration": 35,
    "start_time": "2021-12-18T15:22:38.426Z"
   },
   {
    "duration": 45,
    "start_time": "2021-12-18T15:22:38.463Z"
   },
   {
    "duration": 22,
    "start_time": "2021-12-18T15:22:38.510Z"
   },
   {
    "duration": 27,
    "start_time": "2021-12-18T15:22:38.536Z"
   },
   {
    "duration": 27,
    "start_time": "2021-12-18T15:22:38.566Z"
   },
   {
    "duration": 52,
    "start_time": "2021-12-18T15:22:38.596Z"
   },
   {
    "duration": 27,
    "start_time": "2021-12-18T15:22:38.651Z"
   },
   {
    "duration": 39,
    "start_time": "2021-12-18T15:22:38.680Z"
   },
   {
    "duration": 156,
    "start_time": "2021-12-18T15:22:38.722Z"
   },
   {
    "duration": 26,
    "start_time": "2021-12-18T15:22:38.881Z"
   },
   {
    "duration": 9,
    "start_time": "2021-12-18T15:22:38.910Z"
   },
   {
    "duration": 42,
    "start_time": "2021-12-18T15:22:38.922Z"
   },
   {
    "duration": 33,
    "start_time": "2021-12-18T15:22:38.966Z"
   },
   {
    "duration": 44,
    "start_time": "2021-12-18T15:22:39.001Z"
   },
   {
    "duration": 156,
    "start_time": "2021-12-18T15:22:39.047Z"
   },
   {
    "duration": 41,
    "start_time": "2021-12-18T15:22:39.206Z"
   },
   {
    "duration": 37,
    "start_time": "2021-12-18T15:22:39.253Z"
   },
   {
    "duration": 33,
    "start_time": "2021-12-18T15:22:39.293Z"
   },
   {
    "duration": 67,
    "start_time": "2021-12-18T15:22:39.329Z"
   },
   {
    "duration": 200,
    "start_time": "2021-12-18T15:22:39.399Z"
   },
   {
    "duration": 28,
    "start_time": "2021-12-18T15:22:39.602Z"
   },
   {
    "duration": 39,
    "start_time": "2021-12-18T15:22:39.640Z"
   },
   {
    "duration": 48,
    "start_time": "2021-12-18T15:22:39.684Z"
   },
   {
    "duration": 87,
    "start_time": "2021-12-18T15:22:39.735Z"
   },
   {
    "duration": 68,
    "start_time": "2021-12-18T15:22:39.824Z"
   },
   {
    "duration": 45,
    "start_time": "2021-12-18T15:22:39.895Z"
   },
   {
    "duration": 67,
    "start_time": "2021-12-18T15:22:39.943Z"
   },
   {
    "duration": 73,
    "start_time": "2021-12-18T15:22:40.013Z"
   },
   {
    "duration": 49,
    "start_time": "2021-12-18T15:22:40.089Z"
   },
   {
    "duration": 60,
    "start_time": "2021-12-18T15:22:40.141Z"
   },
   {
    "duration": 13,
    "start_time": "2021-12-18T15:22:40.204Z"
   },
   {
    "duration": 45,
    "start_time": "2021-12-18T15:22:40.219Z"
   },
   {
    "duration": 12,
    "start_time": "2021-12-18T15:22:40.267Z"
   },
   {
    "duration": 183,
    "start_time": "2021-12-18T15:22:40.281Z"
   },
   {
    "duration": 38,
    "start_time": "2021-12-18T15:22:40.467Z"
   },
   {
    "duration": 39,
    "start_time": "2021-12-18T15:22:40.508Z"
   },
   {
    "duration": 430,
    "start_time": "2021-12-18T15:22:40.562Z"
   },
   {
    "duration": 780,
    "start_time": "2021-12-18T15:22:40.996Z"
   },
   {
    "duration": 12,
    "start_time": "2021-12-18T15:22:41.779Z"
   },
   {
    "duration": 271,
    "start_time": "2021-12-18T15:22:41.794Z"
   },
   {
    "duration": 245,
    "start_time": "2021-12-18T15:22:42.068Z"
   },
   {
    "duration": 47,
    "start_time": "2021-12-18T15:22:42.315Z"
   },
   {
    "duration": 444,
    "start_time": "2021-12-18T15:22:42.365Z"
   },
   {
    "duration": 862,
    "start_time": "2021-12-18T15:22:42.812Z"
   },
   {
    "duration": 236,
    "start_time": "2021-12-18T15:22:43.677Z"
   },
   {
    "duration": 250,
    "start_time": "2021-12-18T15:22:43.916Z"
   },
   {
    "duration": 27,
    "start_time": "2021-12-18T15:22:44.168Z"
   },
   {
    "duration": 486,
    "start_time": "2021-12-18T15:22:44.197Z"
   },
   {
    "duration": 822,
    "start_time": "2021-12-18T15:22:44.685Z"
   },
   {
    "duration": 253,
    "start_time": "2021-12-18T15:22:45.509Z"
   },
   {
    "duration": 235,
    "start_time": "2021-12-18T15:22:45.765Z"
   },
   {
    "duration": 29,
    "start_time": "2021-12-18T15:22:46.002Z"
   },
   {
    "duration": 468,
    "start_time": "2021-12-18T15:22:46.034Z"
   },
   {
    "duration": 872,
    "start_time": "2021-12-18T15:22:46.504Z"
   },
   {
    "duration": 250,
    "start_time": "2021-12-18T15:22:47.379Z"
   },
   {
    "duration": 245,
    "start_time": "2021-12-18T15:22:47.632Z"
   },
   {
    "duration": 6,
    "start_time": "2021-12-18T15:22:47.880Z"
   },
   {
    "duration": 4,
    "start_time": "2021-12-18T15:22:47.888Z"
   },
   {
    "duration": 7,
    "start_time": "2021-12-18T15:22:47.895Z"
   },
   {
    "duration": 7,
    "start_time": "2021-12-18T15:22:50.871Z"
   },
   {
    "duration": 42,
    "start_time": "2021-12-18T15:22:51.307Z"
   },
   {
    "duration": 63,
    "start_time": "2021-12-18T15:25:07.963Z"
   },
   {
    "duration": 59,
    "start_time": "2021-12-18T15:25:29.326Z"
   },
   {
    "duration": 13,
    "start_time": "2021-12-18T15:25:47.507Z"
   },
   {
    "duration": 11,
    "start_time": "2021-12-18T15:26:13.962Z"
   },
   {
    "duration": 8,
    "start_time": "2021-12-18T15:26:14.726Z"
   },
   {
    "duration": 6,
    "start_time": "2021-12-18T15:26:20.244Z"
   },
   {
    "duration": 5,
    "start_time": "2021-12-18T15:40:07.834Z"
   },
   {
    "duration": 1509,
    "start_time": "2021-12-18T15:40:26.744Z"
   },
   {
    "duration": 383,
    "start_time": "2021-12-18T15:40:31.996Z"
   },
   {
    "duration": 10,
    "start_time": "2021-12-18T15:40:40.850Z"
   },
   {
    "duration": 18,
    "start_time": "2021-12-18T15:40:42.838Z"
   },
   {
    "duration": 8,
    "start_time": "2021-12-18T15:40:49.419Z"
   },
   {
    "duration": 22,
    "start_time": "2021-12-18T15:40:51.672Z"
   },
   {
    "duration": 17,
    "start_time": "2021-12-18T15:41:19.610Z"
   },
   {
    "duration": 11,
    "start_time": "2021-12-18T15:41:29.041Z"
   },
   {
    "duration": 10,
    "start_time": "2021-12-18T15:41:34.318Z"
   },
   {
    "duration": 10,
    "start_time": "2021-12-18T15:41:34.331Z"
   },
   {
    "duration": 8,
    "start_time": "2021-12-18T15:41:34.597Z"
   },
   {
    "duration": 23,
    "start_time": "2021-12-18T15:41:37.938Z"
   },
   {
    "duration": 12,
    "start_time": "2021-12-18T15:41:39.096Z"
   },
   {
    "duration": 23,
    "start_time": "2021-12-18T15:41:48.837Z"
   },
   {
    "duration": 152,
    "start_time": "2021-12-18T15:42:26.762Z"
   },
   {
    "duration": 24,
    "start_time": "2021-12-18T15:42:30.018Z"
   },
   {
    "duration": 6,
    "start_time": "2021-12-18T15:42:31.262Z"
   },
   {
    "duration": 15,
    "start_time": "2021-12-18T15:42:32.882Z"
   },
   {
    "duration": 14,
    "start_time": "2021-12-18T15:42:33.334Z"
   },
   {
    "duration": 15,
    "start_time": "2021-12-18T15:42:36.991Z"
   },
   {
    "duration": 86,
    "start_time": "2021-12-18T15:42:40.271Z"
   },
   {
    "duration": 14,
    "start_time": "2021-12-18T15:42:42.324Z"
   },
   {
    "duration": 41,
    "start_time": "2021-12-18T15:42:44.596Z"
   },
   {
    "duration": 13,
    "start_time": "2021-12-18T15:42:45.927Z"
   },
   {
    "duration": 18,
    "start_time": "2021-12-18T15:42:48.130Z"
   },
   {
    "duration": 23,
    "start_time": "2021-12-18T15:42:58.720Z"
   },
   {
    "duration": 118,
    "start_time": "2021-12-18T15:43:01.689Z"
   },
   {
    "duration": 19,
    "start_time": "2021-12-18T15:43:03.948Z"
   },
   {
    "duration": 15,
    "start_time": "2021-12-18T15:43:06.196Z"
   },
   {
    "duration": 14,
    "start_time": "2021-12-18T15:43:08.482Z"
   },
   {
    "duration": 75,
    "start_time": "2021-12-18T15:43:12.197Z"
   },
   {
    "duration": 56,
    "start_time": "2021-12-18T15:43:28.066Z"
   },
   {
    "duration": 46,
    "start_time": "2021-12-18T15:43:30.868Z"
   },
   {
    "duration": 52,
    "start_time": "2021-12-18T15:43:39.077Z"
   },
   {
    "duration": 45,
    "start_time": "2021-12-18T15:43:45.535Z"
   },
   {
    "duration": 48,
    "start_time": "2021-12-18T15:43:46.860Z"
   },
   {
    "duration": 48,
    "start_time": "2021-12-18T15:43:49.927Z"
   },
   {
    "duration": 14,
    "start_time": "2021-12-18T15:43:54.262Z"
   },
   {
    "duration": 8,
    "start_time": "2021-12-18T15:43:54.652Z"
   },
   {
    "duration": 8,
    "start_time": "2021-12-18T15:43:56.566Z"
   },
   {
    "duration": 169,
    "start_time": "2021-12-18T15:44:02.057Z"
   },
   {
    "duration": 36,
    "start_time": "2021-12-18T15:44:03.180Z"
   },
   {
    "duration": 27,
    "start_time": "2021-12-18T15:44:10.396Z"
   },
   {
    "duration": 443,
    "start_time": "2021-12-18T15:44:12.111Z"
   },
   {
    "duration": 760,
    "start_time": "2021-12-18T15:44:18.489Z"
   },
   {
    "duration": 9,
    "start_time": "2021-12-18T15:44:25.214Z"
   },
   {
    "duration": 242,
    "start_time": "2021-12-18T15:46:05.113Z"
   },
   {
    "duration": 245,
    "start_time": "2021-12-18T15:46:15.567Z"
   },
   {
    "duration": 26,
    "start_time": "2021-12-18T15:46:23.120Z"
   },
   {
    "duration": 561,
    "start_time": "2021-12-18T15:46:25.763Z"
   },
   {
    "duration": 813,
    "start_time": "2021-12-18T15:46:32.822Z"
   },
   {
    "duration": 229,
    "start_time": "2021-12-18T15:46:41.729Z"
   },
   {
    "duration": 232,
    "start_time": "2021-12-18T15:46:44.822Z"
   },
   {
    "duration": 27,
    "start_time": "2021-12-18T15:46:49.967Z"
   },
   {
    "duration": 438,
    "start_time": "2021-12-18T15:46:52.014Z"
   },
   {
    "duration": 733,
    "start_time": "2021-12-18T15:46:54.688Z"
   },
   {
    "duration": 236,
    "start_time": "2021-12-18T15:47:00.493Z"
   },
   {
    "duration": 237,
    "start_time": "2021-12-18T15:47:00.732Z"
   },
   {
    "duration": 27,
    "start_time": "2021-12-18T15:47:19.378Z"
   },
   {
    "duration": 463,
    "start_time": "2021-12-18T15:47:24.051Z"
   },
   {
    "duration": 828,
    "start_time": "2021-12-18T15:47:26.389Z"
   },
   {
    "duration": 227,
    "start_time": "2021-12-18T15:47:30.878Z"
   },
   {
    "duration": 230,
    "start_time": "2021-12-18T15:47:34.003Z"
   },
   {
    "duration": 9,
    "start_time": "2021-12-18T15:47:45.100Z"
   },
   {
    "duration": 6,
    "start_time": "2021-12-18T15:47:45.592Z"
   },
   {
    "duration": 8,
    "start_time": "2021-12-18T15:47:49.211Z"
   },
   {
    "duration": 38,
    "start_time": "2021-12-18T15:47:50.209Z"
   },
   {
    "duration": 11,
    "start_time": "2021-12-18T15:47:52.484Z"
   },
   {
    "duration": 7,
    "start_time": "2021-12-18T15:47:55.508Z"
   },
   {
    "duration": 5,
    "start_time": "2021-12-18T15:47:57.336Z"
   },
   {
    "duration": 9,
    "start_time": "2021-12-18T15:52:07.352Z"
   },
   {
    "duration": 11,
    "start_time": "2021-12-18T15:57:20.118Z"
   },
   {
    "duration": 241,
    "start_time": "2021-12-18T15:58:46.225Z"
   },
   {
    "duration": 10,
    "start_time": "2021-12-18T15:59:01.052Z"
   },
   {
    "duration": 10,
    "start_time": "2021-12-18T16:01:12.357Z"
   },
   {
    "duration": 230,
    "start_time": "2021-12-18T16:02:14.696Z"
   },
   {
    "duration": 237,
    "start_time": "2021-12-18T16:02:16.956Z"
   },
   {
    "duration": 7,
    "start_time": "2021-12-18T16:02:18.242Z"
   },
   {
    "duration": 4,
    "start_time": "2021-12-18T16:02:18.395Z"
   },
   {
    "duration": 7,
    "start_time": "2021-12-18T16:02:20.188Z"
   },
   {
    "duration": 38,
    "start_time": "2021-12-18T16:02:20.399Z"
   },
   {
    "duration": 8,
    "start_time": "2021-12-18T16:02:20.512Z"
   },
   {
    "duration": 6,
    "start_time": "2021-12-18T16:02:20.683Z"
   },
   {
    "duration": 4,
    "start_time": "2021-12-18T16:02:20.848Z"
   },
   {
    "duration": 5,
    "start_time": "2021-12-18T16:12:21.013Z"
   },
   {
    "duration": 386,
    "start_time": "2021-12-18T16:12:21.023Z"
   },
   {
    "duration": 9,
    "start_time": "2021-12-18T16:12:21.411Z"
   },
   {
    "duration": 21,
    "start_time": "2021-12-18T16:12:21.423Z"
   },
   {
    "duration": 9,
    "start_time": "2021-12-18T16:12:21.464Z"
   },
   {
    "duration": 27,
    "start_time": "2021-12-18T16:12:21.475Z"
   },
   {
    "duration": 23,
    "start_time": "2021-12-18T16:12:21.505Z"
   },
   {
    "duration": 19,
    "start_time": "2021-12-18T16:12:21.531Z"
   },
   {
    "duration": 24,
    "start_time": "2021-12-18T16:12:21.553Z"
   },
   {
    "duration": 20,
    "start_time": "2021-12-18T16:12:21.582Z"
   },
   {
    "duration": 31,
    "start_time": "2021-12-18T16:12:21.606Z"
   },
   {
    "duration": 34,
    "start_time": "2021-12-18T16:12:21.639Z"
   },
   {
    "duration": 25,
    "start_time": "2021-12-18T16:12:21.676Z"
   },
   {
    "duration": 30,
    "start_time": "2021-12-18T16:12:21.704Z"
   },
   {
    "duration": 156,
    "start_time": "2021-12-18T16:12:21.737Z"
   },
   {
    "duration": 23,
    "start_time": "2021-12-18T16:12:21.895Z"
   },
   {
    "duration": 5,
    "start_time": "2021-12-18T16:12:21.920Z"
   },
   {
    "duration": 40,
    "start_time": "2021-12-18T16:12:21.927Z"
   },
   {
    "duration": 11,
    "start_time": "2021-12-18T16:12:21.970Z"
   },
   {
    "duration": 24,
    "start_time": "2021-12-18T16:12:21.984Z"
   },
   {
    "duration": 99,
    "start_time": "2021-12-18T16:12:22.010Z"
   },
   {
    "duration": 15,
    "start_time": "2021-12-18T16:12:22.112Z"
   },
   {
    "duration": 41,
    "start_time": "2021-12-18T16:12:22.129Z"
   },
   {
    "duration": 30,
    "start_time": "2021-12-18T16:12:22.172Z"
   },
   {
    "duration": 69,
    "start_time": "2021-12-18T16:12:22.204Z"
   },
   {
    "duration": 209,
    "start_time": "2021-12-18T16:12:22.276Z"
   },
   {
    "duration": 18,
    "start_time": "2021-12-18T16:12:22.487Z"
   },
   {
    "duration": 14,
    "start_time": "2021-12-18T16:12:22.567Z"
   },
   {
    "duration": 10,
    "start_time": "2021-12-18T16:12:22.585Z"
   },
   {
    "duration": 129,
    "start_time": "2021-12-18T16:12:22.597Z"
   },
   {
    "duration": 87,
    "start_time": "2021-12-18T16:12:22.729Z"
   },
   {
    "duration": 69,
    "start_time": "2021-12-18T16:12:22.818Z"
   },
   {
    "duration": 53,
    "start_time": "2021-12-18T16:12:22.889Z"
   },
   {
    "duration": 58,
    "start_time": "2021-12-18T16:12:22.944Z"
   },
   {
    "duration": 71,
    "start_time": "2021-12-18T16:12:23.004Z"
   },
   {
    "duration": 41,
    "start_time": "2021-12-18T16:12:23.077Z"
   },
   {
    "duration": 11,
    "start_time": "2021-12-18T16:12:23.120Z"
   },
   {
    "duration": 37,
    "start_time": "2021-12-18T16:12:23.133Z"
   },
   {
    "duration": 10,
    "start_time": "2021-12-18T16:12:23.172Z"
   },
   {
    "duration": 186,
    "start_time": "2021-12-18T16:12:23.185Z"
   },
   {
    "duration": 39,
    "start_time": "2021-12-18T16:12:23.374Z"
   },
   {
    "duration": 51,
    "start_time": "2021-12-18T16:12:23.416Z"
   },
   {
    "duration": 602,
    "start_time": "2021-12-18T16:12:23.469Z"
   },
   {
    "duration": 1075,
    "start_time": "2021-12-18T16:12:24.074Z"
   },
   {
    "duration": 16,
    "start_time": "2021-12-18T16:12:25.152Z"
   },
   {
    "duration": 364,
    "start_time": "2021-12-18T16:12:25.170Z"
   },
   {
    "duration": 281,
    "start_time": "2021-12-18T16:12:25.536Z"
   },
   {
    "duration": 44,
    "start_time": "2021-12-18T16:12:25.820Z"
   },
   {
    "duration": 531,
    "start_time": "2021-12-18T16:12:25.866Z"
   },
   {
    "duration": 1010,
    "start_time": "2021-12-18T16:12:26.401Z"
   },
   {
    "duration": 10,
    "start_time": "2021-12-18T16:12:27.414Z"
   },
   {
    "duration": 269,
    "start_time": "2021-12-18T16:12:27.427Z"
   },
   {
    "duration": 244,
    "start_time": "2021-12-18T16:12:27.699Z"
   },
   {
    "duration": 37,
    "start_time": "2021-12-18T16:12:27.946Z"
   },
   {
    "duration": 568,
    "start_time": "2021-12-18T16:12:27.986Z"
   },
   {
    "duration": 771,
    "start_time": "2021-12-18T16:12:28.556Z"
   },
   {
    "duration": 10,
    "start_time": "2021-12-18T16:12:29.329Z"
   },
   {
    "duration": 373,
    "start_time": "2021-12-18T16:12:29.341Z"
   },
   {
    "duration": 239,
    "start_time": "2021-12-18T16:12:29.717Z"
   },
   {
    "duration": 28,
    "start_time": "2021-12-18T16:12:29.963Z"
   },
   {
    "duration": 494,
    "start_time": "2021-12-18T16:12:29.994Z"
   },
   {
    "duration": 777,
    "start_time": "2021-12-18T16:12:30.491Z"
   },
   {
    "duration": 10,
    "start_time": "2021-12-18T16:12:31.270Z"
   },
   {
    "duration": 268,
    "start_time": "2021-12-18T16:12:31.282Z"
   },
   {
    "duration": 243,
    "start_time": "2021-12-18T16:12:31.552Z"
   },
   {
    "duration": 6,
    "start_time": "2021-12-18T16:12:31.797Z"
   },
   {
    "duration": 28,
    "start_time": "2021-12-18T16:12:31.805Z"
   },
   {
    "duration": 30,
    "start_time": "2021-12-18T16:12:31.836Z"
   },
   {
    "duration": 61,
    "start_time": "2021-12-18T16:12:31.869Z"
   },
   {
    "duration": 10,
    "start_time": "2021-12-18T16:12:31.934Z"
   },
   {
    "duration": 21,
    "start_time": "2021-12-18T16:12:31.952Z"
   },
   {
    "duration": 33,
    "start_time": "2021-12-18T16:12:31.975Z"
   },
   {
    "duration": 5,
    "start_time": "2021-12-18T16:15:27.532Z"
   },
   {
    "duration": 388,
    "start_time": "2021-12-18T16:15:27.539Z"
   },
   {
    "duration": 10,
    "start_time": "2021-12-18T16:15:27.930Z"
   },
   {
    "duration": 28,
    "start_time": "2021-12-18T16:15:27.943Z"
   },
   {
    "duration": 9,
    "start_time": "2021-12-18T16:15:27.974Z"
   },
   {
    "duration": 16,
    "start_time": "2021-12-18T16:15:27.986Z"
   },
   {
    "duration": 57,
    "start_time": "2021-12-18T16:15:28.005Z"
   },
   {
    "duration": 16,
    "start_time": "2021-12-18T16:15:28.066Z"
   },
   {
    "duration": 8,
    "start_time": "2021-12-18T16:15:28.086Z"
   },
   {
    "duration": 5,
    "start_time": "2021-12-18T16:15:28.098Z"
   },
   {
    "duration": 8,
    "start_time": "2021-12-18T16:15:28.106Z"
   },
   {
    "duration": 38,
    "start_time": "2021-12-18T16:15:28.164Z"
   },
   {
    "duration": 18,
    "start_time": "2021-12-18T16:15:28.205Z"
   },
   {
    "duration": 24,
    "start_time": "2021-12-18T16:15:28.264Z"
   },
   {
    "duration": 189,
    "start_time": "2021-12-18T16:15:28.292Z"
   },
   {
    "duration": 23,
    "start_time": "2021-12-18T16:15:28.484Z"
   },
   {
    "duration": 4,
    "start_time": "2021-12-18T16:15:28.510Z"
   },
   {
    "duration": 44,
    "start_time": "2021-12-18T16:15:28.517Z"
   },
   {
    "duration": 11,
    "start_time": "2021-12-18T16:15:28.564Z"
   },
   {
    "duration": 16,
    "start_time": "2021-12-18T16:15:28.577Z"
   },
   {
    "duration": 128,
    "start_time": "2021-12-18T16:15:28.596Z"
   },
   {
    "duration": 36,
    "start_time": "2021-12-18T16:15:28.726Z"
   },
   {
    "duration": 19,
    "start_time": "2021-12-18T16:15:28.765Z"
   },
   {
    "duration": 12,
    "start_time": "2021-12-18T16:15:28.786Z"
   },
   {
    "duration": 64,
    "start_time": "2021-12-18T16:15:28.800Z"
   },
   {
    "duration": 149,
    "start_time": "2021-12-18T16:15:28.868Z"
   },
   {
    "duration": 40,
    "start_time": "2021-12-18T16:15:29.023Z"
   },
   {
    "duration": 14,
    "start_time": "2021-12-18T16:15:29.066Z"
   },
   {
    "duration": 14,
    "start_time": "2021-12-18T16:15:29.082Z"
   },
   {
    "duration": 135,
    "start_time": "2021-12-18T16:15:29.098Z"
   },
   {
    "duration": 98,
    "start_time": "2021-12-18T16:15:29.236Z"
   },
   {
    "duration": 86,
    "start_time": "2021-12-18T16:15:29.337Z"
   },
   {
    "duration": 94,
    "start_time": "2021-12-18T16:15:29.426Z"
   },
   {
    "duration": 61,
    "start_time": "2021-12-18T16:15:29.523Z"
   },
   {
    "duration": 49,
    "start_time": "2021-12-18T16:15:29.586Z"
   },
   {
    "duration": 62,
    "start_time": "2021-12-18T16:15:29.638Z"
   },
   {
    "duration": 11,
    "start_time": "2021-12-18T16:15:29.703Z"
   },
   {
    "duration": 46,
    "start_time": "2021-12-18T16:15:29.717Z"
   },
   {
    "duration": 9,
    "start_time": "2021-12-18T16:15:29.766Z"
   },
   {
    "duration": 211,
    "start_time": "2021-12-18T16:15:29.779Z"
   },
   {
    "duration": 42,
    "start_time": "2021-12-18T16:15:29.992Z"
   },
   {
    "duration": 48,
    "start_time": "2021-12-18T16:15:30.037Z"
   },
   {
    "duration": 465,
    "start_time": "2021-12-18T16:15:30.088Z"
   },
   {
    "duration": 903,
    "start_time": "2021-12-18T16:15:30.563Z"
   },
   {
    "duration": 14,
    "start_time": "2021-12-18T16:15:31.470Z"
   },
   {
    "duration": 397,
    "start_time": "2021-12-18T16:15:31.487Z"
   },
   {
    "duration": 263,
    "start_time": "2021-12-18T16:15:31.887Z"
   },
   {
    "duration": 44,
    "start_time": "2021-12-18T16:15:32.153Z"
   },
   {
    "duration": 490,
    "start_time": "2021-12-18T16:15:32.200Z"
   },
   {
    "duration": 791,
    "start_time": "2021-12-18T16:15:32.693Z"
   },
   {
    "duration": 12,
    "start_time": "2021-12-18T16:15:33.486Z"
   },
   {
    "duration": 265,
    "start_time": "2021-12-18T16:15:33.500Z"
   },
   {
    "duration": 272,
    "start_time": "2021-12-18T16:15:33.768Z"
   },
   {
    "duration": 38,
    "start_time": "2021-12-18T16:15:34.043Z"
   },
   {
    "duration": 730,
    "start_time": "2021-12-18T16:15:34.085Z"
   },
   {
    "duration": 1278,
    "start_time": "2021-12-18T16:15:34.819Z"
   },
   {
    "duration": 10,
    "start_time": "2021-12-18T16:15:36.099Z"
   },
   {
    "duration": 304,
    "start_time": "2021-12-18T16:15:36.112Z"
   },
   {
    "duration": 266,
    "start_time": "2021-12-18T16:15:36.418Z"
   },
   {
    "duration": 31,
    "start_time": "2021-12-18T16:15:36.687Z"
   },
   {
    "duration": 498,
    "start_time": "2021-12-18T16:15:36.720Z"
   },
   {
    "duration": 786,
    "start_time": "2021-12-18T16:15:37.221Z"
   },
   {
    "duration": 12,
    "start_time": "2021-12-18T16:15:38.009Z"
   },
   {
    "duration": 280,
    "start_time": "2021-12-18T16:15:38.024Z"
   },
   {
    "duration": 267,
    "start_time": "2021-12-18T16:15:38.307Z"
   },
   {
    "duration": 7,
    "start_time": "2021-12-18T16:15:38.577Z"
   },
   {
    "duration": 5,
    "start_time": "2021-12-18T16:15:38.588Z"
   },
   {
    "duration": 15,
    "start_time": "2021-12-18T16:15:38.596Z"
   },
   {
    "duration": 83,
    "start_time": "2021-12-18T16:15:38.614Z"
   },
   {
    "duration": 10,
    "start_time": "2021-12-18T16:15:38.700Z"
   },
   {
    "duration": 13,
    "start_time": "2021-12-18T16:15:38.713Z"
   },
   {
    "duration": 7,
    "start_time": "2021-12-18T16:15:38.729Z"
   },
   {
    "duration": 4,
    "start_time": "2021-12-18T16:15:59.110Z"
   },
   {
    "duration": 5,
    "start_time": "2021-12-18T16:41:58.436Z"
   },
   {
    "duration": 401,
    "start_time": "2021-12-18T16:41:58.444Z"
   },
   {
    "duration": 17,
    "start_time": "2021-12-18T16:41:58.848Z"
   },
   {
    "duration": 37,
    "start_time": "2021-12-18T16:41:58.868Z"
   },
   {
    "duration": 46,
    "start_time": "2021-12-18T16:41:58.908Z"
   },
   {
    "duration": 50,
    "start_time": "2021-12-18T16:41:58.956Z"
   },
   {
    "duration": 26,
    "start_time": "2021-12-18T16:41:59.009Z"
   },
   {
    "duration": 27,
    "start_time": "2021-12-18T16:41:59.040Z"
   },
   {
    "duration": 21,
    "start_time": "2021-12-18T16:41:59.071Z"
   },
   {
    "duration": 45,
    "start_time": "2021-12-18T16:41:59.095Z"
   },
   {
    "duration": 42,
    "start_time": "2021-12-18T16:41:59.142Z"
   },
   {
    "duration": 57,
    "start_time": "2021-12-18T16:41:59.187Z"
   },
   {
    "duration": 42,
    "start_time": "2021-12-18T16:41:59.247Z"
   },
   {
    "duration": 34,
    "start_time": "2021-12-18T16:41:59.292Z"
   },
   {
    "duration": 158,
    "start_time": "2021-12-18T16:41:59.329Z"
   },
   {
    "duration": 29,
    "start_time": "2021-12-18T16:41:59.490Z"
   },
   {
    "duration": 6,
    "start_time": "2021-12-18T16:41:59.522Z"
   },
   {
    "duration": 49,
    "start_time": "2021-12-18T16:41:59.530Z"
   },
   {
    "duration": 18,
    "start_time": "2021-12-18T16:41:59.581Z"
   },
   {
    "duration": 33,
    "start_time": "2021-12-18T16:41:59.602Z"
   },
   {
    "duration": 132,
    "start_time": "2021-12-18T16:41:59.638Z"
   },
   {
    "duration": 20,
    "start_time": "2021-12-18T16:41:59.772Z"
   },
   {
    "duration": 18,
    "start_time": "2021-12-18T16:42:00.152Z"
   },
   {
    "duration": 39,
    "start_time": "2021-12-18T16:42:00.173Z"
   },
   {
    "duration": 34,
    "start_time": "2021-12-18T16:42:00.215Z"
   },
   {
    "duration": 119,
    "start_time": "2021-12-18T16:42:00.252Z"
   },
   {
    "duration": 18,
    "start_time": "2021-12-18T16:42:00.374Z"
   },
   {
    "duration": 34,
    "start_time": "2021-12-18T16:42:00.395Z"
   },
   {
    "duration": 23,
    "start_time": "2021-12-18T16:42:00.432Z"
   },
   {
    "duration": 115,
    "start_time": "2021-12-18T16:42:00.457Z"
   },
   {
    "duration": 55,
    "start_time": "2021-12-18T16:42:00.574Z"
   },
   {
    "duration": 69,
    "start_time": "2021-12-18T16:42:00.632Z"
   },
   {
    "duration": 74,
    "start_time": "2021-12-18T16:42:00.703Z"
   },
   {
    "duration": 43,
    "start_time": "2021-12-18T16:42:00.780Z"
   },
   {
    "duration": 68,
    "start_time": "2021-12-18T16:42:00.826Z"
   },
   {
    "duration": 39,
    "start_time": "2021-12-18T16:42:00.897Z"
   },
   {
    "duration": 31,
    "start_time": "2021-12-18T16:42:00.938Z"
   },
   {
    "duration": 7,
    "start_time": "2021-12-18T16:42:00.972Z"
   },
   {
    "duration": 43,
    "start_time": "2021-12-18T16:42:00.981Z"
   },
   {
    "duration": 193,
    "start_time": "2021-12-18T16:42:01.026Z"
   },
   {
    "duration": 47,
    "start_time": "2021-12-18T16:42:01.222Z"
   },
   {
    "duration": 54,
    "start_time": "2021-12-18T16:42:01.272Z"
   },
   {
    "duration": 559,
    "start_time": "2021-12-18T16:42:01.330Z"
   },
   {
    "duration": 895,
    "start_time": "2021-12-18T16:42:01.893Z"
   },
   {
    "duration": 11,
    "start_time": "2021-12-18T16:42:02.790Z"
   },
   {
    "duration": 263,
    "start_time": "2021-12-18T16:42:02.803Z"
   },
   {
    "duration": 251,
    "start_time": "2021-12-18T16:42:03.069Z"
   },
   {
    "duration": 41,
    "start_time": "2021-12-18T16:42:03.323Z"
   },
   {
    "duration": 455,
    "start_time": "2021-12-18T16:42:03.367Z"
   },
   {
    "duration": 770,
    "start_time": "2021-12-18T16:42:03.824Z"
   },
   {
    "duration": 11,
    "start_time": "2021-12-18T16:42:04.598Z"
   },
   {
    "duration": 283,
    "start_time": "2021-12-18T16:42:04.611Z"
   },
   {
    "duration": 264,
    "start_time": "2021-12-18T16:42:04.897Z"
   },
   {
    "duration": 26,
    "start_time": "2021-12-18T16:42:05.163Z"
   },
   {
    "duration": 574,
    "start_time": "2021-12-18T16:42:05.192Z"
   },
   {
    "duration": 1012,
    "start_time": "2021-12-18T16:42:05.769Z"
   },
   {
    "duration": 12,
    "start_time": "2021-12-18T16:42:06.784Z"
   },
   {
    "duration": 268,
    "start_time": "2021-12-18T16:42:06.799Z"
   },
   {
    "duration": 233,
    "start_time": "2021-12-18T16:42:07.070Z"
   },
   {
    "duration": 26,
    "start_time": "2021-12-18T16:42:07.306Z"
   },
   {
    "duration": 497,
    "start_time": "2021-12-18T16:42:07.334Z"
   },
   {
    "duration": 775,
    "start_time": "2021-12-18T16:42:07.834Z"
   },
   {
    "duration": 11,
    "start_time": "2021-12-18T16:42:08.612Z"
   },
   {
    "duration": 260,
    "start_time": "2021-12-18T16:42:08.625Z"
   },
   {
    "duration": 248,
    "start_time": "2021-12-18T16:42:08.888Z"
   },
   {
    "duration": 7,
    "start_time": "2021-12-18T16:42:09.138Z"
   },
   {
    "duration": 19,
    "start_time": "2021-12-18T16:42:09.147Z"
   },
   {
    "duration": 9,
    "start_time": "2021-12-18T16:42:09.170Z"
   },
   {
    "duration": 40,
    "start_time": "2021-12-18T16:42:09.182Z"
   },
   {
    "duration": 10,
    "start_time": "2021-12-18T16:42:09.265Z"
   },
   {
    "duration": 7,
    "start_time": "2021-12-18T16:42:09.277Z"
   },
   {
    "duration": 6,
    "start_time": "2021-12-18T16:42:09.287Z"
   }
  ],
  "kernelspec": {
   "display_name": "Python 3 (ipykernel)",
   "language": "python",
   "name": "python3"
  },
  "language_info": {
   "codemirror_mode": {
    "name": "ipython",
    "version": 3
   },
   "file_extension": ".py",
   "mimetype": "text/x-python",
   "name": "python",
   "nbconvert_exporter": "python",
   "pygments_lexer": "ipython3",
   "version": "3.9.7"
  },
  "toc": {
   "base_numbering": 1,
   "nav_menu": {},
   "number_sections": true,
   "sideBar": true,
   "skip_h1_title": false,
   "title_cell": "Table of Contents",
   "title_sidebar": "Contents",
   "toc_cell": false,
   "toc_position": {},
   "toc_section_display": true,
   "toc_window_display": true
  }
 },
 "nbformat": 4,
 "nbformat_minor": 2
}
