{
 "cells": [
  {
   "cell_type": "markdown",
   "id": "8cf6a640",
   "metadata": {},
   "source": [
    "# Supervised Learning Project\n",
    "### Author: Jinyu Du\n",
    "\n",
    "## Project Description\n",
    "\n",
    "Beta Bank customers are leaving: little by little, chipping away every month. The bankers figured out it’s cheaper to save the existing customers rather than to attract new ones.\n",
    "\n",
    "We need to predict whether a customer will leave the bank soon. You have the data on clients’ past behavior and termination of contracts with the bank.\n",
    "\n",
    "Build a model with the maximum possible F1 score. To pass the project, you need an F1 score of at least 0.59. Check the F1 for the test set. Additionally, measure the AUC-ROC metric and compare it with the F1.\n",
    "\n",
    "Data source: https://www.kaggle.com/barelydedicated/bank-customer-churn-modeling\n",
    "\n",
    "## Data description\n",
    "\n",
    "The information about the `Churn.csv` dataset is given as follows:\n",
    "\n",
    "### Features\n",
    "\n",
    "- `RowNumber` - data string index \n",
    "- `CustomerId` - unique customer identifier   \n",
    "- `Surname` - surname  \n",
    "- `CreditScore` - credit score  \n",
    "- `Geography` - country of residence\n",
    "- `Gender` - gender  \n",
    "- `Age` - age \n",
    "- `Tenure` - period of maturation for a customer’s fixed deposit (years) \n",
    "- `Balance` - account balance\n",
    "- `NumOfProducts` - number of banking products used by the customer  \n",
    "- `HasCrCard` - customer has a credit card \n",
    "- `IsActiveMember` - customer’s activeness \n",
    "- `EstimatedSalary` - estimated salary\n",
    "\n",
    "### Target\n",
    "\n",
    "- `Exited` -  сustomer has left \n",
    "\n",
    "## Purpose of the project\n",
    "- import and study the datasets\n",
    "- prepare and tidy up the datasets when needed\n",
    "- examine the balance of classes \n",
    "- split the data into train, test, and validation sets\n",
    "- train the model without taking into account the imbalance and describe the findings.\n",
    "- improve the quality of the model, taking into account the imbalance of classes. \n",
    "- compute the f1 score and AUC\n",
    "- plot the ROC curve\n",
    "- fit different types of classification models and compare the performance\n",
    "- draw conclusions and explain the results\n",
    "\n",
    "## Initialization"
   ]
  },
  {
   "cell_type": "code",
   "execution_count": 1,
   "id": "a17a9118",
   "metadata": {},
   "outputs": [],
   "source": [
    "# Loading all the libraries\n",
    "\n",
    "import pandas as pd\n",
    "import numpy as np\n",
    "from matplotlib import pyplot as plt\n",
    "from sklearn.model_selection import train_test_split\n",
    "from sklearn.tree import DecisionTreeClassifier\n",
    "from sklearn.ensemble import RandomForestClassifier\n",
    "from sklearn.linear_model import LogisticRegression \n",
    "from sklearn.metrics import accuracy_score\n",
    "from sklearn.preprocessing import OrdinalEncoder\n",
    "from sklearn.preprocessing import StandardScaler\n",
    "from sklearn.metrics import f1_score\n",
    "from sklearn.utils import shuffle\n",
    "from sklearn.metrics import precision_score, recall_score\n",
    "from sklearn.metrics import roc_curve\n",
    "from sklearn.metrics import roc_auc_score"
   ]
  },
  {
   "cell_type": "code",
   "execution_count": 3,
   "id": "72bd1a11",
   "metadata": {},
   "outputs": [],
   "source": [
    "try: \n",
    "    df = pd.read_csv('datasets/Churn.csv')\n",
    "except:\n",
    "    df = pd.read_csv('/datasets/Churn.csv')"
   ]
  },
  {
   "cell_type": "code",
   "execution_count": 4,
   "id": "38555bde",
   "metadata": {},
   "outputs": [
    {
     "name": "stdout",
     "output_type": "stream",
     "text": [
      "<class 'pandas.core.frame.DataFrame'>\n",
      "RangeIndex: 10000 entries, 0 to 9999\n",
      "Data columns (total 14 columns):\n",
      " #   Column           Non-Null Count  Dtype  \n",
      "---  ------           --------------  -----  \n",
      " 0   RowNumber        10000 non-null  int64  \n",
      " 1   CustomerId       10000 non-null  int64  \n",
      " 2   Surname          10000 non-null  object \n",
      " 3   CreditScore      10000 non-null  int64  \n",
      " 4   Geography        10000 non-null  object \n",
      " 5   Gender           10000 non-null  object \n",
      " 6   Age              10000 non-null  int64  \n",
      " 7   Tenure           9091 non-null   float64\n",
      " 8   Balance          10000 non-null  float64\n",
      " 9   NumOfProducts    10000 non-null  int64  \n",
      " 10  HasCrCard        10000 non-null  int64  \n",
      " 11  IsActiveMember   10000 non-null  int64  \n",
      " 12  EstimatedSalary  10000 non-null  float64\n",
      " 13  Exited           10000 non-null  int64  \n",
      "dtypes: float64(3), int64(8), object(3)\n",
      "memory usage: 1.1+ MB\n"
     ]
    }
   ],
   "source": [
    "df.info()"
   ]
  },
  {
   "cell_type": "code",
   "execution_count": 5,
   "id": "1b35cd9f",
   "metadata": {},
   "outputs": [
    {
     "data": {
      "text/html": [
       "<div>\n",
       "<style scoped>\n",
       "    .dataframe tbody tr th:only-of-type {\n",
       "        vertical-align: middle;\n",
       "    }\n",
       "\n",
       "    .dataframe tbody tr th {\n",
       "        vertical-align: top;\n",
       "    }\n",
       "\n",
       "    .dataframe thead th {\n",
       "        text-align: right;\n",
       "    }\n",
       "</style>\n",
       "<table border=\"1\" class=\"dataframe\">\n",
       "  <thead>\n",
       "    <tr style=\"text-align: right;\">\n",
       "      <th></th>\n",
       "      <th>RowNumber</th>\n",
       "      <th>CustomerId</th>\n",
       "      <th>Surname</th>\n",
       "      <th>CreditScore</th>\n",
       "      <th>Geography</th>\n",
       "      <th>Gender</th>\n",
       "      <th>Age</th>\n",
       "      <th>Tenure</th>\n",
       "      <th>Balance</th>\n",
       "      <th>NumOfProducts</th>\n",
       "      <th>HasCrCard</th>\n",
       "      <th>IsActiveMember</th>\n",
       "      <th>EstimatedSalary</th>\n",
       "      <th>Exited</th>\n",
       "    </tr>\n",
       "  </thead>\n",
       "  <tbody>\n",
       "    <tr>\n",
       "      <th>0</th>\n",
       "      <td>1</td>\n",
       "      <td>15634602</td>\n",
       "      <td>Hargrave</td>\n",
       "      <td>619</td>\n",
       "      <td>France</td>\n",
       "      <td>Female</td>\n",
       "      <td>42</td>\n",
       "      <td>2.0</td>\n",
       "      <td>0.00</td>\n",
       "      <td>1</td>\n",
       "      <td>1</td>\n",
       "      <td>1</td>\n",
       "      <td>101348.88</td>\n",
       "      <td>1</td>\n",
       "    </tr>\n",
       "    <tr>\n",
       "      <th>1</th>\n",
       "      <td>2</td>\n",
       "      <td>15647311</td>\n",
       "      <td>Hill</td>\n",
       "      <td>608</td>\n",
       "      <td>Spain</td>\n",
       "      <td>Female</td>\n",
       "      <td>41</td>\n",
       "      <td>1.0</td>\n",
       "      <td>83807.86</td>\n",
       "      <td>1</td>\n",
       "      <td>0</td>\n",
       "      <td>1</td>\n",
       "      <td>112542.58</td>\n",
       "      <td>0</td>\n",
       "    </tr>\n",
       "    <tr>\n",
       "      <th>2</th>\n",
       "      <td>3</td>\n",
       "      <td>15619304</td>\n",
       "      <td>Onio</td>\n",
       "      <td>502</td>\n",
       "      <td>France</td>\n",
       "      <td>Female</td>\n",
       "      <td>42</td>\n",
       "      <td>8.0</td>\n",
       "      <td>159660.80</td>\n",
       "      <td>3</td>\n",
       "      <td>1</td>\n",
       "      <td>0</td>\n",
       "      <td>113931.57</td>\n",
       "      <td>1</td>\n",
       "    </tr>\n",
       "    <tr>\n",
       "      <th>3</th>\n",
       "      <td>4</td>\n",
       "      <td>15701354</td>\n",
       "      <td>Boni</td>\n",
       "      <td>699</td>\n",
       "      <td>France</td>\n",
       "      <td>Female</td>\n",
       "      <td>39</td>\n",
       "      <td>1.0</td>\n",
       "      <td>0.00</td>\n",
       "      <td>2</td>\n",
       "      <td>0</td>\n",
       "      <td>0</td>\n",
       "      <td>93826.63</td>\n",
       "      <td>0</td>\n",
       "    </tr>\n",
       "    <tr>\n",
       "      <th>4</th>\n",
       "      <td>5</td>\n",
       "      <td>15737888</td>\n",
       "      <td>Mitchell</td>\n",
       "      <td>850</td>\n",
       "      <td>Spain</td>\n",
       "      <td>Female</td>\n",
       "      <td>43</td>\n",
       "      <td>2.0</td>\n",
       "      <td>125510.82</td>\n",
       "      <td>1</td>\n",
       "      <td>1</td>\n",
       "      <td>1</td>\n",
       "      <td>79084.10</td>\n",
       "      <td>0</td>\n",
       "    </tr>\n",
       "    <tr>\n",
       "      <th>5</th>\n",
       "      <td>6</td>\n",
       "      <td>15574012</td>\n",
       "      <td>Chu</td>\n",
       "      <td>645</td>\n",
       "      <td>Spain</td>\n",
       "      <td>Male</td>\n",
       "      <td>44</td>\n",
       "      <td>8.0</td>\n",
       "      <td>113755.78</td>\n",
       "      <td>2</td>\n",
       "      <td>1</td>\n",
       "      <td>0</td>\n",
       "      <td>149756.71</td>\n",
       "      <td>1</td>\n",
       "    </tr>\n",
       "    <tr>\n",
       "      <th>6</th>\n",
       "      <td>7</td>\n",
       "      <td>15592531</td>\n",
       "      <td>Bartlett</td>\n",
       "      <td>822</td>\n",
       "      <td>France</td>\n",
       "      <td>Male</td>\n",
       "      <td>50</td>\n",
       "      <td>7.0</td>\n",
       "      <td>0.00</td>\n",
       "      <td>2</td>\n",
       "      <td>1</td>\n",
       "      <td>1</td>\n",
       "      <td>10062.80</td>\n",
       "      <td>0</td>\n",
       "    </tr>\n",
       "    <tr>\n",
       "      <th>7</th>\n",
       "      <td>8</td>\n",
       "      <td>15656148</td>\n",
       "      <td>Obinna</td>\n",
       "      <td>376</td>\n",
       "      <td>Germany</td>\n",
       "      <td>Female</td>\n",
       "      <td>29</td>\n",
       "      <td>4.0</td>\n",
       "      <td>115046.74</td>\n",
       "      <td>4</td>\n",
       "      <td>1</td>\n",
       "      <td>0</td>\n",
       "      <td>119346.88</td>\n",
       "      <td>1</td>\n",
       "    </tr>\n",
       "    <tr>\n",
       "      <th>8</th>\n",
       "      <td>9</td>\n",
       "      <td>15792365</td>\n",
       "      <td>He</td>\n",
       "      <td>501</td>\n",
       "      <td>France</td>\n",
       "      <td>Male</td>\n",
       "      <td>44</td>\n",
       "      <td>4.0</td>\n",
       "      <td>142051.07</td>\n",
       "      <td>2</td>\n",
       "      <td>0</td>\n",
       "      <td>1</td>\n",
       "      <td>74940.50</td>\n",
       "      <td>0</td>\n",
       "    </tr>\n",
       "    <tr>\n",
       "      <th>9</th>\n",
       "      <td>10</td>\n",
       "      <td>15592389</td>\n",
       "      <td>H?</td>\n",
       "      <td>684</td>\n",
       "      <td>France</td>\n",
       "      <td>Male</td>\n",
       "      <td>27</td>\n",
       "      <td>2.0</td>\n",
       "      <td>134603.88</td>\n",
       "      <td>1</td>\n",
       "      <td>1</td>\n",
       "      <td>1</td>\n",
       "      <td>71725.73</td>\n",
       "      <td>0</td>\n",
       "    </tr>\n",
       "  </tbody>\n",
       "</table>\n",
       "</div>"
      ],
      "text/plain": [
       "   RowNumber  CustomerId   Surname  CreditScore Geography  Gender  Age  \\\n",
       "0          1    15634602  Hargrave          619    France  Female   42   \n",
       "1          2    15647311      Hill          608     Spain  Female   41   \n",
       "2          3    15619304      Onio          502    France  Female   42   \n",
       "3          4    15701354      Boni          699    France  Female   39   \n",
       "4          5    15737888  Mitchell          850     Spain  Female   43   \n",
       "5          6    15574012       Chu          645     Spain    Male   44   \n",
       "6          7    15592531  Bartlett          822    France    Male   50   \n",
       "7          8    15656148    Obinna          376   Germany  Female   29   \n",
       "8          9    15792365        He          501    France    Male   44   \n",
       "9         10    15592389        H?          684    France    Male   27   \n",
       "\n",
       "   Tenure    Balance  NumOfProducts  HasCrCard  IsActiveMember  \\\n",
       "0     2.0       0.00              1          1               1   \n",
       "1     1.0   83807.86              1          0               1   \n",
       "2     8.0  159660.80              3          1               0   \n",
       "3     1.0       0.00              2          0               0   \n",
       "4     2.0  125510.82              1          1               1   \n",
       "5     8.0  113755.78              2          1               0   \n",
       "6     7.0       0.00              2          1               1   \n",
       "7     4.0  115046.74              4          1               0   \n",
       "8     4.0  142051.07              2          0               1   \n",
       "9     2.0  134603.88              1          1               1   \n",
       "\n",
       "   EstimatedSalary  Exited  \n",
       "0        101348.88       1  \n",
       "1        112542.58       0  \n",
       "2        113931.57       1  \n",
       "3         93826.63       0  \n",
       "4         79084.10       0  \n",
       "5        149756.71       1  \n",
       "6         10062.80       0  \n",
       "7        119346.88       1  \n",
       "8         74940.50       0  \n",
       "9         71725.73       0  "
      ]
     },
     "metadata": {},
     "output_type": "display_data"
    }
   ],
   "source": [
    "display(df.head(10))"
   ]
  },
  {
   "cell_type": "markdown",
   "id": "82ca1dea",
   "metadata": {},
   "source": [
    "For the purpose of predicting whether a customer will leave the bank soon, some columns such as `RowNumber`, `CustomerId` and `Surname` are not useful. Thus, we will drop them from the dataset. "
   ]
  },
  {
   "cell_type": "code",
   "execution_count": 6,
   "id": "2ef20378",
   "metadata": {},
   "outputs": [],
   "source": [
    "df = df.drop(['RowNumber', 'CustomerId', 'Surname'], axis=1)"
   ]
  },
  {
   "cell_type": "code",
   "execution_count": 7,
   "id": "65c4fb51",
   "metadata": {},
   "outputs": [
    {
     "name": "stdout",
     "output_type": "stream",
     "text": [
      "<class 'pandas.core.frame.DataFrame'>\n",
      "RangeIndex: 10000 entries, 0 to 9999\n",
      "Data columns (total 11 columns):\n",
      " #   Column           Non-Null Count  Dtype  \n",
      "---  ------           --------------  -----  \n",
      " 0   CreditScore      10000 non-null  int64  \n",
      " 1   Geography        10000 non-null  object \n",
      " 2   Gender           10000 non-null  object \n",
      " 3   Age              10000 non-null  int64  \n",
      " 4   Tenure           9091 non-null   float64\n",
      " 5   Balance          10000 non-null  float64\n",
      " 6   NumOfProducts    10000 non-null  int64  \n",
      " 7   HasCrCard        10000 non-null  int64  \n",
      " 8   IsActiveMember   10000 non-null  int64  \n",
      " 9   EstimatedSalary  10000 non-null  float64\n",
      " 10  Exited           10000 non-null  int64  \n",
      "dtypes: float64(3), int64(6), object(2)\n",
      "memory usage: 859.5+ KB\n"
     ]
    }
   ],
   "source": [
    "df.info()"
   ]
  },
  {
   "cell_type": "code",
   "execution_count": 8,
   "id": "dfd59f1d",
   "metadata": {},
   "outputs": [
    {
     "data": {
      "text/html": [
       "<div>\n",
       "<style scoped>\n",
       "    .dataframe tbody tr th:only-of-type {\n",
       "        vertical-align: middle;\n",
       "    }\n",
       "\n",
       "    .dataframe tbody tr th {\n",
       "        vertical-align: top;\n",
       "    }\n",
       "\n",
       "    .dataframe thead th {\n",
       "        text-align: right;\n",
       "    }\n",
       "</style>\n",
       "<table border=\"1\" class=\"dataframe\">\n",
       "  <thead>\n",
       "    <tr style=\"text-align: right;\">\n",
       "      <th></th>\n",
       "      <th>CreditScore</th>\n",
       "      <th>Geography</th>\n",
       "      <th>Gender</th>\n",
       "      <th>Age</th>\n",
       "      <th>Tenure</th>\n",
       "      <th>Balance</th>\n",
       "      <th>NumOfProducts</th>\n",
       "      <th>HasCrCard</th>\n",
       "      <th>IsActiveMember</th>\n",
       "      <th>EstimatedSalary</th>\n",
       "      <th>Exited</th>\n",
       "    </tr>\n",
       "  </thead>\n",
       "  <tbody>\n",
       "    <tr>\n",
       "      <th>0</th>\n",
       "      <td>619</td>\n",
       "      <td>France</td>\n",
       "      <td>Female</td>\n",
       "      <td>42</td>\n",
       "      <td>2.0</td>\n",
       "      <td>0.00</td>\n",
       "      <td>1</td>\n",
       "      <td>1</td>\n",
       "      <td>1</td>\n",
       "      <td>101348.88</td>\n",
       "      <td>1</td>\n",
       "    </tr>\n",
       "    <tr>\n",
       "      <th>1</th>\n",
       "      <td>608</td>\n",
       "      <td>Spain</td>\n",
       "      <td>Female</td>\n",
       "      <td>41</td>\n",
       "      <td>1.0</td>\n",
       "      <td>83807.86</td>\n",
       "      <td>1</td>\n",
       "      <td>0</td>\n",
       "      <td>1</td>\n",
       "      <td>112542.58</td>\n",
       "      <td>0</td>\n",
       "    </tr>\n",
       "    <tr>\n",
       "      <th>2</th>\n",
       "      <td>502</td>\n",
       "      <td>France</td>\n",
       "      <td>Female</td>\n",
       "      <td>42</td>\n",
       "      <td>8.0</td>\n",
       "      <td>159660.80</td>\n",
       "      <td>3</td>\n",
       "      <td>1</td>\n",
       "      <td>0</td>\n",
       "      <td>113931.57</td>\n",
       "      <td>1</td>\n",
       "    </tr>\n",
       "    <tr>\n",
       "      <th>3</th>\n",
       "      <td>699</td>\n",
       "      <td>France</td>\n",
       "      <td>Female</td>\n",
       "      <td>39</td>\n",
       "      <td>1.0</td>\n",
       "      <td>0.00</td>\n",
       "      <td>2</td>\n",
       "      <td>0</td>\n",
       "      <td>0</td>\n",
       "      <td>93826.63</td>\n",
       "      <td>0</td>\n",
       "    </tr>\n",
       "    <tr>\n",
       "      <th>4</th>\n",
       "      <td>850</td>\n",
       "      <td>Spain</td>\n",
       "      <td>Female</td>\n",
       "      <td>43</td>\n",
       "      <td>2.0</td>\n",
       "      <td>125510.82</td>\n",
       "      <td>1</td>\n",
       "      <td>1</td>\n",
       "      <td>1</td>\n",
       "      <td>79084.10</td>\n",
       "      <td>0</td>\n",
       "    </tr>\n",
       "    <tr>\n",
       "      <th>5</th>\n",
       "      <td>645</td>\n",
       "      <td>Spain</td>\n",
       "      <td>Male</td>\n",
       "      <td>44</td>\n",
       "      <td>8.0</td>\n",
       "      <td>113755.78</td>\n",
       "      <td>2</td>\n",
       "      <td>1</td>\n",
       "      <td>0</td>\n",
       "      <td>149756.71</td>\n",
       "      <td>1</td>\n",
       "    </tr>\n",
       "    <tr>\n",
       "      <th>6</th>\n",
       "      <td>822</td>\n",
       "      <td>France</td>\n",
       "      <td>Male</td>\n",
       "      <td>50</td>\n",
       "      <td>7.0</td>\n",
       "      <td>0.00</td>\n",
       "      <td>2</td>\n",
       "      <td>1</td>\n",
       "      <td>1</td>\n",
       "      <td>10062.80</td>\n",
       "      <td>0</td>\n",
       "    </tr>\n",
       "    <tr>\n",
       "      <th>7</th>\n",
       "      <td>376</td>\n",
       "      <td>Germany</td>\n",
       "      <td>Female</td>\n",
       "      <td>29</td>\n",
       "      <td>4.0</td>\n",
       "      <td>115046.74</td>\n",
       "      <td>4</td>\n",
       "      <td>1</td>\n",
       "      <td>0</td>\n",
       "      <td>119346.88</td>\n",
       "      <td>1</td>\n",
       "    </tr>\n",
       "    <tr>\n",
       "      <th>8</th>\n",
       "      <td>501</td>\n",
       "      <td>France</td>\n",
       "      <td>Male</td>\n",
       "      <td>44</td>\n",
       "      <td>4.0</td>\n",
       "      <td>142051.07</td>\n",
       "      <td>2</td>\n",
       "      <td>0</td>\n",
       "      <td>1</td>\n",
       "      <td>74940.50</td>\n",
       "      <td>0</td>\n",
       "    </tr>\n",
       "    <tr>\n",
       "      <th>9</th>\n",
       "      <td>684</td>\n",
       "      <td>France</td>\n",
       "      <td>Male</td>\n",
       "      <td>27</td>\n",
       "      <td>2.0</td>\n",
       "      <td>134603.88</td>\n",
       "      <td>1</td>\n",
       "      <td>1</td>\n",
       "      <td>1</td>\n",
       "      <td>71725.73</td>\n",
       "      <td>0</td>\n",
       "    </tr>\n",
       "  </tbody>\n",
       "</table>\n",
       "</div>"
      ],
      "text/plain": [
       "   CreditScore Geography  Gender  Age  Tenure    Balance  NumOfProducts  \\\n",
       "0          619    France  Female   42     2.0       0.00              1   \n",
       "1          608     Spain  Female   41     1.0   83807.86              1   \n",
       "2          502    France  Female   42     8.0  159660.80              3   \n",
       "3          699    France  Female   39     1.0       0.00              2   \n",
       "4          850     Spain  Female   43     2.0  125510.82              1   \n",
       "5          645     Spain    Male   44     8.0  113755.78              2   \n",
       "6          822    France    Male   50     7.0       0.00              2   \n",
       "7          376   Germany  Female   29     4.0  115046.74              4   \n",
       "8          501    France    Male   44     4.0  142051.07              2   \n",
       "9          684    France    Male   27     2.0  134603.88              1   \n",
       "\n",
       "   HasCrCard  IsActiveMember  EstimatedSalary  Exited  \n",
       "0          1               1        101348.88       1  \n",
       "1          0               1        112542.58       0  \n",
       "2          1               0        113931.57       1  \n",
       "3          0               0         93826.63       0  \n",
       "4          1               1         79084.10       0  \n",
       "5          1               0        149756.71       1  \n",
       "6          1               1         10062.80       0  \n",
       "7          1               0        119346.88       1  \n",
       "8          0               1         74940.50       0  \n",
       "9          1               1         71725.73       0  "
      ]
     },
     "metadata": {},
     "output_type": "display_data"
    }
   ],
   "source": [
    "display(df.head(10))"
   ]
  },
  {
   "cell_type": "markdown",
   "id": "be96f32e",
   "metadata": {},
   "source": [
    "The three columns `RowNumber`, `CustomerId` and `Surname` have been dropped from the dataset successfully. Now, let's look at the rest of the columns in detail. \n",
    "\n",
    "## Data cleaning and wrangling\n",
    "\n",
    "### Look at missing values"
   ]
  },
  {
   "cell_type": "code",
   "execution_count": 9,
   "id": "82d6f3e8",
   "metadata": {},
   "outputs": [
    {
     "name": "stdout",
     "output_type": "stream",
     "text": [
      "CreditScore        0.00\n",
      "Geography          0.00\n",
      "Gender             0.00\n",
      "Age                0.00\n",
      "Tenure             9.09\n",
      "Balance            0.00\n",
      "NumOfProducts      0.00\n",
      "HasCrCard          0.00\n",
      "IsActiveMember     0.00\n",
      "EstimatedSalary    0.00\n",
      "Exited             0.00\n",
      "dtype: float64\n"
     ]
    }
   ],
   "source": [
    "df_missing_perct = (df.isna().sum())/df.shape[0]*100\n",
    "print(df_missing_perct)"
   ]
  },
  {
   "cell_type": "markdown",
   "id": "4576fece",
   "metadata": {},
   "source": [
    "The result above shows that all columns except `Tenure` do not have missing values. The column `Tenure` has about 9.09% data as missing values. Because it is hard to do imputation for this column and the percentage of missing values is not high, we can drop all rows with missing values for `Tenure`."
   ]
  },
  {
   "cell_type": "code",
   "execution_count": 10,
   "id": "50375ecc",
   "metadata": {},
   "outputs": [],
   "source": [
    "df.dropna(axis=0, subset=['Tenure'], inplace=True)"
   ]
  },
  {
   "cell_type": "code",
   "execution_count": 11,
   "id": "cccfaada",
   "metadata": {
    "scrolled": true
   },
   "outputs": [
    {
     "name": "stdout",
     "output_type": "stream",
     "text": [
      "CreditScore        0.0\n",
      "Geography          0.0\n",
      "Gender             0.0\n",
      "Age                0.0\n",
      "Tenure             0.0\n",
      "Balance            0.0\n",
      "NumOfProducts      0.0\n",
      "HasCrCard          0.0\n",
      "IsActiveMember     0.0\n",
      "EstimatedSalary    0.0\n",
      "Exited             0.0\n",
      "dtype: float64\n"
     ]
    }
   ],
   "source": [
    "df_missing_perct = (df.isna().sum())/df.shape[0]*100\n",
    "print(df_missing_perct)"
   ]
  },
  {
   "cell_type": "markdown",
   "id": "47433c7f",
   "metadata": {},
   "source": [
    "After dropping all rows with missing values in `Tenure`, the dataset now does not has missing values.  "
   ]
  },
  {
   "cell_type": "markdown",
   "id": "10e6d272",
   "metadata": {},
   "source": [
    "### Credit score\n",
    "\n",
    "The column `CreditScore` has `int64` as the data type, which is good. "
   ]
  },
  {
   "cell_type": "markdown",
   "id": "dda43ad8",
   "metadata": {},
   "source": [
    "Let's plot the histogram and boxplot of `CreditScore` and have some idea of its distribution.   "
   ]
  },
  {
   "cell_type": "code",
   "execution_count": 12,
   "id": "1dcecfc4",
   "metadata": {},
   "outputs": [
    {
     "data": {
      "image/png": "[encoded data removed]",
      "text/plain": [
       "<Figure size 432x288 with 1 Axes>"
      ]
     },
     "metadata": {
      "needs_background": "light"
     },
     "output_type": "display_data"
    }
   ],
   "source": [
    "df.hist(\"CreditScore\", bins=30);\n",
    "plt.xlabel('Credit score')\n",
    "plt.ylabel('frequency')\n",
    "plt.title('Histogram of credit score');"
   ]
  },
  {
   "cell_type": "code",
   "execution_count": 13,
   "id": "ddae9dbf",
   "metadata": {
    "scrolled": true
   },
   "outputs": [
    {
     "data": {
      "image/png": "[encoded data removed]",
      "text/plain": [
       "<Figure size 432x288 with 1 Axes>"
      ]
     },
     "metadata": {
      "needs_background": "light"
     },
     "output_type": "display_data"
    }
   ],
   "source": [
    "df.boxplot(\"CreditScore\")\n",
    "plt.ylabel('points')\n",
    "plt.title('Boxplot of credit score')\n",
    "plt.show()"
   ]
  },
  {
   "cell_type": "markdown",
   "id": "05967b80",
   "metadata": {},
   "source": [
    "The histogram and boxplot show that the distribution of `CreditScore` is left-skewed with median around 650. There are some customers with low credit scores that are below 380.  \n",
    "\n",
    "It seems that the column `CreditScore` is in good shape and we do not need to do anything else about it. "
   ]
  },
  {
   "cell_type": "markdown",
   "id": "324021b7",
   "metadata": {},
   "source": [
    "### Geography"
   ]
  },
  {
   "cell_type": "code",
   "execution_count": 14,
   "id": "e27b9ea9",
   "metadata": {},
   "outputs": [
    {
     "data": {
      "text/plain": [
       "France     4550\n",
       "Germany    2293\n",
       "Spain      2248\n",
       "Name: Geography, dtype: int64"
      ]
     },
     "execution_count": 14,
     "metadata": {},
     "output_type": "execute_result"
    }
   ],
   "source": [
    "geo = df['Geography'].value_counts(dropna=False)\n",
    "geo\n"
   ]
  },
  {
   "cell_type": "code",
   "execution_count": 15,
   "id": "b23ce880",
   "metadata": {},
   "outputs": [
    {
     "data": {
      "image/png": "[encoded data removed]",
      "text/plain": [
       "<Figure size 432x288 with 1 Axes>"
      ]
     },
     "metadata": {
      "needs_background": "light"
     },
     "output_type": "display_data"
    }
   ],
   "source": [
    "geo.plot.bar(x='Geography', rot=0);\n",
    "plt.xlabel('Geography')\n",
    "plt.ylabel('count')\n",
    "plt.title('Barplot of Geography regions');\n"
   ]
  },
  {
   "cell_type": "markdown",
   "id": "62759678",
   "metadata": {},
   "source": [
    "The `Geography` column has three categories: France, Germany and Spain. The number of users from France is about twice as the number of users from either Germany or Spain.    "
   ]
  },
  {
   "cell_type": "markdown",
   "id": "c10cf4f4",
   "metadata": {},
   "source": [
    "### Gender"
   ]
  },
  {
   "cell_type": "code",
   "execution_count": 16,
   "id": "dc48b4d9",
   "metadata": {},
   "outputs": [
    {
     "data": {
      "text/plain": [
       "Male      4974\n",
       "Female    4117\n",
       "Name: Gender, dtype: int64"
      ]
     },
     "execution_count": 16,
     "metadata": {},
     "output_type": "execute_result"
    }
   ],
   "source": [
    "gender = df['Gender'].value_counts(dropna=False)\n",
    "gender"
   ]
  },
  {
   "cell_type": "code",
   "execution_count": 17,
   "id": "1e05c10f",
   "metadata": {},
   "outputs": [
    {
     "data": {
      "image/png": "[encoded data removed]",
      "text/plain": [
       "<Figure size 432x288 with 1 Axes>"
      ]
     },
     "metadata": {
      "needs_background": "light"
     },
     "output_type": "display_data"
    }
   ],
   "source": [
    "gender.plot.bar(x='Gender', rot=0);\n",
    "plt.xlabel('Gender')\n",
    "plt.ylabel('count')\n",
    "plt.title('Barplot of Gender');"
   ]
  },
  {
   "cell_type": "markdown",
   "id": "f139f748",
   "metadata": {},
   "source": [
    "The `Gender` column has two categories: Male and Female. The number of male users is 4974 and the number of female users is 4117.  "
   ]
  },
  {
   "cell_type": "markdown",
   "id": "590f9002",
   "metadata": {},
   "source": [
    "### Age"
   ]
  },
  {
   "cell_type": "markdown",
   "id": "7eb69c91",
   "metadata": {},
   "source": [
    "Let's plot the histogram and boxplot of `Age` and have some idea of its distribution.   "
   ]
  },
  {
   "cell_type": "code",
   "execution_count": 18,
   "id": "0fd939e1",
   "metadata": {},
   "outputs": [
    {
     "data": {
      "image/png": "[encoded data removed]",
      "text/plain": [
       "<Figure size 432x288 with 1 Axes>"
      ]
     },
     "metadata": {
      "needs_background": "light"
     },
     "output_type": "display_data"
    }
   ],
   "source": [
    "df.hist(\"Age\", bins=30);\n",
    "plt.xlabel('Age')\n",
    "plt.ylabel('frequency')\n",
    "plt.title('Histogram of Age');"
   ]
  },
  {
   "cell_type": "code",
   "execution_count": 19,
   "id": "0020e3f7",
   "metadata": {
    "scrolled": true
   },
   "outputs": [
    {
     "data": {
      "image/png": "[encoded data removed]",
      "text/plain": [
       "<Figure size 432x288 with 1 Axes>"
      ]
     },
     "metadata": {
      "needs_background": "light"
     },
     "output_type": "display_data"
    }
   ],
   "source": [
    "df.boxplot(\"Age\")\n",
    "plt.ylabel('years')\n",
    "plt.title('Boxplot of Age')\n",
    "plt.show()"
   ]
  },
  {
   "cell_type": "markdown",
   "id": "f780296a",
   "metadata": {},
   "source": [
    "The histogram and boxplot show that the distribution of `Age` is right-skewed with median around 35. There are some customers with age above 62 and those are outliers in terms of age.  \n",
    "\n",
    "It seems that the column `Age` is in good shape and we do not need to do anything else about it. "
   ]
  },
  {
   "cell_type": "markdown",
   "id": "f2a9ad84",
   "metadata": {},
   "source": [
    "### Tenure"
   ]
  },
  {
   "cell_type": "code",
   "execution_count": 20,
   "id": "6213563a",
   "metadata": {},
   "outputs": [
    {
     "data": {
      "text/plain": [
       "1.0     952\n",
       "2.0     950\n",
       "8.0     933\n",
       "3.0     928\n",
       "5.0     927\n",
       "7.0     925\n",
       "4.0     885\n",
       "9.0     882\n",
       "6.0     881\n",
       "10.0    446\n",
       "0.0     382\n",
       "Name: Tenure, dtype: int64"
      ]
     },
     "execution_count": 20,
     "metadata": {},
     "output_type": "execute_result"
    }
   ],
   "source": [
    "tenure = df['Tenure'].value_counts(dropna=False)\n",
    "tenure"
   ]
  },
  {
   "cell_type": "code",
   "execution_count": 21,
   "id": "762eec70",
   "metadata": {},
   "outputs": [
    {
     "data": {
      "image/png": "[encoded data removed]",
      "text/plain": [
       "<Figure size 432x288 with 1 Axes>"
      ]
     },
     "metadata": {
      "needs_background": "light"
     },
     "output_type": "display_data"
    }
   ],
   "source": [
    "tenure.plot.bar(x='Tenure', rot=0);\n",
    "plt.xlabel('Tenure')\n",
    "plt.ylabel('count')\n",
    "plt.title('Barplot of Tenure');\n"
   ]
  },
  {
   "cell_type": "markdown",
   "id": "dd915411",
   "metadata": {},
   "source": [
    "The `Tenure` column has 11 categories. It seems that this column is in good shape and we do not need to do anything else about it.    "
   ]
  },
  {
   "cell_type": "markdown",
   "id": "e193d54e",
   "metadata": {},
   "source": [
    "### Balance\n"
   ]
  },
  {
   "cell_type": "markdown",
   "id": "43fd382d",
   "metadata": {},
   "source": [
    "Let's plot the histogram and boxplot of `Balance` and have some idea of its distribution.   "
   ]
  },
  {
   "cell_type": "code",
   "execution_count": 22,
   "id": "c4c9557d",
   "metadata": {},
   "outputs": [
    {
     "data": {
      "image/png": "[encoded data removed]",
      "text/plain": [
       "<Figure size 432x288 with 1 Axes>"
      ]
     },
     "metadata": {
      "needs_background": "light"
     },
     "output_type": "display_data"
    }
   ],
   "source": [
    "df.hist(\"Balance\", bins=30);\n",
    "plt.xlabel('Balance')\n",
    "plt.ylabel('frequency')\n",
    "plt.title('Histogram of Balance');"
   ]
  },
  {
   "cell_type": "code",
   "execution_count": 23,
   "id": "1a209e83",
   "metadata": {
    "scrolled": true
   },
   "outputs": [
    {
     "data": {
      "image/png": "[encoded data removed]",
      "text/plain": [
       "<Figure size 432x288 with 1 Axes>"
      ]
     },
     "metadata": {
      "needs_background": "light"
     },
     "output_type": "display_data"
    }
   ],
   "source": [
    "df.boxplot(\"Balance\")\n",
    "plt.ylabel('$')\n",
    "plt.title('Boxplot of Balance')\n",
    "plt.show()"
   ]
  },
  {
   "cell_type": "markdown",
   "id": "f52179e2",
   "metadata": {},
   "source": [
    "The histogram and boxplot show that the distribution of `Balance` is left-skewed with median around 100000 dollars. There are some customers 0 or very small balance on their account.  \n",
    "\n",
    "It seems that the column `Balance` is in good shape and we do not need to do anything else about it. "
   ]
  },
  {
   "cell_type": "markdown",
   "id": "e9e96864",
   "metadata": {},
   "source": [
    "### NumOfProducts"
   ]
  },
  {
   "cell_type": "code",
   "execution_count": 24,
   "id": "0292487a",
   "metadata": {},
   "outputs": [
    {
     "data": {
      "text/plain": [
       "1    4617\n",
       "2    4184\n",
       "3     234\n",
       "4      56\n",
       "Name: NumOfProducts, dtype: int64"
      ]
     },
     "execution_count": 24,
     "metadata": {},
     "output_type": "execute_result"
    }
   ],
   "source": [
    "num_products = df['NumOfProducts'].value_counts(dropna=False)\n",
    "num_products"
   ]
  },
  {
   "cell_type": "code",
   "execution_count": 25,
   "id": "a6048a57",
   "metadata": {},
   "outputs": [
    {
     "data": {
      "image/png": "[encoded data removed]",
      "text/plain": [
       "<Figure size 432x288 with 1 Axes>"
      ]
     },
     "metadata": {
      "needs_background": "light"
     },
     "output_type": "display_data"
    }
   ],
   "source": [
    "num_products.plot.bar(x='NumOfProducts', rot=0);\n",
    "plt.xlabel('NumOfProducts')\n",
    "plt.ylabel('count')\n",
    "plt.title('Barplot of NumOfProducts');"
   ]
  },
  {
   "cell_type": "markdown",
   "id": "e8761135",
   "metadata": {},
   "source": [
    "Many customers have one or two products. Only few customers have three or four products. "
   ]
  },
  {
   "cell_type": "markdown",
   "id": "b1febef6",
   "metadata": {},
   "source": [
    "### HasCrCard"
   ]
  },
  {
   "cell_type": "code",
   "execution_count": 26,
   "id": "933a6c4e",
   "metadata": {},
   "outputs": [
    {
     "data": {
      "text/plain": [
       "1    6409\n",
       "0    2682\n",
       "Name: HasCrCard, dtype: int64"
      ]
     },
     "execution_count": 26,
     "metadata": {},
     "output_type": "execute_result"
    }
   ],
   "source": [
    "has_credit_card = df['HasCrCard'].value_counts(dropna=False)\n",
    "has_credit_card"
   ]
  },
  {
   "cell_type": "markdown",
   "id": "3b8e7049",
   "metadata": {},
   "source": [
    "About 6409 customers have credit card and 2682 customers do not have credit card."
   ]
  },
  {
   "cell_type": "markdown",
   "id": "0f52f260",
   "metadata": {},
   "source": [
    "### IsActiveMember "
   ]
  },
  {
   "cell_type": "code",
   "execution_count": 27,
   "id": "db1abf76",
   "metadata": {},
   "outputs": [
    {
     "data": {
      "text/plain": [
       "1    4687\n",
       "0    4404\n",
       "Name: IsActiveMember, dtype: int64"
      ]
     },
     "execution_count": 27,
     "metadata": {},
     "output_type": "execute_result"
    }
   ],
   "source": [
    "is_active_member = df['IsActiveMember'].value_counts(dropna=False)\n",
    "is_active_member"
   ]
  },
  {
   "cell_type": "markdown",
   "id": "7d7e183d",
   "metadata": {},
   "source": [
    "About half of the customers are active members and the other half are not active members. "
   ]
  },
  {
   "cell_type": "markdown",
   "id": "1a2594ab",
   "metadata": {},
   "source": [
    "### EstimatedSalary\n"
   ]
  },
  {
   "cell_type": "markdown",
   "id": "4a7c05a2",
   "metadata": {},
   "source": [
    "Let's plot the histogram and boxplot of `EstimatedSalary` and have some idea of its distribution.   "
   ]
  },
  {
   "cell_type": "code",
   "execution_count": 28,
   "id": "d25e8fe3",
   "metadata": {},
   "outputs": [
    {
     "data": {
      "image/png": "[encoded data removed]",
      "text/plain": [
       "<Figure size 432x288 with 1 Axes>"
      ]
     },
     "metadata": {
      "needs_background": "light"
     },
     "output_type": "display_data"
    }
   ],
   "source": [
    "df.hist(\"EstimatedSalary\", bins=30);\n",
    "plt.xlabel('EstimatedSalary')\n",
    "plt.ylabel('frequency')\n",
    "plt.title('Histogram of Estimated Salary');"
   ]
  },
  {
   "cell_type": "code",
   "execution_count": 29,
   "id": "acc95e45",
   "metadata": {
    "scrolled": true
   },
   "outputs": [
    {
     "data": {
      "image/png": "[encoded data removed]",
      "text/plain": [
       "<Figure size 432x288 with 1 Axes>"
      ]
     },
     "metadata": {
      "needs_background": "light"
     },
     "output_type": "display_data"
    }
   ],
   "source": [
    "df.boxplot(\"EstimatedSalary\")\n",
    "plt.ylabel('$')\n",
    "plt.title('Boxplot of Estimated Salary')\n",
    "plt.show()"
   ]
  },
  {
   "cell_type": "markdown",
   "id": "d4685ad1",
   "metadata": {},
   "source": [
    "The histogram and boxplot show that the distribution of `EstimatedSalary` is almost uniform with median around 100000 dollars. That is quite interesting.  \n",
    "\n",
    "It seems that the column `EstimatedSalary` is in good shape and we do not need to do anything else about it. "
   ]
  },
  {
   "cell_type": "markdown",
   "id": "afaaf7f1",
   "metadata": {},
   "source": [
    "### Exited"
   ]
  },
  {
   "cell_type": "code",
   "execution_count": 30,
   "id": "95f1ed76",
   "metadata": {},
   "outputs": [
    {
     "data": {
      "text/plain": [
       "0    7237\n",
       "1    1854\n",
       "Name: Exited, dtype: int64"
      ]
     },
     "execution_count": 30,
     "metadata": {},
     "output_type": "execute_result"
    }
   ],
   "source": [
    "exited = df['Exited'].value_counts(dropna=False)\n",
    "exited"
   ]
  },
  {
   "cell_type": "code",
   "execution_count": 31,
   "id": "c5f31431",
   "metadata": {},
   "outputs": [
    {
     "data": {
      "image/png": "[encoded data removed]",
      "text/plain": [
       "<Figure size 432x288 with 1 Axes>"
      ]
     },
     "metadata": {
      "needs_background": "light"
     },
     "output_type": "display_data"
    }
   ],
   "source": [
    "exited.plot.bar(x='Exited', rot=0);\n",
    "plt.xlabel('Exited')\n",
    "plt.ylabel('count')\n",
    "plt.title('Barplot of Exited');"
   ]
  },
  {
   "cell_type": "markdown",
   "id": "4ab07cbc",
   "metadata": {},
   "source": [
    "The column `Exited` is the target variable. About 1854 customers have exited. The other 7237 customers have not exited. The target classes [(exit) : (not exited)] has a [1:4] ratio. There is some class imbalance issues.\n",
    "\n",
    "By looking at each column in detail, we conclude that the dataset is clean and in good shape for builing models."
   ]
  },
  {
   "cell_type": "markdown",
   "id": "9c563827",
   "metadata": {},
   "source": [
    "## Modeling\n",
    "\n",
    "### One-hot encoding for categorical variables"
   ]
  },
  {
   "cell_type": "code",
   "execution_count": 32,
   "id": "4a2ac348",
   "metadata": {
    "scrolled": false
   },
   "outputs": [
    {
     "data": {
      "text/html": [
       "<div>\n",
       "<style scoped>\n",
       "    .dataframe tbody tr th:only-of-type {\n",
       "        vertical-align: middle;\n",
       "    }\n",
       "\n",
       "    .dataframe tbody tr th {\n",
       "        vertical-align: top;\n",
       "    }\n",
       "\n",
       "    .dataframe thead th {\n",
       "        text-align: right;\n",
       "    }\n",
       "</style>\n",
       "<table border=\"1\" class=\"dataframe\">\n",
       "  <thead>\n",
       "    <tr style=\"text-align: right;\">\n",
       "      <th></th>\n",
       "      <th>CreditScore</th>\n",
       "      <th>Age</th>\n",
       "      <th>Tenure</th>\n",
       "      <th>Balance</th>\n",
       "      <th>NumOfProducts</th>\n",
       "      <th>HasCrCard</th>\n",
       "      <th>IsActiveMember</th>\n",
       "      <th>EstimatedSalary</th>\n",
       "      <th>Exited</th>\n",
       "      <th>Geography_Germany</th>\n",
       "      <th>Geography_Spain</th>\n",
       "      <th>Gender_Male</th>\n",
       "    </tr>\n",
       "  </thead>\n",
       "  <tbody>\n",
       "    <tr>\n",
       "      <th>0</th>\n",
       "      <td>619</td>\n",
       "      <td>42</td>\n",
       "      <td>2.0</td>\n",
       "      <td>0.00</td>\n",
       "      <td>1</td>\n",
       "      <td>1</td>\n",
       "      <td>1</td>\n",
       "      <td>101348.88</td>\n",
       "      <td>1</td>\n",
       "      <td>0</td>\n",
       "      <td>0</td>\n",
       "      <td>0</td>\n",
       "    </tr>\n",
       "    <tr>\n",
       "      <th>1</th>\n",
       "      <td>608</td>\n",
       "      <td>41</td>\n",
       "      <td>1.0</td>\n",
       "      <td>83807.86</td>\n",
       "      <td>1</td>\n",
       "      <td>0</td>\n",
       "      <td>1</td>\n",
       "      <td>112542.58</td>\n",
       "      <td>0</td>\n",
       "      <td>0</td>\n",
       "      <td>1</td>\n",
       "      <td>0</td>\n",
       "    </tr>\n",
       "    <tr>\n",
       "      <th>2</th>\n",
       "      <td>502</td>\n",
       "      <td>42</td>\n",
       "      <td>8.0</td>\n",
       "      <td>159660.80</td>\n",
       "      <td>3</td>\n",
       "      <td>1</td>\n",
       "      <td>0</td>\n",
       "      <td>113931.57</td>\n",
       "      <td>1</td>\n",
       "      <td>0</td>\n",
       "      <td>0</td>\n",
       "      <td>0</td>\n",
       "    </tr>\n",
       "    <tr>\n",
       "      <th>3</th>\n",
       "      <td>699</td>\n",
       "      <td>39</td>\n",
       "      <td>1.0</td>\n",
       "      <td>0.00</td>\n",
       "      <td>2</td>\n",
       "      <td>0</td>\n",
       "      <td>0</td>\n",
       "      <td>93826.63</td>\n",
       "      <td>0</td>\n",
       "      <td>0</td>\n",
       "      <td>0</td>\n",
       "      <td>0</td>\n",
       "    </tr>\n",
       "    <tr>\n",
       "      <th>4</th>\n",
       "      <td>850</td>\n",
       "      <td>43</td>\n",
       "      <td>2.0</td>\n",
       "      <td>125510.82</td>\n",
       "      <td>1</td>\n",
       "      <td>1</td>\n",
       "      <td>1</td>\n",
       "      <td>79084.10</td>\n",
       "      <td>0</td>\n",
       "      <td>0</td>\n",
       "      <td>1</td>\n",
       "      <td>0</td>\n",
       "    </tr>\n",
       "    <tr>\n",
       "      <th>5</th>\n",
       "      <td>645</td>\n",
       "      <td>44</td>\n",
       "      <td>8.0</td>\n",
       "      <td>113755.78</td>\n",
       "      <td>2</td>\n",
       "      <td>1</td>\n",
       "      <td>0</td>\n",
       "      <td>149756.71</td>\n",
       "      <td>1</td>\n",
       "      <td>0</td>\n",
       "      <td>1</td>\n",
       "      <td>1</td>\n",
       "    </tr>\n",
       "    <tr>\n",
       "      <th>6</th>\n",
       "      <td>822</td>\n",
       "      <td>50</td>\n",
       "      <td>7.0</td>\n",
       "      <td>0.00</td>\n",
       "      <td>2</td>\n",
       "      <td>1</td>\n",
       "      <td>1</td>\n",
       "      <td>10062.80</td>\n",
       "      <td>0</td>\n",
       "      <td>0</td>\n",
       "      <td>0</td>\n",
       "      <td>1</td>\n",
       "    </tr>\n",
       "    <tr>\n",
       "      <th>7</th>\n",
       "      <td>376</td>\n",
       "      <td>29</td>\n",
       "      <td>4.0</td>\n",
       "      <td>115046.74</td>\n",
       "      <td>4</td>\n",
       "      <td>1</td>\n",
       "      <td>0</td>\n",
       "      <td>119346.88</td>\n",
       "      <td>1</td>\n",
       "      <td>1</td>\n",
       "      <td>0</td>\n",
       "      <td>0</td>\n",
       "    </tr>\n",
       "    <tr>\n",
       "      <th>8</th>\n",
       "      <td>501</td>\n",
       "      <td>44</td>\n",
       "      <td>4.0</td>\n",
       "      <td>142051.07</td>\n",
       "      <td>2</td>\n",
       "      <td>0</td>\n",
       "      <td>1</td>\n",
       "      <td>74940.50</td>\n",
       "      <td>0</td>\n",
       "      <td>0</td>\n",
       "      <td>0</td>\n",
       "      <td>1</td>\n",
       "    </tr>\n",
       "    <tr>\n",
       "      <th>9</th>\n",
       "      <td>684</td>\n",
       "      <td>27</td>\n",
       "      <td>2.0</td>\n",
       "      <td>134603.88</td>\n",
       "      <td>1</td>\n",
       "      <td>1</td>\n",
       "      <td>1</td>\n",
       "      <td>71725.73</td>\n",
       "      <td>0</td>\n",
       "      <td>0</td>\n",
       "      <td>0</td>\n",
       "      <td>1</td>\n",
       "    </tr>\n",
       "  </tbody>\n",
       "</table>\n",
       "</div>"
      ],
      "text/plain": [
       "   CreditScore  Age  Tenure    Balance  NumOfProducts  HasCrCard  \\\n",
       "0          619   42     2.0       0.00              1          1   \n",
       "1          608   41     1.0   83807.86              1          0   \n",
       "2          502   42     8.0  159660.80              3          1   \n",
       "3          699   39     1.0       0.00              2          0   \n",
       "4          850   43     2.0  125510.82              1          1   \n",
       "5          645   44     8.0  113755.78              2          1   \n",
       "6          822   50     7.0       0.00              2          1   \n",
       "7          376   29     4.0  115046.74              4          1   \n",
       "8          501   44     4.0  142051.07              2          0   \n",
       "9          684   27     2.0  134603.88              1          1   \n",
       "\n",
       "   IsActiveMember  EstimatedSalary  Exited  Geography_Germany  \\\n",
       "0               1        101348.88       1                  0   \n",
       "1               1        112542.58       0                  0   \n",
       "2               0        113931.57       1                  0   \n",
       "3               0         93826.63       0                  0   \n",
       "4               1         79084.10       0                  0   \n",
       "5               0        149756.71       1                  0   \n",
       "6               1         10062.80       0                  0   \n",
       "7               0        119346.88       1                  1   \n",
       "8               1         74940.50       0                  0   \n",
       "9               1         71725.73       0                  0   \n",
       "\n",
       "   Geography_Spain  Gender_Male  \n",
       "0                0            0  \n",
       "1                1            0  \n",
       "2                0            0  \n",
       "3                0            0  \n",
       "4                1            0  \n",
       "5                1            1  \n",
       "6                0            1  \n",
       "7                0            0  \n",
       "8                0            1  \n",
       "9                0            1  "
      ]
     },
     "metadata": {},
     "output_type": "display_data"
    }
   ],
   "source": [
    "data_ohe = pd.get_dummies(df, drop_first=True)\n",
    "display(data_ohe.head(10))"
   ]
  },
  {
   "cell_type": "markdown",
   "id": "1ed599d2",
   "metadata": {},
   "source": [
    "We performed one-hot encoding for the categorical variables `Geography` and `Gender` in the dataset. "
   ]
  },
  {
   "cell_type": "markdown",
   "id": "0d765195",
   "metadata": {},
   "source": [
    "### Split the dataset into training, validation and test datasets\n",
    "\n",
    "Next, we will split the dataset into training, validation and test datasets according to a 3:1:1 ratio. "
   ]
  },
  {
   "cell_type": "code",
   "execution_count": 33,
   "id": "5cc35b3d",
   "metadata": {},
   "outputs": [],
   "source": [
    "df_train, df_valid = train_test_split(data_ohe, test_size=0.2, random_state=12345) \n",
    "df_train, df_test = train_test_split(df_train, test_size=0.2, random_state=12345) \n",
    "\n",
    "features_train = df_train.drop(['Exited'], axis=1)\n",
    "target_train = df_train['Exited']\n",
    "\n",
    "features_valid = df_valid.drop(['Exited'], axis=1)\n",
    "target_valid = df_valid['Exited']\n",
    "\n",
    "features_test = df_test.drop(['Exited'], axis=1)\n",
    "target_test = df_test['Exited']"
   ]
  },
  {
   "cell_type": "markdown",
   "id": "3f375ec6",
   "metadata": {},
   "source": [
    "Let me check the size of each part and make sure the sizes make sense. "
   ]
  },
  {
   "cell_type": "code",
   "execution_count": 34,
   "id": "cd5d77a6",
   "metadata": {
    "scrolled": true
   },
   "outputs": [
    {
     "name": "stdout",
     "output_type": "stream",
     "text": [
      "(5817, 11)\n",
      "(5817,)\n",
      "(1819, 11)\n",
      "(1819,)\n",
      "(1455, 11)\n",
      "(1455,)\n"
     ]
    }
   ],
   "source": [
    "print(features_train.shape)\n",
    "print(target_train.shape)\n",
    "print(features_valid.shape)\n",
    "print(target_valid.shape)\n",
    "print(features_test.shape)\n",
    "print(target_test.shape)"
   ]
  },
  {
   "cell_type": "markdown",
   "id": "64a1c7b4",
   "metadata": {},
   "source": [
    "The sizes of the training, validation and test datasets look good!"
   ]
  },
  {
   "cell_type": "markdown",
   "id": "fc8c1b81",
   "metadata": {},
   "source": [
    "### Feature scaling"
   ]
  },
  {
   "cell_type": "markdown",
   "id": "bc0b6a6e",
   "metadata": {},
   "source": [
    "It is apparent that the numeric variables 'CreditScore', 'Age', 'Tenure', 'Balance', 'NumOfProducts' and 'EstimatedSalary' are on vastly different scales. Let's scale the features by standardizing the data."
   ]
  },
  {
   "cell_type": "code",
   "execution_count": 35,
   "id": "bfaeffe0",
   "metadata": {
    "scrolled": false
   },
   "outputs": [
    {
     "data": {
      "text/html": [
       "<div>\n",
       "<style scoped>\n",
       "    .dataframe tbody tr th:only-of-type {\n",
       "        vertical-align: middle;\n",
       "    }\n",
       "\n",
       "    .dataframe tbody tr th {\n",
       "        vertical-align: top;\n",
       "    }\n",
       "\n",
       "    .dataframe thead th {\n",
       "        text-align: right;\n",
       "    }\n",
       "</style>\n",
       "<table border=\"1\" class=\"dataframe\">\n",
       "  <thead>\n",
       "    <tr style=\"text-align: right;\">\n",
       "      <th></th>\n",
       "      <th>CreditScore</th>\n",
       "      <th>Age</th>\n",
       "      <th>Tenure</th>\n",
       "      <th>Balance</th>\n",
       "      <th>NumOfProducts</th>\n",
       "      <th>HasCrCard</th>\n",
       "      <th>IsActiveMember</th>\n",
       "      <th>EstimatedSalary</th>\n",
       "      <th>Geography_Germany</th>\n",
       "      <th>Geography_Spain</th>\n",
       "      <th>Gender_Male</th>\n",
       "    </tr>\n",
       "  </thead>\n",
       "  <tbody>\n",
       "    <tr>\n",
       "      <th>3004</th>\n",
       "      <td>-0.540565</td>\n",
       "      <td>0.753449</td>\n",
       "      <td>0.004092</td>\n",
       "      <td>1.020764</td>\n",
       "      <td>0.796659</td>\n",
       "      <td>1</td>\n",
       "      <td>1</td>\n",
       "      <td>1.289847</td>\n",
       "      <td>1</td>\n",
       "      <td>0</td>\n",
       "      <td>1</td>\n",
       "    </tr>\n",
       "    <tr>\n",
       "      <th>5874</th>\n",
       "      <td>-0.530315</td>\n",
       "      <td>-1.903262</td>\n",
       "      <td>-1.030717</td>\n",
       "      <td>-1.230647</td>\n",
       "      <td>0.796659</td>\n",
       "      <td>1</td>\n",
       "      <td>1</td>\n",
       "      <td>-0.155815</td>\n",
       "      <td>0</td>\n",
       "      <td>0</td>\n",
       "      <td>1</td>\n",
       "    </tr>\n",
       "    <tr>\n",
       "      <th>7440</th>\n",
       "      <td>-0.274076</td>\n",
       "      <td>0.753449</td>\n",
       "      <td>0.349028</td>\n",
       "      <td>1.055003</td>\n",
       "      <td>-0.911474</td>\n",
       "      <td>0</td>\n",
       "      <td>0</td>\n",
       "      <td>0.002966</td>\n",
       "      <td>0</td>\n",
       "      <td>1</td>\n",
       "      <td>0</td>\n",
       "    </tr>\n",
       "    <tr>\n",
       "      <th>1038</th>\n",
       "      <td>-1.288784</td>\n",
       "      <td>-0.859554</td>\n",
       "      <td>-1.375653</td>\n",
       "      <td>0.105248</td>\n",
       "      <td>-0.911474</td>\n",
       "      <td>1</td>\n",
       "      <td>1</td>\n",
       "      <td>0.662545</td>\n",
       "      <td>0</td>\n",
       "      <td>0</td>\n",
       "      <td>1</td>\n",
       "    </tr>\n",
       "    <tr>\n",
       "      <th>8269</th>\n",
       "      <td>-0.386821</td>\n",
       "      <td>1.322745</td>\n",
       "      <td>0.693964</td>\n",
       "      <td>-1.230647</td>\n",
       "      <td>0.796659</td>\n",
       "      <td>0</td>\n",
       "      <td>1</td>\n",
       "      <td>0.980560</td>\n",
       "      <td>0</td>\n",
       "      <td>0</td>\n",
       "      <td>0</td>\n",
       "    </tr>\n",
       "    <tr>\n",
       "      <th>6248</th>\n",
       "      <td>-0.602062</td>\n",
       "      <td>0.753449</td>\n",
       "      <td>-0.685781</td>\n",
       "      <td>-1.230647</td>\n",
       "      <td>0.796659</td>\n",
       "      <td>1</td>\n",
       "      <td>0</td>\n",
       "      <td>1.245808</td>\n",
       "      <td>0</td>\n",
       "      <td>0</td>\n",
       "      <td>1</td>\n",
       "    </tr>\n",
       "    <tr>\n",
       "      <th>5070</th>\n",
       "      <td>-0.079334</td>\n",
       "      <td>0.279037</td>\n",
       "      <td>0.349028</td>\n",
       "      <td>-1.230647</td>\n",
       "      <td>0.796659</td>\n",
       "      <td>0</td>\n",
       "      <td>0</td>\n",
       "      <td>0.366762</td>\n",
       "      <td>0</td>\n",
       "      <td>0</td>\n",
       "      <td>0</td>\n",
       "    </tr>\n",
       "    <tr>\n",
       "      <th>7159</th>\n",
       "      <td>-1.268284</td>\n",
       "      <td>1.892040</td>\n",
       "      <td>0.349028</td>\n",
       "      <td>-0.342071</td>\n",
       "      <td>-0.911474</td>\n",
       "      <td>1</td>\n",
       "      <td>0</td>\n",
       "      <td>-0.289385</td>\n",
       "      <td>0</td>\n",
       "      <td>0</td>\n",
       "      <td>0</td>\n",
       "    </tr>\n",
       "    <tr>\n",
       "      <th>1508</th>\n",
       "      <td>-0.745556</td>\n",
       "      <td>-0.290259</td>\n",
       "      <td>0.349028</td>\n",
       "      <td>-1.230647</td>\n",
       "      <td>0.796659</td>\n",
       "      <td>1</td>\n",
       "      <td>1</td>\n",
       "      <td>-0.897490</td>\n",
       "      <td>0</td>\n",
       "      <td>0</td>\n",
       "      <td>1</td>\n",
       "    </tr>\n",
       "    <tr>\n",
       "      <th>1073</th>\n",
       "      <td>-1.493775</td>\n",
       "      <td>-0.195376</td>\n",
       "      <td>0.349028</td>\n",
       "      <td>-1.230647</td>\n",
       "      <td>0.796659</td>\n",
       "      <td>0</td>\n",
       "      <td>0</td>\n",
       "      <td>0.633555</td>\n",
       "      <td>0</td>\n",
       "      <td>1</td>\n",
       "      <td>1</td>\n",
       "    </tr>\n",
       "  </tbody>\n",
       "</table>\n",
       "</div>"
      ],
      "text/plain": [
       "      CreditScore       Age    Tenure   Balance  NumOfProducts  HasCrCard  \\\n",
       "3004    -0.540565  0.753449  0.004092  1.020764       0.796659          1   \n",
       "5874    -0.530315 -1.903262 -1.030717 -1.230647       0.796659          1   \n",
       "7440    -0.274076  0.753449  0.349028  1.055003      -0.911474          0   \n",
       "1038    -1.288784 -0.859554 -1.375653  0.105248      -0.911474          1   \n",
       "8269    -0.386821  1.322745  0.693964 -1.230647       0.796659          0   \n",
       "6248    -0.602062  0.753449 -0.685781 -1.230647       0.796659          1   \n",
       "5070    -0.079334  0.279037  0.349028 -1.230647       0.796659          0   \n",
       "7159    -1.268284  1.892040  0.349028 -0.342071      -0.911474          1   \n",
       "1508    -0.745556 -0.290259  0.349028 -1.230647       0.796659          1   \n",
       "1073    -1.493775 -0.195376  0.349028 -1.230647       0.796659          0   \n",
       "\n",
       "      IsActiveMember  EstimatedSalary  Geography_Germany  Geography_Spain  \\\n",
       "3004               1         1.289847                  1                0   \n",
       "5874               1        -0.155815                  0                0   \n",
       "7440               0         0.002966                  0                1   \n",
       "1038               1         0.662545                  0                0   \n",
       "8269               1         0.980560                  0                0   \n",
       "6248               0         1.245808                  0                0   \n",
       "5070               0         0.366762                  0                0   \n",
       "7159               0        -0.289385                  0                0   \n",
       "1508               1        -0.897490                  0                0   \n",
       "1073               0         0.633555                  0                1   \n",
       "\n",
       "      Gender_Male  \n",
       "3004            1  \n",
       "5874            1  \n",
       "7440            0  \n",
       "1038            1  \n",
       "8269            0  \n",
       "6248            1  \n",
       "5070            0  \n",
       "7159            0  \n",
       "1508            1  \n",
       "1073            1  "
      ]
     },
     "metadata": {},
     "output_type": "display_data"
    }
   ],
   "source": [
    "numeric = ['CreditScore', 'Age', 'Tenure', 'Balance', 'NumOfProducts',\n",
    "          'EstimatedSalary']\n",
    "\n",
    "# < write code here >\n",
    "scaler = StandardScaler()\n",
    "scaler.fit(features_train[numeric]) \n",
    "features_train[numeric] = scaler.transform(features_train[numeric])\n",
    "features_valid[numeric] = scaler.transform(features_valid[numeric])\n",
    "features_test[numeric] = scaler.transform(features_test[numeric])\n",
    "display(features_train.head(10))"
   ]
  },
  {
   "cell_type": "markdown",
   "id": "15b19238",
   "metadata": {},
   "source": [
    "### Logistic regression model without considering target imbalance"
   ]
  },
  {
   "cell_type": "code",
   "execution_count": 36,
   "id": "4f5968ab",
   "metadata": {
    "scrolled": true
   },
   "outputs": [
    {
     "name": "stdout",
     "output_type": "stream",
     "text": [
      "For the validation dataset: precision=0.655, Recall = 0.211, f1 = 0.320\n",
      "For the test dataset: precision=0.604, Recall = 0.195, f1 = 0.295\n"
     ]
    }
   ],
   "source": [
    "model = LogisticRegression(random_state=12345, solver='liblinear')\n",
    "model.fit(features_train, target_train)\n",
    "\n",
    "predicted_valid = model.predict(features_valid)\n",
    "precision = precision_score(target_valid, predicted_valid)\n",
    "recall = recall_score(target_valid, predicted_valid)\n",
    "f1 = f1_score(target_valid, predicted_valid)\n",
    "    \n",
    "print('For the validation dataset: precision={:.3f}, Recall = {:.3f}, f1 = {:.3f}'.format(\n",
    "    precision, recall, f1))\n",
    "\n",
    "predicted_test = model.predict(features_test)\n",
    "precision = precision_score(target_test, predicted_test)\n",
    "recall = recall_score(target_test, predicted_test)\n",
    "f1 = f1_score(target_test, predicted_test)\n",
    "    \n",
    "print('For the test dataset: precision={:.3f}, Recall = {:.3f}, f1 = {:.3f}'.format(\n",
    "    precision, recall, f1))\n"
   ]
  },
  {
   "cell_type": "markdown",
   "id": "de03a45f",
   "metadata": {},
   "source": [
    "We see that the precision, recall and f1 scores for the model are all pretty low for the logistic regression model without considering target imbalance. \n",
    "\n",
    "The column `Exited` is the target variable. About 1854 customers have exited. The other 7237 customers have not exited. The target classes [(exit) : (not exited)] has a [1:4] ratio. There is some class imbalance issues.\n",
    "\n",
    "\n",
    "Next, let's build logistic regression model with consideration for target imbalance."
   ]
  },
  {
   "cell_type": "markdown",
   "id": "7301219f",
   "metadata": {},
   "source": [
    "### Logistic regression model with consideration for target imbalance"
   ]
  },
  {
   "cell_type": "code",
   "execution_count": 37,
   "id": "c9efc4a1",
   "metadata": {
    "scrolled": false
   },
   "outputs": [
    {
     "name": "stdout",
     "output_type": "stream",
     "text": [
      "For the validation dataset: precision=0.398, Recall = 0.713, f1 = 0.511\n",
      "For the test dataset: precision=0.392, Recall = 0.702, f1 = 0.503\n"
     ]
    }
   ],
   "source": [
    "model = LogisticRegression(random_state=12345, \n",
    "                           solver='liblinear', \n",
    "                           class_weight='balanced')\n",
    "\n",
    "model.fit(features_train, target_train)\n",
    "\n",
    "predicted_valid = model.predict(features_valid)\n",
    "precision = precision_score(target_valid, predicted_valid)\n",
    "recall = recall_score(target_valid, predicted_valid)\n",
    "f1 = f1_score(target_valid, predicted_valid)\n",
    "    \n",
    "print('For the validation dataset: precision={:.3f}, Recall = {:.3f}, f1 = {:.3f}'.format(\n",
    "    precision, recall, f1))\n",
    "\n",
    "predicted_test = model.predict(features_test)\n",
    "precision = precision_score(target_test, predicted_test)\n",
    "recall = recall_score(target_test, predicted_test)\n",
    "f1 = f1_score(target_test, predicted_test)\n",
    "    \n",
    "print('For the test dataset: precision={:.3f}, Recall = {:.3f}, f1 = {:.3f}'.format(\n",
    "    precision, recall, f1))"
   ]
  },
  {
   "cell_type": "markdown",
   "id": "dc261b63",
   "metadata": {},
   "source": [
    "We see that with consideration for target imbalance, the f1 score has increased significantly. But it is still not good enough because we aim for a model with f1 score of at least 0.59. "
   ]
  },
  {
   "cell_type": "markdown",
   "id": "5a3877a9",
   "metadata": {},
   "source": [
    "### ROC curve"
   ]
  },
  {
   "cell_type": "code",
   "execution_count": 38,
   "id": "03758f36",
   "metadata": {},
   "outputs": [
    {
     "data": {
      "image/png": "[encoded data removed]",
      "text/plain": [
       "<Figure size 432x288 with 1 Axes>"
      ]
     },
     "metadata": {
      "needs_background": "light"
     },
     "output_type": "display_data"
    }
   ],
   "source": [
    "probabilities_valid = model.predict_proba(features_valid)\n",
    "probabilities_one_valid = probabilities_valid[:, 1]\n",
    "\n",
    "fpr, tpr, thresholds = roc_curve(target_valid, probabilities_one_valid)\n",
    "\n",
    "plt.figure()\n",
    "plt.plot(fpr, tpr)\n",
    "plt.xlim([0.0, 1.0])\n",
    "plt.ylim([0.0, 1.0])\n",
    "plt.xlabel('False Positive Rate')\n",
    "plt.ylabel('True Positive Rate')\n",
    "plt.title('ROC curve')\n",
    "\n",
    "# ROC curve for random model (looks like a straight line)\n",
    "plt.plot([0, 1], [0, 1], linestyle='--');\n",
    "\n",
    "# < use the functions plt.xlim() and plt.ylim() to\n",
    "#   set the boundary for the axes from 0 to 1 >\n",
    "\n",
    "# < use the functions plt.xlabel() and plt.ylabel() to\n",
    "#   name the axes \"False Positive Rate\" and \"True Positive Rate\" >\n",
    "\n",
    "# < add the heading \"ROC curve\" with the function plt.title() >\n",
    "\n",
    "plt.show();"
   ]
  },
  {
   "cell_type": "markdown",
   "id": "3285d285",
   "metadata": {},
   "source": [
    "### AUC-ROC "
   ]
  },
  {
   "cell_type": "code",
   "execution_count": 39,
   "id": "3b0670e4",
   "metadata": {},
   "outputs": [
    {
     "name": "stdout",
     "output_type": "stream",
     "text": [
      "0.7888122605363985\n"
     ]
    }
   ],
   "source": [
    "auc_roc = roc_auc_score(target_valid, probabilities_one_valid)\n",
    "print(auc_roc)"
   ]
  },
  {
   "cell_type": "markdown",
   "id": "e0736774",
   "metadata": {},
   "source": [
    "The logistic regression model with consideration for target imbalance has f1 score 0.503 for the test dataset, which is below 0.59. The ROC curve is shown above. The area under the curve is 0.789. \n",
    "\n",
    "To achieve higher f1 scores, we need to look at other types of models."
   ]
  },
  {
   "cell_type": "markdown",
   "id": "c5978aea",
   "metadata": {},
   "source": [
    "## Random Forest Classifier\n",
    "\n",
    "### Label encoding for the categorical variables in the dataset\n"
   ]
  },
  {
   "cell_type": "code",
   "execution_count": 40,
   "id": "8eb45e8f",
   "metadata": {},
   "outputs": [],
   "source": [
    "encoder = OrdinalEncoder()\n",
    "data_ordinal = pd.DataFrame(encoder.fit_transform(df), columns=df.columns)\n"
   ]
  },
  {
   "cell_type": "markdown",
   "id": "6e621485",
   "metadata": {},
   "source": [
    "### Split the dataset into training, validation and test datasets\n",
    "\n",
    "Next, we will split the dataset into training, validation and test datasets according to a 3:1:1 ratio. "
   ]
  },
  {
   "cell_type": "code",
   "execution_count": 41,
   "id": "6299a14a",
   "metadata": {},
   "outputs": [],
   "source": [
    "df_train, df_valid = train_test_split(data_ordinal, test_size=0.2, random_state=12345) \n",
    "df_train, df_test = train_test_split(df_train, test_size=0.2, random_state=12345) \n",
    "\n",
    "features_train = df_train.drop(['Exited'], axis=1)\n",
    "target_train = df_train['Exited']\n",
    "\n",
    "features_valid = df_valid.drop(['Exited'], axis=1)\n",
    "target_valid = df_valid['Exited']\n",
    "\n",
    "features_test = df_test.drop(['Exited'], axis=1)\n",
    "target_test = df_test['Exited']"
   ]
  },
  {
   "cell_type": "markdown",
   "id": "8302126f",
   "metadata": {},
   "source": [
    "Let me check the size of each part and make sure the sizes make sense. "
   ]
  },
  {
   "cell_type": "code",
   "execution_count": 42,
   "id": "71a458ef",
   "metadata": {
    "scrolled": true
   },
   "outputs": [
    {
     "name": "stdout",
     "output_type": "stream",
     "text": [
      "(5817, 10)\n",
      "(5817,)\n",
      "(1819, 10)\n",
      "(1819,)\n",
      "(1455, 10)\n",
      "(1455,)\n"
     ]
    }
   ],
   "source": [
    "print(features_train.shape)\n",
    "print(target_train.shape)\n",
    "print(features_valid.shape)\n",
    "print(target_valid.shape)\n",
    "print(features_test.shape)\n",
    "print(target_test.shape)"
   ]
  },
  {
   "cell_type": "markdown",
   "id": "33ac1fbf",
   "metadata": {},
   "source": [
    "The sizes of the training, validation and test datasets look good!"
   ]
  },
  {
   "cell_type": "markdown",
   "id": "0691e5bb",
   "metadata": {},
   "source": [
    "### Feature scaling"
   ]
  },
  {
   "cell_type": "markdown",
   "id": "25091c95",
   "metadata": {},
   "source": [
    "It is apparent that the numeric variables 'CreditScore', 'Age', 'Tenure', 'Balance', 'NumOfProducts' and 'EstimatedSalary' are on vastly different scales. Let's scale the features by standardizing the data."
   ]
  },
  {
   "cell_type": "code",
   "execution_count": 43,
   "id": "6eb696c9",
   "metadata": {
    "scrolled": true
   },
   "outputs": [
    {
     "data": {
      "text/html": [
       "<div>\n",
       "<style scoped>\n",
       "    .dataframe tbody tr th:only-of-type {\n",
       "        vertical-align: middle;\n",
       "    }\n",
       "\n",
       "    .dataframe tbody tr th {\n",
       "        vertical-align: top;\n",
       "    }\n",
       "\n",
       "    .dataframe thead th {\n",
       "        text-align: right;\n",
       "    }\n",
       "</style>\n",
       "<table border=\"1\" class=\"dataframe\">\n",
       "  <thead>\n",
       "    <tr style=\"text-align: right;\">\n",
       "      <th></th>\n",
       "      <th>CreditScore</th>\n",
       "      <th>Geography</th>\n",
       "      <th>Gender</th>\n",
       "      <th>Age</th>\n",
       "      <th>Tenure</th>\n",
       "      <th>Balance</th>\n",
       "      <th>NumOfProducts</th>\n",
       "      <th>HasCrCard</th>\n",
       "      <th>IsActiveMember</th>\n",
       "      <th>EstimatedSalary</th>\n",
       "    </tr>\n",
       "  </thead>\n",
       "  <tbody>\n",
       "    <tr>\n",
       "      <th>2713</th>\n",
       "      <td>-0.542647</td>\n",
       "      <td>0.308376</td>\n",
       "      <td>1.0</td>\n",
       "      <td>0.753970</td>\n",
       "      <td>0.004092</td>\n",
       "      <td>1.316834</td>\n",
       "      <td>0.796659</td>\n",
       "      <td>1.0</td>\n",
       "      <td>1.0</td>\n",
       "      <td>1.286364</td>\n",
       "    </tr>\n",
       "    <tr>\n",
       "      <th>5331</th>\n",
       "      <td>-0.532374</td>\n",
       "      <td>-0.902030</td>\n",
       "      <td>1.0</td>\n",
       "      <td>-1.904174</td>\n",
       "      <td>-1.030717</td>\n",
       "      <td>-0.958437</td>\n",
       "      <td>0.796659</td>\n",
       "      <td>1.0</td>\n",
       "      <td>1.0</td>\n",
       "      <td>-0.156185</td>\n",
       "    </tr>\n",
       "    <tr>\n",
       "      <th>6749</th>\n",
       "      <td>-0.275545</td>\n",
       "      <td>1.518781</td>\n",
       "      <td>0.0</td>\n",
       "      <td>0.753970</td>\n",
       "      <td>0.349028</td>\n",
       "      <td>1.375108</td>\n",
       "      <td>-0.911474</td>\n",
       "      <td>0.0</td>\n",
       "      <td>0.0</td>\n",
       "      <td>0.001260</td>\n",
       "    </tr>\n",
       "    <tr>\n",
       "      <th>929</th>\n",
       "      <td>-1.292587</td>\n",
       "      <td>-0.902030</td>\n",
       "      <td>1.0</td>\n",
       "      <td>-0.859903</td>\n",
       "      <td>-1.375653</td>\n",
       "      <td>-0.621684</td>\n",
       "      <td>-0.911474</td>\n",
       "      <td>1.0</td>\n",
       "      <td>1.0</td>\n",
       "      <td>0.668782</td>\n",
       "    </tr>\n",
       "    <tr>\n",
       "      <th>7513</th>\n",
       "      <td>-0.388550</td>\n",
       "      <td>-0.902030</td>\n",
       "      <td>0.0</td>\n",
       "      <td>1.323572</td>\n",
       "      <td>0.693964</td>\n",
       "      <td>-0.958437</td>\n",
       "      <td>0.796659</td>\n",
       "      <td>0.0</td>\n",
       "      <td>1.0</td>\n",
       "      <td>0.978717</td>\n",
       "    </tr>\n",
       "    <tr>\n",
       "      <th>5674</th>\n",
       "      <td>-0.604286</td>\n",
       "      <td>-0.902030</td>\n",
       "      <td>1.0</td>\n",
       "      <td>0.753970</td>\n",
       "      <td>-0.685781</td>\n",
       "      <td>-0.958437</td>\n",
       "      <td>0.796659</td>\n",
       "      <td>1.0</td>\n",
       "      <td>0.0</td>\n",
       "      <td>1.239092</td>\n",
       "    </tr>\n",
       "    <tr>\n",
       "      <th>4592</th>\n",
       "      <td>-0.080356</td>\n",
       "      <td>-0.902030</td>\n",
       "      <td>0.0</td>\n",
       "      <td>0.279301</td>\n",
       "      <td>0.349028</td>\n",
       "      <td>-0.958437</td>\n",
       "      <td>0.796659</td>\n",
       "      <td>0.0</td>\n",
       "      <td>0.0</td>\n",
       "      <td>0.369903</td>\n",
       "    </tr>\n",
       "    <tr>\n",
       "      <th>6494</th>\n",
       "      <td>-1.272041</td>\n",
       "      <td>-0.902030</td>\n",
       "      <td>0.0</td>\n",
       "      <td>1.893174</td>\n",
       "      <td>0.349028</td>\n",
       "      <td>-0.909961</td>\n",
       "      <td>-0.911474</td>\n",
       "      <td>1.0</td>\n",
       "      <td>0.0</td>\n",
       "      <td>-0.291138</td>\n",
       "    </tr>\n",
       "    <tr>\n",
       "      <th>1350</th>\n",
       "      <td>-0.748110</td>\n",
       "      <td>-0.902030</td>\n",
       "      <td>1.0</td>\n",
       "      <td>-0.290301</td>\n",
       "      <td>0.349028</td>\n",
       "      <td>-0.958437</td>\n",
       "      <td>0.796659</td>\n",
       "      <td>1.0</td>\n",
       "      <td>1.0</td>\n",
       "      <td>-0.911388</td>\n",
       "    </tr>\n",
       "    <tr>\n",
       "      <th>960</th>\n",
       "      <td>-1.498050</td>\n",
       "      <td>1.518781</td>\n",
       "      <td>1.0</td>\n",
       "      <td>-0.195367</td>\n",
       "      <td>0.349028</td>\n",
       "      <td>-0.958437</td>\n",
       "      <td>0.796659</td>\n",
       "      <td>0.0</td>\n",
       "      <td>0.0</td>\n",
       "      <td>0.638666</td>\n",
       "    </tr>\n",
       "  </tbody>\n",
       "</table>\n",
       "</div>"
      ],
      "text/plain": [
       "      CreditScore  Geography  Gender       Age    Tenure   Balance  \\\n",
       "2713    -0.542647   0.308376     1.0  0.753970  0.004092  1.316834   \n",
       "5331    -0.532374  -0.902030     1.0 -1.904174 -1.030717 -0.958437   \n",
       "6749    -0.275545   1.518781     0.0  0.753970  0.349028  1.375108   \n",
       "929     -1.292587  -0.902030     1.0 -0.859903 -1.375653 -0.621684   \n",
       "7513    -0.388550  -0.902030     0.0  1.323572  0.693964 -0.958437   \n",
       "5674    -0.604286  -0.902030     1.0  0.753970 -0.685781 -0.958437   \n",
       "4592    -0.080356  -0.902030     0.0  0.279301  0.349028 -0.958437   \n",
       "6494    -1.272041  -0.902030     0.0  1.893174  0.349028 -0.909961   \n",
       "1350    -0.748110  -0.902030     1.0 -0.290301  0.349028 -0.958437   \n",
       "960     -1.498050   1.518781     1.0 -0.195367  0.349028 -0.958437   \n",
       "\n",
       "      NumOfProducts  HasCrCard  IsActiveMember  EstimatedSalary  \n",
       "2713       0.796659        1.0             1.0         1.286364  \n",
       "5331       0.796659        1.0             1.0        -0.156185  \n",
       "6749      -0.911474        0.0             0.0         0.001260  \n",
       "929       -0.911474        1.0             1.0         0.668782  \n",
       "7513       0.796659        0.0             1.0         0.978717  \n",
       "5674       0.796659        1.0             0.0         1.239092  \n",
       "4592       0.796659        0.0             0.0         0.369903  \n",
       "6494      -0.911474        1.0             0.0        -0.291138  \n",
       "1350       0.796659        1.0             1.0        -0.911388  \n",
       "960        0.796659        0.0             0.0         0.638666  "
      ]
     },
     "metadata": {},
     "output_type": "display_data"
    }
   ],
   "source": [
    "numeric = ['CreditScore', 'Geography','Age', 'Tenure', 'Balance', 'NumOfProducts',\n",
    "          'EstimatedSalary']\n",
    "\n",
    "scaler = StandardScaler()\n",
    "scaler.fit(features_train[numeric]) \n",
    "features_train[numeric] = scaler.transform(features_train[numeric])\n",
    "features_valid[numeric] = scaler.transform(features_valid[numeric])\n",
    "features_test[numeric] = scaler.transform(features_test[numeric])\n",
    "display(features_train.head(10))"
   ]
  },
  {
   "cell_type": "markdown",
   "id": "90348df7",
   "metadata": {},
   "source": [
    "First, let's fit a Random Forest Classifier without consideration for target imbalance. We loop through `n_estimators` from 1 to 100, and `max_depth` from 1 to 10 and select the model with the highest f1 score. "
   ]
  },
  {
   "cell_type": "code",
   "execution_count": 44,
   "id": "f208cca7",
   "metadata": {},
   "outputs": [
    {
     "name": "stdout",
     "output_type": "stream",
     "text": [
      "n_estimators = 95 max_depth =  9 : f1 score is 0.5497630331753554\n"
     ]
    }
   ],
   "source": [
    "max_f1 = 0 \n",
    "max_d = 0 \n",
    "n_esti = 0\n",
    "\n",
    "for n in range(1, 101, 1):\n",
    "    for d in range(1,11):\n",
    "        model = RandomForestClassifier(random_state=12345, n_estimators=n, max_depth=d)\n",
    "        model.fit(features_train, target_train) \n",
    "        predicted_test = model.predict(features_test)\n",
    "        f1 = f1_score(target_test, predicted_test)\n",
    "        if f1 > max_f1:\n",
    "            max_f1 = f1\n",
    "            max_d = d \n",
    "            n_esti = n\n",
    "            \n",
    "print(\"n_estimators =\", n_esti, \"max_depth = \", max_d, \": \", end='')\n",
    "print(\"f1 score is\", max_f1) "
   ]
  },
  {
   "cell_type": "markdown",
   "id": "20de837c",
   "metadata": {},
   "source": [
    "It shows that the best Random Forest Classifier without consideration for target imbalance has `n_estimators = 95` and `max_depth = 9`. The f1 score for the test dataset is 0.55. \n",
    "\n",
    "This model performs better than the logistic regression model with consideration for target imbalance. But it is still not good enough because we aim for a model with f1 score of at least 0.59. \n",
    "\n",
    "Now, let's upsample the dataset and then fit a Random Forest Classifier with consideration for target imbalance. "
   ]
  },
  {
   "cell_type": "markdown",
   "id": "70480ba2",
   "metadata": {},
   "source": [
    "### Upsampling\n",
    "\n",
    "We will repeat the features with target == 1 four times because the target classes [(exit 1) : (not exited 0)] has a [1:4] ratio. "
   ]
  },
  {
   "cell_type": "code",
   "execution_count": 45,
   "id": "114a9b9c",
   "metadata": {},
   "outputs": [],
   "source": [
    "def upsample(features, target, repeat):\n",
    "    features_zeros = features[target == 0]\n",
    "    features_ones = features[target == 1]\n",
    "    target_zeros = target[target == 0]\n",
    "    target_ones = target[target == 1]\n",
    "\n",
    "    features_upsampled = pd.concat([features_zeros] + [features_ones] * repeat)\n",
    "    target_upsampled = pd.concat([target_zeros] + [target_ones] * repeat)\n",
    "\n",
    "    features_upsampled, target_upsampled = shuffle(\n",
    "        features_upsampled, target_upsampled, random_state=12345\n",
    "    )\n",
    "\n",
    "    return features_upsampled, target_upsampled\n",
    "\n",
    "\n",
    "features_upsampled, target_upsampled = upsample(\n",
    "    features_train, target_train, 4)"
   ]
  },
  {
   "cell_type": "markdown",
   "id": "4737b403",
   "metadata": {},
   "source": [
    "Let's fit a Random Forest Classifier with consideration for target imbalance. We loop through `n_estimators` from 1 to 100, and `max_depth` from 1 to 10 and select the model with the highest f1 score. "
   ]
  },
  {
   "cell_type": "code",
   "execution_count": 46,
   "id": "717f1cba",
   "metadata": {},
   "outputs": [
    {
     "name": "stdout",
     "output_type": "stream",
     "text": [
      "n_estimators = 19 max_depth =  10 : f1 score is 0.611023622047244\n"
     ]
    }
   ],
   "source": [
    "max_f1 = 0 \n",
    "max_d = 0 \n",
    "n_esti = 0\n",
    "\n",
    "for n in range(1, 101, 1):\n",
    "    for d in range(1,11):\n",
    "        model = RandomForestClassifier(random_state=12345, n_estimators=n, max_depth=d)\n",
    "        model.fit(features_upsampled, target_upsampled) \n",
    "        predicted_test = model.predict(features_test)\n",
    "        f1 = f1_score(target_test, predicted_test)\n",
    "        if f1 > max_f1:\n",
    "            max_f1 = f1\n",
    "            max_d = d \n",
    "            n_esti = n\n",
    "            \n",
    "print(\"n_estimators =\", n_esti, \"max_depth = \", max_d, \": \", end='')\n",
    "print(\"f1 score is\", max_f1) "
   ]
  },
  {
   "cell_type": "markdown",
   "id": "44aceb5b",
   "metadata": {},
   "source": [
    "It shows that the best Random Forest Classifier with consideration for target imbalance has `n_estimators = 19` and `max_depth = 10`. The f1 score for the test dataset is 0.61. \n",
    "\n",
    "This model performs better than the Random Forest Classifier without consideration for target imbalance. It is now good enough because we have achieved our aim for a model with f1 score of at least 0.59. \n",
    "\n",
    "Now, let's plot the ROC curve and compute the AOC for the optimal model. "
   ]
  },
  {
   "cell_type": "markdown",
   "id": "15e4adfa",
   "metadata": {},
   "source": [
    "### ROC curve"
   ]
  },
  {
   "cell_type": "code",
   "execution_count": 47,
   "id": "cb3dcd41",
   "metadata": {},
   "outputs": [
    {
     "data": {
      "image/png": "[encoded data removed]",
      "text/plain": [
       "<Figure size 432x288 with 1 Axes>"
      ]
     },
     "metadata": {
      "needs_background": "light"
     },
     "output_type": "display_data"
    }
   ],
   "source": [
    "model = RandomForestClassifier(random_state=12345, n_estimators=19, max_depth=10)\n",
    "model.fit(features_upsampled, target_upsampled) \n",
    "\n",
    "probabilities_test = model.predict_proba(features_test)\n",
    "probabilities_one_test = probabilities_test[:, 1]\n",
    "\n",
    "fpr, tpr, thresholds = roc_curve(target_test, probabilities_one_test)\n",
    "\n",
    "plt.figure()\n",
    "plt.plot(fpr, tpr)\n",
    "plt.xlim([0.0, 1.0])\n",
    "plt.ylim([0.0, 1.0])\n",
    "plt.xlabel('False Positive Rate')\n",
    "plt.ylabel('True Positive Rate')\n",
    "plt.title('ROC curve')\n",
    "\n",
    "# ROC curve for random model (looks like a straight line)\n",
    "plt.plot([0, 1], [0, 1], linestyle='--');\n",
    "\n",
    "# < use the functions plt.xlim() and plt.ylim() to\n",
    "#   set the boundary for the axes from 0 to 1 >\n",
    "\n",
    "# < use the functions plt.xlabel() and plt.ylabel() to\n",
    "#   name the axes \"False Positive Rate\" and \"True Positive Rate\" >\n",
    "\n",
    "# < add the heading \"ROC curve\" with the function plt.title() >\n",
    "\n",
    "plt.show();"
   ]
  },
  {
   "cell_type": "markdown",
   "id": "8a0ff12e",
   "metadata": {},
   "source": [
    "### AUC-ROC "
   ]
  },
  {
   "cell_type": "code",
   "execution_count": 48,
   "id": "3d910ba1",
   "metadata": {},
   "outputs": [
    {
     "name": "stdout",
     "output_type": "stream",
     "text": [
      "0.8547671304105977\n"
     ]
    }
   ],
   "source": [
    "auc_roc = roc_auc_score(target_test, probabilities_one_test)\n",
    "print(auc_roc)"
   ]
  },
  {
   "cell_type": "markdown",
   "id": "b79cddaa",
   "metadata": {},
   "source": [
    "The best Random Forest Classifier with consideration for target imbalance has f1 score 0.61 for the test dataset, which is above 0.59. The ROC curve is shown above. The area under the curve is 0.855. "
   ]
  },
  {
   "cell_type": "markdown",
   "id": "67729420",
   "metadata": {},
   "source": [
    "## General conclusion\n",
    "\n",
    "In this project, we analyzed clients’ past behavior and termination of contracts with the Beta bank. The major steps for analyzing the data are:\n",
    "\n",
    "- import and study the datasets\n",
    "- prepare and tidy up the datasets when needed\n",
    "- examine the balance of classes \n",
    "- split the data into train, test, and validation sets\n",
    "- train the model without taking into account the imbalance and describe the findings.\n",
    "- improve the quality of the model, taking into account the imbalance of classes. \n",
    "- compute the f1 score and AUC\n",
    "- plot the ROC curve\n",
    "- fit different types of classification models and compare the performance\n",
    "- draw conclusions and explain the results\n",
    "\n",
    "\n",
    "The main findings are:\n",
    "- The raw dataset was clean and required minimal cleaning.\n",
    "- To achieve a high f1 score using the logistic regression, the categorical variables in the dataset need to be one-hot encoded and the numerical variables need to be standardized. Moreover, class imbalance issues needs to be addressed.\n",
    "- To achieve a high f1 score using the Random Forest Classifier, the categorical variables in the dataset need to be label encoded and the numerical variables need to be standardized. Moreover, class imbalance issues needs to be addressed using upsampling.\n",
    "- The optimal model we found is the Random Forest Classifier with consideration for target imbalance. It has `n_estimators = 19` and `max_depth = 10`. The f1 score for the test dataset is 0.61. \n",
    "- The ROC curve for the test dataset looks good. The area under the curve is 0.855, which is very good.\n"
   ]
  },
  {
   "cell_type": "code",
   "execution_count": null,
   "id": "ae3c0b96",
   "metadata": {},
   "outputs": [],
   "source": []
  }
 ],
 "metadata": {
  "kernelspec": {
   "display_name": "Python 3 (ipykernel)",
   "language": "python",
   "name": "python3"
  },
  "language_info": {
   "codemirror_mode": {
    "name": "ipython",
    "version": 3
   },
   "file_extension": ".py",
   "mimetype": "text/x-python",
   "name": "python",
   "nbconvert_exporter": "python",
   "pygments_lexer": "ipython3",
   "version": "3.9.7"
  }
 },
 "nbformat": 4,
 "nbformat_minor": 5
}
